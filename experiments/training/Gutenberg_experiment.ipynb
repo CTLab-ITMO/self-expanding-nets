{
  "cells": [
    {
      "cell_type": "code",
      "execution_count": null,
      "metadata": {
        "id": "xVXc8C_BcqmE"
      },
      "outputs": [],
      "source": [
        "!git clone https://github.com/CTLab-ITMO/self-expanding-nets\n",
        "%pip install -U -e ./self-expanding-nets/"
      ]
    },
    {
      "cell_type": "markdown",
      "metadata": {
        "id": "jd1rYp6a5Z5w"
      },
      "source": [
        "download MultNIST dataset"
      ]
    },
    {
      "cell_type": "code",
      "execution_count": null,
      "metadata": {
        "id": "tERghIIY5Dq_"
      },
      "outputs": [],
      "source": [
        "!wget https://data.ncl.ac.uk/ndownloader/articles/24574753/versions/1 -O Gutenberg.zip\n",
        "!unzip Gutenberg.zip"
      ]
    },
    {
      "cell_type": "code",
      "execution_count": null,
      "metadata": {
        "id": "zgLbuRWHekc6"
      },
      "outputs": [],
      "source": [
        "import torch\n",
        "from torch import nn\n",
        "from torch.utils.data import DataLoader, random_split, TensorDataset\n",
        "from torchvision import datasets, transforms\n",
        "\n",
        "################################\n",
        "#     RESTART     RUNTIME      #\n",
        "################################\n",
        "from senmodel.model.utils import *\n",
        "from senmodel.metrics.nonlinearity_metrics import *\n",
        "from senmodel.metrics.edge_finder import *\n",
        "from senmodel.metrics.train_metrics import *\n",
        "from senmodel.train.train import *"
      ]
    },
    {
      "cell_type": "code",
      "execution_count": null,
      "metadata": {
        "id": "c_-sMC5deqhv"
      },
      "outputs": [],
      "source": [
        "SEED = 0\n",
        "torch.manual_seed(SEED)\n",
        "torch.cuda.manual_seed(SEED)\n",
        "import random\n",
        "random.seed(SEED)\n",
        "import numpy as np\n",
        "np.random.seed(SEED)\n",
        "\n",
        "torch.backends.cudnn.deterministic = True\n",
        "torch.backends.cudnn.benchmark = False\n",
        "\n",
        "device = torch.device(\"cuda:0\" if torch.cuda.is_available() else \"cpu\")\n",
        "device"
      ]
    },
    {
      "cell_type": "code",
      "execution_count": null,
      "metadata": {
        "id": "GOAK-krxeyOy"
      },
      "outputs": [],
      "source": [
        "class SimpleFCN(nn.Module):\n",
        "    def __init__(self, input_size=27 * 18, output_size=6):\n",
        "        super(SimpleFCN, self).__init__()\n",
        "        self.fc0 = nn.Linear(input_size, output_size)\n",
        "\n",
        "    def forward(self, x):\n",
        "        return self.fc0(x)"
      ]
    },
    {
      "cell_type": "code",
      "execution_count": null,
      "metadata": {
        "id": "gOwPY4ANe7H-"
      },
      "outputs": [],
      "source": [
        "hyperparams = {\n",
        "    \"num_epochs\": 50,\n",
        "    \"batch_size\": 256,\n",
        "    \"metric\": AbsGradientEdgeMetric(nn.CrossEntropyLoss()),\n",
        "    \"aggregation_mode\": \"mean\",\n",
        "    \"choose_thresholds\": {\"fc0\": 0.05},\n",
        "    \"choose_thresholds_del\": {\"fc0\": 0.1},\n",
        "    \"threshold\": 0.05,\n",
        "    \"min_delta_epoch_replace\": 32,\n",
        "    \"window_size\": 5,\n",
        "    \"lr\": 1e-3,\n",
        "    \"delete_after\": 4,\n",
        "    \"task_type\": \"classification\",\n",
        "    \"fully_connected\": False,\n",
        "    \"max_to_replace\": 2000, # None -> no limit\n",
        "    \"weight_decay\": 1e-3\n",
        "}\n",
        "\n",
        "name = \", \".join(\n",
        "    f\"{key}: {value.__class__.__name__ if key == 'metric' else value}\"\n",
        "    for key, value in hyperparams.items()\n",
        ")"
      ]
    },
    {
      "cell_type": "code",
      "execution_count": null,
      "metadata": {
        "id": "s6ftHjtp71KA"
      },
      "outputs": [],
      "source": [
        "train_x = torch.from_numpy(np.load('/content/train_x.npy'))\n",
        "train_y = torch.from_numpy(np.load('/content/train_y.npy'))\n",
        "valid_x = torch.from_numpy(np.load('/content/valid_x.npy'))\n",
        "valid_y = torch.from_numpy(np.load('/content/valid_y.npy'))\n",
        "test_x = torch.from_numpy(np.load('/content/test_x.npy'))\n",
        "test_y = torch.from_numpy(np.load('/content/test_y.npy'))"
      ]
    },
    {
      "cell_type": "code",
      "execution_count": null,
      "metadata": {
        "id": "f-YKVbEK_6__"
      },
      "outputs": [],
      "source": [
        "train_tensor_x = torch.tensor(train_x).float().view(-1, 27 * 18)\n",
        "train_tensor_y = torch.tensor(train_y).long()\n",
        "\n",
        "valid_tensor_x = torch.tensor(valid_x).float().view(-1, 27 * 18)\n",
        "valid_tensor_y = torch.tensor(valid_y).long()\n",
        "\n",
        "test_tensor_x = torch.tensor(test_x).float().view(-1, 27 * 18)\n",
        "test_tensor_y = torch.tensor(test_y).long()\n",
        "\n",
        "train_dataset = TensorDataset(train_tensor_x, train_tensor_y)\n",
        "valid_dataset = TensorDataset(valid_tensor_x, valid_tensor_y)\n",
        "test_dataset = TensorDataset(test_tensor_x, test_tensor_y)\n",
        "\n",
        "train_loader = DataLoader(train_dataset, batch_size=hyperparams['batch_size'], shuffle=True)\n",
        "val_loader = DataLoader(valid_dataset, batch_size=hyperparams['batch_size'], shuffle=False)\n",
        "test_loader = DataLoader(test_dataset, batch_size=hyperparams['batch_size'], shuffle=False)"
      ]
    },
    {
      "cell_type": "code",
      "execution_count": null,
      "metadata": {
        "id": "1NfKh4qXfyx7"
      },
      "outputs": [],
      "source": [
        "model = SimpleFCN()\n",
        "sparse_model = convert_dense_to_sparse_network(model, layers=[model.fc0], device=device)"
      ]
    },
    {
      "cell_type": "code",
      "execution_count": null,
      "metadata": {
        "id": "Nt6O_3PDf9Fy"
      },
      "outputs": [],
      "source": [
        "import wandb\n",
        "wandb.login()\n",
        "wandb.finish()\n",
        "run = wandb.init(\n",
        "    project=\"self-expanding-nets-Gutenberg\",\n",
        "    name=f\"trash\",\n",
        "    config=hyperparams\n",
        ")"
      ]
    },
    {
      "cell_type": "code",
      "execution_count": null,
      "metadata": {
        "colab": {
          "background_save": true
        },
        "id": "f7Zajw-AgBau"
      },
      "outputs": [],
      "source": [
        "criterion = nn.CrossEntropyLoss()\n",
        "optimizer = optim.Adam(sparse_model.parameters(), lr=hyperparams['lr'], weight_decay=hyperparams['weight_decay'])\n",
        "train_sparse_recursive(sparse_model, train_loader, train_loader, val_loader, criterion, optimizer, hyperparams, device)"
      ]
    },
    {
      "cell_type": "code",
      "execution_count": null,
      "metadata": {
        "id": "VCJTApK_gZ3-"
      },
      "outputs": [],
      "source": [
        "_, accuracy = eval_one_epoch(sparse_model, criterion, test_loader, hyperparams['task_type'], device)\n",
        "params = get_params_amount(sparse_model)"
      ]
    },
    {
      "cell_type": "code",
      "execution_count": null,
      "metadata": {
        "id": "8RV4KLphze1b"
      },
      "outputs": [],
      "source": [
        "accuracy, params"
      ]
    },
    {
      "cell_type": "code",
      "source": [
        "import pandas as pd\n",
        "\n",
        "data = {\n",
        "    'Model': ['Ours', 'ResNet-18', 'AlexNet', 'VGG16', 'ConvNext', 'MNASNet', 'DenseNet', 'ResNeXt', 'PC-DARTS', 'DrNAS', 'Bonsai-Net', 'DARTS', ' Bonsai', 'Random'],\n",
        "    'Accuracy (%)': [accuracy * 100, 49.98, 45.53, 44.00, 31.93, 38.00, 43.28, 40.30, 49.12, 46.62, 48.57, 47.72, 29.00, 16.6],\n",
        "    'Parameters': [params, 11_689_512, 61_100_840, 138_357_544, 88_591_464, 4_383_312, 28_681_000, 25_028_904, None, None, None, None, None, None]\n",
        "}\n",
        "\n",
        "table = pd.DataFrame(data)\n",
        "\n",
        "def format_with_commas(x):\n",
        "    return \"{:,}\".format(x)\n",
        "\n",
        "styled_table = (table.style\n",
        "               .format({'Accuracy (%)': '{:.2f}',\n",
        "                       'Parameters': format_with_commas})\n",
        "               .set_properties(**{'text-align': 'center'})\n",
        "               .set_table_styles([\n",
        "                   {'selector': 'th', 'props': [('text-align', 'center')]},\n",
        "                   {'selector': 'caption', 'props': [('font-size', '1.1em')]}\n",
        "               ])\n",
        "               .hide(axis='index'))\n",
        "\n",
        "styled_table"
      ],
      "metadata": {
        "id": "ku24pXbjqztC"
      },
      "execution_count": null,
      "outputs": []
    }
  ],
  "metadata": {
    "accelerator": "GPU",
    "colab": {
      "gpuType": "T4",
      "provenance": []
    },
    "kernelspec": {
      "display_name": "Python 3",
      "name": "python3"
    },
    "language_info": {
      "name": "python"
    }
  },
  "nbformat": 4,
  "nbformat_minor": 0
}