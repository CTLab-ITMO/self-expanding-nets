{
 "cells": [
  {
   "cell_type": "code",
   "id": "initial_id",
   "metadata": {
    "collapsed": true,
    "ExecuteTime": {
     "end_time": "2025-02-02T21:08:10.808779Z",
     "start_time": "2025-02-02T21:07:49.260840Z"
    }
   },
   "source": [
    "import pandas as pd\n",
    "import torch\n",
    "import torch.nn as nn\n",
    "import torch.optim as optim\n",
    "from sklearn.metrics import accuracy_score\n",
    "from sklearn.model_selection import train_test_split\n",
    "from sklearn.preprocessing import StandardScaler\n",
    "from torch.utils.data import DataLoader, Dataset\n",
    "from tqdm import tqdm"
   ],
   "outputs": [],
   "execution_count": 1
  },
  {
   "metadata": {
    "ExecuteTime": {
     "end_time": "2025-02-02T21:08:10.862845Z",
     "start_time": "2025-02-02T21:08:10.823908Z"
    }
   },
   "cell_type": "code",
   "source": [
    "from senmodel.model.utils import convert_dense_to_sparse_network, get_model_last_layer\n",
    "from senmodel.metrics.nonlinearity_metrics import GradientMeanEdgeMetric, PerturbationSensitivityEdgeMetric\n",
    "from senmodel.metrics.edge_finder import EdgeFinder\n"
   ],
   "id": "851a61bbbac63426",
   "outputs": [],
   "execution_count": 2
  },
  {
   "metadata": {
    "ExecuteTime": {
     "end_time": "2025-02-02T21:08:11.205424Z",
     "start_time": "2025-02-02T21:08:11.199222Z"
    }
   },
   "cell_type": "code",
   "source": "device = torch.device(\"cuda\" if torch.cuda.is_available() else \"cpu\")",
   "id": "ed98f9250fb9b52",
   "outputs": [],
   "execution_count": 3
  },
  {
   "metadata": {
    "ExecuteTime": {
     "end_time": "2025-02-02T21:08:15.888678Z",
     "start_time": "2025-02-02T21:08:11.229944Z"
    }
   },
   "cell_type": "code",
   "source": [
    "from sklearn.preprocessing import LabelEncoder\n",
    "\n",
    "url = \"https://archive.ics.uci.edu/ml/machine-learning-databases/adult/adult.data\"\n",
    "columns = [\n",
    "    'age', 'workclass', 'fnlwgt', 'education', 'education-num', 'marital-status',\n",
    "    'occupation', 'relationship', 'race', 'sex', 'capital-gain', 'capital-loss',\n",
    "    'hours-per-week', 'native-country', 'income'\n",
    "]\n",
    "data = pd.read_csv(url, names=columns, na_values=\" ?\", skipinitialspace=True)\n",
    "data = data.dropna()\n",
    "\n",
    "scaler = StandardScaler()\n",
    "\n",
    "\n",
    "y = data['occupation']\n",
    "y = LabelEncoder().fit_transform(y)\n",
    "\n",
    "X = data.drop(['occupation'], axis=1)\n",
    "\n",
    "for col in X.select_dtypes(include=['object']).columns:\n",
    "    X[col] = LabelEncoder().fit_transform(X[col])\n",
    "\n",
    "X = scaler.fit_transform(X)\n",
    "\n",
    "X_train, X_val, y_train, y_val = train_test_split(X, y, test_size=0.2, random_state=0)\n",
    "\n",
    "len(set(y))"
   ],
   "id": "8a1c4b0b6e33d5a4",
   "outputs": [
    {
     "data": {
      "text/plain": [
       "15"
      ]
     },
     "execution_count": 4,
     "metadata": {},
     "output_type": "execute_result"
    }
   ],
   "execution_count": 4
  },
  {
   "metadata": {
    "ExecuteTime": {
     "end_time": "2025-02-02T21:08:15.918980Z",
     "start_time": "2025-02-02T21:08:15.908877Z"
    }
   },
   "cell_type": "code",
   "source": [
    "class TabularDataset(Dataset):\n",
    "    def __init__(self, features, targets):\n",
    "        self.features = torch.tensor(features, dtype=torch.float32)\n",
    "        self.targets = torch.tensor(targets, dtype=torch.long)\n",
    "\n",
    "    def __len__(self):\n",
    "        return len(self.targets)\n",
    "\n",
    "    def __getitem__(self, idx):\n",
    "        return self.features[idx], self.targets[idx]"
   ],
   "id": "d7d9e408b16a7a6a",
   "outputs": [],
   "execution_count": 5
  },
  {
   "metadata": {
    "ExecuteTime": {
     "end_time": "2025-02-02T21:08:15.985388Z",
     "start_time": "2025-02-02T21:08:15.958414Z"
    }
   },
   "cell_type": "code",
   "source": [
    "train_dataset = TabularDataset(X_train, y_train)\n",
    "val_dataset = TabularDataset(X_val, y_val)\n",
    "\n",
    "train_loader = DataLoader(train_dataset, batch_size=512, shuffle=True)\n",
    "val_loader = DataLoader(val_dataset, batch_size=512, shuffle=False)"
   ],
   "id": "183cc85a9b097f1",
   "outputs": [],
   "execution_count": 6
  },
  {
   "metadata": {
    "ExecuteTime": {
     "end_time": "2025-02-02T21:08:15.999929Z",
     "start_time": "2025-02-02T21:08:15.991797Z"
    }
   },
   "cell_type": "code",
   "source": [
    "class MulticlassFCN(nn.Module):\n",
    "    def __init__(self, input_size=14, hidden_sizes=None, output_size=15, dropout_rate=0.3):\n",
    "        super(MulticlassFCN, self).__init__()\n",
    "        if hidden_sizes is None:\n",
    "            hidden_sizes = [128, 64]\n",
    "        self.fc1 = nn.Linear(input_size, hidden_sizes[0])\n",
    "        self.relu1 = nn.ReLU()\n",
    "        self.dropout1 = nn.Dropout(dropout_rate)\n",
    "\n",
    "        self.fc2 = nn.Linear(hidden_sizes[0], hidden_sizes[1])\n",
    "        self.relu2 = nn.ReLU()\n",
    "        self.dropout2 = nn.Dropout(0.1)\n",
    "\n",
    "        self.output = nn.Linear(hidden_sizes[1], output_size)\n",
    "\n",
    "    def forward(self, x):\n",
    "        x = self.fc1(x)\n",
    "        x = self.relu1(x)\n",
    "        x = self.dropout1(x)\n",
    "\n",
    "        x = self.fc2(x)\n",
    "        x = self.relu2(x)\n",
    "        x = self.dropout2(x)\n",
    "\n",
    "        x = self.output(x)\n",
    "        # x = self.dropout2(x)\n",
    "        return x\n"
   ],
   "id": "cf7e5ab74bd84c4c",
   "outputs": [],
   "execution_count": 7
  },
  {
   "metadata": {
    "ExecuteTime": {
     "end_time": "2025-02-02T21:08:16.032947Z",
     "start_time": "2025-02-02T21:08:16.023771Z"
    }
   },
   "cell_type": "code",
   "source": [
    "def edge_replacement_func_new_layer(model, optim, val_loader, metric):\n",
    "    layer = get_model_last_layer(model)\n",
    "    ef = EdgeFinder(metric, val_loader, device)\n",
    "    vals = ef.calculate_edge_metric_for_dataloader(model)\n",
    "    print(\"Edge metrics:\", vals, max(vals), sum(vals))\n",
    "    chosen_edges = ef.choose_edges_threshold(model, 0.2)\n",
    "    print(\"Chosen edges:\", chosen_edges, len(chosen_edges[0]))\n",
    "    layer.replace_many(*chosen_edges)\n",
    "\n",
    "    if layer.embed_linears:\n",
    "        optim.add_param_group({'params': layer.embed_linears[-1].weight_values})\n",
    "    else:\n",
    "        print(\"Empty metric\")\n",
    "        dummy_param = torch.zeros_like(layer.weight_values)\n",
    "        optim.add_param_group({'params': dummy_param})\n",
    "\n",
    "    return {'max': max(vals), 'sum': sum(vals), 'len': len(vals), 'len_choose': len(chosen_edges[0])}\n"
   ],
   "id": "6fe92b9bfdd4d7d1",
   "outputs": [],
   "execution_count": 8
  },
  {
   "metadata": {
    "ExecuteTime": {
     "end_time": "2025-02-02T21:08:16.094773Z",
     "start_time": "2025-02-02T21:08:16.074828Z"
    }
   },
   "cell_type": "code",
   "source": [
    "from senmodel.model.utils import freeze_all_but_last, unfreeze_all\n",
    "\n",
    "\n",
    "def train_sparse_recursive(model, train_loader, val_loader, num_epochs, metric, edge_replacement_func=None,\n",
    "                           window_size=3, threshold=0.1, fine_tune_epochs=3):\n",
    "    optimizer = optim.Adam(model.parameters(), lr=5e-4)\n",
    "    criterion = nn.CrossEntropyLoss()\n",
    "    val_losses = []\n",
    "\n",
    "    for epoch in range(num_epochs):\n",
    "        model.train()\n",
    "        train_loss = 0\n",
    "        for inputs, targets in tqdm(train_loader):\n",
    "            inputs, targets = inputs.to(device), targets.to(device)\n",
    "            outputs = model(inputs)\n",
    "            loss = criterion(outputs, targets)\n",
    "\n",
    "            optimizer.zero_grad()\n",
    "            loss.backward()\n",
    "            optimizer.step()\n",
    "            train_loss += loss.item()\n",
    "\n",
    "        train_loss /= len(train_loader)\n",
    "\n",
    "        model.eval()\n",
    "        val_loss = 0\n",
    "        all_preds = []\n",
    "        all_targets = []\n",
    "        with torch.no_grad():\n",
    "            for inputs, targets in val_loader:\n",
    "                inputs, targets = inputs.to(device), targets.to(device)\n",
    "                outputs = model(inputs)\n",
    "                loss = criterion(outputs, targets)\n",
    "                val_loss += loss.item()\n",
    "\n",
    "                preds = torch.argmax(outputs, dim=1)\n",
    "                all_preds.extend(preds.cpu().numpy())\n",
    "                all_targets.extend(targets.cpu().numpy())\n",
    "\n",
    "        val_accuracy = accuracy_score(all_targets, all_preds)\n",
    "        print(f\"Epoch {epoch + 1}/{num_epochs} | Train Loss: {train_loss:.4f} | \"\n",
    "              f\"Val Loss: {val_loss:.4f} | Val Accuracy: {val_accuracy:.4f}\")\n",
    "\n",
    "        new_l = {}\n",
    "        val_losses.append(val_loss)\n",
    "        if edge_replacement_func and len(val_losses) > window_size:\n",
    "            recent_changes = [abs(val_losses[i] - val_losses[i - 1]) for i in range(-window_size, 0)]\n",
    "            avg_change = sum(recent_changes) / window_size\n",
    "            if avg_change < threshold:\n",
    "                new_l = edge_replacement_func(model, optimizer, val_loader, metric)\n",
    "                # Замораживаем все слои кроме последнего\n",
    "                freeze_all_but_last(model)\n",
    "\n",
    "                # Обучаем только последний слой в течение нескольких эпох\n",
    "                for fine_tune_epoch in range(fine_tune_epochs):\n",
    "                    model.train()\n",
    "                    fine_tune_train_loss = 0\n",
    "                    for inputs, targets in tqdm(train_loader):\n",
    "                        inputs, targets = inputs.to(device), targets.to(device)\n",
    "                        outputs = model(inputs)\n",
    "                        loss = criterion(outputs, targets)\n",
    "                        optimizer.zero_grad()\n",
    "                        loss.backward()\n",
    "                        optimizer.step()\n",
    "                        fine_tune_train_loss += loss.item()\n",
    "                    fine_tune_train_loss /= len(train_loader)\n",
    "\n",
    "                    model.eval()\n",
    "                    fine_tune_val_loss = 0\n",
    "                    with torch.no_grad():\n",
    "                        for inputs, targets in val_loader:\n",
    "                            inputs, targets = inputs.to(device), targets.to(device)\n",
    "                            outputs = model(inputs)\n",
    "                            loss = criterion(outputs, targets)\n",
    "                            fine_tune_val_loss += loss.item()\n",
    "                    fine_tune_val_loss /= len(val_loader)\n",
    "\n",
    "                    print(f\"Fine-Tune Epoch {fine_tune_epoch + 1}/{fine_tune_epochs} | \"\n",
    "                          f\"Train Loss: {fine_tune_train_loss:.4f} | Val Loss: {fine_tune_val_loss:.4f}\")\n",
    "\n",
    "                # Размораживаем все слои\n",
    "                unfreeze_all(model)\n",
    "        #\n",
    "\n",
    "        # new_l = {}\n",
    "        # if edge_replacement_func and epoch % 8 == 0 and epoch != 0:\n",
    "        #     new_l = edge_replacement_func(model, optimizer, val_loader, metric)\n",
    "\n",
    "        wandb.log({'val_loss': val_loss, 'val_accuracy': val_accuracy, 'train_loss': train_loss} | new_l)\n",
    "\n"
   ],
   "id": "e0e4d086a0b3b29f",
   "outputs": [],
   "execution_count": 9
  },
  {
   "metadata": {
    "ExecuteTime": {
     "end_time": "2025-02-02T21:08:16.123976Z",
     "start_time": "2025-02-02T21:08:16.119052Z"
    }
   },
   "cell_type": "code",
   "source": [
    "criterion = nn.CrossEntropyLoss()\n",
    "metrics = [\n",
    "    GradientMeanEdgeMetric(criterion),\n",
    "    PerturbationSensitivityEdgeMetric(criterion),\n",
    "]\n"
   ],
   "id": "b44615f5a401dd16",
   "outputs": [],
   "execution_count": 10
  },
  {
   "metadata": {
    "ExecuteTime": {
     "end_time": "2025-02-02T21:08:21.746662Z",
     "start_time": "2025-02-02T21:08:16.174357Z"
    }
   },
   "cell_type": "code",
   "source": [
    "import wandb\n",
    "\n",
    "wandb.login()"
   ],
   "id": "c813771bca507d71",
   "outputs": [
    {
     "name": "stderr",
     "output_type": "stream",
     "text": [
      "wandb: Using wandb-core as the SDK backend.  Please refer to https://wandb.me/wandb-core for more information.\n",
      "wandb: Currently logged in as: fedornigretuk. Use `wandb login --relogin` to force relogin\n"
     ]
    },
    {
     "data": {
      "text/plain": [
       "True"
      ]
     },
     "execution_count": 11,
     "metadata": {},
     "output_type": "execute_result"
    }
   ],
   "execution_count": 11
  },
  {
   "metadata": {
    "ExecuteTime": {
     "end_time": "2025-02-02T21:08:21.813806Z",
     "start_time": "2025-02-02T21:08:21.809476Z"
    }
   },
   "cell_type": "code",
   "source": "",
   "id": "a10df7d34ecdcb18",
   "outputs": [],
   "execution_count": null
  },
  {
   "metadata": {
    "ExecuteTime": {
     "end_time": "2025-02-02T21:18:20.744484Z",
     "start_time": "2025-02-02T21:08:21.863650Z"
    }
   },
   "cell_type": "code",
   "source": [
    "dense_model = MulticlassFCN(input_size=X.shape[1])\n",
    "sparse_model = convert_dense_to_sparse_network(dense_model)\n",
    "wandb.init(\n",
    "    project=\"self-expanding-nets\",\n",
    "    name=f\"titanic, multiclass_complex_model, no dropout no change\",\n",
    ")\n",
    "\n",
    "train_sparse_recursive(sparse_model, train_loader, val_loader, num_epochs=100,\n",
    "                       metric=metrics[0],\n",
    "                       edge_replacement_func=edge_replacement_func_new_layer)"
   ],
   "id": "45fe9040816bb570",
   "outputs": [
    {
     "data": {
      "text/plain": [
       "<IPython.core.display.HTML object>"
      ],
      "text/html": [
       "Tracking run with wandb version 0.19.0"
      ]
     },
     "metadata": {},
     "output_type": "display_data"
    },
    {
     "data": {
      "text/plain": [
       "<IPython.core.display.HTML object>"
      ],
      "text/html": [
       "Run data is saved locally in <code>D:\\Coding\\PY\\self-expanding-nets\\experiments\\training\\wandb\\run-20250203_000821-hdr8m4i4</code>"
      ]
     },
     "metadata": {},
     "output_type": "display_data"
    },
    {
     "data": {
      "text/plain": [
       "<IPython.core.display.HTML object>"
      ],
      "text/html": [
       "Syncing run <strong><a href='https://wandb.ai/fedornigretuk/self-expanding-nets/runs/hdr8m4i4' target=\"_blank\">titanic, multiclass_complex_model, no dropout no change</a></strong> to <a href='https://wandb.ai/fedornigretuk/self-expanding-nets' target=\"_blank\">Weights & Biases</a> (<a href='https://wandb.me/developer-guide' target=\"_blank\">docs</a>)<br/>"
      ]
     },
     "metadata": {},
     "output_type": "display_data"
    },
    {
     "data": {
      "text/plain": [
       "<IPython.core.display.HTML object>"
      ],
      "text/html": [
       " View project at <a href='https://wandb.ai/fedornigretuk/self-expanding-nets' target=\"_blank\">https://wandb.ai/fedornigretuk/self-expanding-nets</a>"
      ]
     },
     "metadata": {},
     "output_type": "display_data"
    },
    {
     "data": {
      "text/plain": [
       "<IPython.core.display.HTML object>"
      ],
      "text/html": [
       " View run at <a href='https://wandb.ai/fedornigretuk/self-expanding-nets/runs/hdr8m4i4' target=\"_blank\">https://wandb.ai/fedornigretuk/self-expanding-nets/runs/hdr8m4i4</a>"
      ]
     },
     "metadata": {},
     "output_type": "display_data"
    },
    {
     "name": "stderr",
     "output_type": "stream",
     "text": [
      "100%|██████████| 51/51 [00:02<00:00, 22.54it/s]\n"
     ]
    },
    {
     "name": "stdout",
     "output_type": "stream",
     "text": [
      "Epoch 1/100 | Train Loss: 2.6047 | Val Loss: 31.5237 | Val Accuracy: 0.2016\n"
     ]
    },
    {
     "name": "stderr",
     "output_type": "stream",
     "text": [
      "100%|██████████| 51/51 [00:02<00:00, 22.26it/s]\n"
     ]
    },
    {
     "name": "stdout",
     "output_type": "stream",
     "text": [
      "Epoch 2/100 | Train Loss: 2.3399 | Val Loss: 28.2204 | Val Accuracy: 0.3232\n"
     ]
    },
    {
     "name": "stderr",
     "output_type": "stream",
     "text": [
      "100%|██████████| 51/51 [00:02<00:00, 22.76it/s]\n"
     ]
    },
    {
     "name": "stdout",
     "output_type": "stream",
     "text": [
      "Epoch 3/100 | Train Loss: 2.1816 | Val Loss: 26.4675 | Val Accuracy: 0.3330\n"
     ]
    },
    {
     "name": "stderr",
     "output_type": "stream",
     "text": [
      "100%|██████████| 51/51 [00:01<00:00, 26.17it/s]\n"
     ]
    },
    {
     "name": "stdout",
     "output_type": "stream",
     "text": [
      "Epoch 4/100 | Train Loss: 2.1051 | Val Loss: 25.7145 | Val Accuracy: 0.3369\n"
     ]
    },
    {
     "name": "stderr",
     "output_type": "stream",
     "text": [
      "100%|██████████| 51/51 [00:01<00:00, 26.98it/s]\n"
     ]
    },
    {
     "name": "stdout",
     "output_type": "stream",
     "text": [
      "Epoch 5/100 | Train Loss: 2.0616 | Val Loss: 25.3747 | Val Accuracy: 0.3390\n"
     ]
    },
    {
     "name": "stderr",
     "output_type": "stream",
     "text": [
      "100%|██████████| 51/51 [00:01<00:00, 27.06it/s]\n"
     ]
    },
    {
     "name": "stdout",
     "output_type": "stream",
     "text": [
      "Epoch 6/100 | Train Loss: 2.0280 | Val Loss: 25.1532 | Val Accuracy: 0.3405\n"
     ]
    },
    {
     "name": "stderr",
     "output_type": "stream",
     "text": [
      "100%|██████████| 51/51 [00:01<00:00, 27.31it/s]\n"
     ]
    },
    {
     "name": "stdout",
     "output_type": "stream",
     "text": [
      "Epoch 7/100 | Train Loss: 2.0135 | Val Loss: 25.0251 | Val Accuracy: 0.3444\n"
     ]
    },
    {
     "name": "stderr",
     "output_type": "stream",
     "text": [
      "100%|██████████| 51/51 [00:01<00:00, 28.05it/s]\n"
     ]
    },
    {
     "name": "stdout",
     "output_type": "stream",
     "text": [
      "Epoch 8/100 | Train Loss: 1.9985 | Val Loss: 24.8956 | Val Accuracy: 0.3459\n"
     ]
    },
    {
     "name": "stderr",
     "output_type": "stream",
     "text": [
      "100%|██████████| 51/51 [00:02<00:00, 23.25it/s]\n"
     ]
    },
    {
     "name": "stdout",
     "output_type": "stream",
     "text": [
      "Epoch 9/100 | Train Loss: 1.9881 | Val Loss: 24.8133 | Val Accuracy: 0.3488\n"
     ]
    },
    {
     "name": "stderr",
     "output_type": "stream",
     "text": [
      "100%|██████████| 51/51 [00:01<00:00, 26.46it/s]\n"
     ]
    },
    {
     "name": "stdout",
     "output_type": "stream",
     "text": [
      "Epoch 10/100 | Train Loss: 1.9746 | Val Loss: 24.7164 | Val Accuracy: 0.3502\n"
     ]
    },
    {
     "name": "stderr",
     "output_type": "stream",
     "text": [
      "100%|██████████| 51/51 [00:01<00:00, 26.21it/s]\n"
     ]
    },
    {
     "name": "stdout",
     "output_type": "stream",
     "text": [
      "Epoch 11/100 | Train Loss: 1.9730 | Val Loss: 24.6771 | Val Accuracy: 0.3495\n",
      "Edge metrics: tensor([0.1389, 0.0817, 0.1529, 0.0933, 0.0127, 0.0711, 0.1053, 0.1234, 0.0226,\n",
      "        0.0626, 0.0932, 0.1074, 0.1455, 0.1868, 0.0368, 0.1086, 0.0685, 0.0382,\n",
      "        0.1137, 0.0923, 0.0614, 0.0338, 0.0683, 0.1353, 0.0491, 0.0251, 0.0555,\n",
      "        0.0715, 0.0515, 0.0378, 0.0495, 0.0324, 0.0532, 0.0330, 0.0046, 0.0000,\n",
      "        0.0658, 0.0687, 0.0641, 0.0463, 0.0843, 0.1294, 0.0706, 0.1525, 0.1191,\n",
      "        0.0838, 0.0169, 0.0330, 0.1425, 0.0233, 0.0614, 0.0906, 0.1628, 0.1445,\n",
      "        0.1264, 0.0297, 0.0322, 0.1596, 0.0829, 0.0811, 0.0501, 0.0563, 0.0398,\n",
      "        0.1843, 0.1483, 0.2036, 0.3917, 0.1945, 0.1048, 0.0875, 0.1699, 0.1428,\n",
      "        0.1400, 0.0706, 0.1473, 0.1726, 0.2222, 0.1162, 0.1364, 0.1435, 0.0853,\n",
      "        0.1201, 0.2503, 0.1048, 0.1676, 0.1224, 0.1937, 0.0902, 0.1937, 0.1775,\n",
      "        0.1307, 0.2009, 0.1752, 0.1540, 0.1804, 0.0771, 0.1810, 0.0927, 0.0484,\n",
      "        0.0000, 0.0835, 0.2397, 0.1974, 0.2169, 0.3008, 0.1079, 0.2272, 0.1485,\n",
      "        0.1744, 0.0996, 0.1240, 0.2058, 0.3450, 0.1656, 0.0509, 0.1304, 0.1186,\n",
      "        0.1048, 0.0736, 0.1328, 0.1435, 0.1093, 0.1765, 0.1128, 0.0668, 0.2185,\n",
      "        0.2353, 0.1190, 0.0173, 0.0169, 0.0334, 0.0152, 0.0043, 0.0055, 0.0081,\n",
      "        0.0164, 0.0055, 0.0059, 0.0092, 0.0125, 0.0138, 0.0119, 0.0073, 0.0143,\n",
      "        0.0080, 0.0088, 0.0103, 0.0133, 0.0050, 0.0068, 0.0061, 0.0103, 0.0115,\n",
      "        0.0038, 0.0129, 0.0176, 0.0102, 0.0073, 0.0167, 0.0084, 0.0054, 0.0088,\n",
      "        0.0015, 0.0000, 0.0086, 0.0064, 0.0055, 0.0122, 0.0136, 0.0072, 0.0175,\n",
      "        0.0118, 0.0137, 0.0138, 0.0043, 0.0138, 0.0289, 0.0032, 0.0069, 0.0038,\n",
      "        0.0158, 0.0116, 0.0097, 0.0085, 0.0096, 0.0148, 0.0205, 0.0104, 0.0069,\n",
      "        0.0087, 0.0040, 0.0136, 0.0904, 0.2032, 0.4867, 0.1870, 0.1649, 0.0734,\n",
      "        0.1018, 0.1244, 0.1663, 0.0877, 0.0591, 0.0975, 0.1415, 0.1109, 0.0601,\n",
      "        0.1132, 0.1614, 0.2307, 0.1555, 0.1407, 0.1068, 0.1805, 0.1167, 0.0563,\n",
      "        0.1886, 0.1087, 0.2836, 0.3650, 0.1996, 0.1586, 0.2422, 0.2099, 0.0898,\n",
      "        0.1990, 0.0409, 0.0000, 0.0643, 0.1379, 0.1445, 0.1525, 0.1529, 0.0685,\n",
      "        0.2168, 0.1251, 0.1091, 0.1210, 0.0970, 0.2360, 0.4129, 0.0630, 0.0354,\n",
      "        0.0616, 0.1325, 0.0820, 0.0647, 0.2126, 0.1354, 0.0688, 0.3753, 0.1123,\n",
      "        0.1467, 0.1156, 0.0741, 0.0712, 0.0931, 0.1758, 0.7284, 0.1787, 0.2072,\n",
      "        0.1638, 0.0968, 0.1114, 0.3112, 0.1148, 0.2094, 0.0839, 0.1307, 0.2584,\n",
      "        0.0908, 0.1364, 0.1757, 0.2812, 0.3314, 0.1210, 0.2616, 0.2933, 0.3302,\n",
      "        0.0855, 0.4016, 0.2935, 0.3543, 0.4861, 0.3931, 0.2564, 0.1717, 0.1462,\n",
      "        0.3305, 0.1461, 0.1020, 0.0000, 0.0442, 0.3019, 0.1464, 0.1693, 0.2317,\n",
      "        0.1710, 0.2493, 0.2673, 0.0937, 0.0930, 0.2711, 0.3386, 0.6217, 0.2594,\n",
      "        0.0675, 0.1889, 0.1243, 0.1271, 0.0843, 0.3432, 0.1248, 0.0894, 0.4327,\n",
      "        0.0758, 0.2021, 0.1472, 0.3196, 0.1301, 0.0640, 0.1613, 0.3357, 0.1198,\n",
      "        0.1735, 0.0415, 0.0374, 0.1074, 0.0986, 0.0293, 0.0248, 0.0283, 0.0308,\n",
      "        0.0413, 0.0337, 0.1327, 0.0729, 0.1067, 0.0730, 0.0970, 0.0604, 0.0705,\n",
      "        0.0573, 0.0201, 0.0996, 0.1442, 0.1643, 0.1973, 0.1310, 0.0642, 0.1737,\n",
      "        0.1050, 0.0506, 0.1232, 0.0441, 0.0000, 0.0693, 0.0609, 0.0452, 0.1308,\n",
      "        0.0853, 0.0200, 0.1949, 0.0841, 0.0260, 0.0876, 0.0836, 0.2231, 0.2800,\n",
      "        0.0568, 0.0104, 0.0220, 0.0831, 0.0249, 0.0195, 0.1308, 0.1096, 0.0266,\n",
      "        0.2165, 0.0957, 0.0667, 0.0571, 0.0496, 0.0183, 0.1149, 0.1804, 0.2133,\n",
      "        0.1350, 0.0578, 0.0323, 0.0575, 0.1597, 0.0499, 0.0311, 0.0343, 0.0865,\n",
      "        0.0940, 0.0521, 0.0696, 0.1372, 0.0745, 0.0909, 0.0877, 0.1427, 0.0551,\n",
      "        0.0551, 0.0454, 0.0562, 0.0806, 0.0320, 0.1436, 0.1348, 0.0777, 0.0529,\n",
      "        0.1802, 0.1243, 0.0304, 0.1598, 0.0248, 0.0000, 0.0603, 0.0610, 0.0635,\n",
      "        0.1261, 0.1242, 0.0381, 0.1450, 0.0749, 0.0840, 0.1476, 0.0372, 0.1712,\n",
      "        0.1957, 0.0214, 0.0301, 0.0246, 0.1296, 0.0610, 0.0565, 0.0736, 0.1330,\n",
      "        0.0716, 0.2092, 0.1000, 0.0590, 0.0790, 0.0287, 0.0650, 0.1169, 0.2016,\n",
      "        0.3118, 0.1665, 0.0918, 0.0524, 0.1290, 0.1503, 0.0807, 0.0343, 0.0368,\n",
      "        0.0846, 0.1472, 0.0787, 0.0786, 0.1556, 0.0883, 0.1188, 0.0993, 0.1101,\n",
      "        0.0911, 0.0777, 0.0683, 0.0481, 0.1187, 0.0671, 0.1578, 0.2016, 0.1393,\n",
      "        0.0816, 0.2319, 0.1149, 0.0504, 0.1385, 0.0378, 0.0000, 0.0676, 0.0947,\n",
      "        0.0996, 0.1528, 0.1227, 0.0467, 0.2065, 0.0991, 0.0864, 0.1024, 0.0720,\n",
      "        0.1822, 0.2606, 0.0353, 0.0295, 0.0479, 0.1116, 0.0415, 0.0499, 0.1249,\n",
      "        0.1205, 0.0894, 0.2458, 0.1032, 0.0975, 0.1361, 0.0424, 0.0604, 0.2020,\n",
      "        0.3088, 0.3928, 0.2423, 0.0704, 0.0584, 0.1809, 0.2161, 0.0671, 0.0478,\n",
      "        0.0721, 0.1863, 0.2391, 0.0937, 0.1501, 0.2244, 0.0588, 0.0784, 0.1868,\n",
      "        0.1218, 0.1437, 0.0688, 0.1447, 0.0566, 0.1155, 0.0664, 0.1203, 0.1647,\n",
      "        0.1893, 0.0707, 0.2860, 0.0821, 0.1046, 0.1162, 0.0628, 0.0000, 0.1237,\n",
      "        0.1714, 0.1697, 0.2638, 0.2174, 0.0653, 0.3096, 0.1568, 0.1971, 0.1618,\n",
      "        0.1130, 0.2199, 0.3639, 0.0912, 0.0307, 0.0655, 0.1368, 0.0555, 0.0590,\n",
      "        0.0739, 0.1733, 0.1271, 0.2071, 0.1648, 0.0694, 0.1558, 0.0941, 0.1119,\n",
      "        0.0446, 0.0738, 0.0688, 0.0691, 0.0196, 0.0104, 0.0841, 0.0776, 0.0135,\n",
      "        0.0086, 0.0128, 0.0556, 0.1079, 0.0175, 0.0379, 0.0852, 0.0140, 0.0153,\n",
      "        0.0516, 0.0234, 0.0338, 0.0151, 0.0311, 0.0095, 0.0255, 0.0170, 0.0250,\n",
      "        0.0338, 0.0322, 0.0196, 0.0830, 0.0149, 0.0222, 0.0191, 0.0095, 0.0000,\n",
      "        0.0595, 0.0417, 0.0531, 0.0756, 0.0717, 0.0149, 0.0785, 0.0330, 0.0611,\n",
      "        0.0338, 0.0171, 0.0589, 0.0833, 0.0177, 0.0043, 0.0179, 0.0422, 0.0114,\n",
      "        0.0096, 0.0172, 0.0480, 0.0151, 0.0309, 0.0758, 0.0127, 0.0651, 0.0233,\n",
      "        0.0373, 0.1350, 0.1611, 0.6270, 0.1383, 0.2166, 0.1908, 0.1166, 0.0921,\n",
      "        0.2815, 0.1516, 0.2810, 0.1022, 0.1302, 0.2954, 0.0765, 0.0982, 0.0950,\n",
      "        0.2372, 0.3944, 0.0700, 0.2598, 0.2443, 0.4027, 0.1265, 0.4337, 0.2992,\n",
      "        0.2845, 0.4270, 0.3579, 0.3407, 0.1013, 0.1041, 0.3805, 0.0806, 0.0603,\n",
      "        0.0000, 0.0392, 0.3874, 0.1488, 0.1400, 0.3256, 0.2341, 0.1719, 0.2468,\n",
      "        0.1415, 0.0614, 0.3122, 0.1496, 0.5071, 0.3201, 0.0664, 0.2940, 0.1056,\n",
      "        0.1561, 0.1062, 0.2685, 0.0899, 0.1364, 0.1986, 0.0493, 0.2054, 0.1567,\n",
      "        0.4651, 0.1719, 0.0664, 0.1069, 0.2100, 0.0959, 0.0674, 0.0936, 0.0441,\n",
      "        0.0863, 0.0707, 0.0702, 0.0705, 0.0365, 0.0442, 0.1463, 0.0334, 0.0835,\n",
      "        0.0744, 0.0816, 0.0707, 0.0953, 0.0608, 0.0639, 0.0673, 0.1303, 0.0904,\n",
      "        0.0596, 0.1199, 0.1325, 0.0993, 0.0690, 0.0957, 0.0758, 0.0808, 0.0684,\n",
      "        0.0177, 0.0000, 0.0321, 0.0626, 0.0320, 0.0808, 0.0829, 0.0997, 0.0961,\n",
      "        0.0932, 0.0339, 0.0668, 0.0669, 0.0851, 0.1898, 0.0459, 0.0724, 0.0699,\n",
      "        0.1128, 0.1743, 0.1081, 0.0800, 0.0545, 0.0993, 0.1346, 0.0562, 0.0818,\n",
      "        0.0595, 0.0602, 0.1088, 0.1208, 0.1909, 0.3830, 0.1660, 0.1152, 0.0707,\n",
      "        0.1240, 0.1489, 0.1288, 0.0466, 0.1127, 0.1123, 0.1302, 0.1479, 0.0786,\n",
      "        0.1453, 0.0733, 0.1334, 0.1649, 0.1080, 0.1414, 0.1307, 0.1656, 0.1016,\n",
      "        0.1602, 0.0954, 0.1776, 0.2291, 0.2165, 0.1286, 0.1968, 0.0984, 0.1350,\n",
      "        0.0930, 0.0718, 0.0000, 0.0677, 0.1839, 0.1649, 0.1398, 0.1637, 0.1063,\n",
      "        0.1721, 0.1766, 0.0950, 0.0955, 0.1411, 0.1680, 0.3376, 0.0967, 0.0512,\n",
      "        0.1110, 0.1252, 0.1036, 0.0932, 0.1469, 0.1060, 0.0802, 0.2352, 0.1063,\n",
      "        0.0942, 0.1142, 0.1378, 0.1275, 0.0964, 0.1330, 0.2383, 0.1282, 0.0577,\n",
      "        0.0587, 0.0849, 0.0917, 0.0659, 0.0673, 0.0705, 0.0840, 0.1111, 0.1214,\n",
      "        0.0674, 0.0919, 0.0480, 0.0704, 0.1766, 0.0730, 0.1155, 0.0693, 0.1513,\n",
      "        0.0737, 0.1432, 0.0734, 0.0823, 0.1225, 0.1290, 0.0795, 0.1114, 0.0534,\n",
      "        0.1291, 0.0589, 0.0280, 0.0000, 0.0350, 0.1452, 0.1136, 0.1030, 0.1651,\n",
      "        0.0760, 0.1385, 0.1456, 0.0912, 0.0631, 0.0899, 0.0906, 0.2159, 0.0951,\n",
      "        0.0368, 0.0950, 0.1010, 0.0952, 0.0644, 0.0764, 0.0584, 0.0873, 0.1302,\n",
      "        0.0550, 0.0630, 0.1219, 0.1200, 0.1080, 0.0796, 0.1502, 0.3176, 0.1137,\n",
      "        0.1114, 0.0661, 0.0545, 0.1216, 0.1015, 0.0417, 0.0406, 0.0527, 0.0697,\n",
      "        0.0703, 0.0477, 0.1115, 0.0784, 0.1333, 0.0756, 0.0940, 0.0630, 0.0960,\n",
      "        0.0711, 0.0474, 0.1112, 0.0826, 0.2043, 0.2156, 0.1369, 0.0800, 0.1647,\n",
      "        0.1335, 0.0683, 0.1326, 0.0400, 0.0000, 0.0526, 0.0768, 0.0538, 0.1155,\n",
      "        0.0997, 0.0520, 0.1466, 0.0849, 0.0458, 0.0912, 0.0722, 0.1600, 0.2552,\n",
      "        0.0470, 0.0245, 0.0525, 0.0965, 0.0549, 0.0437, 0.1330, 0.1133, 0.0513,\n",
      "        0.2208, 0.0969, 0.0961, 0.0675, 0.0556, 0.0529]) tensor(0.7284) tensor(107.7445)\n",
      "Chosen edges: tensor([[ 1,  1,  1,  1,  1,  1,  1,  1,  1,  1,  1,  1,  1,  3,  3,  3,  3,  3,\n",
      "          3,  3,  3,  3,  3,  3,  3,  4,  4,  4,  4,  4,  4,  4,  4,  4,  4,  4,\n",
      "          4,  4,  4,  4,  4,  4,  4,  4,  4,  4,  4,  4,  4,  4,  4,  4,  4,  4,\n",
      "          5,  5,  5,  5,  6,  6,  7,  7,  7,  7,  7,  7,  7,  8,  8,  8,  8,  8,\n",
      "          8,  8,  8,  8,  8,  8,  8,  8,  8, 10, 10, 10, 10, 10, 10, 10, 10, 10,\n",
      "         10, 10, 10, 10, 10, 10, 10, 10, 10, 10, 10, 10, 10, 10, 10, 10, 10, 10,\n",
      "         10, 11, 12, 12, 12, 12, 12, 13, 13, 14, 14, 14, 14, 14],\n",
      "        [ 1,  2, 12, 18, 27, 37, 39, 40, 42, 47, 48, 61, 62,  1,  2, 17, 26, 27,\n",
      "         30, 31, 42, 47, 48, 55, 58,  2,  4,  8, 10, 13, 17, 18, 20, 21, 22, 24,\n",
      "         25, 26, 27, 28, 29, 32, 37, 40, 42, 43, 46, 47, 48, 49, 55, 58, 60, 62,\n",
      "          2, 47, 48, 58,  2, 58,  1,  2, 27, 30, 42, 48, 58,  0,  1,  2,  3,  7,\n",
      "         12, 15, 30, 39, 40, 42, 47, 48, 58,  2,  4,  8, 10, 13, 17, 18, 20, 21,\n",
      "         22, 24, 25, 26, 27, 28, 29, 32, 37, 40, 41, 43, 46, 48, 49, 51, 55, 60,\n",
      "         62,  2,  2, 27, 28, 48, 58,  2, 48,  2, 26, 27, 48, 58]]) 122\n"
     ]
    },
    {
     "name": "stderr",
     "output_type": "stream",
     "text": [
      "100%|██████████| 51/51 [00:01<00:00, 40.63it/s]\n"
     ]
    },
    {
     "name": "stdout",
     "output_type": "stream",
     "text": [
      "Fine-Tune Epoch 1/3 | Train Loss: 2.9213 | Val Loss: 2.4479\n"
     ]
    },
    {
     "name": "stderr",
     "output_type": "stream",
     "text": [
      "100%|██████████| 51/51 [00:01<00:00, 41.13it/s]\n"
     ]
    },
    {
     "name": "stdout",
     "output_type": "stream",
     "text": [
      "Fine-Tune Epoch 2/3 | Train Loss: 2.7840 | Val Loss: 2.3344\n"
     ]
    },
    {
     "name": "stderr",
     "output_type": "stream",
     "text": [
      "100%|██████████| 51/51 [00:01<00:00, 43.48it/s]\n"
     ]
    },
    {
     "name": "stdout",
     "output_type": "stream",
     "text": [
      "Fine-Tune Epoch 3/3 | Train Loss: 2.6786 | Val Loss: 2.2521\n"
     ]
    },
    {
     "name": "stderr",
     "output_type": "stream",
     "text": [
      "100%|██████████| 51/51 [00:01<00:00, 26.45it/s]\n"
     ]
    },
    {
     "name": "stdout",
     "output_type": "stream",
     "text": [
      "Epoch 12/100 | Train Loss: 2.1663 | Val Loss: 25.2265 | Val Accuracy: 0.3352\n"
     ]
    },
    {
     "name": "stderr",
     "output_type": "stream",
     "text": [
      "100%|██████████| 51/51 [00:02<00:00, 23.33it/s]\n"
     ]
    },
    {
     "name": "stdout",
     "output_type": "stream",
     "text": [
      "Epoch 13/100 | Train Loss: 2.0361 | Val Loss: 24.9775 | Val Accuracy: 0.3433\n"
     ]
    },
    {
     "name": "stderr",
     "output_type": "stream",
     "text": [
      "100%|██████████| 51/51 [00:02<00:00, 24.64it/s]\n"
     ]
    },
    {
     "name": "stdout",
     "output_type": "stream",
     "text": [
      "Epoch 14/100 | Train Loss: 2.0210 | Val Loss: 24.8326 | Val Accuracy: 0.3487\n"
     ]
    },
    {
     "name": "stderr",
     "output_type": "stream",
     "text": [
      "100%|██████████| 51/51 [00:01<00:00, 25.64it/s]\n"
     ]
    },
    {
     "name": "stdout",
     "output_type": "stream",
     "text": [
      "Epoch 15/100 | Train Loss: 2.0072 | Val Loss: 24.7722 | Val Accuracy: 0.3498\n"
     ]
    },
    {
     "name": "stderr",
     "output_type": "stream",
     "text": [
      "100%|██████████| 51/51 [00:02<00:00, 25.40it/s]\n"
     ]
    },
    {
     "name": "stdout",
     "output_type": "stream",
     "text": [
      "Epoch 16/100 | Train Loss: 2.0042 | Val Loss: 24.7080 | Val Accuracy: 0.3519\n",
      "Edge metrics: tensor([0.2977, 0.0141, 0.0573, 0.3434, 0.0461, 0.1015, 0.0918, 0.0556, 0.0781,\n",
      "        0.0619, 0.0586, 0.1269, 0.0284, 0.1565, 0.1604, 0.1546, 0.1802, 0.0584,\n",
      "        0.0685, 0.1471, 0.0103, 0.0482, 0.1991, 0.1524, 0.3397, 0.0578, 0.0482,\n",
      "        0.0113, 0.0017, 0.0850, 0.1364, 0.1164, 0.0265, 0.1390, 0.0344, 0.0000,\n",
      "        0.0585, 0.0496, 0.1688, 0.0198, 0.0638, 0.1320, 0.0139, 0.1693, 0.1616,\n",
      "        0.1116, 0.1246, 0.0042, 0.0210, 0.0371, 0.0973, 0.1398, 0.2057, 0.1589,\n",
      "        0.1578, 0.1432, 0.1920, 0.1586, 0.0641, 0.0570, 0.0075, 0.2241, 0.0658,\n",
      "        0.1769, 0.2562, 0.3356, 0.1777, 0.1055, 0.2092, 0.0685, 0.2849, 0.0943,\n",
      "        0.0476, 0.2823, 0.1293, 0.2787, 0.1901, 0.1819, 0.0699, 0.1514, 0.0388,\n",
      "        0.1173, 0.3844, 0.1298, 0.5015, 0.3152, 0.0732, 0.0336, 0.1720, 0.1944,\n",
      "        0.1392, 0.0958, 0.1724, 0.0730, 0.0000, 0.0880, 0.3892, 0.1402, 0.2245,\n",
      "        0.3118, 0.1374, 0.2746, 0.1634, 0.0614, 0.1608, 0.1577, 0.1489, 0.1169,\n",
      "        0.2874, 0.3146, 0.1360, 0.0761, 0.1091, 0.0223, 0.1531, 0.0683, 0.0076,\n",
      "        0.0311, 0.0958, 0.0322, 0.0109, 0.0180, 0.0153, 0.0375, 0.0111, 0.0038,\n",
      "        0.0312, 0.0023, 0.0215, 0.0388, 0.0417, 0.0478, 0.0188, 0.0160, 0.0394,\n",
      "        0.0016, 0.0194, 0.0457, 0.0169, 0.1024, 0.0293, 0.0225, 0.0082, 0.0009,\n",
      "        0.0333, 0.0393, 0.0449, 0.0036, 0.0514, 0.0095, 0.0000, 0.0144, 0.0106,\n",
      "        0.0290, 0.0077, 0.0191, 0.0152, 0.0072, 0.0311, 0.0372, 0.0346, 0.0392,\n",
      "        0.0027, 0.0143, 0.0083, 0.0092, 0.0165, 0.0406, 0.0203, 0.0149, 0.0639,\n",
      "        0.0568, 0.0280, 0.0250, 0.0160, 0.0015, 0.0558, 0.0182, 0.0244, 0.2779,\n",
      "        0.4783, 0.2886, 0.0748, 0.0884, 0.0821, 0.3307, 0.1310, 0.0137, 0.1134,\n",
      "        0.0089, 0.1337, 0.1368, 0.2885, 0.4385, 0.0704, 0.3357, 0.0138, 0.1630,\n",
      "        0.1404, 0.0756, 0.5484, 0.2064, 0.0104, 0.2972, 0.0227, 0.4938, 0.0462,\n",
      "        0.0000, 0.0622, 0.0561, 0.1961, 0.0306, 0.0686, 0.0781, 0.1014, 0.1388,\n",
      "        0.2303, 0.1840, 0.0342, 0.0439, 0.0710, 0.2958, 0.1145, 0.0782, 0.3485,\n",
      "        0.0742, 0.1008, 0.0239, 0.1767, 0.0642, 0.0857, 0.2906, 0.0382, 0.3953,\n",
      "        0.1831, 0.1351, 0.0632, 0.1466, 0.1679, 0.0383, 0.1957, 0.2008, 0.3013,\n",
      "        0.1844, 0.1253, 0.1538, 0.1960, 0.2225, 0.1417, 0.0000, 0.0687, 0.3000,\n",
      "        0.0596, 0.2049, 0.2147, 0.1682, 0.0743, 0.2405, 0.1668, 0.1719, 0.1190,\n",
      "        0.3052, 0.1293, 0.0912, 0.2867, 0.1914, 0.0868, 0.0231, 0.2460, 0.2826,\n",
      "        0.0289, 0.0442, 0.0489, 0.1651, 0.0319, 0.0032, 0.0498, 0.0062, 0.0393,\n",
      "        0.0587, 0.1895, 0.0929, 0.0492, 0.0482, 0.1197, 0.0051, 0.0465, 0.1064,\n",
      "        0.0250, 0.2415, 0.2116, 0.0916, 0.0533, 0.0093, 0.0822, 0.1135, 0.1631,\n",
      "        0.0142, 0.2211, 0.0709, 0.0000, 0.0798, 0.0235, 0.0660, 0.0270, 0.0403,\n",
      "        0.0226, 0.0212, 0.0601, 0.0499, 0.1189, 0.1418, 0.0331, 0.0098, 0.0254,\n",
      "        0.0710, 0.0305, 0.0212, 0.2808, 0.2080, 0.0340, 0.1117, 0.0088, 0.0709,\n",
      "        0.0506, 0.0175, 0.2139, 0.0451, 0.3031, 0.1645, 0.0492, 0.1249, 0.0770,\n",
      "        0.1189, 0.0356, 0.0082, 0.1406, 0.0114, 0.0667, 0.1630, 0.1826, 0.1318,\n",
      "        0.0602, 0.0897, 0.2007, 0.0113, 0.0455, 0.2164, 0.0793, 0.3030, 0.1002,\n",
      "        0.0887, 0.0373, 0.0082, 0.0844, 0.1549, 0.1711, 0.0109, 0.2406, 0.0597,\n",
      "        0.0000, 0.0669, 0.0537, 0.1971, 0.0418, 0.0922, 0.0531, 0.0246, 0.1327,\n",
      "        0.1445, 0.2029, 0.1745, 0.0235, 0.0426, 0.0220, 0.0365, 0.0391, 0.1589,\n",
      "        0.0854, 0.0776, 0.1701, 0.2642, 0.0848, 0.0828, 0.0084, 0.1985, 0.0580,\n",
      "        0.0997, 0.2137, 0.3224, 0.2071, 0.0680, 0.1604, 0.0522, 0.1830, 0.0434,\n",
      "        0.0062, 0.0974, 0.0211, 0.0989, 0.1422, 0.1851, 0.1720, 0.0768, 0.0573,\n",
      "        0.1420, 0.0177, 0.0845, 0.1560, 0.0692, 0.3653, 0.1667, 0.0958, 0.0101,\n",
      "        0.1336, 0.1810, 0.0232, 0.2163, 0.0668, 0.0000, 0.0717, 0.0459, 0.1831,\n",
      "        0.0356, 0.0894, 0.0772, 0.1038, 0.1255, 0.1301, 0.1496, 0.0365, 0.0373,\n",
      "        0.0327, 0.0715, 0.1449, 0.0820, 0.0661, 0.2708, 0.2066, 0.1166, 0.1005,\n",
      "        0.0092, 0.2167, 0.0630, 0.0708, 0.1392, 0.0623, 0.3126, 0.1145, 0.0372,\n",
      "        0.0122, 0.3776, 0.0970, 0.4287, 0.1389, 0.0467, 0.1757, 0.1855, 0.0222,\n",
      "        0.0523, 0.4303, 0.0596, 0.5510, 0.1139, 0.0619, 0.0280, 0.0157, 0.0841,\n",
      "        0.1312, 0.0336, 0.2222, 0.1079, 0.0000, 0.1395, 0.1164, 0.5102, 0.0779,\n",
      "        0.2795, 0.4117, 0.2068, 0.2569, 0.0709, 0.0328, 0.1133, 0.1828, 0.0577,\n",
      "        0.0704, 0.1834, 0.4717, 0.1912, 0.1845, 0.0091, 0.5407, 0.1316, 0.1652,\n",
      "        0.0702, 0.0107, 0.0314, 0.0918, 0.0449, 0.0175, 0.0764, 0.0398, 0.0551,\n",
      "        0.0153, 0.0016, 0.0715, 0.0092, 0.0375, 0.0631, 0.0853, 0.0666, 0.0245,\n",
      "        0.0275, 0.0364, 0.0079, 0.0260, 0.0683, 0.0149, 0.1507, 0.0459, 0.0306,\n",
      "        0.0110, 0.0047, 0.0490, 0.0841, 0.0574, 0.0111, 0.0604, 0.0206, 0.0000,\n",
      "        0.0560, 0.0313, 0.0771, 0.0221, 0.0321, 0.0258, 0.0137, 0.0475, 0.0717,\n",
      "        0.0398, 0.0534, 0.0049, 0.0228, 0.0220, 0.0063, 0.0410, 0.0438, 0.0214,\n",
      "        0.0143, 0.0832, 0.0890, 0.0356, 0.0353, 0.0747, 0.0027, 0.0751, 0.0428,\n",
      "        0.0280, 0.2717, 0.0173, 0.3364, 0.1959, 0.1386, 0.0323, 0.1912, 0.1807,\n",
      "        0.0212, 0.1840, 0.0795, 0.3306, 0.0893, 0.1796, 0.1028, 0.1215, 0.1132,\n",
      "        0.0837, 0.0000, 0.0454, 0.3327, 0.0526, 0.0203, 0.2925, 0.0824, 0.0274,\n",
      "        0.0923, 0.1145, 0.2250, 0.1630, 0.1740, 0.2041, 0.0633, 0.0404, 0.3736,\n",
      "        0.2500, 0.1443, 0.0252, 0.2228, 0.1297, 0.1018, 0.0653, 0.0334, 0.1464,\n",
      "        0.0679, 0.0176, 0.0500, 0.0142, 0.1415, 0.0826, 0.1027, 0.1305, 0.0534,\n",
      "        0.0553, 0.1272, 0.0092, 0.0554, 0.1484, 0.1616, 0.2751, 0.1226, 0.0582,\n",
      "        0.0394, 0.0097, 0.1032, 0.0904, 0.1244, 0.0249, 0.1373, 0.0378, 0.0000,\n",
      "        0.0371, 0.0371, 0.1027, 0.0272, 0.0591, 0.1061, 0.0207, 0.0984, 0.0642,\n",
      "        0.0878, 0.1425, 0.0227, 0.0422, 0.0387, 0.0535, 0.1054, 0.1386, 0.1996,\n",
      "        0.1252, 0.1837, 0.1240, 0.0993, 0.0657, 0.0502, 0.0108, 0.1333, 0.0760,\n",
      "        0.1113, 0.2295, 0.0295, 0.3250, 0.1986, 0.1007, 0.1564, 0.0679, 0.1994,\n",
      "        0.0798, 0.0243, 0.1888, 0.0320, 0.1850, 0.1621, 0.1864, 0.1493, 0.0857,\n",
      "        0.1279, 0.1446, 0.0241, 0.0955, 0.3074, 0.1330, 0.4271, 0.1645, 0.0772,\n",
      "        0.1433, 0.1471, 0.1340, 0.0642, 0.1470, 0.1078, 0.0000, 0.0810, 0.1198,\n",
      "        0.2834, 0.0598, 0.1088, 0.1415, 0.0284, 0.2434, 0.1759, 0.1127, 0.2560,\n",
      "        0.0312, 0.0991, 0.0570, 0.1487, 0.1712, 0.1453, 0.1196, 0.2402, 0.1956,\n",
      "        0.1031, 0.1068, 0.0300, 0.2302, 0.1678, 0.1890, 0.1579, 0.0210, 0.2068,\n",
      "        0.0955, 0.0637, 0.1008, 0.0423, 0.0941, 0.0607, 0.0107, 0.1260, 0.0247,\n",
      "        0.1201, 0.1276, 0.1185, 0.0761, 0.0402, 0.1181, 0.1042, 0.0217, 0.0583,\n",
      "        0.2696, 0.0892, 0.2859, 0.1135, 0.0356, 0.0277, 0.0144, 0.0698, 0.0942,\n",
      "        0.0816, 0.0404, 0.1119, 0.0470, 0.0000, 0.0423, 0.0801, 0.1982, 0.0426,\n",
      "        0.0912, 0.0925, 0.0220, 0.1908, 0.1671, 0.0898, 0.1702, 0.0169, 0.0716,\n",
      "        0.0345, 0.1353, 0.1092, 0.1088, 0.0791, 0.0889, 0.1434, 0.0956, 0.0473,\n",
      "        0.0539, 0.0082, 0.1897, 0.1304, 0.1307, 0.1455, 0.0326, 0.2129, 0.1796,\n",
      "        0.0502, 0.0650, 0.0603, 0.1478, 0.0337, 0.0097, 0.0737, 0.0116, 0.0612,\n",
      "        0.0773, 0.1363, 0.1198, 0.0595, 0.0480, 0.1443, 0.0070, 0.0691, 0.1272,\n",
      "        0.0632, 0.2485, 0.1433, 0.0058, 0.0930, 0.1019, 0.1909, 0.0213, 0.1995,\n",
      "        0.0593, 0.0000, 0.0616, 0.0395, 0.0897, 0.0242, 0.0467, 0.0705, 0.0237,\n",
      "        0.0938, 0.0750, 0.1240, 0.1481, 0.0347, 0.0363, 0.0303, 0.0755, 0.1172,\n",
      "        0.0649, 0.0588, 0.2293, 0.2034, 0.0518, 0.0822, 0.0073, 0.1160, 0.0641,\n",
      "        0.0698, 0.0058, 0.0474, 0.0334, 0.0951, 0.0098, 0.0938, 0.0160, 0.0704,\n",
      "        0.0150, 0.0101, 0.0342, 0.1830, 0.0492, 0.0515, 0.1033, 0.0836, 0.0599,\n",
      "        0.0033, 0.0000, 0.0268, 0.0292, 0.0487, 0.1092, 0.0349, 0.1945, 0.1423,\n",
      "        0.0761, 0.2227, 0.0182, 0.0926, 0.0449, 0.1337, 0.0045, 0.0367, 0.0694,\n",
      "        0.1321, 0.2674, 0.1008, 0.0829, 0.0093, 0.1511, 0.0906, 0.1059, 0.1118,\n",
      "        0.0459, 0.0940, 0.0865, 0.0431, 0.0071, 0.0627, 0.0461, 0.0714, 0.0299,\n",
      "        0.0710, 0.0947, 0.0841, 0.0084, 0.0544, 0.0423, 0.0266, 0.0368, 0.0377,\n",
      "        0.0185, 0.0495, 0.0138, 0.0325, 0.0848, 0.0324, 0.0143, 0.1483, 0.3043,\n",
      "        0.1043, 0.0000, 0.0000, 0.1035, 0.0971, 0.1742, 0.0513, 0.0218, 0.0530,\n",
      "        0.0526, 0.0098, 0.0088, 0.3865, 0.0020, 0.0858, 0.0633, 0.0473, 0.0365,\n",
      "        0.2257, 0.0622, 0.0849, 0.2998, 0.0588, 0.0405, 0.0577, 0.0250, 0.1731,\n",
      "        0.1501, 0.0000, 0.2404, 0.2768, 0.2925, 0.0119, 0.2219, 0.0666, 0.0528,\n",
      "        0.0306, 0.0974, 0.0516, 0.0890, 0.0267, 0.0248, 0.0316, 0.0397, 0.0218,\n",
      "        0.0084, 0.0095, 0.0460, 0.0249, 0.0347, 0.0234]) tensor(0.5510) tensor(98.5166)\n",
      "Chosen edges: tensor([[  0,   0,   0,   0,   0,   1,   1,   1,   1,   1,   1,   1,   1,   1,\n",
      "           1,   1,   1,   1,   1,   1,   3,   3,   3,   3,   3,   3,   3,   3,\n",
      "           3,   3,   3,   3,   3,   3,   4,   4,   4,   4,   4,   4,   4,   4,\n",
      "           4,   4,   4,   5,   5,   5,   5,   5,   5,   5,   6,   6,   6,   6,\n",
      "           6,   6,   6,   6,   7,   7,   7,   7,   7,   7,   7,   7,   8,   8,\n",
      "           8,   8,   8,   8,   8,   8,   8,   8,   8,   8,   8,  10,  10,  10,\n",
      "          10,  10,  10,  10,  10,  10,  11,  11,  12,  12,  12,  12,  12,  12,\n",
      "          12,  12,  12,  13,  13,  13,  14,  14,  14,  14,   4,   4,   8,  10,\n",
      "          10,  10,  10,  10,  10,  10],\n",
      "        [  0,   3,  24,  52,  61,   0,   3,   6,   8,  11,  14,  22,  24,  25,\n",
      "          38,  43,  44,  46,  55,  56,   0,   3,   4,   8,  15,  16,  19,  24,\n",
      "          25,  29,  33,  45,  52,  56,   0,   3,  15,  16,  33,  38,  41,  44,\n",
      "          51,  56,  61,   3,   4,  24,  25,  33,  55,  56,   0,   3,  19,  22,\n",
      "          24,  33,  45,  56,   0,   3,   4,  24,  33,  55,  56,  61,   6,  11,\n",
      "          14,  22,  24,  33,  38,  43,  44,  45,  46,  56,  61,   0,   3,  16,\n",
      "          38,  44,  53,  57,  61,  63,   3,  24,   0,   3,  22,  24,  38,  43,\n",
      "          46,  55,  61,   3,  22,  24,   3,  24,  55,  56,  91, 100, 134, 147,\n",
      "         153, 156, 164, 165, 166, 168]]) 118\n"
     ]
    },
    {
     "name": "stderr",
     "output_type": "stream",
     "text": [
      "100%|██████████| 51/51 [00:01<00:00, 37.89it/s]\n"
     ]
    },
    {
     "name": "stdout",
     "output_type": "stream",
     "text": [
      "Fine-Tune Epoch 1/3 | Train Loss: 2.6957 | Val Loss: 2.2674\n"
     ]
    },
    {
     "name": "stderr",
     "output_type": "stream",
     "text": [
      "100%|██████████| 51/51 [00:01<00:00, 33.01it/s]\n"
     ]
    },
    {
     "name": "stdout",
     "output_type": "stream",
     "text": [
      "Fine-Tune Epoch 2/3 | Train Loss: 2.5461 | Val Loss: 2.1608\n"
     ]
    },
    {
     "name": "stderr",
     "output_type": "stream",
     "text": [
      "100%|██████████| 51/51 [00:01<00:00, 36.00it/s]\n"
     ]
    },
    {
     "name": "stdout",
     "output_type": "stream",
     "text": [
      "Fine-Tune Epoch 3/3 | Train Loss: 2.4472 | Val Loss: 2.0891\n"
     ]
    },
    {
     "name": "stderr",
     "output_type": "stream",
     "text": [
      "100%|██████████| 51/51 [00:03<00:00, 14.56it/s]\n"
     ]
    },
    {
     "name": "stdout",
     "output_type": "stream",
     "text": [
      "Epoch 17/100 | Train Loss: 2.1381 | Val Loss: 25.1773 | Val Accuracy: 0.3482\n"
     ]
    },
    {
     "name": "stderr",
     "output_type": "stream",
     "text": [
      "100%|██████████| 51/51 [00:02<00:00, 20.78it/s]\n"
     ]
    },
    {
     "name": "stdout",
     "output_type": "stream",
     "text": [
      "Epoch 18/100 | Train Loss: 2.0439 | Val Loss: 24.9737 | Val Accuracy: 0.3499\n"
     ]
    },
    {
     "name": "stderr",
     "output_type": "stream",
     "text": [
      "100%|██████████| 51/51 [00:02<00:00, 17.59it/s]\n"
     ]
    },
    {
     "name": "stdout",
     "output_type": "stream",
     "text": [
      "Epoch 19/100 | Train Loss: 2.0299 | Val Loss: 24.8748 | Val Accuracy: 0.3522\n"
     ]
    },
    {
     "name": "stderr",
     "output_type": "stream",
     "text": [
      "100%|██████████| 51/51 [00:02<00:00, 18.06it/s]\n"
     ]
    },
    {
     "name": "stdout",
     "output_type": "stream",
     "text": [
      "Epoch 20/100 | Train Loss: 2.0146 | Val Loss: 24.7890 | Val Accuracy: 0.3525\n"
     ]
    },
    {
     "name": "stderr",
     "output_type": "stream",
     "text": [
      "100%|██████████| 51/51 [00:03<00:00, 15.17it/s]\n"
     ]
    },
    {
     "name": "stdout",
     "output_type": "stream",
     "text": [
      "Epoch 21/100 | Train Loss: 2.0056 | Val Loss: 24.7479 | Val Accuracy: 0.3547\n",
      "Edge metrics: tensor([1.0606e-01, 1.2099e-01, 8.5494e-06, 1.6884e-01, 9.2492e-02, 1.1702e-01,\n",
      "        1.5901e-01, 1.0169e-01, 8.6194e-02, 3.4144e-01, 9.8583e-02, 4.3783e-01,\n",
      "        1.0451e-01, 4.3396e-01, 2.0602e-01, 8.6361e-02, 6.9347e-02, 1.0651e-01,\n",
      "        1.8126e-02, 2.3652e-01, 6.5354e-02, 2.5397e-01, 3.5275e-02, 8.6179e-02,\n",
      "        5.8125e-02, 6.2365e-04, 1.5969e-01, 3.4714e-01, 3.1586e-01, 3.6527e-02,\n",
      "        1.1267e-01, 1.0110e-01, 0.0000e+00, 1.0791e-01, 8.2978e-02, 4.6715e-01,\n",
      "        3.7179e-02, 2.4648e-01, 2.2777e-01, 3.8962e-02, 3.7019e-01, 2.1913e-01,\n",
      "        6.3629e-02, 2.0978e-01, 1.0635e-02, 2.3557e-01, 1.9058e-01, 1.5729e-01,\n",
      "        1.2821e-02, 2.3083e-01, 2.4890e-01, 4.8529e-02, 1.0342e-01, 9.1015e-02,\n",
      "        6.7562e-02, 1.8295e-01, 1.1203e-02, 3.1610e-01, 3.1756e-01, 2.0217e-04,\n",
      "        1.6647e-01, 1.1047e-01, 1.1671e-01, 3.4972e-02, 2.7400e-01, 3.4965e-01,\n",
      "        1.7254e-01, 8.2684e-02, 1.1509e-01, 6.2341e-02, 2.4250e-01, 2.0616e-01,\n",
      "        1.0040e-01, 2.1413e-02, 1.5361e-01, 3.8810e-01, 2.7294e-01, 7.7811e-02,\n",
      "        1.6074e-01, 2.0398e-01, 0.0000e+00, 1.1407e-01, 1.3889e-01, 8.1625e-02,\n",
      "        2.6680e-01, 9.9518e-02, 1.9860e-02, 2.0899e-01, 1.8955e-01, 1.8907e-01,\n",
      "        7.8456e-02, 8.4359e-02, 2.3963e-01, 4.2049e-02, 2.5475e-01, 3.0318e-02,\n",
      "        3.4131e-02, 6.3184e-02, 2.9942e-02, 5.6313e-06, 2.9985e-02, 1.4681e-02,\n",
      "        3.0431e-02, 8.0570e-02, 2.7021e-02, 6.7208e-03, 6.8459e-02, 1.2348e-02,\n",
      "        7.1335e-02, 2.5597e-02, 1.2079e-01, 7.5885e-02, 3.3145e-02, 2.5971e-02,\n",
      "        3.8346e-02, 3.8205e-03, 1.0158e-01, 1.9698e-02, 3.2492e-02, 2.8256e-03,\n",
      "        2.8471e-02, 4.6649e-02, 3.1974e-02, 5.0155e-04, 6.9179e-02, 1.0823e-01,\n",
      "        1.3559e-01, 8.2734e-03, 5.5300e-02, 2.5580e-02, 0.0000e+00, 2.6747e-02,\n",
      "        2.0753e-02, 8.4183e-02, 1.3334e-02, 5.7367e-02, 3.1944e-02, 1.7251e-02,\n",
      "        7.3642e-02, 4.4258e-02, 2.3739e-02, 6.9317e-02, 9.6976e-03, 7.2767e-02,\n",
      "        6.6398e-02, 1.7426e-02, 4.7347e-04, 4.2127e-02, 3.3641e-02, 2.9976e-02,\n",
      "        3.4505e-02, 3.7115e-02, 9.6967e-03, 4.0618e-02, 5.0425e-02, 4.2959e-03,\n",
      "        1.4630e-02, 9.1645e-02, 4.0296e-02, 1.3947e-01, 7.4240e-02, 8.4917e-02,\n",
      "        1.4521e-01, 1.6273e-02, 1.9341e-01, 5.9732e-02, 2.4694e-01, 6.8613e-02,\n",
      "        1.0520e-01, 2.7834e-02, 4.0971e-01, 8.2768e-02, 1.3307e-01, 8.9199e-03,\n",
      "        3.0781e-02, 1.3305e-01, 0.0000e+00, 1.0572e-01, 9.2144e-02, 4.2209e-01,\n",
      "        3.2157e-02, 1.9902e-01, 1.1410e-01, 2.7286e-01, 1.5627e-01, 2.3585e-01,\n",
      "        1.9892e-01, 8.1703e-02, 5.0093e-03, 1.3315e-01, 1.3482e-01, 3.4437e-02,\n",
      "        2.3532e-01, 3.1673e-02, 6.0583e-02, 2.6386e-01, 1.2817e-01, 1.5875e-01,\n",
      "        3.3199e-01, 8.6684e-02, 1.8392e-01, 2.4008e-01, 3.9074e-01, 9.3391e-02,\n",
      "        1.4601e-01, 2.5017e-01, 2.3215e-01, 4.9627e-01, 6.1879e-01, 2.5536e-01,\n",
      "        0.0000e+00, 1.7843e-01, 9.4236e-02, 1.4363e-01, 1.3604e-01, 1.9773e-01,\n",
      "        2.1307e-01, 2.1962e-01, 7.6527e-02, 3.7299e-01, 2.9826e-01, 3.8895e-02,\n",
      "        7.7358e-02, 7.8354e-02, 5.4445e-02, 4.0816e-02, 2.2520e-01, 3.9000e-02,\n",
      "        1.8136e-03, 8.8890e-02, 2.7061e-02, 9.2582e-02, 5.5098e-02, 3.0413e-01,\n",
      "        1.0189e-01, 5.2934e-02, 5.6280e-02, 8.7178e-02, 1.6753e-02, 1.6492e-01,\n",
      "        3.8985e-02, 4.0676e-02, 1.2898e-01, 9.7023e-02, 9.0036e-03, 9.4049e-02,\n",
      "        1.8284e-01, 3.1046e-01, 1.7884e-02, 1.0901e-01, 0.0000e+00, 1.2273e-01,\n",
      "        3.7967e-02, 2.0442e-01, 3.5270e-02, 1.1639e-01, 3.5202e-02, 2.8552e-02,\n",
      "        1.4114e-01, 6.9079e-02, 5.7346e-02, 1.4842e-01, 1.2711e-01, 1.7964e-02,\n",
      "        1.3893e-03, 7.1914e-02, 4.1359e-02, 3.7323e-02, 9.4086e-03, 2.0933e-01,\n",
      "        1.5399e-02, 3.1153e-02, 1.3965e-01, 4.1509e-02, 1.2415e-01, 8.2835e-05,\n",
      "        9.0731e-02, 4.4892e-02, 1.2753e-01, 1.5242e-01, 5.7638e-02, 1.6727e-02,\n",
      "        2.1456e-01, 4.0004e-02, 1.5430e-01, 7.3874e-02, 3.4290e-01, 1.2411e-01,\n",
      "        6.1514e-02, 7.3078e-02, 1.3878e-02, 1.4051e-01, 1.2436e-01, 9.0928e-02,\n",
      "        1.1722e-01, 7.8380e-02, 2.7002e-03, 1.0469e-01, 2.6892e-01, 3.7329e-01,\n",
      "        1.6454e-02, 9.1690e-02, 0.0000e+00, 1.2007e-01, 5.5879e-02, 2.1087e-01,\n",
      "        4.9819e-02, 1.2330e-01, 7.1245e-02, 4.2980e-02, 1.6794e-01, 1.1835e-01,\n",
      "        1.9267e-01, 4.7924e-02, 1.3641e-01, 1.3249e-01, 6.2734e-02, 1.8804e-03,\n",
      "        1.5271e-01, 1.2270e-01, 1.2866e-01, 9.9898e-02, 3.1695e-02, 2.2419e-01,\n",
      "        1.4545e-02, 5.5171e-02, 1.8385e-01, 1.2569e-01, 1.1930e-01, 1.2895e-01,\n",
      "        1.0884e-01, 2.2549e-01, 5.6532e-02, 5.8536e-03, 1.4632e-01, 6.7911e-02,\n",
      "        1.5086e-01, 9.7840e-02, 4.3897e-01, 1.5853e-01, 7.6033e-02, 6.2436e-02,\n",
      "        1.3560e-01, 2.0882e-02, 2.3446e-01, 4.6966e-02, 8.8591e-02, 1.3159e-01,\n",
      "        1.2897e-01, 5.1182e-03, 1.5269e-01, 3.6089e-01, 2.9903e-02, 1.2300e-01,\n",
      "        0.0000e+00, 9.6003e-02, 4.6840e-02, 3.2775e-01, 4.1638e-02, 2.1356e-01,\n",
      "        1.0284e-01, 1.7392e-01, 7.9539e-02, 7.2378e-02, 1.4489e-01, 6.3550e-02,\n",
      "        1.4809e-01, 3.9661e-02, 3.1915e-03, 8.1076e-02, 8.6568e-02, 8.3580e-02,\n",
      "        1.8805e-02, 2.6105e-01, 1.4711e-02, 1.5470e-01, 7.8217e-02, 6.5111e-04,\n",
      "        1.1169e-01, 1.6170e-01, 6.3493e-02, 2.0962e-02, 1.8407e-01, 9.7489e-02,\n",
      "        4.4608e-02, 1.0845e-01, 1.6525e-01, 3.2533e-02, 1.6495e-01, 1.0506e-01,\n",
      "        7.5721e-02, 9.7993e-02, 6.1553e-02, 1.0717e-02, 1.2650e-01, 2.9051e-01,\n",
      "        5.0141e-02, 1.5064e-01, 0.0000e+00, 1.6805e-01, 9.5514e-02, 1.1390e-01,\n",
      "        1.8884e-01, 6.1054e-02, 1.2102e-02, 1.2790e-01, 9.4744e-02, 1.1783e-01,\n",
      "        7.2022e-02, 4.5651e-02, 3.4075e-01, 2.8357e-02, 2.7023e-01, 1.5613e-01,\n",
      "        4.5364e-02, 3.3301e-02, 5.1333e-02, 4.7689e-02, 3.1010e-04, 3.9227e-02,\n",
      "        5.0991e-02, 5.5325e-02, 1.0244e-01, 3.1578e-02, 2.2947e-03, 1.1436e-01,\n",
      "        2.5908e-02, 1.0137e-01, 5.0783e-02, 1.5066e-01, 9.4271e-02, 3.9865e-02,\n",
      "        4.2433e-02, 3.5449e-02, 1.0843e-02, 1.2997e-01, 3.5688e-02, 3.0027e-02,\n",
      "        7.3874e-03, 4.0908e-02, 5.9903e-02, 3.7942e-02, 1.8176e-03, 9.5589e-02,\n",
      "        1.4964e-01, 1.6707e-01, 1.5797e-02, 7.6211e-02, 3.6775e-02, 0.0000e+00,\n",
      "        6.9764e-02, 4.1850e-02, 1.3734e-01, 2.5879e-02, 7.4478e-02, 5.0070e-02,\n",
      "        2.4273e-02, 8.4262e-02, 4.6028e-02, 2.2841e-02, 9.0135e-02, 1.3717e-02,\n",
      "        6.4604e-02, 9.6084e-02, 1.2887e-02, 1.7745e-03, 3.6995e-02, 3.1781e-02,\n",
      "        2.8508e-02, 4.6418e-02, 5.2050e-02, 9.0231e-03, 5.3866e-02, 1.3191e-01,\n",
      "        6.8785e-03, 4.0120e-02, 1.3694e-01, 4.3510e-02, 5.8621e-02, 3.7098e-01,\n",
      "        7.7223e-02, 6.1359e-02, 2.9111e-01, 3.3383e-01, 6.9525e-02, 9.7909e-02,\n",
      "        2.1969e-01, 9.4531e-02, 2.7511e-01, 2.2053e-01, 2.8230e-01, 1.3097e-01,\n",
      "        1.4741e-01, 0.0000e+00, 9.5817e-02, 4.7509e-02, 3.5904e-02, 5.6113e-02,\n",
      "        6.1094e-02, 1.5141e-01, 1.4024e-01, 2.4774e-01, 7.2992e-02, 8.2662e-02,\n",
      "        1.4230e-01, 4.9347e-02, 6.1090e-02, 6.5531e-05, 1.8393e-01, 4.5339e-02,\n",
      "        5.8740e-02, 1.8682e-01, 1.0758e-01, 2.3871e-02, 1.0687e-01, 4.1866e-02,\n",
      "        2.5952e-01, 5.9705e-02, 2.1908e-01, 1.3251e-01, 6.3513e-02, 7.1772e-02,\n",
      "        9.4423e-02, 1.6423e-02, 1.8977e-01, 5.3035e-02, 2.7290e-01, 8.1291e-02,\n",
      "        8.1360e-02, 7.7683e-02, 7.3734e-03, 1.4305e-01, 2.1856e-01, 2.6243e-01,\n",
      "        3.1363e-02, 1.2263e-01, 8.1603e-02, 0.0000e+00, 7.4797e-02, 5.1547e-02,\n",
      "        2.2979e-01, 3.5678e-02, 1.4139e-01, 1.4716e-01, 4.1349e-02, 1.6471e-01,\n",
      "        8.0883e-02, 5.6315e-02, 1.6652e-01, 5.3758e-02, 1.2581e-01, 1.5977e-01,\n",
      "        9.3477e-02, 9.2882e-03, 1.6703e-01, 2.9315e-01, 2.2176e-01, 7.8543e-02,\n",
      "        7.7448e-02, 4.6978e-02, 7.8363e-02, 1.3238e-01, 1.9173e-02, 4.0281e-02,\n",
      "        2.0148e-01, 1.8610e-01, 8.6822e-02, 7.8935e-04, 1.2879e-01, 8.7499e-02,\n",
      "        1.1387e-01, 3.6730e-01, 9.6000e-02, 1.8147e-02, 4.0494e-01, 5.5367e-02,\n",
      "        2.9021e-01, 1.6681e-01, 3.5125e-01, 2.2273e-01, 1.0298e-01, 1.4802e-01,\n",
      "        9.5671e-02, 4.4147e-02, 3.1069e-01, 1.9080e-01, 1.5024e-01, 1.1891e-01,\n",
      "        2.4544e-01, 3.4339e-01, 3.0531e-01, 8.9819e-02, 1.0907e-01, 1.7765e-01,\n",
      "        0.0000e+00, 1.0201e-01, 1.1476e-01, 1.0416e-01, 2.7237e-01, 1.6213e-01,\n",
      "        4.2739e-02, 2.0795e-01, 5.9500e-02, 6.1341e-02, 2.7730e-01, 9.4195e-02,\n",
      "        1.5064e-02, 1.1418e-01, 1.5838e-01, 1.7739e-01, 7.3905e-02, 5.0881e-02,\n",
      "        1.8634e-01, 5.7755e-02, 3.4544e-01, 2.0864e-01, 5.5453e-02, 5.9696e-02,\n",
      "        6.7837e-05, 1.1636e-01, 6.2218e-02, 6.0301e-02, 1.4202e-01, 1.0115e-01,\n",
      "        1.4718e-02, 2.1434e-01, 7.1683e-02, 2.4541e-01, 8.3240e-02, 2.4841e-01,\n",
      "        9.8984e-02, 5.4119e-02, 1.2187e-01, 7.4481e-02, 4.4392e-02, 1.4023e-01,\n",
      "        1.6694e-01, 7.3015e-02, 5.5181e-02, 4.4897e-02, 1.1057e-02, 9.4994e-02,\n",
      "        2.0282e-01, 1.7950e-01, 5.5895e-02, 1.0783e-01, 9.5538e-02, 0.0000e+00,\n",
      "        6.9082e-02, 9.4340e-02, 3.7569e-01, 4.8078e-02, 1.8690e-01, 1.5306e-01,\n",
      "        3.3911e-02, 2.7209e-01, 1.8372e-01, 4.7481e-02, 2.3278e-01, 3.4599e-02,\n",
      "        2.4305e-01, 7.0485e-02, 9.2537e-03, 1.1149e-01, 1.6644e-01, 1.5159e-01,\n",
      "        4.4585e-02, 7.3286e-02, 3.7702e-02, 4.9953e-02, 1.2695e-01, 2.2966e-02,\n",
      "        5.1541e-02, 3.1221e-01, 1.8159e-01, 4.3849e-02, 8.0583e-02, 7.4455e-04,\n",
      "        1.0432e-01, 5.8035e-02, 8.4226e-02, 2.2032e-01, 5.3108e-02, 1.1539e-02,\n",
      "        1.4975e-01, 4.1915e-02, 1.3491e-01, 5.6928e-02, 3.3375e-01, 1.6582e-01,\n",
      "        7.3987e-02, 5.8989e-02, 1.3701e-01, 1.4089e-02, 2.1953e-01, 5.0026e-02,\n",
      "        1.0667e-01, 1.0796e-01, 3.6402e-03, 1.2905e-01, 2.1086e-01, 4.1242e-01,\n",
      "        2.8512e-02, 2.1724e-01, 1.0859e-01, 0.0000e+00, 1.0174e-01, 5.7951e-02,\n",
      "        2.0310e-01, 4.0422e-02, 1.2030e-01, 1.1010e-01, 3.7099e-02, 1.8024e-01,\n",
      "        6.7535e-02, 9.2420e-02, 1.7328e-01, 6.4710e-02, 1.5297e-01, 5.5950e-02,\n",
      "        4.3218e-03, 1.0840e-01, 9.5347e-02, 1.0007e-01, 3.5950e-02, 2.0680e-01,\n",
      "        1.5202e-02, 4.6809e-02, 2.0579e-01, 1.1076e-01, 1.0087e-02, 3.4312e-02,\n",
      "        9.4627e-02, 4.5622e-02, 1.2047e-02, 7.2070e-02, 6.2914e-03, 1.1203e-01,\n",
      "        2.5630e-02, 1.1998e-02, 1.6299e-01, 4.4339e-02, 2.6050e-02, 9.5863e-02,\n",
      "        1.5289e-01, 7.4538e-02, 6.7042e-02, 8.7407e-03, 0.0000e+00, 8.3068e-02,\n",
      "        3.8363e-02, 9.2202e-02, 1.7042e-01, 3.1505e-02, 1.8100e-01, 3.0305e-01,\n",
      "        3.1351e-04, 1.7766e-02, 1.6251e-01, 6.9943e-02, 1.8297e-01, 1.1616e-02,\n",
      "        1.2792e-01, 4.7576e-02, 1.4139e-02, 2.0111e-01, 1.7288e-01, 9.2331e-03,\n",
      "        2.2072e-01, 1.3072e-01, 1.5186e-01, 2.6545e-01, 6.6396e-02, 1.7032e-01,\n",
      "        1.9791e-01, 9.1479e-02, 4.2303e-02, 2.2135e-01, 3.7571e-02, 9.5830e-02,\n",
      "        6.0060e-02, 2.0571e-01, 1.2548e-01, 1.7902e-01, 2.4858e-02, 6.0483e-02,\n",
      "        5.2065e-02, 2.8205e-02, 1.4086e-01, 6.0493e-02, 2.3234e-02, 1.2906e-01,\n",
      "        3.5145e-02, 9.8963e-02, 7.3861e-02, 1.5466e-02, 6.5941e-02, 1.3860e-01,\n",
      "        1.5588e-01, 0.0000e+00, 0.0000e+00, 1.5121e-01, 9.2068e-02, 2.1370e-01,\n",
      "        7.4746e-02, 3.5363e-02, 1.5952e-01, 5.8031e-02, 1.3061e-02, 4.1168e-05,\n",
      "        3.1688e-03, 2.6312e-01, 1.1520e-01, 1.0142e-01, 1.4699e-01, 6.6069e-02,\n",
      "        9.9654e-03, 9.7866e-02, 9.8005e-02, 6.4057e-02, 1.0767e-01, 2.4490e-01,\n",
      "        2.0839e-01, 0.0000e+00, 5.9027e-02, 1.1251e-02, 2.9127e-02, 7.5356e-02,\n",
      "        3.2259e-01, 8.6146e-02, 1.6754e-01, 7.5020e-02, 1.4046e-02, 8.8351e-02,\n",
      "        5.1688e-02, 3.0478e-02, 2.6511e-02, 1.9531e-02, 8.3494e-02, 6.0254e-02,\n",
      "        6.6838e-02, 4.0060e-02, 7.8827e-02, 2.9652e-02, 5.3682e-03, 7.8595e-02,\n",
      "        3.5091e-02, 6.1424e-02, 7.6248e-02, 1.0632e-01, 5.8164e-02, 4.2797e-02,\n",
      "        1.4699e-01, 4.4547e-02, 3.5989e-02, 0.0000e+00, 1.6269e-01, 1.4548e-01,\n",
      "        1.0608e-01, 1.6307e-01, 6.1584e-02, 8.1961e-02, 5.1557e-02, 1.3556e-01,\n",
      "        5.4789e-04, 9.8581e-02, 5.0216e-02, 2.4926e-01, 2.1724e-01, 2.6174e-03,\n",
      "        1.1382e-01, 9.9352e-02, 1.1664e-01, 3.1602e-02, 3.9664e-02, 1.2091e-01,\n",
      "        1.4655e-02, 8.7662e-02, 2.8427e-02, 2.8410e-01, 9.9973e-02, 3.4774e-01,\n",
      "        3.1757e-01, 2.6918e-01, 1.5805e-02, 2.2795e-02, 4.3046e-02, 4.9889e-02,\n",
      "        1.3677e-04, 1.0753e-02, 5.8722e-02, 4.8660e-02, 1.8258e-02, 2.7688e-02,\n",
      "        5.2951e-02, 4.9842e-02, 1.7103e-01, 2.8624e-02, 9.1702e-03, 1.0580e-01,\n",
      "        9.6797e-02, 1.4434e-02, 1.1446e-02, 3.3795e-02, 1.6639e-04, 1.0901e-02,\n",
      "        1.0253e-01, 9.1557e-02, 1.5405e-02, 6.7299e-02, 5.7626e-02, 1.4431e-01,\n",
      "        1.1458e-01, 8.2991e-02, 5.8321e-03, 1.3155e-01, 1.4409e-01, 3.7325e-02,\n",
      "        6.6356e-02, 5.2786e-02, 1.5742e-01, 9.4329e-02, 9.9870e-02, 4.9304e-02,\n",
      "        5.9913e-02, 1.3328e-01, 2.0484e-01, 2.0417e-01, 2.4319e-01, 8.6025e-02,\n",
      "        3.4794e-02, 1.6940e-01, 2.6333e-02, 8.4022e-03, 4.6042e-02, 3.7093e-02,\n",
      "        1.9485e-02, 1.7753e-02, 1.6757e-01, 8.2514e-02, 1.0095e-01, 7.8508e-02,\n",
      "        1.0216e-01, 4.7552e-02, 3.4693e-02, 2.1145e-02, 4.2797e-02, 4.5868e-03,\n",
      "        1.1506e-01, 7.7481e-02, 2.1372e-01, 1.2614e-01, 4.1629e-02, 4.7163e-01,\n",
      "        4.3910e-01, 4.6758e-02, 1.8541e-01, 1.9391e-01, 2.2576e-01, 1.4738e-01]) tensor(0.6188) tensor(101.8100)\n",
      "Chosen edges: tensor([[  0,   0,   0,   0,   0,   0,   0,   0,   0,   0,   0,   0,   0,   0,\n",
      "           0,   0,   0,   0,   0,   1,   1,   1,   1,   1,   1,   1,   1,   1,\n",
      "           1,   1,   3,   3,   3,   3,   3,   3,   3,   4,   4,   4,   4,   4,\n",
      "           4,   4,   4,   4,   4,   4,   4,   5,   5,   5,   5,   5,   6,   6,\n",
      "           6,   6,   6,   6,   7,   7,   7,   7,   7,   7,   7,   8,   8,   8,\n",
      "          10,  10,  10,  10,  10,  10,  10,  10,  11,  11,  11,  11,  11,  11,\n",
      "          11,  11,  11,  12,  12,  12,  12,  12,  12,  12,  12,  12,  12,  12,\n",
      "          12,  12,  12,  13,  13,  13,  13,  13,  13,  13,  13,  13,  14,  14,\n",
      "          14,  14,  14,  14,  14,  14,  14,   4,   4,   4,   4,   4,   4,   8,\n",
      "          10,  10,  10,  10,   3,   3,   4,   4,   4,   4,  10,  10,  10,   4,\n",
      "          10,  10,  10],\n",
      "        [ 11,  13,  15,  16,  21,  23,  30,  31,  38,  40,  41,  43,  44,  46,\n",
      "          48,  53,  54,  62,  63,  13,  15,  21,  23,  30,  31,  34,  49,  52,\n",
      "          59,  63,  13,  21,  38,  43,  46,  59,  62,   5,   9,  11,  19,  23,\n",
      "          30,  31,  34,  53,  54,  59,  63,   8,  15,  31,  38,  59,  11,  15,\n",
      "          30,  31,  38,  59,   8,  15,  21,  31,  38,  40,  59,  31,  59,  62,\n",
      "           5,   9,  11,  15,  23,  30,  31,  54,  13,  15,  23,  30,  31,  38,\n",
      "          53,  54,  62,   8,  11,  13,  15,  16,  21,  29,  30,  31,  40,  44,\n",
      "          49,  62,  63,  11,  13,  15,  30,  38,  43,  46,  49,  62,   8,  15,\n",
      "          21,  30,  31,  33,  38,  59,  62,  89, 101, 104, 107, 113, 117, 140,\n",
      "         149, 161, 162, 172, 211, 212, 223, 225, 226, 227, 270, 271, 272, 294,\n",
      "         297, 298, 302]]) 143\n"
     ]
    },
    {
     "name": "stderr",
     "output_type": "stream",
     "text": [
      "100%|██████████| 51/51 [00:02<00:00, 22.00it/s]\n"
     ]
    },
    {
     "name": "stdout",
     "output_type": "stream",
     "text": [
      "Fine-Tune Epoch 1/3 | Train Loss: 2.5935 | Val Loss: 2.2595\n"
     ]
    },
    {
     "name": "stderr",
     "output_type": "stream",
     "text": [
      "100%|██████████| 51/51 [00:02<00:00, 23.92it/s]\n"
     ]
    },
    {
     "name": "stdout",
     "output_type": "stream",
     "text": [
      "Fine-Tune Epoch 2/3 | Train Loss: 2.4452 | Val Loss: 2.1607\n"
     ]
    },
    {
     "name": "stderr",
     "output_type": "stream",
     "text": [
      "100%|██████████| 51/51 [00:02<00:00, 25.21it/s]\n"
     ]
    },
    {
     "name": "stdout",
     "output_type": "stream",
     "text": [
      "Fine-Tune Epoch 3/3 | Train Loss: 2.3716 | Val Loss: 2.0932\n"
     ]
    },
    {
     "name": "stderr",
     "output_type": "stream",
     "text": [
      "100%|██████████| 51/51 [00:03<00:00, 15.40it/s]\n"
     ]
    },
    {
     "name": "stdout",
     "output_type": "stream",
     "text": [
      "Epoch 22/100 | Train Loss: 2.1319 | Val Loss: 25.0826 | Val Accuracy: 0.3554\n"
     ]
    },
    {
     "name": "stderr",
     "output_type": "stream",
     "text": [
      "100%|██████████| 51/51 [00:03<00:00, 13.99it/s]\n"
     ]
    },
    {
     "name": "stdout",
     "output_type": "stream",
     "text": [
      "Epoch 23/100 | Train Loss: 2.0478 | Val Loss: 24.9706 | Val Accuracy: 0.3544\n"
     ]
    },
    {
     "name": "stderr",
     "output_type": "stream",
     "text": [
      "100%|██████████| 51/51 [00:03<00:00, 14.09it/s]\n"
     ]
    },
    {
     "name": "stdout",
     "output_type": "stream",
     "text": [
      "Epoch 24/100 | Train Loss: 2.0369 | Val Loss: 24.8764 | Val Accuracy: 0.3577\n"
     ]
    },
    {
     "name": "stderr",
     "output_type": "stream",
     "text": [
      "100%|██████████| 51/51 [00:04<00:00, 12.51it/s]\n"
     ]
    },
    {
     "name": "stdout",
     "output_type": "stream",
     "text": [
      "Epoch 25/100 | Train Loss: 2.0187 | Val Loss: 24.8099 | Val Accuracy: 0.3559\n",
      "Edge metrics: tensor([2.3045e-01, 2.6253e-01, 0.0000e+00, 3.6199e-01, 1.5910e-01, 1.3573e-01,\n",
      "        9.2469e-02, 2.9107e-01, 2.2501e-01, 1.5413e-01, 2.7616e-01, 1.9605e-01,\n",
      "        2.1560e-01, 9.8640e-02, 6.5805e-02, 1.7595e-01, 9.6726e-02, 1.9427e-01,\n",
      "        1.8527e-01, 8.8055e-03, 1.8568e-01, 2.1786e-01, 1.6051e-01, 8.0490e-02,\n",
      "        5.3275e-06, 2.9818e-01, 3.5662e-01, 1.1523e-01, 1.3430e-01, 1.8053e-01,\n",
      "        1.9448e-02, 4.0661e-01, 4.4946e-01, 8.2423e-03, 9.7742e-02, 2.2544e-01,\n",
      "        1.3038e-01, 1.8706e-01, 5.3993e-02, 7.4995e-02, 0.0000e+00, 2.6094e-01,\n",
      "        1.8072e-01, 2.0118e-01, 6.1392e-02, 2.3671e-01, 1.9633e-01, 1.9090e-01,\n",
      "        1.2920e-01, 2.2775e-01, 5.7410e-02, 1.5675e-01, 2.1707e-01, 1.9407e-01,\n",
      "        2.6020e-05, 2.4840e-01, 2.3557e-01, 2.4627e-01, 1.9091e-01, 2.6308e-02,\n",
      "        2.0697e-01, 1.4628e-01, 1.2389e-01, 1.7847e-01, 1.1453e-01, 5.3529e-02,\n",
      "        8.9793e-02, 1.2471e-01, 7.1853e-02, 0.0000e+00, 6.2638e-02, 5.7955e-02,\n",
      "        5.6779e-02, 5.6066e-02, 7.3491e-02, 1.7448e-02, 1.2102e-01, 4.7968e-02,\n",
      "        2.7088e-02, 6.9318e-02, 3.3154e-03, 8.4360e-02, 7.5512e-02, 7.1473e-02,\n",
      "        7.9940e-02, 1.7375e-02, 7.0025e-02, 4.9667e-02, 4.1108e-02, 8.3203e-03,\n",
      "        5.9013e-02, 1.0070e-01, 7.9307e-02, 3.1591e-03, 8.3536e-02, 7.0938e-02,\n",
      "        1.5843e-01, 6.6356e-02, 8.7063e-02, 2.1860e-02, 6.5341e-07, 7.4383e-02,\n",
      "        1.0050e-01, 1.3970e-03, 4.2531e-02, 2.8588e-02, 9.2624e-02, 5.7786e-02,\n",
      "        4.4843e-02, 7.2022e-02, 8.7971e-02, 7.0257e-02, 1.6198e-02, 8.6515e-02,\n",
      "        1.3193e-01, 4.5600e-02, 1.1701e-03, 9.2618e-02, 3.8597e-02, 2.2165e-02,\n",
      "        5.9243e-02, 8.7088e-02, 1.4893e-02, 9.6080e-02, 3.9641e-03, 2.4774e-02,\n",
      "        4.1254e-02, 1.5648e-03, 1.6329e-02, 2.3582e-01, 2.2456e-01, 1.1651e-01,\n",
      "        2.9717e-01, 5.2098e-02, 3.8432e-01, 1.8593e-01, 1.5788e-01, 1.5581e-01,\n",
      "        5.4489e-02, 1.2350e-01, 1.3996e-01, 2.6794e-02, 1.5101e-01, 8.5399e-02,\n",
      "        2.4339e-05, 2.1516e-01, 2.3933e-01, 8.6918e-02, 1.1194e-01, 1.9192e-01,\n",
      "        2.9040e-01, 2.5006e-01, 1.5369e-01, 8.2795e-03, 1.0934e-01, 9.6618e-02,\n",
      "        5.0363e-02, 1.1188e-01, 1.5086e-01, 4.6602e-02, 2.5329e-01, 2.7056e-01,\n",
      "        2.6047e-01, 2.2445e-01, 2.4340e-01, 5.5812e-04, 5.2289e-01, 1.7225e-01,\n",
      "        4.9916e-01, 4.7071e-01, 4.8785e-01, 1.9047e-01, 5.6730e-02, 1.3588e-01,\n",
      "        1.0547e-01, 1.1972e-01, 3.4237e-02, 7.4528e-02, 1.2287e-02, 1.7201e-01,\n",
      "        7.7962e-02, 3.9605e-02, 1.0234e-01, 1.2667e-01, 9.8356e-02, 1.1394e-01,\n",
      "        1.2430e-01, 4.2651e-02, 1.0988e-01, 7.1751e-02, 4.2874e-02, 2.1593e-01,\n",
      "        1.5904e-01, 2.5429e-02, 1.1132e-01, 1.2674e-01, 8.1027e-02, 4.8423e-02,\n",
      "        2.6187e-06, 2.3269e-01, 1.3611e-01, 6.3133e-02, 6.7542e-02, 9.9489e-02,\n",
      "        7.3552e-02, 7.5630e-02, 1.0949e-01, 1.2933e-01, 1.1315e-01, 1.8182e-01,\n",
      "        4.3849e-02, 3.6174e-03, 1.1994e-01, 3.8509e-02, 1.6491e-02, 1.9469e-02,\n",
      "        4.2324e-02, 6.1400e-02, 4.8580e-03, 8.4492e-03, 2.2568e-01, 0.0000e+00,\n",
      "        1.6731e-01, 1.2033e-01, 1.6222e-01, 1.4168e-01, 1.4494e-01, 3.9594e-02,\n",
      "        1.1253e-01, 5.1060e-02, 1.2215e-01, 1.1634e-01, 9.9661e-02, 1.2574e-01,\n",
      "        3.5273e-02, 1.2179e-01, 1.4095e-01, 1.5180e-01, 1.8560e-01, 1.3192e-01,\n",
      "        1.0024e-02, 1.1913e-01, 9.4368e-02, 5.3116e-02, 9.5774e-07, 2.3263e-01,\n",
      "        1.7116e-01, 8.5971e-02, 7.1996e-02, 1.3727e-01, 9.6450e-02, 8.0339e-02,\n",
      "        1.6564e-01, 1.3914e-01, 7.7813e-02, 1.6185e-01, 2.3248e-01, 1.4178e-01,\n",
      "        3.7038e-03, 3.0335e-01, 1.3809e-01, 8.1171e-02, 1.6465e-01, 3.4872e-02,\n",
      "        4.9960e-02, 9.8165e-02, 5.4903e-03, 5.3347e-02, 2.0054e-01, 2.6393e-01,\n",
      "        1.3221e-01, 1.4518e-01, 1.6679e-02, 1.9711e-01, 1.8073e-01, 7.6154e-02,\n",
      "        1.7054e-01, 1.8435e-01, 1.5603e-01, 1.2065e-01, 1.9082e-01, 5.0654e-02,\n",
      "        7.7487e-02, 1.1472e-01, 2.0356e-01, 2.1502e-01, 1.6724e-02, 1.8855e-01,\n",
      "        1.1810e-01, 6.9013e-02, 4.6442e-06, 1.9330e-01, 1.2820e-01, 1.0352e-01,\n",
      "        1.8691e-01, 6.9726e-02, 1.2955e-01, 1.8302e-01, 1.4029e-01, 7.8561e-02,\n",
      "        2.2049e-01, 1.0944e-01, 7.1500e-03, 1.3387e-01, 8.7554e-02, 3.9652e-02,\n",
      "        3.5439e-02, 6.0905e-02, 8.4087e-03, 2.7571e-02, 0.0000e+00, 1.9976e-01,\n",
      "        1.2731e-01, 1.6957e-01, 4.1999e-02, 9.2108e-02, 1.2488e-01, 1.0732e-01,\n",
      "        2.0995e-01, 2.8202e-01, 7.8418e-02, 9.6212e-02, 1.1613e-01, 1.2668e-01,\n",
      "        1.7040e-01, 1.4009e-01, 2.4415e-02, 1.3326e-01, 1.6974e-01, 1.1269e-01,\n",
      "        4.3267e-06, 3.5943e-01, 3.3873e-01, 2.1597e-01, 3.7792e-01, 1.4240e-01,\n",
      "        1.2586e-02, 2.2699e-01, 1.0581e-01, 7.8483e-02, 1.4130e-01, 7.5863e-02,\n",
      "        8.7061e-02, 8.7996e-02, 5.3084e-02, 6.4073e-02, 6.6661e-02, 6.3771e-02,\n",
      "        0.0000e+00, 6.3946e-02, 1.2593e-01, 9.2710e-02, 5.7916e-02, 6.5386e-02,\n",
      "        6.0446e-03, 1.1034e-01, 7.0275e-02, 3.4401e-02, 6.2652e-02, 2.7343e-03,\n",
      "        8.6783e-02, 7.9026e-02, 7.5311e-02, 5.0448e-02, 2.5534e-02, 7.1904e-02,\n",
      "        4.2902e-02, 3.2151e-02, 9.8679e-03, 6.5086e-02, 1.0276e-01, 8.1141e-02,\n",
      "        5.8142e-03, 9.1624e-02, 1.4227e-01, 8.7613e-02, 8.3847e-02, 8.2616e-02,\n",
      "        2.5615e-02, 6.6392e-07, 1.4437e-01, 9.3590e-02, 3.9268e-03, 5.7383e-02,\n",
      "        3.3418e-02, 1.0658e-01, 3.7729e-02, 4.2055e-02, 7.0669e-02, 6.8981e-02,\n",
      "        6.4714e-02, 1.6765e-02, 4.1695e-02, 1.2101e-01, 2.5176e-02, 3.1946e-03,\n",
      "        4.9371e-02, 2.1802e-02, 1.1761e-02, 6.1441e-02, 8.9386e-02, 1.7982e-02,\n",
      "        1.0024e-01, 4.1905e-02, 3.1445e-02, 6.6471e-02, 4.2815e-03, 8.5078e-03,\n",
      "        1.3002e-01, 1.9239e-01, 1.0525e-01, 1.8512e-01, 1.9471e-01, 2.0272e-01,\n",
      "        1.8119e-01, 9.8356e-02, 3.8032e-04, 3.3544e-01, 1.0162e-01, 8.7243e-02,\n",
      "        2.4291e-01, 7.0602e-02, 3.2018e-01, 3.5377e-01, 1.5265e-01, 1.7846e-01,\n",
      "        2.6597e-02, 7.4064e-02, 1.0582e-01, 0.0000e+00, 3.2917e-01, 9.7487e-02,\n",
      "        7.1634e-02, 1.0404e-01, 2.6532e-01, 5.1441e-02, 1.3840e-01, 7.9611e-02,\n",
      "        9.5134e-02, 1.0696e-01, 1.0356e-01, 1.4245e-01, 1.4362e-01, 4.5374e-02,\n",
      "        9.2042e-02, 7.5112e-02, 1.1497e-01, 1.2623e-01, 1.3223e-01, 2.8418e-02,\n",
      "        1.1540e-01, 1.4674e-01, 1.4043e-01, 4.5633e-02, 7.5375e-06, 1.5334e-01,\n",
      "        1.3838e-01, 6.9368e-02, 5.4791e-02, 2.5904e-01, 8.2162e-02, 9.8336e-02,\n",
      "        7.9354e-02, 1.7122e-01, 1.1743e-01, 7.3421e-02, 1.2086e-01, 2.1697e-01,\n",
      "        1.8902e-01, 6.8195e-03, 3.1472e-01, 8.5238e-02, 1.4248e-01, 6.0294e-02,\n",
      "        1.2471e-01, 1.7295e-02, 6.2153e-02, 6.8940e-02, 6.2106e-02, 1.9337e-01,\n",
      "        0.0000e+00, 2.4011e-01, 2.1883e-01, 1.6923e-01, 2.1029e-01, 4.4197e-02,\n",
      "        1.2151e-01, 2.8950e-01, 2.0265e-01, 2.7269e-01, 1.7025e-01, 1.1067e-01,\n",
      "        2.0377e-01, 2.2840e-01, 2.2855e-01, 2.4763e-01, 1.4372e-01, 1.3533e-01,\n",
      "        1.8750e-04, 2.1934e-01, 2.9469e-01, 2.0439e-01, 3.2835e-01, 1.0711e-01,\n",
      "        1.8398e-01, 8.0075e-02, 2.1288e-01, 2.7468e-02, 2.0547e-01, 1.7456e-01,\n",
      "        1.1372e-01, 1.3768e-01, 1.0364e-01, 4.1772e-02, 1.6346e-01, 8.6160e-02,\n",
      "        1.0167e-01, 0.0000e+00, 2.2829e-01, 1.5128e-01, 7.7834e-02, 5.6308e-02,\n",
      "        2.7174e-01, 3.9471e-02, 1.5426e-01, 1.5485e-01, 1.2828e-01, 1.4038e-01,\n",
      "        2.4975e-01, 1.0340e-01, 8.5021e-02, 1.0343e-01, 2.2902e-01, 7.8552e-02,\n",
      "        8.8278e-02, 1.1830e-01, 2.2698e-02, 9.6967e-02, 1.8588e-01, 2.5103e-01,\n",
      "        1.0798e-01, 5.8828e-02, 1.0537e-05, 1.3151e-01, 3.2033e-01, 9.5862e-02,\n",
      "        7.3854e-02, 3.5040e-01, 7.1305e-02, 2.2665e-01, 1.4234e-01, 4.3051e-02,\n",
      "        1.7659e-01, 1.7049e-02, 1.9592e-01, 1.8070e-01, 1.2133e-01, 6.6383e-02,\n",
      "        1.1386e-01, 7.7700e-02, 9.2054e-02, 1.3941e-02, 1.0421e-01, 1.0454e-01,\n",
      "        5.0108e-02, 6.7240e-02, 1.1836e-01, 0.0000e+00, 1.7144e-01, 1.7444e-01,\n",
      "        1.0185e-01, 1.0647e-01, 3.3998e-02, 2.2543e-01, 1.2646e-01, 8.0311e-02,\n",
      "        1.1057e-01, 1.6793e-01, 1.3239e-01, 1.6961e-01, 1.9913e-01, 4.9598e-02,\n",
      "        1.2079e-01, 1.3361e-01, 1.8565e-01, 1.3821e-02, 1.4555e-01, 1.5802e-01,\n",
      "        6.2817e-02, 1.2273e-05, 2.0077e-01, 2.3855e-01, 7.7668e-02, 8.0618e-02,\n",
      "        2.4508e-01, 7.5352e-02, 1.0671e-01, 1.3628e-01, 2.1079e-01, 1.6032e-01,\n",
      "        9.4922e-02, 2.8898e-01, 1.2947e-01, 6.3525e-03, 2.0001e-01, 9.2749e-02,\n",
      "        8.9176e-02, 5.7183e-02, 7.2495e-02, 9.0351e-02, 3.5767e-02, 2.7655e-02,\n",
      "        5.2800e-02, 2.5669e-01, 9.2529e-02, 2.4809e-02, 1.8741e-01, 2.0270e-02,\n",
      "        6.8692e-02, 6.1999e-02, 1.4949e-02, 1.8175e-01, 9.6125e-02, 3.6328e-03,\n",
      "        1.7012e-01, 2.3954e-01, 1.8089e-01, 1.8107e-01, 4.2941e-02, 0.0000e+00,\n",
      "        2.0882e-01, 9.6473e-02, 1.3344e-01, 1.8609e-01, 8.8344e-02, 4.3606e-01,\n",
      "        0.0000e+00, 3.8992e-02, 1.2748e-01, 1.6077e-01, 3.7455e-01, 3.8164e-02,\n",
      "        1.2278e-01, 8.3260e-02, 1.7837e-02, 3.5000e-01, 2.5616e-02, 5.2424e-01,\n",
      "        4.8886e-01, 1.2568e-01, 9.3015e-02, 2.6732e-01, 1.2479e-01, 4.0706e-02,\n",
      "        4.5755e-02, 1.6282e-01, 2.4185e-01, 1.8456e-01, 2.6270e-01, 3.4430e-02,\n",
      "        1.2855e-01, 7.9535e-02, 5.8803e-02, 3.0805e-01, 1.0001e-01, 4.6641e-02,\n",
      "        1.3457e-01, 7.2506e-02, 1.3604e-01, 1.5193e-01, 2.8395e-02, 1.4749e-01,\n",
      "        2.4965e-01, 2.5417e-01, 0.0000e+00, 0.0000e+00, 1.7193e-01, 2.4297e-01,\n",
      "        1.7723e-01, 5.0851e-02, 2.0201e-01, 1.1527e-01, 1.7095e-02, 0.0000e+00,\n",
      "        1.0142e-02, 2.3275e-01, 2.4169e-01, 3.2063e-01, 1.0804e-01, 1.0212e-02,\n",
      "        2.2675e-01, 1.9721e-01, 1.3927e-01, 9.3670e-02, 0.0000e+00, 6.1229e-02,\n",
      "        1.4609e-02, 2.5161e-02, 2.6468e-01, 1.0098e-01, 2.8286e-01, 1.1008e-01,\n",
      "        4.2902e-02, 7.6368e-02, 7.4511e-02, 3.1888e-02, 2.1752e-02, 3.1357e-02,\n",
      "        1.2659e-01, 9.8546e-02, 5.9272e-02, 7.1291e-02, 7.0993e-02, 6.4294e-02,\n",
      "        2.1781e-02, 8.9880e-02, 8.0919e-02, 1.5111e-01, 1.0940e-01, 2.6401e-01,\n",
      "        4.5360e-02, 9.2999e-02, 2.7834e-01, 6.0997e-02, 5.9978e-02, 0.0000e+00,\n",
      "        6.2267e-03, 9.6445e-02, 1.6274e-01, 1.4031e-01, 9.4663e-02, 1.3351e-01,\n",
      "        6.0924e-02, 3.0347e-01, 0.0000e+00, 1.3489e-01, 6.1536e-03, 4.2929e-03,\n",
      "        2.5935e-01, 2.1866e-01, 2.0659e-01, 9.4012e-02, 9.7865e-02, 3.0773e-01,\n",
      "        2.2464e-02, 1.4199e-01, 5.6334e-03, 9.7507e-02, 1.6876e-02, 2.4429e-02,\n",
      "        7.3700e-02, 8.7507e-02, 0.0000e+00, 1.9187e-02, 1.1009e-01, 6.8543e-02,\n",
      "        3.4379e-02, 4.8763e-02, 6.1849e-02, 7.5122e-02, 2.6564e-01, 4.2531e-02,\n",
      "        1.6366e-02, 1.1659e-01, 2.3734e-01, 2.7504e-02, 2.3523e-02, 5.8038e-02,\n",
      "        0.0000e+00, 2.8139e-02, 1.4554e-01, 1.4153e-01, 3.9461e-02, 1.1051e-01,\n",
      "        2.0393e-01, 2.7780e-01, 3.0426e-01, 1.5390e-01, 1.9109e-02, 1.4870e-01,\n",
      "        8.5933e-03, 3.3942e-02, 1.7782e-01, 1.0160e-01, 1.7282e-01, 1.5250e-01,\n",
      "        2.6515e-01, 8.1682e-02, 8.3351e-02, 1.6599e-01, 1.6102e-01, 8.5289e-02,\n",
      "        8.9585e-02, 3.5543e-02, 1.6944e-02, 5.4332e-02, 6.3846e-02, 1.0310e-02,\n",
      "        2.8766e-02, 3.1761e-03, 1.7786e-02, 6.0235e-02, 8.5733e-02, 2.0604e-01,\n",
      "        4.5128e-02, 4.3113e-02, 2.9962e-02, 7.1340e-02, 8.1773e-03, 1.5892e-01,\n",
      "        1.3477e-01, 2.0090e-01, 6.7427e-02, 5.6497e-02, 4.8570e-01, 8.2472e-02,\n",
      "        3.1001e-01, 8.3180e-02, 6.5997e-02, 7.9770e-02, 1.6591e-02, 1.0958e-01,\n",
      "        9.3316e-02, 4.6226e-02, 1.1029e-01, 2.4941e-03, 4.9131e-02, 1.2116e-01,\n",
      "        1.4466e-01, 3.7409e-02, 5.0123e-02, 1.4749e-01, 1.7669e-01, 3.4125e-01,\n",
      "        4.4360e-03, 1.4057e-01, 1.7711e-02, 2.5533e-02, 2.7193e-02, 1.0321e-01,\n",
      "        1.4098e-01, 3.2681e-01, 2.0836e-01, 2.7506e-01, 2.2163e-01, 7.1591e-03,\n",
      "        4.5238e-02, 4.5978e-02, 4.0473e-01, 3.4054e-03, 1.3984e-02, 2.0367e-02,\n",
      "        4.1740e-03, 6.6021e-03, 2.7557e-01, 1.0707e-01, 3.4073e-01, 1.3029e-02,\n",
      "        1.2155e-01, 1.6720e-01, 3.7236e-01, 1.5353e-01, 2.0301e-01, 1.7342e-01,\n",
      "        1.5854e-02, 7.9932e-02, 1.7851e-01, 4.6130e-03, 1.1649e-01, 1.0506e-03,\n",
      "        1.9938e-03, 3.8614e-02, 1.7246e-02, 1.8746e-02, 3.8823e-01, 5.1494e-03,\n",
      "        7.0154e-03, 1.1171e-01, 3.1229e-03, 4.0351e-02, 2.7733e-01, 8.9352e-03,\n",
      "        4.3620e-02, 8.9321e-03, 1.6382e-01, 6.6020e-02, 1.4271e-03, 6.6412e-02,\n",
      "        1.4063e-01, 2.2806e-01, 3.6599e-02, 2.5260e-01, 6.1879e-02, 7.1312e-02,\n",
      "        1.3395e-01, 3.7422e-02, 1.5815e-03, 1.7757e-01, 4.2873e-02, 1.6419e-01,\n",
      "        3.2737e-03, 1.3864e-01, 1.1360e-01, 3.2922e-03, 4.0505e-02, 7.4552e-02,\n",
      "        1.1471e-01, 1.2549e-03, 1.9377e-01, 9.4688e-02, 1.5675e-01, 2.5385e-01,\n",
      "        1.6347e-01, 1.7930e-02, 1.6499e-01, 3.2554e-01, 1.3396e-02, 3.7926e-02,\n",
      "        1.1250e-01, 1.1101e-02, 4.6530e-03, 7.3232e-02, 5.1689e-03, 1.2534e-01,\n",
      "        1.6002e-02, 2.8297e-01, 1.3214e-02, 1.3564e-01, 4.9887e-03, 7.9932e-02,\n",
      "        2.8089e-02, 2.6706e-01, 1.4184e-01, 7.4404e-04, 1.4965e-02, 3.8188e-03,\n",
      "        2.1491e-01, 7.2792e-02, 1.0354e-01, 1.3965e-02, 4.2912e-01, 7.9112e-03,\n",
      "        1.4110e-01, 1.4096e-01, 9.4977e-02, 3.8186e-01, 2.6253e-03, 2.6972e-01,\n",
      "        3.7684e-02, 1.7019e-01, 6.4177e-03, 2.2553e-01, 2.0623e-01, 1.5681e-03,\n",
      "        6.3123e-02, 1.9550e-01, 3.0385e-02, 1.8982e-02, 6.5581e-02, 2.5075e-01]) tensor(0.5242) tensor(110.8577)\n",
      "Chosen edges: tensor([[  0,   0,   0,   0,   0,   0,   0,   0,   0,   0,   0,   0,   0,   1,\n",
      "           1,   1,   1,   1,   1,   1,   1,   1,   3,   3,   3,   3,   3,   3,\n",
      "           3,   3,   4,   4,   4,   4,   4,   4,   4,   4,   4,   5,   5,   6,\n",
      "           6,   6,   6,   7,   7,   7,   7,   7,   8,   8,   8,   8,   8,   8,\n",
      "           8,  10,  10,  10,  10,  10,  11,  11,  11,  11,  11,  12,  12,  12,\n",
      "          12,  12,  12,  12,  12,  12,  12,  12,  12,  12,  12,  12,  12,  13,\n",
      "          13,  13,  13,  13,  13,  13,  13,  14,  14,  14,  14,  14,  14,  14,\n",
      "           1,   3,   3,   3,   4,   4,   4,   4,   4,   4,   5,   7,   8,   8,\n",
      "           8,   8,  10,  10,  10,  10,  10,  12,   1,   1,   3,   3,   3,   3,\n",
      "           3,   6,   6,   8,   8,   8,   8,  12,   4,  10,  10,   0,   1,   1,\n",
      "           1,   1,   3,   4,   4,   4,   4,   6,   7,  10,  10,  12,  12,  13,\n",
      "          14,   4,   4,  10,   3,   4,   4,  10],\n",
      "        [  1,   2,   5,   9,  10,  14,  18,  32,  36,  37,  49,  50,  56,   5,\n",
      "           9,  16,  26,  32,  36,  41,  45,  53,   5,   6,   9,  11,  36,  37,\n",
      "          44,  49,   1,   6,   7,  12,  14,  36,  45,  50,  52,  26,  36,   1,\n",
      "          36,  49,  52,   5,   6,  25,  26,  49,  18,  19,  36,  37,  41,  49,\n",
      "          52,  19,  36,  45,  50,  52,   5,   9,  41,  49,  52,   5,   6,   9,\n",
      "          14,  17,  18,  23,  25,  26,  32,  36,  37,  39,  41,  50,  52,   5,\n",
      "           9,  18,  23,  32,  37,  41,  44,  11,  36,  37,  41,  45,  49,  52,\n",
      "          66,  78,  83,  88,  95, 102, 105, 106, 110, 116, 119, 124, 133, 135,\n",
      "         139, 143, 150, 151, 152, 157, 171, 174, 193, 196, 207, 214, 215, 216,\n",
      "         219, 240, 244, 254, 255, 256, 266, 286, 295, 300, 303, 320, 328, 329,\n",
      "         330, 331, 335, 341, 343, 347, 349, 361, 367, 376, 378, 398, 402, 412,\n",
      "         418, 423, 427, 432, 434, 438, 439, 446]]) 162\n"
     ]
    },
    {
     "name": "stderr",
     "output_type": "stream",
     "text": [
      "100%|██████████| 51/51 [00:02<00:00, 23.85it/s]\n"
     ]
    },
    {
     "name": "stdout",
     "output_type": "stream",
     "text": [
      "Fine-Tune Epoch 1/3 | Train Loss: 2.3699 | Val Loss: 2.1851\n"
     ]
    },
    {
     "name": "stderr",
     "output_type": "stream",
     "text": [
      "100%|██████████| 51/51 [00:02<00:00, 23.99it/s]\n"
     ]
    },
    {
     "name": "stdout",
     "output_type": "stream",
     "text": [
      "Fine-Tune Epoch 2/3 | Train Loss: 2.3021 | Val Loss: 2.1356\n"
     ]
    },
    {
     "name": "stderr",
     "output_type": "stream",
     "text": [
      "100%|██████████| 51/51 [00:01<00:00, 27.78it/s]\n"
     ]
    },
    {
     "name": "stdout",
     "output_type": "stream",
     "text": [
      "Fine-Tune Epoch 3/3 | Train Loss: 2.2565 | Val Loss: 2.0974\n"
     ]
    },
    {
     "name": "stderr",
     "output_type": "stream",
     "text": [
      "100%|██████████| 51/51 [00:02<00:00, 21.06it/s]\n"
     ]
    },
    {
     "name": "stdout",
     "output_type": "stream",
     "text": [
      "Epoch 26/100 | Train Loss: 2.1266 | Val Loss: 25.2556 | Val Accuracy: 0.3547\n"
     ]
    },
    {
     "name": "stderr",
     "output_type": "stream",
     "text": [
      "100%|██████████| 51/51 [00:03<00:00, 14.49it/s]\n"
     ]
    },
    {
     "name": "stdout",
     "output_type": "stream",
     "text": [
      "Epoch 27/100 | Train Loss: 2.0632 | Val Loss: 25.0620 | Val Accuracy: 0.3561\n"
     ]
    },
    {
     "name": "stderr",
     "output_type": "stream",
     "text": [
      "100%|██████████| 51/51 [00:03<00:00, 14.75it/s]\n"
     ]
    },
    {
     "name": "stdout",
     "output_type": "stream",
     "text": [
      "Epoch 28/100 | Train Loss: 2.0438 | Val Loss: 24.9583 | Val Accuracy: 0.3567\n"
     ]
    },
    {
     "name": "stderr",
     "output_type": "stream",
     "text": [
      "100%|██████████| 51/51 [00:03<00:00, 14.31it/s]\n"
     ]
    },
    {
     "name": "stdout",
     "output_type": "stream",
     "text": [
      "Epoch 29/100 | Train Loss: 2.0264 | Val Loss: 24.8684 | Val Accuracy: 0.3554\n"
     ]
    },
    {
     "name": "stderr",
     "output_type": "stream",
     "text": [
      "100%|██████████| 51/51 [00:03<00:00, 13.39it/s]\n"
     ]
    },
    {
     "name": "stdout",
     "output_type": "stream",
     "text": [
      "Epoch 30/100 | Train Loss: 2.0227 | Val Loss: 24.8011 | Val Accuracy: 0.3574\n",
      "Edge metrics: tensor([0.0000e+00, 1.4410e-01, 2.2702e-01, 6.8547e-02, 1.0366e-01, 2.4592e-01,\n",
      "        1.5493e-01, 2.3082e-01, 2.4762e-01, 8.6799e-04, 2.5302e-01, 1.4111e-01,\n",
      "        4.1642e-02, 1.4471e-01, 2.3093e-01, 5.4192e-02, 0.0000e+00, 4.3458e-01,\n",
      "        1.2569e-01, 1.2928e-02, 2.6068e-02, 1.0275e-01, 7.6825e-02, 5.9554e-02,\n",
      "        1.7924e-01, 8.6467e-02, 2.4908e-01, 0.0000e+00, 3.0138e-01, 2.5617e-01,\n",
      "        3.1874e-01, 3.0470e-01, 2.4007e-01, 9.7364e-02, 1.6140e-01, 3.9511e-01,\n",
      "        0.0000e+00, 2.3908e-01, 1.0787e-01, 1.1839e-01, 8.5063e-02, 2.5789e-01,\n",
      "        1.5659e-01, 2.9388e-02, 4.4230e-02, 4.6802e-02, 3.8237e-02, 0.0000e+00,\n",
      "        1.0597e-02, 2.1792e-02, 9.0711e-02, 4.2988e-02, 2.1895e-02, 4.5311e-02,\n",
      "        6.5258e-02, 1.7790e-02, 1.4148e-02, 5.5569e-02, 7.6945e-03, 7.4626e-02,\n",
      "        9.2311e-02, 3.8320e-03, 8.5079e-02, 3.9888e-02, 4.7033e-02, 4.2743e-02,\n",
      "        4.2888e-02, 1.5951e-02, 2.3201e-04, 1.0798e-01, 5.1141e-02, 8.6229e-03,\n",
      "        5.9565e-02, 3.0700e-02, 8.8121e-02, 2.4949e-02, 1.0715e-01, 6.7725e-03,\n",
      "        0.0000e+00, 1.3938e-02, 9.8599e-03, 0.0000e+00, 1.2760e-01, 1.5204e-02,\n",
      "        2.0718e-03, 4.9039e-02, 2.4664e-02, 2.6323e-02, 5.4801e-04, 6.4177e-02,\n",
      "        1.7223e-02, 6.5358e-02, 1.4207e-02, 1.8800e-02, 1.9251e-02, 4.0688e-03,\n",
      "        2.3428e-02, 9.3026e-03, 4.5765e-02, 5.0792e-02, 5.2184e-03, 8.8285e-02,\n",
      "        1.0826e-02, 7.3026e-02, 6.4340e-03, 4.9724e-07, 1.5711e-02, 2.4336e-01,\n",
      "        1.5393e-01, 1.5284e-01, 3.3512e-01, 3.9283e-02, 2.7642e-01, 2.9129e-01,\n",
      "        1.9110e-01, 7.2198e-02, 1.9026e-01, 6.0339e-02, 0.0000e+00, 3.0635e-01,\n",
      "        1.2182e-01, 2.2256e-02, 1.1118e-01, 1.0374e-01, 8.1695e-02, 4.3352e-02,\n",
      "        3.2440e-02, 2.6294e-01, 7.1967e-02, 6.5280e-02, 0.0000e+00, 7.1326e-01,\n",
      "        1.1785e-01, 3.7982e-02, 1.0407e-01, 2.9719e-02, 8.0141e-02, 1.2934e-01,\n",
      "        2.6218e-02, 5.7648e-02, 1.3739e-01, 4.5230e-02, 3.8330e-02, 1.1479e-01,\n",
      "        1.2910e-01, 1.6358e-01, 2.2983e-02, 1.5725e-01, 8.5178e-02, 1.0814e-01,\n",
      "        8.4952e-02, 5.7150e-02, 1.2915e-01, 3.2837e-02, 1.0638e-01, 1.1027e-01,\n",
      "        5.5189e-02, 2.6493e-02, 0.0000e+00, 3.1215e-02, 1.9741e-01, 6.0031e-02,\n",
      "        6.9802e-03, 6.7247e-02, 4.9178e-02, 6.7751e-02, 3.5545e-04, 1.2666e-01,\n",
      "        3.7202e-02, 4.6285e-02, 3.7370e-02, 1.2031e-02, 2.8443e-02, 6.4497e-03,\n",
      "        1.7169e-02, 1.2708e-01, 2.3327e-02, 1.7681e-06, 1.3704e-02, 0.0000e+00,\n",
      "        5.1985e-02, 1.0456e-01, 3.5402e-01, 1.3604e-01, 6.8723e-02, 9.5395e-02,\n",
      "        8.0562e-02, 3.8828e-02, 1.7657e-01, 1.5875e-01, 1.4018e-01, 1.5141e-02,\n",
      "        1.6825e-01, 9.4742e-02, 1.0829e-01, 1.2539e-03, 2.1515e-01, 1.1463e-01,\n",
      "        3.9721e-02, 9.6057e-02, 1.0492e-01, 3.7241e-02, 0.0000e+00, 5.7649e-02,\n",
      "        3.3708e-01, 6.9066e-02, 1.0725e-02, 1.1206e-01, 8.0045e-02, 1.1653e-01,\n",
      "        2.6338e-01, 5.6353e-02, 1.7599e-01, 4.2635e-02, 5.5152e-02, 9.6569e-02,\n",
      "        3.6127e-02, 1.3725e-01, 1.7661e-02, 1.6459e-01, 4.2196e-02, 4.2513e-06,\n",
      "        6.8693e-02, 3.1307e-01, 3.7488e-02, 1.1804e-01, 2.7267e-01, 1.2906e-01,\n",
      "        6.2471e-02, 2.4463e-01, 2.0137e-01, 2.2088e-01, 1.4061e-02, 2.9752e-01,\n",
      "        1.5239e-01, 1.4654e-01, 1.2884e-01, 4.2172e-02, 1.7165e-01, 1.1184e-01,\n",
      "        5.4316e-02, 0.0000e+00, 2.1574e-02, 5.2491e-02, 3.4745e-01, 1.0199e-02,\n",
      "        7.9339e-02, 1.1218e-01, 8.4526e-04, 2.3952e-01, 8.5022e-02, 5.3590e-02,\n",
      "        6.5815e-02, 1.6386e-02, 5.0733e-02, 1.4960e-02, 2.2889e-02, 2.1637e-01,\n",
      "        5.8356e-06, 3.8480e-02, 0.0000e+00, 3.9290e-02, 1.4119e-01, 4.8666e-02,\n",
      "        1.1543e-01, 5.6057e-02, 1.9802e-01, 1.8023e-01, 2.2314e-01, 8.7727e-02,\n",
      "        1.2989e-01, 1.8903e-03, 2.3504e-01, 1.2452e-01, 5.5678e-02, 1.2950e-01,\n",
      "        1.6599e-01, 7.5108e-02, 0.0000e+00, 7.2096e-02, 1.0365e-01, 7.0957e-02,\n",
      "        4.2883e-02, 1.2926e-01, 4.3413e-02, 1.8067e-01, 9.1628e-02, 2.4708e-02,\n",
      "        3.4297e-02, 4.0770e-02, 4.4661e-02, 0.0000e+00, 1.1629e-02, 1.1532e-01,\n",
      "        1.3260e-01, 3.8244e-02, 1.1407e-02, 3.6316e-02, 6.1369e-02, 7.3139e-02,\n",
      "        1.4169e-02, 1.6415e-01, 3.1648e-03, 5.4917e-02, 7.9680e-02, 3.4391e-03,\n",
      "        5.4989e-02, 3.9821e-02, 4.6670e-02, 4.1906e-02, 3.5819e-02, 3.5436e-02,\n",
      "        7.2609e-04, 8.9149e-02, 4.3966e-02, 1.0400e-02, 4.8665e-02, 1.3547e-01,\n",
      "        2.2005e-01, 2.6687e-02, 5.9431e-02, 1.5407e-02, 0.0000e+00, 5.1939e-03,\n",
      "        2.5449e-02, 0.0000e+00, 1.5264e-01, 8.8664e-02, 2.1771e-03, 3.3412e-02,\n",
      "        2.1692e-02, 5.9835e-02, 1.5176e-04, 8.3439e-02, 1.6333e-02, 3.9766e-02,\n",
      "        1.8139e-02, 1.9017e-02, 2.3061e-02, 2.9920e-03, 1.0863e-02, 3.4683e-03,\n",
      "        4.7593e-02, 5.3502e-02, 9.2304e-03, 7.8431e-02, 7.5281e-02, 5.2237e-02,\n",
      "        3.3849e-02, 1.0470e-06, 7.5512e-03, 9.7254e-02, 1.3217e-01, 2.6801e-01,\n",
      "        1.1598e-01, 2.6067e-01, 2.7342e-01, 5.6819e-02, 0.0000e+00, 3.4514e-01,\n",
      "        8.8386e-02, 6.6803e-02, 1.3654e-01, 1.9958e-01, 7.2848e-02, 9.0510e-02,\n",
      "        7.4000e-02, 0.0000e+00, 6.2547e-02, 1.4011e-01, 7.5173e-02, 2.1579e-01,\n",
      "        1.2954e-01, 5.5617e-02, 1.3138e-01, 1.4882e-01, 1.5681e-01, 1.9091e-02,\n",
      "        1.6150e-01, 1.0718e-01, 6.9653e-02, 8.9312e-02, 3.6676e-03, 1.9223e-01,\n",
      "        1.0382e-01, 3.2141e-02, 8.9539e-02, 6.9286e-02, 1.5172e-01, 2.3490e-02,\n",
      "        0.0000e+00, 3.8969e-02, 3.2330e-02, 1.9866e-01, 5.1655e-02, 6.8313e-02,\n",
      "        8.5037e-02, 6.4800e-02, 1.8829e-03, 1.4995e-01, 7.4065e-02, 1.3392e-01,\n",
      "        1.2896e-01, 6.9549e-02, 6.6819e-02, 1.3115e-01, 3.0494e-02, 1.2574e-01,\n",
      "        4.0551e-02, 1.5777e-01, 2.8134e-02, 5.9448e-02, 9.0213e-02, 0.0000e+00,\n",
      "        2.6314e-01, 2.9724e-01, 9.1236e-02, 1.9856e-01, 2.1814e-01, 2.2801e-01,\n",
      "        7.9683e-02, 0.0000e+00, 1.3105e-01, 1.7841e-03, 7.7170e-02, 1.5874e-01,\n",
      "        1.5417e-01, 1.0394e-01, 7.9330e-02, 1.1681e-01, 8.5146e-02, 2.6566e-01,\n",
      "        6.7882e-02, 6.2319e-02, 0.0000e+00, 1.1442e-01, 1.6438e-01, 6.7485e-02,\n",
      "        1.9237e-01, 1.1349e-01, 2.0581e-01, 2.5557e-01, 2.0780e-01, 1.3338e-01,\n",
      "        2.5699e-01, 5.6616e-02, 3.5503e-03, 2.1176e-01, 1.2836e-01, 6.8963e-02,\n",
      "        9.0396e-02, 1.7762e-01, 1.5251e-01, 3.0626e-02, 0.0000e+00, 4.2080e-02,\n",
      "        2.2001e-01, 6.6697e-02, 6.0586e-02, 9.6199e-04, 4.5118e-02, 1.2667e-01,\n",
      "        1.4817e-01, 3.0076e-02, 1.1323e-01, 5.2147e-02, 6.2061e-02, 8.6330e-02,\n",
      "        5.2996e-02, 1.0191e-01, 4.2253e-02, 2.1911e-01, 3.1959e-02, 6.7299e-02,\n",
      "        4.8673e-02, 1.5849e-01, 0.0000e+00, 5.2999e-02, 1.2041e-01, 2.6216e-01,\n",
      "        5.3678e-02, 8.4031e-02, 8.1041e-02, 5.3646e-02, 1.6589e-01, 1.8071e-01,\n",
      "        1.9488e-01, 1.8256e-02, 3.1989e-01, 1.5523e-01, 1.5099e-01, 1.3038e-01,\n",
      "        4.7432e-03, 3.6807e-02, 1.3077e-01, 1.0830e-01, 4.2639e-02, 0.0000e+00,\n",
      "        2.3929e-01, 7.5265e-02, 7.8522e-02, 7.1243e-02, 8.7291e-02, 2.3421e-01,\n",
      "        8.7301e-02, 1.0431e-01, 7.8767e-02, 5.6466e-02, 4.2759e-02, 3.2872e-02,\n",
      "        1.7749e-01, 3.1664e-02, 3.4253e-02, 2.7171e-02, 3.3239e-02, 1.8325e-02,\n",
      "        0.0000e+00, 6.8619e-02, 7.1992e-02, 5.9732e-02, 5.4051e-02, 1.1067e-02,\n",
      "        1.5192e-01, 3.5589e-02, 1.5537e-05, 1.9081e-01, 1.7427e-01, 1.8265e-01,\n",
      "        3.6869e-02, 0.0000e+00, 1.1039e-01, 1.2179e-01, 1.6504e-01, 9.1216e-02,\n",
      "        0.0000e+00, 6.7220e-02, 1.2852e-01, 2.9776e-01, 1.3774e-01, 6.8677e-02,\n",
      "        1.1949e-01, 4.1236e-02, 4.3937e-02, 1.5411e-01, 7.3182e-02, 1.1410e-01,\n",
      "        4.4003e-02, 4.2385e-02, 1.9949e-01, 1.0046e-01, 2.6932e-02, 1.2669e-01,\n",
      "        7.4312e-02, 5.8857e-02, 7.6869e-02, 2.5265e-02, 1.0655e-01, 8.1047e-02,\n",
      "        1.6448e-01, 1.6381e-01, 2.4208e-02, 4.8195e-02, 0.0000e+00, 0.0000e+00,\n",
      "        1.5175e-01, 1.3764e-01, 5.6391e-02, 1.1648e-01, 9.0317e-03, 0.0000e+00,\n",
      "        4.9607e-02, 1.7645e-01, 1.8299e-02, 2.6951e-01, 2.2828e-01, 1.0043e-01,\n",
      "        0.0000e+00, 7.2784e-02, 1.3304e-01, 2.8365e-02, 4.5495e-02, 8.1536e-02,\n",
      "        6.6664e-02, 8.1661e-02, 6.9863e-02, 1.3802e-02, 2.3666e-02, 2.5088e-02,\n",
      "        1.3213e-01, 6.8961e-02, 1.0294e-01, 8.7385e-02, 7.0386e-02, 5.0326e-02,\n",
      "        5.3642e-02, 2.9670e-02, 1.7324e-02, 8.0540e-02, 1.3384e-01, 3.1701e-02,\n",
      "        7.7946e-02, 8.6486e-02, 1.5858e-01, 0.0000e+00, 0.0000e+00, 6.5516e-02,\n",
      "        1.1131e-01, 2.5312e-01, 9.1109e-02, 1.1418e-01, 4.0144e-02, 0.0000e+00,\n",
      "        1.4131e-01, 9.5252e-03, 1.8165e-02, 1.9430e-03, 1.0178e-02, 1.5945e-03,\n",
      "        1.6312e-01, 4.3000e-03, 9.7888e-02, 1.8658e-01, 0.0000e+00, 2.6515e-02,\n",
      "        6.9370e-02, 0.0000e+00, 4.4468e-02, 5.5602e-03, 6.8561e-02, 2.3915e-02,\n",
      "        3.5806e-02, 5.3143e-02, 7.3714e-02, 5.7533e-02, 4.9899e-02, 1.9776e-01,\n",
      "        4.3614e-02, 1.8943e-02, 5.4703e-02, 0.0000e+00, 8.5973e-02, 2.4999e-01,\n",
      "        1.2695e-01, 5.4011e-02, 4.6550e-02, 2.0598e-01, 5.6342e-02, 2.0772e-01,\n",
      "        0.0000e+00, 3.2294e-02, 1.5853e-01, 1.2380e-03, 3.3114e-01, 1.0832e-01,\n",
      "        6.2734e-02, 1.1641e-01, 3.1566e-01, 1.5077e-01, 3.3399e-02, 8.8232e-02,\n",
      "        2.2462e-02, 3.9399e-02, 3.1919e-02, 7.7019e-02, 1.1694e-02, 9.4646e-02,\n",
      "        0.0000e+00, 1.3537e-02, 6.5389e-02, 7.8857e-02, 6.6764e-02, 5.6327e-02,\n",
      "        5.4391e-02, 5.7345e-02, 2.2815e-02, 1.5497e-01, 1.4504e-01, 9.5332e-02,\n",
      "        3.9441e-03, 8.5081e-02, 7.9878e-02, 3.4289e-02, 9.8799e-02, 0.0000e+00,\n",
      "        6.2795e-02, 8.0906e-02, 2.6196e-02, 6.8072e-02, 0.0000e+00, 4.0261e-02,\n",
      "        2.2606e-02, 1.2106e-01, 2.0882e-02, 3.4961e-02, 1.0667e-01, 1.4312e-01,\n",
      "        3.7621e-06, 1.3974e-01, 1.4262e-02, 3.8639e-02, 6.8259e-03, 9.7813e-02,\n",
      "        1.5951e-01, 1.1115e-02, 4.5815e-02, 3.5633e-02, 0.0000e+00, 1.0560e-02,\n",
      "        1.1729e-02, 6.4384e-03, 5.2460e-06, 2.8387e-02, 0.0000e+00, 1.0734e-01,\n",
      "        1.2274e-01, 8.0360e-02, 5.2706e-02, 2.6946e-02, 4.9520e-02, 1.3336e-01,\n",
      "        7.6787e-03, 5.0712e-02, 0.0000e+00, 3.8014e-03, 2.3511e-02, 2.3244e-02,\n",
      "        2.0026e-02, 0.0000e+00, 1.7566e-02, 1.0377e-01, 5.2256e-03, 2.9158e-02,\n",
      "        0.0000e+00, 5.1827e-02, 1.7956e-02, 2.5121e-01, 1.3004e-01, 2.2940e-06,\n",
      "        3.5954e-02, 5.7632e-02, 6.3795e-02, 4.3725e-02, 3.8379e-02, 8.1554e-02,\n",
      "        1.1583e-02, 1.1554e-03, 1.5600e-01, 2.4366e-02, 1.2561e-01, 0.0000e+00,\n",
      "        8.2806e-02, 6.1731e-02, 2.2915e-06, 3.4321e-02, 1.0405e-01, 9.9049e-02,\n",
      "        2.8989e-03, 1.9386e-01, 6.9185e-02, 1.2787e-01, 2.5835e-01, 3.2049e-02,\n",
      "        1.3574e-01, 2.3483e-05, 5.4749e-02, 1.0684e-01, 8.8001e-03, 1.3160e-02,\n",
      "        6.7964e-02, 0.0000e+00, 1.1006e-01, 1.6749e-02, 1.2376e-05, 1.2517e-01,\n",
      "        4.3588e-03, 7.7382e-02, 1.7953e-02, 2.5514e-01, 0.0000e+00, 2.4236e-02,\n",
      "        2.2606e-06, 2.5193e-01, 1.1411e-01, 7.3686e-03, 5.6956e-05, 1.7393e-01,\n",
      "        1.6896e-01, 9.5918e-02, 9.6989e-06, 9.6164e-02, 3.4138e-01, 0.0000e+00,\n",
      "        0.0000e+00, 4.3563e-02, 1.5671e-01, 2.1707e-02, 1.5107e-02, 4.3163e-02,\n",
      "        4.2673e-02, 2.8929e-02, 7.0718e-02, 8.6908e-02, 1.5728e-01, 2.2785e-01,\n",
      "        8.6429e-03, 1.2363e-01, 1.3365e-01, 4.4576e-02, 5.7818e-02, 1.3035e-01,\n",
      "        1.5588e-02, 2.0748e-02, 9.4052e-02, 1.0526e-01, 1.4823e-02, 1.3406e-01,\n",
      "        3.6211e-02, 0.0000e+00, 5.6006e-04, 9.5857e-02, 1.9782e-02, 0.0000e+00,\n",
      "        3.1757e-02, 2.3534e-01, 3.2825e-02, 7.0425e-02, 2.0334e-01, 3.9832e-02,\n",
      "        1.5651e-01, 1.1190e-01, 1.0865e-01, 8.6593e-02, 2.1517e-02, 0.0000e+00,\n",
      "        5.6390e-03, 7.5994e-02, 3.8358e-02, 1.8587e-01, 1.0705e-02, 1.8222e-01,\n",
      "        3.0332e-02, 4.3727e-02, 2.9471e-02, 3.4419e-02, 4.1653e-02, 4.5189e-03,\n",
      "        2.1723e-02, 9.9373e-03, 1.3032e-02, 1.8138e-01, 4.8231e-02, 2.1280e-02,\n",
      "        4.5742e-03, 9.0619e-02, 1.7131e-02, 8.5304e-03, 4.2259e-02, 1.8275e-03,\n",
      "        1.6153e-01, 2.8163e-02, 7.3438e-02, 4.2169e-02, 2.8975e-02, 1.9277e-02,\n",
      "        2.8711e-02, 5.9679e-02, 5.2284e-02, 7.9896e-02, 1.9401e-01, 1.9800e-01,\n",
      "        3.7599e-02, 1.7521e-01, 9.2159e-03, 2.7825e-01, 2.6701e-02, 5.6671e-02,\n",
      "        6.4560e-02, 4.5391e-01, 0.0000e+00, 0.0000e+00, 2.8250e-02, 1.9250e-02,\n",
      "        5.2730e-02, 7.4013e-04, 1.3377e-01, 6.4731e-02, 1.8804e-02, 6.3781e-03,\n",
      "        1.7388e-02, 2.4713e-02, 3.4761e-02, 3.1444e-02, 2.0597e-02, 2.7188e-03,\n",
      "        2.2446e-02, 8.5382e-03, 8.6537e-02, 1.3605e-01, 8.1271e-02, 2.1967e-01,\n",
      "        5.7956e-02, 2.6234e-01, 5.3949e-02, 6.5556e-02, 2.4885e-01, 3.8366e-01,\n",
      "        1.7344e-01, 1.1870e-01, 2.2594e-02, 2.9554e-01, 4.1389e-01, 4.0797e-02,\n",
      "        2.9261e-01, 2.6328e-02, 6.4717e-01, 3.0375e-01, 8.0309e-02, 7.3917e-02,\n",
      "        1.3751e-01, 3.2307e-01, 1.5841e-01, 4.1454e-03, 9.1207e-02, 2.2297e-01,\n",
      "        1.6295e-01, 9.3295e-02, 5.5785e-04, 1.3710e-01, 1.0321e-01, 2.4941e-01,\n",
      "        1.8444e-02, 9.3087e-02, 1.3193e-03, 3.5885e-02, 5.8664e-02, 1.8302e-01,\n",
      "        2.0363e-01, 9.5545e-02, 8.1787e-02, 1.8337e-02, 2.9660e-01, 5.7647e-02,\n",
      "        0.0000e+00, 6.1918e-02, 4.9084e-02, 1.2320e-01, 2.7020e-01, 1.7500e-01,\n",
      "        1.2743e-01, 1.5343e-01, 4.3692e-02, 1.5868e-02, 8.7449e-02, 0.0000e+00,\n",
      "        1.2481e-01, 4.2284e-02, 5.2544e-02, 6.7703e-03, 3.3616e-02, 6.8969e-02]) tensor(0.7133) tensor(82.2970)\n",
      "Chosen edges: tensor([[  0,   0,   0,   0,   0,   0,   0,   0,   1,   1,   1,   1,   1,   1,\n",
      "           1,   1,   3,   3,   3,   3,   3,   3,   4,   6,   6,   6,   6,   7,\n",
      "           7,   7,   7,   7,   7,   7,   7,   7,   8,   8,   9,  10,  10,  10,\n",
      "          10,  11,  12,  12,  12,  12,  12,  13,  13,  13,  13,  13,  13,  13,\n",
      "          14,  14,  14,  14,   4,  10,  10,   1,   7,   8,   8,   8,  10,   8,\n",
      "          12,  14,   4,   4,   0,   3,   3,  12,  12,   3,   4,   4,   4,   8,\n",
      "           8,  10,  10,  10,   1,   3,   8,   1,   3,   7],\n",
      "        [  7,  17,  20,  22,  26,  33,  39,  60,   7,  10,  17,  19,  20,  33,\n",
      "          50,  58,   7,  14,  20,  22,  39,  60,  39,   7,  26,  39,  46,   7,\n",
      "          11,  14,  16,  17,  19,  39,  46,  60,  20,  26,  31,   7,  14,  33,\n",
      "          39,  10,   7,  10,  20,  33,  60,  14,  16,  17,  20,  26,  39,  60,\n",
      "           7,  19,  39,  46,  94, 158, 159, 203, 250, 257, 259, 264, 269, 371,\n",
      "         399, 419, 424, 436, 452, 472, 475, 522, 526, 548, 550, 553, 554, 558,\n",
      "         559, 561, 563, 564, 568, 572, 578, 585, 589, 595]]) 94\n"
     ]
    },
    {
     "name": "stderr",
     "output_type": "stream",
     "text": [
      "100%|██████████| 51/51 [00:02<00:00, 19.99it/s]\n"
     ]
    },
    {
     "name": "stdout",
     "output_type": "stream",
     "text": [
      "Fine-Tune Epoch 1/3 | Train Loss: 2.2797 | Val Loss: 2.1001\n"
     ]
    },
    {
     "name": "stderr",
     "output_type": "stream",
     "text": [
      "100%|██████████| 51/51 [00:03<00:00, 16.80it/s]\n"
     ]
    },
    {
     "name": "stdout",
     "output_type": "stream",
     "text": [
      "Fine-Tune Epoch 2/3 | Train Loss: 2.2078 | Val Loss: 2.0474\n"
     ]
    },
    {
     "name": "stderr",
     "output_type": "stream",
     "text": [
      "100%|██████████| 51/51 [00:02<00:00, 18.73it/s]\n"
     ]
    },
    {
     "name": "stdout",
     "output_type": "stream",
     "text": [
      "Fine-Tune Epoch 3/3 | Train Loss: 2.1633 | Val Loss: 2.0144\n"
     ]
    },
    {
     "name": "stderr",
     "output_type": "stream",
     "text": [
      "100%|██████████| 51/51 [00:04<00:00, 12.44it/s]\n"
     ]
    },
    {
     "name": "stdout",
     "output_type": "stream",
     "text": [
      "Epoch 31/100 | Train Loss: 2.0909 | Val Loss: 25.1755 | Val Accuracy: 0.3498\n"
     ]
    },
    {
     "name": "stderr",
     "output_type": "stream",
     "text": [
      "100%|██████████| 51/51 [00:03<00:00, 15.50it/s]\n"
     ]
    },
    {
     "name": "stdout",
     "output_type": "stream",
     "text": [
      "Epoch 32/100 | Train Loss: 2.0422 | Val Loss: 24.9798 | Val Accuracy: 0.3548\n"
     ]
    },
    {
     "name": "stderr",
     "output_type": "stream",
     "text": [
      "100%|██████████| 51/51 [00:02<00:00, 17.08it/s]\n"
     ]
    },
    {
     "name": "stdout",
     "output_type": "stream",
     "text": [
      "Epoch 33/100 | Train Loss: 2.0302 | Val Loss: 24.8668 | Val Accuracy: 0.3599\n"
     ]
    },
    {
     "name": "stderr",
     "output_type": "stream",
     "text": [
      "100%|██████████| 51/51 [00:02<00:00, 22.82it/s]\n"
     ]
    },
    {
     "name": "stdout",
     "output_type": "stream",
     "text": [
      "Epoch 34/100 | Train Loss: 2.0204 | Val Loss: 24.8244 | Val Accuracy: 0.3577\n"
     ]
    },
    {
     "name": "stderr",
     "output_type": "stream",
     "text": [
      "100%|██████████| 51/51 [00:02<00:00, 21.57it/s]\n"
     ]
    },
    {
     "name": "stdout",
     "output_type": "stream",
     "text": [
      "Epoch 35/100 | Train Loss: 2.0135 | Val Loss: 24.7355 | Val Accuracy: 0.3584\n",
      "Edge metrics: tensor([0.0000e+00, 2.0604e-01, 1.1444e-01, 1.3504e-01, 2.2464e-01, 3.1961e-03,\n",
      "        4.8460e-01, 5.2660e-01, 2.6180e-01, 9.7238e-02, 0.0000e+00, 1.7920e-01,\n",
      "        1.2031e-03, 7.8779e-02, 2.9246e-01, 8.7690e-02, 1.0851e-01, 3.0081e-01,\n",
      "        1.2303e-01, 0.0000e+00, 4.1995e-01, 2.8782e-01, 0.0000e+00, 2.5853e-01,\n",
      "        1.2079e-01, 1.7671e-01, 1.4172e-01, 3.1395e-02, 4.8144e-02, 5.0366e-02,\n",
      "        4.3994e-02, 0.0000e+00, 3.6380e-02, 2.1046e-02, 9.3588e-02, 5.1392e-02,\n",
      "        2.1764e-02, 5.9711e-02, 4.7849e-02, 1.7469e-02, 1.6960e-02, 6.4696e-02,\n",
      "        1.0948e-02, 4.5618e-02, 4.0119e-02, 4.7309e-03, 6.8765e-02, 1.9718e-02,\n",
      "        5.6673e-02, 2.5273e-02, 4.9025e-02, 1.2797e-02, 1.6987e-04, 9.0700e-02,\n",
      "        9.9235e-02, 7.2698e-02, 5.9575e-02, 6.5839e-02, 9.4370e-02, 2.4426e-02,\n",
      "        2.1125e-02, 8.5567e-03, 0.0000e+00, 1.7238e-02, 1.0557e-02, 0.0000e+00,\n",
      "        1.7868e-02, 3.9467e-02, 2.0573e-03, 5.3325e-02, 2.5094e-02, 3.2952e-02,\n",
      "        4.2870e-06, 6.9246e-02, 3.2766e-02, 5.3280e-02, 1.4980e-02, 2.4826e-03,\n",
      "        3.0765e-02, 1.0790e-02, 2.1513e-02, 1.2097e-02, 3.8215e-02, 4.4800e-02,\n",
      "        8.8619e-03, 1.1040e-01, 2.6405e-02, 2.9120e-02, 2.2121e-03, 0.0000e+00,\n",
      "        1.8923e-02, 2.2057e-01, 1.3405e-01, 5.0263e-02, 2.3824e-01, 3.7396e-01,\n",
      "        1.4875e-01, 8.1959e-02, 0.0000e+00, 3.1392e-01, 2.3333e-02, 4.5331e-02,\n",
      "        1.4437e-01, 8.3749e-02, 6.9323e-02, 4.6360e-02, 3.8167e-02, 7.4925e-02,\n",
      "        0.0000e+00, 2.2592e-01, 4.4165e-02, 9.4808e-02, 9.6165e-02, 9.1172e-02,\n",
      "        1.4005e-01, 2.2714e-02, 1.6585e-01, 1.1506e-01, 3.2473e-02, 8.9541e-02,\n",
      "        1.3244e-01, 8.8271e-02, 8.0564e-02, 2.0693e-02, 1.6307e-01, 7.4935e-02,\n",
      "        1.1766e-01, 6.1994e-02, 9.3598e-02, 2.8292e-01, 1.8708e-01, 1.2315e-01,\n",
      "        1.6114e-01, 5.4412e-02, 2.9622e-02, 0.0000e+00, 3.8892e-02, 5.1145e-02,\n",
      "        8.0260e-02, 6.6189e-03, 7.1366e-02, 5.0510e-02, 8.1064e-02, 8.1542e-06,\n",
      "        1.6386e-01, 5.1423e-02, 2.9126e-02, 6.6090e-02, 2.5972e-02, 2.2047e-02,\n",
      "        1.4772e-02, 4.7695e-02, 5.7124e-02, 1.3202e-02, 0.0000e+00, 1.8396e-02,\n",
      "        0.0000e+00, 1.5144e-01, 1.3080e-01, 1.8292e-01, 7.5686e-02, 2.3969e-01,\n",
      "        8.5942e-02, 1.0272e-01, 2.5807e-01, 1.0996e-01, 9.7583e-02, 2.0908e-02,\n",
      "        1.4620e-01, 1.3884e-01, 1.9365e-01, 1.9410e-03, 3.2344e-01, 2.9610e-01,\n",
      "        1.4841e-01, 1.6782e-01, 6.6914e-02, 0.0000e+00, 8.0892e-02, 2.4208e-01,\n",
      "        1.5727e-02, 1.8762e-01, 1.1220e-01, 1.4996e-01, 1.0302e-01, 1.6226e-01,\n",
      "        2.2578e-02, 1.7553e-01, 8.9364e-02, 4.4868e-02, 1.2586e-01, 5.2562e-02,\n",
      "        7.2441e-02, 2.3247e-02, 0.0000e+00, 8.1420e-02, 4.3101e-02, 2.4890e-01,\n",
      "        1.3809e-01, 8.5129e-02, 3.1873e-02, 1.0707e-01, 1.1170e-01, 1.9779e-01,\n",
      "        3.3718e-01, 2.1510e-01, 1.4615e-01, 8.2303e-02, 0.0000e+00, 3.8329e-02,\n",
      "        8.4858e-02, 1.2288e-02, 1.2758e-01, 1.8932e-01, 3.5961e-05, 1.4396e-01,\n",
      "        1.6081e-02, 1.2381e-01, 4.3647e-02, 3.6894e-02, 2.5282e-02, 4.7557e-02,\n",
      "        0.0000e+00, 4.4111e-02, 0.0000e+00, 1.5205e-01, 2.1041e-01, 5.5248e-02,\n",
      "        2.7189e-01, 1.2023e-01, 1.4573e-01, 9.9956e-02, 1.6913e-01, 2.5100e-01,\n",
      "        3.4988e-03, 3.9530e-01, 3.8128e-01, 2.0794e-01, 1.5844e-01, 1.0669e-01,\n",
      "        0.0000e+00, 2.9460e-02, 2.0693e-01, 7.0953e-02, 4.6250e-02, 1.4060e-01,\n",
      "        8.3107e-02, 8.9281e-02, 8.2784e-02, 3.3932e-02, 5.1714e-02, 6.3314e-02,\n",
      "        8.5803e-02, 0.0000e+00, 4.3610e-02, 1.5006e-01, 1.5676e-01, 6.2033e-02,\n",
      "        9.3352e-03, 6.9992e-02, 4.4626e-02, 7.8972e-02, 2.4676e-02, 2.2692e-01,\n",
      "        3.8633e-03, 3.3118e-02, 4.7755e-02, 8.7149e-03, 7.6462e-02, 2.7480e-02,\n",
      "        6.3174e-02, 2.8158e-02, 6.3842e-02, 4.1089e-02, 3.8846e-04, 1.0026e-01,\n",
      "        9.1461e-02, 1.0729e-01, 5.3387e-02, 1.7548e-01, 3.0762e-02, 3.4633e-02,\n",
      "        2.4919e-02, 0.0000e+00, 7.7138e-03, 4.8911e-02, 0.0000e+00, 2.2209e-02,\n",
      "        2.0810e-01, 2.4614e-03, 6.1327e-02, 3.2362e-02, 5.5824e-02, 8.0903e-06,\n",
      "        1.1775e-01, 3.0195e-02, 3.7160e-02, 3.2255e-02, 7.2723e-03, 3.2379e-02,\n",
      "        8.8375e-03, 7.7208e-03, 7.3098e-03, 4.6399e-02, 6.1495e-02, 1.9323e-02,\n",
      "        1.1770e-01, 1.3086e-01, 3.4014e-02, 2.0142e-02, 0.0000e+00, 8.7974e-03,\n",
      "        1.2504e-01, 1.5563e-01, 1.4585e-01, 8.9042e-02, 0.0000e+00, 1.2509e-01,\n",
      "        9.9898e-02, 1.3870e-01, 1.8349e-01, 1.2524e-01, 1.1594e-01, 8.2811e-02,\n",
      "        0.0000e+00, 7.0154e-02, 1.4237e-01, 1.1924e-01, 1.3537e-01, 6.5397e-02,\n",
      "        1.4794e-01, 1.5637e-01, 6.8395e-02, 2.6841e-02, 1.5127e-01, 9.1161e-02,\n",
      "        1.2140e-01, 1.1349e-01, 5.6519e-03, 2.0984e-01, 2.7800e-01, 1.9555e-01,\n",
      "        1.3300e-01, 9.6168e-02, 5.3603e-02, 3.1490e-02, 0.0000e+00, 5.0116e-02,\n",
      "        4.0972e-02, 4.1776e-02, 9.7745e-02, 7.9976e-02, 7.4377e-02, 9.8409e-02,\n",
      "        1.9297e-04, 1.7327e-01, 9.8082e-02, 1.2402e-01, 6.3388e-02, 1.4235e-01,\n",
      "        8.6775e-02, 1.4502e-01, 5.8289e-02, 1.7420e-01, 5.6050e-02, 8.6459e-02,\n",
      "        1.4280e-02, 6.0679e-02, 1.2442e-01, 0.0000e+00, 1.0276e-01, 1.6176e-01,\n",
      "        1.1599e-01, 0.0000e+00, 1.7460e-01, 1.0325e-04, 1.1337e-01, 2.5016e-01,\n",
      "        1.1274e-01, 1.3340e-01, 9.4995e-02, 1.2397e-01, 1.7768e-01, 7.4494e-02,\n",
      "        7.6597e-02, 0.0000e+00, 1.3836e-01, 1.9586e-01, 9.4793e-02, 3.3929e-01,\n",
      "        1.1254e-01, 1.2652e-01, 6.8445e-02, 5.7476e-03, 2.0763e-01, 3.6425e-01,\n",
      "        8.9214e-02, 2.0124e-01, 4.3569e-02, 5.8219e-02, 0.0000e+00, 6.1293e-02,\n",
      "        1.5470e-01, 9.3536e-02, 3.2351e-05, 8.4397e-02, 4.5576e-02, 2.2553e-01,\n",
      "        5.8301e-02, 1.0671e-01, 7.7388e-02, 6.4986e-02, 9.7888e-02, 8.9748e-02,\n",
      "        1.3282e-01, 7.3333e-02, 1.5964e-02, 9.0392e-02, 6.7746e-02, 1.4048e-01,\n",
      "        0.0000e+00, 1.6642e-01, 1.0019e-01, 5.1972e-02, 1.7127e-01, 6.6137e-02,\n",
      "        6.7441e-02, 1.7950e-01, 1.2319e-01, 1.2749e-01, 1.9617e-02, 6.8424e-02,\n",
      "        8.5821e-02, 1.8653e-01, 4.1415e-03, 1.7933e-01, 1.5795e-01, 9.0762e-02,\n",
      "        5.7024e-02, 0.0000e+00, 1.3148e-01, 1.0035e-01, 7.0600e-02, 9.1255e-02,\n",
      "        1.3823e-01, 5.0355e-02, 1.1024e-01, 4.5654e-02, 5.4962e-02, 4.8208e-02,\n",
      "        9.9061e-02, 1.3566e-02, 4.0535e-02, 2.6036e-02, 3.5967e-02, 1.9145e-02,\n",
      "        0.0000e+00, 1.0514e-01, 1.0651e-02, 1.3647e-01, 8.5704e-02, 1.1817e-02,\n",
      "        1.6985e-01, 2.2954e-02, 0.0000e+00, 2.2675e-01, 1.5664e-01, 2.6061e-01,\n",
      "        1.0309e-01, 0.0000e+00, 1.3093e-01, 1.6872e-01, 1.6914e-01, 1.3573e-01,\n",
      "        0.0000e+00, 2.0617e-01, 2.3710e-01, 9.8797e-02, 1.5723e-01, 1.5077e-01,\n",
      "        3.6591e-02, 1.5846e-01, 1.6714e-01, 7.6049e-02, 2.0512e-01, 2.7414e-02,\n",
      "        4.5412e-02, 2.2971e-01, 1.1966e-01, 2.2067e-02, 1.8912e-01, 1.3250e-01,\n",
      "        1.2861e-01, 8.8990e-02, 2.7861e-02, 1.2330e-01, 8.1346e-02, 1.3752e-01,\n",
      "        2.1048e-01, 2.8783e-02, 7.7165e-02, 0.0000e+00, 0.0000e+00, 2.1667e-01,\n",
      "        2.3345e-01, 1.2614e-01, 1.9233e-01, 7.9864e-03, 0.0000e+00, 3.9830e-01,\n",
      "        3.1242e-01, 1.8578e-02, 2.3992e-01, 0.0000e+00, 6.2522e-02, 3.8847e-01,\n",
      "        2.3735e-02, 5.4605e-02, 1.4562e-01, 4.0762e-01, 8.9797e-02, 9.4483e-02,\n",
      "        1.8446e-02, 2.2838e-02, 2.7296e-02, 1.4568e-01, 1.6138e-01, 7.7289e-02,\n",
      "        1.3330e-01, 1.0154e-01, 4.5067e-02, 4.0456e-02, 3.4661e-02, 8.7155e-03,\n",
      "        1.1932e-01, 1.9770e-01, 3.3552e-02, 5.6501e-02, 9.0243e-02, 1.4780e-01,\n",
      "        0.0000e+00, 0.0000e+00, 9.5371e-02, 1.2640e-01, 8.4002e-02, 1.0827e-01,\n",
      "        5.0372e-02, 0.0000e+00, 2.6695e-01, 1.3133e-02, 1.7670e-02, 5.9719e-05,\n",
      "        1.9258e-02, 0.0000e+00, 2.0076e-01, 4.3583e-03, 1.8993e-02, 3.0925e-01,\n",
      "        0.0000e+00, 1.2533e-02, 1.0062e-01, 0.0000e+00, 4.0803e-02, 5.5563e-03,\n",
      "        2.8721e-02, 2.3692e-02, 3.3749e-02, 8.1332e-02, 9.4246e-02, 3.5158e-02,\n",
      "        4.9175e-02, 1.2291e-01, 7.5798e-02, 2.2630e-02, 6.8252e-02, 0.0000e+00,\n",
      "        9.3562e-02, 1.1083e-01, 5.1790e-02, 3.0913e-02, 6.0319e-02, 0.0000e+00,\n",
      "        4.4190e-02, 1.8550e-01, 1.0236e-04, 1.1504e-01, 6.3209e-02, 1.5976e-01,\n",
      "        3.3848e-01, 2.4200e-02, 1.0709e-01, 2.4461e-02, 3.2260e-02, 3.8693e-02,\n",
      "        1.4721e-01, 1.0814e-02, 9.2123e-02, 0.0000e+00, 1.7342e-02, 1.0840e-01,\n",
      "        1.0372e-01, 9.5125e-02, 4.7270e-02, 5.1369e-02, 5.5377e-02, 1.5493e-02,\n",
      "        1.3510e-01, 1.0973e-01, 1.7738e-01, 5.6304e-03, 1.0170e-01, 1.7357e-02,\n",
      "        6.4981e-02, 8.0637e-02, 0.0000e+00, 1.2186e-01, 2.0633e-01, 0.0000e+00,\n",
      "        3.7540e-03, 0.0000e+00, 1.0759e-01, 2.3932e-02, 1.8970e-01, 0.0000e+00,\n",
      "        0.0000e+00, 1.0825e-01, 1.2859e-01, 0.0000e+00, 1.5027e-01, 1.8654e-02,\n",
      "        4.7459e-02, 0.0000e+00, 8.6960e-02, 2.1259e-01, 3.9491e-03, 6.5832e-02,\n",
      "        2.8587e-02, 0.0000e+00, 0.0000e+00, 0.0000e+00, 1.2823e-02, 0.0000e+00,\n",
      "        3.4603e-02, 0.0000e+00, 2.8342e-01, 2.7716e-01, 1.2612e-01, 7.9103e-02,\n",
      "        3.2781e-02, 4.2902e-02, 1.9428e-01, 8.0214e-03, 8.6440e-02, 0.0000e+00,\n",
      "        9.8785e-03, 1.6304e-02, 2.8387e-02, 2.5229e-02, 0.0000e+00, 8.1274e-02,\n",
      "        1.1777e-01, 6.4187e-03, 3.7777e-02, 0.0000e+00, 8.2786e-02, 4.3859e-02,\n",
      "        2.6692e-01, 0.0000e+00, 8.0118e-02, 6.8200e-02, 8.1220e-02, 2.1602e-01,\n",
      "        5.1202e-03, 1.1530e-01, 1.5864e-02, 1.5768e-03, 1.3985e-01, 2.5799e-02,\n",
      "        1.2024e-01, 0.0000e+00, 3.4705e-02, 8.7689e-02, 0.0000e+00, 5.9509e-02,\n",
      "        1.2941e-01, 1.0833e-01, 2.7175e-03, 1.3145e-01, 1.0965e-01, 1.6080e-01,\n",
      "        8.7133e-02, 1.5750e-01, 0.0000e+00, 5.4379e-02, 1.0649e-01, 1.2655e-02,\n",
      "        1.9167e-02, 1.6413e-01, 0.0000e+00, 1.1270e-01, 2.1233e-02, 0.0000e+00,\n",
      "        1.4044e-01, 4.8129e-03, 9.7987e-02, 9.0549e-03, 0.0000e+00, 4.7293e-02,\n",
      "        0.0000e+00, 2.0207e-01, 0.0000e+00, 0.0000e+00, 5.3322e-01, 3.9668e-01,\n",
      "        2.0162e-01, 0.0000e+00, 1.8572e-01, 0.0000e+00, 0.0000e+00, 1.6488e-01,\n",
      "        1.7977e-01, 3.6365e-02, 1.7020e-02, 9.6968e-02, 4.0685e-02, 2.9771e-02,\n",
      "        8.7334e-02, 9.1194e-02, 4.5451e-01, 1.8074e-02, 1.5606e-01, 1.0939e-01,\n",
      "        5.6667e-02, 7.9067e-02, 5.6124e-02, 1.3674e-03, 1.0620e-02, 8.0518e-02,\n",
      "        4.4034e-02, 0.0000e+00, 1.0538e-01, 3.9616e-02, 0.0000e+00, 2.8654e-05,\n",
      "        8.4055e-02, 7.8237e-02, 0.0000e+00, 2.8440e-02, 4.2507e-02, 8.6904e-02,\n",
      "        3.3302e-02, 1.5218e-01, 1.0901e-01, 1.6832e-02, 6.8319e-02, 0.0000e+00,\n",
      "        0.0000e+00, 1.1139e-03, 5.9536e-02, 7.7711e-02, 2.5738e-01, 1.3017e-02,\n",
      "        3.1749e-01, 3.8936e-02, 5.9747e-02, 5.7634e-02, 8.2841e-02, 5.2799e-02,\n",
      "        4.3348e-03, 0.0000e+00, 6.0149e-03, 2.6129e-02, 2.0852e-01, 5.6084e-02,\n",
      "        5.5590e-02, 4.6237e-03, 1.1435e-01, 4.2382e-02, 0.0000e+00, 4.1184e-02,\n",
      "        1.1017e-04, 1.2865e-01, 5.0617e-02, 1.2034e-01, 3.4383e-02, 3.3760e-02,\n",
      "        2.7135e-02, 8.4004e-02, 8.5008e-02, 9.2215e-02, 6.9714e-02, 3.2425e-01,\n",
      "        1.0149e-01, 5.8287e-02, 1.3116e-01, 1.1527e-02, 3.1816e-02, 6.3857e-02,\n",
      "        1.2771e-01, 0.0000e+00, 0.0000e+00, 6.1897e-02, 2.9925e-02, 5.7638e-02,\n",
      "        5.0883e-04, 2.0345e-01, 7.2754e-02, 2.1646e-02, 6.9440e-03, 2.3796e-02,\n",
      "        2.7422e-03, 3.7915e-02, 3.1962e-02, 2.1262e-02, 4.9935e-05, 2.0050e-02,\n",
      "        1.7372e-02, 1.0166e-01, 1.9818e-01, 1.2076e-01, 4.8648e-02, 8.5780e-02,\n",
      "        6.9007e-02, 2.5360e-01, 1.1244e-01, 4.0090e-02, 6.3124e-02, 1.7854e-02,\n",
      "        4.9426e-02, 9.3154e-02, 1.4325e-01, 2.0109e-01, 4.2275e-03, 1.4592e-01,\n",
      "        2.2231e-01, 1.8621e-01, 1.2186e-05, 1.7618e-01, 8.4829e-02, 1.8137e-02,\n",
      "        6.0520e-02, 1.6274e-03, 4.1209e-02, 6.0730e-02, 1.5919e-01, 1.3267e-01,\n",
      "        1.0468e-01, 3.4934e-02, 1.3078e-01, 0.0000e+00, 1.3925e-02, 5.5128e-02,\n",
      "        3.0878e-01, 3.7804e-01, 4.5935e-01, 3.2610e-01, 7.2025e-02, 2.0429e-02,\n",
      "        9.8440e-02, 0.0000e+00, 1.1614e-01, 4.4429e-02, 2.3832e-02, 8.2631e-03,\n",
      "        4.6402e-02, 1.4752e-01, 6.0708e-02, 2.0046e-02, 1.0997e-01, 1.8240e-01,\n",
      "        0.0000e+00, 4.3122e-02, 1.6443e-02, 6.5492e-02, 2.3269e-01, 1.0812e-01,\n",
      "        7.8870e-02, 3.3307e-02, 3.0192e-02, 1.6080e-03, 1.3474e-01, 0.0000e+00,\n",
      "        2.3124e-01, 1.8006e-01, 3.3316e-02, 9.2682e-02, 1.6413e-01, 2.3686e-01,\n",
      "        6.5576e-02, 7.0845e-02, 9.1392e-02, 2.4009e-02, 1.8330e-01, 1.8922e-01,\n",
      "        5.5107e-02, 5.5142e-02, 1.5148e-02, 1.7588e-02, 1.6156e-01, 4.2935e-02,\n",
      "        2.6627e-01, 3.6153e-02, 8.4877e-02, 2.6071e-02, 1.5205e-01, 0.0000e+00,\n",
      "        1.1742e-01, 6.7262e-02, 7.3971e-03, 1.2850e-01, 7.6911e-02, 6.6282e-02,\n",
      "        4.0861e-02, 5.0536e-02, 7.9738e-02, 1.3677e-01, 9.8005e-03, 2.5143e-02,\n",
      "        3.6033e-02, 2.6741e-02, 2.5155e-03, 2.1766e-02, 2.0603e-02, 2.4512e-01,\n",
      "        8.1705e-02, 2.6961e-02, 5.7544e-02, 2.7104e-01, 1.3968e-01, 1.1180e-01,\n",
      "        5.7367e-02, 4.0093e-02, 2.6640e-02, 1.0271e-01, 9.9799e-02, 2.5044e-01,\n",
      "        1.8621e-01, 2.0393e-02, 1.6848e-01, 1.7717e-02, 4.7824e-02, 1.3950e-02,\n",
      "        2.3508e-03, 3.8260e-02, 1.0898e-02, 4.0406e-01, 3.0699e-01, 1.0837e-01,\n",
      "        1.5816e-01, 6.5003e-02, 2.8362e-02, 8.9408e-03, 5.9846e-01, 2.8282e-01,\n",
      "        3.0769e-01, 7.7176e-02, 4.3550e-01, 4.7567e-02, 2.2305e-01, 1.8470e-01]) tensor(0.5985) tensor(84.4818)\n",
      "Chosen edges: tensor([[  0,   0,   0,   0,   0,   0,   0,   1,   1,   1,   3,   3,   3,   3,\n",
      "           4,   5,   6,   6,   6,   6,   6,   7,   7,   7,   8,   8,   8,   8,\n",
      "           8,   8,   8,   9,   9,  11,  11,  12,  13,  13,  13,  13,  13,   3,\n",
      "           3,   4,   4,   4,   4,   7,   8,   8,  10,  10,  10,  10,  12,   3,\n",
      "           4,   4,  10,   0,   1,   4,   4,   8,  10,   4,   8,  10,  10,   0,\n",
      "           5,   6,   8,  12,  13,   5,   3,   3,   6,  10,  10,  12,   1,   3,\n",
      "           3,   7,  14,  10,   8,   3,   4,  10,  10,   1,   8,   3],\n",
      "        [  6,  19,  27,  28,  29,  51,  58,  28,  29,  51,  10,  23,  28,  40,\n",
      "          57,  27,  10,  14,  27,  28,  40,  10,  28,  29,   8,  10,  23,  27,\n",
      "          28,  29,  51,  14,  40,  26,  27,  51,  10,  27,  28,  31,  51,  77,\n",
      "          80,  92,  93, 111, 115, 130, 138, 141, 148, 154, 160, 169, 176, 209,\n",
      "         221, 228, 273, 309, 327, 345, 346, 372, 379, 425, 429, 430, 431, 451,\n",
      "         486, 488, 498, 517, 533, 555, 569, 573, 594, 596, 597, 598, 617, 625,\n",
      "         630, 643, 666, 670, 678, 688, 689, 695, 696, 697, 699, 701]]) 96\n"
     ]
    },
    {
     "name": "stderr",
     "output_type": "stream",
     "text": [
      "100%|██████████| 51/51 [00:01<00:00, 26.93it/s]\n"
     ]
    },
    {
     "name": "stdout",
     "output_type": "stream",
     "text": [
      "Fine-Tune Epoch 1/3 | Train Loss: 2.3073 | Val Loss: 2.1297\n"
     ]
    },
    {
     "name": "stderr",
     "output_type": "stream",
     "text": [
      "100%|██████████| 51/51 [00:03<00:00, 15.92it/s]\n"
     ]
    },
    {
     "name": "stdout",
     "output_type": "stream",
     "text": [
      "Fine-Tune Epoch 2/3 | Train Loss: 2.2332 | Val Loss: 2.0731\n"
     ]
    },
    {
     "name": "stderr",
     "output_type": "stream",
     "text": [
      "100%|██████████| 51/51 [00:02<00:00, 20.40it/s]\n"
     ]
    },
    {
     "name": "stdout",
     "output_type": "stream",
     "text": [
      "Fine-Tune Epoch 3/3 | Train Loss: 2.1812 | Val Loss: 2.0348\n"
     ]
    },
    {
     "name": "stderr",
     "output_type": "stream",
     "text": [
      "100%|██████████| 51/51 [00:04<00:00, 11.52it/s]\n"
     ]
    },
    {
     "name": "stdout",
     "output_type": "stream",
     "text": [
      "Epoch 36/100 | Train Loss: 2.0797 | Val Loss: 25.0356 | Val Accuracy: 0.3551\n"
     ]
    },
    {
     "name": "stderr",
     "output_type": "stream",
     "text": [
      "100%|██████████| 51/51 [00:04<00:00, 10.93it/s]\n"
     ]
    },
    {
     "name": "stdout",
     "output_type": "stream",
     "text": [
      "Epoch 37/100 | Train Loss: 2.0333 | Val Loss: 24.8883 | Val Accuracy: 0.3550\n"
     ]
    },
    {
     "name": "stderr",
     "output_type": "stream",
     "text": [
      "100%|██████████| 51/51 [00:03<00:00, 14.93it/s]\n"
     ]
    },
    {
     "name": "stdout",
     "output_type": "stream",
     "text": [
      "Epoch 38/100 | Train Loss: 2.0253 | Val Loss: 24.8354 | Val Accuracy: 0.3570\n"
     ]
    },
    {
     "name": "stderr",
     "output_type": "stream",
     "text": [
      "100%|██████████| 51/51 [00:03<00:00, 16.60it/s]\n"
     ]
    },
    {
     "name": "stdout",
     "output_type": "stream",
     "text": [
      "Epoch 39/100 | Train Loss: 2.0112 | Val Loss: 24.7382 | Val Accuracy: 0.3596\n",
      "Edge metrics: tensor([0.0000e+00, 1.2328e-01, 1.6302e-01, 3.8874e-03, 1.0424e-01, 0.0000e+00,\n",
      "        2.4114e-01, 7.8265e-04, 1.5722e-01, 1.8138e-01, 2.5397e-01, 3.6254e-01,\n",
      "        0.0000e+00, 0.0000e+00, 1.6313e-01, 2.5508e-01, 1.6004e-01, 2.2136e-02,\n",
      "        5.7656e-02, 5.5520e-02, 6.7409e-02, 0.0000e+00, 5.0666e-02, 2.0838e-02,\n",
      "        8.2323e-02, 3.4671e-02, 1.5338e-02, 8.6073e-03, 7.1736e-02, 1.7142e-02,\n",
      "        2.8130e-02, 3.5674e-02, 9.6180e-03, 6.0550e-02, 5.6036e-02, 7.5775e-03,\n",
      "        6.6935e-02, 3.1773e-02, 8.7701e-02, 2.1922e-02, 1.1419e-03, 1.7391e-02,\n",
      "        1.4062e-04, 7.3163e-02, 5.3170e-02, 5.0402e-02, 6.8505e-03, 6.3528e-02,\n",
      "        7.2380e-02, 1.6496e-02, 8.7709e-03, 1.0492e-02, 0.0000e+00, 1.3962e-02,\n",
      "        1.6709e-02, 0.0000e+00, 2.7939e-02, 4.8730e-02, 5.0678e-03, 6.1345e-02,\n",
      "        3.1478e-02, 3.2595e-02, 3.7450e-06, 5.7496e-02, 4.2413e-02, 3.8706e-02,\n",
      "        2.2756e-02, 1.5282e-02, 1.2928e-03, 1.1487e-02, 1.7435e-02, 1.2478e-02,\n",
      "        4.5289e-02, 4.0200e-02, 2.8510e-02, 5.3597e-02, 5.7290e-02, 4.6518e-02,\n",
      "        1.3922e-03, 0.0000e+00, 1.3812e-02, 1.4101e-01, 8.0138e-02, 1.3133e-01,\n",
      "        9.2297e-02, 0.0000e+00, 3.6651e-02, 1.1369e-01, 1.6810e-02, 8.9381e-02,\n",
      "        8.6288e-02, 1.0207e-01, 2.9148e-02, 7.2440e-02, 0.0000e+00, 4.0218e-02,\n",
      "        1.2690e-01, 1.1910e-01, 1.1500e-01, 1.6989e-01, 1.5864e-02, 3.5815e-03,\n",
      "        1.7028e-01, 5.4705e-02, 7.9704e-02, 9.7379e-02, 1.0543e-01, 1.1355e-01,\n",
      "        3.4172e-02, 1.9540e-01, 1.0419e-01, 2.4673e-01, 4.6559e-02, 3.6581e-03,\n",
      "        1.5720e-01, 1.4045e-02, 1.7184e-01, 5.1920e-02, 4.2267e-02, 0.0000e+00,\n",
      "        8.2162e-02, 9.3923e-02, 8.7555e-02, 1.5348e-02, 9.8334e-02, 7.6903e-02,\n",
      "        7.6922e-02, 1.0093e-05, 1.5093e-01, 8.6421e-02, 6.9361e-02, 4.7922e-03,\n",
      "        2.7941e-02, 1.9617e-02, 2.2426e-02, 1.2745e-01, 1.0664e-01, 1.3201e-02,\n",
      "        0.0000e+00, 1.7197e-02, 0.0000e+00, 1.8318e-01, 1.8108e-01, 1.9937e-01,\n",
      "        5.6913e-02, 1.1428e-01, 1.2075e-01, 1.4058e-01, 1.5638e-01, 7.2055e-02,\n",
      "        1.9445e-01, 2.3775e-01, 8.4856e-03, 1.2059e-03, 2.0002e-02, 1.1794e-01,\n",
      "        8.2997e-02, 0.0000e+00, 1.4669e-01, 2.4400e-02, 1.8895e-01, 1.5966e-01,\n",
      "        1.5718e-01, 1.6187e-01, 1.2486e-01, 6.8201e-02, 1.1170e-02, 8.1596e-02,\n",
      "        4.3698e-02, 1.6771e-01, 1.2316e-01, 1.5156e-01, 2.1236e-02, 0.0000e+00,\n",
      "        7.3633e-02, 3.5583e-02, 1.5939e-01, 1.6464e-01, 5.3496e-02, 1.9601e-01,\n",
      "        1.3806e-01, 9.6269e-03, 1.1970e-01, 8.8549e-02, 0.0000e+00, 4.2460e-02,\n",
      "        1.4272e-01, 4.2404e-02, 1.7522e-01, 1.9970e-01, 4.3915e-05, 1.6694e-01,\n",
      "        1.2147e-01, 1.2985e-02, 7.3893e-02, 4.5528e-02, 6.5745e-02, 1.8966e-01,\n",
      "        0.0000e+00, 5.0332e-02, 0.0000e+00, 2.8373e-01, 5.3029e-02, 1.7386e-01,\n",
      "        1.8654e-01, 1.8040e-01, 3.6554e-01, 3.1458e-03, 1.1950e-01, 1.1395e-01,\n",
      "        0.0000e+00, 1.4219e-01, 8.0437e-02, 7.8885e-02, 2.1529e-01, 1.9156e-01,\n",
      "        2.1658e-01, 7.8190e-02, 2.8134e-02, 7.2914e-02, 8.6568e-02, 1.7951e-01,\n",
      "        0.0000e+00, 6.7818e-02, 1.6014e-01, 1.3243e-01, 5.0620e-02, 6.8469e-03,\n",
      "        3.0183e-03, 7.0880e-02, 9.3338e-02, 2.9194e-02, 3.9784e-03, 4.8455e-02,\n",
      "        7.6666e-02, 5.7284e-02, 1.0477e-01, 3.2048e-02, 9.9932e-02, 1.9799e-02,\n",
      "        1.2979e-03, 6.5225e-02, 1.6455e-04, 9.0133e-02, 6.0688e-02, 4.8735e-02,\n",
      "        8.2153e-03, 1.4364e-01, 2.4161e-02, 2.5021e-02, 2.4586e-02, 0.0000e+00,\n",
      "        7.6350e-03, 1.0258e-01, 0.0000e+00, 4.3183e-02, 6.7246e-03, 4.1474e-02,\n",
      "        3.7830e-02, 3.8369e-02, 9.0644e-06, 6.8170e-02, 3.7062e-02, 3.8542e-02,\n",
      "        5.0516e-02, 2.5779e-02, 2.6633e-03, 1.3318e-02, 8.4088e-03, 1.3134e-02,\n",
      "        6.6267e-02, 6.7442e-02, 4.4425e-02, 8.3395e-02, 1.9500e-01, 4.8860e-02,\n",
      "        1.9031e-02, 0.0000e+00, 9.0670e-03, 2.3687e-01, 1.6895e-01, 1.3680e-01,\n",
      "        1.0871e-01, 0.0000e+00, 1.5827e-01, 1.4604e-01, 1.7153e-01, 1.7121e-01,\n",
      "        3.0751e-01, 1.2395e-01, 1.2021e-01, 0.0000e+00, 7.7689e-02, 1.7138e-01,\n",
      "        1.3090e-01, 1.6970e-01, 6.9432e-02, 7.8189e-02, 1.7450e-01, 1.2149e-01,\n",
      "        3.7897e-02, 1.8654e-01, 1.0484e-01, 2.3385e-01, 8.3562e-02, 3.0581e-03,\n",
      "        1.3067e-01, 3.2331e-02, 6.0898e-02, 3.1129e-02, 3.3074e-02, 0.0000e+00,\n",
      "        4.1636e-02, 4.9374e-02, 9.4043e-02, 1.1280e-01, 1.0929e-01, 1.1840e-01,\n",
      "        7.5207e-02, 7.3026e-05, 1.6229e-01, 1.0963e-01, 1.0480e-01, 1.2824e-01,\n",
      "        2.5428e-02, 1.2942e-01, 1.7065e-01, 1.2218e-01, 1.4060e-01, 1.4773e-01,\n",
      "        1.3414e-01, 1.1199e-02, 5.2713e-02, 2.7147e-01, 0.0000e+00, 1.1458e-01,\n",
      "        2.4631e-01, 1.2740e-01, 0.0000e+00, 2.4420e-01, 5.9369e-05, 2.2653e-01,\n",
      "        8.1986e-02, 1.5173e-01, 1.0393e-01, 2.3416e-01, 3.0057e-01, 6.6038e-02,\n",
      "        1.4469e-01, 0.0000e+00, 1.4714e-01, 2.1245e-01, 1.0565e-01, 1.2060e-01,\n",
      "        1.5585e-01, 1.8611e-01, 4.5755e-03, 2.5018e-02, 3.2579e-02, 6.6295e-02,\n",
      "        0.0000e+00, 5.4718e-02, 1.4605e-01, 1.0317e-01, 2.5955e-05, 1.0875e-01,\n",
      "        1.5175e-01, 7.5194e-02, 1.0424e-01, 1.1339e-01, 8.1589e-02, 1.0485e-01,\n",
      "        2.0044e-01, 1.0948e-01, 1.7839e-01, 1.7257e-02, 8.6919e-02, 6.6916e-02,\n",
      "        2.3390e-01, 0.0000e+00, 1.6300e-01, 1.5152e-01, 3.1822e-02, 2.5461e-02,\n",
      "        9.8222e-02, 9.5062e-02, 1.2646e-01, 1.6251e-01, 1.9035e-01, 5.0250e-02,\n",
      "        1.4073e-01, 1.0684e-01, 1.3458e-02, 2.9805e-03, 1.6615e-01, 2.7424e-02,\n",
      "        9.3111e-02, 7.1689e-02, 0.0000e+00, 2.1058e-01, 1.3119e-01, 1.1747e-01,\n",
      "        1.2152e-01, 1.4957e-01, 1.1739e-01, 1.2753e-02, 5.2660e-02, 7.9286e-02,\n",
      "        1.1872e-01, 1.6021e-01, 1.5180e-02, 4.1819e-02, 2.8065e-02, 3.7684e-02,\n",
      "        5.3403e-02, 0.0000e+00, 2.4546e-01, 2.1055e-02, 1.4655e-01, 8.8637e-02,\n",
      "        4.2104e-03, 1.6969e-01, 2.3606e-02, 0.0000e+00, 2.5426e-01, 1.7153e-02,\n",
      "        0.0000e+00, 2.4764e-01, 1.8026e-01, 1.5450e-01, 2.1714e-01, 0.0000e+00,\n",
      "        1.8192e-01, 3.9622e-01, 1.4786e-01, 5.2102e-02, 1.5717e-01, 1.8104e-01,\n",
      "        1.0792e-01, 2.5593e-02, 9.0604e-02, 1.6615e-01, 1.7006e-02, 1.4463e-01,\n",
      "        1.5878e-01, 1.0825e-01, 1.1364e-01, 0.0000e+00, 8.7234e-02, 1.0264e-01,\n",
      "        1.4214e-01, 2.3618e-02, 1.8115e-01, 0.0000e+00, 0.0000e+00, 1.5762e-01,\n",
      "        1.2876e-01, 5.3684e-03, 0.0000e+00, 2.8816e-02, 0.0000e+00, 5.9801e-02,\n",
      "        4.6832e-02, 6.7945e-02, 1.1263e-01, 8.5194e-02, 8.6708e-02, 2.0642e-02,\n",
      "        2.0430e-02, 4.7544e-02, 1.2553e-01, 1.1975e-01, 6.3556e-02, 1.2698e-01,\n",
      "        9.3736e-02, 2.5162e-02, 4.6585e-02, 5.2826e-02, 7.8423e-03, 1.1308e-01,\n",
      "        3.3541e-01, 2.0343e-02, 9.3803e-02, 4.5644e-02, 2.4929e-01, 0.0000e+00,\n",
      "        0.0000e+00, 1.6215e-01, 1.1327e-01, 1.1644e-01, 1.2417e-01, 4.7289e-02,\n",
      "        0.0000e+00, 1.0994e-02, 2.1272e-02, 4.7259e-05, 2.1149e-02, 0.0000e+00,\n",
      "        3.4441e-03, 8.7071e-03, 0.0000e+00, 1.2102e-02, 1.5189e-01, 0.0000e+00,\n",
      "        5.9668e-02, 4.2731e-03, 1.6840e-02, 5.3661e-02, 3.2068e-02, 4.5712e-02,\n",
      "        1.2203e-01, 9.3032e-03, 6.1821e-02, 8.4815e-02, 9.9921e-02, 2.1183e-02,\n",
      "        9.5651e-02, 0.0000e+00, 1.2295e-01, 1.5418e-01, 5.8495e-02, 2.5493e-02,\n",
      "        9.3644e-02, 0.0000e+00, 3.8445e-02, 1.2606e-01, 1.1705e-04, 1.3532e-01,\n",
      "        5.9579e-02, 2.5720e-01, 2.5194e-02, 8.7903e-02, 2.1698e-02, 2.8793e-02,\n",
      "        2.5454e-02, 2.4010e-01, 3.8161e-03, 1.2824e-01, 0.0000e+00, 2.2287e-02,\n",
      "        1.0368e-01, 1.7093e-01, 1.3548e-01, 2.9479e-02, 7.2079e-02, 1.0390e-01,\n",
      "        2.1856e-02, 1.8070e-01, 1.3087e-01, 3.6295e-01, 5.2460e-03, 1.4548e-01,\n",
      "        0.0000e+00, 6.2760e-02, 7.8965e-02, 0.0000e+00, 2.5575e-01, 0.0000e+00,\n",
      "        0.0000e+00, 0.0000e+00, 1.3056e-01, 2.7007e-02, 2.4496e-01, 0.0000e+00,\n",
      "        0.0000e+00, 8.4929e-02, 1.0724e-01, 0.0000e+00, 1.2508e-01, 9.1234e-03,\n",
      "        4.6747e-02, 0.0000e+00, 7.9588e-03, 0.0000e+00, 6.7457e-02, 1.4130e-02,\n",
      "        0.0000e+00, 0.0000e+00, 0.0000e+00, 5.5984e-03, 0.0000e+00, 2.8389e-02,\n",
      "        0.0000e+00, 1.5784e-01, 1.3297e-01, 2.5674e-02, 3.7931e-02, 3.0657e-01,\n",
      "        6.1953e-03, 9.9722e-02, 0.0000e+00, 3.9723e-02, 0.0000e+00, 2.7310e-02,\n",
      "        0.0000e+00, 0.0000e+00, 1.4146e-01, 1.2797e-01, 6.7983e-03, 4.4239e-02,\n",
      "        0.0000e+00, 8.9706e-02, 9.6123e-02, 0.0000e+00, 1.7585e-01, 4.3335e-02,\n",
      "        6.0184e-02, 0.0000e+00, 1.8355e-01, 1.0692e-02, 1.2748e-03, 1.8762e-02,\n",
      "        2.8506e-03, 1.0044e-01, 0.0000e+00, 3.5062e-02, 1.2175e-01, 0.0000e+00,\n",
      "        4.8980e-02, 2.0601e-01, 1.2877e-01, 1.3949e-03, 2.1653e-01, 2.3927e-01,\n",
      "        3.3941e-02, 1.0957e-01, 1.3556e-01, 0.0000e+00, 3.6362e-02, 1.3763e-01,\n",
      "        8.5220e-03, 2.0972e-02, 1.3065e-01, 0.0000e+00, 1.4427e-01, 1.4053e-02,\n",
      "        0.0000e+00, 1.2732e-01, 4.7345e-03, 1.5415e-01, 0.0000e+00, 0.0000e+00,\n",
      "        1.4586e-01, 0.0000e+00, 0.0000e+00, 0.0000e+00, 0.0000e+00, 2.4404e-01,\n",
      "        0.0000e+00, 0.0000e+00, 3.7731e-01, 1.3948e-01, 4.7399e-02, 2.0172e-02,\n",
      "        5.2059e-01, 4.8760e-02, 2.5293e-02, 2.0658e-01, 7.5881e-02, 4.2597e-02,\n",
      "        8.4447e-02, 8.7604e-02, 1.1015e-01, 1.0408e-01, 1.2946e-01, 0.0000e+00,\n",
      "        9.1530e-03, 6.7938e-02, 8.9167e-02, 0.0000e+00, 1.4480e-01, 3.5861e-02,\n",
      "        0.0000e+00, 1.6596e-05, 8.9381e-02, 4.5849e-02, 0.0000e+00, 1.3914e-02,\n",
      "        2.5709e-02, 1.3367e-01, 2.0912e-02, 2.4782e-01, 1.1461e-01, 0.0000e+00,\n",
      "        7.2429e-02, 0.0000e+00, 0.0000e+00, 8.8681e-04, 1.6805e-01, 8.3495e-02,\n",
      "        1.1923e-02, 3.3413e-02, 6.5863e-02, 6.6899e-02, 1.2019e-01, 6.3953e-02,\n",
      "        3.7043e-03, 0.0000e+00, 1.3170e-03, 8.7687e-02, 5.1940e-02, 1.1830e-01,\n",
      "        6.0721e-03, 1.6869e-01, 5.3628e-02, 0.0000e+00, 2.4260e-02, 5.0002e-05,\n",
      "        3.8638e-01, 4.2036e-02, 1.5970e-01, 1.6063e-02, 5.2064e-02, 2.7915e-02,\n",
      "        1.0921e-01, 1.2130e-01, 1.0372e-01, 3.7770e-02, 1.9245e-01, 1.4391e-01,\n",
      "        1.1012e-02, 9.2138e-03, 1.8542e-02, 3.9565e-02, 2.2163e-01, 0.0000e+00,\n",
      "        0.0000e+00, 6.2003e-02, 4.7681e-02, 4.6402e-02, 0.0000e+00, 3.6941e-02,\n",
      "        3.1433e-02, 9.9992e-03, 1.2862e-02, 0.0000e+00, 3.3191e-02, 5.8013e-02,\n",
      "        3.5890e-02, 3.7362e-05, 3.5904e-02, 2.0361e-02, 1.5619e-01, 2.7389e-01,\n",
      "        1.2169e-01, 5.6994e-02, 7.6957e-02, 1.2912e-01, 2.1492e-01, 5.5058e-02,\n",
      "        6.3834e-02, 2.2443e-02, 1.7341e-01, 1.9619e-01, 2.0186e-01, 2.6182e-03,\n",
      "        1.5217e-02, 2.5073e-01, 1.6139e-05, 1.9664e-01, 8.5661e-02, 1.8478e-02,\n",
      "        6.4940e-02, 1.8642e-03, 8.3288e-02, 8.5349e-02, 1.0931e-01, 2.0466e-01,\n",
      "        2.2099e-01, 5.4009e-02, 3.1108e-01, 0.0000e+00, 0.0000e+00, 5.5897e-02,\n",
      "        9.8442e-02, 2.6083e-02, 1.1767e-01, 0.0000e+00, 1.7688e-01, 7.6798e-02,\n",
      "        2.7258e-02, 1.3061e-02, 1.6725e-01, 3.0638e-01, 7.1806e-02, 1.5168e-02,\n",
      "        1.1745e-01, 1.1983e-01, 0.0000e+00, 2.7145e-02, 3.7396e-02, 1.4652e-01,\n",
      "        1.3162e-02, 9.1935e-02, 2.2346e-02, 4.1265e-02, 0.0000e+00, 1.5605e-01,\n",
      "        0.0000e+00, 6.9699e-02, 1.9698e-02, 6.7109e-02, 3.5497e-01, 1.5522e-01,\n",
      "        6.9626e-02, 5.6971e-02, 4.7029e-02, 2.0807e-01, 2.2415e-01, 3.4427e-02,\n",
      "        3.7190e-02, 1.0079e-02, 2.5941e-02, 1.9919e-01, 9.4489e-02, 7.1465e-02,\n",
      "        7.7606e-02, 0.0000e+00, 1.2846e-01, 0.0000e+00, 7.8299e-02, 4.5289e-02,\n",
      "        1.0625e-02, 1.7349e-02, 8.9194e-02, 7.3160e-03, 5.4526e-02, 3.3544e-02,\n",
      "        1.7053e-01, 7.6049e-02, 6.2321e-03, 3.6376e-02, 3.7655e-02, 1.4285e-02,\n",
      "        3.9401e-03, 4.9573e-02, 4.2828e-02, 1.6793e-01, 2.1413e-02, 1.1350e-01,\n",
      "        1.7602e-01, 1.3970e-01, 4.4499e-02, 2.0959e-02, 2.2420e-02, 8.6305e-02,\n",
      "        9.6953e-02, 1.8714e-01, 1.8808e-02, 2.2770e-01, 3.1999e-02, 1.5249e-02,\n",
      "        1.3383e-03, 0.0000e+00, 5.4532e-02, 2.7930e-02, 2.0373e-01, 4.3499e-01,\n",
      "        9.8428e-02, 5.6420e-02, 1.5302e-02, 4.7118e-02, 4.1271e-02, 1.6771e-01,\n",
      "        5.1048e-02, 0.0000e+00, 4.9716e-02, 1.5972e-01, 2.0856e-02, 1.9127e-02,\n",
      "        1.0903e-01, 5.6804e-02, 8.2584e-03, 1.8169e-02, 2.1997e-02, 1.5050e-02,\n",
      "        8.0336e-02, 2.4928e-02, 2.9016e-01, 1.0480e-01, 1.1594e-02, 1.3855e-01,\n",
      "        6.7873e-02, 4.1481e-02, 1.1460e-01, 5.1671e-04, 7.4854e-03, 5.2635e-03,\n",
      "        1.3271e-01, 1.3396e-02, 1.1707e-02, 7.9882e-03, 8.9476e-02, 1.8683e-02,\n",
      "        1.1688e-02, 8.1522e-02, 1.6860e-02, 1.2735e-01, 1.7718e-02, 2.1315e-02,\n",
      "        1.3792e-02, 7.6392e-02, 8.6883e-02, 4.2622e-02, 2.0200e-02, 1.0186e-01,\n",
      "        1.5212e-01, 6.0416e-03, 1.5200e-01, 6.9464e-02, 1.1017e-01, 1.0098e-01,\n",
      "        1.3242e-01, 6.0091e-02, 2.5440e-02, 1.2063e-01, 4.5424e-03, 8.6649e-03,\n",
      "        1.7712e-01, 8.5672e-02, 3.0626e-01, 7.3410e-03, 6.5536e-01, 2.0420e-03,\n",
      "        1.5287e-01, 7.7617e-03, 4.2924e-02, 4.5014e-01, 3.4211e-01, 9.4071e-03,\n",
      "        2.6691e-01, 1.7116e-01, 2.6046e-02, 7.2185e-02, 1.3972e-01, 1.9762e-01,\n",
      "        5.7234e-02, 1.6235e-01, 8.6723e-03, 3.4621e-01, 1.6892e-01, 1.3809e-01,\n",
      "        9.4278e-02, 2.7646e-01, 1.1974e-02, 2.0825e-01, 1.8406e-02, 1.3647e-01,\n",
      "        9.0089e-02, 1.3406e-01, 8.6723e-02, 2.1617e-01, 4.8177e-02, 2.2951e-01,\n",
      "        1.8979e-01, 5.9751e-01, 3.5026e-01, 1.5936e-01, 3.3966e-01, 1.7626e-01]) tensor(0.6554) tensor(78.9451)\n",
      "Chosen edges: tensor([[  0,   0,   0,   1,   5,   6,   8,   8,   8,   8,  10,  10,  11,  12,\n",
      "          12,  12,  12,  12,  12,  13,  13,  14,  14,   1,   3,   3,   3,   4,\n",
      "           1,   1,  10,  12,   8,   0,   0,   5,  12,  12,  12,   3,  10,  10,\n",
      "           0,   4,  10,  12,   3,   7,   1,   6,   1,   1,   4,  10,   3,   6,\n",
      "           7,   4,   4,   4,   4,   4,  10,   8,  10,   8,   5,  10,  12,  10,\n",
      "           3,  10,  10,   8],\n",
      "        [ 42,  57,  59,  57,  21,  21,   5,  21,  55,  60,   1,  59,  21,   1,\n",
      "          19,  42,  47,  57,  59,   7,  57,   1,  40,  69,  79,  84,  87,  97,\n",
      "         192, 198, 268, 279, 296, 308, 315, 353, 392, 395, 396, 435, 441, 445,\n",
      "         449, 477, 507, 525, 546, 556, 567, 574, 586, 587, 590, 608, 629, 635,\n",
      "         636, 681, 690, 691, 717, 759, 761, 766, 767, 769, 778, 782, 784, 790,\n",
      "         792, 794, 795, 797]]) 74\n"
     ]
    },
    {
     "name": "stderr",
     "output_type": "stream",
     "text": [
      "100%|██████████| 51/51 [00:02<00:00, 21.20it/s]\n"
     ]
    },
    {
     "name": "stdout",
     "output_type": "stream",
     "text": [
      "Fine-Tune Epoch 1/3 | Train Loss: 2.1444 | Val Loss: 2.0361\n"
     ]
    },
    {
     "name": "stderr",
     "output_type": "stream",
     "text": [
      "100%|██████████| 51/51 [00:02<00:00, 23.73it/s]\n"
     ]
    },
    {
     "name": "stdout",
     "output_type": "stream",
     "text": [
      "Fine-Tune Epoch 2/3 | Train Loss: 2.1141 | Val Loss: 2.0051\n"
     ]
    },
    {
     "name": "stderr",
     "output_type": "stream",
     "text": [
      "100%|██████████| 51/51 [00:02<00:00, 24.84it/s]\n"
     ]
    },
    {
     "name": "stdout",
     "output_type": "stream",
     "text": [
      "Fine-Tune Epoch 3/3 | Train Loss: 2.0893 | Val Loss: 1.9835\n"
     ]
    },
    {
     "name": "stderr",
     "output_type": "stream",
     "text": [
      "100%|██████████| 51/51 [00:02<00:00, 18.45it/s]\n"
     ]
    },
    {
     "name": "stdout",
     "output_type": "stream",
     "text": [
      "Epoch 40/100 | Train Loss: 2.0486 | Val Loss: 25.0448 | Val Accuracy: 0.3561\n"
     ]
    },
    {
     "name": "stderr",
     "output_type": "stream",
     "text": [
      "100%|██████████| 51/51 [00:03<00:00, 14.20it/s]\n"
     ]
    },
    {
     "name": "stdout",
     "output_type": "stream",
     "text": [
      "Epoch 41/100 | Train Loss: 2.0260 | Val Loss: 24.8580 | Val Accuracy: 0.3564\n"
     ]
    },
    {
     "name": "stderr",
     "output_type": "stream",
     "text": [
      "100%|██████████| 51/51 [00:04<00:00, 12.47it/s]\n"
     ]
    },
    {
     "name": "stdout",
     "output_type": "stream",
     "text": [
      "Epoch 42/100 | Train Loss: 2.0052 | Val Loss: 24.7377 | Val Accuracy: 0.3582\n"
     ]
    },
    {
     "name": "stderr",
     "output_type": "stream",
     "text": [
      "100%|██████████| 51/51 [00:04<00:00, 10.66it/s]\n"
     ]
    },
    {
     "name": "stdout",
     "output_type": "stream",
     "text": [
      "Epoch 43/100 | Train Loss: 2.0033 | Val Loss: 24.6515 | Val Accuracy: 0.3591\n"
     ]
    },
    {
     "name": "stderr",
     "output_type": "stream",
     "text": [
      "100%|██████████| 51/51 [00:05<00:00, 10.11it/s]\n"
     ]
    },
    {
     "name": "stdout",
     "output_type": "stream",
     "text": [
      "Epoch 44/100 | Train Loss: 1.9928 | Val Loss: 24.5690 | Val Accuracy: 0.3604\n",
      "Edge metrics: tensor([0.0000e+00, 1.2223e-01, 2.5180e-01, 1.6458e-03, 4.2657e-02, 1.6462e-05,\n",
      "        3.5949e-04, 1.0035e-01, 1.1989e-01, 0.0000e+00, 2.0339e-04, 1.8751e-01,\n",
      "        3.2034e-01, 1.4638e-02, 2.3912e-02, 3.7352e-02, 4.4676e-02, 0.0000e+00,\n",
      "        3.6311e-02, 1.7415e-02, 3.8208e-02, 3.0311e-02, 1.1542e-02, 1.0111e-02,\n",
      "        6.5550e-02, 1.6268e-02, 1.6494e-02, 2.4283e-02, 7.2357e-03, 3.8978e-02,\n",
      "        2.9136e-02, 5.5903e-03, 1.5925e-02, 1.7282e-02, 5.4352e-02, 2.3226e-02,\n",
      "        7.5709e-05, 1.4578e-02, 5.6516e-05, 6.9194e-02, 3.8878e-02, 4.1789e-02,\n",
      "        2.8563e-03, 4.0703e-02, 4.6596e-02, 9.7498e-03, 3.6486e-03, 3.0090e-03,\n",
      "        8.2804e-07, 1.0974e-02, 1.3674e-02, 0.0000e+00, 2.5106e-02, 3.8420e-02,\n",
      "        5.0629e-03, 3.3128e-02, 1.9797e-02, 2.8826e-02, 1.9228e-06, 4.8453e-02,\n",
      "        2.5917e-02, 2.6299e-02, 2.4738e-02, 9.8016e-03, 1.5647e-04, 1.2983e-02,\n",
      "        1.1865e-02, 8.2560e-03, 2.8188e-02, 2.8654e-02, 2.7986e-02, 3.2426e-02,\n",
      "        2.6048e-02, 3.5031e-02, 1.4522e-03, 0.0000e+00, 8.8386e-03, 1.7196e-01,\n",
      "        1.0676e-01, 1.3356e-01, 4.6961e-02, 9.4330e-05, 5.4478e-02, 1.1195e-01,\n",
      "        4.2154e-03, 6.8269e-02, 7.3317e-02, 1.9224e-01, 3.7055e-02, 5.0801e-02,\n",
      "        8.0230e-04, 3.1761e-02, 8.9051e-02, 1.3038e-01, 9.8334e-02, 1.2168e-01,\n",
      "        1.4749e-02, 6.3117e-03, 2.2212e-01, 5.3998e-02, 7.6988e-02, 8.9183e-02,\n",
      "        1.1576e-01, 1.1361e-01, 4.1128e-02, 8.3290e-02, 1.0648e-01, 5.5951e-02,\n",
      "        3.8676e-04, 1.8532e-01, 1.2874e-02, 1.5728e-01, 4.3410e-02, 1.6075e-02,\n",
      "        2.5401e-05, 7.6591e-02, 1.3612e-01, 1.0037e-01, 2.2946e-02, 9.4361e-02,\n",
      "        4.2872e-02, 9.5740e-02, 5.3971e-06, 1.9201e-01, 1.1808e-01, 5.6715e-02,\n",
      "        8.5095e-04, 3.7315e-02, 1.8572e-02, 2.2700e-02, 1.0437e-01, 1.4776e-01,\n",
      "        1.3904e-02, 0.0000e+00, 1.2717e-02, 0.0000e+00, 1.7188e-01, 9.7493e-02,\n",
      "        2.7264e-01, 3.8245e-02, 8.9159e-02, 9.0241e-02, 1.2353e-01, 1.3939e-01,\n",
      "        8.8716e-02, 1.0559e-01, 5.5021e-04, 8.2392e-04, 1.3526e-02, 7.4513e-02,\n",
      "        3.1235e-02, 1.5294e-05, 1.0890e-01, 2.5933e-02, 1.3303e-01, 9.6318e-02,\n",
      "        1.5488e-01, 2.2352e-01, 1.4280e-01, 5.7527e-02, 2.7712e-03, 5.3659e-02,\n",
      "        2.6153e-02, 1.8252e-01, 1.7252e-01, 1.7344e-01, 2.4893e-02, 0.0000e+00,\n",
      "        4.9487e-02, 1.8215e-02, 2.0555e-01, 9.3258e-02, 7.7966e-02, 1.0534e-01,\n",
      "        1.2175e-01, 7.9928e-04, 1.0460e-01, 4.6057e-02, 2.5930e-04, 2.3615e-02,\n",
      "        1.6704e-01, 4.6116e-02, 1.3426e-01, 2.1485e-01, 2.2364e-05, 1.7990e-01,\n",
      "        8.5078e-02, 2.1062e-03, 7.8256e-02, 2.2759e-02, 3.8013e-02, 1.7018e-01,\n",
      "        0.0000e+00, 2.3768e-02, 0.0000e+00, 3.5267e-02, 2.0266e-01, 1.9413e-01,\n",
      "        2.4781e-01, 2.9401e-03, 1.2320e-01, 6.4899e-02, 5.7441e-04, 1.4417e-01,\n",
      "        5.5178e-02, 7.2076e-02, 2.0845e-01, 5.1715e-02, 1.6109e-02, 5.5757e-02,\n",
      "        5.5800e-02, 1.7343e-01, 0.0000e+00, 5.0903e-02, 2.1633e-01, 4.1063e-02,\n",
      "        3.3412e-02, 3.1899e-03, 2.4366e-03, 1.7174e-01, 1.3837e-01, 1.7391e-02,\n",
      "        1.3825e-03, 3.7281e-02, 4.1737e-02, 7.3022e-02, 3.2330e-02, 2.8822e-02,\n",
      "        8.0373e-02, 2.0894e-02, 7.8451e-05, 1.1862e-01, 6.0371e-05, 9.5683e-02,\n",
      "        5.6455e-02, 4.2932e-02, 3.6554e-03, 1.5978e-01, 3.6849e-02, 1.8314e-02,\n",
      "        1.1257e-02, 8.6732e-07, 3.8920e-03, 1.1922e-01, 0.0000e+00, 4.5046e-02,\n",
      "        7.1225e-03, 4.8542e-02, 3.3667e-02, 6.2631e-02, 5.1372e-06, 1.8615e-01,\n",
      "        3.5419e-02, 5.0287e-02, 1.0541e-01, 2.0186e-02, 5.1356e-04, 1.3657e-02,\n",
      "        3.7710e-03, 7.6020e-03, 5.1028e-02, 5.5302e-02, 3.5909e-02, 3.7374e-02,\n",
      "        2.2391e-01, 3.8537e-02, 2.3116e-02, 0.0000e+00, 3.7354e-03, 2.7115e-01,\n",
      "        2.2241e-01, 4.7140e-02, 5.9317e-04, 2.6022e-01, 1.8587e-01, 2.5629e-01,\n",
      "        3.2621e-01, 9.1555e-02, 8.3904e-02, 0.0000e+00, 7.4154e-02, 1.5396e-01,\n",
      "        1.2592e-01, 1.8722e-01, 8.0850e-02, 7.1377e-02, 1.3195e-01, 1.1234e-01,\n",
      "        3.4267e-02, 7.2196e-02, 1.1744e-01, 1.2839e-01, 2.0468e-03, 1.5209e-01,\n",
      "        1.8408e-02, 5.6353e-02, 2.1263e-02, 1.3166e-02, 2.8306e-05, 3.1974e-02,\n",
      "        4.3067e-02, 1.0558e-01, 1.6571e-01, 1.1828e-01, 1.2606e-01, 8.7918e-02,\n",
      "        1.4841e-05, 1.8911e-01, 8.7995e-02, 1.1072e-01, 1.0820e-01, 1.1916e-02,\n",
      "        1.2804e-01, 1.9182e-01, 1.5068e-01, 1.3317e-01, 7.2021e-02, 1.7359e-01,\n",
      "        1.1976e-02, 3.0877e-02, 0.0000e+00, 1.3879e-01, 7.0897e-02, 2.7080e-04,\n",
      "        3.5932e-05, 4.9133e-02, 1.3696e-01, 1.4557e-01, 5.0785e-02, 9.9674e-02,\n",
      "        0.0000e+00, 1.7137e-01, 1.4870e-01, 1.4428e-01, 7.7608e-02, 1.3270e-01,\n",
      "        3.6485e-03, 2.0185e-02, 3.0071e-02, 2.8753e-02, 4.5109e-05, 4.0553e-02,\n",
      "        1.5776e-01, 8.4776e-02, 2.0294e-05, 1.0250e-01, 1.6121e-01, 8.5563e-02,\n",
      "        7.3179e-02, 1.0405e-01, 9.0762e-02, 1.3316e-01, 1.3683e-01, 1.2374e-01,\n",
      "        1.8238e-02, 5.8154e-02, 5.5635e-02, 0.0000e+00, 1.6451e-01, 1.4911e-01,\n",
      "        2.2180e-02, 2.4057e-02, 1.1547e-01, 9.0106e-02, 1.3138e-01, 1.8278e-01,\n",
      "        1.8180e-01, 5.5712e-02, 9.0107e-02, 1.2739e-01, 1.3231e-03, 1.5011e-03,\n",
      "        1.7525e-01, 1.3312e-02, 8.9978e-02, 3.7253e-02, 2.3558e-05, 1.2368e-01,\n",
      "        9.4112e-02, 1.4855e-01, 1.3180e-01, 9.5058e-02, 3.3971e-03, 3.3962e-02,\n",
      "        7.8863e-02, 1.3583e-01, 1.9035e-01, 1.9173e-02, 2.7257e-02, 1.8814e-02,\n",
      "        2.4152e-02, 6.5004e-02, 0.0000e+00, 1.9262e-02, 1.2114e-01, 1.1096e-01,\n",
      "        0.0000e+00, 1.9968e-01, 2.8240e-02, 0.0000e+00, 3.4557e-02, 0.0000e+00,\n",
      "        1.7753e-01, 1.5007e-01, 0.0000e+00, 1.9750e-01, 1.7573e-01, 7.1447e-02,\n",
      "        1.6657e-01, 1.1551e-01, 8.7230e-02, 2.2842e-02, 1.0031e-01, 1.8733e-01,\n",
      "        9.1068e-03, 1.6763e-01, 1.7469e-01, 1.2670e-01, 1.7746e-01, 0.0000e+00,\n",
      "        6.3890e-02, 8.5620e-02, 1.7054e-01, 1.9166e-02, 1.7534e-01, 0.0000e+00,\n",
      "        0.0000e+00, 1.7305e-01, 1.1728e-01, 0.0000e+00, 0.0000e+00, 4.9271e-02,\n",
      "        0.0000e+00, 8.6866e-02, 6.6100e-02, 6.7761e-02, 1.9764e-01, 1.0893e-01,\n",
      "        4.5601e-02, 1.9392e-02, 1.9999e-02, 5.4540e-02, 1.5523e-01, 1.0922e-01,\n",
      "        4.8487e-02, 1.2247e-01, 9.9427e-02, 0.0000e+00, 2.4863e-02, 1.0075e-01,\n",
      "        7.4459e-03, 1.0596e-01, 1.2712e-02, 9.2286e-02, 4.4194e-02, 0.0000e+00,\n",
      "        0.0000e+00, 1.5127e-01, 1.3879e-01, 9.9313e-02, 1.3416e-01, 3.7574e-02,\n",
      "        0.0000e+00, 7.4133e-03, 2.6465e-02, 2.7942e-05, 2.3187e-02, 0.0000e+00,\n",
      "        1.5755e-03, 3.5788e-03, 0.0000e+00, 1.6187e-02, 1.5758e-01, 0.0000e+00,\n",
      "        5.5358e-02, 2.8408e-03, 1.4309e-02, 6.7739e-02, 3.1532e-02, 3.3062e-02,\n",
      "        9.7332e-02, 0.0000e+00, 6.6626e-02, 6.6528e-02, 1.3540e-01, 1.3585e-02,\n",
      "        7.8841e-02, 0.0000e+00, 1.5507e-01, 1.7097e-01, 1.1830e-01, 2.9294e-02,\n",
      "        1.9506e-01, 0.0000e+00, 3.1164e-02, 1.8983e-01, 6.4722e-05, 1.4342e-01,\n",
      "        4.4685e-02, 3.4151e-02, 6.6879e-02, 8.1797e-03, 2.5089e-02, 1.8516e-02,\n",
      "        9.2274e-03, 1.4729e-01, 0.0000e+00, 2.1709e-02, 1.6716e-01, 1.6643e-01,\n",
      "        8.1588e-02, 3.9297e-02, 8.1611e-02, 7.9712e-02, 1.8579e-02, 2.0742e-01,\n",
      "        1.2105e-01, 4.1651e-03, 1.1417e-01, 0.0000e+00, 2.8648e-02, 4.9365e-02,\n",
      "        0.0000e+00, 0.0000e+00, 0.0000e+00, 0.0000e+00, 1.1558e-01, 3.6841e-02,\n",
      "        0.0000e+00, 0.0000e+00, 5.7000e-02, 5.9218e-02, 0.0000e+00, 8.1623e-02,\n",
      "        0.0000e+00, 3.0370e-02, 0.0000e+00, 1.2432e-03, 0.0000e+00, 5.1636e-02,\n",
      "        1.7347e-02, 0.0000e+00, 0.0000e+00, 0.0000e+00, 3.8844e-02, 0.0000e+00,\n",
      "        1.9952e-02, 0.0000e+00, 9.1697e-02, 1.1576e-01, 0.0000e+00, 2.8380e-02,\n",
      "        5.6227e-03, 1.0166e-01, 0.0000e+00, 2.5581e-02, 0.0000e+00, 1.5608e-02,\n",
      "        0.0000e+00, 0.0000e+00, 1.5963e-01, 2.5689e-01, 2.5573e-03, 1.6731e-02,\n",
      "        0.0000e+00, 9.2395e-02, 9.0456e-02, 0.0000e+00, 1.8735e-01, 3.1630e-02,\n",
      "        3.2307e-02, 0.0000e+00, 2.4243e-01, 1.5311e-03, 5.5565e-04, 5.7856e-03,\n",
      "        0.0000e+00, 8.3518e-02, 0.0000e+00, 2.4944e-02, 8.1642e-02, 0.0000e+00,\n",
      "        4.5345e-02, 1.5418e-01, 2.9579e-04, 2.4728e-02, 1.1203e-01, 1.8460e-01,\n",
      "        0.0000e+00, 1.9987e-02, 1.3981e-01, 6.9730e-03, 1.1299e-02, 1.1084e-01,\n",
      "        0.0000e+00, 1.0964e-01, 1.2976e-02, 0.0000e+00, 1.1466e-01, 2.4885e-03,\n",
      "        1.5146e-01, 0.0000e+00, 0.0000e+00, 6.0540e-02, 0.0000e+00, 0.0000e+00,\n",
      "        0.0000e+00, 0.0000e+00, 0.0000e+00, 0.0000e+00, 8.8931e-02, 5.3735e-02,\n",
      "        3.0570e-02, 1.1342e-03, 0.0000e+00, 5.1714e-02, 3.0645e-02, 7.5372e-02,\n",
      "        6.2583e-02, 9.5022e-02, 1.3625e-01, 1.1550e-01, 0.0000e+00, 0.0000e+00,\n",
      "        6.1038e-02, 6.4753e-02, 0.0000e+00, 1.6892e-01, 3.1451e-02, 0.0000e+00,\n",
      "        5.0058e-06, 7.2532e-02, 5.0075e-02, 0.0000e+00, 9.9390e-03, 1.8368e-02,\n",
      "        9.7283e-02, 0.0000e+00, 1.0413e-01, 0.0000e+00, 7.4813e-02, 0.0000e+00,\n",
      "        0.0000e+00, 5.3521e-04, 1.8380e-01, 7.8794e-02, 1.1372e-02, 2.2898e-02,\n",
      "        3.6284e-02, 6.5895e-02, 4.8403e-02, 8.2458e-02, 2.0594e-03, 0.0000e+00,\n",
      "        0.0000e+00, 1.3556e-01, 3.6050e-02, 1.5933e-01, 0.0000e+00, 3.1131e-01,\n",
      "        5.7365e-02, 0.0000e+00, 1.3105e-02, 2.1172e-05, 4.0325e-02, 1.5560e-01,\n",
      "        9.4264e-03, 5.4270e-02, 2.7421e-02, 1.5817e-01, 8.4106e-02, 1.3376e-01,\n",
      "        2.3147e-02, 2.0399e-01, 1.5493e-01, 1.7449e-03, 7.8317e-03, 2.0516e-02,\n",
      "        2.2141e-02, 0.0000e+00, 0.0000e+00, 6.4320e-02, 4.0115e-02, 3.2852e-02,\n",
      "        0.0000e+00, 2.9486e-02, 1.8007e-02, 1.5294e-02, 0.0000e+00, 0.0000e+00,\n",
      "        2.0899e-02, 4.9301e-02, 4.4804e-02, 2.1025e-05, 3.4107e-02, 2.2249e-02,\n",
      "        2.2932e-01, 1.7165e-01, 6.1275e-02, 6.7023e-02, 1.1695e-01, 7.5932e-02,\n",
      "        7.8086e-02, 3.1289e-02, 3.1331e-01, 1.3471e-01, 2.2996e-03, 7.5377e-03,\n",
      "        7.4057e-06, 2.3256e-01, 1.5987e-01, 2.6421e-02, 7.5195e-02, 1.6484e-03,\n",
      "        1.3719e-01, 1.3160e-01, 7.2676e-02, 9.0207e-02, 0.0000e+00, 0.0000e+00,\n",
      "        4.1196e-02, 1.8843e-01, 3.3703e-02, 8.6664e-02, 0.0000e+00, 2.4007e-01,\n",
      "        8.8305e-02, 5.1166e-02, 1.8094e-02, 2.8465e-01, 2.3913e-02, 0.0000e+00,\n",
      "        5.0325e-02, 1.3791e-01, 0.0000e+00, 1.2138e-02, 3.3759e-02, 9.1609e-02,\n",
      "        1.3015e-02, 7.2275e-02, 2.1011e-03, 4.5249e-02, 0.0000e+00, 1.4023e-01,\n",
      "        0.0000e+00, 4.9172e-02, 1.1391e-02, 1.0362e-01, 1.4533e-01, 7.7966e-02,\n",
      "        2.9418e-02, 7.2202e-02, 0.0000e+00, 3.7288e-02, 7.8155e-03, 2.2394e-02,\n",
      "        1.1750e-01, 1.8274e-01, 5.3280e-02, 6.3424e-02, 0.0000e+00, 1.2421e-01,\n",
      "        0.0000e+00, 6.4220e-02, 4.1242e-02, 1.7142e-03, 1.1539e-02, 2.7697e-02,\n",
      "        4.3876e-03, 8.8337e-02, 3.5124e-02, 2.3396e-01, 4.5882e-02, 0.0000e+00,\n",
      "        3.1467e-02, 3.8022e-02, 1.8720e-02, 3.9881e-03, 7.7411e-02, 3.0455e-02,\n",
      "        2.1923e-01, 0.0000e+00, 1.3141e-01, 1.7589e-01, 1.2787e-01, 3.7173e-02,\n",
      "        1.7137e-02, 2.7310e-02, 1.5498e-01, 1.0829e-01, 9.3834e-02, 1.2683e-02,\n",
      "        4.2499e-02, 4.9874e-03, 0.0000e+00, 0.0000e+00, 1.0884e-01, 3.8230e-02,\n",
      "        5.8702e-02, 6.6153e-02, 2.4997e-02, 4.3538e-02, 4.0429e-02, 1.6200e-01,\n",
      "        5.0009e-02, 0.0000e+00, 1.9827e-02, 9.9928e-02, 9.3668e-03, 9.3948e-03,\n",
      "        6.6047e-02, 5.5147e-02, 5.9544e-03, 7.2396e-03, 2.6288e-02, 3.6822e-03,\n",
      "        1.0662e-01, 4.1867e-02, 1.2186e-01, 1.4057e-02, 1.3172e-01, 5.2065e-02,\n",
      "        1.9201e-02, 1.3643e-01, 2.2276e-04, 0.0000e+00, 3.1177e-03, 1.1959e-01,\n",
      "        1.0085e-02, 1.9684e-03, 0.0000e+00, 1.0336e-01, 1.2768e-02, 3.6614e-03,\n",
      "        7.9222e-02, 1.8913e-02, 1.2873e-01, 6.8922e-03, 5.9024e-03, 1.8322e-02,\n",
      "        1.6001e-01, 6.3835e-02, 1.3936e-02, 6.7842e-03, 1.0180e-01, 2.4903e-01,\n",
      "        4.9007e-03, 1.3192e-01, 4.5365e-02, 9.6314e-02, 1.5257e-01, 1.3148e-01,\n",
      "        5.7910e-02, 2.4450e-02, 1.3205e-01, 3.7042e-03, 2.2931e-03, 2.4726e-01,\n",
      "        1.4850e-01, 2.4482e-03, 5.8761e-04, 1.2072e-01, 2.3970e-03, 6.6103e-02,\n",
      "        7.0632e-03, 1.3948e-01, 2.0294e-02, 6.9527e-02, 1.9781e-01, 2.2435e-01,\n",
      "        2.9010e-02, 1.0510e-01, 1.6585e-03, 1.5227e-01, 2.3375e-01, 1.0779e-01,\n",
      "        4.2553e-03, 1.2802e-02, 2.1889e-01, 1.1596e-01, 9.9040e-02, 2.7148e-02,\n",
      "        7.4499e-02, 3.3081e-01, 1.4128e-01, 1.9460e-01, 5.5605e-02, 0.0000e+00,\n",
      "        1.7930e-01, 1.7632e-01, 1.1211e-01, 8.9777e-02, 1.3469e-01, 1.7659e-02,\n",
      "        1.4815e-01, 5.5794e-02, 1.7411e-01, 0.0000e+00, 6.3465e-02, 8.4768e-02,\n",
      "        1.1943e-01, 1.3200e-01, 1.1494e-01, 1.7177e-01, 8.2668e-02, 1.1455e-01,\n",
      "        2.8139e-01, 8.4420e-03, 1.8863e-01, 1.3980e-01, 1.3310e-01, 8.6193e-02,\n",
      "        1.0069e-01, 4.2887e-02, 1.9707e-01, 1.7092e-01, 0.0000e+00, 2.5405e-02,\n",
      "        4.0750e-01, 1.6901e-02, 1.5445e-01, 9.2862e-02, 4.9411e-02, 1.3011e-01,\n",
      "        4.5876e-02, 3.8700e-02, 9.7530e-02, 4.0820e-02, 1.2149e-01, 4.1497e-02,\n",
      "        4.0597e-01, 1.3985e-01, 2.3295e-01, 3.7647e-02, 1.0820e-01, 1.1856e-01,\n",
      "        3.8092e-02, 2.8974e-01, 1.6480e-01, 1.1737e-01, 3.7238e-01, 9.0761e-02,\n",
      "        1.8744e-01, 2.0060e-01, 1.2687e-01, 4.2725e-01, 1.8816e-01, 5.9696e-02,\n",
      "        6.8321e-01, 3.0962e-01, 1.7871e-01, 1.7815e-01, 7.4124e-02, 5.3370e-02,\n",
      "        8.3990e-02, 3.5361e-01, 1.0017e-01, 7.7501e-01, 2.6298e-01, 2.7796e-01]) tensor(0.7750) tensor(68.6419)\n",
      "Chosen edges: tensor([[  0,   1,   5,   6,   6,   7,   7,   8,   8,   8,   9,   9,  10,  10,\n",
      "          10,  10,  10,  14,   7,  10,   8,  12,   1,  10,   8,   4,   4,  12,\n",
      "          14,   3,  12,   6,   3,   3,   4,  13,   8,  10,   3,   1,   3,   4,\n",
      "           4,  10,   8,  10,  10,  10,   8],\n",
      "        [ 12,  60,  11,   8,  47,  12,  44,  13,  17,  57,   6,  59,   6,  12,\n",
      "          42,  56,  58, 292, 364, 381, 502, 518, 545, 565, 576, 603, 607, 657,\n",
      "         667, 745, 757, 774, 780, 786, 793, 819, 831, 843, 845, 850, 853, 856,\n",
      "         858, 861, 862, 868, 870, 871, 872]]) 49\n"
     ]
    },
    {
     "name": "stderr",
     "output_type": "stream",
     "text": [
      "100%|██████████| 51/51 [00:03<00:00, 13.09it/s]\n"
     ]
    },
    {
     "name": "stdout",
     "output_type": "stream",
     "text": [
      "Fine-Tune Epoch 1/3 | Train Loss: 2.0906 | Val Loss: 1.9663\n"
     ]
    },
    {
     "name": "stderr",
     "output_type": "stream",
     "text": [
      "100%|██████████| 51/51 [00:03<00:00, 13.39it/s]\n"
     ]
    },
    {
     "name": "stdout",
     "output_type": "stream",
     "text": [
      "Fine-Tune Epoch 2/3 | Train Loss: 2.0653 | Val Loss: 1.9460\n"
     ]
    },
    {
     "name": "stderr",
     "output_type": "stream",
     "text": [
      "100%|██████████| 51/51 [00:04<00:00, 12.68it/s]\n"
     ]
    },
    {
     "name": "stdout",
     "output_type": "stream",
     "text": [
      "Fine-Tune Epoch 3/3 | Train Loss: 2.0484 | Val Loss: 1.9344\n"
     ]
    },
    {
     "name": "stderr",
     "output_type": "stream",
     "text": [
      "100%|██████████| 51/51 [00:05<00:00,  9.76it/s]\n"
     ]
    },
    {
     "name": "stdout",
     "output_type": "stream",
     "text": [
      "Epoch 45/100 | Train Loss: 2.0174 | Val Loss: 24.6976 | Val Accuracy: 0.3631\n",
      "Edge metrics: tensor([0.0000e+00, 6.8105e-02, 2.2324e-03, 3.2872e-02, 9.5952e-05, 1.7704e-04,\n",
      "        6.0892e-02, 7.6228e-02, 0.0000e+00, 8.6074e-04, 2.6308e-01, 8.0004e-03,\n",
      "        1.2270e-02, 2.1314e-02, 2.4918e-02, 0.0000e+00, 2.7573e-02, 6.0050e-03,\n",
      "        2.5360e-02, 1.9687e-02, 5.7023e-03, 5.3880e-03, 4.2393e-02, 2.2285e-04,\n",
      "        4.1672e-03, 1.6674e-02, 3.1791e-03, 3.0484e-02, 1.0952e-02, 4.5188e-03,\n",
      "        1.0584e-02, 1.0851e-02, 4.0771e-02, 1.6411e-02, 3.2955e-05, 1.1096e-02,\n",
      "        6.0022e-05, 4.6501e-02, 3.0630e-02, 2.9277e-02, 1.5645e-03, 2.5530e-02,\n",
      "        3.1098e-02, 5.9399e-03, 1.2061e-03, 2.9950e-03, 7.1013e-06, 5.7640e-03,\n",
      "        9.9460e-03, 0.0000e+00, 1.6260e-02, 2.5406e-02, 5.3894e-03, 2.1971e-02,\n",
      "        1.2153e-02, 2.1387e-02, 1.5177e-06, 3.3104e-02, 1.7210e-02, 1.7123e-02,\n",
      "        1.7085e-02, 5.4289e-03, 1.2757e-04, 9.4632e-03, 6.4640e-03, 7.1363e-03,\n",
      "        1.9190e-02, 1.6321e-02, 2.1248e-02, 1.0183e-02, 1.6857e-02, 2.8083e-02,\n",
      "        3.3345e-04, 0.0000e+00, 4.1946e-03, 9.4836e-03, 9.0644e-02, 9.0781e-02,\n",
      "        4.4987e-02, 8.6366e-04, 5.5166e-02, 8.1140e-02, 3.5231e-03, 3.6776e-02,\n",
      "        6.9267e-02, 1.9151e-01, 1.1725e-02, 2.5693e-02, 2.9775e-03, 2.0272e-02,\n",
      "        4.1307e-02, 9.2785e-02, 4.8568e-02, 8.2268e-02, 6.4475e-03, 3.1678e-03,\n",
      "        1.4692e-03, 2.2266e-02, 6.8874e-02, 8.9326e-02, 4.7661e-02, 3.5401e-02,\n",
      "        4.5268e-02, 5.9677e-02, 5.3348e-02, 1.9717e-04, 1.3392e-01, 7.9771e-03,\n",
      "        1.2393e-01, 3.4156e-02, 1.9657e-02, 1.9879e-04, 6.6804e-02, 8.8764e-02,\n",
      "        8.0261e-02, 2.4271e-02, 6.4136e-02, 3.8057e-02, 7.1998e-02, 4.8327e-06,\n",
      "        1.5895e-01, 8.8869e-02, 2.9363e-02, 8.0839e-04, 2.6235e-02, 1.0683e-02,\n",
      "        2.8981e-02, 7.4928e-02, 1.1108e-01, 5.8586e-03, 0.0000e+00, 6.1078e-03,\n",
      "        0.0000e+00, 1.2776e-01, 4.3117e-02, 1.9550e-02, 8.4926e-03, 3.1030e-02,\n",
      "        1.0908e-01, 6.2387e-02, 5.8996e-02, 6.8167e-02, 2.4465e-04, 8.7560e-04,\n",
      "        8.0388e-03, 4.8661e-02, 2.9940e-02, 1.3658e-04, 7.5930e-02, 2.6847e-02,\n",
      "        9.0675e-02, 6.4198e-02, 1.1254e-01, 9.9368e-02, 3.3432e-02, 2.0115e-03,\n",
      "        3.1759e-02, 2.5404e-02, 1.3942e-01, 1.4405e-01, 1.6009e-01, 1.1273e-02,\n",
      "        0.0000e+00, 2.8803e-02, 9.4528e-03, 3.1394e-02, 4.9660e-02, 9.7566e-02,\n",
      "        1.0384e-01, 3.9948e-04, 5.9741e-02, 3.6793e-02, 8.3791e-04, 1.3961e-02,\n",
      "        1.1821e-01, 5.6724e-02, 8.1268e-02, 1.7827e-05, 1.4932e-01, 6.5081e-02,\n",
      "        1.9377e-03, 6.1340e-02, 1.4782e-02, 5.6568e-02, 1.5883e-01, 0.0000e+00,\n",
      "        1.3493e-02, 0.0000e+00, 1.9942e-02, 2.4225e-01, 5.1511e-03, 7.2311e-02,\n",
      "        6.0709e-02, 1.2818e-03, 1.4360e-01, 3.3799e-02, 1.6100e-01, 3.1980e-02,\n",
      "        9.4740e-03, 3.3714e-02, 3.5125e-02, 1.3498e-01, 0.0000e+00, 3.9390e-02,\n",
      "        3.2312e-02, 2.9282e-02, 1.6062e-03, 1.4276e-03, 1.2619e-01, 6.7274e-04,\n",
      "        5.3084e-03, 6.2624e-04, 2.6930e-02, 1.6648e-02, 5.3192e-02, 2.4027e-02,\n",
      "        2.0598e-02, 6.2771e-02, 1.3048e-02, 3.5467e-05, 9.0624e-02, 6.6953e-05,\n",
      "        6.4884e-02, 4.1857e-02, 2.7929e-02, 1.8948e-03, 9.5331e-02, 2.2816e-02,\n",
      "        9.0614e-03, 1.1145e-02, 8.5955e-06, 2.3173e-03, 8.8714e-02, 0.0000e+00,\n",
      "        3.1182e-02, 7.1747e-03, 2.3584e-02, 2.3168e-02, 3.3608e-02, 4.4563e-06,\n",
      "        1.3134e-01, 3.9200e-02, 3.8599e-02, 4.9155e-02, 1.0260e-02, 3.3328e-04,\n",
      "        1.0980e-02, 2.4534e-03, 9.7089e-03, 3.6516e-02, 3.4480e-02, 2.3216e-02,\n",
      "        1.6038e-02, 2.8001e-02, 7.9482e-03, 0.0000e+00, 2.0986e-03, 5.5246e-02,\n",
      "        2.0387e-03, 1.6820e-01, 4.5483e-02, 4.8440e-02, 0.0000e+00, 2.7780e-02,\n",
      "        1.0795e-01, 8.1252e-02, 1.3523e-01, 6.0938e-03, 4.9015e-02, 9.7749e-02,\n",
      "        4.4964e-02, 3.0461e-02, 5.2222e-02, 8.1128e-02, 8.6816e-02, 2.4042e-03,\n",
      "        1.2089e-01, 1.1033e-02, 3.3153e-02, 9.2694e-03, 1.2476e-02, 1.9191e-04,\n",
      "        1.6793e-02, 3.0909e-02, 6.5804e-02, 1.1468e-01, 9.3316e-02, 5.9063e-02,\n",
      "        8.8210e-02, 1.2632e-05, 1.4392e-01, 6.3569e-02, 7.2679e-02, 5.9769e-02,\n",
      "        8.8696e-03, 8.7253e-02, 1.1940e-01, 1.1046e-01, 4.8400e-02, 5.1280e-02,\n",
      "        1.4789e-01, 3.7772e-03, 2.0328e-02, 0.0000e+00, 1.0484e-02, 5.0834e-02,\n",
      "        1.5854e-03, 2.7417e-05, 3.0087e-02, 1.2888e-01, 8.3686e-02, 2.9379e-02,\n",
      "        5.0911e-02, 0.0000e+00, 6.8331e-02, 1.0550e-01, 8.1373e-03, 5.3099e-02,\n",
      "        8.1754e-02, 3.6554e-03, 1.1987e-02, 1.3139e-02, 2.8463e-02, 2.8748e-04,\n",
      "        2.2901e-02, 1.0939e-01, 5.9528e-02, 1.4467e-05, 7.5786e-02, 8.6874e-02,\n",
      "        6.4628e-02, 4.4394e-02, 9.7513e-02, 6.4534e-02, 8.2679e-02, 5.7067e-02,\n",
      "        8.4153e-02, 5.7078e-03, 3.3642e-02, 3.4065e-02, 0.0000e+00, 1.0666e-01,\n",
      "        6.3196e-02, 1.4802e-02, 1.4400e-02, 6.3442e-03, 2.5937e-02, 9.4550e-02,\n",
      "        1.3613e-01, 7.3115e-02, 4.6560e-02, 7.5193e-02, 1.0734e-01, 7.0548e-04,\n",
      "        1.7414e-03, 1.2955e-01, 8.0383e-03, 5.8244e-02, 2.8328e-02, 1.6790e-04,\n",
      "        9.3406e-02, 6.6300e-02, 1.2572e-01, 9.9079e-02, 5.3638e-02, 3.0980e-03,\n",
      "        2.3512e-02, 6.7901e-02, 1.2617e-01, 1.4873e-01, 6.7345e-03, 1.7613e-02,\n",
      "        1.0771e-02, 1.0695e-02, 5.0448e-02, 0.0000e+00, 9.5576e-03, 9.1093e-02,\n",
      "        6.3030e-02, 0.0000e+00, 1.5369e-01, 1.1246e-02, 0.0000e+00, 3.0595e-02,\n",
      "        0.0000e+00, 1.0258e-01, 8.1662e-02, 0.0000e+00, 1.3135e-01, 1.2478e-01,\n",
      "        4.9883e-02, 1.1931e-01, 1.1387e-01, 5.8222e-02, 1.3339e-02, 8.0191e-02,\n",
      "        1.5570e-01, 2.9286e-03, 8.8025e-02, 1.0271e-01, 5.0993e-02, 1.2688e-01,\n",
      "        0.0000e+00, 2.9960e-02, 5.6273e-02, 1.2637e-01, 1.2142e-02, 9.8741e-02,\n",
      "        0.0000e+00, 0.0000e+00, 1.1907e-01, 4.1131e-02, 0.0000e+00, 0.0000e+00,\n",
      "        3.7068e-02, 0.0000e+00, 7.4228e-02, 4.3299e-02, 4.1980e-02, 1.6698e-01,\n",
      "        7.3911e-02, 1.8472e-02, 1.0831e-02, 1.4213e-02, 3.6684e-02, 7.8939e-02,\n",
      "        8.6328e-02, 3.1874e-02, 5.7289e-02, 2.9072e-02, 0.0000e+00, 9.6242e-03,\n",
      "        3.3247e-02, 1.5042e-03, 5.5793e-02, 3.4470e-03, 6.3468e-02, 4.0202e-02,\n",
      "        0.0000e+00, 0.0000e+00, 9.7888e-02, 1.2789e-01, 6.1377e-02, 8.2266e-02,\n",
      "        2.0725e-02, 0.0000e+00, 3.2587e-03, 2.5656e-02, 2.0766e-05, 1.6154e-02,\n",
      "        0.0000e+00, 7.0673e-04, 1.0785e-03, 0.0000e+00, 4.7140e-03, 9.8227e-02,\n",
      "        0.0000e+00, 4.5956e-02, 2.2043e-03, 6.4001e-03, 6.1354e-02, 1.3841e-02,\n",
      "        1.8202e-02, 6.7065e-02, 0.0000e+00, 5.2775e-02, 2.9846e-02, 8.9200e-02,\n",
      "        7.4585e-03, 5.4868e-02, 0.0000e+00, 1.1329e-01, 1.1649e-01, 8.1320e-02,\n",
      "        9.6793e-03, 1.5511e-01, 0.0000e+00, 2.1510e-02, 1.2668e-01, 5.1094e-05,\n",
      "        8.8971e-02, 2.2066e-02, 1.1733e-02, 3.8450e-02, 4.9645e-03, 1.8104e-02,\n",
      "        1.0621e-02, 8.5742e-03, 1.0723e-01, 0.0000e+00, 1.5560e-02, 1.2725e-01,\n",
      "        1.3711e-01, 5.3895e-02, 2.7762e-02, 6.3681e-02, 5.7534e-02, 1.1642e-02,\n",
      "        8.0345e-02, 4.6330e-03, 7.7253e-02, 0.0000e+00, 7.0522e-03, 4.7855e-02,\n",
      "        0.0000e+00, 0.0000e+00, 0.0000e+00, 0.0000e+00, 4.7486e-02, 2.8622e-02,\n",
      "        0.0000e+00, 0.0000e+00, 2.5068e-02, 5.1814e-02, 0.0000e+00, 6.1611e-02,\n",
      "        0.0000e+00, 1.5498e-02, 0.0000e+00, 5.5829e-04, 0.0000e+00, 2.2717e-02,\n",
      "        5.7864e-03, 0.0000e+00, 0.0000e+00, 0.0000e+00, 3.4967e-02, 0.0000e+00,\n",
      "        9.4694e-03, 0.0000e+00, 8.6450e-02, 1.1256e-01, 0.0000e+00, 1.5952e-02,\n",
      "        2.1454e-03, 9.5986e-02, 0.0000e+00, 1.8171e-02, 0.0000e+00, 7.9400e-03,\n",
      "        0.0000e+00, 0.0000e+00, 1.0930e-01, 1.1772e-03, 1.6693e-02, 0.0000e+00,\n",
      "        7.0306e-02, 6.2544e-02, 0.0000e+00, 2.9903e-01, 1.6447e-02, 1.8806e-02,\n",
      "        0.0000e+00, 0.0000e+00, 2.5079e-04, 2.9390e-03, 0.0000e+00, 5.4134e-02,\n",
      "        0.0000e+00, 1.7052e-02, 6.4968e-02, 0.0000e+00, 3.1125e-02, 5.7484e-02,\n",
      "        9.4496e-05, 1.4569e-02, 7.6517e-02, 1.2658e-01, 0.0000e+00, 1.1621e-02,\n",
      "        9.9684e-02, 2.3827e-03, 4.7059e-03, 7.8215e-02, 0.0000e+00, 7.2146e-02,\n",
      "        1.9565e-02, 0.0000e+00, 7.3030e-02, 1.3594e-03, 1.0986e-01, 0.0000e+00,\n",
      "        0.0000e+00, 4.0284e-02, 0.0000e+00, 0.0000e+00, 0.0000e+00, 0.0000e+00,\n",
      "        0.0000e+00, 0.0000e+00, 4.6283e-02, 3.2649e-02, 1.7198e-02, 0.0000e+00,\n",
      "        0.0000e+00, 4.6008e-02, 1.9876e-02, 3.2764e-02, 5.1020e-02, 5.0753e-02,\n",
      "        7.2037e-02, 6.0661e-02, 0.0000e+00, 0.0000e+00, 2.3579e-02, 4.1686e-02,\n",
      "        0.0000e+00, 1.1335e-01, 1.5291e-02, 0.0000e+00, 3.6206e-06, 3.9407e-02,\n",
      "        3.3140e-02, 0.0000e+00, 4.6680e-03, 1.0201e-02, 7.3166e-02, 0.0000e+00,\n",
      "        4.2385e-02, 0.0000e+00, 6.5975e-03, 0.0000e+00, 0.0000e+00, 3.0223e-04,\n",
      "        9.5898e-02, 5.3396e-02, 6.5086e-03, 1.3101e-02, 2.7520e-02, 4.7007e-02,\n",
      "        3.9625e-02, 3.5601e-02, 1.9838e-03, 0.0000e+00, 0.0000e+00, 9.2890e-02,\n",
      "        2.1213e-02, 1.2738e-01, 0.0000e+00, 4.4059e-02, 0.0000e+00, 4.0061e-03,\n",
      "        1.5618e-05, 2.3719e-02, 9.4975e-02, 6.1971e-03, 4.1412e-02, 1.9985e-02,\n",
      "        1.1740e-01, 7.0091e-02, 4.6978e-02, 1.0827e-02, 1.2401e-01, 7.5545e-04,\n",
      "        5.8726e-03, 1.3776e-02, 1.2016e-02, 0.0000e+00, 0.0000e+00, 4.7231e-02,\n",
      "        2.8387e-02, 1.6179e-02, 0.0000e+00, 1.9886e-02, 1.4584e-02, 1.3092e-02,\n",
      "        0.0000e+00, 0.0000e+00, 1.3056e-02, 3.3750e-02, 3.7980e-02, 1.7358e-05,\n",
      "        1.8174e-02, 1.7008e-02, 1.2512e-01, 4.5195e-02, 4.5931e-02, 7.5265e-02,\n",
      "        4.3207e-02, 5.8514e-02, 2.1246e-02, 9.6588e-02, 2.1464e-03, 3.6197e-03,\n",
      "        5.9295e-06, 9.7791e-02, 1.0197e-02, 3.1571e-02, 1.1754e-03, 3.8691e-01,\n",
      "        1.3670e-01, 4.8182e-02, 7.0341e-02, 0.0000e+00, 0.0000e+00, 2.2614e-02,\n",
      "        1.2863e-01, 2.8221e-02, 6.0187e-02, 0.0000e+00, 5.6851e-02, 4.8635e-02,\n",
      "        1.5233e-02, 9.7009e-03, 0.0000e+00, 3.3606e-02, 7.5564e-02, 0.0000e+00,\n",
      "        3.4988e-03, 1.7167e-02, 6.1395e-02, 6.1899e-03, 2.2753e-02, 1.1023e-03,\n",
      "        3.4267e-02, 0.0000e+00, 9.7540e-02, 0.0000e+00, 4.8079e-02, 7.8570e-03,\n",
      "        8.3948e-02, 8.3910e-02, 5.8289e-02, 0.0000e+00, 5.3688e-02, 0.0000e+00,\n",
      "        2.3808e-02, 3.7528e-03, 7.9659e-03, 8.5406e-02, 1.2628e-01, 3.8227e-02,\n",
      "        5.1352e-02, 0.0000e+00, 8.3471e-02, 0.0000e+00, 1.1075e-02, 1.7536e-02,\n",
      "        0.0000e+00, 6.8317e-03, 1.8105e-02, 2.4588e-03, 6.7402e-02, 1.5164e-02,\n",
      "        3.4904e-02, 0.0000e+00, 1.5211e-02, 2.6491e-02, 9.3129e-03, 3.2226e-03,\n",
      "        5.0695e-02, 2.3638e-02, 0.0000e+00, 5.9943e-02, 1.9761e-01, 7.8934e-02,\n",
      "        1.7427e-02, 1.3081e-02, 1.3485e-02, 1.0550e-01, 9.2368e-02, 7.1498e-02,\n",
      "        6.3839e-03, 4.6540e-02, 1.8925e-03, 0.0000e+00, 0.0000e+00, 1.0167e-01,\n",
      "        3.8908e-02, 3.9291e-02, 5.3101e-02, 1.1917e-02, 2.1591e-02, 3.1687e-02,\n",
      "        1.1101e-01, 1.3443e-02, 0.0000e+00, 2.2217e-03, 5.5548e-02, 5.0977e-03,\n",
      "        6.8392e-03, 1.5477e-02, 3.6807e-02, 3.5310e-03, 6.1915e-03, 1.4290e-02,\n",
      "        1.6254e-03, 8.1406e-02, 4.0376e-02, 9.2279e-02, 8.0073e-03, 8.5324e-02,\n",
      "        3.2030e-02, 1.2107e-02, 8.6550e-02, 3.4954e-05, 0.0000e+00, 1.6793e-03,\n",
      "        7.7065e-02, 5.8402e-03, 1.0490e-03, 0.0000e+00, 8.1490e-02, 8.5712e-03,\n",
      "        3.6543e-03, 5.9992e-02, 1.5313e-02, 8.0558e-02, 1.8101e-04, 4.7128e-03,\n",
      "        1.0940e-02, 9.6892e-02, 4.0615e-02, 5.1746e-03, 4.5453e-03, 5.2445e-02,\n",
      "        2.4754e-03, 5.1833e-02, 2.8408e-02, 2.3544e-02, 5.7320e-02, 7.3897e-02,\n",
      "        4.1624e-02, 1.2710e-02, 2.2694e-01, 2.5290e-03, 3.3511e-03, 9.9959e-02,\n",
      "        1.5931e-03, 2.2850e-04, 6.9720e-02, 9.7583e-04, 5.6951e-02, 5.1189e-03,\n",
      "        8.0240e-02, 1.1493e-02, 5.4043e-02, 1.3204e-01, 1.8403e-02, 8.2954e-02,\n",
      "        7.5535e-04, 1.4239e-01, 7.7662e-02, 1.8900e-03, 7.0291e-03, 7.9453e-02,\n",
      "        5.1113e-02, 2.1405e-02, 5.9601e-02, 1.2623e-01, 1.2730e-01, 2.5971e-02,\n",
      "        0.0000e+00, 8.1901e-02, 1.3667e-01, 9.2588e-02, 6.8246e-02, 1.3396e-01,\n",
      "        0.0000e+00, 1.2008e-01, 7.3414e-03, 9.2260e-02, 0.0000e+00, 4.5558e-02,\n",
      "        5.1111e-02, 8.0910e-02, 1.1910e-01, 9.6794e-02, 1.3349e-01, 5.6768e-02,\n",
      "        7.5075e-02, 7.6843e-03, 1.2795e-01, 1.2577e-01, 6.0836e-02, 6.7137e-02,\n",
      "        8.5874e-02, 4.0965e-02, 1.6156e-01, 1.5468e-01, 0.0000e+00, 2.3089e-02,\n",
      "        7.6436e-03, 5.9628e-02, 9.0871e-02, 4.8675e-02, 1.2442e-01, 4.8580e-02,\n",
      "        2.5821e-02, 2.1368e-01, 4.0462e-02, 6.6037e-02, 1.6669e-02, 1.0218e-01,\n",
      "        3.0374e-02, 5.8236e-02, 9.2495e-02, 3.0700e-02, 1.4802e-01, 1.4185e-01,\n",
      "        6.6195e-02, 1.3452e-01, 9.9878e-02, 1.3585e-01, 4.7044e-02, 1.8613e-01,\n",
      "        1.7028e-01, 6.6274e-02, 6.2979e-02, 6.8023e-02, 4.9956e-02, 6.6373e-03,\n",
      "        1.2089e-01, 1.3281e-02, 1.2190e-01, 9.3235e-02, 5.2577e-03, 7.6486e-02,\n",
      "        8.0612e-02, 1.2068e-01, 9.9772e-02, 1.1486e-02, 1.3938e-01, 8.7746e-02,\n",
      "        1.5398e-02, 5.7339e-02, 3.5835e-02, 7.4693e-02, 1.1789e-01, 1.0556e-01,\n",
      "        6.3165e-01, 1.5740e-01, 1.2455e-02, 4.8652e-03, 4.6827e-01, 1.1231e-02,\n",
      "        8.5132e-02, 7.1063e-02, 3.9658e-02, 1.0301e-01, 4.0106e-02, 1.6928e-01,\n",
      "        7.6419e-02, 9.3843e-02, 5.4113e-02, 1.5912e-01, 8.6967e-02, 2.0958e-01,\n",
      "        1.9075e-01, 3.2833e-02, 7.4826e-02, 2.2379e-01, 1.2807e-01, 2.3315e-01,\n",
      "        9.8640e-01, 2.6181e-01, 8.1377e-02, 8.8262e-01, 2.3705e-01, 1.8726e-01]) tensor(0.9864) tensor(45.3454)\n",
      "Chosen edges: tensor([[  1,   8,  10,  10,  10,  10,  10,  10,   8,   3,   4,  10,   8,  10,\n",
      "          10],\n",
      "        [ 54,  16, 374, 582, 754, 839, 892, 896, 909, 913, 915, 916, 917, 919,\n",
      "         920]]) 15\n"
     ]
    },
    {
     "name": "stderr",
     "output_type": "stream",
     "text": [
      "100%|██████████| 51/51 [00:04<00:00, 11.74it/s]\n"
     ]
    },
    {
     "name": "stdout",
     "output_type": "stream",
     "text": [
      "Fine-Tune Epoch 1/3 | Train Loss: 2.0387 | Val Loss: 1.9292\n"
     ]
    },
    {
     "name": "stderr",
     "output_type": "stream",
     "text": [
      "100%|██████████| 51/51 [00:03<00:00, 13.99it/s]\n"
     ]
    },
    {
     "name": "stdout",
     "output_type": "stream",
     "text": [
      "Fine-Tune Epoch 2/3 | Train Loss: 2.0254 | Val Loss: 1.9195\n"
     ]
    },
    {
     "name": "stderr",
     "output_type": "stream",
     "text": [
      "100%|██████████| 51/51 [00:03<00:00, 12.97it/s]\n"
     ]
    },
    {
     "name": "stdout",
     "output_type": "stream",
     "text": [
      "Fine-Tune Epoch 3/3 | Train Loss: 2.0180 | Val Loss: 1.9137\n"
     ]
    },
    {
     "name": "stderr",
     "output_type": "stream",
     "text": [
      "100%|██████████| 51/51 [00:04<00:00, 10.75it/s]\n"
     ]
    },
    {
     "name": "stdout",
     "output_type": "stream",
     "text": [
      "Epoch 46/100 | Train Loss: 2.0064 | Val Loss: 24.6850 | Val Accuracy: 0.3604\n",
      "Edge metrics: tensor([0.0000e+00, 9.6101e-02, 1.9854e-03, 6.5629e-02, 8.1791e-05, 4.1882e-04,\n",
      "        6.9188e-02, 1.0519e-01, 0.0000e+00, 1.0416e-03, 1.0865e-02, 1.4385e-02,\n",
      "        2.6867e-02, 3.0754e-02, 0.0000e+00, 3.8929e-02, 5.0617e-03, 3.3410e-02,\n",
      "        2.6719e-02, 7.0854e-03, 8.1555e-03, 5.4808e-02, 3.6133e-05, 2.0243e-03,\n",
      "        2.1945e-02, 5.1964e-03, 4.1315e-02, 9.9417e-03, 5.8546e-03, 1.2387e-02,\n",
      "        1.4705e-02, 5.3422e-02, 2.2225e-02, 2.3035e-05, 1.5571e-02, 5.7400e-05,\n",
      "        5.5566e-02, 3.7174e-02, 3.8325e-02, 2.3544e-03, 3.5097e-02, 4.1417e-02,\n",
      "        7.4134e-03, 1.9208e-03, 6.3902e-03, 5.6185e-06, 8.6013e-03, 1.2076e-02,\n",
      "        0.0000e+00, 2.3202e-02, 3.8076e-02, 8.7678e-03, 3.0757e-02, 1.7269e-02,\n",
      "        2.7085e-02, 3.7216e-06, 4.7032e-02, 1.9075e-02, 1.9857e-02, 2.6934e-02,\n",
      "        6.2815e-03, 1.1995e-04, 1.4457e-02, 9.5340e-03, 6.9535e-03, 2.8021e-02,\n",
      "        1.8924e-02, 2.5763e-02, 8.6611e-03, 2.4085e-02, 2.9516e-02, 3.9607e-04,\n",
      "        0.0000e+00, 6.9096e-03, 3.8350e-03, 1.4156e-01, 1.2838e-01, 7.8491e-02,\n",
      "        8.1384e-04, 1.1924e-01, 1.1353e-01, 4.0900e-03, 5.7932e-02, 7.6830e-02,\n",
      "        3.3241e-01, 1.6920e-02, 4.5480e-02, 3.1637e-03, 2.7921e-02, 5.7009e-02,\n",
      "        1.5053e-01, 3.9483e-02, 1.1812e-01, 6.3394e-03, 5.5462e-03, 1.5325e-04,\n",
      "        1.9717e-02, 9.0949e-02, 1.3967e-01, 6.1429e-02, 4.7599e-02, 6.3613e-02,\n",
      "        8.8479e-02, 7.9890e-02, 1.5408e-04, 1.9483e-01, 1.1890e-02, 1.7396e-01,\n",
      "        4.1793e-02, 4.4067e-02, 2.0711e-04, 8.5955e-02, 1.2967e-01, 1.2680e-01,\n",
      "        3.8609e-02, 1.0332e-01, 4.9479e-02, 1.0584e-01, 1.4331e-05, 2.3277e-01,\n",
      "        1.3552e-01, 3.3553e-02, 7.8788e-04, 4.1973e-02, 1.4482e-02, 2.9309e-02,\n",
      "        1.1229e-01, 1.2662e-01, 7.8526e-03, 0.0000e+00, 1.0153e-02, 0.0000e+00,\n",
      "        1.9534e-01, 4.7899e-02, 2.2947e-02, 2.8889e-03, 1.9170e-02, 1.7785e-01,\n",
      "        6.5533e-02, 8.7538e-02, 9.2988e-02, 1.9293e-04, 8.1262e-04, 1.2679e-02,\n",
      "        6.8307e-02, 5.9334e-02, 1.2018e-04, 1.0994e-01, 4.7527e-02, 1.4879e-01,\n",
      "        9.5117e-02, 1.5858e-01, 1.3539e-01, 4.0614e-02, 2.0165e-03, 4.5475e-02,\n",
      "        2.7432e-02, 2.3124e-01, 1.9010e-01, 1.8520e-01, 1.5423e-02, 0.0000e+00,\n",
      "        4.4310e-02, 9.5496e-03, 2.6154e-02, 7.9511e-02, 1.7525e-01, 1.7410e-01,\n",
      "        3.3288e-04, 8.6669e-02, 7.3714e-02, 1.1784e-03, 1.8092e-02, 1.7143e-01,\n",
      "        1.1109e-01, 1.2286e-01, 7.1068e-05, 1.6272e-01, 8.7427e-02, 2.0560e-03,\n",
      "        8.3567e-02, 1.9333e-02, 6.5651e-02, 2.4403e-01, 0.0000e+00, 2.0893e-02,\n",
      "        0.0000e+00, 2.6411e-02, 5.4505e-03, 8.9468e-02, 1.2569e-01, 1.6670e-03,\n",
      "        1.6393e-01, 4.9711e-02, 1.5593e-01, 5.1488e-02, 1.1412e-02, 4.9708e-02,\n",
      "        4.7651e-02, 1.8718e-01, 0.0000e+00, 5.7391e-02, 4.6481e-02, 6.0316e-02,\n",
      "        1.5952e-03, 2.0274e-03, 1.9868e-01, 1.4179e-04, 2.6984e-03, 9.7402e-04,\n",
      "        3.6688e-02, 1.6442e-02, 8.0408e-02, 3.0492e-02, 3.0517e-02, 9.1396e-02,\n",
      "        1.9714e-02, 2.7756e-05, 1.4261e-01, 7.2552e-05, 8.8736e-02, 5.8365e-02,\n",
      "        4.0013e-02, 3.3972e-03, 1.4306e-01, 2.7598e-02, 1.5158e-02, 1.5744e-02,\n",
      "        7.9126e-06, 2.8852e-03, 1.3053e-01, 0.0000e+00, 4.4789e-02, 1.5031e-02,\n",
      "        3.3291e-02, 3.4545e-02, 4.8270e-02, 1.1976e-05, 2.0493e-01, 5.8621e-02,\n",
      "        5.6814e-02, 5.7242e-02, 1.2516e-02, 3.1380e-04, 1.6262e-02, 3.1948e-03,\n",
      "        9.4340e-03, 5.8027e-02, 4.2989e-02, 3.5547e-02, 1.6987e-02, 3.7570e-02,\n",
      "        1.1205e-02, 0.0000e+00, 3.2590e-03, 1.2910e-01, 2.1538e-03, 2.0468e-01,\n",
      "        6.4217e-02, 6.3209e-02, 0.0000e+00, 2.6521e-02, 1.5195e-01, 1.0927e-01,\n",
      "        1.9833e-01, 3.3410e-03, 7.0475e-02, 1.3858e-01, 4.4915e-02, 4.0951e-02,\n",
      "        6.4124e-02, 1.2689e-01, 1.3514e-01, 2.7298e-03, 1.7032e-01, 1.8055e-02,\n",
      "        5.6507e-02, 1.5894e-02, 2.8958e-02, 1.6854e-04, 2.3275e-02, 4.5059e-02,\n",
      "        8.7250e-02, 1.9231e-01, 1.4459e-01, 9.7555e-02, 1.3073e-01, 9.7874e-05,\n",
      "        2.3571e-01, 7.1606e-02, 9.1233e-02, 7.6216e-02, 9.5470e-03, 1.1178e-01,\n",
      "        1.5854e-01, 1.5181e-01, 4.2911e-02, 7.3070e-02, 1.8097e-01, 5.2105e-03,\n",
      "        2.7985e-02, 0.0000e+00, 2.1282e-03, 9.8945e-02, 1.5128e-03, 7.0702e-05,\n",
      "        4.0750e-02, 1.8702e-01, 1.1273e-01, 3.7306e-02, 6.6532e-02, 0.0000e+00,\n",
      "        6.5463e-02, 1.3881e-01, 2.3208e-03, 6.4413e-02, 1.2540e-01, 4.1208e-03,\n",
      "        2.0023e-02, 2.1620e-02, 5.7690e-02, 2.5798e-04, 3.2546e-02, 1.5215e-01,\n",
      "        1.1435e-01, 3.5863e-05, 9.4005e-02, 9.5656e-02, 8.8065e-02, 5.9306e-02,\n",
      "        1.0078e-01, 9.8394e-02, 9.4764e-02, 5.1025e-02, 1.3242e-01, 7.3720e-03,\n",
      "        5.2243e-02, 4.5719e-02, 0.0000e+00, 1.6485e-01, 5.1497e-02, 1.5177e-02,\n",
      "        2.0054e-02, 1.9821e-03, 2.2381e-02, 1.2720e-01, 2.0757e-01, 6.7239e-02,\n",
      "        5.8400e-02, 1.3433e-01, 1.6050e-01, 5.5571e-04, 2.3850e-03, 1.9549e-01,\n",
      "        1.3475e-02, 7.6316e-02, 3.8124e-02, 2.0580e-04, 1.6521e-01, 8.9184e-02,\n",
      "        1.8508e-01, 1.2625e-01, 7.3155e-02, 2.9257e-03, 2.9993e-02, 7.8115e-02,\n",
      "        1.8852e-01, 1.9796e-01, 8.6765e-03, 2.4891e-02, 1.1123e-02, 9.8306e-03,\n",
      "        8.1698e-02, 0.0000e+00, 1.0079e-02, 1.4164e-01, 9.5911e-02, 0.0000e+00,\n",
      "        2.0970e-01, 1.6732e-02, 0.0000e+00, 4.8803e-02, 0.0000e+00, 1.5992e-01,\n",
      "        1.2471e-01, 0.0000e+00, 1.7675e-01, 1.8423e-01, 7.4265e-02, 1.7234e-01,\n",
      "        2.3392e-01, 8.9276e-02, 2.1061e-02, 1.3334e-01, 1.9460e-01, 2.7333e-03,\n",
      "        8.6243e-02, 1.4527e-01, 5.7416e-02, 1.5486e-01, 0.0000e+00, 4.4666e-02,\n",
      "        8.4032e-02, 1.7293e-01, 1.6692e-02, 1.4455e-01, 0.0000e+00, 0.0000e+00,\n",
      "        1.7795e-01, 4.0697e-02, 0.0000e+00, 0.0000e+00, 4.7371e-02, 0.0000e+00,\n",
      "        7.9072e-02, 6.2624e-02, 5.6696e-02, 1.4164e-01, 1.1140e-01, 1.6892e-02,\n",
      "        1.2209e-02, 1.7206e-02, 5.2482e-02, 9.5327e-02, 1.2409e-01, 4.4469e-02,\n",
      "        6.2445e-02, 8.3854e-02, 0.0000e+00, 7.1260e-03, 1.3008e-01, 1.8564e-03,\n",
      "        8.1237e-02, 0.0000e+00, 9.4343e-02, 4.3082e-02, 0.0000e+00, 0.0000e+00,\n",
      "        1.6832e-01, 1.4699e-01, 8.1848e-02, 9.7650e-02, 2.6924e-02, 0.0000e+00,\n",
      "        5.4760e-03, 3.7930e-02, 5.7150e-05, 2.5934e-02, 0.0000e+00, 9.7819e-04,\n",
      "        1.3879e-03, 0.0000e+00, 6.4450e-03, 1.3958e-01, 0.0000e+00, 5.7799e-02,\n",
      "        2.3785e-03, 1.1406e-02, 9.5306e-02, 1.8927e-02, 2.5982e-02, 1.0425e-01,\n",
      "        0.0000e+00, 8.0253e-02, 5.1267e-02, 1.2781e-01, 1.0353e-02, 7.6271e-02,\n",
      "        0.0000e+00, 1.6997e-01, 1.6367e-01, 9.5173e-02, 1.4263e-02, 2.6199e-01,\n",
      "        0.0000e+00, 3.1068e-02, 1.8993e-01, 1.2575e-04, 1.0902e-01, 2.8538e-02,\n",
      "        1.5403e-02, 4.4044e-02, 5.7567e-03, 2.7329e-02, 1.2758e-02, 8.0101e-03,\n",
      "        1.3119e-01, 0.0000e+00, 2.4362e-02, 1.9362e-01, 1.7032e-01, 6.2240e-02,\n",
      "        3.7726e-02, 9.3261e-02, 7.4176e-02, 1.2492e-02, 1.0405e-01, 6.0043e-03,\n",
      "        1.2051e-01, 0.0000e+00, 3.6112e-03, 3.3866e-02, 0.0000e+00, 0.0000e+00,\n",
      "        0.0000e+00, 0.0000e+00, 1.1952e-01, 6.5850e-02, 0.0000e+00, 0.0000e+00,\n",
      "        2.8658e-02, 4.3322e-02, 0.0000e+00, 7.0144e-02, 0.0000e+00, 2.3386e-02,\n",
      "        0.0000e+00, 4.8699e-04, 0.0000e+00, 4.4761e-02, 3.5433e-03, 0.0000e+00,\n",
      "        0.0000e+00, 0.0000e+00, 4.9684e-02, 0.0000e+00, 1.2009e-02, 0.0000e+00,\n",
      "        1.5182e-01, 1.3630e-01, 0.0000e+00, 2.6925e-02, 3.5103e-03, 1.2994e-01,\n",
      "        0.0000e+00, 3.1156e-02, 0.0000e+00, 1.1844e-02, 0.0000e+00, 0.0000e+00,\n",
      "        1.5865e-01, 1.7984e-03, 3.3713e-02, 0.0000e+00, 1.0383e-01, 1.0111e-01,\n",
      "        0.0000e+00, 1.4269e-02, 1.9427e-02, 0.0000e+00, 0.0000e+00, 1.9075e-04,\n",
      "        2.6190e-03, 0.0000e+00, 6.8781e-02, 0.0000e+00, 2.1052e-02, 6.7306e-02,\n",
      "        0.0000e+00, 5.4334e-02, 3.5035e-02, 7.5521e-05, 2.0262e-02, 1.1527e-01,\n",
      "        9.1128e-02, 0.0000e+00, 1.7238e-02, 1.4730e-01, 1.8767e-03, 8.2581e-03,\n",
      "        1.2222e-01, 0.0000e+00, 1.0419e-01, 3.7106e-02, 0.0000e+00, 9.8302e-02,\n",
      "        1.8004e-03, 1.6468e-01, 0.0000e+00, 0.0000e+00, 5.1222e-02, 0.0000e+00,\n",
      "        0.0000e+00, 0.0000e+00, 0.0000e+00, 0.0000e+00, 0.0000e+00, 4.8002e-02,\n",
      "        6.7372e-02, 1.2671e-02, 0.0000e+00, 0.0000e+00, 3.5758e-02, 2.2866e-02,\n",
      "        5.9370e-02, 5.2621e-02, 6.7739e-02, 1.0170e-01, 1.1270e-01, 0.0000e+00,\n",
      "        0.0000e+00, 3.3224e-02, 6.4220e-02, 0.0000e+00, 1.7482e-01, 2.5252e-02,\n",
      "        0.0000e+00, 8.8075e-06, 6.3102e-02, 4.8737e-02, 0.0000e+00, 5.3766e-03,\n",
      "        1.3726e-02, 8.3035e-02, 0.0000e+00, 4.2789e-02, 0.0000e+00, 2.0508e-03,\n",
      "        0.0000e+00, 0.0000e+00, 7.5208e-04, 9.9529e-02, 8.6189e-02, 8.0637e-03,\n",
      "        1.8435e-02, 3.6294e-02, 7.6932e-02, 6.2042e-02, 3.8004e-02, 2.2011e-03,\n",
      "        0.0000e+00, 0.0000e+00, 1.3835e-01, 3.2487e-02, 1.8352e-01, 0.0000e+00,\n",
      "        7.1580e-02, 0.0000e+00, 2.0818e-03, 3.5940e-05, 2.6421e-02, 1.3956e-01,\n",
      "        6.5398e-03, 6.1857e-02, 3.0493e-02, 2.0220e-01, 8.8841e-02, 5.3177e-02,\n",
      "        1.0600e-02, 1.5022e-01, 6.4967e-04, 6.9483e-03, 2.0653e-02, 1.5096e-02,\n",
      "        0.0000e+00, 0.0000e+00, 5.8976e-02, 3.7953e-02, 1.9083e-02, 0.0000e+00,\n",
      "        2.7283e-02, 2.0707e-02, 1.9924e-02, 0.0000e+00, 0.0000e+00, 1.5269e-02,\n",
      "        3.6130e-02, 6.0137e-02, 4.5446e-05, 1.7182e-02, 2.4817e-02, 2.3294e-01,\n",
      "        5.9882e-02, 7.0577e-02, 9.7994e-02, 7.3766e-02, 8.5831e-02, 2.7794e-02,\n",
      "        1.4448e-01, 2.5351e-03, 5.7419e-03, 1.7180e-05, 1.3835e-01, 1.6065e-02,\n",
      "        4.4224e-02, 1.6346e-03, 4.2290e-01, 7.3435e-02, 1.3794e-01, 0.0000e+00,\n",
      "        0.0000e+00, 3.6683e-02, 1.6100e-01, 4.8959e-02, 8.9785e-02, 0.0000e+00,\n",
      "        6.8707e-02, 9.0043e-02, 3.9596e-02, 1.2162e-02, 0.0000e+00, 3.9627e-02,\n",
      "        1.3203e-01, 0.0000e+00, 5.7720e-03, 2.2562e-02, 4.9207e-02, 1.0443e-02,\n",
      "        1.9521e-02, 1.1984e-03, 1.8195e-02, 0.0000e+00, 7.7907e-02, 0.0000e+00,\n",
      "        6.9246e-02, 7.0919e-03, 1.3063e-01, 1.4827e-01, 9.1280e-02, 0.0000e+00,\n",
      "        8.2857e-02, 0.0000e+00, 3.8351e-02, 6.2250e-03, 9.0297e-03, 9.8401e-02,\n",
      "        1.5669e-01, 4.0807e-02, 4.2284e-02, 0.0000e+00, 1.3019e-01, 0.0000e+00,\n",
      "        0.0000e+00, 2.6577e-02, 0.0000e+00, 9.5166e-03, 2.5587e-02, 3.1492e-03,\n",
      "        1.0074e-01, 2.4108e-02, 5.3223e-02, 0.0000e+00, 1.9073e-02, 3.6013e-02,\n",
      "        1.1054e-02, 3.3680e-03, 6.3403e-02, 3.6226e-02, 0.0000e+00, 6.9108e-02,\n",
      "        3.8850e-01, 1.2463e-01, 2.8351e-02, 7.9815e-03, 2.4423e-02, 1.6765e-01,\n",
      "        1.3309e-01, 9.4533e-02, 1.0688e-02, 8.5965e-02, 1.5603e-03, 0.0000e+00,\n",
      "        0.0000e+00, 7.6427e-02, 7.3287e-02, 5.8185e-02, 7.4313e-02, 1.5018e-02,\n",
      "        3.6289e-02, 4.0091e-02, 1.2785e-01, 1.5782e-02, 0.0000e+00, 0.0000e+00,\n",
      "        5.4586e-02, 7.3211e-03, 5.4250e-03, 1.2576e-02, 4.6470e-02, 5.0728e-03,\n",
      "        6.4824e-03, 2.2091e-02, 1.5182e-03, 1.1407e-01, 7.2684e-02, 1.1924e-01,\n",
      "        1.1636e-02, 1.0758e-01, 2.0437e-02, 1.3925e-02, 1.2749e-01, 0.0000e+00,\n",
      "        0.0000e+00, 2.6141e-03, 1.3344e-01, 8.8719e-03, 6.5084e-04, 0.0000e+00,\n",
      "        1.1764e-01, 1.3240e-02, 3.6120e-03, 9.7798e-02, 2.9028e-02, 9.7742e-02,\n",
      "        0.0000e+00, 5.2287e-03, 1.6670e-02, 1.1145e-01, 5.7252e-02, 0.0000e+00,\n",
      "        5.1011e-03, 7.7421e-02, 4.1741e-03, 5.0356e-02, 3.8044e-02, 3.4995e-02,\n",
      "        4.7717e-02, 1.0108e-01, 6.5118e-02, 1.5601e-02, 4.0564e-03, 3.3586e-03,\n",
      "        1.6851e-01, 1.7689e-03, 1.7810e-04, 1.0888e-01, 1.0349e-03, 9.9782e-02,\n",
      "        9.9621e-03, 5.7832e-02, 1.6076e-02, 5.8277e-02, 1.5997e-01, 2.6928e-02,\n",
      "        1.1757e-01, 7.2188e-04, 1.6066e-01, 1.2975e-01, 1.7334e-03, 5.9816e-03,\n",
      "        8.0229e-02, 7.8892e-02, 2.7481e-02, 1.1773e-01, 1.9045e-01, 2.2433e-01,\n",
      "        2.5966e-02, 0.0000e+00, 1.5609e-01, 1.0880e-01, 1.3031e-01, 9.7185e-02,\n",
      "        1.4248e-01, 0.0000e+00, 1.4527e-01, 0.0000e+00, 1.0030e-01, 0.0000e+00,\n",
      "        6.1706e-02, 7.2105e-02, 1.0380e-01, 1.3912e-01, 1.3591e-01, 1.7266e-01,\n",
      "        7.2616e-02, 9.5968e-02, 1.1068e-02, 1.9518e-01, 1.8178e-01, 8.2049e-02,\n",
      "        1.1745e-01, 1.9276e-01, 7.1094e-02, 2.0156e-01, 2.5401e-01, 0.0000e+00,\n",
      "        3.1098e-02, 4.3204e-03, 1.5493e-01, 1.3206e-01, 5.3669e-02, 1.4224e-01,\n",
      "        5.4757e-02, 4.4513e-02, 6.6915e-02, 1.7115e-01, 1.8779e-02, 1.1886e-01,\n",
      "        3.9182e-02, 6.7058e-02, 1.3679e-01, 5.0985e-02, 3.3699e-01, 4.1058e-01,\n",
      "        9.7385e-02, 1.6662e-01, 1.5684e-01, 1.5765e-01, 6.4319e-02, 4.0341e-01,\n",
      "        3.8546e-01, 8.3167e-02, 1.4093e-01, 9.7482e-02, 7.4930e-02, 3.9193e-03,\n",
      "        1.1609e-01, 6.2769e-03, 2.0596e-01, 1.2831e-01, 9.8495e-04, 1.0614e-01,\n",
      "        4.5777e-02, 1.1341e-01, 9.2880e-02, 1.3388e-02, 2.2788e-01, 7.4772e-02,\n",
      "        5.8308e-03, 6.9222e-02, 2.3816e-02, 6.6564e-02, 1.7158e-01, 1.2665e-01,\n",
      "        2.6322e-01, 1.5436e-02, 2.6252e-03, 1.3728e-02, 1.3445e-01, 9.4243e-02,\n",
      "        3.9596e-02, 1.4070e-01, 7.2989e-02, 1.8077e-01, 1.1815e-01, 1.7730e-01,\n",
      "        1.2763e-01, 2.0553e-01, 1.2237e-01, 2.8059e-01, 7.5995e-02, 1.1231e-01,\n",
      "        2.3034e-01, 1.7397e-01, 4.1789e-01, 1.5327e-01, 1.7491e-02, 3.2674e-01,\n",
      "        6.4773e-01, 2.0893e-01, 2.7199e-01, 6.5348e-01, 7.7393e-01, 1.5284e-01,\n",
      "        3.2740e-01, 3.6648e-01, 8.7412e-01, 2.4377e-01, 6.9635e-01, 5.4182e-01]) tensor(0.8741) tensor(62.5391)\n",
      "Chosen edges: tensor([[  3,   5,   6,   7,   9,  10,  11,  14,   1,   4,   8,  11,   3,  10,\n",
      "          10,   3,   1,   1,   4,  10,  10,   8,   6,   9,   8,   4,  10,   4,\n",
      "           8,  10,  10,  10,  10,  10,  10,   3,   4,  10,   8,  10,  10],\n",
      "        [ 57,  46,  55,  57,  46,  47,  46,  16,  74, 108, 258, 513, 547, 583,\n",
      "         671, 798, 827, 828, 851, 852, 863, 864, 876, 884, 893, 907, 910, 914,\n",
      "         921, 924, 925, 926, 927, 928, 929, 931, 932, 933, 934, 935, 936]]) 41\n"
     ]
    },
    {
     "name": "stderr",
     "output_type": "stream",
     "text": [
      "100%|██████████| 51/51 [00:03<00:00, 14.19it/s]\n"
     ]
    },
    {
     "name": "stdout",
     "output_type": "stream",
     "text": [
      "Fine-Tune Epoch 1/3 | Train Loss: 2.0751 | Val Loss: 1.9753\n"
     ]
    },
    {
     "name": "stderr",
     "output_type": "stream",
     "text": [
      "100%|██████████| 51/51 [00:03<00:00, 13.31it/s]\n"
     ]
    },
    {
     "name": "stdout",
     "output_type": "stream",
     "text": [
      "Fine-Tune Epoch 2/3 | Train Loss: 2.0398 | Val Loss: 1.9414\n"
     ]
    },
    {
     "name": "stderr",
     "output_type": "stream",
     "text": [
      "100%|██████████| 51/51 [00:04<00:00, 12.62it/s]\n"
     ]
    },
    {
     "name": "stdout",
     "output_type": "stream",
     "text": [
      "Fine-Tune Epoch 3/3 | Train Loss: 2.0196 | Val Loss: 1.9236\n"
     ]
    },
    {
     "name": "stderr",
     "output_type": "stream",
     "text": [
      "100%|██████████| 51/51 [00:05<00:00,  8.64it/s]\n"
     ]
    },
    {
     "name": "stdout",
     "output_type": "stream",
     "text": [
      "Epoch 47/100 | Train Loss: 1.9986 | Val Loss: 24.6487 | Val Accuracy: 0.3610\n",
      "Edge metrics: tensor([0.0000e+00, 6.1980e-02, 6.8874e-04, 3.5271e-02, 1.3298e-04, 2.8770e-04,\n",
      "        2.3606e-02, 6.5852e-02, 0.0000e+00, 1.6781e-03, 7.0948e-03, 9.3631e-03,\n",
      "        1.5845e-02, 2.2993e-02, 0.0000e+00, 2.5355e-02, 3.4324e-03, 2.1554e-02,\n",
      "        1.7421e-02, 5.4410e-03, 5.3484e-03, 3.4006e-02, 1.7153e-05, 1.2437e-03,\n",
      "        1.5506e-02, 3.8410e-03, 2.6425e-02, 5.3839e-03, 3.2632e-03, 8.0440e-03,\n",
      "        1.0380e-02, 3.4065e-02, 1.3211e-02, 6.3216e-06, 6.6539e-03, 2.0048e-05,\n",
      "        3.1399e-02, 2.2197e-02, 2.2647e-02, 1.4544e-03, 2.1597e-02, 2.6194e-02,\n",
      "        5.3727e-03, 1.3301e-03, 4.0725e-03, 1.1383e-05, 6.0692e-03, 9.4234e-03,\n",
      "        0.0000e+00, 1.4070e-02, 2.5956e-02, 6.1751e-03, 1.6104e-02, 1.1836e-02,\n",
      "        1.6391e-02, 2.9666e-06, 3.2293e-02, 7.1710e-03, 1.3264e-02, 1.3737e-02,\n",
      "        6.7628e-03, 1.2919e-04, 7.6331e-03, 6.4296e-03, 5.0896e-03, 1.8732e-02,\n",
      "        1.1980e-02, 1.1769e-02, 2.7164e-03, 1.7541e-02, 1.2551e-02, 3.7043e-04,\n",
      "        0.0000e+00, 4.8690e-03, 1.9168e-03, 8.2745e-02, 1.2035e-01, 5.9299e-02,\n",
      "        2.2578e-03, 1.1474e-01, 1.3460e-01, 4.6881e-03, 3.2377e-02, 6.3186e-02,\n",
      "        1.6104e-02, 2.6640e-02, 5.7430e-03, 1.7832e-02, 3.8914e-02, 1.0443e-01,\n",
      "        3.0971e-02, 9.1341e-02, 5.3025e-03, 3.4334e-03, 7.6401e-05, 1.5115e-02,\n",
      "        7.6818e-02, 1.0325e-01, 3.7229e-02, 3.1923e-02, 4.2677e-02, 6.3712e-02,\n",
      "        5.9593e-02, 6.0043e-05, 1.1667e-01, 8.8578e-03, 1.3562e-01, 3.8344e-02,\n",
      "        3.2749e-02, 5.6822e-04, 7.3704e-02, 9.1381e-02, 7.9237e-02, 2.9652e-02,\n",
      "        5.8330e-02, 4.4234e-02, 7.4054e-02, 1.4837e-05, 9.2461e-02, 3.1197e-02,\n",
      "        1.0508e-03, 2.1612e-02, 1.0252e-02, 2.0232e-02, 6.3482e-02, 5.9939e-02,\n",
      "        7.3574e-03, 0.0000e+00, 7.5577e-03, 0.0000e+00, 1.2023e-01, 3.0783e-02,\n",
      "        1.5492e-02, 1.6731e-03, 1.2592e-02, 1.1588e-01, 3.6388e-02, 5.1635e-02,\n",
      "        5.9565e-02, 4.9574e-05, 3.4920e-04, 7.9133e-03, 4.4378e-02, 3.9757e-02,\n",
      "        2.5995e-04, 7.0380e-02, 2.7481e-02, 8.0619e-02, 6.1023e-02, 9.0714e-02,\n",
      "        1.0239e-01, 3.7737e-02, 1.9519e-03, 2.7042e-02, 1.6782e-02, 8.4808e-02,\n",
      "        7.3223e-02, 1.1397e-02, 0.0000e+00, 2.7783e-02, 7.0415e-03, 1.7700e-02,\n",
      "        4.1708e-02, 1.3836e-01, 1.0772e-01, 1.3323e-04, 5.7375e-02, 4.8627e-02,\n",
      "        1.4819e-03, 1.2492e-02, 1.2618e-01, 8.8408e-02, 7.7434e-02, 8.6259e-05,\n",
      "        7.7221e-02, 8.9033e-02, 2.6553e-03, 4.8527e-02, 1.1680e-02, 4.9046e-02,\n",
      "        0.0000e+00, 1.2799e-02, 0.0000e+00, 1.5977e-02, 2.2059e-03, 6.9995e-02,\n",
      "        7.9816e-02, 2.3981e-03, 1.2450e-01, 2.7316e-02, 9.2009e-02, 3.0452e-02,\n",
      "        8.1007e-03, 3.4002e-02, 3.5148e-02, 1.2669e-01, 0.0000e+00, 3.8367e-02,\n",
      "        4.0186e-02, 4.2699e-02, 1.2889e-03, 1.2380e-03, 1.2090e-01, 7.2911e-05,\n",
      "        1.6802e-03, 6.7697e-04, 2.6955e-02, 9.2458e-03, 4.3404e-02, 2.2471e-02,\n",
      "        2.1358e-02, 6.3298e-02, 1.2714e-02, 7.4076e-06, 6.5974e-02, 2.5565e-05,\n",
      "        5.5057e-02, 3.5979e-02, 2.3887e-02, 2.3207e-03, 9.7222e-02, 2.0918e-02,\n",
      "        1.0910e-02, 9.8647e-03, 1.9157e-05, 2.2394e-03, 9.0752e-02, 0.0000e+00,\n",
      "        2.9170e-02, 1.1742e-02, 1.9781e-02, 2.4642e-02, 2.8215e-02, 1.1277e-05,\n",
      "        1.8627e-02, 3.8014e-02, 3.6395e-02, 1.1826e-02, 3.4815e-04, 8.6282e-03,\n",
      "        2.1434e-03, 5.8204e-03, 4.1355e-02, 3.0263e-02, 1.8420e-02, 7.1078e-03,\n",
      "        1.9457e-02, 9.2338e-03, 0.0000e+00, 2.3095e-03, 1.0950e-01, 5.2507e-03,\n",
      "        4.3467e-02, 4.7669e-02, 0.0000e+00, 1.7523e-02, 1.1956e-01, 8.3239e-02,\n",
      "        1.1683e-01, 1.6916e-03, 5.2141e-02, 9.1902e-02, 2.8653e-02, 2.3922e-02,\n",
      "        4.6799e-02, 8.8932e-02, 9.0977e-02, 1.0182e-03, 1.0799e-01, 1.1275e-02,\n",
      "        4.0690e-02, 1.1516e-02, 1.6194e-02, 3.1510e-04, 1.4473e-02, 2.9240e-02,\n",
      "        6.0802e-02, 1.4964e-01, 7.9160e-02, 7.1660e-02, 8.2894e-02, 4.6929e-05,\n",
      "        3.3446e-02, 7.3514e-02, 6.8197e-02, 8.7124e-03, 6.7665e-02, 1.1662e-01,\n",
      "        7.3833e-02, 1.3698e-02, 5.4619e-02, 8.9674e-02, 4.4145e-03, 1.5746e-02,\n",
      "        0.0000e+00, 9.8287e-04, 7.9032e-02, 3.9685e-03, 6.1027e-05, 2.4114e-02,\n",
      "        1.2067e-01, 7.1299e-02, 2.3500e-02, 4.4843e-02, 0.0000e+00, 4.4358e-02,\n",
      "        9.3628e-02, 9.2946e-04, 4.1353e-02, 1.2680e-01, 1.7658e-03, 1.3538e-02,\n",
      "        1.4397e-02, 4.0522e-02, 4.7629e-04, 2.1577e-02, 1.0956e-01, 9.0103e-02,\n",
      "        2.8845e-05, 3.6344e-02, 9.7417e-02, 5.0281e-02, 3.6597e-02, 7.3260e-02,\n",
      "        6.9041e-02, 6.4672e-02, 1.9886e-02, 9.6676e-02, 6.2175e-03, 3.3211e-02,\n",
      "        2.8417e-02, 0.0000e+00, 1.0648e-01, 3.5273e-02, 1.1425e-02, 1.0726e-02,\n",
      "        9.3322e-04, 1.5459e-02, 9.6399e-02, 4.0570e-02, 3.8285e-02, 9.5870e-02,\n",
      "        1.0067e-01, 1.8892e-04, 1.1139e-03, 1.4378e-01, 9.6128e-03, 5.6499e-02,\n",
      "        2.5652e-02, 1.1053e-03, 1.0253e-01, 6.4774e-02, 1.2136e-01, 5.3653e-02,\n",
      "        6.7570e-02, 3.9370e-03, 1.8795e-02, 5.3145e-02, 9.4980e-02, 1.0010e-01,\n",
      "        7.6355e-03, 1.5841e-02, 1.0359e-02, 6.1257e-03, 4.8983e-02, 0.0000e+00,\n",
      "        5.9066e-03, 1.0061e-01, 6.5101e-02, 0.0000e+00, 1.3798e-02, 0.0000e+00,\n",
      "        3.3914e-02, 0.0000e+00, 7.0816e-02, 8.7932e-02, 0.0000e+00, 1.1302e-01,\n",
      "        1.0305e-01, 3.6814e-02, 1.4654e-01, 6.5034e-02, 1.6222e-02, 1.0463e-01,\n",
      "        1.2440e-01, 5.2608e-05, 3.7815e-02, 8.2211e-02, 2.3403e-02, 1.1224e-01,\n",
      "        0.0000e+00, 1.6522e-02, 4.0944e-02, 1.2437e-01, 1.0952e-02, 1.1259e-01,\n",
      "        0.0000e+00, 0.0000e+00, 8.4932e-02, 1.5841e-02, 0.0000e+00, 0.0000e+00,\n",
      "        2.3216e-02, 0.0000e+00, 4.9198e-02, 7.0974e-02, 4.0607e-02, 1.2823e-01,\n",
      "        7.0811e-02, 6.4965e-03, 6.3586e-03, 1.2951e-02, 3.5763e-02, 5.1891e-02,\n",
      "        7.2151e-02, 3.0934e-02, 2.9609e-02, 3.7390e-02, 0.0000e+00, 0.0000e+00,\n",
      "        5.2061e-02, 1.6145e-03, 4.2588e-02, 0.0000e+00, 6.3728e-02, 2.8704e-02,\n",
      "        0.0000e+00, 0.0000e+00, 9.9379e-02, 1.1493e-01, 5.5282e-02, 6.4905e-02,\n",
      "        1.4492e-02, 0.0000e+00, 3.1541e-03, 1.8132e-02, 4.7932e-05, 1.3461e-02,\n",
      "        0.0000e+00, 4.9593e-04, 2.8977e-04, 0.0000e+00, 5.5864e-03, 9.8252e-02,\n",
      "        0.0000e+00, 3.3516e-02, 1.2033e-03, 7.5208e-03, 7.6804e-02, 1.1838e-02,\n",
      "        1.5497e-02, 7.7685e-02, 0.0000e+00, 4.0851e-02, 3.6492e-02, 8.5217e-02,\n",
      "        5.7344e-03, 5.3076e-02, 0.0000e+00, 8.2783e-02, 1.2821e-01, 6.7408e-02,\n",
      "        1.0335e-02, 0.0000e+00, 2.1772e-02, 9.6498e-02, 1.2583e-04, 7.4314e-02,\n",
      "        1.8071e-02, 1.2285e-02, 2.3175e-02, 4.5500e-03, 1.2859e-02, 6.3363e-03,\n",
      "        1.8977e-03, 7.8663e-02, 0.0000e+00, 1.4769e-02, 1.4557e-01, 1.5529e-01,\n",
      "        4.2732e-02, 2.3145e-02, 4.0351e-02, 5.5701e-02, 4.8265e-03, 6.8026e-02,\n",
      "        3.2954e-03, 1.0786e-01, 0.0000e+00, 1.9121e-03, 2.4855e-02, 0.0000e+00,\n",
      "        0.0000e+00, 0.0000e+00, 0.0000e+00, 6.9801e-02, 3.4294e-02, 0.0000e+00,\n",
      "        0.0000e+00, 1.2213e-02, 2.6209e-02, 0.0000e+00, 3.7948e-02, 0.0000e+00,\n",
      "        1.3456e-02, 0.0000e+00, 1.6177e-04, 0.0000e+00, 2.0448e-02, 2.7642e-03,\n",
      "        0.0000e+00, 0.0000e+00, 0.0000e+00, 3.1074e-02, 0.0000e+00, 7.5953e-03,\n",
      "        0.0000e+00, 9.7444e-02, 7.4566e-02, 0.0000e+00, 1.4916e-02, 2.4370e-03,\n",
      "        8.4981e-02, 0.0000e+00, 2.0642e-02, 0.0000e+00, 7.2555e-03, 0.0000e+00,\n",
      "        0.0000e+00, 1.1147e-01, 1.0784e-03, 2.0229e-02, 0.0000e+00, 7.6435e-02,\n",
      "        7.1173e-02, 0.0000e+00, 7.8284e-03, 9.2588e-03, 0.0000e+00, 0.0000e+00,\n",
      "        5.9798e-05, 1.0268e-03, 0.0000e+00, 4.6057e-02, 0.0000e+00, 9.8794e-03,\n",
      "        4.1612e-02, 0.0000e+00, 3.8392e-02, 3.1763e-02, 0.0000e+00, 1.7714e-02,\n",
      "        7.2827e-02, 8.2611e-02, 0.0000e+00, 1.0078e-02, 9.5600e-02, 1.3948e-03,\n",
      "        5.0465e-03, 7.3845e-02, 0.0000e+00, 7.1940e-02, 2.9914e-02, 0.0000e+00,\n",
      "        6.3539e-02, 1.1842e-03, 1.1210e-01, 0.0000e+00, 0.0000e+00, 3.1539e-02,\n",
      "        0.0000e+00, 0.0000e+00, 0.0000e+00, 0.0000e+00, 0.0000e+00, 0.0000e+00,\n",
      "        2.2466e-02, 5.1369e-02, 0.0000e+00, 0.0000e+00, 0.0000e+00, 2.5756e-02,\n",
      "        1.1986e-02, 3.2815e-02, 3.0571e-02, 4.3210e-02, 3.8596e-02, 7.8905e-02,\n",
      "        0.0000e+00, 0.0000e+00, 1.8086e-02, 4.9322e-02, 0.0000e+00, 1.0811e-01,\n",
      "        1.3478e-02, 0.0000e+00, 6.9595e-06, 3.3618e-02, 2.2669e-02, 0.0000e+00,\n",
      "        3.3311e-03, 8.1852e-03, 4.5419e-02, 0.0000e+00, 3.0369e-02, 0.0000e+00,\n",
      "        1.2993e-03, 0.0000e+00, 0.0000e+00, 4.9911e-04, 9.0840e-02, 4.1515e-02,\n",
      "        6.3090e-03, 1.1583e-02, 9.8727e-03, 3.4701e-02, 2.3850e-02, 2.4355e-02,\n",
      "        9.6850e-04, 0.0000e+00, 0.0000e+00, 8.3244e-02, 1.9991e-02, 1.5009e-01,\n",
      "        0.0000e+00, 3.4636e-02, 0.0000e+00, 1.2969e-03, 2.9292e-05, 1.2865e-02,\n",
      "        1.0723e-01, 3.4909e-03, 4.5164e-02, 9.6474e-03, 6.0554e-02, 3.1621e-02,\n",
      "        7.8052e-03, 1.1093e-01, 2.1746e-04, 3.7161e-03, 1.2723e-02, 9.1332e-03,\n",
      "        0.0000e+00, 0.0000e+00, 2.4368e-02, 2.4822e-02, 1.2811e-02, 0.0000e+00,\n",
      "        1.9486e-02, 1.3600e-02, 1.3290e-02, 0.0000e+00, 0.0000e+00, 1.0837e-02,\n",
      "        2.3659e-02, 4.0236e-02, 3.5177e-05, 1.4786e-03, 1.3977e-02, 3.7682e-02,\n",
      "        5.1635e-02, 6.8386e-02, 5.5078e-02, 6.6276e-02, 1.9959e-02, 8.7535e-02,\n",
      "        1.2109e-03, 3.9401e-03, 2.2794e-05, 9.6570e-02, 1.4330e-02, 4.1150e-02,\n",
      "        8.0569e-04, 3.2004e-02, 6.3729e-02, 0.0000e+00, 0.0000e+00, 1.9773e-02,\n",
      "        1.1432e-01, 2.7034e-02, 5.6203e-02, 0.0000e+00, 4.9904e-02, 6.5068e-02,\n",
      "        2.6114e-02, 5.1376e-03, 0.0000e+00, 1.6313e-02, 5.7034e-02, 0.0000e+00,\n",
      "        3.8998e-03, 1.1485e-02, 1.3643e-02, 4.9419e-03, 1.1175e-02, 2.3675e-03,\n",
      "        0.0000e+00, 0.0000e+00, 6.3145e-02, 0.0000e+00, 4.1976e-02, 0.0000e+00,\n",
      "        8.7931e-02, 1.0175e-01, 6.2914e-02, 0.0000e+00, 5.1352e-02, 0.0000e+00,\n",
      "        2.7181e-02, 0.0000e+00, 5.0040e-03, 6.6867e-02, 1.1172e-01, 6.8260e-03,\n",
      "        4.3481e-03, 0.0000e+00, 8.8101e-02, 0.0000e+00, 0.0000e+00, 2.0167e-02,\n",
      "        0.0000e+00, 5.2018e-03, 1.9533e-02, 1.5377e-03, 6.9224e-02, 1.6200e-02,\n",
      "        3.5496e-02, 0.0000e+00, 1.4181e-02, 2.5294e-02, 8.0355e-03, 2.5551e-03,\n",
      "        4.5048e-02, 2.7306e-02, 0.0000e+00, 4.6146e-02, 7.4066e-02, 1.9650e-02,\n",
      "        0.0000e+00, 2.1660e-02, 1.1274e-01, 1.1120e-01, 6.9553e-02, 8.0945e-03,\n",
      "        6.8483e-02, 2.2987e-04, 0.0000e+00, 0.0000e+00, 7.1666e-02, 7.6488e-02,\n",
      "        4.0421e-02, 4.4795e-02, 1.2770e-02, 2.5271e-02, 3.5611e-02, 8.3011e-02,\n",
      "        8.5826e-03, 0.0000e+00, 0.0000e+00, 2.3115e-02, 4.3533e-03, 5.6988e-03,\n",
      "        3.7759e-03, 3.3531e-02, 3.5754e-03, 6.0896e-03, 1.3151e-02, 5.4906e-04,\n",
      "        7.5918e-02, 5.4290e-02, 7.4709e-02, 6.4787e-03, 7.7347e-02, 2.5924e-04,\n",
      "        5.6174e-03, 7.7253e-02, 0.0000e+00, 0.0000e+00, 1.2408e-03, 1.0599e-01,\n",
      "        4.4560e-03, 1.8893e-04, 0.0000e+00, 6.1873e-02, 7.9417e-03, 3.5150e-03,\n",
      "        6.5945e-02, 2.1925e-02, 5.4542e-02, 0.0000e+00, 5.4033e-03, 9.9242e-03,\n",
      "        7.4939e-02, 3.9563e-02, 0.0000e+00, 3.8307e-03, 5.0729e-02, 1.9545e-03,\n",
      "        3.1689e-02, 1.4038e-02, 1.4507e-02, 2.4042e-02, 6.9225e-02, 2.8205e-02,\n",
      "        8.7851e-03, 2.8745e-03, 5.5789e-03, 1.2135e-01, 1.6292e-03, 5.0495e-05,\n",
      "        6.4763e-02, 3.6800e-04, 7.2711e-02, 6.8693e-03, 3.6129e-02, 1.5635e-02,\n",
      "        3.7897e-02, 9.2305e-02, 2.1282e-02, 1.0219e-01, 2.2336e-04, 1.1250e-01,\n",
      "        8.5882e-02, 6.3090e-04, 4.7507e-03, 3.2699e-02, 3.8132e-02, 1.8327e-02,\n",
      "        1.1245e-01, 1.3470e-01, 6.4444e-03, 0.0000e+00, 1.0661e-01, 5.4645e-02,\n",
      "        9.5323e-02, 5.2121e-02, 4.7283e-02, 0.0000e+00, 8.4183e-02, 0.0000e+00,\n",
      "        7.4085e-02, 0.0000e+00, 4.7142e-02, 4.7388e-02, 6.6056e-02, 1.1305e-01,\n",
      "        5.9336e-02, 8.8920e-02, 4.6360e-02, 6.4835e-02, 8.2688e-03, 1.1849e-01,\n",
      "        1.3480e-01, 5.2662e-02, 7.0083e-02, 1.7148e-01, 5.8610e-02, 0.0000e+00,\n",
      "        3.1733e-02, 0.0000e+00, 8.1926e-02, 9.6444e-02, 4.1640e-02, 1.4439e-01,\n",
      "        5.3042e-02, 3.1710e-02, 6.2953e-02, 7.7701e-02, 8.6101e-03, 1.1495e-01,\n",
      "        3.3087e-02, 4.8784e-02, 9.6216e-02, 3.3365e-02, 5.0832e-02, 1.2467e-01,\n",
      "        1.1531e-01, 8.3020e-02, 4.8501e-02, 3.7787e-02, 1.5099e-01, 5.6165e-02,\n",
      "        3.1540e-02, 2.7365e-03, 5.7916e-02, 0.0000e+00, 5.7535e-02, 4.1235e-04,\n",
      "        4.9158e-02, 2.6672e-02, 6.1852e-02, 2.9099e-02, 8.8666e-03, 4.1015e-02,\n",
      "        2.6832e-03, 5.7514e-02, 4.0558e-03, 2.6483e-02, 1.2283e-01, 9.3033e-02,\n",
      "        1.3621e-02, 1.3206e-03, 1.0312e-02, 7.2676e-02, 7.0101e-02, 3.1350e-02,\n",
      "        8.9867e-02, 5.2412e-02, 1.8986e-01, 8.8254e-02, 1.2585e-01, 1.0858e-01,\n",
      "        6.8648e-02, 6.4546e-02, 8.0126e-02, 1.3586e-01, 9.6278e-02, 0.0000e+00,\n",
      "        1.6327e-01, 1.0531e-01, 1.3035e-01, 1.4050e-02, 7.9543e-02, 1.1107e-01,\n",
      "        7.6058e-02, 1.3513e-01, 4.0229e-02, 1.0715e-01, 5.4565e-02, 7.9905e-02,\n",
      "        1.8028e-02, 3.4883e-02, 1.6677e-02, 2.1816e-01, 1.4032e-01, 1.5077e-01,\n",
      "        1.0601e-01, 3.0039e-02, 3.3614e-01, 1.3880e-01, 1.7533e-01, 1.1046e-01,\n",
      "        6.5229e-02, 8.7948e-02, 9.6118e-02, 2.4551e-01, 1.1402e-01, 1.6526e-01,\n",
      "        2.8630e-01, 2.1846e-01, 1.8013e-02, 3.3222e-01, 1.3218e-01, 6.1225e-01,\n",
      "        1.1390e-01, 7.5962e-02, 1.2994e-01, 2.1255e-01, 1.0000e+00, 2.0577e-01]) tensor(1.0000) tensor(38.6133)\n",
      "Chosen edges: tensor([[ 10,  10,  10,  10,  10,  10,  10,   8,  10,  10],\n",
      "        [951, 956, 963, 966, 967, 969, 971, 975, 976, 977]]) 10\n"
     ]
    },
    {
     "name": "stderr",
     "output_type": "stream",
     "text": [
      "100%|██████████| 51/51 [00:04<00:00, 11.98it/s]\n"
     ]
    },
    {
     "name": "stdout",
     "output_type": "stream",
     "text": [
      "Fine-Tune Epoch 1/3 | Train Loss: 2.0721 | Val Loss: 1.9749\n"
     ]
    },
    {
     "name": "stderr",
     "output_type": "stream",
     "text": [
      "100%|██████████| 51/51 [00:04<00:00, 11.78it/s]\n"
     ]
    },
    {
     "name": "stdout",
     "output_type": "stream",
     "text": [
      "Fine-Tune Epoch 2/3 | Train Loss: 2.0314 | Val Loss: 1.9406\n"
     ]
    },
    {
     "name": "stderr",
     "output_type": "stream",
     "text": [
      "100%|██████████| 51/51 [00:04<00:00, 12.42it/s]\n"
     ]
    },
    {
     "name": "stdout",
     "output_type": "stream",
     "text": [
      "Fine-Tune Epoch 3/3 | Train Loss: 2.0116 | Val Loss: 1.9212\n"
     ]
    },
    {
     "name": "stderr",
     "output_type": "stream",
     "text": [
      "100%|██████████| 51/51 [00:05<00:00,  9.27it/s]\n"
     ]
    },
    {
     "name": "stdout",
     "output_type": "stream",
     "text": [
      "Epoch 48/100 | Train Loss: 1.9978 | Val Loss: 24.6571 | Val Accuracy: 0.3613\n",
      "Edge metrics: tensor([0.0000e+00, 4.4820e-02, 3.0583e-04, 2.4744e-02, 1.8402e-04, 2.5646e-04,\n",
      "        1.2784e-02, 4.6001e-02, 0.0000e+00, 2.0479e-03, 6.3499e-03, 5.8172e-03,\n",
      "        1.1089e-02, 1.8025e-02, 0.0000e+00, 1.9184e-02, 2.8854e-03, 1.5126e-02,\n",
      "        1.2920e-02, 4.5704e-03, 4.9749e-03, 2.5969e-02, 1.0284e-05, 8.5869e-04,\n",
      "        1.1062e-02, 3.1966e-03, 1.9870e-02, 4.0231e-03, 2.6976e-03, 5.6140e-03,\n",
      "        1.0087e-02, 2.6954e-02, 1.0381e-02, 1.8412e-06, 3.3803e-03, 6.8171e-06,\n",
      "        2.2634e-02, 1.8142e-02, 1.8180e-02, 1.2880e-03, 1.6555e-02, 1.9275e-02,\n",
      "        4.7696e-03, 1.3925e-03, 3.1672e-03, 1.6365e-05, 5.7373e-03, 7.0698e-03,\n",
      "        0.0000e+00, 1.0681e-02, 2.0992e-02, 3.8378e-03, 1.2039e-02, 9.0327e-03,\n",
      "        1.2118e-02, 5.5941e-06, 2.4403e-02, 3.9292e-03, 8.7648e-03, 9.3875e-03,\n",
      "        6.2934e-03, 1.8504e-04, 5.9845e-03, 5.3799e-03, 6.4466e-03, 1.3730e-02,\n",
      "        9.0763e-03, 8.6788e-03, 1.5720e-03, 1.3692e-02, 1.0762e-02, 4.1641e-04,\n",
      "        0.0000e+00, 3.5890e-03, 1.2282e-03, 7.4262e-02, 1.1097e-01, 5.1036e-02,\n",
      "        3.9405e-03, 8.4362e-02, 1.3439e-01, 6.8751e-03, 2.2705e-02, 7.7228e-02,\n",
      "        1.8131e-02, 1.7368e-02, 6.6973e-03, 1.4052e-02, 2.8321e-02, 8.5425e-02,\n",
      "        2.5092e-02, 7.4000e-02, 3.3996e-03, 2.6995e-03, 4.4571e-05, 1.1788e-02,\n",
      "        5.7368e-02, 8.4713e-02, 2.8331e-02, 2.8712e-02, 3.1859e-02, 6.0718e-02,\n",
      "        5.5091e-02, 2.4160e-05, 8.8647e-02, 8.7755e-03, 1.1191e-01, 3.5311e-02,\n",
      "        2.4730e-02, 9.2617e-04, 5.4324e-02, 7.7765e-02, 6.5187e-02, 2.4129e-02,\n",
      "        4.8486e-02, 3.6837e-02, 6.4511e-02, 5.9298e-05, 7.5229e-02, 3.1347e-02,\n",
      "        1.7589e-03, 1.5901e-02, 7.8831e-03, 2.1298e-02, 5.3534e-02, 5.7450e-02,\n",
      "        7.2320e-03, 0.0000e+00, 4.4192e-03, 0.0000e+00, 9.4405e-02, 2.6161e-02,\n",
      "        9.7343e-03, 9.8255e-04, 9.9256e-03, 9.1337e-02, 2.8798e-02, 4.5940e-02,\n",
      "        6.7843e-02, 1.7032e-05, 1.4380e-04, 7.3209e-03, 3.7098e-02, 3.2430e-02,\n",
      "        4.2401e-04, 5.0238e-02, 1.8806e-02, 6.4182e-02, 4.2704e-02, 6.9867e-02,\n",
      "        7.4291e-02, 3.6938e-02, 2.5456e-03, 1.8797e-02, 1.9111e-02, 6.6737e-02,\n",
      "        6.5903e-02, 1.0941e-02, 0.0000e+00, 1.6948e-02, 4.4572e-03, 1.2806e-02,\n",
      "        3.4387e-02, 1.2678e-01, 7.4896e-02, 4.3737e-05, 4.3568e-02, 3.8042e-02,\n",
      "        1.8787e-03, 9.4525e-03, 9.6987e-02, 5.5865e-02, 5.1092e-02, 2.7958e-04,\n",
      "        4.6765e-02, 7.6926e-02, 3.6525e-03, 3.0808e-02, 8.0620e-03, 5.3185e-02,\n",
      "        0.0000e+00, 6.5002e-03, 0.0000e+00, 1.1198e-02, 8.5801e-04, 6.6193e-02,\n",
      "        5.8684e-02, 2.7529e-03, 9.4199e-02, 1.9201e-02, 8.9783e-02, 2.0668e-02,\n",
      "        6.4514e-03, 2.3811e-02, 2.7333e-02, 1.0577e-01, 0.0000e+00, 2.8689e-02,\n",
      "        3.2992e-02, 3.8481e-02, 8.4765e-04, 1.0078e-03, 7.7754e-02, 4.4793e-05,\n",
      "        1.1913e-03, 3.8787e-04, 2.0728e-02, 6.8641e-03, 3.8130e-02, 1.6803e-02,\n",
      "        1.8340e-02, 4.9984e-02, 1.0549e-02, 2.1039e-06, 3.9402e-02, 8.1731e-06,\n",
      "        4.0825e-02, 2.9009e-02, 1.9418e-02, 2.0781e-03, 7.9283e-02, 1.8476e-02,\n",
      "        1.0303e-02, 8.7196e-03, 3.2455e-05, 1.7805e-03, 6.4727e-02, 0.0000e+00,\n",
      "        2.1980e-02, 6.5256e-03, 1.5700e-02, 1.8739e-02, 2.0701e-02, 2.8137e-05,\n",
      "        1.1208e-02, 2.8499e-02, 3.6094e-02, 1.0888e-02, 4.9272e-04, 5.7614e-03,\n",
      "        1.5530e-03, 6.8333e-03, 3.0282e-02, 2.3030e-02, 1.4465e-02, 4.3155e-03,\n",
      "        1.6906e-02, 9.0731e-03, 0.0000e+00, 1.2789e-03, 9.2925e-02, 6.6443e-03,\n",
      "        3.3848e-02, 3.5505e-02, 0.0000e+00, 1.5472e-02, 9.1910e-02, 6.5696e-02,\n",
      "        8.8930e-02, 1.2301e-03, 3.8084e-02, 7.0989e-02, 2.1015e-02, 1.9014e-02,\n",
      "        3.5844e-02, 8.2369e-02, 6.9586e-02, 4.2941e-04, 9.2405e-02, 1.0031e-02,\n",
      "        3.4123e-02, 1.1169e-02, 1.1403e-02, 5.9277e-04, 1.0482e-02, 2.1075e-02,\n",
      "        4.7373e-02, 1.1418e-01, 6.1119e-02, 5.0534e-02, 6.2633e-02, 8.3396e-05,\n",
      "        2.0008e-02, 5.3092e-02, 5.9258e-02, 9.6090e-03, 5.1660e-02, 9.4456e-02,\n",
      "        5.3512e-02, 8.1065e-03, 4.0477e-02, 7.4950e-02, 4.4382e-03, 1.0841e-02,\n",
      "        0.0000e+00, 5.5626e-04, 6.2013e-02, 5.5753e-03, 2.6870e-04, 1.6359e-02,\n",
      "        1.2231e-01, 5.6695e-02, 1.9387e-02, 3.0005e-02, 0.0000e+00, 3.5570e-02,\n",
      "        6.9921e-02, 4.9912e-04, 2.9872e-02, 1.0515e-01, 8.6840e-04, 1.2048e-02,\n",
      "        1.2708e-02, 3.0437e-02, 7.0130e-04, 1.5993e-02, 8.1988e-02, 7.4706e-02,\n",
      "        5.1368e-05, 2.0689e-02, 7.8908e-02, 3.3028e-02, 2.5621e-02, 7.0942e-02,\n",
      "        5.4087e-02, 5.0649e-02, 1.2422e-02, 7.0482e-02, 6.3288e-03, 1.9150e-02,\n",
      "        2.1545e-02, 0.0000e+00, 8.0427e-02, 2.6328e-02, 7.8013e-03, 7.9021e-03,\n",
      "        4.0718e-04, 1.0613e-02, 6.5115e-02, 3.2701e-02, 2.7599e-02, 8.1706e-02,\n",
      "        7.2513e-02, 6.2380e-05, 4.4219e-04, 1.1324e-01, 7.9136e-03, 4.4207e-02,\n",
      "        2.0572e-02, 2.0245e-03, 7.3986e-02, 4.6484e-02, 8.3350e-02, 3.5808e-02,\n",
      "        5.7916e-02, 5.0325e-03, 1.3709e-02, 5.1452e-02, 6.5569e-02, 7.6805e-02,\n",
      "        7.0552e-03, 1.0551e-02, 8.5674e-03, 3.7611e-03, 4.0906e-02, 0.0000e+00,\n",
      "        3.1233e-03, 7.9449e-02, 4.2829e-02, 0.0000e+00, 1.3125e-02, 0.0000e+00,\n",
      "        2.1453e-02, 0.0000e+00, 4.1756e-02, 6.1830e-02, 0.0000e+00, 6.7909e-02,\n",
      "        6.5648e-02, 2.0336e-02, 1.2658e-01, 4.7623e-02, 1.0437e-02, 8.2874e-02,\n",
      "        9.3605e-02, 0.0000e+00, 2.5149e-02, 5.9912e-02, 1.5878e-02, 8.7547e-02,\n",
      "        0.0000e+00, 9.0895e-03, 2.6210e-02, 9.3836e-02, 8.8793e-03, 7.5160e-02,\n",
      "        0.0000e+00, 0.0000e+00, 5.3786e-02, 9.8923e-03, 0.0000e+00, 0.0000e+00,\n",
      "        1.4201e-02, 0.0000e+00, 3.2767e-02, 7.2887e-02, 3.2579e-02, 8.4425e-02,\n",
      "        5.2953e-02, 4.2523e-03, 4.3866e-03, 9.8129e-03, 3.2606e-02, 3.0943e-02,\n",
      "        4.7197e-02, 2.5545e-02, 2.0283e-02, 2.4543e-02, 0.0000e+00, 0.0000e+00,\n",
      "        2.8373e-02, 1.5883e-03, 3.2495e-02, 0.0000e+00, 3.8470e-02, 2.1221e-02,\n",
      "        0.0000e+00, 0.0000e+00, 6.7146e-02, 8.8701e-02, 4.2787e-02, 5.0965e-02,\n",
      "        1.0624e-02, 0.0000e+00, 1.7453e-03, 8.7255e-03, 1.1559e-04, 8.5796e-03,\n",
      "        0.0000e+00, 2.6216e-04, 0.0000e+00, 0.0000e+00, 5.5764e-03, 7.7502e-02,\n",
      "        0.0000e+00, 1.9648e-02, 4.9661e-04, 7.7443e-03, 6.6304e-02, 9.2125e-03,\n",
      "        1.2342e-02, 7.2155e-02, 0.0000e+00, 2.5451e-02, 3.5461e-02, 6.8338e-02,\n",
      "        3.9518e-03, 4.5046e-02, 0.0000e+00, 5.3303e-02, 1.0407e-01, 5.4133e-02,\n",
      "        9.6601e-03, 0.0000e+00, 1.5493e-02, 5.3092e-02, 3.5828e-04, 5.7426e-02,\n",
      "        1.5614e-02, 1.1874e-02, 1.4736e-02, 5.4373e-03, 7.4366e-03, 4.6721e-03,\n",
      "        0.0000e+00, 4.3741e-02, 0.0000e+00, 1.0625e-02, 9.4304e-02, 1.2485e-01,\n",
      "        3.2122e-02, 1.4026e-02, 2.1137e-02, 4.5852e-02, 1.9282e-03, 6.0189e-02,\n",
      "        1.8224e-03, 9.5526e-02, 0.0000e+00, 1.1476e-03, 2.0105e-02, 0.0000e+00,\n",
      "        0.0000e+00, 0.0000e+00, 0.0000e+00, 4.5031e-02, 2.0175e-02, 0.0000e+00,\n",
      "        0.0000e+00, 5.0716e-03, 2.1475e-02, 0.0000e+00, 2.7605e-02, 0.0000e+00,\n",
      "        9.4823e-03, 0.0000e+00, 5.3143e-05, 0.0000e+00, 1.0940e-02, 2.0253e-03,\n",
      "        0.0000e+00, 0.0000e+00, 0.0000e+00, 1.5130e-02, 0.0000e+00, 5.0000e-03,\n",
      "        0.0000e+00, 7.1606e-02, 5.4814e-02, 0.0000e+00, 9.0827e-03, 1.1871e-03,\n",
      "        6.6408e-02, 0.0000e+00, 1.6399e-02, 0.0000e+00, 4.3447e-03, 0.0000e+00,\n",
      "        0.0000e+00, 8.7060e-02, 5.7930e-04, 1.6086e-02, 0.0000e+00, 6.3799e-02,\n",
      "        5.3996e-02, 0.0000e+00, 5.3059e-03, 6.7372e-03, 0.0000e+00, 0.0000e+00,\n",
      "        2.8519e-05, 3.1267e-04, 0.0000e+00, 3.4933e-02, 0.0000e+00, 7.2696e-03,\n",
      "        3.5971e-02, 0.0000e+00, 3.4294e-02, 2.4737e-02, 0.0000e+00, 1.7019e-02,\n",
      "        5.9326e-02, 3.9435e-02, 0.0000e+00, 5.3626e-03, 7.3024e-02, 1.0101e-03,\n",
      "        2.6863e-03, 4.9787e-02, 0.0000e+00, 5.0817e-02, 2.2357e-02, 0.0000e+00,\n",
      "        5.7901e-02, 6.8825e-04, 1.0138e-01, 0.0000e+00, 0.0000e+00, 2.0502e-02,\n",
      "        0.0000e+00, 0.0000e+00, 0.0000e+00, 0.0000e+00, 0.0000e+00, 0.0000e+00,\n",
      "        1.6291e-02, 4.2220e-02, 0.0000e+00, 0.0000e+00, 0.0000e+00, 1.9794e-02,\n",
      "        9.4977e-03, 2.5168e-02, 2.3850e-02, 2.7631e-02, 2.1346e-02, 6.7399e-02,\n",
      "        0.0000e+00, 0.0000e+00, 1.2664e-02, 3.1711e-02, 0.0000e+00, 8.1994e-02,\n",
      "        9.2734e-03, 0.0000e+00, 1.1549e-05, 2.3435e-02, 6.8169e-03, 0.0000e+00,\n",
      "        2.0359e-03, 5.9264e-03, 1.8071e-02, 0.0000e+00, 2.8616e-02, 0.0000e+00,\n",
      "        7.8354e-04, 0.0000e+00, 0.0000e+00, 5.6199e-04, 6.0960e-02, 2.5803e-02,\n",
      "        5.2220e-03, 8.3000e-03, 3.4492e-03, 2.3279e-02, 7.0511e-03, 1.9797e-02,\n",
      "        3.7152e-04, 0.0000e+00, 0.0000e+00, 7.8107e-02, 1.4497e-02, 1.0727e-01,\n",
      "        0.0000e+00, 2.1739e-02, 0.0000e+00, 9.7945e-04, 7.3209e-05, 9.6814e-03,\n",
      "        7.7784e-02, 2.2623e-03, 2.8102e-02, 3.8327e-03, 3.2761e-02, 2.9030e-02,\n",
      "        4.7207e-03, 8.6528e-02, 6.5781e-05, 1.9951e-03, 1.0589e-02, 6.3403e-03,\n",
      "        0.0000e+00, 0.0000e+00, 1.3072e-02, 1.2352e-02, 8.3240e-03, 0.0000e+00,\n",
      "        1.6005e-02, 9.1106e-03, 4.9190e-03, 0.0000e+00, 0.0000e+00, 8.3813e-03,\n",
      "        1.3211e-02, 2.3393e-02, 1.4225e-04, 0.0000e+00, 8.8612e-03, 2.9788e-02,\n",
      "        4.4674e-02, 4.8403e-02, 4.0671e-02, 4.1745e-02, 1.7599e-02, 6.4230e-02,\n",
      "        6.7103e-04, 4.1269e-03, 6.7096e-05, 6.4068e-02, 1.5106e-02, 4.0287e-02,\n",
      "        4.1345e-04, 3.0687e-02, 4.3863e-02, 0.0000e+00, 0.0000e+00, 1.3322e-02,\n",
      "        7.4179e-02, 1.8929e-02, 5.2551e-02, 0.0000e+00, 3.9987e-02, 4.3423e-02,\n",
      "        1.2148e-02, 1.6232e-03, 0.0000e+00, 8.1539e-03, 3.8321e-02, 0.0000e+00,\n",
      "        3.8120e-03, 7.3536e-03, 5.9716e-03, 3.4889e-03, 9.0389e-03, 2.3345e-03,\n",
      "        0.0000e+00, 0.0000e+00, 4.6844e-02, 0.0000e+00, 2.6308e-02, 0.0000e+00,\n",
      "        6.7568e-02, 7.9305e-02, 5.0194e-02, 0.0000e+00, 3.9687e-02, 0.0000e+00,\n",
      "        2.4393e-02, 0.0000e+00, 3.4318e-03, 4.9533e-02, 9.0089e-02, 0.0000e+00,\n",
      "        0.0000e+00, 0.0000e+00, 7.2119e-02, 0.0000e+00, 0.0000e+00, 1.9182e-02,\n",
      "        0.0000e+00, 4.0486e-03, 1.8387e-02, 1.0594e-03, 5.1199e-02, 1.6018e-02,\n",
      "        2.5626e-02, 0.0000e+00, 1.1964e-02, 1.5803e-02, 5.5560e-03, 3.1796e-03,\n",
      "        3.4854e-02, 3.0835e-02, 0.0000e+00, 4.2040e-02, 4.6049e-02, 1.8391e-02,\n",
      "        0.0000e+00, 2.4234e-02, 8.4746e-02, 1.0302e-01, 5.3719e-02, 8.3350e-03,\n",
      "        5.4816e-02, 0.0000e+00, 0.0000e+00, 0.0000e+00, 4.6353e-02, 8.6168e-02,\n",
      "        3.0439e-02, 3.2736e-02, 1.1924e-02, 2.5320e-02, 2.9648e-02, 6.2845e-02,\n",
      "        6.0923e-03, 0.0000e+00, 0.0000e+00, 1.1080e-02, 3.7197e-03, 4.7674e-03,\n",
      "        2.1034e-03, 3.2528e-02, 3.1246e-03, 5.7880e-03, 1.0055e-02, 1.8975e-04,\n",
      "        5.6265e-02, 4.4102e-02, 5.0460e-02, 4.7349e-03, 5.6354e-02, 0.0000e+00,\n",
      "        1.9368e-03, 5.8473e-02, 0.0000e+00, 0.0000e+00, 7.1872e-04, 8.8239e-02,\n",
      "        3.1818e-03, 5.9071e-05, 0.0000e+00, 4.0104e-02, 6.4432e-03, 4.1440e-03,\n",
      "        5.0257e-02, 1.8897e-02, 3.6405e-02, 0.0000e+00, 6.7654e-03, 7.6205e-03,\n",
      "        5.2674e-02, 2.9668e-02, 0.0000e+00, 3.8522e-03, 3.6863e-02, 1.5039e-03,\n",
      "        2.1770e-02, 7.5094e-03, 8.8481e-03, 1.6504e-02, 5.4114e-02, 1.7960e-02,\n",
      "        6.7679e-03, 2.6980e-03, 7.5196e-03, 8.6009e-02, 1.4860e-03, 1.3436e-05,\n",
      "        4.3713e-02, 1.5996e-04, 5.3017e-02, 6.2340e-03, 2.3681e-02, 1.5652e-02,\n",
      "        3.1923e-02, 5.5718e-02, 1.6301e-02, 7.8687e-02, 6.5945e-05, 8.6579e-02,\n",
      "        7.1046e-02, 2.9060e-04, 3.0070e-03, 2.4021e-02, 2.1776e-02, 1.6148e-02,\n",
      "        1.1009e-01, 9.0513e-02, 0.0000e+00, 0.0000e+00, 7.2108e-02, 3.6951e-02,\n",
      "        7.9978e-02, 3.6760e-02, 8.9900e-03, 0.0000e+00, 5.2887e-02, 0.0000e+00,\n",
      "        4.7969e-02, 0.0000e+00, 3.7385e-02, 3.4428e-02, 4.7698e-02, 8.1500e-02,\n",
      "        3.7107e-02, 5.7736e-02, 3.1299e-02, 4.7406e-02, 7.6873e-03, 9.3061e-02,\n",
      "        9.3229e-02, 3.8274e-02, 4.9107e-02, 1.2141e-01, 4.7349e-02, 0.0000e+00,\n",
      "        2.9999e-02, 0.0000e+00, 5.4088e-02, 8.2655e-02, 2.5714e-02, 1.1881e-01,\n",
      "        4.2793e-02, 2.5041e-02, 8.4455e-02, 4.6834e-02, 3.6891e-03, 8.5102e-02,\n",
      "        2.7004e-02, 4.2216e-02, 7.6962e-02, 2.7777e-02, 3.3498e-02, 9.9446e-02,\n",
      "        6.3842e-02, 5.1973e-02, 3.8267e-02, 2.3002e-02, 2.8843e-01, 3.5227e-02,\n",
      "        2.0528e-02, 1.9908e-03, 4.3186e-02, 0.0000e+00, 3.8588e-02, 2.2493e-04,\n",
      "        2.3256e-02, 1.6161e-02, 4.3529e-02, 1.5422e-02, 6.9787e-03, 3.4828e-02,\n",
      "        1.5823e-03, 5.9856e-02, 0.0000e+00, 1.7239e-02, 1.0710e-01, 7.3078e-02,\n",
      "        1.4210e-02, 8.1344e-04, 9.3358e-03, 4.0853e-02, 3.0884e-02, 2.1751e-02,\n",
      "        7.4101e-02, 3.5537e-02, 1.5342e-01, 7.3493e-02, 9.3758e-02, 8.3588e-02,\n",
      "        4.5386e-02, 5.2595e-02, 6.5195e-02, 2.4481e-01, 7.6534e-02, 0.0000e+00,\n",
      "        1.6327e-01, 7.4199e-02, 9.3247e-02, 1.4496e-02, 4.7709e-02, 9.1508e-02,\n",
      "        4.5399e-02, 9.3443e-02, 2.5949e-02, 7.6872e-02, 6.2668e-02, 5.1953e-02,\n",
      "        1.4355e-02, 3.4182e-02, 1.8116e-02, 1.0583e-01, 1.2525e-01, 6.3931e-02,\n",
      "        1.7107e-02, 1.3654e-01, 1.8239e-01, 8.9586e-02, 5.6142e-02, 7.2630e-02,\n",
      "        8.5986e-02, 8.5935e-02, 1.4042e-01, 3.2704e-02, 2.5145e-01, 9.5391e-02,\n",
      "        7.5693e-02, 2.2128e-01, 1.9058e-01, 4.3628e-02, 1.5573e-01, 2.6897e-01,\n",
      "        1.6572e-01, 1.1984e-01, 1.0000e+00, 5.2091e-02, 6.2048e-01, 2.8175e-01]) tensor(1.0000) tensor(30.2563)\n",
      "Chosen edges: tensor([[ 10,  10,  10,  10,  10,  10,  10,  10],\n",
      "        [866, 918, 970, 974, 981, 984, 986, 987]]) 8\n"
     ]
    },
    {
     "name": "stderr",
     "output_type": "stream",
     "text": [
      "100%|██████████| 51/51 [00:04<00:00, 11.02it/s]\n"
     ]
    },
    {
     "name": "stdout",
     "output_type": "stream",
     "text": [
      "Fine-Tune Epoch 1/3 | Train Loss: 2.0058 | Val Loss: 1.9107\n"
     ]
    },
    {
     "name": "stderr",
     "output_type": "stream",
     "text": [
      "100%|██████████| 51/51 [00:04<00:00, 12.15it/s]\n"
     ]
    },
    {
     "name": "stdout",
     "output_type": "stream",
     "text": [
      "Fine-Tune Epoch 2/3 | Train Loss: 1.9987 | Val Loss: 1.9017\n"
     ]
    },
    {
     "name": "stderr",
     "output_type": "stream",
     "text": [
      "100%|██████████| 51/51 [00:04<00:00, 11.29it/s]\n"
     ]
    },
    {
     "name": "stdout",
     "output_type": "stream",
     "text": [
      "Fine-Tune Epoch 3/3 | Train Loss: 1.9884 | Val Loss: 1.8981\n"
     ]
    },
    {
     "name": "stderr",
     "output_type": "stream",
     "text": [
      "100%|██████████| 51/51 [00:05<00:00,  8.59it/s]\n"
     ]
    },
    {
     "name": "stdout",
     "output_type": "stream",
     "text": [
      "Epoch 49/100 | Train Loss: 1.9797 | Val Loss: 24.5489 | Val Accuracy: 0.3620\n",
      "Edge metrics: tensor([0.0000e+00, 5.4154e-02, 1.6471e-04, 2.9675e-02, 1.5943e-04, 2.4578e-04,\n",
      "        1.3382e-02, 5.3164e-02, 0.0000e+00, 2.2324e-03, 6.9155e-03, 7.4084e-03,\n",
      "        1.4359e-02, 2.3997e-02, 0.0000e+00, 2.4580e-02, 3.7389e-03, 1.8980e-02,\n",
      "        1.5798e-02, 4.5056e-03, 5.7860e-03, 2.8383e-02, 7.6421e-06, 1.1696e-03,\n",
      "        1.2907e-02, 3.8304e-03, 2.3283e-02, 4.7337e-03, 2.7904e-03, 5.9797e-03,\n",
      "        9.9922e-03, 3.5019e-02, 1.4503e-02, 7.1248e-07, 4.3046e-03, 3.4654e-06,\n",
      "        2.6526e-02, 2.2633e-02, 2.3128e-02, 2.3741e-03, 2.0756e-02, 2.3814e-02,\n",
      "        4.8119e-03, 1.1550e-03, 4.1525e-03, 1.5674e-05, 6.1189e-03, 7.8073e-03,\n",
      "        0.0000e+00, 1.2835e-02, 2.5961e-02, 4.0411e-03, 1.5732e-02, 1.0020e-02,\n",
      "        1.4381e-02, 4.1024e-06, 3.0586e-02, 4.3597e-03, 1.0783e-02, 1.2690e-02,\n",
      "        9.3361e-03, 4.7791e-04, 7.3134e-03, 5.9303e-03, 7.9343e-03, 1.6688e-02,\n",
      "        1.0804e-02, 1.0182e-02, 1.7523e-03, 1.6036e-02, 1.5095e-02, 5.5494e-04,\n",
      "        0.0000e+00, 4.1673e-03, 9.7029e-04, 9.4160e-02, 1.1408e-01, 7.4104e-02,\n",
      "        4.0446e-03, 8.8259e-02, 1.9583e-01, 1.5680e-02, 3.1937e-02, 9.2619e-02,\n",
      "        2.6072e-02, 2.3979e-02, 7.5302e-03, 1.8857e-02, 3.9684e-02, 1.1611e-01,\n",
      "        3.2948e-02, 1.0194e-01, 2.9535e-03, 4.2114e-03, 3.4812e-05, 1.6930e-02,\n",
      "        7.1169e-02, 1.0631e-01, 3.5942e-02, 3.3445e-02, 3.9217e-02, 6.5932e-02,\n",
      "        7.6631e-02, 1.5640e-05, 1.1993e-01, 2.1219e-02, 1.4711e-01, 3.6613e-02,\n",
      "        2.9428e-02, 9.2028e-04, 6.4295e-02, 9.9821e-02, 8.5967e-02, 2.9446e-02,\n",
      "        6.7773e-02, 4.4332e-02, 8.4261e-02, 6.0293e-05, 9.7937e-02, 4.6349e-02,\n",
      "        4.6724e-03, 1.9833e-02, 9.4336e-03, 2.6478e-02, 6.5691e-02, 8.3016e-02,\n",
      "        1.0046e-02, 0.0000e+00, 6.4054e-03, 0.0000e+00, 1.3141e-01, 3.7036e-02,\n",
      "        9.5973e-03, 6.8640e-04, 1.4685e-02, 1.1569e-01, 3.7728e-02, 6.1439e-02,\n",
      "        6.6678e-02, 9.3719e-06, 9.1914e-05, 1.4746e-02, 4.0768e-02, 4.5398e-02,\n",
      "        4.3951e-04, 6.2538e-02, 2.2083e-02, 9.0504e-02, 5.1329e-02, 9.1710e-02,\n",
      "        1.0179e-01, 5.5454e-02, 5.9863e-03, 2.3299e-02, 2.6288e-02, 8.3728e-02,\n",
      "        9.6062e-02, 1.7194e-02, 0.0000e+00, 2.3284e-02, 3.8340e-03, 1.8077e-02,\n",
      "        4.7435e-02, 1.3324e-01, 1.1054e-01, 2.5556e-05, 5.3300e-02, 5.3644e-02,\n",
      "        2.2380e-03, 1.0791e-02, 1.1855e-01, 6.1923e-02, 6.8422e-02, 3.5260e-04,\n",
      "        5.6546e-02, 1.1240e-01, 9.3989e-03, 4.1355e-02, 9.7071e-03, 6.5848e-02,\n",
      "        0.0000e+00, 9.3798e-03, 0.0000e+00, 1.2098e-02, 5.6092e-04, 6.8573e-02,\n",
      "        8.0324e-02, 3.2227e-03, 1.3653e-01, 2.4851e-02, 1.1412e-01, 2.8970e-02,\n",
      "        8.0190e-03, 3.4849e-02, 3.5633e-02, 1.5204e-01, 0.0000e+00, 3.7994e-02,\n",
      "        4.4086e-02, 5.1723e-02, 7.5318e-04, 1.3885e-03, 7.9286e-02, 3.5974e-05,\n",
      "        1.6356e-03, 5.2200e-04, 2.5311e-02, 8.2094e-03, 5.2281e-02, 1.8844e-02,\n",
      "        2.2435e-02, 6.5555e-02, 1.6374e-02, 8.6167e-07, 5.8514e-02, 4.0233e-06,\n",
      "        5.2690e-02, 3.9619e-02, 2.7928e-02, 3.8222e-03, 1.2621e-01, 1.8338e-02,\n",
      "        1.1244e-02, 1.2999e-02, 3.2228e-05, 2.0230e-03, 8.4689e-02, 0.0000e+00,\n",
      "        2.7937e-02, 6.4339e-03, 2.1187e-02, 2.3537e-02, 3.2034e-02, 2.4466e-05,\n",
      "        1.3377e-02, 4.1969e-02, 6.6011e-02, 1.6183e-02, 1.4414e-03, 7.1942e-03,\n",
      "        1.8978e-03, 8.6020e-03, 3.9225e-02, 2.8074e-02, 2.1272e-02, 5.0053e-03,\n",
      "        2.4640e-02, 1.2963e-02, 0.0000e+00, 1.8228e-03, 1.1806e-01, 6.9745e-03,\n",
      "        3.8812e-02, 4.5076e-02, 0.0000e+00, 2.4306e-02, 1.1900e-01, 8.4521e-02,\n",
      "        1.0768e-01, 1.0322e-03, 4.8039e-02, 9.3978e-02, 2.7603e-02, 2.0485e-02,\n",
      "        4.0947e-02, 9.7666e-02, 1.0565e-01, 2.5793e-04, 1.2866e-01, 1.9797e-02,\n",
      "        3.9295e-02, 1.1998e-02, 1.8742e-02, 5.3795e-04, 1.1693e-02, 2.8557e-02,\n",
      "        6.3316e-02, 1.4270e-01, 7.4619e-02, 5.8070e-02, 7.3387e-02, 3.3581e-05,\n",
      "        2.3704e-02, 6.5544e-02, 9.2848e-02, 1.6700e-02, 7.1924e-02, 1.1192e-01,\n",
      "        6.5730e-02, 1.0106e-02, 5.4018e-02, 1.0471e-01, 6.4830e-03, 1.5007e-02,\n",
      "        0.0000e+00, 4.5463e-04, 8.2593e-02, 5.9309e-03, 2.6766e-04, 1.9888e-02,\n",
      "        1.9535e-01, 7.4109e-02, 2.3152e-02, 4.1553e-02, 0.0000e+00, 5.0217e-02,\n",
      "        9.1425e-02, 3.3463e-04, 3.3244e-02, 1.5978e-01, 5.6999e-04, 2.2880e-02,\n",
      "        1.3784e-02, 4.5140e-02, 7.5203e-04, 1.8369e-02, 1.0348e-01, 1.2575e-01,\n",
      "        4.1122e-05, 2.5522e-02, 1.2932e-01, 4.2225e-02, 3.0686e-02, 9.2644e-02,\n",
      "        7.6416e-02, 6.3151e-02, 1.5450e-02, 9.2837e-02, 9.9301e-03, 2.6365e-02,\n",
      "        2.5988e-02, 0.0000e+00, 1.1775e-01, 3.8107e-02, 7.1041e-03, 1.1277e-02,\n",
      "        2.3139e-04, 1.6514e-02, 8.1338e-02, 4.2947e-02, 3.2219e-02, 8.3939e-02,\n",
      "        9.3795e-02, 3.3395e-05, 2.5106e-04, 1.5074e-01, 1.7132e-02, 5.0191e-02,\n",
      "        3.3218e-02, 2.1042e-03, 1.0455e-01, 5.8790e-02, 9.4420e-02, 4.3602e-02,\n",
      "        8.2323e-02, 1.1256e-02, 1.6535e-02, 6.4565e-02, 8.1516e-02, 1.0987e-01,\n",
      "        9.3278e-03, 1.3863e-02, 1.2068e-02, 4.2843e-03, 6.1459e-02, 0.0000e+00,\n",
      "        2.9161e-03, 1.0709e-01, 6.9710e-02, 0.0000e+00, 1.9692e-02, 0.0000e+00,\n",
      "        2.7481e-02, 0.0000e+00, 4.3573e-02, 8.0895e-02, 0.0000e+00, 8.6194e-02,\n",
      "        9.0262e-02, 2.5837e-02, 1.9709e-01, 5.8598e-02, 1.3876e-02, 1.2050e-01,\n",
      "        1.3130e-01, 0.0000e+00, 3.1205e-02, 8.3916e-02, 2.0523e-02, 1.1837e-01,\n",
      "        0.0000e+00, 1.5318e-02, 3.4517e-02, 1.3143e-01, 1.1262e-02, 9.4709e-02,\n",
      "        0.0000e+00, 0.0000e+00, 6.4412e-02, 1.2456e-02, 0.0000e+00, 0.0000e+00,\n",
      "        1.6245e-02, 0.0000e+00, 2.9628e-02, 6.6505e-02, 4.6822e-02, 8.3479e-02,\n",
      "        7.4568e-02, 5.6893e-03, 5.9709e-03, 1.2396e-02, 4.9613e-02, 2.9900e-02,\n",
      "        5.4816e-02, 3.6600e-02, 2.5693e-02, 3.3627e-02, 0.0000e+00, 0.0000e+00,\n",
      "        4.8471e-02, 2.0401e-03, 4.3889e-02, 0.0000e+00, 5.3995e-02, 2.9218e-02,\n",
      "        0.0000e+00, 0.0000e+00, 9.6125e-02, 1.0281e-01, 5.1977e-02, 6.4032e-02,\n",
      "        1.3698e-02, 0.0000e+00, 2.5986e-03, 1.0436e-02, 1.0542e-04, 1.1447e-02,\n",
      "        0.0000e+00, 2.6733e-04, 0.0000e+00, 0.0000e+00, 7.3025e-03, 1.0454e-01,\n",
      "        0.0000e+00, 2.4802e-02, 3.5718e-04, 8.0778e-03, 9.2380e-02, 1.2268e-02,\n",
      "        1.6574e-02, 1.0647e-01, 0.0000e+00, 3.4930e-02, 4.5864e-02, 9.8915e-02,\n",
      "        4.4159e-03, 6.8920e-02, 0.0000e+00, 7.3588e-02, 1.3514e-01, 7.9058e-02,\n",
      "        1.3809e-02, 0.0000e+00, 1.9857e-02, 7.0178e-02, 3.9199e-04, 7.2992e-02,\n",
      "        1.9460e-02, 1.5439e-02, 1.9634e-02, 1.0030e-02, 1.0391e-02, 4.9159e-03,\n",
      "        0.0000e+00, 5.3950e-02, 0.0000e+00, 1.4845e-02, 1.2544e-01, 1.4903e-01,\n",
      "        4.2670e-02, 1.9870e-02, 2.9181e-02, 8.0121e-02, 1.9315e-03, 8.4526e-02,\n",
      "        1.6248e-03, 1.2386e-01, 0.0000e+00, 1.4247e-03, 2.3499e-02, 0.0000e+00,\n",
      "        0.0000e+00, 0.0000e+00, 0.0000e+00, 6.5633e-02, 1.9569e-02, 0.0000e+00,\n",
      "        0.0000e+00, 4.2267e-03, 2.3963e-02, 0.0000e+00, 3.4469e-02, 0.0000e+00,\n",
      "        1.1321e-02, 0.0000e+00, 3.2560e-05, 0.0000e+00, 1.6352e-02, 2.9731e-03,\n",
      "        0.0000e+00, 0.0000e+00, 0.0000e+00, 1.6651e-02, 0.0000e+00, 5.1163e-03,\n",
      "        0.0000e+00, 9.1262e-02, 5.4425e-02, 0.0000e+00, 1.2073e-02, 1.6965e-03,\n",
      "        8.8702e-02, 0.0000e+00, 2.2015e-02, 0.0000e+00, 5.9147e-03, 0.0000e+00,\n",
      "        0.0000e+00, 1.2782e-01, 7.6218e-04, 2.0752e-02, 0.0000e+00, 8.7302e-02,\n",
      "        7.2331e-02, 0.0000e+00, 5.4435e-03, 8.1123e-03, 0.0000e+00, 0.0000e+00,\n",
      "        4.4721e-06, 2.0064e-04, 0.0000e+00, 4.8540e-02, 0.0000e+00, 9.1977e-03,\n",
      "        4.1717e-02, 0.0000e+00, 5.2273e-02, 2.9316e-02, 0.0000e+00, 3.0148e-02,\n",
      "        8.2511e-02, 3.1432e-02, 0.0000e+00, 7.5172e-03, 1.0169e-01, 1.4817e-03,\n",
      "        3.4621e-03, 6.9853e-02, 0.0000e+00, 6.3946e-02, 3.5694e-02, 0.0000e+00,\n",
      "        7.8446e-02, 8.1797e-04, 1.5396e-01, 0.0000e+00, 0.0000e+00, 2.2688e-02,\n",
      "        0.0000e+00, 0.0000e+00, 0.0000e+00, 0.0000e+00, 0.0000e+00, 0.0000e+00,\n",
      "        1.9745e-02, 6.2793e-02, 0.0000e+00, 0.0000e+00, 0.0000e+00, 2.2384e-02,\n",
      "        9.4261e-03, 2.4546e-02, 2.9529e-02, 2.9638e-02, 1.9537e-02, 9.0968e-02,\n",
      "        0.0000e+00, 0.0000e+00, 1.1741e-02, 3.8802e-02, 0.0000e+00, 1.0010e-01,\n",
      "        1.1939e-02, 0.0000e+00, 8.5800e-06, 2.8902e-02, 1.8051e-03, 0.0000e+00,\n",
      "        2.2802e-03, 7.5861e-03, 7.5865e-03, 0.0000e+00, 4.8659e-02, 0.0000e+00,\n",
      "        7.0317e-04, 0.0000e+00, 0.0000e+00, 5.3252e-04, 8.0043e-02, 3.3293e-02,\n",
      "        5.8630e-03, 1.0102e-02, 2.5866e-03, 2.9749e-02, 0.0000e+00, 2.5762e-02,\n",
      "        2.3435e-04, 0.0000e+00, 0.0000e+00, 9.3424e-02, 1.9007e-02, 1.0892e-01,\n",
      "        0.0000e+00, 2.9956e-02, 0.0000e+00, 5.9002e-04, 5.8651e-05, 1.1706e-02,\n",
      "        1.0290e-01, 1.9728e-03, 3.3829e-02, 3.3593e-03, 3.5978e-02, 5.2230e-02,\n",
      "        3.9275e-03, 9.9160e-02, 4.4748e-05, 1.8289e-03, 1.2244e-02, 6.6363e-03,\n",
      "        0.0000e+00, 0.0000e+00, 1.4262e-02, 1.4277e-02, 7.1762e-03, 0.0000e+00,\n",
      "        1.8867e-02, 1.2022e-02, 3.8207e-03, 0.0000e+00, 0.0000e+00, 9.3269e-03,\n",
      "        1.3536e-02, 2.4860e-02, 8.0679e-05, 0.0000e+00, 1.1856e-02, 3.4068e-02,\n",
      "        5.5390e-02, 5.9137e-02, 5.8412e-02, 5.5981e-02, 2.0362e-02, 1.0001e-01,\n",
      "        4.5991e-04, 8.5791e-03, 7.1140e-05, 6.2293e-02, 2.0264e-02, 5.8373e-02,\n",
      "        4.0578e-04, 3.6083e-02, 6.9014e-02, 0.0000e+00, 0.0000e+00, 1.6406e-02,\n",
      "        9.1615e-02, 2.8627e-02, 8.0712e-02, 0.0000e+00, 4.5833e-02, 5.7505e-02,\n",
      "        1.2423e-02, 0.0000e+00, 0.0000e+00, 3.1471e-03, 4.6333e-02, 0.0000e+00,\n",
      "        3.1268e-03, 7.0359e-03, 0.0000e+00, 4.9006e-03, 1.1180e-02, 3.5076e-03,\n",
      "        0.0000e+00, 0.0000e+00, 5.3249e-02, 0.0000e+00, 3.1305e-02, 0.0000e+00,\n",
      "        8.3828e-02, 1.0754e-01, 7.3427e-02, 0.0000e+00, 5.4167e-02, 0.0000e+00,\n",
      "        3.9324e-02, 0.0000e+00, 4.4936e-03, 6.0248e-02, 1.2855e-01, 0.0000e+00,\n",
      "        0.0000e+00, 0.0000e+00, 1.0519e-01, 0.0000e+00, 0.0000e+00, 1.5548e-02,\n",
      "        0.0000e+00, 5.1671e-03, 2.6547e-02, 1.3373e-03, 8.1957e-02, 1.4650e-02,\n",
      "        3.5146e-02, 0.0000e+00, 1.5819e-02, 2.2414e-02, 4.7183e-03, 5.9861e-03,\n",
      "        4.9034e-02, 5.1316e-02, 0.0000e+00, 5.8237e-02, 6.4934e-02, 1.9016e-02,\n",
      "        0.0000e+00, 2.7343e-02, 1.0718e-01, 1.3708e-01, 7.0450e-02, 9.3138e-03,\n",
      "        6.7944e-02, 0.0000e+00, 0.0000e+00, 0.0000e+00, 3.5938e-02, 1.2541e-01,\n",
      "        3.9096e-02, 3.6314e-02, 1.3112e-02, 2.8785e-02, 4.5579e-02, 7.7875e-02,\n",
      "        8.0086e-03, 0.0000e+00, 0.0000e+00, 2.5065e-03, 7.1322e-03, 7.3755e-03,\n",
      "        2.2666e-03, 4.9743e-02, 6.8609e-03, 9.0580e-03, 1.3832e-02, 6.7979e-05,\n",
      "        7.4077e-02, 7.5318e-02, 6.2267e-02, 6.4765e-03, 7.0207e-02, 0.0000e+00,\n",
      "        0.0000e+00, 8.4762e-02, 0.0000e+00, 0.0000e+00, 8.1832e-04, 1.1480e-01,\n",
      "        4.6021e-03, 3.7757e-05, 0.0000e+00, 5.3289e-02, 1.3629e-02, 8.8327e-03,\n",
      "        7.2079e-02, 2.8432e-02, 4.1968e-02, 0.0000e+00, 1.6295e-02, 1.0342e-02,\n",
      "        7.3327e-02, 4.3961e-02, 0.0000e+00, 9.5348e-03, 4.5560e-02, 1.9992e-03,\n",
      "        3.1992e-02, 8.2986e-03, 1.1815e-02, 2.1395e-02, 7.1830e-02, 2.2444e-02,\n",
      "        9.5374e-03, 6.5958e-03, 1.8300e-02, 9.9303e-02, 3.1076e-03, 5.4166e-06,\n",
      "        6.6174e-02, 1.1078e-04, 7.5986e-02, 1.4497e-02, 3.9194e-02, 1.9501e-02,\n",
      "        4.1234e-02, 6.9688e-02, 1.8647e-02, 1.0889e-01, 2.7460e-05, 1.4562e-01,\n",
      "        1.1205e-01, 1.9068e-04, 3.2823e-03, 2.4506e-02, 2.9717e-02, 2.0300e-02,\n",
      "        1.6622e-01, 1.2266e-01, 0.0000e+00, 0.0000e+00, 9.5688e-02, 4.0731e-02,\n",
      "        1.1364e-01, 4.3887e-02, 0.0000e+00, 0.0000e+00, 5.8401e-02, 0.0000e+00,\n",
      "        4.5790e-02, 0.0000e+00, 5.2786e-02, 4.5928e-02, 5.6237e-02, 8.2526e-02,\n",
      "        4.8738e-02, 8.5386e-02, 3.8721e-02, 6.1585e-02, 1.2427e-02, 1.2753e-01,\n",
      "        1.2534e-01, 4.7503e-02, 7.0377e-02, 1.4877e-01, 6.9522e-02, 0.0000e+00,\n",
      "        4.7409e-02, 0.0000e+00, 6.7293e-02, 1.1844e-01, 3.5406e-02, 1.3164e-01,\n",
      "        4.9543e-02, 2.6934e-02, 1.9910e-01, 5.6205e-02, 3.1633e-03, 9.6403e-02,\n",
      "        4.2461e-02, 6.3270e-02, 1.0037e-01, 3.6917e-02, 3.7592e-02, 1.3671e-01,\n",
      "        7.8122e-02, 6.1437e-02, 5.5816e-02, 2.8500e-02, 4.8735e-02, 2.1429e-02,\n",
      "        1.8346e-03, 4.7948e-02, 0.0000e+00, 5.2773e-02, 1.8285e-04, 2.0145e-02,\n",
      "        2.1644e-02, 4.8156e-02, 1.6387e-02, 9.1257e-03, 3.3759e-02, 1.2854e-03,\n",
      "        1.4639e-01, 0.0000e+00, 1.6059e-02, 1.4965e-01, 9.5997e-02, 1.9502e-02,\n",
      "        7.5925e-04, 1.2423e-02, 4.8623e-02, 3.4695e-02, 2.7002e-02, 1.0077e-01,\n",
      "        4.5952e-02, 1.6211e-01, 1.1950e-01, 9.1448e-02, 9.8429e-02, 6.0428e-02,\n",
      "        7.1856e-02, 1.1208e-01, 7.1803e-02, 0.0000e+00, 2.3536e-01, 7.7376e-02,\n",
      "        1.0837e-01, 2.4240e-02, 5.4260e-02, 1.4529e-01, 4.0973e-02, 1.2282e-01,\n",
      "        3.3396e-02, 1.0999e-01, 1.1461e-01, 6.3844e-02, 2.0944e-02, 5.8036e-02,\n",
      "        2.4513e-02, 1.4863e-01, 1.8316e-01, 1.0165e-01, 2.3537e-02, 2.0017e-01,\n",
      "        2.5779e-01, 1.3595e-01, 8.4782e-02, 1.0123e-01, 1.5062e-01, 8.2654e-02,\n",
      "        1.6255e-01, 8.1982e-02, 1.2413e-01, 1.0621e-01, 4.9013e-01, 9.5235e-02,\n",
      "        3.3267e-01, 2.1678e-01, 1.7669e-01, 7.6990e-02, 3.9204e-01, 6.2477e-01,\n",
      "        8.1573e-02, 3.2809e-02, 3.2671e-02, 8.6636e-01, 9.9632e-01, 2.6201e-01]) tensor(0.9963) tensor(39.3912)\n",
      "Chosen edges: tensor([[  8,  10,   8,  10,  10,  10,  10,  10,  10,  10,  10],\n",
      "        [930, 957, 958, 978, 980, 982, 988, 989, 993, 994, 995]]) 11\n"
     ]
    },
    {
     "name": "stderr",
     "output_type": "stream",
     "text": [
      "100%|██████████| 51/51 [00:04<00:00, 11.24it/s]\n"
     ]
    },
    {
     "name": "stdout",
     "output_type": "stream",
     "text": [
      "Fine-Tune Epoch 1/3 | Train Loss: 2.0013 | Val Loss: 1.9117\n"
     ]
    },
    {
     "name": "stderr",
     "output_type": "stream",
     "text": [
      "100%|██████████| 51/51 [00:04<00:00, 12.18it/s]\n"
     ]
    },
    {
     "name": "stdout",
     "output_type": "stream",
     "text": [
      "Fine-Tune Epoch 2/3 | Train Loss: 1.9840 | Val Loss: 1.9025\n"
     ]
    },
    {
     "name": "stderr",
     "output_type": "stream",
     "text": [
      "100%|██████████| 51/51 [00:05<00:00, 10.18it/s]\n"
     ]
    },
    {
     "name": "stdout",
     "output_type": "stream",
     "text": [
      "Fine-Tune Epoch 3/3 | Train Loss: 1.9857 | Val Loss: 1.8978\n"
     ]
    },
    {
     "name": "stderr",
     "output_type": "stream",
     "text": [
      "100%|██████████| 51/51 [00:06<00:00,  8.26it/s]\n"
     ]
    },
    {
     "name": "stdout",
     "output_type": "stream",
     "text": [
      "Epoch 50/100 | Train Loss: 1.9723 | Val Loss: 24.4654 | Val Accuracy: 0.3627\n",
      "Edge metrics: tensor([0.0000e+00, 6.5375e-02, 9.7785e-05, 4.3612e-02, 9.3298e-05, 3.2953e-04,\n",
      "        1.4297e-02, 6.3642e-02, 0.0000e+00, 1.7136e-03, 8.6512e-03, 9.5981e-03,\n",
      "        1.7963e-02, 3.2257e-02, 0.0000e+00, 3.0770e-02, 5.4509e-03, 2.3839e-02,\n",
      "        1.9566e-02, 5.3371e-03, 7.0891e-03, 3.4227e-02, 8.8130e-06, 1.3072e-03,\n",
      "        1.5217e-02, 4.8770e-03, 2.7022e-02, 6.8960e-03, 3.7664e-03, 7.6482e-03,\n",
      "        1.0528e-02, 4.2648e-02, 1.8884e-02, 2.8752e-07, 5.4499e-03, 1.7099e-06,\n",
      "        3.2312e-02, 2.1292e-02, 2.2394e-02, 3.8334e-03, 2.2659e-02, 3.1901e-02,\n",
      "        5.9312e-03, 1.6404e-03, 5.6383e-03, 1.0415e-05, 7.5047e-03, 1.0943e-02,\n",
      "        0.0000e+00, 1.6398e-02, 3.0551e-02, 8.1028e-03, 1.7681e-02, 1.2495e-02,\n",
      "        1.5504e-02, 6.7289e-06, 3.6750e-02, 4.6783e-03, 1.2765e-02, 1.4684e-02,\n",
      "        1.1016e-02, 1.0760e-03, 1.0276e-02, 6.7249e-03, 1.0263e-02, 2.0386e-02,\n",
      "        1.2753e-02, 1.0691e-02, 2.2035e-03, 2.0173e-02, 1.8899e-02, 8.9932e-04,\n",
      "        0.0000e+00, 4.9252e-03, 1.2241e-03, 1.2249e-01, 1.4269e-01, 1.0675e-01,\n",
      "        3.5922e-03, 1.4853e-01, 2.1379e-01, 3.7349e-02, 3.7855e-02, 1.0325e-01,\n",
      "        4.2276e-02, 3.1376e-02, 5.9854e-03, 2.7396e-02, 5.3357e-02, 1.3715e-01,\n",
      "        5.2525e-02, 1.3814e-01, 2.6255e-03, 5.3132e-03, 4.3440e-05, 2.1207e-02,\n",
      "        8.7104e-02, 1.3174e-01, 4.8730e-02, 4.5365e-02, 5.3148e-02, 7.8286e-02,\n",
      "        9.5049e-02, 9.2651e-06, 1.3783e-01, 4.2401e-02, 1.8059e-01, 4.6295e-02,\n",
      "        3.8785e-02, 7.2944e-04, 9.3155e-02, 1.3587e-01, 1.0692e-01, 4.2124e-02,\n",
      "        8.4240e-02, 5.3134e-02, 9.7257e-02, 1.3065e-04, 1.2184e-01, 5.2134e-02,\n",
      "        1.2460e-02, 2.8247e-02, 1.0291e-02, 2.8939e-02, 7.5884e-02, 1.0498e-01,\n",
      "        1.5864e-02, 0.0000e+00, 7.7910e-03, 0.0000e+00, 1.7479e-01, 5.2693e-02,\n",
      "        1.0198e-02, 9.0869e-04, 1.7844e-02, 1.5764e-01, 5.9286e-02, 8.2738e-02,\n",
      "        7.1689e-02, 4.9237e-06, 5.2978e-05, 2.6036e-02, 5.1746e-02, 6.2239e-02,\n",
      "        3.4227e-04, 8.3030e-02, 3.9176e-02, 1.1194e-01, 6.6280e-02, 1.0843e-01,\n",
      "        1.2928e-01, 6.2632e-02, 1.1159e-02, 2.6180e-02, 3.5426e-02, 9.0976e-02,\n",
      "        1.2065e-01, 2.9634e-02, 0.0000e+00, 2.9979e-02, 3.7950e-03, 2.3092e-02,\n",
      "        6.3484e-02, 1.4667e-01, 1.4412e-01, 1.5194e-05, 7.2258e-02, 8.0565e-02,\n",
      "        2.1535e-03, 1.2942e-02, 1.7403e-01, 1.1646e-01, 8.7138e-02, 8.7939e-04,\n",
      "        6.7821e-02, 1.2781e-01, 2.2687e-02, 6.1222e-02, 1.0426e-02, 7.8152e-02,\n",
      "        0.0000e+00, 1.1919e-02, 0.0000e+00, 1.4674e-02, 3.6291e-04, 9.6569e-02,\n",
      "        1.1746e-01, 3.0027e-03, 1.7942e-01, 3.0016e-02, 1.5576e-01, 4.0664e-02,\n",
      "        1.0338e-02, 4.9260e-02, 4.7067e-02, 2.0674e-01, 0.0000e+00, 4.7733e-02,\n",
      "        5.7685e-02, 6.3619e-02, 7.2437e-04, 1.5433e-03, 9.4413e-02, 4.5969e-05,\n",
      "        1.9414e-03, 7.1933e-04, 3.1190e-02, 1.2434e-02, 6.9602e-02, 2.5349e-02,\n",
      "        2.7590e-02, 8.1321e-02, 2.6090e-02, 3.8941e-07, 7.4903e-02, 2.1254e-06,\n",
      "        7.2062e-02, 4.5097e-02, 3.5871e-02, 6.5916e-03, 1.7669e-01, 2.5770e-02,\n",
      "        1.5865e-02, 2.0779e-02, 2.4234e-05, 2.3380e-03, 1.2191e-01, 0.0000e+00,\n",
      "        3.6804e-02, 1.7368e-02, 2.8378e-02, 3.0742e-02, 4.3886e-02, 4.4777e-05,\n",
      "        1.5828e-02, 5.2620e-02, 1.0204e-01, 2.0124e-02, 3.7663e-03, 9.1227e-03,\n",
      "        1.9453e-03, 1.0685e-02, 5.0296e-02, 3.3815e-02, 3.0671e-02, 6.2786e-03,\n",
      "        3.2770e-02, 2.0115e-02, 0.0000e+00, 2.1995e-03, 2.0735e-01, 5.9926e-03,\n",
      "        4.3828e-02, 6.0569e-02, 0.0000e+00, 4.2446e-02, 1.5706e-01, 1.1269e-01,\n",
      "        1.5569e-01, 1.3891e-03, 6.1054e-02, 1.2397e-01, 4.3423e-02, 3.2152e-02,\n",
      "        5.5176e-02, 1.2546e-01, 1.5482e-01, 1.9147e-04, 1.7124e-01, 3.7816e-02,\n",
      "        5.6888e-02, 1.7857e-02, 3.0544e-02, 3.6817e-04, 1.4659e-02, 4.4270e-02,\n",
      "        8.5969e-02, 1.6490e-01, 1.0968e-01, 8.1249e-02, 9.6205e-02, 6.4041e-05,\n",
      "        2.5971e-02, 8.3855e-02, 1.2344e-01, 3.1876e-02, 9.3990e-02, 1.4072e-01,\n",
      "        8.2460e-02, 1.3616e-02, 7.1092e-02, 1.5828e-01, 1.0996e-02, 2.1714e-02,\n",
      "        0.0000e+00, 5.7409e-04, 1.2745e-01, 4.7324e-03, 5.0523e-04, 2.1370e-02,\n",
      "        2.7423e-01, 9.7830e-02, 2.6996e-02, 5.7849e-02, 0.0000e+00, 8.6453e-02,\n",
      "        1.2297e-01, 4.6407e-04, 4.5191e-02, 2.4066e-01, 3.4402e-04, 3.7720e-02,\n",
      "        1.9390e-02, 7.1405e-02, 5.4946e-04, 2.2376e-02, 1.2669e-01, 1.9832e-01,\n",
      "        7.1430e-05, 3.0444e-02, 1.6515e-01, 6.2665e-02, 3.6177e-02, 1.2298e-01,\n",
      "        1.0384e-01, 8.1435e-02, 1.9836e-02, 1.2362e-01, 1.7957e-02, 3.7044e-02,\n",
      "        3.3779e-02, 0.0000e+00, 1.6416e-01, 6.1458e-02, 7.9011e-03, 1.3008e-02,\n",
      "        3.0402e-04, 2.2919e-02, 1.0533e-01, 7.3225e-02, 4.2362e-02, 1.0992e-01,\n",
      "        1.3637e-01, 2.1943e-05, 1.7309e-04, 1.8453e-01, 3.4505e-02, 6.8498e-02,\n",
      "        5.4453e-02, 1.8555e-03, 1.4150e-01, 7.7888e-02, 1.2079e-01, 5.0743e-02,\n",
      "        1.0694e-01, 2.5963e-02, 1.8483e-02, 8.6300e-02, 1.0392e-01, 1.6147e-01,\n",
      "        1.3944e-02, 1.7326e-02, 1.6060e-02, 4.3186e-03, 8.7720e-02, 0.0000e+00,\n",
      "        3.0974e-03, 1.3787e-01, 1.0710e-01, 0.0000e+00, 3.1327e-02, 0.0000e+00,\n",
      "        3.4488e-02, 0.0000e+00, 5.6000e-02, 1.1176e-01, 0.0000e+00, 7.4475e-02,\n",
      "        1.2104e-01, 3.4752e-02, 2.8922e-01, 7.8443e-02, 1.8378e-02, 1.6713e-01,\n",
      "        1.7268e-01, 0.0000e+00, 4.1457e-02, 1.0847e-01, 2.8337e-02, 1.6775e-01,\n",
      "        0.0000e+00, 1.9170e-02, 3.8536e-02, 1.7037e-01, 1.5205e-02, 1.2881e-01,\n",
      "        0.0000e+00, 0.0000e+00, 7.8941e-02, 1.6507e-02, 0.0000e+00, 0.0000e+00,\n",
      "        1.8966e-02, 0.0000e+00, 2.6546e-02, 8.8616e-02, 6.4328e-02, 1.0100e-01,\n",
      "        9.6581e-02, 8.5151e-03, 7.8522e-03, 1.6724e-02, 6.9588e-02, 3.7913e-02,\n",
      "        5.6708e-02, 4.6118e-02, 3.4170e-02, 4.2826e-02, 0.0000e+00, 0.0000e+00,\n",
      "        7.8960e-02, 3.2777e-03, 5.4967e-02, 0.0000e+00, 6.4282e-02, 3.5353e-02,\n",
      "        0.0000e+00, 0.0000e+00, 1.2152e-01, 1.0921e-01, 6.4783e-02, 8.1569e-02,\n",
      "        1.7386e-02, 0.0000e+00, 3.3665e-03, 1.0031e-02, 1.9705e-04, 1.6042e-02,\n",
      "        0.0000e+00, 2.3043e-04, 0.0000e+00, 0.0000e+00, 1.1467e-02, 1.4010e-01,\n",
      "        0.0000e+00, 2.9203e-02, 1.9519e-04, 1.2033e-02, 1.3373e-01, 1.5546e-02,\n",
      "        2.3639e-02, 1.5322e-01, 0.0000e+00, 4.7614e-02, 6.0857e-02, 1.3375e-01,\n",
      "        5.7857e-03, 9.6861e-02, 0.0000e+00, 9.6469e-02, 1.8104e-01, 1.0463e-01,\n",
      "        2.1952e-02, 0.0000e+00, 2.6058e-02, 8.5046e-02, 7.1243e-04, 8.7410e-02,\n",
      "        2.4928e-02, 2.3010e-02, 3.0466e-02, 1.8463e-02, 1.3228e-02, 4.8279e-03,\n",
      "        0.0000e+00, 6.9379e-02, 0.0000e+00, 1.8528e-02, 1.6278e-01, 2.0130e-01,\n",
      "        5.7300e-02, 2.5922e-02, 3.7589e-02, 1.2317e-01, 1.6035e-03, 1.0531e-01,\n",
      "        1.3113e-03, 1.7428e-01, 0.0000e+00, 1.7224e-03, 2.9296e-02, 0.0000e+00,\n",
      "        0.0000e+00, 0.0000e+00, 0.0000e+00, 8.0251e-02, 4.6491e-02, 0.0000e+00,\n",
      "        0.0000e+00, 2.2771e-03, 2.5768e-02, 0.0000e+00, 4.3643e-02, 0.0000e+00,\n",
      "        1.3239e-02, 0.0000e+00, 1.8832e-05, 0.0000e+00, 2.3567e-02, 4.0838e-03,\n",
      "        0.0000e+00, 0.0000e+00, 0.0000e+00, 1.0350e-02, 0.0000e+00, 5.7720e-03,\n",
      "        0.0000e+00, 1.2438e-01, 4.5965e-02, 0.0000e+00, 1.7022e-02, 2.1574e-03,\n",
      "        1.2668e-01, 0.0000e+00, 2.8840e-02, 0.0000e+00, 7.5550e-03, 0.0000e+00,\n",
      "        0.0000e+00, 1.6184e-01, 1.1203e-03, 2.6865e-02, 0.0000e+00, 1.1357e-01,\n",
      "        9.8699e-02, 0.0000e+00, 6.9400e-03, 1.2718e-02, 0.0000e+00, 0.0000e+00,\n",
      "        0.0000e+00, 6.7303e-05, 0.0000e+00, 7.0389e-02, 0.0000e+00, 1.0738e-02,\n",
      "        5.2060e-02, 0.0000e+00, 7.5296e-02, 4.0665e-02, 0.0000e+00, 5.2471e-02,\n",
      "        1.1414e-01, 3.0440e-02, 0.0000e+00, 8.9846e-03, 1.4372e-01, 2.1349e-03,\n",
      "        5.5128e-03, 8.8783e-02, 0.0000e+00, 8.4998e-02, 5.6441e-02, 0.0000e+00,\n",
      "        1.0103e-01, 1.1005e-03, 2.1471e-01, 0.0000e+00, 0.0000e+00, 2.6829e-02,\n",
      "        0.0000e+00, 0.0000e+00, 0.0000e+00, 0.0000e+00, 0.0000e+00, 0.0000e+00,\n",
      "        2.6239e-02, 9.3113e-02, 0.0000e+00, 0.0000e+00, 0.0000e+00, 2.4175e-02,\n",
      "        1.2489e-02, 3.3785e-02, 3.6604e-02, 4.1069e-02, 1.7109e-02, 1.2291e-01,\n",
      "        0.0000e+00, 0.0000e+00, 1.3232e-02, 5.2015e-02, 0.0000e+00, 1.2494e-01,\n",
      "        1.6519e-02, 0.0000e+00, 1.3278e-05, 3.2539e-02, 0.0000e+00, 0.0000e+00,\n",
      "        2.3456e-03, 9.5402e-03, 0.0000e+00, 0.0000e+00, 9.0566e-02, 0.0000e+00,\n",
      "        9.1694e-04, 0.0000e+00, 0.0000e+00, 7.1484e-04, 7.9974e-02, 4.5962e-02,\n",
      "        7.2872e-03, 1.1963e-02, 2.3672e-03, 4.1853e-02, 0.0000e+00, 3.8514e-02,\n",
      "        1.3415e-04, 0.0000e+00, 0.0000e+00, 1.2376e-01, 2.4605e-02, 1.5219e-01,\n",
      "        0.0000e+00, 4.6832e-02, 0.0000e+00, 3.1874e-04, 1.0269e-04, 1.7551e-02,\n",
      "        1.3785e-01, 2.3127e-03, 6.3576e-02, 2.3636e-03, 3.9110e-02, 9.4101e-02,\n",
      "        3.8986e-03, 1.4029e-01, 3.2902e-05, 1.5409e-03, 1.5274e-02, 7.1319e-03,\n",
      "        0.0000e+00, 0.0000e+00, 1.5511e-02, 2.0127e-02, 8.2000e-03, 0.0000e+00,\n",
      "        2.7457e-02, 1.9320e-02, 5.1504e-03, 0.0000e+00, 0.0000e+00, 1.1669e-02,\n",
      "        1.6400e-02, 4.1701e-02, 1.5981e-04, 0.0000e+00, 1.7881e-02, 4.6564e-02,\n",
      "        8.0270e-02, 9.3764e-02, 8.5365e-02, 6.6209e-02, 3.1780e-02, 1.3554e-01,\n",
      "        2.8046e-04, 1.6445e-02, 1.5731e-04, 7.2632e-02, 3.3915e-02, 9.5461e-02,\n",
      "        3.8963e-04, 4.6646e-02, 1.1402e-01, 0.0000e+00, 0.0000e+00, 1.7762e-02,\n",
      "        1.2148e-01, 4.1449e-02, 1.1815e-01, 0.0000e+00, 6.3209e-02, 8.0423e-02,\n",
      "        2.4542e-02, 0.0000e+00, 0.0000e+00, 0.0000e+00, 6.2850e-02, 0.0000e+00,\n",
      "        4.4751e-03, 7.1267e-03, 0.0000e+00, 6.2558e-03, 1.5699e-02, 6.2747e-03,\n",
      "        0.0000e+00, 0.0000e+00, 4.5521e-02, 0.0000e+00, 2.7221e-02, 0.0000e+00,\n",
      "        9.1042e-02, 1.5125e-01, 1.0579e-01, 0.0000e+00, 7.7091e-02, 0.0000e+00,\n",
      "        5.8969e-02, 0.0000e+00, 7.0262e-03, 7.8024e-02, 1.7972e-01, 0.0000e+00,\n",
      "        0.0000e+00, 0.0000e+00, 1.5525e-01, 0.0000e+00, 0.0000e+00, 1.8539e-02,\n",
      "        0.0000e+00, 6.1411e-03, 4.0592e-02, 1.2430e-03, 9.8703e-02, 2.1272e-02,\n",
      "        4.9793e-02, 0.0000e+00, 2.6308e-02, 2.1074e-02, 6.6122e-03, 1.1137e-02,\n",
      "        6.1869e-02, 7.7855e-02, 0.0000e+00, 1.0176e-01, 8.3940e-02, 2.6450e-02,\n",
      "        0.0000e+00, 4.3891e-02, 1.4282e-01, 1.9825e-01, 9.3064e-02, 1.4159e-02,\n",
      "        8.8769e-02, 0.0000e+00, 0.0000e+00, 0.0000e+00, 4.1448e-02, 2.0806e-01,\n",
      "        4.7953e-02, 3.9783e-02, 2.3784e-02, 4.3019e-02, 6.9633e-02, 1.0680e-01,\n",
      "        1.2451e-02, 0.0000e+00, 0.0000e+00, 0.0000e+00, 1.3355e-02, 1.8257e-02,\n",
      "        2.7323e-03, 5.8914e-02, 1.2015e-02, 1.3946e-02, 1.8468e-02, 3.9104e-05,\n",
      "        7.2409e-02, 9.2097e-02, 7.7417e-02, 7.6154e-03, 8.1493e-02, 0.0000e+00,\n",
      "        0.0000e+00, 9.8006e-02, 0.0000e+00, 0.0000e+00, 0.0000e+00, 1.5035e-01,\n",
      "        5.5885e-03, 2.5203e-05, 0.0000e+00, 5.5163e-02, 2.5971e-02, 1.9034e-02,\n",
      "        9.4815e-02, 4.0407e-02, 5.2935e-02, 0.0000e+00, 3.5272e-02, 1.3194e-02,\n",
      "        9.5170e-02, 6.3328e-02, 0.0000e+00, 2.4181e-02, 6.8873e-02, 2.6674e-03,\n",
      "        4.3978e-02, 8.7024e-03, 1.6162e-02, 2.9091e-02, 9.7381e-02, 2.6712e-02,\n",
      "        1.2309e-02, 1.7589e-02, 4.8073e-02, 1.3459e-01, 7.9341e-03, 2.6575e-06,\n",
      "        7.8981e-02, 8.5095e-05, 9.2411e-02, 3.1029e-02, 5.1936e-02, 2.8986e-02,\n",
      "        5.1484e-02, 1.0445e-01, 2.8007e-02, 1.5444e-01, 2.1342e-05, 1.4955e-01,\n",
      "        1.6841e-01, 1.4830e-04, 3.5145e-03, 1.8549e-02, 3.6088e-02, 2.7297e-02,\n",
      "        2.6852e-01, 1.4423e-01, 0.0000e+00, 0.0000e+00, 1.2481e-01, 4.1458e-02,\n",
      "        1.5639e-01, 5.0469e-02, 0.0000e+00, 0.0000e+00, 6.0223e-02, 0.0000e+00,\n",
      "        4.6467e-02, 0.0000e+00, 6.8888e-02, 6.7690e-02, 7.5023e-02, 9.6304e-02,\n",
      "        5.8177e-02, 1.0509e-01, 4.6013e-02, 8.1625e-02, 1.8568e-02, 1.5929e-01,\n",
      "        1.7314e-01, 8.5334e-02, 8.7043e-02, 2.1684e-01, 1.0368e-01, 0.0000e+00,\n",
      "        7.5185e-02, 0.0000e+00, 1.0056e-01, 1.6684e-01, 4.3293e-02, 1.8614e-01,\n",
      "        6.8375e-02, 4.2658e-02, 3.1789e-01, 7.9876e-02, 2.2113e-03, 1.4740e-01,\n",
      "        6.6772e-02, 8.5708e-02, 1.3816e-01, 6.0407e-02, 3.9193e-02, 1.8705e-01,\n",
      "        9.9857e-02, 6.9328e-02, 9.1396e-02, 3.1756e-02, 5.6098e-02, 3.1780e-02,\n",
      "        2.2380e-03, 3.4409e-02, 0.0000e+00, 5.9857e-02, 2.4256e-04, 1.1641e-02,\n",
      "        2.5075e-02, 6.3746e-02, 1.9585e-02, 1.4995e-02, 5.6994e-02, 1.8854e-03,\n",
      "        2.5858e-01, 0.0000e+00, 1.8505e-02, 2.0252e-01, 1.2540e-01, 3.7423e-02,\n",
      "        9.9570e-04, 2.3137e-02, 5.6547e-02, 3.6382e-02, 3.4918e-02, 1.3359e-01,\n",
      "        6.5113e-02, 2.0385e-01, 1.7872e-01, 1.2484e-01, 1.6397e-01, 7.5564e-02,\n",
      "        1.0945e-01, 1.5864e-01, 5.9174e-02, 0.0000e+00, 6.7830e-02, 1.2721e-01,\n",
      "        4.2372e-02, 5.4308e-02, 2.1411e-01, 4.0318e-02, 1.6344e-01, 4.0975e-02,\n",
      "        1.4749e-01, 2.0644e-01, 9.1110e-02, 3.8879e-02, 9.8946e-02, 3.1402e-02,\n",
      "        2.4069e-01, 2.3936e-01, 1.3537e-01, 3.4932e-02, 1.9001e-01, 1.2230e-01,\n",
      "        1.4559e-01, 2.6026e-01, 9.2055e-02, 2.0142e-01, 1.9095e-01, 1.8667e-01,\n",
      "        1.3635e-01, 2.0501e-01, 2.1763e-01, 1.2669e-01, 1.4994e-01, 7.0055e-02,\n",
      "        9.9731e-02, 2.7069e-01, 9.3825e-02, 2.0249e-01, 7.3191e-01, 1.9255e-01,\n",
      "        2.2902e-01, 5.6982e-01, 7.0301e-01, 8.8407e-01, 9.8938e-01, 2.6417e-01]) tensor(0.9894) tensor(51.7973)\n",
      "Chosen edges: tensor([[   3,    9,   10,   12,   13,    4,   12,   14,   12,    8,    3,   10,\n",
      "           10,   14,   12,    9,    4,    3,    1,    4,    8,   10,   10,    8,\n",
      "            8,   10,   10,   10,   10,   10,   10,   10],\n",
      "        [  50,    3,   34,   54,   21,  103,  285,  416,  687,  791,  825,  840,\n",
      "          887,  890,  903,  941,  946,  952,  953,  962,  965,  979,  983,  996,\n",
      "          998,  999, 1001, 1002, 1003, 1004, 1005, 1006]]) 32\n"
     ]
    },
    {
     "name": "stderr",
     "output_type": "stream",
     "text": [
      "100%|██████████| 51/51 [00:04<00:00, 10.71it/s]\n"
     ]
    },
    {
     "name": "stdout",
     "output_type": "stream",
     "text": [
      "Fine-Tune Epoch 1/3 | Train Loss: 2.0225 | Val Loss: 1.9185\n"
     ]
    },
    {
     "name": "stderr",
     "output_type": "stream",
     "text": [
      "100%|██████████| 51/51 [00:04<00:00, 11.27it/s]\n"
     ]
    },
    {
     "name": "stdout",
     "output_type": "stream",
     "text": [
      "Fine-Tune Epoch 2/3 | Train Loss: 1.9948 | Val Loss: 1.9005\n"
     ]
    },
    {
     "name": "stderr",
     "output_type": "stream",
     "text": [
      "100%|██████████| 51/51 [00:04<00:00, 10.97it/s]\n"
     ]
    },
    {
     "name": "stdout",
     "output_type": "stream",
     "text": [
      "Fine-Tune Epoch 3/3 | Train Loss: 1.9852 | Val Loss: 1.8945\n"
     ]
    },
    {
     "name": "stderr",
     "output_type": "stream",
     "text": [
      "100%|██████████| 51/51 [00:06<00:00,  7.95it/s]\n"
     ]
    },
    {
     "name": "stdout",
     "output_type": "stream",
     "text": [
      "Epoch 51/100 | Train Loss: 1.9748 | Val Loss: 24.4553 | Val Accuracy: 0.3650\n",
      "Edge metrics: tensor([0.0000e+00, 4.2322e-02, 3.9925e-05, 2.2393e-02, 2.3114e-05, 2.9972e-04,\n",
      "        1.0039e-02, 3.3528e-02, 0.0000e+00, 4.1773e-04, 4.7107e-03, 6.9123e-03,\n",
      "        1.1494e-02, 2.0574e-02, 0.0000e+00, 1.8111e-02, 3.6537e-03, 1.4693e-02,\n",
      "        1.2892e-02, 3.2812e-03, 4.2668e-03, 2.2301e-02, 3.1386e-06, 8.3687e-04,\n",
      "        9.6539e-03, 2.9613e-03, 1.7451e-02, 4.4953e-03, 2.6425e-03, 4.7916e-03,\n",
      "        6.7967e-03, 2.4992e-02, 1.2808e-02, 7.4339e-08, 4.5313e-03, 6.9001e-07,\n",
      "        2.0466e-02, 1.1879e-02, 1.0438e-02, 2.7472e-03, 1.3298e-02, 2.2593e-02,\n",
      "        4.1810e-03, 1.3257e-03, 2.8544e-03, 2.0437e-06, 4.9603e-03, 7.0674e-03,\n",
      "        0.0000e+00, 1.1374e-02, 1.6126e-02, 4.9548e-03, 1.0069e-02, 7.2110e-03,\n",
      "        9.8817e-03, 1.9136e-05, 2.2478e-02, 3.3638e-03, 8.7190e-03, 1.1469e-02,\n",
      "        3.4520e-03, 1.2280e-03, 6.8889e-03, 4.4069e-03, 6.8655e-03, 1.0837e-02,\n",
      "        8.1627e-03, 7.0713e-03, 2.1169e-03, 1.2551e-02, 1.2507e-02, 7.1351e-04,\n",
      "        0.0000e+00, 2.9952e-03, 4.6668e-04, 8.1486e-02, 1.0197e-01, 5.1418e-02,\n",
      "        7.8405e-04, 9.4131e-02, 3.7372e-02, 2.5311e-02, 7.3731e-02, 3.3387e-02,\n",
      "        2.0662e-02, 1.3104e-03, 1.5209e-02, 3.6596e-02, 7.1626e-02, 3.2128e-02,\n",
      "        7.9887e-02, 1.5833e-03, 3.1497e-03, 1.4965e-05, 1.2682e-02, 5.3817e-02,\n",
      "        8.0435e-02, 2.7734e-02, 2.8159e-02, 3.2653e-02, 5.9788e-02, 5.5082e-02,\n",
      "        2.3282e-06, 8.0243e-02, 3.7571e-02, 1.0393e-01, 2.8876e-02, 1.9487e-02,\n",
      "        1.3892e-04, 5.5906e-02, 9.5717e-02, 5.8529e-02, 2.1862e-02, 4.5114e-02,\n",
      "        2.9052e-02, 5.7467e-02, 7.6879e-04, 7.9302e-02, 1.8091e-02, 1.0358e-02,\n",
      "        1.8750e-02, 6.8918e-03, 1.4821e-02, 4.5555e-02, 6.2724e-02, 1.1591e-02,\n",
      "        0.0000e+00, 4.9118e-03, 0.0000e+00, 9.8546e-02, 3.6439e-02, 5.9153e-03,\n",
      "        1.8957e-04, 1.1286e-02, 1.0476e-01, 4.0869e-02, 5.1082e-02, 4.2259e-02,\n",
      "        1.3122e-06, 1.8358e-05, 2.0214e-02, 3.5046e-02, 3.4134e-02, 6.9641e-05,\n",
      "        5.3588e-02, 2.3309e-02, 6.4307e-02, 3.7748e-02, 6.8976e-02, 8.8698e-02,\n",
      "        1.7707e-02, 9.1145e-03, 1.7884e-02, 2.4417e-02, 5.8520e-02, 7.5688e-02,\n",
      "        2.2272e-02, 0.0000e+00, 1.8878e-02, 2.1575e-03, 1.3977e-02, 3.9320e-02,\n",
      "        8.1509e-02, 9.2674e-02, 4.2783e-06, 4.7747e-02, 4.0454e-02, 7.0868e-04,\n",
      "        8.7705e-03, 1.0717e-01, 6.4213e-02, 5.0721e-02, 2.0372e-03, 4.7227e-02,\n",
      "        4.3395e-02, 2.1483e-02, 4.1042e-02, 6.8275e-03, 4.3643e-02, 0.0000e+00,\n",
      "        7.1265e-03, 0.0000e+00, 8.1037e-03, 1.5831e-04, 6.4361e-02, 7.3327e-02,\n",
      "        1.1024e-03, 9.0479e-02, 1.8332e-02, 1.0326e-01, 2.3890e-02, 6.4693e-03,\n",
      "        3.5988e-02, 3.3733e-02, 0.0000e+00, 3.0270e-02, 4.2009e-02, 4.0656e-02,\n",
      "        4.1550e-04, 8.2773e-04, 5.7032e-02, 1.9992e-05, 1.3411e-03, 3.9205e-04,\n",
      "        2.6062e-02, 8.8229e-03, 4.1068e-02, 1.6933e-02, 1.9665e-02, 5.4907e-02,\n",
      "        1.8634e-02, 1.2275e-07, 5.0568e-02, 1.0384e-06, 4.8213e-02, 2.8863e-02,\n",
      "        2.4268e-02, 5.3410e-03, 1.0065e-01, 1.5974e-02, 1.1511e-02, 8.1966e-03,\n",
      "        5.5140e-06, 1.6328e-03, 6.6987e-02, 0.0000e+00, 2.7938e-02, 1.1455e-02,\n",
      "        1.7579e-02, 1.6493e-02, 3.0051e-02, 1.8237e-04, 1.2002e-02, 3.4205e-02,\n",
      "        7.1106e-02, 7.5478e-03, 3.8810e-03, 6.4723e-03, 1.2843e-03, 7.5520e-03,\n",
      "        3.0070e-02, 2.4155e-02, 1.9530e-02, 5.5635e-03, 2.4412e-02, 1.4327e-02,\n",
      "        0.0000e+00, 1.4356e-03, 9.9999e-04, 2.2853e-02, 3.9645e-02, 0.0000e+00,\n",
      "        3.2421e-02, 9.1396e-02, 7.2245e-02, 9.8192e-02, 5.8339e-04, 4.0062e-02,\n",
      "        8.1099e-02, 2.7935e-02, 2.3702e-02, 3.3364e-02, 8.4311e-02, 1.1034e-01,\n",
      "        6.7371e-05, 8.7719e-02, 2.6512e-02, 4.4230e-02, 1.2986e-02, 1.8199e-02,\n",
      "        8.7340e-05, 1.1082e-02, 3.0901e-02, 5.7779e-02, 8.7023e-02, 6.0558e-02,\n",
      "        4.8799e-02, 5.9019e-02, 5.2837e-04, 1.8667e-02, 5.4767e-02, 5.2027e-02,\n",
      "        2.7849e-02, 6.6196e-02, 8.8306e-02, 5.2585e-02, 1.4448e-02, 4.6375e-02,\n",
      "        9.9548e-02, 8.5892e-03, 1.2885e-02, 0.0000e+00, 2.4575e-04, 7.2272e-02,\n",
      "        9.0824e-04, 1.3881e-03, 1.6781e-02, 6.3504e-02, 1.6102e-02, 4.3015e-02,\n",
      "        0.0000e+00, 5.8271e-02, 8.9525e-02, 1.7055e-04, 3.1481e-02, 1.6900e-04,\n",
      "        2.8927e-02, 1.4746e-02, 2.9749e-02, 1.4889e-04, 1.7141e-02, 7.5543e-02,\n",
      "        1.0045e-01, 2.7904e-04, 2.2150e-02, 6.5270e-02, 4.5480e-02, 2.7287e-02,\n",
      "        8.2018e-02, 5.8401e-02, 5.4658e-02, 1.9277e-02, 8.0493e-02, 1.3916e-02,\n",
      "        2.5779e-02, 1.9503e-02, 0.0000e+00, 9.9515e-02, 4.2615e-02, 5.1059e-03,\n",
      "        7.4016e-03, 1.1384e-04, 1.4207e-02, 6.7613e-02, 4.6454e-02, 2.8124e-02,\n",
      "        7.1308e-02, 9.8611e-02, 7.0743e-06, 6.2962e-05, 9.2691e-02, 2.6512e-02,\n",
      "        4.8395e-02, 2.4741e-02, 3.7071e-04, 8.0604e-02, 4.7680e-02, 7.8126e-02,\n",
      "        3.5718e-02, 4.5435e-02, 2.5474e-02, 1.3031e-02, 5.5564e-02, 6.8489e-02,\n",
      "        1.0833e-01, 1.0007e-02, 1.1705e-02, 1.0853e-02, 3.2064e-03, 6.0604e-02,\n",
      "        0.0000e+00, 2.0999e-03, 7.1258e-02, 4.5940e-02, 0.0000e+00, 2.2265e-02,\n",
      "        0.0000e+00, 1.2600e-02, 0.0000e+00, 3.5467e-02, 7.6944e-02, 0.0000e+00,\n",
      "        5.1858e-02, 8.2832e-02, 2.4934e-02, 4.6535e-02, 1.1234e-02, 9.0116e-02,\n",
      "        1.0600e-01, 0.0000e+00, 3.5424e-02, 6.2609e-02, 2.4446e-02, 1.0382e-01,\n",
      "        0.0000e+00, 9.8986e-03, 1.7654e-02, 1.1552e-01, 9.0327e-03, 1.1231e-01,\n",
      "        0.0000e+00, 0.0000e+00, 5.9306e-02, 1.4585e-02, 0.0000e+00, 0.0000e+00,\n",
      "        9.5456e-03, 0.0000e+00, 8.7546e-03, 2.5237e-02, 4.1938e-02, 5.4059e-02,\n",
      "        6.7160e-02, 7.4514e-03, 4.0500e-03, 1.2167e-02, 5.4252e-02, 1.9845e-02,\n",
      "        2.8353e-02, 3.4057e-02, 2.7953e-02, 3.0425e-02, 0.0000e+00, 0.0000e+00,\n",
      "        6.6447e-02, 2.1931e-03, 3.4161e-02, 0.0000e+00, 4.1380e-02, 2.4992e-02,\n",
      "        0.0000e+00, 0.0000e+00, 8.0694e-02, 5.8585e-02, 3.3159e-02, 5.0718e-02,\n",
      "        8.3968e-03, 0.0000e+00, 1.8348e-03, 5.4369e-03, 5.7804e-04, 1.0702e-02,\n",
      "        0.0000e+00, 1.1330e-04, 0.0000e+00, 0.0000e+00, 7.9840e-03, 8.3549e-02,\n",
      "        0.0000e+00, 1.8676e-02, 6.3262e-05, 8.9609e-03, 6.6246e-02, 9.0891e-03,\n",
      "        1.3180e-02, 9.1360e-02, 0.0000e+00, 3.6783e-02, 4.3652e-02, 8.2939e-02,\n",
      "        2.7745e-03, 5.0147e-02, 0.0000e+00, 6.8333e-02, 8.7000e-02, 6.6599e-02,\n",
      "        1.5323e-02, 0.0000e+00, 1.6317e-02, 5.9826e-02, 1.2234e-03, 5.6899e-02,\n",
      "        1.4002e-02, 1.3174e-02, 2.2503e-02, 1.1718e-02, 9.9251e-03, 2.2373e-03,\n",
      "        0.0000e+00, 4.4008e-02, 0.0000e+00, 9.5150e-03, 8.9699e-02, 3.2482e-02,\n",
      "        1.7908e-02, 2.6866e-02, 8.8653e-02, 1.8510e-04, 7.1916e-02, 8.0755e-04,\n",
      "        1.1562e-01, 0.0000e+00, 1.0632e-03, 1.4613e-02, 0.0000e+00, 0.0000e+00,\n",
      "        0.0000e+00, 0.0000e+00, 4.2951e-02, 3.7046e-02, 0.0000e+00, 0.0000e+00,\n",
      "        0.0000e+00, 1.7146e-02, 0.0000e+00, 2.9888e-02, 0.0000e+00, 7.9186e-03,\n",
      "        0.0000e+00, 5.8711e-06, 0.0000e+00, 1.7792e-02, 2.3131e-03, 0.0000e+00,\n",
      "        0.0000e+00, 0.0000e+00, 0.0000e+00, 0.0000e+00, 3.1491e-03, 0.0000e+00,\n",
      "        6.7381e-02, 2.6871e-02, 0.0000e+00, 1.1332e-02, 1.2119e-03, 7.6865e-02,\n",
      "        0.0000e+00, 1.7248e-02, 0.0000e+00, 4.1005e-03, 0.0000e+00, 0.0000e+00,\n",
      "        9.8880e-02, 5.8841e-04, 1.1177e-02, 0.0000e+00, 5.5011e-02, 5.9430e-02,\n",
      "        0.0000e+00, 4.6932e-03, 8.2946e-03, 0.0000e+00, 0.0000e+00, 0.0000e+00,\n",
      "        9.8814e-06, 0.0000e+00, 5.0619e-02, 0.0000e+00, 6.8052e-03, 3.2781e-02,\n",
      "        0.0000e+00, 5.6249e-02, 2.4847e-02, 0.0000e+00, 3.5873e-02, 6.6025e-02,\n",
      "        1.1932e-02, 0.0000e+00, 5.9132e-03, 9.1931e-02, 1.3780e-03, 3.4603e-03,\n",
      "        4.9398e-02, 0.0000e+00, 4.9646e-02, 3.3949e-02, 0.0000e+00, 7.2007e-02,\n",
      "        6.7123e-04, 0.0000e+00, 0.0000e+00, 1.3894e-02, 0.0000e+00, 0.0000e+00,\n",
      "        0.0000e+00, 0.0000e+00, 0.0000e+00, 0.0000e+00, 1.9935e-02, 5.8791e-02,\n",
      "        0.0000e+00, 0.0000e+00, 0.0000e+00, 1.2434e-02, 6.9088e-03, 2.4720e-02,\n",
      "        2.8093e-02, 2.1827e-02, 7.5619e-03, 5.6781e-02, 0.0000e+00, 0.0000e+00,\n",
      "        9.4682e-03, 3.4211e-02, 0.0000e+00, 9.1840e-02, 1.2609e-02, 0.0000e+00,\n",
      "        2.6864e-05, 2.5100e-02, 0.0000e+00, 0.0000e+00, 1.2775e-03, 5.6410e-03,\n",
      "        0.0000e+00, 0.0000e+00, 6.8568e-02, 0.0000e+00, 3.5059e-04, 0.0000e+00,\n",
      "        0.0000e+00, 8.2307e-04, 3.1085e-02, 2.9913e-02, 4.8836e-03, 7.6524e-03,\n",
      "        4.4011e-04, 2.8170e-02, 0.0000e+00, 2.3380e-02, 4.5375e-05, 0.0000e+00,\n",
      "        0.0000e+00, 9.0008e-02, 1.5543e-02, 1.1415e-01, 0.0000e+00, 3.2452e-02,\n",
      "        0.0000e+00, 0.0000e+00, 3.1412e-04, 1.0817e-02, 8.6610e-02, 1.2583e-03,\n",
      "        4.7600e-02, 3.7599e-04, 1.6562e-02, 6.7837e-02, 2.7081e-03, 7.9368e-02,\n",
      "        1.6981e-05, 6.6258e-04, 8.2298e-03, 5.0331e-03, 0.0000e+00, 0.0000e+00,\n",
      "        6.7594e-03, 1.2969e-02, 5.2804e-03, 0.0000e+00, 1.8986e-02, 1.2279e-02,\n",
      "        1.7032e-03, 0.0000e+00, 0.0000e+00, 7.8693e-03, 8.3798e-03, 2.1665e-02,\n",
      "        6.9572e-04, 0.0000e+00, 1.2870e-02, 2.9843e-02, 5.8913e-02, 5.3167e-02,\n",
      "        5.8242e-02, 5.3847e-02, 1.6033e-02, 8.8359e-02, 1.1246e-04, 1.0909e-02,\n",
      "        5.6088e-04, 4.9002e-02, 3.3315e-02, 6.5496e-02, 2.1164e-04, 3.8631e-02,\n",
      "        9.0198e-02, 0.0000e+00, 0.0000e+00, 1.4507e-02, 7.4305e-02, 2.8917e-02,\n",
      "        8.7360e-02, 0.0000e+00, 3.3867e-02, 5.0291e-02, 1.5121e-02, 0.0000e+00,\n",
      "        0.0000e+00, 0.0000e+00, 4.2712e-02, 0.0000e+00, 3.4294e-03, 3.6882e-03,\n",
      "        0.0000e+00, 3.9672e-03, 1.0411e-02, 4.5778e-03, 0.0000e+00, 0.0000e+00,\n",
      "        1.5007e-02, 0.0000e+00, 9.7716e-03, 0.0000e+00, 4.6372e-02, 1.0392e-01,\n",
      "        6.3125e-02, 0.0000e+00, 5.1596e-02, 0.0000e+00, 3.6330e-02, 0.0000e+00,\n",
      "        4.5951e-03, 4.7007e-02, 1.1924e-01, 0.0000e+00, 0.0000e+00, 0.0000e+00,\n",
      "        9.4934e-02, 0.0000e+00, 0.0000e+00, 1.1616e-02, 0.0000e+00, 3.0604e-03,\n",
      "        2.8781e-02, 5.7043e-04, 6.1063e-02, 1.5314e-02, 2.9604e-02, 0.0000e+00,\n",
      "        1.2749e-02, 1.3133e-02, 2.5626e-03, 6.9858e-03, 3.2912e-02, 5.8086e-02,\n",
      "        0.0000e+00, 6.7493e-02, 6.0875e-02, 1.7868e-02, 0.0000e+00, 4.1362e-02,\n",
      "        1.0171e-01, 1.3629e-01, 5.7571e-02, 1.0575e-02, 5.7242e-02, 0.0000e+00,\n",
      "        0.0000e+00, 0.0000e+00, 1.7333e-02, 3.2036e-02, 3.1943e-02, 1.2049e-02,\n",
      "        3.1663e-02, 5.5480e-02, 5.8337e-02, 7.8116e-03, 0.0000e+00, 0.0000e+00,\n",
      "        0.0000e+00, 9.3709e-03, 2.9628e-02, 2.5636e-03, 4.2657e-02, 8.1344e-03,\n",
      "        1.0186e-02, 1.1058e-02, 1.6478e-05, 3.1484e-02, 5.1192e-02, 4.9702e-02,\n",
      "        4.1555e-03, 4.7329e-02, 0.0000e+00, 0.0000e+00, 4.8857e-02, 0.0000e+00,\n",
      "        0.0000e+00, 0.0000e+00, 1.1872e-01, 2.6686e-03, 9.1685e-06, 0.0000e+00,\n",
      "        3.8953e-02, 2.3457e-02, 1.9000e-02, 5.0305e-02, 1.8271e-02, 2.8689e-02,\n",
      "        0.0000e+00, 2.9626e-02, 7.8784e-03, 5.8991e-02, 3.6766e-02, 0.0000e+00,\n",
      "        2.5030e-02, 4.1943e-02, 1.6600e-03, 2.3565e-02, 4.7469e-03, 1.3409e-02,\n",
      "        2.3688e-02, 7.4880e-02, 1.1415e-02, 8.2092e-03, 2.9056e-02, 6.3943e-02,\n",
      "        8.1043e-02, 8.3256e-03, 1.1070e-06, 5.5850e-02, 3.6169e-05, 5.4925e-02,\n",
      "        2.3233e-02, 3.6745e-02, 2.2250e-02, 2.9013e-02, 7.0232e-02, 2.1250e-02,\n",
      "        9.6616e-02, 8.1508e-06, 8.7403e-02, 1.1418e-01, 6.5194e-05, 2.0566e-03,\n",
      "        0.0000e+00, 2.0890e-02, 1.7840e-02, 8.8145e-02, 0.0000e+00, 0.0000e+00,\n",
      "        7.3328e-02, 2.6019e-02, 1.0002e-01, 2.6682e-02, 0.0000e+00, 0.0000e+00,\n",
      "        3.5001e-02, 0.0000e+00, 2.1124e-02, 0.0000e+00, 3.5737e-02, 5.4064e-02,\n",
      "        4.6439e-02, 4.2332e-02, 4.0514e-02, 6.2611e-02, 2.3999e-02, 4.6028e-02,\n",
      "        1.4425e-02, 8.4593e-02, 1.0887e-01, 5.7990e-02, 4.0683e-02, 5.8564e-02,\n",
      "        0.0000e+00, 4.3750e-02, 0.0000e+00, 6.7648e-02, 1.0329e-01, 1.8079e-02,\n",
      "        1.2400e-01, 3.6355e-02, 2.7831e-02, 6.1134e-02, 0.0000e+00, 8.8162e-02,\n",
      "        4.7060e-02, 5.8528e-02, 8.4221e-02, 3.5092e-02, 1.9491e-02, 1.0893e-01,\n",
      "        5.3318e-02, 4.3888e-02, 4.8702e-02, 2.3306e-02, 2.8599e-02, 3.0751e-02,\n",
      "        1.0828e-03, 1.3913e-02, 0.0000e+00, 4.0927e-02, 8.5653e-05, 8.0526e-04,\n",
      "        1.7212e-02, 4.4674e-02, 1.2370e-02, 6.6566e-03, 5.1677e-02, 6.7652e-04,\n",
      "        0.0000e+00, 1.2673e-02, 7.2637e-02, 2.8375e-02, 4.4810e-04, 1.6772e-02,\n",
      "        3.2844e-02, 2.3246e-02, 1.7323e-02, 9.7397e-02, 3.6513e-02, 1.3789e-01,\n",
      "        8.3780e-02, 1.0459e-01, 4.8841e-02, 7.2529e-02, 1.3177e-01, 2.4506e-02,\n",
      "        0.0000e+00, 2.8681e-02, 6.8203e-02, 2.0359e-02, 3.0909e-02, 2.3104e-02,\n",
      "        9.3813e-02, 2.4624e-02, 1.0007e-01, 9.6353e-02, 3.4869e-02, 7.7755e-02,\n",
      "        2.4520e-02, 1.1147e-01, 3.3610e-02, 1.2149e-01, 7.1232e-02, 1.3947e-01,\n",
      "        4.7003e-02, 3.1909e-01, 1.4154e-01, 8.3322e-02, 1.4533e-01, 1.5100e-01,\n",
      "        9.3287e-02, 1.9186e-01, 6.3724e-02, 1.1094e-01, 3.8064e-02, 4.2627e-02,\n",
      "        2.5392e-02, 1.4544e-01, 2.5270e-02, 1.4389e-01, 1.1691e-01, 8.5999e-02,\n",
      "        7.1054e-02, 2.9526e-01, 6.0390e-02, 2.5563e-01, 2.0053e-01, 2.3424e-02,\n",
      "        4.2518e-02, 7.5339e-02, 6.1934e-02, 9.1563e-02, 5.0039e-02, 8.9130e-02,\n",
      "        5.7727e-02, 7.2942e-02, 1.7737e-01, 2.2226e-01, 2.3314e-02, 5.5446e-01,\n",
      "        1.6496e-02, 4.5752e-01, 5.3115e-01, 3.0273e-01, 1.0000e+00, 1.1288e-01]) tensor(1.0000) tensor(32.2448)\n",
      "Chosen edges: tensor([[  10,    8,   10,   10,    8,   10,   10,   10,   10,   10],\n",
      "        [ 968, 1016, 1018, 1019, 1030, 1032, 1034, 1035, 1036, 1037]]) 10\n"
     ]
    },
    {
     "name": "stderr",
     "output_type": "stream",
     "text": [
      "100%|██████████| 51/51 [00:04<00:00, 10.26it/s]\n"
     ]
    },
    {
     "name": "stdout",
     "output_type": "stream",
     "text": [
      "Fine-Tune Epoch 1/3 | Train Loss: 1.9625 | Val Loss: 1.8804\n"
     ]
    },
    {
     "name": "stderr",
     "output_type": "stream",
     "text": [
      "100%|██████████| 51/51 [00:04<00:00, 10.34it/s]\n"
     ]
    },
    {
     "name": "stdout",
     "output_type": "stream",
     "text": [
      "Fine-Tune Epoch 2/3 | Train Loss: 1.9603 | Val Loss: 1.8766\n"
     ]
    },
    {
     "name": "stderr",
     "output_type": "stream",
     "text": [
      "100%|██████████| 51/51 [00:04<00:00, 11.07it/s]\n"
     ]
    },
    {
     "name": "stdout",
     "output_type": "stream",
     "text": [
      "Fine-Tune Epoch 3/3 | Train Loss: 1.9561 | Val Loss: 1.8745\n"
     ]
    },
    {
     "name": "stderr",
     "output_type": "stream",
     "text": [
      "100%|██████████| 51/51 [00:06<00:00,  7.67it/s]\n"
     ]
    },
    {
     "name": "stdout",
     "output_type": "stream",
     "text": [
      "Epoch 52/100 | Train Loss: 1.9515 | Val Loss: 24.3118 | Val Accuracy: 0.3640\n",
      "Edge metrics: tensor([0.0000e+00, 7.7830e-02, 5.9775e-05, 3.7965e-02, 4.1772e-05, 1.4769e-03,\n",
      "        1.8470e-02, 5.4640e-02, 0.0000e+00, 9.2978e-04, 1.0237e-02, 1.2839e-02,\n",
      "        2.1830e-02, 4.0716e-02, 0.0000e+00, 3.0496e-02, 7.0529e-03, 2.9072e-02,\n",
      "        2.3014e-02, 8.0742e-03, 8.6037e-03, 3.9526e-02, 3.5932e-06, 1.6192e-03,\n",
      "        1.8320e-02, 6.6852e-03, 3.3755e-02, 8.5306e-03, 3.0962e-03, 8.8795e-03,\n",
      "        1.0116e-02, 4.6906e-02, 2.2938e-02, 5.6237e-08, 8.3925e-03, 1.2313e-06,\n",
      "        3.8490e-02, 2.3113e-02, 1.8613e-02, 5.4794e-03, 2.5219e-02, 4.3559e-02,\n",
      "        8.2579e-03, 2.5168e-03, 4.6858e-03, 3.6622e-06, 1.0987e-02, 1.2050e-02,\n",
      "        0.0000e+00, 2.0991e-02, 2.9974e-02, 7.8831e-03, 1.7639e-02, 1.5176e-02,\n",
      "        1.8700e-02, 4.6100e-04, 4.0843e-02, 5.9043e-03, 1.4379e-02, 2.0856e-02,\n",
      "        4.8092e-03, 3.5235e-03, 1.5275e-02, 8.1304e-03, 1.4744e-02, 1.7431e-02,\n",
      "        1.3273e-02, 1.3998e-02, 5.4613e-03, 2.4404e-02, 2.1580e-02, 1.8633e-03,\n",
      "        0.0000e+00, 6.7369e-03, 4.3037e-04, 1.0582e-01, 1.7441e-01, 8.3719e-02,\n",
      "        1.3789e-03, 1.3369e-01, 7.2718e-02, 4.9820e-02, 1.2650e-01, 8.3363e-02,\n",
      "        4.5335e-02, 2.6816e-03, 3.5760e-02, 7.9783e-02, 1.2457e-01, 6.2493e-02,\n",
      "        1.6638e-01, 4.9522e-03, 5.2998e-03, 1.7253e-05, 2.5859e-02, 1.0449e-01,\n",
      "        1.6826e-01, 5.8760e-02, 3.5379e-02, 6.5645e-02, 1.1850e-01, 9.8474e-02,\n",
      "        1.8423e-06, 1.8487e-01, 9.0170e-02, 2.0110e-01, 5.2721e-02, 3.9298e-02,\n",
      "        2.5693e-04, 9.6927e-02, 1.8805e-01, 1.1299e-01, 3.8760e-02, 8.9098e-02,\n",
      "        5.5377e-02, 1.1295e-01, 5.0676e-03, 1.5341e-01, 2.2892e-02, 2.5799e-02,\n",
      "        4.5042e-02, 1.0629e-02, 3.5576e-02, 9.4522e-02, 1.3481e-01, 2.7809e-02,\n",
      "        0.0000e+00, 9.8616e-03, 0.0000e+00, 1.7408e-01, 7.2682e-02, 1.7121e-02,\n",
      "        1.8265e-04, 2.3179e-02, 2.2696e-01, 8.5966e-02, 7.5783e-02, 6.1494e-02,\n",
      "        1.0248e-06, 2.8321e-05, 4.2890e-02, 6.8325e-02, 5.8028e-02, 1.3003e-04,\n",
      "        1.0084e-01, 5.0564e-02, 1.1884e-01, 7.8765e-02, 1.3718e-01, 1.6153e-01,\n",
      "        2.8524e-02, 2.3335e-02, 3.3393e-02, 5.1563e-02, 1.1984e-01, 1.3108e-01,\n",
      "        5.3493e-02, 0.0000e+00, 4.0756e-02, 5.5929e-03, 2.7531e-02, 5.6089e-02,\n",
      "        1.2798e-01, 1.6319e-01, 3.5341e-06, 1.0302e-01, 7.4609e-02, 1.6925e-03,\n",
      "        1.9128e-02, 2.0289e-01, 1.0792e-01, 1.0743e-01, 7.2700e-03, 9.2368e-02,\n",
      "        6.2026e-02, 6.0987e-02, 8.0920e-02, 1.0685e-02, 8.8657e-02, 0.0000e+00,\n",
      "        1.4177e-02, 0.0000e+00, 1.8094e-02, 2.1354e-04, 1.4071e-01, 1.2159e-01,\n",
      "        2.1886e-03, 9.5847e-02, 3.2324e-02, 1.5706e-01, 4.8408e-02, 1.3529e-02,\n",
      "        8.2220e-02, 6.3890e-02, 0.0000e+00, 4.9748e-02, 7.5139e-02, 8.3321e-02,\n",
      "        1.0326e-03, 1.3569e-03, 1.1294e-01, 2.3576e-05, 2.5623e-03, 7.1644e-04,\n",
      "        4.6338e-02, 1.5911e-02, 6.0253e-02, 3.2660e-02, 3.4963e-02, 1.0193e-01,\n",
      "        3.6174e-02, 9.3013e-08, 1.0364e-01, 1.8542e-06, 1.0222e-01, 6.3911e-02,\n",
      "        4.7922e-02, 1.2796e-02, 2.2961e-01, 3.1168e-02, 2.3628e-02, 1.7324e-02,\n",
      "        9.7385e-06, 3.3451e-03, 1.3084e-01, 0.0000e+00, 5.0361e-02, 1.9569e-02,\n",
      "        3.2668e-02, 3.5575e-02, 6.1019e-02, 1.7115e-03, 2.5913e-02, 6.7137e-02,\n",
      "        1.5225e-01, 9.7287e-03, 1.1030e-02, 1.4710e-02, 1.9061e-03, 1.7086e-02,\n",
      "        4.9361e-02, 3.7885e-02, 4.6166e-02, 1.4004e-02, 4.5634e-02, 3.1946e-02,\n",
      "        0.0000e+00, 2.7227e-03, 2.2783e-03, 5.0513e-02, 7.3897e-02, 0.0000e+00,\n",
      "        7.6450e-02, 1.7147e-01, 1.3637e-01, 1.8635e-01, 8.3755e-04, 8.1612e-02,\n",
      "        1.6938e-01, 5.6935e-02, 3.3654e-02, 6.2443e-02, 1.5143e-01, 2.2500e-01,\n",
      "        1.0491e-04, 1.7444e-01, 5.2234e-02, 9.8279e-02, 2.6085e-02, 3.4454e-02,\n",
      "        1.6587e-04, 2.6688e-02, 5.5976e-02, 1.1236e-01, 1.6496e-01, 1.1558e-01,\n",
      "        1.0859e-01, 1.1361e-01, 2.6998e-03, 3.5904e-02, 9.1262e-02, 8.8893e-02,\n",
      "        7.2919e-02, 1.3064e-01, 1.4896e-01, 1.1370e-01, 4.2453e-02, 9.1788e-02,\n",
      "        1.9609e-01, 2.1598e-02, 2.6623e-02, 0.0000e+00, 2.9831e-04, 1.3308e-01,\n",
      "        1.8370e-03, 6.8886e-03, 2.7211e-02, 1.2036e-01, 3.4407e-02, 8.3313e-02,\n",
      "        0.0000e+00, 1.1970e-01, 1.7120e-01, 2.2337e-04, 5.8841e-02, 3.0194e-04,\n",
      "        6.1967e-02, 2.8340e-02, 5.3977e-02, 2.9971e-04, 4.0272e-02, 1.4694e-01,\n",
      "        1.8129e-01, 1.8636e-03, 4.0740e-02, 1.0637e-01, 1.0151e-01, 5.0493e-02,\n",
      "        1.8275e-01, 1.0983e-01, 9.9473e-02, 5.0982e-02, 1.5801e-01, 3.7925e-02,\n",
      "        5.5868e-02, 4.4303e-02, 0.0000e+00, 1.8450e-01, 8.4922e-02, 1.0879e-02,\n",
      "        1.3134e-02, 1.3918e-04, 2.9895e-02, 1.3457e-01, 1.0157e-01, 3.6188e-02,\n",
      "        1.1109e-01, 1.6654e-01, 5.1514e-06, 9.1433e-05, 1.7285e-01, 5.3662e-02,\n",
      "        9.8996e-02, 4.2514e-02, 8.9060e-04, 1.4346e-01, 9.8829e-02, 1.4476e-01,\n",
      "        7.1547e-02, 6.7242e-02, 6.0434e-02, 2.3708e-02, 1.0771e-01, 1.3366e-01,\n",
      "        1.9772e-01, 2.2525e-02, 2.4263e-02, 2.3113e-02, 4.4706e-03, 9.8380e-02,\n",
      "        0.0000e+00, 3.1818e-03, 1.3241e-01, 7.9422e-02, 0.0000e+00, 5.3686e-02,\n",
      "        0.0000e+00, 2.2629e-02, 0.0000e+00, 6.4049e-02, 1.4327e-01, 0.0000e+00,\n",
      "        1.0848e-01, 1.5245e-01, 4.7881e-02, 1.0963e-01, 1.9889e-02, 1.7090e-01,\n",
      "        2.1002e-01, 0.0000e+00, 8.5962e-02, 1.2854e-01, 6.2188e-02, 2.2022e-01,\n",
      "        0.0000e+00, 2.6956e-02, 3.2851e-02, 2.3342e-01, 2.2062e-02, 2.0857e-01,\n",
      "        0.0000e+00, 0.0000e+00, 1.1820e-01, 3.6897e-02, 0.0000e+00, 0.0000e+00,\n",
      "        1.7529e-02, 0.0000e+00, 5.0365e-03, 4.3551e-02, 8.8028e-02, 1.1385e-01,\n",
      "        1.2807e-01, 2.0801e-02, 7.5804e-03, 2.3862e-02, 1.2067e-01, 4.2657e-02,\n",
      "        5.3368e-02, 6.7048e-02, 7.0751e-02, 9.5313e-02, 0.0000e+00, 0.0000e+00,\n",
      "        1.8836e-01, 4.8720e-03, 7.8289e-02, 0.0000e+00, 8.3631e-02, 4.8473e-02,\n",
      "        0.0000e+00, 0.0000e+00, 1.5309e-01, 1.1141e-01, 4.9268e-02, 9.1571e-02,\n",
      "        2.0213e-02, 0.0000e+00, 3.9693e-03, 6.9742e-03, 2.5587e-03, 2.3730e-02,\n",
      "        0.0000e+00, 2.1284e-04, 0.0000e+00, 0.0000e+00, 1.6594e-02, 1.7819e-01,\n",
      "        0.0000e+00, 3.5075e-02, 8.6801e-05, 1.9432e-02, 1.2088e-01, 1.8833e-02,\n",
      "        3.2485e-02, 2.0741e-01, 0.0000e+00, 6.9308e-02, 8.5219e-02, 1.5982e-01,\n",
      "        4.9925e-03, 1.1635e-01, 0.0000e+00, 1.3846e-01, 1.4798e-01, 1.3297e-01,\n",
      "        3.5124e-02, 0.0000e+00, 3.6624e-02, 1.2442e-01, 5.7978e-03, 9.8640e-02,\n",
      "        2.8943e-02, 3.1778e-02, 4.4412e-02, 2.3103e-02, 1.8008e-02, 4.1265e-03,\n",
      "        0.0000e+00, 8.9472e-02, 0.0000e+00, 2.1319e-02, 1.8557e-01, 5.6502e-02,\n",
      "        3.9125e-02, 5.3296e-02, 2.0732e-01, 0.0000e+00, 1.3387e-01, 1.5063e-03,\n",
      "        2.2194e-01, 0.0000e+00, 1.8928e-03, 3.8794e-02, 0.0000e+00, 0.0000e+00,\n",
      "        0.0000e+00, 0.0000e+00, 9.8354e-02, 7.6511e-02, 0.0000e+00, 0.0000e+00,\n",
      "        0.0000e+00, 5.2802e-02, 0.0000e+00, 9.7360e-02, 0.0000e+00, 1.9130e-02,\n",
      "        0.0000e+00, 5.3607e-06, 0.0000e+00, 4.2641e-02, 5.7959e-03, 0.0000e+00,\n",
      "        0.0000e+00, 0.0000e+00, 0.0000e+00, 0.0000e+00, 7.2242e-03, 0.0000e+00,\n",
      "        1.3212e-01, 5.5128e-02, 0.0000e+00, 2.1999e-02, 2.3374e-03, 1.5670e-01,\n",
      "        0.0000e+00, 3.6327e-02, 0.0000e+00, 9.0714e-03, 0.0000e+00, 0.0000e+00,\n",
      "        1.9296e-01, 1.1085e-03, 2.5912e-02, 0.0000e+00, 1.1939e-01, 1.2101e-01,\n",
      "        0.0000e+00, 1.0569e-02, 1.5270e-02, 0.0000e+00, 0.0000e+00, 0.0000e+00,\n",
      "        6.1329e-06, 0.0000e+00, 9.9797e-02, 0.0000e+00, 1.2822e-02, 7.1574e-02,\n",
      "        0.0000e+00, 1.2645e-01, 5.1590e-02, 0.0000e+00, 7.6550e-02, 1.2017e-01,\n",
      "        2.5700e-02, 0.0000e+00, 1.0752e-02, 1.9156e-01, 2.6352e-03, 7.8249e-03,\n",
      "        9.9496e-02, 0.0000e+00, 1.1227e-01, 7.5957e-02, 0.0000e+00, 1.4386e-01,\n",
      "        1.2834e-03, 0.0000e+00, 0.0000e+00, 2.4755e-02, 0.0000e+00, 0.0000e+00,\n",
      "        0.0000e+00, 0.0000e+00, 0.0000e+00, 0.0000e+00, 3.2815e-02, 1.0733e-01,\n",
      "        0.0000e+00, 0.0000e+00, 0.0000e+00, 3.4058e-02, 7.3558e-03, 5.2305e-02,\n",
      "        1.0550e-01, 3.7477e-02, 7.7695e-03, 1.0187e-01, 0.0000e+00, 0.0000e+00,\n",
      "        2.8515e-02, 6.6538e-02, 0.0000e+00, 1.4894e-01, 3.0751e-02, 0.0000e+00,\n",
      "        1.2352e-04, 4.9843e-02, 0.0000e+00, 0.0000e+00, 3.4927e-03, 1.1805e-02,\n",
      "        0.0000e+00, 0.0000e+00, 1.7502e-01, 0.0000e+00, 4.5711e-04, 0.0000e+00,\n",
      "        0.0000e+00, 3.7392e-03, 4.6518e-02, 6.3819e-02, 9.3853e-03, 1.7589e-02,\n",
      "        5.8674e-03, 6.5583e-02, 0.0000e+00, 4.9748e-02, 7.1260e-05, 0.0000e+00,\n",
      "        0.0000e+00, 1.2776e-01, 3.5786e-02, 2.1301e-01, 0.0000e+00, 7.2186e-02,\n",
      "        0.0000e+00, 0.0000e+00, 1.9081e-03, 1.4940e-02, 1.8005e-01, 3.4436e-03,\n",
      "        1.0428e-01, 0.0000e+00, 2.4070e-02, 1.5384e-01, 7.1226e-03, 1.3034e-01,\n",
      "        1.4929e-05, 1.1168e-03, 1.8360e-02, 9.3300e-03, 0.0000e+00, 0.0000e+00,\n",
      "        3.6426e-03, 3.2979e-02, 1.3939e-02, 0.0000e+00, 4.2699e-02, 2.4609e-02,\n",
      "        1.6148e-03, 0.0000e+00, 0.0000e+00, 1.8089e-02, 1.2493e-02, 3.1571e-02,\n",
      "        3.9783e-03, 0.0000e+00, 2.9246e-02, 3.7644e-02, 1.4179e-01, 9.7156e-02,\n",
      "        1.2115e-01, 8.4630e-02, 2.8159e-02, 2.1243e-01, 1.5390e-04, 2.3882e-02,\n",
      "        2.7177e-03, 1.0410e-01, 8.7498e-02, 1.6459e-01, 4.2517e-04, 9.1786e-02,\n",
      "        2.0664e-01, 0.0000e+00, 0.0000e+00, 2.4865e-02, 1.6631e-01, 5.8966e-02,\n",
      "        1.9322e-01, 0.0000e+00, 6.6468e-02, 1.1585e-01, 2.6518e-02, 0.0000e+00,\n",
      "        0.0000e+00, 0.0000e+00, 7.2563e-02, 0.0000e+00, 6.6776e-03, 4.1523e-03,\n",
      "        0.0000e+00, 8.3189e-03, 1.7658e-02, 1.0979e-02, 0.0000e+00, 0.0000e+00,\n",
      "        2.1087e-02, 0.0000e+00, 1.1192e-02, 0.0000e+00, 5.0176e-02, 2.0499e-01,\n",
      "        1.3944e-01, 0.0000e+00, 1.0769e-01, 0.0000e+00, 8.2819e-02, 0.0000e+00,\n",
      "        9.4023e-03, 9.7045e-02, 2.5441e-01, 0.0000e+00, 0.0000e+00, 0.0000e+00,\n",
      "        2.0232e-01, 0.0000e+00, 0.0000e+00, 1.9536e-02, 0.0000e+00, 5.4817e-03,\n",
      "        5.6929e-02, 7.6204e-04, 1.0714e-01, 2.7004e-02, 6.1869e-02, 0.0000e+00,\n",
      "        2.3401e-02, 2.7515e-02, 2.5072e-03, 1.6447e-02, 6.4085e-02, 1.3615e-01,\n",
      "        0.0000e+00, 1.4092e-01, 1.0841e-01, 3.6430e-02, 0.0000e+00, 8.9387e-02,\n",
      "        2.4156e-01, 2.8284e-01, 1.1426e-01, 2.3303e-02, 1.3085e-01, 0.0000e+00,\n",
      "        0.0000e+00, 0.0000e+00, 3.5221e-02, 5.6187e-02, 5.0619e-02, 3.0072e-02,\n",
      "        6.8373e-02, 1.3913e-01, 1.3278e-01, 1.6263e-02, 0.0000e+00, 0.0000e+00,\n",
      "        0.0000e+00, 1.8033e-02, 8.5133e-02, 6.5466e-03, 8.1916e-02, 1.4560e-02,\n",
      "        2.5874e-02, 2.3663e-02, 1.1331e-05, 5.4577e-02, 9.1911e-02, 1.1967e-01,\n",
      "        8.1576e-03, 8.7393e-02, 0.0000e+00, 0.0000e+00, 9.3330e-02, 0.0000e+00,\n",
      "        0.0000e+00, 0.0000e+00, 2.0710e-01, 5.0710e-03, 7.2792e-06, 0.0000e+00,\n",
      "        4.4531e-02, 3.2745e-02, 3.5688e-02, 1.0975e-01, 3.5620e-02, 5.4064e-02,\n",
      "        0.0000e+00, 5.0980e-02, 1.6068e-02, 1.1360e-01, 7.6631e-02, 0.0000e+00,\n",
      "        7.2506e-02, 8.7950e-02, 3.0807e-03, 4.8447e-02, 6.9797e-03, 3.3187e-02,\n",
      "        6.5152e-02, 1.6643e-01, 6.6718e-03, 1.6766e-02, 6.0118e-02, 1.3008e-01,\n",
      "        1.6067e-01, 2.6226e-02, 9.1448e-07, 1.0829e-01, 3.7291e-05, 1.1030e-01,\n",
      "        6.8439e-02, 6.7702e-02, 4.2860e-02, 7.7170e-02, 1.6668e-01, 4.5834e-02,\n",
      "        2.1323e-01, 7.9640e-06, 1.6747e-01, 2.6904e-01, 6.5394e-05, 3.2818e-03,\n",
      "        0.0000e+00, 4.5569e-02, 3.8887e-02, 1.5338e-01, 0.0000e+00, 0.0000e+00,\n",
      "        1.6221e-01, 5.0720e-02, 2.2425e-01, 4.9927e-02, 0.0000e+00, 0.0000e+00,\n",
      "        3.9944e-02, 0.0000e+00, 3.0417e-02, 0.0000e+00, 7.6952e-02, 1.1580e-01,\n",
      "        9.1492e-02, 7.6154e-02, 8.2013e-02, 1.1827e-01, 4.5826e-02, 9.0431e-02,\n",
      "        3.5349e-02, 1.6681e-01, 1.7994e-01, 1.3721e-01, 7.0556e-02, 1.2183e-01,\n",
      "        0.0000e+00, 9.5690e-02, 0.0000e+00, 1.6509e-01, 2.0952e-01, 4.0480e-02,\n",
      "        2.5631e-01, 7.1709e-02, 5.8678e-02, 1.3368e-01, 0.0000e+00, 1.7840e-01,\n",
      "        1.2230e-01, 1.0034e-01, 1.6928e-01, 5.8888e-02, 3.5887e-02, 2.4153e-01,\n",
      "        1.0306e-01, 9.5892e-02, 9.1524e-02, 4.6559e-02, 6.7301e-02, 9.2258e-02,\n",
      "        1.4460e-03, 3.0871e-02, 0.0000e+00, 8.2685e-02, 1.0593e-04, 0.0000e+00,\n",
      "        2.4876e-02, 6.4322e-02, 2.5911e-02, 1.4311e-02, 9.8828e-02, 8.3250e-04,\n",
      "        0.0000e+00, 2.8063e-02, 1.6115e-01, 6.1469e-02, 6.4048e-04, 4.0776e-02,\n",
      "        6.3583e-02, 4.4329e-02, 3.8353e-02, 2.0343e-01, 7.9987e-02, 3.0965e-01,\n",
      "        1.5525e-01, 2.3244e-01, 1.1356e-01, 1.5756e-01, 2.6094e-01, 4.1282e-02,\n",
      "        0.0000e+00, 3.2954e-02, 1.2914e-01, 3.2618e-02, 6.1389e-02, 3.9263e-02,\n",
      "        1.7533e-01, 5.3773e-02, 1.9033e-01, 2.0623e-01, 9.5185e-02, 1.8700e-01,\n",
      "        5.3017e-02, 2.3330e-01, 1.0370e-01, 2.5017e-01, 1.5189e-01, 3.0558e-01,\n",
      "        8.6463e-02, 3.0279e-01, 2.1118e-01, 3.4643e-01, 2.7849e-01, 1.5440e-01,\n",
      "        2.3029e-01, 1.1314e-01, 1.1712e-01, 3.8599e-02, 8.9408e-02, 4.9634e-02,\n",
      "        2.0798e-01, 4.8532e-02, 2.6881e-01, 1.8798e-01, 1.7597e-01, 1.2506e-01,\n",
      "        1.3935e-01, 5.4201e-02, 8.7323e-02, 1.7892e-01, 1.2403e-01, 2.1527e-01,\n",
      "        1.2042e-01, 1.9261e-01, 1.5137e-01, 9.5064e-02, 2.5957e-01, 5.2109e-02,\n",
      "        2.5468e-02, 1.5567e-01, 2.7255e-02, 4.1759e-01, 9.7301e-02, 1.4437e-01,\n",
      "        1.6407e-01, 5.6345e-01, 5.5227e-01, 6.8767e-01, 3.2422e-01, 5.0041e-01]) tensor(0.6877) tensor(59.1035)\n",
      "Chosen edges: tensor([[   5,    6,    7,    9,   11,    5,    7,    7,    8,    6,   14,   10,\n",
      "            8,   12,    1,    4,    7,    9,    8,   10,    8,   12,    6,    5,\n",
      "            5,   12,    7,   14,    6,    3,    1,    8,    1,    6,    8,    3,\n",
      "            4,    8,   10,   10,   12,    4,    3,   10,    8,   10,   10,   10,\n",
      "           10,   10],\n",
      "        [  30,   16,   37,   30,   22,  118,  125,  129,  132,  239,  290,  301,\n",
      "          500,  566,  588,  631,  642,  647,  676,  677,  727,  776,  781,  803,\n",
      "          834,  836,  855,  901,  904,  906,  912,  947,  954,  959,  961,  972,\n",
      "          973,  985,  990,  992, 1010, 1012, 1024, 1029, 1040, 1044, 1045, 1046,\n",
      "         1047, 1048]]) 50\n"
     ]
    },
    {
     "name": "stderr",
     "output_type": "stream",
     "text": [
      "100%|██████████| 51/51 [00:04<00:00, 10.21it/s]\n"
     ]
    },
    {
     "name": "stdout",
     "output_type": "stream",
     "text": [
      "Fine-Tune Epoch 1/3 | Train Loss: 2.0040 | Val Loss: 1.9023\n"
     ]
    },
    {
     "name": "stderr",
     "output_type": "stream",
     "text": [
      "100%|██████████| 51/51 [00:04<00:00, 11.23it/s]\n"
     ]
    },
    {
     "name": "stdout",
     "output_type": "stream",
     "text": [
      "Fine-Tune Epoch 2/3 | Train Loss: 1.9817 | Val Loss: 1.8902\n"
     ]
    },
    {
     "name": "stderr",
     "output_type": "stream",
     "text": [
      "100%|██████████| 51/51 [00:05<00:00, 10.02it/s]\n"
     ]
    },
    {
     "name": "stdout",
     "output_type": "stream",
     "text": [
      "Fine-Tune Epoch 3/3 | Train Loss: 1.9774 | Val Loss: 1.8858\n"
     ]
    },
    {
     "name": "stderr",
     "output_type": "stream",
     "text": [
      "100%|██████████| 51/51 [00:06<00:00,  7.59it/s]\n"
     ]
    },
    {
     "name": "stdout",
     "output_type": "stream",
     "text": [
      "Epoch 53/100 | Train Loss: 1.9647 | Val Loss: 24.3693 | Val Accuracy: 0.3634\n",
      "Edge metrics: tensor([0.0000e+00, 7.5486e-02, 5.7628e-05, 5.0547e-02, 2.6954e-04, 1.6889e-03,\n",
      "        2.5645e-02, 7.9467e-02, 0.0000e+00, 5.9633e-03, 1.5993e-02, 1.6255e-02,\n",
      "        2.0276e-02, 4.8960e-02, 0.0000e+00, 3.7371e-02, 9.4132e-03, 3.3328e-02,\n",
      "        2.2981e-02, 8.9858e-03, 1.1377e-02, 4.9524e-02, 7.4929e-07, 2.4964e-03,\n",
      "        2.0788e-02, 8.7328e-03, 3.8119e-02, 1.2832e-02, 5.5162e-03, 1.0368e-02,\n",
      "        1.2460e-02, 5.8647e-02, 2.8825e-02, 3.7842e-08, 8.1305e-03, 1.1325e-06,\n",
      "        4.8902e-02, 2.5985e-02, 1.8792e-02, 9.5635e-03, 3.2062e-02, 5.7938e-02,\n",
      "        9.3996e-03, 6.0429e-03, 6.8411e-03, 2.7447e-05, 1.2862e-02, 1.3379e-02,\n",
      "        0.0000e+00, 2.6531e-02, 3.6646e-02, 9.6543e-03, 1.9735e-02, 1.8764e-02,\n",
      "        2.3978e-02, 4.5832e-04, 4.6278e-02, 8.0980e-03, 1.8000e-02, 2.3419e-02,\n",
      "        5.0328e-03, 6.2957e-03, 1.6091e-02, 1.0439e-02, 2.0109e-02, 2.5071e-02,\n",
      "        1.7041e-02, 1.8953e-02, 9.5654e-03, 3.1958e-02, 2.3009e-02, 3.2082e-03,\n",
      "        0.0000e+00, 9.4923e-03, 1.2177e-04, 1.9924e-01, 2.3408e-01, 1.1833e-01,\n",
      "        7.5725e-03, 1.5831e-01, 1.2375e-01, 5.2798e-02, 1.5845e-01, 1.4594e-01,\n",
      "        5.4924e-02, 1.7441e-02, 5.0582e-02, 1.0118e-01, 1.5821e-01, 9.7789e-02,\n",
      "        1.6555e-01, 2.5083e-03, 5.4262e-03, 4.0828e-06, 3.5597e-02, 1.4667e-01,\n",
      "        1.8784e-01, 9.2065e-02, 7.5706e-02, 6.0913e-02, 1.4590e-01, 1.6350e-01,\n",
      "        1.5839e-06, 1.7271e-01, 1.3130e-01, 8.4400e-02, 6.1666e-02, 1.9525e-03,\n",
      "        1.4480e-01, 2.8722e-01, 1.7411e-01, 5.5739e-02, 1.0429e-01, 8.6271e-02,\n",
      "        1.8458e-01, 6.9074e-03, 2.1732e-01, 2.1063e-02, 4.9122e-02, 3.9022e-02,\n",
      "        1.2804e-02, 5.0984e-02, 1.6031e-01, 1.5982e-01, 5.3656e-02, 0.0000e+00,\n",
      "        1.2768e-02, 0.0000e+00, 2.1498e-01, 8.4704e-02, 1.2935e-02, 3.0335e-05,\n",
      "        3.3840e-02, 1.1520e-01, 1.0460e-01, 8.0804e-02, 7.6310e-07, 2.5222e-05,\n",
      "        6.7471e-02, 7.3933e-02, 8.1013e-02, 7.8752e-04, 1.0959e-01, 7.3504e-02,\n",
      "        1.1270e-01, 8.5636e-02, 1.6803e-01, 1.8925e-01, 3.3855e-02, 3.3757e-02,\n",
      "        4.0916e-02, 6.0477e-02, 1.4762e-01, 1.3214e-01, 8.4146e-02, 0.0000e+00,\n",
      "        5.1772e-02, 4.3540e-03, 3.7248e-02, 9.0779e-02, 1.5904e-01, 1.9161e-01,\n",
      "        3.0656e-06, 1.1623e-01, 9.8642e-02, 5.8945e-03, 1.8142e-02, 1.3615e-01,\n",
      "        1.2421e-01, 1.1015e-02, 1.0867e-01, 6.0793e-02, 9.4116e-02, 8.0066e-02,\n",
      "        1.4171e-02, 1.1478e-01, 0.0000e+00, 2.0812e-02, 0.0000e+00, 2.0437e-02,\n",
      "        2.7024e-04, 1.7292e-01, 1.7506e-01, 8.2664e-03, 1.0767e-01, 4.2485e-02,\n",
      "        2.4459e-01, 6.4156e-02, 2.3040e-02, 9.7281e-02, 6.0733e-02, 0.0000e+00,\n",
      "        6.0690e-02, 8.1163e-02, 5.0322e-02, 7.8585e-04, 1.5725e-03, 1.3479e-01,\n",
      "        5.6619e-06, 3.8913e-03, 8.4721e-04, 6.4453e-02, 2.2533e-02, 8.4689e-02,\n",
      "        3.8182e-02, 4.8546e-02, 1.2086e-01, 5.5096e-02, 6.6960e-08, 9.8172e-02,\n",
      "        1.7456e-06, 1.2637e-01, 7.7790e-02, 6.0579e-02, 2.3942e-02, 3.5706e-02,\n",
      "        3.2061e-02, 2.0832e-02, 9.4877e-05, 3.2148e-03, 1.2347e-01, 0.0000e+00,\n",
      "        5.9001e-02, 2.5353e-02, 3.8946e-02, 4.0621e-02, 8.7975e-02, 1.5969e-03,\n",
      "        3.3068e-02, 7.9089e-02, 1.4317e-01, 1.1577e-02, 2.1930e-02, 1.3932e-02,\n",
      "        2.4563e-03, 2.4311e-02, 6.4669e-02, 4.3529e-02, 5.7040e-02, 2.2922e-02,\n",
      "        6.1739e-02, 4.9832e-02, 0.0000e+00, 4.2750e-03, 1.3771e-02, 7.7389e-02,\n",
      "        8.4823e-02, 0.0000e+00, 1.1196e-01, 1.9324e-01, 1.5476e-01, 2.1496e-01,\n",
      "        7.6184e-05, 9.4192e-02, 2.1198e-01, 8.6863e-02, 5.3445e-02, 7.1714e-02,\n",
      "        1.8589e-01, 9.7824e-05, 1.8813e-01, 8.8304e-02, 1.2772e-01, 4.0478e-02,\n",
      "        6.0007e-02, 2.0100e-03, 2.0393e-02, 6.5843e-02, 1.5134e-01, 1.7048e-01,\n",
      "        1.4238e-01, 1.3664e-01, 1.3969e-01, 3.4525e-03, 4.6283e-02, 1.0684e-01,\n",
      "        9.5129e-02, 1.1525e-01, 1.9210e-01, 1.6001e-01, 1.5300e-01, 7.4108e-02,\n",
      "        1.1431e-01, 2.1841e-01, 3.1923e-02, 3.3528e-02, 0.0000e+00, 7.8323e-05,\n",
      "        2.1933e-01, 1.3585e-02, 8.9082e-03, 3.2645e-02, 1.7971e-01, 5.5280e-02,\n",
      "        1.0601e-01, 0.0000e+00, 1.8800e-01, 1.6913e-01, 8.0462e-05, 6.5671e-02,\n",
      "        2.8259e-04, 1.1634e-01, 4.4084e-02, 7.8612e-02, 1.8549e-03, 3.3767e-02,\n",
      "        1.6138e-01, 2.1725e-01, 2.1064e-03, 5.3576e-02, 1.1264e-01, 9.1004e-02,\n",
      "        5.5994e-02, 2.2811e-01, 1.3963e-01, 1.2553e-01, 7.9286e-02, 1.9143e-01,\n",
      "        6.1564e-02, 6.3777e-02, 5.9900e-02, 0.0000e+00, 2.3678e-01, 1.2027e-01,\n",
      "        9.3663e-03, 1.3086e-02, 3.7543e-05, 3.9458e-02, 1.4832e-01, 1.6111e-01,\n",
      "        5.9213e-02, 1.4831e-01, 2.0617e-01, 3.5289e-06, 7.4709e-05, 1.6726e-01,\n",
      "        9.2929e-02, 1.1652e-01, 7.1338e-02, 5.5782e-03, 1.5553e-01, 1.1188e-01,\n",
      "        1.8090e-01, 9.0029e-02, 7.3392e-02, 9.2257e-02, 2.7141e-02, 1.3634e-01,\n",
      "        1.8581e-01, 2.1718e-01, 3.9129e-02, 3.0198e-02, 2.2317e-02, 3.1284e-03,\n",
      "        1.6104e-01, 0.0000e+00, 0.0000e+00, 1.3192e-01, 9.0785e-02, 0.0000e+00,\n",
      "        8.1299e-02, 0.0000e+00, 3.3868e-02, 0.0000e+00, 9.2794e-02, 1.6828e-01,\n",
      "        0.0000e+00, 1.5648e-01, 2.0234e-01, 5.2400e-02, 1.4341e-01, 2.7965e-02,\n",
      "        2.4448e-01, 0.0000e+00, 1.9498e-01, 1.1647e-01, 9.4094e-02, 0.0000e+00,\n",
      "        4.2680e-02, 3.1142e-02, 3.1684e-02, 0.0000e+00, 0.0000e+00, 1.3911e-01,\n",
      "        5.5817e-02, 0.0000e+00, 0.0000e+00, 1.4106e-02, 0.0000e+00, 0.0000e+00,\n",
      "        4.3203e-02, 9.0214e-02, 1.5482e-01, 1.5768e-01, 3.5501e-02, 6.9269e-03,\n",
      "        2.8026e-02, 1.4407e-01, 6.3255e-02, 6.0182e-02, 9.6171e-02, 1.1687e-01,\n",
      "        9.6644e-02, 0.0000e+00, 0.0000e+00, 1.1660e-01, 7.3703e-03, 1.1490e-01,\n",
      "        0.0000e+00, 1.0161e-01, 6.8436e-02, 0.0000e+00, 0.0000e+00, 2.1501e-01,\n",
      "        1.3426e-01, 7.1267e-02, 1.1478e-01, 2.4011e-02, 0.0000e+00, 3.5848e-03,\n",
      "        5.0373e-03, 4.4487e-03, 2.1156e-02, 0.0000e+00, 1.6122e-04, 0.0000e+00,\n",
      "        0.0000e+00, 2.2448e-02, 3.1286e-01, 0.0000e+00, 4.4681e-02, 5.5780e-05,\n",
      "        4.1897e-02, 2.3858e-01, 1.4253e-02, 5.4249e-02, 0.0000e+00, 6.8673e-02,\n",
      "        1.5319e-01, 1.9859e-01, 6.1811e-03, 1.1621e-01, 0.0000e+00, 1.5124e-01,\n",
      "        1.9212e-01, 1.4519e-01, 4.9022e-02, 0.0000e+00, 4.9470e-02, 1.7294e-01,\n",
      "        7.3912e-03, 1.2043e-01, 4.2147e-02, 4.7096e-02, 5.2415e-02, 2.5733e-02,\n",
      "        1.8481e-02, 4.8387e-03, 0.0000e+00, 9.8861e-02, 0.0000e+00, 3.1015e-02,\n",
      "        2.3050e-01, 5.6853e-02, 4.2483e-02, 5.1553e-02, 0.0000e+00, 1.8667e-01,\n",
      "        1.8414e-03, 0.0000e+00, 2.7347e-03, 3.9502e-02, 0.0000e+00, 0.0000e+00,\n",
      "        0.0000e+00, 0.0000e+00, 8.6676e-02, 7.0443e-02, 0.0000e+00, 0.0000e+00,\n",
      "        0.0000e+00, 3.7805e-02, 0.0000e+00, 7.3792e-02, 0.0000e+00, 1.7591e-02,\n",
      "        0.0000e+00, 5.0904e-06, 0.0000e+00, 6.3285e-02, 9.8324e-03, 0.0000e+00,\n",
      "        0.0000e+00, 0.0000e+00, 0.0000e+00, 0.0000e+00, 6.0581e-03, 0.0000e+00,\n",
      "        1.7032e-01, 7.1526e-02, 0.0000e+00, 2.1994e-02, 2.1729e-03, 3.4904e-01,\n",
      "        0.0000e+00, 5.8434e-02, 0.0000e+00, 1.0006e-02, 0.0000e+00, 0.0000e+00,\n",
      "        2.7115e-01, 1.2742e-03, 2.8126e-02, 0.0000e+00, 1.1218e-01, 1.4157e-01,\n",
      "        0.0000e+00, 9.2513e-03, 1.8138e-02, 0.0000e+00, 0.0000e+00, 0.0000e+00,\n",
      "        4.3478e-06, 0.0000e+00, 1.2849e-01, 0.0000e+00, 1.5117e-02, 7.6915e-02,\n",
      "        0.0000e+00, 1.6441e-01, 8.4855e-02, 0.0000e+00, 1.3080e-01, 1.3108e-01,\n",
      "        3.9798e-02, 0.0000e+00, 1.3477e-02, 2.3323e-01, 3.2547e-03, 7.3834e-03,\n",
      "        1.2113e-01, 0.0000e+00, 1.3578e-01, 8.1673e-02, 0.0000e+00, 1.6577e-01,\n",
      "        1.2310e-03, 0.0000e+00, 0.0000e+00, 2.3351e-02, 0.0000e+00, 0.0000e+00,\n",
      "        0.0000e+00, 0.0000e+00, 0.0000e+00, 0.0000e+00, 3.6265e-02, 1.3241e-01,\n",
      "        0.0000e+00, 0.0000e+00, 0.0000e+00, 3.3134e-02, 1.1785e-02, 4.5688e-02,\n",
      "        5.8499e-02, 3.4203e-02, 8.8615e-04, 7.8558e-02, 0.0000e+00, 0.0000e+00,\n",
      "        2.0742e-02, 7.3195e-02, 0.0000e+00, 2.1780e-01, 2.7310e-02, 0.0000e+00,\n",
      "        7.1838e-05, 5.9165e-02, 0.0000e+00, 0.0000e+00, 2.3736e-03, 1.0828e-02,\n",
      "        0.0000e+00, 0.0000e+00, 2.5993e-01, 0.0000e+00, 1.4215e-04, 0.0000e+00,\n",
      "        0.0000e+00, 4.7485e-03, 4.7188e-02, 5.9773e-02, 8.6169e-03, 1.6951e-02,\n",
      "        5.5052e-03, 6.1009e-02, 0.0000e+00, 6.1727e-02, 6.9995e-05, 0.0000e+00,\n",
      "        0.0000e+00, 2.3478e-01, 3.8480e-02, 0.0000e+00, 6.8383e-02, 0.0000e+00,\n",
      "        0.0000e+00, 2.0959e-03, 8.6974e-03, 1.7025e-01, 2.4844e-03, 1.1882e-01,\n",
      "        0.0000e+00, 1.5841e-02, 2.1010e-01, 5.1919e-03, 2.0314e-01, 1.3004e-05,\n",
      "        1.0086e-03, 2.3103e-02, 6.8674e-03, 0.0000e+00, 0.0000e+00, 0.0000e+00,\n",
      "        3.0426e-02, 1.0412e-02, 0.0000e+00, 5.4586e-02, 2.8180e-02, 0.0000e+00,\n",
      "        0.0000e+00, 0.0000e+00, 1.6487e-02, 9.7623e-03, 3.0064e-02, 5.6533e-03,\n",
      "        0.0000e+00, 2.5596e-02, 6.8033e-02, 1.7137e-01, 1.1928e-01, 1.1151e-01,\n",
      "        1.1278e-01, 4.3726e-02, 1.4487e-04, 4.2552e-02, 3.2652e-03, 1.6136e-01,\n",
      "        1.6870e-01, 2.5157e-01, 4.9187e-04, 7.5024e-02, 0.0000e+00, 0.0000e+00,\n",
      "        2.5571e-02, 2.0573e-01, 7.2697e-02, 2.9487e-01, 0.0000e+00, 6.8409e-02,\n",
      "        1.6632e-01, 3.4423e-02, 0.0000e+00, 0.0000e+00, 0.0000e+00, 5.7288e-02,\n",
      "        0.0000e+00, 1.3243e-02, 7.2200e-04, 0.0000e+00, 8.6947e-03, 2.4307e-02,\n",
      "        1.2215e-02, 0.0000e+00, 0.0000e+00, 1.8985e-02, 0.0000e+00, 0.0000e+00,\n",
      "        0.0000e+00, 4.3562e-02, 1.4751e-01, 0.0000e+00, 1.0261e-01, 0.0000e+00,\n",
      "        1.0352e-01, 0.0000e+00, 1.4214e-02, 9.6485e-02, 0.0000e+00, 0.0000e+00,\n",
      "        0.0000e+00, 0.0000e+00, 0.0000e+00, 2.4242e-02, 0.0000e+00, 5.7085e-03,\n",
      "        3.2433e-02, 5.9118e-04, 1.3712e-01, 4.1303e-02, 7.3795e-02, 0.0000e+00,\n",
      "        3.3323e-02, 3.0871e-02, 0.0000e+00, 1.8792e-02, 7.0251e-02, 1.9440e-01,\n",
      "        0.0000e+00, 2.3376e-01, 1.2167e-01, 4.5738e-02, 0.0000e+00, 1.4923e-01,\n",
      "        1.1828e-01, 3.6491e-02, 1.8356e-01, 0.0000e+00, 0.0000e+00, 0.0000e+00,\n",
      "        3.0583e-02, 6.2543e-02, 5.5360e-02, 3.9674e-02, 1.0550e-01, 1.5303e-01,\n",
      "        1.3757e-01, 1.6555e-02, 0.0000e+00, 0.0000e+00, 0.0000e+00, 3.0933e-02,\n",
      "        9.9625e-02, 1.1063e-02, 8.6569e-02, 1.9168e-02, 4.5823e-02, 2.3922e-02,\n",
      "        9.1363e-06, 5.0604e-02, 1.0824e-01, 1.4682e-01, 8.8220e-03, 9.7319e-02,\n",
      "        0.0000e+00, 0.0000e+00, 1.1168e-01, 0.0000e+00, 0.0000e+00, 0.0000e+00,\n",
      "        6.1073e-03, 7.9595e-06, 0.0000e+00, 4.3441e-02, 6.1483e-02, 5.7189e-02,\n",
      "        1.0506e-01, 3.4336e-02, 5.3598e-02, 0.0000e+00, 6.6191e-02, 1.5653e-02,\n",
      "        1.3396e-01, 8.6537e-02, 0.0000e+00, 1.2299e-01, 1.2127e-01, 2.8980e-03,\n",
      "        8.4057e-02, 8.2285e-03, 6.3901e-02, 7.8975e-02, 3.1481e-01, 7.6315e-03,\n",
      "        1.8917e-02, 1.6682e-01, 3.6607e-01, 1.9016e-01, 5.8651e-02, 6.4626e-07,\n",
      "        1.4576e-01, 2.3508e-05, 1.4991e-01, 1.7953e-01, 1.0703e-01, 5.0268e-02,\n",
      "        7.3254e-02, 2.6783e-01, 6.1453e-02, 6.4216e-06, 2.2745e-01, 5.5346e-05,\n",
      "        7.6364e-04, 0.0000e+00, 5.5421e-02, 4.9420e-02, 1.5638e-01, 0.0000e+00,\n",
      "        0.0000e+00, 1.7131e-01, 6.9920e-02, 3.4439e-02, 0.0000e+00, 0.0000e+00,\n",
      "        3.8498e-02, 0.0000e+00, 2.1582e-02, 0.0000e+00, 7.9281e-02, 1.4191e-01,\n",
      "        1.0669e-01, 8.6787e-02, 1.0523e-01, 1.5067e-01, 4.9836e-02, 9.9869e-02,\n",
      "        5.0255e-02, 1.8182e-01, 1.9484e-01, 2.2869e-01, 7.6347e-02, 2.2459e-01,\n",
      "        0.0000e+00, 1.0400e-01, 0.0000e+00, 1.4535e-01, 5.4007e-02, 7.3851e-02,\n",
      "        7.5828e-02, 1.0684e-01, 0.0000e+00, 2.3039e-01, 1.3887e-01, 1.3264e-01,\n",
      "        2.0971e-01, 6.8409e-02, 2.9949e-02, 1.2518e-01, 1.5097e-01, 1.3324e-01,\n",
      "        9.7494e-02, 1.0566e-01, 1.9814e-01, 1.2444e-03, 3.0241e-02, 0.0000e+00,\n",
      "        1.2005e-01, 2.5733e-05, 0.0000e+00, 4.2604e-02, 8.4730e-02, 4.8347e-02,\n",
      "        1.5274e-02, 1.7173e-01, 3.8174e-04, 0.0000e+00, 3.7715e-02, 1.2075e-01,\n",
      "        8.2204e-02, 2.6816e-04, 6.5960e-02, 7.8056e-02, 6.8859e-02, 5.2251e-02,\n",
      "        1.2301e-01, 2.3418e-01, 1.6033e-01, 2.1202e-01, 4.1365e-02, 0.0000e+00,\n",
      "        2.5222e-02, 1.5138e-01, 2.6036e-02, 7.4262e-02, 4.5289e-02, 1.8689e-01,\n",
      "        6.7019e-02, 2.4327e-01, 8.5122e-02, 3.3080e-01, 6.0532e-02, 1.3365e-01,\n",
      "        1.6981e-01, 1.3920e-01, 3.4720e-01, 1.5843e-01, 1.5795e-01, 3.4683e-02,\n",
      "        8.6602e-02, 5.6119e-02, 6.1611e-02, 1.7524e-01, 2.2877e-01, 8.1630e-02,\n",
      "        2.6003e-01, 1.0039e-01, 8.8555e-02, 1.6229e-01, 1.7504e-01, 1.5617e-01,\n",
      "        3.7914e-01, 3.1684e-01, 1.3426e-01, 6.4900e-02, 4.8153e-02, 2.6404e-01,\n",
      "        8.0804e-02, 1.7603e-01, 1.8979e-01, 2.9941e-01, 9.8992e-02, 1.4506e-01,\n",
      "        2.6050e-02, 1.0480e-01, 1.1839e-01, 1.2919e-01, 1.6731e-01, 2.7395e-01,\n",
      "        2.0151e-01, 1.6647e-02, 6.0747e-02, 1.2621e-01, 1.1884e-01, 1.4296e-01,\n",
      "        8.7079e-02, 6.1109e-02, 1.7062e-02, 1.5821e-01, 3.0680e-01, 6.5694e-02,\n",
      "        1.7760e-02, 2.0307e-01, 1.1425e-01, 1.0252e-01, 1.8780e-01, 3.9354e-02,\n",
      "        1.1842e-01, 2.5130e-01, 2.4809e-01, 1.9362e-01, 2.5034e-01, 5.1275e-02,\n",
      "        1.2701e-01, 1.2940e-01, 3.6897e-01, 9.9349e-02, 1.0758e-01, 5.1953e-01,\n",
      "        8.3094e-02, 9.0421e-02, 1.9379e-01, 3.3111e-01, 4.1921e-01, 2.5296e-01,\n",
      "        3.4616e-01, 6.1980e-01, 5.1761e-01, 6.8932e-01, 4.3414e-01, 7.1417e-01]) tensor(0.7142) tensor(68.8850)\n",
      "Chosen edges: tensor([[   3,    5,    5,    6,    8,   11,   11,   11,   12,   13,   13,   14,\n",
      "           14,   14,    4,    4,    1,    5,    5,   12,    5,    6,   13,    1,\n",
      "            4,    8,   12,   12,   12,   12,   14,    4,    8,   10,    5,    3,\n",
      "            3,    4,   12,    6,    3,    3,    1,    3,   10,   14,    3,    4,\n",
      "            8,   10,    8,    7,    8,    8,   12,   14,    6,    1,    8,    8,\n",
      "            4,    3,   10,    8,   10,   10,   10,   10,   10],\n",
      "        [  32,   39,   49,    5,   54,   11,   16,   60,   34,   42,   54,    5,\n",
      "           22,   60,   98,  114,  201,  231,  236,  284,  355,  363,  405,  464,\n",
      "          478,  497,  515,  519,  580,  599,  601,  669,  751,  756,  773,  779,\n",
      "          823,  826,  844,  848,  905,  911,  945,  949,  991, 1014, 1017, 1026,\n",
      "         1027, 1038, 1043, 1056, 1057, 1067, 1070, 1076, 1077, 1079, 1083, 1086,\n",
      "         1090, 1091, 1092, 1093, 1094, 1095, 1096, 1097, 1098]]) 69\n"
     ]
    },
    {
     "name": "stderr",
     "output_type": "stream",
     "text": [
      "100%|██████████| 51/51 [00:04<00:00, 10.36it/s]\n"
     ]
    },
    {
     "name": "stdout",
     "output_type": "stream",
     "text": [
      "Fine-Tune Epoch 1/3 | Train Loss: 2.0548 | Val Loss: 1.9556\n"
     ]
    },
    {
     "name": "stderr",
     "output_type": "stream",
     "text": [
      "100%|██████████| 51/51 [00:05<00:00,  9.75it/s]\n"
     ]
    },
    {
     "name": "stdout",
     "output_type": "stream",
     "text": [
      "Fine-Tune Epoch 2/3 | Train Loss: 2.0149 | Val Loss: 1.9328\n"
     ]
    },
    {
     "name": "stderr",
     "output_type": "stream",
     "text": [
      "100%|██████████| 51/51 [00:05<00:00, 10.13it/s]\n"
     ]
    },
    {
     "name": "stdout",
     "output_type": "stream",
     "text": [
      "Fine-Tune Epoch 3/3 | Train Loss: 1.9948 | Val Loss: 1.9197\n"
     ]
    },
    {
     "name": "stderr",
     "output_type": "stream",
     "text": [
      "100%|██████████| 51/51 [00:06<00:00,  7.45it/s]\n"
     ]
    },
    {
     "name": "stdout",
     "output_type": "stream",
     "text": [
      "Epoch 54/100 | Train Loss: 1.9821 | Val Loss: 24.5745 | Val Accuracy: 0.3608\n"
     ]
    },
    {
     "name": "stderr",
     "output_type": "stream",
     "text": [
      "100%|██████████| 51/51 [00:06<00:00,  8.09it/s]\n"
     ]
    },
    {
     "name": "stdout",
     "output_type": "stream",
     "text": [
      "Epoch 55/100 | Train Loss: 1.9677 | Val Loss: 24.4454 | Val Accuracy: 0.3613\n"
     ]
    },
    {
     "name": "stderr",
     "output_type": "stream",
     "text": [
      "100%|██████████| 51/51 [00:05<00:00,  9.32it/s]\n"
     ]
    },
    {
     "name": "stdout",
     "output_type": "stream",
     "text": [
      "Epoch 56/100 | Train Loss: 1.9536 | Val Loss: 24.3557 | Val Accuracy: 0.3625\n"
     ]
    },
    {
     "name": "stderr",
     "output_type": "stream",
     "text": [
      "100%|██████████| 51/51 [00:06<00:00,  7.80it/s]\n"
     ]
    },
    {
     "name": "stdout",
     "output_type": "stream",
     "text": [
      "Epoch 57/100 | Train Loss: 1.9476 | Val Loss: 24.2809 | Val Accuracy: 0.3614\n",
      "Edge metrics: tensor([0.0000e+00, 6.1908e-02, 2.1217e-04, 4.2971e-02, 2.0721e-04, 3.8289e-03,\n",
      "        3.0533e-02, 7.1358e-02, 0.0000e+00, 4.7999e-03, 9.3279e-03, 1.3080e-02,\n",
      "        1.2234e-02, 3.6382e-02, 0.0000e+00, 2.2942e-02, 8.8051e-03, 2.8492e-02,\n",
      "        1.5903e-02, 5.6962e-03, 7.8388e-03, 2.8740e-02, 2.0714e-07, 1.9581e-03,\n",
      "        1.9879e-02, 6.3819e-03, 2.2611e-02, 1.0630e-02, 7.0681e-03, 8.3216e-03,\n",
      "        1.0618e-02, 4.2876e-02, 2.0657e-02, 4.2049e-09, 8.0351e-03, 5.5389e-06,\n",
      "        4.3468e-02, 2.2267e-02, 1.0966e-02, 8.6041e-03, 2.1898e-02, 5.1322e-02,\n",
      "        5.9159e-03, 1.0728e-02, 6.2649e-03, 2.1320e-05, 7.4530e-03, 9.6590e-03,\n",
      "        0.0000e+00, 3.0046e-02, 2.7439e-02, 1.8080e-02, 1.6401e-02, 1.2148e-02,\n",
      "        2.1258e-02, 6.0830e-04, 3.1147e-02, 7.6767e-03, 1.1065e-02, 1.5176e-02,\n",
      "        5.5539e-03, 1.2866e-02, 9.2594e-03, 7.3562e-03, 1.6936e-02, 1.8569e-02,\n",
      "        1.4041e-02, 1.1132e-02, 1.3924e-02, 2.8834e-02, 2.0383e-02, 1.7374e-03,\n",
      "        0.0000e+00, 6.9230e-03, 4.2322e-05, 2.1586e-01, 1.6806e-01, 6.4705e-03,\n",
      "        2.1011e-01, 1.6178e-01, 4.7936e-02, 1.3079e-01, 8.4021e-02, 5.0678e-02,\n",
      "        1.5120e-02, 3.1023e-02, 8.4981e-02, 1.1955e-01, 7.9930e-02, 1.4635e-01,\n",
      "        2.0994e-03, 4.4461e-03, 1.6847e-06, 2.8613e-02, 1.3739e-01, 1.4451e-01,\n",
      "        7.8243e-02, 8.2188e-02, 5.9378e-02, 1.7306e-01, 9.1740e-02, 1.5489e-07,\n",
      "        1.4411e-01, 1.2351e-01, 3.3278e-02, 1.1265e-01, 1.6681e-03, 9.3242e-02,\n",
      "        1.2906e-01, 7.4252e-02, 9.6982e-02, 4.9174e-02, 1.5641e-01, 2.0101e-02,\n",
      "        1.5484e-02, 5.8189e-02, 3.7348e-02, 1.0346e-02, 6.6758e-02, 9.3300e-02,\n",
      "        1.6522e-01, 3.1015e-02, 0.0000e+00, 1.1706e-02, 0.0000e+00, 7.8926e-02,\n",
      "        1.0464e-02, 1.6036e-05, 3.0935e-02, 1.3152e-01, 1.1893e-01, 8.2015e-02,\n",
      "        2.2996e-07, 2.9094e-04, 6.4608e-02, 4.7108e-02, 8.7316e-02, 6.9859e-04,\n",
      "        9.1444e-02, 1.4803e-01, 1.1704e-01, 6.1378e-02, 1.5673e-01, 1.5870e-01,\n",
      "        4.3093e-02, 6.0271e-02, 3.4290e-02, 6.2711e-02, 9.5513e-02, 1.5077e-01,\n",
      "        7.8232e-02, 0.0000e+00, 4.6662e-02, 2.6598e-03, 3.6149e-02, 1.4188e-01,\n",
      "        1.4295e-01, 1.4443e-01, 4.1881e-07, 8.0864e-02, 9.4500e-02, 5.6463e-03,\n",
      "        1.3341e-02, 1.3553e-01, 1.1264e-01, 2.6188e-02, 9.7323e-02, 4.0277e-02,\n",
      "        7.5145e-02, 4.0859e-02, 1.0586e-02, 1.1103e-01, 0.0000e+00, 1.9110e-02,\n",
      "        0.0000e+00, 1.7709e-02, 1.1761e-03, 1.5625e-01, 1.8937e-01, 8.2321e-03,\n",
      "        8.3333e-02, 3.9091e-02, 5.8819e-02, 1.3054e-02, 4.1422e-02, 3.6010e-02,\n",
      "        0.0000e+00, 2.9989e-02, 6.3864e-02, 4.2944e-02, 4.9002e-04, 9.5078e-04,\n",
      "        1.0258e-01, 2.4035e-06, 2.8029e-03, 7.7290e-04, 3.6866e-02, 1.9829e-02,\n",
      "        1.0522e-01, 5.1362e-02, 3.8972e-02, 8.8370e-02, 3.8253e-02, 5.8421e-09,\n",
      "        6.8566e-02, 7.0267e-06, 1.0739e-01, 6.5991e-02, 3.7253e-02, 2.5545e-02,\n",
      "        1.7398e-02, 5.4892e-02, 1.4370e-02, 6.9336e-05, 2.0724e-03, 7.9527e-02,\n",
      "        0.0000e+00, 6.4770e-02, 3.0705e-02, 3.4377e-02, 3.0169e-02, 8.3729e-02,\n",
      "        4.5878e-03, 4.9825e-02, 7.8926e-02, 9.6488e-02, 6.9440e-03, 3.2613e-02,\n",
      "        9.0111e-03, 1.7386e-03, 2.4585e-02, 4.7504e-02, 3.6745e-02, 3.6668e-02,\n",
      "        3.0885e-02, 5.0377e-02, 3.7028e-02, 0.0000e+00, 3.8071e-03, 1.4545e-02,\n",
      "        6.5270e-02, 8.3036e-02, 0.0000e+00, 1.2955e-01, 1.7199e-01, 1.1181e-01,\n",
      "        1.5697e-05, 9.7125e-02, 7.6051e-02, 7.4210e-02, 5.5619e-02, 2.1709e-01,\n",
      "        4.1530e-04, 1.6097e-01, 1.2409e-01, 1.4620e-01, 5.0029e-02, 6.7401e-02,\n",
      "        1.8664e-03, 1.6843e-02, 5.8145e-02, 1.6094e-01, 1.7149e-01, 1.3303e-01,\n",
      "        1.3531e-01, 1.6140e-01, 7.8041e-03, 4.4263e-02, 6.4987e-02, 9.5713e-02,\n",
      "        1.0550e-01, 1.5794e-01, 1.7038e-01, 1.5437e-01, 1.0332e-01, 1.1876e-01,\n",
      "        2.7598e-02, 3.2988e-02, 0.0000e+00, 3.4846e-05, 1.2775e-02, 1.8865e-02,\n",
      "        2.9665e-02, 1.3371e-01, 4.6975e-02, 8.7419e-02, 0.0000e+00, 2.5306e-01,\n",
      "        1.4137e-01, 2.3569e-05, 5.4349e-02, 1.2126e-03, 1.9426e-01, 5.6002e-02,\n",
      "        7.2035e-02, 1.7792e-03, 2.7717e-02, 1.4802e-01, 5.8808e-03, 7.0375e-02,\n",
      "        7.4785e-02, 4.6851e-02, 4.1758e-02, 1.1108e-01, 1.0941e-01, 1.1171e-01,\n",
      "        1.9036e-01, 4.4643e-02, 5.4264e-02, 5.0910e-02, 0.0000e+00, 1.2768e-01,\n",
      "        6.8887e-03, 9.9332e-03, 1.4896e-05, 3.7672e-02, 1.5687e-01, 1.5616e-01,\n",
      "        6.7009e-02, 1.5638e-01, 6.7615e-07, 3.7943e-04, 1.3235e-01, 1.2248e-01,\n",
      "        7.4515e-02, 8.2688e-02, 5.2324e-03, 1.5184e-01, 1.0242e-01, 1.8335e-01,\n",
      "        8.7234e-02, 5.2957e-02, 9.0281e-02, 2.2938e-02, 1.3957e-01, 1.4925e-01,\n",
      "        2.8202e-02, 2.8587e-02, 5.4035e-03, 0.0000e+00, 2.0438e-01, 0.0000e+00,\n",
      "        0.0000e+00, 1.2911e-01, 8.9002e-02, 0.0000e+00, 6.7143e-02, 0.0000e+00,\n",
      "        5.8488e-02, 0.0000e+00, 7.7938e-02, 1.4074e-01, 0.0000e+00, 1.0597e-01,\n",
      "        4.4897e-02, 1.9715e-01, 1.6717e-02, 0.0000e+00, 3.1414e-01, 7.4286e-02,\n",
      "        1.2733e-01, 0.0000e+00, 5.9291e-02, 2.2260e-02, 2.9364e-02, 0.0000e+00,\n",
      "        0.0000e+00, 1.4681e-01, 9.4568e-02, 0.0000e+00, 0.0000e+00, 1.7257e-03,\n",
      "        0.0000e+00, 0.0000e+00, 3.1260e-03, 5.8246e-02, 1.3412e-01, 1.2876e-01,\n",
      "        3.2558e-02, 7.5249e-04, 2.2165e-02, 9.5603e-02, 7.1813e-02, 4.9724e-02,\n",
      "        6.7803e-02, 2.0270e-01, 1.2358e-01, 0.0000e+00, 0.0000e+00, 1.0924e-01,\n",
      "        3.9970e-03, 1.0191e-01, 0.0000e+00, 9.7990e-02, 6.7471e-02, 0.0000e+00,\n",
      "        0.0000e+00, 1.6102e-01, 2.9948e-02, 1.0041e-01, 1.8121e-02, 0.0000e+00,\n",
      "        3.6429e-03, 0.0000e+00, 1.5693e-02, 1.6297e-02, 0.0000e+00, 6.8166e-05,\n",
      "        0.0000e+00, 0.0000e+00, 7.6020e-03, 0.0000e+00, 2.9523e-02, 1.7683e-04,\n",
      "        4.9074e-02, 2.3642e-02, 2.8900e-02, 0.0000e+00, 6.2480e-02, 1.7227e-01,\n",
      "        1.9293e-01, 1.6444e-03, 7.9395e-02, 0.0000e+00, 1.3821e-01, 1.1377e-01,\n",
      "        1.3899e-01, 3.2690e-02, 0.0000e+00, 4.2218e-02, 1.4927e-01, 1.8461e-02,\n",
      "        1.0238e-01, 3.0888e-02, 2.0792e-02, 4.4031e-02, 3.2657e-03, 1.2731e-02,\n",
      "        2.7320e-04, 0.0000e+00, 7.4502e-02, 0.0000e+00, 3.2987e-02, 3.1867e-02,\n",
      "        3.6181e-02, 6.1499e-02, 0.0000e+00, 1.6406e-01, 3.7743e-03, 0.0000e+00,\n",
      "        2.0058e-03, 5.3982e-02, 0.0000e+00, 0.0000e+00, 0.0000e+00, 0.0000e+00,\n",
      "        9.9591e-02, 1.1852e-01, 0.0000e+00, 0.0000e+00, 0.0000e+00, 6.8632e-02,\n",
      "        0.0000e+00, 1.3962e-01, 0.0000e+00, 2.5687e-02, 0.0000e+00, 8.9258e-07,\n",
      "        0.0000e+00, 9.1977e-02, 1.2754e-02, 0.0000e+00, 0.0000e+00, 0.0000e+00,\n",
      "        0.0000e+00, 0.0000e+00, 4.1332e-03, 0.0000e+00, 1.7283e-01, 7.6155e-02,\n",
      "        0.0000e+00, 2.2518e-02, 2.2703e-03, 0.0000e+00, 1.0671e-01, 0.0000e+00,\n",
      "        8.1467e-03, 0.0000e+00, 0.0000e+00, 1.2183e-03, 0.0000e+00, 0.0000e+00,\n",
      "        1.2156e-01, 1.6813e-01, 0.0000e+00, 6.2365e-03, 1.6291e-02, 0.0000e+00,\n",
      "        0.0000e+00, 0.0000e+00, 6.5511e-07, 0.0000e+00, 9.2303e-02, 0.0000e+00,\n",
      "        1.2349e-02, 7.0256e-02, 0.0000e+00, 8.5592e-02, 7.7358e-02, 0.0000e+00,\n",
      "        1.3604e-01, 8.4890e-02, 4.2020e-02, 0.0000e+00, 1.1156e-02, 2.4353e-03,\n",
      "        7.7734e-03, 9.7616e-02, 0.0000e+00, 1.4824e-01, 9.1895e-02, 0.0000e+00,\n",
      "        1.2374e-01, 1.3442e-03, 0.0000e+00, 0.0000e+00, 3.1991e-02, 0.0000e+00,\n",
      "        0.0000e+00, 0.0000e+00, 0.0000e+00, 0.0000e+00, 0.0000e+00, 2.6585e-02,\n",
      "        8.0322e-02, 0.0000e+00, 0.0000e+00, 0.0000e+00, 3.2791e-02, 1.1820e-02,\n",
      "        3.4285e-02, 9.4707e-02, 3.0078e-02, 0.0000e+00, 1.1448e-01, 0.0000e+00,\n",
      "        0.0000e+00, 2.5880e-02, 5.2357e-02, 0.0000e+00, 3.7334e-02, 0.0000e+00,\n",
      "        0.0000e+00, 7.2100e-02, 0.0000e+00, 0.0000e+00, 1.8550e-03, 8.6156e-03,\n",
      "        0.0000e+00, 0.0000e+00, 0.0000e+00, 3.9695e-05, 0.0000e+00, 0.0000e+00,\n",
      "        1.2890e-02, 2.7077e-02, 4.5788e-02, 6.7294e-03, 1.2614e-02, 4.2031e-03,\n",
      "        3.7986e-02, 0.0000e+00, 5.4188e-02, 2.5407e-04, 0.0000e+00, 0.0000e+00,\n",
      "        3.4668e-02, 0.0000e+00, 4.8203e-02, 0.0000e+00, 0.0000e+00, 5.2561e-03,\n",
      "        0.0000e+00, 1.3350e-01, 1.5736e-03, 1.6541e-01, 0.0000e+00, 0.0000e+00,\n",
      "        3.6969e-03, 2.4631e-06, 2.4792e-03, 9.8600e-03, 3.5918e-03, 0.0000e+00,\n",
      "        0.0000e+00, 0.0000e+00, 1.5025e-02, 6.9695e-03, 0.0000e+00, 4.7539e-02,\n",
      "        3.0299e-02, 0.0000e+00, 0.0000e+00, 0.0000e+00, 1.2862e-02, 7.5118e-05,\n",
      "        1.5249e-02, 1.6018e-02, 0.0000e+00, 1.8116e-02, 5.6079e-02, 1.5002e-01,\n",
      "        9.7943e-02, 8.1688e-02, 1.0551e-01, 5.2899e-02, 4.5797e-04, 4.5199e-02,\n",
      "        1.0815e-02, 8.1614e-02, 1.1697e-01, 7.0196e-04, 9.6798e-02, 0.0000e+00,\n",
      "        0.0000e+00, 2.5076e-02, 8.0724e-02, 0.0000e+00, 3.5899e-02, 2.0244e-01,\n",
      "        3.7511e-02, 0.0000e+00, 0.0000e+00, 0.0000e+00, 4.9249e-02, 0.0000e+00,\n",
      "        1.9446e-02, 0.0000e+00, 0.0000e+00, 9.9156e-03, 1.2995e-02, 1.1930e-02,\n",
      "        0.0000e+00, 0.0000e+00, 2.3008e-02, 0.0000e+00, 0.0000e+00, 0.0000e+00,\n",
      "        0.0000e+00, 1.3065e-01, 0.0000e+00, 1.0467e-01, 0.0000e+00, 1.1945e-01,\n",
      "        0.0000e+00, 9.9346e-03, 8.9249e-02, 0.0000e+00, 0.0000e+00, 0.0000e+00,\n",
      "        0.0000e+00, 0.0000e+00, 7.4711e-03, 0.0000e+00, 3.2124e-03, 2.5209e-02,\n",
      "        8.4146e-05, 1.1359e-01, 4.0105e-02, 9.7458e-02, 0.0000e+00, 2.3604e-02,\n",
      "        1.6183e-02, 0.0000e+00, 1.4838e-02, 4.8514e-02, 1.9333e-01, 0.0000e+00,\n",
      "        1.4624e-01, 4.9383e-02, 0.0000e+00, 2.6580e-01, 7.3228e-02, 6.1243e-02,\n",
      "        8.2639e-02, 0.0000e+00, 0.0000e+00, 0.0000e+00, 2.0094e-02, 4.1818e-02,\n",
      "        3.0370e-02, 4.2585e-02, 1.5500e-01, 9.1453e-02, 8.8648e-02, 1.4899e-02,\n",
      "        0.0000e+00, 0.0000e+00, 0.0000e+00, 2.5870e-02, 1.5369e-01, 1.5389e-02,\n",
      "        7.3836e-02, 2.2867e-02, 6.5430e-02, 1.9712e-02, 1.2138e-06, 2.2479e-02,\n",
      "        1.0604e-01, 2.3282e-01, 5.8069e-03, 9.0170e-02, 0.0000e+00, 0.0000e+00,\n",
      "        8.7091e-02, 0.0000e+00, 0.0000e+00, 0.0000e+00, 4.1270e-03, 1.5551e-06,\n",
      "        0.0000e+00, 0.0000e+00, 1.9543e-02, 1.3618e-02, 1.0061e-01, 2.6240e-02,\n",
      "        2.7756e-02, 0.0000e+00, 3.3814e-02, 1.0958e-02, 1.1129e-01, 5.8539e-02,\n",
      "        0.0000e+00, 1.1915e-01, 1.6084e-01, 2.2186e-03, 8.5668e-02, 3.0582e-03,\n",
      "        8.4056e-02, 7.9191e-02, 0.0000e+00, 1.3063e-02, 2.9338e-01, 1.7840e-01,\n",
      "        4.8663e-02, 7.4364e-08, 1.4233e-01, 4.0343e-06, 1.0604e-01, 4.5289e-01,\n",
      "        1.2427e-01, 4.2120e-02, 8.5589e-02, 1.0556e-01, 9.4458e-07, 9.3986e-06,\n",
      "        0.0000e+00, 0.0000e+00, 6.8584e-02, 4.5124e-02, 1.7122e-01, 0.0000e+00,\n",
      "        0.0000e+00, 2.0722e-01, 6.4371e-02, 0.0000e+00, 0.0000e+00, 0.0000e+00,\n",
      "        0.0000e+00, 0.0000e+00, 0.0000e+00, 0.0000e+00, 5.1440e-02, 8.4629e-02,\n",
      "        8.5896e-02, 6.9048e-02, 1.2138e-01, 1.5410e-01, 3.3693e-02, 7.6117e-02,\n",
      "        4.2093e-02, 1.5674e-01, 1.6942e-01, 7.5797e-02, 0.0000e+00, 6.6331e-02,\n",
      "        0.0000e+00, 1.4860e-01, 4.3160e-02, 5.8806e-02, 6.8972e-02, 9.7550e-02,\n",
      "        0.0000e+00, 1.1594e-01, 1.2612e-01, 4.9426e-02, 2.0165e-02, 9.6004e-02,\n",
      "        1.4190e-01, 9.2040e-02, 7.1066e-02, 8.3396e-02, 3.9554e-01, 3.1440e-04,\n",
      "        1.8065e-02, 0.0000e+00, 1.1782e-01, 9.8099e-06, 0.0000e+00, 2.4577e-02,\n",
      "        3.2114e-02, 3.8747e-02, 1.2884e-02, 1.9152e-01, 1.0298e-04, 0.0000e+00,\n",
      "        1.5190e-03, 8.6543e-02, 7.6021e-02, 7.8109e-05, 6.1950e-02, 5.8645e-02,\n",
      "        6.2855e-02, 4.3015e-02, 1.9624e-01, 1.6534e-01, 3.7705e-02, 0.0000e+00,\n",
      "        0.0000e+00, 1.2070e-01, 1.0531e-03, 4.6167e-02, 2.4854e-02, 1.2009e-01,\n",
      "        5.3052e-02, 6.4473e-02, 3.7576e-02, 8.8338e-02, 1.5518e-01, 9.6821e-02,\n",
      "        1.1617e-01, 6.8665e-02, 1.9700e-02, 7.4703e-02, 6.9223e-02, 3.7693e-02,\n",
      "        1.4315e-01, 6.5606e-02, 1.0732e-01, 5.2322e-02, 1.7390e-01, 1.6240e-01,\n",
      "        1.7503e-01, 1.2976e-01, 9.2968e-02, 3.5867e-02, 1.1016e-01, 1.4133e-01,\n",
      "        1.6650e-01, 4.8336e-02, 1.1597e-01, 3.3621e-02, 9.8789e-02, 1.0524e-01,\n",
      "        8.0328e-02, 8.3805e-02, 2.1964e-02, 4.5601e-02, 1.4563e-01, 8.3143e-02,\n",
      "        5.3774e-02, 7.2742e-02, 1.0357e-01, 1.3159e-02, 1.2523e-01, 6.9874e-02,\n",
      "        1.9436e-02, 7.6903e-02, 1.3974e-01, 1.1688e-01, 3.4047e-02, 8.1538e-02,\n",
      "        2.7298e-01, 4.5885e-02, 1.3661e-01, 8.7406e-02, 1.9718e-01, 1.2223e-01,\n",
      "        1.2445e-01, 6.4848e-02, 1.4691e-01, 9.3165e-02, 1.3478e-01, 6.7379e-02,\n",
      "        8.7768e-02, 6.0449e-02, 6.8543e-02, 5.0235e-02, 2.3445e-01, 1.7018e-01,\n",
      "        2.5935e-02, 7.6993e-02, 9.6324e-03, 4.9711e-02, 6.4264e-02, 8.7330e-02,\n",
      "        9.0509e-02, 9.9880e-02, 2.9766e-02, 5.7109e-02, 1.1508e-01, 3.7050e-01,\n",
      "        2.6014e-01, 1.6978e-02, 7.2966e-02, 1.7916e-01, 8.6114e-02, 1.8808e-01,\n",
      "        7.6937e-02, 1.9935e-01, 7.8544e-02, 2.7100e-01, 1.3784e-01, 1.9852e-01,\n",
      "        3.1251e-02, 4.4116e-02, 4.4728e-02, 7.3875e-02, 2.2211e-01, 5.8317e-02,\n",
      "        1.6430e-01, 1.0977e-01, 1.3146e-01, 4.4637e-02, 1.2776e-01, 2.2552e-01,\n",
      "        5.5661e-02, 1.0070e-01, 2.4578e-01, 4.7854e-01, 1.7450e-01, 3.1839e-01,\n",
      "        2.0178e-01, 5.8656e-02, 2.6355e-01, 8.9477e-02, 9.5839e-02, 1.3581e-01,\n",
      "        1.3254e-01, 5.4129e-02, 5.8573e-01, 4.6730e-02, 4.7655e-02, 4.3670e-01,\n",
      "        8.7701e-02, 1.9299e-01, 1.3689e-01, 6.5574e-01, 2.1936e-01, 1.5874e-01]) tensor(0.6557) tensor(55.6256)\n",
      "Chosen edges: tensor([[   3,    3,   11,   13,    1,    5,   14,    3,    8,    5,   10,    4,\n",
      "            0,    3,    3,   11,    5,    6,   14,    4,   10,    4,    8,    8,\n",
      "            7,    8,    8,   10,   10,   10],\n",
      "        [  18,   41,   20,    6,   67,  121,  185,  605,  675,  718,  755,  768,\n",
      "          801,  869, 1078, 1106, 1119, 1120, 1129, 1136, 1143, 1146, 1147, 1149,\n",
      "         1150, 1152, 1158, 1161, 1165, 1166]]) 30\n"
     ]
    },
    {
     "name": "stderr",
     "output_type": "stream",
     "text": [
      "100%|██████████| 51/51 [00:04<00:00, 10.84it/s]\n"
     ]
    },
    {
     "name": "stdout",
     "output_type": "stream",
     "text": [
      "Fine-Tune Epoch 1/3 | Train Loss: 2.0011 | Val Loss: 1.8942\n"
     ]
    },
    {
     "name": "stderr",
     "output_type": "stream",
     "text": [
      "100%|██████████| 51/51 [00:03<00:00, 13.69it/s]\n"
     ]
    },
    {
     "name": "stdout",
     "output_type": "stream",
     "text": [
      "Fine-Tune Epoch 2/3 | Train Loss: 1.9788 | Val Loss: 1.8863\n"
     ]
    },
    {
     "name": "stderr",
     "output_type": "stream",
     "text": [
      "100%|██████████| 51/51 [00:03<00:00, 14.44it/s]\n"
     ]
    },
    {
     "name": "stdout",
     "output_type": "stream",
     "text": [
      "Fine-Tune Epoch 3/3 | Train Loss: 1.9697 | Val Loss: 1.8824\n"
     ]
    },
    {
     "name": "stderr",
     "output_type": "stream",
     "text": [
      "100%|██████████| 51/51 [00:04<00:00, 11.46it/s]\n"
     ]
    },
    {
     "name": "stdout",
     "output_type": "stream",
     "text": [
      "Epoch 58/100 | Train Loss: 1.9634 | Val Loss: 24.3789 | Val Accuracy: 0.3636\n",
      "Edge metrics: tensor([0.0000e+00, 6.7515e-02, 3.5069e-04, 5.2461e-02, 2.1645e-04, 2.9650e-03,\n",
      "        3.6084e-02, 9.2206e-02, 0.0000e+00, 4.6324e-03, 1.1501e-02, 1.6322e-02,\n",
      "        1.2490e-02, 4.0819e-02, 0.0000e+00, 2.8069e-02, 1.0098e-02, 3.3531e-02,\n",
      "        1.7384e-02, 5.7820e-03, 8.3614e-03, 3.2335e-02, 1.7459e-08, 2.9143e-03,\n",
      "        2.2805e-02, 6.1849e-03, 2.5155e-02, 1.1820e-02, 6.6542e-03, 9.2504e-03,\n",
      "        1.1731e-02, 5.0723e-02, 2.5962e-02, 2.0637e-09, 7.7239e-03, 8.4958e-06,\n",
      "        5.2874e-02, 2.9009e-02, 1.2723e-02, 1.1017e-02, 2.8051e-02, 5.9979e-02,\n",
      "        7.3605e-03, 1.3834e-02, 7.6042e-03, 2.2594e-05, 1.0479e-02, 1.2525e-02,\n",
      "        0.0000e+00, 3.7894e-02, 3.2993e-02, 1.0003e-02, 2.0831e-02, 1.4772e-02,\n",
      "        2.4290e-02, 3.9752e-04, 3.5373e-02, 9.4282e-03, 1.1642e-02, 1.9703e-02,\n",
      "        6.4184e-03, 1.8042e-02, 1.1519e-02, 7.8536e-03, 2.1271e-02, 2.3795e-02,\n",
      "        1.4574e-02, 1.2440e-02, 1.8249e-02, 3.9273e-02, 2.5207e-02, 2.0388e-03,\n",
      "        0.0000e+00, 7.6290e-03, 2.0032e-05, 1.9181e-01, 6.3139e-03, 3.0717e-01,\n",
      "        3.7700e-02, 2.5969e-01, 1.1142e-01, 5.5704e-02, 1.4136e-02, 3.4722e-02,\n",
      "        1.0766e-01, 1.2942e-01, 8.2411e-02, 1.9761e-01, 9.6286e-04, 1.9019e-03,\n",
      "        1.1580e-07, 3.4705e-02, 1.6136e-01, 1.3848e-01, 1.1378e-01, 8.2298e-02,\n",
      "        7.2936e-02, 1.9068e-01, 1.0725e-01, 4.3435e-08, 1.6987e-01, 1.5446e-01,\n",
      "        3.8908e-02, 1.6568e-01, 1.2911e-03, 1.1010e-01, 1.6131e-01, 5.4249e-02,\n",
      "        1.2178e-01, 6.0779e-02, 1.6927e-01, 2.2489e-02, 1.5039e-02, 7.9308e-02,\n",
      "        4.2292e-02, 9.4920e-03, 9.8316e-02, 1.0061e-01, 2.2278e-01, 3.8853e-02,\n",
      "        0.0000e+00, 1.1923e-02, 0.0000e+00, 9.5835e-02, 6.5426e-03, 4.5633e-06,\n",
      "        4.4357e-02, 1.4587e-01, 1.2427e-01, 8.7777e-02, 1.0795e-07, 5.2561e-04,\n",
      "        8.9576e-02, 5.1387e-02, 1.1244e-01, 8.0474e-04, 1.2093e-01, 1.0664e-01,\n",
      "        1.4860e-01, 7.2687e-02, 1.9359e-01, 1.7052e-01, 4.6829e-02, 8.9778e-02,\n",
      "        3.2046e-02, 7.1813e-02, 1.1329e-01, 1.8811e-01, 9.9362e-02, 0.0000e+00,\n",
      "        5.0730e-02, 2.1673e-03, 4.1704e-02, 1.2873e-01, 1.7110e-01, 2.0294e-01,\n",
      "        1.8789e-07, 1.0125e-01, 1.1195e-01, 6.6026e-03, 2.0774e-02, 9.0280e-02,\n",
      "        1.4703e-01, 2.8775e-02, 1.1977e-01, 4.4395e-02, 1.1053e-01, 4.9348e-02,\n",
      "        1.0798e-02, 1.4969e-01, 0.0000e+00, 2.1620e-02, 0.0000e+00, 1.7078e-02,\n",
      "        1.7772e-03, 1.8207e-01, 2.2414e-01, 9.1080e-03, 8.7500e-02, 3.9940e-02,\n",
      "        6.8243e-02, 1.5513e-02, 4.2773e-02, 3.7613e-02, 0.0000e+00, 3.4770e-02,\n",
      "        7.5233e-02, 4.9015e-02, 3.9622e-04, 7.2806e-04, 1.1579e-01, 1.2007e-07,\n",
      "        3.9374e-03, 4.7994e-04, 3.9591e-02, 2.1992e-02, 1.0607e-01, 6.8945e-02,\n",
      "        4.1477e-02, 1.0144e-01, 4.1711e-02, 2.7135e-09, 6.6166e-02, 1.0402e-05,\n",
      "        1.3353e-01, 8.3587e-02, 4.1390e-02, 3.0086e-02, 1.9462e-02, 6.6694e-02,\n",
      "        1.2996e-02, 6.6364e-05, 3.2816e-03, 9.5569e-02, 0.0000e+00, 8.0547e-02,\n",
      "        1.4618e-02, 3.8400e-02, 3.3699e-02, 9.2816e-02, 3.9290e-03, 4.8546e-02,\n",
      "        7.8054e-02, 1.2765e-01, 6.8644e-03, 4.6058e-02, 1.0818e-02, 1.8070e-03,\n",
      "        3.0250e-02, 6.0649e-02, 3.8993e-02, 4.0979e-02, 4.0867e-02, 5.9020e-02,\n",
      "        4.6561e-02, 0.0000e+00, 4.2093e-03, 1.3621e-02, 8.8338e-02, 1.0532e-01,\n",
      "        0.0000e+00, 1.4455e-01, 2.1702e-01, 1.2045e-01, 3.6746e-06, 1.0825e-01,\n",
      "        9.4974e-02, 8.2012e-02, 6.0997e-02, 1.1782e-03, 1.7934e-01, 1.5432e-01,\n",
      "        1.5355e-01, 5.8729e-02, 9.7426e-02, 2.1366e-03, 2.6229e-02, 6.6329e-02,\n",
      "        2.1542e-01, 2.1642e-01, 2.0457e-01, 1.5852e-01, 2.3637e-01, 6.8005e-03,\n",
      "        5.5875e-02, 7.3491e-02, 9.9741e-02, 1.2888e-01, 1.8436e-01, 1.8925e-01,\n",
      "        1.4772e-01, 1.3287e-01, 1.4365e-01, 2.9895e-02, 3.7286e-02, 0.0000e+00,\n",
      "        5.0769e-06, 1.3146e-02, 1.8627e-02, 2.6844e-02, 1.2545e-01, 5.6046e-02,\n",
      "        1.0923e-01, 0.0000e+00, 1.5225e-01, 8.4196e-06, 5.2183e-02, 2.3201e-03,\n",
      "        2.2264e-01, 6.1893e-02, 8.3445e-02, 1.7510e-03, 3.9480e-02, 1.6102e-01,\n",
      "        5.2632e-03, 8.2262e-02, 7.1999e-02, 6.0116e-02, 4.5816e-02, 1.3058e-01,\n",
      "        1.1974e-01, 1.3133e-01, 2.4183e-01, 5.2578e-02, 6.4763e-02, 6.2399e-02,\n",
      "        0.0000e+00, 1.2411e-01, 5.0424e-03, 6.5762e-03, 3.3351e-06, 4.9034e-02,\n",
      "        1.6995e-01, 1.6874e-01, 6.7387e-02, 1.5729e-01, 2.2566e-07, 4.5411e-04,\n",
      "        1.3407e-01, 1.3410e-01, 7.9771e-02, 1.0294e-01, 6.3466e-03, 1.7997e-01,\n",
      "        1.1387e-01, 2.0988e-01, 9.5285e-02, 5.3696e-02, 1.0177e-01, 2.0568e-02,\n",
      "        1.6800e-01, 1.5039e-01, 3.4648e-02, 2.9041e-02, 2.3712e-03, 0.0000e+00,\n",
      "        0.0000e+00, 0.0000e+00, 1.5851e-01, 1.3991e-01, 0.0000e+00, 8.6388e-02,\n",
      "        0.0000e+00, 3.7376e-02, 0.0000e+00, 8.4378e-02, 1.4693e-01, 0.0000e+00,\n",
      "        1.4895e-01, 4.9449e-02, 2.7868e-01, 1.7153e-02, 0.0000e+00, 7.6159e-02,\n",
      "        1.5593e-01, 0.0000e+00, 8.7183e-02, 2.4346e-02, 3.3211e-02, 0.0000e+00,\n",
      "        0.0000e+00, 1.6910e-01, 1.1937e-01, 0.0000e+00, 0.0000e+00, 0.0000e+00,\n",
      "        0.0000e+00, 0.0000e+00, 0.0000e+00, 5.7004e-02, 1.3786e-01, 1.2734e-01,\n",
      "        3.5634e-02, 0.0000e+00, 2.5510e-02, 8.2255e-02, 5.7342e-02, 4.4160e-02,\n",
      "        7.0295e-02, 1.0439e-01, 0.0000e+00, 0.0000e+00, 8.5722e-02, 4.4586e-03,\n",
      "        1.0521e-01, 0.0000e+00, 1.2703e-01, 8.8558e-02, 0.0000e+00, 0.0000e+00,\n",
      "        2.5870e-01, 1.7370e-02, 1.0911e-01, 1.5010e-02, 0.0000e+00, 1.3296e-03,\n",
      "        0.0000e+00, 1.7510e-02, 1.6261e-02, 0.0000e+00, 6.5214e-05, 0.0000e+00,\n",
      "        0.0000e+00, 3.4313e-03, 0.0000e+00, 2.8645e-02, 2.2040e-04, 7.1828e-02,\n",
      "        2.6350e-02, 2.9973e-02, 0.0000e+00, 5.7582e-02, 2.0305e-01, 2.0843e-01,\n",
      "        8.5001e-04, 8.6590e-02, 0.0000e+00, 1.4505e-01, 1.4154e-01, 1.7678e-01,\n",
      "        3.6777e-02, 0.0000e+00, 4.7770e-02, 1.7548e-01, 1.9967e-02, 1.1130e-01,\n",
      "        4.2707e-02, 2.3081e-02, 4.8392e-02, 1.9460e-03, 9.6804e-03, 0.0000e+00,\n",
      "        0.0000e+00, 8.0398e-02, 0.0000e+00, 4.0093e-02, 2.2371e-02, 1.7828e-02,\n",
      "        5.4968e-02, 0.0000e+00, 1.5913e-01, 5.6359e-03, 0.0000e+00, 2.7899e-03,\n",
      "        3.0482e-02, 0.0000e+00, 0.0000e+00, 0.0000e+00, 0.0000e+00, 8.2594e-02,\n",
      "        7.2385e-02, 0.0000e+00, 0.0000e+00, 0.0000e+00, 3.3298e-02, 0.0000e+00,\n",
      "        9.3857e-02, 0.0000e+00, 1.4091e-02, 0.0000e+00, 4.1924e-07, 0.0000e+00,\n",
      "        9.0185e-02, 1.3005e-02, 0.0000e+00, 0.0000e+00, 0.0000e+00, 0.0000e+00,\n",
      "        0.0000e+00, 3.7269e-03, 0.0000e+00, 2.3278e-01, 1.4191e-01, 0.0000e+00,\n",
      "        2.3948e-02, 6.4884e-04, 0.0000e+00, 2.3359e-01, 0.0000e+00, 5.3362e-03,\n",
      "        0.0000e+00, 0.0000e+00, 7.0061e-04, 0.0000e+00, 0.0000e+00, 1.6342e-01,\n",
      "        2.1723e-01, 0.0000e+00, 5.8033e-03, 1.3297e-02, 0.0000e+00, 0.0000e+00,\n",
      "        0.0000e+00, 5.2334e-07, 0.0000e+00, 1.0257e-01, 0.0000e+00, 1.0707e-02,\n",
      "        4.1625e-02, 0.0000e+00, 8.0290e-02, 9.2679e-02, 0.0000e+00, 1.3690e-01,\n",
      "        8.3759e-02, 6.3527e-02, 0.0000e+00, 1.0284e-02, 2.4904e-03, 4.9971e-03,\n",
      "        9.5316e-02, 0.0000e+00, 1.4679e-01, 7.4758e-02, 0.0000e+00, 1.0035e-01,\n",
      "        7.0775e-04, 0.0000e+00, 0.0000e+00, 2.2825e-02, 0.0000e+00, 0.0000e+00,\n",
      "        0.0000e+00, 0.0000e+00, 0.0000e+00, 0.0000e+00, 2.3880e-02, 9.9810e-02,\n",
      "        0.0000e+00, 0.0000e+00, 0.0000e+00, 2.1883e-02, 8.9620e-03, 3.2731e-02,\n",
      "        7.1418e-02, 2.7589e-02, 0.0000e+00, 9.6301e-02, 0.0000e+00, 0.0000e+00,\n",
      "        1.3230e-02, 5.5074e-02, 0.0000e+00, 4.3381e-02, 0.0000e+00, 0.0000e+00,\n",
      "        6.1743e-02, 0.0000e+00, 0.0000e+00, 9.7892e-04, 7.0219e-03, 0.0000e+00,\n",
      "        0.0000e+00, 0.0000e+00, 1.7896e-05, 0.0000e+00, 0.0000e+00, 1.3494e-02,\n",
      "        2.8490e-02, 5.2129e-02, 8.7990e-03, 1.4549e-02, 4.7211e-03, 4.4509e-02,\n",
      "        0.0000e+00, 6.2534e-02, 3.9357e-04, 0.0000e+00, 0.0000e+00, 4.3907e-02,\n",
      "        0.0000e+00, 5.5590e-02, 0.0000e+00, 0.0000e+00, 4.6752e-03, 0.0000e+00,\n",
      "        1.2201e-01, 1.0367e-03, 1.1669e-01, 0.0000e+00, 0.0000e+00, 2.5690e-03,\n",
      "        9.3254e-07, 3.2236e-03, 7.1986e-03, 3.8229e-03, 0.0000e+00, 0.0000e+00,\n",
      "        0.0000e+00, 8.5199e-03, 6.9517e-03, 0.0000e+00, 4.6548e-02, 2.6894e-02,\n",
      "        0.0000e+00, 0.0000e+00, 0.0000e+00, 1.6103e-02, 0.0000e+00, 1.1598e-02,\n",
      "        1.6079e-02, 0.0000e+00, 2.0998e-02, 5.7860e-02, 2.0854e-01, 1.2802e-01,\n",
      "        7.8651e-02, 1.0705e-01, 4.7994e-02, 7.3670e-04, 4.3083e-02, 1.0733e-02,\n",
      "        1.0405e-01, 1.7392e-01, 1.1107e-03, 9.2960e-02, 0.0000e+00, 0.0000e+00,\n",
      "        2.4502e-02, 7.5647e-02, 0.0000e+00, 3.5918e-02, 3.1468e-02, 0.0000e+00,\n",
      "        0.0000e+00, 0.0000e+00, 5.6071e-02, 0.0000e+00, 1.9557e-02, 0.0000e+00,\n",
      "        0.0000e+00, 6.5493e-03, 1.1504e-02, 1.4517e-02, 0.0000e+00, 0.0000e+00,\n",
      "        2.1842e-02, 0.0000e+00, 0.0000e+00, 0.0000e+00, 0.0000e+00, 1.4574e-01,\n",
      "        0.0000e+00, 1.1181e-01, 0.0000e+00, 1.4038e-01, 0.0000e+00, 1.2598e-02,\n",
      "        1.1447e-01, 0.0000e+00, 0.0000e+00, 0.0000e+00, 0.0000e+00, 0.0000e+00,\n",
      "        0.0000e+00, 0.0000e+00, 2.0821e-03, 3.1972e-02, 0.0000e+00, 1.2567e-01,\n",
      "        4.9073e-02, 1.0087e-01, 0.0000e+00, 3.1608e-02, 0.0000e+00, 0.0000e+00,\n",
      "        1.4058e-02, 2.4259e-02, 2.0389e-01, 0.0000e+00, 1.8848e-01, 5.6828e-02,\n",
      "        0.0000e+00, 7.5852e-02, 5.6958e-02, 1.1552e-01, 0.0000e+00, 0.0000e+00,\n",
      "        0.0000e+00, 2.4109e-02, 4.6422e-02, 3.1896e-02, 4.4447e-02, 2.1310e-01,\n",
      "        8.4083e-02, 1.0041e-01, 1.6702e-02, 0.0000e+00, 0.0000e+00, 0.0000e+00,\n",
      "        2.6839e-02, 1.5981e-01, 1.6084e-02, 9.5925e-02, 2.0895e-02, 1.0744e-01,\n",
      "        1.2055e-02, 8.0311e-07, 2.0401e-02, 1.2127e-01, 3.8924e-03, 9.1458e-02,\n",
      "        0.0000e+00, 0.0000e+00, 9.6092e-02, 0.0000e+00, 0.0000e+00, 0.0000e+00,\n",
      "        3.6278e-03, 6.2600e-07, 0.0000e+00, 0.0000e+00, 0.0000e+00, 1.2670e-02,\n",
      "        1.1148e-01, 2.7732e-02, 0.0000e+00, 0.0000e+00, 3.4609e-02, 9.0654e-03,\n",
      "        8.9476e-02, 5.0804e-02, 0.0000e+00, 1.1816e-01, 1.8118e-01, 1.7646e-03,\n",
      "        1.3801e-01, 0.0000e+00, 1.1392e-01, 1.0090e-01, 0.0000e+00, 1.2253e-02,\n",
      "        1.7006e-01, 6.8439e-02, 3.6701e-08, 1.9186e-01, 1.5295e-06, 1.4406e-01,\n",
      "        1.5242e-01, 1.1166e-01, 5.1629e-02, 1.3361e-01, 4.4772e-07, 3.9701e-06,\n",
      "        0.0000e+00, 0.0000e+00, 9.9536e-02, 4.0474e-02, 1.8310e-01, 0.0000e+00,\n",
      "        0.0000e+00, 7.7660e-02, 0.0000e+00, 0.0000e+00, 0.0000e+00, 0.0000e+00,\n",
      "        0.0000e+00, 0.0000e+00, 0.0000e+00, 2.1303e-02, 8.7582e-02, 9.0223e-02,\n",
      "        7.6402e-02, 1.3896e-01, 1.6584e-01, 5.0601e-02, 9.8788e-02, 4.0350e-02,\n",
      "        1.5259e-01, 2.0340e-01, 8.1670e-02, 0.0000e+00, 7.6314e-02, 0.0000e+00,\n",
      "        1.4471e-01, 5.2831e-02, 6.0459e-02, 7.8632e-02, 9.5740e-02, 0.0000e+00,\n",
      "        1.6756e-01, 1.4422e-01, 7.9570e-02, 2.2996e-02, 1.0882e-01, 1.5619e-01,\n",
      "        8.3526e-02, 1.2928e-01, 1.2775e-01, 3.2275e-04, 1.5555e-02, 0.0000e+00,\n",
      "        1.4638e-01, 9.0958e-07, 0.0000e+00, 3.0877e-02, 2.3806e-02, 3.8799e-02,\n",
      "        1.3509e-02, 3.6126e-01, 5.6039e-05, 0.0000e+00, 0.0000e+00, 1.0800e-01,\n",
      "        8.0930e-02, 6.4246e-05, 7.2953e-02, 7.3195e-02, 1.4831e-01, 4.7269e-02,\n",
      "        1.8075e-01, 1.3204e-01, 6.1418e-02, 0.0000e+00, 0.0000e+00, 1.3619e-01,\n",
      "        0.0000e+00, 5.0241e-02, 2.3793e-02, 1.1337e-01, 4.6095e-02, 9.7644e-02,\n",
      "        4.4183e-02, 1.2772e-01, 1.8255e-01, 1.5760e-01, 1.3173e-01, 9.2010e-02,\n",
      "        1.8170e-02, 7.7451e-02, 9.8123e-02, 3.0868e-02, 1.6042e-01, 6.5140e-02,\n",
      "        1.2497e-01, 5.6772e-02, 2.1159e-01, 2.5621e-01, 2.1772e-01, 1.5877e-01,\n",
      "        1.3113e-01, 3.0364e-02, 2.8449e-01, 1.9999e-01, 3.0006e-01, 5.0411e-02,\n",
      "        1.1730e-01, 4.7029e-02, 1.1984e-01, 9.3296e-02, 1.2367e-01, 8.8684e-02,\n",
      "        2.5373e-02, 2.9177e-02, 3.1916e-01, 1.4214e-01, 4.9038e-02, 8.5934e-02,\n",
      "        1.5702e-01, 2.5290e-02, 1.3993e-01, 6.1118e-02, 2.1171e-02, 7.5556e-02,\n",
      "        2.8402e-01, 1.8123e-01, 4.3000e-02, 1.0891e-01, 7.8819e-02, 1.5409e-01,\n",
      "        9.5934e-02, 1.9368e-01, 2.5443e-01, 3.5878e-01, 1.1102e-01, 1.8243e-01,\n",
      "        1.3010e-01, 3.0625e-01, 7.7038e-02, 9.1516e-02, 6.0585e-02, 6.4163e-02,\n",
      "        4.9489e-02, 2.0848e-01, 2.0911e-02, 7.9585e-02, 1.0003e-02, 4.6544e-02,\n",
      "        5.5488e-02, 1.3172e-01, 1.3173e-01, 1.2733e-01, 6.0774e-02, 1.1805e-01,\n",
      "        1.2790e-01, 1.5766e-02, 6.8141e-02, 2.6443e-01, 1.0868e-01, 2.1157e-01,\n",
      "        9.1565e-02, 2.2284e-01, 1.0453e-01, 1.7834e-01, 3.3887e-01, 7.3960e-02,\n",
      "        9.9043e-02, 6.7440e-02, 7.6017e-02, 7.6608e-02, 1.8059e-01, 1.0389e-01,\n",
      "        1.2929e-01, 5.2675e-02, 1.5832e-01, 4.8874e-02, 1.2065e-01, 3.1916e-01,\n",
      "        6.5696e-02, 1.0847e-01, 1.1744e-01, 1.8419e-01, 1.7446e-01, 1.2828e-01,\n",
      "        9.7872e-02, 4.9563e-02, 1.2923e-01, 3.8819e-01, 2.8987e-01, 4.1855e-01,\n",
      "        1.6174e-01, 7.6125e-02, 8.6386e-02, 1.8873e-01, 2.7802e-02, 3.8734e-01,\n",
      "        1.5741e-01, 6.6672e-02, 1.2341e-01, 3.7080e-02, 4.5212e-01, 2.4577e-01,\n",
      "        6.6361e-02, 1.4363e-01, 1.7554e-01, 1.3993e-01, 3.2764e-01, 7.6907e-02,\n",
      "        1.1345e-01, 1.0694e-01, 4.2746e-02, 7.5877e-02, 4.1972e-01, 9.1684e-02,\n",
      "        2.8063e-01, 2.4510e-01, 7.8043e-01, 3.7023e-01, 2.6437e-01, 7.7631e-02]) tensor(0.7804) tensor(61.6549)\n",
      "Chosen edges: tensor([[   3,    3,    5,    7,    8,   11,   11,   11,   11,   11,   13,   13,\n",
      "           14,    4,    1,    6,    6,    4,    5,    7,    4,   14,    3,    1,\n",
      "           10,    9,    4,    1,   10,   10,   10,    5,    4,   10,    5,   12,\n",
      "            4,   12,   12,    8,   10,   10,   10,   10,    5,   10,    4,    5,\n",
      "            8,    7,    8,    8,   10,   10],\n",
      "        [  51,   54,   60,   22,   34,    7,   39,   40,   42,   44,   29,   59,\n",
      "           44,  109,  202,  243,  245,  348,  357,  370,  551,  665,  698,  822,\n",
      "          885, 1022, 1023, 1025, 1039, 1042, 1060, 1072, 1085, 1087, 1100, 1107,\n",
      "         1123, 1125, 1127, 1131, 1148, 1163, 1164, 1167, 1173, 1178, 1179, 1184,\n",
      "         1190, 1192, 1193, 1194, 1195, 1196]]) 54\n"
     ]
    },
    {
     "name": "stderr",
     "output_type": "stream",
     "text": [
      "100%|██████████| 51/51 [00:04<00:00, 10.73it/s]\n"
     ]
    },
    {
     "name": "stdout",
     "output_type": "stream",
     "text": [
      "Fine-Tune Epoch 1/3 | Train Loss: 2.0470 | Val Loss: 1.9300\n"
     ]
    },
    {
     "name": "stderr",
     "output_type": "stream",
     "text": [
      "100%|██████████| 51/51 [00:04<00:00, 12.67it/s]\n"
     ]
    },
    {
     "name": "stdout",
     "output_type": "stream",
     "text": [
      "Fine-Tune Epoch 2/3 | Train Loss: 1.9982 | Val Loss: 1.9091\n"
     ]
    },
    {
     "name": "stderr",
     "output_type": "stream",
     "text": [
      "100%|██████████| 51/51 [00:04<00:00, 11.98it/s]\n"
     ]
    },
    {
     "name": "stdout",
     "output_type": "stream",
     "text": [
      "Fine-Tune Epoch 3/3 | Train Loss: 1.9847 | Val Loss: 1.8992\n"
     ]
    },
    {
     "name": "stderr",
     "output_type": "stream",
     "text": [
      "100%|██████████| 51/51 [00:06<00:00,  8.13it/s]\n"
     ]
    },
    {
     "name": "stdout",
     "output_type": "stream",
     "text": [
      "Epoch 59/100 | Train Loss: 1.9643 | Val Loss: 24.4533 | Val Accuracy: 0.3610\n",
      "Edge metrics: tensor([0.0000e+00, 5.3962e-02, 1.0998e-04, 4.3237e-02, 2.7718e-04, 5.1263e-03,\n",
      "        2.7823e-02, 8.1816e-02, 0.0000e+00, 6.6805e-03, 1.0625e-02, 1.2387e-02,\n",
      "        9.1641e-03, 3.2809e-02, 0.0000e+00, 2.5312e-02, 8.1146e-03, 2.7180e-02,\n",
      "        1.3441e-02, 6.7385e-03, 7.3079e-03, 2.9920e-02, 8.7320e-09, 2.6780e-03,\n",
      "        1.9433e-02, 6.1851e-03, 2.0964e-02, 1.0672e-02, 6.2803e-03, 9.9093e-03,\n",
      "        8.2630e-03, 3.8755e-02, 9.4333e-03, 0.0000e+00, 7.0503e-03, 2.9486e-06,\n",
      "        3.9190e-02, 2.2304e-02, 9.5588e-03, 8.0507e-03, 2.3123e-02, 5.0037e-02,\n",
      "        8.3320e-03, 1.5793e-02, 6.5355e-03, 3.0251e-05, 1.0960e-02, 1.3789e-02,\n",
      "        0.0000e+00, 2.7578e-02, 3.0980e-02, 4.2116e-03, 1.3710e-02, 1.5965e-02,\n",
      "        1.2185e-02, 1.2972e-03, 2.6204e-02, 6.7315e-03, 8.6856e-03, 1.7037e-02,\n",
      "        7.3618e-03, 1.1773e-02, 1.0634e-02, 6.3687e-03, 2.0471e-02, 2.1456e-02,\n",
      "        9.7472e-03, 1.0496e-02, 1.7783e-02, 3.4368e-02, 1.9088e-02, 2.5908e-03,\n",
      "        0.0000e+00, 7.8375e-03, 1.2449e-05, 1.9818e-01, 1.0063e-02, 3.2169e-02,\n",
      "        1.7640e-01, 5.2541e-02, 2.1838e-02, 3.1627e-02, 8.1372e-02, 1.5432e-01,\n",
      "        9.3102e-02, 1.7095e-01, 2.5017e-03, 2.0078e-03, 5.4961e-08, 4.6208e-02,\n",
      "        1.3517e-01, 1.6701e-01, 1.0926e-01, 8.3710e-02, 8.0170e-02, 1.3232e-01,\n",
      "        9.4540e-02, 0.0000e+00, 1.2304e-01, 9.8547e-02, 6.7336e-02, 1.5371e-01,\n",
      "        4.6644e-03, 1.1629e-01, 1.5883e-01, 3.9277e-02, 1.0413e-01, 9.4446e-02,\n",
      "        1.5244e-01, 3.1573e-02, 1.8705e-02, 5.7688e-02, 4.4977e-02, 8.4251e-03,\n",
      "        7.6258e-02, 1.1729e-01, 4.3592e-02, 0.0000e+00, 1.3191e-02, 0.0000e+00,\n",
      "        8.7170e-02, 9.1089e-03, 2.0453e-06, 3.8339e-02, 1.6124e-01, 1.1915e-01,\n",
      "        6.3682e-02, 0.0000e+00, 8.9295e-05, 5.1685e-02, 5.6423e-02, 9.5890e-02,\n",
      "        8.8182e-04, 1.2452e-01, 7.8610e-02, 1.0271e-01, 7.5307e-02, 1.0681e-01,\n",
      "        1.4431e-01, 4.5649e-02, 5.2312e-02, 2.4430e-02, 6.4471e-02, 9.9059e-02,\n",
      "        1.5347e-01, 1.1366e-01, 0.0000e+00, 4.5517e-02, 4.5325e-03, 4.7396e-02,\n",
      "        1.4881e-01, 1.7645e-01, 0.0000e+00, 1.4154e-01, 1.1920e-01, 7.3063e-03,\n",
      "        2.6898e-02, 7.3101e-02, 1.9062e-01, 3.8384e-02, 1.0258e-01, 6.3680e-02,\n",
      "        9.4714e-02, 4.2514e-02, 1.1501e-02, 1.9300e-01, 0.0000e+00, 2.9842e-02,\n",
      "        0.0000e+00, 1.8448e-02, 7.1812e-04, 1.9597e-01, 9.4384e-03, 8.2150e-02,\n",
      "        3.3370e-02, 6.4249e-02, 1.3275e-02, 3.4787e-02, 2.8809e-02, 0.0000e+00,\n",
      "        2.7504e-02, 5.5334e-02, 3.8433e-02, 5.3610e-04, 4.7716e-04, 1.2312e-01,\n",
      "        5.2606e-08, 3.5093e-03, 3.9673e-04, 2.4812e-02, 1.7685e-02, 1.3352e-01,\n",
      "        1.2921e-01, 2.9232e-02, 8.1977e-02, 2.2593e-02, 0.0000e+00, 7.4113e-02,\n",
      "        3.0436e-06, 1.0094e-01, 6.6056e-02, 3.0021e-02, 2.2494e-02, 2.0298e-02,\n",
      "        1.0648e-01, 1.5003e-02, 9.2738e-05, 3.1831e-03, 1.3787e-01, 0.0000e+00,\n",
      "        5.5485e-02, 7.5817e-03, 3.4427e-02, 3.4175e-02, 5.1354e-02, 6.0452e-03,\n",
      "        4.9864e-02, 7.9030e-02, 1.5592e-01, 6.1884e-03, 2.6580e-02, 8.5452e-03,\n",
      "        1.2594e-03, 2.7678e-02, 5.5120e-02, 2.6544e-02, 5.8834e-02, 6.4803e-02,\n",
      "        4.2188e-02, 6.1107e-02, 0.0000e+00, 3.5984e-03, 2.2314e-02, 7.5477e-02,\n",
      "        9.2923e-02, 0.0000e+00, 1.3267e-01, 1.1247e-01, 1.8547e-06, 1.0777e-01,\n",
      "        1.1833e-01, 1.0052e-01, 6.9711e-02, 6.6225e-04, 2.0575e-01, 1.7073e-01,\n",
      "        1.4843e-01, 6.8726e-02, 1.1839e-01, 3.8687e-03, 3.2082e-02, 8.0194e-02,\n",
      "        1.8122e-01, 1.1268e-02, 4.5410e-02, 6.3517e-02, 9.2055e-02, 1.0490e-01,\n",
      "        2.2289e-01, 1.5954e-01, 1.5452e-01, 1.3681e-01, 1.3571e-01, 4.0797e-02,\n",
      "        3.6874e-02, 0.0000e+00, 2.4461e-06, 1.8129e-02, 2.5038e-02, 2.0475e-02,\n",
      "        1.1187e-01, 5.8239e-02, 9.0064e-02, 0.0000e+00, 1.3329e-01, 4.0586e-06,\n",
      "        5.3967e-02, 9.7536e-04, 8.1659e-02, 9.5398e-02, 2.1173e-03, 3.7220e-02,\n",
      "        1.5507e-01, 8.9179e-03, 6.6083e-02, 6.6006e-02, 4.8008e-02, 3.2123e-02,\n",
      "        1.3029e-01, 9.0884e-02, 1.3895e-01, 7.1996e-02, 5.4108e-02, 5.6714e-02,\n",
      "        0.0000e+00, 1.0776e-01, 7.1598e-03, 4.8539e-03, 1.3982e-06, 5.3871e-02,\n",
      "        1.6769e-01, 1.9424e-01, 6.2383e-02, 1.3237e-01, 0.0000e+00, 2.1723e-04,\n",
      "        1.2232e-01, 1.1866e-01, 7.0731e-02, 1.1146e-01, 7.8100e-03, 1.5529e-01,\n",
      "        1.2103e-01, 8.0900e-02, 4.9240e-02, 7.2712e-02, 1.5205e-02, 1.4862e-01,\n",
      "        1.3163e-01, 4.9539e-02, 2.5018e-02, 1.4209e-03, 0.0000e+00, 0.0000e+00,\n",
      "        0.0000e+00, 1.6465e-01, 1.1201e-01, 0.0000e+00, 9.7630e-02, 0.0000e+00,\n",
      "        1.9823e-02, 0.0000e+00, 5.8259e-02, 1.2524e-01, 0.0000e+00, 1.1497e-01,\n",
      "        5.2547e-02, 1.1653e-02, 0.0000e+00, 6.6582e-02, 1.6381e-01, 0.0000e+00,\n",
      "        6.6772e-02, 6.1475e-03, 3.4486e-02, 0.0000e+00, 0.0000e+00, 1.5256e-01,\n",
      "        1.6739e-01, 0.0000e+00, 0.0000e+00, 0.0000e+00, 0.0000e+00, 0.0000e+00,\n",
      "        0.0000e+00, 4.9330e-02, 1.1355e-01, 1.2934e-01, 5.0502e-02, 0.0000e+00,\n",
      "        1.9155e-02, 6.1413e-02, 4.9097e-02, 2.0651e-02, 5.3699e-02, 1.0477e-01,\n",
      "        0.0000e+00, 0.0000e+00, 8.7692e-02, 4.7503e-03, 1.0919e-01, 0.0000e+00,\n",
      "        1.0472e-01, 5.2004e-02, 0.0000e+00, 0.0000e+00, 6.5722e-04, 8.4255e-02,\n",
      "        1.0757e-02, 0.0000e+00, 1.0502e-03, 0.0000e+00, 2.3538e-02, 1.3169e-02,\n",
      "        0.0000e+00, 0.0000e+00, 0.0000e+00, 0.0000e+00, 0.0000e+00, 0.0000e+00,\n",
      "        2.3013e-02, 7.9282e-05, 1.1728e-01, 2.5073e-02, 2.4228e-02, 0.0000e+00,\n",
      "        6.1182e-02, 0.0000e+00, 6.4848e-02, 0.0000e+00, 1.3012e-01, 1.3173e-01,\n",
      "        1.4997e-01, 4.1769e-02, 0.0000e+00, 4.8231e-02, 1.5122e-01, 2.8047e-02,\n",
      "        8.5808e-02, 6.2460e-02, 2.1628e-02, 4.3399e-02, 0.0000e+00, 9.8068e-03,\n",
      "        0.0000e+00, 0.0000e+00, 8.0185e-02, 0.0000e+00, 4.7932e-02, 5.6560e-03,\n",
      "        3.1264e-03, 5.7172e-02, 0.0000e+00, 1.1899e-01, 3.8956e-03, 0.0000e+00,\n",
      "        1.9846e-03, 3.1047e-02, 0.0000e+00, 0.0000e+00, 0.0000e+00, 0.0000e+00,\n",
      "        8.5919e-02, 5.0013e-02, 0.0000e+00, 0.0000e+00, 0.0000e+00, 3.2944e-02,\n",
      "        0.0000e+00, 1.0589e-01, 0.0000e+00, 1.3698e-02, 0.0000e+00, 0.0000e+00,\n",
      "        0.0000e+00, 9.9156e-02, 1.6636e-02, 0.0000e+00, 0.0000e+00, 0.0000e+00,\n",
      "        0.0000e+00, 0.0000e+00, 4.6676e-03, 0.0000e+00, 1.1453e-01, 0.0000e+00,\n",
      "        2.2507e-02, 1.0026e-03, 0.0000e+00, 0.0000e+00, 4.4523e-03, 0.0000e+00,\n",
      "        0.0000e+00, 8.9258e-04, 0.0000e+00, 0.0000e+00, 1.7149e-01, 0.0000e+00,\n",
      "        6.3878e-03, 1.0324e-02, 0.0000e+00, 0.0000e+00, 0.0000e+00, 0.0000e+00,\n",
      "        0.0000e+00, 8.3389e-02, 0.0000e+00, 7.6114e-03, 1.7690e-02, 0.0000e+00,\n",
      "        8.1786e-02, 9.8490e-02, 0.0000e+00, 1.0380e-01, 8.4593e-02, 6.8135e-02,\n",
      "        0.0000e+00, 8.1727e-03, 3.0357e-03, 4.3464e-03, 7.6153e-02, 0.0000e+00,\n",
      "        1.5274e-01, 4.9418e-02, 0.0000e+00, 7.3839e-02, 6.1613e-04, 0.0000e+00,\n",
      "        0.0000e+00, 9.6531e-03, 0.0000e+00, 0.0000e+00, 0.0000e+00, 0.0000e+00,\n",
      "        0.0000e+00, 0.0000e+00, 1.7891e-02, 1.0069e-01, 0.0000e+00, 0.0000e+00,\n",
      "        0.0000e+00, 2.6102e-02, 5.7303e-03, 3.1830e-02, 9.7212e-02, 2.3349e-02,\n",
      "        0.0000e+00, 1.0435e-01, 0.0000e+00, 0.0000e+00, 2.5396e-02, 5.6083e-02,\n",
      "        0.0000e+00, 5.4382e-02, 0.0000e+00, 0.0000e+00, 4.9447e-02, 0.0000e+00,\n",
      "        0.0000e+00, 8.5783e-04, 5.3694e-03, 0.0000e+00, 0.0000e+00, 0.0000e+00,\n",
      "        9.4677e-06, 0.0000e+00, 0.0000e+00, 1.6257e-02, 2.3845e-02, 4.2278e-02,\n",
      "        1.1071e-02, 1.4063e-02, 6.2400e-03, 4.0379e-02, 0.0000e+00, 4.6501e-02,\n",
      "        1.9857e-04, 0.0000e+00, 0.0000e+00, 4.5950e-02, 0.0000e+00, 5.4395e-02,\n",
      "        0.0000e+00, 0.0000e+00, 5.6897e-03, 0.0000e+00, 1.0708e-01, 1.2072e-03,\n",
      "        9.2278e-02, 0.0000e+00, 0.0000e+00, 3.6704e-03, 0.0000e+00, 1.7147e-03,\n",
      "        6.1298e-03, 2.5243e-03, 0.0000e+00, 0.0000e+00, 0.0000e+00, 4.4331e-03,\n",
      "        7.8845e-03, 0.0000e+00, 5.3028e-02, 2.2979e-02, 0.0000e+00, 0.0000e+00,\n",
      "        0.0000e+00, 1.5533e-02, 0.0000e+00, 7.2376e-03, 1.9015e-02, 0.0000e+00,\n",
      "        2.1668e-02, 5.2416e-02, 1.2829e-01, 7.7498e-02, 1.1027e-01, 4.6189e-02,\n",
      "        3.5454e-04, 2.9328e-02, 1.7134e-02, 1.2936e-01, 2.3106e-01, 7.7763e-04,\n",
      "        8.4261e-02, 0.0000e+00, 0.0000e+00, 1.8727e-02, 6.8043e-02, 0.0000e+00,\n",
      "        4.6421e-02, 1.7620e-02, 0.0000e+00, 0.0000e+00, 0.0000e+00, 3.0474e-02,\n",
      "        0.0000e+00, 1.9887e-02, 0.0000e+00, 0.0000e+00, 5.2597e-03, 1.0611e-02,\n",
      "        2.0198e-02, 0.0000e+00, 0.0000e+00, 2.4424e-02, 0.0000e+00, 0.0000e+00,\n",
      "        0.0000e+00, 0.0000e+00, 1.4384e-01, 0.0000e+00, 8.4428e-02, 0.0000e+00,\n",
      "        1.3466e-01, 0.0000e+00, 1.1537e-02, 1.5814e-01, 0.0000e+00, 0.0000e+00,\n",
      "        0.0000e+00, 0.0000e+00, 0.0000e+00, 0.0000e+00, 0.0000e+00, 1.4476e-03,\n",
      "        3.4310e-02, 0.0000e+00, 1.0377e-01, 5.7792e-02, 9.6598e-02, 0.0000e+00,\n",
      "        4.6708e-02, 0.0000e+00, 0.0000e+00, 1.1793e-02, 1.7822e-03, 0.0000e+00,\n",
      "        1.4475e-01, 6.8830e-02, 0.0000e+00, 6.9410e-02, 6.3419e-02, 1.3613e-01,\n",
      "        0.0000e+00, 0.0000e+00, 0.0000e+00, 3.1493e-02, 4.1664e-02, 2.2613e-02,\n",
      "        5.3484e-02, 6.0973e-02, 9.8780e-02, 1.0050e-02, 0.0000e+00, 0.0000e+00,\n",
      "        0.0000e+00, 1.2636e-02, 1.0712e-01, 1.1798e-02, 6.3854e-02, 7.9264e-03,\n",
      "        7.2666e-02, 9.8750e-03, 0.0000e+00, 6.4814e-03, 1.1611e-01, 2.8294e-03,\n",
      "        8.1385e-02, 0.0000e+00, 0.0000e+00, 8.2374e-02, 0.0000e+00, 0.0000e+00,\n",
      "        0.0000e+00, 2.8696e-03, 0.0000e+00, 0.0000e+00, 0.0000e+00, 0.0000e+00,\n",
      "        1.5287e-02, 1.2676e-01, 3.3015e-02, 0.0000e+00, 0.0000e+00, 2.4845e-02,\n",
      "        5.8459e-03, 4.7238e-02, 2.5909e-02, 0.0000e+00, 6.9127e-02, 1.6703e-01,\n",
      "        1.4644e-03, 1.4964e-01, 0.0000e+00, 1.4825e-01, 1.2911e-01, 0.0000e+00,\n",
      "        8.5941e-03, 1.5875e-01, 4.3181e-02, 0.0000e+00, 1.4633e-01, 0.0000e+00,\n",
      "        1.1674e-01, 1.6852e-01, 3.1676e-01, 4.8839e-02, 2.1402e-01, 0.0000e+00,\n",
      "        0.0000e+00, 0.0000e+00, 0.0000e+00, 6.6592e-02, 3.8893e-02, 1.7210e-01,\n",
      "        0.0000e+00, 0.0000e+00, 6.6004e-02, 0.0000e+00, 0.0000e+00, 0.0000e+00,\n",
      "        0.0000e+00, 0.0000e+00, 0.0000e+00, 0.0000e+00, 0.0000e+00, 8.8746e-02,\n",
      "        1.0875e-01, 7.4678e-02, 1.2002e-01, 1.5414e-01, 3.1320e-02, 9.9062e-02,\n",
      "        2.9992e-02, 1.3768e-01, 6.2675e-02, 0.0000e+00, 6.2573e-02, 0.0000e+00,\n",
      "        1.4835e-01, 5.4647e-02, 6.0935e-02, 1.0843e-01, 9.2338e-02, 0.0000e+00,\n",
      "        1.7442e-01, 1.2412e-01, 7.2536e-02, 1.8777e-02, 7.5501e-02, 1.2771e-01,\n",
      "        5.5162e-02, 1.3281e-01, 9.9713e-02, 1.7013e-04, 9.0274e-03, 0.0000e+00,\n",
      "        1.3504e-01, 9.9395e-07, 0.0000e+00, 2.4555e-02, 1.0850e-02, 4.7005e-02,\n",
      "        1.6690e-02, 2.0667e-05, 0.0000e+00, 0.0000e+00, 1.0864e-01, 9.6670e-02,\n",
      "        3.4906e-05, 8.3682e-02, 6.0286e-02, 1.9871e-01, 4.3195e-02, 1.8497e-01,\n",
      "        1.1044e-01, 5.4709e-02, 0.0000e+00, 0.0000e+00, 1.2117e-01, 0.0000e+00,\n",
      "        3.5942e-02, 1.2739e-02, 8.8378e-02, 4.1776e-02, 1.0485e-01, 6.1953e-02,\n",
      "        1.0035e-01, 1.9296e-01, 1.5661e-01, 9.2326e-02, 1.2562e-01, 1.3888e-02,\n",
      "        8.1025e-02, 1.1699e-01, 3.8344e-02, 1.5857e-01, 5.4160e-02, 1.3821e-01,\n",
      "        4.4959e-02, 2.1271e-01, 2.2497e-01, 2.2855e-02, 1.8332e-01, 3.5909e-02,\n",
      "        1.1375e-01, 4.2741e-02, 1.3768e-01, 4.1340e-02, 1.0546e-01, 8.6142e-02,\n",
      "        2.2100e-02, 1.8016e-02, 1.7635e-01, 4.1742e-02, 9.5723e-02, 1.5685e-01,\n",
      "        2.6496e-02, 1.5083e-01, 5.8489e-02, 2.3123e-02, 6.3471e-02, 1.6863e-01,\n",
      "        5.3453e-02, 1.1934e-01, 8.9547e-02, 1.5899e-01, 8.4443e-02, 1.7485e-01,\n",
      "        1.8936e-01, 1.4371e-01, 1.2851e-01, 6.6602e-02, 7.2323e-02, 3.1287e-02,\n",
      "        5.0972e-02, 3.7631e-02, 2.0142e-02, 5.7735e-02, 4.4327e-03, 2.0419e-02,\n",
      "        3.5254e-02, 8.5609e-02, 1.5909e-01, 1.3160e-01, 7.5696e-02, 1.4206e-01,\n",
      "        9.7392e-02, 9.4536e-03, 7.1630e-02, 1.3906e-01, 9.8687e-02, 1.1329e-01,\n",
      "        2.1069e-01, 1.2476e-01, 1.0288e-01, 5.5774e-02, 1.2672e-01, 7.6219e-02,\n",
      "        1.9688e-01, 1.1574e-01, 1.3095e-01, 4.4665e-02, 1.3486e-01, 3.9582e-02,\n",
      "        1.7389e-01, 6.8900e-02, 1.0188e-01, 1.1025e-01, 1.5830e-01, 1.4980e-01,\n",
      "        2.0439e-01, 9.0478e-02, 6.4674e-02, 1.8893e-01, 1.5003e-01, 4.7485e-02,\n",
      "        7.7158e-02, 1.5670e-01, 3.3568e-02, 1.2821e-01, 9.4222e-02, 1.7338e-01,\n",
      "        3.8848e-02, 5.7244e-02, 1.6800e-01, 2.5870e-01, 1.0824e-01, 6.0016e-02,\n",
      "        9.2113e-02, 1.1668e-01, 9.5395e-02, 9.5174e-02, 1.1368e-01, 1.4542e-01,\n",
      "        1.3478e-01, 8.0244e-02, 1.3949e-01, 1.1164e-01, 6.3121e-02, 1.7715e-01,\n",
      "        5.8881e-02, 3.9191e-02, 1.7736e-01, 9.9963e-02, 1.0454e-01, 5.4340e-02,\n",
      "        5.5649e-02, 2.8338e-01, 8.1464e-02, 1.2123e-01, 1.2305e-01, 1.6919e-01,\n",
      "        6.1941e-02, 1.1399e-02, 3.5008e-02, 8.5978e-02, 1.0347e-01, 1.2500e-01,\n",
      "        2.1517e-01, 1.6324e-02, 2.1934e-01, 1.0659e-01, 2.5565e-01, 3.1201e-01,\n",
      "        5.6754e-01, 2.0111e-01, 1.2058e-01, 8.1367e-01, 6.6259e-02, 7.5328e-02,\n",
      "        1.6669e-01, 1.6317e-01, 2.1101e-01, 3.2267e-02, 4.2906e-01, 1.1782e-01,\n",
      "        6.1322e-02, 4.4808e-01, 3.4447e-01, 4.5913e-01, 7.0940e-02, 3.2269e-01,\n",
      "        6.3857e-01, 7.1566e-02, 1.3633e-01, 7.4430e-02, 7.0067e-01, 2.9217e-01]) tensor(0.8137) tensor(55.4772)\n",
      "Chosen edges: tensor([[  11,   11,    8,   10,    8,   10,    8,    4,    8,    3,    4,   10,\n",
      "            4,   10,   10,   10,    5,   10,   12,   10,   10,    5,   10,    5,\n",
      "            8,   10,   10],\n",
      "        [  28,   55,  579,  771,  775, 1028, 1031, 1130, 1157, 1182, 1211, 1222,\n",
      "         1224, 1226, 1227, 1228, 1229, 1231, 1236, 1238, 1241, 1242, 1243, 1245,\n",
      "         1246, 1250, 1251]]) 27\n"
     ]
    },
    {
     "name": "stderr",
     "output_type": "stream",
     "text": [
      "100%|██████████| 51/51 [00:05<00:00,  9.35it/s]\n"
     ]
    },
    {
     "name": "stdout",
     "output_type": "stream",
     "text": [
      "Fine-Tune Epoch 1/3 | Train Loss: 2.0309 | Val Loss: 1.9256\n"
     ]
    },
    {
     "name": "stderr",
     "output_type": "stream",
     "text": [
      "100%|██████████| 51/51 [00:06<00:00,  7.84it/s]\n"
     ]
    },
    {
     "name": "stdout",
     "output_type": "stream",
     "text": [
      "Fine-Tune Epoch 2/3 | Train Loss: 1.9893 | Val Loss: 1.9043\n"
     ]
    },
    {
     "name": "stderr",
     "output_type": "stream",
     "text": [
      "100%|██████████| 51/51 [00:06<00:00,  7.56it/s]\n"
     ]
    },
    {
     "name": "stdout",
     "output_type": "stream",
     "text": [
      "Fine-Tune Epoch 3/3 | Train Loss: 1.9824 | Val Loss: 1.8960\n"
     ]
    },
    {
     "name": "stderr",
     "output_type": "stream",
     "text": [
      "100%|██████████| 51/51 [00:08<00:00,  6.07it/s]\n"
     ]
    },
    {
     "name": "stdout",
     "output_type": "stream",
     "text": [
      "Epoch 60/100 | Train Loss: 1.9628 | Val Loss: 24.4403 | Val Accuracy: 0.3627\n",
      "Edge metrics: tensor([0.0000e+00, 3.2856e-02, 1.1170e-04, 3.3524e-02, 3.0005e-04, 1.9082e-03,\n",
      "        1.6664e-02, 3.4231e-02, 0.0000e+00, 4.5794e-03, 7.5270e-03, 6.3216e-03,\n",
      "        5.1723e-03, 1.8872e-02, 0.0000e+00, 1.7166e-02, 4.6282e-03, 1.4109e-02,\n",
      "        8.3412e-03, 4.0175e-03, 5.5559e-03, 2.1765e-02, 5.2656e-09, 1.8983e-03,\n",
      "        1.2783e-02, 3.9692e-03, 1.2224e-02, 6.8619e-03, 3.3184e-03, 6.0384e-03,\n",
      "        5.0413e-03, 2.1091e-02, 4.2391e-03, 0.0000e+00, 4.0602e-03, 3.4018e-06,\n",
      "        2.2106e-02, 1.4195e-02, 5.2638e-03, 4.9925e-03, 1.4434e-02, 2.7056e-02,\n",
      "        5.3126e-03, 1.1585e-02, 5.2733e-03, 3.3394e-05, 7.0872e-03, 1.0555e-02,\n",
      "        0.0000e+00, 1.5240e-02, 1.8840e-02, 2.4626e-03, 7.4235e-03, 1.1533e-02,\n",
      "        7.3166e-03, 3.2700e-04, 1.4584e-02, 4.1280e-03, 5.1657e-03, 1.0846e-02,\n",
      "        5.8089e-03, 7.2987e-03, 9.2555e-03, 4.5452e-03, 1.2172e-02, 9.5547e-03,\n",
      "        5.6973e-03, 7.2100e-03, 1.1170e-02, 2.3450e-02, 1.1376e-02, 2.7562e-03,\n",
      "        0.0000e+00, 5.9507e-03, 6.3494e-06, 1.3478e-01, 9.4778e-03, 1.7281e-02,\n",
      "        1.2248e-01, 3.2915e-02, 1.6334e-02, 1.9366e-02, 5.0941e-02, 9.1685e-02,\n",
      "        5.9265e-02, 1.0304e-01, 1.5049e-03, 1.9820e-03, 3.7088e-08, 3.5618e-02,\n",
      "        7.8362e-02, 1.2288e-01, 6.8938e-02, 5.6250e-02, 4.5444e-02, 7.2598e-02,\n",
      "        5.3497e-02, 0.0000e+00, 6.3824e-02, 5.0803e-02, 4.8624e-02, 1.1026e-01,\n",
      "        4.0324e-03, 7.8963e-02, 7.9519e-02, 2.5568e-02, 7.3136e-02, 6.8705e-02,\n",
      "        9.4716e-02, 1.5571e-02, 1.2687e-02, 3.4855e-02, 3.9397e-02, 6.4699e-03,\n",
      "        4.0955e-02, 8.5395e-02, 2.9926e-02, 0.0000e+00, 1.0804e-02, 0.0000e+00,\n",
      "        5.8236e-02, 4.0354e-03, 1.3148e-06, 2.7009e-02, 8.9245e-02, 7.1520e-02,\n",
      "        4.1907e-02, 0.0000e+00, 2.4937e-04, 3.1752e-02, 3.6560e-02, 7.2002e-02,\n",
      "        8.7358e-04, 7.7375e-02, 4.4821e-02, 5.3098e-02, 5.7444e-02, 6.2179e-02,\n",
      "        9.3232e-02, 3.0533e-02, 3.0050e-02, 1.4448e-02, 3.3658e-02, 7.7682e-02,\n",
      "        9.5065e-02, 8.4784e-02, 0.0000e+00, 3.1077e-02, 1.7866e-03, 3.3075e-02,\n",
      "        8.9182e-02, 8.5179e-02, 0.0000e+00, 8.1754e-02, 8.6533e-02, 4.3357e-03,\n",
      "        1.4260e-02, 3.5674e-02, 1.1829e-01, 2.0393e-02, 7.4905e-02, 3.8203e-02,\n",
      "        5.3257e-02, 3.4785e-02, 6.0008e-03, 8.4612e-02, 0.0000e+00, 1.8932e-02,\n",
      "        0.0000e+00, 7.9774e-03, 7.3053e-04, 1.3844e-01, 6.4134e-03, 4.9431e-02,\n",
      "        1.7781e-02, 4.0773e-02, 8.0504e-03, 1.6037e-02, 1.7319e-02, 0.0000e+00,\n",
      "        1.6746e-02, 3.0443e-02, 2.5807e-02, 2.2423e-04, 3.2804e-04, 9.1747e-02,\n",
      "        3.4657e-08, 2.4254e-03, 2.1342e-04, 1.6756e-02, 1.0966e-02, 8.0823e-02,\n",
      "        8.8070e-02, 1.6915e-02, 4.3281e-02, 1.2237e-02, 0.0000e+00, 4.2633e-02,\n",
      "        3.4348e-06, 5.7873e-02, 3.8160e-02, 1.6994e-02, 1.3817e-02, 1.2967e-02,\n",
      "        8.0472e-02, 1.0815e-02, 8.0724e-05, 1.7113e-03, 9.8374e-02, 0.0000e+00,\n",
      "        2.9310e-02, 4.5740e-03, 1.8624e-02, 2.1932e-02, 2.5676e-02, 2.3749e-03,\n",
      "        3.4969e-02, 5.7575e-02, 1.0076e-01, 4.0360e-03, 1.1207e-02, 7.5004e-03,\n",
      "        7.0120e-04, 1.2373e-02, 2.4490e-02, 1.5625e-02, 3.9128e-02, 4.1983e-02,\n",
      "        2.4650e-02, 4.3134e-02, 0.0000e+00, 2.3419e-03, 1.8380e-02, 4.8832e-02,\n",
      "        6.0918e-02, 0.0000e+00, 6.7034e-02, 9.5588e-02, 1.0699e-06, 5.6586e-02,\n",
      "        1.0663e-01, 5.6513e-02, 4.9483e-02, 7.4465e-04, 1.1644e-01, 8.5008e-02,\n",
      "        5.3028e-02, 1.1611e-01, 2.6045e-03, 1.7462e-02, 4.4669e-02, 1.0370e-01,\n",
      "        6.8263e-03, 3.2747e-02, 4.7149e-02, 5.8730e-02, 5.3819e-02, 9.5867e-02,\n",
      "        8.4678e-02, 1.0869e-01, 8.1418e-02, 2.4264e-02, 2.6951e-02, 0.0000e+00,\n",
      "        1.4053e-06, 1.4142e-02, 1.2096e-02, 1.0850e-02, 7.9882e-02, 3.5058e-02,\n",
      "        5.5266e-02, 0.0000e+00, 9.0730e-02, 2.3341e-06, 3.6492e-02, 8.3564e-04,\n",
      "        5.9215e-02, 7.7867e-02, 1.3159e-03, 2.1359e-02, 9.9462e-02, 3.8895e-03,\n",
      "        3.9122e-02, 4.3405e-02, 3.8764e-02, 1.9407e-02, 8.8825e-02, 6.5459e-02,\n",
      "        9.4993e-02, 5.1157e-02, 3.7038e-02, 3.1580e-02, 0.0000e+00, 7.2891e-02,\n",
      "        3.8247e-03, 4.1985e-03, 8.5912e-07, 3.2240e-02, 1.0418e-01, 1.2304e-01,\n",
      "        4.3878e-02, 7.3440e-02, 0.0000e+00, 2.1976e-04, 5.7895e-02, 5.7224e-02,\n",
      "        5.0885e-02, 8.8781e-02, 7.6282e-03, 7.9671e-02, 8.5159e-02, 5.8942e-02,\n",
      "        3.5133e-02, 4.3321e-02, 8.8412e-03, 8.8051e-02, 9.7503e-02, 3.8062e-02,\n",
      "        1.8256e-02, 1.0830e-03, 0.0000e+00, 0.0000e+00, 0.0000e+00, 8.3790e-02,\n",
      "        6.9648e-02, 0.0000e+00, 6.4453e-02, 0.0000e+00, 0.0000e+00, 0.0000e+00,\n",
      "        3.9634e-02, 6.8611e-02, 0.0000e+00, 5.6598e-02, 2.9326e-02, 4.7199e-03,\n",
      "        0.0000e+00, 4.0900e-02, 1.1168e-01, 0.0000e+00, 3.9420e-02, 5.1107e-04,\n",
      "        2.1057e-02, 0.0000e+00, 0.0000e+00, 1.0928e-01, 1.2745e-01, 0.0000e+00,\n",
      "        0.0000e+00, 0.0000e+00, 0.0000e+00, 0.0000e+00, 0.0000e+00, 3.3963e-02,\n",
      "        5.1237e-02, 8.2801e-02, 3.0630e-02, 0.0000e+00, 1.2165e-02, 4.4386e-02,\n",
      "        3.5130e-02, 6.5272e-03, 3.6845e-02, 5.5657e-02, 0.0000e+00, 0.0000e+00,\n",
      "        5.4723e-02, 2.3625e-03, 6.3737e-02, 0.0000e+00, 5.3523e-02, 2.9080e-02,\n",
      "        0.0000e+00, 0.0000e+00, 0.0000e+00, 5.5404e-02, 4.3093e-03, 0.0000e+00,\n",
      "        5.6145e-04, 0.0000e+00, 1.2844e-02, 8.8475e-03, 0.0000e+00, 0.0000e+00,\n",
      "        0.0000e+00, 0.0000e+00, 0.0000e+00, 0.0000e+00, 1.1189e-02, 8.7904e-05,\n",
      "        9.1004e-02, 1.7264e-02, 1.4562e-02, 0.0000e+00, 3.8617e-02, 0.0000e+00,\n",
      "        3.5927e-02, 0.0000e+00, 6.9170e-02, 6.7252e-02, 1.0158e-01, 2.9376e-02,\n",
      "        0.0000e+00, 2.5922e-02, 9.5431e-02, 1.4268e-02, 5.4263e-02, 3.8523e-02,\n",
      "        1.8497e-02, 3.1659e-02, 0.0000e+00, 3.5832e-03, 0.0000e+00, 0.0000e+00,\n",
      "        3.8585e-02, 0.0000e+00, 2.4168e-02, 1.7568e-04, 0.0000e+00, 2.9365e-02,\n",
      "        0.0000e+00, 8.2907e-02, 3.9524e-03, 0.0000e+00, 1.1503e-03, 1.2542e-02,\n",
      "        0.0000e+00, 0.0000e+00, 0.0000e+00, 0.0000e+00, 4.3271e-02, 2.7354e-02,\n",
      "        0.0000e+00, 0.0000e+00, 0.0000e+00, 1.4936e-02, 0.0000e+00, 5.6848e-02,\n",
      "        0.0000e+00, 7.3458e-03, 0.0000e+00, 0.0000e+00, 0.0000e+00, 5.4185e-02,\n",
      "        1.0902e-02, 0.0000e+00, 0.0000e+00, 0.0000e+00, 0.0000e+00, 0.0000e+00,\n",
      "        1.6681e-03, 0.0000e+00, 6.4082e-02, 0.0000e+00, 1.2666e-02, 7.5462e-04,\n",
      "        0.0000e+00, 0.0000e+00, 2.8703e-03, 0.0000e+00, 0.0000e+00, 4.9343e-04,\n",
      "        0.0000e+00, 0.0000e+00, 9.0768e-02, 0.0000e+00, 3.0587e-03, 6.6535e-03,\n",
      "        0.0000e+00, 0.0000e+00, 0.0000e+00, 0.0000e+00, 0.0000e+00, 3.4039e-02,\n",
      "        0.0000e+00, 3.7155e-03, 0.0000e+00, 0.0000e+00, 4.8722e-02, 6.6318e-02,\n",
      "        0.0000e+00, 4.9822e-02, 4.4662e-02, 3.5004e-02, 0.0000e+00, 4.0539e-03,\n",
      "        3.2709e-03, 3.0554e-03, 4.1542e-02, 0.0000e+00, 8.3226e-02, 3.0198e-02,\n",
      "        0.0000e+00, 5.7352e-02, 4.9569e-04, 0.0000e+00, 0.0000e+00, 5.5858e-03,\n",
      "        0.0000e+00, 0.0000e+00, 0.0000e+00, 0.0000e+00, 0.0000e+00, 0.0000e+00,\n",
      "        9.3051e-03, 5.8652e-02, 0.0000e+00, 0.0000e+00, 0.0000e+00, 9.5497e-03,\n",
      "        1.8442e-03, 1.6490e-02, 4.2131e-02, 1.0543e-02, 0.0000e+00, 5.9035e-02,\n",
      "        0.0000e+00, 0.0000e+00, 8.6760e-03, 3.7397e-02, 0.0000e+00, 2.4780e-02,\n",
      "        0.0000e+00, 0.0000e+00, 2.3908e-02, 0.0000e+00, 0.0000e+00, 2.8155e-04,\n",
      "        2.5543e-03, 0.0000e+00, 0.0000e+00, 0.0000e+00, 4.7751e-06, 0.0000e+00,\n",
      "        0.0000e+00, 8.1424e-03, 1.1678e-02, 2.6301e-02, 8.6822e-03, 7.3382e-03,\n",
      "        2.8128e-03, 2.9849e-02, 0.0000e+00, 2.4783e-02, 1.7263e-04, 0.0000e+00,\n",
      "        0.0000e+00, 2.4052e-02, 0.0000e+00, 4.2979e-02, 0.0000e+00, 0.0000e+00,\n",
      "        2.4789e-03, 0.0000e+00, 5.3176e-02, 4.3070e-04, 6.0971e-02, 0.0000e+00,\n",
      "        0.0000e+00, 1.4309e-03, 0.0000e+00, 1.4048e-03, 0.0000e+00, 1.3286e-04,\n",
      "        0.0000e+00, 0.0000e+00, 0.0000e+00, 4.1003e-03, 3.6066e-03, 0.0000e+00,\n",
      "        3.0568e-02, 1.3749e-02, 0.0000e+00, 0.0000e+00, 0.0000e+00, 9.1740e-03,\n",
      "        0.0000e+00, 4.3583e-03, 8.9282e-03, 0.0000e+00, 1.7339e-02, 3.2325e-02,\n",
      "        7.5550e-02, 4.5803e-02, 7.1009e-02, 3.4821e-02, 3.8767e-04, 1.7714e-02,\n",
      "        8.6209e-03, 9.4340e-02, 7.0917e-04, 3.8039e-02, 0.0000e+00, 0.0000e+00,\n",
      "        9.8147e-03, 4.0952e-02, 0.0000e+00, 3.9351e-02, 1.0182e-02, 0.0000e+00,\n",
      "        0.0000e+00, 0.0000e+00, 1.3151e-02, 0.0000e+00, 1.0697e-02, 0.0000e+00,\n",
      "        0.0000e+00, 2.6998e-03, 5.5007e-03, 1.7841e-02, 0.0000e+00, 0.0000e+00,\n",
      "        1.3799e-02, 0.0000e+00, 0.0000e+00, 0.0000e+00, 0.0000e+00, 8.0012e-02,\n",
      "        0.0000e+00, 4.5411e-02, 0.0000e+00, 8.2996e-02, 0.0000e+00, 6.8760e-03,\n",
      "        8.4010e-02, 0.0000e+00, 0.0000e+00, 0.0000e+00, 0.0000e+00, 0.0000e+00,\n",
      "        0.0000e+00, 0.0000e+00, 9.6453e-04, 2.6679e-02, 0.0000e+00, 5.2950e-02,\n",
      "        4.6540e-02, 5.9360e-02, 0.0000e+00, 4.0952e-02, 0.0000e+00, 0.0000e+00,\n",
      "        1.0420e-02, 0.0000e+00, 0.0000e+00, 6.8564e-02, 5.1544e-02, 0.0000e+00,\n",
      "        3.3229e-02, 4.4409e-02, 1.0940e-01, 0.0000e+00, 0.0000e+00, 0.0000e+00,\n",
      "        2.7330e-02, 2.1435e-02, 1.0042e-02, 3.2870e-02, 3.0953e-02, 5.3143e-02,\n",
      "        3.1886e-03, 0.0000e+00, 0.0000e+00, 0.0000e+00, 4.3188e-03, 5.1764e-02,\n",
      "        3.7371e-03, 2.4524e-02, 0.0000e+00, 3.7376e-02, 7.2545e-03, 0.0000e+00,\n",
      "        0.0000e+00, 6.0737e-02, 1.9233e-03, 5.4948e-02, 0.0000e+00, 0.0000e+00,\n",
      "        4.5958e-02, 0.0000e+00, 0.0000e+00, 0.0000e+00, 1.6354e-03, 0.0000e+00,\n",
      "        0.0000e+00, 0.0000e+00, 0.0000e+00, 8.0334e-03, 7.9766e-02, 1.7471e-02,\n",
      "        0.0000e+00, 0.0000e+00, 9.1248e-03, 4.0846e-03, 1.7298e-02, 9.6318e-03,\n",
      "        0.0000e+00, 3.3588e-02, 9.0939e-02, 9.2916e-04, 1.1135e-01, 0.0000e+00,\n",
      "        8.1610e-02, 8.5545e-02, 0.0000e+00, 5.8674e-03, 9.9326e-02, 1.8212e-02,\n",
      "        0.0000e+00, 7.4913e-02, 0.0000e+00, 5.8620e-02, 1.0904e-01, 2.3243e-02,\n",
      "        0.0000e+00, 0.0000e+00, 0.0000e+00, 0.0000e+00, 3.6789e-02, 2.1775e-02,\n",
      "        1.0572e-01, 0.0000e+00, 0.0000e+00, 4.2094e-02, 0.0000e+00, 0.0000e+00,\n",
      "        0.0000e+00, 0.0000e+00, 0.0000e+00, 0.0000e+00, 0.0000e+00, 0.0000e+00,\n",
      "        5.0942e-02, 6.6970e-02, 4.2104e-02, 8.4281e-02, 8.5047e-02, 2.0340e-02,\n",
      "        6.4637e-02, 2.2750e-02, 7.3547e-02, 3.9085e-02, 0.0000e+00, 3.4607e-02,\n",
      "        0.0000e+00, 8.2379e-02, 2.9769e-02, 3.7671e-02, 7.0486e-02, 5.4500e-02,\n",
      "        0.0000e+00, 1.0389e-01, 6.6211e-02, 6.6344e-02, 9.1519e-03, 3.9378e-02,\n",
      "        7.0282e-02, 2.1263e-02, 9.9241e-02, 5.3959e-02, 1.1244e-04, 0.0000e+00,\n",
      "        0.0000e+00, 9.3009e-02, 5.7706e-07, 0.0000e+00, 1.2435e-02, 0.0000e+00,\n",
      "        3.3878e-02, 1.1646e-02, 1.5967e-05, 0.0000e+00, 0.0000e+00, 7.6976e-02,\n",
      "        6.6861e-02, 2.3323e-05, 5.1586e-02, 3.2330e-02, 8.8711e-02, 2.4305e-02,\n",
      "        1.0763e-01, 6.4377e-02, 3.0266e-02, 0.0000e+00, 0.0000e+00, 6.1258e-02,\n",
      "        0.0000e+00, 1.9201e-02, 4.9993e-03, 3.3148e-02, 2.4009e-02, 9.0920e-02,\n",
      "        4.7997e-02, 5.4611e-02, 1.2253e-01, 1.2337e-01, 7.2864e-02, 7.6424e-02,\n",
      "        6.0824e-03, 5.1345e-02, 1.0699e-01, 2.5900e-02, 9.9885e-02, 4.5058e-02,\n",
      "        8.6603e-02, 1.9243e-02, 1.0898e-02, 1.5467e-01, 1.5366e-02, 5.7540e-02,\n",
      "        3.0606e-02, 8.6022e-02, 1.3509e-02, 5.2961e-02, 5.4072e-02, 1.3635e-02,\n",
      "        8.9630e-03, 1.2761e-01, 2.8910e-02, 5.2920e-02, 1.2671e-01, 1.8636e-02,\n",
      "        8.8049e-02, 4.0922e-02, 1.5420e-02, 3.3020e-02, 1.0231e-01, 3.9461e-02,\n",
      "        7.4483e-02, 5.4570e-02, 9.3353e-02, 5.6831e-02, 9.7933e-02, 2.1243e-01,\n",
      "        8.3766e-02, 8.1868e-02, 3.4319e-02, 3.2343e-02, 5.0128e-03, 1.8318e-02,\n",
      "        1.0505e-02, 1.4908e-02, 2.6877e-02, 3.1338e-03, 9.7820e-03, 1.4281e-02,\n",
      "        3.8921e-02, 1.0554e-01, 8.2792e-02, 5.2964e-02, 7.0581e-02, 4.3280e-02,\n",
      "        4.3117e-03, 4.7450e-02, 8.2297e-02, 6.3774e-02, 6.3238e-02, 1.1104e-01,\n",
      "        6.1025e-02, 3.4488e-02, 7.6666e-02, 4.1097e-02, 1.1158e-01, 7.6140e-02,\n",
      "        8.0616e-02, 3.5901e-02, 8.0702e-02, 2.2995e-02, 1.0537e-01, 3.9789e-02,\n",
      "        6.7585e-02, 7.8316e-02, 9.7311e-02, 7.8089e-02, 5.0460e-02, 3.8825e-02,\n",
      "        1.5028e-01, 7.9566e-02, 2.3075e-02, 3.5296e-02, 8.0348e-02, 2.2502e-02,\n",
      "        9.3566e-02, 6.0692e-02, 1.2173e-01, 2.0231e-02, 2.8024e-02, 1.1180e-01,\n",
      "        5.0811e-02, 3.2463e-02, 5.9255e-02, 1.0737e-01, 1.0605e-01, 7.1260e-02,\n",
      "        7.9724e-02, 2.0774e-01, 6.7299e-02, 3.8905e-02, 7.3101e-02, 4.8428e-02,\n",
      "        3.7198e-02, 9.9231e-02, 2.9691e-02, 2.9157e-02, 1.0214e-01, 4.7882e-02,\n",
      "        5.7584e-02, 2.6331e-02, 2.6318e-02, 3.2132e-02, 8.8389e-02, 7.0230e-02,\n",
      "        1.5341e-01, 4.5652e-02, 8.5811e-03, 3.0364e-02, 4.3036e-02, 6.6072e-02,\n",
      "        8.4089e-02, 1.3525e-02, 5.4858e-02, 6.1867e-02, 3.8687e-02, 5.5596e-02,\n",
      "        7.5650e-02, 8.0375e-02, 3.0387e-02, 1.0758e-01, 8.7663e-02, 5.4885e-02,\n",
      "        6.7572e-02, 8.4301e-02, 9.4183e-02, 3.6036e-02, 1.1797e-01, 2.1251e-02,\n",
      "        1.4225e-01, 8.5122e-02, 9.8507e-02, 3.9506e-02, 3.5637e-02, 1.1011e-01,\n",
      "        1.4572e-02, 8.7688e-02, 1.2905e-01, 1.1502e-01, 4.2324e-02, 2.6568e-01,\n",
      "        2.1256e-01, 5.7639e-02, 9.6962e-01, 2.3057e-02, 1.5754e-01, 5.8458e-01,\n",
      "        1.7577e-01, 4.8448e-01, 1.2644e-01, 3.5658e-01, 3.1060e-01, 1.4464e-02]) tensor(0.9696) tensor(33.6852)\n",
      "Chosen edges: tensor([[  10,   10,   10,   10,   10,   10,   10,    8,   10],\n",
      "        [1088, 1197, 1266, 1267, 1269, 1272, 1274, 1276, 1277]]) 9\n"
     ]
    },
    {
     "name": "stderr",
     "output_type": "stream",
     "text": [
      " 86%|████████▋ | 44/51 [00:06<00:00,  7.32it/s]\n",
      "\n",
      "KeyboardInterrupt\n",
      "\n"
     ]
    }
   ],
   "execution_count": 12
  },
  {
   "metadata": {
    "ExecuteTime": {
     "end_time": "2025-02-02T21:18:20.818979700Z",
     "start_time": "2024-12-24T16:08:19.148560Z"
    }
   },
   "cell_type": "code",
   "source": "",
   "id": "533bf1b57447aa62",
   "outputs": [],
   "execution_count": null
  }
 ],
 "metadata": {
  "kernelspec": {
   "display_name": "Python 3",
   "language": "python",
   "name": "python3"
  },
  "language_info": {
   "codemirror_mode": {
    "name": "ipython",
    "version": 2
   },
   "file_extension": ".py",
   "mimetype": "text/x-python",
   "name": "python",
   "nbconvert_exporter": "python",
   "pygments_lexer": "ipython2",
   "version": "2.7.6"
  }
 },
 "nbformat": 4,
 "nbformat_minor": 5
}
