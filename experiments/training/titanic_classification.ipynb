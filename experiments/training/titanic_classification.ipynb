{
 "cells": [
  {
   "cell_type": "code",
   "id": "initial_id",
   "metadata": {
    "collapsed": true,
    "ExecuteTime": {
     "end_time": "2025-02-03T17:30:39.250495Z",
     "start_time": "2025-02-03T17:30:39.245374Z"
    }
   },
   "source": [
    "import pandas as pd\n",
    "import torch\n",
    "import torch.nn as nn\n",
    "import torch.optim as optim\n",
    "from sklearn.metrics import accuracy_score\n",
    "from sklearn.model_selection import train_test_split\n",
    "from sklearn.preprocessing import StandardScaler\n",
    "from torch.utils.data import DataLoader, Dataset\n",
    "from tqdm import tqdm"
   ],
   "outputs": [],
   "execution_count": 14
  },
  {
   "metadata": {
    "ExecuteTime": {
     "end_time": "2025-02-03T17:30:39.276640Z",
     "start_time": "2025-02-03T17:30:39.271592Z"
    }
   },
   "cell_type": "code",
   "source": [
    "from senmodel.model.utils import convert_dense_to_sparse_network, get_model_last_layer\n",
    "from senmodel.metrics.nonlinearity_metrics import PerturbationSensitivityEdgeMetric, \\\n",
    "    MagnitudeL2Metric\n",
    "from senmodel.metrics.edge_finder import EdgeFinder\n"
   ],
   "id": "851a61bbbac63426",
   "outputs": [],
   "execution_count": 15
  },
  {
   "metadata": {
    "ExecuteTime": {
     "end_time": "2025-02-03T17:30:39.284663Z",
     "start_time": "2025-02-03T17:30:39.281158Z"
    }
   },
   "cell_type": "code",
   "source": "device = torch.device(\"cuda\" if torch.cuda.is_available() else \"cpu\")",
   "id": "ed98f9250fb9b52",
   "outputs": [],
   "execution_count": 16
  },
  {
   "metadata": {
    "ExecuteTime": {
     "end_time": "2025-02-03T17:30:43.873831Z",
     "start_time": "2025-02-03T17:30:39.303201Z"
    }
   },
   "cell_type": "code",
   "source": [
    "from sklearn.preprocessing import LabelEncoder\n",
    "\n",
    "url = \"https://archive.ics.uci.edu/ml/machine-learning-databases/adult/adult.data\"\n",
    "columns = [\n",
    "    'age', 'workclass', 'fnlwgt', 'education', 'education-num', 'marital-status',\n",
    "    'occupation', 'relationship', 'race', 'sex', 'capital-gain', 'capital-loss',\n",
    "    'hours-per-week', 'native-country', 'income'\n",
    "]\n",
    "data = pd.read_csv(url, names=columns, na_values=\" ?\", skipinitialspace=True)\n",
    "data = data.dropna()\n",
    "\n",
    "scaler = StandardScaler()\n",
    "\n",
    "y = data['occupation']\n",
    "y = LabelEncoder().fit_transform(y)\n",
    "\n",
    "X = data.drop(['occupation'], axis=1)\n",
    "\n",
    "for col in X.select_dtypes(include=['object']).columns:\n",
    "    X[col] = LabelEncoder().fit_transform(X[col])\n",
    "\n",
    "X = scaler.fit_transform(X)\n",
    "\n",
    "X_train, X_val, y_train, y_val = train_test_split(X, y, test_size=0.2, random_state=0)\n",
    "\n",
    "len(set(y))"
   ],
   "id": "8a1c4b0b6e33d5a4",
   "outputs": [
    {
     "data": {
      "text/plain": [
       "15"
      ]
     },
     "execution_count": 17,
     "metadata": {},
     "output_type": "execute_result"
    }
   ],
   "execution_count": 17
  },
  {
   "metadata": {
    "ExecuteTime": {
     "end_time": "2025-02-03T17:30:43.898100Z",
     "start_time": "2025-02-03T17:30:43.889319Z"
    }
   },
   "cell_type": "code",
   "source": [
    "class TabularDataset(Dataset):\n",
    "    def __init__(self, features, targets):\n",
    "        self.features = torch.tensor(features, dtype=torch.float32)\n",
    "        self.targets = torch.tensor(targets, dtype=torch.long)\n",
    "\n",
    "    def __len__(self):\n",
    "        return len(self.targets)\n",
    "\n",
    "    def __getitem__(self, idx):\n",
    "        return self.features[idx], self.targets[idx]"
   ],
   "id": "d7d9e408b16a7a6a",
   "outputs": [],
   "execution_count": 18
  },
  {
   "metadata": {
    "ExecuteTime": {
     "end_time": "2025-02-03T17:30:43.918691Z",
     "start_time": "2025-02-03T17:30:43.913054Z"
    }
   },
   "cell_type": "code",
   "source": [
    "train_dataset = TabularDataset(X_train, y_train)\n",
    "val_dataset = TabularDataset(X_val, y_val)\n",
    "\n",
    "train_loader = DataLoader(train_dataset, batch_size=512, shuffle=True)\n",
    "val_loader = DataLoader(val_dataset, batch_size=512, shuffle=False)"
   ],
   "id": "183cc85a9b097f1",
   "outputs": [],
   "execution_count": 19
  },
  {
   "metadata": {
    "ExecuteTime": {
     "end_time": "2025-02-03T17:30:43.946461Z",
     "start_time": "2025-02-03T17:30:43.939422Z"
    }
   },
   "cell_type": "code",
   "source": [
    "class MulticlassFCN(nn.Module):\n",
    "    def __init__(self, input_size=14, hidden_sizes=None, output_size=15, dropout_rate=0.3):\n",
    "        super(MulticlassFCN, self).__init__()\n",
    "        if hidden_sizes is None:\n",
    "            hidden_sizes = [128, 64]\n",
    "        self.fc1 = nn.Linear(input_size, hidden_sizes[0])\n",
    "        self.relu1 = nn.ReLU()\n",
    "        self.dropout1 = nn.Dropout(dropout_rate)\n",
    "\n",
    "        self.fc2 = nn.Linear(hidden_sizes[0], hidden_sizes[1])\n",
    "        self.relu2 = nn.ReLU()\n",
    "        self.dropout2 = nn.Dropout(0.1)\n",
    "\n",
    "        self.output = nn.Linear(hidden_sizes[1], output_size)\n",
    "\n",
    "    def forward(self, x):\n",
    "        x = self.fc1(x)\n",
    "        x = self.relu1(x)\n",
    "        x = self.dropout1(x)\n",
    "\n",
    "        x = self.fc2(x)\n",
    "        x = self.relu2(x)\n",
    "        x = self.dropout2(x)\n",
    "\n",
    "        x = self.output(x)\n",
    "        # x = self.dropout2(x)\n",
    "        return x\n"
   ],
   "id": "cf7e5ab74bd84c4c",
   "outputs": [],
   "execution_count": 20
  },
  {
   "metadata": {
    "ExecuteTime": {
     "end_time": "2025-02-03T17:30:43.970849Z",
     "start_time": "2025-02-03T17:30:43.964631Z"
    }
   },
   "cell_type": "code",
   "source": [
    "def edge_replacement_func_new_layer(model, optim, val_loader, metric, choose_threshold):\n",
    "    layer = get_model_last_layer(model)\n",
    "    ef = EdgeFinder(metric, val_loader, device)\n",
    "    vals = ef.calculate_edge_metric_for_dataloader(model)\n",
    "    print(\"Edge metrics:\", vals, max(vals), sum(vals))\n",
    "    chosen_edges = ef.choose_edges_threshold(model, choose_threshold)\n",
    "    print(\"Chosen edges:\", chosen_edges, len(chosen_edges[0]))\n",
    "    layer.replace_many(*chosen_edges)\n",
    "\n",
    "    if layer.embed_linears:\n",
    "        optim.add_param_group({'params': layer.embed_linears[-1].weight_values})\n",
    "    else:\n",
    "        print(\"Empty metric\")\n",
    "        dummy_param = torch.zeros_like(layer.weight_values)\n",
    "        optim.add_param_group({'params': dummy_param})\n",
    "\n",
    "    return {'max': max(vals), 'sum': sum(vals), 'len': len(vals), 'len_choose': len(chosen_edges[0])}\n"
   ],
   "id": "6fe92b9bfdd4d7d1",
   "outputs": [],
   "execution_count": 21
  },
  {
   "metadata": {
    "ExecuteTime": {
     "end_time": "2025-02-03T17:30:44.022244Z",
     "start_time": "2025-02-03T17:30:44.006440Z"
    }
   },
   "cell_type": "code",
   "source": [
    "from senmodel.model.utils import freeze_all_but_last, unfreeze_all\n",
    "\n",
    "\n",
    "def train_sparse_recursive(model, train_loader, val_loader, num_epochs, metric, edge_replacement_func=None,\n",
    "                           window_size=3, threshold=0.1, fine_tune_epochs=3, lr=5e-4, choose_threshold=0.3):\n",
    "    optimizer = optim.Adam(model.parameters(), lr=lr)\n",
    "    criterion = nn.CrossEntropyLoss()\n",
    "    val_losses = []\n",
    "\n",
    "    for epoch in range(num_epochs):\n",
    "        model.train()\n",
    "        train_loss = 0\n",
    "        for inputs, targets in tqdm(train_loader):\n",
    "            inputs, targets = inputs.to(device), targets.to(device)\n",
    "            outputs = model(inputs)\n",
    "            loss = criterion(outputs, targets)\n",
    "\n",
    "            optimizer.zero_grad()\n",
    "            loss.backward()\n",
    "            optimizer.step()\n",
    "            train_loss += loss.item()\n",
    "\n",
    "        train_loss /= len(train_loader)\n",
    "\n",
    "        model.eval()\n",
    "        val_loss = 0\n",
    "        all_preds = []\n",
    "        all_targets = []\n",
    "        with torch.no_grad():\n",
    "            for inputs, targets in val_loader:\n",
    "                inputs, targets = inputs.to(device), targets.to(device)\n",
    "                outputs = model(inputs)\n",
    "                loss = criterion(outputs, targets)\n",
    "                val_loss += loss.item()\n",
    "\n",
    "                preds = torch.argmax(outputs, dim=1)\n",
    "                all_preds.extend(preds.cpu().numpy())\n",
    "                all_targets.extend(targets.cpu().numpy())\n",
    "\n",
    "        val_accuracy = accuracy_score(all_targets, all_preds)\n",
    "        print(f\"Epoch {epoch + 1}/{num_epochs} | Train Loss: {train_loss:.4f} | \"\n",
    "              f\"Val Loss: {val_loss:.4f} | Val Accuracy: {val_accuracy:.4f}\")\n",
    "\n",
    "        new_l = {}\n",
    "        val_losses.append(val_loss)\n",
    "        if edge_replacement_func and len(val_losses) > window_size:\n",
    "            recent_changes = [abs(val_losses[i] - val_losses[i - 1]) for i in range(-window_size, 0)]\n",
    "            avg_change = sum(recent_changes) / window_size\n",
    "            if avg_change < threshold:\n",
    "                new_l = edge_replacement_func(model, optimizer, val_loader, metric, choose_threshold)\n",
    "                # Замораживаем все слои кроме последнего\n",
    "                freeze_all_but_last(model)\n",
    "\n",
    "                # Обучаем только последний слой в течение нескольких эпох\n",
    "                for fine_tune_epoch in range(fine_tune_epochs):\n",
    "                    model.train()\n",
    "                    fine_tune_train_loss = 0\n",
    "                    for inputs, targets in tqdm(train_loader):\n",
    "                        inputs, targets = inputs.to(device), targets.to(device)\n",
    "                        outputs = model(inputs)\n",
    "                        loss = criterion(outputs, targets)\n",
    "                        optimizer.zero_grad()\n",
    "                        loss.backward()\n",
    "                        optimizer.step()\n",
    "                        fine_tune_train_loss += loss.item()\n",
    "                    fine_tune_train_loss /= len(train_loader)\n",
    "\n",
    "                    model.eval()\n",
    "                    fine_tune_val_loss = 0\n",
    "                    with torch.no_grad():\n",
    "                        for inputs, targets in val_loader:\n",
    "                            inputs, targets = inputs.to(device), targets.to(device)\n",
    "                            outputs = model(inputs)\n",
    "                            loss = criterion(outputs, targets)\n",
    "                            fine_tune_val_loss += loss.item()\n",
    "                    fine_tune_val_loss /= len(val_loader)\n",
    "\n",
    "                    print(f\"Fine-Tune Epoch {fine_tune_epoch + 1}/{fine_tune_epochs} | \"\n",
    "                          f\"Train Loss: {fine_tune_train_loss:.4f} | Val Loss: {fine_tune_val_loss:.4f}\")\n",
    "\n",
    "                # Размораживаем все слои\n",
    "                unfreeze_all(model)\n",
    "        #\n",
    "\n",
    "        # new_l = {}\n",
    "        # if edge_replacement_func and epoch % 8 == 0 and epoch != 0:\n",
    "        #     new_l = edge_replacement_func(model, optimizer, val_loader, metric)\n",
    "\n",
    "        wandb.log({'val_loss': val_loss, 'val_accuracy': val_accuracy, 'train_loss': train_loss} | new_l)\n",
    "\n"
   ],
   "id": "e0e4d086a0b3b29f",
   "outputs": [],
   "execution_count": 22
  },
  {
   "metadata": {
    "ExecuteTime": {
     "end_time": "2025-02-03T17:30:44.032420Z",
     "start_time": "2025-02-03T17:30:44.027414Z"
    }
   },
   "cell_type": "code",
   "source": [
    "from senmodel.metrics.nonlinearity_metrics import *\n",
    "\n",
    "criterion = nn.CrossEntropyLoss()\n",
    "metrics = [\n",
    "    GradientMeanEdgeMetric(criterion),\n",
    "    SNIPMetric(criterion),\n",
    "    MagnitudeL2Metric(criterion),\n",
    "]"
   ],
   "id": "b44615f5a401dd16",
   "outputs": [],
   "execution_count": 23
  },
  {
   "metadata": {
    "ExecuteTime": {
     "end_time": "2025-02-03T17:30:44.061223Z",
     "start_time": "2025-02-03T17:30:44.053319Z"
    }
   },
   "cell_type": "code",
   "source": [
    "import wandb\n",
    "\n",
    "wandb.login()"
   ],
   "id": "c813771bca507d71",
   "outputs": [
    {
     "data": {
      "text/plain": [
       "True"
      ]
     },
     "execution_count": 24,
     "metadata": {},
     "output_type": "execute_result"
    }
   ],
   "execution_count": 24
  },
  {
   "metadata": {
    "ExecuteTime": {
     "end_time": "2025-02-03T17:35:26.235346Z",
     "start_time": "2025-02-03T17:35:26.226252Z"
    }
   },
   "cell_type": "code",
   "source": [
    "hyperparams = {\"num_epochs\": 50,\n",
    "               \"metric\":metrics[0],\n",
    "               \"choose_threshold\":0.05,\n",
    "               \"window_size\":3,\n",
    "               \"threshold\":0.1,\n",
    "               \"fine_tune_epochs\": 10,\n",
    "               \"lr\":5e-4,\n",
    "               }\n",
    "\n",
    "name = \", \".join(\n",
    "    f\"{key}: {value.__class__.__name__ if key == 'metric' else value}\"\n",
    "    for key, value in hyperparams.items()\n",
    ")\n",
    "name"
   ],
   "id": "a10df7d34ecdcb18",
   "outputs": [
    {
     "data": {
      "text/plain": [
       "'num_epochs: 50, metric: GradientMeanEdgeMetric, choose_threshold: 0.05, window_size: 3, threshold: 0.1, fine_tune_epochs: 10, lr: 0.0005'"
      ]
     },
     "execution_count": 28,
     "metadata": {},
     "output_type": "execute_result"
    }
   ],
   "execution_count": 28
  },
  {
   "metadata": {
    "ExecuteTime": {
     "end_time": "2025-02-03T17:50:00.940631Z",
     "start_time": "2025-02-03T17:35:28.294773Z"
    }
   },
   "cell_type": "code",
   "source": [
    "dense_model = MulticlassFCN(input_size=X.shape[1])\n",
    "sparse_model = convert_dense_to_sparse_network(dense_model)\n",
    "wandb.finish()\n",
    "wandb.init(\n",
    "    project=\"self-expanding-nets\",\n",
    "    name=f\"titanic-mul, {name}\",\n",
    "    tags=[\"complex model\", \"titanic\", \"binary\", hyperparams[\"metric\"].__class__.__name__],\n",
    ")\n",
    "\n",
    "train_sparse_recursive(sparse_model, train_loader, val_loader,\n",
    "                       edge_replacement_func=edge_replacement_func_new_layer, **hyperparams)\n",
    "wandb.finish()"
   ],
   "id": "45fe9040816bb570",
   "outputs": [
    {
     "data": {
      "text/plain": [
       "<IPython.core.display.HTML object>"
      ],
      "text/html": [
       "Tracking run with wandb version 0.19.0"
      ]
     },
     "metadata": {},
     "output_type": "display_data"
    },
    {
     "data": {
      "text/plain": [
       "<IPython.core.display.HTML object>"
      ],
      "text/html": [
       "Run data is saved locally in <code>D:\\Coding\\PY\\self-expanding-nets\\experiments\\training\\wandb\\run-20250203_203528-g13b8013</code>"
      ]
     },
     "metadata": {},
     "output_type": "display_data"
    },
    {
     "data": {
      "text/plain": [
       "<IPython.core.display.HTML object>"
      ],
      "text/html": [
       "Syncing run <strong><a href='https://wandb.ai/fedornigretuk/self-expanding-nets/runs/g13b8013' target=\"_blank\">titanic-mul, num_epochs: 50, metric: GradientMeanEdgeMetric, choose_threshold: 0.05, window_size: 3, threshold: 0.1, fine_tune_epochs: 10, lr: 0.0005</a></strong> to <a href='https://wandb.ai/fedornigretuk/self-expanding-nets' target=\"_blank\">Weights & Biases</a> (<a href='https://wandb.me/developer-guide' target=\"_blank\">docs</a>)<br/>"
      ]
     },
     "metadata": {},
     "output_type": "display_data"
    },
    {
     "data": {
      "text/plain": [
       "<IPython.core.display.HTML object>"
      ],
      "text/html": [
       " View project at <a href='https://wandb.ai/fedornigretuk/self-expanding-nets' target=\"_blank\">https://wandb.ai/fedornigretuk/self-expanding-nets</a>"
      ]
     },
     "metadata": {},
     "output_type": "display_data"
    },
    {
     "data": {
      "text/plain": [
       "<IPython.core.display.HTML object>"
      ],
      "text/html": [
       " View run at <a href='https://wandb.ai/fedornigretuk/self-expanding-nets/runs/g13b8013' target=\"_blank\">https://wandb.ai/fedornigretuk/self-expanding-nets/runs/g13b8013</a>"
      ]
     },
     "metadata": {},
     "output_type": "display_data"
    },
    {
     "name": "stderr",
     "output_type": "stream",
     "text": [
      "100%|██████████| 51/51 [00:01<00:00, 40.79it/s]\n"
     ]
    },
    {
     "name": "stdout",
     "output_type": "stream",
     "text": [
      "Epoch 1/50 | Train Loss: 2.6099 | Val Loss: 31.5900 | Val Accuracy: 0.2354\n"
     ]
    },
    {
     "name": "stderr",
     "output_type": "stream",
     "text": [
      "100%|██████████| 51/51 [00:01<00:00, 41.17it/s]\n"
     ]
    },
    {
     "name": "stdout",
     "output_type": "stream",
     "text": [
      "Epoch 2/50 | Train Loss: 2.3536 | Val Loss: 28.5474 | Val Accuracy: 0.3158\n"
     ]
    },
    {
     "name": "stderr",
     "output_type": "stream",
     "text": [
      "100%|██████████| 51/51 [00:01<00:00, 40.73it/s]\n"
     ]
    },
    {
     "name": "stdout",
     "output_type": "stream",
     "text": [
      "Epoch 3/50 | Train Loss: 2.2049 | Val Loss: 26.7897 | Val Accuracy: 0.3303\n"
     ]
    },
    {
     "name": "stderr",
     "output_type": "stream",
     "text": [
      "100%|██████████| 51/51 [00:01<00:00, 42.02it/s]\n"
     ]
    },
    {
     "name": "stdout",
     "output_type": "stream",
     "text": [
      "Epoch 4/50 | Train Loss: 2.1161 | Val Loss: 25.8269 | Val Accuracy: 0.3381\n"
     ]
    },
    {
     "name": "stderr",
     "output_type": "stream",
     "text": [
      "100%|██████████| 51/51 [00:01<00:00, 41.91it/s]\n"
     ]
    },
    {
     "name": "stdout",
     "output_type": "stream",
     "text": [
      "Epoch 5/50 | Train Loss: 2.0589 | Val Loss: 25.3573 | Val Accuracy: 0.3404\n"
     ]
    },
    {
     "name": "stderr",
     "output_type": "stream",
     "text": [
      "100%|██████████| 51/51 [00:01<00:00, 32.63it/s]\n"
     ]
    },
    {
     "name": "stdout",
     "output_type": "stream",
     "text": [
      "Epoch 6/50 | Train Loss: 2.0355 | Val Loss: 25.1401 | Val Accuracy: 0.3470\n"
     ]
    },
    {
     "name": "stderr",
     "output_type": "stream",
     "text": [
      "100%|██████████| 51/51 [00:01<00:00, 35.14it/s]\n"
     ]
    },
    {
     "name": "stdout",
     "output_type": "stream",
     "text": [
      "Epoch 7/50 | Train Loss: 2.0190 | Val Loss: 24.9799 | Val Accuracy: 0.3473\n"
     ]
    },
    {
     "name": "stderr",
     "output_type": "stream",
     "text": [
      "100%|██████████| 51/51 [00:01<00:00, 34.23it/s]\n"
     ]
    },
    {
     "name": "stdout",
     "output_type": "stream",
     "text": [
      "Epoch 8/50 | Train Loss: 1.9985 | Val Loss: 24.8701 | Val Accuracy: 0.3478\n"
     ]
    },
    {
     "name": "stderr",
     "output_type": "stream",
     "text": [
      "100%|██████████| 51/51 [00:01<00:00, 38.43it/s]\n"
     ]
    },
    {
     "name": "stdout",
     "output_type": "stream",
     "text": [
      "Epoch 9/50 | Train Loss: 1.9891 | Val Loss: 24.7697 | Val Accuracy: 0.3505\n"
     ]
    },
    {
     "name": "stderr",
     "output_type": "stream",
     "text": [
      "100%|██████████| 51/51 [00:01<00:00, 38.19it/s]\n"
     ]
    },
    {
     "name": "stdout",
     "output_type": "stream",
     "text": [
      "Epoch 10/50 | Train Loss: 1.9802 | Val Loss: 24.6889 | Val Accuracy: 0.3499\n",
      "Edge metrics: tensor([0.1045, 0.0946, 0.0767, 0.0686, 0.0895, 0.0850, 0.0744, 0.0277, 0.0931,\n",
      "        0.1224, 0.0885, 0.0554, 0.0419, 0.0677, 0.0707, 0.0748, 0.1452, 0.0955,\n",
      "        0.0731, 0.0290, 0.0382, 0.0588, 0.0299, 0.0766, 0.1046, 0.0877, 0.1123,\n",
      "        0.0444, 0.1047, 0.0738, 0.0376, 0.0815, 0.1310, 0.0712, 0.1034, 0.0384,\n",
      "        0.0789, 0.0144, 0.0399, 0.0376, 0.1125, 0.0175, 0.1718, 0.1194, 0.0363,\n",
      "        0.1146, 0.1084, 0.0819, 0.0812, 0.0462, 0.0300, 0.0773, 0.0482, 0.0810,\n",
      "        0.0062, 0.0856, 0.0578, 0.0845, 0.0272, 0.0880, 0.1101, 0.0808, 0.1035,\n",
      "        0.0226, 0.1895, 0.1019, 0.0603, 0.2043, 0.1560, 0.2964, 0.1137, 0.1385,\n",
      "        0.1585, 0.1001, 0.0990, 0.1147, 0.2670, 0.2111, 0.2056, 0.1503, 0.3233,\n",
      "        0.1172, 0.1466, 0.1290, 0.1780, 0.1228, 0.0799, 0.1235, 0.1581, 0.1687,\n",
      "        0.1149, 0.1707, 0.2624, 0.2338, 0.0905, 0.0541, 0.2057, 0.0403, 0.1860,\n",
      "        0.1982, 0.1511, 0.1004, 0.1460, 0.0670, 0.3885, 0.0785, 0.2341, 0.2231,\n",
      "        0.1010, 0.1044, 0.1417, 0.1706, 0.0700, 0.2457, 0.1765, 0.2401, 0.1290,\n",
      "        0.1421, 0.0445, 0.0568, 0.2738, 0.1114, 0.1523, 0.1419, 0.0959, 0.2125,\n",
      "        0.1208, 0.1725, 0.0189, 0.0104, 0.0093, 0.0173, 0.0100, 0.0177, 0.0150,\n",
      "        0.0107, 0.0124, 0.0128, 0.0055, 0.0091, 0.0151, 0.0089, 0.0197, 0.0088,\n",
      "        0.0345, 0.0162, 0.0192, 0.0133, 0.0104, 0.0058, 0.0080, 0.0073, 0.0231,\n",
      "        0.0142, 0.0155, 0.0179, 0.0212, 0.0082, 0.0109, 0.0072, 0.0271, 0.0064,\n",
      "        0.0109, 0.0077, 0.0167, 0.0080, 0.0077, 0.0007, 0.0242, 0.0060, 0.0265,\n",
      "        0.0175, 0.0123, 0.0114, 0.0103, 0.0247, 0.0078, 0.0176, 0.0137, 0.0130,\n",
      "        0.0032, 0.0043, 0.0016, 0.0044, 0.0222, 0.0130, 0.0130, 0.0153, 0.0123,\n",
      "        0.0068, 0.0110, 0.0072, 0.1640, 0.0920, 0.0358, 0.3337, 0.1469, 0.1694,\n",
      "        0.2555, 0.1643, 0.1233, 0.0663, 0.0446, 0.1283, 0.2610, 0.1467, 0.2136,\n",
      "        0.1027, 0.4184, 0.1394, 0.1692, 0.2268, 0.2088, 0.0924, 0.1810, 0.0849,\n",
      "        0.3106, 0.0943, 0.0825, 0.3171, 0.2622, 0.1572, 0.1797, 0.0410, 0.3858,\n",
      "        0.0290, 0.1407, 0.1889, 0.2302, 0.1995, 0.1458, 0.0228, 0.2929, 0.1973,\n",
      "        0.1774, 0.1709, 0.1748, 0.0895, 0.0998, 0.3568, 0.0484, 0.2753, 0.2130,\n",
      "        0.1456, 0.0567, 0.0595, 0.0667, 0.0336, 0.2695, 0.1599, 0.3048, 0.2068,\n",
      "        0.0725, 0.1514, 0.1030, 0.2319, 0.0963, 0.1647, 0.0429, 0.4821, 0.2374,\n",
      "        0.2095, 0.1515, 0.1061, 0.0865, 0.0964, 0.0660, 0.3748, 0.5734, 0.1270,\n",
      "        0.1765, 0.2760, 0.4498, 0.1272, 0.1161, 0.1327, 0.4152, 0.1746, 0.1822,\n",
      "        0.0819, 0.3810, 0.2524, 0.0863, 0.2115, 0.4823, 0.4061, 0.1038, 0.0563,\n",
      "        0.5126, 0.0442, 0.1645, 0.3789, 0.4517, 0.1809, 0.3858, 0.0643, 0.5125,\n",
      "        0.1910, 0.1736, 0.2794, 0.1348, 0.1508, 0.2460, 0.4374, 0.0600, 0.5149,\n",
      "        0.1393, 0.1846, 0.2013, 0.2317, 0.0297, 0.0622, 0.2670, 0.2085, 0.3224,\n",
      "        0.1198, 0.1168, 0.1661, 0.2254, 0.3573, 0.0804, 0.0333, 0.0370, 0.1655,\n",
      "        0.0605, 0.1276, 0.1652, 0.1316, 0.0241, 0.0261, 0.0142, 0.0851, 0.1652,\n",
      "        0.0405, 0.1790, 0.0373, 0.2710, 0.0874, 0.1295, 0.1707, 0.0902, 0.0615,\n",
      "        0.0879, 0.0232, 0.1542, 0.0374, 0.0429, 0.2054, 0.1477, 0.0594, 0.1344,\n",
      "        0.0151, 0.2065, 0.0143, 0.0785, 0.0716, 0.1462, 0.1579, 0.0687, 0.0244,\n",
      "        0.1946, 0.1236, 0.1697, 0.0678, 0.1526, 0.0368, 0.0322, 0.2335, 0.0377,\n",
      "        0.1606, 0.1511, 0.0798, 0.0341, 0.0201, 0.0702, 0.0091, 0.2038, 0.1133,\n",
      "        0.1853, 0.1233, 0.0247, 0.0770, 0.0259, 0.2061, 0.1762, 0.0553, 0.0479,\n",
      "        0.1297, 0.0664, 0.1948, 0.2043, 0.1516, 0.0954, 0.0699, 0.0430, 0.0602,\n",
      "        0.0925, 0.1005, 0.2316, 0.0329, 0.2888, 0.1213, 0.1693, 0.1976, 0.0734,\n",
      "        0.0476, 0.0925, 0.0448, 0.1441, 0.0423, 0.0936, 0.2164, 0.1237, 0.0476,\n",
      "        0.1480, 0.0432, 0.1789, 0.0329, 0.0713, 0.0585, 0.1054, 0.1195, 0.0495,\n",
      "        0.0064, 0.1661, 0.0890, 0.2299, 0.0941, 0.1686, 0.0551, 0.0456, 0.1813,\n",
      "        0.0467, 0.1023, 0.2043, 0.1316, 0.0230, 0.0207, 0.0477, 0.0301, 0.2591,\n",
      "        0.0819, 0.1270, 0.1531, 0.0541, 0.0606, 0.0438, 0.0915, 0.1694, 0.0590,\n",
      "        0.0503, 0.2128, 0.1000, 0.1944, 0.1798, 0.1670, 0.1083, 0.0722, 0.0419,\n",
      "        0.0902, 0.1350, 0.1466, 0.2132, 0.0513, 0.2843, 0.1319, 0.1383, 0.1755,\n",
      "        0.1070, 0.0862, 0.1028, 0.0755, 0.2139, 0.0708, 0.1033, 0.1754, 0.1842,\n",
      "        0.0627, 0.1481, 0.0357, 0.2636, 0.0258, 0.1190, 0.1009, 0.1505, 0.1157,\n",
      "        0.0768, 0.0092, 0.2036, 0.0923, 0.2434, 0.1378, 0.1517, 0.0794, 0.0486,\n",
      "        0.2566, 0.0426, 0.1693, 0.1922, 0.1872, 0.0306, 0.0399, 0.0380, 0.0244,\n",
      "        0.2622, 0.0767, 0.1948, 0.1912, 0.0686, 0.1765, 0.0477, 0.1206, 0.3534,\n",
      "        0.1263, 0.0794, 0.1537, 0.1954, 0.3464, 0.1535, 0.2344, 0.2214, 0.0636,\n",
      "        0.0519, 0.1416, 0.2208, 0.2672, 0.3408, 0.0845, 0.3700, 0.1694, 0.1825,\n",
      "        0.1804, 0.1938, 0.1103, 0.0584, 0.1351, 0.1657, 0.0922, 0.1992, 0.1953,\n",
      "        0.2496, 0.1123, 0.1190, 0.0346, 0.1679, 0.0391, 0.1562, 0.1885, 0.2330,\n",
      "        0.1054, 0.1271, 0.0205, 0.3619, 0.0672, 0.3729, 0.2241, 0.1349, 0.1359,\n",
      "        0.0709, 0.1993, 0.0746, 0.2159, 0.2572, 0.2822, 0.0708, 0.0704, 0.0607,\n",
      "        0.0378, 0.3921, 0.0639, 0.1134, 0.1597, 0.0565, 0.1963, 0.0859, 0.0910,\n",
      "        0.1058, 0.0291, 0.0155, 0.0345, 0.0450, 0.1037, 0.0283, 0.0773, 0.0724,\n",
      "        0.0181, 0.0116, 0.0320, 0.0361, 0.1090, 0.0811, 0.0173, 0.0831, 0.0489,\n",
      "        0.0275, 0.0447, 0.0400, 0.0254, 0.0174, 0.0486, 0.0338, 0.0200, 0.0557,\n",
      "        0.0260, 0.0684, 0.0227, 0.0161, 0.0094, 0.0483, 0.0095, 0.0500, 0.0380,\n",
      "        0.0821, 0.0180, 0.0214, 0.0059, 0.1020, 0.0145, 0.1100, 0.0396, 0.0310,\n",
      "        0.0363, 0.0188, 0.0371, 0.0156, 0.0419, 0.0681, 0.0856, 0.0132, 0.0136,\n",
      "        0.0233, 0.0076, 0.1023, 0.0219, 0.0283, 0.0279, 0.0171, 0.1011, 0.0180,\n",
      "        0.0204, 0.1037, 0.2351, 0.0576, 0.4650, 0.2196, 0.2141, 0.1027, 0.0758,\n",
      "        0.0732, 0.1405, 0.0847, 0.3687, 0.6038, 0.0946, 0.1363, 0.2852, 0.3439,\n",
      "        0.1515, 0.0965, 0.0851, 0.3942, 0.1633, 0.1358, 0.0711, 0.3131, 0.2843,\n",
      "        0.0868, 0.1435, 0.4494, 0.4560, 0.0846, 0.0827, 0.5030, 0.0614, 0.1413,\n",
      "        0.3224, 0.3800, 0.1079, 0.3766, 0.0909, 0.5282, 0.1707, 0.1617, 0.2997,\n",
      "        0.0891, 0.1666, 0.2421, 0.3660, 0.0763, 0.5170, 0.1049, 0.1868, 0.2418,\n",
      "        0.2520, 0.0156, 0.0979, 0.1866, 0.2227, 0.3125, 0.0912, 0.1441, 0.1642,\n",
      "        0.2286, 0.3385, 0.0571, 0.0597, 0.0341, 0.1494, 0.0563, 0.1001, 0.1384,\n",
      "        0.0613, 0.0363, 0.1667, 0.0533, 0.0919, 0.1535, 0.0353, 0.0852, 0.1024,\n",
      "        0.1986, 0.1059, 0.1025, 0.0854, 0.1091, 0.0585, 0.0786, 0.0264, 0.1368,\n",
      "        0.1153, 0.0534, 0.1075, 0.1442, 0.1039, 0.0776, 0.0425, 0.1874, 0.0253,\n",
      "        0.0537, 0.0784, 0.1272, 0.0588, 0.1033, 0.0290, 0.1643, 0.0609, 0.1414,\n",
      "        0.0657, 0.1091, 0.0670, 0.1426, 0.1576, 0.0391, 0.1569, 0.0806, 0.0665,\n",
      "        0.0496, 0.0725, 0.0145, 0.0482, 0.1185, 0.1722, 0.1116, 0.0948, 0.1276,\n",
      "        0.0484, 0.1157, 0.0859, 0.1668, 0.1310, 0.0633, 0.2745, 0.1664, 0.1589,\n",
      "        0.1405, 0.1508, 0.1153, 0.1295, 0.0951, 0.1676, 0.3016, 0.1542, 0.1860,\n",
      "        0.1180, 0.3104, 0.1197, 0.1189, 0.1389, 0.2245, 0.1350, 0.1260, 0.0819,\n",
      "        0.2492, 0.1211, 0.1065, 0.1405, 0.2885, 0.1916, 0.0921, 0.0550, 0.3047,\n",
      "        0.0405, 0.1128, 0.2327, 0.2321, 0.0923, 0.1752, 0.0465, 0.3391, 0.1265,\n",
      "        0.2184, 0.1901, 0.1109, 0.1454, 0.1261, 0.2493, 0.0689, 0.2917, 0.1674,\n",
      "        0.1623, 0.1043, 0.1122, 0.0287, 0.0701, 0.2083, 0.1222, 0.2056, 0.1395,\n",
      "        0.1164, 0.1466, 0.1418, 0.1775, 0.0759, 0.1073, 0.0312, 0.1142, 0.1461,\n",
      "        0.1587, 0.1001, 0.0724, 0.0707, 0.0772, 0.0539, 0.1455, 0.2406, 0.0746,\n",
      "        0.1259, 0.1073, 0.1827, 0.1100, 0.0878, 0.0810, 0.1822, 0.0704, 0.0391,\n",
      "        0.0705, 0.1152, 0.1108, 0.0748, 0.0763, 0.2265, 0.1488, 0.0589, 0.0446,\n",
      "        0.1631, 0.0324, 0.1171, 0.1825, 0.1675, 0.0400, 0.1658, 0.0364, 0.3001,\n",
      "        0.0576, 0.1636, 0.1774, 0.0785, 0.1212, 0.1049, 0.1251, 0.0511, 0.2187,\n",
      "        0.0680, 0.1418, 0.0825, 0.0893, 0.0169, 0.0345, 0.1353, 0.1175, 0.0745,\n",
      "        0.1031, 0.0969, 0.1109, 0.1145, 0.0706, 0.1284, 0.0493, 0.0458, 0.1950,\n",
      "        0.0689, 0.1411, 0.1491, 0.1219, 0.0612, 0.0553, 0.0428, 0.0904, 0.1700,\n",
      "        0.0602, 0.1675, 0.0577, 0.2367, 0.1076, 0.1238, 0.1520, 0.1038, 0.0478,\n",
      "        0.1136, 0.0373, 0.1862, 0.0564, 0.0710, 0.1805, 0.1713, 0.0768, 0.1131,\n",
      "        0.0292, 0.2273, 0.0225, 0.0738, 0.0834, 0.1440, 0.1440, 0.0840, 0.0208,\n",
      "        0.1849, 0.1037, 0.1606, 0.0829, 0.1351, 0.0613, 0.0574, 0.2387, 0.0604,\n",
      "        0.1572, 0.1471, 0.0851, 0.0365, 0.0474, 0.0419, 0.0263, 0.1657, 0.0795,\n",
      "        0.1833, 0.1130, 0.0446, 0.0725, 0.0425, 0.1307]) tensor(0.6038) tensor(118.3007)\n",
      "Chosen edges: tensor([[ 0,  0,  0,  ..., 14, 14, 14],\n",
      "        [ 0,  1,  2,  ..., 59, 61, 63]]) 726\n"
     ]
    },
    {
     "name": "stderr",
     "output_type": "stream",
     "text": [
      "100%|██████████| 51/51 [00:01<00:00, 50.44it/s]\n"
     ]
    },
    {
     "name": "stdout",
     "output_type": "stream",
     "text": [
      "Fine-Tune Epoch 1/10 | Train Loss: 3.5629 | Val Loss: 2.7231\n"
     ]
    },
    {
     "name": "stderr",
     "output_type": "stream",
     "text": [
      "100%|██████████| 51/51 [00:01<00:00, 48.30it/s]\n"
     ]
    },
    {
     "name": "stdout",
     "output_type": "stream",
     "text": [
      "Fine-Tune Epoch 2/10 | Train Loss: 3.2934 | Val Loss: 2.4970\n"
     ]
    },
    {
     "name": "stderr",
     "output_type": "stream",
     "text": [
      "100%|██████████| 51/51 [00:01<00:00, 43.91it/s]\n"
     ]
    },
    {
     "name": "stdout",
     "output_type": "stream",
     "text": [
      "Fine-Tune Epoch 3/10 | Train Loss: 3.0830 | Val Loss: 2.3383\n"
     ]
    },
    {
     "name": "stderr",
     "output_type": "stream",
     "text": [
      "100%|██████████| 51/51 [00:00<00:00, 52.18it/s]\n"
     ]
    },
    {
     "name": "stdout",
     "output_type": "stream",
     "text": [
      "Fine-Tune Epoch 4/10 | Train Loss: 2.9360 | Val Loss: 2.2311\n"
     ]
    },
    {
     "name": "stderr",
     "output_type": "stream",
     "text": [
      "100%|██████████| 51/51 [00:00<00:00, 52.91it/s]\n"
     ]
    },
    {
     "name": "stdout",
     "output_type": "stream",
     "text": [
      "Fine-Tune Epoch 5/10 | Train Loss: 2.8262 | Val Loss: 2.1582\n"
     ]
    },
    {
     "name": "stderr",
     "output_type": "stream",
     "text": [
      "100%|██████████| 51/51 [00:01<00:00, 47.43it/s]\n"
     ]
    },
    {
     "name": "stdout",
     "output_type": "stream",
     "text": [
      "Fine-Tune Epoch 6/10 | Train Loss: 2.7177 | Val Loss: 2.1085\n"
     ]
    },
    {
     "name": "stderr",
     "output_type": "stream",
     "text": [
      "100%|██████████| 51/51 [00:00<00:00, 51.58it/s]\n"
     ]
    },
    {
     "name": "stdout",
     "output_type": "stream",
     "text": [
      "Fine-Tune Epoch 7/10 | Train Loss: 2.6743 | Val Loss: 2.0721\n"
     ]
    },
    {
     "name": "stderr",
     "output_type": "stream",
     "text": [
      "100%|██████████| 51/51 [00:00<00:00, 52.94it/s]\n"
     ]
    },
    {
     "name": "stdout",
     "output_type": "stream",
     "text": [
      "Fine-Tune Epoch 8/10 | Train Loss: 2.6035 | Val Loss: 2.0449\n"
     ]
    },
    {
     "name": "stderr",
     "output_type": "stream",
     "text": [
      "100%|██████████| 51/51 [00:01<00:00, 47.34it/s]\n"
     ]
    },
    {
     "name": "stdout",
     "output_type": "stream",
     "text": [
      "Fine-Tune Epoch 9/10 | Train Loss: 2.5745 | Val Loss: 2.0243\n"
     ]
    },
    {
     "name": "stderr",
     "output_type": "stream",
     "text": [
      "100%|██████████| 51/51 [00:00<00:00, 52.62it/s]\n"
     ]
    },
    {
     "name": "stdout",
     "output_type": "stream",
     "text": [
      "Fine-Tune Epoch 10/10 | Train Loss: 2.5176 | Val Loss: 2.0082\n"
     ]
    },
    {
     "name": "stderr",
     "output_type": "stream",
     "text": [
      "100%|██████████| 51/51 [00:01<00:00, 29.38it/s]\n"
     ]
    },
    {
     "name": "stdout",
     "output_type": "stream",
     "text": [
      "Epoch 11/50 | Train Loss: 2.2765 | Val Loss: 25.6942 | Val Accuracy: 0.3435\n"
     ]
    },
    {
     "name": "stderr",
     "output_type": "stream",
     "text": [
      "100%|██████████| 51/51 [00:01<00:00, 29.73it/s]\n"
     ]
    },
    {
     "name": "stdout",
     "output_type": "stream",
     "text": [
      "Epoch 12/50 | Train Loss: 2.1290 | Val Loss: 25.3857 | Val Accuracy: 0.3510\n"
     ]
    },
    {
     "name": "stderr",
     "output_type": "stream",
     "text": [
      "100%|██████████| 51/51 [00:01<00:00, 31.79it/s]\n"
     ]
    },
    {
     "name": "stdout",
     "output_type": "stream",
     "text": [
      "Epoch 13/50 | Train Loss: 2.0935 | Val Loss: 25.1522 | Val Accuracy: 0.3571\n"
     ]
    },
    {
     "name": "stderr",
     "output_type": "stream",
     "text": [
      "100%|██████████| 51/51 [00:01<00:00, 30.20it/s]\n"
     ]
    },
    {
     "name": "stdout",
     "output_type": "stream",
     "text": [
      "Epoch 14/50 | Train Loss: 2.0753 | Val Loss: 25.0282 | Val Accuracy: 0.3576\n"
     ]
    },
    {
     "name": "stderr",
     "output_type": "stream",
     "text": [
      "100%|██████████| 51/51 [00:01<00:00, 31.51it/s]\n"
     ]
    },
    {
     "name": "stdout",
     "output_type": "stream",
     "text": [
      "Epoch 15/50 | Train Loss: 2.0630 | Val Loss: 24.9215 | Val Accuracy: 0.3576\n"
     ]
    },
    {
     "name": "stderr",
     "output_type": "stream",
     "text": [
      "100%|██████████| 51/51 [00:01<00:00, 28.64it/s]\n"
     ]
    },
    {
     "name": "stdout",
     "output_type": "stream",
     "text": [
      "Epoch 16/50 | Train Loss: 2.0474 | Val Loss: 24.8414 | Val Accuracy: 0.3579\n"
     ]
    },
    {
     "name": "stderr",
     "output_type": "stream",
     "text": [
      "100%|██████████| 51/51 [00:01<00:00, 32.75it/s]\n"
     ]
    },
    {
     "name": "stdout",
     "output_type": "stream",
     "text": [
      "Epoch 17/50 | Train Loss: 2.0433 | Val Loss: 24.7721 | Val Accuracy: 0.3594\n",
      "Edge metrics: tensor([8.4596e-02, 2.5172e-01, 1.3429e-01, 1.1326e-01, 1.0044e-01, 1.5061e-01,\n",
      "        9.0818e-02, 3.3055e-01, 2.5413e-02, 8.6163e-02, 6.2369e-02, 1.6445e-01,\n",
      "        3.2887e-02, 1.7057e-01, 5.5248e-02, 3.4131e-02, 1.2539e-01, 3.7346e-02,\n",
      "        9.2676e-02, 1.2483e-01, 2.4694e-01, 2.0004e-02, 6.0773e-03, 6.3072e-03,\n",
      "        5.5655e-06, 2.1625e-02, 1.3518e-02, 1.0489e-02, 1.6638e-02, 1.0786e-02,\n",
      "        2.5440e-03, 3.8659e-05, 1.9976e-06, 2.8433e-02, 7.1361e-03, 1.3106e-02,\n",
      "        4.9599e-03, 2.2592e-02, 8.3664e-03, 1.5640e-02, 2.9203e-02, 1.7529e-02,\n",
      "        3.4517e-03, 2.4296e-02, 4.5409e-03, 2.1708e-02, 1.1372e-02, 2.5029e-02,\n",
      "        2.7751e-02, 8.7249e-03, 1.0073e-02, 1.7499e-02, 7.8610e-03, 2.0860e-02,\n",
      "        1.3196e-02, 2.9937e-02, 2.5225e-02, 1.2759e-02, 6.9820e-03, 8.2806e-03,\n",
      "        4.6908e-03, 1.6884e-02, 3.4922e-02, 1.7778e-02, 5.7844e-02, 7.9041e-03,\n",
      "        3.0359e-03, 7.6741e-03, 3.2686e-02, 1.5914e-02, 3.3687e-02, 6.9939e-03,\n",
      "        1.5714e-02, 4.4512e-03, 2.2915e-02, 3.0002e-02, 3.2020e-03, 2.4784e-02,\n",
      "        1.0424e-02, 1.0462e-02, 8.5657e-03, 2.1387e-02, 9.4393e-03, 3.3121e-02,\n",
      "        2.6169e-02, 3.0599e-02, 4.2004e-03, 6.0422e-02, 8.0509e-02, 7.1129e-02,\n",
      "        1.0696e-01, 2.5217e-02, 3.0787e-02, 1.3766e-01, 3.1194e-01, 1.6217e-02,\n",
      "        7.7652e-03, 3.4685e-02, 1.3132e-02, 3.2856e-04, 1.2824e-02, 4.3719e-02,\n",
      "        6.3163e-02, 1.6391e-02, 6.2519e-02, 1.6547e-02, 2.6140e-02, 3.1550e-02,\n",
      "        3.5827e-03, 1.8570e-02, 3.8595e-02, 4.2296e-02, 1.2521e-01, 3.2738e-03,\n",
      "        1.7533e-01, 1.8956e-01, 2.0891e-02, 1.0766e-03, 3.9078e-02, 4.0205e-02,\n",
      "        6.5905e-02, 4.3727e-02, 5.0110e-02, 5.8932e-02, 7.0545e-02, 9.6943e-02,\n",
      "        2.8684e-02, 5.9109e-02, 8.2649e-02, 3.4985e-02, 1.1713e-01, 3.2308e-01,\n",
      "        2.3225e-02, 1.5479e-01, 1.8575e-03, 7.9749e-02, 9.8916e-02, 6.2927e-02,\n",
      "        7.9829e-02, 1.3276e-01, 5.9183e-02, 2.7926e-01, 2.5734e-01, 1.5067e-02,\n",
      "        2.8815e-01, 6.7798e-02, 9.8329e-02, 1.0446e-01, 2.9149e-02, 7.1643e-03,\n",
      "        2.5528e-03, 7.6142e-06, 8.5962e-02, 1.6298e-02, 5.6649e-03, 2.7196e-04,\n",
      "        6.3968e-06, 6.5046e-02, 9.5458e-03, 1.9506e-02, 3.9949e-02, 7.5487e-02,\n",
      "        2.8802e-02, 3.9013e-02, 4.7792e-02, 3.9898e-02, 3.4438e-02, 8.5830e-03,\n",
      "        7.3235e-02, 1.8817e-02, 6.0857e-02, 1.1792e-02, 3.8431e-02, 1.6986e-02,\n",
      "        1.0977e-01, 2.6951e-02, 2.1881e-02, 1.4804e-02, 7.9669e-02, 1.1301e-01,\n",
      "        2.0807e-02, 2.2096e-03, 1.1961e-02, 8.1555e-02, 2.0465e-02, 6.2437e-02,\n",
      "        1.2343e-02, 4.6550e-02, 8.1421e-02, 2.0049e-03, 1.8313e-02, 2.3395e-02,\n",
      "        2.2279e-02, 4.1413e-02, 5.6247e-02, 6.1482e-02, 1.9240e-01, 1.2991e-02,\n",
      "        4.4851e-02, 3.3150e-02, 4.4835e-02, 1.6767e-01, 1.2131e-01, 5.4824e-02,\n",
      "        1.4709e-01, 4.9373e-02, 1.3362e-01, 2.3227e-02, 1.0564e-01, 1.6432e-01,\n",
      "        1.3302e-01, 1.8364e-01, 1.3448e-02, 6.7403e-02, 7.1179e-02, 8.3696e-02,\n",
      "        7.0056e-02, 8.5147e-02, 2.2095e-01, 2.6166e-02, 3.8759e-02, 1.1384e-02,\n",
      "        2.6257e-03, 4.0075e-02, 4.1680e-02, 4.7007e-02, 5.7121e-02, 5.3907e-02,\n",
      "        4.0660e-02, 1.2891e-01, 3.1162e-01, 1.2510e-02, 1.0418e-01, 1.4010e-01,\n",
      "        1.0415e-01, 6.5182e-02, 1.0965e-01, 1.0357e-05, 1.2083e-01, 0.0000e+00,\n",
      "        9.5083e-02, 5.9042e-02, 1.3343e-02, 5.4606e-03, 1.8213e-04, 8.3687e-02,\n",
      "        4.0965e-02, 2.9936e-02, 4.3845e-02, 4.1166e-02, 4.2724e-02, 1.7413e-02,\n",
      "        2.5409e-02, 2.3541e-02, 8.4724e-02, 2.0655e-01, 7.7306e-02, 2.7959e-02,\n",
      "        1.1706e-01, 1.8356e-02, 8.8613e-02, 7.4444e-02, 5.7966e-02, 4.6850e-02,\n",
      "        3.7298e-02, 1.7438e-01, 9.3152e-02, 3.5726e-02, 3.6390e-02, 8.7441e-02,\n",
      "        1.0442e-01, 1.0746e-01, 1.3276e-01, 2.8681e-02, 1.8416e-02, 1.8135e-02,\n",
      "        1.9862e-01, 9.0334e-02, 2.9930e-01, 2.7745e-02, 2.1239e-02, 1.7863e-02,\n",
      "        1.0226e-04, 1.6068e-01, 2.3056e-01, 9.4487e-03, 1.0199e-01, 9.8673e-02,\n",
      "        5.2171e-02, 4.5965e-03, 1.5271e-04, 2.0844e-01, 6.1819e-02, 9.0442e-02,\n",
      "        2.6593e-02, 8.1970e-02, 1.1868e-01, 1.3094e-03, 0.0000e+00, 1.3934e-01,\n",
      "        4.5961e-02, 6.0211e-02, 1.0006e-01, 1.3671e-01, 2.6150e-02, 8.2008e-02,\n",
      "        2.3038e-02, 1.5499e-01, 1.0699e-01, 0.0000e+00, 0.0000e+00, 2.4229e-02,\n",
      "        1.5852e-01, 3.1605e-01, 9.4260e-02, 4.8972e-02, 9.7383e-02, 6.3271e-02,\n",
      "        1.0831e-01, 0.0000e+00, 2.2358e-01, 3.0404e-01, 2.2003e-02, 3.7447e-02,\n",
      "        7.1347e-02, 0.0000e+00, 6.0426e-02, 1.0771e-01, 7.3281e-03, 1.2952e-01,\n",
      "        1.0662e-01, 1.6132e-01, 2.4715e-02, 1.1471e-01, 8.4672e-03, 5.7378e-02,\n",
      "        3.3921e-02, 2.7218e-01, 7.4018e-02, 1.9487e-01, 1.1401e-01, 6.5644e-02,\n",
      "        2.7090e-02, 1.6635e-04, 9.2672e-02, 3.5467e-02, 6.2592e-02, 6.1422e-02,\n",
      "        7.1855e-02, 2.7569e-02, 3.9504e-05, 0.0000e+00, 6.9260e-03, 6.9703e-02,\n",
      "        7.6688e-02, 1.8128e-01, 4.9409e-02, 2.0569e-01, 3.0993e-01, 7.3970e-02,\n",
      "        1.8705e-02, 1.6403e-01, 4.9274e-02, 2.3199e-01, 0.0000e+00, 4.8403e-02,\n",
      "        1.2657e-01, 4.8154e-02, 4.7006e-02, 6.6998e-02, 1.4615e-01, 2.5830e-01,\n",
      "        9.5067e-02, 2.4681e-02, 1.2276e-01, 0.0000e+00, 1.0845e-01, 3.0433e-01,\n",
      "        1.1359e-01, 2.8081e-01, 1.1770e-01, 1.3087e-02, 4.1607e-02, 3.7375e-01,\n",
      "        1.7500e-01, 5.5473e-02, 1.1557e-01, 5.0369e-02, 7.5039e-02, 1.2584e-01,\n",
      "        2.4259e-01, 0.0000e+00, 3.0071e-02, 9.8643e-02, 3.0908e-03, 0.0000e+00,\n",
      "        4.4577e-02, 1.4273e-01, 0.0000e+00, 4.2700e-02, 6.8856e-04, 2.1032e-01,\n",
      "        1.6495e-02, 8.3108e-02, 8.2200e-02, 0.0000e+00, 4.6452e-02, 1.9202e-04,\n",
      "        1.0024e-03, 2.1107e-01, 2.5669e-02, 6.1097e-02, 8.4004e-02, 4.9691e-02,\n",
      "        4.6465e-02, 1.1370e-01, 1.4320e-01, 3.7081e-01, 2.3070e-02, 3.6758e-01,\n",
      "        0.0000e+00, 3.9630e-01, 6.7314e-02, 9.1989e-03, 8.7196e-02, 1.4896e-01,\n",
      "        2.8306e-01, 1.6702e-01, 4.7249e-02, 6.6048e-02, 8.9049e-02, 1.9284e-01,\n",
      "        4.2491e-01, 1.3204e-01, 1.7298e-01, 1.6690e-01, 1.5442e-01, 2.7064e-01,\n",
      "        3.4837e-02, 3.6457e-01, 8.7691e-02, 3.1929e-02, 2.1739e-02, 1.9040e-01,\n",
      "        2.7719e-02, 3.3522e-01, 5.4099e-02, 4.2568e-02, 4.2106e-02, 5.3576e-01,\n",
      "        2.2681e-02, 5.5092e-02, 1.5505e-01, 1.1551e-01, 6.5614e-02, 8.9110e-02,\n",
      "        6.3906e-02, 2.0150e-01, 1.8895e-01, 7.8033e-02, 3.3884e-05, 0.0000e+00,\n",
      "        9.9313e-02, 6.4419e-03, 4.1232e-02, 1.8447e-06, 1.3090e-01, 3.4691e-02,\n",
      "        5.6653e-02, 2.7903e-02, 1.8271e-01, 6.3845e-02, 3.0564e-02, 1.0126e-02,\n",
      "        2.0674e-02, 1.0497e-01, 6.9366e-02, 7.0600e-02, 1.6015e-02, 3.2593e-02,\n",
      "        9.7589e-02, 3.6256e-02, 5.7184e-02, 4.4381e-02, 2.7835e-01, 4.3799e-02,\n",
      "        1.1765e-01, 1.4737e-01, 3.7510e-02, 0.0000e+00, 5.4498e-02, 6.0676e-02,\n",
      "        6.3994e-02, 2.6993e-02, 4.9459e-02, 1.6222e-01, 1.2191e-01, 2.1711e-02,\n",
      "        4.4454e-02, 5.0394e-02, 3.8600e-02, 1.4562e-01, 1.7723e-01, 5.1670e-03,\n",
      "        2.3334e-05, 0.0000e+00, 3.0477e-02, 1.6755e-02, 1.1298e-01, 5.9785e-02,\n",
      "        3.1068e-02, 1.1312e-05, 2.7519e-02, 3.1353e-02, 6.3000e-02, 9.4916e-02,\n",
      "        2.4067e-02, 3.3599e-02, 1.5260e-01, 7.5130e-03, 2.8703e-02, 9.7021e-02,\n",
      "        1.6584e-01, 1.2841e-01, 4.1437e-02, 1.5025e-01, 1.5268e-02, 1.3780e-01,\n",
      "        1.1599e-01, 8.7065e-02, 7.4326e-02, 5.9075e-02, 3.1632e-02, 9.2689e-02,\n",
      "        2.8175e-01, 1.7762e-02, 5.8965e-03, 7.9974e-02, 7.8665e-02, 6.2358e-02,\n",
      "        1.0175e-01, 1.3155e-01, 4.8253e-02, 2.2565e-02, 5.8130e-02, 2.3809e-02,\n",
      "        5.6168e-02, 2.8143e-02, 1.9201e-01, 1.4077e-02, 1.3407e-02, 3.1738e-05,\n",
      "        4.4580e-02, 3.0253e-02, 1.7301e-02, 8.8286e-02, 8.3918e-02, 2.8429e-02,\n",
      "        1.1866e-05, 2.2088e-01, 2.7110e-02, 7.8358e-02, 1.1381e-02, 1.5039e-01,\n",
      "        7.3781e-02, 4.9682e-02, 9.6110e-02, 1.5602e-01, 6.2881e-02, 1.6701e-01,\n",
      "        1.0975e-02, 1.3456e-01, 9.7371e-03, 1.0744e-01, 1.6398e-01, 1.7855e-01,\n",
      "        2.5180e-02, 1.9837e-01, 1.1733e-01, 1.3423e-01, 1.0510e-01, 2.6010e-02,\n",
      "        5.7998e-02, 9.9132e-02, 9.8434e-02, 1.5540e-01, 7.5510e-02, 5.4244e-02,\n",
      "        2.9723e-02, 1.4848e-02, 4.1832e-02, 4.9387e-02, 7.8570e-02, 5.6541e-02,\n",
      "        1.9745e-01, 1.1269e-01, 1.6581e-02, 2.3876e-02, 1.9617e-03, 1.4858e-02,\n",
      "        7.8748e-02, 2.8153e-01, 1.8736e-02, 1.9407e-02, 4.3381e-05, 7.5909e-02,\n",
      "        5.2069e-02, 6.9126e-02, 1.0423e-01, 8.0701e-02, 6.2441e-03, 1.1887e-03,\n",
      "        2.9579e-05, 1.5749e-01, 2.4834e-02, 1.0811e-01, 1.5462e-02, 1.4420e-01,\n",
      "        1.2293e-02, 1.1308e-01, 2.4703e-01, 8.8247e-02, 7.2095e-02, 1.3146e-02,\n",
      "        1.3126e-01, 2.3379e-01, 4.2710e-02, 1.1757e-01, 1.0155e-01, 1.5901e-01,\n",
      "        6.5371e-02, 1.8690e-01, 5.6672e-02, 1.4051e-01, 3.9584e-01, 1.0921e-01,\n",
      "        3.8642e-02, 7.9030e-02, 2.9721e-01, 3.7249e-02, 2.0291e-01, 2.5401e-01,\n",
      "        5.0361e-02, 1.0850e-02, 2.4278e-02, 1.4349e-01, 1.4816e-02, 6.0854e-02,\n",
      "        1.4791e-01, 3.9487e-01, 8.6851e-02, 5.0206e-02, 7.6862e-02, 2.3816e-01,\n",
      "        1.1597e-01, 0.0000e+00, 6.1685e-02, 1.1081e-01, 5.8431e-02, 1.5226e-01,\n",
      "        1.4626e-01, 1.0751e-01, 1.2313e-02, 1.8892e-02, 1.4518e-02, 3.1297e-03,\n",
      "        3.8298e-02, 1.6446e-02, 3.3478e-02, 7.6691e-02, 3.4656e-02, 1.4329e-02,\n",
      "        1.0064e-01, 4.0588e-02, 6.4500e-02, 2.9507e-02, 2.4442e-02, 1.9400e-02,\n",
      "        1.5150e-02, 1.3502e-01, 3.7865e-02, 3.4660e-04, 4.2489e-02, 6.3827e-02,\n",
      "        1.5269e-02, 6.2752e-02, 1.0796e-02, 3.0331e-02, 0.0000e+00, 4.2325e-04,\n",
      "        1.6229e-01, 1.8845e-02, 3.3943e-02, 6.7775e-02, 4.7987e-02, 2.5745e-02,\n",
      "        2.1689e-03, 0.0000e+00, 4.8436e-01, 4.4064e-04, 1.1078e-01, 1.1005e-02,\n",
      "        4.5575e-01, 4.1741e-02, 6.8872e-02, 1.1374e-01, 7.4838e-02, 3.4584e-01,\n",
      "        1.7562e-02, 6.5427e-02, 2.3196e-01, 1.5527e-01, 8.1808e-02, 3.7309e-01,\n",
      "        3.8103e-01, 2.1262e-03, 1.4042e-01, 2.2690e-01, 2.2857e-01, 1.0715e-01,\n",
      "        7.5304e-02, 3.4636e-01, 1.3978e-02, 6.6665e-02, 1.4063e-01, 0.0000e+00,\n",
      "        7.0680e-02, 2.1907e-01, 3.0421e-02, 0.0000e+00, 1.3819e-01, 6.3757e-01,\n",
      "        2.2305e-02, 6.7396e-02, 1.0356e-01, 5.7113e-02, 3.2695e-02, 3.2049e-01,\n",
      "        8.0777e-02, 2.4560e-01, 6.5620e-02, 0.0000e+00, 8.2871e-03, 1.9431e-05,\n",
      "        1.7684e-02, 3.9578e-02, 5.2028e-02, 3.5887e-02, 1.1226e-01, 1.7505e-03,\n",
      "        2.1918e-05, 8.1647e-02, 5.6625e-02, 6.3093e-02, 2.2373e-02, 1.4705e-02,\n",
      "        1.0884e-02, 1.9997e-02, 6.1637e-02, 1.6253e-02, 8.2384e-02, 6.5782e-02,\n",
      "        1.5779e-02, 1.4477e-01, 5.4685e-02, 3.5716e-02, 4.5472e-02, 5.4586e-02,\n",
      "        5.7777e-02, 1.1864e-01, 8.4852e-02, 8.7947e-03, 4.2716e-02, 2.3047e-02,\n",
      "        2.0216e-02, 1.4682e-01, 5.1672e-02, 1.0296e-01, 3.8540e-02, 6.9365e-03,\n",
      "        3.0652e-02, 3.8711e-02, 1.2767e-01, 2.3898e-02, 6.5032e-02, 7.8028e-02,\n",
      "        6.8049e-02, 3.6715e-02, 2.9915e-02, 9.3258e-03, 6.6858e-02, 7.5676e-02,\n",
      "        8.8365e-02, 1.3360e-01, 1.0763e-01, 1.6540e-02, 1.9907e-04, 2.2649e-01,\n",
      "        2.2869e-02, 3.2214e-02, 5.2682e-02, 4.2826e-02, 5.2098e-02, 2.7552e-03,\n",
      "        1.7121e-04, 1.4837e-01, 3.0195e-02, 3.0130e-02, 2.3025e-02, 3.7642e-02,\n",
      "        1.3491e-02, 0.0000e+00, 2.9150e-02, 8.0722e-02, 1.9290e-02, 1.9315e-01,\n",
      "        5.3556e-02, 1.4712e-01, 2.0924e-02, 0.0000e+00, 8.4538e-02, 1.2611e-01,\n",
      "        9.5927e-02, 6.3239e-02, 0.0000e+00, 1.4424e-01, 1.2162e-01, 1.9531e-01,\n",
      "        1.7043e-01, 2.5284e-02, 3.6385e-02, 1.6688e-01, 2.1163e-01, 8.6839e-02,\n",
      "        1.2242e-01, 5.0482e-02, 1.5738e-02, 2.9123e-04, 4.4441e-02, 0.0000e+00,\n",
      "        1.2047e-01, 7.4634e-02, 4.1123e-02, 8.7578e-02, 2.4310e-01, 2.1191e-02,\n",
      "        8.3264e-02, 1.4575e-01, 3.7167e-02, 1.9697e-02, 1.0215e-01, 3.4794e-02,\n",
      "        1.0442e-01, 1.5552e-01, 0.0000e+00, 3.0385e-02, 1.0778e-04, 1.9336e-01,\n",
      "        5.8680e-02, 4.5513e-02, 0.0000e+00, 1.3250e-02, 2.0755e-03, 1.6165e-03,\n",
      "        6.9170e-05, 2.4169e-01, 1.1907e-02, 2.7601e-02, 4.0565e-02, 6.6443e-02,\n",
      "        8.7977e-03, 7.1432e-02, 1.0131e-01, 2.2238e-01, 1.4579e-02, 5.4868e-02,\n",
      "        9.8071e-02, 1.1266e-02, 4.9442e-03, 2.2639e-02, 4.2165e-02, 4.6436e-02,\n",
      "        0.0000e+00, 2.6163e-02, 2.6995e-02, 3.0698e-01, 1.7345e-01, 1.1754e-01,\n",
      "        6.4685e-02, 1.6182e-02, 4.0392e-02, 7.6807e-02, 3.7002e-02, 1.0102e-02,\n",
      "        2.1538e-02, 6.1713e-02, 1.9173e-02, 7.7152e-02, 6.0923e-03, 8.5953e-02,\n",
      "        6.1569e-02, 1.3537e-01, 9.4527e-02, 5.5583e-02, 7.2197e-03, 1.3852e-02,\n",
      "        3.7642e-02, 2.9810e-02, 1.0921e-01, 6.9149e-02, 5.7283e-02, 3.5646e-05,\n",
      "        2.0896e-03, 3.7825e-02, 3.1199e-02, 1.5177e-01, 1.1505e-02, 1.7451e-02,\n",
      "        4.2887e-06, 0.0000e+00, 0.0000e+00, 2.8364e-02, 0.0000e+00, 1.1488e-01,\n",
      "        1.0170e-02, 1.2705e-01, 1.4134e-01, 8.0031e-02, 0.0000e+00, 1.0374e-01,\n",
      "        8.1326e-03, 8.5925e-02, 6.0096e-02, 4.1105e-02, 2.7011e-02, 4.1054e-02,\n",
      "        6.2704e-02, 1.2388e-01, 6.4620e-02, 2.7008e-02, 9.3004e-02, 5.8925e-02,\n",
      "        7.7341e-02, 1.3615e-01, 2.4493e-02, 0.0000e+00, 9.6877e-02, 1.7636e-03,\n",
      "        1.8445e-02, 3.8308e-02, 2.0992e-02, 1.2868e-01, 3.7910e-02, 2.6577e-02,\n",
      "        1.8561e-01, 4.8872e-02, 5.2007e-02, 5.0884e-02, 4.2414e-02, 1.9186e-01]) tensor(0.6376) tensor(71.8292)\n",
      "Chosen edges: tensor([[  0,   0,   0,   0,   0,   0,   0,   0,   0,   0,   0,   0,   0,   0,\n",
      "           0,   1,   1,   2,   3,   3,   3,   3,   4,   4,   5,   5,   5,   5,\n",
      "           5,   6,   6,   6,   6,   6,   6,   6,   6,   6,   6,   7,   7,   7,\n",
      "           7,   7,   7,   7,   7,   7,   8,   8,   8,   9,   9,   9,   9,   9,\n",
      "           9,   9,   9,   9,   9,   9,   9,   9,  10,  11,  11,  11,  11,  11,\n",
      "          11,  12,  12,  12,  13,  13,  13,  13,  13,  13,  14,  14,  14,  14,\n",
      "          14,  14,   0,   0,   0,   0,   0,   0,   0,   0,   0,   0,   0,   0,\n",
      "           0,   0,   0,   0,   0,   0,   0,   0,   0,   0,   0,   1,   1,   1,\n",
      "           1,   1,   1,   1,   1,   1,   1,   1,   1,   1,   1,   1,   1,   1,\n",
      "           1,   1,   1,   1,   1,   1,   1,   1,   1,   1,   1,   1,   1,   1,\n",
      "           1,   1,   1,   1,   1,   1,   3,   3,   3,   3,   3,   3,   3,   3,\n",
      "           3,   3,   3,   3,   3,   3,   3,   3,   3,   3,   3,   3,   3,   3,\n",
      "           3,   3,   3,   3,   3,   3,   3,   3,   3,   3,   3,   3,   4,   4,\n",
      "           4,   4,   4,   4,   4,   4,   4,   4,   4,   4,   4,   4,   4,   4,\n",
      "           4,   4,   4,   4,   4,   4,   4,   4,   4,   4,   4,   4,   4,   4,\n",
      "           4,   4,   4,   4,   4,   4,   4,   4,   4,   5,   5,   5,   5,   5,\n",
      "           5,   5,   5,   5,   5,   5,   5,   5,   5,   5,   5,   5,   5,   5,\n",
      "           5,   5,   6,   6,   6,   6,   6,   6,   6,   6,   6,   6,   6,   6,\n",
      "           6,   6,   6,   6,   6,   6,   6,   6,   6,   6,   6,   6,   7,   7,\n",
      "           7,   7,   7,   7,   7,   7,   7,   7,   7,   7,   7,   7,   7,   7,\n",
      "           7,   7,   7,   7,   7,   7,   7,   7,   7,   7,   7,   7,   7,   7,\n",
      "           8,   8,   8,   8,   8,   8,   8,   8,   8,   8,   8,   8,   8,   8,\n",
      "           8,   8,   8,   8,   8,   8,   8,   8,   8,   8,   8,   8,   8,   8,\n",
      "           8,   8,   8,   8,   8,   8,   8,   8,   8,   8,   8,   8,   8,   8,\n",
      "           8,   9,   9,   9,   9,  10,  10,  10,  10,  10,  10,  10,  10,  10,\n",
      "          10,  10,  10,  10,  10,  10,  10,  10,  10,  10,  10,  10,  10,  10,\n",
      "          10,  10,  10,  10,  10,  10,  10,  10,  10,  10,  10,  10,  10,  10,\n",
      "          11,  11,  11,  11,  11,  11,  11,  11,  11,  11,  11,  11,  11,  11,\n",
      "          11,  11,  11,  11,  11,  11,  11,  11,  11,  11,  12,  12,  12,  12,\n",
      "          12,  12,  12,  12,  12,  12,  12,  12,  12,  12,  12,  12,  12,  12,\n",
      "          12,  12,  12,  12,  12,  12,  12,  12,  12,  12,  12,  12,  12,  12,\n",
      "          13,  13,  13,  13,  13,  13,  13,  13,  13,  13,  13,  13,  13,  13,\n",
      "          13,  13,  13,  13,  13,  13,  13,  13,  13,  14,  14,  14,  14,  14,\n",
      "          14,  14,  14,  14,  14,  14,  14,  14,  14,  14,  14,  14,  14,  14,\n",
      "          14,  14,  14],\n",
      "        [  7,  12,  19,  20,  22,  27,  30,  35,  38,  39,  41,  49,  50,  54,\n",
      "          63,  33,  54,  43,  31,  33,  39,  48,  33,  54,  23,  26,  53,  60,\n",
      "          62,  23,  29,  31,  33,  38,  46,  48,  53,  54,  62,  31,  33,  39,\n",
      "          46,  48,  52,  53,  54,  62,  31,  33,  39,   4,  12,  19,  27,  30,\n",
      "          35,  41,  43,  47,  49,  54,  62,  63,  54,  31,  33,  39,  48,  54,\n",
      "          61,  33,  39,  54,  22,  31,  33,  37,  39,  54,  33,  39,  53,  54,\n",
      "          60,  62,  64,  65,  66,  68,  70,  71,  75,  84,  85,  86,  88,  90,\n",
      "          91,  92,  95,  96,  99, 100, 101, 102, 106, 107, 108, 113, 114, 116,\n",
      "         117, 118, 121, 122, 123, 125, 126, 129, 131, 132, 133, 135, 137, 138,\n",
      "         142, 143, 144, 146, 147, 148, 150, 151, 154, 156, 157, 159, 160, 161,\n",
      "         163, 165, 167, 168, 169, 170, 171, 174, 176, 177, 178, 183, 184, 185,\n",
      "         187, 188, 189, 191, 193, 196, 199, 200, 201, 202, 204, 206, 207, 208,\n",
      "         209, 210, 213, 214, 215, 216, 217, 218, 219, 220, 223, 227, 231, 233,\n",
      "         234, 239, 241, 242, 245, 246, 247, 249, 251, 252, 254, 255, 256, 257,\n",
      "         259, 260, 261, 262, 263, 264, 265, 266, 267, 269, 270, 273, 275, 276,\n",
      "         279, 281, 282, 283, 284, 285, 286, 287, 288, 289, 292, 296, 298, 300,\n",
      "         301, 305, 306, 307, 310, 312, 314, 316, 317, 320, 321, 322, 325, 326,\n",
      "         329, 331, 332, 338, 339, 344, 345, 348, 351, 352, 353, 355, 357, 358,\n",
      "         359, 360, 361, 363, 364, 367, 368, 369, 370, 371, 374, 376, 378, 385,\n",
      "         386, 389, 391, 393, 394, 396, 397, 398, 399, 401, 403, 404, 405, 407,\n",
      "         408, 409, 410, 412, 413, 414, 415, 416, 417, 422, 423, 424, 425, 430,\n",
      "         431, 435, 436, 437, 438, 439, 443, 445, 447, 449, 450, 451, 452, 454,\n",
      "         455, 457, 458, 459, 460, 461, 462, 463, 464, 465, 467, 468, 470, 471,\n",
      "         472, 475, 477, 478, 479, 480, 481, 482, 483, 484, 486, 487, 488, 489,\n",
      "         490, 491, 499, 502, 504, 509, 513, 515, 520, 523, 528, 530, 532, 534,\n",
      "         535, 536, 537, 539, 540, 541, 542, 543, 544, 546, 547, 548, 549, 550,\n",
      "         551, 553, 554, 556, 557, 560, 561, 563, 564, 565, 567, 568, 569, 570,\n",
      "         576, 578, 581, 582, 583, 588, 590, 591, 593, 594, 597, 598, 599, 600,\n",
      "         605, 606, 607, 612, 614, 615, 616, 620, 621, 622, 623, 624, 627, 630,\n",
      "         632, 635, 643, 645, 646, 647, 650, 651, 652, 653, 655, 656, 657, 658,\n",
      "         661, 662, 663, 664, 665, 670, 671, 673, 674, 676, 677, 680, 682, 683,\n",
      "         687, 688, 695, 699, 701, 702, 703, 705, 706, 715, 716, 717, 718, 721,\n",
      "         725, 727, 729, 730, 731, 732, 733, 738, 739, 740, 745, 753, 755, 756,\n",
      "         757, 759, 761, 762, 766, 767, 768, 770, 771, 772, 773, 776, 781, 784,\n",
      "         786, 787, 789]]) 479\n"
     ]
    },
    {
     "name": "stderr",
     "output_type": "stream",
     "text": [
      "100%|██████████| 51/51 [00:01<00:00, 33.70it/s]\n"
     ]
    },
    {
     "name": "stdout",
     "output_type": "stream",
     "text": [
      "Fine-Tune Epoch 1/10 | Train Loss: 2.6101 | Val Loss: 2.3961\n"
     ]
    },
    {
     "name": "stderr",
     "output_type": "stream",
     "text": [
      "100%|██████████| 51/51 [00:01<00:00, 39.93it/s]\n"
     ]
    },
    {
     "name": "stdout",
     "output_type": "stream",
     "text": [
      "Fine-Tune Epoch 2/10 | Train Loss: 2.5001 | Val Loss: 2.3095\n"
     ]
    },
    {
     "name": "stderr",
     "output_type": "stream",
     "text": [
      "100%|██████████| 51/51 [00:01<00:00, 38.81it/s]\n"
     ]
    },
    {
     "name": "stdout",
     "output_type": "stream",
     "text": [
      "Fine-Tune Epoch 3/10 | Train Loss: 2.4153 | Val Loss: 2.2471\n"
     ]
    },
    {
     "name": "stderr",
     "output_type": "stream",
     "text": [
      "100%|██████████| 51/51 [00:01<00:00, 35.36it/s]\n"
     ]
    },
    {
     "name": "stdout",
     "output_type": "stream",
     "text": [
      "Fine-Tune Epoch 4/10 | Train Loss: 2.3476 | Val Loss: 2.1989\n"
     ]
    },
    {
     "name": "stderr",
     "output_type": "stream",
     "text": [
      "100%|██████████| 51/51 [00:01<00:00, 37.04it/s]\n"
     ]
    },
    {
     "name": "stdout",
     "output_type": "stream",
     "text": [
      "Fine-Tune Epoch 5/10 | Train Loss: 2.3063 | Val Loss: 2.1605\n"
     ]
    },
    {
     "name": "stderr",
     "output_type": "stream",
     "text": [
      "100%|██████████| 51/51 [00:01<00:00, 33.61it/s]\n"
     ]
    },
    {
     "name": "stdout",
     "output_type": "stream",
     "text": [
      "Fine-Tune Epoch 6/10 | Train Loss: 2.2679 | Val Loss: 2.1295\n"
     ]
    },
    {
     "name": "stderr",
     "output_type": "stream",
     "text": [
      "100%|██████████| 51/51 [00:01<00:00, 36.69it/s]\n"
     ]
    },
    {
     "name": "stdout",
     "output_type": "stream",
     "text": [
      "Fine-Tune Epoch 7/10 | Train Loss: 2.2363 | Val Loss: 2.1039\n"
     ]
    },
    {
     "name": "stderr",
     "output_type": "stream",
     "text": [
      "100%|██████████| 51/51 [00:01<00:00, 38.85it/s]\n"
     ]
    },
    {
     "name": "stdout",
     "output_type": "stream",
     "text": [
      "Fine-Tune Epoch 8/10 | Train Loss: 2.2140 | Val Loss: 2.0824\n"
     ]
    },
    {
     "name": "stderr",
     "output_type": "stream",
     "text": [
      "100%|██████████| 51/51 [00:01<00:00, 36.33it/s]\n"
     ]
    },
    {
     "name": "stdout",
     "output_type": "stream",
     "text": [
      "Fine-Tune Epoch 9/10 | Train Loss: 2.1923 | Val Loss: 2.0647\n"
     ]
    },
    {
     "name": "stderr",
     "output_type": "stream",
     "text": [
      "100%|██████████| 51/51 [00:01<00:00, 36.32it/s]\n"
     ]
    },
    {
     "name": "stdout",
     "output_type": "stream",
     "text": [
      "Fine-Tune Epoch 10/10 | Train Loss: 2.1703 | Val Loss: 2.0498\n"
     ]
    },
    {
     "name": "stderr",
     "output_type": "stream",
     "text": [
      "100%|██████████| 51/51 [00:02<00:00, 21.39it/s]\n"
     ]
    },
    {
     "name": "stdout",
     "output_type": "stream",
     "text": [
      "Epoch 18/50 | Train Loss: 2.1211 | Val Loss: 25.5773 | Val Accuracy: 0.3496\n"
     ]
    },
    {
     "name": "stderr",
     "output_type": "stream",
     "text": [
      "100%|██████████| 51/51 [00:02<00:00, 23.31it/s]\n"
     ]
    },
    {
     "name": "stdout",
     "output_type": "stream",
     "text": [
      "Epoch 19/50 | Train Loss: 2.0705 | Val Loss: 25.1828 | Val Accuracy: 0.3548\n"
     ]
    },
    {
     "name": "stderr",
     "output_type": "stream",
     "text": [
      "100%|██████████| 51/51 [00:02<00:00, 24.62it/s]\n"
     ]
    },
    {
     "name": "stdout",
     "output_type": "stream",
     "text": [
      "Epoch 20/50 | Train Loss: 2.0442 | Val Loss: 25.0166 | Val Accuracy: 0.3539\n"
     ]
    },
    {
     "name": "stderr",
     "output_type": "stream",
     "text": [
      "100%|██████████| 51/51 [00:02<00:00, 23.00it/s]\n"
     ]
    },
    {
     "name": "stdout",
     "output_type": "stream",
     "text": [
      "Epoch 21/50 | Train Loss: 2.0265 | Val Loss: 24.8891 | Val Accuracy: 0.3559\n"
     ]
    },
    {
     "name": "stderr",
     "output_type": "stream",
     "text": [
      "100%|██████████| 51/51 [00:02<00:00, 22.35it/s]\n"
     ]
    },
    {
     "name": "stdout",
     "output_type": "stream",
     "text": [
      "Epoch 22/50 | Train Loss: 2.0134 | Val Loss: 24.7947 | Val Accuracy: 0.3545\n"
     ]
    },
    {
     "name": "stderr",
     "output_type": "stream",
     "text": [
      "100%|██████████| 51/51 [00:02<00:00, 25.26it/s]\n"
     ]
    },
    {
     "name": "stdout",
     "output_type": "stream",
     "text": [
      "Epoch 23/50 | Train Loss: 2.0084 | Val Loss: 24.7248 | Val Accuracy: 0.3541\n",
      "Edge metrics: tensor([1.5465e-01, 1.1626e-01, 3.0900e-01, 7.8621e-02, 1.8294e-02, 5.3821e-03,\n",
      "        4.2282e-03, 0.0000e+00, 9.8207e-03, 4.8673e-02, 1.1157e-02, 7.1169e-03,\n",
      "        2.5437e-02, 1.2418e-02, 1.2114e-04, 4.1317e-07, 1.1067e-02, 7.8283e-03,\n",
      "        2.1948e-02, 2.0138e-02, 5.5561e-02, 1.3909e-02, 2.8690e-02, 1.9963e-02,\n",
      "        1.4200e-02, 2.1221e-02, 8.7263e-03, 7.7649e-03, 4.4993e-02, 9.5859e-03,\n",
      "        3.2352e-02, 1.7096e-03, 8.7032e-03, 1.4614e-02, 1.7715e-02, 2.9332e-03,\n",
      "        4.3098e-02, 8.3884e-03, 4.3612e-02, 1.3920e-02, 4.4219e-02, 3.0686e-02,\n",
      "        7.6759e-03, 2.0451e-03, 1.9111e-02, 2.8937e-02, 4.5834e-02, 2.2277e-02,\n",
      "        5.1449e-03, 1.3961e-02, 2.6007e-02, 1.4889e-02, 4.9088e-03, 3.2586e-02,\n",
      "        2.4540e-02, 2.4801e-02, 1.8595e-02, 1.0887e-02, 1.9718e-03, 2.7925e-02,\n",
      "        3.0546e-03, 1.3218e-02, 1.2323e-02, 1.4783e-02, 6.9527e-03, 1.1374e-02,\n",
      "        6.3045e-03, 1.3688e-02, 9.3505e-03, 1.4333e-02, 1.5995e-02, 9.5458e-03,\n",
      "        3.9963e-03, 8.4666e-02, 5.1822e-02, 1.7398e-03, 1.3720e-02, 1.4939e-01,\n",
      "        1.2812e-02, 2.0214e-02, 1.4857e-02, 1.6704e-02, 8.1546e-03, 4.9478e-02,\n",
      "        3.4420e-02, 1.4637e-01, 1.5552e-03, 1.1825e-02, 9.2756e-03, 1.1988e-01,\n",
      "        8.1407e-02, 3.6815e-02, 2.4379e-02, 1.0953e-01, 1.3893e-02, 6.2079e-03,\n",
      "        7.4593e-03, 1.7326e-02, 3.1445e-03, 4.7422e-04, 0.0000e+00, 2.9058e-02,\n",
      "        2.0576e-02, 5.9059e-04, 1.8874e-06, 4.0387e-02, 3.7887e-02, 9.2220e-02,\n",
      "        2.8693e-02, 1.2272e-01, 1.8669e-02, 2.1573e-02, 8.3627e-02, 3.4352e-03,\n",
      "        3.1039e-02, 4.0829e-03, 1.0594e-01, 6.8349e-03, 9.1248e-02, 2.1826e-02,\n",
      "        5.1889e-03, 7.0099e-02, 1.6328e-03, 2.0826e-02, 1.3657e-02, 8.3787e-02,\n",
      "        3.9318e-02, 5.2620e-04, 6.2483e-03, 3.8992e-02, 2.2393e-02, 2.0856e-02,\n",
      "        6.3061e-03, 6.6235e-02, 2.8304e-02, 3.5909e-02, 9.1310e-02, 1.1971e-02,\n",
      "        5.3041e-03, 1.2066e-02, 3.2500e-02, 5.9398e-03, 6.0924e-03, 1.4772e-01,\n",
      "        3.7505e-02, 4.5233e-02, 1.6883e-01, 6.8995e-03, 0.0000e+00, 0.0000e+00,\n",
      "        3.7068e-02, 7.9059e-03, 1.1324e-03, 3.2412e-02, 1.2993e-01, 1.0573e-02,\n",
      "        4.7328e-02, 8.9563e-02, 2.0781e-02, 3.0844e-02, 0.0000e+00, 9.1019e-03,\n",
      "        0.0000e+00, 0.0000e+00, 0.0000e+00, 9.9856e-02, 0.0000e+00, 0.0000e+00,\n",
      "        7.9526e-03, 2.2019e-02, 7.0147e-02, 1.6663e-02, 9.1665e-03, 0.0000e+00,\n",
      "        1.3862e-02, 7.0245e-03, 2.8561e-04, 5.3426e-02, 0.0000e+00, 0.0000e+00,\n",
      "        2.7244e-01, 2.7628e-02, 1.0876e-03, 0.0000e+00, 0.0000e+00, 3.8655e-02,\n",
      "        8.3944e-02, 0.0000e+00, 4.5072e-02, 4.8782e-02, 0.0000e+00, 4.7444e-02,\n",
      "        1.8644e-02, 0.0000e+00, 1.0598e-01, 2.0851e-02, 0.0000e+00, 1.2558e-01,\n",
      "        6.7647e-02, 3.2500e-05, 0.0000e+00, 5.4358e-03, 1.0865e-01, 9.8831e-02,\n",
      "        3.5929e-02, 0.0000e+00, 4.3050e-02, 2.3413e-02, 4.4091e-02, 3.8505e-02,\n",
      "        0.0000e+00, 1.7278e-02, 5.2488e-02, 0.0000e+00, 7.6581e-02, 0.0000e+00,\n",
      "        0.0000e+00, 1.0566e-03, 0.0000e+00, 3.0322e-02, 0.0000e+00, 2.1381e-02,\n",
      "        0.0000e+00, 6.9135e-02, 1.9002e-04, 5.0805e-04, 3.8112e-02, 1.0041e-01,\n",
      "        4.1483e-02, 1.2640e-01, 0.0000e+00, 0.0000e+00, 5.1425e-02, 9.7914e-02,\n",
      "        3.1143e-02, 4.1496e-02, 3.0341e-02, 2.6916e-02, 1.3426e-01, 1.0253e-02,\n",
      "        0.0000e+00, 0.0000e+00, 7.2581e-03, 3.1962e-02, 5.3102e-07, 2.7520e-02,\n",
      "        3.1557e-02, 0.0000e+00, 0.0000e+00, 2.7732e-03, 0.0000e+00, 4.9038e-02,\n",
      "        2.8960e-02, 3.3578e-02, 7.5207e-03, 2.0266e-02, 0.0000e+00, 8.8770e-02,\n",
      "        6.3832e-02, 1.1934e-03, 3.5549e-02, 5.4120e-03, 0.0000e+00, 0.0000e+00,\n",
      "        0.0000e+00, 9.0030e-02, 1.4378e-02, 6.0108e-02, 1.6333e-05, 0.0000e+00,\n",
      "        2.7855e-02, 4.1722e-02, 7.4274e-02, 0.0000e+00, 0.0000e+00, 1.6001e-02,\n",
      "        1.0941e-02, 3.4476e-02, 3.8510e-02, 2.3439e-03, 8.1138e-03, 1.7367e-02,\n",
      "        0.0000e+00, 8.7283e-03, 3.8544e-03, 4.0524e-03, 0.0000e+00, 8.0735e-03,\n",
      "        6.5297e-02, 1.0593e-02, 4.0027e-02, 6.9089e-06, 2.5101e-02, 3.7805e-03,\n",
      "        8.0406e-02, 6.3670e-03, 6.0222e-04, 0.0000e+00, 3.7331e-03, 4.8717e-02,\n",
      "        1.6448e-02, 3.4972e-02, 3.5468e-03, 7.8494e-03, 2.6592e-02, 0.0000e+00,\n",
      "        5.0236e-04, 9.5614e-03, 7.2360e-03, 0.0000e+00, 0.0000e+00, 2.1287e-03,\n",
      "        1.6467e-05, 1.9308e-02, 1.5700e-02, 1.8586e-02, 0.0000e+00, 3.0110e-02,\n",
      "        6.3214e-02, 1.5725e-04, 7.7070e-03, 2.7045e-02, 6.2283e-03, 0.0000e+00,\n",
      "        3.0107e-03, 1.8930e-03, 1.4959e-02, 1.7519e-03, 6.7585e-02, 1.4178e-03,\n",
      "        1.6738e-02, 1.4305e-02, 1.6391e-02, 4.3289e-02, 7.6002e-03, 0.0000e+00,\n",
      "        6.1540e-03, 5.3705e-04, 7.7297e-03, 0.0000e+00, 2.9858e-02, 5.1033e-03,\n",
      "        3.8439e-03, 4.9044e-02, 0.0000e+00, 2.5568e-04, 1.6836e-02, 3.5935e-02,\n",
      "        6.6192e-02, 1.3974e-02, 0.0000e+00, 0.0000e+00, 0.0000e+00, 4.6540e-03,\n",
      "        3.1203e-02, 2.2699e-03, 2.0176e-03, 2.6785e-02, 0.0000e+00, 4.2000e-02,\n",
      "        0.0000e+00, 9.7739e-03, 7.0747e-02, 0.0000e+00, 7.4461e-03, 0.0000e+00,\n",
      "        9.1054e-03, 2.9368e-02, 2.8578e-02, 3.8668e-03, 1.7112e-05, 1.4018e-02,\n",
      "        2.4824e-02, 1.9127e-02, 7.3586e-03, 1.7373e-02, 8.2268e-03, 6.3340e-03,\n",
      "        5.2113e-02, 0.0000e+00, 5.4869e-02, 4.3492e-03, 9.7982e-04, 5.3238e-02,\n",
      "        7.2779e-03, 9.1965e-02, 1.5934e-02, 2.1164e-02, 2.0525e-02, 4.4463e-02,\n",
      "        3.4282e-03, 4.9653e-03, 0.0000e+00, 6.7475e-02, 1.8144e-02, 1.4439e-01,\n",
      "        6.4997e-03, 5.2206e-05, 2.0575e-02, 4.2111e-02, 1.0074e-01, 8.9868e-02,\n",
      "        1.3721e-02, 0.0000e+00, 3.5171e-02, 9.4565e-02, 7.9187e-03, 0.0000e+00,\n",
      "        0.0000e+00, 4.0138e-02, 2.8338e-02, 7.4066e-03, 0.0000e+00, 3.5009e-02,\n",
      "        0.0000e+00, 7.5730e-02, 7.3029e-03, 4.0044e-02, 3.5317e-02, 1.1470e-02,\n",
      "        0.0000e+00, 2.6803e-02, 0.0000e+00, 3.6559e-02, 0.0000e+00, 1.0342e-02,\n",
      "        6.9944e-03, 3.9700e-03, 3.8742e-05, 1.5259e-02, 1.7602e-02, 1.7219e-01,\n",
      "        3.7223e-03, 6.3180e-02, 1.0618e-02, 0.0000e+00, 2.0136e-03, 2.2866e-02,\n",
      "        7.8307e-02, 0.0000e+00, 5.6851e-02, 2.7281e-03, 1.5693e-02, 6.7646e-02,\n",
      "        3.1333e-02, 1.0749e-02, 3.8001e-02, 2.2600e-02, 0.0000e+00, 7.1452e-03,\n",
      "        1.3078e-02, 2.4060e-02, 1.4246e-02, 0.0000e+00, 0.0000e+00, 1.2793e-01,\n",
      "        4.1112e-02, 2.2178e-02, 1.7489e-02, 3.9962e-06, 0.0000e+00, 0.0000e+00,\n",
      "        2.4301e-02, 0.0000e+00, 2.2506e-02, 0.0000e+00, 5.2299e-03, 2.8543e-02,\n",
      "        2.5185e-03, 4.1930e-02, 4.8872e-03, 3.3862e-02, 0.0000e+00, 8.9089e-05,\n",
      "        1.3880e-02, 5.9516e-02, 1.0190e-02, 9.4437e-02, 3.9929e-02, 2.3059e-02,\n",
      "        1.8621e-02, 6.0776e-02, 8.4938e-02, 3.2104e-02, 3.6222e-02, 3.3825e-02,\n",
      "        5.2400e-03, 1.8831e-02, 5.2983e-02, 2.6486e-02, 1.9970e-02, 8.7394e-02,\n",
      "        1.9110e-02, 1.3232e-01, 6.4836e-02, 2.1680e-02, 5.2597e-02, 1.9128e-02,\n",
      "        6.5114e-05, 1.2198e-02, 4.8793e-04, 7.0765e-03, 3.0249e-02, 1.9797e-02,\n",
      "        5.3359e-03, 0.0000e+00, 2.6469e-02, 3.2131e-03, 2.3099e-02, 1.4960e-02,\n",
      "        0.0000e+00, 4.3595e-02, 2.0250e-02, 5.3134e-03, 1.3909e-02, 3.7823e-02,\n",
      "        4.9269e-02, 5.2440e-02, 9.6492e-02, 4.1416e-02, 1.5572e-02, 4.2793e-03,\n",
      "        3.7650e-05, 0.0000e+00, 5.7317e-02, 7.6022e-02, 1.0854e-02, 4.3074e-02,\n",
      "        1.8753e-02, 1.3283e-02, 3.9917e-02, 4.5424e-03, 0.0000e+00, 0.0000e+00,\n",
      "        3.6375e-02, 3.1808e-03, 5.3165e-02, 0.0000e+00, 5.0854e-03, 2.3530e-03,\n",
      "        0.0000e+00, 5.9176e-03, 7.4156e-03, 0.0000e+00, 0.0000e+00, 3.7715e-03,\n",
      "        3.2031e-02, 1.6576e-02, 3.2523e-03, 2.4572e-01, 1.7097e-02, 2.3015e-02,\n",
      "        0.0000e+00, 4.8863e-02, 1.2804e-02, 0.0000e+00, 1.6795e-02, 3.5009e-02,\n",
      "        4.7664e-02, 4.9262e-02, 0.0000e+00, 2.1209e-02, 1.5636e-02, 6.4899e-02,\n",
      "        7.6120e-02, 6.9153e-03, 0.0000e+00, 8.7084e-02, 3.7475e-02, 2.7913e-02,\n",
      "        3.4925e-02, 5.1515e-02, 1.3909e-01, 9.3243e-02, 7.3872e-02, 8.5392e-02,\n",
      "        0.0000e+00, 5.3715e-02, 9.7009e-02, 0.0000e+00, 4.4811e-02, 0.0000e+00,\n",
      "        5.6953e-02, 9.3050e-02, 1.4867e-02, 0.0000e+00, 8.0223e-02, 6.8323e-02,\n",
      "        2.8691e-02, 4.7313e-02, 2.8461e-02, 1.3623e-01, 1.4964e-02, 1.5402e-01,\n",
      "        2.0935e-02, 1.8137e-02, 1.5310e-02, 2.0340e-01, 3.9914e-02, 9.2256e-02,\n",
      "        7.8083e-02, 0.0000e+00, 7.1939e-02, 3.3462e-02, 2.0768e-02, 2.9415e-02,\n",
      "        5.6728e-02, 5.4808e-02, 6.3721e-02, 8.6942e-02, 1.3683e-01, 1.5177e-02,\n",
      "        6.9993e-02, 1.0146e-01, 1.4993e-01, 3.5301e-02, 4.2325e-02, 1.9977e-02,\n",
      "        4.8983e-02, 1.3082e-01, 9.1311e-03, 3.7449e-03, 1.4169e-02, 7.6952e-02,\n",
      "        1.1575e-02, 1.0216e-01, 1.5873e-02, 4.7905e-03, 8.3815e-03, 3.4871e-02,\n",
      "        7.3292e-03, 4.1758e-02, 6.3013e-02, 1.4332e-01, 1.7480e-01, 1.8995e-01,\n",
      "        2.0518e-01, 2.7711e-02, 3.5073e-02, 2.2131e-01, 1.9296e-02, 5.7577e-02,\n",
      "        2.7046e-01, 2.9821e-01, 0.0000e+00, 3.5169e-01, 1.9856e-02, 1.1730e-01,\n",
      "        6.7259e-02, 1.3850e-01, 2.6948e-01, 2.1625e-01, 1.2768e-02, 3.2533e-02,\n",
      "        7.3008e-02, 0.0000e+00, 3.6396e-02, 3.3177e-02, 1.0609e-01, 4.9541e-02,\n",
      "        3.4542e-02, 6.4614e-02, 1.0263e-02, 4.2545e-04, 5.8889e-02, 0.0000e+00,\n",
      "        1.9127e-01, 7.1428e-02, 3.8402e-02, 2.5520e-01, 9.5273e-02, 4.1879e-01,\n",
      "        2.4441e-02, 3.5182e-03, 6.8929e-03, 1.0406e-01, 6.7809e-02, 1.8317e-01,\n",
      "        3.4012e-02, 1.1841e-01, 4.9221e-01, 5.9384e-02, 3.6618e-02, 7.1653e-02,\n",
      "        1.6203e-01, 1.8895e-01, 1.4718e-01, 8.9520e-02, 1.9552e-02, 1.7146e-02,\n",
      "        2.2044e-02, 2.1796e-01, 0.0000e+00, 2.1324e-02, 6.7959e-02, 1.4926e-01,\n",
      "        3.0275e-02, 1.6845e-02, 4.6664e-02, 7.5732e-02, 9.7975e-03, 0.0000e+00,\n",
      "        2.1530e-02, 9.5754e-02, 1.0444e-01, 6.8527e-02, 1.0615e-01, 4.5092e-03,\n",
      "        5.0071e-03, 8.2193e-02, 0.0000e+00, 3.4727e-01, 1.4434e-02, 9.5750e-02,\n",
      "        6.8723e-02, 1.4746e-02, 1.8883e-03, 9.3560e-02, 2.4261e-02, 2.6737e-02,\n",
      "        4.6900e-02, 4.2029e-02, 1.1892e-02, 7.3972e-02, 8.4797e-02, 1.0867e-01,\n",
      "        3.5780e-02, 4.2894e-02, 3.9245e-02, 1.3072e-02, 8.6765e-02, 3.0209e-02,\n",
      "        0.0000e+00, 2.2124e-02, 7.0172e-02, 9.4142e-03, 6.8434e-02, 3.1543e-02,\n",
      "        4.0107e-02, 6.5136e-03, 1.8087e-01, 1.6118e-01, 1.7740e-01, 6.6936e-03,\n",
      "        0.0000e+00, 6.3075e-02, 2.8642e-02, 8.0713e-02, 3.1866e-02, 9.6040e-02,\n",
      "        2.7737e-01, 2.6458e-02, 2.7407e-02, 0.0000e+00, 7.4651e-02, 2.2452e-02,\n",
      "        0.0000e+00, 7.3971e-02, 1.2992e-02, 1.1487e-02, 9.4260e-02, 2.7188e-02,\n",
      "        8.8957e-02, 8.9236e-03, 6.0881e-02, 0.0000e+00, 3.3473e-02, 4.3605e-02,\n",
      "        4.5709e-02, 1.4931e-02, 1.2953e-01, 5.8756e-02, 1.3265e-01, 7.5507e-03,\n",
      "        1.9813e-02, 1.2992e-01, 6.1905e-03, 5.6748e-02, 3.8834e-02, 4.4383e-02,\n",
      "        1.0595e-01, 4.3745e-02, 1.5782e-01, 1.3781e-01, 3.4998e-02, 6.6122e-03,\n",
      "        2.2663e-02, 2.5534e-01, 3.5999e-02, 0.0000e+00, 9.2673e-02, 3.1796e-03,\n",
      "        5.3986e-02, 0.0000e+00, 7.4578e-02, 1.1673e-02, 1.3058e-01, 5.0291e-02,\n",
      "        9.8517e-02, 1.8375e-02, 5.9715e-02, 7.0938e-02, 9.6321e-02, 0.0000e+00,\n",
      "        2.3376e-02, 6.9984e-03, 9.3671e-02, 2.2176e-01, 1.4154e-01, 3.2030e-04,\n",
      "        2.0307e-02, 1.5748e-01, 1.1723e-02, 8.9823e-02, 2.4393e-02, 1.9337e-02,\n",
      "        3.6315e-02, 2.2789e-02, 0.0000e+00, 9.7535e-03, 1.2040e-02, 0.0000e+00,\n",
      "        1.2595e-01, 0.0000e+00, 6.5185e-03, 1.2601e-01, 1.6521e-01, 1.6476e-01,\n",
      "        1.1931e-01, 7.6878e-01, 2.3049e-03, 5.8968e-03, 1.1028e-02, 2.0527e-01,\n",
      "        7.2757e-02, 4.5727e-01, 9.1465e-02, 1.5251e-03, 2.4737e-01, 5.4868e-01,\n",
      "        1.2809e-02, 6.1961e-02, 1.7421e-01, 2.3211e-01, 8.3713e-02, 1.4752e-01,\n",
      "        4.1105e-02, 7.4860e-02, 5.3334e-02, 7.4894e-02, 1.2317e-01, 3.0358e-01,\n",
      "        3.7037e-03, 1.0019e-01, 2.4755e-02, 1.2903e-01, 2.9303e-02, 4.8414e-02,\n",
      "        4.7248e-02, 1.2450e-02, 2.5927e-01, 5.2361e-03, 2.7103e-02, 9.2890e-02,\n",
      "        6.7375e-03, 6.2049e-03, 3.2876e-02, 1.0722e-01, 2.4773e-03, 7.5704e-03,\n",
      "        7.3839e-02, 5.0126e-02, 1.0172e-02, 8.7392e-02, 4.3974e-02, 1.5435e-03,\n",
      "        1.4031e-02, 3.4559e-02, 4.6768e-02, 1.3026e-02, 4.5325e-02, 4.8841e-03,\n",
      "        1.6261e-02, 5.0985e-02, 4.0598e-03, 5.0341e-02, 7.6229e-03, 0.0000e+00,\n",
      "        4.2451e-02, 1.7113e-02, 4.9215e-02, 1.8752e-02, 1.1399e-01, 6.3801e-03,\n",
      "        1.2386e-01, 1.5984e-02, 4.2412e-02, 1.9157e-01, 1.4935e-01, 8.7261e-02,\n",
      "        1.2823e-01, 7.3433e-02, 9.8696e-02, 1.2506e-01, 7.8065e-02, 1.0738e-01,\n",
      "        5.3827e-02, 1.5421e-01, 7.7709e-02, 1.1070e-01, 3.3228e-02, 3.3850e-02,\n",
      "        2.7659e-02, 8.2898e-03, 5.1534e-02, 0.0000e+00, 2.0455e-02, 7.1239e-03,\n",
      "        0.0000e+00, 5.0022e-03, 1.8846e-02, 1.3007e-01, 2.2101e-02, 4.5382e-02,\n",
      "        8.0815e-02, 1.0997e-01, 1.2896e-02, 0.0000e+00, 3.5637e-02, 1.7777e-02,\n",
      "        3.6874e-02, 2.1658e-02, 2.1367e-01, 9.9066e-02, 1.2296e-02, 2.0838e-02,\n",
      "        1.0908e-02, 8.5247e-03, 6.9587e-04, 7.5752e-02, 2.6386e-01, 1.6785e-01,\n",
      "        1.3229e-01, 9.3646e-03, 6.1128e-02, 8.7791e-02, 3.6037e-03, 3.5352e-02,\n",
      "        1.1411e-01, 5.9813e-03, 2.2084e-01, 9.4284e-03, 1.1630e-02, 9.2879e-02,\n",
      "        1.2122e-01, 9.8514e-03, 5.3533e-02, 5.6391e-02, 3.0864e-02, 6.1279e-02]) tensor(0.7688) tensor(42.9854)\n",
      "Chosen edges: tensor([[   0,    0,    0,    0,    2,    5,    5,    5,    5,    6,    6,    6,\n",
      "            9,    9,    9,    9,    9,    9,    9,   11,   11,   14,   14,    0,\n",
      "            0,    0,    1,    1,    1,    1,    1,    3,    3,    3,    3,    3,\n",
      "            3,    4,    4,    4,    4,    4,    4,    5,    5,    6,    6,    6,\n",
      "            7,    7,    8,    9,   10,   10,   11,   11,   11,   11,   12,   12,\n",
      "           12,   12,   12,   12,   13,   13,   13,   13,   13,   14,   14,   14,\n",
      "            0,    0,    0,    0,    0,    0,    1,    6,    6,    7,    7,    9,\n",
      "           11,   14,   14,    0,    0,    0,    0,    0,    0,    0,    0,    0,\n",
      "            0,    0,    0,    1,    1,    1,    1,    1,    1,    1,    1,    1,\n",
      "            1,    1,    1,    1,    1,    1,    1,    1,    3,    3,    3,    3,\n",
      "            3,    3,    3,    3,    3,    3,    3,    3,    3,    3,    3,    3,\n",
      "            3,    4,    4,    4,    4,    4,    4,    4,    4,    4,    4,    4,\n",
      "            4,    4,    4,    4,    4,    4,    4,    4,    4,    4,    4,    5,\n",
      "            5,    5,    5,    5,    5,    5,    5,    5,    6,    6,    6,    6,\n",
      "            6,    6,    6,    6,    6,    7,    7,    7,    7,    7,    7,    7,\n",
      "            7,    7,    7,    7,    7,    8,    8,    8,    8,    8,    8,    8,\n",
      "            8,    8,    8,    8,    8,    8,    8,    8,    8,    8,    8,    8,\n",
      "            8,   10,   10,   10,   10,   10,   10,   10,   10,   10,   10,   10,\n",
      "           10,   10,   10,   10,   10,   10,   10,   10,   10,   10,   10,   10,\n",
      "           10,   11,   11,   11,   11,   11,   11,   12,   12,   12,   12,   12,\n",
      "           12,   12,   12,   12,   12,   12,   12,   12,   12,   12,   12,   12,\n",
      "           12,   13,   13,   13,   13,   13,   14,   14,   14,   14,   14,   14,\n",
      "           14,   14,   14,   14,   14,   14,   14],\n",
      "        [  37,   44,   52,   58,   16,    8,    9,   15,   52,   15,   21,   52,\n",
      "           18,   21,   24,   32,   37,   44,   52,    8,   52,   21,   52,   77,\n",
      "           80,   97,  109,  124,  130,  145,  166,  175,  179,  186,  190,  212,\n",
      "          222,  236,  243,  248,  258,  268,  278,  323,  324,  336,  340,  347,\n",
      "          383,  395,  466,  496,  524,  566,  596,  602,  608,  610,  628,  631,\n",
      "          638,  639,  644,  672,  698,  704,  711,  713,  720,  743,  779,  782,\n",
      "          790,  791,  797,  800,  802,  803,  805,  826,  827,  833,  834,  845,\n",
      "          858,  872,  873,  876,  880,  881,  882,  883,  884,  886,  887,  891,\n",
      "          892,  895,  896,  900,  902,  906,  908,  909,  911,  915,  916,  917,\n",
      "          918,  919,  921,  922,  923,  928,  932,  934,  941,  942,  943,  944,\n",
      "          945,  948,  950,  951,  952,  954,  956,  957,  958,  959,  960,  963,\n",
      "          967,  970,  973,  975,  976,  978,  979,  980,  984,  985,  986,  988,\n",
      "          989,  990,  992,  993,  994,  995,  996, 1000, 1003, 1004, 1008, 1012,\n",
      "         1013, 1014, 1015, 1018, 1020, 1022, 1023, 1026, 1032, 1033, 1034, 1039,\n",
      "         1043, 1045, 1049, 1050, 1051, 1054, 1056, 1058, 1059, 1063, 1066, 1069,\n",
      "         1071, 1073, 1079, 1080, 1081, 1084, 1086, 1089, 1091, 1092, 1096, 1099,\n",
      "         1101, 1103, 1105, 1106, 1107, 1109, 1110, 1111, 1115, 1116, 1117, 1120,\n",
      "         1122, 1131, 1134, 1135, 1136, 1137, 1138, 1142, 1143, 1144, 1145, 1147,\n",
      "         1148, 1150, 1151, 1152, 1153, 1154, 1156, 1157, 1158, 1159, 1160, 1162,\n",
      "         1164, 1169, 1172, 1176, 1179, 1180, 1182, 1192, 1194, 1201, 1203, 1206,\n",
      "         1207, 1208, 1209, 1210, 1211, 1212, 1213, 1214, 1215, 1216, 1217, 1218,\n",
      "         1223, 1230, 1233, 1234, 1241, 1242, 1248, 1249, 1250, 1251, 1253, 1254,\n",
      "         1257, 1259, 1262, 1263, 1265, 1266, 1268]]) 271\n"
     ]
    },
    {
     "name": "stderr",
     "output_type": "stream",
     "text": [
      "100%|██████████| 51/51 [00:02<00:00, 25.15it/s]\n"
     ]
    },
    {
     "name": "stdout",
     "output_type": "stream",
     "text": [
      "Fine-Tune Epoch 1/10 | Train Loss: 2.3911 | Val Loss: 2.2575\n"
     ]
    },
    {
     "name": "stderr",
     "output_type": "stream",
     "text": [
      "100%|██████████| 51/51 [00:01<00:00, 30.37it/s]\n"
     ]
    },
    {
     "name": "stdout",
     "output_type": "stream",
     "text": [
      "Fine-Tune Epoch 2/10 | Train Loss: 2.3012 | Val Loss: 2.1895\n"
     ]
    },
    {
     "name": "stderr",
     "output_type": "stream",
     "text": [
      "100%|██████████| 51/51 [00:01<00:00, 27.59it/s]\n"
     ]
    },
    {
     "name": "stdout",
     "output_type": "stream",
     "text": [
      "Fine-Tune Epoch 3/10 | Train Loss: 2.2374 | Val Loss: 2.1378\n"
     ]
    },
    {
     "name": "stderr",
     "output_type": "stream",
     "text": [
      "100%|██████████| 51/51 [00:01<00:00, 28.32it/s]\n"
     ]
    },
    {
     "name": "stdout",
     "output_type": "stream",
     "text": [
      "Fine-Tune Epoch 4/10 | Train Loss: 2.1921 | Val Loss: 2.0969\n"
     ]
    },
    {
     "name": "stderr",
     "output_type": "stream",
     "text": [
      "100%|██████████| 51/51 [00:01<00:00, 28.61it/s]\n"
     ]
    },
    {
     "name": "stdout",
     "output_type": "stream",
     "text": [
      "Fine-Tune Epoch 5/10 | Train Loss: 2.1597 | Val Loss: 2.0642\n"
     ]
    },
    {
     "name": "stderr",
     "output_type": "stream",
     "text": [
      "100%|██████████| 51/51 [00:01<00:00, 31.17it/s]\n"
     ]
    },
    {
     "name": "stdout",
     "output_type": "stream",
     "text": [
      "Fine-Tune Epoch 6/10 | Train Loss: 2.1346 | Val Loss: 2.0392\n"
     ]
    },
    {
     "name": "stderr",
     "output_type": "stream",
     "text": [
      "100%|██████████| 51/51 [00:01<00:00, 29.66it/s]\n"
     ]
    },
    {
     "name": "stdout",
     "output_type": "stream",
     "text": [
      "Fine-Tune Epoch 7/10 | Train Loss: 2.1100 | Val Loss: 2.0188\n"
     ]
    },
    {
     "name": "stderr",
     "output_type": "stream",
     "text": [
      "100%|██████████| 51/51 [00:01<00:00, 26.63it/s]\n"
     ]
    },
    {
     "name": "stdout",
     "output_type": "stream",
     "text": [
      "Fine-Tune Epoch 8/10 | Train Loss: 2.0931 | Val Loss: 2.0034\n"
     ]
    },
    {
     "name": "stderr",
     "output_type": "stream",
     "text": [
      "100%|██████████| 51/51 [00:01<00:00, 27.24it/s]\n"
     ]
    },
    {
     "name": "stdout",
     "output_type": "stream",
     "text": [
      "Fine-Tune Epoch 9/10 | Train Loss: 2.0759 | Val Loss: 1.9905\n"
     ]
    },
    {
     "name": "stderr",
     "output_type": "stream",
     "text": [
      "100%|██████████| 51/51 [00:01<00:00, 29.18it/s]\n"
     ]
    },
    {
     "name": "stdout",
     "output_type": "stream",
     "text": [
      "Fine-Tune Epoch 10/10 | Train Loss: 2.0691 | Val Loss: 1.9804\n"
     ]
    },
    {
     "name": "stderr",
     "output_type": "stream",
     "text": [
      "100%|██████████| 51/51 [00:02<00:00, 21.18it/s]\n"
     ]
    },
    {
     "name": "stdout",
     "output_type": "stream",
     "text": [
      "Epoch 24/50 | Train Loss: 2.0402 | Val Loss: 25.1462 | Val Accuracy: 0.3484\n"
     ]
    },
    {
     "name": "stderr",
     "output_type": "stream",
     "text": [
      "100%|██████████| 51/51 [00:02<00:00, 18.92it/s]\n"
     ]
    },
    {
     "name": "stdout",
     "output_type": "stream",
     "text": [
      "Epoch 25/50 | Train Loss: 2.0115 | Val Loss: 24.9007 | Val Accuracy: 0.3505\n"
     ]
    },
    {
     "name": "stderr",
     "output_type": "stream",
     "text": [
      "100%|██████████| 51/51 [00:02<00:00, 21.87it/s]\n"
     ]
    },
    {
     "name": "stdout",
     "output_type": "stream",
     "text": [
      "Epoch 26/50 | Train Loss: 1.9969 | Val Loss: 24.7795 | Val Accuracy: 0.3531\n"
     ]
    },
    {
     "name": "stderr",
     "output_type": "stream",
     "text": [
      "100%|██████████| 51/51 [00:02<00:00, 21.22it/s]\n"
     ]
    },
    {
     "name": "stdout",
     "output_type": "stream",
     "text": [
      "Epoch 27/50 | Train Loss: 1.9867 | Val Loss: 24.6967 | Val Accuracy: 0.3528\n"
     ]
    },
    {
     "name": "stderr",
     "output_type": "stream",
     "text": [
      "100%|██████████| 51/51 [00:02<00:00, 20.78it/s]\n"
     ]
    },
    {
     "name": "stdout",
     "output_type": "stream",
     "text": [
      "Epoch 28/50 | Train Loss: 1.9768 | Val Loss: 24.6199 | Val Accuracy: 0.3530\n",
      "Edge metrics: tensor([2.0611e-02, 1.0520e-02, 8.6235e-03, 1.5276e-06, 1.1472e-02, 5.0095e-02,\n",
      "        2.9000e-02, 2.0460e-02, 2.1209e-02, 9.8214e-03, 2.1784e-04, 8.0736e-04,\n",
      "        8.1511e-03, 1.2789e-02, 3.6227e-02, 1.8998e-02, 1.5090e-02, 2.2622e-02,\n",
      "        1.5699e-02, 2.9448e-02, 3.0779e-02, 1.5473e-02, 9.1804e-03, 3.4834e-02,\n",
      "        8.9750e-03, 4.5638e-02, 3.6226e-03, 1.1367e-02, 4.2094e-02, 3.2859e-02,\n",
      "        4.2276e-03, 1.0588e-02, 1.1830e-02, 2.8488e-02, 7.7563e-03, 2.3539e-02,\n",
      "        1.4960e-02, 1.7489e-02, 5.7506e-03, 3.0038e-02, 5.1188e-02, 3.4285e-02,\n",
      "        2.0841e-02, 7.7184e-03, 2.5181e-02, 2.5891e-02, 2.5331e-02, 1.0005e-02,\n",
      "        4.8765e-02, 1.8520e-02, 1.1672e-03, 3.4200e-02, 2.2664e-02, 5.5825e-03,\n",
      "        3.5278e-02, 4.6135e-03, 3.0403e-02, 2.9822e-02, 2.8060e-02, 1.1585e-02,\n",
      "        1.3699e-02, 2.7221e-02, 3.6996e-02, 1.5728e-02, 3.7910e-02, 3.1125e-02,\n",
      "        1.3463e-02, 9.6731e-03, 2.2183e-03, 2.4113e-02, 8.3256e-03, 7.3656e-03,\n",
      "        2.4892e-02, 6.5782e-02, 1.4038e-02, 6.9378e-02, 6.0951e-02, 9.3079e-03,\n",
      "        2.5241e-02, 1.0878e-02, 2.7437e-02, 4.5720e-02, 2.9895e-02, 4.7030e-03,\n",
      "        1.5484e-02, 2.9581e-02, 5.5972e-03, 1.1374e-03, 4.5573e-06, 7.1997e-02,\n",
      "        6.4698e-03, 4.2301e-04, 3.7056e-04, 5.8980e-02, 5.1142e-02, 7.2378e-02,\n",
      "        5.3689e-02, 1.0837e-02, 1.3498e-03, 1.2865e-01, 1.5541e-03, 7.7067e-03,\n",
      "        5.2010e-02, 2.2563e-02, 1.9695e-03, 4.6726e-02, 1.9626e-02, 1.1839e-01,\n",
      "        1.3632e-03, 1.4020e-02, 1.1016e-01, 6.3494e-02, 4.1884e-02, 1.7271e-02,\n",
      "        4.8743e-02, 3.8918e-02, 3.0864e-02, 1.4896e-02, 3.0536e-02, 4.4758e-02,\n",
      "        1.0664e-02, 5.7220e-03, 2.6333e-02, 2.4134e-02, 1.6059e-02, 4.4141e-06,\n",
      "        0.0000e+00, 3.7457e-02, 1.3615e-02, 1.9133e-02, 9.5880e-03, 0.0000e+00,\n",
      "        4.4495e-02, 0.0000e+00, 4.6862e-02, 0.0000e+00, 0.0000e+00, 0.0000e+00,\n",
      "        0.0000e+00, 0.0000e+00, 0.0000e+00, 0.0000e+00, 8.4739e-03, 0.0000e+00,\n",
      "        1.0523e-02, 1.6348e-02, 1.6501e-05, 2.1616e-02, 9.1246e-03, 7.4289e-03,\n",
      "        0.0000e+00, 0.0000e+00, 1.9491e-02, 3.0000e-03, 0.0000e+00, 0.0000e+00,\n",
      "        0.0000e+00, 0.0000e+00, 2.6440e-02, 7.5825e-02, 0.0000e+00, 2.3627e-02,\n",
      "        3.8660e-02, 0.0000e+00, 3.1827e-02, 1.1162e-04, 3.9775e-03, 0.0000e+00,\n",
      "        4.4247e-03, 1.3169e-02, 0.0000e+00, 5.5524e-02, 0.0000e+00, 1.4258e-01,\n",
      "        0.0000e+00, 0.0000e+00, 2.5312e-02, 0.0000e+00, 0.0000e+00, 0.0000e+00,\n",
      "        0.0000e+00, 0.0000e+00, 4.1611e-02, 5.1457e-05, 1.6621e-02, 0.0000e+00,\n",
      "        0.0000e+00, 1.7066e-02, 3.2449e-02, 5.8985e-02, 0.0000e+00, 0.0000e+00,\n",
      "        2.4519e-02, 9.9051e-02, 3.4950e-02, 0.0000e+00, 1.6317e-02, 4.6798e-06,\n",
      "        0.0000e+00, 2.0863e-02, 7.9190e-02, 1.1270e-04, 4.3039e-02, 2.4852e-02,\n",
      "        0.0000e+00, 0.0000e+00, 0.0000e+00, 0.0000e+00, 1.0723e-01, 2.6290e-02,\n",
      "        0.0000e+00, 0.0000e+00, 0.0000e+00, 0.0000e+00, 0.0000e+00, 1.1794e-01,\n",
      "        1.9249e-03, 0.0000e+00, 3.8134e-05, 0.0000e+00, 6.4597e-02, 2.1065e-03,\n",
      "        0.0000e+00, 2.9649e-02, 6.4239e-02, 0.0000e+00, 0.0000e+00, 8.3920e-03,\n",
      "        0.0000e+00, 0.0000e+00, 3.5465e-02, 0.0000e+00, 1.6320e-03, 0.0000e+00,\n",
      "        0.0000e+00, 0.0000e+00, 2.9845e-04, 6.6244e-03, 7.0217e-06, 0.0000e+00,\n",
      "        4.8444e-02, 1.2068e-02, 8.9217e-04, 2.6865e-02, 0.0000e+00, 0.0000e+00,\n",
      "        0.0000e+00, 0.0000e+00, 0.0000e+00, 6.3314e-02, 1.4671e-02, 6.8215e-02,\n",
      "        2.3253e-03, 1.0335e-02, 4.4107e-02, 0.0000e+00, 0.0000e+00, 7.7366e-03,\n",
      "        1.0552e-02, 1.2360e-05, 0.0000e+00, 1.2274e-03, 1.8322e-03, 2.5418e-02,\n",
      "        0.0000e+00, 2.8004e-02, 0.0000e+00, 1.9480e-02, 0.0000e+00, 5.6588e-03,\n",
      "        5.4848e-03, 0.0000e+00, 0.0000e+00, 0.0000e+00, 0.0000e+00, 1.9007e-03,\n",
      "        2.4303e-03, 0.0000e+00, 0.0000e+00, 0.0000e+00, 0.0000e+00, 3.1956e-02,\n",
      "        0.0000e+00, 0.0000e+00, 6.0352e-03, 0.0000e+00, 1.0680e-02, 1.5202e-05,\n",
      "        7.7938e-02, 6.8040e-03, 0.0000e+00, 6.3184e-02, 0.0000e+00, 6.7579e-03,\n",
      "        2.1719e-02, 6.6049e-02, 1.5827e-02, 0.0000e+00, 0.0000e+00, 0.0000e+00,\n",
      "        6.5536e-03, 2.0767e-02, 0.0000e+00, 2.1530e-02, 8.9014e-02, 0.0000e+00,\n",
      "        4.3323e-02, 0.0000e+00, 1.5404e-02, 0.0000e+00, 9.4350e-03, 3.4149e-06,\n",
      "        1.3103e-02, 1.5797e-02, 7.0435e-02, 4.6312e-03, 6.0427e-03, 0.0000e+00,\n",
      "        4.0663e-02, 2.0032e-02, 4.7631e-04, 0.0000e+00, 8.3213e-03, 0.0000e+00,\n",
      "        0.0000e+00, 0.0000e+00, 0.0000e+00, 8.2444e-03, 1.6892e-02, 1.0498e-03,\n",
      "        2.2379e-02, 1.1917e-01, 0.0000e+00, 1.0296e-02, 3.4470e-05, 6.3238e-03,\n",
      "        6.0583e-03, 4.0167e-03, 2.1189e-02, 7.3275e-02, 1.4843e-02, 0.0000e+00,\n",
      "        6.2574e-02, 2.8883e-03, 0.0000e+00, 0.0000e+00, 3.4792e-02, 7.3701e-02,\n",
      "        4.4777e-03, 0.0000e+00, 4.8989e-02, 0.0000e+00, 1.4086e-02, 8.0405e-02,\n",
      "        8.9359e-02, 0.0000e+00, 0.0000e+00, 3.1514e-02, 9.2226e-06, 6.2958e-02,\n",
      "        0.0000e+00, 9.9466e-03, 6.1147e-03, 3.0822e-03, 4.8226e-03, 1.5903e-02,\n",
      "        1.4330e-02, 0.0000e+00, 6.4838e-03, 0.0000e+00, 5.6074e-03, 2.6646e-02,\n",
      "        0.0000e+00, 0.0000e+00, 2.3421e-02, 3.5327e-02, 1.0617e-02, 7.7933e-02,\n",
      "        2.5218e-02, 0.0000e+00, 1.2136e-02, 3.5507e-02, 4.3657e-02, 1.2215e-02,\n",
      "        9.7296e-06, 0.0000e+00, 1.2272e-01, 0.0000e+00, 2.6056e-02, 7.4376e-04,\n",
      "        0.0000e+00, 0.0000e+00, 3.4429e-02, 0.0000e+00, 4.1207e-02, 0.0000e+00,\n",
      "        2.0990e-03, 2.5455e-02, 0.0000e+00, 1.2286e-01, 0.0000e+00, 1.7715e-02,\n",
      "        0.0000e+00, 0.0000e+00, 5.9008e-03, 8.3282e-03, 4.0808e-02, 2.2953e-02,\n",
      "        1.8135e-02, 2.3135e-02, 2.8633e-02, 6.0056e-02, 1.6433e-02, 1.2132e-02,\n",
      "        2.4091e-02, 2.4470e-02, 4.3303e-02, 1.0064e-01, 8.0301e-03, 0.0000e+00,\n",
      "        2.0890e-03, 0.0000e+00, 9.0961e-04, 2.5361e-02, 1.7599e-02, 0.0000e+00,\n",
      "        0.0000e+00, 4.3919e-02, 0.0000e+00, 1.8033e-02, 1.0490e-02, 0.0000e+00,\n",
      "        4.5798e-02, 1.2415e-02, 0.0000e+00, 5.5625e-03, 2.4111e-02, 5.5787e-02,\n",
      "        3.5183e-02, 2.7181e-03, 0.0000e+00, 0.0000e+00, 0.0000e+00, 0.0000e+00,\n",
      "        8.6899e-02, 6.5159e-03, 1.0314e-03, 2.6546e-02, 0.0000e+00, 0.0000e+00,\n",
      "        0.0000e+00, 2.1244e-02, 7.0563e-03, 0.0000e+00, 0.0000e+00, 0.0000e+00,\n",
      "        0.0000e+00, 1.1528e-02, 8.3934e-03, 0.0000e+00, 0.0000e+00, 0.0000e+00,\n",
      "        1.7706e-02, 1.8367e-02, 4.1915e-03, 3.2211e-02, 3.4454e-02, 0.0000e+00,\n",
      "        7.8133e-02, 1.1347e-02, 0.0000e+00, 6.6278e-03, 3.1608e-02, 1.5623e-02,\n",
      "        1.1050e-01, 0.0000e+00, 1.7331e-02, 1.8204e-02, 0.0000e+00, 0.0000e+00,\n",
      "        6.2713e-02, 7.1872e-02, 6.0273e-02, 0.0000e+00, 0.0000e+00, 0.0000e+00,\n",
      "        0.0000e+00, 2.9177e-03, 0.0000e+00, 7.3193e-02, 7.6033e-02, 3.3321e-02,\n",
      "        2.1020e-02, 2.2751e-02, 2.8765e-02, 5.5783e-02, 2.2826e-02, 0.0000e+00,\n",
      "        3.5449e-03, 2.8062e-02, 5.8585e-02, 1.3458e-02, 8.0126e-02, 1.1223e-01,\n",
      "        4.4537e-02, 5.3317e-02, 0.0000e+00, 0.0000e+00, 1.6469e-03, 3.2328e-02,\n",
      "        1.9330e-02, 0.0000e+00, 1.6443e-03, 9.3669e-02, 2.1212e-02, 0.0000e+00,\n",
      "        1.9712e-02, 6.3439e-02, 4.4492e-02, 0.0000e+00, 7.4311e-03, 1.9798e-02,\n",
      "        5.7601e-02, 0.0000e+00, 7.2135e-02, 1.0274e-01, 7.3972e-02, 1.3517e-01,\n",
      "        9.0305e-03, 0.0000e+00, 0.0000e+00, 6.7372e-02, 1.1582e-02, 1.0589e-02,\n",
      "        0.0000e+00, 5.0160e-02, 8.7491e-02, 4.0845e-02, 8.0018e-02, 0.0000e+00,\n",
      "        0.0000e+00, 4.1652e-02, 5.2378e-02, 1.6015e-02, 3.8335e-02, 7.2789e-03,\n",
      "        0.0000e+00, 1.1179e-02, 7.1517e-03, 0.0000e+00, 0.0000e+00, 5.1338e-03,\n",
      "        2.0797e-02, 3.3831e-03, 4.3893e-02, 1.4175e-02, 1.7076e-01, 4.7144e-02,\n",
      "        4.1417e-02, 4.0825e-02, 0.0000e+00, 1.8228e-01, 3.5107e-02, 7.4440e-02,\n",
      "        0.0000e+00, 0.0000e+00, 5.8805e-04, 1.5499e-02, 9.7483e-02, 8.0411e-03,\n",
      "        0.0000e+00, 0.0000e+00, 5.9289e-02, 1.5195e-02, 7.7018e-02, 4.3489e-02,\n",
      "        0.0000e+00, 2.9793e-02, 0.0000e+00, 4.9545e-02, 2.4086e-02, 7.4320e-04,\n",
      "        2.1791e-03, 0.0000e+00, 2.3329e-02, 2.1625e-02, 6.5752e-02, 4.9125e-03,\n",
      "        6.8629e-03, 4.2490e-02, 5.2288e-03, 7.3742e-02, 9.5713e-02, 4.3047e-02,\n",
      "        1.4399e-02, 0.0000e+00, 4.4749e-02, 2.0768e-02, 0.0000e+00, 6.7202e-03,\n",
      "        0.0000e+00, 0.0000e+00, 6.6173e-02, 0.0000e+00, 2.1672e-02, 1.5735e-02,\n",
      "        0.0000e+00, 5.1297e-02, 5.9232e-03, 3.7657e-02, 1.2273e-02, 2.3336e-02,\n",
      "        3.9365e-02, 0.0000e+00, 1.4881e-02, 5.8109e-03, 0.0000e+00, 0.0000e+00,\n",
      "        8.2259e-03, 0.0000e+00, 1.4021e-02, 1.3126e-02, 0.0000e+00, 4.3202e-02,\n",
      "        4.8266e-02, 0.0000e+00, 1.5708e-01, 5.8634e-02, 6.3538e-02, 3.1154e-01,\n",
      "        4.0719e-02, 2.0352e-03, 2.2961e-02, 6.0382e-03, 8.8001e-03, 1.7715e-02,\n",
      "        6.2641e-03, 0.0000e+00, 4.1805e-03, 1.6093e-02, 0.0000e+00, 3.4385e-02,\n",
      "        2.2127e-02, 5.3224e-02, 9.7323e-03, 6.6830e-02, 5.2402e-03, 4.3929e-02,\n",
      "        0.0000e+00, 2.8241e-03, 0.0000e+00, 4.3649e-02, 5.2690e-02, 1.2888e-01,\n",
      "        1.5469e-02, 1.1585e-02, 5.2365e-02, 2.7959e-02, 3.8329e-02, 5.6842e-02,\n",
      "        4.3613e-02, 9.2806e-03, 0.0000e+00, 9.2167e-03, 1.1974e-02, 0.0000e+00,\n",
      "        0.0000e+00, 1.6869e-02, 8.3690e-03, 6.1945e-02, 3.8486e-02, 0.0000e+00,\n",
      "        7.8268e-02, 1.4463e-02, 1.2984e-01, 8.2732e-03, 4.2603e-04, 3.3826e-02,\n",
      "        7.0972e-03, 2.8450e-02, 0.0000e+00, 8.2605e-03, 9.3652e-03, 8.9167e-03,\n",
      "        1.7841e-03, 1.0755e-02, 9.0858e-05, 1.8654e-02, 4.4267e-02, 3.8018e-02,\n",
      "        0.0000e+00, 1.6955e-03, 1.3245e-01, 0.0000e+00, 1.2804e-02, 2.0518e-02,\n",
      "        1.3634e-02, 4.2270e-03, 2.6778e-04, 0.0000e+00, 6.5046e-03, 0.0000e+00,\n",
      "        9.4239e-02, 6.7028e-02, 2.1517e-02, 4.4544e-02, 2.0908e-03, 0.0000e+00,\n",
      "        5.6831e-02, 4.3935e-03, 0.0000e+00, 1.5528e-03, 2.8109e-02, 0.0000e+00,\n",
      "        1.4341e-01, 5.0529e-02, 1.7248e-02, 2.7835e-01, 1.6156e-02, 1.8632e-01,\n",
      "        1.1060e-01, 2.8878e-02, 1.5415e-01, 0.0000e+00, 3.0245e-02, 2.5636e-01,\n",
      "        3.4816e-02, 4.1584e-02, 8.6473e-02, 2.2363e-02, 3.2338e-02, 2.9610e-03,\n",
      "        1.0177e-01, 2.3063e-02, 9.4816e-02, 1.8361e-02, 6.6690e-02, 9.3325e-02,\n",
      "        3.2911e-02, 4.6912e-03, 5.3240e-02, 5.5330e-02, 8.0585e-02, 4.4450e-02,\n",
      "        2.5313e-02, 3.2066e-02, 1.6193e-01, 7.0674e-02, 1.4048e-01, 1.1614e-01,\n",
      "        9.9140e-02, 1.4870e-01, 7.3906e-02, 1.7431e-01, 2.3008e-02, 1.5405e-01,\n",
      "        8.9417e-03, 3.7123e-02, 3.3527e-02, 3.4444e-02, 8.0209e-02, 1.7050e-01,\n",
      "        2.1201e-02, 1.6663e-02, 0.0000e+00, 6.4299e-02, 4.3881e-02, 1.0562e-01,\n",
      "        1.3817e-03, 7.2842e-02, 8.0870e-03, 4.0538e-03, 3.5759e-02, 1.9827e-01,\n",
      "        5.7726e-02, 7.1368e-02, 4.6820e-02, 7.6495e-02, 9.9918e-03, 7.2345e-02,\n",
      "        6.6372e-02, 1.2681e-01, 5.4948e-02, 8.1636e-02, 3.5887e-02, 1.4792e-01,\n",
      "        8.4120e-02, 4.7442e-02, 3.6097e-02, 6.8749e-02, 2.0546e-01, 2.5472e-02,\n",
      "        7.8714e-02, 2.6693e-02, 3.9903e-02, 3.9768e-02, 5.8751e-02, 8.4587e-02,\n",
      "        9.0556e-02, 6.9776e-02, 2.0419e-01, 1.3603e-01, 1.9726e-02, 1.4720e-01,\n",
      "        4.3863e-02, 4.8565e-02, 3.7395e-03, 1.4596e-01, 2.0517e-01, 1.5655e-01,\n",
      "        1.3977e-01, 8.1374e-02, 5.9806e-02, 1.4996e-01, 1.1350e-01, 7.0532e-02,\n",
      "        0.0000e+00, 2.8520e-02, 8.3461e-02, 1.4811e-01, 2.8312e-02, 6.0396e-02,\n",
      "        3.5705e-02, 4.6693e-03, 9.5517e-02, 6.5254e-02, 3.0312e-01, 1.9988e-01,\n",
      "        2.8350e-01, 2.3237e-01, 4.7604e-02, 4.1203e-02, 9.5870e-02, 3.7326e-01,\n",
      "        8.5458e-02, 7.9833e-02, 7.7667e-02, 2.2014e-01, 1.3657e-01, 8.3413e-02,\n",
      "        2.7947e-01, 6.4854e-02, 8.1693e-02, 3.6713e-01, 1.7150e-01, 1.2447e-01,\n",
      "        7.4183e-02, 0.0000e+00, 1.5326e-02, 3.5643e-01, 1.3709e-01, 3.9331e-02,\n",
      "        1.6935e-01, 3.5071e-02, 1.1909e-01, 1.5491e-01, 1.4606e-01, 7.8075e-02,\n",
      "        2.0627e-02, 1.0154e-01, 8.4764e-02, 4.0751e-01, 2.5752e-02, 2.2142e-02,\n",
      "        3.8713e-02, 4.9807e-01, 1.6198e-01, 8.5379e-02, 9.8343e-02, 3.8686e-02,\n",
      "        3.9943e-02, 8.0389e-02, 1.2180e-01, 1.2196e-01, 1.3168e-01, 4.9132e-02,\n",
      "        1.3442e-01, 1.1710e-01, 9.1597e-02, 2.4724e-01, 5.1107e-02, 8.4924e-02,\n",
      "        1.0123e-01, 1.2498e-01, 5.7791e-02, 7.3243e-02, 4.7045e-02, 8.5048e-02,\n",
      "        1.3825e-01, 6.9917e-02, 2.2082e-01, 3.6612e-03, 2.1353e-01, 4.1556e-02,\n",
      "        1.6506e-01, 5.4269e-02, 2.5131e-01, 1.9003e-01, 2.2833e-01, 7.3392e-01,\n",
      "        2.3960e-01, 2.3432e-02, 1.3105e-01, 4.2473e-02, 2.2006e-01, 2.8035e-01,\n",
      "        8.1841e-02, 6.6402e-02, 1.5126e-01, 3.2122e-02, 2.2635e-01, 2.1877e-01,\n",
      "        4.0771e-02, 2.7201e-01, 2.5272e-03, 2.8365e-01, 1.5687e-01, 1.1587e-01,\n",
      "        4.9373e-02, 1.2304e-02, 1.2260e-01, 1.2142e-02, 2.9584e-02, 9.1259e-03,\n",
      "        4.1957e-02, 6.9866e-04, 1.4214e-01, 1.1579e-01, 4.7768e-02, 4.4565e-02,\n",
      "        8.2754e-02, 1.1165e-01, 8.1829e-02, 3.6093e-02, 1.3208e-01, 2.8547e-02,\n",
      "        8.8093e-02, 3.2724e-02, 1.3598e-02, 4.9947e-03, 1.5538e-01, 9.9461e-02,\n",
      "        1.0941e-01, 2.9315e-02, 9.5541e-02, 9.7252e-03, 2.9357e-02, 1.0094e-01,\n",
      "        5.3657e-02, 1.9225e-01, 1.4183e-01, 1.9218e-02, 1.2295e-01, 7.8537e-02,\n",
      "        2.0131e-01, 1.8656e-02, 3.5809e-02, 3.0157e-02, 4.8867e-02, 1.7196e-01]) tensor(0.7339) tensor(39.8371)\n",
      "Chosen edges: tensor([[   2,    2,    5,    5,    5,    9,    9,    9,    9,    9,    9,    9,\n",
      "            9,    9,    9,    1,    3,    3,    4,    4,    5,    5,    5,    6,\n",
      "            6,    7,    7,   10,   10,   10,   10,   11,   11,   12,   12,   12,\n",
      "           12,   12,   13,   13,   14,   14,    0,    0,    6,    7,   12,   13,\n",
      "            0,    0,    0,    0,    0,    1,    1,    1,    1,    1,    3,    3,\n",
      "            3,    3,    3,    3,    3,    4,    4,    4,    4,    4,    5,    6,\n",
      "            6,    6,    7,    7,    7,    8,    8,    8,    8,   10,   10,   10,\n",
      "           10,   11,   11,   12,   12,   12,   12,   13,   13,   13,    0,    9,\n",
      "            9,   11,    0,    1,    1,    1,    3,    3,    3,    4,    5,    6,\n",
      "            6,    7,    9,   10,   10,   11,   12,   12,   12,   12,   12,   12,\n",
      "           13,   13,   14,    0,    0,    1,    6,   11,   14,   14,    0,    0,\n",
      "            0,    0,    0,    0,    0,    0,    1,    1,    1,    1,    1,    1,\n",
      "            1,    1,    1,    1,    3,    3,    3,    3,    3,    3,    3,    3,\n",
      "            3,    3,    3,    3,    4,    4,    4,    4,    4,    4,    4,    4,\n",
      "            4,    4,    4,    4,    4,    4,    4,    4,    4,    4,    5,    5,\n",
      "            5,    5,    5,    5,    6,    6,    6,    6,    6,    6,    6,    7,\n",
      "            7,    7,    7,    7,    7,    7,    8,    8,    8,    8,    8,    8,\n",
      "            8,    8,    8,    8,    8,    8,    8,    8,    8,    8,   10,   10,\n",
      "           10,   10,   10,   10,   10,   10,   10,   10,   10,   10,   10,   10,\n",
      "           10,   10,   10,   10,   10,   11,   12,   12,   12,   12,   12,   12,\n",
      "           12,   12,   12,   13,   13,   14,   14,   14,   14,   14,   14,   14,\n",
      "           14],\n",
      "        [   5,   41,   39,   46,   48,    6,   15,   17,   20,   22,   29,   38,\n",
      "           53,   58,   59,  153,  195,  198,  244,  272,  294,  309,  328,  337,\n",
      "          346,  418,  420,  512,  517,  522,  552,  577,  618,  637,  642,  660,\n",
      "          678,  679,  689,  724,  744,  765,  794,  804,  825,  836,  862,  868,\n",
      "          877,  878,  879,  897,  898,  905,  914,  924,  925,  927,  938,  947,\n",
      "          962,  965,  966,  968,  969,  977,  987,  991,  998, 1005, 1029, 1037,\n",
      "         1040, 1047, 1055, 1060, 1077, 1087, 1088, 1108, 1119, 1163, 1165, 1166,\n",
      "         1167, 1187, 1189, 1198, 1199, 1204, 1220, 1232, 1237, 1239, 1272, 1282,\n",
      "         1283, 1288, 1294, 1295, 1297, 1299, 1300, 1302, 1305, 1308, 1312, 1314,\n",
      "         1316, 1317, 1320, 1321, 1322, 1326, 1327, 1328, 1329, 1330, 1331, 1332,\n",
      "         1333, 1335, 1340, 1341, 1345, 1347, 1349, 1353, 1354, 1355, 1357, 1359,\n",
      "         1360, 1361, 1362, 1363, 1365, 1366, 1369, 1370, 1372, 1376, 1377, 1378,\n",
      "         1379, 1380, 1381, 1383, 1387, 1388, 1389, 1390, 1391, 1392, 1393, 1394,\n",
      "         1395, 1398, 1399, 1401, 1404, 1405, 1406, 1407, 1408, 1409, 1412, 1413,\n",
      "         1414, 1415, 1416, 1417, 1418, 1419, 1420, 1421, 1422, 1423, 1424, 1425,\n",
      "         1426, 1429, 1430, 1432, 1434, 1435, 1436, 1437, 1439, 1440, 1441, 1445,\n",
      "         1446, 1447, 1448, 1451, 1452, 1453, 1454, 1456, 1457, 1458, 1459, 1460,\n",
      "         1461, 1462, 1463, 1464, 1465, 1467, 1468, 1469, 1470, 1472, 1474, 1475,\n",
      "         1476, 1477, 1478, 1479, 1480, 1482, 1484, 1485, 1486, 1487, 1488, 1490,\n",
      "         1491, 1493, 1495, 1496, 1497, 1500, 1506, 1507, 1510, 1511, 1512, 1514,\n",
      "         1516, 1520, 1521, 1522, 1524, 1527, 1528, 1529, 1530, 1532, 1533, 1534,\n",
      "         1539]]) 253\n"
     ]
    },
    {
     "name": "stderr",
     "output_type": "stream",
     "text": [
      "100%|██████████| 51/51 [00:02<00:00, 21.57it/s]\n"
     ]
    },
    {
     "name": "stdout",
     "output_type": "stream",
     "text": [
      "Fine-Tune Epoch 1/10 | Train Loss: 2.2819 | Val Loss: 2.1285\n"
     ]
    },
    {
     "name": "stderr",
     "output_type": "stream",
     "text": [
      "100%|██████████| 51/51 [00:02<00:00, 25.00it/s]\n"
     ]
    },
    {
     "name": "stdout",
     "output_type": "stream",
     "text": [
      "Fine-Tune Epoch 2/10 | Train Loss: 2.1904 | Val Loss: 2.0610\n"
     ]
    },
    {
     "name": "stderr",
     "output_type": "stream",
     "text": [
      "100%|██████████| 51/51 [00:02<00:00, 24.97it/s]\n"
     ]
    },
    {
     "name": "stdout",
     "output_type": "stream",
     "text": [
      "Fine-Tune Epoch 3/10 | Train Loss: 2.1409 | Val Loss: 2.0251\n"
     ]
    },
    {
     "name": "stderr",
     "output_type": "stream",
     "text": [
      "100%|██████████| 51/51 [00:02<00:00, 23.93it/s]\n"
     ]
    },
    {
     "name": "stdout",
     "output_type": "stream",
     "text": [
      "Fine-Tune Epoch 4/10 | Train Loss: 2.1121 | Val Loss: 2.0034\n"
     ]
    },
    {
     "name": "stderr",
     "output_type": "stream",
     "text": [
      "100%|██████████| 51/51 [00:02<00:00, 22.65it/s]\n"
     ]
    },
    {
     "name": "stdout",
     "output_type": "stream",
     "text": [
      "Fine-Tune Epoch 5/10 | Train Loss: 2.0926 | Val Loss: 1.9887\n"
     ]
    },
    {
     "name": "stderr",
     "output_type": "stream",
     "text": [
      "100%|██████████| 51/51 [00:02<00:00, 24.56it/s]\n"
     ]
    },
    {
     "name": "stdout",
     "output_type": "stream",
     "text": [
      "Fine-Tune Epoch 6/10 | Train Loss: 2.0736 | Val Loss: 1.9770\n"
     ]
    },
    {
     "name": "stderr",
     "output_type": "stream",
     "text": [
      "100%|██████████| 51/51 [00:02<00:00, 25.00it/s]\n"
     ]
    },
    {
     "name": "stdout",
     "output_type": "stream",
     "text": [
      "Fine-Tune Epoch 7/10 | Train Loss: 2.0647 | Val Loss: 1.9680\n"
     ]
    },
    {
     "name": "stderr",
     "output_type": "stream",
     "text": [
      "100%|██████████| 51/51 [00:02<00:00, 24.81it/s]\n"
     ]
    },
    {
     "name": "stdout",
     "output_type": "stream",
     "text": [
      "Fine-Tune Epoch 8/10 | Train Loss: 2.0605 | Val Loss: 1.9608\n"
     ]
    },
    {
     "name": "stderr",
     "output_type": "stream",
     "text": [
      "100%|██████████| 51/51 [00:02<00:00, 24.95it/s]\n"
     ]
    },
    {
     "name": "stdout",
     "output_type": "stream",
     "text": [
      "Fine-Tune Epoch 9/10 | Train Loss: 2.0498 | Val Loss: 1.9542\n"
     ]
    },
    {
     "name": "stderr",
     "output_type": "stream",
     "text": [
      "100%|██████████| 51/51 [00:01<00:00, 25.60it/s]\n"
     ]
    },
    {
     "name": "stdout",
     "output_type": "stream",
     "text": [
      "Fine-Tune Epoch 10/10 | Train Loss: 2.0436 | Val Loss: 1.9491\n"
     ]
    },
    {
     "name": "stderr",
     "output_type": "stream",
     "text": [
      "100%|██████████| 51/51 [00:02<00:00, 17.81it/s]\n"
     ]
    },
    {
     "name": "stdout",
     "output_type": "stream",
     "text": [
      "Epoch 29/50 | Train Loss: 2.0253 | Val Loss: 25.0254 | Val Accuracy: 0.3521\n"
     ]
    },
    {
     "name": "stderr",
     "output_type": "stream",
     "text": [
      "100%|██████████| 51/51 [00:02<00:00, 17.55it/s]\n"
     ]
    },
    {
     "name": "stdout",
     "output_type": "stream",
     "text": [
      "Epoch 30/50 | Train Loss: 1.9984 | Val Loss: 24.8480 | Val Accuracy: 0.3564\n"
     ]
    },
    {
     "name": "stderr",
     "output_type": "stream",
     "text": [
      "100%|██████████| 51/51 [00:03<00:00, 16.60it/s]\n"
     ]
    },
    {
     "name": "stdout",
     "output_type": "stream",
     "text": [
      "Epoch 31/50 | Train Loss: 1.9861 | Val Loss: 24.7490 | Val Accuracy: 0.3561\n"
     ]
    },
    {
     "name": "stderr",
     "output_type": "stream",
     "text": [
      "100%|██████████| 51/51 [00:02<00:00, 18.85it/s]\n"
     ]
    },
    {
     "name": "stdout",
     "output_type": "stream",
     "text": [
      "Epoch 32/50 | Train Loss: 1.9778 | Val Loss: 24.6688 | Val Accuracy: 0.3559\n"
     ]
    },
    {
     "name": "stderr",
     "output_type": "stream",
     "text": [
      "100%|██████████| 51/51 [00:02<00:00, 18.83it/s]\n"
     ]
    },
    {
     "name": "stdout",
     "output_type": "stream",
     "text": [
      "Epoch 33/50 | Train Loss: 1.9734 | Val Loss: 24.6003 | Val Accuracy: 0.3571\n",
      "Edge metrics: tensor([2.1227e-02, 9.1748e-03, 2.5984e-03, 6.0310e-04, 1.5366e-02, 2.1873e-02,\n",
      "        2.4946e-02, 2.9129e-02, 1.1882e-02, 1.7911e-03, 8.3467e-03, 1.4374e-02,\n",
      "        7.3445e-03, 4.2126e-02, 1.2818e-02, 1.8772e-02, 2.1937e-02, 3.7052e-02,\n",
      "        1.0750e-02, 2.3277e-02, 1.1295e-03, 6.1198e-03, 3.5343e-02, 8.8398e-03,\n",
      "        4.6514e-02, 1.4540e-02, 1.7533e-02, 5.4448e-02, 3.9215e-02, 6.1480e-03,\n",
      "        2.3419e-02, 1.7962e-02, 2.8890e-02, 2.1207e-02, 4.4584e-02, 1.1845e-02,\n",
      "        1.6284e-02, 2.0745e-02, 3.4620e-02, 2.0494e-02, 3.4937e-02, 9.0186e-03,\n",
      "        2.5418e-02, 3.9342e-02, 1.4549e-02, 8.6563e-03, 7.1919e-02, 1.7013e-02,\n",
      "        1.7807e-03, 1.2665e-02, 2.8898e-02, 3.6203e-03, 5.9410e-02, 2.4563e-02,\n",
      "        3.0999e-02, 3.1214e-02, 3.1195e-02, 4.9694e-03, 6.1983e-03, 2.4317e-02,\n",
      "        1.4424e-02, 2.3637e-02, 3.6708e-02, 1.8646e-02, 2.3951e-02, 2.5529e-03,\n",
      "        6.2868e-03, 1.9449e-02, 2.0650e-02, 2.1508e-02, 7.5504e-02, 3.1481e-02,\n",
      "        1.2649e-02, 1.1733e-02, 2.0438e-02, 4.6791e-02, 1.0946e-01, 3.3193e-02,\n",
      "        1.0555e-02, 1.9825e-02, 3.5186e-02, 1.1229e-02, 4.9889e-04, 2.4852e-03,\n",
      "        1.6049e-02, 1.2798e-03, 4.7032e-03, 4.0238e-03, 4.4368e-03, 7.6636e-03,\n",
      "        3.1938e-02, 9.9647e-02, 6.8501e-03, 9.1356e-02, 1.8482e-02, 2.6686e-03,\n",
      "        1.1623e-01, 6.4082e-02, 1.0039e-02, 4.3874e-02, 3.6933e-02, 3.1807e-02,\n",
      "        7.5775e-03, 4.0684e-02, 5.2078e-02, 4.3385e-03, 9.9387e-03, 2.2190e-02,\n",
      "        4.3880e-02, 2.1117e-02, 1.7732e-03, 0.0000e+00, 6.8504e-02, 2.8928e-02,\n",
      "        7.2443e-02, 0.0000e+00, 0.0000e+00, 3.1282e-02, 0.0000e+00, 5.1065e-02,\n",
      "        0.0000e+00, 0.0000e+00, 0.0000e+00, 0.0000e+00, 0.0000e+00, 0.0000e+00,\n",
      "        0.0000e+00, 1.3309e-02, 0.0000e+00, 3.8195e-03, 6.3344e-03, 6.0065e-03,\n",
      "        0.0000e+00, 1.2256e-02, 3.5030e-02, 0.0000e+00, 0.0000e+00, 3.7361e-02,\n",
      "        3.3743e-03, 0.0000e+00, 0.0000e+00, 0.0000e+00, 0.0000e+00, 1.1847e-02,\n",
      "        0.0000e+00, 0.0000e+00, 3.3293e-02, 0.0000e+00, 2.9361e-02, 9.2344e-03,\n",
      "        2.4355e-02, 0.0000e+00, 0.0000e+00, 6.8099e-03, 0.0000e+00, 0.0000e+00,\n",
      "        0.0000e+00, 0.0000e+00, 2.8530e-02, 0.0000e+00, 0.0000e+00, 0.0000e+00,\n",
      "        0.0000e+00, 0.0000e+00, 3.9542e-02, 1.6264e-02, 2.1123e-02, 0.0000e+00,\n",
      "        0.0000e+00, 5.0001e-02, 1.4817e-02, 0.0000e+00, 0.0000e+00, 3.0576e-02,\n",
      "        1.5376e-02, 0.0000e+00, 7.4645e-03, 2.5306e-03, 0.0000e+00, 1.0651e-03,\n",
      "        0.0000e+00, 4.8455e-02, 1.5746e-02, 0.0000e+00, 0.0000e+00, 0.0000e+00,\n",
      "        0.0000e+00, 2.1657e-02, 0.0000e+00, 0.0000e+00, 0.0000e+00, 0.0000e+00,\n",
      "        0.0000e+00, 0.0000e+00, 0.0000e+00, 3.3905e-03, 0.0000e+00, 1.8545e-02,\n",
      "        0.0000e+00, 1.4653e-02, 0.0000e+00, 0.0000e+00, 3.6577e-02, 0.0000e+00,\n",
      "        0.0000e+00, 3.7832e-02, 0.0000e+00, 0.0000e+00, 0.0000e+00, 0.0000e+00,\n",
      "        0.0000e+00, 0.0000e+00, 2.0257e-03, 2.3230e-03, 0.0000e+00, 4.7178e-02,\n",
      "        3.2553e-03, 7.9724e-03, 1.5255e-02, 0.0000e+00, 0.0000e+00, 0.0000e+00,\n",
      "        0.0000e+00, 0.0000e+00, 2.7472e-02, 0.0000e+00, 3.6045e-02, 4.5283e-02,\n",
      "        0.0000e+00, 0.0000e+00, 4.1864e-03, 6.6592e-03, 3.8286e-03, 0.0000e+00,\n",
      "        6.4904e-04, 5.4291e-03, 2.0209e-02, 0.0000e+00, 2.8870e-02, 0.0000e+00,\n",
      "        2.6247e-02, 0.0000e+00, 7.3582e-03, 0.0000e+00, 0.0000e+00, 0.0000e+00,\n",
      "        0.0000e+00, 0.0000e+00, 0.0000e+00, 1.3936e-03, 0.0000e+00, 0.0000e+00,\n",
      "        0.0000e+00, 0.0000e+00, 2.4869e-02, 0.0000e+00, 0.0000e+00, 1.7798e-03,\n",
      "        0.0000e+00, 4.9382e-03, 3.6997e-03, 0.0000e+00, 0.0000e+00, 0.0000e+00,\n",
      "        1.8322e-02, 9.6997e-03, 2.8087e-03, 0.0000e+00, 0.0000e+00, 0.0000e+00,\n",
      "        4.1468e-03, 3.0907e-02, 0.0000e+00, 1.4382e-02, 0.0000e+00, 0.0000e+00,\n",
      "        0.0000e+00, 7.5791e-03, 0.0000e+00, 5.0056e-03, 1.9417e-03, 2.2290e-02,\n",
      "        2.8160e-02, 8.5745e-03, 1.8031e-02, 0.0000e+00, 5.5297e-02, 2.1114e-02,\n",
      "        0.0000e+00, 0.0000e+00, 1.0246e-02, 0.0000e+00, 0.0000e+00, 0.0000e+00,\n",
      "        0.0000e+00, 7.9270e-03, 2.3995e-02, 0.0000e+00, 7.5735e-02, 0.0000e+00,\n",
      "        4.5932e-03, 9.9823e-03, 0.0000e+00, 1.1923e-02, 2.6915e-02, 2.5840e-03,\n",
      "        1.1931e-02, 0.0000e+00, 0.0000e+00, 0.0000e+00, 0.0000e+00, 3.8981e-02,\n",
      "        0.0000e+00, 0.0000e+00, 6.6098e-02, 0.0000e+00, 1.0745e-02, 0.0000e+00,\n",
      "        0.0000e+00, 2.5699e-02, 6.5987e-03, 0.0000e+00, 7.2797e-03, 9.8171e-03,\n",
      "        5.2050e-03, 2.6045e-02, 8.0305e-03, 0.0000e+00, 0.0000e+00, 1.2187e-02,\n",
      "        0.0000e+00, 1.5377e-02, 3.8599e-02, 0.0000e+00, 0.0000e+00, 4.7870e-02,\n",
      "        3.3704e-02, 1.7868e-02, 2.2366e-02, 0.0000e+00, 2.1706e-02, 9.1792e-02,\n",
      "        6.1331e-02, 5.1873e-03, 3.7316e-03, 0.0000e+00, 0.0000e+00, 3.2296e-02,\n",
      "        4.2525e-03, 0.0000e+00, 0.0000e+00, 1.1531e-02, 0.0000e+00, 7.6597e-02,\n",
      "        0.0000e+00, 3.1477e-03, 1.8359e-02, 0.0000e+00, 0.0000e+00, 0.0000e+00,\n",
      "        0.0000e+00, 0.0000e+00, 0.0000e+00, 8.5540e-03, 5.9017e-02, 5.8516e-02,\n",
      "        6.7119e-03, 2.9329e-03, 1.6693e-03, 4.3074e-02, 0.0000e+00, 0.0000e+00,\n",
      "        2.7413e-02, 3.1397e-02, 0.0000e+00, 0.0000e+00, 0.0000e+00, 0.0000e+00,\n",
      "        0.0000e+00, 0.0000e+00, 1.5649e-02, 0.0000e+00, 0.0000e+00, 3.2082e-02,\n",
      "        0.0000e+00, 0.0000e+00, 4.2564e-03, 0.0000e+00, 8.8624e-03, 1.8225e-02,\n",
      "        0.0000e+00, 0.0000e+00, 0.0000e+00, 1.6051e-02, 2.3678e-03, 0.0000e+00,\n",
      "        0.0000e+00, 0.0000e+00, 0.0000e+00, 4.7793e-04, 0.0000e+00, 3.7198e-02,\n",
      "        0.0000e+00, 0.0000e+00, 0.0000e+00, 3.1338e-03, 1.9364e-02, 0.0000e+00,\n",
      "        0.0000e+00, 0.0000e+00, 0.0000e+00, 3.3433e-04, 0.0000e+00, 0.0000e+00,\n",
      "        0.0000e+00, 0.0000e+00, 2.7301e-02, 4.4170e-02, 5.8108e-03, 3.8346e-02,\n",
      "        1.4573e-02, 0.0000e+00, 5.0513e-03, 0.0000e+00, 8.3705e-03, 6.9491e-02,\n",
      "        9.5177e-03, 0.0000e+00, 2.8665e-02, 2.3209e-02, 0.0000e+00, 0.0000e+00,\n",
      "        0.0000e+00, 0.0000e+00, 0.0000e+00, 0.0000e+00, 0.0000e+00, 0.0000e+00,\n",
      "        5.7677e-02, 7.7757e-03, 4.3206e-02, 9.9635e-02, 3.2251e-04, 0.0000e+00,\n",
      "        1.1950e-02, 2.2249e-03, 2.3321e-02, 5.9829e-02, 0.0000e+00, 0.0000e+00,\n",
      "        0.0000e+00, 2.1030e-02, 2.1977e-02, 0.0000e+00, 0.0000e+00, 2.9933e-02,\n",
      "        0.0000e+00, 0.0000e+00, 1.9547e-01, 0.0000e+00, 0.0000e+00, 1.4858e-02,\n",
      "        0.0000e+00, 0.0000e+00, 0.0000e+00, 0.0000e+00, 9.6281e-03, 2.9666e-02,\n",
      "        0.0000e+00, 4.1327e-02, 0.0000e+00, 0.0000e+00, 1.3608e-01, 5.7867e-03,\n",
      "        2.4279e-02, 5.0889e-03, 0.0000e+00, 1.9043e-02, 1.5639e-02, 0.0000e+00,\n",
      "        0.0000e+00, 2.5692e-03, 3.9069e-02, 1.0425e-03, 1.0490e-01, 0.0000e+00,\n",
      "        6.4791e-02, 7.5193e-02, 6.7046e-02, 0.0000e+00, 1.2744e-01, 0.0000e+00,\n",
      "        0.0000e+00, 0.0000e+00, 1.4051e-02, 4.1833e-03, 0.0000e+00, 0.0000e+00,\n",
      "        2.2490e-02, 9.9370e-02, 0.0000e+00, 1.1365e-03, 0.0000e+00, 1.4009e-01,\n",
      "        2.3371e-02, 0.0000e+00, 0.0000e+00, 0.0000e+00, 8.6468e-03, 7.3585e-03,\n",
      "        0.0000e+00, 1.1576e-02, 2.2717e-02, 4.1282e-03, 7.1392e-02, 0.0000e+00,\n",
      "        0.0000e+00, 1.8604e-02, 2.0542e-02, 0.0000e+00, 1.4261e-02, 0.0000e+00,\n",
      "        0.0000e+00, 0.0000e+00, 3.2167e-02, 1.5082e-02, 0.0000e+00, 0.0000e+00,\n",
      "        4.7217e-02, 4.1998e-03, 1.2476e-02, 1.5498e-02, 0.0000e+00, 4.4454e-02,\n",
      "        0.0000e+00, 0.0000e+00, 0.0000e+00, 0.0000e+00, 0.0000e+00, 4.6808e-02,\n",
      "        1.3106e-02, 0.0000e+00, 7.2761e-02, 7.2122e-02, 0.0000e+00, 8.8208e-02,\n",
      "        1.5857e-03, 1.1777e-02, 0.0000e+00, 7.2000e-04, 1.6984e-02, 1.3924e-02,\n",
      "        0.0000e+00, 8.5961e-03, 5.5414e-03, 0.0000e+00, 3.7345e-02, 1.4212e-02,\n",
      "        9.0052e-03, 1.9117e-03, 5.8247e-02, 0.0000e+00, 0.0000e+00, 0.0000e+00,\n",
      "        8.3935e-02, 1.3767e-02, 2.9058e-02, 3.0649e-02, 6.2686e-02, 5.5018e-02,\n",
      "        2.3397e-03, 0.0000e+00, 7.6350e-03, 3.5863e-02, 0.0000e+00, 0.0000e+00,\n",
      "        2.7464e-02, 8.0512e-03, 3.7028e-02, 0.0000e+00, 1.4359e-02, 1.3705e-03,\n",
      "        0.0000e+00, 7.8185e-02, 3.8832e-03, 5.5642e-02, 0.0000e+00, 1.0351e-03,\n",
      "        4.0994e-02, 1.2564e-02, 2.5081e-03, 2.6707e-03, 0.0000e+00, 1.3133e-02,\n",
      "        2.9880e-02, 7.8974e-03, 0.0000e+00, 2.7759e-03, 0.0000e+00, 1.2222e-02,\n",
      "        2.2498e-02, 0.0000e+00, 7.7712e-03, 0.0000e+00, 0.0000e+00, 1.5371e-02,\n",
      "        0.0000e+00, 3.6126e-02, 2.3489e-02, 0.0000e+00, 0.0000e+00, 7.6062e-03,\n",
      "        0.0000e+00, 2.6854e-03, 1.3921e-02, 0.0000e+00, 4.7083e-02, 2.7354e-03,\n",
      "        2.5178e-02, 0.0000e+00, 2.0863e-03, 3.7154e-02, 1.7385e-02, 3.5472e-02,\n",
      "        4.0270e-02, 7.0746e-03, 3.6714e-02, 1.6767e-02, 4.3770e-02, 0.0000e+00,\n",
      "        7.1217e-02, 2.3365e-02, 4.5051e-02, 2.4337e-02, 1.2386e-02, 3.2841e-02,\n",
      "        4.4406e-02, 6.8448e-02, 3.0706e-02, 2.8468e-02, 0.0000e+00, 5.3628e-02,\n",
      "        0.0000e+00, 0.0000e+00, 7.7652e-03, 4.6164e-02, 1.2766e-01, 4.5350e-04,\n",
      "        1.1211e-01, 9.5315e-02, 4.8004e-02, 3.2626e-02, 2.9718e-02, 6.0445e-02,\n",
      "        2.0046e-02, 4.6326e-02, 2.6551e-02, 3.7930e-02, 0.0000e+00, 0.0000e+00,\n",
      "        3.2436e-03, 3.9892e-02, 9.7507e-02, 2.0532e-02, 2.4111e-02, 1.1678e-01,\n",
      "        0.0000e+00, 3.0222e-02, 1.0156e-01, 8.7720e-02, 2.5779e-02, 2.2894e-02,\n",
      "        2.2441e-02, 5.3155e-02, 5.0568e-02, 2.9093e-02, 5.9817e-02, 6.2474e-02,\n",
      "        8.6965e-03, 9.1686e-02, 5.1260e-02, 1.2225e-01, 2.7622e-02, 5.3164e-02,\n",
      "        4.8035e-03, 8.7406e-02, 1.8797e-02, 2.3083e-02, 3.5330e-02, 2.1612e-02,\n",
      "        8.2376e-02, 0.0000e+00, 8.2175e-02, 3.4042e-02, 1.0219e-01, 4.7702e-02,\n",
      "        4.4731e-02, 1.5709e-02, 8.4671e-03, 8.8149e-02, 1.5345e-02, 3.2717e-02,\n",
      "        1.2553e-02, 3.6536e-02, 7.7203e-02, 7.4693e-02, 8.5633e-02, 5.4653e-03,\n",
      "        2.9033e-02, 1.3157e-02, 7.6125e-02, 3.6174e-02, 1.3008e-02, 3.4746e-02,\n",
      "        7.1953e-03, 1.0251e-02, 8.2108e-03, 2.3657e-02, 1.2967e-02, 4.5151e-02,\n",
      "        5.0471e-02, 2.4590e-03, 4.5268e-02, 7.1100e-02, 4.6198e-02, 4.5650e-02,\n",
      "        6.4401e-02, 2.0636e-02, 1.5691e-01, 8.6050e-02, 3.0043e-02, 4.5074e-02,\n",
      "        7.1748e-02, 1.0381e-01, 2.9807e-01, 1.1195e-02, 2.8824e-02, 4.3500e-02,\n",
      "        9.1792e-02, 1.2877e-01, 6.8981e-02, 2.8231e-02, 5.3424e-02, 1.1438e-01,\n",
      "        1.2896e-01, 9.3310e-03, 9.0403e-02, 5.8027e-02, 2.2883e-01, 2.2504e-03,\n",
      "        2.9521e-03, 0.0000e+00, 4.5506e-02, 2.6282e-02, 1.7731e-01, 1.9499e-02,\n",
      "        6.1794e-02, 6.2481e-02, 4.5402e-02, 5.5674e-02, 2.9676e-02, 5.1551e-02,\n",
      "        8.4966e-02, 8.5853e-02, 3.0582e-02, 3.7155e-02, 3.5308e-03, 5.2967e-02,\n",
      "        5.6282e-03, 1.0329e-01, 4.6360e-02, 3.1568e-02, 1.9278e-02, 4.0353e-03,\n",
      "        4.4217e-02, 1.5904e-01, 5.0569e-02, 4.3110e-02, 1.4138e-01, 8.4529e-02,\n",
      "        1.7944e-01, 6.9712e-02, 1.1555e-01, 4.5289e-02, 1.7827e-02, 6.4616e-02,\n",
      "        8.3945e-02, 5.8627e-02, 7.6685e-02, 2.9706e-02, 4.2485e-02, 3.8747e-01,\n",
      "        1.1914e-02, 1.6523e-02, 2.3227e-02, 1.1743e-02, 2.5879e-02, 3.0516e-02,\n",
      "        3.1436e-02, 1.1532e-02, 1.5316e-01, 2.3845e-02, 3.2470e-02, 1.1996e-02,\n",
      "        1.6268e-02, 6.1454e-02, 6.5387e-02, 2.3762e-01, 3.8597e-01, 1.5080e-01,\n",
      "        2.1432e-01, 2.4217e-01, 3.6497e-02, 1.2600e-01, 6.6014e-02, 4.7328e-02,\n",
      "        1.3598e-01, 5.9012e-02, 0.0000e+00, 1.6638e-01, 2.0732e-01, 7.9186e-02,\n",
      "        1.5955e-01, 5.4497e-02, 6.4690e-02, 1.1564e-01, 3.5125e-02, 1.4086e-01,\n",
      "        7.3762e-02, 4.5626e-02, 1.3239e-01, 0.0000e+00, 5.7439e-02, 1.0094e-01,\n",
      "        6.8279e-02, 5.1929e-03, 6.2676e-02, 6.9824e-02, 2.7989e-02, 1.0736e-01,\n",
      "        1.2543e-01, 4.7685e-02, 1.6466e-01, 4.1444e-02, 6.1004e-02, 1.4046e-01,\n",
      "        1.4543e-01, 3.4063e-02, 7.5719e-02, 7.4924e-02, 5.2801e-02, 4.3752e-02,\n",
      "        2.3191e-01, 3.4461e-01, 2.3441e-01, 2.3802e-01, 5.7964e-02, 3.8956e-01,\n",
      "        6.2610e-02, 1.0068e-01, 6.2454e-02, 8.0223e-02, 9.3691e-02, 3.0515e-02,\n",
      "        9.9266e-02, 2.0620e-01, 1.3891e-01, 1.9509e-01, 4.1523e-02, 1.0536e-01,\n",
      "        2.4358e-02, 1.5792e-01, 1.5520e-01, 1.2143e-01, 3.1448e-01, 6.4107e-02,\n",
      "        2.7910e-01, 3.4679e-02, 2.4748e-01, 1.2626e-01, 2.9544e-01, 2.2447e-01,\n",
      "        1.1918e-01, 1.4317e-01, 4.0336e-01, 1.9896e-01, 1.4464e-01, 1.4270e-01,\n",
      "        3.7984e-01, 1.4448e-01, 2.2841e-01, 9.2817e-02, 1.8367e-01, 1.6935e-01,\n",
      "        2.4712e-02, 1.5766e-01, 1.2705e-01, 5.2013e-01, 4.0195e-01, 1.7661e-01,\n",
      "        1.0468e-01, 1.2464e-01, 1.7052e-02, 8.4648e-02, 1.9623e-01, 2.1604e-01,\n",
      "        1.9366e-01, 7.5583e-02, 6.0175e-02, 1.6207e-01, 4.1737e-02, 1.5634e-01,\n",
      "        1.6966e-01, 7.2264e-02, 7.6979e-02, 2.2395e-02, 4.8800e-02, 0.0000e+00,\n",
      "        5.5744e-02, 1.8362e-01, 4.8176e-01, 5.1100e-02, 1.6227e-01, 5.1188e-01,\n",
      "        1.3844e-01, 1.6824e-02, 4.1619e-01, 1.9217e-01, 1.1287e-01, 3.6208e-01,\n",
      "        2.6467e-01, 3.3181e-01, 1.7382e-01, 2.8461e-01, 7.9339e-02, 1.0003e-01,\n",
      "        3.1615e-01, 2.4915e-01, 2.2267e-01, 5.8370e-02, 7.3153e-02, 1.2902e-01,\n",
      "        1.2821e-01, 5.3319e-02, 8.5694e-02, 1.0329e-01, 1.6419e-01, 1.0846e-01,\n",
      "        4.5487e-02, 1.1074e-01, 2.5203e-02, 1.6836e-01, 1.0402e-01, 1.2508e-01,\n",
      "        1.6500e-01, 7.3651e-02, 7.5206e-02, 7.9358e-02, 2.1002e-01, 3.4318e-02]) tensor(0.5201) tensor(40.2090)\n",
      "Chosen edges: tensor([[   2,    2,    2,    5,    6,    9,    9,    9,    9,   14,    0,    0,\n",
      "            0,    4,   11,   11,   12,   13,   13,   14,   14,   14,   13,    1,\n",
      "            1,    1,    3,    4,    5,    6,    6,    6,    6,    7,    7,    8,\n",
      "           10,   10,   11,   11,   12,   12,   12,   13,   13,   11,   14,    0,\n",
      "            0,    0,    0,    1,    4,    4,    5,    6,    7,    7,    8,    8,\n",
      "            8,   10,   10,   10,   11,   12,   12,   12,   13,   14,   14,   14,\n",
      "            5,    9,    3,    4,    5,    5,    7,    7,   10,   11,   11,   12,\n",
      "           12,   12,   12,   13,   14,   14,   13,    0,    0,    0,    1,    1,\n",
      "            1,    3,    3,    4,    4,    6,    6,    6,    7,    7,    8,    8,\n",
      "            8,   10,   10,   13,    0,    1,    1,    1,    3,    3,    3,    5,\n",
      "            6,    7,    9,   10,   11,   12,   12,   12,   12,   12,   13,   13,\n",
      "            0,    1,    6,   11,   14,    0,    0,    0,    0,    0,    1,    1,\n",
      "            1,    1,    1,    1,    1,    1,    3,    3,    3,    3,    3,    3,\n",
      "            3,    3,    3,    3,    3,    4,    4,    4,    4,    4,    4,    4,\n",
      "            4,    4,    4,    4,    4,    4,    4,    4,    5,    5,    5,    5,\n",
      "            5,    5,    6,    6,    6,    6,    6,    6,    7,    7,    7,    7,\n",
      "            7,    7,    8,    8,    8,    8,    8,    8,    8,    8,    8,    8,\n",
      "            8,    8,   10,   10,   10,   10,   10,   10,   10,   10,   10,   10,\n",
      "           10,   10,   10,   10,   10,   10,   10,   10,   11,   12,   12,   12,\n",
      "           12,   12,   12,   12,   12,   13,   14,   14,   14,   14,   14,   14,\n",
      "           14],\n",
      "        [  29,   50,   56,   33,   39,   39,   46,   57,   60,    1,   72,   74,\n",
      "           82,  238,  585,  617,  668,  735,  736,  754,  783,  785,  866,  899,\n",
      "          904,  926,  949, 1002, 1027, 1030, 1031, 1035, 1038, 1061, 1067, 1090,\n",
      "         1149, 1155, 1168, 1191, 1197, 1219, 1221, 1244, 1246, 1323, 1339, 1346,\n",
      "         1356, 1364, 1367, 1374, 1402, 1411, 1431, 1433, 1444, 1449, 1455, 1466,\n",
      "         1473, 1481, 1483, 1492, 1498, 1504, 1508, 1513, 1523, 1536, 1537, 1538,\n",
      "         1543, 1553, 1556, 1559, 1561, 1562, 1565, 1566, 1567, 1571, 1572, 1573,\n",
      "         1575, 1576, 1577, 1579, 1580, 1581, 1587, 1589, 1590, 1592, 1594, 1595,\n",
      "         1596, 1600, 1602, 1608, 1609, 1611, 1612, 1613, 1614, 1615, 1618, 1619,\n",
      "         1620, 1621, 1624, 1633, 1638, 1639, 1640, 1641, 1642, 1643, 1644, 1646,\n",
      "         1647, 1649, 1650, 1652, 1653, 1654, 1655, 1656, 1657, 1658, 1660, 1661,\n",
      "         1663, 1665, 1666, 1667, 1669, 1670, 1672, 1673, 1675, 1677, 1678, 1679,\n",
      "         1681, 1682, 1683, 1685, 1686, 1687, 1688, 1689, 1690, 1691, 1692, 1693,\n",
      "         1694, 1695, 1697, 1698, 1699, 1700, 1702, 1704, 1705, 1706, 1707, 1708,\n",
      "         1709, 1711, 1712, 1713, 1714, 1715, 1716, 1717, 1718, 1719, 1720, 1721,\n",
      "         1722, 1723, 1724, 1725, 1726, 1728, 1729, 1730, 1731, 1732, 1733, 1734,\n",
      "         1736, 1737, 1738, 1739, 1740, 1741, 1742, 1744, 1745, 1746, 1747, 1751,\n",
      "         1752, 1753, 1754, 1755, 1756, 1757, 1759, 1760, 1761, 1762, 1763, 1764,\n",
      "         1765, 1766, 1767, 1768, 1769, 1770, 1771, 1772, 1773, 1774, 1775, 1776,\n",
      "         1777, 1778, 1779, 1780, 1782, 1784, 1785, 1786, 1787, 1788, 1789, 1790,\n",
      "         1791]]) 241\n"
     ]
    },
    {
     "name": "stderr",
     "output_type": "stream",
     "text": [
      "100%|██████████| 51/51 [00:02<00:00, 18.04it/s]\n"
     ]
    },
    {
     "name": "stdout",
     "output_type": "stream",
     "text": [
      "Fine-Tune Epoch 1/10 | Train Loss: 2.2244 | Val Loss: 2.0704\n"
     ]
    },
    {
     "name": "stderr",
     "output_type": "stream",
     "text": [
      "100%|██████████| 51/51 [00:02<00:00, 22.08it/s]\n"
     ]
    },
    {
     "name": "stdout",
     "output_type": "stream",
     "text": [
      "Fine-Tune Epoch 2/10 | Train Loss: 2.1364 | Val Loss: 2.0185\n"
     ]
    },
    {
     "name": "stderr",
     "output_type": "stream",
     "text": [
      "100%|██████████| 51/51 [00:02<00:00, 21.92it/s]\n"
     ]
    },
    {
     "name": "stdout",
     "output_type": "stream",
     "text": [
      "Fine-Tune Epoch 3/10 | Train Loss: 2.0946 | Val Loss: 1.9909\n"
     ]
    },
    {
     "name": "stderr",
     "output_type": "stream",
     "text": [
      "100%|██████████| 51/51 [00:02<00:00, 20.54it/s]\n"
     ]
    },
    {
     "name": "stdout",
     "output_type": "stream",
     "text": [
      "Fine-Tune Epoch 4/10 | Train Loss: 2.0756 | Val Loss: 1.9743\n"
     ]
    },
    {
     "name": "stderr",
     "output_type": "stream",
     "text": [
      "100%|██████████| 51/51 [00:02<00:00, 20.96it/s]\n"
     ]
    },
    {
     "name": "stdout",
     "output_type": "stream",
     "text": [
      "Fine-Tune Epoch 5/10 | Train Loss: 2.0574 | Val Loss: 1.9619\n"
     ]
    },
    {
     "name": "stderr",
     "output_type": "stream",
     "text": [
      "100%|██████████| 51/51 [00:02<00:00, 21.64it/s]\n"
     ]
    },
    {
     "name": "stdout",
     "output_type": "stream",
     "text": [
      "Fine-Tune Epoch 6/10 | Train Loss: 2.0427 | Val Loss: 1.9519\n"
     ]
    },
    {
     "name": "stderr",
     "output_type": "stream",
     "text": [
      "100%|██████████| 51/51 [00:02<00:00, 19.87it/s]\n"
     ]
    },
    {
     "name": "stdout",
     "output_type": "stream",
     "text": [
      "Fine-Tune Epoch 7/10 | Train Loss: 2.0343 | Val Loss: 1.9433\n"
     ]
    },
    {
     "name": "stderr",
     "output_type": "stream",
     "text": [
      "100%|██████████| 51/51 [00:02<00:00, 20.39it/s]\n"
     ]
    },
    {
     "name": "stdout",
     "output_type": "stream",
     "text": [
      "Fine-Tune Epoch 8/10 | Train Loss: 2.0217 | Val Loss: 1.9363\n"
     ]
    },
    {
     "name": "stderr",
     "output_type": "stream",
     "text": [
      "100%|██████████| 51/51 [00:02<00:00, 20.79it/s]\n"
     ]
    },
    {
     "name": "stdout",
     "output_type": "stream",
     "text": [
      "Fine-Tune Epoch 9/10 | Train Loss: 2.0179 | Val Loss: 1.9308\n"
     ]
    },
    {
     "name": "stderr",
     "output_type": "stream",
     "text": [
      "100%|██████████| 51/51 [00:02<00:00, 20.03it/s]\n"
     ]
    },
    {
     "name": "stdout",
     "output_type": "stream",
     "text": [
      "Fine-Tune Epoch 10/10 | Train Loss: 2.0073 | Val Loss: 1.9256\n"
     ]
    },
    {
     "name": "stderr",
     "output_type": "stream",
     "text": [
      "100%|██████████| 51/51 [00:03<00:00, 15.88it/s]\n"
     ]
    },
    {
     "name": "stdout",
     "output_type": "stream",
     "text": [
      "Epoch 34/50 | Train Loss: 1.9973 | Val Loss: 24.7785 | Val Accuracy: 0.3587\n"
     ]
    },
    {
     "name": "stderr",
     "output_type": "stream",
     "text": [
      "100%|██████████| 51/51 [00:03<00:00, 14.21it/s]\n"
     ]
    },
    {
     "name": "stdout",
     "output_type": "stream",
     "text": [
      "Epoch 35/50 | Train Loss: 1.9759 | Val Loss: 24.6690 | Val Accuracy: 0.3587\n"
     ]
    },
    {
     "name": "stderr",
     "output_type": "stream",
     "text": [
      "100%|██████████| 51/51 [00:03<00:00, 16.41it/s]\n"
     ]
    },
    {
     "name": "stdout",
     "output_type": "stream",
     "text": [
      "Epoch 36/50 | Train Loss: 1.9662 | Val Loss: 24.5887 | Val Accuracy: 0.3588\n"
     ]
    },
    {
     "name": "stderr",
     "output_type": "stream",
     "text": [
      "100%|██████████| 51/51 [00:03<00:00, 15.87it/s]\n"
     ]
    },
    {
     "name": "stdout",
     "output_type": "stream",
     "text": [
      "Epoch 37/50 | Train Loss: 1.9639 | Val Loss: 24.5306 | Val Accuracy: 0.3614\n",
      "Edge metrics: tensor([2.6994e-02, 1.2186e-02, 5.5331e-03, 4.1008e-03, 2.5159e-02, 3.6573e-02,\n",
      "        2.9727e-02, 3.0287e-02, 2.2767e-02, 1.7356e-03, 6.6063e-03, 1.9865e-02,\n",
      "        1.0505e-02, 2.7792e-02, 4.4217e-03, 1.1532e-02, 2.6531e-02, 3.5571e-02,\n",
      "        1.5408e-02, 2.0265e-02, 1.1130e-04, 1.0429e-02, 3.3312e-02, 9.4923e-03,\n",
      "        4.3587e-02, 2.4439e-02, 2.4770e-02, 3.6186e-02, 5.5135e-03, 2.6138e-02,\n",
      "        6.3677e-03, 2.9872e-02, 2.4372e-02, 2.7004e-02, 8.8489e-03, 2.1804e-02,\n",
      "        2.3440e-03, 2.7253e-02, 2.5693e-02, 1.9916e-02, 9.5971e-03, 2.3318e-02,\n",
      "        4.1722e-02, 1.9290e-02, 6.4976e-03, 2.0434e-02, 2.7955e-03, 4.7589e-03,\n",
      "        2.6839e-02, 5.2711e-03, 1.9470e-02, 3.8811e-02, 2.4475e-02, 3.2357e-02,\n",
      "        3.4125e-03, 7.1718e-03, 2.5106e-02, 2.2556e-02, 1.6851e-02, 3.6155e-02,\n",
      "        2.9087e-02, 1.6557e-02, 5.8007e-03, 3.0411e-03, 2.1439e-02, 1.4251e-02,\n",
      "        1.7188e-02, 2.3707e-02, 1.3485e-02, 2.0032e-02, 1.4360e-02, 3.7256e-02,\n",
      "        3.4282e-02, 4.7987e-03, 1.5566e-02, 3.1450e-02, 2.0754e-02, 1.1520e-03,\n",
      "        1.4377e-02, 4.0590e-02, 8.9543e-04, 2.7330e-03, 6.5614e-03, 4.4966e-03,\n",
      "        1.7216e-02, 7.4446e-03, 6.6224e-03, 2.6805e-02, 3.4641e-03, 1.5079e-02,\n",
      "        4.7911e-02, 4.1860e-02, 3.3736e-02, 1.4626e-02, 4.2144e-02, 7.0000e-03,\n",
      "        6.9556e-03, 2.7205e-02, 5.2408e-02, 2.0128e-02, 1.1243e-02, 0.0000e+00,\n",
      "        3.8552e-02, 0.0000e+00, 0.0000e+00, 5.6906e-03, 0.0000e+00, 0.0000e+00,\n",
      "        0.0000e+00, 0.0000e+00, 0.0000e+00, 0.0000e+00, 0.0000e+00, 0.0000e+00,\n",
      "        0.0000e+00, 0.0000e+00, 1.6688e-02, 1.0192e-02, 2.1421e-02, 0.0000e+00,\n",
      "        1.0676e-02, 1.4684e-02, 0.0000e+00, 0.0000e+00, 1.9997e-02, 0.0000e+00,\n",
      "        0.0000e+00, 0.0000e+00, 0.0000e+00, 0.0000e+00, 0.0000e+00, 0.0000e+00,\n",
      "        0.0000e+00, 2.4872e-02, 0.0000e+00, 2.2669e-02, 4.9764e-02, 1.2050e-02,\n",
      "        0.0000e+00, 0.0000e+00, 5.2156e-03, 0.0000e+00, 0.0000e+00, 0.0000e+00,\n",
      "        0.0000e+00, 2.1209e-02, 0.0000e+00, 0.0000e+00, 0.0000e+00, 0.0000e+00,\n",
      "        0.0000e+00, 4.9642e-02, 6.4838e-02, 7.5863e-03, 0.0000e+00, 0.0000e+00,\n",
      "        1.2489e-02, 0.0000e+00, 0.0000e+00, 2.5320e-02, 2.4043e-02, 0.0000e+00,\n",
      "        7.4356e-03, 9.6761e-03, 0.0000e+00, 0.0000e+00, 0.0000e+00, 4.7479e-02,\n",
      "        1.3550e-02, 0.0000e+00, 0.0000e+00, 0.0000e+00, 0.0000e+00, 2.8794e-02,\n",
      "        0.0000e+00, 0.0000e+00, 0.0000e+00, 0.0000e+00, 0.0000e+00, 0.0000e+00,\n",
      "        0.0000e+00, 1.1313e-02, 0.0000e+00, 4.0476e-03, 0.0000e+00, 1.0554e-02,\n",
      "        0.0000e+00, 0.0000e+00, 8.0462e-02, 0.0000e+00, 0.0000e+00, 0.0000e+00,\n",
      "        0.0000e+00, 0.0000e+00, 0.0000e+00, 0.0000e+00, 0.0000e+00, 0.0000e+00,\n",
      "        2.3655e-03, 9.8193e-03, 0.0000e+00, 7.9358e-02, 0.0000e+00, 1.4563e-03,\n",
      "        1.2230e-02, 0.0000e+00, 0.0000e+00, 0.0000e+00, 0.0000e+00, 0.0000e+00,\n",
      "        1.3202e-02, 0.0000e+00, 0.0000e+00, 1.3643e-02, 0.0000e+00, 0.0000e+00,\n",
      "        5.8273e-04, 7.6034e-03, 1.1093e-02, 0.0000e+00, 0.0000e+00, 1.9889e-03,\n",
      "        1.9832e-02, 0.0000e+00, 2.1436e-02, 0.0000e+00, 2.1339e-02, 0.0000e+00,\n",
      "        6.3830e-03, 0.0000e+00, 0.0000e+00, 0.0000e+00, 0.0000e+00, 0.0000e+00,\n",
      "        0.0000e+00, 1.2563e-03, 0.0000e+00, 0.0000e+00, 0.0000e+00, 0.0000e+00,\n",
      "        3.8207e-02, 0.0000e+00, 0.0000e+00, 5.4166e-04, 0.0000e+00, 2.7534e-03,\n",
      "        1.2029e-02, 0.0000e+00, 0.0000e+00, 0.0000e+00, 8.3363e-03, 3.9972e-03,\n",
      "        0.0000e+00, 0.0000e+00, 0.0000e+00, 0.0000e+00, 1.6797e-03, 2.5709e-02,\n",
      "        0.0000e+00, 1.4014e-02, 0.0000e+00, 0.0000e+00, 0.0000e+00, 2.4096e-03,\n",
      "        0.0000e+00, 3.4825e-03, 7.5709e-03, 4.7349e-02, 3.4534e-02, 4.5961e-03,\n",
      "        7.5579e-03, 0.0000e+00, 3.2847e-02, 0.0000e+00, 0.0000e+00, 7.7553e-03,\n",
      "        0.0000e+00, 0.0000e+00, 0.0000e+00, 0.0000e+00, 7.1263e-03, 4.1356e-02,\n",
      "        0.0000e+00, 0.0000e+00, 5.6361e-03, 2.8080e-02, 0.0000e+00, 6.5003e-03,\n",
      "        9.2337e-03, 0.0000e+00, 5.2542e-03, 0.0000e+00, 0.0000e+00, 0.0000e+00,\n",
      "        0.0000e+00, 4.0543e-02, 0.0000e+00, 0.0000e+00, 0.0000e+00, 6.9494e-03,\n",
      "        0.0000e+00, 0.0000e+00, 3.2968e-02, 2.4489e-02, 0.0000e+00, 0.0000e+00,\n",
      "        2.2373e-02, 2.4194e-03, 1.6878e-02, 7.4687e-03, 0.0000e+00, 0.0000e+00,\n",
      "        1.2966e-02, 0.0000e+00, 1.7258e-02, 3.6143e-02, 0.0000e+00, 0.0000e+00,\n",
      "        4.4359e-02, 1.8805e-02, 1.7783e-02, 3.3880e-02, 0.0000e+00, 3.0310e-02,\n",
      "        2.3807e-03, 1.6644e-02, 0.0000e+00, 0.0000e+00, 6.0680e-02, 2.0517e-03,\n",
      "        0.0000e+00, 0.0000e+00, 0.0000e+00, 0.0000e+00, 0.0000e+00, 1.8361e-03,\n",
      "        3.8106e-03, 0.0000e+00, 0.0000e+00, 0.0000e+00, 0.0000e+00, 0.0000e+00,\n",
      "        0.0000e+00, 1.0826e-02, 2.5575e-03, 0.0000e+00, 0.0000e+00, 5.2520e-02,\n",
      "        0.0000e+00, 0.0000e+00, 2.4991e-03, 1.3987e-02, 0.0000e+00, 0.0000e+00,\n",
      "        0.0000e+00, 0.0000e+00, 0.0000e+00, 0.0000e+00, 1.4413e-02, 0.0000e+00,\n",
      "        0.0000e+00, 4.0126e-02, 0.0000e+00, 0.0000e+00, 1.9093e-03, 0.0000e+00,\n",
      "        0.0000e+00, 9.6535e-03, 0.0000e+00, 0.0000e+00, 0.0000e+00, 1.2825e-02,\n",
      "        0.0000e+00, 0.0000e+00, 0.0000e+00, 0.0000e+00, 0.0000e+00, 0.0000e+00,\n",
      "        0.0000e+00, 7.1997e-03, 0.0000e+00, 0.0000e+00, 0.0000e+00, 0.0000e+00,\n",
      "        6.9455e-03, 0.0000e+00, 0.0000e+00, 0.0000e+00, 0.0000e+00, 0.0000e+00,\n",
      "        0.0000e+00, 0.0000e+00, 0.0000e+00, 0.0000e+00, 2.9508e-02, 1.4519e-02,\n",
      "        6.9898e-03, 5.1238e-02, 6.4428e-03, 0.0000e+00, 6.4417e-03, 0.0000e+00,\n",
      "        1.2599e-02, 0.0000e+00, 0.0000e+00, 4.2219e-03, 4.1582e-04, 0.0000e+00,\n",
      "        0.0000e+00, 0.0000e+00, 0.0000e+00, 0.0000e+00, 0.0000e+00, 0.0000e+00,\n",
      "        0.0000e+00, 8.9601e-03, 6.2197e-02, 0.0000e+00, 0.0000e+00, 0.0000e+00,\n",
      "        0.0000e+00, 1.5059e-02, 0.0000e+00, 0.0000e+00, 0.0000e+00, 1.0459e-02,\n",
      "        2.0407e-03, 0.0000e+00, 0.0000e+00, 3.7438e-02, 0.0000e+00, 0.0000e+00,\n",
      "        0.0000e+00, 0.0000e+00, 7.6024e-03, 0.0000e+00, 0.0000e+00, 0.0000e+00,\n",
      "        0.0000e+00, 1.0116e-02, 3.7299e-02, 0.0000e+00, 3.3876e-02, 0.0000e+00,\n",
      "        0.0000e+00, 3.3363e-03, 1.8851e-02, 0.0000e+00, 0.0000e+00, 2.3998e-02,\n",
      "        5.9425e-02, 0.0000e+00, 0.0000e+00, 0.0000e+00, 7.3861e-02, 0.0000e+00,\n",
      "        0.0000e+00, 0.0000e+00, 0.0000e+00, 0.0000e+00, 0.0000e+00, 4.3959e-03,\n",
      "        0.0000e+00, 0.0000e+00, 0.0000e+00, 1.2204e-02, 0.0000e+00, 2.7400e-04,\n",
      "        0.0000e+00, 4.4101e-02, 0.0000e+00, 0.0000e+00, 0.0000e+00, 0.0000e+00,\n",
      "        0.0000e+00, 0.0000e+00, 0.0000e+00, 0.0000e+00, 0.0000e+00, 0.0000e+00,\n",
      "        0.0000e+00, 1.3861e-02, 2.2959e-02, 0.0000e+00, 7.5173e-03, 0.0000e+00,\n",
      "        0.0000e+00, 0.0000e+00, 0.0000e+00, 6.2483e-03, 0.0000e+00, 0.0000e+00,\n",
      "        4.2696e-02, 2.1597e-03, 1.0039e-02, 2.5026e-03, 0.0000e+00, 9.5208e-02,\n",
      "        0.0000e+00, 0.0000e+00, 0.0000e+00, 0.0000e+00, 0.0000e+00, 8.0978e-02,\n",
      "        0.0000e+00, 0.0000e+00, 0.0000e+00, 7.8597e-04, 4.0414e-03, 0.0000e+00,\n",
      "        9.8815e-05, 1.9354e-02, 2.7228e-02, 0.0000e+00, 4.2325e-03, 0.0000e+00,\n",
      "        0.0000e+00, 3.3041e-02, 1.5893e-02, 1.3393e-02, 7.3064e-04, 0.0000e+00,\n",
      "        0.0000e+00, 0.0000e+00, 1.2076e-02, 4.7970e-02, 4.2358e-02, 1.0743e-03,\n",
      "        0.0000e+00, 7.6370e-03, 6.4272e-02, 0.0000e+00, 0.0000e+00, 2.1170e-02,\n",
      "        1.0428e-02, 6.7996e-02, 0.0000e+00, 1.1034e-02, 0.0000e+00, 0.0000e+00,\n",
      "        3.4042e-03, 0.0000e+00, 0.0000e+00, 1.2259e-01, 2.6642e-02, 0.0000e+00,\n",
      "        0.0000e+00, 0.0000e+00, 2.0221e-03, 2.9503e-03, 0.0000e+00, 0.0000e+00,\n",
      "        5.0799e-03, 0.0000e+00, 1.3356e-02, 1.6782e-02, 0.0000e+00, 1.3496e-02,\n",
      "        0.0000e+00, 0.0000e+00, 2.8523e-02, 0.0000e+00, 1.0434e-02, 1.1099e-02,\n",
      "        0.0000e+00, 0.0000e+00, 8.2488e-03, 0.0000e+00, 3.8534e-03, 3.2016e-03,\n",
      "        0.0000e+00, 3.8430e-02, 0.0000e+00, 2.2055e-02, 0.0000e+00, 0.0000e+00,\n",
      "        4.4786e-02, 0.0000e+00, 6.2092e-02, 3.8059e-02, 1.2945e-02, 5.6820e-02,\n",
      "        1.2807e-02, 6.6456e-02, 0.0000e+00, 2.3730e-02, 3.9547e-02, 1.7928e-02,\n",
      "        1.3354e-02, 4.0469e-02, 5.3836e-02, 1.3873e-02, 1.3165e-02, 0.0000e+00,\n",
      "        0.0000e+00, 0.0000e+00, 1.4093e-02, 4.0533e-02, 0.0000e+00, 2.9716e-02,\n",
      "        1.8264e-02, 2.6036e-02, 7.1501e-03, 1.2506e-01, 1.3948e-02, 1.7481e-02,\n",
      "        0.0000e+00, 0.0000e+00, 0.0000e+00, 3.5702e-02, 8.0609e-02, 6.8279e-03,\n",
      "        0.0000e+00, 4.7348e-02, 1.6970e-02, 2.2113e-02, 2.9290e-02, 1.5975e-02,\n",
      "        1.6954e-02, 3.6668e-02, 1.0619e-02, 1.5130e-02, 3.2461e-02, 6.7298e-02,\n",
      "        2.4909e-02, 0.0000e+00, 2.9622e-02, 6.8832e-02, 2.2007e-02, 2.4382e-02,\n",
      "        1.6154e-02, 2.7701e-02, 1.9220e-02, 2.5992e-02, 6.4211e-02, 0.0000e+00,\n",
      "        1.7183e-02, 0.0000e+00, 2.8916e-02, 6.7207e-03, 1.2094e-02, 0.0000e+00,\n",
      "        2.7949e-03, 2.3018e-03, 0.0000e+00, 0.0000e+00, 2.4249e-02, 0.0000e+00,\n",
      "        4.3482e-02, 4.3412e-02, 1.9402e-02, 1.9207e-02, 7.7155e-02, 4.7743e-02,\n",
      "        2.8841e-02, 0.0000e+00, 8.1733e-02, 5.2576e-02, 9.1924e-03, 3.7220e-04,\n",
      "        0.0000e+00, 0.0000e+00, 5.5373e-02, 2.3239e-02, 3.5196e-02, 4.6451e-02,\n",
      "        1.7654e-02, 1.5477e-02, 7.4977e-02, 1.3044e-03, 2.5860e-03, 8.7094e-03,\n",
      "        3.6633e-02, 3.8380e-02, 1.3734e-04, 1.3360e-01, 4.6436e-02, 6.8728e-02,\n",
      "        3.9113e-02, 1.8592e-02, 3.3024e-02, 6.6967e-03, 1.6983e-02, 3.1968e-02,\n",
      "        5.3967e-03, 5.4990e-02, 4.6288e-02, 3.8316e-02, 1.4953e-02, 0.0000e+00,\n",
      "        6.8384e-02, 4.4023e-03, 6.9448e-03, 2.0663e-02, 5.7109e-02, 0.0000e+00,\n",
      "        4.4464e-02, 8.6531e-02, 0.0000e+00, 1.7684e-03, 4.8397e-02, 6.4031e-02,\n",
      "        4.7667e-02, 5.2570e-02, 8.7952e-02, 5.0710e-02, 4.8912e-02, 1.1939e-02,\n",
      "        9.5605e-02, 8.3026e-03, 4.0342e-02, 5.3582e-02, 1.9532e-02, 1.0828e-01,\n",
      "        0.0000e+00, 7.8770e-03, 2.8557e-02, 4.4606e-02, 2.6661e-02, 2.3562e-02,\n",
      "        0.0000e+00, 0.0000e+00, 1.0548e-02, 1.8283e-02, 2.6463e-02, 3.6874e-02,\n",
      "        7.0749e-02, 8.1565e-03, 2.8330e-02, 7.2673e-02, 2.6324e-02, 5.6875e-02,\n",
      "        1.3535e-02, 3.5099e-02, 8.6027e-02, 1.3296e-02, 4.0853e-02, 3.5527e-02,\n",
      "        6.9121e-02, 2.1195e-02, 2.3558e-03, 1.2491e-02, 1.0414e-01, 1.0396e-01,\n",
      "        9.3163e-03, 2.7427e-01, 1.0534e-01, 1.9596e-02, 2.5192e-02, 5.4169e-02,\n",
      "        5.9150e-02, 1.5188e-01, 6.6584e-02, 2.2330e-01, 1.8703e-02, 1.4969e-01,\n",
      "        8.0786e-03, 6.3035e-02, 2.5806e-02, 4.8164e-02, 6.2827e-02, 4.6749e-02,\n",
      "        2.4728e-02, 2.3943e-02, 1.6759e-02, 8.8358e-02, 0.0000e+00, 8.4576e-02,\n",
      "        8.0701e-02, 3.2683e-02, 1.8840e-02, 7.2836e-02, 1.5831e-01, 6.6286e-02,\n",
      "        7.6721e-02, 4.8716e-02, 7.6088e-02, 1.1260e-02, 4.0315e-02, 5.1497e-02,\n",
      "        8.7329e-02, 3.2993e-02, 4.7245e-02, 2.9306e-01, 9.2539e-02, 8.0582e-02,\n",
      "        9.3581e-02, 7.2116e-02, 3.6791e-02, 5.7542e-02, 1.4811e-01, 0.0000e+00,\n",
      "        2.5215e-02, 4.8962e-02, 8.3551e-02, 1.8344e-01, 4.6901e-02, 1.1160e-02,\n",
      "        6.3729e-02, 3.5071e-01, 4.7675e-02, 9.0349e-02, 6.2916e-02, 4.7085e-02,\n",
      "        1.0858e-01, 1.4062e-01, 7.9847e-02, 3.4676e-02, 1.0665e-01, 4.3266e-02,\n",
      "        1.0619e-01, 5.1440e-02, 2.2236e-02, 4.0378e-02, 5.2087e-02, 3.8623e-02,\n",
      "        8.4858e-02, 1.3855e-01, 3.9029e-02, 4.0193e-02, 1.1392e-01, 5.4138e-02,\n",
      "        9.5393e-02, 4.2292e-02, 4.5281e-02, 2.5545e-02, 1.1170e-01, 4.7315e-03,\n",
      "        1.9643e-02, 4.8214e-01, 8.8016e-02, 1.4518e-02, 4.8488e-02, 3.7287e-01,\n",
      "        1.5915e-01, 1.0642e-01, 1.6923e-01, 2.8883e-01, 2.2015e-01, 4.4184e-02,\n",
      "        6.0363e-02, 2.7584e-02, 4.3177e-02, 2.1975e-01, 4.8487e-02, 1.9712e-01,\n",
      "        2.6492e-02, 4.3403e-02, 2.5445e-02, 0.0000e+00, 5.3733e-02, 6.2268e-02,\n",
      "        5.7495e-03, 9.1366e-02, 1.2328e-01, 1.6847e-01, 5.4393e-02, 7.2713e-02,\n",
      "        3.3038e-02, 3.0828e-02, 6.2375e-02, 3.2085e-01, 1.7347e-01, 6.4080e-02,\n",
      "        7.9137e-02, 2.2633e-01, 2.9148e-01, 1.1323e-01, 6.5492e-02, 4.3436e-02,\n",
      "        1.1732e-01, 4.9266e-01, 3.7154e-02, 8.0002e-02, 8.5519e-02, 3.7230e-02,\n",
      "        5.9465e-02, 2.9417e-02, 1.8293e-01, 1.0271e-01, 5.4750e-02, 8.8069e-02,\n",
      "        9.8235e-02, 3.4100e-01, 2.8404e-01, 1.9784e-01, 2.1328e-02, 9.3694e-02,\n",
      "        2.9566e-01, 1.5849e-01, 1.3841e-01, 8.7533e-02, 9.5181e-02, 7.4008e-02,\n",
      "        1.8865e-01, 2.1770e-01, 2.7223e-01, 1.1885e-01, 3.4164e-01, 1.1291e-01,\n",
      "        2.4926e-01, 3.8832e-02, 7.4083e-02, 1.5343e-01, 1.4697e-01, 1.0107e-01,\n",
      "        2.7875e-01, 1.7155e-01, 1.6551e-01, 5.5620e-02, 4.4996e-02, 3.0384e-02,\n",
      "        8.4866e-02, 1.5005e-01, 2.7259e-01, 1.9110e-01, 2.9735e-02, 2.6585e-01,\n",
      "        1.5763e-01, 1.4428e-01, 2.3872e-02, 4.7254e-02, 4.5026e-02, 7.4197e-02,\n",
      "        2.1479e-01, 1.4952e-01, 3.0288e-01, 1.9041e-01, 9.3644e-02, 6.2526e-01,\n",
      "        3.9389e-01, 1.1139e-01, 2.0632e-01, 2.8932e-01, 3.1221e-01, 2.0780e-01,\n",
      "        1.8863e-01, 8.7542e-02, 1.3808e-01, 4.2049e-01, 4.8266e-02, 3.3794e-01,\n",
      "        1.3333e-01, 3.7968e-02, 1.2271e-01, 1.1483e-01, 6.1452e-02, 8.3734e-02,\n",
      "        4.4877e-02, 9.9621e-02, 1.2203e-01, 3.0115e-02, 1.8553e-01, 6.9133e-02,\n",
      "        6.6109e-02, 1.3483e-01, 1.0994e-01, 4.4100e-02, 1.6744e-01, 2.0114e-01]) tensor(0.6253) tensor(35.0824)\n",
      "Chosen edges: tensor([[  14,    4,    6,    7,   14,    0,   11,    1,    5,    5,    9,   10,\n",
      "           13,   13,   14,    4,    5,    7,   14,    1,    4,   11,   12,   14,\n",
      "            6,   10,   12,    7,    3,    4,    7,   12,    9,    6,   14,    0,\n",
      "            1,    1,    3,    4,    8,    8,    9,    0,    0,   11,   14,    1,\n",
      "            1,    3,    4,    6,    6,    6,    7,    7,   10,   11,   12,   14,\n",
      "            0,    0,    4,    4,    5,    6,    7,    8,   10,   11,   12,   12,\n",
      "           12,   13,   14,   14,    4,    5,    7,   10,   11,   12,   12,   12,\n",
      "           13,   14,    0,    0,    1,    3,    3,    6,    6,    6,    8,   10,\n",
      "           13,    1,    1,    3,    3,    3,    5,    7,   11,   12,   13,    0,\n",
      "            6,   11,   14,    0,    0,    0,    1,    1,    1,    1,    1,    1,\n",
      "            1,    1,    3,    3,    3,    3,    3,    3,    3,    4,    4,    4,\n",
      "            4,    4,    4,    4,    4,    4,    4,    4,    4,    4,    4,    5,\n",
      "            5,    5,    5,    5,    5,    6,    6,    6,    6,    6,    7,    7,\n",
      "            7,    7,    8,    8,    8,    8,    8,    8,    8,    8,   10,   10,\n",
      "           10,   10,   10,   10,   10,   10,   10,   10,   10,   10,   10,   10,\n",
      "           10,   10,   10,   12,   12,   12,   12,   12,   12,   13,   14,   14,\n",
      "           14,   14,   14,   14],\n",
      "        [  31,  230,  354,  384,  747,  795,  859,  903, 1016, 1024, 1128, 1140,\n",
      "         1226, 1235, 1255, 1309, 1313, 1318, 1338, 1382, 1403, 1502, 1515, 1535,\n",
      "         1563, 1570, 1574, 1585, 1598, 1607, 1616, 1629, 1635, 1648, 1662, 1674,\n",
      "         1680, 1684, 1696, 1710, 1743, 1749, 1800, 1803, 1805, 1808, 1812, 1816,\n",
      "         1817, 1819, 1820, 1823, 1824, 1825, 1826, 1827, 1829, 1831, 1834, 1839,\n",
      "         1841, 1842, 1845, 1846, 1847, 1848, 1850, 1853, 1854, 1857, 1858, 1859,\n",
      "         1860, 1861, 1863, 1864, 1868, 1869, 1872, 1873, 1875, 1876, 1878, 1879,\n",
      "         1880, 1882, 1884, 1885, 1888, 1890, 1891, 1894, 1895, 1896, 1900, 1903,\n",
      "         1904, 1907, 1908, 1909, 1910, 1911, 1912, 1914, 1917, 1919, 1924, 1925,\n",
      "         1927, 1928, 1929, 1930, 1931, 1934, 1935, 1936, 1937, 1938, 1939, 1940,\n",
      "         1941, 1942, 1944, 1945, 1947, 1948, 1950, 1952, 1953, 1954, 1955, 1956,\n",
      "         1957, 1958, 1959, 1961, 1962, 1963, 1964, 1965, 1966, 1967, 1968, 1969,\n",
      "         1970, 1971, 1972, 1973, 1974, 1976, 1977, 1978, 1979, 1980, 1981, 1982,\n",
      "         1983, 1986, 1987, 1988, 1989, 1991, 1992, 1993, 1997, 1998, 1999, 2000,\n",
      "         2001, 2002, 2003, 2004, 2005, 2006, 2007, 2008, 2009, 2010, 2011, 2012,\n",
      "         2013, 2015, 2016, 2018, 2019, 2020, 2021, 2023, 2024, 2026, 2027, 2028,\n",
      "         2029, 2030, 2032, 2033]]) 196\n"
     ]
    },
    {
     "name": "stderr",
     "output_type": "stream",
     "text": [
      "100%|██████████| 51/51 [00:02<00:00, 18.50it/s]\n"
     ]
    },
    {
     "name": "stdout",
     "output_type": "stream",
     "text": [
      "Fine-Tune Epoch 1/10 | Train Loss: 2.1112 | Val Loss: 2.0270\n"
     ]
    },
    {
     "name": "stderr",
     "output_type": "stream",
     "text": [
      "100%|██████████| 51/51 [00:02<00:00, 17.72it/s]\n"
     ]
    },
    {
     "name": "stdout",
     "output_type": "stream",
     "text": [
      "Fine-Tune Epoch 2/10 | Train Loss: 2.0626 | Val Loss: 2.0000\n"
     ]
    },
    {
     "name": "stderr",
     "output_type": "stream",
     "text": [
      "100%|██████████| 51/51 [00:03<00:00, 16.77it/s]\n"
     ]
    },
    {
     "name": "stdout",
     "output_type": "stream",
     "text": [
      "Fine-Tune Epoch 3/10 | Train Loss: 2.0460 | Val Loss: 1.9837\n"
     ]
    },
    {
     "name": "stderr",
     "output_type": "stream",
     "text": [
      "100%|██████████| 51/51 [00:02<00:00, 18.64it/s]\n"
     ]
    },
    {
     "name": "stdout",
     "output_type": "stream",
     "text": [
      "Fine-Tune Epoch 4/10 | Train Loss: 2.0310 | Val Loss: 1.9691\n"
     ]
    },
    {
     "name": "stderr",
     "output_type": "stream",
     "text": [
      "100%|██████████| 51/51 [00:02<00:00, 18.90it/s]\n"
     ]
    },
    {
     "name": "stdout",
     "output_type": "stream",
     "text": [
      "Fine-Tune Epoch 5/10 | Train Loss: 2.0202 | Val Loss: 1.9575\n"
     ]
    },
    {
     "name": "stderr",
     "output_type": "stream",
     "text": [
      "100%|██████████| 51/51 [00:02<00:00, 18.33it/s]\n"
     ]
    },
    {
     "name": "stdout",
     "output_type": "stream",
     "text": [
      "Fine-Tune Epoch 6/10 | Train Loss: 2.0143 | Val Loss: 1.9481\n"
     ]
    },
    {
     "name": "stderr",
     "output_type": "stream",
     "text": [
      "100%|██████████| 51/51 [00:02<00:00, 19.41it/s]\n"
     ]
    },
    {
     "name": "stdout",
     "output_type": "stream",
     "text": [
      "Fine-Tune Epoch 7/10 | Train Loss: 2.0053 | Val Loss: 1.9392\n"
     ]
    },
    {
     "name": "stderr",
     "output_type": "stream",
     "text": [
      "100%|██████████| 51/51 [00:02<00:00, 17.87it/s]\n"
     ]
    },
    {
     "name": "stdout",
     "output_type": "stream",
     "text": [
      "Fine-Tune Epoch 8/10 | Train Loss: 1.9991 | Val Loss: 1.9319\n"
     ]
    },
    {
     "name": "stderr",
     "output_type": "stream",
     "text": [
      "100%|██████████| 51/51 [00:02<00:00, 17.54it/s]\n"
     ]
    },
    {
     "name": "stdout",
     "output_type": "stream",
     "text": [
      "Fine-Tune Epoch 9/10 | Train Loss: 1.9899 | Val Loss: 1.9255\n"
     ]
    },
    {
     "name": "stderr",
     "output_type": "stream",
     "text": [
      "100%|██████████| 51/51 [00:02<00:00, 18.53it/s]\n"
     ]
    },
    {
     "name": "stdout",
     "output_type": "stream",
     "text": [
      "Fine-Tune Epoch 10/10 | Train Loss: 1.9866 | Val Loss: 1.9195\n"
     ]
    },
    {
     "name": "stderr",
     "output_type": "stream",
     "text": [
      "100%|██████████| 51/51 [00:03<00:00, 15.04it/s]\n"
     ]
    },
    {
     "name": "stdout",
     "output_type": "stream",
     "text": [
      "Epoch 38/50 | Train Loss: 1.9779 | Val Loss: 24.6997 | Val Accuracy: 0.3582\n"
     ]
    },
    {
     "name": "stderr",
     "output_type": "stream",
     "text": [
      "100%|██████████| 51/51 [00:03<00:00, 13.25it/s]\n"
     ]
    },
    {
     "name": "stdout",
     "output_type": "stream",
     "text": [
      "Epoch 39/50 | Train Loss: 1.9629 | Val Loss: 24.5799 | Val Accuracy: 0.3588\n"
     ]
    },
    {
     "name": "stderr",
     "output_type": "stream",
     "text": [
      "100%|██████████| 51/51 [00:03<00:00, 14.05it/s]\n"
     ]
    },
    {
     "name": "stdout",
     "output_type": "stream",
     "text": [
      "Epoch 40/50 | Train Loss: 1.9558 | Val Loss: 24.5089 | Val Accuracy: 0.3584\n"
     ]
    },
    {
     "name": "stderr",
     "output_type": "stream",
     "text": [
      "100%|██████████| 51/51 [00:03<00:00, 14.39it/s]\n"
     ]
    },
    {
     "name": "stdout",
     "output_type": "stream",
     "text": [
      "Epoch 41/50 | Train Loss: 1.9498 | Val Loss: 24.4460 | Val Accuracy: 0.3577\n",
      "Edge metrics: tensor([2.0161e-02, 8.6441e-03, 2.8754e-03, 2.7955e-03, 1.9098e-02, 1.9700e-02,\n",
      "        2.1715e-02, 2.0301e-02, 1.7960e-02, 3.5709e-03, 5.9086e-03, 6.1519e-03,\n",
      "        9.8161e-03, 2.1259e-02, 4.3691e-03, 5.5364e-03, 1.1724e-02, 1.5984e-02,\n",
      "        6.3599e-03, 1.0346e-02, 1.0153e-04, 1.0727e-02, 1.4156e-02, 7.0467e-03,\n",
      "        2.5974e-02, 1.1633e-02, 2.1847e-02, 2.0358e-02, 5.0618e-03, 1.4013e-02,\n",
      "        3.4376e-03, 1.6518e-02, 1.0384e-02, 1.1905e-02, 7.8733e-03, 1.1310e-02,\n",
      "        2.2871e-05, 1.1101e-02, 1.3034e-02, 7.9687e-03, 7.2792e-03, 1.6159e-02,\n",
      "        2.2255e-02, 1.4468e-02, 1.9502e-03, 1.1414e-02, 4.2232e-04, 1.9059e-03,\n",
      "        1.4922e-02, 2.7705e-03, 9.2827e-03, 1.9476e-02, 8.8729e-03, 2.0187e-02,\n",
      "        3.3228e-03, 6.1368e-03, 6.9463e-03, 1.2055e-02, 1.8729e-02, 1.9504e-02,\n",
      "        1.4454e-02, 1.5220e-02, 2.2231e-03, 3.9883e-03, 1.8405e-02, 9.9423e-03,\n",
      "        1.4722e-02, 1.5714e-02, 5.0940e-03, 8.6857e-03, 1.5037e-02, 2.9982e-02,\n",
      "        1.7144e-02, 4.3863e-03, 5.3305e-03, 1.7109e-02, 9.0535e-03, 3.1231e-04,\n",
      "        1.3606e-02, 2.9336e-02, 6.7873e-04, 2.4561e-03, 1.2380e-02, 2.4868e-03,\n",
      "        8.3517e-03, 1.0935e-03, 3.2442e-03, 1.4220e-02, 9.2151e-04, 5.8563e-03,\n",
      "        4.0252e-02, 4.2565e-02, 1.4143e-02, 7.8376e-03, 1.9765e-02, 3.4682e-03,\n",
      "        6.0872e-03, 3.5693e-02, 8.8919e-03, 6.0098e-03, 0.0000e+00, 3.7781e-02,\n",
      "        0.0000e+00, 0.0000e+00, 0.0000e+00, 0.0000e+00, 0.0000e+00, 0.0000e+00,\n",
      "        0.0000e+00, 0.0000e+00, 0.0000e+00, 0.0000e+00, 0.0000e+00, 0.0000e+00,\n",
      "        0.0000e+00, 8.3063e-03, 4.1709e-03, 2.1234e-02, 0.0000e+00, 8.9456e-03,\n",
      "        1.6914e-02, 0.0000e+00, 0.0000e+00, 1.9338e-02, 0.0000e+00, 0.0000e+00,\n",
      "        0.0000e+00, 0.0000e+00, 0.0000e+00, 0.0000e+00, 0.0000e+00, 0.0000e+00,\n",
      "        1.2446e-02, 0.0000e+00, 1.3552e-02, 6.8133e-02, 1.3955e-02, 0.0000e+00,\n",
      "        0.0000e+00, 1.8655e-03, 0.0000e+00, 0.0000e+00, 0.0000e+00, 0.0000e+00,\n",
      "        1.6640e-02, 0.0000e+00, 0.0000e+00, 0.0000e+00, 0.0000e+00, 0.0000e+00,\n",
      "        6.4858e-02, 0.0000e+00, 0.0000e+00, 0.0000e+00, 9.6940e-03, 0.0000e+00,\n",
      "        0.0000e+00, 2.3885e-02, 3.0025e-02, 0.0000e+00, 4.4359e-03, 1.0805e-02,\n",
      "        0.0000e+00, 0.0000e+00, 0.0000e+00, 2.9504e-02, 1.0591e-02, 0.0000e+00,\n",
      "        0.0000e+00, 0.0000e+00, 0.0000e+00, 5.3907e-02, 0.0000e+00, 0.0000e+00,\n",
      "        0.0000e+00, 0.0000e+00, 0.0000e+00, 0.0000e+00, 0.0000e+00, 9.8647e-03,\n",
      "        0.0000e+00, 3.9583e-03, 0.0000e+00, 5.9712e-03, 0.0000e+00, 0.0000e+00,\n",
      "        0.0000e+00, 0.0000e+00, 0.0000e+00, 0.0000e+00, 0.0000e+00, 0.0000e+00,\n",
      "        0.0000e+00, 0.0000e+00, 0.0000e+00, 6.5988e-04, 1.4094e-02, 0.0000e+00,\n",
      "        0.0000e+00, 6.4521e-04, 8.6499e-03, 0.0000e+00, 0.0000e+00, 0.0000e+00,\n",
      "        0.0000e+00, 0.0000e+00, 7.1279e-03, 0.0000e+00, 0.0000e+00, 1.9244e-02,\n",
      "        0.0000e+00, 0.0000e+00, 0.0000e+00, 2.8847e-03, 4.2431e-03, 0.0000e+00,\n",
      "        0.0000e+00, 3.7415e-04, 1.6112e-02, 0.0000e+00, 1.1367e-02, 0.0000e+00,\n",
      "        1.5389e-02, 0.0000e+00, 3.3316e-03, 0.0000e+00, 0.0000e+00, 0.0000e+00,\n",
      "        0.0000e+00, 0.0000e+00, 0.0000e+00, 6.6509e-04, 0.0000e+00, 0.0000e+00,\n",
      "        0.0000e+00, 0.0000e+00, 4.8239e-02, 0.0000e+00, 0.0000e+00, 2.1587e-04,\n",
      "        0.0000e+00, 0.0000e+00, 1.6555e-02, 0.0000e+00, 0.0000e+00, 0.0000e+00,\n",
      "        5.5738e-03, 0.0000e+00, 0.0000e+00, 0.0000e+00, 0.0000e+00, 0.0000e+00,\n",
      "        0.0000e+00, 1.6778e-02, 0.0000e+00, 8.7833e-03, 0.0000e+00, 0.0000e+00,\n",
      "        0.0000e+00, 2.5765e-04, 0.0000e+00, 0.0000e+00, 7.3851e-03, 3.2085e-02,\n",
      "        2.3073e-02, 2.4471e-03, 4.0634e-03, 0.0000e+00, 2.0504e-02, 0.0000e+00,\n",
      "        0.0000e+00, 2.6489e-03, 0.0000e+00, 0.0000e+00, 0.0000e+00, 0.0000e+00,\n",
      "        6.4085e-04, 2.6826e-02, 0.0000e+00, 0.0000e+00, 2.0492e-03, 4.0553e-02,\n",
      "        0.0000e+00, 5.9139e-03, 8.2392e-03, 0.0000e+00, 6.4099e-03, 0.0000e+00,\n",
      "        0.0000e+00, 0.0000e+00, 0.0000e+00, 4.1872e-02, 0.0000e+00, 0.0000e+00,\n",
      "        0.0000e+00, 1.7690e-03, 0.0000e+00, 0.0000e+00, 2.3062e-02, 3.0220e-02,\n",
      "        0.0000e+00, 0.0000e+00, 1.7403e-02, 2.3034e-03, 1.8052e-02, 7.5981e-03,\n",
      "        0.0000e+00, 0.0000e+00, 1.2041e-02, 0.0000e+00, 4.4428e-03, 2.0526e-02,\n",
      "        0.0000e+00, 0.0000e+00, 3.3471e-02, 1.1017e-02, 1.5466e-02, 2.8270e-02,\n",
      "        0.0000e+00, 1.7896e-02, 1.9908e-03, 2.5656e-02, 0.0000e+00, 0.0000e+00,\n",
      "        8.1866e-04, 0.0000e+00, 0.0000e+00, 0.0000e+00, 0.0000e+00, 0.0000e+00,\n",
      "        0.0000e+00, 0.0000e+00, 0.0000e+00, 0.0000e+00, 0.0000e+00, 0.0000e+00,\n",
      "        0.0000e+00, 0.0000e+00, 9.1670e-03, 1.2769e-03, 0.0000e+00, 0.0000e+00,\n",
      "        0.0000e+00, 0.0000e+00, 3.8064e-04, 6.7275e-03, 0.0000e+00, 0.0000e+00,\n",
      "        0.0000e+00, 0.0000e+00, 0.0000e+00, 0.0000e+00, 6.7785e-03, 0.0000e+00,\n",
      "        0.0000e+00, 4.5214e-02, 0.0000e+00, 0.0000e+00, 1.4019e-03, 0.0000e+00,\n",
      "        0.0000e+00, 4.3038e-03, 0.0000e+00, 0.0000e+00, 0.0000e+00, 1.1189e-02,\n",
      "        0.0000e+00, 0.0000e+00, 0.0000e+00, 0.0000e+00, 0.0000e+00, 0.0000e+00,\n",
      "        0.0000e+00, 1.7932e-03, 0.0000e+00, 0.0000e+00, 0.0000e+00, 0.0000e+00,\n",
      "        0.0000e+00, 0.0000e+00, 0.0000e+00, 0.0000e+00, 0.0000e+00, 0.0000e+00,\n",
      "        0.0000e+00, 0.0000e+00, 0.0000e+00, 0.0000e+00, 1.5766e-02, 4.7213e-03,\n",
      "        9.7658e-04, 1.9380e-03, 0.0000e+00, 0.0000e+00, 0.0000e+00, 7.7623e-03,\n",
      "        0.0000e+00, 0.0000e+00, 4.5220e-04, 0.0000e+00, 0.0000e+00, 0.0000e+00,\n",
      "        0.0000e+00, 0.0000e+00, 0.0000e+00, 0.0000e+00, 0.0000e+00, 0.0000e+00,\n",
      "        0.0000e+00, 0.0000e+00, 0.0000e+00, 0.0000e+00, 0.0000e+00, 9.2815e-04,\n",
      "        0.0000e+00, 0.0000e+00, 0.0000e+00, 8.1583e-03, 0.0000e+00, 0.0000e+00,\n",
      "        0.0000e+00, 3.2269e-02, 0.0000e+00, 0.0000e+00, 0.0000e+00, 0.0000e+00,\n",
      "        0.0000e+00, 0.0000e+00, 0.0000e+00, 0.0000e+00, 0.0000e+00, 9.9257e-03,\n",
      "        2.1528e-02, 0.0000e+00, 2.3819e-02, 0.0000e+00, 0.0000e+00, 2.6232e-03,\n",
      "        1.6659e-02, 0.0000e+00, 0.0000e+00, 1.1279e-02, 0.0000e+00, 0.0000e+00,\n",
      "        0.0000e+00, 0.0000e+00, 0.0000e+00, 0.0000e+00, 0.0000e+00, 0.0000e+00,\n",
      "        0.0000e+00, 1.4631e-03, 0.0000e+00, 0.0000e+00, 0.0000e+00, 0.0000e+00,\n",
      "        0.0000e+00, 3.6720e-04, 0.0000e+00, 4.3224e-02, 0.0000e+00, 0.0000e+00,\n",
      "        0.0000e+00, 0.0000e+00, 0.0000e+00, 0.0000e+00, 0.0000e+00, 0.0000e+00,\n",
      "        0.0000e+00, 0.0000e+00, 0.0000e+00, 0.0000e+00, 2.2098e-02, 0.0000e+00,\n",
      "        0.0000e+00, 0.0000e+00, 0.0000e+00, 0.0000e+00, 0.0000e+00, 3.6607e-04,\n",
      "        0.0000e+00, 0.0000e+00, 3.7902e-02, 1.2351e-03, 7.2569e-03, 0.0000e+00,\n",
      "        0.0000e+00, 0.0000e+00, 0.0000e+00, 0.0000e+00, 0.0000e+00, 0.0000e+00,\n",
      "        0.0000e+00, 0.0000e+00, 0.0000e+00, 2.8775e-05, 0.0000e+00, 0.0000e+00,\n",
      "        0.0000e+00, 1.1520e-02, 1.4576e-02, 0.0000e+00, 0.0000e+00, 0.0000e+00,\n",
      "        0.0000e+00, 2.1272e-02, 7.0483e-03, 4.8450e-03, 0.0000e+00, 0.0000e+00,\n",
      "        0.0000e+00, 0.0000e+00, 7.0384e-03, 4.8968e-02, 1.8927e-02, 0.0000e+00,\n",
      "        0.0000e+00, 2.4980e-03, 0.0000e+00, 0.0000e+00, 9.9806e-03, 9.9154e-03,\n",
      "        0.0000e+00, 5.2249e-03, 0.0000e+00, 0.0000e+00, 2.7172e-03, 0.0000e+00,\n",
      "        0.0000e+00, 6.2411e-02, 0.0000e+00, 0.0000e+00, 0.0000e+00, 0.0000e+00,\n",
      "        0.0000e+00, 0.0000e+00, 0.0000e+00, 3.9076e-04, 0.0000e+00, 5.1554e-03,\n",
      "        6.9744e-03, 0.0000e+00, 2.5145e-03, 0.0000e+00, 0.0000e+00, 5.8329e-03,\n",
      "        0.0000e+00, 1.1070e-03, 1.0484e-02, 0.0000e+00, 0.0000e+00, 2.1858e-03,\n",
      "        0.0000e+00, 2.1324e-04, 3.0168e-03, 0.0000e+00, 5.0837e-02, 0.0000e+00,\n",
      "        1.7646e-02, 0.0000e+00, 0.0000e+00, 3.2598e-02, 0.0000e+00, 1.2318e-02,\n",
      "        5.3932e-03, 0.0000e+00, 0.0000e+00, 2.1916e-02, 2.5605e-02, 1.0275e-02,\n",
      "        8.6065e-03, 2.8942e-02, 0.0000e+00, 3.9614e-03, 0.0000e+00, 0.0000e+00,\n",
      "        0.0000e+00, 4.1652e-03, 3.6055e-02, 0.0000e+00, 1.8438e-02, 7.6947e-03,\n",
      "        4.5664e-02, 0.0000e+00, 1.7454e-02, 0.0000e+00, 0.0000e+00, 0.0000e+00,\n",
      "        0.0000e+00, 2.7187e-02, 0.0000e+00, 0.0000e+00, 1.0435e-01, 1.0465e-02,\n",
      "        1.5666e-02, 1.8824e-02, 1.0436e-02, 4.9650e-03, 1.5579e-02, 2.6148e-03,\n",
      "        2.0928e-02, 3.1150e-02, 1.2088e-02, 0.0000e+00, 1.9439e-02, 1.4711e-02,\n",
      "        1.4205e-02, 5.4563e-03, 7.5042e-03, 1.1898e-02, 1.7580e-02, 0.0000e+00,\n",
      "        3.9838e-03, 0.0000e+00, 2.1128e-02, 0.0000e+00, 1.0593e-02, 0.0000e+00,\n",
      "        0.0000e+00, 1.7476e-03, 0.0000e+00, 0.0000e+00, 1.0245e-02, 0.0000e+00,\n",
      "        4.6171e-02, 1.7958e-02, 9.1818e-03, 4.3869e-02, 4.4024e-02, 5.3948e-02,\n",
      "        0.0000e+00, 1.7929e-03, 4.6929e-04, 0.0000e+00, 0.0000e+00, 2.7268e-03,\n",
      "        4.8903e-02, 3.5617e-02, 3.1874e-02, 5.4361e-04, 1.1570e-03, 7.6256e-04,\n",
      "        0.0000e+00, 1.8640e-02, 4.1674e-02, 0.0000e+00, 3.5285e-02, 4.2432e-02,\n",
      "        1.0794e-02, 3.5182e-02, 4.8252e-03, 1.3138e-02, 2.1609e-02, 6.8713e-03,\n",
      "        3.0811e-02, 3.4978e-02, 2.9373e-02, 0.0000e+00, 1.3055e-03, 0.0000e+00,\n",
      "        6.8708e-03, 0.0000e+00, 2.7721e-02, 0.0000e+00, 1.1875e-04, 1.1975e-01,\n",
      "        8.0964e-02, 4.6690e-02, 1.9237e-02, 5.8182e-03, 3.5418e-02, 2.6303e-03,\n",
      "        0.0000e+00, 1.0189e-02, 2.1107e-02, 5.9792e-02, 3.0083e-03, 6.9933e-03,\n",
      "        0.0000e+00, 0.0000e+00, 2.5276e-03, 1.2586e-03, 7.6923e-04, 1.5140e-02,\n",
      "        4.3690e-03, 9.7384e-03, 4.6457e-02, 1.5319e-02, 2.2178e-02, 1.8827e-02,\n",
      "        4.0236e-02, 7.0394e-02, 5.4823e-02, 0.0000e+00, 4.6267e-03, 6.7249e-03,\n",
      "        3.3082e-02, 3.9383e-02, 1.3197e-02, 5.4594e-03, 2.1964e-02, 3.1710e-02,\n",
      "        6.4277e-02, 2.5202e-02, 2.5371e-02, 1.9069e-02, 0.0000e+00, 4.0709e-02,\n",
      "        6.1352e-03, 5.0827e-02, 6.5661e-03, 2.5782e-02, 1.6411e-02, 5.3213e-02,\n",
      "        3.3343e-02, 0.0000e+00, 1.0894e-02, 3.7493e-02, 9.6396e-02, 5.7845e-03,\n",
      "        4.1598e-02, 5.7694e-02, 1.0296e-01, 5.2064e-03, 3.9404e-02, 6.0187e-02,\n",
      "        4.3154e-02, 1.1031e-01, 8.5200e-02, 4.1239e-02, 9.2312e-02, 3.9717e-02,\n",
      "        4.7230e-03, 5.2241e-02, 4.3120e-02, 7.4894e-02, 4.2712e-02, 5.0941e-02,\n",
      "        3.9421e-02, 4.7543e-02, 3.0580e-02, 3.4894e-02, 3.9036e-02, 0.0000e+00,\n",
      "        3.2477e-03, 2.6324e-02, 2.5241e-02, 6.1001e-02, 3.5808e-02, 1.1252e-01,\n",
      "        4.1039e-02, 5.8501e-02, 5.2720e-02, 4.0514e-02, 6.1682e-02, 3.5864e-02,\n",
      "        2.2786e-02, 3.5486e-02, 1.1339e-01, 6.8040e-02, 2.7105e-02, 6.9687e-02,\n",
      "        3.5602e-02, 1.0627e-01, 1.0485e-02, 4.2416e-02, 1.1267e-01, 6.1950e-02,\n",
      "        2.8074e-02, 2.7132e-03, 2.1503e-02, 2.3712e-02, 3.4171e-02, 4.8009e-02,\n",
      "        9.2794e-02, 7.8317e-03, 3.3484e-02, 5.4389e-02, 4.3201e-02, 1.1117e-02,\n",
      "        4.8202e-02, 4.2723e-02, 1.6314e-02, 1.5566e-02, 8.4301e-02, 2.1066e-02,\n",
      "        4.0675e-02, 2.3645e-02, 1.0732e-01, 3.2097e-02, 3.8851e-02, 2.5875e-02,\n",
      "        3.0486e-02, 1.0772e-01, 3.2915e-02, 2.3467e-02, 1.6007e-02, 1.6723e-02,\n",
      "        6.9472e-02, 1.4764e-02, 0.0000e+00, 3.3996e-02, 1.9190e-02, 7.1110e-02,\n",
      "        5.5062e-02, 5.6151e-02, 4.9659e-03, 2.4996e-02, 5.5836e-02, 1.1192e-02,\n",
      "        3.0366e-02, 1.5926e-02, 2.7831e-02, 1.4247e-01, 5.7629e-02, 5.6154e-02,\n",
      "        4.5607e-02, 2.0117e-02, 1.2456e-02, 1.2152e-01, 2.8837e-01, 2.8122e-02,\n",
      "        1.3511e-02, 5.4669e-02, 9.2350e-02, 8.2819e-02, 8.6184e-02, 1.6843e-01,\n",
      "        1.6751e-02, 1.0826e-01, 1.3385e-01, 3.4334e-02, 9.3955e-02, 4.9155e-01,\n",
      "        1.0483e-01, 4.4828e-02, 7.2479e-02, 1.7907e-02, 2.2561e-02, 1.5641e-01,\n",
      "        6.2005e-02, 1.3017e-01, 1.3320e-02, 2.9129e-01, 5.1657e-02, 3.5853e-02,\n",
      "        7.0954e-02, 4.0998e-02, 1.5043e-02, 6.2322e-02, 4.1543e-02, 5.3361e-02,\n",
      "        1.3498e-02, 4.6314e-02, 8.3538e-02, 1.8823e-01, 8.3707e-02, 8.5392e-02,\n",
      "        7.0429e-02, 2.3477e-01, 4.0023e-02, 5.7542e-01, 7.7368e-02, 4.9533e-02,\n",
      "        8.8874e-02, 1.3016e-01, 1.2158e-01, 6.6089e-02, 6.4360e-02, 2.9329e-01,\n",
      "        4.0038e-02, 9.4766e-02, 6.0110e-02, 1.2898e-01, 1.0630e-01, 5.6260e-02,\n",
      "        7.0216e-02, 3.3674e-02, 1.1633e-01, 5.3405e-02, 2.0969e-02, 1.2383e-02,\n",
      "        1.0584e-01, 1.3279e-01, 4.0148e-02, 1.0381e-01, 6.7549e-02, 1.5069e-01,\n",
      "        4.5616e-02, 1.2292e-01, 3.2193e-02, 1.0716e-01, 1.0302e-01, 1.1652e-01,\n",
      "        9.2242e-02, 1.7707e-01, 3.9453e-01, 1.9727e-01, 1.4396e-01, 7.9162e-03,\n",
      "        2.7781e-01, 7.5335e-02, 1.6702e-01, 5.8767e-02, 1.0121e-01, 6.5063e-02,\n",
      "        1.9656e-01, 2.7860e-01, 1.7618e-01, 1.7032e-01, 2.4014e-01, 1.4515e-01,\n",
      "        1.5622e-01, 3.0120e-02, 1.6062e-01, 4.3781e-02, 2.1264e-01, 1.0487e-01,\n",
      "        5.5125e-02, 1.2330e-01, 2.4356e-02, 5.0277e-02, 1.4700e-01, 5.2556e-01,\n",
      "        1.5487e-01, 1.0804e-01, 1.8485e-01, 1.5334e-01, 6.5271e-02, 4.9122e-02,\n",
      "        2.0985e-01, 4.5630e-01, 1.5974e-01, 7.1064e-02, 1.0058e-01, 1.6168e-01,\n",
      "        4.9310e-02, 2.9905e-01, 4.3375e-01, 2.9825e-02, 8.7892e-02, 2.6426e-01,\n",
      "        1.9931e-01, 5.2944e-02, 4.1226e-01, 1.9182e-01, 1.6178e-01, 1.1710e-01,\n",
      "        1.3644e-01, 4.8416e-02, 7.5557e-02, 1.1042e-01, 1.0778e-01, 1.4156e-01,\n",
      "        8.2849e-02, 2.8219e-02, 5.1910e-02, 4.0685e-02, 3.3101e-01, 7.2650e-02]) tensor(0.5754) tensor(27.5623)\n",
      "Chosen edges: tensor([[   3,    4,    5,   14,    1,    5,   10,    0,    0,   13,   13,   14,\n",
      "           12,    7,   10,    5,   12,   14,    1,    4,    4,    7,   10,    1,\n",
      "            9,    3,    3,    4,    6,    7,    8,   10,   12,   14,    6,    7,\n",
      "            9,   13,    4,    6,    4,   14,    4,    8,    8,    0,    3,    4,\n",
      "            6,    7,   10,   14,    0,    0,    4,    4,    6,    7,   10,   11,\n",
      "           12,   12,   14,    4,    5,   10,   11,   12,   14,    0,    3,    6,\n",
      "            6,    6,    8,   10,    1,    1,    3,    3,    5,    7,   11,   12,\n",
      "            0,    6,   11,   14,    0,    0,    1,    1,    1,    1,    1,    3,\n",
      "            3,    3,    3,    3,    4,    4,    4,    4,    4,    4,    4,    4,\n",
      "            4,    4,    4,    4,    4,    5,    5,    5,    5,    5,    5,    6,\n",
      "            6,    6,    7,    7,    7,    8,    8,    8,    8,    8,    8,    8,\n",
      "           10,   10,   10,   10,   10,   10,   10,   10,   10,   10,   10,   10,\n",
      "           10,   10,   10,   12,   12,   12,   12,   12,   13,   14,   14,   14,\n",
      "           14],\n",
      "        [ 173,  229,  311, 1256, 1296, 1428, 1568, 1671, 1676, 1783, 1811, 1813,\n",
      "         1835, 1849, 1856, 1870, 1877, 1881, 1887, 1892, 1893, 1898, 1902, 1906,\n",
      "         1915, 1943, 1949, 1960, 1975, 1985, 1996, 2014, 2022, 2031, 2036, 2037,\n",
      "         2044, 2047, 2054, 2058, 2063, 2068, 2073, 2074, 2075, 2078, 2083, 2084,\n",
      "         2085, 2089, 2090, 2093, 2094, 2095, 2096, 2097, 2099, 2100, 2102, 2103,\n",
      "         2104, 2106, 2109, 2110, 2111, 2113, 2114, 2116, 2119, 2121, 2124, 2125,\n",
      "         2126, 2127, 2128, 2129, 2131, 2132, 2134, 2135, 2136, 2137, 2138, 2139,\n",
      "         2141, 2142, 2143, 2144, 2145, 2146, 2148, 2149, 2152, 2153, 2155, 2156,\n",
      "         2157, 2159, 2161, 2162, 2163, 2164, 2165, 2166, 2167, 2168, 2170, 2171,\n",
      "         2172, 2173, 2174, 2175, 2176, 2177, 2178, 2179, 2180, 2181, 2182, 2184,\n",
      "         2186, 2187, 2188, 2189, 2191, 2192, 2193, 2194, 2195, 2196, 2197, 2198,\n",
      "         2200, 2201, 2202, 2203, 2204, 2205, 2207, 2208, 2210, 2211, 2212, 2213,\n",
      "         2214, 2215, 2216, 2217, 2218, 2220, 2221, 2222, 2223, 2224, 2226, 2228,\n",
      "         2229]]) 157\n"
     ]
    },
    {
     "name": "stderr",
     "output_type": "stream",
     "text": [
      "100%|██████████| 51/51 [00:03<00:00, 16.03it/s]\n"
     ]
    },
    {
     "name": "stdout",
     "output_type": "stream",
     "text": [
      "Fine-Tune Epoch 1/10 | Train Loss: 2.0549 | Val Loss: 1.9600\n"
     ]
    },
    {
     "name": "stderr",
     "output_type": "stream",
     "text": [
      "100%|██████████| 51/51 [00:02<00:00, 17.27it/s]\n"
     ]
    },
    {
     "name": "stdout",
     "output_type": "stream",
     "text": [
      "Fine-Tune Epoch 2/10 | Train Loss: 2.0122 | Val Loss: 1.9421\n"
     ]
    },
    {
     "name": "stderr",
     "output_type": "stream",
     "text": [
      "100%|██████████| 51/51 [00:03<00:00, 16.20it/s]\n"
     ]
    },
    {
     "name": "stdout",
     "output_type": "stream",
     "text": [
      "Fine-Tune Epoch 3/10 | Train Loss: 2.0046 | Val Loss: 1.9309\n"
     ]
    },
    {
     "name": "stderr",
     "output_type": "stream",
     "text": [
      "100%|██████████| 51/51 [00:03<00:00, 16.77it/s]\n"
     ]
    },
    {
     "name": "stdout",
     "output_type": "stream",
     "text": [
      "Fine-Tune Epoch 4/10 | Train Loss: 1.9895 | Val Loss: 1.9229\n"
     ]
    },
    {
     "name": "stderr",
     "output_type": "stream",
     "text": [
      "100%|██████████| 51/51 [00:03<00:00, 15.86it/s]\n"
     ]
    },
    {
     "name": "stdout",
     "output_type": "stream",
     "text": [
      "Fine-Tune Epoch 5/10 | Train Loss: 1.9879 | Val Loss: 1.9170\n"
     ]
    },
    {
     "name": "stderr",
     "output_type": "stream",
     "text": [
      "100%|██████████| 51/51 [00:03<00:00, 14.98it/s]\n"
     ]
    },
    {
     "name": "stdout",
     "output_type": "stream",
     "text": [
      "Fine-Tune Epoch 6/10 | Train Loss: 1.9809 | Val Loss: 1.9113\n"
     ]
    },
    {
     "name": "stderr",
     "output_type": "stream",
     "text": [
      "100%|██████████| 51/51 [00:02<00:00, 17.29it/s]\n"
     ]
    },
    {
     "name": "stdout",
     "output_type": "stream",
     "text": [
      "Fine-Tune Epoch 7/10 | Train Loss: 1.9751 | Val Loss: 1.9065\n"
     ]
    },
    {
     "name": "stderr",
     "output_type": "stream",
     "text": [
      "100%|██████████| 51/51 [00:03<00:00, 16.73it/s]\n"
     ]
    },
    {
     "name": "stdout",
     "output_type": "stream",
     "text": [
      "Fine-Tune Epoch 8/10 | Train Loss: 1.9687 | Val Loss: 1.9013\n"
     ]
    },
    {
     "name": "stderr",
     "output_type": "stream",
     "text": [
      "100%|██████████| 51/51 [00:03<00:00, 16.44it/s]\n"
     ]
    },
    {
     "name": "stdout",
     "output_type": "stream",
     "text": [
      "Fine-Tune Epoch 9/10 | Train Loss: 1.9678 | Val Loss: 1.8979\n"
     ]
    },
    {
     "name": "stderr",
     "output_type": "stream",
     "text": [
      "100%|██████████| 51/51 [00:03<00:00, 16.51it/s]\n"
     ]
    },
    {
     "name": "stdout",
     "output_type": "stream",
     "text": [
      "Fine-Tune Epoch 10/10 | Train Loss: 1.9636 | Val Loss: 1.8952\n"
     ]
    },
    {
     "name": "stderr",
     "output_type": "stream",
     "text": [
      "100%|██████████| 51/51 [00:04<00:00, 12.70it/s]\n"
     ]
    },
    {
     "name": "stdout",
     "output_type": "stream",
     "text": [
      "Epoch 42/50 | Train Loss: 1.9603 | Val Loss: 24.4862 | Val Accuracy: 0.3574\n",
      "Edge metrics: tensor([1.9930e-02, 8.0909e-03, 1.5952e-03, 3.0143e-03, 1.8123e-02, 1.8387e-02,\n",
      "        1.8155e-02, 1.8462e-02, 1.6821e-02, 2.7118e-03, 5.8598e-03, 4.5888e-03,\n",
      "        7.5456e-03, 1.8274e-02, 3.2306e-03, 5.1477e-03, 8.8833e-03, 1.1996e-02,\n",
      "        4.2173e-03, 9.0759e-03, 7.1850e-05, 9.5805e-03, 1.0528e-02, 7.4309e-03,\n",
      "        2.4005e-02, 9.4588e-03, 1.9165e-02, 1.6613e-02, 4.4312e-03, 9.9345e-03,\n",
      "        2.7853e-03, 1.2889e-02, 8.0006e-03, 7.1850e-03, 6.0402e-03, 8.7427e-03,\n",
      "        6.7230e-06, 8.5604e-03, 1.0237e-02, 6.8359e-03, 7.8298e-03, 1.5424e-02,\n",
      "        1.7173e-02, 1.4608e-02, 1.4925e-03, 9.2731e-03, 3.4587e-04, 1.6022e-03,\n",
      "        1.1795e-02, 7.6742e-04, 6.7326e-03, 1.4504e-02, 7.1774e-03, 1.8086e-02,\n",
      "        1.9999e-03, 6.0932e-03, 4.5354e-03, 8.2220e-03, 1.4879e-02, 1.2943e-02,\n",
      "        9.7340e-03, 1.4302e-02, 9.5006e-04, 2.8021e-03, 1.1945e-02, 1.0830e-02,\n",
      "        1.2416e-02, 1.6080e-02, 2.5192e-03, 5.1552e-03, 1.1190e-02, 3.1948e-02,\n",
      "        9.4101e-03, 4.3326e-03, 3.6833e-03, 9.6176e-03, 7.9025e-03, 2.2050e-04,\n",
      "        1.7535e-02, 2.5800e-02, 5.8085e-04, 2.6417e-03, 6.9495e-03, 3.1231e-03,\n",
      "        8.0176e-03, 8.1599e-04, 3.8370e-03, 1.3690e-02, 5.2554e-04, 3.1685e-03,\n",
      "        2.8033e-02, 3.9356e-02, 6.9582e-03, 4.8287e-03, 1.1641e-02, 2.4841e-03,\n",
      "        5.7268e-03, 3.1291e-02, 5.1142e-03, 2.9446e-03, 0.0000e+00, 2.2831e-02,\n",
      "        0.0000e+00, 0.0000e+00, 0.0000e+00, 0.0000e+00, 0.0000e+00, 0.0000e+00,\n",
      "        0.0000e+00, 0.0000e+00, 0.0000e+00, 0.0000e+00, 0.0000e+00, 0.0000e+00,\n",
      "        0.0000e+00, 1.1066e-02, 3.1191e-03, 2.9030e-02, 0.0000e+00, 8.1154e-03,\n",
      "        1.7998e-02, 0.0000e+00, 0.0000e+00, 2.4859e-02, 0.0000e+00, 0.0000e+00,\n",
      "        0.0000e+00, 0.0000e+00, 0.0000e+00, 0.0000e+00, 0.0000e+00, 0.0000e+00,\n",
      "        7.8080e-03, 0.0000e+00, 8.7207e-03, 1.2074e-02, 0.0000e+00, 0.0000e+00,\n",
      "        0.0000e+00, 0.0000e+00, 0.0000e+00, 0.0000e+00, 0.0000e+00, 1.3354e-02,\n",
      "        0.0000e+00, 0.0000e+00, 0.0000e+00, 0.0000e+00, 0.0000e+00, 0.0000e+00,\n",
      "        0.0000e+00, 0.0000e+00, 8.1154e-03, 0.0000e+00, 0.0000e+00, 2.2397e-02,\n",
      "        2.0184e-02, 0.0000e+00, 2.6766e-03, 4.3584e-03, 0.0000e+00, 0.0000e+00,\n",
      "        0.0000e+00, 2.5420e-02, 3.2818e-03, 0.0000e+00, 0.0000e+00, 0.0000e+00,\n",
      "        0.0000e+00, 0.0000e+00, 0.0000e+00, 0.0000e+00, 0.0000e+00, 0.0000e+00,\n",
      "        0.0000e+00, 0.0000e+00, 1.1426e-02, 0.0000e+00, 3.0229e-03, 0.0000e+00,\n",
      "        2.9550e-03, 0.0000e+00, 0.0000e+00, 0.0000e+00, 0.0000e+00, 0.0000e+00,\n",
      "        0.0000e+00, 0.0000e+00, 0.0000e+00, 0.0000e+00, 0.0000e+00, 0.0000e+00,\n",
      "        5.3153e-04, 2.0665e-02, 0.0000e+00, 0.0000e+00, 0.0000e+00, 5.2592e-03,\n",
      "        0.0000e+00, 0.0000e+00, 0.0000e+00, 0.0000e+00, 0.0000e+00, 8.5199e-03,\n",
      "        0.0000e+00, 0.0000e+00, 3.4661e-02, 0.0000e+00, 0.0000e+00, 0.0000e+00,\n",
      "        1.9539e-03, 0.0000e+00, 0.0000e+00, 0.0000e+00, 0.0000e+00, 1.2127e-02,\n",
      "        0.0000e+00, 8.3205e-03, 0.0000e+00, 1.4726e-02, 0.0000e+00, 2.4618e-03,\n",
      "        0.0000e+00, 0.0000e+00, 0.0000e+00, 0.0000e+00, 0.0000e+00, 0.0000e+00,\n",
      "        2.8781e-04, 0.0000e+00, 0.0000e+00, 0.0000e+00, 0.0000e+00, 6.0026e-02,\n",
      "        0.0000e+00, 0.0000e+00, 1.4477e-04, 0.0000e+00, 0.0000e+00, 2.6316e-02,\n",
      "        0.0000e+00, 0.0000e+00, 0.0000e+00, 4.1830e-03, 0.0000e+00, 0.0000e+00,\n",
      "        0.0000e+00, 0.0000e+00, 0.0000e+00, 0.0000e+00, 1.4377e-02, 0.0000e+00,\n",
      "        1.3668e-02, 0.0000e+00, 0.0000e+00, 0.0000e+00, 0.0000e+00, 0.0000e+00,\n",
      "        0.0000e+00, 8.4235e-03, 4.5628e-02, 2.0170e-02, 9.5873e-04, 2.4139e-03,\n",
      "        0.0000e+00, 1.5495e-02, 0.0000e+00, 0.0000e+00, 2.0685e-04, 0.0000e+00,\n",
      "        0.0000e+00, 0.0000e+00, 0.0000e+00, 0.0000e+00, 2.3482e-02, 0.0000e+00,\n",
      "        0.0000e+00, 1.2410e-03, 5.8596e-02, 0.0000e+00, 3.9725e-03, 5.3463e-03,\n",
      "        0.0000e+00, 3.0421e-03, 0.0000e+00, 0.0000e+00, 0.0000e+00, 0.0000e+00,\n",
      "        3.3393e-02, 0.0000e+00, 0.0000e+00, 0.0000e+00, 5.3722e-04, 0.0000e+00,\n",
      "        0.0000e+00, 2.2983e-02, 3.3991e-02, 0.0000e+00, 0.0000e+00, 1.1998e-02,\n",
      "        1.9750e-03, 1.7735e-02, 7.4730e-03, 0.0000e+00, 0.0000e+00, 1.3227e-02,\n",
      "        0.0000e+00, 2.0230e-03, 1.3499e-02, 0.0000e+00, 0.0000e+00, 2.0056e-02,\n",
      "        7.5283e-03, 1.6744e-02, 2.3912e-02, 0.0000e+00, 9.5871e-03, 1.7784e-03,\n",
      "        3.2037e-02, 0.0000e+00, 0.0000e+00, 2.5393e-04, 0.0000e+00, 0.0000e+00,\n",
      "        0.0000e+00, 0.0000e+00, 0.0000e+00, 0.0000e+00, 0.0000e+00, 0.0000e+00,\n",
      "        0.0000e+00, 0.0000e+00, 0.0000e+00, 0.0000e+00, 0.0000e+00, 4.0996e-03,\n",
      "        8.2996e-04, 0.0000e+00, 0.0000e+00, 0.0000e+00, 0.0000e+00, 1.9943e-04,\n",
      "        5.5542e-03, 0.0000e+00, 0.0000e+00, 0.0000e+00, 0.0000e+00, 0.0000e+00,\n",
      "        0.0000e+00, 5.1374e-03, 0.0000e+00, 0.0000e+00, 4.3952e-02, 0.0000e+00,\n",
      "        0.0000e+00, 1.1916e-03, 0.0000e+00, 0.0000e+00, 2.7189e-03, 0.0000e+00,\n",
      "        0.0000e+00, 0.0000e+00, 1.0723e-02, 0.0000e+00, 0.0000e+00, 0.0000e+00,\n",
      "        0.0000e+00, 0.0000e+00, 0.0000e+00, 0.0000e+00, 1.3723e-03, 0.0000e+00,\n",
      "        0.0000e+00, 0.0000e+00, 0.0000e+00, 0.0000e+00, 0.0000e+00, 0.0000e+00,\n",
      "        0.0000e+00, 0.0000e+00, 0.0000e+00, 0.0000e+00, 0.0000e+00, 0.0000e+00,\n",
      "        0.0000e+00, 1.3227e-02, 2.8178e-03, 5.6484e-04, 2.1613e-04, 0.0000e+00,\n",
      "        0.0000e+00, 0.0000e+00, 6.9443e-03, 0.0000e+00, 0.0000e+00, 1.6665e-04,\n",
      "        0.0000e+00, 0.0000e+00, 0.0000e+00, 0.0000e+00, 0.0000e+00, 0.0000e+00,\n",
      "        0.0000e+00, 0.0000e+00, 0.0000e+00, 0.0000e+00, 0.0000e+00, 0.0000e+00,\n",
      "        0.0000e+00, 0.0000e+00, 4.6021e-04, 0.0000e+00, 0.0000e+00, 0.0000e+00,\n",
      "        7.0798e-03, 0.0000e+00, 0.0000e+00, 0.0000e+00, 3.6462e-02, 0.0000e+00,\n",
      "        0.0000e+00, 0.0000e+00, 0.0000e+00, 0.0000e+00, 0.0000e+00, 0.0000e+00,\n",
      "        0.0000e+00, 0.0000e+00, 9.2025e-03, 2.5435e-02, 0.0000e+00, 2.0809e-02,\n",
      "        0.0000e+00, 0.0000e+00, 1.8583e-03, 1.4562e-02, 0.0000e+00, 0.0000e+00,\n",
      "        6.0229e-03, 0.0000e+00, 0.0000e+00, 0.0000e+00, 0.0000e+00, 0.0000e+00,\n",
      "        0.0000e+00, 0.0000e+00, 0.0000e+00, 0.0000e+00, 4.6215e-04, 0.0000e+00,\n",
      "        0.0000e+00, 0.0000e+00, 0.0000e+00, 0.0000e+00, 3.2129e-04, 0.0000e+00,\n",
      "        4.7850e-02, 0.0000e+00, 0.0000e+00, 0.0000e+00, 0.0000e+00, 0.0000e+00,\n",
      "        0.0000e+00, 0.0000e+00, 0.0000e+00, 0.0000e+00, 0.0000e+00, 0.0000e+00,\n",
      "        0.0000e+00, 2.2117e-02, 0.0000e+00, 0.0000e+00, 0.0000e+00, 0.0000e+00,\n",
      "        0.0000e+00, 0.0000e+00, 0.0000e+00, 0.0000e+00, 0.0000e+00, 2.7048e-02,\n",
      "        9.9077e-04, 6.1888e-03, 0.0000e+00, 0.0000e+00, 0.0000e+00, 0.0000e+00,\n",
      "        0.0000e+00, 0.0000e+00, 0.0000e+00, 0.0000e+00, 0.0000e+00, 0.0000e+00,\n",
      "        0.0000e+00, 0.0000e+00, 0.0000e+00, 0.0000e+00, 1.1548e-02, 1.0685e-02,\n",
      "        0.0000e+00, 0.0000e+00, 0.0000e+00, 0.0000e+00, 2.1488e-02, 4.1303e-03,\n",
      "        1.2734e-03, 0.0000e+00, 0.0000e+00, 0.0000e+00, 0.0000e+00, 3.0177e-03,\n",
      "        4.3495e-02, 1.9888e-02, 0.0000e+00, 0.0000e+00, 1.5719e-03, 0.0000e+00,\n",
      "        0.0000e+00, 8.1560e-03, 8.9185e-03, 0.0000e+00, 2.3642e-03, 0.0000e+00,\n",
      "        0.0000e+00, 2.7691e-03, 0.0000e+00, 0.0000e+00, 0.0000e+00, 0.0000e+00,\n",
      "        0.0000e+00, 0.0000e+00, 0.0000e+00, 0.0000e+00, 0.0000e+00, 2.4026e-04,\n",
      "        0.0000e+00, 5.3955e-03, 3.4697e-04, 0.0000e+00, 2.0623e-03, 0.0000e+00,\n",
      "        0.0000e+00, 5.4581e-03, 0.0000e+00, 0.0000e+00, 5.3339e-03, 0.0000e+00,\n",
      "        0.0000e+00, 1.8513e-03, 0.0000e+00, 0.0000e+00, 3.8162e-04, 0.0000e+00,\n",
      "        0.0000e+00, 1.2701e-02, 0.0000e+00, 0.0000e+00, 2.1460e-02, 0.0000e+00,\n",
      "        4.4168e-03, 5.0448e-03, 0.0000e+00, 0.0000e+00, 1.4797e-02, 2.0857e-02,\n",
      "        8.6266e-03, 5.1761e-03, 2.7403e-02, 0.0000e+00, 1.2326e-03, 0.0000e+00,\n",
      "        0.0000e+00, 0.0000e+00, 4.9231e-03, 3.6976e-02, 0.0000e+00, 2.4082e-02,\n",
      "        4.9778e-03, 6.5307e-02, 0.0000e+00, 2.1662e-02, 0.0000e+00, 0.0000e+00,\n",
      "        0.0000e+00, 0.0000e+00, 3.7201e-02, 0.0000e+00, 0.0000e+00, 7.8379e-03,\n",
      "        1.1805e-02, 2.0933e-02, 7.2027e-03, 3.9679e-03, 4.9605e-03, 3.1879e-03,\n",
      "        1.5706e-02, 3.0924e-02, 7.0853e-03, 0.0000e+00, 1.2183e-02, 1.2944e-02,\n",
      "        9.6322e-03, 4.8707e-03, 7.3468e-03, 1.0746e-02, 6.6195e-03, 0.0000e+00,\n",
      "        1.6688e-03, 0.0000e+00, 2.2206e-02, 0.0000e+00, 7.6378e-03, 0.0000e+00,\n",
      "        0.0000e+00, 1.5050e-03, 0.0000e+00, 0.0000e+00, 9.9210e-03, 0.0000e+00,\n",
      "        4.6300e-02, 6.0860e-03, 3.6018e-03, 5.2038e-02, 5.8169e-02, 0.0000e+00,\n",
      "        0.0000e+00, 4.4752e-04, 0.0000e+00, 0.0000e+00, 1.5608e-03, 4.0273e-02,\n",
      "        2.3672e-02, 4.3948e-02, 0.0000e+00, 8.5545e-04, 0.0000e+00, 0.0000e+00,\n",
      "        1.2648e-02, 5.8162e-02, 0.0000e+00, 2.3874e-02, 2.6597e-02, 8.8204e-03,\n",
      "        3.3824e-02, 4.3364e-03, 1.2349e-02, 1.8070e-02, 7.3783e-03, 1.8457e-02,\n",
      "        3.7977e-02, 5.0143e-02, 0.0000e+00, 5.0912e-04, 0.0000e+00, 4.3481e-03,\n",
      "        0.0000e+00, 2.6574e-02, 0.0000e+00, 0.0000e+00, 4.8539e-02, 2.6059e-02,\n",
      "        3.6045e-03, 5.0310e-02, 0.0000e+00, 0.0000e+00, 1.2784e-02, 2.2326e-02,\n",
      "        0.0000e+00, 3.7578e-03, 0.0000e+00, 0.0000e+00, 1.9418e-03, 6.2850e-04,\n",
      "        3.0574e-04, 1.0382e-02, 2.4417e-03, 3.2074e-03, 4.1616e-02, 1.3349e-02,\n",
      "        2.1696e-02, 2.0998e-02, 5.0928e-02, 0.0000e+00, 3.8122e-03, 3.2605e-03,\n",
      "        2.6817e-02, 5.9791e-02, 9.4759e-03, 1.9609e-03, 2.3005e-02, 2.3024e-02,\n",
      "        2.3522e-02, 2.5125e-02, 1.9680e-02, 0.0000e+00, 2.6566e-02, 0.0000e+00,\n",
      "        5.3896e-03, 2.7945e-02, 1.5127e-02, 3.9207e-02, 0.0000e+00, 5.9615e-03,\n",
      "        3.7935e-02, 4.6138e-03, 5.0828e-02, 3.0371e-03, 4.0483e-02, 2.4948e-02,\n",
      "        5.2824e-02, 2.8136e-02, 4.1345e-04, 4.8621e-02, 5.9357e-02, 3.3071e-02,\n",
      "        4.1935e-02, 2.6048e-02, 2.9975e-02, 5.0641e-02, 0.0000e+00, 3.0603e-03,\n",
      "        1.8444e-02, 2.2022e-02, 3.6825e-02, 6.0525e-02, 6.4588e-02, 2.6447e-02,\n",
      "        1.2674e-02, 1.7975e-02, 3.1139e-02, 3.9596e-02, 3.1690e-03, 5.2895e-02,\n",
      "        2.3085e-02, 0.0000e+00, 1.6376e-02, 2.4782e-02, 2.9978e-02, 4.5933e-02,\n",
      "        5.0493e-03, 3.9135e-02, 6.0957e-02, 1.7307e-02, 4.3016e-02, 5.4932e-02,\n",
      "        1.4613e-02, 1.9094e-02, 1.9980e-02, 5.9295e-02, 6.7157e-03, 7.8429e-02,\n",
      "        4.0435e-02, 3.1305e-02, 4.1916e-02, 5.0905e-02, 2.1913e-02, 2.3349e-02,\n",
      "        2.6721e-02, 2.2569e-02, 0.0000e+00, 5.1518e-02, 1.3852e-02, 0.0000e+00,\n",
      "        3.5888e-02, 1.4393e-02, 4.7135e-02, 1.2751e-02, 1.7629e-02, 4.5374e-02,\n",
      "        2.2314e-02, 1.9183e-02, 3.8377e-02, 6.4667e-03, 1.3925e-02, 6.3127e-02,\n",
      "        4.9710e-02, 2.8997e-02, 3.7947e-02, 2.2062e-02, 2.8679e-02, 4.0036e-02,\n",
      "        2.1329e-02, 3.4547e-02, 1.0694e-02, 4.3798e-02, 5.2268e-02, 5.7046e-02,\n",
      "        3.7456e-02, 2.3975e-02, 2.3107e-02, 1.5500e-02, 4.3820e-02, 8.5856e-02,\n",
      "        4.3973e-02, 6.0169e-03, 5.3762e-02, 6.4878e-02, 3.8654e-02, 6.2157e-02,\n",
      "        1.3207e-01, 1.8587e-02, 2.5632e-02, 6.3814e-02, 1.1408e-01, 6.5330e-02,\n",
      "        3.5748e-02, 4.9858e-02, 4.8571e-02, 9.3575e-03, 4.7937e-02, 4.4517e-02,\n",
      "        4.7689e-02, 1.1268e-02, 1.6472e-02, 4.5307e-02, 6.5752e-02, 7.9892e-03,\n",
      "        1.5194e-02, 1.2476e-02, 4.9628e-02, 3.7254e-02, 8.3653e-02, 3.5517e-02,\n",
      "        2.1824e-01, 9.5930e-02, 1.8754e-01, 4.6034e-02, 1.1503e-02, 3.4692e-02,\n",
      "        8.8198e-02, 1.4391e-01, 5.3756e-02, 5.1514e-02, 6.9788e-02, 4.5831e-02,\n",
      "        6.2564e-02, 5.3401e-02, 7.7659e-02, 6.7669e-02, 3.5649e-02, 1.1940e-01,\n",
      "        2.2845e-02, 9.7671e-02, 9.6811e-02, 1.1442e-01, 8.0234e-02, 1.0307e-01,\n",
      "        3.6115e-02, 1.5896e-02, 4.3960e-02, 5.1489e-02, 2.4798e-02, 2.1794e-02,\n",
      "        4.0996e-02, 1.6072e-01, 4.0434e-02, 6.2118e-02, 3.7197e-02, 1.2062e-01,\n",
      "        1.0428e-01, 5.3147e-02, 1.9069e-01, 1.1285e-01, 4.6154e-01, 5.8325e-02,\n",
      "        2.9415e-02, 7.3129e-02, 1.2116e-02, 1.1861e-01, 2.3684e-01, 4.8305e-02,\n",
      "        3.3479e-02, 4.4713e-02, 5.6219e-02, 3.5176e-02, 1.2295e-01, 8.3221e-02,\n",
      "        2.4506e-02, 3.8257e-02, 2.7099e-01, 4.8441e-01, 1.2185e-01, 1.1399e-01,\n",
      "        4.8180e-02, 1.3323e-01, 7.9394e-02, 7.6307e-02, 6.8071e-02, 8.7538e-03,\n",
      "        7.0869e-03, 7.6674e-02, 6.2649e-02, 4.1630e-02, 4.6609e-02, 8.2409e-02,\n",
      "        7.4381e-02, 8.2242e-02, 1.0676e-01, 6.8635e-02, 4.7189e-02, 1.6250e-01,\n",
      "        2.6590e-02, 1.6396e-01, 2.1397e-02, 8.7046e-02, 8.0876e-02, 3.5044e-01,\n",
      "        9.3908e-02, 1.2379e-01, 3.3787e-01, 1.5311e-01, 1.2997e-01, 8.3049e-02,\n",
      "        1.0820e-01, 3.0572e-02, 2.7222e-02, 1.3811e-01, 7.1088e-02, 1.3871e-01,\n",
      "        2.0330e-01, 2.4160e-01, 4.2209e-02, 1.2062e-01, 1.1743e-01, 1.8404e-01,\n",
      "        4.8376e-02, 2.9872e-02, 9.3251e-02, 4.1364e-02, 1.7705e-01, 5.7638e-01,\n",
      "        3.9795e-02, 5.7624e-02, 9.5635e-02, 8.1735e-02, 9.4986e-02, 1.4490e-01,\n",
      "        1.6224e-01, 2.6295e-01, 8.3059e-02, 3.0623e-01, 1.7134e-01, 2.2986e-01,\n",
      "        2.5226e-01, 2.7733e-01, 1.1939e-01, 1.9720e-01, 4.0131e-02, 6.2973e-01,\n",
      "        8.2324e-02, 1.9219e-01, 9.8224e-02, 1.1091e-01, 1.4661e-02, 3.5628e-02,\n",
      "        1.2839e-01, 5.1797e-02, 8.0484e-02, 1.9222e-02, 4.0519e-01, 1.2266e-02]) tensor(0.6297) tensor(23.7303)\n",
      "Chosen edges: tensor([[   9,   12,    1,    5,    6,    4,   13,    7,   13,    6,   11,    7,\n",
      "            6,   12,    3,    7,    4,   14,    7,   12,   10,    7,    1,    8,\n",
      "           13,    3,    3,    6,    6,    8,   10,   14,   14,    3,   14,   14,\n",
      "            4,    4,    7,    3,    3,    4,    6,    7,   10,   12,   14,    6,\n",
      "            9,    4,    6,    4,   14,    4,    3,   10,    0,    4,    4,    6,\n",
      "            7,   10,   11,   12,   14,    5,   10,    0,    6,    6,   10,    1,\n",
      "            1,    3,    5,    7,   11,   12,   11,   14,    1,    1,    1,    1,\n",
      "            1,    3,    3,    4,    4,    4,    4,    4,    4,    4,    4,    4,\n",
      "            4,    4,    5,    5,    5,    5,    5,    6,    6,    7,    8,    8,\n",
      "            8,    8,    8,    8,   10,   10,   10,   10,   10,   10,   10,   10,\n",
      "           10,   10,   10,   10,   10,   10,   12,   12,   12,   13,   14,   14],\n",
      "        [ 503,  626, 1373, 1560, 1564, 1605, 1632, 1735, 1810, 1822, 1874, 1897,\n",
      "         1913, 1922, 1951, 1984, 2035, 2048, 2051, 2056, 2059, 2064, 2071, 2101,\n",
      "         2130, 2133, 2158, 2183, 2185, 2199, 2206, 2225, 2227, 2230, 2241, 2247,\n",
      "         2249, 2250, 2251, 2255, 2256, 2257, 2258, 2259, 2261, 2262, 2263, 2264,\n",
      "         2266, 2268, 2269, 2270, 2271, 2272, 2276, 2280, 2282, 2284, 2285, 2286,\n",
      "         2287, 2288, 2289, 2290, 2292, 2294, 2295, 2299, 2301, 2302, 2305, 2306,\n",
      "         2307, 2308, 2310, 2311, 2312, 2313, 2316, 2317, 2320, 2321, 2322, 2323,\n",
      "         2324, 2326, 2328, 2330, 2331, 2332, 2333, 2334, 2335, 2336, 2337, 2338,\n",
      "         2339, 2342, 2343, 2344, 2345, 2346, 2348, 2349, 2350, 2353, 2355, 2356,\n",
      "         2358, 2359, 2360, 2361, 2362, 2363, 2364, 2365, 2366, 2367, 2368, 2369,\n",
      "         2370, 2371, 2372, 2374, 2375, 2376, 2377, 2378, 2381, 2382, 2383, 2385]]) 132\n"
     ]
    },
    {
     "name": "stderr",
     "output_type": "stream",
     "text": [
      "100%|██████████| 51/51 [00:03<00:00, 15.48it/s]\n"
     ]
    },
    {
     "name": "stdout",
     "output_type": "stream",
     "text": [
      "Fine-Tune Epoch 1/10 | Train Loss: 2.0267 | Val Loss: 1.9572\n"
     ]
    },
    {
     "name": "stderr",
     "output_type": "stream",
     "text": [
      "100%|██████████| 51/51 [00:03<00:00, 15.67it/s]\n"
     ]
    },
    {
     "name": "stdout",
     "output_type": "stream",
     "text": [
      "Fine-Tune Epoch 2/10 | Train Loss: 2.0075 | Val Loss: 1.9410\n"
     ]
    },
    {
     "name": "stderr",
     "output_type": "stream",
     "text": [
      "100%|██████████| 51/51 [00:03<00:00, 14.13it/s]\n"
     ]
    },
    {
     "name": "stdout",
     "output_type": "stream",
     "text": [
      "Fine-Tune Epoch 3/10 | Train Loss: 1.9908 | Val Loss: 1.9297\n"
     ]
    },
    {
     "name": "stderr",
     "output_type": "stream",
     "text": [
      "100%|██████████| 51/51 [00:03<00:00, 15.79it/s]\n"
     ]
    },
    {
     "name": "stdout",
     "output_type": "stream",
     "text": [
      "Fine-Tune Epoch 4/10 | Train Loss: 1.9826 | Val Loss: 1.9214\n"
     ]
    },
    {
     "name": "stderr",
     "output_type": "stream",
     "text": [
      "100%|██████████| 51/51 [00:03<00:00, 14.39it/s]\n"
     ]
    },
    {
     "name": "stdout",
     "output_type": "stream",
     "text": [
      "Fine-Tune Epoch 5/10 | Train Loss: 1.9793 | Val Loss: 1.9146\n"
     ]
    },
    {
     "name": "stderr",
     "output_type": "stream",
     "text": [
      "100%|██████████| 51/51 [00:03<00:00, 13.52it/s]\n"
     ]
    },
    {
     "name": "stdout",
     "output_type": "stream",
     "text": [
      "Fine-Tune Epoch 6/10 | Train Loss: 1.9734 | Val Loss: 1.9088\n"
     ]
    },
    {
     "name": "stderr",
     "output_type": "stream",
     "text": [
      "100%|██████████| 51/51 [00:03<00:00, 15.58it/s]\n"
     ]
    },
    {
     "name": "stdout",
     "output_type": "stream",
     "text": [
      "Fine-Tune Epoch 7/10 | Train Loss: 1.9624 | Val Loss: 1.9029\n"
     ]
    },
    {
     "name": "stderr",
     "output_type": "stream",
     "text": [
      "100%|██████████| 51/51 [00:03<00:00, 13.71it/s]\n"
     ]
    },
    {
     "name": "stdout",
     "output_type": "stream",
     "text": [
      "Fine-Tune Epoch 8/10 | Train Loss: 1.9599 | Val Loss: 1.8986\n"
     ]
    },
    {
     "name": "stderr",
     "output_type": "stream",
     "text": [
      "100%|██████████| 51/51 [00:03<00:00, 15.35it/s]\n"
     ]
    },
    {
     "name": "stdout",
     "output_type": "stream",
     "text": [
      "Fine-Tune Epoch 9/10 | Train Loss: 1.9565 | Val Loss: 1.8947\n"
     ]
    },
    {
     "name": "stderr",
     "output_type": "stream",
     "text": [
      "100%|██████████| 51/51 [00:03<00:00, 15.61it/s]\n"
     ]
    },
    {
     "name": "stdout",
     "output_type": "stream",
     "text": [
      "Fine-Tune Epoch 10/10 | Train Loss: 1.9551 | Val Loss: 1.8921\n"
     ]
    },
    {
     "name": "stderr",
     "output_type": "stream",
     "text": [
      "100%|██████████| 51/51 [00:03<00:00, 12.90it/s]\n"
     ]
    },
    {
     "name": "stdout",
     "output_type": "stream",
     "text": [
      "Epoch 43/50 | Train Loss: 1.9456 | Val Loss: 24.4687 | Val Accuracy: 0.3597\n",
      "Edge metrics: tensor([1.2969e-02, 4.9996e-03, 5.4604e-04, 1.6790e-03, 1.1473e-02, 1.3193e-02,\n",
      "        1.1564e-02, 1.3554e-02, 1.0501e-02, 9.7896e-04, 3.5204e-03, 3.2419e-03,\n",
      "        4.1009e-03, 1.3037e-02, 2.3315e-03, 3.4815e-03, 5.5179e-03, 6.9772e-03,\n",
      "        2.9761e-03, 7.1204e-03, 3.1169e-05, 5.2268e-03, 6.6081e-03, 4.6690e-03,\n",
      "        1.6137e-02, 6.9363e-03, 1.2505e-02, 1.2773e-02, 2.9786e-03, 6.7689e-03,\n",
      "        1.3282e-03, 8.9643e-03, 6.3805e-03, 4.3647e-03, 3.8683e-03, 6.6547e-03,\n",
      "        2.9560e-06, 7.0116e-03, 9.0201e-03, 4.3522e-03, 4.4074e-03, 9.6966e-03,\n",
      "        1.1272e-02, 8.8701e-03, 8.2829e-04, 7.3437e-03, 3.1392e-04, 1.0294e-03,\n",
      "        8.7571e-03, 1.9820e-05, 3.9713e-03, 9.0002e-03, 5.9283e-03, 1.2871e-02,\n",
      "        4.6316e-04, 3.8442e-03, 2.8340e-03, 6.4261e-03, 1.0440e-02, 7.6921e-03,\n",
      "        6.9018e-03, 1.6147e-02, 7.2146e-04, 1.5945e-03, 1.0124e-02, 1.0925e-02,\n",
      "        1.2557e-02, 1.4002e-02, 1.2425e-03, 4.0576e-03, 7.7477e-03, 3.1498e-02,\n",
      "        5.5272e-03, 3.4603e-03, 2.6048e-03, 5.7263e-03, 8.1933e-03, 1.4136e-04,\n",
      "        1.0913e-02, 2.1255e-02, 3.3288e-04, 2.2545e-03, 6.2303e-03, 3.0581e-03,\n",
      "        7.5499e-03, 6.2480e-04, 2.9792e-03, 1.1572e-02, 2.5951e-04, 2.7519e-03,\n",
      "        2.4151e-02, 2.9702e-02, 4.5674e-03, 3.8916e-03, 8.0728e-03, 1.0807e-03,\n",
      "        2.9216e-03, 2.3638e-02, 2.6011e-03, 0.0000e+00, 0.0000e+00, 1.5852e-02,\n",
      "        0.0000e+00, 0.0000e+00, 0.0000e+00, 0.0000e+00, 0.0000e+00, 0.0000e+00,\n",
      "        0.0000e+00, 0.0000e+00, 0.0000e+00, 0.0000e+00, 0.0000e+00, 0.0000e+00,\n",
      "        0.0000e+00, 9.6997e-03, 2.3759e-03, 1.4595e-02, 0.0000e+00, 5.9851e-03,\n",
      "        1.8049e-02, 0.0000e+00, 0.0000e+00, 2.5655e-02, 0.0000e+00, 0.0000e+00,\n",
      "        0.0000e+00, 0.0000e+00, 0.0000e+00, 0.0000e+00, 0.0000e+00, 0.0000e+00,\n",
      "        5.2218e-03, 0.0000e+00, 3.1069e-03, 1.0937e-02, 0.0000e+00, 0.0000e+00,\n",
      "        0.0000e+00, 0.0000e+00, 0.0000e+00, 0.0000e+00, 0.0000e+00, 8.4457e-03,\n",
      "        0.0000e+00, 0.0000e+00, 0.0000e+00, 0.0000e+00, 0.0000e+00, 0.0000e+00,\n",
      "        0.0000e+00, 0.0000e+00, 8.1051e-03, 0.0000e+00, 0.0000e+00, 2.1543e-02,\n",
      "        1.6594e-02, 0.0000e+00, 1.7205e-03, 0.0000e+00, 0.0000e+00, 0.0000e+00,\n",
      "        0.0000e+00, 1.6973e-02, 0.0000e+00, 0.0000e+00, 0.0000e+00, 0.0000e+00,\n",
      "        0.0000e+00, 0.0000e+00, 0.0000e+00, 0.0000e+00, 0.0000e+00, 0.0000e+00,\n",
      "        0.0000e+00, 0.0000e+00, 8.7362e-03, 0.0000e+00, 2.1083e-03, 0.0000e+00,\n",
      "        1.9522e-03, 0.0000e+00, 0.0000e+00, 0.0000e+00, 0.0000e+00, 0.0000e+00,\n",
      "        0.0000e+00, 0.0000e+00, 0.0000e+00, 0.0000e+00, 0.0000e+00, 0.0000e+00,\n",
      "        4.5686e-04, 1.9149e-02, 0.0000e+00, 0.0000e+00, 0.0000e+00, 3.6790e-03,\n",
      "        0.0000e+00, 0.0000e+00, 0.0000e+00, 0.0000e+00, 0.0000e+00, 5.4958e-03,\n",
      "        0.0000e+00, 0.0000e+00, 2.0678e-02, 0.0000e+00, 0.0000e+00, 0.0000e+00,\n",
      "        1.1360e-03, 0.0000e+00, 0.0000e+00, 0.0000e+00, 0.0000e+00, 8.7922e-03,\n",
      "        0.0000e+00, 1.4550e-03, 0.0000e+00, 1.1878e-02, 0.0000e+00, 1.2837e-03,\n",
      "        0.0000e+00, 0.0000e+00, 0.0000e+00, 0.0000e+00, 0.0000e+00, 0.0000e+00,\n",
      "        1.2821e-04, 0.0000e+00, 0.0000e+00, 0.0000e+00, 0.0000e+00, 0.0000e+00,\n",
      "        0.0000e+00, 6.6563e-05, 0.0000e+00, 0.0000e+00, 2.1887e-02, 0.0000e+00,\n",
      "        0.0000e+00, 0.0000e+00, 4.8363e-03, 0.0000e+00, 0.0000e+00, 0.0000e+00,\n",
      "        0.0000e+00, 0.0000e+00, 0.0000e+00, 1.8076e-02, 0.0000e+00, 1.3239e-03,\n",
      "        0.0000e+00, 0.0000e+00, 0.0000e+00, 0.0000e+00, 0.0000e+00, 0.0000e+00,\n",
      "        7.6421e-03, 4.2322e-02, 2.1314e-02, 2.0678e-04, 2.4162e-03, 0.0000e+00,\n",
      "        1.5116e-02, 0.0000e+00, 0.0000e+00, 0.0000e+00, 0.0000e+00, 0.0000e+00,\n",
      "        0.0000e+00, 0.0000e+00, 0.0000e+00, 2.9243e-02, 0.0000e+00, 0.0000e+00,\n",
      "        8.1734e-04, 0.0000e+00, 2.2240e-03, 1.8557e-04, 0.0000e+00, 0.0000e+00,\n",
      "        0.0000e+00, 0.0000e+00, 0.0000e+00, 0.0000e+00, 2.9784e-02, 0.0000e+00,\n",
      "        0.0000e+00, 0.0000e+00, 5.8524e-05, 0.0000e+00, 0.0000e+00, 2.2700e-02,\n",
      "        3.1627e-02, 0.0000e+00, 0.0000e+00, 9.9170e-03, 1.4389e-03, 1.6188e-02,\n",
      "        8.0374e-03, 0.0000e+00, 0.0000e+00, 1.4786e-02, 0.0000e+00, 3.5198e-03,\n",
      "        2.1729e-03, 0.0000e+00, 0.0000e+00, 2.9834e-02, 9.1376e-03, 1.5622e-02,\n",
      "        2.2738e-02, 0.0000e+00, 1.5559e-02, 1.1090e-03, 2.7017e-02, 0.0000e+00,\n",
      "        0.0000e+00, 7.1802e-04, 0.0000e+00, 0.0000e+00, 0.0000e+00, 0.0000e+00,\n",
      "        0.0000e+00, 0.0000e+00, 0.0000e+00, 0.0000e+00, 0.0000e+00, 0.0000e+00,\n",
      "        0.0000e+00, 0.0000e+00, 0.0000e+00, 8.0905e-03, 4.6893e-04, 0.0000e+00,\n",
      "        0.0000e+00, 0.0000e+00, 0.0000e+00, 9.8942e-05, 1.5305e-03, 0.0000e+00,\n",
      "        0.0000e+00, 0.0000e+00, 0.0000e+00, 0.0000e+00, 0.0000e+00, 5.0875e-03,\n",
      "        0.0000e+00, 0.0000e+00, 4.7350e-02, 0.0000e+00, 0.0000e+00, 1.0272e-03,\n",
      "        0.0000e+00, 0.0000e+00, 1.3192e-03, 0.0000e+00, 0.0000e+00, 0.0000e+00,\n",
      "        1.0615e-02, 0.0000e+00, 0.0000e+00, 0.0000e+00, 0.0000e+00, 0.0000e+00,\n",
      "        0.0000e+00, 0.0000e+00, 7.9900e-04, 0.0000e+00, 0.0000e+00, 0.0000e+00,\n",
      "        0.0000e+00, 0.0000e+00, 0.0000e+00, 0.0000e+00, 0.0000e+00, 0.0000e+00,\n",
      "        0.0000e+00, 0.0000e+00, 0.0000e+00, 0.0000e+00, 0.0000e+00, 9.4513e-03,\n",
      "        1.6997e-03, 2.9198e-04, 0.0000e+00, 0.0000e+00, 0.0000e+00, 0.0000e+00,\n",
      "        4.4078e-03, 0.0000e+00, 0.0000e+00, 3.8512e-05, 0.0000e+00, 0.0000e+00,\n",
      "        0.0000e+00, 0.0000e+00, 0.0000e+00, 0.0000e+00, 0.0000e+00, 0.0000e+00,\n",
      "        0.0000e+00, 0.0000e+00, 0.0000e+00, 0.0000e+00, 0.0000e+00, 0.0000e+00,\n",
      "        3.0387e-04, 0.0000e+00, 0.0000e+00, 0.0000e+00, 4.7405e-03, 0.0000e+00,\n",
      "        0.0000e+00, 0.0000e+00, 2.4558e-02, 0.0000e+00, 0.0000e+00, 0.0000e+00,\n",
      "        0.0000e+00, 0.0000e+00, 0.0000e+00, 0.0000e+00, 0.0000e+00, 0.0000e+00,\n",
      "        9.5805e-03, 2.9929e-02, 0.0000e+00, 1.4412e-02, 0.0000e+00, 0.0000e+00,\n",
      "        1.1181e-03, 1.3338e-02, 0.0000e+00, 0.0000e+00, 4.0129e-03, 0.0000e+00,\n",
      "        0.0000e+00, 0.0000e+00, 0.0000e+00, 0.0000e+00, 0.0000e+00, 0.0000e+00,\n",
      "        0.0000e+00, 0.0000e+00, 0.0000e+00, 0.0000e+00, 0.0000e+00, 0.0000e+00,\n",
      "        0.0000e+00, 0.0000e+00, 1.5013e-04, 0.0000e+00, 3.7535e-02, 0.0000e+00,\n",
      "        0.0000e+00, 0.0000e+00, 0.0000e+00, 0.0000e+00, 0.0000e+00, 0.0000e+00,\n",
      "        0.0000e+00, 0.0000e+00, 0.0000e+00, 0.0000e+00, 0.0000e+00, 1.7144e-02,\n",
      "        0.0000e+00, 0.0000e+00, 0.0000e+00, 0.0000e+00, 0.0000e+00, 0.0000e+00,\n",
      "        0.0000e+00, 0.0000e+00, 0.0000e+00, 3.1064e-02, 4.4432e-04, 4.2080e-03,\n",
      "        0.0000e+00, 0.0000e+00, 0.0000e+00, 0.0000e+00, 0.0000e+00, 0.0000e+00,\n",
      "        0.0000e+00, 0.0000e+00, 0.0000e+00, 0.0000e+00, 0.0000e+00, 0.0000e+00,\n",
      "        0.0000e+00, 0.0000e+00, 1.5940e-02, 1.0993e-02, 0.0000e+00, 0.0000e+00,\n",
      "        0.0000e+00, 0.0000e+00, 1.5773e-02, 2.6715e-03, 0.0000e+00, 0.0000e+00,\n",
      "        0.0000e+00, 0.0000e+00, 0.0000e+00, 0.0000e+00, 4.2417e-02, 2.0083e-02,\n",
      "        0.0000e+00, 0.0000e+00, 3.3542e-04, 0.0000e+00, 0.0000e+00, 9.9025e-03,\n",
      "        7.9862e-03, 0.0000e+00, 4.2864e-03, 0.0000e+00, 0.0000e+00, 2.8714e-03,\n",
      "        0.0000e+00, 0.0000e+00, 0.0000e+00, 0.0000e+00, 0.0000e+00, 0.0000e+00,\n",
      "        0.0000e+00, 0.0000e+00, 0.0000e+00, 1.4311e-04, 0.0000e+00, 0.0000e+00,\n",
      "        0.0000e+00, 0.0000e+00, 2.0929e-03, 0.0000e+00, 0.0000e+00, 5.9499e-03,\n",
      "        0.0000e+00, 0.0000e+00, 4.3820e-04, 0.0000e+00, 0.0000e+00, 1.7027e-03,\n",
      "        0.0000e+00, 0.0000e+00, 0.0000e+00, 0.0000e+00, 0.0000e+00, 9.2293e-03,\n",
      "        0.0000e+00, 0.0000e+00, 1.9227e-02, 0.0000e+00, 3.6074e-03, 5.8026e-03,\n",
      "        0.0000e+00, 0.0000e+00, 1.3313e-02, 1.7226e-02, 6.8668e-03, 8.2413e-03,\n",
      "        2.1971e-02, 0.0000e+00, 0.0000e+00, 0.0000e+00, 0.0000e+00, 0.0000e+00,\n",
      "        5.5641e-03, 4.4841e-02, 0.0000e+00, 3.3129e-02, 0.0000e+00, 0.0000e+00,\n",
      "        2.2101e-02, 0.0000e+00, 0.0000e+00, 0.0000e+00, 0.0000e+00, 2.1580e-02,\n",
      "        0.0000e+00, 0.0000e+00, 7.1195e-03, 9.0406e-03, 6.9445e-03, 5.9552e-03,\n",
      "        4.5334e-03, 0.0000e+00, 2.3776e-03, 1.7936e-02, 3.2286e-02, 1.5165e-02,\n",
      "        0.0000e+00, 7.9583e-03, 8.0755e-03, 1.6879e-02, 4.9830e-03, 7.3109e-03,\n",
      "        1.3363e-02, 5.5544e-03, 0.0000e+00, 5.7369e-04, 0.0000e+00, 1.7423e-02,\n",
      "        0.0000e+00, 4.8888e-03, 0.0000e+00, 0.0000e+00, 7.9529e-04, 0.0000e+00,\n",
      "        0.0000e+00, 7.1476e-03, 0.0000e+00, 4.4398e-02, 1.9229e-03, 0.0000e+00,\n",
      "        0.0000e+00, 0.0000e+00, 1.7534e-04, 0.0000e+00, 0.0000e+00, 1.0802e-03,\n",
      "        2.8303e-02, 1.5341e-02, 5.5958e-02, 0.0000e+00, 5.4239e-04, 0.0000e+00,\n",
      "        0.0000e+00, 8.2028e-03, 0.0000e+00, 2.1314e-02, 1.9678e-02, 4.9395e-03,\n",
      "        6.0625e-02, 4.1181e-03, 6.8865e-03, 1.2800e-02, 5.8977e-03, 1.5732e-02,\n",
      "        5.1488e-02, 0.0000e+00, 0.0000e+00, 0.0000e+00, 4.9679e-03, 0.0000e+00,\n",
      "        2.5436e-02, 0.0000e+00, 0.0000e+00, 4.4702e-02, 2.4651e-02, 1.3912e-03,\n",
      "        0.0000e+00, 0.0000e+00, 1.1081e-02, 2.6576e-02, 0.0000e+00, 1.8697e-03,\n",
      "        0.0000e+00, 0.0000e+00, 1.4591e-03, 3.6526e-04, 1.7212e-04, 6.0285e-03,\n",
      "        1.9665e-03, 1.2073e-04, 4.8394e-02, 1.1964e-02, 2.0685e-02, 2.3138e-02,\n",
      "        0.0000e+00, 4.0272e-03, 7.7213e-04, 2.2485e-02, 1.0825e-02, 5.0588e-03,\n",
      "        2.1329e-02, 2.2377e-02, 2.6879e-02, 3.1376e-02, 2.0519e-02, 0.0000e+00,\n",
      "        1.3551e-02, 0.0000e+00, 1.1751e-02, 4.0873e-02, 1.2043e-02, 4.3270e-02,\n",
      "        0.0000e+00, 2.4275e-03, 3.0070e-02, 2.6781e-03, 2.0613e-03, 4.7493e-02,\n",
      "        2.0152e-02, 2.2051e-02, 0.0000e+00, 4.1946e-02, 3.5328e-02, 3.7373e-02,\n",
      "        2.7274e-02, 2.6625e-02, 0.0000e+00, 2.8981e-03, 1.6979e-02, 1.5617e-02,\n",
      "        4.5602e-02, 2.4649e-02, 1.3537e-02, 2.0662e-02, 3.8215e-02, 3.8710e-02,\n",
      "        0.0000e+00, 2.6838e-02, 0.0000e+00, 1.6507e-02, 2.7122e-02, 3.2865e-02,\n",
      "        5.4184e-02, 1.8638e-04, 4.2384e-02, 1.4158e-02, 3.5177e-02, 1.1980e-02,\n",
      "        2.9823e-02, 2.2153e-02, 7.2714e-03, 4.1328e-02, 3.5441e-02, 3.7506e-02,\n",
      "        2.1151e-02, 3.0321e-02, 2.8319e-02, 1.7168e-02, 0.0000e+00, 1.7103e-02,\n",
      "        0.0000e+00, 4.4346e-02, 1.4718e-02, 3.3638e-02, 8.4337e-03, 2.3465e-02,\n",
      "        3.8240e-02, 2.3707e-02, 2.6084e-02, 5.4825e-02, 5.8971e-03, 1.5965e-02,\n",
      "        4.9270e-02, 3.5805e-02, 3.7679e-02, 4.0036e-02, 3.1678e-02, 2.4824e-02,\n",
      "        2.5060e-02, 2.7171e-02, 1.3201e-02, 3.5011e-02, 3.9101e-02, 1.7466e-02,\n",
      "        4.2573e-02, 2.7367e-02, 4.6021e-02, 3.2512e-02, 4.6198e-03, 6.2137e-02,\n",
      "        1.8002e-02, 2.7961e-02, 2.9509e-02, 5.1202e-02, 4.8588e-02, 7.1467e-03,\n",
      "        5.8121e-02, 7.9437e-02, 3.4782e-02, 2.2985e-02, 1.9901e-02, 3.6537e-02,\n",
      "        8.3697e-03, 1.0830e-02, 2.0496e-02, 5.1606e-02, 2.1498e-02, 5.9584e-02,\n",
      "        4.9472e-02, 1.7590e-02, 7.4178e-02, 6.9746e-02, 4.8061e-02, 2.9245e-02,\n",
      "        2.9464e-02, 1.5056e-01, 3.0088e-02, 3.3835e-02, 4.6017e-02, 7.9845e-02,\n",
      "        5.8406e-02, 4.8319e-02, 5.7374e-02, 2.6526e-02, 4.8412e-02, 3.3472e-02,\n",
      "        5.5433e-02, 4.1575e-02, 4.2534e-02, 3.9026e-02, 4.6883e-02, 1.1517e-02,\n",
      "        1.3321e-02, 3.6656e-02, 8.0221e-02, 4.4340e-02, 7.5990e-02, 1.7418e-02,\n",
      "        7.2156e-02, 3.6041e-02, 4.4034e-02, 6.4801e-02, 5.9963e-02, 5.4608e-02,\n",
      "        1.0654e-01, 9.6220e-02, 4.5749e-02, 4.8046e-02, 6.3025e-02, 2.5439e-02,\n",
      "        1.8771e-02, 4.5576e-02, 2.3778e-02, 5.4745e-02, 9.7628e-03, 5.0896e-02,\n",
      "        6.1950e-02, 8.1138e-03, 1.2911e-02, 5.2730e-02, 2.5177e-02, 4.2237e-02,\n",
      "        5.1881e-02, 2.4268e-02, 2.6593e-02, 9.4913e-02, 3.7393e-02, 4.9034e-02,\n",
      "        3.2401e-02, 1.7679e-02, 5.7701e-02, 2.3474e-02, 4.5528e-02, 1.4321e-01,\n",
      "        3.3831e-02, 2.7414e-02, 3.9533e-02, 5.5262e-02, 8.0616e-02, 8.5890e-02,\n",
      "        4.4014e-02, 2.3832e-02, 1.0396e-01, 1.6255e-02, 2.8217e-02, 5.3342e-02,\n",
      "        8.3453e-02, 5.0770e-02, 3.7253e-02, 7.4120e-02, 1.1133e-01, 6.9798e-02,\n",
      "        2.5772e-02, 2.6757e-02, 1.2098e-01, 2.0008e-02, 8.1753e-02, 6.5469e-02,\n",
      "        5.3358e-02, 7.4516e-02, 1.1351e-01, 5.6705e-02, 6.5541e-02, 2.2404e-02,\n",
      "        7.3338e-02, 8.5221e-02, 3.4587e-02, 1.0358e-01, 9.0612e-02, 2.3274e-02,\n",
      "        1.4998e-01, 4.1041e-02, 6.4444e-01, 1.9416e-02, 2.7465e-02, 4.8106e-02,\n",
      "        9.6887e-02, 1.1767e-02, 6.1305e-02, 1.2817e-01, 1.6244e-01, 3.1869e-01,\n",
      "        9.2511e-02, 8.3618e-02, 1.2539e-01, 1.8261e-01, 7.4938e-02, 1.3854e-02,\n",
      "        1.0958e-01, 2.8710e-02, 1.9733e-02, 3.2682e-02, 2.0705e-02, 1.9134e-01,\n",
      "        1.3052e-01, 7.6244e-02, 7.3517e-02, 7.6549e-02, 3.8174e-02, 1.7258e-01,\n",
      "        2.9648e-02, 1.1664e-01, 2.6300e-01, 1.6588e-01, 1.2452e-01, 3.2541e-02,\n",
      "        8.9294e-02, 2.7520e-01, 4.0043e-02, 1.3889e-01, 8.6192e-02, 2.5454e-01,\n",
      "        2.1594e-01, 8.7496e-02, 2.7207e-01, 4.9242e-02, 2.1654e-01, 4.6837e-01,\n",
      "        3.9178e-02, 1.2194e-01, 1.3497e-01, 1.8526e-01, 8.9766e-02, 2.1984e-01,\n",
      "        6.2446e-01, 3.3028e-02, 1.3878e-01, 1.6074e-01, 1.6527e-01, 1.5824e-01,\n",
      "        1.3864e-01, 1.4422e-01, 2.1753e-01, 2.5226e-01, 7.8216e-02, 3.1508e-02,\n",
      "        2.8496e-02, 1.8041e-01, 5.4241e-02, 1.2117e-02, 1.1145e-02, 8.2715e-02]) tensor(0.6444) tensor(20.5001)\n",
      "Chosen edges: tensor([[   1,   10,   13,    5,   11,    7,    5,    5,   10,    5,    1,    9,\n",
      "            8,    8,    7,   14,   12,   14,    0,    3,    4,    6,    7,    7,\n",
      "            8,   10,   14,    5,    4,   13,    6,    6,    7,   10,    8,    6,\n",
      "            6,    8,   14,   14,    4,    4,    3,    3,    4,   10,   14,    6,\n",
      "            9,    4,    6,    4,   14,    3,   10,    4,    4,    7,   11,   10,\n",
      "            6,    6,   10,    1,    1,    3,    5,    7,   11,   11,    1,    1,\n",
      "            3,    3,    4,    4,    4,    4,    4,    4,    4,    4,    5,    5,\n",
      "            5,    5,    6,    6,    8,    8,    8,    8,    8,   10,   10,   10,\n",
      "           10,   10,   10,   10,   10,   10,   10,   10,   10,   12,   12,   14],\n",
      "        [1593, 1623, 1631, 2043, 2091, 2190, 2232, 2235, 2236, 2245, 2248, 2254,\n",
      "         2260, 2274, 2279, 2281, 2291, 2298, 2319, 2327, 2340, 2351, 2352, 2354,\n",
      "         2357, 2373, 2384, 2390, 2392, 2393, 2396, 2399, 2402, 2407, 2410, 2414,\n",
      "         2415, 2416, 2419, 2422, 2423, 2424, 2426, 2427, 2428, 2431, 2433, 2434,\n",
      "         2435, 2436, 2437, 2438, 2439, 2441, 2442, 2444, 2445, 2447, 2449, 2453,\n",
      "         2455, 2456, 2457, 2458, 2459, 2460, 2461, 2462, 2463, 2465, 2470, 2471,\n",
      "         2472, 2473, 2474, 2476, 2478, 2479, 2480, 2481, 2483, 2484, 2486, 2487,\n",
      "         2488, 2489, 2490, 2491, 2493, 2494, 2496, 2497, 2498, 2499, 2500, 2501,\n",
      "         2503, 2504, 2505, 2506, 2507, 2508, 2509, 2510, 2511, 2514, 2515, 2518]]) 108\n"
     ]
    },
    {
     "name": "stderr",
     "output_type": "stream",
     "text": [
      "100%|██████████| 51/51 [00:03<00:00, 13.30it/s]\n"
     ]
    },
    {
     "name": "stdout",
     "output_type": "stream",
     "text": [
      "Fine-Tune Epoch 1/10 | Train Loss: 2.0408 | Val Loss: 1.9388\n"
     ]
    },
    {
     "name": "stderr",
     "output_type": "stream",
     "text": [
      "100%|██████████| 51/51 [00:03<00:00, 13.86it/s]\n"
     ]
    },
    {
     "name": "stdout",
     "output_type": "stream",
     "text": [
      "Fine-Tune Epoch 2/10 | Train Loss: 1.9946 | Val Loss: 1.9222\n"
     ]
    },
    {
     "name": "stderr",
     "output_type": "stream",
     "text": [
      "100%|██████████| 51/51 [00:03<00:00, 14.33it/s]\n"
     ]
    },
    {
     "name": "stdout",
     "output_type": "stream",
     "text": [
      "Fine-Tune Epoch 3/10 | Train Loss: 1.9814 | Val Loss: 1.9139\n"
     ]
    },
    {
     "name": "stderr",
     "output_type": "stream",
     "text": [
      "100%|██████████| 51/51 [00:03<00:00, 13.13it/s]\n"
     ]
    },
    {
     "name": "stdout",
     "output_type": "stream",
     "text": [
      "Fine-Tune Epoch 4/10 | Train Loss: 1.9746 | Val Loss: 1.9077\n"
     ]
    },
    {
     "name": "stderr",
     "output_type": "stream",
     "text": [
      "100%|██████████| 51/51 [00:03<00:00, 14.58it/s]\n"
     ]
    },
    {
     "name": "stdout",
     "output_type": "stream",
     "text": [
      "Fine-Tune Epoch 5/10 | Train Loss: 1.9689 | Val Loss: 1.9013\n"
     ]
    },
    {
     "name": "stderr",
     "output_type": "stream",
     "text": [
      "100%|██████████| 51/51 [00:04<00:00, 12.61it/s]\n"
     ]
    },
    {
     "name": "stdout",
     "output_type": "stream",
     "text": [
      "Fine-Tune Epoch 6/10 | Train Loss: 1.9630 | Val Loss: 1.8967\n"
     ]
    },
    {
     "name": "stderr",
     "output_type": "stream",
     "text": [
      "100%|██████████| 51/51 [00:03<00:00, 14.31it/s]\n"
     ]
    },
    {
     "name": "stdout",
     "output_type": "stream",
     "text": [
      "Fine-Tune Epoch 7/10 | Train Loss: 1.9601 | Val Loss: 1.8928\n"
     ]
    },
    {
     "name": "stderr",
     "output_type": "stream",
     "text": [
      "100%|██████████| 51/51 [00:03<00:00, 14.22it/s]\n"
     ]
    },
    {
     "name": "stdout",
     "output_type": "stream",
     "text": [
      "Fine-Tune Epoch 8/10 | Train Loss: 1.9581 | Val Loss: 1.8905\n"
     ]
    },
    {
     "name": "stderr",
     "output_type": "stream",
     "text": [
      "100%|██████████| 51/51 [00:03<00:00, 14.33it/s]\n"
     ]
    },
    {
     "name": "stdout",
     "output_type": "stream",
     "text": [
      "Fine-Tune Epoch 9/10 | Train Loss: 1.9530 | Val Loss: 1.8871\n"
     ]
    },
    {
     "name": "stderr",
     "output_type": "stream",
     "text": [
      "100%|██████████| 51/51 [00:03<00:00, 13.89it/s]\n"
     ]
    },
    {
     "name": "stdout",
     "output_type": "stream",
     "text": [
      "Fine-Tune Epoch 10/10 | Train Loss: 1.9502 | Val Loss: 1.8844\n"
     ]
    },
    {
     "name": "stderr",
     "output_type": "stream",
     "text": [
      "100%|██████████| 51/51 [00:04<00:00, 11.60it/s]\n"
     ]
    },
    {
     "name": "stdout",
     "output_type": "stream",
     "text": [
      "Epoch 44/50 | Train Loss: 1.9459 | Val Loss: 24.3907 | Val Accuracy: 0.3605\n",
      "Edge metrics: tensor([1.8562e-02, 7.5960e-03, 6.7475e-04, 2.4710e-03, 1.6850e-02, 1.8655e-02,\n",
      "        1.7335e-02, 1.7774e-02, 1.6200e-02, 1.9805e-03, 6.1053e-03, 4.3686e-03,\n",
      "        6.3214e-03, 1.7637e-02, 3.0013e-03, 4.9606e-03, 7.9328e-03, 9.1234e-03,\n",
      "        4.0437e-03, 8.0253e-03, 2.1572e-04, 7.3618e-03, 7.5515e-03, 7.5061e-03,\n",
      "        2.3371e-02, 9.1253e-03, 1.7655e-02, 1.6622e-02, 5.2886e-03, 8.8210e-03,\n",
      "        1.1705e-03, 1.0832e-02, 7.3519e-03, 5.2454e-03, 4.6891e-03, 8.0223e-03,\n",
      "        1.9896e-06, 8.3472e-03, 9.6141e-03, 6.0531e-03, 6.9893e-03, 1.4281e-02,\n",
      "        1.4027e-02, 1.4407e-02, 8.7234e-04, 9.9233e-03, 6.1716e-04, 1.1855e-03,\n",
      "        1.2109e-02, 1.6140e-05, 5.0990e-03, 1.2022e-02, 7.2189e-03, 1.7730e-02,\n",
      "        3.7942e-04, 6.7976e-03, 4.0547e-03, 8.0890e-03, 1.6769e-02, 7.8624e-03,\n",
      "        7.3149e-03, 1.9680e-02, 5.4519e-04, 3.1800e-03, 1.6030e-02, 1.7925e-02,\n",
      "        1.9932e-02, 2.2068e-02, 1.1967e-03, 3.8722e-03, 1.0592e-02, 4.8353e-02,\n",
      "        4.4979e-03, 5.3012e-03, 2.3345e-03, 5.8930e-03, 1.0290e-02, 1.3468e-04,\n",
      "        1.8933e-02, 2.7675e-02, 4.3951e-04, 3.5536e-03, 8.1640e-03, 4.4723e-03,\n",
      "        1.0118e-02, 4.9067e-04, 4.0412e-03, 1.7020e-02, 2.0755e-04, 3.3354e-03,\n",
      "        3.8529e-02, 4.3567e-02, 4.4884e-03, 4.2061e-03, 7.8523e-03, 1.5413e-03,\n",
      "        5.3672e-03, 2.8947e-02, 2.8664e-03, 0.0000e+00, 0.0000e+00, 2.0828e-02,\n",
      "        0.0000e+00, 0.0000e+00, 0.0000e+00, 0.0000e+00, 0.0000e+00, 0.0000e+00,\n",
      "        0.0000e+00, 0.0000e+00, 0.0000e+00, 0.0000e+00, 0.0000e+00, 0.0000e+00,\n",
      "        0.0000e+00, 4.6148e-03, 3.4168e-03, 1.9072e-02, 0.0000e+00, 8.2286e-03,\n",
      "        2.8265e-02, 0.0000e+00, 0.0000e+00, 3.3635e-02, 0.0000e+00, 0.0000e+00,\n",
      "        0.0000e+00, 0.0000e+00, 0.0000e+00, 0.0000e+00, 0.0000e+00, 0.0000e+00,\n",
      "        7.0786e-03, 0.0000e+00, 0.0000e+00, 1.7422e-02, 0.0000e+00, 0.0000e+00,\n",
      "        0.0000e+00, 0.0000e+00, 0.0000e+00, 0.0000e+00, 0.0000e+00, 1.0683e-02,\n",
      "        0.0000e+00, 0.0000e+00, 0.0000e+00, 0.0000e+00, 0.0000e+00, 0.0000e+00,\n",
      "        0.0000e+00, 0.0000e+00, 1.4527e-02, 0.0000e+00, 0.0000e+00, 3.6303e-02,\n",
      "        2.4135e-02, 0.0000e+00, 2.0885e-03, 0.0000e+00, 0.0000e+00, 0.0000e+00,\n",
      "        0.0000e+00, 2.1841e-02, 0.0000e+00, 0.0000e+00, 0.0000e+00, 0.0000e+00,\n",
      "        0.0000e+00, 0.0000e+00, 0.0000e+00, 0.0000e+00, 0.0000e+00, 0.0000e+00,\n",
      "        0.0000e+00, 0.0000e+00, 1.3508e-02, 0.0000e+00, 2.3139e-03, 0.0000e+00,\n",
      "        2.0650e-03, 0.0000e+00, 0.0000e+00, 0.0000e+00, 0.0000e+00, 0.0000e+00,\n",
      "        0.0000e+00, 0.0000e+00, 0.0000e+00, 0.0000e+00, 0.0000e+00, 0.0000e+00,\n",
      "        4.1694e-04, 3.3129e-02, 0.0000e+00, 0.0000e+00, 0.0000e+00, 2.2944e-03,\n",
      "        0.0000e+00, 0.0000e+00, 0.0000e+00, 0.0000e+00, 0.0000e+00, 2.5232e-03,\n",
      "        0.0000e+00, 0.0000e+00, 2.1891e-02, 0.0000e+00, 0.0000e+00, 0.0000e+00,\n",
      "        1.1898e-03, 0.0000e+00, 0.0000e+00, 0.0000e+00, 0.0000e+00, 1.1322e-02,\n",
      "        0.0000e+00, 0.0000e+00, 0.0000e+00, 1.5408e-02, 0.0000e+00, 9.4335e-04,\n",
      "        0.0000e+00, 0.0000e+00, 0.0000e+00, 0.0000e+00, 0.0000e+00, 0.0000e+00,\n",
      "        7.1504e-05, 0.0000e+00, 0.0000e+00, 0.0000e+00, 0.0000e+00, 0.0000e+00,\n",
      "        0.0000e+00, 4.2427e-05, 0.0000e+00, 0.0000e+00, 4.8228e-02, 0.0000e+00,\n",
      "        0.0000e+00, 0.0000e+00, 1.0081e-02, 0.0000e+00, 0.0000e+00, 0.0000e+00,\n",
      "        0.0000e+00, 0.0000e+00, 0.0000e+00, 3.7409e-02, 0.0000e+00, 0.0000e+00,\n",
      "        0.0000e+00, 0.0000e+00, 0.0000e+00, 0.0000e+00, 0.0000e+00, 0.0000e+00,\n",
      "        1.1718e-02, 6.3847e-02, 3.3123e-02, 0.0000e+00, 6.7801e-03, 0.0000e+00,\n",
      "        2.3665e-02, 0.0000e+00, 0.0000e+00, 0.0000e+00, 0.0000e+00, 0.0000e+00,\n",
      "        0.0000e+00, 0.0000e+00, 0.0000e+00, 5.3074e-02, 0.0000e+00, 0.0000e+00,\n",
      "        7.5712e-04, 0.0000e+00, 2.3345e-03, 0.0000e+00, 0.0000e+00, 0.0000e+00,\n",
      "        0.0000e+00, 0.0000e+00, 0.0000e+00, 0.0000e+00, 3.6443e-02, 0.0000e+00,\n",
      "        0.0000e+00, 0.0000e+00, 0.0000e+00, 0.0000e+00, 0.0000e+00, 2.2763e-02,\n",
      "        5.3720e-02, 0.0000e+00, 0.0000e+00, 1.4223e-02, 1.8428e-03, 2.3173e-02,\n",
      "        1.2714e-02, 0.0000e+00, 0.0000e+00, 2.1351e-02, 0.0000e+00, 7.7175e-03,\n",
      "        0.0000e+00, 0.0000e+00, 0.0000e+00, 3.3901e-02, 8.8883e-03, 2.2557e-02,\n",
      "        2.9539e-02, 0.0000e+00, 1.9435e-02, 9.3598e-04, 4.1510e-02, 0.0000e+00,\n",
      "        0.0000e+00, 2.7074e-03, 0.0000e+00, 0.0000e+00, 0.0000e+00, 0.0000e+00,\n",
      "        0.0000e+00, 0.0000e+00, 0.0000e+00, 0.0000e+00, 0.0000e+00, 0.0000e+00,\n",
      "        0.0000e+00, 0.0000e+00, 0.0000e+00, 1.9586e-02, 3.7454e-04, 0.0000e+00,\n",
      "        0.0000e+00, 0.0000e+00, 0.0000e+00, 9.5999e-05, 1.5587e-03, 0.0000e+00,\n",
      "        0.0000e+00, 0.0000e+00, 0.0000e+00, 0.0000e+00, 0.0000e+00, 5.4772e-03,\n",
      "        0.0000e+00, 0.0000e+00, 6.2303e-02, 0.0000e+00, 0.0000e+00, 1.4576e-03,\n",
      "        0.0000e+00, 0.0000e+00, 0.0000e+00, 0.0000e+00, 0.0000e+00, 0.0000e+00,\n",
      "        1.6647e-02, 0.0000e+00, 0.0000e+00, 0.0000e+00, 0.0000e+00, 0.0000e+00,\n",
      "        0.0000e+00, 0.0000e+00, 4.2246e-04, 0.0000e+00, 0.0000e+00, 0.0000e+00,\n",
      "        0.0000e+00, 0.0000e+00, 0.0000e+00, 0.0000e+00, 0.0000e+00, 0.0000e+00,\n",
      "        0.0000e+00, 0.0000e+00, 0.0000e+00, 0.0000e+00, 0.0000e+00, 1.2799e-02,\n",
      "        1.4344e-03, 2.9767e-04, 0.0000e+00, 0.0000e+00, 0.0000e+00, 0.0000e+00,\n",
      "        3.0810e-03, 0.0000e+00, 0.0000e+00, 8.3044e-05, 0.0000e+00, 0.0000e+00,\n",
      "        0.0000e+00, 0.0000e+00, 0.0000e+00, 0.0000e+00, 0.0000e+00, 0.0000e+00,\n",
      "        0.0000e+00, 0.0000e+00, 0.0000e+00, 0.0000e+00, 0.0000e+00, 0.0000e+00,\n",
      "        2.9974e-04, 0.0000e+00, 0.0000e+00, 0.0000e+00, 3.4343e-03, 0.0000e+00,\n",
      "        0.0000e+00, 0.0000e+00, 3.5239e-02, 0.0000e+00, 0.0000e+00, 0.0000e+00,\n",
      "        0.0000e+00, 0.0000e+00, 0.0000e+00, 0.0000e+00, 0.0000e+00, 0.0000e+00,\n",
      "        1.5662e-02, 6.3932e-02, 0.0000e+00, 3.9897e-02, 0.0000e+00, 0.0000e+00,\n",
      "        8.9906e-04, 1.6931e-02, 0.0000e+00, 0.0000e+00, 4.1316e-03, 0.0000e+00,\n",
      "        0.0000e+00, 0.0000e+00, 0.0000e+00, 0.0000e+00, 0.0000e+00, 0.0000e+00,\n",
      "        0.0000e+00, 0.0000e+00, 0.0000e+00, 0.0000e+00, 0.0000e+00, 0.0000e+00,\n",
      "        0.0000e+00, 0.0000e+00, 2.3023e-04, 0.0000e+00, 4.4602e-02, 0.0000e+00,\n",
      "        0.0000e+00, 0.0000e+00, 0.0000e+00, 0.0000e+00, 0.0000e+00, 0.0000e+00,\n",
      "        0.0000e+00, 0.0000e+00, 0.0000e+00, 0.0000e+00, 0.0000e+00, 2.0603e-02,\n",
      "        0.0000e+00, 0.0000e+00, 0.0000e+00, 0.0000e+00, 0.0000e+00, 0.0000e+00,\n",
      "        0.0000e+00, 0.0000e+00, 0.0000e+00, 3.5953e-02, 3.3538e-04, 4.3195e-03,\n",
      "        0.0000e+00, 0.0000e+00, 0.0000e+00, 0.0000e+00, 0.0000e+00, 0.0000e+00,\n",
      "        0.0000e+00, 0.0000e+00, 0.0000e+00, 0.0000e+00, 0.0000e+00, 0.0000e+00,\n",
      "        0.0000e+00, 0.0000e+00, 2.4506e-02, 1.2864e-02, 0.0000e+00, 0.0000e+00,\n",
      "        0.0000e+00, 0.0000e+00, 2.3757e-02, 2.4977e-03, 0.0000e+00, 0.0000e+00,\n",
      "        0.0000e+00, 0.0000e+00, 0.0000e+00, 0.0000e+00, 8.0006e-02, 4.4447e-02,\n",
      "        0.0000e+00, 0.0000e+00, 9.4769e-04, 0.0000e+00, 0.0000e+00, 1.5268e-02,\n",
      "        9.2925e-03, 0.0000e+00, 8.4136e-03, 0.0000e+00, 0.0000e+00, 4.3542e-03,\n",
      "        0.0000e+00, 0.0000e+00, 0.0000e+00, 0.0000e+00, 0.0000e+00, 0.0000e+00,\n",
      "        0.0000e+00, 0.0000e+00, 0.0000e+00, 1.1931e-04, 0.0000e+00, 0.0000e+00,\n",
      "        0.0000e+00, 0.0000e+00, 4.9416e-03, 0.0000e+00, 0.0000e+00, 1.4052e-02,\n",
      "        0.0000e+00, 0.0000e+00, 0.0000e+00, 0.0000e+00, 0.0000e+00, 2.8093e-03,\n",
      "        0.0000e+00, 0.0000e+00, 0.0000e+00, 0.0000e+00, 0.0000e+00, 1.2214e-02,\n",
      "        0.0000e+00, 0.0000e+00, 3.1439e-02, 0.0000e+00, 6.3585e-03, 1.7069e-02,\n",
      "        0.0000e+00, 0.0000e+00, 1.4025e-02, 1.6629e-02, 1.2567e-02, 1.3369e-02,\n",
      "        3.1495e-02, 0.0000e+00, 0.0000e+00, 0.0000e+00, 0.0000e+00, 0.0000e+00,\n",
      "        1.0029e-02, 8.6422e-02, 0.0000e+00, 4.5538e-02, 0.0000e+00, 0.0000e+00,\n",
      "        3.1164e-02, 0.0000e+00, 0.0000e+00, 0.0000e+00, 0.0000e+00, 2.6310e-02,\n",
      "        0.0000e+00, 0.0000e+00, 7.2709e-03, 1.3048e-02, 1.4927e-02, 5.0186e-03,\n",
      "        1.0651e-02, 0.0000e+00, 5.6564e-03, 2.4757e-02, 4.9503e-02, 1.5407e-02,\n",
      "        0.0000e+00, 1.2105e-02, 1.4117e-02, 3.0913e-02, 1.1710e-02, 1.7763e-02,\n",
      "        1.8604e-02, 7.3926e-03, 0.0000e+00, 1.7290e-04, 0.0000e+00, 2.5616e-02,\n",
      "        0.0000e+00, 5.2479e-03, 0.0000e+00, 0.0000e+00, 3.7723e-03, 0.0000e+00,\n",
      "        0.0000e+00, 8.9026e-03, 0.0000e+00, 6.4667e-02, 0.0000e+00, 0.0000e+00,\n",
      "        0.0000e+00, 0.0000e+00, 5.7208e-04, 0.0000e+00, 0.0000e+00, 9.3694e-04,\n",
      "        3.0607e-02, 1.7794e-02, 0.0000e+00, 1.2058e-03, 0.0000e+00, 0.0000e+00,\n",
      "        6.4003e-03, 0.0000e+00, 3.6464e-02, 3.1237e-02, 4.5526e-03, 5.5668e-03,\n",
      "        8.6076e-03, 1.3489e-02, 1.5730e-02, 1.4002e-02, 0.0000e+00, 0.0000e+00,\n",
      "        0.0000e+00, 1.8407e-02, 0.0000e+00, 5.4410e-02, 0.0000e+00, 0.0000e+00,\n",
      "        1.0299e-01, 9.6957e-02, 0.0000e+00, 0.0000e+00, 0.0000e+00, 4.0755e-02,\n",
      "        2.8702e-02, 0.0000e+00, 1.9277e-03, 0.0000e+00, 0.0000e+00, 1.3510e-03,\n",
      "        2.6559e-04, 1.4111e-04, 5.2650e-03, 6.5241e-03, 0.0000e+00, 1.0068e-01,\n",
      "        1.9101e-02, 3.2491e-02, 5.6595e-02, 0.0000e+00, 3.6657e-03, 0.0000e+00,\n",
      "        2.7934e-02, 1.3423e-02, 1.2410e-02, 3.6715e-02, 2.3297e-02, 4.0498e-02,\n",
      "        4.6169e-02, 3.1861e-02, 0.0000e+00, 1.5934e-02, 0.0000e+00, 1.8144e-02,\n",
      "        4.5634e-02, 1.4988e-02, 7.1367e-02, 0.0000e+00, 1.6477e-03, 3.8297e-02,\n",
      "        1.0487e-03, 1.9600e-03, 1.0672e-01, 2.7881e-02, 4.4080e-02, 0.0000e+00,\n",
      "        5.3090e-02, 5.9061e-02, 5.4861e-02, 2.8818e-02, 4.9711e-02, 0.0000e+00,\n",
      "        3.3761e-03, 2.3306e-02, 1.5175e-02, 1.1537e-01, 6.0161e-02, 2.3846e-02,\n",
      "        2.5690e-02, 9.3031e-02, 6.4460e-02, 0.0000e+00, 5.5636e-02, 0.0000e+00,\n",
      "        3.1611e-02, 4.4649e-02, 4.7868e-02, 0.0000e+00, 7.6504e-02, 2.0347e-02,\n",
      "        3.7254e-02, 2.5175e-02, 1.1263e-01, 3.7826e-02, 5.0051e-03, 5.8538e-02,\n",
      "        5.0970e-02, 5.6285e-02, 2.2878e-02, 6.3582e-02, 4.6794e-02, 2.5453e-02,\n",
      "        0.0000e+00, 2.3197e-02, 0.0000e+00, 8.1099e-02, 2.4808e-02, 5.5075e-02,\n",
      "        6.0361e-03, 2.5356e-02, 3.8686e-02, 3.2759e-02, 4.0738e-02, 1.2313e-02,\n",
      "        4.0488e-02, 8.7965e-02, 5.3271e-02, 6.6342e-02, 6.6804e-02, 6.3306e-02,\n",
      "        4.0270e-02, 3.9135e-02, 3.7939e-02, 1.5957e-02, 4.5747e-02, 4.7149e-02,\n",
      "        2.4742e-02, 5.9735e-02, 2.8515e-02, 7.4916e-02, 4.2083e-02, 5.2552e-03,\n",
      "        1.9428e-02, 3.4295e-02, 2.6834e-02, 6.2358e-02, 5.8547e-03, 5.2736e-02,\n",
      "        5.7823e-02, 3.7501e-02, 6.0609e-02, 1.4916e-02, 2.6388e-02, 5.4474e-02,\n",
      "        2.3863e-02, 1.0908e-01, 3.8839e-02, 7.4934e-02, 4.3750e-02, 4.6306e-02,\n",
      "        3.7472e-02, 6.9845e-02, 1.0707e-01, 8.6125e-02, 5.7431e-02, 9.2195e-02,\n",
      "        4.8307e-02, 1.0870e-01, 1.1906e-01, 3.3577e-02, 7.5523e-02, 2.2004e-02,\n",
      "        3.0932e-02, 3.7939e-02, 8.1969e-02, 2.5158e-02, 1.1535e-01, 7.0054e-02,\n",
      "        1.1254e-01, 9.5571e-02, 5.6451e-02, 4.1780e-02, 9.1772e-02, 3.6845e-02,\n",
      "        2.8536e-02, 2.4343e-02, 2.5761e-02, 5.3653e-02, 1.0562e-01, 3.9076e-02,\n",
      "        5.8790e-02, 7.2843e-02, 6.9347e-02, 5.0214e-02, 2.5822e-02, 2.3354e-02,\n",
      "        6.0517e-02, 6.2779e-02, 4.8201e-02, 6.2462e-02, 1.0030e-01, 4.5144e-02,\n",
      "        7.0126e-02, 3.9993e-02, 1.1857e-01, 4.0909e-02, 8.9467e-02, 4.8767e-02,\n",
      "        4.8154e-02, 4.9532e-02, 6.3266e-02, 2.3093e-01, 8.7041e-02, 6.3261e-02,\n",
      "        9.0280e-02, 1.9026e-02, 7.0264e-02, 8.4263e-02, 1.3376e-01, 9.4777e-02,\n",
      "        5.3254e-02, 1.0436e-01, 8.7033e-02, 6.9466e-02, 7.3391e-02, 8.5151e-02,\n",
      "        1.2804e-01, 2.0701e-01, 1.6231e-01, 1.2616e-01, 2.4384e-02, 3.1144e-02,\n",
      "        2.9878e-02, 1.2588e-01, 3.4582e-02, 4.8299e-02, 4.8690e-02, 2.0269e-02,\n",
      "        1.4177e-02, 2.0314e-02, 8.8782e-02, 8.0274e-02, 2.2653e-02, 6.9043e-02,\n",
      "        5.3415e-02, 0.0000e+00, 3.8559e-02, 5.2343e-02, 3.2827e-02, 7.5928e-02,\n",
      "        8.8194e-02, 1.8781e-01, 8.0969e-02, 1.9642e-01, 3.2761e-02, 7.5959e-02,\n",
      "        2.4456e-01, 8.3630e-02, 1.0624e-01, 6.7007e-02, 4.7835e-02, 7.4206e-02,\n",
      "        6.7166e-02, 1.0114e-02, 9.4142e-02, 1.8945e-02, 1.0207e-01, 2.2605e-02,\n",
      "        6.7980e-02, 4.5929e-02, 1.2834e-01, 2.8680e-02, 1.5579e-01, 1.4255e-02,\n",
      "        8.2228e-02, 4.3892e-02, 1.3029e-01, 1.9416e-01, 4.6145e-02, 5.5971e-02,\n",
      "        9.8770e-02, 5.5806e-02, 6.7007e-02, 3.1389e-02, 4.5592e-02, 5.0960e-02,\n",
      "        7.3490e-02, 2.7585e-02, 1.9572e-01, 9.2942e-02, 4.0716e-01, 8.5133e-02,\n",
      "        1.0238e-01, 1.2055e-01, 3.9868e-01, 9.5395e-02, 1.1931e-01, 2.2627e-01,\n",
      "        1.0254e-01, 2.1657e-01, 2.8546e-02, 1.6038e-01, 2.8220e-01, 9.5619e-02,\n",
      "        8.2103e-02, 1.6887e-01, 4.1911e-02, 1.8197e-01, 1.8241e-01, 1.9651e-01,\n",
      "        1.8091e-01, 3.9609e-01, 4.3900e-02, 4.0065e-01, 2.4453e-01, 2.9181e-02,\n",
      "        6.3503e-01, 3.6823e-01, 1.0505e-01, 1.2672e-01, 3.6710e-01, 1.5138e-01,\n",
      "        1.3990e-01, 2.6904e-01, 2.6175e-01, 7.7051e-02, 1.1202e-01, 1.9516e-01,\n",
      "        1.9444e-01, 3.6878e-01, 2.0182e-01, 2.1177e-01, 1.6047e-01, 3.1405e-01,\n",
      "        5.4877e-01, 3.0396e-01, 5.7283e-02, 3.4270e-01, 6.0591e-02, 8.7420e-02]) tensor(0.6350) tensor(27.8161)\n",
      "Chosen edges: tensor([[  11,   11,   13,    5,    4,   12,    9,    1,   12,    4,    4,    0,\n",
      "           12,   14,    0,    0,   10,   12,    3,    8,   11,   12,   14,   13,\n",
      "            1,   12,    7,    3,    9,    0,   14,   12,   13,   14,    7,   12,\n",
      "            1,    1,   14,    0,    0,   13,   10,   10,    7,    4,    6,    0,\n",
      "            4,   11,    3,    6,    3,    3,    4,    5,   12,   12,   14,   12,\n",
      "           11,    7,    3,    4,   14,    7,    1,   13,    3,   10,    3,    7,\n",
      "            7,    6,   10,   12,   14,    5,   12,   14,    1,    1,    1,    4,\n",
      "            4,    4,    5,    7,    8,   10,   10,   12,   10,   10,    5,    9,\n",
      "            8,   14,   14,    0,    3,    4,    6,    7,    8,   10,   14,    5,\n",
      "           13,    6,    7,    8,    6,   14,    4,    3,    4,   10,    6,    9,\n",
      "            4,    6,    3,   10,    4,    7,   11,   10,    6,    6,   10,    1,\n",
      "            1,    3,    5,    7,   11,    1,    1,    3,    3,    4,    4,    4,\n",
      "            4,    4,    4,    5,    5,    5,    6,    6,    8,    8,    8,    8,\n",
      "            8,   10,   10,   10,   10,   10,   10,   10,   10,   10,   10,   10,\n",
      "           10,   12,   12,   14],\n",
      "        [ 574,  611,  686,  815,  982, 1202, 1352, 1555, 1659, 1701, 1703, 1804,\n",
      "         1809, 1862, 1886, 1905, 1916, 1918, 1946, 1990, 2017, 2025, 2038, 2046,\n",
      "         2053, 2060, 2061, 2062, 2066, 2077, 2080, 2105, 2107, 2108, 2112, 2115,\n",
      "         2150, 2154, 2233, 2237, 2238, 2240, 2244, 2252, 2265, 2277, 2278, 2283,\n",
      "         2293, 2296, 2300, 2303, 2309, 2325, 2341, 2347, 2379, 2380, 2386, 2388,\n",
      "         2397, 2398, 2401, 2403, 2404, 2405, 2409, 2411, 2413, 2417, 2420, 2425,\n",
      "         2430, 2446, 2448, 2450, 2451, 2452, 2464, 2466, 2467, 2468, 2469, 2475,\n",
      "         2477, 2482, 2485, 2492, 2495, 2502, 2512, 2513, 2520, 2527, 2528, 2530,\n",
      "         2531, 2534, 2536, 2537, 2538, 2539, 2540, 2542, 2543, 2544, 2545, 2546,\n",
      "         2548, 2549, 2551, 2553, 2555, 2557, 2559, 2561, 2563, 2564, 2566, 2567,\n",
      "         2568, 2569, 2572, 2573, 2575, 2576, 2577, 2578, 2579, 2580, 2581, 2582,\n",
      "         2583, 2584, 2585, 2586, 2588, 2589, 2590, 2591, 2592, 2594, 2595, 2596,\n",
      "         2597, 2598, 2600, 2601, 2603, 2604, 2605, 2606, 2607, 2608, 2609, 2610,\n",
      "         2611, 2612, 2613, 2614, 2615, 2616, 2617, 2618, 2619, 2620, 2621, 2622,\n",
      "         2623, 2624, 2625, 2626]]) 172\n"
     ]
    },
    {
     "name": "stderr",
     "output_type": "stream",
     "text": [
      "100%|██████████| 51/51 [00:03<00:00, 13.26it/s]\n"
     ]
    },
    {
     "name": "stdout",
     "output_type": "stream",
     "text": [
      "Fine-Tune Epoch 1/10 | Train Loss: 2.0090 | Val Loss: 1.9272\n"
     ]
    },
    {
     "name": "stderr",
     "output_type": "stream",
     "text": [
      "100%|██████████| 51/51 [00:03<00:00, 12.94it/s]\n"
     ]
    },
    {
     "name": "stdout",
     "output_type": "stream",
     "text": [
      "Fine-Tune Epoch 2/10 | Train Loss: 1.9839 | Val Loss: 1.9167\n"
     ]
    },
    {
     "name": "stderr",
     "output_type": "stream",
     "text": [
      "100%|██████████| 51/51 [00:04<00:00, 12.45it/s]\n"
     ]
    },
    {
     "name": "stdout",
     "output_type": "stream",
     "text": [
      "Fine-Tune Epoch 3/10 | Train Loss: 1.9712 | Val Loss: 1.9077\n"
     ]
    },
    {
     "name": "stderr",
     "output_type": "stream",
     "text": [
      "100%|██████████| 51/51 [00:03<00:00, 12.84it/s]\n"
     ]
    },
    {
     "name": "stdout",
     "output_type": "stream",
     "text": [
      "Fine-Tune Epoch 4/10 | Train Loss: 1.9690 | Val Loss: 1.9007\n"
     ]
    },
    {
     "name": "stderr",
     "output_type": "stream",
     "text": [
      "100%|██████████| 51/51 [00:03<00:00, 12.98it/s]\n"
     ]
    },
    {
     "name": "stdout",
     "output_type": "stream",
     "text": [
      "Fine-Tune Epoch 5/10 | Train Loss: 1.9636 | Val Loss: 1.8956\n"
     ]
    },
    {
     "name": "stderr",
     "output_type": "stream",
     "text": [
      "100%|██████████| 51/51 [00:03<00:00, 13.16it/s]\n"
     ]
    },
    {
     "name": "stdout",
     "output_type": "stream",
     "text": [
      "Fine-Tune Epoch 6/10 | Train Loss: 1.9553 | Val Loss: 1.8909\n"
     ]
    },
    {
     "name": "stderr",
     "output_type": "stream",
     "text": [
      "100%|██████████| 51/51 [00:04<00:00, 11.97it/s]\n"
     ]
    },
    {
     "name": "stdout",
     "output_type": "stream",
     "text": [
      "Fine-Tune Epoch 7/10 | Train Loss: 1.9494 | Val Loss: 1.8868\n"
     ]
    },
    {
     "name": "stderr",
     "output_type": "stream",
     "text": [
      "100%|██████████| 51/51 [00:04<00:00, 12.23it/s]\n"
     ]
    },
    {
     "name": "stdout",
     "output_type": "stream",
     "text": [
      "Fine-Tune Epoch 8/10 | Train Loss: 1.9510 | Val Loss: 1.8836\n"
     ]
    },
    {
     "name": "stderr",
     "output_type": "stream",
     "text": [
      "100%|██████████| 51/51 [00:04<00:00, 12.55it/s]\n"
     ]
    },
    {
     "name": "stdout",
     "output_type": "stream",
     "text": [
      "Fine-Tune Epoch 9/10 | Train Loss: 1.9423 | Val Loss: 1.8810\n"
     ]
    },
    {
     "name": "stderr",
     "output_type": "stream",
     "text": [
      "100%|██████████| 51/51 [00:03<00:00, 13.23it/s]\n"
     ]
    },
    {
     "name": "stdout",
     "output_type": "stream",
     "text": [
      "Fine-Tune Epoch 10/10 | Train Loss: 1.9455 | Val Loss: 1.8790\n"
     ]
    },
    {
     "name": "stderr",
     "output_type": "stream",
     "text": [
      "100%|██████████| 51/51 [00:04<00:00, 10.49it/s]\n"
     ]
    },
    {
     "name": "stdout",
     "output_type": "stream",
     "text": [
      "Epoch 45/50 | Train Loss: 1.9444 | Val Loss: 24.3501 | Val Accuracy: 0.3616\n",
      "Edge metrics: tensor([2.9003e-02, 1.2170e-02, 3.6901e-04, 4.3699e-03, 2.5793e-02, 2.6964e-02,\n",
      "        2.5060e-02, 2.4813e-02, 2.4464e-02, 3.0694e-03, 1.1759e-02, 5.8938e-03,\n",
      "        9.9540e-03, 2.4420e-02, 3.3461e-03, 6.6813e-03, 1.0515e-02, 1.1626e-02,\n",
      "        5.0448e-03, 9.4523e-03, 1.6520e-04, 1.1565e-02, 9.4061e-03, 1.1985e-02,\n",
      "        3.4367e-02, 1.3087e-02, 2.6891e-02, 2.2912e-02, 8.6576e-03, 1.1398e-02,\n",
      "        1.2964e-03, 1.2449e-02, 8.5578e-03, 5.8256e-03, 5.2816e-03, 9.9520e-03,\n",
      "        1.1407e-06, 1.1338e-02, 1.1373e-02, 8.2118e-03, 1.1685e-02, 2.1247e-02,\n",
      "        1.7170e-02, 2.3237e-02, 9.4409e-04, 1.4309e-02, 9.8611e-04, 1.3568e-03,\n",
      "        1.4893e-02, 2.0984e-05, 6.1389e-03, 1.6159e-02, 8.7576e-03, 2.6095e-02,\n",
      "        6.5342e-04, 1.2302e-02, 4.5744e-03, 8.7761e-03, 2.4850e-02, 1.1614e-02,\n",
      "        5.7787e-03, 2.5973e-02, 3.8968e-04, 4.6297e-03, 2.1782e-02, 2.5216e-02,\n",
      "        2.2472e-02, 3.1158e-02, 1.6587e-03, 3.5940e-03, 1.6504e-02, 7.2959e-02,\n",
      "        6.9834e-03, 7.8189e-03, 3.1925e-03, 7.4636e-03, 1.2106e-02, 1.0735e-04,\n",
      "        3.3583e-02, 3.4379e-02, 6.3460e-04, 6.1005e-03, 1.2291e-02, 6.3922e-03,\n",
      "        1.2785e-02, 4.2743e-04, 5.6157e-03, 2.2018e-02, 2.7522e-04, 2.7046e-03,\n",
      "        5.1081e-02, 5.5239e-02, 4.8142e-03, 4.0340e-03, 9.9802e-03, 1.9783e-03,\n",
      "        9.1310e-03, 4.0670e-02, 4.1961e-03, 0.0000e+00, 0.0000e+00, 4.6335e-02,\n",
      "        0.0000e+00, 0.0000e+00, 0.0000e+00, 0.0000e+00, 0.0000e+00, 0.0000e+00,\n",
      "        0.0000e+00, 0.0000e+00, 0.0000e+00, 0.0000e+00, 0.0000e+00, 0.0000e+00,\n",
      "        0.0000e+00, 6.9631e-03, 3.2554e-03, 1.5849e-02, 0.0000e+00, 1.4397e-02,\n",
      "        5.9323e-02, 0.0000e+00, 0.0000e+00, 5.1131e-02, 0.0000e+00, 0.0000e+00,\n",
      "        0.0000e+00, 0.0000e+00, 0.0000e+00, 0.0000e+00, 0.0000e+00, 0.0000e+00,\n",
      "        1.0220e-02, 0.0000e+00, 0.0000e+00, 2.3154e-02, 0.0000e+00, 0.0000e+00,\n",
      "        0.0000e+00, 0.0000e+00, 0.0000e+00, 0.0000e+00, 0.0000e+00, 9.8416e-03,\n",
      "        0.0000e+00, 0.0000e+00, 0.0000e+00, 0.0000e+00, 0.0000e+00, 0.0000e+00,\n",
      "        0.0000e+00, 0.0000e+00, 1.5848e-02, 0.0000e+00, 0.0000e+00, 3.8477e-02,\n",
      "        4.5783e-02, 0.0000e+00, 3.2990e-03, 0.0000e+00, 0.0000e+00, 0.0000e+00,\n",
      "        0.0000e+00, 4.7412e-02, 0.0000e+00, 0.0000e+00, 0.0000e+00, 0.0000e+00,\n",
      "        0.0000e+00, 0.0000e+00, 0.0000e+00, 0.0000e+00, 0.0000e+00, 0.0000e+00,\n",
      "        0.0000e+00, 0.0000e+00, 1.6897e-02, 0.0000e+00, 4.3057e-03, 0.0000e+00,\n",
      "        1.3648e-03, 0.0000e+00, 0.0000e+00, 0.0000e+00, 0.0000e+00, 0.0000e+00,\n",
      "        0.0000e+00, 0.0000e+00, 0.0000e+00, 0.0000e+00, 0.0000e+00, 0.0000e+00,\n",
      "        2.7692e-04, 4.8637e-02, 0.0000e+00, 0.0000e+00, 0.0000e+00, 0.0000e+00,\n",
      "        0.0000e+00, 0.0000e+00, 0.0000e+00, 0.0000e+00, 0.0000e+00, 0.0000e+00,\n",
      "        0.0000e+00, 0.0000e+00, 3.9713e-02, 0.0000e+00, 0.0000e+00, 0.0000e+00,\n",
      "        1.1527e-03, 0.0000e+00, 0.0000e+00, 0.0000e+00, 0.0000e+00, 1.5453e-02,\n",
      "        0.0000e+00, 0.0000e+00, 0.0000e+00, 1.9348e-02, 0.0000e+00, 0.0000e+00,\n",
      "        0.0000e+00, 0.0000e+00, 0.0000e+00, 0.0000e+00, 0.0000e+00, 0.0000e+00,\n",
      "        0.0000e+00, 0.0000e+00, 0.0000e+00, 0.0000e+00, 0.0000e+00, 0.0000e+00,\n",
      "        0.0000e+00, 3.9914e-05, 0.0000e+00, 0.0000e+00, 6.7857e-02, 0.0000e+00,\n",
      "        0.0000e+00, 0.0000e+00, 1.5798e-02, 0.0000e+00, 0.0000e+00, 0.0000e+00,\n",
      "        0.0000e+00, 0.0000e+00, 0.0000e+00, 5.2246e-02, 0.0000e+00, 0.0000e+00,\n",
      "        0.0000e+00, 0.0000e+00, 0.0000e+00, 0.0000e+00, 0.0000e+00, 0.0000e+00,\n",
      "        1.8550e-02, 4.5502e-02, 0.0000e+00, 1.5742e-02, 0.0000e+00, 2.8749e-02,\n",
      "        0.0000e+00, 0.0000e+00, 0.0000e+00, 0.0000e+00, 0.0000e+00, 0.0000e+00,\n",
      "        0.0000e+00, 0.0000e+00, 0.0000e+00, 0.0000e+00, 4.1221e-04, 0.0000e+00,\n",
      "        2.2307e-03, 0.0000e+00, 0.0000e+00, 0.0000e+00, 0.0000e+00, 0.0000e+00,\n",
      "        0.0000e+00, 0.0000e+00, 5.3077e-02, 0.0000e+00, 0.0000e+00, 0.0000e+00,\n",
      "        0.0000e+00, 0.0000e+00, 0.0000e+00, 3.0160e-02, 0.0000e+00, 0.0000e+00,\n",
      "        1.8074e-02, 2.6378e-03, 4.1261e-02, 1.7001e-02, 0.0000e+00, 0.0000e+00,\n",
      "        2.7261e-02, 0.0000e+00, 1.3311e-02, 0.0000e+00, 0.0000e+00, 0.0000e+00,\n",
      "        5.0593e-02, 1.1475e-02, 2.7610e-02, 4.5977e-02, 0.0000e+00, 2.7598e-02,\n",
      "        7.8213e-04, 7.6026e-02, 0.0000e+00, 0.0000e+00, 5.8573e-03, 0.0000e+00,\n",
      "        0.0000e+00, 0.0000e+00, 0.0000e+00, 0.0000e+00, 0.0000e+00, 0.0000e+00,\n",
      "        0.0000e+00, 0.0000e+00, 0.0000e+00, 0.0000e+00, 0.0000e+00, 0.0000e+00,\n",
      "        2.7918e-02, 2.5327e-04, 0.0000e+00, 0.0000e+00, 0.0000e+00, 0.0000e+00,\n",
      "        1.2389e-04, 9.4472e-04, 0.0000e+00, 0.0000e+00, 0.0000e+00, 0.0000e+00,\n",
      "        0.0000e+00, 0.0000e+00, 4.6657e-03, 0.0000e+00, 0.0000e+00, 0.0000e+00,\n",
      "        0.0000e+00, 1.2688e-03, 0.0000e+00, 0.0000e+00, 0.0000e+00, 0.0000e+00,\n",
      "        0.0000e+00, 0.0000e+00, 2.3575e-02, 0.0000e+00, 0.0000e+00, 0.0000e+00,\n",
      "        0.0000e+00, 0.0000e+00, 0.0000e+00, 0.0000e+00, 1.2228e-04, 0.0000e+00,\n",
      "        0.0000e+00, 0.0000e+00, 0.0000e+00, 0.0000e+00, 0.0000e+00, 0.0000e+00,\n",
      "        0.0000e+00, 0.0000e+00, 0.0000e+00, 0.0000e+00, 0.0000e+00, 0.0000e+00,\n",
      "        0.0000e+00, 1.9507e-02, 6.6939e-04, 2.2001e-04, 0.0000e+00, 0.0000e+00,\n",
      "        0.0000e+00, 0.0000e+00, 6.8698e-03, 0.0000e+00, 0.0000e+00, 0.0000e+00,\n",
      "        0.0000e+00, 0.0000e+00, 0.0000e+00, 0.0000e+00, 0.0000e+00, 0.0000e+00,\n",
      "        0.0000e+00, 0.0000e+00, 0.0000e+00, 0.0000e+00, 0.0000e+00, 0.0000e+00,\n",
      "        0.0000e+00, 0.0000e+00, 2.4242e-04, 0.0000e+00, 0.0000e+00, 0.0000e+00,\n",
      "        5.0301e-03, 0.0000e+00, 0.0000e+00, 0.0000e+00, 5.3113e-02, 0.0000e+00,\n",
      "        0.0000e+00, 0.0000e+00, 0.0000e+00, 0.0000e+00, 0.0000e+00, 0.0000e+00,\n",
      "        0.0000e+00, 0.0000e+00, 2.0057e-02, 0.0000e+00, 3.8184e-02, 0.0000e+00,\n",
      "        0.0000e+00, 9.1034e-04, 2.3044e-02, 0.0000e+00, 0.0000e+00, 7.4063e-03,\n",
      "        0.0000e+00, 0.0000e+00, 0.0000e+00, 0.0000e+00, 0.0000e+00, 0.0000e+00,\n",
      "        0.0000e+00, 0.0000e+00, 0.0000e+00, 0.0000e+00, 0.0000e+00, 0.0000e+00,\n",
      "        0.0000e+00, 0.0000e+00, 0.0000e+00, 0.0000e+00, 0.0000e+00, 6.7790e-02,\n",
      "        0.0000e+00, 0.0000e+00, 0.0000e+00, 0.0000e+00, 0.0000e+00, 0.0000e+00,\n",
      "        0.0000e+00, 0.0000e+00, 0.0000e+00, 0.0000e+00, 0.0000e+00, 0.0000e+00,\n",
      "        3.0699e-02, 0.0000e+00, 0.0000e+00, 0.0000e+00, 0.0000e+00, 0.0000e+00,\n",
      "        0.0000e+00, 0.0000e+00, 0.0000e+00, 0.0000e+00, 7.3496e-02, 3.3932e-04,\n",
      "        6.9805e-03, 0.0000e+00, 0.0000e+00, 0.0000e+00, 0.0000e+00, 0.0000e+00,\n",
      "        0.0000e+00, 0.0000e+00, 0.0000e+00, 0.0000e+00, 0.0000e+00, 0.0000e+00,\n",
      "        0.0000e+00, 0.0000e+00, 0.0000e+00, 2.9406e-02, 1.7294e-02, 0.0000e+00,\n",
      "        0.0000e+00, 0.0000e+00, 0.0000e+00, 3.2953e-02, 1.9957e-03, 0.0000e+00,\n",
      "        0.0000e+00, 0.0000e+00, 0.0000e+00, 0.0000e+00, 0.0000e+00, 3.8549e-02,\n",
      "        0.0000e+00, 0.0000e+00, 2.2934e-03, 0.0000e+00, 0.0000e+00, 1.9982e-02,\n",
      "        1.2040e-02, 0.0000e+00, 1.1208e-02, 0.0000e+00, 0.0000e+00, 6.9384e-03,\n",
      "        0.0000e+00, 0.0000e+00, 0.0000e+00, 0.0000e+00, 0.0000e+00, 0.0000e+00,\n",
      "        0.0000e+00, 0.0000e+00, 0.0000e+00, 0.0000e+00, 0.0000e+00, 0.0000e+00,\n",
      "        0.0000e+00, 0.0000e+00, 7.8772e-03, 0.0000e+00, 0.0000e+00, 2.4079e-02,\n",
      "        0.0000e+00, 0.0000e+00, 0.0000e+00, 0.0000e+00, 0.0000e+00, 3.1703e-03,\n",
      "        0.0000e+00, 0.0000e+00, 0.0000e+00, 0.0000e+00, 0.0000e+00, 1.4938e-02,\n",
      "        0.0000e+00, 0.0000e+00, 4.0782e-02, 0.0000e+00, 4.0105e-03, 4.0608e-02,\n",
      "        0.0000e+00, 0.0000e+00, 1.7522e-02, 2.0051e-02, 2.1267e-02, 1.4860e-02,\n",
      "        4.6223e-02, 0.0000e+00, 0.0000e+00, 0.0000e+00, 0.0000e+00, 0.0000e+00,\n",
      "        2.0120e-02, 0.0000e+00, 6.1974e-02, 0.0000e+00, 0.0000e+00, 7.1163e-02,\n",
      "        0.0000e+00, 0.0000e+00, 0.0000e+00, 0.0000e+00, 4.5238e-02, 0.0000e+00,\n",
      "        0.0000e+00, 6.1355e-03, 1.8828e-02, 1.4459e-02, 5.8999e-03, 2.2779e-02,\n",
      "        0.0000e+00, 8.6201e-03, 4.0015e-02, 6.2207e-02, 2.2592e-02, 0.0000e+00,\n",
      "        1.1452e-02, 1.1045e-02, 2.7372e-02, 1.9021e-02, 3.7989e-02, 2.9055e-02,\n",
      "        5.6683e-03, 0.0000e+00, 0.0000e+00, 0.0000e+00, 3.1705e-02, 0.0000e+00,\n",
      "        3.5216e-03, 0.0000e+00, 0.0000e+00, 2.9576e-03, 0.0000e+00, 0.0000e+00,\n",
      "        9.2785e-03, 0.0000e+00, 0.0000e+00, 0.0000e+00, 0.0000e+00, 0.0000e+00,\n",
      "        3.7486e-04, 0.0000e+00, 0.0000e+00, 7.0476e-04, 5.2786e-02, 3.1656e-02,\n",
      "        0.0000e+00, 6.5966e-04, 0.0000e+00, 0.0000e+00, 5.3940e-03, 0.0000e+00,\n",
      "        7.2081e-02, 2.3038e-02, 4.3448e-03, 7.2760e-03, 1.2342e-02, 2.5167e-02,\n",
      "        2.2555e-02, 2.6243e-02, 0.0000e+00, 0.0000e+00, 0.0000e+00, 2.5638e-02,\n",
      "        0.0000e+00, 0.0000e+00, 0.0000e+00, 0.0000e+00, 0.0000e+00, 0.0000e+00,\n",
      "        5.3385e-02, 3.9117e-02, 0.0000e+00, 2.4515e-03, 0.0000e+00, 0.0000e+00,\n",
      "        1.4808e-03, 1.8793e-04, 8.2611e-05, 3.8599e-03, 1.5507e-02, 0.0000e+00,\n",
      "        3.2057e-02, 3.8544e-02, 0.0000e+00, 3.3342e-03, 0.0000e+00, 4.3439e-02,\n",
      "        2.1821e-02, 9.8919e-03, 8.0039e-02, 3.1540e-02, 6.4452e-02, 9.4865e-02,\n",
      "        5.9719e-02, 0.0000e+00, 2.6565e-02, 0.0000e+00, 2.5909e-02, 7.4303e-02,\n",
      "        1.7027e-02, 0.0000e+00, 0.0000e+00, 6.7217e-02, 0.0000e+00, 1.6142e-03,\n",
      "        5.7121e-02, 5.6768e-02, 0.0000e+00, 4.2810e-02, 9.4084e-02, 0.0000e+00,\n",
      "        4.4371e-03, 4.3746e-02, 3.0518e-02, 2.0134e-02, 6.2701e-02, 0.0000e+00,\n",
      "        0.0000e+00, 3.1901e-02, 5.5754e-02, 9.6274e-02, 0.0000e+00, 6.7550e-02,\n",
      "        5.5083e-02, 6.3042e-02, 3.8409e-02, 8.2778e-03, 5.5297e-02, 5.5681e-02,\n",
      "        5.5633e-02, 0.0000e+00, 3.2872e-02, 0.0000e+00, 4.6329e-02, 8.6513e-03,\n",
      "        3.0520e-02, 4.1975e-02, 4.2136e-02, 6.2692e-02, 1.5064e-02, 9.5699e-02,\n",
      "        5.3168e-02, 7.4738e-02, 4.4824e-02, 2.9501e-02, 6.0197e-02, 9.3669e-02,\n",
      "        4.4013e-02, 4.9622e-02, 7.0884e-02, 5.5389e-03, 1.9205e-02, 7.0711e-02,\n",
      "        2.2627e-02, 8.7018e-03, 1.2515e-01, 2.3230e-02, 6.8643e-02, 3.2068e-02,\n",
      "        5.1798e-02, 9.0731e-02, 5.1329e-02, 7.2251e-02, 5.9037e-02, 6.0393e-02,\n",
      "        6.5590e-02, 5.9379e-02, 7.2083e-02, 4.9736e-02, 7.7997e-02, 7.4390e-02,\n",
      "        5.2891e-02, 6.1623e-02, 5.6145e-02, 4.1412e-02, 2.1806e-02, 3.2064e-02,\n",
      "        9.3513e-02, 1.2483e-01, 6.6599e-02, 5.5191e-02, 5.5988e-02, 6.9154e-02,\n",
      "        1.0407e-01, 5.1574e-02, 5.5487e-02, 8.1269e-02, 4.5832e-02, 5.7616e-02,\n",
      "        7.3660e-02, 6.8448e-02, 7.2239e-02, 2.2930e-02, 4.6789e-02, 2.9569e-02,\n",
      "        0.0000e+00, 9.5598e-02, 5.4952e-02, 1.2343e-01, 9.2563e-02, 4.1252e-02,\n",
      "        4.2927e-02, 8.7997e-02, 8.5719e-02, 9.6424e-02, 2.4764e-02, 1.0466e-01,\n",
      "        1.3177e-01, 9.1165e-02, 8.9656e-02, 6.3366e-02, 6.7632e-02, 1.0379e-01,\n",
      "        1.7667e-01, 1.1494e-01, 1.8833e-02, 6.6174e-02, 6.1375e-02, 3.0438e-02,\n",
      "        4.3325e-02, 2.8799e-02, 1.4238e-01, 1.6195e-02, 9.2526e-03, 6.3359e-02,\n",
      "        4.6276e-02, 1.1982e-01, 3.2840e-02, 2.8694e-02, 1.2059e-01, 2.2094e-02,\n",
      "        6.8171e-02, 1.9914e-02, 2.7798e-02, 3.4840e-02, 7.1621e-02, 1.1496e-01,\n",
      "        3.3706e-02, 1.0473e-01, 1.2528e-01, 8.5393e-02, 1.1122e-02, 6.6255e-02,\n",
      "        1.0059e-01, 3.3808e-02, 1.8289e-02, 9.2451e-02, 5.3009e-02, 1.3974e-01,\n",
      "        3.4834e-02, 1.3848e-01, 8.8938e-02, 6.1958e-02, 6.7677e-02, 8.2630e-02,\n",
      "        9.8842e-02, 1.5615e-02, 5.4229e-02, 5.6846e-02, 8.2173e-02, 7.9368e-02,\n",
      "        7.7633e-02, 5.4163e-02, 4.6898e-02, 4.5978e-02, 1.2447e-01, 1.0743e-01,\n",
      "        7.6853e-02, 2.3330e-02, 9.4436e-02, 9.6059e-02, 1.5854e-01, 7.8345e-02,\n",
      "        7.1754e-02, 4.8511e-02, 2.5762e-02, 6.4013e-02, 7.9111e-02, 1.4243e-01,\n",
      "        1.6483e-01, 5.0291e-02, 6.5962e-02, 7.0398e-02, 7.6571e-02, 2.7119e-02,\n",
      "        4.9929e-02, 1.3956e-01, 1.0948e-01, 5.4677e-02, 1.2266e-01, 1.1036e-01,\n",
      "        9.1218e-02, 1.1411e-01, 1.2265e-01, 6.4720e-02, 1.1753e-01, 1.0745e-01,\n",
      "        1.3423e-01, 1.3578e-01, 3.1042e-01, 2.1297e-01, 1.3471e-01, 1.1733e-01,\n",
      "        4.6942e-01, 2.3965e-01, 9.9787e-02, 1.2965e-01, 3.9148e-02, 1.2584e-01,\n",
      "        7.9932e-02, 1.7596e-02, 8.5830e-02, 1.4036e-01, 8.4301e-02, 4.6520e-02,\n",
      "        2.3001e-01, 6.6211e-02, 1.8578e-01, 7.4636e-02, 2.8524e-01, 8.5201e-02,\n",
      "        5.6126e-02, 1.1272e-01, 5.1481e-02, 5.7864e-02, 4.9031e-02, 1.4344e-01,\n",
      "        8.5748e-02, 1.7255e-01, 6.1140e-02, 1.3849e-01, 1.0735e-01, 2.3577e-01,\n",
      "        7.0282e-02, 1.9230e-01, 2.1777e-02, 2.5279e-02, 2.7128e-01, 1.9770e-01,\n",
      "        9.0900e-02, 1.4435e-01, 3.2155e-01, 8.0128e-02, 3.7177e-01, 1.5642e-01,\n",
      "        3.4210e-01, 8.5476e-02, 1.4838e-01, 1.2775e-01, 2.3603e-02, 1.6894e-01,\n",
      "        3.3531e-01, 1.4967e-01, 7.7278e-02, 2.3213e-01, 2.9017e-01, 2.9078e-01,\n",
      "        5.0414e-01, 2.4868e-01, 1.9908e-01, 2.2297e-01, 3.8040e-01, 1.5444e-01,\n",
      "        4.9108e-01, 1.4076e-01, 1.0971e-01, 2.6194e-01, 5.0032e-01, 2.8059e-01,\n",
      "        2.3007e-01, 9.8773e-02, 4.3211e-01, 6.5817e-02, 5.5983e-02, 2.5060e-01,\n",
      "        2.1762e-01, 1.8909e-01, 2.1039e-01, 2.9062e-01, 3.7723e-01, 7.6586e-01,\n",
      "        1.7416e-01, 1.6807e-01, 1.8653e-01, 2.5437e-01, 6.8756e-02, 1.1000e-01]) tensor(0.7659) tensor(33.9259)\n",
      "Chosen edges: tensor([[   6,   11,   11,    1,    1,   10,   10,   12,   13,   14,    3,    7,\n",
      "            8,    1,    1,   11,    0,    5,   10,   11,   13,   13,   11,    8,\n",
      "            3,    1,    8,   12,    8,    1,    5,    4,    5,   14,   12,    6,\n",
      "            0,    7,    5,   12,   13,    3,   13,    3,   12,   13,    7,    1,\n",
      "           13,    8,    0,   12,    8,    0,    6,    0,    9,    1,    6,    7,\n",
      "           13,    3,   14,   14,    6,   12,    4,    0,    0,   13,   14,   13,\n",
      "            5,   11,    7,    7,   12,    7,    4,    6,    8,   14,    3,   14,\n",
      "            4,   14,    4,   11,    4,    4,    5,   11,   13,    9,    4,    0,\n",
      "            0,   10,   11,   12,   13,    1,   12,    3,    9,   12,   13,   14,\n",
      "           12,    1,    1,   14,    0,    0,   10,   10,    7,    4,    6,    0,\n",
      "            3,    6,    3,    4,    5,   12,   12,   14,    7,    3,    4,   14,\n",
      "            7,    1,   13,    3,    7,    7,    6,   10,   12,   14,    5,   12,\n",
      "           14,    1,    1,    1,    4,    4,    4,    5,    7,    8,   10,   10,\n",
      "           12,   10,    5,    8,   14,   14,    3,    4,    6,    7,    8,   10,\n",
      "           14,    5,   13,    6,    8,    6,   14,    4,    3,    4,   10,    6,\n",
      "            9,    3,   10,    4,    7,   11,   10,    6,    6,   10,    1,    1,\n",
      "            3,    7,   11,    1,    1,    3,    3,    4,    4,    4,    4,    4,\n",
      "            4,    5,    5,    5,    6,    6,    8,    8,    8,    8,    8,   10,\n",
      "           10,   10,   10,   10,   10,   10,   10,   10,   10,   10,   10,   12,\n",
      "           12,   14],\n",
      "        [  25,   13,   23,  120,  134,  511,  533,  659,  719,  741,  939, 1068,\n",
      "         1123, 1368, 1384, 1501, 1588, 1610, 1758, 1832, 1836, 1837, 1838, 1852,\n",
      "         1867, 1889, 1899, 1921, 1995, 2041, 2042, 2049, 2050, 2052, 2065, 2067,\n",
      "         2069, 2088, 2098, 2117, 2118, 2123, 2140, 2160, 2219, 2239, 2243, 2253,\n",
      "         2267, 2273, 2275, 2297, 2304, 2314, 2315, 2318, 2387, 2389, 2391, 2394,\n",
      "         2395, 2412, 2418, 2421, 2429, 2432, 2440, 2443, 2454, 2516, 2517, 2521,\n",
      "         2522, 2523, 2524, 2533, 2535, 2541, 2547, 2554, 2556, 2558, 2562, 2565,\n",
      "         2570, 2571, 2574, 2587, 2593, 2599, 2602, 2628, 2629, 2633, 2636, 2638,\n",
      "         2641, 2643, 2647, 2648, 2650, 2651, 2652, 2654, 2655, 2658, 2659, 2660,\n",
      "         2662, 2663, 2664, 2665, 2666, 2667, 2669, 2670, 2671, 2672, 2673, 2674,\n",
      "         2677, 2678, 2679, 2681, 2682, 2683, 2684, 2685, 2688, 2689, 2690, 2691,\n",
      "         2692, 2693, 2694, 2695, 2698, 2699, 2700, 2701, 2702, 2703, 2704, 2705,\n",
      "         2706, 2707, 2708, 2709, 2710, 2711, 2712, 2713, 2714, 2715, 2716, 2717,\n",
      "         2718, 2720, 2721, 2723, 2724, 2725, 2727, 2728, 2729, 2730, 2731, 2732,\n",
      "         2733, 2734, 2735, 2736, 2738, 2739, 2740, 2741, 2742, 2743, 2744, 2745,\n",
      "         2746, 2749, 2750, 2751, 2752, 2753, 2754, 2755, 2756, 2757, 2758, 2759,\n",
      "         2760, 2762, 2763, 2764, 2765, 2766, 2767, 2768, 2769, 2770, 2771, 2772,\n",
      "         2773, 2774, 2775, 2776, 2777, 2778, 2779, 2780, 2781, 2782, 2783, 2784,\n",
      "         2785, 2786, 2787, 2788, 2789, 2790, 2791, 2792, 2793, 2794, 2795, 2796,\n",
      "         2797, 2798]]) 230\n"
     ]
    },
    {
     "name": "stderr",
     "output_type": "stream",
     "text": [
      "100%|██████████| 51/51 [00:04<00:00, 11.13it/s]\n"
     ]
    },
    {
     "name": "stdout",
     "output_type": "stream",
     "text": [
      "Fine-Tune Epoch 1/10 | Train Loss: 2.0306 | Val Loss: 1.9538\n"
     ]
    },
    {
     "name": "stderr",
     "output_type": "stream",
     "text": [
      "100%|██████████| 51/51 [00:04<00:00, 11.51it/s]\n"
     ]
    },
    {
     "name": "stdout",
     "output_type": "stream",
     "text": [
      "Fine-Tune Epoch 2/10 | Train Loss: 2.0045 | Val Loss: 1.9345\n"
     ]
    },
    {
     "name": "stderr",
     "output_type": "stream",
     "text": [
      "100%|██████████| 51/51 [00:04<00:00, 11.81it/s]\n"
     ]
    },
    {
     "name": "stdout",
     "output_type": "stream",
     "text": [
      "Fine-Tune Epoch 3/10 | Train Loss: 1.9875 | Val Loss: 1.9220\n"
     ]
    },
    {
     "name": "stderr",
     "output_type": "stream",
     "text": [
      "100%|██████████| 51/51 [00:04<00:00, 11.43it/s]\n"
     ]
    },
    {
     "name": "stdout",
     "output_type": "stream",
     "text": [
      "Fine-Tune Epoch 4/10 | Train Loss: 1.9761 | Val Loss: 1.9128\n"
     ]
    },
    {
     "name": "stderr",
     "output_type": "stream",
     "text": [
      "100%|██████████| 51/51 [00:04<00:00, 10.69it/s]\n"
     ]
    },
    {
     "name": "stdout",
     "output_type": "stream",
     "text": [
      "Fine-Tune Epoch 5/10 | Train Loss: 1.9710 | Val Loss: 1.9058\n"
     ]
    },
    {
     "name": "stderr",
     "output_type": "stream",
     "text": [
      "100%|██████████| 51/51 [00:04<00:00, 11.72it/s]\n"
     ]
    },
    {
     "name": "stdout",
     "output_type": "stream",
     "text": [
      "Fine-Tune Epoch 6/10 | Train Loss: 1.9717 | Val Loss: 1.9015\n"
     ]
    },
    {
     "name": "stderr",
     "output_type": "stream",
     "text": [
      "100%|██████████| 51/51 [00:04<00:00, 12.02it/s]\n"
     ]
    },
    {
     "name": "stdout",
     "output_type": "stream",
     "text": [
      "Fine-Tune Epoch 7/10 | Train Loss: 1.9580 | Val Loss: 1.8944\n"
     ]
    },
    {
     "name": "stderr",
     "output_type": "stream",
     "text": [
      "100%|██████████| 51/51 [00:04<00:00, 11.30it/s]\n"
     ]
    },
    {
     "name": "stdout",
     "output_type": "stream",
     "text": [
      "Fine-Tune Epoch 8/10 | Train Loss: 1.9583 | Val Loss: 1.8914\n"
     ]
    },
    {
     "name": "stderr",
     "output_type": "stream",
     "text": [
      "100%|██████████| 51/51 [00:04<00:00, 10.91it/s]\n"
     ]
    },
    {
     "name": "stdout",
     "output_type": "stream",
     "text": [
      "Fine-Tune Epoch 9/10 | Train Loss: 1.9542 | Val Loss: 1.8883\n"
     ]
    },
    {
     "name": "stderr",
     "output_type": "stream",
     "text": [
      "100%|██████████| 51/51 [00:04<00:00, 11.61it/s]\n"
     ]
    },
    {
     "name": "stdout",
     "output_type": "stream",
     "text": [
      "Fine-Tune Epoch 10/10 | Train Loss: 1.9509 | Val Loss: 1.8841\n"
     ]
    },
    {
     "name": "stderr",
     "output_type": "stream",
     "text": [
      "100%|██████████| 51/51 [00:04<00:00, 10.47it/s]\n"
     ]
    },
    {
     "name": "stdout",
     "output_type": "stream",
     "text": [
      "Epoch 46/50 | Train Loss: 1.9439 | Val Loss: 24.3710 | Val Accuracy: 0.3624\n",
      "Edge metrics: tensor([2.8943e-02, 1.3647e-02, 1.3350e-06, 3.7882e-03, 2.6636e-02, 2.6319e-02,\n",
      "        2.5321e-02, 2.3529e-02, 2.6265e-02, 3.6887e-03, 1.4646e-02, 5.1729e-03,\n",
      "        9.4851e-03, 2.4183e-02, 2.5382e-03, 6.0397e-03, 8.9108e-03, 8.9857e-03,\n",
      "        3.6178e-03, 8.2316e-03, 3.1917e-04, 1.3098e-02, 7.1786e-03, 1.0615e-02,\n",
      "        3.5263e-02, 1.2040e-02, 2.6289e-02, 2.1652e-02, 1.1007e-02, 9.7123e-03,\n",
      "        8.2648e-06, 1.1689e-02, 7.2864e-03, 4.6324e-03, 3.8430e-03, 8.4896e-03,\n",
      "        7.3944e-07, 1.0687e-02, 9.1244e-03, 6.9705e-03, 1.3274e-02, 2.3071e-02,\n",
      "        1.4195e-02, 2.5271e-02, 9.8617e-04, 1.3067e-02, 9.0508e-04, 1.0829e-03,\n",
      "        1.2244e-02, 3.4436e-06, 4.7604e-03, 1.2914e-02, 7.3080e-03, 2.6384e-02,\n",
      "        6.3475e-06, 1.3382e-02, 3.6844e-03, 3.1429e-03, 2.3492e-02, 4.0952e-03,\n",
      "        2.3951e-03, 2.8308e-02, 1.2265e-04, 4.7801e-03, 1.6073e-02, 1.7893e-02,\n",
      "        2.7205e-02, 3.0912e-02, 2.4788e-04, 6.5264e-04, 1.5505e-02, 1.3823e-03,\n",
      "        6.4804e-03, 6.1231e-04, 2.3570e-03, 1.1674e-02, 2.7175e-05, 3.0613e-02,\n",
      "        3.1747e-02, 5.9654e-04, 6.5822e-03, 1.0047e-02, 4.1667e-03, 1.3480e-02,\n",
      "        1.2206e-04, 5.3248e-03, 1.9375e-02, 5.9734e-05, 1.5866e-03, 3.0046e-03,\n",
      "        1.1152e-03, 2.3765e-03, 5.7573e-04, 7.7205e-03, 4.0821e-02, 7.7504e-04,\n",
      "        0.0000e+00, 0.0000e+00, 3.3475e-02, 0.0000e+00, 0.0000e+00, 0.0000e+00,\n",
      "        0.0000e+00, 0.0000e+00, 0.0000e+00, 0.0000e+00, 0.0000e+00, 0.0000e+00,\n",
      "        0.0000e+00, 0.0000e+00, 0.0000e+00, 0.0000e+00, 8.9400e-04, 3.3834e-03,\n",
      "        0.0000e+00, 0.0000e+00, 9.6165e-03, 0.0000e+00, 0.0000e+00, 0.0000e+00,\n",
      "        0.0000e+00, 0.0000e+00, 0.0000e+00, 0.0000e+00, 0.0000e+00, 0.0000e+00,\n",
      "        0.0000e+00, 5.5914e-03, 0.0000e+00, 0.0000e+00, 1.8817e-02, 0.0000e+00,\n",
      "        0.0000e+00, 0.0000e+00, 0.0000e+00, 0.0000e+00, 0.0000e+00, 0.0000e+00,\n",
      "        6.6140e-03, 0.0000e+00, 0.0000e+00, 0.0000e+00, 0.0000e+00, 0.0000e+00,\n",
      "        0.0000e+00, 0.0000e+00, 0.0000e+00, 1.0472e-02, 0.0000e+00, 0.0000e+00,\n",
      "        2.5736e-02, 3.1073e-02, 0.0000e+00, 9.8366e-04, 0.0000e+00, 0.0000e+00,\n",
      "        0.0000e+00, 0.0000e+00, 4.9747e-02, 0.0000e+00, 0.0000e+00, 0.0000e+00,\n",
      "        0.0000e+00, 0.0000e+00, 0.0000e+00, 0.0000e+00, 0.0000e+00, 0.0000e+00,\n",
      "        0.0000e+00, 0.0000e+00, 0.0000e+00, 7.9062e-03, 0.0000e+00, 0.0000e+00,\n",
      "        0.0000e+00, 0.0000e+00, 0.0000e+00, 0.0000e+00, 0.0000e+00, 0.0000e+00,\n",
      "        0.0000e+00, 0.0000e+00, 0.0000e+00, 0.0000e+00, 0.0000e+00, 0.0000e+00,\n",
      "        0.0000e+00, 6.0946e-05, 3.8619e-02, 0.0000e+00, 0.0000e+00, 0.0000e+00,\n",
      "        0.0000e+00, 0.0000e+00, 0.0000e+00, 0.0000e+00, 0.0000e+00, 0.0000e+00,\n",
      "        0.0000e+00, 0.0000e+00, 0.0000e+00, 4.0909e-02, 0.0000e+00, 0.0000e+00,\n",
      "        0.0000e+00, 4.5950e-04, 0.0000e+00, 0.0000e+00, 0.0000e+00, 0.0000e+00,\n",
      "        1.2655e-02, 0.0000e+00, 0.0000e+00, 0.0000e+00, 1.3643e-02, 0.0000e+00,\n",
      "        0.0000e+00, 0.0000e+00, 0.0000e+00, 0.0000e+00, 0.0000e+00, 0.0000e+00,\n",
      "        0.0000e+00, 0.0000e+00, 0.0000e+00, 0.0000e+00, 0.0000e+00, 0.0000e+00,\n",
      "        0.0000e+00, 0.0000e+00, 2.2434e-05, 0.0000e+00, 0.0000e+00, 0.0000e+00,\n",
      "        0.0000e+00, 0.0000e+00, 1.7049e-02, 0.0000e+00, 0.0000e+00, 0.0000e+00,\n",
      "        0.0000e+00, 0.0000e+00, 0.0000e+00, 0.0000e+00, 0.0000e+00, 0.0000e+00,\n",
      "        0.0000e+00, 0.0000e+00, 0.0000e+00, 0.0000e+00, 0.0000e+00, 1.8404e-02,\n",
      "        4.4327e-02, 0.0000e+00, 2.1829e-02, 0.0000e+00, 2.1880e-02, 0.0000e+00,\n",
      "        0.0000e+00, 0.0000e+00, 0.0000e+00, 0.0000e+00, 0.0000e+00, 0.0000e+00,\n",
      "        0.0000e+00, 0.0000e+00, 0.0000e+00, 9.5057e-05, 0.0000e+00, 8.2929e-04,\n",
      "        0.0000e+00, 0.0000e+00, 0.0000e+00, 0.0000e+00, 0.0000e+00, 0.0000e+00,\n",
      "        0.0000e+00, 0.0000e+00, 0.0000e+00, 0.0000e+00, 0.0000e+00, 0.0000e+00,\n",
      "        0.0000e+00, 2.3277e-02, 0.0000e+00, 0.0000e+00, 1.4416e-02, 2.3869e-03,\n",
      "        3.9832e-02, 1.2133e-02, 0.0000e+00, 0.0000e+00, 2.0158e-02, 0.0000e+00,\n",
      "        7.3958e-03, 0.0000e+00, 0.0000e+00, 0.0000e+00, 6.8057e-03, 2.1206e-02,\n",
      "        3.9672e-02, 0.0000e+00, 1.5309e-02, 4.0148e-04, 0.0000e+00, 0.0000e+00,\n",
      "        7.4547e-03, 0.0000e+00, 0.0000e+00, 0.0000e+00, 0.0000e+00, 0.0000e+00,\n",
      "        0.0000e+00, 0.0000e+00, 0.0000e+00, 0.0000e+00, 0.0000e+00, 0.0000e+00,\n",
      "        0.0000e+00, 0.0000e+00, 2.0463e-02, 1.2861e-04, 0.0000e+00, 0.0000e+00,\n",
      "        0.0000e+00, 0.0000e+00, 1.8916e-04, 1.5421e-03, 0.0000e+00, 0.0000e+00,\n",
      "        0.0000e+00, 0.0000e+00, 0.0000e+00, 0.0000e+00, 1.6740e-03, 0.0000e+00,\n",
      "        0.0000e+00, 0.0000e+00, 0.0000e+00, 0.0000e+00, 0.0000e+00, 0.0000e+00,\n",
      "        0.0000e+00, 0.0000e+00, 0.0000e+00, 0.0000e+00, 7.4387e-03, 0.0000e+00,\n",
      "        0.0000e+00, 0.0000e+00, 0.0000e+00, 0.0000e+00, 0.0000e+00, 0.0000e+00,\n",
      "        7.0671e-05, 0.0000e+00, 0.0000e+00, 0.0000e+00, 0.0000e+00, 0.0000e+00,\n",
      "        0.0000e+00, 0.0000e+00, 0.0000e+00, 0.0000e+00, 0.0000e+00, 0.0000e+00,\n",
      "        0.0000e+00, 0.0000e+00, 0.0000e+00, 9.3317e-03, 0.0000e+00, 1.3554e-04,\n",
      "        0.0000e+00, 0.0000e+00, 0.0000e+00, 0.0000e+00, 5.6071e-03, 0.0000e+00,\n",
      "        0.0000e+00, 0.0000e+00, 0.0000e+00, 0.0000e+00, 0.0000e+00, 0.0000e+00,\n",
      "        0.0000e+00, 0.0000e+00, 0.0000e+00, 0.0000e+00, 0.0000e+00, 0.0000e+00,\n",
      "        0.0000e+00, 0.0000e+00, 0.0000e+00, 0.0000e+00, 1.5971e-04, 0.0000e+00,\n",
      "        0.0000e+00, 0.0000e+00, 2.6424e-03, 0.0000e+00, 0.0000e+00, 0.0000e+00,\n",
      "        0.0000e+00, 0.0000e+00, 0.0000e+00, 0.0000e+00, 0.0000e+00, 0.0000e+00,\n",
      "        0.0000e+00, 0.0000e+00, 0.0000e+00, 1.3728e-02, 0.0000e+00, 2.5076e-02,\n",
      "        0.0000e+00, 0.0000e+00, 4.4881e-04, 2.7483e-02, 0.0000e+00, 0.0000e+00,\n",
      "        4.0894e-03, 0.0000e+00, 0.0000e+00, 0.0000e+00, 0.0000e+00, 0.0000e+00,\n",
      "        0.0000e+00, 0.0000e+00, 0.0000e+00, 0.0000e+00, 0.0000e+00, 0.0000e+00,\n",
      "        0.0000e+00, 0.0000e+00, 0.0000e+00, 0.0000e+00, 0.0000e+00, 0.0000e+00,\n",
      "        0.0000e+00, 0.0000e+00, 0.0000e+00, 0.0000e+00, 0.0000e+00, 0.0000e+00,\n",
      "        0.0000e+00, 0.0000e+00, 0.0000e+00, 0.0000e+00, 0.0000e+00, 0.0000e+00,\n",
      "        3.2063e-02, 0.0000e+00, 0.0000e+00, 0.0000e+00, 0.0000e+00, 0.0000e+00,\n",
      "        0.0000e+00, 0.0000e+00, 0.0000e+00, 0.0000e+00, 2.2814e-04, 7.8783e-03,\n",
      "        0.0000e+00, 0.0000e+00, 0.0000e+00, 0.0000e+00, 0.0000e+00, 0.0000e+00,\n",
      "        0.0000e+00, 0.0000e+00, 0.0000e+00, 0.0000e+00, 0.0000e+00, 0.0000e+00,\n",
      "        0.0000e+00, 0.0000e+00, 3.0283e-02, 2.0080e-02, 0.0000e+00, 0.0000e+00,\n",
      "        0.0000e+00, 0.0000e+00, 3.2556e-02, 6.9446e-04, 0.0000e+00, 0.0000e+00,\n",
      "        0.0000e+00, 0.0000e+00, 0.0000e+00, 0.0000e+00, 2.7078e-02, 0.0000e+00,\n",
      "        0.0000e+00, 8.2345e-04, 0.0000e+00, 0.0000e+00, 1.5191e-02, 1.1529e-02,\n",
      "        0.0000e+00, 3.2015e-03, 0.0000e+00, 0.0000e+00, 8.1318e-03, 0.0000e+00,\n",
      "        0.0000e+00, 0.0000e+00, 0.0000e+00, 0.0000e+00, 0.0000e+00, 0.0000e+00,\n",
      "        0.0000e+00, 0.0000e+00, 0.0000e+00, 0.0000e+00, 0.0000e+00, 0.0000e+00,\n",
      "        0.0000e+00, 7.5205e-03, 0.0000e+00, 0.0000e+00, 1.8152e-02, 0.0000e+00,\n",
      "        0.0000e+00, 0.0000e+00, 0.0000e+00, 0.0000e+00, 1.8903e-03, 0.0000e+00,\n",
      "        0.0000e+00, 0.0000e+00, 0.0000e+00, 0.0000e+00, 1.2526e-02, 0.0000e+00,\n",
      "        0.0000e+00, 3.4707e-02, 0.0000e+00, 6.0017e-04, 4.9560e-02, 0.0000e+00,\n",
      "        0.0000e+00, 1.4833e-02, 1.6174e-02, 3.0905e-02, 9.1382e-03, 5.6436e-02,\n",
      "        0.0000e+00, 0.0000e+00, 0.0000e+00, 0.0000e+00, 0.0000e+00, 2.4218e-02,\n",
      "        0.0000e+00, 0.0000e+00, 0.0000e+00, 0.0000e+00, 0.0000e+00, 0.0000e+00,\n",
      "        0.0000e+00, 3.8795e-02, 0.0000e+00, 0.0000e+00, 1.8265e-03, 1.3878e-02,\n",
      "        1.6587e-02, 1.9612e-03, 3.4007e-02, 0.0000e+00, 7.8656e-03, 4.2761e-02,\n",
      "        2.8987e-02, 0.0000e+00, 6.2989e-03, 5.2590e-03, 3.1660e-02, 2.0792e-02,\n",
      "        5.1008e-02, 3.1775e-02, 4.6119e-03, 0.0000e+00, 0.0000e+00, 0.0000e+00,\n",
      "        2.2978e-02, 0.0000e+00, 4.6053e-04, 0.0000e+00, 0.0000e+00, 4.4270e-03,\n",
      "        0.0000e+00, 0.0000e+00, 7.6246e-03, 0.0000e+00, 0.0000e+00, 0.0000e+00,\n",
      "        0.0000e+00, 0.0000e+00, 5.4668e-04, 0.0000e+00, 0.0000e+00, 4.7530e-04,\n",
      "        4.3740e-02, 0.0000e+00, 1.7704e-04, 0.0000e+00, 0.0000e+00, 0.0000e+00,\n",
      "        0.0000e+00, 1.3223e-02, 4.1138e-03, 8.2378e-03, 5.8194e-03, 2.1236e-02,\n",
      "        3.7509e-02, 5.3975e-02, 0.0000e+00, 0.0000e+00, 0.0000e+00, 1.6135e-02,\n",
      "        0.0000e+00, 0.0000e+00, 0.0000e+00, 0.0000e+00, 0.0000e+00, 0.0000e+00,\n",
      "        6.1901e-02, 0.0000e+00, 1.6891e-03, 0.0000e+00, 0.0000e+00, 3.5450e-04,\n",
      "        1.4810e-04, 5.2238e-05, 4.4039e-04, 1.2734e-02, 0.0000e+00, 2.8684e-02,\n",
      "        3.2289e-02, 0.0000e+00, 1.3447e-03, 0.0000e+00, 8.8272e-02, 2.6480e-02,\n",
      "        3.6231e-03, 3.1593e-02, 0.0000e+00, 1.7129e-02, 0.0000e+00, 2.1799e-02,\n",
      "        8.1598e-03, 0.0000e+00, 0.0000e+00, 0.0000e+00, 1.0002e-03, 0.0000e+00,\n",
      "        4.1399e-02, 0.0000e+00, 1.7456e-03, 2.1534e-02, 3.9861e-02, 1.2014e-02,\n",
      "        0.0000e+00, 0.0000e+00, 2.2140e-02, 0.0000e+00, 3.1810e-02, 1.1630e-02,\n",
      "        0.0000e+00, 2.2483e-02, 0.0000e+00, 5.8156e-02, 8.7515e-03, 4.8177e-02,\n",
      "        2.6116e-02, 3.7050e-02, 1.2791e-02, 5.8869e-02, 3.1538e-02, 5.3669e-02,\n",
      "        3.1396e-02, 4.4721e-03, 1.5922e-02, 1.5834e-02, 7.1909e-03, 1.4604e-02,\n",
      "        2.5103e-02, 6.4324e-02, 4.2501e-02, 2.2863e-02, 3.3833e-02, 3.1841e-02,\n",
      "        3.3250e-02, 6.9852e-02, 4.5550e-02, 0.0000e+00, 5.4016e-02, 5.2372e-02,\n",
      "        1.6174e-02, 2.0472e-02, 4.1731e-02, 5.2118e-02, 4.5864e-02, 1.7258e-02,\n",
      "        9.6561e-03, 1.1972e-01, 2.3279e-02, 5.9565e-02, 1.8189e-02, 9.0026e-03,\n",
      "        1.3982e-02, 2.0695e-02, 1.9640e-02, 1.2501e-02, 2.2003e-02, 2.8229e-02,\n",
      "        3.4745e-02, 2.5895e-02, 6.8652e-02, 7.6696e-02, 4.9046e-02, 5.7445e-02,\n",
      "        2.0036e-02, 2.8941e-02, 1.0437e-01, 7.6657e-02, 4.0550e-02, 6.7700e-02,\n",
      "        6.6458e-02, 3.5944e-02, 3.9817e-02, 6.4450e-02, 3.8753e-02, 3.6791e-02,\n",
      "        4.0992e-02, 4.2301e-02, 4.6024e-03, 4.2250e-02, 2.7085e-02, 6.1238e-02,\n",
      "        2.8835e-02, 2.8157e-03, 2.0502e-02, 4.1132e-02, 2.1404e-02, 1.0872e-02,\n",
      "        4.6796e-02, 6.3914e-02, 9.8877e-03, 3.1856e-02, 1.0653e-01, 3.1393e-02,\n",
      "        5.5931e-02, 9.6914e-02, 8.9435e-02, 1.0755e-01, 8.0282e-02, 3.7539e-02,\n",
      "        5.7549e-02, 3.4433e-02, 5.8588e-02, 1.3107e-02, 1.1327e-01, 3.1422e-02,\n",
      "        2.6440e-02, 3.7723e-02, 9.0899e-03, 3.2235e-02, 3.1784e-02, 1.8512e-02,\n",
      "        2.0369e-02, 4.4089e-02, 3.9409e-02, 5.2314e-02, 5.3094e-02, 4.6193e-02,\n",
      "        3.4034e-02, 1.8886e-01, 5.5500e-02, 7.6274e-03, 5.8276e-02, 5.7505e-02,\n",
      "        4.4880e-02, 3.5463e-02, 3.2632e-02, 4.9105e-02, 2.3332e-02, 2.2951e-02,\n",
      "        2.5658e-02, 5.7606e-02, 1.2546e-02, 5.5320e-02, 1.5291e-02, 7.5479e-02,\n",
      "        1.4488e-01, 2.8391e-02, 9.5112e-02, 4.9381e-02, 3.0758e-02, 3.7504e-02,\n",
      "        1.9738e-02, 0.0000e+00, 6.4234e-02, 3.5632e-02, 4.1521e-02, 5.6246e-02,\n",
      "        2.0657e-02, 6.3685e-02, 5.2447e-02, 6.4281e-02, 7.9319e-02, 5.3008e-02,\n",
      "        3.7838e-02, 8.7563e-02, 8.0652e-02, 7.1452e-02, 2.4110e-02, 8.3086e-02,\n",
      "        1.4845e-01, 2.9137e-02, 2.4044e-02, 2.4493e-01, 2.1318e-01, 2.9286e-02,\n",
      "        4.5580e-02, 6.8753e-02, 1.1853e-02, 5.2828e-02, 6.9941e-02, 4.0128e-03,\n",
      "        1.5305e-02, 5.4112e-02, 4.0717e-02, 1.3073e-01, 9.3448e-02, 5.2186e-02,\n",
      "        1.2126e-01, 1.8539e-02, 1.0354e-01, 1.2149e-01, 1.6317e-01, 1.3011e-01,\n",
      "        9.5424e-02, 1.6352e-02, 5.6704e-02, 1.3196e-02, 3.4571e-02, 6.2040e-02,\n",
      "        3.9924e-02, 2.2731e-01, 8.1292e-02, 1.7106e-02, 3.9312e-02, 3.3033e-02,\n",
      "        4.9571e-02, 3.1391e-02, 1.5396e-01, 5.5445e-02, 8.2257e-02, 6.0396e-02,\n",
      "        3.0294e-02, 7.4317e-02, 2.3412e-02, 2.3846e-01, 3.5655e-02, 4.8331e-02,\n",
      "        7.2143e-02, 1.0649e-01, 3.4082e-02, 5.4870e-02, 7.5030e-02, 8.8614e-02,\n",
      "        1.3963e-01, 5.4585e-02, 1.6868e-01, 1.8064e-01, 2.0560e-02, 1.1988e-01,\n",
      "        1.2385e-01, 8.0672e-02, 2.4419e-02, 3.0342e-01, 1.8023e-01, 1.4431e-01,\n",
      "        2.2524e-02, 7.7478e-01, 1.8780e-01, 2.9415e-02, 6.4947e-02, 3.1229e-02,\n",
      "        5.0474e-02, 9.0289e-02, 9.8321e-02, 5.6971e-02, 9.2870e-02, 8.7142e-02,\n",
      "        2.6235e-01, 1.8625e-01, 2.3521e-01, 9.9154e-02, 6.2904e-02, 6.0105e-02,\n",
      "        3.7367e-02, 4.2500e-02, 1.8229e-01, 7.0023e-02, 1.7978e-01, 4.7205e-02,\n",
      "        9.2106e-02, 1.1168e-01, 2.1107e-01, 1.0965e-02, 1.7240e-01, 4.4700e-01,\n",
      "        2.0937e-01, 1.4882e-01, 9.7744e-02, 3.4263e-01, 1.0761e-01, 2.4801e-01,\n",
      "        9.1091e-02, 3.9614e-01, 1.3950e-01, 2.9495e-01, 4.8950e-02, 8.6761e-02,\n",
      "        3.6720e-01, 1.5007e-01, 1.1236e-01, 2.1655e-01, 6.7194e-02, 1.4520e-01,\n",
      "        3.3455e-01, 1.6888e-01, 1.7708e-01, 2.4879e-01, 3.2397e-01, 5.6485e-02,\n",
      "        4.6760e-01, 2.4275e-01, 2.9522e-02, 2.0471e-01, 2.4230e-01, 1.9370e-01,\n",
      "        4.5419e-01, 1.6260e-01, 9.6475e-02, 5.5014e-02, 3.6017e-01, 1.4696e-01,\n",
      "        6.4660e-02, 3.1177e-01, 3.5687e-01, 3.7934e-01, 2.6908e-01, 2.0218e-01,\n",
      "        1.1939e-01, 1.3648e-01, 1.8232e-01, 2.7351e-01, 1.7040e-01, 1.9495e-01]) tensor(0.7748) tensor(29.3138)\n",
      "Chosen edges: tensor([[  13,   13,   12,   12,    5,   11,    0,    0,    3,    5,    6,   10,\n",
      "            4,    4,   14,    4,   11,   12,    3,   10,    0,    7,    5,   12,\n",
      "           11,   10,   13,   13,   11,    8,    3,    8,    8,    5,    3,   13,\n",
      "           13,    7,   13,    8,    1,    7,    3,   14,    6,   14,   11,    7,\n",
      "           12,    7,    4,    6,   14,    3,   14,   14,    4,    4,    5,    9,\n",
      "            0,    0,   12,    1,   12,    3,    9,   13,   14,   12,    1,    1,\n",
      "            0,   10,    4,    6,    5,   12,   12,   14,    3,   14,   13,    3,\n",
      "            7,    6,   10,   12,   14,    5,   12,    1,    1,    1,    4,    4,\n",
      "            5,    8,   10,   12,    5,    8,   14,   14,    3,    4,    6,    7,\n",
      "            8,   10,   14,    5,    8,    6,   14,    3,    4,   10,    9,    3,\n",
      "           10,    4,    7,   11,   10,    6,    6,   10,    1,    1,    7,   11,\n",
      "            1,    1,    3,    3,    4,    4,    4,    4,    4,    4,    5,    5,\n",
      "            5,    6,    8,    8,    8,    8,    8,   10,   10,   10,   10,   10,\n",
      "           10,   10,   10,   10,   10,   10,   10,   12,   12,   14],\n",
      "        [1337, 1525, 1630, 1781, 1821, 2079, 2120, 2147, 2329, 2526, 2550, 2552,\n",
      "         2631, 2637, 2640, 2675, 2676, 2686, 2697, 2719, 2726, 2737, 2761, 2806,\n",
      "         2814, 2817, 2819, 2820, 2821, 2822, 2823, 2825, 2827, 2829, 2840, 2841,\n",
      "         2844, 2845, 2847, 2848, 2856, 2858, 2860, 2861, 2863, 2869, 2872, 2874,\n",
      "         2875, 2876, 2877, 2878, 2880, 2881, 2882, 2884, 2885, 2888, 2889, 2892,\n",
      "         2894, 2895, 2898, 2900, 2901, 2902, 2903, 2905, 2906, 2907, 2908, 2909,\n",
      "         2911, 2914, 2916, 2917, 2923, 2924, 2925, 2926, 2928, 2930, 2933, 2934,\n",
      "         2936, 2937, 2938, 2939, 2940, 2941, 2942, 2944, 2945, 2946, 2948, 2949,\n",
      "         2950, 2952, 2953, 2955, 2957, 2958, 2959, 2960, 2961, 2962, 2963, 2964,\n",
      "         2965, 2966, 2967, 2968, 2971, 2972, 2973, 2975, 2976, 2977, 2979, 2980,\n",
      "         2981, 2982, 2983, 2984, 2985, 2986, 2987, 2988, 2989, 2990, 2992, 2993,\n",
      "         2994, 2995, 2996, 2997, 2998, 2999, 3000, 3001, 3002, 3003, 3004, 3005,\n",
      "         3006, 3008, 3009, 3010, 3011, 3012, 3013, 3014, 3015, 3016, 3017, 3018,\n",
      "         3019, 3020, 3021, 3022, 3023, 3024, 3025, 3026, 3027, 3028]]) 166\n"
     ]
    },
    {
     "name": "stderr",
     "output_type": "stream",
     "text": [
      "100%|██████████| 51/51 [00:04<00:00, 10.61it/s]\n"
     ]
    },
    {
     "name": "stdout",
     "output_type": "stream",
     "text": [
      "Fine-Tune Epoch 1/10 | Train Loss: 2.0212 | Val Loss: 1.9499\n"
     ]
    },
    {
     "name": "stderr",
     "output_type": "stream",
     "text": [
      "100%|██████████| 51/51 [00:05<00:00, 10.10it/s]\n"
     ]
    },
    {
     "name": "stdout",
     "output_type": "stream",
     "text": [
      "Fine-Tune Epoch 2/10 | Train Loss: 2.0050 | Val Loss: 1.9325\n"
     ]
    },
    {
     "name": "stderr",
     "output_type": "stream",
     "text": [
      "100%|██████████| 51/51 [00:04<00:00, 10.93it/s]\n"
     ]
    },
    {
     "name": "stdout",
     "output_type": "stream",
     "text": [
      "Fine-Tune Epoch 3/10 | Train Loss: 1.9887 | Val Loss: 1.9192\n"
     ]
    },
    {
     "name": "stderr",
     "output_type": "stream",
     "text": [
      "100%|██████████| 51/51 [00:05<00:00,  9.13it/s]\n"
     ]
    },
    {
     "name": "stdout",
     "output_type": "stream",
     "text": [
      "Fine-Tune Epoch 4/10 | Train Loss: 1.9763 | Val Loss: 1.9090\n"
     ]
    },
    {
     "name": "stderr",
     "output_type": "stream",
     "text": [
      "100%|██████████| 51/51 [00:04<00:00, 10.83it/s]\n"
     ]
    },
    {
     "name": "stdout",
     "output_type": "stream",
     "text": [
      "Fine-Tune Epoch 5/10 | Train Loss: 1.9652 | Val Loss: 1.9007\n"
     ]
    },
    {
     "name": "stderr",
     "output_type": "stream",
     "text": [
      "100%|██████████| 51/51 [00:04<00:00, 10.65it/s]\n"
     ]
    },
    {
     "name": "stdout",
     "output_type": "stream",
     "text": [
      "Fine-Tune Epoch 6/10 | Train Loss: 1.9576 | Val Loss: 1.8924\n"
     ]
    },
    {
     "name": "stderr",
     "output_type": "stream",
     "text": [
      "100%|██████████| 51/51 [00:05<00:00,  9.60it/s]\n"
     ]
    },
    {
     "name": "stdout",
     "output_type": "stream",
     "text": [
      "Fine-Tune Epoch 7/10 | Train Loss: 1.9538 | Val Loss: 1.8881\n"
     ]
    },
    {
     "name": "stderr",
     "output_type": "stream",
     "text": [
      "100%|██████████| 51/51 [00:04<00:00, 10.58it/s]\n"
     ]
    },
    {
     "name": "stdout",
     "output_type": "stream",
     "text": [
      "Fine-Tune Epoch 8/10 | Train Loss: 1.9479 | Val Loss: 1.8843\n"
     ]
    },
    {
     "name": "stderr",
     "output_type": "stream",
     "text": [
      "100%|██████████| 51/51 [00:04<00:00, 10.91it/s]\n"
     ]
    },
    {
     "name": "stdout",
     "output_type": "stream",
     "text": [
      "Fine-Tune Epoch 9/10 | Train Loss: 1.9482 | Val Loss: 1.8800\n"
     ]
    },
    {
     "name": "stderr",
     "output_type": "stream",
     "text": [
      "100%|██████████| 51/51 [00:04<00:00, 11.03it/s]\n"
     ]
    },
    {
     "name": "stdout",
     "output_type": "stream",
     "text": [
      "Fine-Tune Epoch 10/10 | Train Loss: 1.9423 | Val Loss: 1.8768\n"
     ]
    },
    {
     "name": "stderr",
     "output_type": "stream",
     "text": [
      "100%|██████████| 51/51 [00:06<00:00,  8.38it/s]\n"
     ]
    },
    {
     "name": "stdout",
     "output_type": "stream",
     "text": [
      "Epoch 47/50 | Train Loss: 1.9328 | Val Loss: 24.3260 | Val Accuracy: 0.3643\n",
      "Edge metrics: tensor([1.4445e-02, 6.0758e-03, 2.6790e-06, 3.0762e-03, 1.2973e-02, 1.5053e-02,\n",
      "        1.3977e-02, 1.4097e-02, 1.2923e-02, 2.2280e-03, 7.7210e-03, 3.8142e-03,\n",
      "        3.3166e-03, 1.4349e-02, 1.9436e-03, 4.6239e-03, 7.1996e-03, 6.8600e-03,\n",
      "        3.0526e-03, 6.1167e-03, 5.0233e-04, 5.4532e-03, 5.8209e-03, 3.7209e-03,\n",
      "        2.0961e-02, 8.8479e-03, 1.4530e-02, 1.5452e-02, 4.3888e-03, 7.8898e-03,\n",
      "        3.7616e-05, 9.3664e-03, 5.3238e-03, 3.8285e-03, 2.8857e-03, 6.7475e-03,\n",
      "        4.5524e-07, 7.9914e-03, 6.6159e-03, 5.3269e-03, 6.4475e-03, 1.1869e-02,\n",
      "        1.1029e-02, 1.2823e-02, 9.3854e-04, 9.3754e-03, 9.3965e-04, 9.1395e-04,\n",
      "        1.0688e-02, 1.3799e-05, 3.5920e-03, 9.8829e-03, 5.4522e-03, 1.4961e-02,\n",
      "        3.1228e-05, 6.0462e-03, 2.7838e-03, 2.5459e-03, 2.4611e-02, 7.5290e-03,\n",
      "        3.3957e-03, 2.1314e-02, 1.3614e-04, 6.3862e-03, 8.7964e-03, 7.9032e-03,\n",
      "        2.2120e-02, 2.6328e-02, 9.7652e-04, 1.8716e-03, 1.6781e-02, 5.6732e-03,\n",
      "        8.2458e-03, 2.2418e-03, 5.4069e-03, 1.0121e-02, 4.0207e-05, 2.5786e-02,\n",
      "        2.7560e-02, 6.2032e-04, 6.1464e-03, 6.0525e-03, 1.7935e-03, 1.0657e-02,\n",
      "        1.6748e-04, 4.6424e-03, 1.7342e-02, 1.8629e-04, 1.8890e-03, 5.3515e-03,\n",
      "        1.5607e-03, 6.9108e-03, 8.2384e-04, 9.1891e-03, 2.8300e-02, 3.9481e-03,\n",
      "        0.0000e+00, 0.0000e+00, 5.0081e-02, 0.0000e+00, 0.0000e+00, 0.0000e+00,\n",
      "        0.0000e+00, 0.0000e+00, 0.0000e+00, 0.0000e+00, 0.0000e+00, 0.0000e+00,\n",
      "        0.0000e+00, 0.0000e+00, 0.0000e+00, 0.0000e+00, 0.0000e+00, 1.3912e-03,\n",
      "        0.0000e+00, 0.0000e+00, 1.5367e-02, 0.0000e+00, 0.0000e+00, 0.0000e+00,\n",
      "        0.0000e+00, 0.0000e+00, 0.0000e+00, 0.0000e+00, 0.0000e+00, 0.0000e+00,\n",
      "        0.0000e+00, 5.2874e-03, 0.0000e+00, 0.0000e+00, 1.4883e-02, 0.0000e+00,\n",
      "        0.0000e+00, 0.0000e+00, 0.0000e+00, 0.0000e+00, 0.0000e+00, 0.0000e+00,\n",
      "        2.2059e-03, 0.0000e+00, 0.0000e+00, 0.0000e+00, 0.0000e+00, 0.0000e+00,\n",
      "        0.0000e+00, 0.0000e+00, 0.0000e+00, 7.0704e-03, 0.0000e+00, 0.0000e+00,\n",
      "        1.8096e-02, 2.5866e-02, 0.0000e+00, 1.9541e-03, 0.0000e+00, 0.0000e+00,\n",
      "        0.0000e+00, 0.0000e+00, 3.8604e-02, 0.0000e+00, 0.0000e+00, 0.0000e+00,\n",
      "        0.0000e+00, 0.0000e+00, 0.0000e+00, 0.0000e+00, 0.0000e+00, 0.0000e+00,\n",
      "        0.0000e+00, 0.0000e+00, 0.0000e+00, 1.1624e-03, 0.0000e+00, 0.0000e+00,\n",
      "        0.0000e+00, 0.0000e+00, 0.0000e+00, 0.0000e+00, 0.0000e+00, 0.0000e+00,\n",
      "        0.0000e+00, 0.0000e+00, 0.0000e+00, 0.0000e+00, 0.0000e+00, 0.0000e+00,\n",
      "        0.0000e+00, 8.1473e-05, 2.9062e-02, 0.0000e+00, 0.0000e+00, 0.0000e+00,\n",
      "        0.0000e+00, 0.0000e+00, 0.0000e+00, 0.0000e+00, 0.0000e+00, 0.0000e+00,\n",
      "        0.0000e+00, 0.0000e+00, 0.0000e+00, 5.0323e-02, 0.0000e+00, 0.0000e+00,\n",
      "        0.0000e+00, 4.2950e-04, 0.0000e+00, 0.0000e+00, 0.0000e+00, 0.0000e+00,\n",
      "        7.7464e-03, 0.0000e+00, 0.0000e+00, 0.0000e+00, 7.5788e-03, 0.0000e+00,\n",
      "        0.0000e+00, 0.0000e+00, 0.0000e+00, 0.0000e+00, 0.0000e+00, 0.0000e+00,\n",
      "        0.0000e+00, 0.0000e+00, 0.0000e+00, 0.0000e+00, 0.0000e+00, 0.0000e+00,\n",
      "        0.0000e+00, 0.0000e+00, 1.5635e-05, 0.0000e+00, 0.0000e+00, 0.0000e+00,\n",
      "        0.0000e+00, 0.0000e+00, 1.5345e-02, 0.0000e+00, 0.0000e+00, 0.0000e+00,\n",
      "        0.0000e+00, 0.0000e+00, 0.0000e+00, 0.0000e+00, 0.0000e+00, 0.0000e+00,\n",
      "        0.0000e+00, 0.0000e+00, 0.0000e+00, 0.0000e+00, 0.0000e+00, 1.2816e-02,\n",
      "        5.1048e-02, 0.0000e+00, 2.3529e-02, 0.0000e+00, 2.1655e-02, 0.0000e+00,\n",
      "        0.0000e+00, 0.0000e+00, 0.0000e+00, 0.0000e+00, 0.0000e+00, 0.0000e+00,\n",
      "        0.0000e+00, 0.0000e+00, 0.0000e+00, 1.0835e-04, 0.0000e+00, 0.0000e+00,\n",
      "        0.0000e+00, 0.0000e+00, 0.0000e+00, 0.0000e+00, 0.0000e+00, 0.0000e+00,\n",
      "        0.0000e+00, 0.0000e+00, 0.0000e+00, 0.0000e+00, 0.0000e+00, 0.0000e+00,\n",
      "        0.0000e+00, 1.5101e-02, 0.0000e+00, 0.0000e+00, 8.7768e-03, 3.1057e-03,\n",
      "        3.5995e-02, 8.2726e-03, 0.0000e+00, 0.0000e+00, 1.4460e-02, 0.0000e+00,\n",
      "        5.7912e-03, 0.0000e+00, 0.0000e+00, 0.0000e+00, 5.8674e-03, 1.7406e-02,\n",
      "        3.3490e-02, 0.0000e+00, 1.1886e-02, 3.9067e-04, 0.0000e+00, 0.0000e+00,\n",
      "        7.0196e-03, 0.0000e+00, 0.0000e+00, 0.0000e+00, 0.0000e+00, 0.0000e+00,\n",
      "        0.0000e+00, 0.0000e+00, 0.0000e+00, 0.0000e+00, 0.0000e+00, 0.0000e+00,\n",
      "        0.0000e+00, 0.0000e+00, 1.6080e-02, 8.9283e-05, 0.0000e+00, 0.0000e+00,\n",
      "        0.0000e+00, 0.0000e+00, 7.1727e-05, 1.7901e-03, 0.0000e+00, 0.0000e+00,\n",
      "        0.0000e+00, 0.0000e+00, 0.0000e+00, 0.0000e+00, 2.6448e-03, 0.0000e+00,\n",
      "        0.0000e+00, 0.0000e+00, 0.0000e+00, 0.0000e+00, 0.0000e+00, 0.0000e+00,\n",
      "        0.0000e+00, 0.0000e+00, 0.0000e+00, 0.0000e+00, 1.4871e-03, 0.0000e+00,\n",
      "        0.0000e+00, 0.0000e+00, 0.0000e+00, 0.0000e+00, 0.0000e+00, 0.0000e+00,\n",
      "        6.1279e-05, 0.0000e+00, 0.0000e+00, 0.0000e+00, 0.0000e+00, 0.0000e+00,\n",
      "        0.0000e+00, 0.0000e+00, 0.0000e+00, 0.0000e+00, 0.0000e+00, 0.0000e+00,\n",
      "        0.0000e+00, 0.0000e+00, 0.0000e+00, 0.0000e+00, 0.0000e+00, 8.7982e-05,\n",
      "        0.0000e+00, 0.0000e+00, 0.0000e+00, 0.0000e+00, 2.1316e-03, 0.0000e+00,\n",
      "        0.0000e+00, 0.0000e+00, 0.0000e+00, 0.0000e+00, 0.0000e+00, 0.0000e+00,\n",
      "        0.0000e+00, 0.0000e+00, 0.0000e+00, 0.0000e+00, 0.0000e+00, 0.0000e+00,\n",
      "        0.0000e+00, 0.0000e+00, 0.0000e+00, 0.0000e+00, 1.2359e-04, 0.0000e+00,\n",
      "        0.0000e+00, 0.0000e+00, 2.8944e-03, 0.0000e+00, 0.0000e+00, 0.0000e+00,\n",
      "        0.0000e+00, 0.0000e+00, 0.0000e+00, 0.0000e+00, 0.0000e+00, 0.0000e+00,\n",
      "        0.0000e+00, 0.0000e+00, 0.0000e+00, 1.1437e-02, 0.0000e+00, 4.5515e-02,\n",
      "        0.0000e+00, 0.0000e+00, 4.7097e-04, 2.4346e-02, 0.0000e+00, 0.0000e+00,\n",
      "        0.0000e+00, 0.0000e+00, 0.0000e+00, 0.0000e+00, 0.0000e+00, 0.0000e+00,\n",
      "        0.0000e+00, 0.0000e+00, 0.0000e+00, 0.0000e+00, 0.0000e+00, 0.0000e+00,\n",
      "        0.0000e+00, 0.0000e+00, 0.0000e+00, 0.0000e+00, 0.0000e+00, 0.0000e+00,\n",
      "        0.0000e+00, 0.0000e+00, 0.0000e+00, 0.0000e+00, 0.0000e+00, 0.0000e+00,\n",
      "        0.0000e+00, 0.0000e+00, 0.0000e+00, 0.0000e+00, 0.0000e+00, 0.0000e+00,\n",
      "        2.7791e-02, 0.0000e+00, 0.0000e+00, 0.0000e+00, 0.0000e+00, 0.0000e+00,\n",
      "        0.0000e+00, 0.0000e+00, 0.0000e+00, 0.0000e+00, 2.0174e-04, 7.1611e-03,\n",
      "        0.0000e+00, 0.0000e+00, 0.0000e+00, 0.0000e+00, 0.0000e+00, 0.0000e+00,\n",
      "        0.0000e+00, 0.0000e+00, 0.0000e+00, 0.0000e+00, 0.0000e+00, 0.0000e+00,\n",
      "        0.0000e+00, 0.0000e+00, 2.3707e-02, 2.3761e-02, 0.0000e+00, 0.0000e+00,\n",
      "        0.0000e+00, 0.0000e+00, 3.2402e-02, 2.7955e-04, 0.0000e+00, 0.0000e+00,\n",
      "        0.0000e+00, 0.0000e+00, 0.0000e+00, 0.0000e+00, 1.9223e-02, 0.0000e+00,\n",
      "        0.0000e+00, 0.0000e+00, 0.0000e+00, 0.0000e+00, 9.5645e-03, 1.1736e-02,\n",
      "        0.0000e+00, 2.7542e-03, 0.0000e+00, 0.0000e+00, 8.4968e-03, 0.0000e+00,\n",
      "        0.0000e+00, 0.0000e+00, 0.0000e+00, 0.0000e+00, 0.0000e+00, 0.0000e+00,\n",
      "        0.0000e+00, 0.0000e+00, 0.0000e+00, 0.0000e+00, 0.0000e+00, 0.0000e+00,\n",
      "        0.0000e+00, 5.7909e-03, 0.0000e+00, 0.0000e+00, 1.6265e-02, 0.0000e+00,\n",
      "        0.0000e+00, 0.0000e+00, 0.0000e+00, 0.0000e+00, 0.0000e+00, 0.0000e+00,\n",
      "        0.0000e+00, 0.0000e+00, 0.0000e+00, 0.0000e+00, 1.0519e-02, 0.0000e+00,\n",
      "        0.0000e+00, 3.1723e-02, 0.0000e+00, 0.0000e+00, 4.5219e-02, 0.0000e+00,\n",
      "        0.0000e+00, 1.4875e-02, 9.7402e-03, 4.3745e-02, 7.8109e-03, 0.0000e+00,\n",
      "        0.0000e+00, 0.0000e+00, 0.0000e+00, 0.0000e+00, 2.4285e-02, 0.0000e+00,\n",
      "        0.0000e+00, 0.0000e+00, 0.0000e+00, 0.0000e+00, 0.0000e+00, 0.0000e+00,\n",
      "        2.9406e-02, 0.0000e+00, 0.0000e+00, 1.9041e-03, 1.5996e-02, 1.6225e-02,\n",
      "        8.0682e-04, 3.3200e-02, 0.0000e+00, 8.0954e-03, 2.9319e-02, 2.2140e-02,\n",
      "        0.0000e+00, 5.8255e-03, 4.6773e-03, 1.8182e-02, 2.4554e-02, 2.3132e-02,\n",
      "        2.2106e-04, 0.0000e+00, 0.0000e+00, 0.0000e+00, 2.0689e-02, 0.0000e+00,\n",
      "        0.0000e+00, 0.0000e+00, 0.0000e+00, 6.2419e-03, 0.0000e+00, 0.0000e+00,\n",
      "        6.1073e-03, 0.0000e+00, 0.0000e+00, 0.0000e+00, 0.0000e+00, 0.0000e+00,\n",
      "        2.3122e-04, 0.0000e+00, 0.0000e+00, 2.8218e-04, 2.1428e-02, 0.0000e+00,\n",
      "        0.0000e+00, 0.0000e+00, 0.0000e+00, 0.0000e+00, 0.0000e+00, 1.2157e-02,\n",
      "        2.0820e-03, 7.3425e-03, 9.4365e-04, 1.9869e-02, 5.8694e-02, 0.0000e+00,\n",
      "        0.0000e+00, 0.0000e+00, 1.0460e-02, 0.0000e+00, 0.0000e+00, 0.0000e+00,\n",
      "        0.0000e+00, 0.0000e+00, 0.0000e+00, 0.0000e+00, 1.2615e-03, 0.0000e+00,\n",
      "        0.0000e+00, 5.9033e-04, 9.7228e-05, 3.6523e-05, 0.0000e+00, 8.5668e-03,\n",
      "        0.0000e+00, 2.6014e-02, 3.3863e-02, 0.0000e+00, 1.9166e-03, 0.0000e+00,\n",
      "        3.6197e-02, 0.0000e+00, 3.3911e-02, 0.0000e+00, 2.8858e-02, 0.0000e+00,\n",
      "        1.8605e-02, 9.3426e-03, 0.0000e+00, 0.0000e+00, 0.0000e+00, 7.9464e-04,\n",
      "        0.0000e+00, 3.0254e-02, 0.0000e+00, 2.9632e-03, 2.8995e-02, 2.3026e-02,\n",
      "        1.6331e-02, 0.0000e+00, 0.0000e+00, 2.5183e-02, 0.0000e+00, 3.6116e-02,\n",
      "        8.1204e-03, 0.0000e+00, 1.2763e-02, 0.0000e+00, 5.4213e-03, 3.7801e-02,\n",
      "        1.4690e-02, 3.8801e-02, 1.1663e-02, 2.9501e-02, 2.1975e-02, 3.1012e-03,\n",
      "        1.5430e-02, 1.4948e-02, 2.8753e-03, 1.1723e-02, 1.7298e-02, 4.0272e-02,\n",
      "        2.1696e-02, 3.3246e-02, 2.8333e-02, 3.7500e-02, 4.3714e-02, 0.0000e+00,\n",
      "        1.5489e-02, 2.0280e-02, 4.0851e-02, 8.5588e-02, 3.1687e-02, 8.3759e-03,\n",
      "        3.8682e-02, 6.4214e-02, 5.0547e-03, 5.4219e-03, 2.8385e-02, 1.3751e-02,\n",
      "        1.8285e-02, 6.3342e-02, 4.9378e-02, 4.7216e-02, 3.2790e-02, 4.5818e-02,\n",
      "        2.5875e-02, 7.3734e-02, 9.4890e-02, 1.3051e-01, 6.7664e-02, 1.9224e-02,\n",
      "        1.7152e-02, 2.1292e-02, 4.6137e-02, 6.9559e-03, 2.8003e-02, 1.9740e-02,\n",
      "        1.6699e-02, 5.9769e-03, 1.9450e-02, 5.9557e-02, 2.8676e-02, 1.7054e-02,\n",
      "        4.0507e-02, 2.4351e-02, 1.7713e-02, 2.8811e-02, 3.2101e-02, 5.7158e-02,\n",
      "        1.8025e-02, 3.0620e-02, 3.2204e-02, 5.2155e-02, 1.3176e-02, 2.9490e-02,\n",
      "        5.4643e-02, 1.7614e-02, 2.2146e-02, 3.6232e-02, 4.8270e-02, 3.9637e-02,\n",
      "        5.8482e-02, 8.6505e-03, 1.0656e-01, 8.4569e-02, 3.4456e-02, 1.1161e-01,\n",
      "        2.3977e-02, 4.0076e-02, 2.9629e-02, 1.6690e-02, 1.9539e-02, 3.4125e-02,\n",
      "        9.0044e-02, 6.0775e-02, 5.4491e-02, 4.0156e-02, 0.0000e+00, 2.3251e-02,\n",
      "        8.3119e-02, 4.4286e-02, 1.7473e-01, 4.0081e-02, 3.8345e-02, 3.7090e-02,\n",
      "        4.1445e-02, 3.7286e-02, 1.2156e-02, 6.6903e-03, 2.1732e-02, 7.1327e-02,\n",
      "        8.8868e-02, 3.0040e-02, 8.4615e-02, 4.0515e-02, 4.0521e-02, 1.1899e-01,\n",
      "        7.1532e-02, 4.7891e-02, 5.9703e-02, 2.1820e-02, 5.4405e-02, 5.4098e-02,\n",
      "        5.1412e-02, 5.6658e-02, 9.0839e-02, 7.6274e-02, 8.5134e-02, 6.2927e-02,\n",
      "        1.0438e-01, 3.0569e-02, 4.3787e-02, 7.6447e-02, 7.4939e-02, 3.1187e-02,\n",
      "        1.7216e-01, 6.7792e-02, 1.3986e-02, 2.7090e-02, 4.1656e-02, 4.1150e-02,\n",
      "        9.9682e-02, 5.6004e-02, 1.6463e-02, 2.2484e-02, 5.0604e-02, 6.1391e-02,\n",
      "        6.2092e-02, 2.9689e-02, 1.7534e-02, 1.2930e-01, 5.0373e-03, 1.8539e-01,\n",
      "        9.5440e-02, 1.7591e-02, 4.6023e-02, 5.2684e-02, 4.0434e-02, 6.9846e-02,\n",
      "        1.1176e-01, 2.6325e-02, 5.9397e-02, 2.1662e-02, 2.5485e-02, 4.5024e-02,\n",
      "        2.4832e-02, 1.4656e-01, 5.5429e-02, 7.1485e-02, 1.7418e-02, 7.4431e-02,\n",
      "        1.4209e-02, 1.2478e-02, 9.6845e-02, 4.2490e-02, 1.3309e-02, 9.3061e-02,\n",
      "        3.0991e-02, 3.5210e-02, 4.5433e-02, 6.6879e-02, 1.5791e-02, 1.1769e-01,\n",
      "        5.4913e-02, 6.6718e-02, 3.3247e-02, 3.8377e-02, 2.2840e-02, 5.5473e-02,\n",
      "        7.1892e-02, 5.9031e-02, 1.1737e-02, 4.5788e-02, 5.0388e-02, 5.5479e-02,\n",
      "        4.9914e-02, 2.9024e-02, 6.5398e-02, 1.1820e-01, 7.1433e-02, 5.4883e-02,\n",
      "        1.4670e-01, 6.0657e-02, 1.3551e-01, 1.0346e-01, 2.8122e-02, 6.1377e-02,\n",
      "        8.0780e-02, 1.3137e-01, 8.0578e-02, 4.0058e-02, 1.7831e-01, 4.7445e-02,\n",
      "        6.0579e-02, 3.0295e-02, 1.4214e-02, 4.0672e-02, 5.9311e-02, 1.4860e-01,\n",
      "        3.0879e-02, 1.6478e-02, 1.1249e-01, 6.9965e-02, 2.3359e-01, 4.1502e-02,\n",
      "        5.7622e-02, 1.3288e-01, 4.8311e-02, 1.3193e-01, 4.1044e-02, 2.8383e-02,\n",
      "        5.6208e-02, 1.5266e-01, 1.2689e-01, 2.1977e-01, 3.1764e-01, 6.6617e-02,\n",
      "        7.1340e-03, 9.1704e-02, 1.5598e-01, 4.0955e-02, 1.6424e-01, 1.5255e-01,\n",
      "        1.4651e-01, 1.8848e-01, 1.6428e-01, 1.2576e-01, 6.7231e-02, 1.5432e-02,\n",
      "        1.1692e-01, 8.0756e-02, 1.1439e-01, 7.8154e-02, 5.6374e-02, 9.6549e-02,\n",
      "        4.1553e-02, 1.7692e-01, 2.0570e-01, 1.3428e-01, 9.2842e-02, 1.7670e-01,\n",
      "        6.2452e-02, 2.3390e-01, 7.4800e-02, 2.7822e-01, 3.8307e-01, 1.9595e-01,\n",
      "        1.0047e-01, 1.5876e-01, 9.9954e-02, 1.9216e-01, 1.7352e-01, 1.2030e-01,\n",
      "        6.3938e-02, 1.1966e-01, 1.6381e-01, 5.2061e-01, 1.4009e-01, 4.8123e-01,\n",
      "        1.4825e-01, 5.9389e-01, 7.3620e-02, 5.9318e-02, 2.0011e-01, 3.1316e-01,\n",
      "        3.4975e-01, 1.3186e-01, 2.5137e-01, 2.0196e-01, 7.5752e-01, 2.4907e-01,\n",
      "        8.6995e-02, 1.0435e-01, 2.1838e-01, 4.9398e-01, 5.1215e-01, 2.0625e-01,\n",
      "        5.9392e-02, 1.9456e-01, 8.2789e-02, 2.2305e-01, 2.0109e-01, 1.0363e-01]) tensor(0.7575) tensor(26.9033)\n",
      "Chosen edges: tensor([[   0,    7,   11,   12,   12,    0,    0,   10,    9,    4,    6,    7,\n",
      "           12,   14,    0,   12,    0,   12,    0,   12,    4,    0,    5,    8,\n",
      "           13,   12,    0,    0,    3,    3,    7,    4,    7,    1,    7,   14,\n",
      "            4,    7,   10,    6,    4,    3,    6,    5,   11,    3,    5,    6,\n",
      "            4,    4,   11,   10,    7,    5,   11,    8,    3,    8,    5,   13,\n",
      "            8,   14,   14,   11,    7,    6,   14,    3,    4,    4,    0,    0,\n",
      "           12,    1,   12,    3,    9,   13,   12,    1,    1,    0,    4,    5,\n",
      "            3,   14,    7,    6,   10,   14,    5,    1,    4,    4,    5,    8,\n",
      "           10,   12,    8,   14,    3,    4,    6,    7,    8,   10,   14,    8,\n",
      "            6,   14,    3,    4,   10,    3,   10,    4,    7,   11,   10,    6,\n",
      "            6,   10,    1,    1,    7,   11,    1,    1,    3,    3,    4,    4,\n",
      "            4,    4,    4,    4,    5,    5,    5,    6,    8,    8,    8,    8,\n",
      "            8,   10,   10,   10,   10,   10,   10,   10,   10,   10,   10,   10,\n",
      "           10,   12,   12,   14],\n",
      "        [  73,  427,  575, 1628, 2632, 2642, 2656, 2696, 2722, 2747, 2748, 2810,\n",
      "         2826, 2832, 2835, 2843, 2849, 2850, 2852, 2864, 2865, 2866, 2871, 2879,\n",
      "         2899, 2904, 2912, 2918, 2919, 2921, 2927, 2929, 2931, 2932, 2935, 2943,\n",
      "         2947, 2951, 2954, 2970, 2974, 2991, 3007, 3033, 3034, 3037, 3038, 3039,\n",
      "         3042, 3044, 3045, 3048, 3050, 3051, 3053, 3058, 3059, 3060, 3062, 3065,\n",
      "         3068, 3072, 3074, 3075, 3076, 3080, 3081, 3082, 3085, 3086, 3089, 3090,\n",
      "         3091, 3092, 3093, 3094, 3095, 3096, 3098, 3099, 3100, 3101, 3103, 3105,\n",
      "         3109, 3110, 3113, 3114, 3115, 3117, 3118, 3120, 3123, 3124, 3125, 3126,\n",
      "         3127, 3128, 3130, 3131, 3133, 3134, 3135, 3136, 3137, 3138, 3139, 3141,\n",
      "         3142, 3143, 3144, 3145, 3146, 3148, 3149, 3150, 3151, 3152, 3153, 3154,\n",
      "         3155, 3156, 3157, 3158, 3159, 3160, 3161, 3162, 3163, 3164, 3165, 3166,\n",
      "         3167, 3168, 3169, 3170, 3171, 3172, 3173, 3174, 3175, 3176, 3177, 3178,\n",
      "         3179, 3180, 3181, 3182, 3183, 3184, 3185, 3186, 3187, 3188, 3189, 3190,\n",
      "         3191, 3192, 3193, 3194]]) 160\n"
     ]
    },
    {
     "name": "stderr",
     "output_type": "stream",
     "text": [
      "100%|██████████| 51/51 [00:04<00:00, 10.33it/s]\n"
     ]
    },
    {
     "name": "stdout",
     "output_type": "stream",
     "text": [
      "Fine-Tune Epoch 1/10 | Train Loss: 2.0293 | Val Loss: 1.9493\n"
     ]
    },
    {
     "name": "stderr",
     "output_type": "stream",
     "text": [
      "100%|██████████| 51/51 [00:04<00:00, 10.38it/s]\n"
     ]
    },
    {
     "name": "stdout",
     "output_type": "stream",
     "text": [
      "Fine-Tune Epoch 2/10 | Train Loss: 1.9938 | Val Loss: 1.9319\n"
     ]
    },
    {
     "name": "stderr",
     "output_type": "stream",
     "text": [
      "100%|██████████| 51/51 [00:05<00:00,  9.74it/s]\n"
     ]
    },
    {
     "name": "stdout",
     "output_type": "stream",
     "text": [
      "Fine-Tune Epoch 3/10 | Train Loss: 1.9849 | Val Loss: 1.9206\n"
     ]
    },
    {
     "name": "stderr",
     "output_type": "stream",
     "text": [
      "100%|██████████| 51/51 [00:05<00:00,  9.19it/s]\n"
     ]
    },
    {
     "name": "stdout",
     "output_type": "stream",
     "text": [
      "Fine-Tune Epoch 4/10 | Train Loss: 1.9722 | Val Loss: 1.9129\n"
     ]
    },
    {
     "name": "stderr",
     "output_type": "stream",
     "text": [
      "100%|██████████| 51/51 [00:05<00:00,  9.57it/s]\n"
     ]
    },
    {
     "name": "stdout",
     "output_type": "stream",
     "text": [
      "Fine-Tune Epoch 5/10 | Train Loss: 1.9666 | Val Loss: 1.9047\n"
     ]
    },
    {
     "name": "stderr",
     "output_type": "stream",
     "text": [
      "100%|██████████| 51/51 [00:05<00:00,  9.47it/s]\n"
     ]
    },
    {
     "name": "stdout",
     "output_type": "stream",
     "text": [
      "Fine-Tune Epoch 6/10 | Train Loss: 1.9636 | Val Loss: 1.9007\n"
     ]
    },
    {
     "name": "stderr",
     "output_type": "stream",
     "text": [
      "100%|██████████| 51/51 [00:05<00:00,  9.81it/s]\n"
     ]
    },
    {
     "name": "stdout",
     "output_type": "stream",
     "text": [
      "Fine-Tune Epoch 7/10 | Train Loss: 1.9593 | Val Loss: 1.8947\n"
     ]
    },
    {
     "name": "stderr",
     "output_type": "stream",
     "text": [
      "100%|██████████| 51/51 [00:05<00:00,  8.93it/s]\n"
     ]
    },
    {
     "name": "stdout",
     "output_type": "stream",
     "text": [
      "Fine-Tune Epoch 8/10 | Train Loss: 1.9579 | Val Loss: 1.8902\n"
     ]
    },
    {
     "name": "stderr",
     "output_type": "stream",
     "text": [
      "100%|██████████| 51/51 [00:05<00:00, 10.16it/s]\n"
     ]
    },
    {
     "name": "stdout",
     "output_type": "stream",
     "text": [
      "Fine-Tune Epoch 9/10 | Train Loss: 1.9484 | Val Loss: 1.8860\n"
     ]
    },
    {
     "name": "stderr",
     "output_type": "stream",
     "text": [
      "100%|██████████| 51/51 [00:05<00:00,  9.82it/s]\n"
     ]
    },
    {
     "name": "stdout",
     "output_type": "stream",
     "text": [
      "Fine-Tune Epoch 10/10 | Train Loss: 1.9450 | Val Loss: 1.8832\n"
     ]
    },
    {
     "name": "stderr",
     "output_type": "stream",
     "text": [
      "100%|██████████| 51/51 [00:05<00:00,  8.51it/s]\n"
     ]
    },
    {
     "name": "stdout",
     "output_type": "stream",
     "text": [
      "Epoch 48/50 | Train Loss: 1.9399 | Val Loss: 24.3794 | Val Accuracy: 0.3620\n",
      "Edge metrics: tensor([5.8067e-03, 2.6585e-03, 7.1337e-07, 1.5781e-03, 5.0573e-03, 6.0543e-03,\n",
      "        5.7175e-03, 5.8444e-03, 5.2808e-03, 9.9262e-04, 3.2868e-03, 1.3326e-03,\n",
      "        1.3686e-03, 5.6938e-03, 6.4688e-04, 1.6569e-03, 2.2405e-03, 2.2908e-03,\n",
      "        9.3919e-04, 2.2871e-03, 2.5212e-04, 2.2063e-03, 1.9453e-03, 1.0685e-03,\n",
      "        7.8294e-03, 3.2627e-03, 6.0506e-03, 6.1988e-03, 1.7064e-03, 2.7983e-03,\n",
      "        1.8814e-06, 3.2024e-03, 1.8484e-03, 1.2490e-03, 1.2632e-03, 2.3702e-03,\n",
      "        1.4072e-07, 3.0164e-03, 2.3644e-03, 1.8965e-03, 2.7420e-03, 4.5894e-03,\n",
      "        3.9036e-03, 5.1732e-03, 2.8234e-04, 3.2875e-03, 3.7770e-04, 3.2897e-04,\n",
      "        3.8775e-03, 4.9880e-06, 1.3413e-03, 3.3485e-03, 1.8659e-03, 5.6172e-03,\n",
      "        8.3786e-07, 2.8239e-03, 1.0225e-03, 9.9542e-04, 9.3570e-03, 2.8696e-03,\n",
      "        7.4158e-04, 1.1041e-02, 3.7938e-05, 2.5710e-03, 3.4360e-03, 1.3948e-03,\n",
      "        9.0508e-03, 9.8181e-03, 3.1334e-04, 6.4310e-04, 7.2662e-03, 2.1971e-03,\n",
      "        3.9360e-03, 9.9041e-04, 2.3971e-03, 4.5170e-03, 1.0529e-05, 1.5446e-02,\n",
      "        1.0413e-02, 2.4684e-04, 2.5612e-03, 1.8524e-03, 2.6873e-04, 3.8677e-03,\n",
      "        2.5419e-05, 1.6237e-03, 6.0724e-03, 7.1124e-05, 4.5794e-04, 1.9876e-03,\n",
      "        3.8538e-04, 2.7731e-03, 1.7623e-04, 3.8628e-03, 1.0865e-02, 1.8367e-03,\n",
      "        0.0000e+00, 0.0000e+00, 0.0000e+00, 0.0000e+00, 0.0000e+00, 0.0000e+00,\n",
      "        0.0000e+00, 0.0000e+00, 0.0000e+00, 0.0000e+00, 0.0000e+00, 0.0000e+00,\n",
      "        0.0000e+00, 0.0000e+00, 0.0000e+00, 0.0000e+00, 4.2885e-04, 0.0000e+00,\n",
      "        0.0000e+00, 5.2315e-03, 0.0000e+00, 0.0000e+00, 0.0000e+00, 0.0000e+00,\n",
      "        0.0000e+00, 0.0000e+00, 0.0000e+00, 0.0000e+00, 0.0000e+00, 0.0000e+00,\n",
      "        1.7060e-03, 0.0000e+00, 0.0000e+00, 5.0139e-03, 0.0000e+00, 0.0000e+00,\n",
      "        0.0000e+00, 0.0000e+00, 0.0000e+00, 0.0000e+00, 0.0000e+00, 0.0000e+00,\n",
      "        0.0000e+00, 0.0000e+00, 0.0000e+00, 0.0000e+00, 0.0000e+00, 0.0000e+00,\n",
      "        0.0000e+00, 0.0000e+00, 2.3188e-03, 0.0000e+00, 0.0000e+00, 5.3507e-03,\n",
      "        6.8634e-03, 0.0000e+00, 7.7348e-04, 0.0000e+00, 0.0000e+00, 0.0000e+00,\n",
      "        0.0000e+00, 1.4379e-02, 0.0000e+00, 0.0000e+00, 0.0000e+00, 0.0000e+00,\n",
      "        0.0000e+00, 0.0000e+00, 0.0000e+00, 0.0000e+00, 0.0000e+00, 0.0000e+00,\n",
      "        0.0000e+00, 0.0000e+00, 0.0000e+00, 0.0000e+00, 0.0000e+00, 0.0000e+00,\n",
      "        0.0000e+00, 0.0000e+00, 0.0000e+00, 0.0000e+00, 0.0000e+00, 0.0000e+00,\n",
      "        0.0000e+00, 0.0000e+00, 0.0000e+00, 0.0000e+00, 0.0000e+00, 0.0000e+00,\n",
      "        2.3198e-05, 1.5601e-02, 0.0000e+00, 0.0000e+00, 0.0000e+00, 0.0000e+00,\n",
      "        0.0000e+00, 0.0000e+00, 0.0000e+00, 0.0000e+00, 0.0000e+00, 0.0000e+00,\n",
      "        0.0000e+00, 0.0000e+00, 0.0000e+00, 0.0000e+00, 0.0000e+00, 1.2403e-04,\n",
      "        0.0000e+00, 0.0000e+00, 0.0000e+00, 0.0000e+00, 3.0918e-03, 0.0000e+00,\n",
      "        0.0000e+00, 0.0000e+00, 2.0493e-03, 0.0000e+00, 0.0000e+00, 0.0000e+00,\n",
      "        0.0000e+00, 0.0000e+00, 0.0000e+00, 0.0000e+00, 0.0000e+00, 0.0000e+00,\n",
      "        0.0000e+00, 0.0000e+00, 0.0000e+00, 0.0000e+00, 0.0000e+00, 0.0000e+00,\n",
      "        2.6396e-06, 0.0000e+00, 0.0000e+00, 0.0000e+00, 0.0000e+00, 0.0000e+00,\n",
      "        2.5821e-03, 0.0000e+00, 0.0000e+00, 0.0000e+00, 0.0000e+00, 0.0000e+00,\n",
      "        0.0000e+00, 0.0000e+00, 0.0000e+00, 0.0000e+00, 0.0000e+00, 0.0000e+00,\n",
      "        0.0000e+00, 0.0000e+00, 0.0000e+00, 7.8105e-03, 0.0000e+00, 2.1670e-02,\n",
      "        0.0000e+00, 8.4006e-03, 0.0000e+00, 0.0000e+00, 0.0000e+00, 0.0000e+00,\n",
      "        0.0000e+00, 0.0000e+00, 0.0000e+00, 0.0000e+00, 0.0000e+00, 0.0000e+00,\n",
      "        7.8333e-06, 0.0000e+00, 0.0000e+00, 0.0000e+00, 0.0000e+00, 0.0000e+00,\n",
      "        0.0000e+00, 0.0000e+00, 0.0000e+00, 0.0000e+00, 0.0000e+00, 0.0000e+00,\n",
      "        0.0000e+00, 0.0000e+00, 0.0000e+00, 0.0000e+00, 6.1617e-03, 0.0000e+00,\n",
      "        0.0000e+00, 3.2684e-03, 9.6094e-04, 1.3231e-02, 2.8632e-03, 0.0000e+00,\n",
      "        0.0000e+00, 3.3258e-03, 0.0000e+00, 0.0000e+00, 0.0000e+00, 0.0000e+00,\n",
      "        0.0000e+00, 2.6239e-03, 5.7294e-03, 1.0911e-02, 0.0000e+00, 1.4530e-03,\n",
      "        7.7782e-05, 0.0000e+00, 0.0000e+00, 4.0599e-03, 0.0000e+00, 0.0000e+00,\n",
      "        0.0000e+00, 0.0000e+00, 0.0000e+00, 0.0000e+00, 0.0000e+00, 0.0000e+00,\n",
      "        0.0000e+00, 0.0000e+00, 0.0000e+00, 0.0000e+00, 0.0000e+00, 5.8306e-03,\n",
      "        2.3519e-05, 0.0000e+00, 0.0000e+00, 0.0000e+00, 0.0000e+00, 2.4547e-05,\n",
      "        2.8236e-04, 0.0000e+00, 0.0000e+00, 0.0000e+00, 0.0000e+00, 0.0000e+00,\n",
      "        0.0000e+00, 4.8891e-04, 0.0000e+00, 0.0000e+00, 0.0000e+00, 0.0000e+00,\n",
      "        0.0000e+00, 0.0000e+00, 0.0000e+00, 0.0000e+00, 0.0000e+00, 0.0000e+00,\n",
      "        0.0000e+00, 0.0000e+00, 0.0000e+00, 0.0000e+00, 0.0000e+00, 0.0000e+00,\n",
      "        0.0000e+00, 0.0000e+00, 0.0000e+00, 8.3240e-06, 0.0000e+00, 0.0000e+00,\n",
      "        0.0000e+00, 0.0000e+00, 0.0000e+00, 0.0000e+00, 0.0000e+00, 0.0000e+00,\n",
      "        0.0000e+00, 0.0000e+00, 0.0000e+00, 0.0000e+00, 0.0000e+00, 0.0000e+00,\n",
      "        0.0000e+00, 0.0000e+00, 3.0402e-05, 0.0000e+00, 0.0000e+00, 0.0000e+00,\n",
      "        0.0000e+00, 2.1846e-03, 0.0000e+00, 0.0000e+00, 0.0000e+00, 0.0000e+00,\n",
      "        0.0000e+00, 0.0000e+00, 0.0000e+00, 0.0000e+00, 0.0000e+00, 0.0000e+00,\n",
      "        0.0000e+00, 0.0000e+00, 0.0000e+00, 0.0000e+00, 0.0000e+00, 0.0000e+00,\n",
      "        0.0000e+00, 3.9088e-05, 0.0000e+00, 0.0000e+00, 0.0000e+00, 6.5020e-04,\n",
      "        0.0000e+00, 0.0000e+00, 0.0000e+00, 0.0000e+00, 0.0000e+00, 0.0000e+00,\n",
      "        0.0000e+00, 0.0000e+00, 0.0000e+00, 0.0000e+00, 0.0000e+00, 0.0000e+00,\n",
      "        3.6085e-03, 0.0000e+00, 1.8467e-02, 0.0000e+00, 0.0000e+00, 1.0552e-04,\n",
      "        1.0394e-02, 0.0000e+00, 0.0000e+00, 0.0000e+00, 0.0000e+00, 0.0000e+00,\n",
      "        0.0000e+00, 0.0000e+00, 0.0000e+00, 0.0000e+00, 0.0000e+00, 0.0000e+00,\n",
      "        0.0000e+00, 0.0000e+00, 0.0000e+00, 0.0000e+00, 0.0000e+00, 0.0000e+00,\n",
      "        0.0000e+00, 0.0000e+00, 0.0000e+00, 0.0000e+00, 0.0000e+00, 0.0000e+00,\n",
      "        0.0000e+00, 0.0000e+00, 0.0000e+00, 0.0000e+00, 0.0000e+00, 0.0000e+00,\n",
      "        0.0000e+00, 0.0000e+00, 0.0000e+00, 1.2178e-02, 0.0000e+00, 0.0000e+00,\n",
      "        0.0000e+00, 0.0000e+00, 0.0000e+00, 0.0000e+00, 0.0000e+00, 0.0000e+00,\n",
      "        0.0000e+00, 3.8647e-05, 3.8083e-03, 0.0000e+00, 0.0000e+00, 0.0000e+00,\n",
      "        0.0000e+00, 0.0000e+00, 0.0000e+00, 0.0000e+00, 0.0000e+00, 0.0000e+00,\n",
      "        0.0000e+00, 0.0000e+00, 0.0000e+00, 0.0000e+00, 0.0000e+00, 1.0416e-02,\n",
      "        8.3326e-03, 0.0000e+00, 0.0000e+00, 0.0000e+00, 0.0000e+00, 1.2999e-02,\n",
      "        0.0000e+00, 0.0000e+00, 0.0000e+00, 0.0000e+00, 0.0000e+00, 0.0000e+00,\n",
      "        0.0000e+00, 6.8930e-03, 0.0000e+00, 0.0000e+00, 0.0000e+00, 0.0000e+00,\n",
      "        0.0000e+00, 2.0004e-03, 4.1526e-03, 0.0000e+00, 0.0000e+00, 0.0000e+00,\n",
      "        0.0000e+00, 4.1925e-03, 0.0000e+00, 0.0000e+00, 0.0000e+00, 0.0000e+00,\n",
      "        0.0000e+00, 0.0000e+00, 0.0000e+00, 0.0000e+00, 0.0000e+00, 0.0000e+00,\n",
      "        0.0000e+00, 0.0000e+00, 0.0000e+00, 0.0000e+00, 1.0950e-03, 0.0000e+00,\n",
      "        0.0000e+00, 4.9485e-03, 0.0000e+00, 0.0000e+00, 0.0000e+00, 0.0000e+00,\n",
      "        0.0000e+00, 0.0000e+00, 0.0000e+00, 0.0000e+00, 0.0000e+00, 0.0000e+00,\n",
      "        0.0000e+00, 5.3393e-03, 0.0000e+00, 0.0000e+00, 1.4292e-02, 0.0000e+00,\n",
      "        0.0000e+00, 2.0630e-02, 0.0000e+00, 0.0000e+00, 6.0208e-03, 3.4805e-03,\n",
      "        2.3411e-02, 1.9985e-03, 0.0000e+00, 0.0000e+00, 0.0000e+00, 0.0000e+00,\n",
      "        0.0000e+00, 1.3186e-02, 0.0000e+00, 0.0000e+00, 0.0000e+00, 0.0000e+00,\n",
      "        0.0000e+00, 0.0000e+00, 0.0000e+00, 1.2298e-02, 0.0000e+00, 0.0000e+00,\n",
      "        3.8624e-04, 9.4833e-03, 6.6886e-03, 1.6321e-04, 2.6401e-02, 0.0000e+00,\n",
      "        2.7031e-03, 1.2458e-02, 6.7068e-03, 0.0000e+00, 1.2161e-03, 2.2142e-03,\n",
      "        9.4357e-03, 1.0273e-02, 9.1932e-03, 0.0000e+00, 0.0000e+00, 0.0000e+00,\n",
      "        0.0000e+00, 6.5779e-03, 0.0000e+00, 0.0000e+00, 0.0000e+00, 0.0000e+00,\n",
      "        3.0285e-03, 0.0000e+00, 0.0000e+00, 2.2228e-03, 0.0000e+00, 0.0000e+00,\n",
      "        0.0000e+00, 0.0000e+00, 0.0000e+00, 0.0000e+00, 0.0000e+00, 0.0000e+00,\n",
      "        9.0157e-05, 8.2288e-03, 0.0000e+00, 0.0000e+00, 0.0000e+00, 0.0000e+00,\n",
      "        0.0000e+00, 0.0000e+00, 3.2029e-03, 6.0680e-04, 2.9829e-03, 1.1822e-03,\n",
      "        1.1106e-02, 0.0000e+00, 0.0000e+00, 0.0000e+00, 3.3763e-03, 0.0000e+00,\n",
      "        0.0000e+00, 0.0000e+00, 0.0000e+00, 0.0000e+00, 0.0000e+00, 0.0000e+00,\n",
      "        3.7673e-04, 0.0000e+00, 0.0000e+00, 6.4672e-05, 3.3296e-05, 1.3200e-05,\n",
      "        0.0000e+00, 9.3575e-03, 0.0000e+00, 9.2534e-03, 1.2529e-02, 0.0000e+00,\n",
      "        3.6783e-04, 0.0000e+00, 1.9709e-02, 0.0000e+00, 1.6896e-02, 0.0000e+00,\n",
      "        9.6724e-03, 0.0000e+00, 4.6065e-03, 1.6573e-03, 0.0000e+00, 0.0000e+00,\n",
      "        0.0000e+00, 3.0769e-04, 0.0000e+00, 1.1728e-02, 0.0000e+00, 6.0831e-04,\n",
      "        1.0731e-02, 7.2651e-03, 3.3629e-03, 0.0000e+00, 0.0000e+00, 1.0391e-02,\n",
      "        0.0000e+00, 1.4495e-02, 1.8603e-03, 0.0000e+00, 8.2336e-03, 0.0000e+00,\n",
      "        2.1804e-03, 1.5233e-02, 3.0676e-03, 1.3477e-02, 3.9099e-03, 1.6624e-02,\n",
      "        1.1220e-02, 1.2228e-03, 6.4010e-03, 5.2579e-03, 3.8863e-04, 5.0898e-03,\n",
      "        8.3946e-03, 1.6791e-02, 5.9326e-03, 1.4971e-02, 8.7621e-03, 1.4347e-02,\n",
      "        1.2484e-02, 0.0000e+00, 9.5933e-03, 1.3734e-02, 1.3383e-02, 1.1162e-02,\n",
      "        3.6735e-03, 1.5448e-02, 8.3237e-04, 5.9015e-03, 4.7367e-03, 5.1495e-03,\n",
      "        1.3200e-02, 1.4894e-02, 2.5078e-02, 2.2075e-02, 3.2760e-02, 1.7265e-02,\n",
      "        4.0359e-03, 5.4026e-03, 6.5195e-03, 1.6801e-02, 1.7519e-03, 1.5652e-02,\n",
      "        4.6906e-03, 5.0099e-03, 3.5602e-03, 1.0020e-02, 1.7280e-02, 5.1848e-03,\n",
      "        1.4644e-02, 1.0747e-02, 1.0119e-02, 1.4676e-02, 8.9476e-03, 8.3149e-03,\n",
      "        1.8432e-02, 9.3205e-03, 6.2150e-03, 1.7129e-02, 9.1196e-03, 2.0551e-02,\n",
      "        1.7072e-02, 3.8489e-02, 2.9776e-02, 5.1262e-03, 4.3596e-02, 1.9339e-02,\n",
      "        1.8266e-02, 3.9263e-02, 9.2531e-03, 1.1218e-02, 1.5564e-02, 1.3224e-02,\n",
      "        0.0000e+00, 1.0723e-02, 3.3165e-02, 2.3805e-02, 4.7422e-02, 2.1634e-02,\n",
      "        2.1212e-02, 1.4374e-02, 5.9492e-03, 3.1177e-03, 1.4215e-02, 1.7008e-02,\n",
      "        1.0977e-02, 2.0917e-02, 3.0167e-02, 9.6230e-03, 1.2141e-02, 3.2453e-02,\n",
      "        2.6369e-02, 7.1128e-03, 1.6151e-02, 2.4484e-02, 2.5539e-02, 7.8539e-03,\n",
      "        1.9050e-02, 2.4579e-02, 8.9377e-03, 5.7187e-03, 1.7065e-02, 1.0212e-01,\n",
      "        6.5420e-03, 2.2472e-02, 2.5754e-02, 1.2289e-02, 2.1633e-02, 1.3932e-02,\n",
      "        2.0253e-02, 1.4778e-02, 8.0291e-03, 2.0142e-02, 1.6330e-02, 1.5726e-02,\n",
      "        1.8550e-02, 3.8069e-02, 1.0298e-02, 2.3483e-02, 2.8389e-02, 1.9758e-02,\n",
      "        1.3566e-02, 2.3389e-02, 2.8974e-02, 2.6592e-02, 1.1661e-02, 2.2353e-02,\n",
      "        2.9287e-02, 2.4862e-02, 7.8536e-03, 2.4859e-02, 2.1748e-02, 1.5374e-02,\n",
      "        3.2247e-02, 3.8932e-02, 1.7898e-02, 2.4910e-02, 5.6293e-03, 1.2334e-02,\n",
      "        8.4896e-03, 6.5510e-02, 7.5885e-03, 1.2183e-02, 1.2664e-02, 3.0411e-02,\n",
      "        9.4305e-03, 2.5659e-02, 3.8574e-02, 1.3659e-02, 2.6583e-02, 4.8117e-02,\n",
      "        3.7293e-02, 6.6875e-03, 1.2533e-02, 1.7755e-02, 1.1062e-02, 3.8201e-02,\n",
      "        1.6932e-02, 5.3318e-02, 6.2994e-03, 1.5026e-02, 1.5626e-02, 1.5484e-02,\n",
      "        9.1486e-03, 3.2729e-02, 5.5628e-02, 3.5818e-02, 3.0836e-03, 8.0336e-03,\n",
      "        1.0588e-01, 6.8506e-03, 1.7185e-02, 1.3626e-02, 3.2695e-02, 3.0244e-03,\n",
      "        9.4490e-03, 4.4577e-02, 9.1421e-02, 8.8742e-03, 3.7658e-02, 3.4246e-02,\n",
      "        6.9578e-03, 1.0467e-01, 2.6706e-02, 1.4152e-02, 1.5109e-02, 1.4448e-02,\n",
      "        2.8039e-02, 2.8674e-02, 3.1586e-02, 4.2764e-02, 5.0795e-02, 2.6348e-02,\n",
      "        8.1536e-03, 2.9309e-02, 1.8319e-02, 4.2713e-02, 2.7807e-02, 1.2408e-02,\n",
      "        2.5391e-02, 3.4407e-02, 3.1603e-02, 1.0511e-02, 4.0726e-02, 2.1549e-02,\n",
      "        2.4184e-03, 5.8825e-03, 3.5078e-02, 2.6359e-02, 1.5057e-02, 2.9213e-02,\n",
      "        8.5382e-03, 9.1495e-03, 1.5789e-02, 4.6477e-02, 2.6918e-02, 2.2995e-02,\n",
      "        1.0132e-01, 4.6967e-02, 4.3470e-03, 2.2391e-02, 1.1679e-02, 2.6057e-02,\n",
      "        4.1331e-02, 2.4627e-02, 4.1760e-02, 5.4195e-02, 4.5109e-02, 2.4458e-02,\n",
      "        3.1852e-02, 9.8347e-03, 2.0422e-02, 5.9698e-02, 1.3271e-02, 1.5729e-01,\n",
      "        3.1312e-02, 3.2802e-01, 7.7172e-02, 9.4496e-03, 2.2326e-02, 3.1826e-02,\n",
      "        2.7360e-02, 3.0907e-02, 8.3109e-02, 7.1705e-02, 5.6113e-02, 5.2525e-02,\n",
      "        3.7713e-02, 1.0943e-01, 5.6507e-02, 2.2800e-02, 2.9500e-02, 2.7938e-02,\n",
      "        3.6878e-02, 2.4724e-02, 4.7747e-02, 1.6156e-02, 3.9459e-02, 2.7289e-01,\n",
      "        3.5110e-02, 1.8334e-01, 3.5967e-02, 2.2598e-01, 3.5091e-02, 6.6399e-02,\n",
      "        4.2862e-02, 3.5659e-02, 9.3931e-03, 4.1130e-02, 1.1000e-01, 6.2773e-02,\n",
      "        6.3118e-02, 1.3600e-01, 6.3973e-02, 3.7593e-02, 4.3474e-02, 3.8876e-02,\n",
      "        9.2766e-02, 5.9816e-01, 5.7583e-02, 5.2858e-03, 7.3761e-02, 3.9542e-01,\n",
      "        1.6931e-01, 6.6522e-02, 7.6103e-02, 1.9887e-01, 7.1788e-01, 2.6936e-02,\n",
      "        5.3481e-02, 1.3543e-02, 9.1408e-02, 8.8839e-02, 1.2514e-01, 5.8788e-02,\n",
      "        3.2592e-02, 4.9340e-02, 4.6327e-02, 5.3909e-02, 7.4474e-02, 2.2293e-02]) tensor(0.7179) tensor(11.9350)\n",
      "Chosen edges: tensor([[   3,    9,   12,   13,    3,    4,    3,   11,    9,   14,    1,    4,\n",
      "            8,   10,    6,    7,    8,   10,    8,    6,   11,    6,   10,    1,\n",
      "            3,    3,    4,    4,    4,    5,    5,    5,    8,    8,    8,    8,\n",
      "            8,   10,   10,   10,   10,   10,   10,   10,   12,   12],\n",
      "        [3047, 3147, 3212, 3219, 3223, 3231, 3236, 3245, 3271, 3280, 3286, 3288,\n",
      "         3290, 3291, 3297, 3298, 3299, 3300, 3302, 3303, 3312, 3314, 3316, 3318,\n",
      "         3323, 3324, 3325, 3326, 3327, 3331, 3332, 3333, 3335, 3336, 3337, 3338,\n",
      "         3339, 3340, 3341, 3343, 3345, 3346, 3347, 3348, 3352, 3353]]) 46\n"
     ]
    },
    {
     "name": "stderr",
     "output_type": "stream",
     "text": [
      "100%|██████████| 51/51 [00:05<00:00,  9.38it/s]\n"
     ]
    },
    {
     "name": "stdout",
     "output_type": "stream",
     "text": [
      "Fine-Tune Epoch 1/10 | Train Loss: 1.9647 | Val Loss: 1.8855\n"
     ]
    },
    {
     "name": "stderr",
     "output_type": "stream",
     "text": [
      "100%|██████████| 51/51 [00:05<00:00,  8.93it/s]\n"
     ]
    },
    {
     "name": "stdout",
     "output_type": "stream",
     "text": [
      "Fine-Tune Epoch 2/10 | Train Loss: 1.9436 | Val Loss: 1.8803\n"
     ]
    },
    {
     "name": "stderr",
     "output_type": "stream",
     "text": [
      "100%|██████████| 51/51 [00:05<00:00,  9.26it/s]\n"
     ]
    },
    {
     "name": "stdout",
     "output_type": "stream",
     "text": [
      "Fine-Tune Epoch 3/10 | Train Loss: 1.9433 | Val Loss: 1.8768\n"
     ]
    },
    {
     "name": "stderr",
     "output_type": "stream",
     "text": [
      "100%|██████████| 51/51 [00:06<00:00,  7.77it/s]\n"
     ]
    },
    {
     "name": "stdout",
     "output_type": "stream",
     "text": [
      "Fine-Tune Epoch 4/10 | Train Loss: 1.9378 | Val Loss: 1.8737\n"
     ]
    },
    {
     "name": "stderr",
     "output_type": "stream",
     "text": [
      "100%|██████████| 51/51 [00:05<00:00,  9.50it/s]\n"
     ]
    },
    {
     "name": "stdout",
     "output_type": "stream",
     "text": [
      "Fine-Tune Epoch 5/10 | Train Loss: 1.9379 | Val Loss: 1.8725\n"
     ]
    },
    {
     "name": "stderr",
     "output_type": "stream",
     "text": [
      "100%|██████████| 51/51 [00:05<00:00,  9.12it/s]\n"
     ]
    },
    {
     "name": "stdout",
     "output_type": "stream",
     "text": [
      "Fine-Tune Epoch 6/10 | Train Loss: 1.9329 | Val Loss: 1.8704\n"
     ]
    },
    {
     "name": "stderr",
     "output_type": "stream",
     "text": [
      "100%|██████████| 51/51 [00:05<00:00,  8.59it/s]\n"
     ]
    },
    {
     "name": "stdout",
     "output_type": "stream",
     "text": [
      "Fine-Tune Epoch 7/10 | Train Loss: 1.9254 | Val Loss: 1.8684\n"
     ]
    },
    {
     "name": "stderr",
     "output_type": "stream",
     "text": [
      "100%|██████████| 51/51 [00:05<00:00,  9.15it/s]\n"
     ]
    },
    {
     "name": "stdout",
     "output_type": "stream",
     "text": [
      "Fine-Tune Epoch 8/10 | Train Loss: 1.9254 | Val Loss: 1.8653\n"
     ]
    },
    {
     "name": "stderr",
     "output_type": "stream",
     "text": [
      "100%|██████████| 51/51 [00:06<00:00,  8.19it/s]\n"
     ]
    },
    {
     "name": "stdout",
     "output_type": "stream",
     "text": [
      "Fine-Tune Epoch 9/10 | Train Loss: 1.9254 | Val Loss: 1.8642\n"
     ]
    },
    {
     "name": "stderr",
     "output_type": "stream",
     "text": [
      "100%|██████████| 51/51 [00:05<00:00,  8.81it/s]\n"
     ]
    },
    {
     "name": "stdout",
     "output_type": "stream",
     "text": [
      "Fine-Tune Epoch 10/10 | Train Loss: 1.9251 | Val Loss: 1.8625\n"
     ]
    },
    {
     "name": "stderr",
     "output_type": "stream",
     "text": [
      "100%|██████████| 51/51 [00:06<00:00,  7.61it/s]\n"
     ]
    },
    {
     "name": "stdout",
     "output_type": "stream",
     "text": [
      "Epoch 49/50 | Train Loss: 1.9231 | Val Loss: 24.1927 | Val Accuracy: 0.3610\n",
      "Edge metrics: tensor([1.3844e-02, 7.0479e-03, 6.6924e-07, 3.3184e-03, 1.2384e-02, 1.3554e-02,\n",
      "        1.4131e-02, 1.2575e-02, 1.3242e-02, 2.9478e-03, 8.4374e-03, 2.7711e-03,\n",
      "        3.4995e-03, 1.2741e-02, 1.2004e-03, 2.9928e-03, 4.3123e-03, 4.5258e-03,\n",
      "        1.8598e-03, 4.3450e-03, 5.1278e-04, 5.3921e-03, 3.5781e-03, 2.1183e-03,\n",
      "        1.8265e-02, 6.3282e-03, 1.3717e-02, 1.3539e-02, 4.4778e-03, 5.3427e-03,\n",
      "        1.4353e-04, 6.3583e-03, 3.7877e-03, 2.1513e-03, 2.1861e-03, 4.2871e-03,\n",
      "        2.1124e-07, 6.1604e-03, 4.4666e-03, 3.5244e-03, 7.4223e-03, 1.0168e-02,\n",
      "        7.1809e-03, 1.3364e-02, 5.0289e-04, 6.5657e-03, 7.2044e-04, 7.3340e-04,\n",
      "        7.4289e-03, 1.2016e-05, 2.8102e-03, 5.8073e-03, 3.3761e-03, 1.2179e-02,\n",
      "        1.7828e-06, 7.8886e-03, 1.9313e-03, 1.9555e-03, 2.5611e-02, 7.8791e-03,\n",
      "        6.0958e-04, 2.8001e-02, 3.3425e-05, 5.4985e-03, 6.9167e-03, 2.1775e-03,\n",
      "        2.0827e-02, 1.8848e-02, 1.2042e-03, 3.6575e-04, 1.8385e-02, 5.9691e-03,\n",
      "        9.0538e-03, 2.4404e-03, 5.7116e-03, 1.0006e-02, 7.8432e-06, 3.0884e-02,\n",
      "        1.8568e-02, 5.7764e-04, 5.1696e-03, 3.9565e-03, 3.3239e-04, 7.1327e-03,\n",
      "        8.9001e-05, 3.6295e-03, 1.1312e-02, 1.7732e-04, 3.5085e-04, 6.1695e-03,\n",
      "        4.2877e-04, 7.0102e-03, 1.5449e-04, 1.0140e-02, 2.5205e-02, 3.8494e-03,\n",
      "        0.0000e+00, 0.0000e+00, 0.0000e+00, 0.0000e+00, 0.0000e+00, 0.0000e+00,\n",
      "        0.0000e+00, 0.0000e+00, 0.0000e+00, 0.0000e+00, 0.0000e+00, 0.0000e+00,\n",
      "        0.0000e+00, 0.0000e+00, 0.0000e+00, 0.0000e+00, 5.9237e-04, 0.0000e+00,\n",
      "        0.0000e+00, 1.3788e-02, 0.0000e+00, 0.0000e+00, 0.0000e+00, 0.0000e+00,\n",
      "        0.0000e+00, 0.0000e+00, 0.0000e+00, 0.0000e+00, 0.0000e+00, 0.0000e+00,\n",
      "        5.1916e-03, 0.0000e+00, 0.0000e+00, 1.0158e-02, 0.0000e+00, 0.0000e+00,\n",
      "        0.0000e+00, 0.0000e+00, 0.0000e+00, 0.0000e+00, 0.0000e+00, 0.0000e+00,\n",
      "        0.0000e+00, 0.0000e+00, 0.0000e+00, 0.0000e+00, 0.0000e+00, 0.0000e+00,\n",
      "        0.0000e+00, 0.0000e+00, 7.7725e-03, 0.0000e+00, 0.0000e+00, 1.5203e-02,\n",
      "        1.7011e-02, 0.0000e+00, 2.9773e-03, 0.0000e+00, 0.0000e+00, 0.0000e+00,\n",
      "        0.0000e+00, 3.6482e-02, 0.0000e+00, 0.0000e+00, 0.0000e+00, 0.0000e+00,\n",
      "        0.0000e+00, 0.0000e+00, 0.0000e+00, 0.0000e+00, 0.0000e+00, 0.0000e+00,\n",
      "        0.0000e+00, 0.0000e+00, 0.0000e+00, 0.0000e+00, 0.0000e+00, 0.0000e+00,\n",
      "        0.0000e+00, 0.0000e+00, 0.0000e+00, 0.0000e+00, 0.0000e+00, 0.0000e+00,\n",
      "        0.0000e+00, 0.0000e+00, 0.0000e+00, 0.0000e+00, 0.0000e+00, 0.0000e+00,\n",
      "        1.5722e-05, 3.1414e-02, 0.0000e+00, 0.0000e+00, 0.0000e+00, 0.0000e+00,\n",
      "        0.0000e+00, 0.0000e+00, 0.0000e+00, 0.0000e+00, 0.0000e+00, 0.0000e+00,\n",
      "        0.0000e+00, 0.0000e+00, 0.0000e+00, 0.0000e+00, 0.0000e+00, 1.7193e-04,\n",
      "        0.0000e+00, 0.0000e+00, 0.0000e+00, 0.0000e+00, 7.1150e-03, 0.0000e+00,\n",
      "        0.0000e+00, 0.0000e+00, 3.0271e-03, 0.0000e+00, 0.0000e+00, 0.0000e+00,\n",
      "        0.0000e+00, 0.0000e+00, 0.0000e+00, 0.0000e+00, 0.0000e+00, 0.0000e+00,\n",
      "        0.0000e+00, 0.0000e+00, 0.0000e+00, 0.0000e+00, 0.0000e+00, 0.0000e+00,\n",
      "        4.0470e-06, 0.0000e+00, 0.0000e+00, 0.0000e+00, 0.0000e+00, 0.0000e+00,\n",
      "        8.1922e-04, 0.0000e+00, 0.0000e+00, 0.0000e+00, 0.0000e+00, 0.0000e+00,\n",
      "        0.0000e+00, 0.0000e+00, 0.0000e+00, 0.0000e+00, 0.0000e+00, 0.0000e+00,\n",
      "        0.0000e+00, 0.0000e+00, 0.0000e+00, 1.8682e-02, 0.0000e+00, 5.3783e-02,\n",
      "        0.0000e+00, 1.9689e-02, 0.0000e+00, 0.0000e+00, 0.0000e+00, 0.0000e+00,\n",
      "        0.0000e+00, 0.0000e+00, 0.0000e+00, 0.0000e+00, 0.0000e+00, 0.0000e+00,\n",
      "        0.0000e+00, 0.0000e+00, 0.0000e+00, 0.0000e+00, 0.0000e+00, 0.0000e+00,\n",
      "        0.0000e+00, 0.0000e+00, 0.0000e+00, 0.0000e+00, 0.0000e+00, 0.0000e+00,\n",
      "        0.0000e+00, 0.0000e+00, 0.0000e+00, 0.0000e+00, 1.4107e-02, 0.0000e+00,\n",
      "        0.0000e+00, 1.0316e-02, 2.6479e-03, 2.7941e-02, 6.5271e-03, 0.0000e+00,\n",
      "        0.0000e+00, 5.0415e-03, 0.0000e+00, 0.0000e+00, 0.0000e+00, 0.0000e+00,\n",
      "        0.0000e+00, 5.9927e-03, 1.1872e-02, 1.9905e-02, 0.0000e+00, 5.9430e-03,\n",
      "        1.9125e-04, 0.0000e+00, 0.0000e+00, 1.4156e-02, 0.0000e+00, 0.0000e+00,\n",
      "        0.0000e+00, 0.0000e+00, 0.0000e+00, 0.0000e+00, 0.0000e+00, 0.0000e+00,\n",
      "        0.0000e+00, 0.0000e+00, 0.0000e+00, 0.0000e+00, 0.0000e+00, 1.3349e-02,\n",
      "        3.1901e-05, 0.0000e+00, 0.0000e+00, 0.0000e+00, 0.0000e+00, 2.2494e-05,\n",
      "        1.8054e-04, 0.0000e+00, 0.0000e+00, 0.0000e+00, 0.0000e+00, 0.0000e+00,\n",
      "        0.0000e+00, 2.6943e-03, 0.0000e+00, 0.0000e+00, 0.0000e+00, 0.0000e+00,\n",
      "        0.0000e+00, 0.0000e+00, 0.0000e+00, 0.0000e+00, 0.0000e+00, 0.0000e+00,\n",
      "        0.0000e+00, 0.0000e+00, 0.0000e+00, 0.0000e+00, 0.0000e+00, 0.0000e+00,\n",
      "        0.0000e+00, 0.0000e+00, 0.0000e+00, 8.5350e-05, 0.0000e+00, 0.0000e+00,\n",
      "        0.0000e+00, 0.0000e+00, 0.0000e+00, 0.0000e+00, 0.0000e+00, 0.0000e+00,\n",
      "        0.0000e+00, 0.0000e+00, 0.0000e+00, 0.0000e+00, 0.0000e+00, 0.0000e+00,\n",
      "        0.0000e+00, 0.0000e+00, 1.8264e-05, 0.0000e+00, 0.0000e+00, 0.0000e+00,\n",
      "        0.0000e+00, 5.0541e-03, 0.0000e+00, 0.0000e+00, 0.0000e+00, 0.0000e+00,\n",
      "        0.0000e+00, 0.0000e+00, 0.0000e+00, 0.0000e+00, 0.0000e+00, 0.0000e+00,\n",
      "        0.0000e+00, 0.0000e+00, 0.0000e+00, 0.0000e+00, 0.0000e+00, 0.0000e+00,\n",
      "        0.0000e+00, 5.6616e-05, 0.0000e+00, 0.0000e+00, 0.0000e+00, 1.3101e-03,\n",
      "        0.0000e+00, 0.0000e+00, 0.0000e+00, 0.0000e+00, 0.0000e+00, 0.0000e+00,\n",
      "        0.0000e+00, 0.0000e+00, 0.0000e+00, 0.0000e+00, 0.0000e+00, 0.0000e+00,\n",
      "        6.2725e-03, 0.0000e+00, 3.3100e-02, 0.0000e+00, 0.0000e+00, 4.3220e-04,\n",
      "        3.3168e-02, 0.0000e+00, 0.0000e+00, 0.0000e+00, 0.0000e+00, 0.0000e+00,\n",
      "        0.0000e+00, 0.0000e+00, 0.0000e+00, 0.0000e+00, 0.0000e+00, 0.0000e+00,\n",
      "        0.0000e+00, 0.0000e+00, 0.0000e+00, 0.0000e+00, 0.0000e+00, 0.0000e+00,\n",
      "        0.0000e+00, 0.0000e+00, 0.0000e+00, 0.0000e+00, 0.0000e+00, 0.0000e+00,\n",
      "        0.0000e+00, 0.0000e+00, 0.0000e+00, 0.0000e+00, 0.0000e+00, 0.0000e+00,\n",
      "        0.0000e+00, 0.0000e+00, 0.0000e+00, 2.8163e-02, 0.0000e+00, 0.0000e+00,\n",
      "        0.0000e+00, 0.0000e+00, 0.0000e+00, 0.0000e+00, 0.0000e+00, 0.0000e+00,\n",
      "        0.0000e+00, 6.4036e-05, 1.1078e-02, 0.0000e+00, 0.0000e+00, 0.0000e+00,\n",
      "        0.0000e+00, 0.0000e+00, 0.0000e+00, 0.0000e+00, 0.0000e+00, 0.0000e+00,\n",
      "        0.0000e+00, 0.0000e+00, 0.0000e+00, 0.0000e+00, 0.0000e+00, 2.6883e-02,\n",
      "        1.7180e-02, 0.0000e+00, 0.0000e+00, 0.0000e+00, 0.0000e+00, 2.1859e-02,\n",
      "        0.0000e+00, 0.0000e+00, 0.0000e+00, 0.0000e+00, 0.0000e+00, 0.0000e+00,\n",
      "        0.0000e+00, 2.0352e-02, 0.0000e+00, 0.0000e+00, 0.0000e+00, 0.0000e+00,\n",
      "        0.0000e+00, 5.9434e-03, 8.4177e-03, 0.0000e+00, 0.0000e+00, 0.0000e+00,\n",
      "        0.0000e+00, 1.1532e-02, 0.0000e+00, 0.0000e+00, 0.0000e+00, 0.0000e+00,\n",
      "        0.0000e+00, 0.0000e+00, 0.0000e+00, 0.0000e+00, 0.0000e+00, 0.0000e+00,\n",
      "        0.0000e+00, 0.0000e+00, 0.0000e+00, 0.0000e+00, 1.4109e-04, 0.0000e+00,\n",
      "        0.0000e+00, 5.5822e-03, 0.0000e+00, 0.0000e+00, 0.0000e+00, 0.0000e+00,\n",
      "        0.0000e+00, 0.0000e+00, 0.0000e+00, 0.0000e+00, 0.0000e+00, 0.0000e+00,\n",
      "        0.0000e+00, 1.4695e-02, 0.0000e+00, 0.0000e+00, 3.9045e-02, 0.0000e+00,\n",
      "        0.0000e+00, 4.8289e-02, 0.0000e+00, 0.0000e+00, 1.5829e-02, 8.2036e-03,\n",
      "        5.5418e-02, 3.7400e-03, 0.0000e+00, 0.0000e+00, 0.0000e+00, 0.0000e+00,\n",
      "        0.0000e+00, 3.3970e-02, 0.0000e+00, 0.0000e+00, 0.0000e+00, 0.0000e+00,\n",
      "        0.0000e+00, 0.0000e+00, 0.0000e+00, 2.3069e-02, 0.0000e+00, 0.0000e+00,\n",
      "        0.0000e+00, 1.2490e-02, 1.1800e-02, 2.7589e-04, 8.6216e-02, 0.0000e+00,\n",
      "        5.6373e-03, 2.0800e-02, 2.3172e-02, 0.0000e+00, 1.4609e-03, 7.1809e-03,\n",
      "        2.6347e-02, 2.3907e-02, 2.0174e-02, 0.0000e+00, 0.0000e+00, 0.0000e+00,\n",
      "        0.0000e+00, 1.5747e-02, 0.0000e+00, 0.0000e+00, 0.0000e+00, 0.0000e+00,\n",
      "        5.1525e-03, 0.0000e+00, 0.0000e+00, 4.1585e-03, 0.0000e+00, 0.0000e+00,\n",
      "        0.0000e+00, 0.0000e+00, 0.0000e+00, 0.0000e+00, 0.0000e+00, 0.0000e+00,\n",
      "        1.4479e-04, 9.6099e-03, 0.0000e+00, 0.0000e+00, 0.0000e+00, 0.0000e+00,\n",
      "        0.0000e+00, 0.0000e+00, 6.4802e-03, 8.7953e-04, 6.5642e-03, 2.4199e-03,\n",
      "        3.0234e-02, 0.0000e+00, 0.0000e+00, 0.0000e+00, 1.2971e-02, 0.0000e+00,\n",
      "        0.0000e+00, 0.0000e+00, 0.0000e+00, 0.0000e+00, 0.0000e+00, 0.0000e+00,\n",
      "        7.1290e-04, 0.0000e+00, 0.0000e+00, 4.3693e-04, 4.9243e-05, 1.7291e-05,\n",
      "        0.0000e+00, 1.3792e-02, 0.0000e+00, 2.1607e-02, 2.8525e-02, 0.0000e+00,\n",
      "        1.3949e-03, 0.0000e+00, 4.6608e-02, 0.0000e+00, 3.6843e-02, 0.0000e+00,\n",
      "        2.2485e-02, 0.0000e+00, 5.2608e-03, 5.1678e-03, 0.0000e+00, 0.0000e+00,\n",
      "        0.0000e+00, 5.8127e-04, 0.0000e+00, 2.6453e-02, 0.0000e+00, 1.9929e-03,\n",
      "        2.0648e-02, 1.5982e-02, 4.7874e-03, 0.0000e+00, 0.0000e+00, 2.5588e-02,\n",
      "        0.0000e+00, 2.3326e-02, 6.0357e-03, 0.0000e+00, 2.5213e-02, 0.0000e+00,\n",
      "        6.0751e-03, 4.5906e-02, 5.0957e-03, 2.4619e-02, 1.1574e-02, 3.1826e-02,\n",
      "        3.4968e-02, 2.1705e-03, 1.3437e-02, 1.9312e-02, 2.1270e-04, 1.4412e-02,\n",
      "        4.2576e-02, 5.6928e-02, 1.3515e-02, 2.4774e-02, 2.1185e-02, 3.4609e-02,\n",
      "        3.0313e-02, 0.0000e+00, 4.4664e-02, 3.1917e-02, 3.5000e-02, 2.2657e-02,\n",
      "        1.0934e-02, 2.1476e-02, 7.9610e-04, 1.2049e-02, 7.9715e-03, 1.3021e-02,\n",
      "        3.5047e-02, 3.1474e-02, 5.8083e-02, 6.8391e-02, 5.4315e-02, 3.4949e-02,\n",
      "        6.0856e-03, 1.0559e-02, 1.2629e-02, 3.5054e-02, 2.6968e-03, 5.5522e-02,\n",
      "        5.0957e-03, 8.8743e-03, 8.4525e-03, 2.0718e-02, 4.3019e-02, 1.1372e-02,\n",
      "        2.9972e-02, 5.5533e-02, 2.2406e-02, 3.3025e-02, 1.6221e-02, 2.6820e-02,\n",
      "        4.4648e-02, 2.1053e-02, 1.5741e-02, 3.2666e-02, 3.0608e-02, 3.7275e-02,\n",
      "        2.7929e-02, 5.8913e-02, 9.1561e-02, 1.6829e-02, 1.1005e-01, 3.6130e-02,\n",
      "        3.6895e-02, 8.3585e-02, 2.3405e-02, 2.3292e-02, 3.2896e-02, 3.5798e-02,\n",
      "        0.0000e+00, 1.8935e-02, 4.8200e-02, 1.0525e-01, 3.6705e-01, 7.6330e-02,\n",
      "        4.7015e-02, 2.8292e-02, 1.8028e-02, 6.3723e-03, 4.6474e-02, 4.0678e-02,\n",
      "        2.4789e-02, 3.1812e-02, 4.2624e-02, 1.4412e-02, 3.2313e-02, 1.3251e-01,\n",
      "        4.5053e-02, 1.3057e-02, 3.7504e-02, 5.1976e-02, 9.2242e-02, 9.3991e-03,\n",
      "        7.1362e-02, 4.2357e-02, 2.4543e-02, 2.7896e-02, 4.0206e-02, 2.2868e-02,\n",
      "        6.0426e-02, 1.6147e-01, 2.5982e-02, 4.4950e-02, 3.5280e-02, 5.8647e-02,\n",
      "        4.3385e-02, 2.2180e-02, 3.7688e-02, 7.2277e-02, 3.7075e-02, 3.4001e-02,\n",
      "        5.2856e-02, 2.6344e-02, 9.0390e-02, 4.7550e-02, 1.2271e-01, 5.1272e-02,\n",
      "        6.4475e-02, 9.5558e-02, 6.1106e-02, 3.0068e-02, 9.5262e-02, 5.6597e-02,\n",
      "        5.2116e-02, 3.2072e-02, 6.8492e-02, 5.0880e-02, 6.3686e-02, 6.7823e-02,\n",
      "        1.1175e-01, 7.0599e-02, 9.4558e-02, 1.9589e-02, 2.9333e-02, 2.2481e-02,\n",
      "        4.4091e-02, 2.1074e-02, 2.2797e-02, 9.7484e-02, 2.0928e-02, 9.1300e-02,\n",
      "        2.1861e-01, 4.4428e-02, 6.2029e-02, 8.2456e-02, 7.0437e-02, 9.7977e-03,\n",
      "        2.6014e-02, 3.4136e-02, 4.1070e-02, 7.8499e-02, 5.4090e-02, 3.2804e-02,\n",
      "        5.0240e-02, 4.0064e-02, 2.9837e-02, 1.8140e-02, 9.2701e-02, 7.6263e-02,\n",
      "        2.3219e-02, 7.8015e-02, 2.4943e-02, 3.0097e-02, 9.0604e-02, 5.6620e-02,\n",
      "        1.8423e-02, 3.0661e-02, 9.8502e-02, 1.5230e-01, 1.4416e-01, 5.1030e-02,\n",
      "        3.1064e-02, 9.3118e-02, 3.9549e-02, 3.8524e-02, 4.1821e-02, 5.0790e-02,\n",
      "        5.7880e-02, 1.1039e-01, 7.5172e-02, 9.2380e-02, 3.5684e-02, 6.4819e-02,\n",
      "        5.0010e-02, 1.2364e-01, 6.3162e-02, 3.5497e-02, 5.1854e-02, 9.2869e-02,\n",
      "        8.5154e-02, 3.9691e-02, 1.6396e-01, 7.4397e-02, 9.5833e-03, 2.9814e-02,\n",
      "        8.6599e-02, 7.2925e-02, 1.9760e-01, 2.0956e-01, 4.8174e-02, 4.6632e-02,\n",
      "        5.0025e-02, 7.5771e-02, 5.2117e-02, 5.9196e-02, 1.2933e-01, 2.4563e-02,\n",
      "        5.3311e-02, 3.2707e-02, 1.7371e-01, 9.4913e-02, 4.3267e-02, 5.3823e-02,\n",
      "        6.0141e-02, 6.2504e-02, 8.2523e-02, 3.3514e-02, 5.9750e-02, 4.2294e-02,\n",
      "        5.3274e-02, 2.7189e-02, 5.4033e-02, 8.9879e-02, 8.0047e-02, 7.0346e-02,\n",
      "        6.7580e-02, 1.0092e-01, 8.5359e-02, 6.6346e-02, 1.2865e-01, 1.3662e-01,\n",
      "        2.4474e-01, 6.2260e-02, 5.3863e-02, 1.0845e-01, 1.5933e-01, 9.2137e-02,\n",
      "        1.6773e-01, 1.0926e-01, 6.1977e-02, 8.8541e-02, 4.2709e-01, 2.6411e-01,\n",
      "        8.4945e-02, 2.8119e-02, 2.6181e-01, 1.0002e-01, 1.6185e-01, 1.3663e-01,\n",
      "        3.4899e-01, 3.8527e-02, 3.3236e-01, 1.1149e-01, 3.9471e-02, 9.3583e-02,\n",
      "        9.6149e-02, 1.5416e-01, 7.4610e-02, 5.6987e-02, 1.3619e-01, 4.3437e-02,\n",
      "        1.4628e-01, 3.9507e-01, 4.0703e-01, 2.9590e-01, 1.0766e-01, 4.1565e-02,\n",
      "        1.7021e-01, 1.4347e-01, 8.2669e-02, 8.8699e-02, 5.5387e-01, 1.7302e-01,\n",
      "        2.4650e-01, 1.5848e-01, 8.7434e-02, 5.1116e-02, 6.4105e-02, 1.3978e-01,\n",
      "        1.2590e-01, 2.9330e-01, 4.7617e-01, 8.8480e-02, 9.7488e-02, 5.5730e-01,\n",
      "        1.4031e-01, 5.9552e-02, 9.9997e-02, 1.1225e-01, 5.5464e-01, 4.6245e-02,\n",
      "        3.6137e-01, 2.2571e-01, 8.1201e-02, 1.0990e-01, 1.2827e-01, 1.1757e-01]) tensor(0.5573) tensor(25.6031)\n",
      "Chosen edges: tensor([[  11,   13,    8,   12,    7,   13,    3,   10,    0,   13,    3,    8,\n",
      "            9,    4,   11,    4,   13,   12,   12,    0,   12,   10,    8,   13,\n",
      "            3,   12,    4,   14,   14,    5,    9,   10,    6,   12,   14,   13,\n",
      "            3,   12,   12,    1,    1,   12,    0,    0,    9,    4,    6,   12,\n",
      "            0,   12,    8,   12,    0,    4,    7,   14,    7,   10,    6,    6,\n",
      "            5,    6,    4,    4,   10,    5,   11,    8,    3,    5,   13,    8,\n",
      "           14,   11,   14,    3,    4,    4,   12,    1,   12,    3,   13,    1,\n",
      "            0,    4,    3,    7,    6,   10,    5,    5,    8,   14,    3,    4,\n",
      "           14,   14,    3,    4,   10,    3,   10,    4,    7,   10,    6,    1,\n",
      "            7,   11,    1,    1,    4,    4,    4,   10,   10,   10,   10,   10,\n",
      "            3,    9,   13,    3,    4,    3,   11,    9,    1,    4,    8,   10,\n",
      "            6,    8,   10,    8,    6,   11,    6,   10,    1,    3,    3,    4,\n",
      "            4,    4,    5,    5,    5,    8,    8,    8,    8,    8,   10,   10,\n",
      "           10,   10,   10,   10,   12,   12],\n",
      "        [ 580, 1334, 1471, 2400, 2661, 2668, 2680, 2804, 2815, 2839, 2842, 2851,\n",
      "         2855, 2883, 2886, 2887, 2969, 3031, 3032, 3036, 3052, 3054, 3061, 3067,\n",
      "         3071, 3077, 3079, 3083, 3084, 3087, 3088, 3102, 3104, 3106, 3108, 3111,\n",
      "         3112, 3116, 3119, 3121, 3122, 3198, 3200, 3201, 3203, 3204, 3205, 3210,\n",
      "         3211, 3214, 3218, 3220, 3222, 3226, 3227, 3230, 3232, 3233, 3234, 3237,\n",
      "         3241, 3242, 3243, 3244, 3246, 3248, 3249, 3250, 3251, 3253, 3254, 3255,\n",
      "         3257, 3258, 3261, 3262, 3263, 3264, 3267, 3268, 3269, 3270, 3272, 3274,\n",
      "         3276, 3277, 3279, 3281, 3282, 3283, 3285, 3289, 3293, 3294, 3295, 3296,\n",
      "         3301, 3304, 3305, 3306, 3307, 3308, 3309, 3310, 3311, 3313, 3315, 3317,\n",
      "         3319, 3320, 3321, 3322, 3328, 3329, 3330, 3342, 3344, 3349, 3350, 3351,\n",
      "         3355, 3356, 3358, 3359, 3360, 3361, 3362, 3363, 3365, 3366, 3367, 3368,\n",
      "         3369, 3371, 3372, 3373, 3374, 3375, 3376, 3377, 3378, 3379, 3380, 3381,\n",
      "         3382, 3383, 3384, 3385, 3386, 3387, 3388, 3389, 3390, 3391, 3392, 3393,\n",
      "         3395, 3396, 3397, 3398, 3399, 3400]]) 162\n"
     ]
    },
    {
     "name": "stderr",
     "output_type": "stream",
     "text": [
      "100%|██████████| 51/51 [00:06<00:00,  8.33it/s]\n"
     ]
    },
    {
     "name": "stdout",
     "output_type": "stream",
     "text": [
      "Fine-Tune Epoch 1/10 | Train Loss: 2.0042 | Val Loss: 1.9168\n"
     ]
    },
    {
     "name": "stderr",
     "output_type": "stream",
     "text": [
      "100%|██████████| 51/51 [00:06<00:00,  7.62it/s]\n"
     ]
    },
    {
     "name": "stdout",
     "output_type": "stream",
     "text": [
      "Fine-Tune Epoch 2/10 | Train Loss: 1.9724 | Val Loss: 1.9065\n"
     ]
    },
    {
     "name": "stderr",
     "output_type": "stream",
     "text": [
      "100%|██████████| 51/51 [00:06<00:00,  8.34it/s]\n"
     ]
    },
    {
     "name": "stdout",
     "output_type": "stream",
     "text": [
      "Fine-Tune Epoch 3/10 | Train Loss: 1.9679 | Val Loss: 1.8976\n"
     ]
    },
    {
     "name": "stderr",
     "output_type": "stream",
     "text": [
      "100%|██████████| 51/51 [00:06<00:00,  8.04it/s]\n"
     ]
    },
    {
     "name": "stdout",
     "output_type": "stream",
     "text": [
      "Fine-Tune Epoch 4/10 | Train Loss: 1.9615 | Val Loss: 1.8924\n"
     ]
    },
    {
     "name": "stderr",
     "output_type": "stream",
     "text": [
      "100%|██████████| 51/51 [00:06<00:00,  8.30it/s]\n"
     ]
    },
    {
     "name": "stdout",
     "output_type": "stream",
     "text": [
      "Fine-Tune Epoch 5/10 | Train Loss: 1.9513 | Val Loss: 1.8870\n"
     ]
    },
    {
     "name": "stderr",
     "output_type": "stream",
     "text": [
      "100%|██████████| 51/51 [00:06<00:00,  7.57it/s]\n"
     ]
    },
    {
     "name": "stdout",
     "output_type": "stream",
     "text": [
      "Fine-Tune Epoch 6/10 | Train Loss: 1.9511 | Val Loss: 1.8825\n"
     ]
    },
    {
     "name": "stderr",
     "output_type": "stream",
     "text": [
      "100%|██████████| 51/51 [00:06<00:00,  8.42it/s]\n"
     ]
    },
    {
     "name": "stdout",
     "output_type": "stream",
     "text": [
      "Fine-Tune Epoch 7/10 | Train Loss: 1.9461 | Val Loss: 1.8769\n"
     ]
    },
    {
     "name": "stderr",
     "output_type": "stream",
     "text": [
      "100%|██████████| 51/51 [00:06<00:00,  8.06it/s]\n"
     ]
    },
    {
     "name": "stdout",
     "output_type": "stream",
     "text": [
      "Fine-Tune Epoch 8/10 | Train Loss: 1.9463 | Val Loss: 1.8783\n"
     ]
    },
    {
     "name": "stderr",
     "output_type": "stream",
     "text": [
      "100%|██████████| 51/51 [00:06<00:00,  8.46it/s]\n"
     ]
    },
    {
     "name": "stdout",
     "output_type": "stream",
     "text": [
      "Fine-Tune Epoch 9/10 | Train Loss: 1.9367 | Val Loss: 1.8723\n"
     ]
    },
    {
     "name": "stderr",
     "output_type": "stream",
     "text": [
      "100%|██████████| 51/51 [00:06<00:00,  8.42it/s]\n"
     ]
    },
    {
     "name": "stdout",
     "output_type": "stream",
     "text": [
      "Fine-Tune Epoch 10/10 | Train Loss: 1.9363 | Val Loss: 1.8711\n"
     ]
    },
    {
     "name": "stderr",
     "output_type": "stream",
     "text": [
      "100%|██████████| 51/51 [00:07<00:00,  6.76it/s]\n"
     ]
    },
    {
     "name": "stdout",
     "output_type": "stream",
     "text": [
      "Epoch 50/50 | Train Loss: 1.9346 | Val Loss: 24.2499 | Val Accuracy: 0.3581\n",
      "Edge metrics: tensor([1.0750e-02, 5.2675e-03, 2.9596e-07, 4.2136e-03, 9.7508e-03, 1.2085e-02,\n",
      "        1.2975e-02, 1.0974e-02, 1.0371e-02, 2.1659e-03, 6.4524e-03, 2.7909e-03,\n",
      "        2.1295e-03, 1.1865e-02, 1.1899e-03, 3.6266e-03, 5.6196e-03, 5.6809e-03,\n",
      "        1.9624e-03, 5.2485e-03, 7.9183e-04, 3.7687e-03, 4.1213e-03, 8.1900e-04,\n",
      "        1.5893e-02, 7.6048e-03, 1.1978e-02, 1.4853e-02, 2.8070e-03, 6.2901e-03,\n",
      "        5.4480e-06, 7.0476e-03, 4.4972e-03, 2.2575e-03, 2.2099e-03, 5.0752e-03,\n",
      "        2.4522e-07, 6.7883e-03, 5.1669e-03, 4.4202e-03, 5.0033e-03, 8.9231e-03,\n",
      "        8.2463e-03, 1.0176e-02, 5.9178e-04, 7.2129e-03, 1.1787e-03, 8.5178e-04,\n",
      "        8.6593e-03, 2.4666e-05, 3.2433e-03, 6.9593e-03, 3.7399e-03, 1.1052e-02,\n",
      "        2.3585e-06, 5.9324e-03, 2.4485e-03, 1.0250e-03, 2.9513e-02, 1.1543e-02,\n",
      "        5.4787e-04, 3.5902e-02, 1.9279e-05, 7.6952e-03, 8.1931e-03, 1.4226e-03,\n",
      "        2.3347e-02, 2.3278e-02, 2.3275e-03, 6.0462e-05, 2.4750e-02, 1.0654e-02,\n",
      "        1.1403e-02, 4.3394e-03, 1.0399e-02, 1.3008e-02, 4.7719e-06, 3.5168e-02,\n",
      "        2.1744e-02, 7.5930e-04, 7.5550e-03, 3.4614e-03, 2.3652e-04, 7.8860e-03,\n",
      "        6.7227e-05, 3.9749e-03, 1.3433e-02, 3.2028e-04, 2.3464e-04, 1.0533e-02,\n",
      "        3.5247e-04, 1.5374e-02, 7.8461e-05, 1.3575e-02, 3.2085e-02, 7.7282e-03,\n",
      "        0.0000e+00, 0.0000e+00, 0.0000e+00, 0.0000e+00, 0.0000e+00, 0.0000e+00,\n",
      "        0.0000e+00, 0.0000e+00, 0.0000e+00, 0.0000e+00, 0.0000e+00, 0.0000e+00,\n",
      "        0.0000e+00, 0.0000e+00, 0.0000e+00, 0.0000e+00, 5.6760e-04, 0.0000e+00,\n",
      "        0.0000e+00, 1.9155e-02, 0.0000e+00, 0.0000e+00, 0.0000e+00, 0.0000e+00,\n",
      "        0.0000e+00, 0.0000e+00, 0.0000e+00, 0.0000e+00, 0.0000e+00, 0.0000e+00,\n",
      "        5.2216e-03, 0.0000e+00, 0.0000e+00, 1.5924e-02, 0.0000e+00, 0.0000e+00,\n",
      "        0.0000e+00, 0.0000e+00, 0.0000e+00, 0.0000e+00, 0.0000e+00, 0.0000e+00,\n",
      "        0.0000e+00, 0.0000e+00, 0.0000e+00, 0.0000e+00, 0.0000e+00, 0.0000e+00,\n",
      "        0.0000e+00, 0.0000e+00, 1.1656e-02, 0.0000e+00, 0.0000e+00, 2.0391e-02,\n",
      "        2.3617e-02, 0.0000e+00, 4.0136e-03, 0.0000e+00, 0.0000e+00, 0.0000e+00,\n",
      "        0.0000e+00, 5.5519e-02, 0.0000e+00, 0.0000e+00, 0.0000e+00, 0.0000e+00,\n",
      "        0.0000e+00, 0.0000e+00, 0.0000e+00, 0.0000e+00, 0.0000e+00, 0.0000e+00,\n",
      "        0.0000e+00, 0.0000e+00, 0.0000e+00, 0.0000e+00, 0.0000e+00, 0.0000e+00,\n",
      "        0.0000e+00, 0.0000e+00, 0.0000e+00, 0.0000e+00, 0.0000e+00, 0.0000e+00,\n",
      "        0.0000e+00, 0.0000e+00, 0.0000e+00, 0.0000e+00, 0.0000e+00, 0.0000e+00,\n",
      "        6.5758e-06, 2.9712e-02, 0.0000e+00, 0.0000e+00, 0.0000e+00, 0.0000e+00,\n",
      "        0.0000e+00, 0.0000e+00, 0.0000e+00, 0.0000e+00, 0.0000e+00, 0.0000e+00,\n",
      "        0.0000e+00, 0.0000e+00, 0.0000e+00, 0.0000e+00, 0.0000e+00, 1.9553e-04,\n",
      "        0.0000e+00, 0.0000e+00, 0.0000e+00, 0.0000e+00, 9.6952e-03, 0.0000e+00,\n",
      "        0.0000e+00, 0.0000e+00, 2.7003e-03, 0.0000e+00, 0.0000e+00, 0.0000e+00,\n",
      "        0.0000e+00, 0.0000e+00, 0.0000e+00, 0.0000e+00, 0.0000e+00, 0.0000e+00,\n",
      "        0.0000e+00, 0.0000e+00, 0.0000e+00, 0.0000e+00, 0.0000e+00, 0.0000e+00,\n",
      "        4.7019e-06, 0.0000e+00, 0.0000e+00, 0.0000e+00, 0.0000e+00, 0.0000e+00,\n",
      "        0.0000e+00, 0.0000e+00, 0.0000e+00, 0.0000e+00, 0.0000e+00, 0.0000e+00,\n",
      "        0.0000e+00, 0.0000e+00, 0.0000e+00, 0.0000e+00, 0.0000e+00, 0.0000e+00,\n",
      "        0.0000e+00, 0.0000e+00, 0.0000e+00, 2.1579e-02, 0.0000e+00, 0.0000e+00,\n",
      "        2.1801e-02, 0.0000e+00, 0.0000e+00, 0.0000e+00, 0.0000e+00, 0.0000e+00,\n",
      "        0.0000e+00, 0.0000e+00, 0.0000e+00, 0.0000e+00, 0.0000e+00, 0.0000e+00,\n",
      "        0.0000e+00, 0.0000e+00, 0.0000e+00, 0.0000e+00, 0.0000e+00, 0.0000e+00,\n",
      "        0.0000e+00, 0.0000e+00, 0.0000e+00, 0.0000e+00, 0.0000e+00, 0.0000e+00,\n",
      "        0.0000e+00, 0.0000e+00, 0.0000e+00, 1.8362e-02, 0.0000e+00, 0.0000e+00,\n",
      "        2.0198e-02, 4.8184e-03, 4.4444e-02, 1.2212e-02, 0.0000e+00, 0.0000e+00,\n",
      "        5.2217e-03, 0.0000e+00, 0.0000e+00, 0.0000e+00, 0.0000e+00, 0.0000e+00,\n",
      "        8.6456e-03, 1.8986e-02, 2.9029e-02, 0.0000e+00, 4.6047e-03, 3.4790e-04,\n",
      "        0.0000e+00, 0.0000e+00, 1.8102e-02, 0.0000e+00, 0.0000e+00, 0.0000e+00,\n",
      "        0.0000e+00, 0.0000e+00, 0.0000e+00, 0.0000e+00, 0.0000e+00, 0.0000e+00,\n",
      "        0.0000e+00, 0.0000e+00, 0.0000e+00, 0.0000e+00, 1.5702e-02, 2.6307e-05,\n",
      "        0.0000e+00, 0.0000e+00, 0.0000e+00, 0.0000e+00, 2.2456e-05, 0.0000e+00,\n",
      "        0.0000e+00, 0.0000e+00, 0.0000e+00, 0.0000e+00, 0.0000e+00, 0.0000e+00,\n",
      "        2.2888e-03, 0.0000e+00, 0.0000e+00, 0.0000e+00, 0.0000e+00, 0.0000e+00,\n",
      "        0.0000e+00, 0.0000e+00, 0.0000e+00, 0.0000e+00, 0.0000e+00, 0.0000e+00,\n",
      "        0.0000e+00, 0.0000e+00, 0.0000e+00, 0.0000e+00, 0.0000e+00, 0.0000e+00,\n",
      "        0.0000e+00, 0.0000e+00, 6.2195e-05, 0.0000e+00, 0.0000e+00, 0.0000e+00,\n",
      "        0.0000e+00, 0.0000e+00, 0.0000e+00, 0.0000e+00, 0.0000e+00, 0.0000e+00,\n",
      "        0.0000e+00, 0.0000e+00, 0.0000e+00, 0.0000e+00, 0.0000e+00, 0.0000e+00,\n",
      "        0.0000e+00, 0.0000e+00, 0.0000e+00, 0.0000e+00, 0.0000e+00, 0.0000e+00,\n",
      "        4.1912e-03, 0.0000e+00, 0.0000e+00, 0.0000e+00, 0.0000e+00, 0.0000e+00,\n",
      "        0.0000e+00, 0.0000e+00, 0.0000e+00, 0.0000e+00, 0.0000e+00, 0.0000e+00,\n",
      "        0.0000e+00, 0.0000e+00, 0.0000e+00, 0.0000e+00, 0.0000e+00, 0.0000e+00,\n",
      "        5.1319e-05, 0.0000e+00, 0.0000e+00, 0.0000e+00, 1.3629e-03, 0.0000e+00,\n",
      "        0.0000e+00, 0.0000e+00, 0.0000e+00, 0.0000e+00, 0.0000e+00, 0.0000e+00,\n",
      "        0.0000e+00, 0.0000e+00, 0.0000e+00, 0.0000e+00, 0.0000e+00, 5.4802e-03,\n",
      "        0.0000e+00, 5.6047e-02, 0.0000e+00, 0.0000e+00, 5.5057e-04, 4.3382e-02,\n",
      "        0.0000e+00, 0.0000e+00, 0.0000e+00, 0.0000e+00, 0.0000e+00, 0.0000e+00,\n",
      "        0.0000e+00, 0.0000e+00, 0.0000e+00, 0.0000e+00, 0.0000e+00, 0.0000e+00,\n",
      "        0.0000e+00, 0.0000e+00, 0.0000e+00, 0.0000e+00, 0.0000e+00, 0.0000e+00,\n",
      "        0.0000e+00, 0.0000e+00, 0.0000e+00, 0.0000e+00, 0.0000e+00, 0.0000e+00,\n",
      "        0.0000e+00, 0.0000e+00, 0.0000e+00, 0.0000e+00, 0.0000e+00, 0.0000e+00,\n",
      "        0.0000e+00, 0.0000e+00, 3.6065e-02, 0.0000e+00, 0.0000e+00, 0.0000e+00,\n",
      "        0.0000e+00, 0.0000e+00, 0.0000e+00, 0.0000e+00, 0.0000e+00, 0.0000e+00,\n",
      "        7.4191e-05, 2.1356e-02, 0.0000e+00, 0.0000e+00, 0.0000e+00, 0.0000e+00,\n",
      "        0.0000e+00, 0.0000e+00, 0.0000e+00, 0.0000e+00, 0.0000e+00, 0.0000e+00,\n",
      "        0.0000e+00, 0.0000e+00, 0.0000e+00, 0.0000e+00, 2.3449e-02, 2.2848e-02,\n",
      "        0.0000e+00, 0.0000e+00, 0.0000e+00, 0.0000e+00, 2.2576e-02, 0.0000e+00,\n",
      "        0.0000e+00, 0.0000e+00, 0.0000e+00, 0.0000e+00, 0.0000e+00, 0.0000e+00,\n",
      "        1.4438e-02, 0.0000e+00, 0.0000e+00, 0.0000e+00, 0.0000e+00, 0.0000e+00,\n",
      "        5.4157e-03, 1.2447e-02, 0.0000e+00, 0.0000e+00, 0.0000e+00, 0.0000e+00,\n",
      "        2.1778e-02, 0.0000e+00, 0.0000e+00, 0.0000e+00, 0.0000e+00, 0.0000e+00,\n",
      "        0.0000e+00, 0.0000e+00, 0.0000e+00, 0.0000e+00, 0.0000e+00, 0.0000e+00,\n",
      "        0.0000e+00, 0.0000e+00, 0.0000e+00, 0.0000e+00, 0.0000e+00, 0.0000e+00,\n",
      "        3.7108e-03, 0.0000e+00, 0.0000e+00, 0.0000e+00, 0.0000e+00, 0.0000e+00,\n",
      "        0.0000e+00, 0.0000e+00, 0.0000e+00, 0.0000e+00, 0.0000e+00, 0.0000e+00,\n",
      "        2.2699e-02, 0.0000e+00, 0.0000e+00, 5.7190e-02, 0.0000e+00, 0.0000e+00,\n",
      "        5.7820e-02, 0.0000e+00, 0.0000e+00, 1.4601e-02, 8.5897e-03, 5.9630e-03,\n",
      "        0.0000e+00, 0.0000e+00, 0.0000e+00, 0.0000e+00, 0.0000e+00, 5.9012e-02,\n",
      "        0.0000e+00, 0.0000e+00, 0.0000e+00, 0.0000e+00, 0.0000e+00, 0.0000e+00,\n",
      "        0.0000e+00, 2.7734e-02, 0.0000e+00, 0.0000e+00, 0.0000e+00, 1.1904e-02,\n",
      "        2.3696e-02, 2.4779e-05, 0.0000e+00, 6.9298e-03, 1.9728e-02, 1.6428e-02,\n",
      "        0.0000e+00, 1.0408e-03, 3.1430e-03, 1.3779e-02, 3.8321e-02, 2.6389e-02,\n",
      "        0.0000e+00, 0.0000e+00, 0.0000e+00, 0.0000e+00, 1.6917e-02, 0.0000e+00,\n",
      "        0.0000e+00, 0.0000e+00, 0.0000e+00, 5.8831e-03, 0.0000e+00, 0.0000e+00,\n",
      "        4.0167e-03, 0.0000e+00, 0.0000e+00, 0.0000e+00, 0.0000e+00, 0.0000e+00,\n",
      "        0.0000e+00, 0.0000e+00, 0.0000e+00, 1.4820e-04, 1.0855e-02, 0.0000e+00,\n",
      "        0.0000e+00, 0.0000e+00, 0.0000e+00, 0.0000e+00, 0.0000e+00, 4.1910e-03,\n",
      "        9.6262e-04, 6.7658e-03, 5.9557e-04, 4.6113e-02, 0.0000e+00, 0.0000e+00,\n",
      "        0.0000e+00, 1.0287e-02, 0.0000e+00, 0.0000e+00, 0.0000e+00, 0.0000e+00,\n",
      "        0.0000e+00, 0.0000e+00, 0.0000e+00, 8.7893e-04, 0.0000e+00, 0.0000e+00,\n",
      "        2.9510e-04, 5.9361e-05, 2.0851e-05, 0.0000e+00, 1.8292e-02, 0.0000e+00,\n",
      "        2.3160e-02, 3.1000e-02, 0.0000e+00, 1.2239e-03, 0.0000e+00, 6.6722e-02,\n",
      "        0.0000e+00, 5.8279e-02, 0.0000e+00, 2.1221e-02, 0.0000e+00, 4.6187e-03,\n",
      "        3.3699e-03, 0.0000e+00, 0.0000e+00, 0.0000e+00, 5.4044e-04, 0.0000e+00,\n",
      "        3.4685e-02, 0.0000e+00, 1.6909e-03, 2.0762e-02, 9.7183e-03, 5.1278e-03,\n",
      "        0.0000e+00, 0.0000e+00, 2.4059e-02, 0.0000e+00, 2.5834e-02, 6.7660e-03,\n",
      "        0.0000e+00, 2.3594e-02, 0.0000e+00, 8.0452e-03, 6.5189e-02, 2.5435e-03,\n",
      "        2.9710e-02, 1.1268e-02, 4.6651e-02, 1.8311e-02, 2.5798e-03, 1.9575e-02,\n",
      "        3.6507e-02, 0.0000e+00, 1.4416e-02, 4.7221e-02, 2.9928e-02, 2.9301e-02,\n",
      "        4.4038e-02, 8.3813e-02, 5.3854e-02, 0.0000e+00, 5.0565e-02, 4.1924e-02,\n",
      "        6.5545e-02, 4.0993e-02, 1.3538e-02, 3.2894e-02, 6.2365e-04, 7.1185e-03,\n",
      "        5.7395e-03, 1.4694e-02, 3.8231e-02, 2.9664e-02, 3.7312e-02, 3.9397e-03,\n",
      "        8.3638e-03, 8.1728e-03, 3.7617e-02, 2.3316e-03, 3.7164e-03, 5.2779e-03,\n",
      "        9.9722e-03, 4.5669e-02, 7.6529e-02, 1.4375e-02, 4.5926e-02, 2.3406e-02,\n",
      "        3.7362e-02, 2.0358e-02, 4.5454e-02, 2.6595e-02, 5.8631e-02, 2.1449e-02,\n",
      "        2.8625e-02, 3.4182e-02, 5.7134e-02, 3.8199e-02, 2.5024e-02, 3.3815e-02,\n",
      "        3.7862e-02, 2.9016e-02, 3.0102e-02, 3.7878e-02, 3.4900e-02, 0.0000e+00,\n",
      "        1.5879e-02, 5.2077e-02, 6.7942e-02, 3.1068e-02, 2.3165e-02, 9.9489e-03,\n",
      "        4.6968e-02, 6.9247e-02, 4.6963e-02, 3.1103e-02, 5.7920e-02, 1.9908e-02,\n",
      "        5.3372e-02, 8.6503e-02, 1.2437e-02, 5.3752e-02, 1.1852e-02, 5.3665e-02,\n",
      "        4.0076e-02, 5.1299e-02, 3.8971e-02, 2.0357e-02, 3.1373e-02, 3.0558e-02,\n",
      "        3.2854e-02, 5.9536e-02, 2.1461e-02, 3.9951e-02, 2.6986e-02, 3.6996e-02,\n",
      "        3.0405e-02, 4.2258e-02, 3.9976e-02, 5.1208e-02, 8.8205e-02, 2.8512e-02,\n",
      "        8.7574e-02, 5.7137e-02, 3.1818e-02, 3.2847e-02, 3.8511e-02, 8.7694e-02,\n",
      "        1.6921e-02, 1.9210e-02, 4.4478e-02, 3.4609e-02, 6.4807e-02, 4.6090e-02,\n",
      "        4.6961e-02, 7.6812e-02, 8.0427e-02, 6.4901e-02, 4.5509e-02, 3.5271e-02,\n",
      "        5.4258e-02, 3.9486e-02, 1.0458e-01, 3.5685e-02, 7.3543e-02, 3.7671e-02,\n",
      "        5.7106e-02, 4.7471e-02, 3.1536e-02, 3.4531e-02, 1.0927e-01, 6.2543e-02,\n",
      "        2.6989e-02, 6.9007e-02, 6.4786e-02, 5.0059e-02, 6.5381e-02, 4.5461e-02,\n",
      "        1.2932e-01, 5.9603e-02, 5.3810e-02, 6.3225e-02, 5.6784e-02, 1.0351e-01,\n",
      "        2.2074e-02, 4.2625e-02, 1.3025e-01, 4.5684e-02, 4.2010e-02, 4.3410e-02,\n",
      "        5.7408e-02, 4.4372e-02, 7.3997e-02, 4.7786e-02, 5.1488e-02, 7.9666e-02,\n",
      "        1.1833e-01, 1.3909e-01, 1.7274e-01, 1.0306e-01, 7.2454e-02, 2.6394e-02,\n",
      "        9.4201e-02, 3.4774e-02, 4.6377e-02, 1.4306e-01, 4.8928e-02, 4.7334e-02,\n",
      "        1.4114e-01, 9.9886e-02, 6.0545e-02, 4.1313e-02, 4.5568e-02, 5.3603e-02,\n",
      "        1.4142e-02, 5.3955e-02, 7.9665e-02, 4.9072e-02, 7.5613e-03, 2.8334e-02,\n",
      "        1.2149e-01, 5.4784e-02, 9.0889e-02, 1.0910e-02, 1.1857e-01, 7.9321e-02,\n",
      "        8.6548e-02, 8.7719e-02, 1.0253e-01, 1.5397e-01, 4.7116e-02, 1.9485e-02,\n",
      "        3.0382e-02, 4.5371e-02, 1.0832e-01, 1.4530e-01, 7.8224e-02, 1.5737e-01,\n",
      "        7.3632e-02, 4.1939e-02, 7.0990e-02, 3.2813e-01, 4.4317e-02, 5.3182e-02,\n",
      "        5.9537e-02, 1.0236e-01, 3.3068e-01, 8.0775e-02, 1.6040e-01, 1.1833e-01,\n",
      "        1.4303e-02, 8.2004e-02, 1.1988e-01, 5.0989e-02, 8.6327e-02, 1.9627e-02,\n",
      "        9.2588e-02, 1.6702e-02, 1.2120e-01, 8.8558e-02, 6.6102e-02, 1.8955e-01,\n",
      "        6.6943e-03, 4.7975e-02, 6.7129e-02, 4.5783e-02, 8.6961e-02, 6.3772e-02,\n",
      "        5.5640e-02, 1.2410e-01, 5.2591e-02, 6.4113e-02, 6.1463e-02, 1.1090e-01,\n",
      "        3.4498e-01, 6.6328e-02, 3.2484e-02, 1.1228e-01, 1.9389e-01, 1.5735e-01,\n",
      "        4.9232e-02, 6.3738e-02, 3.5315e-02, 5.3868e-02, 2.2061e-01, 1.0818e-01,\n",
      "        2.3683e-01, 1.0096e-01, 1.4405e-02, 2.4549e-01, 1.6584e-01, 1.7242e-01,\n",
      "        9.1234e-02, 1.3438e-01, 9.5761e-02, 3.0714e-02, 2.6494e-01, 6.4818e-01,\n",
      "        7.7768e-02, 1.6618e-01, 4.6020e-02, 3.8673e-01, 9.8462e-02, 1.6134e-01,\n",
      "        5.4043e-01, 1.7276e-01, 8.0426e-02, 1.8488e-02, 2.0269e-01, 6.9545e-02,\n",
      "        3.1106e-02, 1.2031e-01, 1.7398e-01, 1.3864e-01, 1.2954e-01, 3.6630e-01,\n",
      "        1.3831e-01, 1.2562e-01, 2.6042e-01, 2.3143e-01, 1.6289e-01, 3.2273e-01,\n",
      "        8.9788e-02, 7.8744e-02, 1.3734e-01, 8.7428e-02, 1.0461e-01, 5.0851e-02,\n",
      "        1.9445e-01, 6.5142e-02, 3.7212e-01, 4.7723e-01, 1.2310e-01, 3.5415e-01,\n",
      "        2.4525e-01, 3.6047e-01, 1.1581e-01, 9.3384e-02, 1.5460e-01, 2.3996e-01,\n",
      "        3.0981e-01, 1.4016e-01, 4.2062e-02, 1.1435e-01, 2.8352e-01, 4.0489e-01]) tensor(0.6482) tensor(27.6396)\n",
      "Chosen edges: tensor([[   5,    4,    4,    4,    7,    8,   12,    1,    5,    1,    4,    5,\n",
      "            8,    5,    5,    7,   11,   14,    6,   10,    6,   13,   10,   14,\n",
      "            3,   12,    5,    5,    0,   10,    0,    5,    0,    3,    7,    5,\n",
      "            3,    8,    0,    0,    1,    5,   14,    4,    6,   14,   12,   14,\n",
      "            7,   10,    8,    3,    0,    3,    8,    9,    4,   11,    4,   13,\n",
      "           12,   10,    3,   12,    4,    5,   10,    6,    3,   12,   12,    1,\n",
      "           12,    0,    0,    9,    4,    8,   12,    0,    4,    7,    7,   10,\n",
      "            6,    5,    6,    4,    4,   10,    5,    8,    3,    5,   13,   14,\n",
      "           14,    3,    4,    4,   12,   13,    1,    0,    4,    3,    7,    6,\n",
      "           10,    5,    5,   14,    3,    4,   14,    4,   10,    3,   10,    4,\n",
      "           10,    6,    1,    7,   11,    1,    4,    4,    4,   10,   10,   10,\n",
      "           10,    3,    9,   13,    4,    3,    9,    1,    4,    8,   10,    6,\n",
      "            8,   10,    8,    6,   11,    6,   10,    1,    3,    3,    4,    4,\n",
      "            4,    5,    5,    5,    8,    8,    8,    8,    8,   10,   10,   10,\n",
      "           10,   10,   12,   12],\n",
      "        [ 297,  997, 1306, 1311, 1351, 1828, 1833, 2082, 2525, 2529, 2560, 2630,\n",
      "         2811, 2831, 2837, 2873, 2890, 2910, 2920, 2956, 2978, 3030, 3040, 3043,\n",
      "         3063, 3107, 3129, 3140, 3195, 3202, 3213, 3217, 3221, 3224, 3229, 3238,\n",
      "         3240, 3252, 3265, 3266, 3275, 3278, 3284, 3287, 3334, 3354, 3357, 3364,\n",
      "         3370, 3394, 3403, 3407, 3409, 3411, 3412, 3413, 3414, 3415, 3416, 3417,\n",
      "         3419, 3422, 3425, 3426, 3427, 3430, 3432, 3433, 3437, 3438, 3439, 3441,\n",
      "         3442, 3443, 3444, 3445, 3446, 3451, 3452, 3453, 3454, 3455, 3457, 3458,\n",
      "         3460, 3461, 3462, 3463, 3464, 3465, 3466, 3468, 3469, 3470, 3471, 3473,\n",
      "         3475, 3476, 3477, 3478, 3481, 3483, 3484, 3485, 3486, 3487, 3488, 3489,\n",
      "         3490, 3491, 3492, 3494, 3495, 3496, 3498, 3500, 3501, 3502, 3503, 3504,\n",
      "         3506, 3507, 3508, 3509, 3510, 3511, 3513, 3514, 3515, 3516, 3518, 3519,\n",
      "         3520, 3521, 3522, 3523, 3525, 3526, 3528, 3529, 3530, 3531, 3532, 3533,\n",
      "         3534, 3535, 3536, 3537, 3538, 3539, 3540, 3541, 3542, 3543, 3544, 3545,\n",
      "         3546, 3547, 3548, 3549, 3550, 3551, 3552, 3553, 3554, 3555, 3556, 3557,\n",
      "         3558, 3560, 3561, 3562]]) 172\n"
     ]
    },
    {
     "name": "stderr",
     "output_type": "stream",
     "text": [
      "100%|██████████| 51/51 [00:06<00:00,  7.82it/s]\n"
     ]
    },
    {
     "name": "stdout",
     "output_type": "stream",
     "text": [
      "Fine-Tune Epoch 1/10 | Train Loss: 2.0394 | Val Loss: 1.9421\n"
     ]
    },
    {
     "name": "stderr",
     "output_type": "stream",
     "text": [
      "100%|██████████| 51/51 [00:06<00:00,  7.74it/s]\n"
     ]
    },
    {
     "name": "stdout",
     "output_type": "stream",
     "text": [
      "Fine-Tune Epoch 2/10 | Train Loss: 1.9894 | Val Loss: 1.9222\n"
     ]
    },
    {
     "name": "stderr",
     "output_type": "stream",
     "text": [
      "100%|██████████| 51/51 [00:07<00:00,  7.18it/s]\n"
     ]
    },
    {
     "name": "stdout",
     "output_type": "stream",
     "text": [
      "Fine-Tune Epoch 3/10 | Train Loss: 1.9799 | Val Loss: 1.9113\n"
     ]
    },
    {
     "name": "stderr",
     "output_type": "stream",
     "text": [
      "100%|██████████| 51/51 [00:06<00:00,  7.85it/s]\n"
     ]
    },
    {
     "name": "stdout",
     "output_type": "stream",
     "text": [
      "Fine-Tune Epoch 4/10 | Train Loss: 1.9714 | Val Loss: 1.9019\n"
     ]
    },
    {
     "name": "stderr",
     "output_type": "stream",
     "text": [
      "100%|██████████| 51/51 [00:06<00:00,  7.35it/s]\n"
     ]
    },
    {
     "name": "stdout",
     "output_type": "stream",
     "text": [
      "Fine-Tune Epoch 5/10 | Train Loss: 1.9582 | Val Loss: 1.8930\n"
     ]
    },
    {
     "name": "stderr",
     "output_type": "stream",
     "text": [
      "100%|██████████| 51/51 [00:06<00:00,  7.61it/s]\n"
     ]
    },
    {
     "name": "stdout",
     "output_type": "stream",
     "text": [
      "Fine-Tune Epoch 6/10 | Train Loss: 1.9537 | Val Loss: 1.8871\n"
     ]
    },
    {
     "name": "stderr",
     "output_type": "stream",
     "text": [
      "100%|██████████| 51/51 [00:06<00:00,  7.35it/s]\n"
     ]
    },
    {
     "name": "stdout",
     "output_type": "stream",
     "text": [
      "Fine-Tune Epoch 7/10 | Train Loss: 1.9518 | Val Loss: 1.8836\n"
     ]
    },
    {
     "name": "stderr",
     "output_type": "stream",
     "text": [
      "100%|██████████| 51/51 [00:06<00:00,  7.94it/s]\n"
     ]
    },
    {
     "name": "stdout",
     "output_type": "stream",
     "text": [
      "Fine-Tune Epoch 8/10 | Train Loss: 1.9444 | Val Loss: 1.8784\n"
     ]
    },
    {
     "name": "stderr",
     "output_type": "stream",
     "text": [
      "100%|██████████| 51/51 [00:07<00:00,  7.21it/s]\n"
     ]
    },
    {
     "name": "stdout",
     "output_type": "stream",
     "text": [
      "Fine-Tune Epoch 9/10 | Train Loss: 1.9451 | Val Loss: 1.8752\n"
     ]
    },
    {
     "name": "stderr",
     "output_type": "stream",
     "text": [
      "100%|██████████| 51/51 [00:06<00:00,  7.61it/s]\n"
     ]
    },
    {
     "name": "stdout",
     "output_type": "stream",
     "text": [
      "Fine-Tune Epoch 10/10 | Train Loss: 1.9335 | Val Loss: 1.8734\n"
     ]
    },
    {
     "data": {
      "text/plain": [
       "<IPython.core.display.HTML object>"
      ],
      "text/html": [
       "\n",
       "    <style>\n",
       "        .wandb-row {\n",
       "            display: flex;\n",
       "            flex-direction: row;\n",
       "            flex-wrap: wrap;\n",
       "            justify-content: flex-start;\n",
       "            width: 100%;\n",
       "        }\n",
       "        .wandb-col {\n",
       "            display: flex;\n",
       "            flex-direction: column;\n",
       "            flex-basis: 100%;\n",
       "            flex: 1;\n",
       "            padding: 10px;\n",
       "        }\n",
       "    </style>\n",
       "<div class=\"wandb-row\"><div class=\"wandb-col\"><h3>Run history:</h3><br/><table class=\"wandb\"><tr><td>len</td><td>▁▁▁▁▁▁▁▁▁▁▁▁▁▁▁▁</td></tr><tr><td>len_choose</td><td>█▅▃▃▃▃▂▂▂▂▃▂▂▁▂▂</td></tr><tr><td>max</td><td>▃▄█▇▁▄▃▄▄▄███▆▂▅</td></tr><tr><td>sum</td><td>█▅▃▃▃▃▂▂▂▂▂▂▂▁▂▂</td></tr><tr><td>train_loss</td><td>█▅▄▃▂▂▂▂▁▅▃▂▂▂▃▂▂▂▂▂▂▂▁▂▂▁▁▂▁▁▁▁▁▁▁▁▁▁▁▁</td></tr><tr><td>val_accuracy</td><td>▁▆▇▇▇▇▇▇▇▇████▇▇█▇▇▇▇▇▇▇████████████████</td></tr><tr><td>val_loss</td><td>█▅▃▃▂▂▂▁▁▂▂▂▂▁▂▂▂▂▁▂▂▁▁▂▂▁▁▂▁▁▁▁▁▁▁▁▁▁▁▁</td></tr></table><br/></div><div class=\"wandb-col\"><h3>Run summary:</h3><br/><table class=\"wandb\"><tr><td>len</td><td>960</td></tr><tr><td>len_choose</td><td>172</td></tr><tr><td>max</td><td>0.64818</td></tr><tr><td>sum</td><td>27.63963</td></tr><tr><td>train_loss</td><td>1.9346</td></tr><tr><td>val_accuracy</td><td>0.35805</td></tr><tr><td>val_loss</td><td>24.24987</td></tr></table><br/></div></div>"
      ]
     },
     "metadata": {},
     "output_type": "display_data"
    },
    {
     "data": {
      "text/plain": [
       "<IPython.core.display.HTML object>"
      ],
      "text/html": [
       " View run <strong style=\"color:#cdcd00\">titanic-mul, num_epochs: 50, metric: GradientMeanEdgeMetric, choose_threshold: 0.05, window_size: 3, threshold: 0.1, fine_tune_epochs: 10, lr: 0.0005</strong> at: <a href='https://wandb.ai/fedornigretuk/self-expanding-nets/runs/g13b8013' target=\"_blank\">https://wandb.ai/fedornigretuk/self-expanding-nets/runs/g13b8013</a><br/> View project at: <a href='https://wandb.ai/fedornigretuk/self-expanding-nets' target=\"_blank\">https://wandb.ai/fedornigretuk/self-expanding-nets</a><br/>Synced 5 W&B file(s), 0 media file(s), 0 artifact file(s) and 0 other file(s)"
      ]
     },
     "metadata": {},
     "output_type": "display_data"
    },
    {
     "data": {
      "text/plain": [
       "<IPython.core.display.HTML object>"
      ],
      "text/html": [
       "Find logs at: <code>.\\wandb\\run-20250203_203528-g13b8013\\logs</code>"
      ]
     },
     "metadata": {},
     "output_type": "display_data"
    }
   ],
   "execution_count": 29
  },
  {
   "metadata": {
    "ExecuteTime": {
     "end_time": "2025-02-03T17:34:17.948596Z",
     "start_time": "2025-02-03T17:34:17.944901Z"
    }
   },
   "cell_type": "code",
   "source": "",
   "id": "533bf1b57447aa62",
   "outputs": [],
   "execution_count": null
  }
 ],
 "metadata": {
  "kernelspec": {
   "display_name": "Python 3",
   "language": "python",
   "name": "python3"
  },
  "language_info": {
   "codemirror_mode": {
    "name": "ipython",
    "version": 2
   },
   "file_extension": ".py",
   "mimetype": "text/x-python",
   "name": "python",
   "nbconvert_exporter": "python",
   "pygments_lexer": "ipython2",
   "version": "2.7.6"
  }
 },
 "nbformat": 4,
 "nbformat_minor": 5
}
