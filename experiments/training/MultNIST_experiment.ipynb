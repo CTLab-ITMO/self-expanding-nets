{
  "nbformat": 4,
  "nbformat_minor": 0,
  "metadata": {
    "colab": {
      "provenance": [],
      "gpuType": "T4"
    },
    "kernelspec": {
      "name": "python3",
      "display_name": "Python 3"
    },
    "language_info": {
      "name": "python"
    },
    "accelerator": "GPU"
  },
  "cells": [
    {
      "cell_type": "code",
      "execution_count": null,
      "metadata": {
        "colab": {
          "base_uri": "https://localhost:8080/"
        },
        "id": "xVXc8C_BcqmE",
        "outputId": "5c2069d8-6464-4414-8170-f622aef4c8ab"
      },
      "outputs": [
        {
          "output_type": "stream",
          "name": "stdout",
          "text": [
            "Cloning into 'self-expanding-nets'...\n",
            "remote: Enumerating objects: 1099, done.\u001b[K\n",
            "remote: Counting objects: 100% (231/231), done.\u001b[K\n",
            "remote: Compressing objects: 100% (153/153), done.\u001b[K\n",
            "remote: Total 1099 (delta 146), reused 140 (delta 69), pack-reused 868 (from 1)\u001b[K\n",
            "Receiving objects: 100% (1099/1099), 2.43 MiB | 4.03 MiB/s, done.\n",
            "Resolving deltas: 100% (666/666), done.\n",
            "Obtaining file:///content/self-expanding-nets\n",
            "  Installing build dependencies ... \u001b[?25l\u001b[?25hdone\n",
            "  Checking if build backend supports build_editable ... \u001b[?25l\u001b[?25hdone\n",
            "  Getting requirements to build editable ... \u001b[?25l\u001b[?25hdone\n",
            "  Preparing editable metadata (pyproject.toml) ... \u001b[?25l\u001b[?25hdone\n",
            "Requirement already satisfied: torch in /usr/local/lib/python3.11/dist-packages (from senmodel==1.0.0) (2.6.0+cu124)\n",
            "Requirement already satisfied: torchvision in /usr/local/lib/python3.11/dist-packages (from senmodel==1.0.0) (0.21.0+cu124)\n",
            "Requirement already satisfied: pandas in /usr/local/lib/python3.11/dist-packages (from senmodel==1.0.0) (2.2.2)\n",
            "Requirement already satisfied: scikit-learn in /usr/local/lib/python3.11/dist-packages (from senmodel==1.0.0) (1.6.1)\n",
            "Requirement already satisfied: tqdm in /usr/local/lib/python3.11/dist-packages (from senmodel==1.0.0) (4.67.1)\n",
            "Requirement already satisfied: wandb in /usr/local/lib/python3.11/dist-packages (from senmodel==1.0.0) (0.19.10)\n",
            "Requirement already satisfied: numpy>=1.23.2 in /usr/local/lib/python3.11/dist-packages (from pandas->senmodel==1.0.0) (2.0.2)\n",
            "Requirement already satisfied: python-dateutil>=2.8.2 in /usr/local/lib/python3.11/dist-packages (from pandas->senmodel==1.0.0) (2.9.0.post0)\n",
            "Requirement already satisfied: pytz>=2020.1 in /usr/local/lib/python3.11/dist-packages (from pandas->senmodel==1.0.0) (2025.2)\n",
            "Requirement already satisfied: tzdata>=2022.7 in /usr/local/lib/python3.11/dist-packages (from pandas->senmodel==1.0.0) (2025.2)\n",
            "Requirement already satisfied: scipy>=1.6.0 in /usr/local/lib/python3.11/dist-packages (from scikit-learn->senmodel==1.0.0) (1.15.2)\n",
            "Requirement already satisfied: joblib>=1.2.0 in /usr/local/lib/python3.11/dist-packages (from scikit-learn->senmodel==1.0.0) (1.4.2)\n",
            "Requirement already satisfied: threadpoolctl>=3.1.0 in /usr/local/lib/python3.11/dist-packages (from scikit-learn->senmodel==1.0.0) (3.6.0)\n",
            "Requirement already satisfied: filelock in /usr/local/lib/python3.11/dist-packages (from torch->senmodel==1.0.0) (3.18.0)\n",
            "Requirement already satisfied: typing-extensions>=4.10.0 in /usr/local/lib/python3.11/dist-packages (from torch->senmodel==1.0.0) (4.13.2)\n",
            "Requirement already satisfied: networkx in /usr/local/lib/python3.11/dist-packages (from torch->senmodel==1.0.0) (3.4.2)\n",
            "Requirement already satisfied: jinja2 in /usr/local/lib/python3.11/dist-packages (from torch->senmodel==1.0.0) (3.1.6)\n",
            "Requirement already satisfied: fsspec in /usr/local/lib/python3.11/dist-packages (from torch->senmodel==1.0.0) (2025.3.2)\n",
            "Collecting nvidia-cuda-nvrtc-cu12==12.4.127 (from torch->senmodel==1.0.0)\n",
            "  Downloading nvidia_cuda_nvrtc_cu12-12.4.127-py3-none-manylinux2014_x86_64.whl.metadata (1.5 kB)\n",
            "Collecting nvidia-cuda-runtime-cu12==12.4.127 (from torch->senmodel==1.0.0)\n",
            "  Downloading nvidia_cuda_runtime_cu12-12.4.127-py3-none-manylinux2014_x86_64.whl.metadata (1.5 kB)\n",
            "Collecting nvidia-cuda-cupti-cu12==12.4.127 (from torch->senmodel==1.0.0)\n",
            "  Downloading nvidia_cuda_cupti_cu12-12.4.127-py3-none-manylinux2014_x86_64.whl.metadata (1.6 kB)\n",
            "Collecting nvidia-cudnn-cu12==9.1.0.70 (from torch->senmodel==1.0.0)\n",
            "  Downloading nvidia_cudnn_cu12-9.1.0.70-py3-none-manylinux2014_x86_64.whl.metadata (1.6 kB)\n",
            "Collecting nvidia-cublas-cu12==12.4.5.8 (from torch->senmodel==1.0.0)\n",
            "  Downloading nvidia_cublas_cu12-12.4.5.8-py3-none-manylinux2014_x86_64.whl.metadata (1.5 kB)\n",
            "Collecting nvidia-cufft-cu12==11.2.1.3 (from torch->senmodel==1.0.0)\n",
            "  Downloading nvidia_cufft_cu12-11.2.1.3-py3-none-manylinux2014_x86_64.whl.metadata (1.5 kB)\n",
            "Collecting nvidia-curand-cu12==10.3.5.147 (from torch->senmodel==1.0.0)\n",
            "  Downloading nvidia_curand_cu12-10.3.5.147-py3-none-manylinux2014_x86_64.whl.metadata (1.5 kB)\n",
            "Collecting nvidia-cusolver-cu12==11.6.1.9 (from torch->senmodel==1.0.0)\n",
            "  Downloading nvidia_cusolver_cu12-11.6.1.9-py3-none-manylinux2014_x86_64.whl.metadata (1.6 kB)\n",
            "Collecting nvidia-cusparse-cu12==12.3.1.170 (from torch->senmodel==1.0.0)\n",
            "  Downloading nvidia_cusparse_cu12-12.3.1.170-py3-none-manylinux2014_x86_64.whl.metadata (1.6 kB)\n",
            "Requirement already satisfied: nvidia-cusparselt-cu12==0.6.2 in /usr/local/lib/python3.11/dist-packages (from torch->senmodel==1.0.0) (0.6.2)\n",
            "Requirement already satisfied: nvidia-nccl-cu12==2.21.5 in /usr/local/lib/python3.11/dist-packages (from torch->senmodel==1.0.0) (2.21.5)\n",
            "Requirement already satisfied: nvidia-nvtx-cu12==12.4.127 in /usr/local/lib/python3.11/dist-packages (from torch->senmodel==1.0.0) (12.4.127)\n",
            "Collecting nvidia-nvjitlink-cu12==12.4.127 (from torch->senmodel==1.0.0)\n",
            "  Downloading nvidia_nvjitlink_cu12-12.4.127-py3-none-manylinux2014_x86_64.whl.metadata (1.5 kB)\n",
            "Requirement already satisfied: triton==3.2.0 in /usr/local/lib/python3.11/dist-packages (from torch->senmodel==1.0.0) (3.2.0)\n",
            "Requirement already satisfied: sympy==1.13.1 in /usr/local/lib/python3.11/dist-packages (from torch->senmodel==1.0.0) (1.13.1)\n",
            "Requirement already satisfied: mpmath<1.4,>=1.1.0 in /usr/local/lib/python3.11/dist-packages (from sympy==1.13.1->torch->senmodel==1.0.0) (1.3.0)\n",
            "Requirement already satisfied: pillow!=8.3.*,>=5.3.0 in /usr/local/lib/python3.11/dist-packages (from torchvision->senmodel==1.0.0) (11.2.1)\n",
            "Requirement already satisfied: click!=8.0.0,>=7.1 in /usr/local/lib/python3.11/dist-packages (from wandb->senmodel==1.0.0) (8.1.8)\n",
            "Requirement already satisfied: docker-pycreds>=0.4.0 in /usr/local/lib/python3.11/dist-packages (from wandb->senmodel==1.0.0) (0.4.0)\n",
            "Requirement already satisfied: gitpython!=3.1.29,>=1.0.0 in /usr/local/lib/python3.11/dist-packages (from wandb->senmodel==1.0.0) (3.1.44)\n",
            "Requirement already satisfied: platformdirs in /usr/local/lib/python3.11/dist-packages (from wandb->senmodel==1.0.0) (4.3.7)\n",
            "Requirement already satisfied: protobuf!=4.21.0,!=5.28.0,<7,>=3.19.0 in /usr/local/lib/python3.11/dist-packages (from wandb->senmodel==1.0.0) (5.29.4)\n",
            "Requirement already satisfied: psutil>=5.0.0 in /usr/local/lib/python3.11/dist-packages (from wandb->senmodel==1.0.0) (5.9.5)\n",
            "Requirement already satisfied: pydantic<3 in /usr/local/lib/python3.11/dist-packages (from wandb->senmodel==1.0.0) (2.11.4)\n",
            "Requirement already satisfied: pyyaml in /usr/local/lib/python3.11/dist-packages (from wandb->senmodel==1.0.0) (6.0.2)\n",
            "Requirement already satisfied: requests<3,>=2.0.0 in /usr/local/lib/python3.11/dist-packages (from wandb->senmodel==1.0.0) (2.32.3)\n",
            "Requirement already satisfied: sentry-sdk>=2.0.0 in /usr/local/lib/python3.11/dist-packages (from wandb->senmodel==1.0.0) (2.27.0)\n",
            "Requirement already satisfied: setproctitle in /usr/local/lib/python3.11/dist-packages (from wandb->senmodel==1.0.0) (1.3.6)\n",
            "Requirement already satisfied: setuptools in /usr/local/lib/python3.11/dist-packages (from wandb->senmodel==1.0.0) (75.2.0)\n",
            "Requirement already satisfied: six>=1.4.0 in /usr/local/lib/python3.11/dist-packages (from docker-pycreds>=0.4.0->wandb->senmodel==1.0.0) (1.17.0)\n",
            "Requirement already satisfied: gitdb<5,>=4.0.1 in /usr/local/lib/python3.11/dist-packages (from gitpython!=3.1.29,>=1.0.0->wandb->senmodel==1.0.0) (4.0.12)\n",
            "Requirement already satisfied: annotated-types>=0.6.0 in /usr/local/lib/python3.11/dist-packages (from pydantic<3->wandb->senmodel==1.0.0) (0.7.0)\n",
            "Requirement already satisfied: pydantic-core==2.33.2 in /usr/local/lib/python3.11/dist-packages (from pydantic<3->wandb->senmodel==1.0.0) (2.33.2)\n",
            "Requirement already satisfied: typing-inspection>=0.4.0 in /usr/local/lib/python3.11/dist-packages (from pydantic<3->wandb->senmodel==1.0.0) (0.4.0)\n",
            "Requirement already satisfied: charset-normalizer<4,>=2 in /usr/local/lib/python3.11/dist-packages (from requests<3,>=2.0.0->wandb->senmodel==1.0.0) (3.4.1)\n",
            "Requirement already satisfied: idna<4,>=2.5 in /usr/local/lib/python3.11/dist-packages (from requests<3,>=2.0.0->wandb->senmodel==1.0.0) (3.10)\n",
            "Requirement already satisfied: urllib3<3,>=1.21.1 in /usr/local/lib/python3.11/dist-packages (from requests<3,>=2.0.0->wandb->senmodel==1.0.0) (2.4.0)\n",
            "Requirement already satisfied: certifi>=2017.4.17 in /usr/local/lib/python3.11/dist-packages (from requests<3,>=2.0.0->wandb->senmodel==1.0.0) (2025.4.26)\n",
            "Requirement already satisfied: MarkupSafe>=2.0 in /usr/local/lib/python3.11/dist-packages (from jinja2->torch->senmodel==1.0.0) (3.0.2)\n",
            "Requirement already satisfied: smmap<6,>=3.0.1 in /usr/local/lib/python3.11/dist-packages (from gitdb<5,>=4.0.1->gitpython!=3.1.29,>=1.0.0->wandb->senmodel==1.0.0) (5.0.2)\n",
            "Downloading nvidia_cublas_cu12-12.4.5.8-py3-none-manylinux2014_x86_64.whl (363.4 MB)\n",
            "\u001b[2K   \u001b[90m━━━━━━━━━━━━━━━━━━━━━━━━━━━━━━━━━━━━━━━━\u001b[0m \u001b[32m363.4/363.4 MB\u001b[0m \u001b[31m1.4 MB/s\u001b[0m eta \u001b[36m0:00:00\u001b[0m\n",
            "\u001b[?25hDownloading nvidia_cuda_cupti_cu12-12.4.127-py3-none-manylinux2014_x86_64.whl (13.8 MB)\n",
            "\u001b[2K   \u001b[90m━━━━━━━━━━━━━━━━━━━━━━━━━━━━━━━━━━━━━━━━\u001b[0m \u001b[32m13.8/13.8 MB\u001b[0m \u001b[31m82.3 MB/s\u001b[0m eta \u001b[36m0:00:00\u001b[0m\n",
            "\u001b[?25hDownloading nvidia_cuda_nvrtc_cu12-12.4.127-py3-none-manylinux2014_x86_64.whl (24.6 MB)\n",
            "\u001b[2K   \u001b[90m━━━━━━━━━━━━━━━━━━━━━━━━━━━━━━━━━━━━━━━━\u001b[0m \u001b[32m24.6/24.6 MB\u001b[0m \u001b[31m77.2 MB/s\u001b[0m eta \u001b[36m0:00:00\u001b[0m\n",
            "\u001b[?25hDownloading nvidia_cuda_runtime_cu12-12.4.127-py3-none-manylinux2014_x86_64.whl (883 kB)\n",
            "\u001b[2K   \u001b[90m━━━━━━━━━━━━━━━━━━━━━━━━━━━━━━━━━━━━━━━━\u001b[0m \u001b[32m883.7/883.7 kB\u001b[0m \u001b[31m56.6 MB/s\u001b[0m eta \u001b[36m0:00:00\u001b[0m\n",
            "\u001b[?25hDownloading nvidia_cudnn_cu12-9.1.0.70-py3-none-manylinux2014_x86_64.whl (664.8 MB)\n",
            "\u001b[2K   \u001b[90m━━━━━━━━━━━━━━━━━━━━━━━━━━━━━━━━━━━━━━━━\u001b[0m \u001b[32m664.8/664.8 MB\u001b[0m \u001b[31m2.7 MB/s\u001b[0m eta \u001b[36m0:00:00\u001b[0m\n",
            "\u001b[?25hDownloading nvidia_cufft_cu12-11.2.1.3-py3-none-manylinux2014_x86_64.whl (211.5 MB)\n",
            "\u001b[2K   \u001b[90m━━━━━━━━━━━━━━━━━━━━━━━━━━━━━━━━━━━━━━━━\u001b[0m \u001b[32m211.5/211.5 MB\u001b[0m \u001b[31m5.2 MB/s\u001b[0m eta \u001b[36m0:00:00\u001b[0m\n",
            "\u001b[?25hDownloading nvidia_curand_cu12-10.3.5.147-py3-none-manylinux2014_x86_64.whl (56.3 MB)\n",
            "\u001b[2K   \u001b[90m━━━━━━━━━━━━━━━━━━━━━━━━━━━━━━━━━━━━━━━━\u001b[0m \u001b[32m56.3/56.3 MB\u001b[0m \u001b[31m11.9 MB/s\u001b[0m eta \u001b[36m0:00:00\u001b[0m\n",
            "\u001b[?25hDownloading nvidia_cusolver_cu12-11.6.1.9-py3-none-manylinux2014_x86_64.whl (127.9 MB)\n",
            "\u001b[2K   \u001b[90m━━━━━━━━━━━━━━━━━━━━━━━━━━━━━━━━━━━━━━━━\u001b[0m \u001b[32m127.9/127.9 MB\u001b[0m \u001b[31m7.4 MB/s\u001b[0m eta \u001b[36m0:00:00\u001b[0m\n",
            "\u001b[?25hDownloading nvidia_cusparse_cu12-12.3.1.170-py3-none-manylinux2014_x86_64.whl (207.5 MB)\n",
            "\u001b[2K   \u001b[90m━━━━━━━━━━━━━━━━━━━━━━━━━━━━━━━━━━━━━━━━\u001b[0m \u001b[32m207.5/207.5 MB\u001b[0m \u001b[31m5.5 MB/s\u001b[0m eta \u001b[36m0:00:00\u001b[0m\n",
            "\u001b[?25hDownloading nvidia_nvjitlink_cu12-12.4.127-py3-none-manylinux2014_x86_64.whl (21.1 MB)\n",
            "\u001b[2K   \u001b[90m━━━━━━━━━━━━━━━━━━━━━━━━━━━━━━━━━━━━━━━━\u001b[0m \u001b[32m21.1/21.1 MB\u001b[0m \u001b[31m107.2 MB/s\u001b[0m eta \u001b[36m0:00:00\u001b[0m\n",
            "\u001b[?25hBuilding wheels for collected packages: senmodel\n",
            "  Building editable for senmodel (pyproject.toml) ... \u001b[?25l\u001b[?25hdone\n",
            "  Created wheel for senmodel: filename=senmodel-1.0.0-0.editable-py3-none-any.whl size=3192 sha256=c19335dfbd4f4ff22f19d02c6eeb866ded5bbf88a0e95b71bfcb6ffa4c1d90a2\n",
            "  Stored in directory: /tmp/pip-ephem-wheel-cache-ceaaotex/wheels/05/37/83/60ae64e47ec8e068894939349d8f7a54d05e0200ded6473a79\n",
            "Successfully built senmodel\n",
            "Installing collected packages: nvidia-nvjitlink-cu12, nvidia-curand-cu12, nvidia-cufft-cu12, nvidia-cuda-runtime-cu12, nvidia-cuda-nvrtc-cu12, nvidia-cuda-cupti-cu12, nvidia-cublas-cu12, nvidia-cusparse-cu12, nvidia-cudnn-cu12, nvidia-cusolver-cu12, senmodel\n",
            "  Attempting uninstall: nvidia-nvjitlink-cu12\n",
            "    Found existing installation: nvidia-nvjitlink-cu12 12.5.82\n",
            "    Uninstalling nvidia-nvjitlink-cu12-12.5.82:\n",
            "      Successfully uninstalled nvidia-nvjitlink-cu12-12.5.82\n",
            "  Attempting uninstall: nvidia-curand-cu12\n",
            "    Found existing installation: nvidia-curand-cu12 10.3.6.82\n",
            "    Uninstalling nvidia-curand-cu12-10.3.6.82:\n",
            "      Successfully uninstalled nvidia-curand-cu12-10.3.6.82\n",
            "  Attempting uninstall: nvidia-cufft-cu12\n",
            "    Found existing installation: nvidia-cufft-cu12 11.2.3.61\n",
            "    Uninstalling nvidia-cufft-cu12-11.2.3.61:\n",
            "      Successfully uninstalled nvidia-cufft-cu12-11.2.3.61\n",
            "  Attempting uninstall: nvidia-cuda-runtime-cu12\n",
            "    Found existing installation: nvidia-cuda-runtime-cu12 12.5.82\n",
            "    Uninstalling nvidia-cuda-runtime-cu12-12.5.82:\n",
            "      Successfully uninstalled nvidia-cuda-runtime-cu12-12.5.82\n",
            "  Attempting uninstall: nvidia-cuda-nvrtc-cu12\n",
            "    Found existing installation: nvidia-cuda-nvrtc-cu12 12.5.82\n",
            "    Uninstalling nvidia-cuda-nvrtc-cu12-12.5.82:\n",
            "      Successfully uninstalled nvidia-cuda-nvrtc-cu12-12.5.82\n",
            "  Attempting uninstall: nvidia-cuda-cupti-cu12\n",
            "    Found existing installation: nvidia-cuda-cupti-cu12 12.5.82\n",
            "    Uninstalling nvidia-cuda-cupti-cu12-12.5.82:\n",
            "      Successfully uninstalled nvidia-cuda-cupti-cu12-12.5.82\n",
            "  Attempting uninstall: nvidia-cublas-cu12\n",
            "    Found existing installation: nvidia-cublas-cu12 12.5.3.2\n",
            "    Uninstalling nvidia-cublas-cu12-12.5.3.2:\n",
            "      Successfully uninstalled nvidia-cublas-cu12-12.5.3.2\n",
            "  Attempting uninstall: nvidia-cusparse-cu12\n",
            "    Found existing installation: nvidia-cusparse-cu12 12.5.1.3\n",
            "    Uninstalling nvidia-cusparse-cu12-12.5.1.3:\n",
            "      Successfully uninstalled nvidia-cusparse-cu12-12.5.1.3\n",
            "  Attempting uninstall: nvidia-cudnn-cu12\n",
            "    Found existing installation: nvidia-cudnn-cu12 9.3.0.75\n",
            "    Uninstalling nvidia-cudnn-cu12-9.3.0.75:\n",
            "      Successfully uninstalled nvidia-cudnn-cu12-9.3.0.75\n",
            "  Attempting uninstall: nvidia-cusolver-cu12\n",
            "    Found existing installation: nvidia-cusolver-cu12 11.6.3.83\n",
            "    Uninstalling nvidia-cusolver-cu12-11.6.3.83:\n",
            "      Successfully uninstalled nvidia-cusolver-cu12-11.6.3.83\n",
            "Successfully installed nvidia-cublas-cu12-12.4.5.8 nvidia-cuda-cupti-cu12-12.4.127 nvidia-cuda-nvrtc-cu12-12.4.127 nvidia-cuda-runtime-cu12-12.4.127 nvidia-cudnn-cu12-9.1.0.70 nvidia-cufft-cu12-11.2.1.3 nvidia-curand-cu12-10.3.5.147 nvidia-cusolver-cu12-11.6.1.9 nvidia-cusparse-cu12-12.3.1.170 nvidia-nvjitlink-cu12-12.4.127 senmodel-1.0.0\n"
          ]
        }
      ],
      "source": [
        "!git clone https://github.com/CTLab-ITMO/self-expanding-nets\n",
        "%pip install -U -e ./self-expanding-nets/"
      ]
    },
    {
      "cell_type": "markdown",
      "source": [
        "download MultNIST dataset"
      ],
      "metadata": {
        "id": "jd1rYp6a5Z5w"
      }
    },
    {
      "cell_type": "code",
      "source": [
        "!wget https://data.ncl.ac.uk/ndownloader/articles/24574678/versions/1 -O MultNIST.zip\n",
        "!unzip MultNIST.zip"
      ],
      "metadata": {
        "colab": {
          "base_uri": "https://localhost:8080/"
        },
        "id": "tERghIIY5Dq_",
        "outputId": "d8aa3328-2e7e-46ba-862d-7530d9ec353e"
      },
      "execution_count": null,
      "outputs": [
        {
          "output_type": "stream",
          "name": "stdout",
          "text": [
            "--2025-05-06 10:56:25--  https://data.ncl.ac.uk/ndownloader/articles/24574678/versions/1\n",
            "Resolving data.ncl.ac.uk (data.ncl.ac.uk)... 34.241.90.58, 52.49.76.148, 54.195.113.107, ...\n",
            "Connecting to data.ncl.ac.uk (data.ncl.ac.uk)|34.241.90.58|:443... connected.\n",
            "HTTP request sent, awaiting response... 200 OK\n",
            "Length: 659123404 (629M) [application/zip]\n",
            "Saving to: ‘MultNIST.zip’\n",
            "\n",
            "MultNIST.zip        100%[===================>] 628.59M  21.0MB/s    in 27s     \n",
            "\n",
            "2025-05-06 10:56:53 (23.2 MB/s) - ‘MultNIST.zip’ saved [659123404/659123404]\n",
            "\n",
            "Archive:  MultNIST.zip\n",
            " extracting: metadata                \n",
            " extracting: test_y.npy              \n",
            " extracting: train_y.npy             \n",
            " extracting: valid_y.npy             \n",
            " extracting: test_x.npy              \n",
            " extracting: valid_x.npy             \n",
            " extracting: train_x.npy             \n",
            " extracting: README                  \n"
          ]
        }
      ]
    },
    {
      "cell_type": "code",
      "source": [
        "import torch\n",
        "from torch import nn\n",
        "from torch.utils.data import DataLoader, random_split, TensorDataset\n",
        "from torchvision import datasets, transforms\n",
        "\n",
        "################################\n",
        "#     RESTART     RUNTIME      #\n",
        "################################\n",
        "from senmodel.model.utils import *\n",
        "from senmodel.metrics.nonlinearity_metrics import *\n",
        "from senmodel.metrics.edge_finder import *\n",
        "from senmodel.metrics.train_metrics import *\n",
        "from senmodel.train.train import *"
      ],
      "metadata": {
        "id": "zgLbuRWHekc6"
      },
      "execution_count": null,
      "outputs": []
    },
    {
      "cell_type": "code",
      "source": [
        "SEED = 0\n",
        "torch.manual_seed(SEED)\n",
        "torch.cuda.manual_seed(SEED)\n",
        "import random\n",
        "random.seed(SEED)\n",
        "import numpy as np\n",
        "np.random.seed(SEED)\n",
        "\n",
        "torch.backends.cudnn.deterministic = True\n",
        "torch.backends.cudnn.benchmark = False\n",
        "\n",
        "device = torch.device(\"cuda:0\" if torch.cuda.is_available() else \"cpu\")\n",
        "device"
      ],
      "metadata": {
        "id": "c_-sMC5deqhv",
        "colab": {
          "base_uri": "https://localhost:8080/"
        },
        "outputId": "e6d493ce-6393-4c3f-a28c-55417e1094f9"
      },
      "execution_count": null,
      "outputs": [
        {
          "output_type": "execute_result",
          "data": {
            "text/plain": [
              "device(type='cuda', index=0)"
            ]
          },
          "metadata": {},
          "execution_count": 2
        }
      ]
    },
    {
      "cell_type": "code",
      "source": [
        "class SimpleFCN(nn.Module):\n",
        "    def __init__(self, input_size=3 * 28 * 28, output_size=10):\n",
        "        super(SimpleFCN, self).__init__()\n",
        "        self.fc0 = nn.Linear(input_size, output_size)\n",
        "\n",
        "    def forward(self, x):\n",
        "        return self.fc0(x)"
      ],
      "metadata": {
        "id": "GOAK-krxeyOy"
      },
      "execution_count": null,
      "outputs": []
    },
    {
      "cell_type": "code",
      "source": [
        "hyperparams = {\n",
        "    \"num_epochs\": 128,\n",
        "    \"batch_size\": 256,\n",
        "    \"metric\": AbsGradientEdgeMetric(nn.CrossEntropyLoss()),\n",
        "    \"aggregation_mode\": \"mean\",\n",
        "    \"choose_thresholds\": {\"fc0\": 0.4},\n",
        "    \"choose_thresholds_del\": {\"fc0\": 0.04},\n",
        "    \"threshold\": 0.05,\n",
        "    \"min_delta_epoch_replace\": 20,\n",
        "    \"window_size\": 5,\n",
        "    \"lr\": 1e-4,\n",
        "    \"delete_after\": 4,\n",
        "    \"task_type\": \"classification\",\n",
        "    \"fully_connected\": False,\n",
        "    \"max_to_replace\": 4000 # None -> no limit\n",
        "}\n",
        "\n",
        "name = \", \".join(\n",
        "    f\"{key}: {value.__class__.__name__ if key == 'metric' else value}\"\n",
        "    for key, value in hyperparams.items()\n",
        ")"
      ],
      "metadata": {
        "id": "gOwPY4ANe7H-"
      },
      "execution_count": null,
      "outputs": []
    },
    {
      "cell_type": "code",
      "source": [
        "train_x = torch.from_numpy(np.load('/content/train_x.npy'))\n",
        "train_y = torch.from_numpy(np.load('/content/train_y.npy'))\n",
        "valid_x = torch.from_numpy(np.load('/content/valid_x.npy'))\n",
        "valid_y = torch.from_numpy(np.load('/content/valid_y.npy'))\n",
        "test_x = torch.from_numpy(np.load('/content/test_x.npy'))\n",
        "test_y = torch.from_numpy(np.load('/content/test_y.npy'))"
      ],
      "metadata": {
        "id": "s6ftHjtp71KA"
      },
      "execution_count": null,
      "outputs": []
    },
    {
      "cell_type": "code",
      "source": [
        "train_tensor_x = torch.tensor(train_x).float().view(-1, 3 * 28 * 28)\n",
        "train_tensor_y = torch.tensor(train_y).long()\n",
        "\n",
        "valid_tensor_x = torch.tensor(valid_x).float().view(-1, 3 * 28 * 28)\n",
        "valid_tensor_y = torch.tensor(valid_y).long()\n",
        "\n",
        "test_tensor_x = torch.tensor(test_x).float().view(-1, 3 * 28 * 28)\n",
        "test_tensor_y = torch.tensor(test_y).long()\n",
        "\n",
        "train_dataset = TensorDataset(train_tensor_x, train_tensor_y)\n",
        "valid_dataset = TensorDataset(valid_tensor_x, valid_tensor_y)\n",
        "test_dataset = TensorDataset(test_tensor_x, test_tensor_y)\n",
        "\n",
        "train_loader = DataLoader(train_dataset, batch_size=hyperparams['batch_size'], shuffle=True)\n",
        "val_loader = DataLoader(valid_dataset, batch_size=hyperparams['batch_size'], shuffle=False)\n",
        "test_loader = DataLoader(test_dataset, batch_size=hyperparams['batch_size'], shuffle=False)"
      ],
      "metadata": {
        "colab": {
          "base_uri": "https://localhost:8080/"
        },
        "id": "f-YKVbEK_6__",
        "outputId": "c5c7560a-0455-44d1-9026-4a0b004b8660"
      },
      "execution_count": null,
      "outputs": [
        {
          "output_type": "stream",
          "name": "stderr",
          "text": [
            "<ipython-input-6-a627f8f1a94c>:1: UserWarning: To copy construct from a tensor, it is recommended to use sourceTensor.clone().detach() or sourceTensor.clone().detach().requires_grad_(True), rather than torch.tensor(sourceTensor).\n",
            "  train_tensor_x = torch.tensor(train_x).float().view(-1, 3 * 28 * 28)\n",
            "<ipython-input-6-a627f8f1a94c>:2: UserWarning: To copy construct from a tensor, it is recommended to use sourceTensor.clone().detach() or sourceTensor.clone().detach().requires_grad_(True), rather than torch.tensor(sourceTensor).\n",
            "  train_tensor_y = torch.tensor(train_y).long()\n",
            "<ipython-input-6-a627f8f1a94c>:4: UserWarning: To copy construct from a tensor, it is recommended to use sourceTensor.clone().detach() or sourceTensor.clone().detach().requires_grad_(True), rather than torch.tensor(sourceTensor).\n",
            "  valid_tensor_x = torch.tensor(valid_x).float().view(-1, 3 * 28 * 28)\n",
            "<ipython-input-6-a627f8f1a94c>:5: UserWarning: To copy construct from a tensor, it is recommended to use sourceTensor.clone().detach() or sourceTensor.clone().detach().requires_grad_(True), rather than torch.tensor(sourceTensor).\n",
            "  valid_tensor_y = torch.tensor(valid_y).long()\n",
            "<ipython-input-6-a627f8f1a94c>:7: UserWarning: To copy construct from a tensor, it is recommended to use sourceTensor.clone().detach() or sourceTensor.clone().detach().requires_grad_(True), rather than torch.tensor(sourceTensor).\n",
            "  test_tensor_x = torch.tensor(test_x).float().view(-1, 3 * 28 * 28)\n",
            "<ipython-input-6-a627f8f1a94c>:8: UserWarning: To copy construct from a tensor, it is recommended to use sourceTensor.clone().detach() or sourceTensor.clone().detach().requires_grad_(True), rather than torch.tensor(sourceTensor).\n",
            "  test_tensor_y = torch.tensor(test_y).long()\n"
          ]
        }
      ]
    },
    {
      "cell_type": "code",
      "source": [
        "model = SimpleFCN()\n",
        "sparse_model = convert_dense_to_sparse_network(model, layers=[model.fc0], device=device)"
      ],
      "metadata": {
        "id": "1NfKh4qXfyx7"
      },
      "execution_count": null,
      "outputs": []
    },
    {
      "cell_type": "code",
      "source": [
        "import wandb\n",
        "wandb.login()\n",
        "wandb.finish()\n",
        "run = wandb.init(\n",
        "    project=\"self-expanding-nets-MultNIST\",\n",
        "    name=f\"trash\",\n",
        "    config=hyperparams\n",
        ")"
      ],
      "metadata": {
        "colab": {
          "base_uri": "https://localhost:8080/",
          "height": 260
        },
        "id": "Nt6O_3PDf9Fy",
        "outputId": "9c169c9e-9e6d-48e2-ccb2-4ce9bf5ee23e"
      },
      "execution_count": null,
      "outputs": [
        {
          "output_type": "display_data",
          "data": {
            "text/plain": [
              "<IPython.core.display.Javascript object>"
            ],
            "application/javascript": [
              "\n",
              "        window._wandbApiKey = new Promise((resolve, reject) => {\n",
              "            function loadScript(url) {\n",
              "            return new Promise(function(resolve, reject) {\n",
              "                let newScript = document.createElement(\"script\");\n",
              "                newScript.onerror = reject;\n",
              "                newScript.onload = resolve;\n",
              "                document.body.appendChild(newScript);\n",
              "                newScript.src = url;\n",
              "            });\n",
              "            }\n",
              "            loadScript(\"https://cdn.jsdelivr.net/npm/postmate/build/postmate.min.js\").then(() => {\n",
              "            const iframe = document.createElement('iframe')\n",
              "            iframe.style.cssText = \"width:0;height:0;border:none\"\n",
              "            document.body.appendChild(iframe)\n",
              "            const handshake = new Postmate({\n",
              "                container: iframe,\n",
              "                url: 'https://wandb.ai/authorize'\n",
              "            });\n",
              "            const timeout = setTimeout(() => reject(\"Couldn't auto authenticate\"), 5000)\n",
              "            handshake.then(function(child) {\n",
              "                child.on('authorize', data => {\n",
              "                    clearTimeout(timeout)\n",
              "                    resolve(data)\n",
              "                });\n",
              "            });\n",
              "            })\n",
              "        });\n",
              "    "
            ]
          },
          "metadata": {}
        },
        {
          "output_type": "stream",
          "name": "stderr",
          "text": [
            "\u001b[34m\u001b[1mwandb\u001b[0m: Logging into wandb.ai. (Learn how to deploy a W&B server locally: https://wandb.me/wandb-server)\n",
            "\u001b[34m\u001b[1mwandb\u001b[0m: You can find your API key in your browser here: https://wandb.ai/authorize\n",
            "wandb: Paste an API key from your profile and hit enter:"
          ]
        },
        {
          "name": "stdout",
          "output_type": "stream",
          "text": [
            " ··········\n"
          ]
        },
        {
          "output_type": "stream",
          "name": "stderr",
          "text": [
            "\u001b[34m\u001b[1mwandb\u001b[0m: \u001b[33mWARNING\u001b[0m If you're specifying your api key in code, ensure this code is not shared publicly.\n",
            "\u001b[34m\u001b[1mwandb\u001b[0m: \u001b[33mWARNING\u001b[0m Consider setting the WANDB_API_KEY environment variable, or running `wandb login` from the command line.\n",
            "\u001b[34m\u001b[1mwandb\u001b[0m: No netrc file found, creating one.\n",
            "\u001b[34m\u001b[1mwandb\u001b[0m: Appending key for api.wandb.ai to your netrc file: /root/.netrc\n",
            "\u001b[34m\u001b[1mwandb\u001b[0m: Currently logged in as: \u001b[33mvanyamironov\u001b[0m to \u001b[32mhttps://api.wandb.ai\u001b[0m. Use \u001b[1m`wandb login --relogin`\u001b[0m to force relogin\n"
          ]
        },
        {
          "output_type": "display_data",
          "data": {
            "text/plain": [
              "<IPython.core.display.HTML object>"
            ],
            "text/html": [
              "Tracking run with wandb version 0.19.10"
            ]
          },
          "metadata": {}
        },
        {
          "output_type": "display_data",
          "data": {
            "text/plain": [
              "<IPython.core.display.HTML object>"
            ],
            "text/html": [
              "Run data is saved locally in <code>/content/wandb/run-20250506_110151-eduol89z</code>"
            ]
          },
          "metadata": {}
        },
        {
          "output_type": "display_data",
          "data": {
            "text/plain": [
              "<IPython.core.display.HTML object>"
            ],
            "text/html": [
              "Syncing run <strong><a href='https://wandb.ai/vanyamironov/self-expanding-nets-MultNIST/runs/eduol89z' target=\"_blank\">trash</a></strong> to <a href='https://wandb.ai/vanyamironov/self-expanding-nets-MultNIST' target=\"_blank\">Weights & Biases</a> (<a href='https://wandb.me/developer-guide' target=\"_blank\">docs</a>)<br>"
            ]
          },
          "metadata": {}
        },
        {
          "output_type": "display_data",
          "data": {
            "text/plain": [
              "<IPython.core.display.HTML object>"
            ],
            "text/html": [
              " View project at <a href='https://wandb.ai/vanyamironov/self-expanding-nets-MultNIST' target=\"_blank\">https://wandb.ai/vanyamironov/self-expanding-nets-MultNIST</a>"
            ]
          },
          "metadata": {}
        },
        {
          "output_type": "display_data",
          "data": {
            "text/plain": [
              "<IPython.core.display.HTML object>"
            ],
            "text/html": [
              " View run at <a href='https://wandb.ai/vanyamironov/self-expanding-nets-MultNIST/runs/eduol89z' target=\"_blank\">https://wandb.ai/vanyamironov/self-expanding-nets-MultNIST/runs/eduol89z</a>"
            ]
          },
          "metadata": {}
        }
      ]
    },
    {
      "cell_type": "code",
      "source": [
        "criterion = nn.CrossEntropyLoss()\n",
        "optimizer = optim.Adam(sparse_model.parameters(), lr=hyperparams['lr'], weight_decay=1e-2)\n",
        "train_sparse_recursive(sparse_model, train_loader, train_loader, val_loader, criterion, optimizer, hyperparams, device)"
      ],
      "metadata": {
        "colab": {
          "base_uri": "https://localhost:8080/"
        },
        "id": "f7Zajw-AgBau",
        "outputId": "58812953-4fd6-4a15-bb0f-002d278c4bfa"
      },
      "execution_count": null,
      "outputs": [
        {
          "output_type": "stream",
          "name": "stderr",
          "text": [
            "100%|██████████| 196/196 [00:01<00:00, 105.32it/s]\n"
          ]
        },
        {
          "output_type": "stream",
          "name": "stdout",
          "text": [
            "Epoch 1/128, Train Loss: 2.0382, Val Loss: 1.8358, Val Accuracy: 0.2763\n"
          ]
        },
        {
          "output_type": "stream",
          "name": "stderr",
          "text": [
            "100%|██████████| 196/196 [00:01<00:00, 177.63it/s]\n"
          ]
        },
        {
          "output_type": "stream",
          "name": "stdout",
          "text": [
            "Epoch 2/128, Train Loss: 1.8120, Val Loss: 1.7340, Val Accuracy: 0.2945\n"
          ]
        },
        {
          "output_type": "stream",
          "name": "stderr",
          "text": [
            "100%|██████████| 196/196 [00:01<00:00, 136.56it/s]\n"
          ]
        },
        {
          "output_type": "stream",
          "name": "stdout",
          "text": [
            "Epoch 3/128, Train Loss: 1.7436, Val Loss: 1.6909, Val Accuracy: 0.3047\n"
          ]
        },
        {
          "output_type": "stream",
          "name": "stderr",
          "text": [
            "100%|██████████| 196/196 [00:01<00:00, 180.72it/s]\n"
          ]
        },
        {
          "output_type": "stream",
          "name": "stdout",
          "text": [
            "Epoch 4/128, Train Loss: 1.7078, Val Loss: 1.6596, Val Accuracy: 0.3092\n"
          ]
        },
        {
          "output_type": "stream",
          "name": "stderr",
          "text": [
            "100%|██████████| 196/196 [00:01<00:00, 177.56it/s]\n"
          ]
        },
        {
          "output_type": "stream",
          "name": "stdout",
          "text": [
            "Epoch 5/128, Train Loss: 1.6850, Val Loss: 1.6463, Val Accuracy: 0.3096\n"
          ]
        },
        {
          "output_type": "stream",
          "name": "stderr",
          "text": [
            "100%|██████████| 196/196 [00:01<00:00, 182.64it/s]\n"
          ]
        },
        {
          "output_type": "stream",
          "name": "stdout",
          "text": [
            "Epoch 6/128, Train Loss: 1.6696, Val Loss: 1.6354, Val Accuracy: 0.3058\n"
          ]
        },
        {
          "output_type": "stream",
          "name": "stderr",
          "text": [
            "100%|██████████| 196/196 [00:01<00:00, 180.13it/s]\n"
          ]
        },
        {
          "output_type": "stream",
          "name": "stdout",
          "text": [
            "Epoch 7/128, Train Loss: 1.6561, Val Loss: 1.6242, Val Accuracy: 0.3054\n"
          ]
        },
        {
          "output_type": "stream",
          "name": "stderr",
          "text": [
            "100%|██████████| 196/196 [00:01<00:00, 146.94it/s]\n"
          ]
        },
        {
          "output_type": "stream",
          "name": "stdout",
          "text": [
            "Epoch 8/128, Train Loss: 1.6467, Val Loss: 1.6216, Val Accuracy: 0.3103\n"
          ]
        },
        {
          "output_type": "stream",
          "name": "stderr",
          "text": [
            "100%|██████████| 196/196 [00:01<00:00, 175.37it/s]\n"
          ]
        },
        {
          "output_type": "stream",
          "name": "stdout",
          "text": [
            "Epoch 9/128, Train Loss: 1.6385, Val Loss: 1.6168, Val Accuracy: 0.3122\n"
          ]
        },
        {
          "output_type": "stream",
          "name": "stderr",
          "text": [
            "100%|██████████| 196/196 [00:01<00:00, 146.30it/s]\n"
          ]
        },
        {
          "output_type": "stream",
          "name": "stdout",
          "text": [
            "Epoch 10/128, Train Loss: 1.6313, Val Loss: 1.6135, Val Accuracy: 0.3111\n"
          ]
        },
        {
          "output_type": "stream",
          "name": "stderr",
          "text": [
            "100%|██████████| 196/196 [00:01<00:00, 179.28it/s]\n"
          ]
        },
        {
          "output_type": "stream",
          "name": "stdout",
          "text": [
            "Epoch 11/128, Train Loss: 1.6257, Val Loss: 1.6099, Val Accuracy: 0.3119\n"
          ]
        },
        {
          "output_type": "stream",
          "name": "stderr",
          "text": [
            "100%|██████████| 196/196 [00:01<00:00, 177.61it/s]\n"
          ]
        },
        {
          "output_type": "stream",
          "name": "stdout",
          "text": [
            "Epoch 12/128, Train Loss: 1.6211, Val Loss: 1.6071, Val Accuracy: 0.3127\n"
          ]
        },
        {
          "output_type": "stream",
          "name": "stderr",
          "text": [
            "100%|██████████| 196/196 [00:01<00:00, 164.31it/s]\n"
          ]
        },
        {
          "output_type": "stream",
          "name": "stdout",
          "text": [
            "Epoch 13/128, Train Loss: 1.6157, Val Loss: 1.6102, Val Accuracy: 0.3120\n"
          ]
        },
        {
          "output_type": "stream",
          "name": "stderr",
          "text": [
            "100%|██████████| 196/196 [00:01<00:00, 146.40it/s]\n"
          ]
        },
        {
          "output_type": "stream",
          "name": "stdout",
          "text": [
            "Epoch 14/128, Train Loss: 1.6124, Val Loss: 1.6024, Val Accuracy: 0.3140\n"
          ]
        },
        {
          "output_type": "stream",
          "name": "stderr",
          "text": [
            "100%|██████████| 196/196 [00:01<00:00, 150.28it/s]\n"
          ]
        },
        {
          "output_type": "stream",
          "name": "stdout",
          "text": [
            "Epoch 15/128, Train Loss: 1.6097, Val Loss: 1.6070, Val Accuracy: 0.3113\n"
          ]
        },
        {
          "output_type": "stream",
          "name": "stderr",
          "text": [
            "100%|██████████| 196/196 [00:01<00:00, 179.27it/s]\n"
          ]
        },
        {
          "output_type": "stream",
          "name": "stdout",
          "text": [
            "Epoch 16/128, Train Loss: 1.6069, Val Loss: 1.6060, Val Accuracy: 0.3158\n"
          ]
        },
        {
          "output_type": "stream",
          "name": "stderr",
          "text": [
            "100%|██████████| 196/196 [00:01<00:00, 177.33it/s]\n"
          ]
        },
        {
          "output_type": "stream",
          "name": "stdout",
          "text": [
            "Epoch 17/128, Train Loss: 1.6030, Val Loss: 1.5981, Val Accuracy: 0.3083\n"
          ]
        },
        {
          "output_type": "stream",
          "name": "stderr",
          "text": [
            "100%|██████████| 196/196 [00:01<00:00, 176.91it/s]\n"
          ]
        },
        {
          "output_type": "stream",
          "name": "stdout",
          "text": [
            "Epoch 18/128, Train Loss: 1.6001, Val Loss: 1.6017, Val Accuracy: 0.3106\n"
          ]
        },
        {
          "output_type": "stream",
          "name": "stderr",
          "text": [
            "100%|██████████| 196/196 [00:01<00:00, 134.25it/s]\n"
          ]
        },
        {
          "output_type": "stream",
          "name": "stdout",
          "text": [
            "Epoch 19/128, Train Loss: 1.5983, Val Loss: 1.6035, Val Accuracy: 0.3140\n"
          ]
        },
        {
          "output_type": "stream",
          "name": "stderr",
          "text": [
            "100%|██████████| 196/196 [00:01<00:00, 176.95it/s]\n"
          ]
        },
        {
          "output_type": "stream",
          "name": "stdout",
          "text": [
            "Epoch 20/128, Train Loss: 1.5956, Val Loss: 1.5948, Val Accuracy: 0.3106\n"
          ]
        },
        {
          "output_type": "stream",
          "name": "stderr",
          "text": [
            "100%|██████████| 196/196 [00:01<00:00, 176.60it/s]\n"
          ]
        },
        {
          "output_type": "stream",
          "name": "stdout",
          "text": [
            "Epoch 21/128, Train Loss: 1.5925, Val Loss: 1.5970, Val Accuracy: 0.3120\n"
          ]
        },
        {
          "output_type": "stream",
          "name": "stderr",
          "text": [
            "100%|██████████| 196/196 [00:01<00:00, 176.63it/s]\n"
          ]
        },
        {
          "output_type": "stream",
          "name": "stdout",
          "text": [
            "Epoch 22/128, Train Loss: 1.5916, Val Loss: 1.5944, Val Accuracy: 0.3162\n",
            "Chosen edges: tensor([[   7,    7,    7,  ...,    3,    9,    6],\n",
            "        [ 240, 1975, 1947,  ..., 1861, 1389, 1306]], device='cuda:0') 4000\n"
          ]
        },
        {
          "output_type": "stream",
          "name": "stderr",
          "text": [
            "100%|██████████| 196/196 [00:08<00:00, 23.00it/s]\n"
          ]
        },
        {
          "output_type": "stream",
          "name": "stdout",
          "text": [
            "Epoch 23/128, Train Loss: 1.6204, Val Loss: 1.6247, Val Accuracy: 0.3089\n"
          ]
        },
        {
          "output_type": "stream",
          "name": "stderr",
          "text": [
            "100%|██████████| 196/196 [00:08<00:00, 22.71it/s]\n"
          ]
        },
        {
          "output_type": "stream",
          "name": "stdout",
          "text": [
            "Epoch 24/128, Train Loss: 1.5914, Val Loss: 1.6116, Val Accuracy: 0.3122\n"
          ]
        },
        {
          "output_type": "stream",
          "name": "stderr",
          "text": [
            "100%|██████████| 196/196 [00:08<00:00, 22.89it/s]\n"
          ]
        },
        {
          "output_type": "stream",
          "name": "stdout",
          "text": [
            "Epoch 25/128, Train Loss: 1.5744, Val Loss: 1.5846, Val Accuracy: 0.3147\n"
          ]
        },
        {
          "output_type": "stream",
          "name": "stderr",
          "text": [
            "100%|██████████| 196/196 [00:08<00:00, 22.72it/s]\n"
          ]
        },
        {
          "output_type": "stream",
          "name": "stdout",
          "text": [
            "Epoch 26/128, Train Loss: 1.5601, Val Loss: 1.5937, Val Accuracy: 0.3180\n",
            "torch.Size([2432000]) torch.Size([59520])\n",
            "combined_metrics torch.Size([2491520])\n",
            "mask torch.Size([2491520])\n",
            "tensor(1654452, device='cuda:0')\n",
            "num_emb_edges 2432000\n",
            "tensor(786625, device='cuda:0') tensor(35822, device='cuda:0')\n",
            "Chosen edges to del emb: tensor([[   0,    0,    0,  ..., 3997, 3997, 3997],\n",
            "        [ 180,  181,  182,  ..., 2225, 2226, 2227]], device='cuda:0',\n",
            "       dtype=torch.int32) 786625\n",
            "Chosen edges to del exp: tensor([[   0,    1,    2,  ...,    7,    8,    9],\n",
            "        [2352, 2352, 2352,  ..., 6351, 6351, 6351]], device='cuda:0') 35822\n"
          ]
        },
        {
          "output_type": "stream",
          "name": "stderr",
          "text": [
            "100%|██████████| 196/196 [00:06<00:00, 31.55it/s]\n"
          ]
        },
        {
          "output_type": "stream",
          "name": "stdout",
          "text": [
            "Epoch 27/128, Train Loss: 1.6841, Val Loss: 1.6297, Val Accuracy: 0.3144\n"
          ]
        },
        {
          "output_type": "stream",
          "name": "stderr",
          "text": [
            "100%|██████████| 196/196 [00:06<00:00, 30.96it/s]\n"
          ]
        },
        {
          "output_type": "stream",
          "name": "stdout",
          "text": [
            "Epoch 28/128, Train Loss: 1.6274, Val Loss: 1.6088, Val Accuracy: 0.3207\n"
          ]
        },
        {
          "output_type": "stream",
          "name": "stderr",
          "text": [
            "100%|██████████| 196/196 [00:06<00:00, 31.47it/s]\n"
          ]
        },
        {
          "output_type": "stream",
          "name": "stdout",
          "text": [
            "Epoch 29/128, Train Loss: 1.6093, Val Loss: 1.5949, Val Accuracy: 0.3294\n"
          ]
        },
        {
          "output_type": "stream",
          "name": "stderr",
          "text": [
            "100%|██████████| 196/196 [00:06<00:00, 31.70it/s]\n"
          ]
        },
        {
          "output_type": "stream",
          "name": "stdout",
          "text": [
            "Epoch 30/128, Train Loss: 1.5942, Val Loss: 1.5930, Val Accuracy: 0.3368\n"
          ]
        },
        {
          "output_type": "stream",
          "name": "stderr",
          "text": [
            "100%|██████████| 196/196 [00:06<00:00, 31.85it/s]\n"
          ]
        },
        {
          "output_type": "stream",
          "name": "stdout",
          "text": [
            "Epoch 31/128, Train Loss: 1.5794, Val Loss: 1.5745, Val Accuracy: 0.3382\n"
          ]
        },
        {
          "output_type": "stream",
          "name": "stderr",
          "text": [
            "100%|██████████| 196/196 [00:06<00:00, 31.99it/s]\n"
          ]
        },
        {
          "output_type": "stream",
          "name": "stdout",
          "text": [
            "Epoch 32/128, Train Loss: 1.5664, Val Loss: 1.5579, Val Accuracy: 0.3597\n"
          ]
        },
        {
          "output_type": "stream",
          "name": "stderr",
          "text": [
            "100%|██████████| 196/196 [00:06<00:00, 32.01it/s]\n"
          ]
        },
        {
          "output_type": "stream",
          "name": "stdout",
          "text": [
            "Epoch 33/128, Train Loss: 1.5501, Val Loss: 1.5575, Val Accuracy: 0.3598\n"
          ]
        },
        {
          "output_type": "stream",
          "name": "stderr",
          "text": [
            "100%|██████████| 196/196 [00:06<00:00, 31.97it/s]\n"
          ]
        },
        {
          "output_type": "stream",
          "name": "stdout",
          "text": [
            "Epoch 34/128, Train Loss: 1.5387, Val Loss: 1.5357, Val Accuracy: 0.3727\n"
          ]
        },
        {
          "output_type": "stream",
          "name": "stderr",
          "text": [
            "100%|██████████| 196/196 [00:06<00:00, 32.02it/s]\n"
          ]
        },
        {
          "output_type": "stream",
          "name": "stdout",
          "text": [
            "Epoch 35/128, Train Loss: 1.5246, Val Loss: 1.5253, Val Accuracy: 0.3772\n"
          ]
        },
        {
          "output_type": "stream",
          "name": "stderr",
          "text": [
            "100%|██████████| 196/196 [00:06<00:00, 31.86it/s]\n"
          ]
        },
        {
          "output_type": "stream",
          "name": "stdout",
          "text": [
            "Epoch 36/128, Train Loss: 1.5111, Val Loss: 1.5203, Val Accuracy: 0.3843\n"
          ]
        },
        {
          "output_type": "stream",
          "name": "stderr",
          "text": [
            "100%|██████████| 196/196 [00:06<00:00, 31.96it/s]\n"
          ]
        },
        {
          "output_type": "stream",
          "name": "stdout",
          "text": [
            "Epoch 37/128, Train Loss: 1.4975, Val Loss: 1.4993, Val Accuracy: 0.4000\n"
          ]
        },
        {
          "output_type": "stream",
          "name": "stderr",
          "text": [
            "100%|██████████| 196/196 [00:06<00:00, 31.66it/s]\n"
          ]
        },
        {
          "output_type": "stream",
          "name": "stdout",
          "text": [
            "Epoch 38/128, Train Loss: 1.4840, Val Loss: 1.4875, Val Accuracy: 0.4037\n"
          ]
        },
        {
          "output_type": "stream",
          "name": "stderr",
          "text": [
            "100%|██████████| 196/196 [00:06<00:00, 31.70it/s]\n"
          ]
        },
        {
          "output_type": "stream",
          "name": "stdout",
          "text": [
            "Epoch 39/128, Train Loss: 1.4726, Val Loss: 1.4786, Val Accuracy: 0.4123\n"
          ]
        },
        {
          "output_type": "stream",
          "name": "stderr",
          "text": [
            "100%|██████████| 196/196 [00:06<00:00, 31.64it/s]\n"
          ]
        },
        {
          "output_type": "stream",
          "name": "stdout",
          "text": [
            "Epoch 40/128, Train Loss: 1.4611, Val Loss: 1.4752, Val Accuracy: 0.4167\n"
          ]
        },
        {
          "output_type": "stream",
          "name": "stderr",
          "text": [
            "100%|██████████| 196/196 [00:06<00:00, 32.01it/s]\n"
          ]
        },
        {
          "output_type": "stream",
          "name": "stdout",
          "text": [
            "Epoch 41/128, Train Loss: 1.4495, Val Loss: 1.4628, Val Accuracy: 0.4179\n"
          ]
        },
        {
          "output_type": "stream",
          "name": "stderr",
          "text": [
            "100%|██████████| 196/196 [00:06<00:00, 32.03it/s]\n"
          ]
        },
        {
          "output_type": "stream",
          "name": "stdout",
          "text": [
            "Epoch 42/128, Train Loss: 1.4373, Val Loss: 1.4491, Val Accuracy: 0.4254\n"
          ]
        },
        {
          "output_type": "stream",
          "name": "stderr",
          "text": [
            "100%|██████████| 196/196 [00:06<00:00, 31.97it/s]\n"
          ]
        },
        {
          "output_type": "stream",
          "name": "stdout",
          "text": [
            "Epoch 43/128, Train Loss: 1.4260, Val Loss: 1.4453, Val Accuracy: 0.4234\n",
            "Chosen edges: tensor([[   0,    0,    0,  ...,    1,    1,    9],\n",
            "        [ 154,  155,  180,  ..., 6278, 6283, 6350]], device='cuda:0') 2849\n"
          ]
        },
        {
          "output_type": "stream",
          "name": "stderr",
          "text": [
            "100%|██████████| 196/196 [00:29<00:00,  6.57it/s]\n"
          ]
        },
        {
          "output_type": "stream",
          "name": "stdout",
          "text": [
            "Epoch 44/128, Train Loss: 1.4301, Val Loss: 1.4236, Val Accuracy: 0.4304\n"
          ]
        },
        {
          "output_type": "stream",
          "name": "stderr",
          "text": [
            "100%|██████████| 196/196 [00:29<00:00,  6.58it/s]\n"
          ]
        },
        {
          "output_type": "stream",
          "name": "stdout",
          "text": [
            "Epoch 45/128, Train Loss: 1.3946, Val Loss: 1.4195, Val Accuracy: 0.4248\n"
          ]
        },
        {
          "output_type": "stream",
          "name": "stderr",
          "text": [
            "100%|██████████| 196/196 [00:29<00:00,  6.57it/s]\n"
          ]
        },
        {
          "output_type": "stream",
          "name": "stdout",
          "text": [
            "Epoch 46/128, Train Loss: 1.3679, Val Loss: 1.3908, Val Accuracy: 0.4441\n"
          ]
        },
        {
          "output_type": "stream",
          "name": "stderr",
          "text": [
            "100%|██████████| 196/196 [00:29<00:00,  6.56it/s]\n"
          ]
        },
        {
          "output_type": "stream",
          "name": "stdout",
          "text": [
            "Epoch 47/128, Train Loss: 1.3520, Val Loss: 1.3895, Val Accuracy: 0.4442\n",
            "torch.Size([3581193]) torch.Size([49339])\n",
            "combined_metrics torch.Size([3630532])\n",
            "mask torch.Size([3630532])\n",
            "tensor(3308484, device='cuda:0')\n",
            "num_emb_edges 3581193\n",
            "tensor(310084, device='cuda:0') tensor(9974, device='cuda:0')\n",
            "Chosen edges to del emb: tensor([[   0,    0,    0,  ..., 2846, 2846, 2848],\n",
            "        [ 154,  155,  181,  ..., 6278, 6350,  517]], device='cuda:0',\n",
            "       dtype=torch.int32) 310084\n",
            "Chosen edges to del exp: tensor([[   1,    2,    3,  ...,    8,    6,    8],\n",
            "        [6352, 6352, 6352,  ..., 9198, 9200, 9200]], device='cuda:0') 9974\n"
          ]
        },
        {
          "output_type": "stream",
          "name": "stderr",
          "text": [
            "100%|██████████| 196/196 [00:27<00:00,  7.03it/s]\n"
          ]
        },
        {
          "output_type": "stream",
          "name": "stdout",
          "text": [
            "Epoch 48/128, Train Loss: 1.4204, Val Loss: 1.4071, Val Accuracy: 0.4417\n"
          ]
        },
        {
          "output_type": "stream",
          "name": "stderr",
          "text": [
            "100%|██████████| 196/196 [00:27<00:00,  7.04it/s]\n"
          ]
        },
        {
          "output_type": "stream",
          "name": "stdout",
          "text": [
            "Epoch 49/128, Train Loss: 1.3724, Val Loss: 1.3867, Val Accuracy: 0.4507\n"
          ]
        },
        {
          "output_type": "stream",
          "name": "stderr",
          "text": [
            "100%|██████████| 196/196 [00:27<00:00,  7.05it/s]\n"
          ]
        },
        {
          "output_type": "stream",
          "name": "stdout",
          "text": [
            "Epoch 50/128, Train Loss: 1.3449, Val Loss: 1.3701, Val Accuracy: 0.4542\n"
          ]
        },
        {
          "output_type": "stream",
          "name": "stderr",
          "text": [
            "100%|██████████| 196/196 [00:27<00:00,  7.04it/s]\n"
          ]
        },
        {
          "output_type": "stream",
          "name": "stdout",
          "text": [
            "Epoch 51/128, Train Loss: 1.3204, Val Loss: 1.3603, Val Accuracy: 0.4564\n"
          ]
        },
        {
          "output_type": "stream",
          "name": "stderr",
          "text": [
            "100%|██████████| 196/196 [00:27<00:00,  7.02it/s]\n"
          ]
        },
        {
          "output_type": "stream",
          "name": "stdout",
          "text": [
            "Epoch 52/128, Train Loss: 1.2947, Val Loss: 1.3253, Val Accuracy: 0.4671\n"
          ]
        },
        {
          "output_type": "stream",
          "name": "stderr",
          "text": [
            "100%|██████████| 196/196 [00:27<00:00,  7.06it/s]\n"
          ]
        },
        {
          "output_type": "stream",
          "name": "stdout",
          "text": [
            "Epoch 53/128, Train Loss: 1.2681, Val Loss: 1.3135, Val Accuracy: 0.4824\n"
          ]
        },
        {
          "output_type": "stream",
          "name": "stderr",
          "text": [
            "100%|██████████| 196/196 [00:28<00:00,  6.96it/s]\n"
          ]
        },
        {
          "output_type": "stream",
          "name": "stdout",
          "text": [
            "Epoch 54/128, Train Loss: 1.2460, Val Loss: 1.2853, Val Accuracy: 0.4835\n"
          ]
        },
        {
          "output_type": "stream",
          "name": "stderr",
          "text": [
            "100%|██████████| 196/196 [00:28<00:00,  6.97it/s]\n"
          ]
        },
        {
          "output_type": "stream",
          "name": "stdout",
          "text": [
            "Epoch 55/128, Train Loss: 1.2237, Val Loss: 1.2498, Val Accuracy: 0.5133\n"
          ]
        },
        {
          "output_type": "stream",
          "name": "stderr",
          "text": [
            "100%|██████████| 196/196 [00:28<00:00,  6.97it/s]\n"
          ]
        },
        {
          "output_type": "stream",
          "name": "stdout",
          "text": [
            "Epoch 56/128, Train Loss: 1.1980, Val Loss: 1.2497, Val Accuracy: 0.5092\n"
          ]
        },
        {
          "output_type": "stream",
          "name": "stderr",
          "text": [
            "100%|██████████| 196/196 [00:27<00:00,  7.05it/s]\n"
          ]
        },
        {
          "output_type": "stream",
          "name": "stdout",
          "text": [
            "Epoch 57/128, Train Loss: 1.1789, Val Loss: 1.2193, Val Accuracy: 0.5222\n"
          ]
        },
        {
          "output_type": "stream",
          "name": "stderr",
          "text": [
            "100%|██████████| 196/196 [00:27<00:00,  7.05it/s]\n"
          ]
        },
        {
          "output_type": "stream",
          "name": "stdout",
          "text": [
            "Epoch 58/128, Train Loss: 1.1611, Val Loss: 1.2085, Val Accuracy: 0.5234\n"
          ]
        },
        {
          "output_type": "stream",
          "name": "stderr",
          "text": [
            "100%|██████████| 196/196 [00:28<00:00,  6.92it/s]\n"
          ]
        },
        {
          "output_type": "stream",
          "name": "stdout",
          "text": [
            "Epoch 59/128, Train Loss: 1.1422, Val Loss: 1.2014, Val Accuracy: 0.5312\n"
          ]
        },
        {
          "output_type": "stream",
          "name": "stderr",
          "text": [
            "100%|██████████| 196/196 [00:27<00:00,  7.05it/s]\n"
          ]
        },
        {
          "output_type": "stream",
          "name": "stdout",
          "text": [
            "Epoch 60/128, Train Loss: 1.1247, Val Loss: 1.1736, Val Accuracy: 0.5451\n"
          ]
        },
        {
          "output_type": "stream",
          "name": "stderr",
          "text": [
            "100%|██████████| 196/196 [00:27<00:00,  7.04it/s]\n"
          ]
        },
        {
          "output_type": "stream",
          "name": "stdout",
          "text": [
            "Epoch 61/128, Train Loss: 1.1079, Val Loss: 1.1533, Val Accuracy: 0.5535\n"
          ]
        },
        {
          "output_type": "stream",
          "name": "stderr",
          "text": [
            "100%|██████████| 196/196 [00:27<00:00,  7.05it/s]\n"
          ]
        },
        {
          "output_type": "stream",
          "name": "stdout",
          "text": [
            "Epoch 62/128, Train Loss: 1.0937, Val Loss: 1.1445, Val Accuracy: 0.5570\n"
          ]
        },
        {
          "output_type": "stream",
          "name": "stderr",
          "text": [
            "100%|██████████| 196/196 [00:27<00:00,  7.04it/s]\n"
          ]
        },
        {
          "output_type": "stream",
          "name": "stdout",
          "text": [
            "Epoch 63/128, Train Loss: 1.0802, Val Loss: 1.1322, Val Accuracy: 0.5599\n"
          ]
        },
        {
          "output_type": "stream",
          "name": "stderr",
          "text": [
            "100%|██████████| 196/196 [00:27<00:00,  7.04it/s]\n"
          ]
        },
        {
          "output_type": "stream",
          "name": "stdout",
          "text": [
            "Epoch 64/128, Train Loss: 1.0655, Val Loss: 1.1124, Val Accuracy: 0.5728\n",
            "Chosen edges: tensor([[   4,    1,    2,    3,    5,    7,    9,    4,    4,    2,    4,    6,\n",
            "            8,    4,    1,    2,    4,    7,    8,    4,    4,    4],\n",
            "        [8786, 8869, 8869, 8869, 8869, 8869, 8869, 8932, 9046, 9082, 9082, 9082,\n",
            "         9082, 9122, 9160, 9160, 9160, 9160, 9160, 9163, 9174, 9200]],\n",
            "       device='cuda:0') 22\n"
          ]
        },
        {
          "output_type": "stream",
          "name": "stderr",
          "text": [
            "100%|██████████| 196/196 [00:28<00:00,  6.99it/s]\n"
          ]
        },
        {
          "output_type": "stream",
          "name": "stdout",
          "text": [
            "Epoch 65/128, Train Loss: 1.0559, Val Loss: 1.1170, Val Accuracy: 0.5710\n"
          ]
        },
        {
          "output_type": "stream",
          "name": "stderr",
          "text": [
            "100%|██████████| 196/196 [00:27<00:00,  7.02it/s]\n"
          ]
        },
        {
          "output_type": "stream",
          "name": "stdout",
          "text": [
            "Epoch 66/128, Train Loss: 1.0414, Val Loss: 1.1020, Val Accuracy: 0.5781\n"
          ]
        },
        {
          "output_type": "stream",
          "name": "stderr",
          "text": [
            "100%|██████████| 196/196 [00:27<00:00,  7.01it/s]\n"
          ]
        },
        {
          "output_type": "stream",
          "name": "stdout",
          "text": [
            "Epoch 67/128, Train Loss: 1.0281, Val Loss: 1.0909, Val Accuracy: 0.5797\n"
          ]
        },
        {
          "output_type": "stream",
          "name": "stderr",
          "text": [
            "100%|██████████| 196/196 [00:27<00:00,  7.01it/s]\n"
          ]
        },
        {
          "output_type": "stream",
          "name": "stdout",
          "text": [
            "Epoch 68/128, Train Loss: 1.0176, Val Loss: 1.0810, Val Accuracy: 0.5833\n",
            "torch.Size([242]) torch.Size([39563])\n",
            "combined_metrics torch.Size([39805])\n",
            "mask torch.Size([39805])\n",
            "tensor(37849, device='cuda:0')\n",
            "num_emb_edges 242\n",
            "tensor(101, device='cuda:0') tensor(144, device='cuda:0')\n",
            "Chosen edges to del emb: tensor([[   0,    0,    0,    0,    0,    1,    1,    1,    1,    1,    1,    1,\n",
            "            1,    1,    2,    2,    2,    2,    2,    2,    2,    2,    2,    2,\n",
            "            3,    3,    3,    3,    3,    3,    3,    3,    3,    4,    4,    5,\n",
            "            5,    5,    5,    5,    5,    6,    6,    6,    6,    6,    6,    6,\n",
            "            7,    7,    7,    8,    8,    8,    8,    9,    9,    9,    9,    9,\n",
            "            9,    9,    9,    9,    9,   10,   10,   10,   10,   10,   10,   11,\n",
            "           11,   11,   11,   11,   12,   12,   12,   12,   12,   12,   13,   14,\n",
            "           14,   14,   14,   14,   14,   14,   14,   17,   19,   20,   20,   20,\n",
            "           20,   20,   20,   20,   20],\n",
            "        [8786, 8932, 9082, 9160, 9200, 8869, 8932, 9046, 9082, 9122, 9160, 9163,\n",
            "         9174, 9200, 8786, 8869, 8932, 9046, 9082, 9122, 9160, 9163, 9174, 9200,\n",
            "         8869, 8932, 9046, 9082, 9122, 9160, 9163, 9174, 9200, 9160, 9174, 8869,\n",
            "         9122, 9160, 9163, 9174, 9200, 8786, 8869, 9046, 9082, 9122, 9160, 9174,\n",
            "         8869, 8932, 9160, 8932, 9046, 9082, 9160, 8786, 8869, 8932, 9046, 9082,\n",
            "         9122, 9160, 9163, 9174, 9200, 8786, 8932, 9046, 9082, 9160, 9200, 8786,\n",
            "         8869, 9082, 9122, 9160, 8786, 8869, 8932, 9082, 9160, 9174, 8869, 8869,\n",
            "         9046, 9082, 9122, 9160, 9163, 9174, 9200, 9174, 9163, 8786, 8869, 8932,\n",
            "         9046, 9122, 9160, 9163, 9200]], device='cuda:0', dtype=torch.int32) 101\n",
            "Chosen edges to del exp: tensor([[   2,    6,    8,    0,    2,    3,    4,    5,    6,    7,    8,    9,\n",
            "            0,    1,    3,    4,    5,    6,    7,    8,    9,    0,    1,    2,\n",
            "            4,    5,    6,    7,    8,    9,    0,    1,    2,    3,    4,    6,\n",
            "            7,    8,    9,    0,    1,    2,    3,    4,    5,    6,    8,    9,\n",
            "            0,    1,    2,    3,    4,    5,    6,    7,    8,    2,    6,    8,\n",
            "            2,    6,    8,    4,    6,    8,    2,    6,    8,    2,    4,    8,\n",
            "            2,    4,    6,    1,    2,    3,    6,    7,    8,    9,    0,    2,\n",
            "            3,    4,    5,    6,    7,    8,    9,    0,    1,    3,    4,    5,\n",
            "            6,    7,    8,    9,    0,    1,    2,    3,    5,    6,    7,    8,\n",
            "            9,    0,    1,    2,    3,    4,    5,    6,    8,    9,    0,    1,\n",
            "            2,    3,    4,    5,    6,    7,    9,    1,    2,    3,    6,    8,\n",
            "            9,    1,    2,    3,    6,    7,    8,    1,    2,    3,    6,    8],\n",
            "        [9201, 9201, 9201, 9202, 9202, 9202, 9202, 9202, 9202, 9202, 9202, 9202,\n",
            "         9203, 9203, 9203, 9203, 9203, 9203, 9203, 9203, 9203, 9204, 9204, 9204,\n",
            "         9204, 9204, 9204, 9204, 9204, 9204, 9205, 9205, 9205, 9205, 9205, 9205,\n",
            "         9205, 9205, 9205, 9206, 9206, 9206, 9206, 9206, 9206, 9206, 9206, 9206,\n",
            "         9207, 9207, 9207, 9207, 9207, 9207, 9207, 9207, 9207, 9208, 9208, 9208,\n",
            "         9209, 9209, 9209, 9210, 9210, 9210, 9211, 9211, 9211, 9212, 9212, 9212,\n",
            "         9213, 9213, 9213, 9214, 9214, 9214, 9214, 9214, 9214, 9214, 9215, 9215,\n",
            "         9215, 9215, 9215, 9215, 9215, 9215, 9215, 9216, 9216, 9216, 9216, 9216,\n",
            "         9216, 9216, 9216, 9216, 9217, 9217, 9217, 9217, 9217, 9217, 9217, 9217,\n",
            "         9217, 9218, 9218, 9218, 9218, 9218, 9218, 9218, 9218, 9218, 9219, 9219,\n",
            "         9219, 9219, 9219, 9219, 9219, 9219, 9219, 9220, 9220, 9220, 9220, 9220,\n",
            "         9220, 9221, 9221, 9221, 9221, 9221, 9221, 9222, 9222, 9222, 9222, 9222]],\n",
            "       device='cuda:0') 144\n"
          ]
        },
        {
          "output_type": "stream",
          "name": "stderr",
          "text": [
            "100%|██████████| 196/196 [00:27<00:00,  7.01it/s]\n"
          ]
        },
        {
          "output_type": "stream",
          "name": "stdout",
          "text": [
            "Epoch 69/128, Train Loss: 1.0197, Val Loss: 1.0868, Val Accuracy: 0.5794\n"
          ]
        },
        {
          "output_type": "stream",
          "name": "stderr",
          "text": [
            "100%|██████████| 196/196 [00:27<00:00,  7.02it/s]\n"
          ]
        },
        {
          "output_type": "stream",
          "name": "stdout",
          "text": [
            "Epoch 70/128, Train Loss: 1.0077, Val Loss: 1.0732, Val Accuracy: 0.5843\n"
          ]
        },
        {
          "output_type": "stream",
          "name": "stderr",
          "text": [
            "100%|██████████| 196/196 [00:27<00:00,  7.01it/s]\n"
          ]
        },
        {
          "output_type": "stream",
          "name": "stdout",
          "text": [
            "Epoch 71/128, Train Loss: 0.9954, Val Loss: 1.0659, Val Accuracy: 0.5947\n"
          ]
        },
        {
          "output_type": "stream",
          "name": "stderr",
          "text": [
            "100%|██████████| 196/196 [00:27<00:00,  7.01it/s]\n"
          ]
        },
        {
          "output_type": "stream",
          "name": "stdout",
          "text": [
            "Epoch 72/128, Train Loss: 0.9884, Val Loss: 1.0634, Val Accuracy: 0.5913\n"
          ]
        },
        {
          "output_type": "stream",
          "name": "stderr",
          "text": [
            "100%|██████████| 196/196 [00:27<00:00,  7.02it/s]\n"
          ]
        },
        {
          "output_type": "stream",
          "name": "stdout",
          "text": [
            "Epoch 73/128, Train Loss: 0.9770, Val Loss: 1.0448, Val Accuracy: 0.6027\n"
          ]
        },
        {
          "output_type": "stream",
          "name": "stderr",
          "text": [
            "100%|██████████| 196/196 [00:27<00:00,  7.02it/s]\n"
          ]
        },
        {
          "output_type": "stream",
          "name": "stdout",
          "text": [
            "Epoch 74/128, Train Loss: 0.9659, Val Loss: 1.0313, Val Accuracy: 0.6125\n"
          ]
        },
        {
          "output_type": "stream",
          "name": "stderr",
          "text": [
            "100%|██████████| 196/196 [00:27<00:00,  7.02it/s]\n"
          ]
        },
        {
          "output_type": "stream",
          "name": "stdout",
          "text": [
            "Epoch 75/128, Train Loss: 0.9550, Val Loss: 1.0283, Val Accuracy: 0.6119\n"
          ]
        },
        {
          "output_type": "stream",
          "name": "stderr",
          "text": [
            "100%|██████████| 196/196 [00:27<00:00,  7.02it/s]\n"
          ]
        },
        {
          "output_type": "stream",
          "name": "stdout",
          "text": [
            "Epoch 76/128, Train Loss: 0.9484, Val Loss: 1.0100, Val Accuracy: 0.6217\n"
          ]
        },
        {
          "output_type": "stream",
          "name": "stderr",
          "text": [
            "100%|██████████| 196/196 [00:27<00:00,  7.02it/s]\n"
          ]
        },
        {
          "output_type": "stream",
          "name": "stdout",
          "text": [
            "Epoch 77/128, Train Loss: 0.9372, Val Loss: 1.0129, Val Accuracy: 0.6195\n"
          ]
        },
        {
          "output_type": "stream",
          "name": "stderr",
          "text": [
            "100%|██████████| 196/196 [00:27<00:00,  7.03it/s]\n"
          ]
        },
        {
          "output_type": "stream",
          "name": "stdout",
          "text": [
            "Epoch 78/128, Train Loss: 0.9270, Val Loss: 0.9977, Val Accuracy: 0.6283\n"
          ]
        },
        {
          "output_type": "stream",
          "name": "stderr",
          "text": [
            "100%|██████████| 196/196 [00:27<00:00,  7.02it/s]\n"
          ]
        },
        {
          "output_type": "stream",
          "name": "stdout",
          "text": [
            "Epoch 79/128, Train Loss: 0.9150, Val Loss: 0.9906, Val Accuracy: 0.6282\n"
          ]
        },
        {
          "output_type": "stream",
          "name": "stderr",
          "text": [
            "100%|██████████| 196/196 [00:27<00:00,  7.01it/s]\n"
          ]
        },
        {
          "output_type": "stream",
          "name": "stdout",
          "text": [
            "Epoch 80/128, Train Loss: 0.9048, Val Loss: 0.9707, Val Accuracy: 0.6440\n"
          ]
        },
        {
          "output_type": "stream",
          "name": "stderr",
          "text": [
            "100%|██████████| 196/196 [00:27<00:00,  7.01it/s]\n"
          ]
        },
        {
          "output_type": "stream",
          "name": "stdout",
          "text": [
            "Epoch 81/128, Train Loss: 0.8939, Val Loss: 0.9832, Val Accuracy: 0.6442\n"
          ]
        },
        {
          "output_type": "stream",
          "name": "stderr",
          "text": [
            "100%|██████████| 196/196 [00:27<00:00,  7.01it/s]\n"
          ]
        },
        {
          "output_type": "stream",
          "name": "stdout",
          "text": [
            "Epoch 82/128, Train Loss: 0.8858, Val Loss: 0.9611, Val Accuracy: 0.6524\n"
          ]
        },
        {
          "output_type": "stream",
          "name": "stderr",
          "text": [
            "100%|██████████| 196/196 [00:27<00:00,  7.02it/s]\n"
          ]
        },
        {
          "output_type": "stream",
          "name": "stdout",
          "text": [
            "Epoch 83/128, Train Loss: 0.8775, Val Loss: 0.9436, Val Accuracy: 0.6652\n"
          ]
        },
        {
          "output_type": "stream",
          "name": "stderr",
          "text": [
            "100%|██████████| 196/196 [00:27<00:00,  7.02it/s]\n"
          ]
        },
        {
          "output_type": "stream",
          "name": "stdout",
          "text": [
            "Epoch 84/128, Train Loss: 0.8641, Val Loss: 0.9402, Val Accuracy: 0.6641\n"
          ]
        },
        {
          "output_type": "stream",
          "name": "stderr",
          "text": [
            "100%|██████████| 196/196 [00:27<00:00,  7.01it/s]\n"
          ]
        },
        {
          "output_type": "stream",
          "name": "stdout",
          "text": [
            "Epoch 85/128, Train Loss: 0.8555, Val Loss: 0.9245, Val Accuracy: 0.6789\n",
            "Chosen edges: tensor([[   0,    0,    0,  ...,    5,    4,    4],\n",
            "        [ 152,  153,  156,  ..., 9200, 9214, 9221]], device='cuda:0') 2517\n"
          ]
        },
        {
          "output_type": "stream",
          "name": "stderr",
          "text": [
            "100%|██████████| 196/196 [00:42<00:00,  4.59it/s]\n"
          ]
        },
        {
          "output_type": "stream",
          "name": "stdout",
          "text": [
            "Epoch 86/128, Train Loss: 0.8492, Val Loss: 0.8980, Val Accuracy: 0.6804\n"
          ]
        },
        {
          "output_type": "stream",
          "name": "stderr",
          "text": [
            "100%|██████████| 196/196 [00:42<00:00,  4.60it/s]\n"
          ]
        },
        {
          "output_type": "stream",
          "name": "stdout",
          "text": [
            "Epoch 87/128, Train Loss: 0.8122, Val Loss: 0.9044, Val Accuracy: 0.6792\n"
          ]
        },
        {
          "output_type": "stream",
          "name": "stderr",
          "text": [
            "100%|██████████| 196/196 [00:42<00:00,  4.59it/s]\n"
          ]
        },
        {
          "output_type": "stream",
          "name": "stdout",
          "text": [
            "Epoch 88/128, Train Loss: 0.7832, Val Loss: 0.8631, Val Accuracy: 0.6970\n"
          ]
        },
        {
          "output_type": "stream",
          "name": "stderr",
          "text": [
            "100%|██████████| 196/196 [00:42<00:00,  4.59it/s]\n"
          ]
        },
        {
          "output_type": "stream",
          "name": "stdout",
          "text": [
            "Epoch 89/128, Train Loss: 0.7609, Val Loss: 0.8474, Val Accuracy: 0.7126\n",
            "torch.Size([2144484]) torch.Size([62072])\n",
            "combined_metrics torch.Size([2206556])\n",
            "mask torch.Size([2206556])\n",
            "tensor(2119610, device='cuda:0')\n",
            "num_emb_edges 2144484\n",
            "tensor(86597, device='cuda:0') tensor(20, device='cuda:0')\n",
            "Chosen edges to del emb: tensor([[   1,    2,    2,  ..., 2516, 2516, 2516],\n",
            "        [ 153,  155,  156,  ..., 9001, 9174, 9221]], device='cuda:0',\n",
            "       dtype=torch.int32) 86597\n",
            "Chosen edges to del exp: tensor([[    3,     3,     3,     3,     3,     3,     3,     3,     3,     3,\n",
            "             3,     0,     0,     0,     0,     0,     0,     8,     0,     0],\n",
            "        [ 9238,  9239,  9244,  9245,  9310,  9345,  9346,  9350,  9351,  9356,\n",
            "          9361, 11195, 11219, 11220, 11223, 11226, 11227, 11227, 11405, 11406]],\n",
            "       device='cuda:0') 20\n"
          ]
        },
        {
          "output_type": "stream",
          "name": "stderr",
          "text": [
            "100%|██████████| 196/196 [00:41<00:00,  4.69it/s]\n"
          ]
        },
        {
          "output_type": "stream",
          "name": "stdout",
          "text": [
            "Epoch 90/128, Train Loss: 0.8617, Val Loss: 0.9218, Val Accuracy: 0.6749\n"
          ]
        },
        {
          "output_type": "stream",
          "name": "stderr",
          "text": [
            "100%|██████████| 196/196 [00:41<00:00,  4.68it/s]\n"
          ]
        },
        {
          "output_type": "stream",
          "name": "stdout",
          "text": [
            "Epoch 91/128, Train Loss: 0.8215, Val Loss: 0.8873, Val Accuracy: 0.6981\n"
          ]
        },
        {
          "output_type": "stream",
          "name": "stderr",
          "text": [
            "100%|██████████| 196/196 [00:41<00:00,  4.68it/s]\n"
          ]
        },
        {
          "output_type": "stream",
          "name": "stdout",
          "text": [
            "Epoch 92/128, Train Loss: 0.7944, Val Loss: 0.8621, Val Accuracy: 0.7073\n"
          ]
        },
        {
          "output_type": "stream",
          "name": "stderr",
          "text": [
            "100%|██████████| 196/196 [00:41<00:00,  4.69it/s]\n"
          ]
        },
        {
          "output_type": "stream",
          "name": "stdout",
          "text": [
            "Epoch 93/128, Train Loss: 0.7726, Val Loss: 0.8452, Val Accuracy: 0.7094\n"
          ]
        },
        {
          "output_type": "stream",
          "name": "stderr",
          "text": [
            "100%|██████████| 196/196 [00:41<00:00,  4.68it/s]\n"
          ]
        },
        {
          "output_type": "stream",
          "name": "stdout",
          "text": [
            "Epoch 94/128, Train Loss: 0.7555, Val Loss: 0.8348, Val Accuracy: 0.7158\n"
          ]
        },
        {
          "output_type": "stream",
          "name": "stderr",
          "text": [
            "100%|██████████| 196/196 [00:41<00:00,  4.68it/s]\n"
          ]
        },
        {
          "output_type": "stream",
          "name": "stdout",
          "text": [
            "Epoch 95/128, Train Loss: 0.7387, Val Loss: 0.8306, Val Accuracy: 0.7143\n"
          ]
        },
        {
          "output_type": "stream",
          "name": "stderr",
          "text": [
            "100%|██████████| 196/196 [00:41<00:00,  4.69it/s]\n"
          ]
        },
        {
          "output_type": "stream",
          "name": "stdout",
          "text": [
            "Epoch 96/128, Train Loss: 0.7218, Val Loss: 0.8133, Val Accuracy: 0.7227\n"
          ]
        },
        {
          "output_type": "stream",
          "name": "stderr",
          "text": [
            "100%|██████████| 196/196 [00:41<00:00,  4.68it/s]\n"
          ]
        },
        {
          "output_type": "stream",
          "name": "stdout",
          "text": [
            "Epoch 97/128, Train Loss: 0.7096, Val Loss: 0.8010, Val Accuracy: 0.7235\n"
          ]
        },
        {
          "output_type": "stream",
          "name": "stderr",
          "text": [
            "100%|██████████| 196/196 [00:41<00:00,  4.67it/s]\n"
          ]
        },
        {
          "output_type": "stream",
          "name": "stdout",
          "text": [
            "Epoch 98/128, Train Loss: 0.6965, Val Loss: 0.7861, Val Accuracy: 0.7362\n"
          ]
        },
        {
          "output_type": "stream",
          "name": "stderr",
          "text": [
            "100%|██████████| 196/196 [00:41<00:00,  4.69it/s]\n"
          ]
        },
        {
          "output_type": "stream",
          "name": "stdout",
          "text": [
            "Epoch 99/128, Train Loss: 0.6819, Val Loss: 0.7798, Val Accuracy: 0.7374\n"
          ]
        },
        {
          "output_type": "stream",
          "name": "stderr",
          "text": [
            "100%|██████████| 196/196 [00:41<00:00,  4.69it/s]\n"
          ]
        },
        {
          "output_type": "stream",
          "name": "stdout",
          "text": [
            "Epoch 100/128, Train Loss: 0.6702, Val Loss: 0.7890, Val Accuracy: 0.7333\n"
          ]
        },
        {
          "output_type": "stream",
          "name": "stderr",
          "text": [
            "100%|██████████| 196/196 [00:41<00:00,  4.68it/s]\n"
          ]
        },
        {
          "output_type": "stream",
          "name": "stdout",
          "text": [
            "Epoch 101/128, Train Loss: 0.6615, Val Loss: 0.7634, Val Accuracy: 0.7424\n"
          ]
        },
        {
          "output_type": "stream",
          "name": "stderr",
          "text": [
            "100%|██████████| 196/196 [00:41<00:00,  4.68it/s]\n"
          ]
        },
        {
          "output_type": "stream",
          "name": "stdout",
          "text": [
            "Epoch 102/128, Train Loss: 0.6501, Val Loss: 0.7671, Val Accuracy: 0.7433\n"
          ]
        },
        {
          "output_type": "stream",
          "name": "stderr",
          "text": [
            "100%|██████████| 196/196 [00:41<00:00,  4.69it/s]\n"
          ]
        },
        {
          "output_type": "stream",
          "name": "stdout",
          "text": [
            "Epoch 103/128, Train Loss: 0.6378, Val Loss: 0.7349, Val Accuracy: 0.7581\n"
          ]
        },
        {
          "output_type": "stream",
          "name": "stderr",
          "text": [
            "100%|██████████| 196/196 [00:41<00:00,  4.69it/s]\n"
          ]
        },
        {
          "output_type": "stream",
          "name": "stdout",
          "text": [
            "Epoch 104/128, Train Loss: 0.6294, Val Loss: 0.7358, Val Accuracy: 0.7593\n"
          ]
        }
      ]
    },
    {
      "cell_type": "code",
      "source": [
        "'fff'"
      ],
      "metadata": {
        "id": "LX8sM_Y9c2jL"
      },
      "execution_count": null,
      "outputs": []
    },
    {
      "cell_type": "code",
      "source": [
        "'sdlfsdkjf'"
      ],
      "metadata": {
        "id": "XsBU-Flsk9S2"
      },
      "execution_count": null,
      "outputs": []
    },
    {
      "cell_type": "code",
      "source": [
        "'dsklfj'"
      ],
      "metadata": {
        "id": "SXgYuhGll3x3"
      },
      "execution_count": null,
      "outputs": []
    },
    {
      "cell_type": "code",
      "source": [
        "_, accuracy = eval_one_epoch(sparse_model, criterion, test_loader, hyperparams['task_type'], device)\n",
        "params = get_params_amount(sparse_model)"
      ],
      "metadata": {
        "id": "VCJTApK_gZ3-"
      },
      "execution_count": null,
      "outputs": []
    },
    {
      "cell_type": "code",
      "source": [
        "accuracy, params"
      ],
      "metadata": {
        "id": "8RV4KLphze1b"
      },
      "execution_count": null,
      "outputs": []
    },
    {
      "cell_type": "code",
      "source": [
        "import pandas as pd\n",
        "\n",
        "data = {\n",
        "    'Model': ['Ours', 'ResNet-18', 'AlexNet', 'VGG16', 'ConvNext', 'MNASNet', 'DenseNet', 'ResNeXt', 'PC-DARTS', 'DrNAS', 'Bonsai-Net', 'DARTS', ' Bonsai', 'Random'],\n",
        "    'Accuracy (%)': [accuracy * 100, 91.55, 94.01, 90.43, 64.20, 87.70, 92.81, 90.57, 96.68, 98.10, 97.17, 96.55, 39.76, 10],\n",
        "    'Parameters': [params, 11_689_512, 61_100_840, 138_357_544, 88_591_464, 4_383_312, 28_681_000, 25_028_904]\n",
        "}\n",
        "\n",
        "table = pd.DataFrame(data)\n",
        "\n",
        "def format_with_commas(x):\n",
        "    return \"{:,}\".format(x)\n",
        "\n",
        "styled_table = (table.style\n",
        "               .format({'Accuracy (%)': '{:.2f}',\n",
        "                       'Parameters': format_with_commas})\n",
        "               .set_properties(**{'text-align': 'center'})\n",
        "               .set_table_styles([\n",
        "                   {'selector': 'th', 'props': [('text-align', 'center')]},\n",
        "                   {'selector': 'caption', 'props': [('font-size', '1.1em')]}\n",
        "               ])\n",
        "               .hide(axis='index'))\n",
        "\n",
        "styled_table"
      ],
      "metadata": {
        "id": "fp7woS5BgnDe"
      },
      "execution_count": null,
      "outputs": []
    }
  ]
}