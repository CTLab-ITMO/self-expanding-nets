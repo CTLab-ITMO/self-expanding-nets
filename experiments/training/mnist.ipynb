{
 "cells": [
  {
   "cell_type": "code",
   "execution_count": 1,
   "id": "932f4bdded4b6539",
   "metadata": {
    "ExecuteTime": {
     "end_time": "2025-01-21T14:31:25.334745Z",
     "start_time": "2025-01-21T14:31:20.096324Z"
    }
   },
   "outputs": [],
   "source": [
    "\n",
    "from copy import deepcopy\n",
    "\n",
    "import torch.optim as optim\n",
    "from sklearn.metrics import accuracy_score\n",
    "from torch.utils.data import DataLoader, random_split\n",
    "from torchvision import datasets, transforms\n",
    "from tqdm import tqdm\n",
    "import time"
   ]
  },
  {
   "cell_type": "code",
   "execution_count": 2,
   "id": "a089a23845b1066b",
   "metadata": {
    "ExecuteTime": {
     "end_time": "2025-01-21T14:31:25.350457Z",
     "start_time": "2025-01-21T14:31:25.338930Z"
    }
   },
   "outputs": [],
   "source": [
    "from senmodel.model.utils import *\n",
    "from senmodel.metrics.nonlinearity_metrics import *\n",
    "from senmodel.metrics.edge_finder import *"
   ]
  },
  {
   "cell_type": "code",
   "execution_count": 3,
   "id": "888ee10c0aa4d1f9",
   "metadata": {
    "ExecuteTime": {
     "end_time": "2025-01-21T14:31:25.520919Z",
     "start_time": "2025-01-21T14:31:25.513942Z"
    }
   },
   "outputs": [],
   "source": [
    "torch.manual_seed(0)\n",
    "device = torch.device(\"cuda:0\" if torch.cuda.is_available() else \"cpu\")"
   ]
  },
  {
   "cell_type": "code",
   "execution_count": 4,
   "id": "a936039c",
   "metadata": {},
   "outputs": [],
   "source": [
    "def get_params_amount(model):\n",
    "    amount = 0\n",
    "    for _, layer in model.named_children():\n",
    "        if isinstance(layer, ExpandingLinear):\n",
    "            for linear in layer.embed_linears:\n",
    "                amount += linear.weight_values.shape[0]\n",
    "            amount += layer.weight_values.shape[0]\n",
    "        elif isinstance(layer, nn.Linear):\n",
    "            amount += linear.in_features * linear.out_features\n",
    "    return amount"
   ]
  },
  {
   "cell_type": "code",
   "execution_count": 5,
   "id": "28b44164",
   "metadata": {},
   "outputs": [],
   "source": [
    "def get_zero_params_amount(model, eps=1e-8):\n",
    "    amount = 0\n",
    "    for _, layer in model.named_children():\n",
    "        if isinstance(layer, ExpandingLinear):\n",
    "            for linear in layer.embed_linears:\n",
    "                amount += linear.weight_values[linear.weight_values.abs() < eps].shape[0]\n",
    "            amount += layer.weight_values[layer.weight_values.abs() < eps].shape[0]\n",
    "        elif isinstance(layer, nn.Linear):\n",
    "            amount += linear.weight[linear.weight.abs() < eps].numel()\n",
    "    return amount"
   ]
  },
  {
   "cell_type": "code",
   "execution_count": 6,
   "id": "9d78a6bb",
   "metadata": {},
   "outputs": [],
   "source": [
    "def get_to_replace_params_amount(ef, model, layer_names, mask, choose_threshold):\n",
    "    chosen_edges = 0\n",
    "    for layer_name in layer_names:\n",
    "        chosen_edges += len(ef.choose_edges_threshold(model, layer_name, choose_threshold, mask)[0])\n",
    "    return chosen_edges"
   ]
  },
  {
   "cell_type": "code",
   "execution_count": 7,
   "id": "7ab06250d4252047",
   "metadata": {
    "ExecuteTime": {
     "end_time": "2025-01-21T14:31:25.536476Z",
     "start_time": "2025-01-21T14:31:25.528255Z"
    }
   },
   "outputs": [],
   "source": [
    "def train_sparse_recursive(model, train_loader, val_loader, num_epochs, metric, window_size=5, threshold=0.2, choose_threshold=0.4):\n",
    "    optimizer = optim.Adam(model.parameters(), lr=1e-4)\n",
    "    criterion = nn.CrossEntropyLoss()\n",
    "    ef = EdgeFinder(metric, val_loader, device, aggregation_mode='mean')\n",
    "\n",
    "    replace_epoch = [0]\n",
    "    val_losses = []\n",
    "    len_choose = get_model_last_layer(model).count_replaces[0]\n",
    "    for epoch in range(num_epochs):\n",
    "        t0 = time.time()\n",
    "        model.train()\n",
    "        train_loss = 0\n",
    "        for i, (inputs, targets) in enumerate(tqdm(train_loader)):\n",
    "            outputs = model(inputs)\n",
    "            loss = criterion(outputs, targets)\n",
    "\n",
    "            optimizer.zero_grad()\n",
    "            loss.backward()\n",
    "\n",
    "            optimizer.step()\n",
    "            train_loss += loss.item()\n",
    "        \n",
    "        # if len(replace_epoch) > 1:\n",
    "        #     for g in optimizer.param_groups:  \n",
    "                # g['lr'] *= 0.9\n",
    "        \n",
    "        train_loss /= len(train_loader)\n",
    "        train_time = time.time() - t0\n",
    "\n",
    "        model.eval()\n",
    "        val_loss = 0\n",
    "        all_targets = []\n",
    "        all_preds = []\n",
    "        with torch.no_grad():\n",
    "            for inputs, targets in val_loader:\n",
    "                outputs = model(inputs)\n",
    "                loss = criterion(outputs, targets)\n",
    "                val_loss += loss.item()\n",
    "\n",
    "                preds = torch.argmax(outputs, dim=1)\n",
    "                all_targets.extend(targets.cpu().numpy())\n",
    "                all_preds.extend(preds.cpu().numpy())\n",
    "\n",
    "        val_loss /= len(val_loader)\n",
    "        val_accuracy = accuracy_score(all_targets, all_preds)\n",
    "\n",
    "        print(f\"Epoch {epoch + 1}/{num_epochs}, Train Loss: {train_loss:.4f}, \"\n",
    "              f\"Val Loss: {val_loss:.4f}, Val Accuracy: {val_accuracy:.4f}\")\n",
    "        val_losses.append(val_loss)\n",
    "        if len(val_losses) > window_size and epoch - replace_epoch[-1] > 8:\n",
    "            recent_changes = [abs(val_losses[i] - val_losses[i - 1]) for i in range(-window_size, 0)]\n",
    "            avg_change = sum(recent_changes) / window_size\n",
    "            if avg_change < threshold:\n",
    "                # layer = model.fc0\n",
    "                # mask = torch.ones_like(layer.weight_values, dtype=bool)\n",
    "                # len_choose = edge_replacement_func_new_layer(layer, mask, optimizer, val_loader, metric, 0.3, 'mean')\n",
    "\n",
    "                layer = model.fc0\n",
    "                mask = torch.ones_like(layer.weight_values, dtype=bool)\n",
    "                len_choose = edge_replacement_func_new_layer(model, 'fc0', mask, optimizer, choose_threshold, ef)\n",
    "\n",
    "                wandb.log({'len_choose': len_choose})\n",
    "                replace_epoch += [epoch]\n",
    "\n",
    "                # if len(replace_epoch) == 2:\n",
    "                #     for g in optimizer.param_groups:\n",
    "                #         g['lr'] *= 100\n",
    "\n",
    "\n",
    "        params_amount = get_params_amount(model)\n",
    "        # zero_params_amount = get_zero_params_amount(model)\n",
    "        layer = model.fc0\n",
    "        mask = torch.ones_like(layer.weight_values, dtype=bool)\n",
    "        replace_params = get_to_replace_params_amount(ef, model, ['fc0'], mask, choose_threshold)\n",
    "        wandb.log({'val loss': val_loss, 'val accuracy': val_accuracy,\n",
    "                   'train loss': train_loss, 'params amount': params_amount,\n",
    "                   'params to replace amount': replace_params, 'train time': train_time,\n",
    "                   'params ratio': (params_amount - replace_params) / params_amount,\n",
    "                   'lr': optimizer.param_groups[0]['lr'], 'acc amount': val_accuracy / params_amount})\n",
    "\n",
    "def edge_replacement_func_new_layer(model, layer_name, mask, optim, choose_threshold, ef):\n",
    "    layer = model.__getattr__(layer_name)\n",
    "    # ef = EdgeFinder(metric, val_loader, device, aggregation_mode)\n",
    "    chosen_edges = ef.choose_edges_threshold(model, layer_name, choose_threshold, mask)\n",
    "    print(\"Chosen edges:\", chosen_edges, len(chosen_edges[0]))\n",
    "    layer.replace_many(*chosen_edges)\n",
    "\n",
    "    if len(chosen_edges[0]) > 0:\n",
    "        optim.add_param_group({'params': layer.embed_linears[-1].weight_values})\n",
    "        optim.add_param_group({'params': layer.weight_values})\n",
    "    print(len(chosen_edges[0]))\n",
    "    return len(chosen_edges[0])\n",
    "\n",
    "# def edge_replacement_func_new_layer(model, optim, val_loader, metric, choose_threshold, aggregation_mode='mean', len_choose=None):\n",
    "#     layer = get_model_last_layer(model)\n",
    "#     ef = EdgeFinder(metric, val_loader, device, aggregation_mode)\n",
    "#     vals = ef.calculate_edge_metric_for_dataloader(model, len_choose, False)\n",
    "#     print(\"Edge metrics:\", vals, max(vals, default=0), sum(vals))\n",
    "#     chosen_edges = ef.choose_edges_threshold(model, choose_threshold, len_choose)\n",
    "#     print(\"Chosen edges:\", chosen_edges, len(chosen_edges[0]))\n",
    "#     layer.replace_many(*chosen_edges)\n",
    "\n",
    "#     if len(chosen_edges[0]) > 0:\n",
    "#         optim.add_param_group({'params': layer.embed_linears[-1].weight_values})\n",
    "#         # optim.add_param_group({'params': layer.weight_values})\n",
    "#     else:\n",
    "#         print(\"Empty metric\")\n",
    "\n",
    "#     return {'max': max(vals, default=0), 'sum': sum(vals), 'len': len(vals), 'len_choose': layer.count_replaces[-1]}"
   ]
  },
  {
   "cell_type": "code",
   "execution_count": 8,
   "id": "1aff98b408abbf8d",
   "metadata": {
    "ExecuteTime": {
     "end_time": "2025-01-21T14:31:25.547124Z",
     "start_time": "2025-01-21T14:31:25.543666Z"
    }
   },
   "outputs": [],
   "source": [
    "class SimpleFCN(nn.Module):\n",
    "    def __init__(self, input_size=28 * 28, hidden_size=16):\n",
    "        super(SimpleFCN, self).__init__()\n",
    "        self.fc0 = nn.Linear(input_size, 10)\n",
    "        # self.fc1 = nn.Linear(hidden_size, 10)\n",
    "        self.act = nn.ReLU()\n",
    "\n",
    "    def forward(self, x):\n",
    "        x = self.fc0(x)\n",
    "        return x"
   ]
  },
  {
   "cell_type": "code",
   "execution_count": 9,
   "id": "90353a5a49cd1022",
   "metadata": {
    "ExecuteTime": {
     "end_time": "2025-01-21T14:31:25.590348Z",
     "start_time": "2025-01-21T14:31:25.554956Z"
    }
   },
   "outputs": [],
   "source": [
    "# Dataset and Dataloader\n",
    "transform = transforms.Compose([\n",
    "    transforms.ToTensor(),\n",
    "    transforms.Lambda(lambda x: x.view(-1))\n",
    "])\n",
    "\n",
    "# Load dataset and split into train/validation sets\n",
    "dataset = datasets.MNIST(root='./data', train=True, download=True, transform=transform)\n",
    "train_size = int(0.8 * len(dataset))\n",
    "val_size = len(dataset) - train_size\n",
    "train_dataset, val_dataset = random_split(dataset, [train_size, val_size])\n",
    "\n",
    "train_loader = DataLoader(train_dataset, batch_size=64, shuffle=True)\n",
    "val_loader = DataLoader(val_dataset, batch_size=64, shuffle=False)"
   ]
  },
  {
   "cell_type": "code",
   "execution_count": 10,
   "id": "dcb8129e6befdf70",
   "metadata": {
    "ExecuteTime": {
     "end_time": "2025-01-21T14:31:26.821483Z",
     "start_time": "2025-01-21T14:31:26.807650Z"
    }
   },
   "outputs": [],
   "source": [
    "criterion = nn.CrossEntropyLoss()\n",
    "metrics = [\n",
    "    MagnitudeL2Metric(criterion),\n",
    "    # SNIPMetric(criterion),\n",
    "    # GradientMeanEdgeMetric(criterion),\n",
    "    # PerturbationSensitivityEdgeMetric(criterion),\n",
    "]\n",
    "model = SimpleFCN()\n",
    "sparse_model = convert_dense_to_sparse_network(model, layers=[model.fc0])"
   ]
  },
  {
   "cell_type": "code",
   "execution_count": 11,
   "id": "77e8399a",
   "metadata": {
    "ExecuteTime": {
     "end_time": "2025-01-21T14:31:30.645772Z",
     "start_time": "2025-01-21T14:31:27.560914Z"
    }
   },
   "outputs": [
    {
     "name": "stderr",
     "output_type": "stream",
     "text": [
      "\u001b[34m\u001b[1mwandb\u001b[0m: Using wandb-core as the SDK backend.  Please refer to https://wandb.me/wandb-core for more information.\n",
      "\u001b[34m\u001b[1mwandb\u001b[0m: Currently logged in as: \u001b[33mvanyamironov\u001b[0m to \u001b[32mhttps://api.wandb.ai\u001b[0m. Use \u001b[1m`wandb login --relogin`\u001b[0m to force relogin\n"
     ]
    },
    {
     "data": {
      "text/plain": [
       "True"
      ]
     },
     "execution_count": 11,
     "metadata": {},
     "output_type": "execute_result"
    }
   ],
   "source": [
    "import wandb\n",
    "\n",
    "wandb.login()"
   ]
  },
  {
   "cell_type": "code",
   "execution_count": 12,
   "id": "6a4cee60",
   "metadata": {},
   "outputs": [
    {
     "data": {
      "text/html": [
       "Tracking run with wandb version 0.19.8"
      ],
      "text/plain": [
       "<IPython.core.display.HTML object>"
      ]
     },
     "metadata": {},
     "output_type": "display_data"
    },
    {
     "data": {
      "text/html": [
       "Run data is saved locally in <code>/Users/ivanmironov/Projects/self-expanding-nets/experiments/training/wandb/run-20250324_142839-lnplziqh</code>"
      ],
      "text/plain": [
       "<IPython.core.display.HTML object>"
      ]
     },
     "metadata": {},
     "output_type": "display_data"
    },
    {
     "data": {
      "text/html": [
       "Syncing run <strong><a href='https://wandb.ai/vanyamironov/self-expanding-nets/runs/lnplziqh' target=\"_blank\">trash</a></strong> to <a href='https://wandb.ai/vanyamironov/self-expanding-nets' target=\"_blank\">Weights & Biases</a> (<a href='https://wandb.me/developer-guide' target=\"_blank\">docs</a>)<br>"
      ],
      "text/plain": [
       "<IPython.core.display.HTML object>"
      ]
     },
     "metadata": {},
     "output_type": "display_data"
    },
    {
     "data": {
      "text/html": [
       " View project at <a href='https://wandb.ai/vanyamironov/self-expanding-nets' target=\"_blank\">https://wandb.ai/vanyamironov/self-expanding-nets</a>"
      ],
      "text/plain": [
       "<IPython.core.display.HTML object>"
      ]
     },
     "metadata": {},
     "output_type": "display_data"
    },
    {
     "data": {
      "text/html": [
       " View run at <a href='https://wandb.ai/vanyamironov/self-expanding-nets/runs/lnplziqh' target=\"_blank\">https://wandb.ai/vanyamironov/self-expanding-nets/runs/lnplziqh</a>"
      ],
      "text/plain": [
       "<IPython.core.display.HTML object>"
      ]
     },
     "metadata": {},
     "output_type": "display_data"
    }
   ],
   "source": [
    "run = wandb.init(\n",
    "    project=\"self-expanding-nets\",\n",
    "    name=f\"trash\",\n",
    ")"
   ]
  },
  {
   "cell_type": "code",
   "execution_count": null,
   "id": "3b3534e4",
   "metadata": {},
   "outputs": [
    {
     "name": "stderr",
     "output_type": "stream",
     "text": [
      "  0%|          | 0/750 [00:00<?, ?it/s]"
     ]
    },
    {
     "name": "stderr",
     "output_type": "stream",
     "text": [
      "100%|██████████| 750/750 [00:02<00:00, 331.33it/s]\n"
     ]
    },
    {
     "name": "stdout",
     "output_type": "stream",
     "text": [
      "Epoch 1/64, Train Loss: 1.4805, Val Loss: 0.9977, Val Accuracy: 0.8192\n",
      "589 0.07512755102040816\n"
     ]
    },
    {
     "name": "stderr",
     "output_type": "stream",
     "text": [
      "100%|██████████| 750/750 [00:02<00:00, 332.58it/s]\n"
     ]
    },
    {
     "name": "stdout",
     "output_type": "stream",
     "text": [
      "Epoch 2/64, Train Loss: 0.8088, Val Loss: 0.6843, Val Accuracy: 0.8528\n",
      "511 0.06517857142857143\n"
     ]
    },
    {
     "name": "stderr",
     "output_type": "stream",
     "text": [
      "100%|██████████| 750/750 [00:02<00:00, 333.55it/s]\n"
     ]
    },
    {
     "name": "stdout",
     "output_type": "stream",
     "text": [
      "Epoch 3/64, Train Loss: 0.6078, Val Loss: 0.5551, Val Accuracy: 0.8699\n",
      "436 0.055612244897959184\n"
     ]
    },
    {
     "name": "stderr",
     "output_type": "stream",
     "text": [
      "100%|██████████| 750/750 [00:02<00:00, 337.02it/s]\n"
     ]
    },
    {
     "name": "stdout",
     "output_type": "stream",
     "text": [
      "Epoch 4/64, Train Loss: 0.5129, Val Loss: 0.4851, Val Accuracy: 0.8792\n",
      "356 0.045408163265306126\n"
     ]
    },
    {
     "name": "stderr",
     "output_type": "stream",
     "text": [
      "100%|██████████| 750/750 [00:02<00:00, 339.68it/s]\n"
     ]
    },
    {
     "name": "stdout",
     "output_type": "stream",
     "text": [
      "Epoch 5/64, Train Loss: 0.4575, Val Loss: 0.4412, Val Accuracy: 0.8871\n",
      "288 0.036734693877551024\n"
     ]
    },
    {
     "name": "stderr",
     "output_type": "stream",
     "text": [
      "100%|██████████| 750/750 [00:02<00:00, 302.85it/s]\n"
     ]
    },
    {
     "name": "stdout",
     "output_type": "stream",
     "text": [
      "Epoch 6/64, Train Loss: 0.4213, Val Loss: 0.4107, Val Accuracy: 0.8935\n",
      "241 0.030739795918367348\n"
     ]
    },
    {
     "name": "stderr",
     "output_type": "stream",
     "text": [
      "100%|██████████| 750/750 [00:02<00:00, 325.29it/s]\n"
     ]
    },
    {
     "name": "stdout",
     "output_type": "stream",
     "text": [
      "Epoch 7/64, Train Loss: 0.3958, Val Loss: 0.3893, Val Accuracy: 0.8978\n",
      "222 0.028316326530612244\n"
     ]
    },
    {
     "name": "stderr",
     "output_type": "stream",
     "text": [
      "100%|██████████| 750/750 [00:02<00:00, 335.85it/s]\n"
     ]
    },
    {
     "name": "stdout",
     "output_type": "stream",
     "text": [
      "Epoch 8/64, Train Loss: 0.3771, Val Loss: 0.3729, Val Accuracy: 0.9005\n",
      "206 0.026275510204081632\n"
     ]
    },
    {
     "name": "stderr",
     "output_type": "stream",
     "text": [
      "100%|██████████| 750/750 [00:02<00:00, 310.67it/s]\n"
     ]
    },
    {
     "name": "stdout",
     "output_type": "stream",
     "text": [
      "Epoch 9/64, Train Loss: 0.3626, Val Loss: 0.3603, Val Accuracy: 0.9029\n",
      "199 0.02538265306122449\n"
     ]
    },
    {
     "name": "stderr",
     "output_type": "stream",
     "text": [
      "100%|██████████| 750/750 [00:02<00:00, 344.46it/s]\n"
     ]
    },
    {
     "name": "stdout",
     "output_type": "stream",
     "text": [
      "Epoch 10/64, Train Loss: 0.3514, Val Loss: 0.3502, Val Accuracy: 0.9051\n",
      "Chosen edges: tensor([[  0,   0,   0,   0,   0,   0,   0,   0,   0,   0,   0,   0,   0,   0,\n",
      "           0,   0,   0,   0,   0,   0,   0,   0,   0,   0,   0,   0,   0,   0,\n",
      "           0,   0,   1,   1,   1,   1,   1,   1,   1,   1,   1,   1,   1,   1,\n",
      "           1,   1,   1,   1,   1,   1,   1,   1,   1,   1,   1,   1,   2,   2,\n",
      "           2,   2,   2,   2,   2,   2,   2,   2,   2,   2,   2,   2,   2,   2,\n",
      "           2,   2,   2,   2,   2,   2,   2,   3,   3,   3,   3,   3,   3,   3,\n",
      "           3,   3,   3,   3,   3,   3,   3,   3,   4,   4,   4,   4,   4,   4,\n",
      "           4,   4,   4,   4,   4,   4,   4,   4,   4,   4,   4,   4,   4,   4,\n",
      "           4,   4,   4,   4,   4,   5,   5,   5,   5,   5,   5,   5,   5,   5,\n",
      "           5,   5,   5,   5,   5,   5,   5,   5,   6,   6,   6,   6,   6,   6,\n",
      "           6,   6,   6,   6,   6,   6,   6,   6,   7,   7,   7,   7,   7,   7,\n",
      "           7,   7,   7,   7,   7,   7,   7,   7,   7,   8,   8,   8,   9,   9,\n",
      "           9,   9,   9,   9,   9,   9,   9,   9,   9,   9,   9,   9,   9,   9,\n",
      "           9,   9,   9,   9,   9,   9,   9,   9,   9,   9],\n",
      "        [193, 221, 249, 277, 350, 351, 352, 377, 378, 379, 380, 381, 405, 406,\n",
      "         407, 408, 432, 433, 434, 435, 436, 461, 462, 463, 489, 490, 710, 713,\n",
      "         714, 715, 275, 276, 277, 294, 304, 322, 323, 347, 350, 351, 375, 378,\n",
      "         379, 402, 403, 406, 437, 462, 465, 489, 537, 710, 711, 712, 220, 248,\n",
      "         276, 277, 316, 318, 319, 320, 321, 342, 343, 344, 345, 346, 347, 348,\n",
      "         349, 369, 370, 371, 372, 709, 711, 220, 221, 248, 276, 289, 291, 304,\n",
      "         317, 318, 486, 487, 514, 515, 516, 517,  67,  97,  98, 209, 210, 211,\n",
      "         238, 239, 266, 267, 294, 374, 567, 568, 569, 621, 737, 739, 740, 741,\n",
      "         742, 743, 744, 745, 746, 192, 220, 221, 247, 248, 249, 276, 277, 304,\n",
      "         305, 327, 328, 329, 330, 357, 358, 359, 242, 269, 270, 271, 277, 296,\n",
      "         297, 682, 683, 686, 687, 714, 716, 717, 122, 192, 249, 375, 376, 377,\n",
      "         378, 402, 403, 404, 405, 406, 431, 432, 433,  72, 563, 743,  95,  99,\n",
      "         100, 129, 130, 133, 156, 157, 161, 162, 163, 164, 173, 190, 191, 192,\n",
      "         201, 210, 219, 220, 221, 277, 416, 444, 500, 569]]) 192\n",
      "192\n",
      "192 0.005106382978723404\n"
     ]
    },
    {
     "name": "stderr",
     "output_type": "stream",
     "text": [
      "100%|██████████| 750/750 [00:05<00:00, 135.90it/s]\n"
     ]
    },
    {
     "name": "stdout",
     "output_type": "stream",
     "text": [
      "Epoch 11/64, Train Loss: 0.3318, Val Loss: 0.3211, Val Accuracy: 0.9111\n",
      "200 0.005319148936170213\n"
     ]
    },
    {
     "name": "stderr",
     "output_type": "stream",
     "text": [
      "100%|██████████| 750/750 [00:05<00:00, 136.31it/s]\n"
     ]
    },
    {
     "name": "stdout",
     "output_type": "stream",
     "text": [
      "Epoch 12/64, Train Loss: 0.3096, Val Loss: 0.3035, Val Accuracy: 0.9178\n",
      "170 0.0045212765957446804\n"
     ]
    },
    {
     "name": "stderr",
     "output_type": "stream",
     "text": [
      "100%|██████████| 750/750 [00:05<00:00, 135.77it/s]\n"
     ]
    },
    {
     "name": "stdout",
     "output_type": "stream",
     "text": [
      "Epoch 13/64, Train Loss: 0.2937, Val Loss: 0.2911, Val Accuracy: 0.9197\n",
      "144 0.003829787234042553\n"
     ]
    },
    {
     "name": "stderr",
     "output_type": "stream",
     "text": [
      "100%|██████████| 750/750 [00:05<00:00, 136.26it/s]\n"
     ]
    },
    {
     "name": "stdout",
     "output_type": "stream",
     "text": [
      "Epoch 14/64, Train Loss: 0.2807, Val Loss: 0.2798, Val Accuracy: 0.9223\n",
      "133 0.0035372340425531917\n"
     ]
    },
    {
     "name": "stderr",
     "output_type": "stream",
     "text": [
      "100%|██████████| 750/750 [00:05<00:00, 134.73it/s]\n"
     ]
    },
    {
     "name": "stdout",
     "output_type": "stream",
     "text": [
      "Epoch 15/64, Train Loss: 0.2693, Val Loss: 0.2698, Val Accuracy: 0.9249\n",
      "121 0.0032180851063829787\n"
     ]
    },
    {
     "name": "stderr",
     "output_type": "stream",
     "text": [
      "100%|██████████| 750/750 [00:05<00:00, 134.49it/s]\n"
     ]
    },
    {
     "name": "stdout",
     "output_type": "stream",
     "text": [
      "Epoch 16/64, Train Loss: 0.2590, Val Loss: 0.2611, Val Accuracy: 0.9287\n",
      "105 0.002792553191489362\n"
     ]
    },
    {
     "name": "stderr",
     "output_type": "stream",
     "text": [
      "100%|██████████| 750/750 [00:05<00:00, 135.68it/s]\n"
     ]
    },
    {
     "name": "stdout",
     "output_type": "stream",
     "text": [
      "Epoch 17/64, Train Loss: 0.2495, Val Loss: 0.2529, Val Accuracy: 0.9296\n",
      "96 0.002553191489361702\n"
     ]
    },
    {
     "name": "stderr",
     "output_type": "stream",
     "text": [
      "100%|██████████| 750/750 [00:05<00:00, 133.62it/s]\n"
     ]
    },
    {
     "name": "stdout",
     "output_type": "stream",
     "text": [
      "Epoch 18/64, Train Loss: 0.2410, Val Loss: 0.2472, Val Accuracy: 0.9313\n",
      "92 0.0024468085106382977\n"
     ]
    },
    {
     "name": "stderr",
     "output_type": "stream",
     "text": [
      "100%|██████████| 750/750 [00:05<00:00, 134.66it/s]\n"
     ]
    },
    {
     "name": "stdout",
     "output_type": "stream",
     "text": [
      "Epoch 19/64, Train Loss: 0.2331, Val Loss: 0.2392, Val Accuracy: 0.9330\n",
      "Chosen edges: tensor([[  6,   7,   8,   8,   8,   9,   9,   9,   0,   0,   1,   1,   1,   1,\n",
      "           2,   2,   2,   2,   2,   3,   3,   3,   3,   3,   4,   4,   4,   4,\n",
      "           4,   4,   4,   4,   4,   4,   4,   4,   4,   4,   4,   4,   5,   5,\n",
      "           5,   5,   5,   5,   5,   5,   5,   5,   5,   5,   5,   5,   5,   6,\n",
      "           6,   6,   6,   6,   6,   6,   7,   7,   7,   7,   7,   8,   8,   8,\n",
      "           9,   9,   9,   9,   9,   9,   9,   9,   9,   9,   9,   9,   9,   9,\n",
      "           9,   9,   9,   9,   9],\n",
      "        [718, 130,  69,  70,  71,  96,  97,  98, 797, 802, 818, 834, 835, 836,\n",
      "         841, 847, 855, 856, 857, 861, 862, 863, 864, 867, 877, 878, 879, 880,\n",
      "         881, 883, 886, 892, 893, 894, 895, 896, 897, 898, 899, 900, 901, 903,\n",
      "         905, 906, 907, 908, 909, 910, 911, 912, 913, 914, 915, 916, 917, 922,\n",
      "         925, 926, 927, 929, 930, 931, 932, 936, 937, 941, 942, 947, 948, 949,\n",
      "         950, 951, 952, 953, 955, 958, 959, 960, 961, 962, 964, 965, 966, 969,\n",
      "         970, 971, 972, 973, 974]]) 89\n",
      "89\n",
      "89 0.001917648833250738\n"
     ]
    },
    {
     "name": "stderr",
     "output_type": "stream",
     "text": [
      "100%|██████████| 750/750 [00:07<00:00, 106.79it/s]\n"
     ]
    },
    {
     "name": "stdout",
     "output_type": "stream",
     "text": [
      "Epoch 20/64, Train Loss: 0.2228, Val Loss: 0.2295, Val Accuracy: 0.9353\n",
      "87 0.0018745556010428563\n"
     ]
    },
    {
     "name": "stderr",
     "output_type": "stream",
     "text": [
      "100%|██████████| 750/750 [00:06<00:00, 109.18it/s]\n"
     ]
    },
    {
     "name": "stdout",
     "output_type": "stream",
     "text": [
      "Epoch 21/64, Train Loss: 0.2107, Val Loss: 0.2184, Val Accuracy: 0.9397\n",
      "84 0.0018099157527310336\n"
     ]
    },
    {
     "name": "stderr",
     "output_type": "stream",
     "text": [
      "100%|██████████| 750/750 [00:06<00:00, 113.73it/s]\n"
     ]
    },
    {
     "name": "stdout",
     "output_type": "stream",
     "text": [
      "Epoch 22/64, Train Loss: 0.2002, Val Loss: 0.2111, Val Accuracy: 0.9411\n",
      "80 0.0017237292883152701\n"
     ]
    },
    {
     "name": "stderr",
     "output_type": "stream",
     "text": [
      "100%|██████████| 750/750 [00:06<00:00, 113.35it/s]\n"
     ]
    },
    {
     "name": "stdout",
     "output_type": "stream",
     "text": [
      "Epoch 23/64, Train Loss: 0.1913, Val Loss: 0.2031, Val Accuracy: 0.9411\n",
      "83 0.0017883691366270926\n"
     ]
    },
    {
     "name": "stderr",
     "output_type": "stream",
     "text": [
      "100%|██████████| 750/750 [00:06<00:00, 112.73it/s]\n"
     ]
    },
    {
     "name": "stdout",
     "output_type": "stream",
     "text": [
      "Epoch 24/64, Train Loss: 0.1832, Val Loss: 0.1967, Val Accuracy: 0.9423\n",
      "84 0.0018099157527310336\n"
     ]
    },
    {
     "name": "stderr",
     "output_type": "stream",
     "text": [
      "100%|██████████| 750/750 [00:06<00:00, 112.48it/s]\n"
     ]
    },
    {
     "name": "stdout",
     "output_type": "stream",
     "text": [
      "Epoch 25/64, Train Loss: 0.1756, Val Loss: 0.1905, Val Accuracy: 0.9440\n",
      "84 0.0018099157527310336\n"
     ]
    },
    {
     "name": "stderr",
     "output_type": "stream",
     "text": [
      "100%|██████████| 750/750 [00:06<00:00, 115.27it/s]\n"
     ]
    },
    {
     "name": "stdout",
     "output_type": "stream",
     "text": [
      "Epoch 26/64, Train Loss: 0.1690, Val Loss: 0.1871, Val Accuracy: 0.9457\n",
      "86 0.0018530089849389153\n"
     ]
    },
    {
     "name": "stderr",
     "output_type": "stream",
     "text": [
      "100%|██████████| 750/750 [00:06<00:00, 113.81it/s]\n"
     ]
    },
    {
     "name": "stdout",
     "output_type": "stream",
     "text": [
      "Epoch 27/64, Train Loss: 0.1629, Val Loss: 0.1825, Val Accuracy: 0.9459\n",
      "84 0.0018099157527310336\n"
     ]
    },
    {
     "name": "stderr",
     "output_type": "stream",
     "text": [
      "100%|██████████| 750/750 [00:06<00:00, 114.54it/s]\n"
     ]
    },
    {
     "name": "stdout",
     "output_type": "stream",
     "text": [
      "Epoch 28/64, Train Loss: 0.1575, Val Loss: 0.1775, Val Accuracy: 0.9469\n",
      "Chosen edges: tensor([[   2,    2,    2,    2,    7,    7,    7,    8,    7,    7,    6,    7,\n",
      "            8,    8,    8,    9,    9,    9,    1,    1,    1,    1,    2,    2,\n",
      "            2,    2,    2,    3,    3,    3,    3,    3,    4,    4,    4,    4,\n",
      "            4,    4,    4,    4,    4,    4,    4,    4,    4,    5,    5,    5,\n",
      "            5,    5,    5,    5,    5,    5,    5,    5,    5,    5,    5,    6,\n",
      "            6,    6,    6,    6,    6,    6,    8,    8,    8,    9,    9,    9,\n",
      "            9,    9,    9,    9,    9,    9,    9,    9,    9,    9,    9,    9],\n",
      "        [ 739,  740,  741,  742,  128,  129,  131,   68,  933,  934,  976,  977,\n",
      "          978,  979,  980,  981,  982,  983,  986,  987,  988,  989,  990,  991,\n",
      "          992,  993,  994,  995,  996,  997,  998,  999, 1001, 1002, 1003, 1004,\n",
      "         1005, 1006, 1007, 1008, 1009, 1010, 1011, 1012, 1013, 1017, 1018, 1019,\n",
      "         1020, 1021, 1022, 1023, 1024, 1025, 1026, 1027, 1028, 1029, 1030, 1031,\n",
      "         1032, 1033, 1034, 1035, 1036, 1037, 1043, 1044, 1045, 1046, 1047, 1048,\n",
      "         1050, 1052, 1053, 1054, 1055, 1058, 1059, 1060, 1061, 1062, 1063, 1064]]) 84\n",
      "84\n",
      "84 0.001546761927559983\n"
     ]
    },
    {
     "name": "stderr",
     "output_type": "stream",
     "text": [
      "100%|██████████| 750/750 [00:07<00:00, 96.61it/s] \n"
     ]
    },
    {
     "name": "stdout",
     "output_type": "stream",
     "text": [
      "Epoch 29/64, Train Loss: 0.1518, Val Loss: 0.1726, Val Accuracy: 0.9487\n",
      "83 0.001528348095089031\n"
     ]
    },
    {
     "name": "stderr",
     "output_type": "stream",
     "text": [
      "100%|██████████| 750/750 [00:07<00:00, 97.60it/s] \n"
     ]
    },
    {
     "name": "stdout",
     "output_type": "stream",
     "text": [
      "Epoch 30/64, Train Loss: 0.1457, Val Loss: 0.1677, Val Accuracy: 0.9497\n",
      "85 0.0015651757600309351\n"
     ]
    },
    {
     "name": "stderr",
     "output_type": "stream",
     "text": [
      "100%|██████████| 750/750 [00:08<00:00, 88.05it/s]\n"
     ]
    },
    {
     "name": "stdout",
     "output_type": "stream",
     "text": [
      "Epoch 31/64, Train Loss: 0.1398, Val Loss: 0.1639, Val Accuracy: 0.9504\n",
      "80 0.0014731065976761742\n"
     ]
    },
    {
     "name": "stderr",
     "output_type": "stream",
     "text": [
      "100%|██████████| 750/750 [00:08<00:00, 93.05it/s]\n"
     ]
    },
    {
     "name": "stdout",
     "output_type": "stream",
     "text": [
      "Epoch 32/64, Train Loss: 0.1343, Val Loss: 0.1600, Val Accuracy: 0.9516\n",
      "80 0.0014731065976761742\n"
     ]
    },
    {
     "name": "stderr",
     "output_type": "stream",
     "text": [
      "100%|██████████| 750/750 [00:07<00:00, 97.54it/s] \n"
     ]
    },
    {
     "name": "stdout",
     "output_type": "stream",
     "text": [
      "Epoch 33/64, Train Loss: 0.1299, Val Loss: 0.1569, Val Accuracy: 0.9535\n",
      "79 0.0014546927652052222\n"
     ]
    },
    {
     "name": "stderr",
     "output_type": "stream",
     "text": [
      "100%|██████████| 750/750 [00:07<00:00, 95.81it/s]\n"
     ]
    },
    {
     "name": "stdout",
     "output_type": "stream",
     "text": [
      "Epoch 34/64, Train Loss: 0.1253, Val Loss: 0.1534, Val Accuracy: 0.9545\n",
      "79 0.0014546927652052222\n"
     ]
    },
    {
     "name": "stderr",
     "output_type": "stream",
     "text": [
      "100%|██████████| 750/750 [00:07<00:00, 93.82it/s]\n"
     ]
    },
    {
     "name": "stdout",
     "output_type": "stream",
     "text": [
      "Epoch 35/64, Train Loss: 0.1211, Val Loss: 0.1527, Val Accuracy: 0.9544\n",
      "82 0.0015099342626180786\n"
     ]
    },
    {
     "name": "stderr",
     "output_type": "stream",
     "text": [
      "100%|██████████| 750/750 [00:07<00:00, 96.66it/s] \n"
     ]
    },
    {
     "name": "stdout",
     "output_type": "stream",
     "text": [
      "Epoch 36/64, Train Loss: 0.1171, Val Loss: 0.1493, Val Accuracy: 0.9555\n",
      "84 0.001546761927559983\n"
     ]
    },
    {
     "name": "stderr",
     "output_type": "stream",
     "text": [
      "100%|██████████| 750/750 [00:07<00:00, 97.83it/s]\n"
     ]
    },
    {
     "name": "stdout",
     "output_type": "stream",
     "text": [
      "Epoch 37/64, Train Loss: 0.1138, Val Loss: 0.1481, Val Accuracy: 0.9555\n",
      "Chosen edges: tensor([[   3,    6,    7,    7,    7,    7,    7,    9,    0,    0,    1,    3,\n",
      "            7,    2,    2,    2,    2,    7,    7,    7,    8,    7,    7,    6,\n",
      "            7,    8,    8,    8,    9,    9,    9,    1,    1,    1,    1,    2,\n",
      "            2,    2,    2,    2,    3,    3,    3,    3,    3,    4,    4,    4,\n",
      "            4,    4,    4,    4,    4,    4,    4,    5,    5,    5,    5,    5,\n",
      "            5,    5,    5,    5,    5,    5,    6,    6,    6,    6,    6,    6,\n",
      "            6,    8,    8,    8,    9,    9,    9,    9,    9,    9,    9,    9,\n",
      "            9,    9,    9],\n",
      "        [ 557,  622,   99,  101,  132,  160,  163,  146,  795,  800,  816,  866,\n",
      "         1038, 1065, 1066, 1067, 1068, 1069, 1070, 1071, 1072, 1073, 1074, 1075,\n",
      "         1076, 1077, 1078, 1079, 1080, 1081, 1082, 1083, 1084, 1085, 1086, 1087,\n",
      "         1088, 1089, 1090, 1091, 1092, 1093, 1094, 1095, 1096, 1097, 1100, 1102,\n",
      "         1103, 1104, 1105, 1106, 1107, 1108, 1109, 1113, 1114, 1115, 1116, 1117,\n",
      "         1118, 1119, 1120, 1121, 1122, 1123, 1124, 1125, 1126, 1127, 1128, 1129,\n",
      "         1130, 1131, 1132, 1133, 1134, 1135, 1136, 1137, 1138, 1139, 1142, 1144,\n",
      "         1145, 1146, 1147]]) 87\n",
      "87\n",
      "87 0.0013865425684505784\n"
     ]
    },
    {
     "name": "stderr",
     "output_type": "stream",
     "text": [
      "100%|██████████| 750/750 [00:08<00:00, 85.22it/s]\n"
     ]
    },
    {
     "name": "stdout",
     "output_type": "stream",
     "text": [
      "Epoch 38/64, Train Loss: 0.1108, Val Loss: 0.1454, Val Accuracy: 0.9556\n",
      "86 0.0013706052975488478\n"
     ]
    },
    {
     "name": "stderr",
     "output_type": "stream",
     "text": [
      "100%|██████████| 750/750 [00:08<00:00, 84.88it/s]\n"
     ]
    },
    {
     "name": "stdout",
     "output_type": "stream",
     "text": [
      "Epoch 39/64, Train Loss: 0.1071, Val Loss: 0.1433, Val Accuracy: 0.9573\n",
      "88 0.0014024798393523093\n"
     ]
    },
    {
     "name": "stderr",
     "output_type": "stream",
     "text": [
      "100%|██████████| 750/750 [00:08<00:00, 85.11it/s]\n"
     ]
    },
    {
     "name": "stdout",
     "output_type": "stream",
     "text": [
      "Epoch 40/64, Train Loss: 0.1030, Val Loss: 0.1430, Val Accuracy: 0.9557\n",
      "89 0.00141841711025404\n"
     ]
    },
    {
     "name": "stderr",
     "output_type": "stream",
     "text": [
      "100%|██████████| 750/750 [00:08<00:00, 85.08it/s]\n"
     ]
    },
    {
     "name": "stdout",
     "output_type": "stream",
     "text": [
      "Epoch 41/64, Train Loss: 0.0997, Val Loss: 0.1425, Val Accuracy: 0.9557\n",
      "90 0.0014343543811557709\n"
     ]
    },
    {
     "name": "stderr",
     "output_type": "stream",
     "text": [
      "100%|██████████| 750/750 [00:08<00:00, 85.23it/s]\n"
     ]
    },
    {
     "name": "stdout",
     "output_type": "stream",
     "text": [
      "Epoch 42/64, Train Loss: 0.0967, Val Loss: 0.1399, Val Accuracy: 0.9575\n",
      "91 0.0014502916520575018\n"
     ]
    },
    {
     "name": "stderr",
     "output_type": "stream",
     "text": [
      "100%|██████████| 750/750 [00:09<00:00, 82.82it/s]\n"
     ]
    },
    {
     "name": "stdout",
     "output_type": "stream",
     "text": [
      "Epoch 43/64, Train Loss: 0.0933, Val Loss: 0.1406, Val Accuracy: 0.9573\n",
      "93 0.0014821661938609633\n"
     ]
    },
    {
     "name": "stderr",
     "output_type": "stream",
     "text": [
      "100%|██████████| 750/750 [00:09<00:00, 78.51it/s]\n"
     ]
    },
    {
     "name": "stdout",
     "output_type": "stream",
     "text": [
      "Epoch 44/64, Train Loss: 0.0906, Val Loss: 0.1370, Val Accuracy: 0.9587\n",
      "96 0.0015299780065661556\n"
     ]
    },
    {
     "name": "stderr",
     "output_type": "stream",
     "text": [
      "100%|██████████| 750/750 [00:09<00:00, 79.61it/s]\n"
     ]
    },
    {
     "name": "stdout",
     "output_type": "stream",
     "text": [
      "Epoch 45/64, Train Loss: 0.0877, Val Loss: 0.1378, Val Accuracy: 0.9583\n",
      "97 0.0015459152774678865\n"
     ]
    },
    {
     "name": "stderr",
     "output_type": "stream",
     "text": [
      "100%|██████████| 750/750 [00:09<00:00, 78.56it/s]\n"
     ]
    },
    {
     "name": "stdout",
     "output_type": "stream",
     "text": [
      "Epoch 46/64, Train Loss: 0.0850, Val Loss: 0.1370, Val Accuracy: 0.9581\n",
      "Chosen edges: tensor([[   3,    3,    3,    6,    6,    6,    6,    6,    7,    7,    7,    9,\n",
      "            0,    3,    6,    7,    7,    7,    7,    7,    9,    0,    0,    1,\n",
      "            3,    7,    2,    2,    2,    2,    7,    7,    7,    8,    7,    7,\n",
      "            6,    7,    8,    8,    8,    9,    9,    9,    1,    1,    1,    1,\n",
      "            2,    2,    2,    2,    2,    3,    3,    3,    3,    3,    4,    4,\n",
      "            4,    4,    4,    4,    4,    4,    4,    5,    5,    5,    5,    5,\n",
      "            5,    5,    5,    5,    5,    5,    6,    6,    6,    6,    6,    6,\n",
      "            6,    8,    8,    8,    9,    9,    9,    9,    9,    9,    9,    9,\n",
      "            9,    9,    9],\n",
      "        [ 136,  332,  360,  621,  650,  681,  710,  719,   97,  100,  121,  104,\n",
      "          791, 1149, 1150, 1151, 1152, 1153, 1154, 1155, 1156, 1157, 1158, 1159,\n",
      "         1160, 1161, 1162, 1163, 1164, 1165, 1166, 1167, 1168, 1169, 1170, 1171,\n",
      "         1172, 1173, 1174, 1175, 1176, 1177, 1178, 1179, 1180, 1181, 1182, 1183,\n",
      "         1184, 1185, 1186, 1187, 1188, 1189, 1190, 1191, 1192, 1193, 1194, 1195,\n",
      "         1197, 1198, 1199, 1200, 1201, 1202, 1203, 1204, 1205, 1206, 1207, 1208,\n",
      "         1209, 1210, 1211, 1212, 1213, 1214, 1215, 1216, 1217, 1218, 1219, 1220,\n",
      "         1221, 1222, 1223, 1224, 1225, 1226, 1227, 1228, 1229, 1230, 1231, 1232,\n",
      "         1233, 1234, 1235]]) 99\n",
      "99\n",
      "99 0.0013462610658580034\n"
     ]
    },
    {
     "name": "stderr",
     "output_type": "stream",
     "text": [
      "100%|██████████| 750/750 [00:10<00:00, 69.62it/s]\n"
     ]
    },
    {
     "name": "stdout",
     "output_type": "stream",
     "text": [
      "Epoch 47/64, Train Loss: 0.0833, Val Loss: 0.1354, Val Accuracy: 0.9581\n",
      "103 0.0014006554523573168\n"
     ]
    },
    {
     "name": "stderr",
     "output_type": "stream",
     "text": [
      "100%|██████████| 750/750 [00:10<00:00, 68.97it/s]\n"
     ]
    }
   ],
   "source": [
    "train_sparse_recursive(sparse_model, train_loader, val_loader, 64, metrics[0])"
   ]
  },
  {
   "cell_type": "markdown",
   "id": "b46520e8",
   "metadata": {},
   "source": [
    "- прунинг по метрике на следующей эпохе после реплейса\n"
   ]
  },
  {
   "cell_type": "code",
   "execution_count": null,
   "id": "0247c3d2",
   "metadata": {},
   "outputs": [],
   "source": []
  }
 ],
 "metadata": {
  "kernelspec": {
   "display_name": "self-expanding-nets",
   "language": "python",
   "name": "python3"
  },
  "language_info": {
   "codemirror_mode": {
    "name": "ipython",
    "version": 3
   },
   "file_extension": ".py",
   "mimetype": "text/x-python",
   "name": "python",
   "nbconvert_exporter": "python",
   "pygments_lexer": "ipython3",
   "version": "3.12.7"
  }
 },
 "nbformat": 4,
 "nbformat_minor": 5
}
