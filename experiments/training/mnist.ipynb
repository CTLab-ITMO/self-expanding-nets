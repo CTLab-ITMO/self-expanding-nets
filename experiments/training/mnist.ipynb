{
 "cells": [
  {
   "cell_type": "code",
   "execution_count": 1,
   "id": "932f4bdded4b6539",
   "metadata": {
    "ExecuteTime": {
     "end_time": "2024-12-03T16:14:15.429171Z",
     "start_time": "2024-12-03T16:14:07.567962Z"
    }
   },
   "outputs": [],
   "source": [
    "\n",
    "from copy import deepcopy\n",
    "\n",
    "import torch.optim as optim\n",
    "from sklearn.metrics import accuracy_score\n",
    "from torch.utils.data import DataLoader, random_split\n",
    "from torchvision import datasets, transforms\n",
    "from tqdm import tqdm"
   ]
  },
  {
   "cell_type": "code",
   "execution_count": 2,
   "id": "a089a23845b1066b",
   "metadata": {
    "ExecuteTime": {
     "end_time": "2024-12-03T16:14:15.459323Z",
     "start_time": "2024-12-03T16:14:15.429171Z"
    }
   },
   "outputs": [],
   "source": [
    "from senmodel.model.utils import *\n",
    "from senmodel.metrics.nonlinearity_metrics import *\n",
    "from senmodel.metrics.edge_finder import *"
   ]
  },
  {
   "cell_type": "code",
   "execution_count": 3,
   "id": "888ee10c0aa4d1f9",
   "metadata": {
    "ExecuteTime": {
     "end_time": "2024-12-03T16:14:15.846250Z",
     "start_time": "2024-12-03T16:14:15.812835Z"
    }
   },
   "outputs": [],
   "source": [
    "torch.manual_seed(0)\n",
    "device = torch.device(\"cuda:0\" if torch.cuda.is_available() else \"cpu\")"
   ]
  },
  {
   "cell_type": "code",
   "execution_count": 4,
   "id": "7ab06250d4252047",
   "metadata": {
    "ExecuteTime": {
     "end_time": "2024-12-03T16:14:15.868175Z",
     "start_time": "2024-12-03T16:14:15.855803Z"
    }
   },
   "outputs": [],
   "source": [
    "def train_sparse_recursive(model, train_loader, val_loader, num_epochs, metric, edge_replacement_func=None):\n",
    "    optimizer = optim.Adam(model.parameters(), lr=5e-5)\n",
    "    criterion = nn.CrossEntropyLoss()\n",
    "\n",
    "    for epoch in range(num_epochs):\n",
    "        model.train()\n",
    "        train_loss = 0\n",
    "        for inputs, targets in tqdm(train_loader):\n",
    "            outputs = model(inputs)\n",
    "            loss = criterion(outputs, targets)\n",
    "\n",
    "            optimizer.zero_grad()\n",
    "            loss.backward()\n",
    "            optimizer.step()\n",
    "            train_loss += loss.item()\n",
    "\n",
    "        train_loss /= len(train_loader)\n",
    "\n",
    "        model.eval()\n",
    "        val_loss = 0\n",
    "        all_targets = []\n",
    "        all_preds = []\n",
    "        with torch.no_grad():\n",
    "            for inputs, targets in val_loader:\n",
    "                outputs = model(inputs)\n",
    "                loss = criterion(outputs, targets)\n",
    "                val_loss += loss.item()\n",
    "\n",
    "                preds = torch.argmax(outputs, dim=1)\n",
    "                all_targets.extend(targets.cpu().numpy())\n",
    "                all_preds.extend(preds.cpu().numpy())\n",
    "\n",
    "        val_loss /= len(val_loader)\n",
    "        val_accuracy = accuracy_score(all_targets, all_preds)\n",
    "\n",
    "        print(f\"Epoch {epoch + 1}/{num_epochs}, Train Loss: {train_loss:.4f}, \"\n",
    "              f\"Val Loss: {val_loss:.4f}, Val Accuracy: {val_accuracy:.4f}\")\n",
    "\n",
    "        if edge_replacement_func and epoch % 8 == 0 and epoch != 0:\n",
    "            edge_replacement_func(model, optimizer, epoch // 8 - 1, val_loader, metric)\n",
    "        wandb.log({'val loss': val_loss, 'val accuracy': val_accuracy, 'train loss': train_loss})\n",
    "\n",
    "\n",
    "def edge_replacement_func_new_layer(model, optim, epoch, val_loader, metric):\n",
    "    layer = model.fc1\n",
    "    ef = EdgeFinder(metric, val_loader, device)\n",
    "    print(\"values:\", ef.calculate_edge_metric_for_dataloader(model))\n",
    "    chosen_edges = ef.choose_edges_top_k(model, 256)\n",
    "    print(\"choose:\", chosen_edges)\n",
    "    layer.replace_many(*chosen_edges, epoch)\n",
    "    optim.add_param_group({'params': layer.embed_linears[-1].weight_values})\n"
   ]
  },
  {
   "cell_type": "code",
   "execution_count": 5,
   "id": "1aff98b408abbf8d",
   "metadata": {
    "ExecuteTime": {
     "end_time": "2024-12-03T16:14:15.895210Z",
     "start_time": "2024-12-03T16:14:15.886911Z"
    }
   },
   "outputs": [],
   "source": [
    "# Define the model\n",
    "class SimpleFCN(nn.Module):\n",
    "    def __init__(self, input_size=28 * 28):\n",
    "        super(SimpleFCN, self).__init__()\n",
    "        self.fc1 = nn.Linear(input_size, 10)\n",
    "\n",
    "    def forward(self, x):\n",
    "        x = self.fc1(x)\n",
    "        return x"
   ]
  },
  {
   "cell_type": "code",
   "execution_count": 6,
   "id": "90353a5a49cd1022",
   "metadata": {
    "ExecuteTime": {
     "end_time": "2024-12-03T16:14:15.974107Z",
     "start_time": "2024-12-03T16:14:15.916281Z"
    }
   },
   "outputs": [],
   "source": [
    "# Dataset and Dataloader\n",
    "transform = transforms.Compose([\n",
    "    transforms.ToTensor(),\n",
    "    transforms.Lambda(lambda x: x.view(-1))\n",
    "])\n",
    "\n",
    "# Load dataset and split into train/validation sets\n",
    "dataset = datasets.MNIST(root='./data', train=True, download=True, transform=transform)\n",
    "train_size = int(0.8 * len(dataset))\n",
    "val_size = len(dataset) - train_size\n",
    "train_dataset, val_dataset = random_split(dataset, [train_size, val_size])\n",
    "\n",
    "train_loader = DataLoader(train_dataset, batch_size=64, shuffle=True)\n",
    "val_loader = DataLoader(val_dataset, batch_size=64, shuffle=False)"
   ]
  },
  {
   "cell_type": "code",
   "execution_count": 7,
   "id": "824f8403",
   "metadata": {},
   "outputs": [
    {
     "data": {
      "text/plain": [
       "{4: 1179,\n",
       " 7: 1285,\n",
       " 9: 1139,\n",
       " 5: 1121,\n",
       " 3: 1193,\n",
       " 6: 1191,\n",
       " 8: 1150,\n",
       " 0: 1225,\n",
       " 1: 1353,\n",
       " 2: 1154}"
      ]
     },
     "execution_count": 7,
     "metadata": {},
     "output_type": "execute_result"
    }
   ],
   "source": [
    "label_dict = {}\n",
    "for i in val_dataset:\n",
    "    if i[1] not in label_dict.keys():\n",
    "        label_dict[i[1]] = 0\n",
    "    else:\n",
    "        label_dict[i[1]] += 1\n",
    "label_dict"
   ]
  },
  {
   "cell_type": "code",
   "execution_count": 8,
   "id": "dcb8129e6befdf70",
   "metadata": {
    "ExecuteTime": {
     "end_time": "2024-12-03T16:14:16.016833Z",
     "start_time": "2024-12-03T16:14:15.990689Z"
    }
   },
   "outputs": [
    {
     "data": {
      "text/plain": [
       "tensor([[  0,   0,   0,  ...,   9,   9,   9],\n",
       "        [  0,   1,   2,  ..., 781, 782, 783]])"
      ]
     },
     "execution_count": 8,
     "metadata": {},
     "output_type": "execute_result"
    }
   ],
   "source": [
    "criterion = nn.CrossEntropyLoss()\n",
    "metrics = [\n",
    "    GradientMeanEdgeMetric(criterion),\n",
    "    PerturbationSensitivityEdgeMetric(criterion),\n",
    "]\n",
    "model = SimpleFCN()\n",
    "sparse_model = convert_dense_to_sparse_network(model)\n",
    "sparse_linear = deepcopy(sparse_model.fc1)\n",
    "sparse_model.fc1.weight_indices"
   ]
  },
  {
   "cell_type": "code",
   "execution_count": 9,
   "id": "589d62a1",
   "metadata": {},
   "outputs": [
    {
     "data": {
      "text/plain": [
       "tensor([[ 0,  0,  0,  0,  0,  0,  0,  0,  0,  0,  0,  0,  0,  0,  0,  0,  0,  0,\n",
       "          0,  0,  0,  0,  0,  0,  0,  0,  0,  0,  0,  0,  0,  0,  0,  0,  0,  0,\n",
       "          0,  0,  0,  0,  0,  0,  0,  0,  0,  0,  0,  0,  0,  0],\n",
       "        [ 0,  1,  2,  3,  4,  5,  6,  7,  8,  9, 10, 11, 12, 13, 14, 15, 16, 17,\n",
       "         18, 19, 20, 21, 22, 23, 24, 25, 26, 27, 28, 29, 30, 31, 32, 33, 34, 35,\n",
       "         36, 37, 38, 39, 40, 41, 42, 43, 44, 45, 46, 47, 48, 49]])"
      ]
     },
     "execution_count": 9,
     "metadata": {},
     "output_type": "execute_result"
    }
   ],
   "source": [
    "sparse_model.fc1.weight_indices[:, :50]"
   ]
  },
  {
   "cell_type": "code",
   "execution_count": 10,
   "id": "77e8399a",
   "metadata": {},
   "outputs": [
    {
     "name": "stderr",
     "output_type": "stream",
     "text": [
      "\u001b[34m\u001b[1mwandb\u001b[0m: Using wandb-core as the SDK backend.  Please refer to https://wandb.me/wandb-core for more information.\n",
      "\u001b[34m\u001b[1mwandb\u001b[0m: Currently logged in as: \u001b[33mvanyamironov\u001b[0m. Use \u001b[1m`wandb login --relogin`\u001b[0m to force relogin\n"
     ]
    },
    {
     "data": {
      "text/plain": [
       "True"
      ]
     },
     "execution_count": 10,
     "metadata": {},
     "output_type": "execute_result"
    }
   ],
   "source": [
    "import wandb\n",
    "wandb.login()"
   ]
  },
  {
   "cell_type": "code",
   "execution_count": 11,
   "id": "aeb264fa",
   "metadata": {},
   "outputs": [
    {
     "data": {
      "text/html": [
       "Tracking run with wandb version 0.18.7"
      ],
      "text/plain": [
       "<IPython.core.display.HTML object>"
      ]
     },
     "metadata": {},
     "output_type": "display_data"
    },
    {
     "data": {
      "text/html": [
       "Run data is saved locally in <code>/Users/ivanmironov/Projects/self-expanding-nets/experiments/training/wandb/run-20241204_001140-kdekinqs</code>"
      ],
      "text/plain": [
       "<IPython.core.display.HTML object>"
      ]
     },
     "metadata": {},
     "output_type": "display_data"
    },
    {
     "data": {
      "text/html": [
       "Syncing run <strong><a href='https://wandb.ai/vanyamironov/self-expanding-nets/runs/kdekinqs' target=\"_blank\">replace=(8epoch, 256edge), lr=5e-5</a></strong> to <a href='https://wandb.ai/vanyamironov/self-expanding-nets' target=\"_blank\">Weights & Biases</a> (<a href='https://wandb.me/developer-guide' target=\"_blank\">docs</a>)<br/>"
      ],
      "text/plain": [
       "<IPython.core.display.HTML object>"
      ]
     },
     "metadata": {},
     "output_type": "display_data"
    },
    {
     "data": {
      "text/html": [
       " View project at <a href='https://wandb.ai/vanyamironov/self-expanding-nets' target=\"_blank\">https://wandb.ai/vanyamironov/self-expanding-nets</a>"
      ],
      "text/plain": [
       "<IPython.core.display.HTML object>"
      ]
     },
     "metadata": {},
     "output_type": "display_data"
    },
    {
     "data": {
      "text/html": [
       " View run at <a href='https://wandb.ai/vanyamironov/self-expanding-nets/runs/kdekinqs' target=\"_blank\">https://wandb.ai/vanyamironov/self-expanding-nets/runs/kdekinqs</a>"
      ],
      "text/plain": [
       "<IPython.core.display.HTML object>"
      ]
     },
     "metadata": {},
     "output_type": "display_data"
    }
   ],
   "source": [
    "run = wandb.init(\n",
    "    project=\"self-expanding-nets\",\n",
    "    name=f\"replace=(8epoch, 256edge), lr=5e-5\",\n",
    ")"
   ]
  },
  {
   "cell_type": "code",
   "execution_count": 12,
   "id": "fb8258dcf13e03d1",
   "metadata": {
    "ExecuteTime": {
     "end_time": "2024-12-03T16:22:21.261984Z",
     "start_time": "2024-12-03T16:14:16.364471Z"
    }
   },
   "outputs": [
    {
     "name": "stderr",
     "output_type": "stream",
     "text": [
<<<<<<< HEAD
      "100%|██████████| 750/750 [00:02<00:00, 321.82it/s]\n"
=======
      "100%|██████████| 750/750 [00:17<00:00, 42.84it/s]\n"
>>>>>>> c298b02cb90ed2b77f65df9d0fd460af0122f430
     ]
    },
    {
     "name": "stdout",
     "output_type": "stream",
     "text": [
      "Epoch 1/64, Train Loss: 1.7941, Val Loss: 1.3948, Val Accuracy: 0.7672\n"
     ]
    },
    {
     "name": "stderr",
     "output_type": "stream",
     "text": [
<<<<<<< HEAD
      "100%|██████████| 750/750 [00:02<00:00, 299.21it/s]\n"
=======
      "100%|██████████| 750/750 [00:14<00:00, 50.48it/s]\n"
>>>>>>> c298b02cb90ed2b77f65df9d0fd460af0122f430
     ]
    },
    {
     "name": "stdout",
     "output_type": "stream",
     "text": [
      "Epoch 2/64, Train Loss: 1.1640, Val Loss: 0.9907, Val Accuracy: 0.8234\n"
     ]
    },
    {
     "name": "stderr",
     "output_type": "stream",
     "text": [
<<<<<<< HEAD
      "100%|██████████| 750/750 [00:02<00:00, 304.65it/s]\n"
=======
      "100%|██████████| 750/750 [00:14<00:00, 53.57it/s]\n"
>>>>>>> c298b02cb90ed2b77f65df9d0fd460af0122f430
     ]
    },
    {
     "name": "stdout",
     "output_type": "stream",
     "text": [
      "Epoch 3/64, Train Loss: 0.8757, Val Loss: 0.7890, Val Accuracy: 0.8393\n"
     ]
    },
    {
     "name": "stderr",
     "output_type": "stream",
     "text": [
<<<<<<< HEAD
      "100%|██████████| 750/750 [00:02<00:00, 351.05it/s]\n"
=======
      "100%|██████████| 750/750 [00:14<00:00, 52.14it/s]\n"
>>>>>>> c298b02cb90ed2b77f65df9d0fd460af0122f430
     ]
    },
    {
     "name": "stdout",
     "output_type": "stream",
     "text": [
      "Epoch 4/64, Train Loss: 0.7201, Val Loss: 0.6701, Val Accuracy: 0.8535\n"
     ]
    },
    {
     "name": "stderr",
     "output_type": "stream",
     "text": [
<<<<<<< HEAD
      "100%|██████████| 750/750 [00:02<00:00, 337.91it/s]\n"
=======
      "100%|██████████| 750/750 [00:17<00:00, 41.95it/s]\n"
>>>>>>> c298b02cb90ed2b77f65df9d0fd460af0122f430
     ]
    },
    {
     "name": "stdout",
     "output_type": "stream",
     "text": [
      "Epoch 5/64, Train Loss: 0.6238, Val Loss: 0.5919, Val Accuracy: 0.8649\n"
     ]
    },
    {
     "name": "stderr",
     "output_type": "stream",
     "text": [
<<<<<<< HEAD
      "100%|██████████| 750/750 [00:02<00:00, 292.81it/s]\n"
=======
      "100%|██████████| 750/750 [00:17<00:00, 43.95it/s]\n"
>>>>>>> c298b02cb90ed2b77f65df9d0fd460af0122f430
     ]
    },
    {
     "name": "stdout",
     "output_type": "stream",
     "text": [
      "Epoch 6/64, Train Loss: 0.5588, Val Loss: 0.5377, Val Accuracy: 0.8714\n"
     ]
    },
    {
     "name": "stderr",
     "output_type": "stream",
     "text": [
      "100%|██████████| 750/750 [00:02<00:00, 351.27it/s]\n"
     ]
    },
    {
     "name": "stdout",
     "output_type": "stream",
     "text": [
      "Epoch 7/64, Train Loss: 0.5123, Val Loss: 0.4980, Val Accuracy: 0.8772\n"
     ]
    },
    {
     "name": "stderr",
     "output_type": "stream",
     "text": [
      "100%|██████████| 750/750 [00:02<00:00, 312.32it/s]\n"
     ]
    },
    {
     "name": "stdout",
     "output_type": "stream",
     "text": [
      "Epoch 8/64, Train Loss: 0.4778, Val Loss: 0.4676, Val Accuracy: 0.8820\n"
     ]
    },
    {
     "name": "stderr",
     "output_type": "stream",
     "text": [
      "100%|██████████| 750/750 [00:02<00:00, 330.07it/s]\n"
     ]
    },
    {
     "name": "stdout",
     "output_type": "stream",
     "text": [
      "Epoch 9/64, Train Loss: 0.4513, Val Loss: 0.4443, Val Accuracy: 0.8868\n",
      "values: tensor([0., 0., 0.,  ..., 0., 0., 0.])\n",
      "choose: tensor([[  5,   5,   9,   5,   5,   8,   9,   9,   9,   8,   5,   8,   5,   9,\n",
      "           9,   5,   8,   5,   8,   9,   8,   9,   5,   5,   8,   8,   9,   8,\n",
      "           9,   8,   9,   5,   8,   8,   9,   9,   5,   5,   9,   8,   9,   5,\n",
      "           8,   8,   9,   9,   5,   9,   8,   8,   5,   8,   5,   8,   8,   8,\n",
      "           8,   9,   9,   9,   1,   9,   5,   5,   8,   8,   8,   1,   8,   8,\n",
      "           5,   5,   5,   8,   9,   8,   5,   9,   9,   5,   8,   8,   1,   8,\n",
      "           8,   5,   9,   5,   8,   9,   9,   4,   5,   9,   8,   5,   5,   5,\n",
      "           8,   5,   5,   8,   8,   8,   8,   8,   9,   8,   9,   8,   8,   5,\n",
      "           9,   5,   5,   4,   8,   5,   9,   9,   8,   8,   8,   9,   5,   7,\n",
      "           9,   8,   8,   4,   8,   9,   8,   9,   4,   8,   9,   3,   9,   9,\n",
      "           8,   1,   3,   5,   5,   8,   1,   9,   2,   7,   9,   2,   8,   8,\n",
      "           5,   3,   9,   8,   5,   5,   8,   3,   7,   5,   5,   9,   3,   5,\n",
      "           5,   8,   7,   8,   8,   4,   5,   5,   9,   5,   8,   1,   5,   5,\n",
      "           5,   9,   8,   3,   5,   8,   9,   3,   5,   8,   5,   8,   8,   8,\n",
      "           8,   3,   8,   1,   8,   8,   3,   5,   5,   7,   8,   5,   9,   4,\n",
      "           8,   3,   5,   8,   9,   5,   9,   3,   8,   9,   1,   9,   9,   5,\n",
      "           5,   8,   5,   7,   3,   9,   8,   9,   5,   8,   3,   2,   5,   3,\n",
      "           9,   3,   8,   7,   5,   8,   8,   5,   2,   8,   5,   9,   3,   5,\n",
      "           8,   4,   7,   4],\n",
      "        [347, 348, 436, 375, 376, 406, 211, 408, 212, 407, 320, 434, 319, 240,\n",
      "         435, 349, 379, 404, 433, 463, 435, 380, 403, 321, 380, 405, 239, 352,\n",
      "         241, 378, 237, 377, 351, 353, 464, 238, 631, 630, 353, 325, 491, 374,\n",
      "         461, 209, 381, 409, 629, 210, 630, 462, 346, 408, 293, 210, 211, 629,\n",
      "         460, 213, 352, 437, 406, 354, 378, 292, 324, 377, 183, 434, 436, 628,\n",
      "         604, 405, 182, 182, 492, 432, 628, 326, 264, 632, 212, 213, 378, 350,\n",
      "         463, 294, 236, 184, 184, 325, 407, 408, 627, 263, 404, 183, 266, 291,\n",
      "         488, 350, 402, 235, 657, 208, 185, 297, 382, 181, 291, 376, 656, 603,\n",
      "         269, 318, 605, 435, 214, 322, 519, 465, 236, 298, 326, 462, 208, 240,\n",
      "         290, 631, 403, 380, 459, 318, 490, 520, 463, 381, 242, 380, 298, 209,\n",
      "         489, 462, 379, 379, 626, 487, 379, 297, 434, 463, 346, 407, 270, 375,\n",
      "         209, 407, 270, 627, 265, 658, 237, 183, 435, 577, 181, 434, 406, 657,\n",
      "         185, 296, 241, 430, 323, 436, 431, 207, 490, 406, 349, 351, 576, 432,\n",
      "         267, 268, 464, 208, 408, 207, 324, 184, 600, 402, 212, 431, 269, 242,\n",
      "         263, 378, 241, 407, 491, 234, 628, 211, 407, 269, 658, 656, 410, 407,\n",
      "         348, 629, 264, 186, 548, 235, 379, 182, 632, 374, 350, 265, 518, 380,\n",
      "         351, 626, 210, 436, 408, 235, 155, 547, 602, 600, 381, 462, 599, 603,\n",
      "         317, 630, 262, 408, 601, 409, 156, 433, 435, 517, 213, 319, 602, 237,\n",
      "         515, 434, 211, 409]])\n"
     ]
    },
    {
     "name": "stderr",
     "output_type": "stream",
     "text": [
<<<<<<< HEAD
      "100%|██████████| 750/750 [00:02<00:00, 252.09it/s]\n"
=======
      "100%|██████████| 750/750 [00:28<00:00, 26.49it/s]\n"
>>>>>>> c298b02cb90ed2b77f65df9d0fd460af0122f430
     ]
    },
    {
     "name": "stdout",
     "output_type": "stream",
     "text": [
      "Epoch 10/64, Train Loss: 2.5887, Val Loss: 2.3380, Val Accuracy: 0.3315\n"
     ]
    },
    {
     "name": "stderr",
     "output_type": "stream",
     "text": [
<<<<<<< HEAD
      "100%|██████████| 750/750 [00:02<00:00, 250.70it/s]\n"
=======
      "100%|██████████| 750/750 [00:21<00:00, 34.97it/s]\n"
>>>>>>> c298b02cb90ed2b77f65df9d0fd460af0122f430
     ]
    },
    {
     "name": "stdout",
     "output_type": "stream",
     "text": [
      "Epoch 11/64, Train Loss: 2.1221, Val Loss: 1.9192, Val Accuracy: 0.4051\n"
     ]
    },
    {
     "name": "stderr",
     "output_type": "stream",
     "text": [
<<<<<<< HEAD
      "100%|██████████| 750/750 [00:02<00:00, 290.48it/s]\n"
=======
      "100%|██████████| 750/750 [00:21<00:00, 34.97it/s]\n"
>>>>>>> c298b02cb90ed2b77f65df9d0fd460af0122f430
     ]
    },
    {
     "name": "stdout",
     "output_type": "stream",
     "text": [
      "Epoch 12/64, Train Loss: 1.7375, Val Loss: 1.5719, Val Accuracy: 0.4813\n"
     ]
    },
    {
     "name": "stderr",
     "output_type": "stream",
     "text": [
<<<<<<< HEAD
      "100%|██████████| 750/750 [00:02<00:00, 277.06it/s]\n"
=======
      "100%|██████████| 750/750 [00:17<00:00, 42.21it/s]\n"
>>>>>>> c298b02cb90ed2b77f65df9d0fd460af0122f430
     ]
    },
    {
     "name": "stdout",
     "output_type": "stream",
     "text": [
      "Epoch 13/64, Train Loss: 1.4210, Val Loss: 1.2879, Val Accuracy: 0.5604\n"
     ]
    },
    {
     "name": "stderr",
     "output_type": "stream",
     "text": [
<<<<<<< HEAD
      "100%|██████████| 750/750 [00:02<00:00, 292.91it/s]\n"
=======
      "100%|██████████| 750/750 [00:16<00:00, 46.55it/s]\n"
>>>>>>> c298b02cb90ed2b77f65df9d0fd460af0122f430
     ]
    },
    {
     "name": "stdout",
     "output_type": "stream",
     "text": [
      "Epoch 14/64, Train Loss: 1.1661, Val Loss: 1.0649, Val Accuracy: 0.6292\n"
     ]
    },
    {
     "name": "stderr",
     "output_type": "stream",
     "text": [
<<<<<<< HEAD
      "100%|██████████| 750/750 [00:02<00:00, 297.52it/s]\n"
=======
      "100%|██████████| 750/750 [00:24<00:00, 30.63it/s]\n"
>>>>>>> c298b02cb90ed2b77f65df9d0fd460af0122f430
     ]
    },
    {
     "name": "stdout",
     "output_type": "stream",
     "text": [
      "Epoch 15/64, Train Loss: 0.9711, Val Loss: 0.8978, Val Accuracy: 0.6933\n"
     ]
    },
    {
     "name": "stderr",
     "output_type": "stream",
     "text": [
<<<<<<< HEAD
      "100%|██████████| 750/750 [00:02<00:00, 287.85it/s]\n"
=======
      "100%|██████████| 750/750 [00:29<00:00, 25.76it/s]\n"
>>>>>>> c298b02cb90ed2b77f65df9d0fd460af0122f430
     ]
    },
    {
     "name": "stdout",
     "output_type": "stream",
     "text": [
      "Epoch 16/64, Train Loss: 0.8277, Val Loss: 0.7773, Val Accuracy: 0.7390\n"
     ]
    },
    {
     "name": "stderr",
     "output_type": "stream",
     "text": [
<<<<<<< HEAD
      "100%|██████████| 750/750 [00:02<00:00, 297.11it/s]\n"
=======
      "100%|██████████| 750/750 [00:23<00:00, 31.51it/s]\n"
>>>>>>> c298b02cb90ed2b77f65df9d0fd460af0122f430
     ]
    },
    {
     "name": "stdout",
     "output_type": "stream",
     "text": [
      "Epoch 17/64, Train Loss: 0.7253, Val Loss: 0.6903, Val Accuracy: 0.7769\n",
      "values: tensor([0.0000, 0.0000, 0.0000,  ..., 0.0067, 0.0069, 0.0160])\n",
      "choose: tensor([[   8,    8,    8,    8,    8,    8,    8,    8,    8,    8,    8,    8,\n",
      "            8,    8,    8,    8,    8,    8,    8,    8,    8,    8,    8,    8,\n",
      "            8,    8,    8,    8,    8,    8,    8,    8,    8,    8,    8,    8,\n",
      "            8,    8,    8,    8,    8,    8,    8,    8,    8,    8,    8,    8,\n",
      "            8,    8,    8,    8,    8,    8,    8,    8,    8,    8,    8,    8,\n",
      "            8,    8,    8,    8,    8,    8,    8,    8,    8,    8,    8,    8,\n",
      "            8,    8,    8,    8,    8,    8,    8,    8,    8,    8,    8,    8,\n",
      "            8,    8,    8,    8,    8,    8,    8,    8,    8,    8,    8,    8,\n",
      "            8,    8,    8,    8,    8,    8,    8,    8,    8,    8,    4,    8,\n",
      "            8,    8,    8,    8,    8,    8,    8,    8,    8,    8,    8,    4,\n",
      "            8,    8,    8,    8,    8,    4,    8,    4,    4,    8,    8,    8,\n",
      "            4,    8,    4,    8,    8,    8,    8,    4,    8,    8,    8,    8,\n",
      "            4,    6,    6,    8,    8,    6,    4,    4,    8,    4,    8,    8,\n",
      "            6,    8,    4,    6,    4,    6,    6,    6,    8,    8,    6,    6,\n",
      "            8,    8,    8,    6,    6,    4,    4,    8,    8,    8,    4,    6,\n",
      "            8,    8,    4,    1,    8,    4,    8,    4,    0,    6,    4,    6,\n",
      "            6,    8,    8,    0,    0,    0,    6,    8,    4,    4,    8,    4,\n",
      "            0,    4,    0,    4,    0,    6,    6,    8,    6,    0,    6,    6,\n",
      "            4,    6,    0,    0,    8,    6,    6,    8,    6,    8,    6,    0,\n",
      "            6,    8,    4,    8,    6,    6,    6,    8,    8,    8,    6,    8,\n",
      "            8,    8,    6,    6,    4,    6,    0,    4,    8,    4,    4,    0,\n",
      "            8,    0,    4,    4],\n",
      "        [ 599,  572,  571,  601,  573,  543,  544,  240,  518,  545,  598,  516,\n",
      "          602,  804,  243,  354,  574,  437,  570,  271,  546,  823,  519,  374,\n",
      "          492,  238,  458,  575,  215,  542,  603,  239,  547,  299,  268,  465,\n",
      "          264,  520,  514,  486,  347,  548,  793,  576,  889,  346,  382,  493,\n",
      "          265,  604,  291,  319,  597,  569,  327,  906,  655,  521,  401,  292,\n",
      "          429,  549,  180,  541,  410,  320,  318,  840,  625,  187,  267,  295,\n",
      "          373,  438,  577,  290,  266,  457,  654,  157,  513,  849,  466,  891,\n",
      "          293,  485,  494,  322,  244,  522,  355,  605,  865,  321,  979,  154,\n",
      "          345,  272,  294,  216,  888,  550,  912,  158,  206,  659,  957,  789,\n",
      "         1017,  568,  317,  596,  653,  179,  916,  848,  300,  941,  929,  913,\n",
      "          383,  578,  289,  540,  261,  993,  153,  464,  918,  624,  990,  411,\n",
      "          381,  955,  437,  838,  188,  439,  633,  402,  233,  467,  512,  495,\n",
      "          353,  572,  601,  606,  832,  571,  401,  374,  859,  491,  523,  994,\n",
      "          602,  852,  462,  575,  430,  600,  573,  574,  428,  159,  542,  514,\n",
      "          400,  816,  882,  543,  576,  373,  431,  660,  484,  894,  492,  486,\n",
      "          328,  551,  325,  844,  456,  346,  372,  465,  627,  549,  429,  458,\n",
      "          603,  684,  936,  628,  184,  213,  430,  683,  403,  875,  685,  352,\n",
      "          185,  433,  212,  432,  629,  515,  548, 1036,  375,  626,  407,  403,\n",
      "          490,  570,  183,  211,  900,  402,  544, 1027,  408,  944,  522,  214,\n",
      "          435,  811,  461,  152,  599,  487,  431,  344,  652,  980,  577,  579,\n",
      "          997,  205,  459,  347,  345,  434,  598,  318,  178,  326,  297,  210,\n",
      "          686,  630,  410,  354]])\n"
     ]
    },
    {
     "name": "stderr",
     "output_type": "stream",
     "text": [
<<<<<<< HEAD
      "100%|██████████| 750/750 [00:02<00:00, 257.85it/s]\n"
=======
      "100%|██████████| 750/750 [00:17<00:00, 42.35it/s]\n"
>>>>>>> c298b02cb90ed2b77f65df9d0fd460af0122f430
     ]
    },
    {
     "name": "stdout",
     "output_type": "stream",
     "text": [
      "Epoch 18/64, Train Loss: 5.3048, Val Loss: 4.4960, Val Accuracy: 0.1715\n"
     ]
    },
    {
     "name": "stderr",
     "output_type": "stream",
     "text": [
<<<<<<< HEAD
      "100%|██████████| 750/750 [00:03<00:00, 246.56it/s]\n"
=======
      "100%|██████████| 750/750 [00:22<00:00, 33.80it/s]\n"
>>>>>>> c298b02cb90ed2b77f65df9d0fd460af0122f430
     ]
    },
    {
     "name": "stdout",
     "output_type": "stream",
     "text": [
      "Epoch 19/64, Train Loss: 3.8859, Val Loss: 3.3075, Val Accuracy: 0.2546\n"
     ]
    },
    {
     "name": "stderr",
     "output_type": "stream",
     "text": [
<<<<<<< HEAD
      "100%|██████████| 750/750 [00:03<00:00, 245.09it/s]\n"
=======
      "100%|██████████| 750/750 [00:17<00:00, 43.24it/s]\n"
>>>>>>> c298b02cb90ed2b77f65df9d0fd460af0122f430
     ]
    },
    {
     "name": "stdout",
     "output_type": "stream",
     "text": [
      "Epoch 20/64, Train Loss: 2.8525, Val Loss: 2.4329, Val Accuracy: 0.3688\n"
     ]
    },
    {
     "name": "stderr",
     "output_type": "stream",
     "text": [
<<<<<<< HEAD
      "100%|██████████| 750/750 [00:03<00:00, 230.51it/s]\n"
=======
      "100%|██████████| 750/750 [00:18<00:00, 41.19it/s]\n"
>>>>>>> c298b02cb90ed2b77f65df9d0fd460af0122f430
     ]
    },
    {
     "name": "stdout",
     "output_type": "stream",
     "text": [
      "Epoch 21/64, Train Loss: 2.1157, Val Loss: 1.8325, Val Accuracy: 0.4796\n"
     ]
    },
    {
     "name": "stderr",
     "output_type": "stream",
     "text": [
<<<<<<< HEAD
      "100%|██████████| 750/750 [00:03<00:00, 189.20it/s]\n"
=======
      "100%|██████████| 750/750 [00:17<00:00, 43.55it/s]\n"
>>>>>>> c298b02cb90ed2b77f65df9d0fd460af0122f430
     ]
    },
    {
     "name": "stdout",
     "output_type": "stream",
     "text": [
      "Epoch 22/64, Train Loss: 1.6185, Val Loss: 1.4286, Val Accuracy: 0.5664\n"
     ]
    },
    {
     "name": "stderr",
     "output_type": "stream",
     "text": [
<<<<<<< HEAD
      "100%|██████████| 750/750 [00:03<00:00, 243.87it/s]\n"
=======
      "100%|██████████| 750/750 [00:17<00:00, 43.53it/s]\n"
>>>>>>> c298b02cb90ed2b77f65df9d0fd460af0122f430
     ]
    },
    {
     "name": "stdout",
     "output_type": "stream",
     "text": [
      "Epoch 23/64, Train Loss: 1.2853, Val Loss: 1.1582, Val Accuracy: 0.6328\n"
     ]
    },
    {
     "name": "stderr",
     "output_type": "stream",
     "text": [
      "100%|██████████| 750/750 [00:03<00:00, 224.41it/s]\n"
     ]
    },
    {
     "name": "stdout",
     "output_type": "stream",
     "text": [
      "Epoch 24/64, Train Loss: 1.0597, Val Loss: 0.9721, Val Accuracy: 0.6880\n"
     ]
    },
    {
     "name": "stderr",
     "output_type": "stream",
     "text": [
      "100%|██████████| 750/750 [00:03<00:00, 217.17it/s]\n"
     ]
    },
    {
     "name": "stdout",
     "output_type": "stream",
     "text": [
      "Epoch 25/64, Train Loss: 0.9028, Val Loss: 0.8423, Val Accuracy: 0.7239\n",
      "values: tensor([0.0000, 0.0000, 0.0000,  ..., 0.0257, 0.0063, 0.0036])\n",
      "choose: tensor([[   8,    8,    8,    8,    8,    8,    8,    8,    8,    8,    8,    8,\n",
      "            8,    8,    8,    8,    8,    0,    8,    8,    8,    8,    8,    8,\n",
      "            8,    8,    8,    8,    8,    8,    8,    8,    8,    8,    8,    8,\n",
      "            8,    8,    8,    8,    8,    8,    0,    2,    8,    8,    0,    0,\n",
      "            8,    0,    0,    0,    0,    2,    0,    0,    0,    0,    8,    0,\n",
      "            8,    8,    8,    8,    0,    0,    0,    8,    8,    0,    2,    8,\n",
      "            2,    0,    0,    0,    0,    0,    0,    0,    0,    8,    8,    0,\n",
      "            0,    0,    7,    8,    0,    2,    2,    8,    2,    0,    2,    8,\n",
      "            0,    0,    2,    0,    0,    2,    0,    0,    0,    0,    2,    2,\n",
      "            2,    0,    8,    2,    0,    2,    0,    2,    0,    2,    8,    2,\n",
      "            0,    2,    2,    0,    0,    0,    0,    2,    2,    2,    0,    2,\n",
      "            0,    0,    0,    0,    0,    0,    0,    0,    2,    0,    2,    0,\n",
      "            2,    2,    2,    0,    8,    2,    0,    0,    7,    2,    2,    2,\n",
      "            8,    8,    0,    0,    8,    2,    2,    8,    2,    2,    0,    0,\n",
      "            2,    8,    0,    8,    2,    2,    2,    0,    2,    2,    8,    0,\n",
      "            0,    0,    2,    0,    0,    0,    0,    0,    2,    0,    0,    0,\n",
      "            2,    0,    8,    2,    8,    0,    0,    0,    0,    2,    0,    8,\n",
      "            2,    7,    8,    2,    8,    8,    8,    0,    0,    0,    2,    0,\n",
      "            2,    2,    2,    8,    8,    7,    0,    0,    8,    2,    8,    2,\n",
      "            2,    8,    2,    0,    8,    7,    2,    0,    2,    8,    2,    8,\n",
      "            0,    0,    0,    0,    8,    8,    0,    0,    0,    2,    8,    0,\n",
      "            0,    2,    0,    2],\n",
      "        [ 539,  384,  356,  511,  412,  567,  483,  440, 1122, 1060, 1042,  455,\n",
      "         1224, 1087,  468, 1163, 1136, 1286, 1101, 1194,  595, 1141,  427,  496,\n",
      "         1161,  301,  273, 1112,  316,  329, 1131,  245,  524,  357, 1116,  399,\n",
      "          385, 1047,  538,  288, 1187,  510,  599, 1030, 1151, 1050,  597,  401,\n",
      "          413, 1236,  373,  600,  346, 1019, 1235,  601,  456,  602, 1162,  569,\n",
      "          607,  566, 1164,  552,  484,  428,  540,  371,  217,  512,  571, 1058,\n",
      "          572, 1267,  568,  429,  374,  318,  603,  237,  238,  482, 1127,  291,\n",
      "          319,  264, 1011, 1071,  265,  570,  183,  260,  569,  242,  184,  441,\n",
      "          575,  239,  545,  576,  400,  573,  292,  241,  345,  240,  182,  598,\n",
      "          544,  549, 1081,  546,  570,  155,  243,  599,  186,  154,  634,  543,\n",
      "          522,  519,  518,  541,  511,  215,  483,  517,  542,  547,  495,  181,\n",
      "          467,  457,  596,  347,  236,  271,  625,  548,  597,  412,  460,  263,\n",
      "          541,  574,  491,  209,  469,  600,  577,  574,  933,  516,  488,  520,\n",
      "          623, 1135,  494,  539, 1139,  515,  156,  343,  492,  461,  550,  182,\n",
      "          487, 1138,  440, 1056,  185,  489,  153,  384,  548,  568, 1182,  604,\n",
      "          402,  328,  490,  455,  290,  521,  266,  300,  464,  356,  439,  571,\n",
      "          514,  272,  454,  459, 1129,  372,  513,  485,  523,  463,  299, 1044,\n",
      "          180,  954,  232,  212,  151,  580, 1041,  244,  270,  468,  213,  320,\n",
      "          575,  540,  433, 1099,  274, 1025,  293,  573, 1124,  601,  128,  486,\n",
      "          549, 1059,  513,  357,  594,  989,  211,  572,  432, 1103,  521,  497,\n",
      "          317,  156,  329,  567,  302,  127,  427,  656,  385,  465, 1062,  411,\n",
      "          631,  152,  267,  458]])\n"
     ]
    },
    {
     "name": "stderr",
     "output_type": "stream",
     "text": [
      "100%|██████████| 750/750 [00:03<00:00, 217.03it/s]\n"
     ]
    },
    {
     "name": "stdout",
     "output_type": "stream",
     "text": [
      "Epoch 26/64, Train Loss: 0.9606, Val Loss: 0.8920, Val Accuracy: 0.7110\n"
     ]
    },
    {
     "name": "stderr",
     "output_type": "stream",
     "text": [
      "100%|██████████| 750/750 [00:03<00:00, 196.29it/s]\n"
     ]
    },
    {
     "name": "stdout",
     "output_type": "stream",
     "text": [
      "Epoch 27/64, Train Loss: 0.8377, Val Loss: 0.7937, Val Accuracy: 0.7391\n"
     ]
    },
    {
     "name": "stderr",
     "output_type": "stream",
     "text": [
      "100%|██████████| 750/750 [00:03<00:00, 199.44it/s]\n"
     ]
    },
    {
     "name": "stdout",
     "output_type": "stream",
     "text": [
      "Epoch 28/64, Train Loss: 0.7551, Val Loss: 0.7239, Val Accuracy: 0.7633\n"
     ]
    },
    {
     "name": "stderr",
     "output_type": "stream",
     "text": [
      "100%|██████████| 750/750 [00:03<00:00, 197.13it/s]\n"
     ]
    },
    {
     "name": "stdout",
     "output_type": "stream",
     "text": [
      "Epoch 29/64, Train Loss: 0.6949, Val Loss: 0.6721, Val Accuracy: 0.7798\n"
     ]
    },
    {
     "name": "stderr",
     "output_type": "stream",
     "text": [
      "100%|██████████| 750/750 [00:04<00:00, 164.70it/s]\n"
     ]
    },
    {
     "name": "stdout",
     "output_type": "stream",
     "text": [
      "Epoch 30/64, Train Loss: 0.6487, Val Loss: 0.6313, Val Accuracy: 0.7949\n"
     ]
    },
    {
     "name": "stderr",
     "output_type": "stream",
     "text": [
      "100%|██████████| 750/750 [00:03<00:00, 200.29it/s]\n"
     ]
    },
    {
     "name": "stdout",
     "output_type": "stream",
     "text": [
      "Epoch 31/64, Train Loss: 0.6120, Val Loss: 0.5987, Val Accuracy: 0.8043\n"
     ]
    },
    {
     "name": "stderr",
     "output_type": "stream",
     "text": [
      "100%|██████████| 750/750 [00:04<00:00, 168.10it/s]\n"
     ]
    },
    {
     "name": "stdout",
     "output_type": "stream",
     "text": [
      "Epoch 32/64, Train Loss: 0.5825, Val Loss: 0.5724, Val Accuracy: 0.8141\n"
     ]
    },
    {
     "name": "stderr",
     "output_type": "stream",
     "text": [
      "100%|██████████| 750/750 [00:03<00:00, 191.78it/s]\n"
     ]
    },
    {
     "name": "stdout",
     "output_type": "stream",
     "text": [
      "Epoch 33/64, Train Loss: 0.5585, Val Loss: 0.5512, Val Accuracy: 0.8228\n",
      "values: tensor([0.0000, 0.0000, 0.0000,  ..., 0.0034, 0.0059, 0.0010])\n",
      "choose: tensor([[   7,    3,    7,    3,    3,    3,    9,    1,    3,    7,    7,    7,\n",
      "            7,    7,    7,    7,    7,    7,    7,    3,    7,    7,    7,    7,\n",
      "            7,    7,    7,    7,    7,    7,    7,    7,    3,    7,    9,    7,\n",
      "            7,    7,    7,    5,    4,    7,    7,    7,    7,    5,    7,    7,\n",
      "            7,    3,    7,    7,    3,    3,    5,    7,    7,    3,    9,    3,\n",
      "            7,    7,    3,    3,    3,    7,    7,    5,    5,    7,    3,    3,\n",
      "            3,    7,    7,    7,    3,    3,    7,    5,    7,    3,    5,    8,\n",
      "            5,    3,    3,    3,    3,    3,    7,    7,    3,    3,    7,    5,\n",
      "            3,    7,    3,    5,    3,    5,    3,    3,    5,    5,    9,    5,\n",
      "            7,    3,    3,    7,    5,    3,    5,    3,    3,    5,    5,    3,\n",
      "            3,    5,    8,    7,    5,    8,    5,    7,    3,    3,    2,    7,\n",
      "            3,    3,    3,    3,    8,    7,    9,    3,    3,    3,    8,    3,\n",
      "            3,    3,    7,    3,    3,    5,    3,    7,    5,    3,    7,    3,\n",
      "            5,    5,    3,    5,    5,    3,    5,    9,    7,    3,    5,    7,\n",
      "            2,    3,    5,    7,    5,    5,    5,    7,    2,    3,    3,    7,\n",
      "            5,    3,    7,    5,    7,    5,    7,    5,    3,    3,    5,    3,\n",
      "            3,    5,    7,    3,    3,    7,    9,    3,    5,    5,    9,    5,\n",
      "            5,    3,    5,    3,    3,    3,    3,    7,    7,    9,    5,    3,\n",
      "            2,    5,    3,    5,    5,    9,    3,    5,    3,    5,    5,    3,\n",
      "            0,    8,    5,    5,    3,    5,    5,    5,    5,    5,    5,    7,\n",
      "            3,    9,    5,    9,    9,    7,    3,    3,    7,    5,    9,    7,\n",
      "            9,    9,    6,    3],\n",
      "        [1529, 1001, 1517, 1023, 1012,  986,  792, 1223, 1021,  437,  326,  270,\n",
      "          298,  465,  410,  236,  354,  263,  268,  969,  297,  382,  464, 1448,\n",
      "          492,  235,  325,  267,  409,  296,  238,  237, 1018,  264,  841,  438,\n",
      "          242,  299,  239,  434, 1159,  290,  262,  271,  519,  784,  491,  266,\n",
      "          327,  981,  909, 1382,  207,  180,  884,  265,  291,  631,  831,  352,\n",
      "          520,  324,  950,  323,  181,  353,  546, 1020,  373,  493,  351,  212,\n",
      "          353,  547,  381,  518,  213,  322,  574,  659,  234,  405,  268,  525,\n",
      "          435,  240,  296,  268,  350,  604,  355,  209,  209,  211,  295,  345,\n",
      "          241,  318,  179,  352,  627,  236,  657,  185,  572,  180,  214,  323,\n",
      "          317,  206,  404,  466,  598,  324,  295,  656,  155,  401,  324,  995,\n",
      "          295,  463,  315,  210,  597, 1310,  633,  601,  214,  605,  379,  383,\n",
      "          377,  239,  269,  626,  287,  490,  949,  576,  235,  156,  661,  601,\n",
      "          409,  242,  289,  210,  349,  606,  577,  946,  578,  632,  573,  550,\n",
      "          655,  296,  376,  575,  568,  325,  239,  208,  602,  578,  240,  208,\n",
      "          406,  523,  238,  212,  430,  155,  571,  243,  380,  575,  354,  629,\n",
      "          574,  348,  352,  263,  575,  290,  261,  464,  973,  658,  297,  551,\n",
      "          236,  462,  292,  549,  267,  545,  327,  655,  317,  269,  299,  947,\n",
      "          573,  326,  547,  321,  522,  154,  294,  411,  213,  262,  569,  495,\n",
      "          352,  787,  600,  409,  549,  345,  633,  546,  606,  156,  951,  598,\n",
      "          383,  426,  438,  625,  297,  241,  461,  186,  570,  596,  548,  345,\n",
      "          403,  546,  325,  406,  355,  294,  186,  433,  300,  234,  890,  293,\n",
      "          373,  271, 1199,  521]])\n"
     ]
    },
    {
     "name": "stderr",
     "output_type": "stream",
     "text": [
      "100%|██████████| 750/750 [00:05<00:00, 138.31it/s]\n"
     ]
    },
    {
     "name": "stdout",
     "output_type": "stream",
     "text": [
      "Epoch 34/64, Train Loss: 1.0558, Val Loss: 0.8408, Val Accuracy: 0.7409\n"
     ]
    },
    {
     "name": "stderr",
     "output_type": "stream",
     "text": [
      "100%|██████████| 750/750 [00:04<00:00, 153.41it/s]\n"
     ]
    },
    {
     "name": "stdout",
     "output_type": "stream",
     "text": [
      "Epoch 35/64, Train Loss: 0.7453, Val Loss: 0.6619, Val Accuracy: 0.7887\n"
     ]
    },
    {
     "name": "stderr",
     "output_type": "stream",
     "text": [
      "100%|██████████| 750/750 [00:05<00:00, 132.64it/s]\n"
     ]
    },
    {
     "name": "stdout",
     "output_type": "stream",
     "text": [
      "Epoch 36/64, Train Loss: 0.6203, Val Loss: 0.5810, Val Accuracy: 0.8163\n"
     ]
    },
    {
     "name": "stderr",
     "output_type": "stream",
     "text": [
      "100%|██████████| 750/750 [00:04<00:00, 164.85it/s]\n"
     ]
    },
    {
     "name": "stdout",
     "output_type": "stream",
     "text": [
      "Epoch 37/64, Train Loss: 0.5610, Val Loss: 0.5397, Val Accuracy: 0.8323\n"
     ]
    },
    {
     "name": "stderr",
     "output_type": "stream",
     "text": [
      "100%|██████████| 750/750 [00:04<00:00, 164.88it/s]\n"
     ]
    },
    {
     "name": "stdout",
     "output_type": "stream",
     "text": [
      "Epoch 38/64, Train Loss: 0.5290, Val Loss: 0.5159, Val Accuracy: 0.8389\n"
     ]
    },
    {
     "name": "stderr",
     "output_type": "stream",
     "text": [
      "100%|██████████| 750/750 [00:04<00:00, 171.53it/s]\n"
     ]
    },
    {
     "name": "stdout",
     "output_type": "stream",
     "text": [
      "Epoch 39/64, Train Loss: 0.5094, Val Loss: 0.5001, Val Accuracy: 0.8432\n"
     ]
    },
    {
     "name": "stderr",
     "output_type": "stream",
     "text": [
      "100%|██████████| 750/750 [00:04<00:00, 168.56it/s]\n"
     ]
    },
    {
     "name": "stdout",
     "output_type": "stream",
     "text": [
      "Epoch 40/64, Train Loss: 0.4958, Val Loss: 0.4884, Val Accuracy: 0.8490\n"
     ]
    },
    {
     "name": "stderr",
     "output_type": "stream",
     "text": [
      "100%|██████████| 750/750 [00:04<00:00, 168.54it/s]\n"
     ]
    },
    {
     "name": "stdout",
     "output_type": "stream",
     "text": [
      "Epoch 41/64, Train Loss: 0.4852, Val Loss: 0.4792, Val Accuracy: 0.8515\n",
      "values: tensor([0.0000, 0.0000, 0.0000,  ..., 0.0036, 0.0114, 0.0081])\n",
      "choose: tensor([[   1,    9,    7,    9,    1,    8,    9,    6,    9,    1,    9,    9,\n",
      "            9,    9,    5,    4,    3,    1,    5,    1,    1,    5,    5,    9,\n",
      "            5,    5,    5,    9,    5,    9,    9,    9,    9,    5,    4,    4,\n",
      "            4,    9,    8,    6,    5,    4,    5,    3,    9,    9,    3,    5,\n",
      "            3,    5,    5,    9,    9,    3,    9,    9,    3,    5,    2,    4,\n",
      "            9,    5,    3,    9,    3,    9,    9,    9,    5,    5,    9,    9,\n",
      "            9,    9,    3,    5,    9,    9,    5,    5,    3,    9,    5,    3,\n",
      "            3,    9,    9,    9,    7,    5,    9,    9,    5,    5,    5,    9,\n",
      "            2,    3,    9,    7,    3,    9,    9,    9,    9,    9,    5,    9,\n",
      "            3,    9,    5,    5,    3,    2,    9,    4,    5,    5,    9,    5,\n",
      "            5,    9,    5,    2,    9,    9,    9,    2,    5,    3,    3,    3,\n",
      "            2,    5,    2,    9,    9,    4,    3,    5,    3,    5,    2,    3,\n",
      "            2,    9,    1,    5,    2,    9,    9,    5,    2,    3,    3,    3,\n",
      "            3,    3,    3,    8,    9,    4,    5,    7,    2,    3,    9,    7,\n",
      "            2,    5,    9,    7,    2,    9,    8,    5,    2,    5,    9,    3,\n",
      "            9,    2,    9,    5,    2,    9,    3,    3,    3,    4,    5,    5,\n",
      "            2,    3,    5,    9,    5,    3,    5,    4,    2,    5,    5,    5,\n",
      "            3,    2,    9,    8,    2,    2,    9,    9,    9,    2,    5,    2,\n",
      "            5,    6,    2,    5,    9,    9,    5,    6,    2,    9,    9,    3,\n",
      "            3,    5,    3,    9,    2,    5,    9,    3,    3,    9,    8,    4,\n",
      "            3,    3,    5,    7,    7,    9,    2,    4,    5,    9,    9,    9,\n",
      "            2,    3,    7,    2],\n",
      "        [1559, 1558, 1552, 1610,  963, 1082, 1586, 1806,  493,  866,  521,  289,\n",
      "          184,  576,  154, 1213,  599,  983,  660,  930,  925,  436, 1597,  461,\n",
      "          206,  381,  179,  803,  654,  243,  183,  185,  574, 1657, 1200, 1256,\n",
      "         1240,  575, 1107, 1196,  550, 1167,  262,  234,  438,  489,  659,  492,\n",
      "          493,  491,  157,  402,  433,  410,  383,  403,  494,  214, 1530, 1146,\n",
      "          267,  495,  437,  466,  438,  631,  431, 1754,  466,  467,  603,  604,\n",
      "          234,  266, 1652,  437,  549,  657, 1673,  494,  298,  630,  634,  262,\n",
      "          263,  207,  344,  316,  380,  522,  347,  658,  410,  460,  521,  842,\n",
      "         1441,  466,  404,  462,  548,  430,  182,  432,  401,  517,  520,  602,\n",
      "          237, 1003, 1704,  523,  270,  405,  375, 1168,  490,  270,  494,  187,\n",
      "          551,  215,  579,  351,  296,  405,  629,  408,  493,  597,  465,  574,\n",
      "         1411,  153,  602,  288, 1796,  899,  153,  353, 1628,  607,  436,  238,\n",
      "          378,  659,  851,  158,  628,  460,  429,  289,  627,  291,  382,  625,\n",
      "          243,  432,  320, 1147,  261, 1592,  242,  434,  353,  157,  292,  407,\n",
      "          603,  298,  923, 1590,  239,  656, 1053,  519,  325,  545,  632,  436,\n",
      "          372,  207,  577,  661,  210, 1658,  271,  290,  319,  493,  544,  489,\n",
      "          629,  215,  233,  972,  624,  178,  496,  520,  326,  215,  261,  488,\n",
      "          431, 1409, 1750, 1145,  238, 1468,  186,  573,  822,  298,  465,  242,\n",
      "         1724, 1272,  626,  542,  411,  545,  439, 1266,  270,  686,  685, 1757,\n",
      "          654,  543,  439,  601,  209,  541,  378,  467,  347,  351,  687,  518,\n",
      "          660,  434, 1647,  207,  489,  459,  208,  519,  540,  400,  655,  488,\n",
      "          576,  233, 1719,  935]])\n"
     ]
    },
    {
     "name": "stderr",
     "output_type": "stream",
     "text": [
      "100%|██████████| 750/750 [00:05<00:00, 130.21it/s]\n"
     ]
    },
    {
     "name": "stdout",
     "output_type": "stream",
     "text": [
      "Epoch 42/64, Train Loss: 1.3444, Val Loss: 1.0734, Val Accuracy: 0.6529\n"
     ]
    },
    {
     "name": "stderr",
     "output_type": "stream",
     "text": [
      "100%|██████████| 750/750 [00:05<00:00, 141.59it/s]\n"
     ]
    },
    {
     "name": "stdout",
     "output_type": "stream",
     "text": [
      "Epoch 43/64, Train Loss: 0.9508, Val Loss: 0.8399, Val Accuracy: 0.7240\n"
     ]
    },
    {
     "name": "stderr",
     "output_type": "stream",
     "text": [
      "100%|██████████| 750/750 [00:05<00:00, 137.16it/s]\n"
     ]
    },
    {
     "name": "stdout",
     "output_type": "stream",
     "text": [
      "Epoch 44/64, Train Loss: 0.7794, Val Loss: 0.7178, Val Accuracy: 0.7683\n"
     ]
    },
    {
     "name": "stderr",
     "output_type": "stream",
     "text": [
      "100%|██████████| 750/750 [00:06<00:00, 117.30it/s]\n"
     ]
    },
    {
     "name": "stdout",
     "output_type": "stream",
     "text": [
      "Epoch 45/64, Train Loss: 0.6834, Val Loss: 0.6446, Val Accuracy: 0.7979\n"
     ]
    },
    {
     "name": "stderr",
     "output_type": "stream",
     "text": [
      "100%|██████████| 750/750 [00:05<00:00, 149.88it/s]\n"
     ]
    },
    {
     "name": "stdout",
     "output_type": "stream",
     "text": [
      "Epoch 46/64, Train Loss: 0.6244, Val Loss: 0.5985, Val Accuracy: 0.8146\n"
     ]
    },
    {
     "name": "stderr",
     "output_type": "stream",
     "text": [
      "100%|██████████| 750/750 [00:05<00:00, 127.06it/s]\n"
     ]
    },
    {
     "name": "stdout",
     "output_type": "stream",
     "text": [
      "Epoch 47/64, Train Loss: 0.5866, Val Loss: 0.5679, Val Accuracy: 0.8222\n"
     ]
    },
    {
     "name": "stderr",
     "output_type": "stream",
     "text": [
      "100%|██████████| 750/750 [00:05<00:00, 133.68it/s]\n"
     ]
    },
    {
     "name": "stdout",
     "output_type": "stream",
     "text": [
      "Epoch 48/64, Train Loss: 0.5599, Val Loss: 0.5446, Val Accuracy: 0.8293\n"
     ]
    },
    {
     "name": "stderr",
     "output_type": "stream",
     "text": [
      "100%|██████████| 750/750 [00:04<00:00, 159.08it/s]\n"
     ]
    },
    {
     "name": "stdout",
     "output_type": "stream",
     "text": [
      "Epoch 49/64, Train Loss: 0.5388, Val Loss: 0.5257, Val Accuracy: 0.8363\n",
      "values: tensor([0.0000, 0.0000, 0.0000,  ..., 0.0000, 0.0059, 0.0040])\n",
      "choose: tensor([[   1,    1,    1,    1,    1,    1,    1,    1,    1,    1,    1,    1,\n",
      "            1,    1,    1,    1,    1,    1,    1,    1,    1,    1,    1,    1,\n",
      "            1,    1,    1,    1,    1,    1,    1,    1,    1,    1,    1,    1,\n",
      "            1,    1,    1,    1,    1,    1,    1,    1,    4,    1,    8,    1,\n",
      "            1,    4,    1,    4,    1,    1,    1,    1,    5,    1,    1,    1,\n",
      "            1,    1,    1,    1,    8,    1,    9,    8,    5,    1,    1,    1,\n",
      "            1,    1,    9,    1,    5,    1,    1,    9,    5,    9,    1,    8,\n",
      "            1,    9,    4,    3,    1,    6,    1,    9,    5,    9,    1,    1,\n",
      "            4,    3,    3,    1,    1,    9,    5,    1,    1,    1,    4,    5,\n",
      "            8,    8,    9,    9,    1,    4,    9,    1,    1,    5,    5,    8,\n",
      "            3,    9,    2,    1,    9,    8,    5,    5,    9,    4,    5,    5,\n",
      "            5,    9,    1,    2,    9,    5,    3,    5,    9,    9,    1,    9,\n",
      "            1,    9,    1,    4,    3,    9,    6,    1,    9,    3,    3,    4,\n",
      "            4,    4,    9,    5,    5,    4,    4,    2,    1,    9,    3,    3,\n",
      "            2,    9,    3,    5,    5,    6,    9,    9,    4,    4,    1,    3,\n",
      "            9,    1,    4,    5,    5,    4,    4,    1,    2,    5,    3,    3,\n",
      "            2,    3,    4,    2,    9,    9,    2,    2,    2,    4,    5,    1,\n",
      "            9,    5,    4,    4,    5,    4,    3,    3,    5,    2,    5,    5,\n",
      "            9,    4,    6,    3,    7,    3,    4,    1,    9,    3,    3,    2,\n",
      "            5,    8,    3,    4,    8,    4,    5,    7,    4,    2,    2,    2,\n",
      "            2,    9,    2,    3,    5,    3,    1,    3,    9,    5,    9,    1,\n",
      "            9,    2,    1,    4],\n",
      "        [1808, 1825, 1817, 1954, 1827, 1004,  433,  461,  323,  405,  490, 1812,\n",
      "          489,  435,  322,  295,  377,  517,  324,  518,  296,  352,  463,  294,\n",
      "          267,  268,  488,  545,  349,  516,  546,  380,  460,  491,  544,  266,\n",
      "          574,  573,  239,  432,  240,  269,  572,  321, 1165,  297, 1813,  571,\n",
      "          543, 1923,  241, 1844,  519,  238,  515,  408,  516,  602,  599,  601,\n",
      "          547,  211,  600,  293, 1210,  575,  376, 1217,  517,  325,  212,  570,\n",
      "          210,  213, 1933,  598,  515,  603,  404,  181,  326,  660,  487, 1846,\n",
      "          265,  377, 1184,  264,  242, 1847,  183, 1910,  518, 1922,  214,  626,\n",
      "         1039,  292,  318,  630,  627, 1889,  514,  184,  542,  182, 1294,  487,\n",
      "         1121, 1158,  605,  633,  237, 1198,  522,  628,  270, 1919,  354, 1192,\n",
      "         1888,  628,  324,  629,  233, 1306,  653,  459,  458, 1174, 1620,  382,\n",
      "          243,  687,  185,  350,  180,  271,  520,  299,  348, 1818,  209,  206,\n",
      "          631,  457,  186, 1284, 1824,  428, 1211,  597,  684,  265,  547, 1230,\n",
      "          382, 1849,  328,  216, 1826,  298, 1193,  323,  436,  661, 1864,  261,\n",
      "          381,  550,  187,  825, 1857, 1278,  320,  688,  406,  238,  353,  289,\n",
      "         1934,  625, 1218,  429,  188,  211,  239,  215,  297,  159,  299,  464,\n",
      "          404,  492,  379,  214,  572,  578,  240,  241,  377, 1823, 1850,  155,\n",
      "         1820,  486,  547, 1191, 1830,  240, 2012,  383,  372,  237,  513,  244,\n",
      "          300,  212, 1202,  435,  461,  293,  237,  569,  260,  411, 1966,  266,\n",
      "          205,  635,  152,  210, 1251, 1287,  344,  379, 1225,  630,  604,  235,\n",
      "          296,  516,  493,  266,  595,  375,  459,  355,  600,  458,  356,  181,\n",
      "          155,  267,  376,  236]])\n"
     ]
    },
    {
     "name": "stderr",
     "output_type": "stream",
     "text": [
      "100%|██████████| 750/750 [00:05<00:00, 128.41it/s]\n"
     ]
    },
    {
     "name": "stdout",
     "output_type": "stream",
     "text": [
      "Epoch 50/64, Train Loss: 0.8685, Val Loss: 0.7598, Val Accuracy: 0.7344\n"
     ]
    },
    {
     "name": "stderr",
     "output_type": "stream",
     "text": [
      "100%|██████████| 750/750 [00:05<00:00, 136.87it/s]\n"
     ]
    },
    {
     "name": "stdout",
     "output_type": "stream",
     "text": [
      "Epoch 51/64, Train Loss: 0.7349, Val Loss: 0.7023, Val Accuracy: 0.7608\n"
     ]
    },
    {
     "name": "stderr",
     "output_type": "stream",
     "text": [
      "100%|██████████| 750/750 [00:05<00:00, 134.54it/s]\n"
     ]
    },
    {
     "name": "stdout",
     "output_type": "stream",
     "text": [
      "Epoch 52/64, Train Loss: 0.6900, Val Loss: 0.6665, Val Accuracy: 0.7753\n"
     ]
    },
    {
     "name": "stderr",
     "output_type": "stream",
     "text": [
      "100%|██████████| 750/750 [00:06<00:00, 116.94it/s]\n"
     ]
    },
    {
     "name": "stdout",
     "output_type": "stream",
     "text": [
      "Epoch 53/64, Train Loss: 0.6568, Val Loss: 0.6371, Val Accuracy: 0.7884\n"
     ]
    },
    {
     "name": "stderr",
     "output_type": "stream",
     "text": [
      "100%|██████████| 750/750 [00:07<00:00, 95.62it/s] \n"
     ]
    },
    {
     "name": "stdout",
     "output_type": "stream",
     "text": [
      "Epoch 54/64, Train Loss: 0.6287, Val Loss: 0.6117, Val Accuracy: 0.7980\n"
     ]
    },
    {
     "name": "stderr",
     "output_type": "stream",
     "text": [
      "100%|██████████| 750/750 [00:05<00:00, 149.19it/s]\n"
     ]
    },
    {
     "name": "stdout",
     "output_type": "stream",
     "text": [
      "Epoch 55/64, Train Loss: 0.6045, Val Loss: 0.5900, Val Accuracy: 0.8063\n"
     ]
    },
    {
     "name": "stderr",
     "output_type": "stream",
     "text": [
      "100%|██████████| 750/750 [00:04<00:00, 157.55it/s]\n"
     ]
    },
    {
     "name": "stdout",
     "output_type": "stream",
     "text": [
      "Epoch 56/64, Train Loss: 0.5838, Val Loss: 0.5712, Val Accuracy: 0.8147\n"
     ]
    },
    {
     "name": "stderr",
     "output_type": "stream",
     "text": [
      "100%|██████████| 750/750 [00:05<00:00, 149.19it/s]\n"
     ]
    },
    {
     "name": "stdout",
     "output_type": "stream",
     "text": [
      "Epoch 57/64, Train Loss: 0.5657, Val Loss: 0.5546, Val Accuracy: 0.8218\n",
      "values: tensor([0.0000, 0.0000, 0.0000,  ..., 0.0051, 0.0000, 0.0017])\n",
      "choose: tensor([[   8,    4,    5,    4,    9,    8,    8,    5,    8,    5,    5,    9,\n",
      "            5,    6,    5,    7,    4,    4,    4,    5,    3,    4,    4,    5,\n",
      "            5,    5,    4,    5,    4,    4,    4,    4,    4,    5,    4,    4,\n",
      "            5,    4,    5,    5,    4,    1,    4,    5,    5,    4,    4,    4,\n",
      "            5,    5,    4,    4,    3,    2,    4,    2,    4,    4,    4,    4,\n",
      "            4,    9,    4,    4,    5,    2,    4,    4,    4,    5,    6,    5,\n",
      "            2,    5,    4,    4,    3,    3,    3,    4,    5,    5,    4,    2,\n",
      "            4,    4,    8,    6,    4,    4,    4,    5,    5,    4,    2,    5,\n",
      "            5,    4,    8,    9,    9,    4,    6,    4,    4,    4,    4,    4,\n",
      "            4,    3,    2,    9,    4,    4,    2,    4,    4,    2,    5,    5,\n",
      "            5,    9,    5,    5,    3,    3,    2,    5,    4,    4,    4,    5,\n",
      "            6,    9,    3,    4,    9,    4,    3,    4,    1,    2,    4,    4,\n",
      "            2,    3,    2,    3,    9,    5,    4,    2,    4,    4,    2,    3,\n",
      "            4,    4,    2,    2,    3,    2,    9,    4,    5,    9,    9,    4,\n",
      "            5,    4,    4,    5,    5,    3,    1,    5,    2,    4,    5,    5,\n",
      "            5,    6,    3,    2,    3,    2,    4,    3,    4,    9,    9,    3,\n",
      "            3,    5,    9,    4,    9,    4,    5,    4,    9,    2,    1,    4,\n",
      "            2,    9,    5,    4,    4,    4,    2,    6,    5,    2,    9,    3,\n",
      "            3,    9,    4,    8,    2,    4,    3,    9,    1,    4,    3,    4,\n",
      "            4,    5,    9,    2,    9,    4,    4,    9,    5,    9,    9,    3,\n",
      "            8,    5,    4,    2,    9,    4,    5,    3,    2,    2,    4,    9,\n",
      "            3,    9,    5,    2],\n",
      "        [2128, 2115,  327, 2160, 1809, 2110, 2173,  485, 2172, 2269, 2171, 2020,\n",
      "          355, 2153,  272, 1810, 1997, 2286,  209,  457,  346, 2177,  375,  300,\n",
      "          785,  834,  264,  567, 2265, 1241, 2295,  466,  213,  383, 1843, 1243,\n",
      "          539,  347, 2195,  411,  459, 2069,  460,  245, 2308,  489,  263,  428,\n",
      "         2166,  512,  319,  400,  317,  322,  438,  295,  269,  494,  241,  317,\n",
      "          517,  873,  291,  488, 1676,  157,  290, 2211, 1179,  273, 2282,  160,\n",
      "          268,  217, 1172,  458, 2254,  374,  402,  521,  400,  524,  270,  349,\n",
      "         1270,  372, 2296, 2031, 2108,  575,  324,  328,  908,  404,  269, 2313,\n",
      "          178,  548, 1078,  606,  790,  265, 1186,  405,  487, 2281,  457,  327,\n",
      "          355,  624,  271,  179,  546,  456,  186,  262,  344, 1458,  484,  684,\n",
      "          685, 1974,  152,  468,  573,  596,  299,  316,  235,  289,  292,  246,\n",
      "         2237, 1005, 1684,  383,  439, 2113,  327, 1227, 2075,  243, 1214,  299,\n",
      "          236,  205,  596,  519,  467,  538,  486,  294,  411,  427,  327,  579,\n",
      "         1037,  268,  409,  437,  572,  494,  244,  399,  189,  315,  343,  242,\n",
      "          686,  603,  549,  623,  274, 2255, 2078,  232, 1513,  574,  552, 2181,\n",
      "          511, 2214,  430,  577,  546,  625,  271,  158, 1969,  487,  627,  653,\n",
      "          244,  260,  205,  266, 2209, 1190,  580,  516,  272,  431, 2065,  439,\n",
      "          354,  634,  991,  545,  296,  267, 1403, 1257,  288,  466,  495,  345,\n",
      "          463,  486, 2055, 1132, 1470,  184,  272, 1912, 2071, 2246,  568,  234,\n",
      "          243, 1789,  544,  631, 1814,  183,  576,  232,  440, 2239,  797,  569,\n",
      "         2147, 1841,  214,  550,  350,  602,  566,  595,  355,  179,  485,  818,\n",
      "          570,  683,  652, 1532]])\n"
     ]
    },
    {
     "name": "stderr",
     "output_type": "stream",
     "text": [
      "100%|██████████| 750/750 [00:05<00:00, 142.00it/s]\n"
     ]
    },
    {
     "name": "stdout",
     "output_type": "stream",
     "text": [
      "Epoch 58/64, Train Loss: 1.0618, Val Loss: 0.8686, Val Accuracy: 0.7076\n"
     ]
    },
    {
     "name": "stderr",
     "output_type": "stream",
     "text": [
      "100%|██████████| 750/750 [00:05<00:00, 138.76it/s]\n"
     ]
    },
    {
     "name": "stdout",
     "output_type": "stream",
     "text": [
      "Epoch 59/64, Train Loss: 0.7905, Val Loss: 0.7323, Val Accuracy: 0.7506\n"
     ]
    },
    {
     "name": "stderr",
     "output_type": "stream",
     "text": [
      "100%|██████████| 750/750 [00:05<00:00, 132.55it/s]\n"
     ]
    },
    {
     "name": "stdout",
     "output_type": "stream",
     "text": [
      "Epoch 60/64, Train Loss: 0.6965, Val Loss: 0.6685, Val Accuracy: 0.7732\n"
     ]
    },
    {
     "name": "stderr",
     "output_type": "stream",
     "text": [
      "100%|██████████| 750/750 [00:05<00:00, 140.90it/s]\n"
     ]
    },
    {
     "name": "stdout",
     "output_type": "stream",
     "text": [
      "Epoch 61/64, Train Loss: 0.6474, Val Loss: 0.6308, Val Accuracy: 0.7883\n"
     ]
    },
    {
     "name": "stderr",
     "output_type": "stream",
     "text": [
      "100%|██████████| 750/750 [00:05<00:00, 141.35it/s]\n"
     ]
    },
    {
     "name": "stdout",
     "output_type": "stream",
     "text": [
      "Epoch 62/64, Train Loss: 0.6158, Val Loss: 0.6045, Val Accuracy: 0.8007\n"
     ]
    },
    {
     "name": "stderr",
     "output_type": "stream",
     "text": [
      "100%|██████████| 750/750 [00:05<00:00, 137.05it/s]\n"
     ]
    },
    {
     "name": "stdout",
     "output_type": "stream",
     "text": [
      "Epoch 63/64, Train Loss: 0.5923, Val Loss: 0.5838, Val Accuracy: 0.8097\n"
     ]
    },
    {
     "name": "stderr",
     "output_type": "stream",
     "text": [
      "100%|██████████| 750/750 [04:12<00:00,  2.97it/s] \n"
     ]
    },
    {
     "name": "stdout",
     "output_type": "stream",
     "text": [
      "Epoch 64/64, Train Loss: 0.5728, Val Loss: 0.5661, Val Accuracy: 0.8172\n"
     ]
    }
   ],
   "source": [
    "train_sparse_recursive(sparse_model, train_loader, val_loader, 64, metrics[0],\n",
    "                       edge_replacement_func=edge_replacement_func_new_layer)"
   ]
  },
  {
   "cell_type": "code",
   "execution_count": null,
   "id": "110f89610af467b2",
   "metadata": {
    "ExecuteTime": {
     "end_time": "2024-12-03T16:22:21.594631Z",
     "start_time": "2024-12-03T16:22:21.589616Z"
    }
   },
   "outputs": [],
   "source": []
  }
 ],
 "metadata": {
  "kernelspec": {
   "display_name": "self-expanding-nets",
   "language": "python",
   "name": "python3"
  },
  "language_info": {
   "codemirror_mode": {
    "name": "ipython",
    "version": 3
   },
   "file_extension": ".py",
   "mimetype": "text/x-python",
   "name": "python",
   "nbconvert_exporter": "python",
   "pygments_lexer": "ipython3",
   "version": "3.12.7"
  }
 },
 "nbformat": 4,
 "nbformat_minor": 5
}
