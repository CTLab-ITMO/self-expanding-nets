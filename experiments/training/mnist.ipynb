{
 "cells": [
  {
   "cell_type": "code",
   "execution_count": 1,
   "id": "932f4bdded4b6539",
   "metadata": {
    "ExecuteTime": {
     "end_time": "2025-01-21T14:31:25.334745Z",
     "start_time": "2025-01-21T14:31:20.096324Z"
    }
   },
   "outputs": [],
   "source": [
    "\n",
    "from copy import deepcopy\n",
    "\n",
    "import torch.optim as optim\n",
    "from sklearn.metrics import accuracy_score\n",
    "from torch.utils.data import DataLoader, random_split\n",
    "from torchvision import datasets, transforms\n",
    "from tqdm import tqdm\n",
    "import time"
   ]
  },
  {
   "cell_type": "code",
   "execution_count": 2,
   "id": "a089a23845b1066b",
   "metadata": {
    "ExecuteTime": {
     "end_time": "2025-01-21T14:31:25.350457Z",
     "start_time": "2025-01-21T14:31:25.338930Z"
    }
   },
   "outputs": [],
   "source": [
    "from senmodel.model.utils import *\n",
    "from senmodel.metrics.nonlinearity_metrics import *\n",
    "from senmodel.metrics.edge_finder import *"
   ]
  },
  {
   "cell_type": "code",
   "execution_count": 3,
   "id": "888ee10c0aa4d1f9",
   "metadata": {
    "ExecuteTime": {
     "end_time": "2025-01-21T14:31:25.520919Z",
     "start_time": "2025-01-21T14:31:25.513942Z"
    }
   },
   "outputs": [],
   "source": [
    "torch.manual_seed(0)\n",
    "device = torch.device(\"cuda:0\" if torch.cuda.is_available() else \"cpu\")"
   ]
  },
  {
   "cell_type": "code",
   "execution_count": 4,
   "id": "a936039c",
   "metadata": {},
   "outputs": [],
   "source": [
    "def get_params_amount(model):\n",
    "    amount = 0\n",
    "    for _, layer in model.named_children():\n",
    "        if isinstance(layer, ExpandingLinear):\n",
    "            for linear in layer.embed_linears:\n",
    "                amount += linear.weight_values.shape[0]\n",
    "            amount += layer.weight_values.shape[0]\n",
    "        elif isinstance(layer, nn.Linear):\n",
    "            amount += linear.in_features * linear.out_features\n",
    "    return amount"
   ]
  },
  {
   "cell_type": "code",
   "execution_count": 5,
   "id": "28b44164",
   "metadata": {},
   "outputs": [],
   "source": [
    "def get_zero_params_amount(model, eps=1e-8):\n",
    "    amount = 0\n",
    "    for _, layer in model.named_children():\n",
    "        if isinstance(layer, ExpandingLinear):\n",
    "            for linear in layer.embed_linears:\n",
    "                amount += linear.weight_values[linear.weight_values.abs() < eps].shape[0]\n",
    "            amount += layer.weight_values[layer.weight_values.abs() < eps].shape[0]\n",
    "        elif isinstance(layer, nn.Linear):\n",
    "            amount += linear.weight[linear.weight.abs() < eps].numel()\n",
    "    return amount"
   ]
  },
  {
   "cell_type": "code",
   "execution_count": 6,
   "id": "9d78a6bb",
   "metadata": {},
   "outputs": [],
   "source": [
    "def get_metric_value(ef, model, layer_names, mask, choose_threshold):\n",
    "    chosen_edges = 0\n",
    "    for layer_name in layer_names:\n",
    "        chosen_edges += len(ef.choose_edges_threshold(model, layer_name, choose_threshold, mask)[0])\n",
    "    return chosen_edges"
   ]
  },
  {
   "cell_type": "code",
   "execution_count": 7,
   "id": "7ab06250d4252047",
   "metadata": {
    "ExecuteTime": {
     "end_time": "2025-01-21T14:31:25.536476Z",
     "start_time": "2025-01-21T14:31:25.528255Z"
    }
   },
   "outputs": [],
   "source": [
    "def train_sparse_recursive(model, train_loader, val_loader, num_epochs, metric, window_size=5, threshold=0.2, choose_threshold=0.4):\n",
    "    optimizer = optim.Adam(model.parameters(), lr=1e-4)\n",
    "    criterion = nn.CrossEntropyLoss()\n",
    "    ef = EdgeFinder(metric, val_loader, device, aggregation_mode='mean')\n",
    "\n",
    "    replace_epoch = [0]\n",
    "    val_losses = []\n",
    "    len_choose = get_model_last_layer(model).count_replaces[0]\n",
    "    for epoch in range(num_epochs):\n",
    "        t0 = time.time()\n",
    "        model.train()\n",
    "        train_loss = 0\n",
    "        for i, (inputs, targets) in enumerate(tqdm(train_loader)):\n",
    "            outputs = model(inputs)\n",
    "            loss = criterion(outputs, targets)\n",
    "\n",
    "            optimizer.zero_grad()\n",
    "            loss.backward()\n",
    "\n",
    "            optimizer.step()\n",
    "            train_loss += loss.item()\n",
    "        \n",
    "        # if len(replace_epoch) > 1:\n",
    "        #     for g in optimizer.param_groups:  \n",
    "                # g['lr'] *= 0.9\n",
    "        \n",
    "        train_loss /= len(train_loader)\n",
    "        train_time = time.time() - t0\n",
    "\n",
    "        model.eval()\n",
    "        val_loss = 0\n",
    "        all_targets = []\n",
    "        all_preds = []\n",
    "        with torch.no_grad():\n",
    "            for inputs, targets in val_loader:\n",
    "                outputs = model(inputs)\n",
    "                loss = criterion(outputs, targets)\n",
    "                val_loss += loss.item()\n",
    "\n",
    "                preds = torch.argmax(outputs, dim=1)\n",
    "                all_targets.extend(targets.cpu().numpy())\n",
    "                all_preds.extend(preds.cpu().numpy())\n",
    "\n",
    "        val_loss /= len(val_loader)\n",
    "        val_accuracy = accuracy_score(all_targets, all_preds)\n",
    "\n",
    "        print(f\"Epoch {epoch + 1}/{num_epochs}, Train Loss: {train_loss:.4f}, \"\n",
    "              f\"Val Loss: {val_loss:.4f}, Val Accuracy: {val_accuracy:.4f}\")\n",
    "        val_losses.append(val_loss)\n",
    "        if len(val_losses) > window_size and epoch - replace_epoch[-1] > 8:\n",
    "            recent_changes = [abs(val_losses[i] - val_losses[i - 1]) for i in range(-window_size, 0)]\n",
    "            avg_change = sum(recent_changes) / window_size\n",
    "            if avg_change < threshold:\n",
    "                # layer = model.fc0\n",
    "                # mask = torch.ones_like(layer.weight_values, dtype=bool)\n",
    "                # len_choose = edge_replacement_func_new_layer(layer, mask, optimizer, val_loader, metric, 0.3, 'mean')\n",
    "\n",
    "                layer = model.fc0\n",
    "                mask = torch.ones_like(layer.weight_values, dtype=bool)\n",
    "                len_choose = edge_replacement_func_new_layer(model, 'fc0', mask, optimizer, choose_threshold, ef)\n",
    "\n",
    "                wandb.log({'len_choose': len_choose})\n",
    "                replace_epoch += [epoch]\n",
    "\n",
    "                # if len(replace_epoch) == 2:\n",
    "                #     for g in optimizer.param_groups:\n",
    "                #         g['lr'] *= 100\n",
    "\n",
    "\n",
    "        params_amount = get_params_amount(model)\n",
    "        # zero_params_amount = get_zero_params_amount(model)\n",
    "        layer = model.fc0\n",
    "        mask = torch.ones_like(layer.weight_values, dtype=bool)\n",
    "        metric_params = get_metric_value(ef, model, ['fc0'], mask, choose_threshold)\n",
    "        print(metric_params, metric_params/params_amount)\n",
    "        wandb.log({'val loss': val_loss, 'val accuracy': val_accuracy,\n",
    "                   'train loss': train_loss, 'params amount': params_amount,\n",
    "                   'params to del amount': metric_params, 'train time': train_time,\n",
    "                   'params ratio': (params_amount - metric_params) / params_amount,\n",
    "                   'lr': optimizer.param_groups[0]['lr'], 'acc amount': val_accuracy / params_amount})\n",
    "\n",
    "def edge_replacement_func_new_layer(model, layer_name, mask, optim, choose_threshold, ef):\n",
    "    layer = model.__getattr__(layer_name)\n",
    "    # ef = EdgeFinder(metric, val_loader, device, aggregation_mode)\n",
    "    chosen_edges = ef.choose_edges_threshold(model, layer_name, choose_threshold, mask)\n",
    "    print(\"Chosen edges:\", chosen_edges, len(chosen_edges[0]))\n",
    "    layer.replace_many(*chosen_edges)\n",
    "\n",
    "    if len(chosen_edges[0]) > 0:\n",
    "        optim.add_param_group({'params': layer.embed_linears[-1].weight_values})\n",
    "        optim.add_param_group({'params': layer.weight_values})\n",
    "    print(len(chosen_edges[0]))\n",
    "    return len(chosen_edges[0])\n",
    "\n",
    "# def edge_replacement_func_new_layer(model, optim, val_loader, metric, choose_threshold, aggregation_mode='mean', len_choose=None):\n",
    "#     layer = get_model_last_layer(model)\n",
    "#     ef = EdgeFinder(metric, val_loader, device, aggregation_mode)\n",
    "#     vals = ef.calculate_edge_metric_for_dataloader(model, len_choose, False)\n",
    "#     print(\"Edge metrics:\", vals, max(vals, default=0), sum(vals))\n",
    "#     chosen_edges = ef.choose_edges_threshold(model, choose_threshold, len_choose)\n",
    "#     print(\"Chosen edges:\", chosen_edges, len(chosen_edges[0]))\n",
    "#     layer.replace_many(*chosen_edges)\n",
    "\n",
    "#     if len(chosen_edges[0]) > 0:\n",
    "#         optim.add_param_group({'params': layer.embed_linears[-1].weight_values})\n",
    "#         # optim.add_param_group({'params': layer.weight_values})\n",
    "#     else:\n",
    "#         print(\"Empty metric\")\n",
    "\n",
    "#     return {'max': max(vals, default=0), 'sum': sum(vals), 'len': len(vals), 'len_choose': layer.count_replaces[-1]}"
   ]
  },
  {
   "cell_type": "code",
   "execution_count": 8,
   "id": "1aff98b408abbf8d",
   "metadata": {
    "ExecuteTime": {
     "end_time": "2025-01-21T14:31:25.547124Z",
     "start_time": "2025-01-21T14:31:25.543666Z"
    }
   },
   "outputs": [],
   "source": [
    "class SimpleFCN(nn.Module):\n",
    "    def __init__(self, input_size=28 * 28, hidden_size=16):\n",
    "        super(SimpleFCN, self).__init__()\n",
    "        self.fc0 = nn.Linear(input_size, 10)\n",
    "        # self.fc1 = nn.Linear(hidden_size, 10)\n",
    "        self.act = nn.ReLU()\n",
    "\n",
    "    def forward(self, x):\n",
    "        x = self.fc0(x)\n",
    "        return x"
   ]
  },
  {
   "cell_type": "code",
   "execution_count": 9,
   "id": "90353a5a49cd1022",
   "metadata": {
    "ExecuteTime": {
     "end_time": "2025-01-21T14:31:25.590348Z",
     "start_time": "2025-01-21T14:31:25.554956Z"
    }
   },
   "outputs": [],
   "source": [
    "# Dataset and Dataloader\n",
    "transform = transforms.Compose([\n",
    "    transforms.ToTensor(),\n",
    "    transforms.Lambda(lambda x: x.view(-1))\n",
    "])\n",
    "\n",
    "# Load dataset and split into train/validation sets\n",
    "dataset = datasets.MNIST(root='./data', train=True, download=True, transform=transform)\n",
    "train_size = int(0.8 * len(dataset))\n",
    "val_size = len(dataset) - train_size\n",
    "train_dataset, val_dataset = random_split(dataset, [train_size, val_size])\n",
    "\n",
    "train_loader = DataLoader(train_dataset, batch_size=64, shuffle=True)\n",
    "val_loader = DataLoader(val_dataset, batch_size=64, shuffle=False)"
   ]
  },
  {
   "cell_type": "code",
   "execution_count": 10,
   "id": "dcb8129e6befdf70",
   "metadata": {
    "ExecuteTime": {
     "end_time": "2025-01-21T14:31:26.821483Z",
     "start_time": "2025-01-21T14:31:26.807650Z"
    }
   },
   "outputs": [],
   "source": [
    "criterion = nn.CrossEntropyLoss()\n",
    "metrics = [\n",
    "    MagnitudeL2Metric(criterion),\n",
    "    # SNIPMetric(criterion),\n",
    "    # GradientMeanEdgeMetric(criterion),\n",
    "    # PerturbationSensitivityEdgeMetric(criterion),\n",
    "]\n",
    "model = SimpleFCN()\n",
    "sparse_model = convert_dense_to_sparse_network(model, layers=[model.fc0])"
   ]
  },
  {
   "cell_type": "code",
   "execution_count": 11,
   "id": "77e8399a",
   "metadata": {
    "ExecuteTime": {
     "end_time": "2025-01-21T14:31:30.645772Z",
     "start_time": "2025-01-21T14:31:27.560914Z"
    }
   },
   "outputs": [
    {
     "name": "stderr",
     "output_type": "stream",
     "text": [
      "\u001b[34m\u001b[1mwandb\u001b[0m: Using wandb-core as the SDK backend.  Please refer to https://wandb.me/wandb-core for more information.\n",
      "\u001b[34m\u001b[1mwandb\u001b[0m: Currently logged in as: \u001b[33mvanyamironov\u001b[0m to \u001b[32mhttps://api.wandb.ai\u001b[0m. Use \u001b[1m`wandb login --relogin`\u001b[0m to force relogin\n"
     ]
    },
    {
     "data": {
      "text/plain": [
       "True"
      ]
     },
     "execution_count": 11,
     "metadata": {},
     "output_type": "execute_result"
    }
   ],
   "source": [
    "import wandb\n",
    "\n",
    "wandb.login()"
   ]
  },
  {
   "cell_type": "code",
   "execution_count": 12,
   "id": "6a4cee60",
   "metadata": {},
   "outputs": [
    {
     "data": {
      "text/html": [
       "Tracking run with wandb version 0.19.8"
      ],
      "text/plain": [
       "<IPython.core.display.HTML object>"
      ]
     },
     "metadata": {},
     "output_type": "display_data"
    },
    {
     "data": {
      "text/html": [
       "Run data is saved locally in <code>/Users/ivanmironov/Projects/self-expanding-nets/experiments/training/wandb/run-20250324_141925-ls3x1dl1</code>"
      ],
      "text/plain": [
       "<IPython.core.display.HTML object>"
      ]
     },
     "metadata": {},
     "output_type": "display_data"
    },
    {
     "data": {
      "text/html": [
       "Syncing run <strong><a href='https://wandb.ai/vanyamironov/self-expanding-nets/runs/ls3x1dl1' target=\"_blank\">trash</a></strong> to <a href='https://wandb.ai/vanyamironov/self-expanding-nets' target=\"_blank\">Weights & Biases</a> (<a href='https://wandb.me/developer-guide' target=\"_blank\">docs</a>)<br>"
      ],
      "text/plain": [
       "<IPython.core.display.HTML object>"
      ]
     },
     "metadata": {},
     "output_type": "display_data"
    },
    {
     "data": {
      "text/html": [
       " View project at <a href='https://wandb.ai/vanyamironov/self-expanding-nets' target=\"_blank\">https://wandb.ai/vanyamironov/self-expanding-nets</a>"
      ],
      "text/plain": [
       "<IPython.core.display.HTML object>"
      ]
     },
     "metadata": {},
     "output_type": "display_data"
    },
    {
     "data": {
      "text/html": [
       " View run at <a href='https://wandb.ai/vanyamironov/self-expanding-nets/runs/ls3x1dl1' target=\"_blank\">https://wandb.ai/vanyamironov/self-expanding-nets/runs/ls3x1dl1</a>"
      ],
      "text/plain": [
       "<IPython.core.display.HTML object>"
      ]
     },
     "metadata": {},
     "output_type": "display_data"
    }
   ],
   "source": [
    "run = wandb.init(\n",
    "    project=\"self-expanding-nets\",\n",
    "    name=f\"trash\",\n",
    ")"
   ]
  },
  {
   "cell_type": "code",
   "execution_count": 13,
   "id": "3b3534e4",
   "metadata": {},
   "outputs": [
    {
     "name": "stderr",
     "output_type": "stream",
     "text": [
      "100%|██████████| 750/750 [00:02<00:00, 329.43it/s]\n"
     ]
    },
    {
     "name": "stdout",
     "output_type": "stream",
     "text": [
      "Epoch 1/64, Train Loss: 1.4805, Val Loss: 0.9977, Val Accuracy: 0.8192\n",
      "589 0.07512755102040816\n"
     ]
    },
    {
     "name": "stderr",
     "output_type": "stream",
     "text": [
      "100%|██████████| 750/750 [00:02<00:00, 355.01it/s]\n"
     ]
    },
    {
     "name": "stdout",
     "output_type": "stream",
     "text": [
      "Epoch 2/64, Train Loss: 0.8088, Val Loss: 0.6843, Val Accuracy: 0.8528\n",
      "511 0.06517857142857143\n"
     ]
    },
    {
     "name": "stderr",
     "output_type": "stream",
     "text": [
      "100%|██████████| 750/750 [00:02<00:00, 275.61it/s]\n"
     ]
    },
    {
     "name": "stdout",
     "output_type": "stream",
     "text": [
      "Epoch 3/64, Train Loss: 0.6078, Val Loss: 0.5551, Val Accuracy: 0.8699\n",
      "436 0.055612244897959184\n"
     ]
    },
    {
     "name": "stderr",
     "output_type": "stream",
     "text": [
      "100%|██████████| 750/750 [00:02<00:00, 312.02it/s]\n"
     ]
    },
    {
     "name": "stdout",
     "output_type": "stream",
     "text": [
      "Epoch 4/64, Train Loss: 0.5129, Val Loss: 0.4851, Val Accuracy: 0.8792\n",
      "356 0.045408163265306126\n"
     ]
    },
    {
     "name": "stderr",
     "output_type": "stream",
     "text": [
      "100%|██████████| 750/750 [00:02<00:00, 317.48it/s]\n"
     ]
    },
    {
     "name": "stdout",
     "output_type": "stream",
     "text": [
      "Epoch 5/64, Train Loss: 0.4575, Val Loss: 0.4412, Val Accuracy: 0.8871\n",
      "288 0.036734693877551024\n"
     ]
    },
    {
     "name": "stderr",
     "output_type": "stream",
     "text": [
      "100%|██████████| 750/750 [00:02<00:00, 341.72it/s]\n"
     ]
    },
    {
     "name": "stdout",
     "output_type": "stream",
     "text": [
      "Epoch 6/64, Train Loss: 0.4213, Val Loss: 0.4107, Val Accuracy: 0.8935\n",
      "241 0.030739795918367348\n"
     ]
    },
    {
     "name": "stderr",
     "output_type": "stream",
     "text": [
      "100%|██████████| 750/750 [00:02<00:00, 316.78it/s]\n"
     ]
    },
    {
     "name": "stdout",
     "output_type": "stream",
     "text": [
      "Epoch 7/64, Train Loss: 0.3958, Val Loss: 0.3893, Val Accuracy: 0.8978\n",
      "222 0.028316326530612244\n"
     ]
    },
    {
     "name": "stderr",
     "output_type": "stream",
     "text": [
      "100%|██████████| 750/750 [00:02<00:00, 335.21it/s]\n"
     ]
    },
    {
     "name": "stdout",
     "output_type": "stream",
     "text": [
      "Epoch 8/64, Train Loss: 0.3771, Val Loss: 0.3729, Val Accuracy: 0.9005\n",
      "206 0.026275510204081632\n"
     ]
    },
    {
     "name": "stderr",
     "output_type": "stream",
     "text": [
      "100%|██████████| 750/750 [00:02<00:00, 341.30it/s]\n"
     ]
    },
    {
     "name": "stdout",
     "output_type": "stream",
     "text": [
      "Epoch 9/64, Train Loss: 0.3626, Val Loss: 0.3603, Val Accuracy: 0.9029\n",
      "199 0.02538265306122449\n"
     ]
    },
    {
     "name": "stderr",
     "output_type": "stream",
     "text": [
      "100%|██████████| 750/750 [00:02<00:00, 352.15it/s]\n"
     ]
    },
    {
     "name": "stdout",
     "output_type": "stream",
     "text": [
      "Epoch 10/64, Train Loss: 0.3514, Val Loss: 0.3502, Val Accuracy: 0.9051\n",
      "192 0.024489795918367346\n"
     ]
    },
    {
     "name": "stderr",
     "output_type": "stream",
     "text": [
      "100%|██████████| 750/750 [00:02<00:00, 286.30it/s]\n"
     ]
    },
    {
     "name": "stdout",
     "output_type": "stream",
     "text": [
      "Epoch 11/64, Train Loss: 0.3422, Val Loss: 0.3420, Val Accuracy: 0.9072\n",
      "187 0.023852040816326532\n"
     ]
    },
    {
     "name": "stderr",
     "output_type": "stream",
     "text": [
      "100%|██████████| 750/750 [00:02<00:00, 291.53it/s]\n"
     ]
    },
    {
     "name": "stdout",
     "output_type": "stream",
     "text": [
      "Epoch 12/64, Train Loss: 0.3346, Val Loss: 0.3351, Val Accuracy: 0.9079\n",
      "188 0.023979591836734693\n"
     ]
    },
    {
     "name": "stderr",
     "output_type": "stream",
     "text": [
      "100%|██████████| 750/750 [00:02<00:00, 336.31it/s]\n"
     ]
    },
    {
     "name": "stdout",
     "output_type": "stream",
     "text": [
      "Epoch 13/64, Train Loss: 0.3282, Val Loss: 0.3300, Val Accuracy: 0.9091\n",
      "195 0.024872448979591837\n"
     ]
    },
    {
     "name": "stderr",
     "output_type": "stream",
     "text": [
      "100%|██████████| 750/750 [00:02<00:00, 299.81it/s]\n"
     ]
    },
    {
     "name": "stdout",
     "output_type": "stream",
     "text": [
      "Epoch 14/64, Train Loss: 0.3227, Val Loss: 0.3248, Val Accuracy: 0.9106\n",
      "180 0.02295918367346939\n"
     ]
    },
    {
     "name": "stderr",
     "output_type": "stream",
     "text": [
      "100%|██████████| 750/750 [00:02<00:00, 328.87it/s]\n"
     ]
    },
    {
     "name": "stdout",
     "output_type": "stream",
     "text": [
      "Epoch 15/64, Train Loss: 0.3180, Val Loss: 0.3210, Val Accuracy: 0.9119\n",
      "164 0.020918367346938777\n"
     ]
    },
    {
     "name": "stderr",
     "output_type": "stream",
     "text": [
      "100%|██████████| 750/750 [00:02<00:00, 339.28it/s]\n"
     ]
    },
    {
     "name": "stdout",
     "output_type": "stream",
     "text": [
      "Epoch 16/64, Train Loss: 0.3138, Val Loss: 0.3171, Val Accuracy: 0.9127\n",
      "154 0.019642857142857142\n"
     ]
    },
    {
     "name": "stderr",
     "output_type": "stream",
     "text": [
      "100%|██████████| 750/750 [00:02<00:00, 338.81it/s]\n"
     ]
    },
    {
     "name": "stdout",
     "output_type": "stream",
     "text": [
      "Epoch 17/64, Train Loss: 0.3100, Val Loss: 0.3140, Val Accuracy: 0.9137\n",
      "139 0.017729591836734695\n"
     ]
    },
    {
     "name": "stderr",
     "output_type": "stream",
     "text": [
      "100%|██████████| 750/750 [00:02<00:00, 334.38it/s]\n"
     ]
    },
    {
     "name": "stdout",
     "output_type": "stream",
     "text": [
      "Epoch 18/64, Train Loss: 0.3067, Val Loss: 0.3112, Val Accuracy: 0.9145\n",
      "138 0.01760204081632653\n"
     ]
    },
    {
     "name": "stderr",
     "output_type": "stream",
     "text": [
      "100%|██████████| 750/750 [00:02<00:00, 271.06it/s]\n"
     ]
    },
    {
     "name": "stdout",
     "output_type": "stream",
     "text": [
      "Epoch 19/64, Train Loss: 0.3037, Val Loss: 0.3085, Val Accuracy: 0.9133\n",
      "134 0.017091836734693878\n"
     ]
    },
    {
     "name": "stderr",
     "output_type": "stream",
     "text": [
      "100%|██████████| 750/750 [00:02<00:00, 351.64it/s]\n"
     ]
    },
    {
     "name": "stdout",
     "output_type": "stream",
     "text": [
      "Epoch 20/64, Train Loss: 0.3009, Val Loss: 0.3066, Val Accuracy: 0.9134\n",
      "129 0.01645408163265306\n"
     ]
    },
    {
     "name": "stderr",
     "output_type": "stream",
     "text": [
      "100%|██████████| 750/750 [00:02<00:00, 297.46it/s]\n"
     ]
    },
    {
     "name": "stdout",
     "output_type": "stream",
     "text": [
      "Epoch 21/64, Train Loss: 0.2985, Val Loss: 0.3041, Val Accuracy: 0.9153\n",
      "119 0.015178571428571428\n"
     ]
    },
    {
     "name": "stderr",
     "output_type": "stream",
     "text": [
      "100%|██████████| 750/750 [00:02<00:00, 352.99it/s]\n"
     ]
    },
    {
     "name": "stdout",
     "output_type": "stream",
     "text": [
      "Epoch 22/64, Train Loss: 0.2961, Val Loss: 0.3024, Val Accuracy: 0.9156\n",
      "112 0.014285714285714285\n"
     ]
    },
    {
     "name": "stderr",
     "output_type": "stream",
     "text": [
      "100%|██████████| 750/750 [00:02<00:00, 264.08it/s]\n"
     ]
    },
    {
     "name": "stdout",
     "output_type": "stream",
     "text": [
      "Epoch 23/64, Train Loss: 0.2939, Val Loss: 0.3007, Val Accuracy: 0.9163\n",
      "109 0.013903061224489796\n"
     ]
    },
    {
     "name": "stderr",
     "output_type": "stream",
     "text": [
      "100%|██████████| 750/750 [00:02<00:00, 345.69it/s]\n"
     ]
    },
    {
     "name": "stdout",
     "output_type": "stream",
     "text": [
      "Epoch 24/64, Train Loss: 0.2919, Val Loss: 0.2989, Val Accuracy: 0.9171\n",
      "102 0.013010204081632653\n"
     ]
    },
    {
     "name": "stderr",
     "output_type": "stream",
     "text": [
      "100%|██████████| 750/750 [00:02<00:00, 353.64it/s]\n"
     ]
    },
    {
     "name": "stdout",
     "output_type": "stream",
     "text": [
      "Epoch 25/64, Train Loss: 0.2901, Val Loss: 0.2975, Val Accuracy: 0.9163\n",
      "96 0.012244897959183673\n"
     ]
    },
    {
     "name": "stderr",
     "output_type": "stream",
     "text": [
      "100%|██████████| 750/750 [00:02<00:00, 349.61it/s]\n"
     ]
    },
    {
     "name": "stdout",
     "output_type": "stream",
     "text": [
      "Epoch 26/64, Train Loss: 0.2883, Val Loss: 0.2966, Val Accuracy: 0.9170\n",
      "91 0.011607142857142858\n"
     ]
    },
    {
     "name": "stderr",
     "output_type": "stream",
     "text": [
      "100%|██████████| 750/750 [00:02<00:00, 335.18it/s]\n"
     ]
    },
    {
     "name": "stdout",
     "output_type": "stream",
     "text": [
      "Epoch 27/64, Train Loss: 0.2867, Val Loss: 0.2950, Val Accuracy: 0.9174\n",
      "88 0.011224489795918367\n"
     ]
    },
    {
     "name": "stderr",
     "output_type": "stream",
     "text": [
      "100%|██████████| 750/750 [00:02<00:00, 346.56it/s]\n"
     ]
    },
    {
     "name": "stdout",
     "output_type": "stream",
     "text": [
      "Epoch 28/64, Train Loss: 0.2852, Val Loss: 0.2940, Val Accuracy: 0.9175\n",
      "87 0.011096938775510204\n"
     ]
    },
    {
     "name": "stderr",
     "output_type": "stream",
     "text": [
      "100%|██████████| 750/750 [00:02<00:00, 349.88it/s]\n"
     ]
    },
    {
     "name": "stdout",
     "output_type": "stream",
     "text": [
      "Epoch 29/64, Train Loss: 0.2838, Val Loss: 0.2927, Val Accuracy: 0.9182\n",
      "83 0.010586734693877551\n"
     ]
    },
    {
     "name": "stderr",
     "output_type": "stream",
     "text": [
      "100%|██████████| 750/750 [00:02<00:00, 355.92it/s]\n"
     ]
    },
    {
     "name": "stdout",
     "output_type": "stream",
     "text": [
      "Epoch 30/64, Train Loss: 0.2825, Val Loss: 0.2915, Val Accuracy: 0.9186\n",
      "79 0.010076530612244897\n"
     ]
    },
    {
     "name": "stderr",
     "output_type": "stream",
     "text": [
      "100%|██████████| 750/750 [00:02<00:00, 340.11it/s]\n"
     ]
    },
    {
     "name": "stdout",
     "output_type": "stream",
     "text": [
      "Epoch 31/64, Train Loss: 0.2812, Val Loss: 0.2910, Val Accuracy: 0.9193\n",
      "75 0.009566326530612245\n"
     ]
    },
    {
     "name": "stderr",
     "output_type": "stream",
     "text": [
      "100%|██████████| 750/750 [00:02<00:00, 341.27it/s]\n"
     ]
    },
    {
     "name": "stdout",
     "output_type": "stream",
     "text": [
      "Epoch 32/64, Train Loss: 0.2799, Val Loss: 0.2899, Val Accuracy: 0.9184\n",
      "72 0.009183673469387756\n"
     ]
    },
    {
     "name": "stderr",
     "output_type": "stream",
     "text": [
      "100%|██████████| 750/750 [00:02<00:00, 353.27it/s]\n"
     ]
    },
    {
     "name": "stdout",
     "output_type": "stream",
     "text": [
      "Epoch 33/64, Train Loss: 0.2788, Val Loss: 0.2891, Val Accuracy: 0.9194\n",
      "71 0.009056122448979591\n"
     ]
    },
    {
     "name": "stderr",
     "output_type": "stream",
     "text": [
      "100%|██████████| 750/750 [00:02<00:00, 353.42it/s]\n"
     ]
    },
    {
     "name": "stdout",
     "output_type": "stream",
     "text": [
      "Epoch 34/64, Train Loss: 0.2776, Val Loss: 0.2880, Val Accuracy: 0.9196\n",
      "70 0.008928571428571428\n"
     ]
    },
    {
     "name": "stderr",
     "output_type": "stream",
     "text": [
      "100%|██████████| 750/750 [00:02<00:00, 346.24it/s]\n"
     ]
    },
    {
     "name": "stdout",
     "output_type": "stream",
     "text": [
      "Epoch 35/64, Train Loss: 0.2766, Val Loss: 0.2873, Val Accuracy: 0.9199\n",
      "69 0.008801020408163265\n"
     ]
    },
    {
     "name": "stderr",
     "output_type": "stream",
     "text": [
      "100%|██████████| 750/750 [00:02<00:00, 342.50it/s]\n"
     ]
    },
    {
     "name": "stdout",
     "output_type": "stream",
     "text": [
      "Epoch 36/64, Train Loss: 0.2756, Val Loss: 0.2870, Val Accuracy: 0.9193\n",
      "69 0.008801020408163265\n"
     ]
    },
    {
     "name": "stderr",
     "output_type": "stream",
     "text": [
      "100%|██████████| 750/750 [00:02<00:00, 348.64it/s]\n"
     ]
    },
    {
     "name": "stdout",
     "output_type": "stream",
     "text": [
      "Epoch 37/64, Train Loss: 0.2745, Val Loss: 0.2865, Val Accuracy: 0.9200\n",
      "69 0.008801020408163265\n"
     ]
    },
    {
     "name": "stderr",
     "output_type": "stream",
     "text": [
      "100%|██████████| 750/750 [00:02<00:00, 349.57it/s]\n"
     ]
    },
    {
     "name": "stdout",
     "output_type": "stream",
     "text": [
      "Epoch 38/64, Train Loss: 0.2737, Val Loss: 0.2857, Val Accuracy: 0.9207\n",
      "65 0.008290816326530613\n"
     ]
    },
    {
     "name": "stderr",
     "output_type": "stream",
     "text": [
      "100%|██████████| 750/750 [00:02<00:00, 348.17it/s]\n"
     ]
    },
    {
     "name": "stdout",
     "output_type": "stream",
     "text": [
      "Epoch 39/64, Train Loss: 0.2728, Val Loss: 0.2851, Val Accuracy: 0.9206\n",
      "64 0.00816326530612245\n"
     ]
    },
    {
     "name": "stderr",
     "output_type": "stream",
     "text": [
      "100%|██████████| 750/750 [00:02<00:00, 334.72it/s]\n"
     ]
    },
    {
     "name": "stdout",
     "output_type": "stream",
     "text": [
      "Epoch 40/64, Train Loss: 0.2719, Val Loss: 0.2846, Val Accuracy: 0.9207\n",
      "64 0.00816326530612245\n"
     ]
    },
    {
     "name": "stderr",
     "output_type": "stream",
     "text": [
      "100%|██████████| 750/750 [00:02<00:00, 350.83it/s]\n"
     ]
    },
    {
     "name": "stdout",
     "output_type": "stream",
     "text": [
      "Epoch 41/64, Train Loss: 0.2711, Val Loss: 0.2836, Val Accuracy: 0.9220\n",
      "64 0.00816326530612245\n"
     ]
    },
    {
     "name": "stderr",
     "output_type": "stream",
     "text": [
      "100%|██████████| 750/750 [00:02<00:00, 355.89it/s]\n"
     ]
    },
    {
     "name": "stdout",
     "output_type": "stream",
     "text": [
      "Epoch 42/64, Train Loss: 0.2703, Val Loss: 0.2833, Val Accuracy: 0.9221\n",
      "64 0.00816326530612245\n"
     ]
    },
    {
     "name": "stderr",
     "output_type": "stream",
     "text": [
      "100%|██████████| 750/750 [00:02<00:00, 359.66it/s]\n"
     ]
    },
    {
     "name": "stdout",
     "output_type": "stream",
     "text": [
      "Epoch 43/64, Train Loss: 0.2696, Val Loss: 0.2830, Val Accuracy: 0.9217\n",
      "62 0.007908163265306122\n"
     ]
    },
    {
     "name": "stderr",
     "output_type": "stream",
     "text": [
      "100%|██████████| 750/750 [00:02<00:00, 308.62it/s]\n"
     ]
    },
    {
     "name": "stdout",
     "output_type": "stream",
     "text": [
      "Epoch 44/64, Train Loss: 0.2689, Val Loss: 0.2827, Val Accuracy: 0.9213\n",
      "60 0.007653061224489796\n"
     ]
    },
    {
     "name": "stderr",
     "output_type": "stream",
     "text": [
      "100%|██████████| 750/750 [00:02<00:00, 290.70it/s]\n"
     ]
    },
    {
     "name": "stdout",
     "output_type": "stream",
     "text": [
      "Epoch 45/64, Train Loss: 0.2681, Val Loss: 0.2821, Val Accuracy: 0.9217\n",
      "60 0.007653061224489796\n"
     ]
    },
    {
     "name": "stderr",
     "output_type": "stream",
     "text": [
      "100%|██████████| 750/750 [00:02<00:00, 344.34it/s]\n"
     ]
    },
    {
     "name": "stdout",
     "output_type": "stream",
     "text": [
      "Epoch 46/64, Train Loss: 0.2674, Val Loss: 0.2820, Val Accuracy: 0.9215\n",
      "60 0.007653061224489796\n"
     ]
    },
    {
     "name": "stderr",
     "output_type": "stream",
     "text": [
      "100%|██████████| 750/750 [00:02<00:00, 352.54it/s]\n"
     ]
    },
    {
     "name": "stdout",
     "output_type": "stream",
     "text": [
      "Epoch 47/64, Train Loss: 0.2667, Val Loss: 0.2816, Val Accuracy: 0.9217\n",
      "58 0.00739795918367347\n"
     ]
    },
    {
     "name": "stderr",
     "output_type": "stream",
     "text": [
      "100%|██████████| 750/750 [00:02<00:00, 281.05it/s]\n"
     ]
    },
    {
     "name": "stdout",
     "output_type": "stream",
     "text": [
      "Epoch 48/64, Train Loss: 0.2661, Val Loss: 0.2811, Val Accuracy: 0.9218\n",
      "58 0.00739795918367347\n"
     ]
    },
    {
     "name": "stderr",
     "output_type": "stream",
     "text": [
      "100%|██████████| 750/750 [00:02<00:00, 303.79it/s]\n"
     ]
    },
    {
     "name": "stdout",
     "output_type": "stream",
     "text": [
      "Epoch 49/64, Train Loss: 0.2655, Val Loss: 0.2803, Val Accuracy: 0.9229\n",
      "58 0.00739795918367347\n"
     ]
    },
    {
     "name": "stderr",
     "output_type": "stream",
     "text": [
      "100%|██████████| 750/750 [00:02<00:00, 319.99it/s]\n"
     ]
    },
    {
     "name": "stdout",
     "output_type": "stream",
     "text": [
      "Epoch 50/64, Train Loss: 0.2648, Val Loss: 0.2801, Val Accuracy: 0.9228\n",
      "58 0.00739795918367347\n"
     ]
    },
    {
     "name": "stderr",
     "output_type": "stream",
     "text": [
      "100%|██████████| 750/750 [00:02<00:00, 330.35it/s]\n"
     ]
    },
    {
     "name": "stdout",
     "output_type": "stream",
     "text": [
      "Epoch 51/64, Train Loss: 0.2642, Val Loss: 0.2794, Val Accuracy: 0.9233\n",
      "57 0.007270408163265306\n"
     ]
    },
    {
     "name": "stderr",
     "output_type": "stream",
     "text": [
      "100%|██████████| 750/750 [00:02<00:00, 277.96it/s]\n"
     ]
    },
    {
     "name": "stdout",
     "output_type": "stream",
     "text": [
      "Epoch 52/64, Train Loss: 0.2637, Val Loss: 0.2795, Val Accuracy: 0.9230\n",
      "57 0.007270408163265306\n"
     ]
    },
    {
     "name": "stderr",
     "output_type": "stream",
     "text": [
      "100%|██████████| 750/750 [00:02<00:00, 336.57it/s]\n"
     ]
    },
    {
     "name": "stdout",
     "output_type": "stream",
     "text": [
      "Epoch 53/64, Train Loss: 0.2631, Val Loss: 0.2797, Val Accuracy: 0.9221\n",
      "57 0.007270408163265306\n"
     ]
    },
    {
     "name": "stderr",
     "output_type": "stream",
     "text": [
      "100%|██████████| 750/750 [00:02<00:00, 346.71it/s]\n"
     ]
    },
    {
     "name": "stdout",
     "output_type": "stream",
     "text": [
      "Epoch 54/64, Train Loss: 0.2626, Val Loss: 0.2794, Val Accuracy: 0.9218\n",
      "54 0.0068877551020408165\n"
     ]
    },
    {
     "name": "stderr",
     "output_type": "stream",
     "text": [
      "100%|██████████| 750/750 [00:02<00:00, 340.05it/s]\n"
     ]
    },
    {
     "name": "stdout",
     "output_type": "stream",
     "text": [
      "Epoch 55/64, Train Loss: 0.2620, Val Loss: 0.2792, Val Accuracy: 0.9226\n",
      "52 0.0066326530612244895\n"
     ]
    },
    {
     "name": "stderr",
     "output_type": "stream",
     "text": [
      "100%|██████████| 750/750 [00:02<00:00, 285.89it/s]\n"
     ]
    },
    {
     "name": "stdout",
     "output_type": "stream",
     "text": [
      "Epoch 56/64, Train Loss: 0.2615, Val Loss: 0.2787, Val Accuracy: 0.9229\n",
      "51 0.0065051020408163265\n"
     ]
    },
    {
     "name": "stderr",
     "output_type": "stream",
     "text": [
      "100%|██████████| 750/750 [00:02<00:00, 325.36it/s]\n"
     ]
    },
    {
     "name": "stdout",
     "output_type": "stream",
     "text": [
      "Epoch 57/64, Train Loss: 0.2610, Val Loss: 0.2779, Val Accuracy: 0.9231\n",
      "51 0.0065051020408163265\n"
     ]
    },
    {
     "name": "stderr",
     "output_type": "stream",
     "text": [
      "100%|██████████| 750/750 [00:02<00:00, 334.93it/s]\n"
     ]
    },
    {
     "name": "stdout",
     "output_type": "stream",
     "text": [
      "Epoch 58/64, Train Loss: 0.2605, Val Loss: 0.2780, Val Accuracy: 0.9225\n",
      "49 0.00625\n"
     ]
    },
    {
     "name": "stderr",
     "output_type": "stream",
     "text": [
      "100%|██████████| 750/750 [00:02<00:00, 341.83it/s]\n"
     ]
    },
    {
     "name": "stdout",
     "output_type": "stream",
     "text": [
      "Epoch 59/64, Train Loss: 0.2601, Val Loss: 0.2775, Val Accuracy: 0.9234\n",
      "47 0.005994897959183673\n"
     ]
    },
    {
     "name": "stderr",
     "output_type": "stream",
     "text": [
      "100%|██████████| 750/750 [00:02<00:00, 329.64it/s]\n"
     ]
    },
    {
     "name": "stdout",
     "output_type": "stream",
     "text": [
      "Epoch 60/64, Train Loss: 0.2596, Val Loss: 0.2776, Val Accuracy: 0.9226\n",
      "47 0.005994897959183673\n"
     ]
    },
    {
     "name": "stderr",
     "output_type": "stream",
     "text": [
      "100%|██████████| 750/750 [00:02<00:00, 334.18it/s]\n"
     ]
    },
    {
     "name": "stdout",
     "output_type": "stream",
     "text": [
      "Epoch 61/64, Train Loss: 0.2592, Val Loss: 0.2771, Val Accuracy: 0.9231\n",
      "47 0.005994897959183673\n"
     ]
    },
    {
     "name": "stderr",
     "output_type": "stream",
     "text": [
      "100%|██████████| 750/750 [00:02<00:00, 330.77it/s]\n"
     ]
    },
    {
     "name": "stdout",
     "output_type": "stream",
     "text": [
      "Epoch 62/64, Train Loss: 0.2587, Val Loss: 0.2768, Val Accuracy: 0.9237\n",
      "47 0.005994897959183673\n"
     ]
    },
    {
     "name": "stderr",
     "output_type": "stream",
     "text": [
      "100%|██████████| 750/750 [00:02<00:00, 347.22it/s]\n"
     ]
    },
    {
     "name": "stdout",
     "output_type": "stream",
     "text": [
      "Epoch 63/64, Train Loss: 0.2582, Val Loss: 0.2764, Val Accuracy: 0.9245\n",
      "47 0.005994897959183673\n"
     ]
    },
    {
     "name": "stderr",
     "output_type": "stream",
     "text": [
      "100%|██████████| 750/750 [00:02<00:00, 321.71it/s]\n"
     ]
    },
    {
     "name": "stdout",
     "output_type": "stream",
     "text": [
      "Epoch 64/64, Train Loss: 0.2578, Val Loss: 0.2767, Val Accuracy: 0.9230\n",
      "47 0.005994897959183673\n"
     ]
    }
   ],
   "source": [
    "train_sparse_recursive(sparse_model, train_loader, val_loader, 64, metrics[0])"
   ]
  },
  {
   "cell_type": "markdown",
   "id": "b46520e8",
   "metadata": {},
   "source": [
    "- прунинг по метрике на следующей эпохе после реплейса\n"
   ]
  },
  {
   "cell_type": "code",
   "execution_count": null,
   "id": "0247c3d2",
   "metadata": {},
   "outputs": [],
   "source": []
  }
 ],
 "metadata": {
  "kernelspec": {
   "display_name": "self-expanding-nets",
   "language": "python",
   "name": "python3"
  },
  "language_info": {
   "codemirror_mode": {
    "name": "ipython",
    "version": 3
   },
   "file_extension": ".py",
   "mimetype": "text/x-python",
   "name": "python",
   "nbconvert_exporter": "python",
   "pygments_lexer": "ipython3",
   "version": "3.12.7"
  }
 },
 "nbformat": 4,
 "nbformat_minor": 5
}
