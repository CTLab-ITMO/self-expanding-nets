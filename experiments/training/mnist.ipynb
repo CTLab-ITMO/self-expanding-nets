{
 "cells": [
  {
   "cell_type": "code",
   "execution_count": 1,
   "id": "932f4bdded4b6539",
   "metadata": {
    "ExecuteTime": {
     "end_time": "2025-01-21T14:31:25.334745Z",
     "start_time": "2025-01-21T14:31:20.096324Z"
    }
   },
   "outputs": [],
   "source": [
    "\n",
    "from copy import deepcopy\n",
    "\n",
    "import torch.optim as optim\n",
    "from sklearn.metrics import accuracy_score\n",
    "from torch.utils.data import DataLoader, random_split\n",
    "from torchvision import datasets, transforms\n",
    "from tqdm import tqdm\n",
    "import time"
   ]
  },
  {
   "cell_type": "code",
   "execution_count": 2,
   "id": "a089a23845b1066b",
   "metadata": {
    "ExecuteTime": {
     "end_time": "2025-01-21T14:31:25.350457Z",
     "start_time": "2025-01-21T14:31:25.338930Z"
    }
   },
   "outputs": [],
   "source": [
    "from senmodel.model.utils import *\n",
    "from senmodel.metrics.nonlinearity_metrics import *\n",
    "from senmodel.metrics.edge_finder import *"
   ]
  },
  {
   "cell_type": "code",
   "execution_count": 3,
   "id": "888ee10c0aa4d1f9",
   "metadata": {
    "ExecuteTime": {
     "end_time": "2025-01-21T14:31:25.520919Z",
     "start_time": "2025-01-21T14:31:25.513942Z"
    }
   },
   "outputs": [],
   "source": [
    "torch.manual_seed(0)\n",
    "device = torch.device(\"cuda:0\" if torch.cuda.is_available() else \"cpu\")"
   ]
  },
  {
   "cell_type": "code",
   "execution_count": 4,
   "id": "a936039c",
   "metadata": {},
   "outputs": [],
   "source": [
    "# def get_params_amount(model, eps=1e-8):\n",
    "#     amount = 0\n",
    "#     for linear in model.embed_linears:\n",
    "#         amount += linear.weight_values.shape[0]\n",
    "#     amount += model.weight_values.shape[0]\n",
    "#     return amount\n",
    "\n",
    "def get_params_amount(model):\n",
    "    amount = 0\n",
    "    for _, layer in model.named_children():\n",
    "        if isinstance(layer, ExpandingLinear):\n",
    "            for linear in layer.embed_linears:\n",
    "                amount += linear.weight_values.shape[0]\n",
    "            amount += layer.weight_values.shape[0]\n",
    "        elif isinstance(layer, nn.Linear):\n",
    "            amount += linear.in_features * linear.out_features\n",
    "    return amount"
   ]
  },
  {
   "cell_type": "code",
   "execution_count": 5,
   "id": "28b44164",
   "metadata": {},
   "outputs": [],
   "source": [
    "# def get_zero_params_amount(model, eps=1e-8):\n",
    "#     amount = 0\n",
    "#     for linear in model.embed_linears:\n",
    "#         amount += linear.weight_values[linear.weight_values.abs() < eps].shape[0]\n",
    "#     amount += model.weight_values[model.weight_values.abs() < eps].shape[0]\n",
    "#     return amount\n",
    "\n",
    "def get_zero_params_amount(model, eps=1e-8):\n",
    "    amount = 0\n",
    "    for _, layer in model.named_children():\n",
    "        if isinstance(layer, ExpandingLinear):\n",
    "            for linear in layer.embed_linears:\n",
    "                amount += linear.weight_values[linear.weight_values.abs() < eps].shape[0]\n",
    "            amount += layer.weight_values[layer.weight_values.abs() < eps].shape[0]\n",
    "        elif isinstance(layer, nn.Linear):\n",
    "            amount += linear.weight[linear.weight.abs() < eps].numel()\n",
    "    return amount"
   ]
  },
  {
   "cell_type": "code",
   "execution_count": 6,
   "id": "7ab06250d4252047",
   "metadata": {
    "ExecuteTime": {
     "end_time": "2025-01-21T14:31:25.536476Z",
     "start_time": "2025-01-21T14:31:25.528255Z"
    }
   },
   "outputs": [],
   "source": [
    "def train_sparse_recursive(model, train_loader, val_loader, num_epochs, metric, window_size=5, threshold=0.02):\n",
    "    optimizer = optim.Adam(model.parameters(), lr=1e-4)\n",
    "    criterion = nn.CrossEntropyLoss()\n",
    "\n",
    "    replace_epoch = [0]\n",
    "    val_losses = []\n",
    "    len_choose = get_model_last_layer(model).count_replaces\n",
    "\n",
    "    for epoch in range(num_epochs):\n",
    "        t0 = time.time()\n",
    "        model.train()\n",
    "        train_loss = 0\n",
    "        for i, (inputs, targets) in enumerate(tqdm(train_loader)):\n",
    "            outputs = model(inputs)\n",
    "            loss = criterion(outputs, targets)\n",
    "\n",
    "            optimizer.zero_grad()\n",
    "            loss.backward()\n",
    "\n",
    "            optimizer.step()\n",
    "            train_loss += loss.item()\n",
    "        \n",
    "        train_loss /= len(train_loader)\n",
    "        train_time = time.time() - t0\n",
    "\n",
    "        model.eval()\n",
    "        val_loss = 0\n",
    "        all_targets = []\n",
    "        all_preds = []\n",
    "        with torch.no_grad():\n",
    "            for inputs, targets in val_loader:\n",
    "                outputs = model(inputs)\n",
    "                loss = criterion(outputs, targets)\n",
    "                val_loss += loss.item()\n",
    "\n",
    "                preds = torch.argmax(outputs, dim=1)\n",
    "                all_targets.extend(targets.cpu().numpy())\n",
    "                all_preds.extend(preds.cpu().numpy())\n",
    "\n",
    "        val_loss /= len(val_loader)\n",
    "        val_accuracy = accuracy_score(all_targets, all_preds)\n",
    "\n",
    "        print(f\"Epoch {epoch + 1}/{num_epochs}, Train Loss: {train_loss:.4f}, \"\n",
    "              f\"Val Loss: {val_loss:.4f}, Val Accuracy: {val_accuracy:.4f}\")\n",
    "        val_losses.append(val_loss)\n",
    "        if len(val_losses) > window_size and epoch - replace_epoch[-1] > 8:\n",
    "            recent_changes = [abs(val_losses[i] - val_losses[i - 1]) for i in range(-window_size, 0)]\n",
    "            avg_change = sum(recent_changes) / window_size\n",
    "            if avg_change < threshold:\n",
    "                layer = model.fc0\n",
    "                mask = torch.ones_like(layer.weight_values, dtype=bool)\n",
    "                len_choose = edge_replacement_func_new_layer(layer, mask, optimizer, val_loader, metric, 0.5, 'mean')\n",
    "\n",
    "                layer = model.fc1\n",
    "                mask = torch.ones_like(layer.weight_values, dtype=bool)\n",
    "                len_choose += edge_replacement_func_new_layer(layer, mask, optimizer, val_loader, metric, 0.1, 'mean')\n",
    "\n",
    "                wandb.log({'len_choose': len_choose})\n",
    "                replace_epoch += [epoch]\n",
    "\n",
    "        params_amount = get_params_amount(model)\n",
    "        zero_params_amount = get_zero_params_amount(model)\n",
    "        wandb.log({'val loss': val_loss, 'val accuracy': val_accuracy,\n",
    "                    'train loss': train_loss, 'params amount': params_amount,\n",
    "                      'zero params amount': zero_params_amount, 'train time': train_time,\n",
    "                        'params ratio': (params_amount - zero_params_amount) / params_amount,\n",
    "                          'lr': optimizer.param_groups[0]['lr']})\n",
    "\n",
    "def edge_replacement_func_new_layer(layer, mask, optim, val_loader, metric, choose_threshold, aggregation_mode='mean'):\n",
    "    ef = EdgeFinder(metric, val_loader, device, aggregation_mode)\n",
    "    chosen_edges = ef.choose_edges_threshold(layer, choose_threshold, mask)\n",
    "    print(\"Chosen edges:\", chosen_edges, len(chosen_edges[0]))\n",
    "    layer.replace_many(*chosen_edges)\n",
    "\n",
    "    if len(chosen_edges[0]) > 0:\n",
    "        optim.add_param_group({'params': layer.embed_linears[-1].weight_values})\n",
    "        optim.add_param_group({'params': layer.weight_values})\n",
    "    return len(chosen_edges[0])\n",
    "\n",
    "# def edge_replacement_func_new_layer(model, optim, val_loader, metric, choose_threshold, aggregation_mode='mean', len_choose=None):\n",
    "#     layer = get_model_last_layer(model)\n",
    "#     ef = EdgeFinder(metric, val_loader, device, aggregation_mode)\n",
    "#     vals = ef.calculate_edge_metric_for_dataloader(model, len_choose, False)\n",
    "#     print(\"Edge metrics:\", vals, max(vals, default=0), sum(vals))\n",
    "#     chosen_edges = ef.choose_edges_threshold(model, choose_threshold, len_choose)\n",
    "#     print(\"Chosen edges:\", chosen_edges, len(chosen_edges[0]))\n",
    "#     layer.replace_many(*chosen_edges)\n",
    "\n",
    "#     if len(chosen_edges[0]) > 0:\n",
    "#         optim.add_param_group({'params': layer.embed_linears[-1].weight_values})\n",
    "#         # optim.add_param_group({'params': layer.weight_values})\n",
    "#     else:\n",
    "#         print(\"Empty metric\")\n",
    "\n",
    "#     return {'max': max(vals, default=0), 'sum': sum(vals), 'len': len(vals), 'len_choose': layer.count_replaces[-1]}"
   ]
  },
  {
   "cell_type": "code",
   "execution_count": 7,
   "id": "1aff98b408abbf8d",
   "metadata": {
    "ExecuteTime": {
     "end_time": "2025-01-21T14:31:25.547124Z",
     "start_time": "2025-01-21T14:31:25.543666Z"
    }
   },
   "outputs": [],
   "source": [
    "class SimpleFCN(nn.Module):\n",
    "    def __init__(self, input_size=28 * 28, hidden_size=16):\n",
    "        super(SimpleFCN, self).__init__()\n",
    "        self.fc0 = nn.Linear(input_size, hidden_size)\n",
    "        self.fc1 = nn.Linear(hidden_size, 10)\n",
    "        self.act = nn.ReLU()\n",
    "\n",
    "    def forward(self, x):\n",
    "        x = self.fc1(self.act(self.fc0(x)))\n",
    "        return x"
   ]
  },
  {
   "cell_type": "code",
   "execution_count": 8,
   "id": "90353a5a49cd1022",
   "metadata": {
    "ExecuteTime": {
     "end_time": "2025-01-21T14:31:25.590348Z",
     "start_time": "2025-01-21T14:31:25.554956Z"
    }
   },
   "outputs": [],
   "source": [
    "# Dataset and Dataloader\n",
    "transform = transforms.Compose([\n",
    "    transforms.ToTensor(),\n",
    "    transforms.Lambda(lambda x: x.view(-1))\n",
    "])\n",
    "\n",
    "# Load dataset and split into train/validation sets\n",
    "dataset = datasets.MNIST(root='./data', train=True, download=True, transform=transform)\n",
    "train_size = int(0.8 * len(dataset))\n",
    "val_size = len(dataset) - train_size\n",
    "train_dataset, val_dataset = random_split(dataset, [train_size, val_size])\n",
    "\n",
    "train_loader = DataLoader(train_dataset, batch_size=64, shuffle=True)\n",
    "val_loader = DataLoader(val_dataset, batch_size=64, shuffle=False)"
   ]
  },
  {
   "cell_type": "code",
   "execution_count": 9,
   "id": "dcb8129e6befdf70",
   "metadata": {
    "ExecuteTime": {
     "end_time": "2025-01-21T14:31:26.821483Z",
     "start_time": "2025-01-21T14:31:26.807650Z"
    }
   },
   "outputs": [],
   "source": [
    "criterion = nn.CrossEntropyLoss()\n",
    "metrics = [\n",
    "    MagnitudeL2Metric(criterion),\n",
    "    # SNIPMetric(criterion),\n",
    "    # GradientMeanEdgeMetric(criterion),\n",
    "    # PerturbationSensitivityEdgeMetric(criterion),\n",
    "]\n",
    "model = SimpleFCN()\n",
    "sparse_model = convert_dense_to_sparse_network(model, layers=[model.fc0, model.fc1])"
   ]
  },
  {
   "cell_type": "code",
   "execution_count": 10,
   "id": "77e8399a",
   "metadata": {
    "ExecuteTime": {
     "end_time": "2025-01-21T14:31:30.645772Z",
     "start_time": "2025-01-21T14:31:27.560914Z"
    }
   },
   "outputs": [
    {
     "name": "stderr",
     "output_type": "stream",
     "text": [
      "\u001b[34m\u001b[1mwandb\u001b[0m: Using wandb-core as the SDK backend.  Please refer to https://wandb.me/wandb-core for more information.\n",
      "\u001b[34m\u001b[1mwandb\u001b[0m: Currently logged in as: \u001b[33mvanyamironov\u001b[0m to \u001b[32mhttps://api.wandb.ai\u001b[0m. Use \u001b[1m`wandb login --relogin`\u001b[0m to force relogin\n"
     ]
    },
    {
     "data": {
      "text/plain": [
       "True"
      ]
     },
     "execution_count": 10,
     "metadata": {},
     "output_type": "execute_result"
    }
   ],
   "source": [
    "import wandb\n",
    "\n",
    "wandb.login()"
   ]
  },
  {
   "cell_type": "code",
   "execution_count": 11,
   "id": "6a4cee60",
   "metadata": {},
   "outputs": [
    {
     "data": {
      "text/html": [
       "Tracking run with wandb version 0.19.8"
      ],
      "text/plain": [
       "<IPython.core.display.HTML object>"
      ]
     },
     "metadata": {},
     "output_type": "display_data"
    },
    {
     "data": {
      "text/html": [
       "Run data is saved locally in <code>/Users/ivanmironov/Projects/self-expanding-nets/experiments/training/wandb/run-20250317_172747-vfjooebt</code>"
      ],
      "text/plain": [
       "<IPython.core.display.HTML object>"
      ]
     },
     "metadata": {},
     "output_type": "display_data"
    },
    {
     "data": {
      "text/html": [
       "Syncing run <strong><a href='https://wandb.ai/vanyamironov/self-expanding-nets/runs/vfjooebt' target=\"_blank\">trash</a></strong> to <a href='https://wandb.ai/vanyamironov/self-expanding-nets' target=\"_blank\">Weights & Biases</a> (<a href='https://wandb.me/developer-guide' target=\"_blank\">docs</a>)<br>"
      ],
      "text/plain": [
       "<IPython.core.display.HTML object>"
      ]
     },
     "metadata": {},
     "output_type": "display_data"
    },
    {
     "data": {
      "text/html": [
       " View project at <a href='https://wandb.ai/vanyamironov/self-expanding-nets' target=\"_blank\">https://wandb.ai/vanyamironov/self-expanding-nets</a>"
      ],
      "text/plain": [
       "<IPython.core.display.HTML object>"
      ]
     },
     "metadata": {},
     "output_type": "display_data"
    },
    {
     "data": {
      "text/html": [
       " View run at <a href='https://wandb.ai/vanyamironov/self-expanding-nets/runs/vfjooebt' target=\"_blank\">https://wandb.ai/vanyamironov/self-expanding-nets/runs/vfjooebt</a>"
      ],
      "text/plain": [
       "<IPython.core.display.HTML object>"
      ]
     },
     "metadata": {},
     "output_type": "display_data"
    }
   ],
   "source": [
    "run = wandb.init(\n",
    "    project=\"self-expanding-nets\",\n",
    "    name=f\"trash\",\n",
    ")\n"
   ]
  },
  {
   "cell_type": "code",
   "execution_count": 12,
   "id": "3b3534e4",
   "metadata": {},
   "outputs": [
    {
     "name": "stderr",
     "output_type": "stream",
     "text": [
      "100%|██████████| 750/750 [00:03<00:00, 202.92it/s]\n"
     ]
    },
    {
     "name": "stdout",
     "output_type": "stream",
     "text": [
      "Epoch 1/64, Train Loss: 1.6563, Val Loss: 1.1339, Val Accuracy: 0.7594\n"
     ]
    },
    {
     "name": "stderr",
     "output_type": "stream",
     "text": [
      "100%|██████████| 750/750 [00:03<00:00, 249.39it/s]\n"
     ]
    },
    {
     "name": "stdout",
     "output_type": "stream",
     "text": [
      "Epoch 2/64, Train Loss: 0.8690, Val Loss: 0.6870, Val Accuracy: 0.8444\n"
     ]
    },
    {
     "name": "stderr",
     "output_type": "stream",
     "text": [
      "100%|██████████| 750/750 [00:03<00:00, 220.96it/s]\n"
     ]
    },
    {
     "name": "stdout",
     "output_type": "stream",
     "text": [
      "Epoch 3/64, Train Loss: 0.5849, Val Loss: 0.5184, Val Accuracy: 0.8729\n"
     ]
    },
    {
     "name": "stderr",
     "output_type": "stream",
     "text": [
      "100%|██████████| 750/750 [00:02<00:00, 265.62it/s]\n"
     ]
    },
    {
     "name": "stdout",
     "output_type": "stream",
     "text": [
      "Epoch 4/64, Train Loss: 0.4708, Val Loss: 0.4410, Val Accuracy: 0.8859\n"
     ]
    },
    {
     "name": "stderr",
     "output_type": "stream",
     "text": [
      "100%|██████████| 750/750 [00:03<00:00, 244.60it/s]\n"
     ]
    },
    {
     "name": "stdout",
     "output_type": "stream",
     "text": [
      "Epoch 5/64, Train Loss: 0.4129, Val Loss: 0.3975, Val Accuracy: 0.8948\n"
     ]
    },
    {
     "name": "stderr",
     "output_type": "stream",
     "text": [
      "100%|██████████| 750/750 [00:03<00:00, 249.14it/s]\n"
     ]
    },
    {
     "name": "stdout",
     "output_type": "stream",
     "text": [
      "Epoch 6/64, Train Loss: 0.3778, Val Loss: 0.3700, Val Accuracy: 0.9004\n"
     ]
    },
    {
     "name": "stderr",
     "output_type": "stream",
     "text": [
      "100%|██████████| 750/750 [00:02<00:00, 255.50it/s]\n"
     ]
    },
    {
     "name": "stdout",
     "output_type": "stream",
     "text": [
      "Epoch 7/64, Train Loss: 0.3539, Val Loss: 0.3488, Val Accuracy: 0.9042\n"
     ]
    },
    {
     "name": "stderr",
     "output_type": "stream",
     "text": [
      "100%|██████████| 750/750 [00:03<00:00, 211.74it/s]\n"
     ]
    },
    {
     "name": "stdout",
     "output_type": "stream",
     "text": [
      "Epoch 8/64, Train Loss: 0.3362, Val Loss: 0.3345, Val Accuracy: 0.9082\n"
     ]
    },
    {
     "name": "stderr",
     "output_type": "stream",
     "text": [
      "100%|██████████| 750/750 [00:02<00:00, 270.23it/s]\n"
     ]
    },
    {
     "name": "stdout",
     "output_type": "stream",
     "text": [
      "Epoch 9/64, Train Loss: 0.3226, Val Loss: 0.3229, Val Accuracy: 0.9113\n"
     ]
    },
    {
     "name": "stderr",
     "output_type": "stream",
     "text": [
      "100%|██████████| 750/750 [00:03<00:00, 249.49it/s]\n"
     ]
    },
    {
     "name": "stdout",
     "output_type": "stream",
     "text": [
      "Epoch 10/64, Train Loss: 0.3116, Val Loss: 0.3136, Val Accuracy: 0.9138\n",
      "shapes torch.Size([12544]) torch.Size([2, 164])\n",
      "Chosen edges: tensor([[  0,   0,   0,   0,   0,   0,   0,   0,   0,   0,   0,   0,   1,   1,\n",
      "           1,   1,   1,   1,   1,   1,   1,   1,   2,   2,   2,   2,   2,   2,\n",
      "           2,   2,   2,   3,   3,   3,   3,   3,   3,   3,   3,   3,   4,   4,\n",
      "           4,   4,   4,   4,   4,   4,   4,   4,   4,   4,   4,   5,   5,   5,\n",
      "           5,   5,   5,   5,   6,   6,   6,   6,   6,   6,   6,   6,   6,   6,\n",
      "           6,   6,   6,   6,   7,   8,   8,   8,   8,   8,   8,   8,   8,   8,\n",
      "           8,   8,   8,   8,   8,   8,   8,   8,   8,   8,   8,   9,   9,   9,\n",
      "           9,   9,   9,   9,   9,   9,  10,  10,  10,  10,  10,  10,  10,  10,\n",
      "          10,  10,  10,  10,  10,  10,  11,  11,  11,  11,  11,  11,  11,  11,\n",
      "          11,  11,  11,  11,  11,  12,  12,  12,  12,  12,  12,  12,  12,  12,\n",
      "          12,  12,  12,  13,  13,  13,  13,  13,  13,  13,  13,  13,  13,  13,\n",
      "          13,  13,  13,  14,  14,  15,  15,  15,  15,  15],\n",
      "        [267, 406, 432, 433, 434, 460, 487, 488, 489, 515, 516, 712, 211, 212,\n",
      "         276, 717, 739, 740, 741, 742, 743, 745, 342, 347, 369, 370, 371, 375,\n",
      "         397, 398, 399, 276, 277, 374, 402, 427, 428, 429, 455, 458, 221, 248,\n",
      "         249, 276, 277, 304, 305, 348, 349, 375, 376, 377, 403, 358, 359, 360,\n",
      "         387, 513, 514, 629, 276, 277, 296, 324, 325, 352, 353, 409, 528, 707,\n",
      "         708, 710, 711, 742, 277, 155, 156, 157, 158, 221, 248, 249, 276, 277,\n",
      "         304, 305, 323, 350, 403, 444, 472, 486, 500, 527, 528, 276, 322, 323,\n",
      "         350, 351, 377, 378, 379, 406, 378, 406, 433, 434, 435, 460, 461, 462,\n",
      "         488, 489, 490, 517, 710, 713, 221, 248, 249, 268, 269, 291, 315, 316,\n",
      "         317, 319, 320, 343, 480, 191, 192, 211, 248, 249, 276, 277, 304, 305,\n",
      "         328, 742, 743, 221, 249, 276, 277, 305, 322, 323, 329, 350, 358, 359,\n",
      "         485, 486, 501,  98, 377,  68,  97, 330, 711, 712]]) 164\n",
      "shapes torch.Size([160]) torch.Size([2, 98])\n",
      "Chosen edges: tensor([[ 0,  0,  0,  0,  0,  0,  0,  0,  0,  1,  1,  1,  1,  1,  1,  1,  1,  1,\n",
      "          1,  2,  2,  2,  2,  2,  2,  2,  2,  2,  2,  2,  3,  3,  3,  3,  3,  3,\n",
      "          3,  3,  3,  4,  4,  4,  4,  4,  4,  4,  4,  4,  4,  4,  4,  5,  5,  5,\n",
      "          5,  5,  5,  5,  5,  5,  5,  5,  6,  6,  6,  6,  6,  6,  6,  6,  6,  6,\n",
      "          7,  7,  7,  7,  7,  7,  7,  7,  8,  8,  8,  8,  8,  8,  8,  8,  9,  9,\n",
      "          9,  9,  9,  9,  9,  9,  9,  9],\n",
      "        [ 0,  1,  5,  7,  9, 10, 11, 13, 15,  0,  1,  4,  6,  7,  8,  9, 10, 13,\n",
      "         14,  0,  2,  4,  5,  6,  8, 11, 12, 13, 14, 15,  0,  1,  4,  9, 10, 11,\n",
      "         12, 14, 15,  0,  1,  2,  3,  4,  5,  6,  8, 10, 12, 14, 15,  1,  3,  4,\n",
      "          5,  7,  8,  9, 10, 11, 12, 13,  1,  2,  3,  5,  6,  7,  8,  9, 11, 15,\n",
      "          0,  3,  4,  5,  6,  9, 12, 14,  0,  2,  3,  5,  7,  8, 11, 15,  0,  1,\n",
      "          2,  3,  6,  8,  9, 10, 12, 15]]) 98\n"
     ]
    },
    {
     "name": "stderr",
     "output_type": "stream",
     "text": [
      "100%|██████████| 750/750 [00:06<00:00, 118.80it/s]\n"
     ]
    },
    {
     "name": "stdout",
     "output_type": "stream",
     "text": [
      "Epoch 11/64, Train Loss: 0.2931, Val Loss: 0.2870, Val Accuracy: 0.9193\n"
     ]
    },
    {
     "name": "stderr",
     "output_type": "stream",
     "text": [
      "100%|██████████| 750/750 [00:05<00:00, 130.63it/s]\n"
     ]
    },
    {
     "name": "stdout",
     "output_type": "stream",
     "text": [
      "Epoch 12/64, Train Loss: 0.2696, Val Loss: 0.2693, Val Accuracy: 0.9237\n"
     ]
    },
    {
     "name": "stderr",
     "output_type": "stream",
     "text": [
      "100%|██████████| 750/750 [00:06<00:00, 115.67it/s]\n"
     ]
    },
    {
     "name": "stdout",
     "output_type": "stream",
     "text": [
      "Epoch 13/64, Train Loss: 0.2521, Val Loss: 0.2553, Val Accuracy: 0.9262\n"
     ]
    },
    {
     "name": "stderr",
     "output_type": "stream",
     "text": [
      "100%|██████████| 750/750 [00:06<00:00, 119.50it/s]\n"
     ]
    },
    {
     "name": "stdout",
     "output_type": "stream",
     "text": [
      "Epoch 14/64, Train Loss: 0.2377, Val Loss: 0.2445, Val Accuracy: 0.9304\n"
     ]
    },
    {
     "name": "stderr",
     "output_type": "stream",
     "text": [
      "100%|██████████| 750/750 [00:06<00:00, 118.69it/s]\n"
     ]
    },
    {
     "name": "stdout",
     "output_type": "stream",
     "text": [
      "Epoch 15/64, Train Loss: 0.2246, Val Loss: 0.2331, Val Accuracy: 0.9334\n"
     ]
    },
    {
     "name": "stderr",
     "output_type": "stream",
     "text": [
      "100%|██████████| 750/750 [00:06<00:00, 121.88it/s]\n"
     ]
    },
    {
     "name": "stdout",
     "output_type": "stream",
     "text": [
      "Epoch 16/64, Train Loss: 0.2131, Val Loss: 0.2241, Val Accuracy: 0.9363\n"
     ]
    },
    {
     "name": "stderr",
     "output_type": "stream",
     "text": [
      "100%|██████████| 750/750 [00:05<00:00, 133.83it/s]\n"
     ]
    },
    {
     "name": "stdout",
     "output_type": "stream",
     "text": [
      "Epoch 17/64, Train Loss: 0.2020, Val Loss: 0.2139, Val Accuracy: 0.9370\n"
     ]
    },
    {
     "name": "stderr",
     "output_type": "stream",
     "text": [
      "100%|██████████| 750/750 [00:05<00:00, 129.40it/s]\n"
     ]
    },
    {
     "name": "stdout",
     "output_type": "stream",
     "text": [
      "Epoch 18/64, Train Loss: 0.1928, Val Loss: 0.2069, Val Accuracy: 0.9394\n"
     ]
    },
    {
     "name": "stderr",
     "output_type": "stream",
     "text": [
      "100%|██████████| 750/750 [00:05<00:00, 128.48it/s]\n"
     ]
    },
    {
     "name": "stdout",
     "output_type": "stream",
     "text": [
      "Epoch 19/64, Train Loss: 0.1840, Val Loss: 0.1980, Val Accuracy: 0.9422\n",
      "shapes torch.Size([15004]) torch.Size([2, 73])\n",
      "Chosen edges: tensor([[  0,   1,   1,   1,   1,   1,   1,   1,   2,   2,   2,   2,   2,   2,\n",
      "           3,   3,   3,   4,   4,   4,   4,   4,   4,   4,   5,   6,   6,   6,\n",
      "           6,   6,   6,   7,   8,   8,   8,   8,   8,   8,   8,   8,   8,   8,\n",
      "           9,  10,  10,  10,  10,  10,  11,  11,  11,  11,  11,  11,  12,  12,\n",
      "          12,  12,  12,  12,  13,  13,  13,  13,  13,  13,  13,  13,  14,  15,\n",
      "          15,  15,  15],\n",
      "        [794, 798, 800, 801, 802, 803, 804, 805, 806, 808, 809, 810, 812, 813,\n",
      "         815, 816, 822, 824, 825, 826, 827, 828, 829, 830, 838, 845, 852, 853,\n",
      "         854, 856, 857, 858, 861, 863, 864, 865, 866, 867, 868, 869, 876, 878,\n",
      "         879, 889, 890, 891, 895, 897, 902, 903, 904, 908, 909, 914, 916, 919,\n",
      "         921, 922, 923, 925, 927, 928, 930, 931, 934, 936, 937, 940, 941, 943,\n",
      "         944, 946, 947]]) 73\n",
      "shapes torch.Size([1042]) torch.Size([2, 91])\n",
      "Chosen edges: tensor([[  0,   0,   0,   0,   0,   0,   0,   0,   0,   1,   1,   1,   1,   1,\n",
      "           1,   1,   1,   1,   2,   2,   2,   2,   2,   2,   2,   2,   2,   2,\n",
      "           3,   3,   3,   3,   3,   3,   3,   3,   4,   4,   4,   4,   4,   4,\n",
      "           4,   4,   4,   5,   5,   5,   5,   5,   5,   5,   5,   5,   5,   6,\n",
      "           6,   6,   6,   6,   6,   6,   6,   6,   6,   7,   7,   7,   7,   7,\n",
      "           7,   7,   7,   8,   8,   8,   8,   8,   8,   8,   8,   9,   9,   9,\n",
      "           9,   9,   9,   9,   9,   9,   9],\n",
      "        [ 16,  17,  18,  19,  20,  21,  22,  23,  24,  25,  27,  28,  29,  30,\n",
      "          31,  32,  33,  34,  35,  36,  37,  38,  39,  40,  41,  42,  43,  45,\n",
      "          46,  47,  49,  50,  51,  52,  53,  54,  55,  56,  57,  58,  59,  60,\n",
      "          63,  65,  66,  67,  68,  69,  70,  72,  73,  74,  75,  76,  77,  78,\n",
      "          79,  80,  81,  82,  83,  84,  85,  86,  87,  88,  89,  90,  91,  92,\n",
      "          93,  94,  95,  96,  97,  98,  99, 100, 101, 102, 103, 104, 105, 106,\n",
      "         107, 108, 109, 110, 111, 112, 113]]) 91\n"
     ]
    },
    {
     "name": "stderr",
     "output_type": "stream",
     "text": [
      "100%|██████████| 750/750 [00:08<00:00, 87.41it/s]\n"
     ]
    },
    {
     "name": "stdout",
     "output_type": "stream",
     "text": [
      "Epoch 20/64, Train Loss: 0.1763, Val Loss: 0.1874, Val Accuracy: 0.9453\n"
     ]
    },
    {
     "name": "stderr",
     "output_type": "stream",
     "text": [
      "100%|██████████| 750/750 [00:08<00:00, 86.33it/s] \n"
     ]
    },
    {
     "name": "stdout",
     "output_type": "stream",
     "text": [
      "Epoch 21/64, Train Loss: 0.1651, Val Loss: 0.1763, Val Accuracy: 0.9496\n"
     ]
    },
    {
     "name": "stderr",
     "output_type": "stream",
     "text": [
      "100%|██████████| 750/750 [00:08<00:00, 85.82it/s]\n"
     ]
    },
    {
     "name": "stdout",
     "output_type": "stream",
     "text": [
      "Epoch 22/64, Train Loss: 0.1547, Val Loss: 0.1708, Val Accuracy: 0.9497\n"
     ]
    },
    {
     "name": "stderr",
     "output_type": "stream",
     "text": [
      "100%|██████████| 750/750 [00:08<00:00, 89.90it/s] \n"
     ]
    },
    {
     "name": "stdout",
     "output_type": "stream",
     "text": [
      "Epoch 23/64, Train Loss: 0.1462, Val Loss: 0.1651, Val Accuracy: 0.9523\n"
     ]
    },
    {
     "name": "stderr",
     "output_type": "stream",
     "text": [
      "100%|██████████| 750/750 [00:08<00:00, 89.22it/s] \n"
     ]
    },
    {
     "name": "stdout",
     "output_type": "stream",
     "text": [
      "Epoch 24/64, Train Loss: 0.1387, Val Loss: 0.1567, Val Accuracy: 0.9535\n"
     ]
    },
    {
     "name": "stderr",
     "output_type": "stream",
     "text": [
      "100%|██████████| 750/750 [00:07<00:00, 96.75it/s] \n"
     ]
    },
    {
     "name": "stdout",
     "output_type": "stream",
     "text": [
      "Epoch 25/64, Train Loss: 0.1320, Val Loss: 0.1537, Val Accuracy: 0.9550\n"
     ]
    },
    {
     "name": "stderr",
     "output_type": "stream",
     "text": [
      "100%|██████████| 750/750 [00:08<00:00, 92.20it/s] \n"
     ]
    },
    {
     "name": "stdout",
     "output_type": "stream",
     "text": [
      "Epoch 26/64, Train Loss: 0.1257, Val Loss: 0.1495, Val Accuracy: 0.9562\n"
     ]
    },
    {
     "name": "stderr",
     "output_type": "stream",
     "text": [
      "100%|██████████| 750/750 [00:08<00:00, 91.70it/s] \n"
     ]
    },
    {
     "name": "stdout",
     "output_type": "stream",
     "text": [
      "Epoch 27/64, Train Loss: 0.1198, Val Loss: 0.1472, Val Accuracy: 0.9580\n"
     ]
    },
    {
     "name": "stderr",
     "output_type": "stream",
     "text": [
      "100%|██████████| 750/750 [00:08<00:00, 85.82it/s] \n"
     ]
    },
    {
     "name": "stdout",
     "output_type": "stream",
     "text": [
      "Epoch 28/64, Train Loss: 0.1149, Val Loss: 0.1422, Val Accuracy: 0.9587\n",
      "shapes torch.Size([16099]) torch.Size([2, 50])\n",
      "Chosen edges: tensor([[   7,    0,    1,    1,    1,    1,    1,    1,    1,    2,    2,    2,\n",
      "            3,    4,    4,    4,    4,    4,    4,    4,    6,    6,    6,    6,\n",
      "            6,    6,    7,    8,    8,    8,    8,    8,    8,    9,   11,   11,\n",
      "           12,   12,   12,   12,   12,   13,   13,   13,   13,   13,   13,   14,\n",
      "           15,   15],\n",
      "        [  67,  948,  949,  950,  951,  952,  953,  954,  955,  957,  958,  960,\n",
      "          963,  965,  966,  967,  968,  969,  970,  971,  973,  974,  975,  976,\n",
      "          977,  978,  979,  981,  983,  985,  986,  988,  989,  990,  998, 1001,\n",
      "         1002, 1003, 1004, 1006, 1007, 1008, 1010, 1011, 1013, 1014, 1015, 1016,\n",
      "         1017, 1018]]) 50\n",
      "shapes torch.Size([1861]) torch.Size([2, 91])\n",
      "Chosen edges: tensor([[  4,   0,   0,   0,   0,   0,   0,   0,   0,   0,   1,   1,   1,   1,\n",
      "           1,   1,   1,   1,   1,   2,   2,   2,   2,   2,   2,   2,   2,   2,\n",
      "           2,   3,   3,   3,   3,   3,   3,   3,   3,   4,   4,   4,   4,   4,\n",
      "           4,   4,   4,   4,   5,   5,   5,   5,   5,   5,   5,   5,   5,   5,\n",
      "           6,   6,   6,   6,   6,   6,   6,   6,   6,   6,   7,   7,   7,   7,\n",
      "           7,   7,   7,   7,   8,   8,   8,   8,   8,   8,   8,   9,   9,   9,\n",
      "           9,   9,   9,   9,   9,   9,   9],\n",
      "        [ 64, 114, 115, 116, 117, 118, 119, 120, 121, 122, 123, 124, 125, 126,\n",
      "         127, 128, 129, 130, 131, 132, 133, 134, 135, 136, 137, 138, 139, 140,\n",
      "         141, 142, 143, 144, 145, 146, 147, 148, 149, 150, 151, 152, 153, 154,\n",
      "         155, 156, 157, 158, 159, 160, 161, 162, 163, 164, 165, 166, 167, 168,\n",
      "         169, 170, 171, 172, 173, 174, 175, 176, 177, 178, 179, 180, 181, 182,\n",
      "         183, 184, 185, 186, 187, 188, 189, 191, 192, 193, 194, 195, 196, 197,\n",
      "         198, 199, 200, 201, 202, 203, 204]]) 91\n"
     ]
    },
    {
     "name": "stderr",
     "output_type": "stream",
     "text": [
      "100%|██████████| 750/750 [00:10<00:00, 74.39it/s]\n"
     ]
    },
    {
     "name": "stdout",
     "output_type": "stream",
     "text": [
      "Epoch 29/64, Train Loss: 0.1122, Val Loss: 0.1423, Val Accuracy: 0.9607\n"
     ]
    },
    {
     "name": "stderr",
     "output_type": "stream",
     "text": [
      "100%|██████████| 750/750 [00:10<00:00, 68.24it/s]\n"
     ]
    },
    {
     "name": "stdout",
     "output_type": "stream",
     "text": [
      "Epoch 30/64, Train Loss: 0.1060, Val Loss: 0.1387, Val Accuracy: 0.9593\n"
     ]
    },
    {
     "name": "stderr",
     "output_type": "stream",
     "text": [
      "100%|██████████| 750/750 [00:11<00:00, 66.74it/s]\n"
     ]
    },
    {
     "name": "stdout",
     "output_type": "stream",
     "text": [
      "Epoch 31/64, Train Loss: 0.1006, Val Loss: 0.1395, Val Accuracy: 0.9623\n"
     ]
    },
    {
     "name": "stderr",
     "output_type": "stream",
     "text": [
      "100%|██████████| 750/750 [00:10<00:00, 69.68it/s]\n"
     ]
    },
    {
     "name": "stdout",
     "output_type": "stream",
     "text": [
      "Epoch 32/64, Train Loss: 0.0954, Val Loss: 0.1311, Val Accuracy: 0.9633\n"
     ]
    },
    {
     "name": "stderr",
     "output_type": "stream",
     "text": [
      "100%|██████████| 750/750 [00:09<00:00, 76.32it/s]\n"
     ]
    },
    {
     "name": "stdout",
     "output_type": "stream",
     "text": [
      "Epoch 33/64, Train Loss: 0.0905, Val Loss: 0.1292, Val Accuracy: 0.9631\n"
     ]
    },
    {
     "name": "stderr",
     "output_type": "stream",
     "text": [
      "100%|██████████| 750/750 [00:09<00:00, 79.21it/s]\n"
     ]
    },
    {
     "name": "stdout",
     "output_type": "stream",
     "text": [
      "Epoch 34/64, Train Loss: 0.0862, Val Loss: 0.1284, Val Accuracy: 0.9640\n"
     ]
    },
    {
     "name": "stderr",
     "output_type": "stream",
     "text": [
      "100%|██████████| 750/750 [00:09<00:00, 75.79it/s]\n"
     ]
    },
    {
     "name": "stdout",
     "output_type": "stream",
     "text": [
      "Epoch 35/64, Train Loss: 0.0822, Val Loss: 0.1260, Val Accuracy: 0.9628\n"
     ]
    },
    {
     "name": "stderr",
     "output_type": "stream",
     "text": [
      "100%|██████████| 750/750 [00:10<00:00, 72.90it/s]\n"
     ]
    },
    {
     "name": "stdout",
     "output_type": "stream",
     "text": [
      "Epoch 36/64, Train Loss: 0.0786, Val Loss: 0.1274, Val Accuracy: 0.9636\n"
     ]
    },
    {
     "name": "stderr",
     "output_type": "stream",
     "text": [
      "100%|██████████| 750/750 [00:10<00:00, 70.84it/s]\n"
     ]
    },
    {
     "name": "stdout",
     "output_type": "stream",
     "text": [
      "Epoch 37/64, Train Loss: 0.0754, Val Loss: 0.1310, Val Accuracy: 0.9636\n",
      "shapes torch.Size([16849]) torch.Size([2, 46])\n",
      "Chosen edges: tensor([[  10,   14,    1,    8,    7,    1,    1,    1,    1,    1,    2,    3,\n",
      "            4,    4,    4,    4,    4,    4,    4,    6,    6,    6,    6,    6,\n",
      "            7,    8,    8,    8,    8,    8,    8,    9,   11,   11,   12,   12,\n",
      "           12,   12,   13,   13,   13,   13,   13,   14,   15,   15],\n",
      "        [  71,   97,  797,  984, 1021, 1024, 1025, 1026, 1027, 1029, 1032, 1033,\n",
      "         1034, 1035, 1036, 1037, 1038, 1039, 1040, 1041, 1042, 1043, 1044, 1046,\n",
      "         1047, 1048, 1049, 1050, 1051, 1052, 1053, 1054, 1055, 1056, 1057, 1058,\n",
      "         1060, 1061, 1063, 1064, 1065, 1066, 1067, 1068, 1069, 1070]]) 46\n",
      "shapes torch.Size([2680]) torch.Size([2, 90])\n",
      "Chosen edges: tensor([[  4,   0,   0,   0,   0,   0,   0,   0,   0,   0,   1,   1,   1,   1,\n",
      "           1,   1,   1,   1,   1,   2,   2,   2,   2,   2,   2,   2,   2,   2,\n",
      "           3,   3,   3,   3,   3,   3,   3,   3,   4,   4,   4,   4,   4,   4,\n",
      "           4,   4,   4,   5,   5,   5,   5,   5,   5,   5,   5,   5,   5,   6,\n",
      "           6,   6,   6,   6,   6,   6,   6,   6,   6,   7,   7,   7,   7,   7,\n",
      "           7,   7,   7,   8,   8,   8,   8,   8,   8,   8,   9,   9,   9,   9,\n",
      "           9,   9,   9,   9,   9,   9],\n",
      "        [205, 206, 207, 208, 209, 210, 211, 212, 213, 214, 215, 216, 217, 218,\n",
      "         219, 220, 221, 222, 223, 224, 225, 226, 227, 228, 229, 230, 232, 233,\n",
      "         234, 235, 236, 237, 238, 239, 240, 241, 242, 243, 244, 245, 246, 247,\n",
      "         248, 249, 250, 251, 252, 253, 254, 255, 256, 257, 258, 259, 260, 261,\n",
      "         262, 263, 264, 265, 266, 267, 268, 269, 270, 271, 272, 273, 274, 275,\n",
      "         276, 277, 278, 279, 280, 281, 282, 283, 284, 285, 286, 287, 288, 289,\n",
      "         290, 291, 292, 293, 294, 295]]) 90\n"
     ]
    },
    {
     "name": "stderr",
     "output_type": "stream",
     "text": [
      " 38%|███▊      | 288/750 [00:04<00:07, 63.30it/s]\n"
     ]
    },
    {
     "ename": "KeyboardInterrupt",
     "evalue": "",
     "output_type": "error",
     "traceback": [
      "\u001b[0;31m---------------------------------------------------------------------------\u001b[0m",
      "\u001b[0;31mKeyboardInterrupt\u001b[0m                         Traceback (most recent call last)",
      "Cell \u001b[0;32mIn[12], line 1\u001b[0m\n\u001b[0;32m----> 1\u001b[0m \u001b[43mtrain_sparse_recursive\u001b[49m\u001b[43m(\u001b[49m\u001b[43msparse_model\u001b[49m\u001b[43m,\u001b[49m\u001b[43m \u001b[49m\u001b[43mtrain_loader\u001b[49m\u001b[43m,\u001b[49m\u001b[43m \u001b[49m\u001b[43mval_loader\u001b[49m\u001b[43m,\u001b[49m\u001b[43m \u001b[49m\u001b[38;5;241;43m64\u001b[39;49m\u001b[43m,\u001b[49m\u001b[43m \u001b[49m\u001b[43mmetrics\u001b[49m\u001b[43m[\u001b[49m\u001b[38;5;241;43m0\u001b[39;49m\u001b[43m]\u001b[49m\u001b[43m)\u001b[49m\n",
      "Cell \u001b[0;32mIn[6], line 18\u001b[0m, in \u001b[0;36mtrain_sparse_recursive\u001b[0;34m(model, train_loader, val_loader, num_epochs, metric, window_size, threshold)\u001b[0m\n\u001b[1;32m     15\u001b[0m loss \u001b[38;5;241m=\u001b[39m criterion(outputs, targets)\n\u001b[1;32m     17\u001b[0m optimizer\u001b[38;5;241m.\u001b[39mzero_grad()\n\u001b[0;32m---> 18\u001b[0m \u001b[43mloss\u001b[49m\u001b[38;5;241;43m.\u001b[39;49m\u001b[43mbackward\u001b[49m\u001b[43m(\u001b[49m\u001b[43m)\u001b[49m\n\u001b[1;32m     20\u001b[0m optimizer\u001b[38;5;241m.\u001b[39mstep()\n\u001b[1;32m     21\u001b[0m train_loss \u001b[38;5;241m+\u001b[39m\u001b[38;5;241m=\u001b[39m loss\u001b[38;5;241m.\u001b[39mitem()\n",
      "File \u001b[0;32m~/anaconda3/envs/self-expanding-nets/lib/python3.12/site-packages/torch/_tensor.py:626\u001b[0m, in \u001b[0;36mTensor.backward\u001b[0;34m(self, gradient, retain_graph, create_graph, inputs)\u001b[0m\n\u001b[1;32m    616\u001b[0m \u001b[38;5;28;01mif\u001b[39;00m has_torch_function_unary(\u001b[38;5;28mself\u001b[39m):\n\u001b[1;32m    617\u001b[0m     \u001b[38;5;28;01mreturn\u001b[39;00m handle_torch_function(\n\u001b[1;32m    618\u001b[0m         Tensor\u001b[38;5;241m.\u001b[39mbackward,\n\u001b[1;32m    619\u001b[0m         (\u001b[38;5;28mself\u001b[39m,),\n\u001b[0;32m   (...)\u001b[0m\n\u001b[1;32m    624\u001b[0m         inputs\u001b[38;5;241m=\u001b[39minputs,\n\u001b[1;32m    625\u001b[0m     )\n\u001b[0;32m--> 626\u001b[0m \u001b[43mtorch\u001b[49m\u001b[38;5;241;43m.\u001b[39;49m\u001b[43mautograd\u001b[49m\u001b[38;5;241;43m.\u001b[39;49m\u001b[43mbackward\u001b[49m\u001b[43m(\u001b[49m\n\u001b[1;32m    627\u001b[0m \u001b[43m    \u001b[49m\u001b[38;5;28;43mself\u001b[39;49m\u001b[43m,\u001b[49m\u001b[43m \u001b[49m\u001b[43mgradient\u001b[49m\u001b[43m,\u001b[49m\u001b[43m \u001b[49m\u001b[43mretain_graph\u001b[49m\u001b[43m,\u001b[49m\u001b[43m \u001b[49m\u001b[43mcreate_graph\u001b[49m\u001b[43m,\u001b[49m\u001b[43m \u001b[49m\u001b[43minputs\u001b[49m\u001b[38;5;241;43m=\u001b[39;49m\u001b[43minputs\u001b[49m\n\u001b[1;32m    628\u001b[0m \u001b[43m\u001b[49m\u001b[43m)\u001b[49m\n",
      "File \u001b[0;32m~/anaconda3/envs/self-expanding-nets/lib/python3.12/site-packages/torch/autograd/__init__.py:347\u001b[0m, in \u001b[0;36mbackward\u001b[0;34m(tensors, grad_tensors, retain_graph, create_graph, grad_variables, inputs)\u001b[0m\n\u001b[1;32m    342\u001b[0m     retain_graph \u001b[38;5;241m=\u001b[39m create_graph\n\u001b[1;32m    344\u001b[0m \u001b[38;5;66;03m# The reason we repeat the same comment below is that\u001b[39;00m\n\u001b[1;32m    345\u001b[0m \u001b[38;5;66;03m# some Python versions print out the first line of a multi-line function\u001b[39;00m\n\u001b[1;32m    346\u001b[0m \u001b[38;5;66;03m# calls in the traceback and some print out the last line\u001b[39;00m\n\u001b[0;32m--> 347\u001b[0m \u001b[43m_engine_run_backward\u001b[49m\u001b[43m(\u001b[49m\n\u001b[1;32m    348\u001b[0m \u001b[43m    \u001b[49m\u001b[43mtensors\u001b[49m\u001b[43m,\u001b[49m\n\u001b[1;32m    349\u001b[0m \u001b[43m    \u001b[49m\u001b[43mgrad_tensors_\u001b[49m\u001b[43m,\u001b[49m\n\u001b[1;32m    350\u001b[0m \u001b[43m    \u001b[49m\u001b[43mretain_graph\u001b[49m\u001b[43m,\u001b[49m\n\u001b[1;32m    351\u001b[0m \u001b[43m    \u001b[49m\u001b[43mcreate_graph\u001b[49m\u001b[43m,\u001b[49m\n\u001b[1;32m    352\u001b[0m \u001b[43m    \u001b[49m\u001b[43minputs\u001b[49m\u001b[43m,\u001b[49m\n\u001b[1;32m    353\u001b[0m \u001b[43m    \u001b[49m\u001b[43mallow_unreachable\u001b[49m\u001b[38;5;241;43m=\u001b[39;49m\u001b[38;5;28;43;01mTrue\u001b[39;49;00m\u001b[43m,\u001b[49m\n\u001b[1;32m    354\u001b[0m \u001b[43m    \u001b[49m\u001b[43maccumulate_grad\u001b[49m\u001b[38;5;241;43m=\u001b[39;49m\u001b[38;5;28;43;01mTrue\u001b[39;49;00m\u001b[43m,\u001b[49m\n\u001b[1;32m    355\u001b[0m \u001b[43m\u001b[49m\u001b[43m)\u001b[49m\n",
      "File \u001b[0;32m~/anaconda3/envs/self-expanding-nets/lib/python3.12/site-packages/torch/autograd/graph.py:823\u001b[0m, in \u001b[0;36m_engine_run_backward\u001b[0;34m(t_outputs, *args, **kwargs)\u001b[0m\n\u001b[1;32m    821\u001b[0m     unregister_hooks \u001b[38;5;241m=\u001b[39m _register_logging_hooks_on_whole_graph(t_outputs)\n\u001b[1;32m    822\u001b[0m \u001b[38;5;28;01mtry\u001b[39;00m:\n\u001b[0;32m--> 823\u001b[0m     \u001b[38;5;28;01mreturn\u001b[39;00m \u001b[43mVariable\u001b[49m\u001b[38;5;241;43m.\u001b[39;49m\u001b[43m_execution_engine\u001b[49m\u001b[38;5;241;43m.\u001b[39;49m\u001b[43mrun_backward\u001b[49m\u001b[43m(\u001b[49m\u001b[43m  \u001b[49m\u001b[38;5;66;43;03m# Calls into the C++ engine to run the backward pass\u001b[39;49;00m\n\u001b[1;32m    824\u001b[0m \u001b[43m        \u001b[49m\u001b[43mt_outputs\u001b[49m\u001b[43m,\u001b[49m\u001b[43m \u001b[49m\u001b[38;5;241;43m*\u001b[39;49m\u001b[43margs\u001b[49m\u001b[43m,\u001b[49m\u001b[43m \u001b[49m\u001b[38;5;241;43m*\u001b[39;49m\u001b[38;5;241;43m*\u001b[39;49m\u001b[43mkwargs\u001b[49m\n\u001b[1;32m    825\u001b[0m \u001b[43m    \u001b[49m\u001b[43m)\u001b[49m  \u001b[38;5;66;03m# Calls into the C++ engine to run the backward pass\u001b[39;00m\n\u001b[1;32m    826\u001b[0m \u001b[38;5;28;01mfinally\u001b[39;00m:\n\u001b[1;32m    827\u001b[0m     \u001b[38;5;28;01mif\u001b[39;00m attach_logging_hooks:\n",
      "\u001b[0;31mKeyboardInterrupt\u001b[0m: "
     ]
    }
   ],
   "source": [
    "train_sparse_recursive(sparse_model, train_loader, val_loader, 64, metrics[0])"
   ]
  },
  {
   "cell_type": "code",
   "execution_count": null,
   "id": "231f7212",
   "metadata": {},
   "outputs": [],
   "source": []
  }
 ],
 "metadata": {
  "kernelspec": {
   "display_name": "self-expanding-nets",
   "language": "python",
   "name": "python3"
  },
  "language_info": {
   "codemirror_mode": {
    "name": "ipython",
    "version": 3
   },
   "file_extension": ".py",
   "mimetype": "text/x-python",
   "name": "python",
   "nbconvert_exporter": "python",
   "pygments_lexer": "ipython3",
   "version": "3.12.7"
  }
 },
 "nbformat": 4,
 "nbformat_minor": 5
}
