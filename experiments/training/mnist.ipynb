{
 "cells": [
  {
   "cell_type": "code",
   "execution_count": 1,
   "id": "932f4bdded4b6539",
   "metadata": {
    "ExecuteTime": {
     "end_time": "2025-01-21T14:31:25.334745Z",
     "start_time": "2025-01-21T14:31:20.096324Z"
    }
   },
   "outputs": [],
   "source": [
    "\n",
    "from copy import deepcopy\n",
    "\n",
    "import torch.optim as optim\n",
    "from sklearn.metrics import accuracy_score\n",
    "from torch.utils.data import DataLoader, random_split\n",
    "from torchvision import datasets, transforms\n",
    "from tqdm import tqdm\n",
    "import time"
   ]
  },
  {
   "cell_type": "code",
   "execution_count": 2,
   "id": "a089a23845b1066b",
   "metadata": {
    "ExecuteTime": {
     "end_time": "2025-01-21T14:31:25.350457Z",
     "start_time": "2025-01-21T14:31:25.338930Z"
    }
   },
   "outputs": [],
   "source": [
    "from senmodel.model.utils import *\n",
    "from senmodel.metrics.nonlinearity_metrics import *\n",
    "from senmodel.metrics.edge_finder import *\n",
    "from senmodel.metrics.train_metrics import *\n",
    "from senmodel.train.train import *"
   ]
  },
  {
   "cell_type": "code",
   "execution_count": 3,
   "id": "888ee10c0aa4d1f9",
   "metadata": {
    "ExecuteTime": {
     "end_time": "2025-01-21T14:31:25.520919Z",
     "start_time": "2025-01-21T14:31:25.513942Z"
    }
   },
   "outputs": [],
   "source": [
    "torch.manual_seed(0)\n",
    "device = torch.device(\"cuda:0\" if torch.cuda.is_available() else \"cpu\")"
   ]
  },
  {
   "cell_type": "code",
   "execution_count": 4,
   "id": "1aff98b408abbf8d",
   "metadata": {
    "ExecuteTime": {
     "end_time": "2025-01-21T14:31:25.547124Z",
     "start_time": "2025-01-21T14:31:25.543666Z"
    }
   },
   "outputs": [],
   "source": [
    "class SimpleFCN(nn.Module):\n",
    "    def __init__(self, input_size=28 * 28, hidden_size=16):\n",
    "        super(SimpleFCN, self).__init__()\n",
    "        self.fc0 = nn.Linear(input_size, 10)\n",
    "        # self.fc1 = nn.Linear(hidden_size, 10)\n",
    "        self.act = nn.ReLU()\n",
    "\n",
    "    def forward(self, x):\n",
    "        x = self.fc0(x)\n",
    "        return x"
   ]
  },
  {
   "cell_type": "code",
   "execution_count": 5,
   "id": "90353a5a49cd1022",
   "metadata": {
    "ExecuteTime": {
     "end_time": "2025-01-21T14:31:25.590348Z",
     "start_time": "2025-01-21T14:31:25.554956Z"
    }
   },
   "outputs": [],
   "source": [
    "# Dataset and Dataloader\n",
    "transform = transforms.Compose([\n",
    "    transforms.ToTensor(),\n",
    "    transforms.Lambda(lambda x: x.view(-1))\n",
    "])\n",
    "\n",
    "# Load dataset and split into train/validation sets\n",
    "dataset = datasets.MNIST(root='./data', train=True, download=True, transform=transform)\n",
    "train_size = int(0.8 * len(dataset))\n",
    "val_size = len(dataset) - train_size\n",
    "train_dataset, val_dataset = random_split(dataset, [train_size, val_size])\n",
    "\n",
    "train_loader = DataLoader(train_dataset, batch_size=64, shuffle=True)\n",
    "val_loader = DataLoader(val_dataset, batch_size=64, shuffle=False)"
   ]
  },
  {
   "cell_type": "code",
   "execution_count": 6,
   "id": "dcb8129e6befdf70",
   "metadata": {
    "ExecuteTime": {
     "end_time": "2025-01-21T14:31:26.821483Z",
     "start_time": "2025-01-21T14:31:26.807650Z"
    }
   },
   "outputs": [],
   "source": [
    "model = SimpleFCN()\n",
    "sparse_model = convert_dense_to_sparse_network(model, layers=[model.fc0])"
   ]
  },
  {
   "cell_type": "code",
   "execution_count": 7,
   "id": "c33ccfaf",
   "metadata": {},
   "outputs": [
    {
     "data": {
      "text/plain": [
       "\"num_epochs: 64, metric: AbsGradientEdgeMetric, aggregation_mode: mean, choose_thresholds: {'fc0': 0.7}, replace_layers: ['fc0'], threshold: 0.004, min_delta_epoch_replace: 8, window_size: 5, lr: 0.0001, delete_after: 2\""
      ]
     },
     "execution_count": 7,
     "metadata": {},
     "output_type": "execute_result"
    }
   ],
   "source": [
    "hyperparams = {\n",
    "    \"num_epochs\": 64,\n",
    "    \"metric\": AbsGradientEdgeMetric(nn.CrossEntropyLoss()),\n",
    "    \"aggregation_mode\": \"mean\",\n",
    "    \"choose_thresholds\": {\"fc0\": 0.7},\n",
    "    \"replace_layers\": [\"fc0\"],\n",
    "    \"threshold\": 0.004,\n",
    "    \"min_delta_epoch_replace\": 8,\n",
    "    \"window_size\": 5,\n",
    "    \"lr\": 1e-4,\n",
    "    \"delete_after\": 2,    \n",
    "}\n",
    "\n",
    "name = \", \".join(\n",
    "    f\"{key}: {value.__class__.__name__ if key == 'metric' else value}\"\n",
    "    for key, value in hyperparams.items()\n",
    ")\n",
    "\n",
    "name"
   ]
  },
  {
   "cell_type": "code",
   "execution_count": 8,
   "id": "77e8399a",
   "metadata": {
    "ExecuteTime": {
     "end_time": "2025-01-21T14:31:30.645772Z",
     "start_time": "2025-01-21T14:31:27.560914Z"
    }
   },
   "outputs": [
    {
     "name": "stderr",
     "output_type": "stream",
     "text": [
      "\u001b[34m\u001b[1mwandb\u001b[0m: Using wandb-core as the SDK backend.  Please refer to https://wandb.me/wandb-core for more information.\n",
      "\u001b[34m\u001b[1mwandb\u001b[0m: Currently logged in as: \u001b[33mvanyamironov\u001b[0m to \u001b[32mhttps://api.wandb.ai\u001b[0m. Use \u001b[1m`wandb login --relogin`\u001b[0m to force relogin\n"
     ]
    },
    {
     "data": {
      "text/plain": [
       "True"
      ]
     },
     "execution_count": 8,
     "metadata": {},
     "output_type": "execute_result"
    }
   ],
   "source": [
    "import wandb\n",
    "\n",
    "wandb.login()"
   ]
  },
  {
   "cell_type": "code",
   "execution_count": 9,
   "id": "6a4cee60",
   "metadata": {},
   "outputs": [
    {
     "data": {
      "text/html": [
       "Tracking run with wandb version 0.19.8"
      ],
      "text/plain": [
       "<IPython.core.display.HTML object>"
      ]
     },
     "metadata": {},
     "output_type": "display_data"
    },
    {
     "data": {
      "text/html": [
       "Run data is saved locally in <code>/Users/ivanmironov/Projects/self-expanding-nets/experiments/training/wandb/run-20250331_142804-337uv907</code>"
      ],
      "text/plain": [
       "<IPython.core.display.HTML object>"
      ]
     },
     "metadata": {},
     "output_type": "display_data"
    },
    {
     "data": {
      "text/html": [
       "Syncing run <strong><a href='https://wandb.ai/vanyamironov/self-expanding-nets/runs/337uv907' target=\"_blank\">trash</a></strong> to <a href='https://wandb.ai/vanyamironov/self-expanding-nets' target=\"_blank\">Weights & Biases</a> (<a href='https://wandb.me/developer-guide' target=\"_blank\">docs</a>)<br>"
      ],
      "text/plain": [
       "<IPython.core.display.HTML object>"
      ]
     },
     "metadata": {},
     "output_type": "display_data"
    },
    {
     "data": {
      "text/html": [
       " View project at <a href='https://wandb.ai/vanyamironov/self-expanding-nets' target=\"_blank\">https://wandb.ai/vanyamironov/self-expanding-nets</a>"
      ],
      "text/plain": [
       "<IPython.core.display.HTML object>"
      ]
     },
     "metadata": {},
     "output_type": "display_data"
    },
    {
     "data": {
      "text/html": [
       " View run at <a href='https://wandb.ai/vanyamironov/self-expanding-nets/runs/337uv907' target=\"_blank\">https://wandb.ai/vanyamironov/self-expanding-nets/runs/337uv907</a>"
      ],
      "text/plain": [
       "<IPython.core.display.HTML object>"
      ]
     },
     "metadata": {},
     "output_type": "display_data"
    }
   ],
   "source": [
    "run = wandb.init(\n",
    "    project=\"self-expanding-nets\",\n",
    "    name=f\"trash\",\n",
    "    config=hyperparams\n",
    ")"
   ]
  },
  {
   "cell_type": "code",
   "execution_count": 10,
   "id": "3b3534e4",
   "metadata": {},
   "outputs": [
    {
     "name": "stderr",
     "output_type": "stream",
     "text": [
      "100%|██████████| 750/750 [00:02<00:00, 314.12it/s]\n"
     ]
    },
    {
     "name": "stdout",
     "output_type": "stream",
     "text": [
      "Epoch 1/64, Train Loss: 1.4805, Val Loss: 0.9977, Val Accuracy: 0.8192\n"
     ]
    },
    {
     "name": "stderr",
     "output_type": "stream",
     "text": [
      "100%|██████████| 750/750 [00:02<00:00, 313.47it/s]\n"
     ]
    },
    {
     "name": "stdout",
     "output_type": "stream",
     "text": [
      "Epoch 2/64, Train Loss: 0.8089, Val Loss: 0.6842, Val Accuracy: 0.8527\n"
     ]
    },
    {
     "name": "stderr",
     "output_type": "stream",
     "text": [
      "100%|██████████| 750/750 [00:02<00:00, 288.25it/s]\n"
     ]
    },
    {
     "name": "stdout",
     "output_type": "stream",
     "text": [
      "Epoch 3/64, Train Loss: 0.6081, Val Loss: 0.5556, Val Accuracy: 0.8694\n"
     ]
    },
    {
     "name": "stderr",
     "output_type": "stream",
     "text": [
      "100%|██████████| 750/750 [00:02<00:00, 334.96it/s]\n"
     ]
    },
    {
     "name": "stdout",
     "output_type": "stream",
     "text": [
      "Epoch 4/64, Train Loss: 0.5131, Val Loss: 0.4852, Val Accuracy: 0.8792\n"
     ]
    },
    {
     "name": "stderr",
     "output_type": "stream",
     "text": [
      "100%|██████████| 750/750 [00:02<00:00, 343.50it/s]\n"
     ]
    },
    {
     "name": "stdout",
     "output_type": "stream",
     "text": [
      "Epoch 5/64, Train Loss: 0.4576, Val Loss: 0.4408, Val Accuracy: 0.8877\n"
     ]
    },
    {
     "name": "stderr",
     "output_type": "stream",
     "text": [
      "100%|██████████| 750/750 [00:02<00:00, 350.14it/s]\n"
     ]
    },
    {
     "name": "stdout",
     "output_type": "stream",
     "text": [
      "Epoch 6/64, Train Loss: 0.4213, Val Loss: 0.4109, Val Accuracy: 0.8922\n"
     ]
    },
    {
     "name": "stderr",
     "output_type": "stream",
     "text": [
      "100%|██████████| 750/750 [00:02<00:00, 320.41it/s]\n"
     ]
    },
    {
     "name": "stdout",
     "output_type": "stream",
     "text": [
      "Epoch 7/64, Train Loss: 0.3958, Val Loss: 0.3891, Val Accuracy: 0.8973\n"
     ]
    },
    {
     "name": "stderr",
     "output_type": "stream",
     "text": [
      "100%|██████████| 750/750 [00:02<00:00, 290.94it/s]\n"
     ]
    },
    {
     "name": "stdout",
     "output_type": "stream",
     "text": [
      "Epoch 8/64, Train Loss: 0.3770, Val Loss: 0.3729, Val Accuracy: 0.9001\n"
     ]
    },
    {
     "name": "stderr",
     "output_type": "stream",
     "text": [
      "100%|██████████| 750/750 [00:02<00:00, 282.55it/s]\n"
     ]
    },
    {
     "name": "stdout",
     "output_type": "stream",
     "text": [
      "Epoch 9/64, Train Loss: 0.3626, Val Loss: 0.3602, Val Accuracy: 0.9029\n"
     ]
    },
    {
     "name": "stderr",
     "output_type": "stream",
     "text": [
      "100%|██████████| 750/750 [00:02<00:00, 341.88it/s]\n"
     ]
    },
    {
     "name": "stdout",
     "output_type": "stream",
     "text": [
      "Epoch 10/64, Train Loss: 0.3514, Val Loss: 0.3501, Val Accuracy: 0.9047\n"
     ]
    },
    {
     "name": "stderr",
     "output_type": "stream",
     "text": [
      "100%|██████████| 750/750 [00:02<00:00, 304.93it/s]\n"
     ]
    },
    {
     "name": "stdout",
     "output_type": "stream",
     "text": [
      "Epoch 11/64, Train Loss: 0.3422, Val Loss: 0.3422, Val Accuracy: 0.9069\n"
     ]
    },
    {
     "name": "stderr",
     "output_type": "stream",
     "text": [
      "100%|██████████| 750/750 [00:02<00:00, 327.50it/s]\n"
     ]
    },
    {
     "name": "stdout",
     "output_type": "stream",
     "text": [
      "Epoch 12/64, Train Loss: 0.3346, Val Loss: 0.3360, Val Accuracy: 0.9077\n"
     ]
    },
    {
     "name": "stderr",
     "output_type": "stream",
     "text": [
      "100%|██████████| 750/750 [00:02<00:00, 331.19it/s]\n"
     ]
    },
    {
     "name": "stdout",
     "output_type": "stream",
     "text": [
      "Epoch 13/64, Train Loss: 0.3283, Val Loss: 0.3297, Val Accuracy: 0.9094\n"
     ]
    },
    {
     "name": "stderr",
     "output_type": "stream",
     "text": [
      "100%|██████████| 750/750 [00:02<00:00, 350.68it/s]\n"
     ]
    },
    {
     "name": "stdout",
     "output_type": "stream",
     "text": [
      "Epoch 14/64, Train Loss: 0.3227, Val Loss: 0.3250, Val Accuracy: 0.9110\n"
     ]
    },
    {
     "name": "stderr",
     "output_type": "stream",
     "text": [
      "100%|██████████| 750/750 [00:02<00:00, 309.01it/s]\n"
     ]
    },
    {
     "name": "stdout",
     "output_type": "stream",
     "text": [
      "Epoch 15/64, Train Loss: 0.3180, Val Loss: 0.3206, Val Accuracy: 0.9115\n"
     ]
    },
    {
     "name": "stderr",
     "output_type": "stream",
     "text": [
      "100%|██████████| 750/750 [00:02<00:00, 326.59it/s]\n"
     ]
    },
    {
     "name": "stdout",
     "output_type": "stream",
     "text": [
      "Epoch 16/64, Train Loss: 0.3137, Val Loss: 0.3172, Val Accuracy: 0.9123\n"
     ]
    },
    {
     "name": "stderr",
     "output_type": "stream",
     "text": [
      "100%|██████████| 750/750 [00:02<00:00, 306.61it/s]\n"
     ]
    },
    {
     "name": "stdout",
     "output_type": "stream",
     "text": [
      "Epoch 17/64, Train Loss: 0.3101, Val Loss: 0.3139, Val Accuracy: 0.9127\n"
     ]
    },
    {
     "name": "stderr",
     "output_type": "stream",
     "text": [
      "100%|██████████| 750/750 [00:02<00:00, 344.43it/s]\n"
     ]
    },
    {
     "name": "stdout",
     "output_type": "stream",
     "text": [
      "Epoch 18/64, Train Loss: 0.3067, Val Loss: 0.3111, Val Accuracy: 0.9134\n",
      "Chosen edges: tensor([[  2,   2,   2,  ...,   9,   9,   9],\n",
      "        [181, 182, 183,  ..., 629, 630, 657]]) 520\n",
      "520\n"
     ]
    },
    {
     "name": "stderr",
     "output_type": "stream",
     "text": [
      "100%|██████████| 750/750 [00:09<00:00, 75.29it/s]\n"
     ]
    },
    {
     "name": "stdout",
     "output_type": "stream",
     "text": [
      "Epoch 19/64, Train Loss: 0.2966, Val Loss: 0.2910, Val Accuracy: 0.9181\n"
     ]
    },
    {
     "name": "stderr",
     "output_type": "stream",
     "text": [
      "100%|██████████| 750/750 [00:10<00:00, 72.71it/s]\n"
     ]
    },
    {
     "name": "stdout",
     "output_type": "stream",
     "text": [
      "Epoch 20/64, Train Loss: 0.2751, Val Loss: 0.2720, Val Accuracy: 0.9266\n"
     ]
    },
    {
     "name": "stderr",
     "output_type": "stream",
     "text": [
      "100%|██████████| 750/750 [00:10<00:00, 68.24it/s]\n"
     ]
    },
    {
     "name": "stdout",
     "output_type": "stream",
     "text": [
      "Epoch 21/64, Train Loss: 0.2542, Val Loss: 0.2528, Val Accuracy: 0.9313\n"
     ]
    },
    {
     "name": "stderr",
     "output_type": "stream",
     "text": [
      "100%|██████████| 750/750 [00:10<00:00, 69.22it/s]\n"
     ]
    },
    {
     "name": "stdout",
     "output_type": "stream",
     "text": [
      "Epoch 22/64, Train Loss: 0.2346, Val Loss: 0.2355, Val Accuracy: 0.9363\n"
     ]
    },
    {
     "name": "stderr",
     "output_type": "stream",
     "text": [
      "100%|██████████| 750/750 [00:09<00:00, 76.45it/s]\n"
     ]
    },
    {
     "name": "stdout",
     "output_type": "stream",
     "text": [
      "Epoch 23/64, Train Loss: 0.2161, Val Loss: 0.2172, Val Accuracy: 0.9406\n"
     ]
    },
    {
     "name": "stderr",
     "output_type": "stream",
     "text": [
      "100%|██████████| 750/750 [00:11<00:00, 66.79it/s]\n"
     ]
    },
    {
     "name": "stdout",
     "output_type": "stream",
     "text": [
      "Epoch 24/64, Train Loss: 0.1994, Val Loss: 0.2049, Val Accuracy: 0.9428\n"
     ]
    },
    {
     "name": "stderr",
     "output_type": "stream",
     "text": [
      "100%|██████████| 750/750 [00:10<00:00, 69.69it/s]\n"
     ]
    },
    {
     "name": "stdout",
     "output_type": "stream",
     "text": [
      "Epoch 25/64, Train Loss: 0.1846, Val Loss: 0.1926, Val Accuracy: 0.9461\n"
     ]
    },
    {
     "name": "stderr",
     "output_type": "stream",
     "text": [
      "100%|██████████| 750/750 [00:10<00:00, 69.41it/s]\n"
     ]
    },
    {
     "name": "stdout",
     "output_type": "stream",
     "text": [
      "Epoch 26/64, Train Loss: 0.1710, Val Loss: 0.1800, Val Accuracy: 0.9504\n"
     ]
    },
    {
     "name": "stderr",
     "output_type": "stream",
     "text": [
      "100%|██████████| 750/750 [00:10<00:00, 69.15it/s]\n"
     ]
    },
    {
     "name": "stdout",
     "output_type": "stream",
     "text": [
      "Epoch 27/64, Train Loss: 0.1594, Val Loss: 0.1695, Val Accuracy: 0.9528\n"
     ]
    },
    {
     "name": "stderr",
     "output_type": "stream",
     "text": [
      "100%|██████████| 750/750 [00:10<00:00, 71.94it/s]\n"
     ]
    },
    {
     "name": "stdout",
     "output_type": "stream",
     "text": [
      "Epoch 28/64, Train Loss: 0.1489, Val Loss: 0.1630, Val Accuracy: 0.9539\n"
     ]
    },
    {
     "name": "stderr",
     "output_type": "stream",
     "text": [
      "100%|██████████| 750/750 [00:10<00:00, 71.33it/s]\n"
     ]
    },
    {
     "name": "stdout",
     "output_type": "stream",
     "text": [
      "Epoch 29/64, Train Loss: 0.1395, Val Loss: 0.1558, Val Accuracy: 0.9560\n"
     ]
    },
    {
     "name": "stderr",
     "output_type": "stream",
     "text": [
      "100%|██████████| 750/750 [00:10<00:00, 72.37it/s]\n"
     ]
    },
    {
     "name": "stdout",
     "output_type": "stream",
     "text": [
      "Epoch 30/64, Train Loss: 0.1314, Val Loss: 0.1462, Val Accuracy: 0.9582\n"
     ]
    },
    {
     "name": "stderr",
     "output_type": "stream",
     "text": [
      "100%|██████████| 750/750 [00:10<00:00, 72.30it/s]\n"
     ]
    },
    {
     "name": "stdout",
     "output_type": "stream",
     "text": [
      "Epoch 31/64, Train Loss: 0.1237, Val Loss: 0.1402, Val Accuracy: 0.9599\n"
     ]
    },
    {
     "name": "stderr",
     "output_type": "stream",
     "text": [
      "100%|██████████| 750/750 [00:10<00:00, 72.00it/s]\n"
     ]
    },
    {
     "name": "stdout",
     "output_type": "stream",
     "text": [
      "Epoch 32/64, Train Loss: 0.1173, Val Loss: 0.1358, Val Accuracy: 0.9613\n"
     ]
    },
    {
     "name": "stderr",
     "output_type": "stream",
     "text": [
      "100%|██████████| 750/750 [00:10<00:00, 72.77it/s]\n"
     ]
    },
    {
     "name": "stdout",
     "output_type": "stream",
     "text": [
      "Epoch 33/64, Train Loss: 0.1108, Val Loss: 0.1318, Val Accuracy: 0.9618\n"
     ]
    },
    {
     "name": "stderr",
     "output_type": "stream",
     "text": [
      "100%|██████████| 750/750 [00:10<00:00, 71.90it/s]\n"
     ]
    },
    {
     "name": "stdout",
     "output_type": "stream",
     "text": [
      "Epoch 34/64, Train Loss: 0.1054, Val Loss: 0.1263, Val Accuracy: 0.9637\n"
     ]
    },
    {
     "name": "stderr",
     "output_type": "stream",
     "text": [
      "100%|██████████| 750/750 [00:10<00:00, 72.34it/s]\n"
     ]
    },
    {
     "name": "stdout",
     "output_type": "stream",
     "text": [
      "Epoch 35/64, Train Loss: 0.1005, Val Loss: 0.1219, Val Accuracy: 0.9653\n"
     ]
    },
    {
     "name": "stderr",
     "output_type": "stream",
     "text": [
      "100%|██████████| 750/750 [00:10<00:00, 72.48it/s]\n"
     ]
    },
    {
     "name": "stdout",
     "output_type": "stream",
     "text": [
      "Epoch 36/64, Train Loss: 0.0957, Val Loss: 0.1203, Val Accuracy: 0.9658\n",
      "Chosen edges: tensor([[   9,    2,    8,    2,    3,    8,    9,    2,    3,    8,    9,    2,\n",
      "            3,    8,    9,    9,    9,    8],\n",
      "        [ 891,  892,  892, 1067, 1067, 1067, 1067, 1068, 1068, 1068, 1068, 1146,\n",
      "         1146, 1146, 1146, 1158, 1165, 1275]]) 18\n",
      "18\n"
     ]
    },
    {
     "name": "stderr",
     "output_type": "stream",
     "text": [
      "100%|██████████| 750/750 [00:10<00:00, 70.74it/s]\n"
     ]
    },
    {
     "name": "stdout",
     "output_type": "stream",
     "text": [
      "Epoch 37/64, Train Loss: 0.0915, Val Loss: 0.1153, Val Accuracy: 0.9677\n"
     ]
    },
    {
     "name": "stderr",
     "output_type": "stream",
     "text": [
      "100%|██████████| 750/750 [00:11<00:00, 67.21it/s]\n"
     ]
    },
    {
     "name": "stdout",
     "output_type": "stream",
     "text": [
      "Epoch 38/64, Train Loss: 0.0874, Val Loss: 0.1131, Val Accuracy: 0.9678\n"
     ]
    },
    {
     "name": "stderr",
     "output_type": "stream",
     "text": [
      "100%|██████████| 750/750 [00:10<00:00, 70.39it/s]\n"
     ]
    },
    {
     "name": "stdout",
     "output_type": "stream",
     "text": [
      "Epoch 39/64, Train Loss: 0.0837, Val Loss: 0.1101, Val Accuracy: 0.9687\n"
     ]
    },
    {
     "name": "stderr",
     "output_type": "stream",
     "text": [
      "100%|██████████| 750/750 [00:11<00:00, 65.50it/s]\n"
     ]
    },
    {
     "name": "stdout",
     "output_type": "stream",
     "text": [
      "Epoch 40/64, Train Loss: 0.0802, Val Loss: 0.1079, Val Accuracy: 0.9698\n"
     ]
    },
    {
     "name": "stderr",
     "output_type": "stream",
     "text": [
      "100%|██████████| 750/750 [00:11<00:00, 67.57it/s]\n"
     ]
    },
    {
     "name": "stdout",
     "output_type": "stream",
     "text": [
      "Epoch 41/64, Train Loss: 0.0768, Val Loss: 0.1064, Val Accuracy: 0.9695\n"
     ]
    },
    {
     "name": "stderr",
     "output_type": "stream",
     "text": [
      "100%|██████████| 750/750 [00:11<00:00, 67.49it/s]\n"
     ]
    },
    {
     "name": "stdout",
     "output_type": "stream",
     "text": [
      "Epoch 42/64, Train Loss: 0.0737, Val Loss: 0.1049, Val Accuracy: 0.9704\n"
     ]
    },
    {
     "name": "stderr",
     "output_type": "stream",
     "text": [
      "100%|██████████| 750/750 [00:11<00:00, 65.13it/s]\n"
     ]
    },
    {
     "name": "stdout",
     "output_type": "stream",
     "text": [
      "Epoch 43/64, Train Loss: 0.0709, Val Loss: 0.1018, Val Accuracy: 0.9703\n"
     ]
    },
    {
     "name": "stderr",
     "output_type": "stream",
     "text": [
      "100%|██████████| 750/750 [00:10<00:00, 68.71it/s]\n"
     ]
    },
    {
     "name": "stdout",
     "output_type": "stream",
     "text": [
      "Epoch 44/64, Train Loss: 0.0680, Val Loss: 0.1002, Val Accuracy: 0.9722\n"
     ]
    },
    {
     "name": "stderr",
     "output_type": "stream",
     "text": [
      "100%|██████████| 750/750 [00:10<00:00, 70.38it/s]\n"
     ]
    },
    {
     "name": "stdout",
     "output_type": "stream",
     "text": [
      "Epoch 45/64, Train Loss: 0.0654, Val Loss: 0.0996, Val Accuracy: 0.9713\n",
      "Chosen edges: tensor([[   2,    2,    3,    9,    9,    4,    9,    2,    1,    3,    3,    3,\n",
      "            5,    3,    2,    3,    9,    3,    2,    3,    8,    5,    5,    7,\n",
      "            9,    5,    9,    9,    4,    7,    4,    9,    4,    9,    2,    3,\n",
      "            2,    3,    2,    3,    8,    9,    2,    7,    9,    7,    9,    9,\n",
      "            2,    2,    8,    2,    2,    8,    9,    9,    1,    2,    3,    8,\n",
      "            2,    3,    8,    2,    3,    8,    9,    2,    3,    8,    2,    3,\n",
      "            5,    8,    9,    2,    3,    8,    2,    3,    8,    2,    3,    8,\n",
      "            9,    2,    3,    8,    9,    4,    7,    9,    4,    7,    9,    2,\n",
      "            8],\n",
      "        [ 790,  791,  791,  803,  805,  811,  811,  834,  892,  892,  919,  920,\n",
      "          920,  921,  958,  963,  963, 1032, 1042, 1042, 1042, 1067, 1104, 1104,\n",
      "         1104, 1146, 1150, 1151, 1158, 1158, 1164, 1164, 1165, 1171, 1177, 1186,\n",
      "         1188, 1188, 1215, 1215, 1215, 1215, 1216, 1233, 1233, 1234, 1234, 1274,\n",
      "         1275, 1276, 1276, 1277, 1282, 1282, 1290, 1304, 1305, 1305, 1305, 1305,\n",
      "         1306, 1306, 1306, 1307, 1307, 1307, 1307, 1308, 1308, 1308, 1309, 1309,\n",
      "         1309, 1309, 1309, 1311, 1311, 1311, 1313, 1313, 1313, 1315, 1315, 1315,\n",
      "         1315, 1317, 1317, 1317, 1317, 1319, 1319, 1319, 1320, 1320, 1320, 1321,\n",
      "         1321]]) 97\n",
      "97\n"
     ]
    },
    {
     "name": "stderr",
     "output_type": "stream",
     "text": [
      "100%|██████████| 750/750 [00:11<00:00, 64.01it/s]\n"
     ]
    },
    {
     "name": "stdout",
     "output_type": "stream",
     "text": [
      "Epoch 46/64, Train Loss: 0.0630, Val Loss: 0.0982, Val Accuracy: 0.9715\n"
     ]
    },
    {
     "name": "stderr",
     "output_type": "stream",
     "text": [
      "100%|██████████| 750/750 [00:11<00:00, 67.57it/s]\n"
     ]
    },
    {
     "name": "stdout",
     "output_type": "stream",
     "text": [
      "Epoch 47/64, Train Loss: 0.0607, Val Loss: 0.0954, Val Accuracy: 0.9730\n"
     ]
    },
    {
     "name": "stderr",
     "output_type": "stream",
     "text": [
      "100%|██████████| 750/750 [00:12<00:00, 61.86it/s]\n"
     ]
    },
    {
     "name": "stdout",
     "output_type": "stream",
     "text": [
      "Epoch 48/64, Train Loss: 0.0583, Val Loss: 0.0958, Val Accuracy: 0.9722\n"
     ]
    },
    {
     "name": "stderr",
     "output_type": "stream",
     "text": [
      "100%|██████████| 750/750 [00:11<00:00, 62.67it/s]\n"
     ]
    },
    {
     "name": "stdout",
     "output_type": "stream",
     "text": [
      "Epoch 49/64, Train Loss: 0.0562, Val Loss: 0.0939, Val Accuracy: 0.9728\n"
     ]
    },
    {
     "name": "stderr",
     "output_type": "stream",
     "text": [
      "100%|██████████| 750/750 [00:11<00:00, 64.29it/s]\n"
     ]
    },
    {
     "name": "stdout",
     "output_type": "stream",
     "text": [
      "Epoch 50/64, Train Loss: 0.0541, Val Loss: 0.0929, Val Accuracy: 0.9735\n"
     ]
    },
    {
     "name": "stderr",
     "output_type": "stream",
     "text": [
      "100%|██████████| 750/750 [00:11<00:00, 67.27it/s]\n"
     ]
    },
    {
     "name": "stdout",
     "output_type": "stream",
     "text": [
      "Epoch 51/64, Train Loss: 0.0521, Val Loss: 0.0912, Val Accuracy: 0.9733\n"
     ]
    },
    {
     "name": "stderr",
     "output_type": "stream",
     "text": [
      "100%|██████████| 750/750 [00:12<00:00, 59.58it/s]\n"
     ]
    },
    {
     "name": "stdout",
     "output_type": "stream",
     "text": [
      "Epoch 52/64, Train Loss: 0.0501, Val Loss: 0.0902, Val Accuracy: 0.9748\n"
     ]
    },
    {
     "name": "stderr",
     "output_type": "stream",
     "text": [
      "100%|██████████| 750/750 [00:12<00:00, 58.36it/s]\n"
     ]
    },
    {
     "name": "stdout",
     "output_type": "stream",
     "text": [
      "Epoch 53/64, Train Loss: 0.0483, Val Loss: 0.0891, Val Accuracy: 0.9745\n"
     ]
    },
    {
     "name": "stderr",
     "output_type": "stream",
     "text": [
      "100%|██████████| 750/750 [00:12<00:00, 58.54it/s]\n"
     ]
    },
    {
     "name": "stdout",
     "output_type": "stream",
     "text": [
      "Epoch 54/64, Train Loss: 0.0466, Val Loss: 0.0897, Val Accuracy: 0.9742\n",
      "Chosen edges: tensor([[   2,    3,    3,    7,    9,    8,    9,    2,    7,    9,    7,    7,\n",
      "            2,    3,    2,    3,    7,    2,    3,    2,    3,    7,    2,    3,\n",
      "            7,    2,    7,    7,    2,    3,    7,    9,    9,    7,    7,    9,\n",
      "            7,    9,    2,    7,    9,    3,    5,    8,    2,    3,    7,    9,\n",
      "            5,    8,    3,    7,    7,    7,    7,    2,    3,    2,    7,    2,\n",
      "            3,    7,    8,    2,    7,    9,    3,    7,    9,    7,    7,    7,\n",
      "            7,    7,    2,    2,    5,    5,    8,    9,    7,    3,    7,    9,\n",
      "            9,    7,    7,    9,    7,    2,    3,    9,    9,    3,    1,    2,\n",
      "            3,    7,    2,    3,    8,    9,    2,    3,    8,    2,    7,    9,\n",
      "            9,    7,    9,    9,    2,    3,    2,    3,    8,    3,    3,    5,\n",
      "            3,    5,    3,    5,    2,    3,    5,    8,    9,    3,    5,    8,\n",
      "            9,    3,    5,    7,    7,    3,    5,    7,    9,    7,    9,    9,\n",
      "            7,    9,    7,    9,    7,    9,    9,    2,    3,    2,    3,    5,\n",
      "            8,    2,    3,    5,    8,    2,    3,    2,    3,    7,    8,    9,\n",
      "            7,    9,    7,    9,    7,    9,    9,    2,    9,    3,    9,    2,\n",
      "            7,    9,    7,    9,    7,    9,    4,    7,    9,    2,    2,    8],\n",
      "        [ 786,  786,  790,  790,  790,  791,  800,  803,  803,  804,  811,  815,\n",
      "          832,  834,  838,  838,  860,  864,  864,  866,  866,  866,  871,  871,\n",
      "          871,  872,  872,  878,  884,  884,  884,  886,  889,  892,  894,  894,\n",
      "          895,  895,  903,  905,  905,  918,  921,  921,  945,  945,  945,  945,\n",
      "          963,  963,  966,  975,  981, 1007, 1016, 1028, 1028, 1045, 1045, 1050,\n",
      "         1050, 1050, 1050, 1057, 1099, 1099, 1104, 1143, 1143, 1150, 1151, 1164,\n",
      "         1165, 1171, 1175, 1186, 1186, 1188, 1188, 1200, 1215, 1216, 1226, 1226,\n",
      "         1228, 1230, 1232, 1238, 1242, 1272, 1272, 1272, 1286, 1304, 1306, 1322,\n",
      "         1322, 1322, 1323, 1323, 1323, 1323, 1324, 1324, 1324, 1325, 1325, 1325,\n",
      "         1326, 1327, 1327, 1328, 1329, 1329, 1331, 1331, 1331, 1332, 1333, 1333,\n",
      "         1334, 1334, 1335, 1335, 1337, 1337, 1337, 1337, 1337, 1338, 1338, 1338,\n",
      "         1338, 1339, 1344, 1344, 1345, 1346, 1346, 1346, 1346, 1348, 1348, 1349,\n",
      "         1350, 1350, 1352, 1352, 1353, 1353, 1354, 1356, 1357, 1358, 1358, 1358,\n",
      "         1358, 1359, 1359, 1359, 1359, 1360, 1360, 1363, 1363, 1363, 1363, 1363,\n",
      "         1365, 1365, 1367, 1367, 1368, 1368, 1369, 1374, 1376, 1377, 1377, 1382,\n",
      "         1411, 1411, 1412, 1412, 1413, 1413, 1416, 1416, 1416, 1417, 1418, 1418]]) 192\n",
      "192\n"
     ]
    },
    {
     "name": "stderr",
     "output_type": "stream",
     "text": [
      "100%|██████████| 750/750 [00:15<00:00, 47.78it/s]\n"
     ]
    },
    {
     "name": "stdout",
     "output_type": "stream",
     "text": [
      "Epoch 55/64, Train Loss: 0.0453, Val Loss: 0.0885, Val Accuracy: 0.9749\n"
     ]
    },
    {
     "name": "stderr",
     "output_type": "stream",
     "text": [
      "100%|██████████| 750/750 [00:15<00:00, 47.40it/s]\n"
     ]
    },
    {
     "name": "stdout",
     "output_type": "stream",
     "text": [
      "Epoch 56/64, Train Loss: 0.0432, Val Loss: 0.0878, Val Accuracy: 0.9749\n"
     ]
    },
    {
     "name": "stderr",
     "output_type": "stream",
     "text": [
      "100%|██████████| 750/750 [00:15<00:00, 47.18it/s]\n"
     ]
    },
    {
     "name": "stdout",
     "output_type": "stream",
     "text": [
      "Epoch 57/64, Train Loss: 0.0415, Val Loss: 0.0871, Val Accuracy: 0.9752\n"
     ]
    },
    {
     "name": "stderr",
     "output_type": "stream",
     "text": [
      "100%|██████████| 750/750 [00:15<00:00, 48.38it/s]\n"
     ]
    },
    {
     "name": "stdout",
     "output_type": "stream",
     "text": [
      "Epoch 58/64, Train Loss: 0.0399, Val Loss: 0.0857, Val Accuracy: 0.9750\n"
     ]
    },
    {
     "name": "stderr",
     "output_type": "stream",
     "text": [
      "100%|██████████| 750/750 [00:15<00:00, 47.30it/s]\n"
     ]
    },
    {
     "name": "stdout",
     "output_type": "stream",
     "text": [
      "Epoch 59/64, Train Loss: 0.0383, Val Loss: 0.0845, Val Accuracy: 0.9756\n"
     ]
    },
    {
     "name": "stderr",
     "output_type": "stream",
     "text": [
      "100%|██████████| 750/750 [00:14<00:00, 51.05it/s]\n"
     ]
    },
    {
     "name": "stdout",
     "output_type": "stream",
     "text": [
      "Epoch 60/64, Train Loss: 0.0367, Val Loss: 0.0859, Val Accuracy: 0.9745\n"
     ]
    },
    {
     "name": "stderr",
     "output_type": "stream",
     "text": [
      "100%|██████████| 750/750 [00:14<00:00, 51.39it/s]\n"
     ]
    },
    {
     "name": "stdout",
     "output_type": "stream",
     "text": [
      "Epoch 61/64, Train Loss: 0.0354, Val Loss: 0.0836, Val Accuracy: 0.9766\n"
     ]
    },
    {
     "name": "stderr",
     "output_type": "stream",
     "text": [
      "100%|██████████| 750/750 [00:14<00:00, 50.79it/s]\n"
     ]
    },
    {
     "name": "stdout",
     "output_type": "stream",
     "text": [
      "Epoch 62/64, Train Loss: 0.0337, Val Loss: 0.0859, Val Accuracy: 0.9752\n"
     ]
    },
    {
     "name": "stderr",
     "output_type": "stream",
     "text": [
      "100%|██████████| 750/750 [00:14<00:00, 51.62it/s]\n"
     ]
    },
    {
     "name": "stdout",
     "output_type": "stream",
     "text": [
      "Epoch 63/64, Train Loss: 0.0325, Val Loss: 0.0847, Val Accuracy: 0.9757\n",
      "Chosen edges: tensor([[   9,    9,    9,    9,    2,    2,    7,    9,    9,    2,    9,    2,\n",
      "            8,    9,    9,    9,    2,    7,    9,    7,    9,    9,    9,    3,\n",
      "            9,    7,    9,    9,    9,    2,    3,    9,    9,    9,    2,    3,\n",
      "            9,    2,    3,    9,    9,    7,    7,    9,    9,    9,    3,    9,\n",
      "            9,    9,    9],\n",
      "        [ 851,  885, 1045, 1322, 1421, 1422, 1426, 1426, 1428, 1442, 1451, 1452,\n",
      "         1452, 1455, 1456, 1468, 1477, 1477, 1477, 1485, 1485, 1486, 1488, 1497,\n",
      "         1501, 1502, 1502, 1503, 1506, 1510, 1510, 1510, 1511, 1512, 1517, 1517,\n",
      "         1517, 1531, 1544, 1544, 1548, 1555, 1559, 1559, 1561, 1568, 1572, 1586,\n",
      "         1593, 1596, 1597]]) 51\n",
      "51\n"
     ]
    },
    {
     "name": "stderr",
     "output_type": "stream",
     "text": [
      "100%|██████████| 750/750 [00:16<00:00, 45.88it/s]\n"
     ]
    },
    {
     "name": "stdout",
     "output_type": "stream",
     "text": [
      "Epoch 64/64, Train Loss: 0.0311, Val Loss: 0.0848, Val Accuracy: 0.9759\n"
     ]
    }
   ],
   "source": [
    "criterion = nn.CrossEntropyLoss()\n",
    "train_sparse_recursive(sparse_model, train_loader, train_loader, val_loader, criterion, hyperparams)"
   ]
  },
  {
   "cell_type": "code",
   "execution_count": null,
   "id": "0247c3d2",
   "metadata": {},
   "outputs": [],
   "source": []
  }
 ],
 "metadata": {
  "kernelspec": {
   "display_name": "self-expanding-nets",
   "language": "python",
   "name": "python3"
  },
  "language_info": {
   "codemirror_mode": {
    "name": "ipython",
    "version": 3
   },
   "file_extension": ".py",
   "mimetype": "text/x-python",
   "name": "python",
   "nbconvert_exporter": "python",
   "pygments_lexer": "ipython3",
   "version": "3.12.7"
  }
 },
 "nbformat": 4,
 "nbformat_minor": 5
}
