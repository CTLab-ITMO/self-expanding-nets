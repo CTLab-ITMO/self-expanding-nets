{
 "cells": [
  {
   "cell_type": "code",
   "execution_count": 1,
   "id": "932f4bdded4b6539",
   "metadata": {
    "ExecuteTime": {
     "end_time": "2025-01-21T14:31:25.334745Z",
     "start_time": "2025-01-21T14:31:20.096324Z"
    }
   },
   "outputs": [],
   "source": [
    "\n",
    "from copy import deepcopy\n",
    "\n",
    "import torch.optim as optim\n",
    "from sklearn.metrics import accuracy_score\n",
    "from torch.utils.data import DataLoader, random_split\n",
    "from torchvision import datasets, transforms\n",
    "from tqdm import tqdm\n",
    "import time"
   ]
  },
  {
   "cell_type": "code",
   "execution_count": 2,
   "id": "a089a23845b1066b",
   "metadata": {
    "ExecuteTime": {
     "end_time": "2025-01-21T14:31:25.350457Z",
     "start_time": "2025-01-21T14:31:25.338930Z"
    }
   },
   "outputs": [],
   "source": [
    "from senmodel.model.utils import *\n",
    "from senmodel.metrics.nonlinearity_metrics import *\n",
    "from senmodel.metrics.edge_finder import *\n",
    "from senmodel.metrics.train_metrics import *\n",
    "from senmodel.train.train import *"
   ]
  },
  {
   "cell_type": "code",
   "execution_count": 3,
   "id": "888ee10c0aa4d1f9",
   "metadata": {
    "ExecuteTime": {
     "end_time": "2025-01-21T14:31:25.520919Z",
     "start_time": "2025-01-21T14:31:25.513942Z"
    }
   },
   "outputs": [],
   "source": [
    "torch.manual_seed(0)\n",
    "device = torch.device(\"cuda:0\" if torch.cuda.is_available() else \"cpu\")"
   ]
  },
  {
   "cell_type": "code",
   "execution_count": 4,
   "id": "1aff98b408abbf8d",
   "metadata": {
    "ExecuteTime": {
     "end_time": "2025-01-21T14:31:25.547124Z",
     "start_time": "2025-01-21T14:31:25.543666Z"
    }
   },
   "outputs": [],
   "source": [
    "class SimpleFCN(nn.Module):\n",
    "    def __init__(self, input_size=28 * 28, hidden_size=16):\n",
    "        super(SimpleFCN, self).__init__()\n",
    "        self.fc0 = nn.Linear(input_size, 10)\n",
    "        # self.fc1 = nn.Linear(hidden_size, 10)\n",
    "        self.act = nn.ReLU()\n",
    "\n",
    "    def forward(self, x):\n",
    "        x = self.fc0(x)\n",
    "        return x"
   ]
  },
  {
   "cell_type": "code",
   "execution_count": 5,
   "id": "90353a5a49cd1022",
   "metadata": {
    "ExecuteTime": {
     "end_time": "2025-01-21T14:31:25.590348Z",
     "start_time": "2025-01-21T14:31:25.554956Z"
    }
   },
   "outputs": [],
   "source": [
    "# Dataset and Dataloader\n",
    "transform = transforms.Compose([\n",
    "    transforms.ToTensor(),\n",
    "    transforms.Lambda(lambda x: x.view(-1))\n",
    "])\n",
    "\n",
    "# Load dataset and split into train/validation sets\n",
    "dataset = datasets.MNIST(root='./data', train=True, download=True, transform=transform)\n",
    "train_size = int(0.8 * len(dataset))\n",
    "val_size = len(dataset) - train_size\n",
    "train_dataset, val_dataset = random_split(dataset, [train_size, val_size])\n",
    "\n",
    "train_loader = DataLoader(train_dataset, batch_size=64, shuffle=True)\n",
    "val_loader = DataLoader(val_dataset, batch_size=64, shuffle=False)"
   ]
  },
  {
   "cell_type": "code",
   "execution_count": 6,
   "id": "dcb8129e6befdf70",
   "metadata": {
    "ExecuteTime": {
     "end_time": "2025-01-21T14:31:26.821483Z",
     "start_time": "2025-01-21T14:31:26.807650Z"
    }
   },
   "outputs": [],
   "source": [
    "model = SimpleFCN()\n",
    "sparse_model = convert_dense_to_sparse_network(model, layers=[model.fc0])"
   ]
  },
  {
   "cell_type": "code",
   "execution_count": 7,
   "id": "c33ccfaf",
   "metadata": {},
   "outputs": [
    {
     "data": {
      "text/plain": [
       "\"num_epochs: 64, metric: AbsGradientEdgeMetric, aggregation_mode: mean, choose_thresholds: {'fc0': 0.7}, replace_layers: ['fc0'], threshold: 0.005, min_delta_epoch_replace: 12, window_size: 5, lr: 0.0001, delete_after: 4\""
      ]
     },
     "execution_count": 7,
     "metadata": {},
     "output_type": "execute_result"
    }
   ],
   "source": [
    "hyperparams = {\n",
    "    \"num_epochs\": 64,\n",
    "    \"metric\": AbsGradientEdgeMetric(nn.CrossEntropyLoss()),\n",
    "    \"aggregation_mode\": \"mean\",\n",
    "    \"choose_thresholds\": {\"fc0\": 0.7},\n",
    "    \"replace_layers\": [\"fc0\"],\n",
    "    \"threshold\": 0.005,\n",
    "    \"min_delta_epoch_replace\": 12,\n",
    "    \"window_size\": 5,\n",
    "    \"lr\": 1e-4,\n",
    "    \"delete_after\": 4,    \n",
    "}\n",
    "\n",
    "name = \", \".join(\n",
    "    f\"{key}: {value.__class__.__name__ if key == 'metric' else value}\"\n",
    "    for key, value in hyperparams.items()\n",
    ")\n",
    "\n",
    "name"
   ]
  },
  {
   "cell_type": "code",
   "execution_count": 8,
   "id": "77e8399a",
   "metadata": {
    "ExecuteTime": {
     "end_time": "2025-01-21T14:31:30.645772Z",
     "start_time": "2025-01-21T14:31:27.560914Z"
    }
   },
   "outputs": [
    {
     "name": "stderr",
     "output_type": "stream",
     "text": [
      "\u001b[34m\u001b[1mwandb\u001b[0m: Using wandb-core as the SDK backend.  Please refer to https://wandb.me/wandb-core for more information.\n",
      "\u001b[34m\u001b[1mwandb\u001b[0m: Currently logged in as: \u001b[33mvanyamironov\u001b[0m to \u001b[32mhttps://api.wandb.ai\u001b[0m. Use \u001b[1m`wandb login --relogin`\u001b[0m to force relogin\n"
     ]
    },
    {
     "data": {
      "text/plain": [
       "True"
      ]
     },
     "execution_count": 8,
     "metadata": {},
     "output_type": "execute_result"
    }
   ],
   "source": [
    "import wandb\n",
    "\n",
    "wandb.login()"
   ]
  },
  {
   "cell_type": "code",
   "execution_count": 9,
   "id": "6a4cee60",
   "metadata": {},
   "outputs": [
    {
     "data": {
      "text/html": [
       "Tracking run with wandb version 0.19.8"
      ],
      "text/plain": [
       "<IPython.core.display.HTML object>"
      ]
     },
     "metadata": {},
     "output_type": "display_data"
    },
    {
     "data": {
      "text/html": [
       "Run data is saved locally in <code>/Users/ivanmironov/Projects/self-expanding-nets/experiments/training/wandb/run-20250331_202028-dm5bg4he</code>"
      ],
      "text/plain": [
       "<IPython.core.display.HTML object>"
      ]
     },
     "metadata": {},
     "output_type": "display_data"
    },
    {
     "data": {
      "text/html": [
       "Syncing run <strong><a href='https://wandb.ai/vanyamironov/self-expanding-nets/runs/dm5bg4he' target=\"_blank\">trash</a></strong> to <a href='https://wandb.ai/vanyamironov/self-expanding-nets' target=\"_blank\">Weights & Biases</a> (<a href='https://wandb.me/developer-guide' target=\"_blank\">docs</a>)<br>"
      ],
      "text/plain": [
       "<IPython.core.display.HTML object>"
      ]
     },
     "metadata": {},
     "output_type": "display_data"
    },
    {
     "data": {
      "text/html": [
       " View project at <a href='https://wandb.ai/vanyamironov/self-expanding-nets' target=\"_blank\">https://wandb.ai/vanyamironov/self-expanding-nets</a>"
      ],
      "text/plain": [
       "<IPython.core.display.HTML object>"
      ]
     },
     "metadata": {},
     "output_type": "display_data"
    },
    {
     "data": {
      "text/html": [
       " View run at <a href='https://wandb.ai/vanyamironov/self-expanding-nets/runs/dm5bg4he' target=\"_blank\">https://wandb.ai/vanyamironov/self-expanding-nets/runs/dm5bg4he</a>"
      ],
      "text/plain": [
       "<IPython.core.display.HTML object>"
      ]
     },
     "metadata": {},
     "output_type": "display_data"
    }
   ],
   "source": [
    "run = wandb.init(\n",
    "    project=\"self-expanding-nets\",\n",
    "    name=f\"trash\",\n",
    "    config=hyperparams\n",
    ")"
   ]
  },
  {
   "cell_type": "code",
   "execution_count": null,
   "id": "3b3534e4",
   "metadata": {},
   "outputs": [
    {
     "name": "stderr",
     "output_type": "stream",
     "text": [
      "100%|██████████| 750/750 [00:02<00:00, 289.72it/s]\n"
     ]
    },
    {
     "name": "stdout",
     "output_type": "stream",
     "text": [
      "Epoch 1/64, Train Loss: 1.4805, Val Loss: 0.9977, Val Accuracy: 0.8192\n"
     ]
    },
    {
     "name": "stderr",
     "output_type": "stream",
     "text": [
      "100%|██████████| 750/750 [00:02<00:00, 267.66it/s]\n"
     ]
    },
    {
     "name": "stdout",
     "output_type": "stream",
     "text": [
      "Epoch 2/64, Train Loss: 0.8088, Val Loss: 0.6843, Val Accuracy: 0.8528\n"
     ]
    },
    {
     "name": "stderr",
     "output_type": "stream",
     "text": [
      "100%|██████████| 750/750 [00:02<00:00, 279.14it/s]\n"
     ]
    },
    {
     "name": "stdout",
     "output_type": "stream",
     "text": [
      "Epoch 3/64, Train Loss: 0.6078, Val Loss: 0.5551, Val Accuracy: 0.8699\n"
     ]
    },
    {
     "name": "stderr",
     "output_type": "stream",
     "text": [
      "100%|██████████| 750/750 [00:02<00:00, 339.36it/s]\n"
     ]
    },
    {
     "name": "stdout",
     "output_type": "stream",
     "text": [
      "Epoch 4/64, Train Loss: 0.5129, Val Loss: 0.4851, Val Accuracy: 0.8792\n"
     ]
    },
    {
     "name": "stderr",
     "output_type": "stream",
     "text": [
      "100%|██████████| 750/750 [00:02<00:00, 281.01it/s]\n"
     ]
    },
    {
     "name": "stdout",
     "output_type": "stream",
     "text": [
      "Epoch 5/64, Train Loss: 0.4575, Val Loss: 0.4412, Val Accuracy: 0.8871\n"
     ]
    },
    {
     "name": "stderr",
     "output_type": "stream",
     "text": [
      "100%|██████████| 750/750 [00:02<00:00, 313.20it/s]\n"
     ]
    },
    {
     "name": "stdout",
     "output_type": "stream",
     "text": [
      "Epoch 6/64, Train Loss: 0.4213, Val Loss: 0.4107, Val Accuracy: 0.8935\n"
     ]
    },
    {
     "name": "stderr",
     "output_type": "stream",
     "text": [
      "100%|██████████| 750/750 [00:02<00:00, 326.86it/s]\n"
     ]
    },
    {
     "name": "stdout",
     "output_type": "stream",
     "text": [
      "Epoch 7/64, Train Loss: 0.3958, Val Loss: 0.3893, Val Accuracy: 0.8978\n"
     ]
    },
    {
     "name": "stderr",
     "output_type": "stream",
     "text": [
      "100%|██████████| 750/750 [00:02<00:00, 292.05it/s]\n"
     ]
    },
    {
     "name": "stdout",
     "output_type": "stream",
     "text": [
      "Epoch 8/64, Train Loss: 0.3771, Val Loss: 0.3729, Val Accuracy: 0.9005\n"
     ]
    },
    {
     "name": "stderr",
     "output_type": "stream",
     "text": [
      "100%|██████████| 750/750 [00:03<00:00, 240.00it/s]\n"
     ]
    },
    {
     "name": "stdout",
     "output_type": "stream",
     "text": [
      "Epoch 9/64, Train Loss: 0.3626, Val Loss: 0.3603, Val Accuracy: 0.9029\n"
     ]
    },
    {
     "name": "stderr",
     "output_type": "stream",
     "text": [
      "100%|██████████| 750/750 [00:02<00:00, 287.55it/s]\n"
     ]
    },
    {
     "name": "stdout",
     "output_type": "stream",
     "text": [
      "Epoch 10/64, Train Loss: 0.3514, Val Loss: 0.3502, Val Accuracy: 0.9051\n"
     ]
    },
    {
     "name": "stderr",
     "output_type": "stream",
     "text": [
      "100%|██████████| 750/750 [00:02<00:00, 295.78it/s]\n"
     ]
    },
    {
     "name": "stdout",
     "output_type": "stream",
     "text": [
      "Epoch 11/64, Train Loss: 0.3422, Val Loss: 0.3420, Val Accuracy: 0.9072\n"
     ]
    },
    {
     "name": "stderr",
     "output_type": "stream",
     "text": [
      "100%|██████████| 750/750 [00:02<00:00, 271.24it/s]\n"
     ]
    },
    {
     "name": "stdout",
     "output_type": "stream",
     "text": [
      "Epoch 12/64, Train Loss: 0.3346, Val Loss: 0.3351, Val Accuracy: 0.9079\n"
     ]
    },
    {
     "name": "stderr",
     "output_type": "stream",
     "text": [
      "100%|██████████| 750/750 [00:02<00:00, 282.37it/s]\n"
     ]
    },
    {
     "name": "stdout",
     "output_type": "stream",
     "text": [
      "Epoch 13/64, Train Loss: 0.3282, Val Loss: 0.3300, Val Accuracy: 0.9091\n"
     ]
    },
    {
     "name": "stderr",
     "output_type": "stream",
     "text": [
      "100%|██████████| 750/750 [00:02<00:00, 312.08it/s]\n"
     ]
    },
    {
     "name": "stdout",
     "output_type": "stream",
     "text": [
      "Epoch 14/64, Train Loss: 0.3227, Val Loss: 0.3248, Val Accuracy: 0.9106\n"
     ]
    },
    {
     "name": "stderr",
     "output_type": "stream",
     "text": [
      "100%|██████████| 750/750 [00:02<00:00, 268.71it/s]\n"
     ]
    },
    {
     "name": "stdout",
     "output_type": "stream",
     "text": [
      "Epoch 15/64, Train Loss: 0.3180, Val Loss: 0.3210, Val Accuracy: 0.9119\n"
     ]
    },
    {
     "name": "stderr",
     "output_type": "stream",
     "text": [
      "100%|██████████| 750/750 [00:02<00:00, 328.43it/s]\n"
     ]
    },
    {
     "name": "stdout",
     "output_type": "stream",
     "text": [
      "Epoch 16/64, Train Loss: 0.3138, Val Loss: 0.3171, Val Accuracy: 0.9127\n",
      "Chosen edges: tensor([[  2,   2,   2,   2,   2,   2,   2,   2,   2,   2,   2,   2,   2,   2,\n",
      "           3,   3,   3,   3,   3,   3,   3,   3,   3,   3,   3,   3,   3,   3,\n",
      "           3,   3,   3,   3,   3,   3,   3,   3,   3,   3,   3,   3,   3,   3,\n",
      "           3,   3,   3,   3,   3,   3,   3,   3,   3,   3,   3,   3,   3,   3,\n",
      "           3,   3,   3,   3,   3,   3,   3,   3,   3,   3,   3,   4,   4,   4,\n",
      "           4,   4,   4,   4,   4,   4,   4,   5,   5,   5,   5,   5,   5,   5,\n",
      "           5,   5,   5,   5,   5,   5,   5,   5,   5,   5,   5,   5,   5,   5,\n",
      "           5,   5,   5,   5,   5,   5,   5,   5,   5,   5,   5,   5,   5,   5,\n",
      "           5,   5,   5,   5,   5,   5,   5,   5,   5,   5,   5,   5,   5,   5,\n",
      "           5,   5,   5,   5,   5,   5,   5,   5,   5,   5,   5,   5,   5,   5,\n",
      "           5,   5,   5,   5,   5,   5,   5,   5,   5,   5,   5,   5,   5,   5,\n",
      "           5,   5,   5,   5,   5,   5,   5,   5,   5,   5,   5,   5,   5,   5,\n",
      "           5,   5,   5,   5,   5,   5,   5,   5,   5,   5,   5,   5,   5,   5,\n",
      "           5,   7,   7,   7,   7,   7,   7,   7,   7,   7,   7,   7,   7,   7,\n",
      "           7,   7,   8,   8,   8,   8,   8,   8,   8,   8,   8,   8,   8,   8,\n",
      "           8,   8,   8,   8,   8,   8,   8,   8,   8,   8,   8,   8,   8,   8,\n",
      "           8,   8,   8,   8,   8,   8,   8,   8,   8,   8,   8,   8,   8,   8,\n",
      "           8,   8,   8,   8,   8,   8,   8,   8,   8,   8,   8,   8,   8,   8,\n",
      "           8,   8,   8,   8,   8,   8,   8,   8,   8,   8,   8,   8,   8,   8,\n",
      "           8,   8,   8,   8,   8,   8,   8,   8,   8,   8,   8,   8,   8,   8,\n",
      "           8,   8,   8,   8,   8,   8,   8,   8,   8,   8,   8,   8,   8,   8,\n",
      "           8,   8,   8,   8,   8,   8,   8,   8,   8,   8,   8,   8,   8,   8,\n",
      "           8,   8,   8,   8,   8,   8,   8,   8,   8,   8,   8,   8,   8,   8,\n",
      "           8,   9,   9,   9,   9,   9,   9,   9,   9,   9,   9,   9,   9,   9,\n",
      "           9,   9,   9,   9,   9,   9,   9,   9,   9,   9,   9,   9,   9,   9,\n",
      "           9,   9,   9,   9,   9,   9,   9,   9,   9,   9,   9,   9,   9,   9,\n",
      "           9,   9,   9,   9,   9,   9,   9,   9,   9,   9,   9,   9,   9,   9,\n",
      "           9,   9,   9,   9,   9,   9,   9,   9,   9,   9,   9,   9,   9,   9,\n",
      "           9,   9,   9,   9,   9,   9,   9,   9,   9],\n",
      "        [379, 406, 407, 433, 434, 435, 461, 462, 463, 489, 490, 516, 517, 600,\n",
      "         156, 181, 182, 183, 184, 185, 207, 208, 209, 210, 211, 212, 213, 214,\n",
      "         235, 236, 237, 240, 241, 242, 268, 350, 351, 352, 353, 354, 377, 378,\n",
      "         379, 380, 381, 404, 405, 406, 407, 408, 409, 410, 548, 575, 576, 599,\n",
      "         600, 601, 602, 603, 604, 626, 627, 628, 629, 630, 631, 380, 381, 407,\n",
      "         408, 409, 434, 435, 436, 462, 463, 154, 155, 156, 157, 180, 181, 182,\n",
      "         183, 184, 185, 186, 207, 208, 209, 210, 211, 212, 213, 235, 236, 237,\n",
      "         238, 239, 240, 263, 264, 265, 266, 267, 268, 290, 291, 292, 293, 294,\n",
      "         295, 318, 319, 320, 321, 322, 323, 346, 347, 348, 349, 350, 351, 374,\n",
      "         375, 376, 377, 378, 379, 380, 402, 403, 404, 405, 406, 407, 408, 409,\n",
      "         430, 431, 432, 433, 437, 438, 464, 465, 466, 494, 521, 522, 548, 549,\n",
      "         550, 575, 576, 577, 578, 597, 598, 599, 600, 601, 602, 603, 604, 605,\n",
      "         606, 625, 626, 627, 628, 629, 630, 631, 632, 633, 655, 656, 657, 658,\n",
      "         659, 210, 211, 212, 238, 239, 240, 241, 269, 352, 380, 381, 408, 435,\n",
      "         436, 463, 154, 155, 156, 157, 180, 181, 182, 183, 184, 185, 186, 207,\n",
      "         208, 209, 210, 211, 212, 213, 214, 215, 234, 235, 236, 237, 238, 239,\n",
      "         240, 241, 242, 262, 263, 264, 265, 266, 269, 270, 271, 290, 296, 297,\n",
      "         298, 299, 321, 322, 323, 324, 325, 326, 348, 349, 350, 351, 352, 353,\n",
      "         354, 374, 375, 376, 377, 378, 379, 380, 381, 402, 403, 404, 405, 406,\n",
      "         407, 408, 409, 430, 431, 432, 433, 434, 435, 436, 458, 459, 460, 461,\n",
      "         462, 463, 464, 486, 487, 488, 489, 490, 491, 515, 516, 517, 518, 519,\n",
      "         543, 544, 545, 573, 574, 575, 598, 599, 600, 601, 602, 603, 604, 605,\n",
      "         625, 626, 627, 628, 629, 630, 631, 632, 633, 654, 655, 656, 657, 658,\n",
      "         659, 183, 208, 209, 210, 211, 212, 213, 214, 235, 236, 237, 238, 239,\n",
      "         240, 241, 242, 262, 263, 264, 265, 268, 269, 270, 289, 290, 291, 297,\n",
      "         298, 299, 317, 318, 319, 324, 325, 326, 327, 345, 346, 352, 353, 354,\n",
      "         355, 374, 379, 380, 381, 382, 402, 403, 406, 407, 408, 409, 410, 429,\n",
      "         431, 434, 435, 436, 437, 462, 463, 464, 465, 490, 491, 492, 493, 518,\n",
      "         519, 520, 546, 547, 548, 574, 575, 576, 603]]) 401\n",
      "401\n"
     ]
    },
    {
     "name": "stderr",
     "output_type": "stream",
     "text": [
      "100%|██████████| 750/750 [00:09<00:00, 80.23it/s]\n"
     ]
    },
    {
     "name": "stdout",
     "output_type": "stream",
     "text": [
      "Epoch 17/64, Train Loss: 0.3041, Val Loss: 0.2996, Val Accuracy: 0.9163\n"
     ]
    },
    {
     "name": "stderr",
     "output_type": "stream",
     "text": [
      "100%|██████████| 750/750 [00:09<00:00, 78.16it/s]\n"
     ]
    },
    {
     "name": "stdout",
     "output_type": "stream",
     "text": [
      "Epoch 18/64, Train Loss: 0.2858, Val Loss: 0.2838, Val Accuracy: 0.9212\n"
     ]
    },
    {
     "name": "stderr",
     "output_type": "stream",
     "text": [
      "100%|██████████| 750/750 [00:08<00:00, 90.91it/s]\n"
     ]
    },
    {
     "name": "stdout",
     "output_type": "stream",
     "text": [
      "Epoch 19/64, Train Loss: 0.2681, Val Loss: 0.2662, Val Accuracy: 0.9275\n"
     ]
    },
    {
     "name": "stderr",
     "output_type": "stream",
     "text": [
      "100%|██████████| 750/750 [00:09<00:00, 83.10it/s]\n"
     ]
    },
    {
     "name": "stdout",
     "output_type": "stream",
     "text": [
      "Epoch 20/64, Train Loss: 0.2508, Val Loss: 0.2501, Val Accuracy: 0.9312\n",
      "torch.Size([66566]) torch.Size([11449])\n",
      "combined_metrics torch.Size([78015])\n",
      "mask torch.Size([78015])\n",
      "tensor(58149)\n",
      "num_emb_edges 66566\n",
      "tensor(19646) tensor(19)\n",
      "Chosen edges to del emb: tensor([[  0,   0,   0,  ..., 400, 400, 400],\n",
      "        [154, 180, 185,  ..., 631, 658, 659]], dtype=torch.int32) 19646\n",
      "Chosen edges to del exp: tensor([[   8,    9,    9,    9,    9,    9,    9,    9,    8,    8,    3,    3,\n",
      "            9,    9,    9,    9,    9,    5,    7],\n",
      "        [ 786,  834,  858,  860,  922,  923,  928,  930,  967,  968,  989,  990,\n",
      "         1007, 1051, 1057, 1058, 1066, 1097, 1127]]) 19\n"
     ]
    },
    {
     "name": "stderr",
     "output_type": "stream",
     "text": [
      "100%|██████████| 750/750 [00:07<00:00, 104.56it/s]\n"
     ]
    },
    {
     "name": "stdout",
     "output_type": "stream",
     "text": [
      "Epoch 21/64, Train Loss: 0.2817, Val Loss: 0.2682, Val Accuracy: 0.9273\n"
     ]
    },
    {
     "name": "stderr",
     "output_type": "stream",
     "text": [
      "100%|██████████| 750/750 [00:07<00:00, 104.59it/s]\n"
     ]
    },
    {
     "name": "stdout",
     "output_type": "stream",
     "text": [
      "Epoch 22/64, Train Loss: 0.2476, Val Loss: 0.2488, Val Accuracy: 0.9311\n"
     ]
    },
    {
     "name": "stderr",
     "output_type": "stream",
     "text": [
      "100%|██████████| 750/750 [00:07<00:00, 104.86it/s]\n"
     ]
    },
    {
     "name": "stdout",
     "output_type": "stream",
     "text": [
      "Epoch 23/64, Train Loss: 0.2286, Val Loss: 0.2322, Val Accuracy: 0.9353\n"
     ]
    },
    {
     "name": "stderr",
     "output_type": "stream",
     "text": [
      "100%|██████████| 750/750 [00:07<00:00, 102.43it/s]\n"
     ]
    },
    {
     "name": "stdout",
     "output_type": "stream",
     "text": [
      "Epoch 24/64, Train Loss: 0.2125, Val Loss: 0.2189, Val Accuracy: 0.9389\n"
     ]
    },
    {
     "name": "stderr",
     "output_type": "stream",
     "text": [
      "100%|██████████| 750/750 [00:07<00:00, 106.88it/s]\n"
     ]
    },
    {
     "name": "stdout",
     "output_type": "stream",
     "text": [
      "Epoch 25/64, Train Loss: 0.1987, Val Loss: 0.2069, Val Accuracy: 0.9427\n"
     ]
    },
    {
     "name": "stderr",
     "output_type": "stream",
     "text": [
      "100%|██████████| 750/750 [00:07<00:00, 105.85it/s]\n"
     ]
    },
    {
     "name": "stdout",
     "output_type": "stream",
     "text": [
      "Epoch 26/64, Train Loss: 0.1864, Val Loss: 0.1967, Val Accuracy: 0.9443\n"
     ]
    },
    {
     "name": "stderr",
     "output_type": "stream",
     "text": [
      "100%|██████████| 750/750 [00:07<00:00, 101.84it/s]\n"
     ]
    },
    {
     "name": "stdout",
     "output_type": "stream",
     "text": [
      "Epoch 27/64, Train Loss: 0.1756, Val Loss: 0.1878, Val Accuracy: 0.9472\n"
     ]
    },
    {
     "name": "stderr",
     "output_type": "stream",
     "text": [
      "100%|██████████| 750/750 [00:06<00:00, 111.60it/s]\n"
     ]
    },
    {
     "name": "stdout",
     "output_type": "stream",
     "text": [
      "Epoch 28/64, Train Loss: 0.1660, Val Loss: 0.1784, Val Accuracy: 0.9489\n"
     ]
    },
    {
     "name": "stderr",
     "output_type": "stream",
     "text": [
      "100%|██████████| 750/750 [00:07<00:00, 103.75it/s]\n"
     ]
    },
    {
     "name": "stdout",
     "output_type": "stream",
     "text": [
      "Epoch 29/64, Train Loss: 0.1571, Val Loss: 0.1709, Val Accuracy: 0.9514\n"
     ]
    },
    {
     "name": "stderr",
     "output_type": "stream",
     "text": [
      "100%|██████████| 750/750 [00:07<00:00, 105.04it/s]\n"
     ]
    },
    {
     "name": "stdout",
     "output_type": "stream",
     "text": [
      "Epoch 30/64, Train Loss: 0.1493, Val Loss: 0.1647, Val Accuracy: 0.9518\n"
     ]
    },
    {
     "name": "stderr",
     "output_type": "stream",
     "text": [
      "100%|██████████| 750/750 [00:07<00:00, 101.15it/s]\n"
     ]
    },
    {
     "name": "stdout",
     "output_type": "stream",
     "text": [
      "Epoch 31/64, Train Loss: 0.1421, Val Loss: 0.1588, Val Accuracy: 0.9537\n"
     ]
    },
    {
     "name": "stderr",
     "output_type": "stream",
     "text": [
      "100%|██████████| 750/750 [00:06<00:00, 109.24it/s]\n"
     ]
    },
    {
     "name": "stdout",
     "output_type": "stream",
     "text": [
      "Epoch 32/64, Train Loss: 0.1356, Val Loss: 0.1532, Val Accuracy: 0.9556\n"
     ]
    },
    {
     "name": "stderr",
     "output_type": "stream",
     "text": [
      "100%|██████████| 750/750 [00:06<00:00, 108.80it/s]\n"
     ]
    },
    {
     "name": "stdout",
     "output_type": "stream",
     "text": [
      "Epoch 33/64, Train Loss: 0.1299, Val Loss: 0.1477, Val Accuracy: 0.9568\n"
     ]
    },
    {
     "name": "stderr",
     "output_type": "stream",
     "text": [
      "100%|██████████| 750/750 [00:07<00:00, 93.87it/s] \n"
     ]
    },
    {
     "name": "stdout",
     "output_type": "stream",
     "text": [
      "Epoch 34/64, Train Loss: 0.1243, Val Loss: 0.1443, Val Accuracy: 0.9575\n"
     ]
    },
    {
     "name": "stderr",
     "output_type": "stream",
     "text": [
      "100%|██████████| 750/750 [00:08<00:00, 89.90it/s] \n"
     ]
    },
    {
     "name": "stdout",
     "output_type": "stream",
     "text": [
      "Epoch 35/64, Train Loss: 0.1193, Val Loss: 0.1398, Val Accuracy: 0.9600\n",
      "Chosen edges: tensor([[   3,    2,    3,    8,    9,    3,    3,    2,    3,    5,    8,    9,\n",
      "            3,    5,    8,    9],\n",
      "        [ 847,  876,  876,  876,  876,  946,  954,  995,  995,  995,  995,  995,\n",
      "         1043, 1043, 1043, 1043]]) 16\n",
      "16\n"
     ]
    },
    {
     "name": "stderr",
     "output_type": "stream",
     "text": [
      "100%|██████████| 750/750 [00:07<00:00, 94.46it/s] \n"
     ]
    },
    {
     "name": "stdout",
     "output_type": "stream",
     "text": [
      "Epoch 36/64, Train Loss: 0.1149, Val Loss: 0.1357, Val Accuracy: 0.9600\n"
     ]
    },
    {
     "name": "stderr",
     "output_type": "stream",
     "text": [
      "100%|██████████| 750/750 [00:08<00:00, 90.16it/s] \n"
     ]
    },
    {
     "name": "stdout",
     "output_type": "stream",
     "text": [
      "Epoch 37/64, Train Loss: 0.1106, Val Loss: 0.1327, Val Accuracy: 0.9613\n"
     ]
    }
   ],
   "source": [
    "train_sparse_recursive(sparse_model, train_loader, val_loader, val_loader, hyperparams)"
   ]
  },
  {
   "cell_type": "code",
   "execution_count": null,
   "id": "0247c3d2",
   "metadata": {},
   "outputs": [],
   "source": []
  }
 ],
 "metadata": {
  "kernelspec": {
   "display_name": "self-expanding-nets",
   "language": "python",
   "name": "python3"
  },
  "language_info": {
   "codemirror_mode": {
    "name": "ipython",
    "version": 3
   },
   "file_extension": ".py",
   "mimetype": "text/x-python",
   "name": "python",
   "nbconvert_exporter": "python",
   "pygments_lexer": "ipython3",
   "version": "3.12.7"
  }
 },
 "nbformat": 4,
 "nbformat_minor": 5
}
