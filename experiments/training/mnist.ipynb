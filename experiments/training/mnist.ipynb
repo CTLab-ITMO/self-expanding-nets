{
 "cells": [
  {
   "cell_type": "code",
   "execution_count": 1,
   "id": "932f4bdded4b6539",
   "metadata": {
    "ExecuteTime": {
     "end_time": "2025-01-21T14:31:25.334745Z",
     "start_time": "2025-01-21T14:31:20.096324Z"
    }
   },
   "outputs": [],
   "source": [
    "\n",
    "from copy import deepcopy\n",
    "\n",
    "import torch.optim as optim\n",
    "from sklearn.metrics import accuracy_score\n",
    "from torch.utils.data import DataLoader, random_split\n",
    "from torchvision import datasets, transforms\n",
    "from tqdm import tqdm\n",
    "import time"
   ]
  },
  {
   "cell_type": "code",
   "execution_count": 2,
   "id": "a089a23845b1066b",
   "metadata": {
    "ExecuteTime": {
     "end_time": "2025-01-21T14:31:25.350457Z",
     "start_time": "2025-01-21T14:31:25.338930Z"
    }
   },
   "outputs": [],
   "source": [
    "from senmodel.model.utils import *\n",
    "from senmodel.metrics.nonlinearity_metrics import *\n",
    "from senmodel.metrics.edge_finder import *\n",
    "from senmodel.metrics.train_metrics import *\n",
    "from senmodel.train.train import *"
   ]
  },
  {
   "cell_type": "code",
   "execution_count": 3,
   "id": "888ee10c0aa4d1f9",
   "metadata": {
    "ExecuteTime": {
     "end_time": "2025-01-21T14:31:25.520919Z",
     "start_time": "2025-01-21T14:31:25.513942Z"
    }
   },
   "outputs": [],
   "source": [
    "torch.manual_seed(0)\n",
    "device = torch.device(\"cuda:0\" if torch.cuda.is_available() else \"cpu\")"
   ]
  },
  {
   "cell_type": "code",
   "execution_count": 4,
   "id": "1aff98b408abbf8d",
   "metadata": {
    "ExecuteTime": {
     "end_time": "2025-01-21T14:31:25.547124Z",
     "start_time": "2025-01-21T14:31:25.543666Z"
    }
   },
   "outputs": [],
   "source": [
    "class SimpleFCN(nn.Module):\n",
    "    def __init__(self, input_size=28 * 28, hidden_size=16):\n",
    "        super(SimpleFCN, self).__init__()\n",
    "        self.fc0 = nn.Linear(input_size, 10)\n",
    "        # self.fc1 = nn.Linear(hidden_size, 10)\n",
    "        self.act = nn.ReLU()\n",
    "\n",
    "    def forward(self, x):\n",
    "        x = self.fc0(x)\n",
    "        return x"
   ]
  },
  {
   "cell_type": "code",
   "execution_count": 5,
   "id": "90353a5a49cd1022",
   "metadata": {
    "ExecuteTime": {
     "end_time": "2025-01-21T14:31:25.590348Z",
     "start_time": "2025-01-21T14:31:25.554956Z"
    }
   },
   "outputs": [],
   "source": [
    "# Dataset and Dataloader\n",
    "transform = transforms.Compose([\n",
    "    transforms.ToTensor(),\n",
    "    transforms.Lambda(lambda x: x.view(-1))\n",
    "])\n",
    "\n",
    "# Load dataset and split into train/validation sets\n",
    "dataset = datasets.MNIST(root='./data', train=True, download=True, transform=transform)\n",
    "train_size = int(0.8 * len(dataset))\n",
    "val_size = len(dataset) - train_size\n",
    "train_dataset, val_dataset = random_split(dataset, [train_size, val_size])\n",
    "\n",
    "train_loader = DataLoader(train_dataset, batch_size=64, shuffle=True)\n",
    "val_loader = DataLoader(val_dataset, batch_size=64, shuffle=False)"
   ]
  },
  {
   "cell_type": "code",
   "execution_count": 6,
   "id": "dcb8129e6befdf70",
   "metadata": {
    "ExecuteTime": {
     "end_time": "2025-01-21T14:31:26.821483Z",
     "start_time": "2025-01-21T14:31:26.807650Z"
    }
   },
   "outputs": [],
   "source": [
    "model = SimpleFCN()\n",
    "sparse_model = convert_dense_to_sparse_network(model, layers=[model.fc0])"
   ]
  },
  {
   "cell_type": "code",
   "execution_count": 7,
   "id": "c33ccfaf",
   "metadata": {},
   "outputs": [
    {
     "data": {
      "text/plain": [
       "\"num_epochs: 64, metric: AbsGradientEdgeMetric, aggregation_mode: mean, choose_thresholds: {'fc0': 0.7}, replace_layers: ['fc0'], threshold: 0.005, min_delta_epoch_replace: 8, window_size: 5, lr: 0.0001, delete_after: 2\""
      ]
     },
     "execution_count": 7,
     "metadata": {},
     "output_type": "execute_result"
    }
   ],
   "source": [
    "hyperparams = {\n",
    "    \"num_epochs\": 64,\n",
    "    \"metric\": AbsGradientEdgeMetric(nn.CrossEntropyLoss()),\n",
    "    \"aggregation_mode\": \"mean\",\n",
    "    \"choose_thresholds\": {\"fc0\": 0.7},\n",
    "    \"replace_layers\": [\"fc0\"],\n",
    "    \"threshold\": 0.005,\n",
    "    \"min_delta_epoch_replace\": 8,\n",
    "    \"window_size\": 5,\n",
    "    \"lr\": 1e-4,\n",
    "    \"delete_after\": 2,\n",
    "}\n",
    "\n",
    "name = \", \".join(\n",
    "    f\"{key}: {value.__class__.__name__ if key == 'metric' else value}\"\n",
    "    for key, value in hyperparams.items()\n",
    ")\n",
    "\n",
    "name"
   ]
  },
  {
   "cell_type": "code",
   "execution_count": 8,
   "id": "77e8399a",
   "metadata": {
    "ExecuteTime": {
     "end_time": "2025-01-21T14:31:30.645772Z",
     "start_time": "2025-01-21T14:31:27.560914Z"
    }
   },
   "outputs": [
    {
     "name": "stderr",
     "output_type": "stream",
     "text": [
      "\u001b[34m\u001b[1mwandb\u001b[0m: Using wandb-core as the SDK backend.  Please refer to https://wandb.me/wandb-core for more information.\n",
      "\u001b[34m\u001b[1mwandb\u001b[0m: Currently logged in as: \u001b[33mvanyamironov\u001b[0m to \u001b[32mhttps://api.wandb.ai\u001b[0m. Use \u001b[1m`wandb login --relogin`\u001b[0m to force relogin\n"
     ]
    },
    {
     "data": {
      "text/plain": [
       "True"
      ]
     },
     "execution_count": 8,
     "metadata": {},
     "output_type": "execute_result"
    }
   ],
   "source": [
    "import wandb\n",
    "\n",
    "wandb.login()"
   ]
  },
  {
   "cell_type": "code",
   "execution_count": 9,
   "id": "6a4cee60",
   "metadata": {},
   "outputs": [
    {
     "data": {
      "text/html": [
       "Tracking run with wandb version 0.19.8"
      ],
      "text/plain": [
       "<IPython.core.display.HTML object>"
      ]
     },
     "metadata": {},
     "output_type": "display_data"
    },
    {
     "data": {
      "text/html": [
       "Run data is saved locally in <code>/Users/ivanmironov/Projects/self-expanding-nets/experiments/training/wandb/run-20250331_210918-qxkbu5zk</code>"
      ],
      "text/plain": [
       "<IPython.core.display.HTML object>"
      ]
     },
     "metadata": {},
     "output_type": "display_data"
    },
    {
     "data": {
      "text/html": [
       "Syncing run <strong><a href='https://wandb.ai/vanyamironov/self-expanding-nets/runs/qxkbu5zk' target=\"_blank\">trash</a></strong> to <a href='https://wandb.ai/vanyamironov/self-expanding-nets' target=\"_blank\">Weights & Biases</a> (<a href='https://wandb.me/developer-guide' target=\"_blank\">docs</a>)<br>"
      ],
      "text/plain": [
       "<IPython.core.display.HTML object>"
      ]
     },
     "metadata": {},
     "output_type": "display_data"
    },
    {
     "data": {
      "text/html": [
       " View project at <a href='https://wandb.ai/vanyamironov/self-expanding-nets' target=\"_blank\">https://wandb.ai/vanyamironov/self-expanding-nets</a>"
      ],
      "text/plain": [
       "<IPython.core.display.HTML object>"
      ]
     },
     "metadata": {},
     "output_type": "display_data"
    },
    {
     "data": {
      "text/html": [
       " View run at <a href='https://wandb.ai/vanyamironov/self-expanding-nets/runs/qxkbu5zk' target=\"_blank\">https://wandb.ai/vanyamironov/self-expanding-nets/runs/qxkbu5zk</a>"
      ],
      "text/plain": [
       "<IPython.core.display.HTML object>"
      ]
     },
     "metadata": {},
     "output_type": "display_data"
    }
   ],
   "source": [
    "run = wandb.init(\n",
    "    project=\"self-expanding-nets\",\n",
    "    name=f\"trash\",\n",
    "    config=hyperparams\n",
    ")"
   ]
  },
  {
   "cell_type": "code",
   "execution_count": 10,
   "id": "3b3534e4",
   "metadata": {},
   "outputs": [
    {
     "name": "stderr",
     "output_type": "stream",
     "text": [
      "100%|██████████| 750/750 [00:02<00:00, 303.28it/s]\n"
     ]
    },
    {
     "name": "stdout",
     "output_type": "stream",
     "text": [
      "Epoch 1/64, Train Loss: 1.4805, Val Loss: 0.9977, Val Accuracy: 0.8192\n"
     ]
    },
    {
     "name": "stderr",
     "output_type": "stream",
     "text": [
      "100%|██████████| 750/750 [00:02<00:00, 333.48it/s]\n"
     ]
    },
    {
     "name": "stdout",
     "output_type": "stream",
     "text": [
      "Epoch 2/64, Train Loss: 0.8088, Val Loss: 0.6843, Val Accuracy: 0.8528\n"
     ]
    },
    {
     "name": "stderr",
     "output_type": "stream",
     "text": [
      "100%|██████████| 750/750 [00:02<00:00, 299.07it/s]\n"
     ]
    },
    {
     "name": "stdout",
     "output_type": "stream",
     "text": [
      "Epoch 3/64, Train Loss: 0.6078, Val Loss: 0.5551, Val Accuracy: 0.8699\n"
     ]
    },
    {
     "name": "stderr",
     "output_type": "stream",
     "text": [
      "100%|██████████| 750/750 [00:02<00:00, 263.68it/s]\n"
     ]
    },
    {
     "name": "stdout",
     "output_type": "stream",
     "text": [
      "Epoch 4/64, Train Loss: 0.5129, Val Loss: 0.4851, Val Accuracy: 0.8792\n"
     ]
    },
    {
     "name": "stderr",
     "output_type": "stream",
     "text": [
      "100%|██████████| 750/750 [00:02<00:00, 345.84it/s]\n"
     ]
    },
    {
     "name": "stdout",
     "output_type": "stream",
     "text": [
      "Epoch 5/64, Train Loss: 0.4575, Val Loss: 0.4412, Val Accuracy: 0.8871\n"
     ]
    },
    {
     "name": "stderr",
     "output_type": "stream",
     "text": [
      "100%|██████████| 750/750 [00:02<00:00, 355.67it/s]\n"
     ]
    },
    {
     "name": "stdout",
     "output_type": "stream",
     "text": [
      "Epoch 6/64, Train Loss: 0.4213, Val Loss: 0.4107, Val Accuracy: 0.8935\n"
     ]
    },
    {
     "name": "stderr",
     "output_type": "stream",
     "text": [
      "100%|██████████| 750/750 [00:02<00:00, 328.64it/s]\n"
     ]
    },
    {
     "name": "stdout",
     "output_type": "stream",
     "text": [
      "Epoch 7/64, Train Loss: 0.3958, Val Loss: 0.3893, Val Accuracy: 0.8978\n"
     ]
    },
    {
     "name": "stderr",
     "output_type": "stream",
     "text": [
      "100%|██████████| 750/750 [00:02<00:00, 327.99it/s]\n"
     ]
    },
    {
     "name": "stdout",
     "output_type": "stream",
     "text": [
      "Epoch 8/64, Train Loss: 0.3771, Val Loss: 0.3729, Val Accuracy: 0.9005\n"
     ]
    },
    {
     "name": "stderr",
     "output_type": "stream",
     "text": [
      "100%|██████████| 750/750 [00:02<00:00, 362.06it/s]\n"
     ]
    },
    {
     "name": "stdout",
     "output_type": "stream",
     "text": [
      "Epoch 9/64, Train Loss: 0.3626, Val Loss: 0.3603, Val Accuracy: 0.9029\n"
     ]
    },
    {
     "name": "stderr",
     "output_type": "stream",
     "text": [
      "100%|██████████| 750/750 [00:02<00:00, 299.04it/s]\n"
     ]
    },
    {
     "name": "stdout",
     "output_type": "stream",
     "text": [
      "Epoch 10/64, Train Loss: 0.3514, Val Loss: 0.3502, Val Accuracy: 0.9051\n"
     ]
    },
    {
     "name": "stderr",
     "output_type": "stream",
     "text": [
      "100%|██████████| 750/750 [00:02<00:00, 283.96it/s]\n"
     ]
    },
    {
     "name": "stdout",
     "output_type": "stream",
     "text": [
      "Epoch 11/64, Train Loss: 0.3422, Val Loss: 0.3420, Val Accuracy: 0.9072\n"
     ]
    },
    {
     "name": "stderr",
     "output_type": "stream",
     "text": [
      "100%|██████████| 750/750 [00:02<00:00, 336.20it/s]\n"
     ]
    },
    {
     "name": "stdout",
     "output_type": "stream",
     "text": [
      "Epoch 12/64, Train Loss: 0.3346, Val Loss: 0.3351, Val Accuracy: 0.9079\n"
     ]
    },
    {
     "name": "stderr",
     "output_type": "stream",
     "text": [
      "100%|██████████| 750/750 [00:02<00:00, 336.47it/s]\n"
     ]
    },
    {
     "name": "stdout",
     "output_type": "stream",
     "text": [
      "Epoch 13/64, Train Loss: 0.3282, Val Loss: 0.3300, Val Accuracy: 0.9091\n"
     ]
    },
    {
     "name": "stderr",
     "output_type": "stream",
     "text": [
      "100%|██████████| 750/750 [00:02<00:00, 353.28it/s]\n"
     ]
    },
    {
     "name": "stdout",
     "output_type": "stream",
     "text": [
      "Epoch 14/64, Train Loss: 0.3227, Val Loss: 0.3248, Val Accuracy: 0.9106\n"
     ]
    },
    {
     "name": "stderr",
     "output_type": "stream",
     "text": [
      "100%|██████████| 750/750 [00:02<00:00, 262.51it/s]\n"
     ]
    },
    {
     "name": "stdout",
     "output_type": "stream",
     "text": [
      "Epoch 15/64, Train Loss: 0.3180, Val Loss: 0.3210, Val Accuracy: 0.9119\n"
     ]
    },
    {
     "name": "stderr",
     "output_type": "stream",
     "text": [
      "100%|██████████| 750/750 [00:02<00:00, 357.09it/s]\n"
     ]
    },
    {
     "name": "stdout",
     "output_type": "stream",
     "text": [
      "Epoch 16/64, Train Loss: 0.3138, Val Loss: 0.3171, Val Accuracy: 0.9127\n",
      "Chosen edges: tensor([[  2,   2,   2,   2,   2,   2,   2,   2,   2,   2,   2,   2,   2,   2,\n",
      "           3,   3,   3,   3,   3,   3,   3,   3,   3,   3,   3,   3,   3,   3,\n",
      "           3,   3,   3,   3,   3,   3,   3,   3,   3,   3,   3,   3,   3,   3,\n",
      "           3,   3,   3,   3,   3,   3,   3,   3,   3,   3,   3,   3,   3,   3,\n",
      "           3,   3,   3,   3,   3,   3,   3,   3,   3,   3,   3,   4,   4,   4,\n",
      "           4,   4,   4,   4,   4,   4,   4,   5,   5,   5,   5,   5,   5,   5,\n",
      "           5,   5,   5,   5,   5,   5,   5,   5,   5,   5,   5,   5,   5,   5,\n",
      "           5,   5,   5,   5,   5,   5,   5,   5,   5,   5,   5,   5,   5,   5,\n",
      "           5,   5,   5,   5,   5,   5,   5,   5,   5,   5,   5,   5,   5,   5,\n",
      "           5,   5,   5,   5,   5,   5,   5,   5,   5,   5,   5,   5,   5,   5,\n",
      "           5,   5,   5,   5,   5,   5,   5,   5,   5,   5,   5,   5,   5,   5,\n",
      "           5,   5,   5,   5,   5,   5,   5,   5,   5,   5,   5,   5,   5,   5,\n",
      "           5,   5,   5,   5,   5,   5,   5,   5,   5,   5,   5,   5,   5,   5,\n",
      "           5,   7,   7,   7,   7,   7,   7,   7,   7,   7,   7,   7,   7,   7,\n",
      "           7,   7,   8,   8,   8,   8,   8,   8,   8,   8,   8,   8,   8,   8,\n",
      "           8,   8,   8,   8,   8,   8,   8,   8,   8,   8,   8,   8,   8,   8,\n",
      "           8,   8,   8,   8,   8,   8,   8,   8,   8,   8,   8,   8,   8,   8,\n",
      "           8,   8,   8,   8,   8,   8,   8,   8,   8,   8,   8,   8,   8,   8,\n",
      "           8,   8,   8,   8,   8,   8,   8,   8,   8,   8,   8,   8,   8,   8,\n",
      "           8,   8,   8,   8,   8,   8,   8,   8,   8,   8,   8,   8,   8,   8,\n",
      "           8,   8,   8,   8,   8,   8,   8,   8,   8,   8,   8,   8,   8,   8,\n",
      "           8,   8,   8,   8,   8,   8,   8,   8,   8,   8,   8,   8,   8,   8,\n",
      "           8,   8,   8,   8,   8,   8,   8,   8,   8,   8,   8,   8,   8,   8,\n",
      "           8,   9,   9,   9,   9,   9,   9,   9,   9,   9,   9,   9,   9,   9,\n",
      "           9,   9,   9,   9,   9,   9,   9,   9,   9,   9,   9,   9,   9,   9,\n",
      "           9,   9,   9,   9,   9,   9,   9,   9,   9,   9,   9,   9,   9,   9,\n",
      "           9,   9,   9,   9,   9,   9,   9,   9,   9,   9,   9,   9,   9,   9,\n",
      "           9,   9,   9,   9,   9,   9,   9,   9,   9,   9,   9,   9,   9,   9,\n",
      "           9,   9,   9,   9,   9,   9,   9,   9,   9],\n",
      "        [379, 406, 407, 433, 434, 435, 461, 462, 463, 489, 490, 516, 517, 600,\n",
      "         156, 181, 182, 183, 184, 185, 207, 208, 209, 210, 211, 212, 213, 214,\n",
      "         235, 236, 237, 240, 241, 242, 268, 350, 351, 352, 353, 354, 377, 378,\n",
      "         379, 380, 381, 404, 405, 406, 407, 408, 409, 410, 548, 575, 576, 599,\n",
      "         600, 601, 602, 603, 604, 626, 627, 628, 629, 630, 631, 380, 381, 407,\n",
      "         408, 409, 434, 435, 436, 462, 463, 154, 155, 156, 157, 180, 181, 182,\n",
      "         183, 184, 185, 186, 207, 208, 209, 210, 211, 212, 213, 235, 236, 237,\n",
      "         238, 239, 240, 263, 264, 265, 266, 267, 268, 290, 291, 292, 293, 294,\n",
      "         295, 318, 319, 320, 321, 322, 323, 346, 347, 348, 349, 350, 351, 374,\n",
      "         375, 376, 377, 378, 379, 380, 402, 403, 404, 405, 406, 407, 408, 409,\n",
      "         430, 431, 432, 433, 437, 438, 464, 465, 466, 494, 521, 522, 548, 549,\n",
      "         550, 575, 576, 577, 578, 597, 598, 599, 600, 601, 602, 603, 604, 605,\n",
      "         606, 625, 626, 627, 628, 629, 630, 631, 632, 633, 655, 656, 657, 658,\n",
      "         659, 210, 211, 212, 238, 239, 240, 241, 269, 352, 380, 381, 408, 435,\n",
      "         436, 463, 154, 155, 156, 157, 180, 181, 182, 183, 184, 185, 186, 207,\n",
      "         208, 209, 210, 211, 212, 213, 214, 215, 234, 235, 236, 237, 238, 239,\n",
      "         240, 241, 242, 262, 263, 264, 265, 266, 269, 270, 271, 290, 296, 297,\n",
      "         298, 299, 321, 322, 323, 324, 325, 326, 348, 349, 350, 351, 352, 353,\n",
      "         354, 374, 375, 376, 377, 378, 379, 380, 381, 402, 403, 404, 405, 406,\n",
      "         407, 408, 409, 430, 431, 432, 433, 434, 435, 436, 458, 459, 460, 461,\n",
      "         462, 463, 464, 486, 487, 488, 489, 490, 491, 515, 516, 517, 518, 519,\n",
      "         543, 544, 545, 573, 574, 575, 598, 599, 600, 601, 602, 603, 604, 605,\n",
      "         625, 626, 627, 628, 629, 630, 631, 632, 633, 654, 655, 656, 657, 658,\n",
      "         659, 183, 208, 209, 210, 211, 212, 213, 214, 235, 236, 237, 238, 239,\n",
      "         240, 241, 242, 262, 263, 264, 265, 268, 269, 270, 289, 290, 291, 297,\n",
      "         298, 299, 317, 318, 319, 324, 325, 326, 327, 345, 346, 352, 353, 354,\n",
      "         355, 374, 379, 380, 381, 382, 402, 403, 406, 407, 408, 409, 410, 429,\n",
      "         431, 434, 435, 436, 437, 462, 463, 464, 465, 490, 491, 492, 493, 518,\n",
      "         519, 520, 546, 547, 548, 574, 575, 576, 603]]) 401\n",
      "401\n"
     ]
    },
    {
     "name": "stderr",
     "output_type": "stream",
     "text": [
      "100%|██████████| 750/750 [00:08<00:00, 91.85it/s]\n"
     ]
    },
    {
     "name": "stdout",
     "output_type": "stream",
     "text": [
      "Epoch 17/64, Train Loss: 0.3041, Val Loss: 0.2996, Val Accuracy: 0.9163\n"
     ]
    },
    {
     "name": "stderr",
     "output_type": "stream",
     "text": [
      "100%|██████████| 750/750 [00:08<00:00, 86.96it/s]\n"
     ]
    },
    {
     "name": "stdout",
     "output_type": "stream",
     "text": [
      "Epoch 18/64, Train Loss: 0.2858, Val Loss: 0.2838, Val Accuracy: 0.9212\n",
      "torch.Size([66566]) torch.Size([11449])\n",
      "combined_metrics torch.Size([78015])\n",
      "mask torch.Size([78015])\n",
      "tensor(61213)\n",
      "num_emb_edges 66566\n",
      "tensor(16652) tensor(2)\n",
      "Chosen edges to del emb: tensor([[  0,   0,   0,  ..., 400, 400, 400],\n",
      "        [155, 156, 157,  ..., 631, 658, 659]], dtype=torch.int32) 16652\n",
      "Chosen edges to del exp: tensor([[  9,   9],\n",
      "        [858, 922]]) 2\n",
      "2 11449 tensor(11447)\n"
     ]
    },
    {
     "name": "stderr",
     "output_type": "stream",
     "text": [
      "100%|██████████| 750/750 [00:08<00:00, 93.21it/s] \n"
     ]
    },
    {
     "name": "stdout",
     "output_type": "stream",
     "text": [
      "Epoch 19/64, Train Loss: 0.3036, Val Loss: 0.2882, Val Accuracy: 0.9216\n"
     ]
    },
    {
     "name": "stderr",
     "output_type": "stream",
     "text": [
      "100%|██████████| 750/750 [00:08<00:00, 88.84it/s] \n"
     ]
    },
    {
     "name": "stdout",
     "output_type": "stream",
     "text": [
      "Epoch 20/64, Train Loss: 0.2704, Val Loss: 0.2678, Val Accuracy: 0.9264\n"
     ]
    },
    {
     "name": "stderr",
     "output_type": "stream",
     "text": [
      "100%|██████████| 750/750 [00:07<00:00, 102.39it/s]\n"
     ]
    },
    {
     "name": "stdout",
     "output_type": "stream",
     "text": [
      "Epoch 21/64, Train Loss: 0.2512, Val Loss: 0.2511, Val Accuracy: 0.9316\n"
     ]
    },
    {
     "name": "stderr",
     "output_type": "stream",
     "text": [
      "100%|██████████| 750/750 [00:07<00:00, 106.22it/s]\n"
     ]
    },
    {
     "name": "stdout",
     "output_type": "stream",
     "text": [
      "Epoch 22/64, Train Loss: 0.2349, Val Loss: 0.2380, Val Accuracy: 0.9339\n"
     ]
    },
    {
     "name": "stderr",
     "output_type": "stream",
     "text": [
      "100%|██████████| 750/750 [00:07<00:00, 105.55it/s]\n"
     ]
    },
    {
     "name": "stdout",
     "output_type": "stream",
     "text": [
      "Epoch 23/64, Train Loss: 0.2204, Val Loss: 0.2242, Val Accuracy: 0.9385\n"
     ]
    },
    {
     "name": "stderr",
     "output_type": "stream",
     "text": [
      "100%|██████████| 750/750 [00:07<00:00, 105.63it/s]\n"
     ]
    },
    {
     "name": "stdout",
     "output_type": "stream",
     "text": [
      "Epoch 24/64, Train Loss: 0.2067, Val Loss: 0.2128, Val Accuracy: 0.9403\n"
     ]
    },
    {
     "name": "stderr",
     "output_type": "stream",
     "text": [
      "100%|██████████| 750/750 [00:07<00:00, 94.57it/s] \n"
     ]
    },
    {
     "name": "stdout",
     "output_type": "stream",
     "text": [
      "Epoch 25/64, Train Loss: 0.1948, Val Loss: 0.2020, Val Accuracy: 0.9439\n"
     ]
    },
    {
     "name": "stderr",
     "output_type": "stream",
     "text": [
      "100%|██████████| 750/750 [00:07<00:00, 101.73it/s]\n"
     ]
    },
    {
     "name": "stdout",
     "output_type": "stream",
     "text": [
      "Epoch 26/64, Train Loss: 0.1836, Val Loss: 0.1929, Val Accuracy: 0.9458\n"
     ]
    },
    {
     "name": "stderr",
     "output_type": "stream",
     "text": [
      "100%|██████████| 750/750 [00:07<00:00, 106.41it/s]\n"
     ]
    },
    {
     "name": "stdout",
     "output_type": "stream",
     "text": [
      "Epoch 27/64, Train Loss: 0.1737, Val Loss: 0.1847, Val Accuracy: 0.9488\n"
     ]
    },
    {
     "name": "stderr",
     "output_type": "stream",
     "text": [
      "100%|██████████| 750/750 [00:07<00:00, 104.10it/s]\n"
     ]
    },
    {
     "name": "stdout",
     "output_type": "stream",
     "text": [
      "Epoch 28/64, Train Loss: 0.1648, Val Loss: 0.1757, Val Accuracy: 0.9493\n"
     ]
    },
    {
     "name": "stderr",
     "output_type": "stream",
     "text": [
      "100%|██████████| 750/750 [00:07<00:00, 97.00it/s] \n"
     ]
    },
    {
     "name": "stdout",
     "output_type": "stream",
     "text": [
      "Epoch 29/64, Train Loss: 0.1563, Val Loss: 0.1687, Val Accuracy: 0.9517\n"
     ]
    },
    {
     "name": "stderr",
     "output_type": "stream",
     "text": [
      "100%|██████████| 750/750 [00:07<00:00, 94.31it/s] \n"
     ]
    },
    {
     "name": "stdout",
     "output_type": "stream",
     "text": [
      "Epoch 30/64, Train Loss: 0.1487, Val Loss: 0.1626, Val Accuracy: 0.9527\n"
     ]
    },
    {
     "name": "stderr",
     "output_type": "stream",
     "text": [
      "100%|██████████| 750/750 [00:07<00:00, 95.82it/s] \n"
     ]
    },
    {
     "name": "stdout",
     "output_type": "stream",
     "text": [
      "Epoch 31/64, Train Loss: 0.1417, Val Loss: 0.1566, Val Accuracy: 0.9553\n"
     ]
    },
    {
     "name": "stderr",
     "output_type": "stream",
     "text": [
      "100%|██████████| 750/750 [00:07<00:00, 93.98it/s] \n"
     ]
    },
    {
     "name": "stdout",
     "output_type": "stream",
     "text": [
      "Epoch 32/64, Train Loss: 0.1354, Val Loss: 0.1516, Val Accuracy: 0.9559\n"
     ]
    },
    {
     "name": "stderr",
     "output_type": "stream",
     "text": [
      "100%|██████████| 750/750 [00:07<00:00, 105.76it/s]\n"
     ]
    },
    {
     "name": "stdout",
     "output_type": "stream",
     "text": [
      "Epoch 33/64, Train Loss: 0.1298, Val Loss: 0.1462, Val Accuracy: 0.9568\n"
     ]
    },
    {
     "name": "stderr",
     "output_type": "stream",
     "text": [
      "100%|██████████| 750/750 [00:07<00:00, 102.67it/s]\n"
     ]
    },
    {
     "name": "stdout",
     "output_type": "stream",
     "text": [
      "Epoch 34/64, Train Loss: 0.1243, Val Loss: 0.1425, Val Accuracy: 0.9577\n"
     ]
    },
    {
     "name": "stderr",
     "output_type": "stream",
     "text": [
      "100%|██████████| 750/750 [00:07<00:00, 97.69it/s] \n"
     ]
    },
    {
     "name": "stdout",
     "output_type": "stream",
     "text": [
      "Epoch 35/64, Train Loss: 0.1194, Val Loss: 0.1383, Val Accuracy: 0.9604\n",
      "Chosen edges: tensor([[   3,    3,    8,    9,    3,    8,    9,    3,    3,    3,    3,    3,\n",
      "            3,    8,    3,    8,    3,    3,    8,    3,    8,    2,    3,    8,\n",
      "            9,    3,    8,    9,    3,    8,    3,    2,    3,    8,    9,    3,\n",
      "            8,    3,    8,    3,    8,    9],\n",
      "        [ 786,  827,  827,  827,  834,  834,  834,  846,  847,  849,  940,  946,\n",
      "          986,  986,  988,  988,  989,  990,  990,  991,  991,  995,  995,  995,\n",
      "          995,  997,  997,  997,  998,  998, 1034, 1043, 1043, 1043, 1043, 1050,\n",
      "         1050, 1051, 1051, 1054, 1054, 1066]]) 42\n",
      "42\n"
     ]
    },
    {
     "name": "stderr",
     "output_type": "stream",
     "text": [
      "100%|██████████| 750/750 [00:08<00:00, 90.45it/s] \n"
     ]
    },
    {
     "name": "stdout",
     "output_type": "stream",
     "text": [
      "Epoch 36/64, Train Loss: 0.1151, Val Loss: 0.1339, Val Accuracy: 0.9616\n"
     ]
    },
    {
     "name": "stderr",
     "output_type": "stream",
     "text": [
      "100%|██████████| 750/750 [00:07<00:00, 94.33it/s] \n"
     ]
    },
    {
     "name": "stdout",
     "output_type": "stream",
     "text": [
      "Epoch 37/64, Train Loss: 0.1108, Val Loss: 0.1313, Val Accuracy: 0.9626\n",
      "torch.Size([966]) torch.Size([11825])\n",
      "combined_metrics torch.Size([12791])\n",
      "mask torch.Size([12791])\n",
      "tensor(11169)\n",
      "num_emb_edges 966\n",
      "tensor(413) tensor(300)\n",
      "Chosen edges to del emb: tensor([[   2,    2,    2,    2,    2,    2,    2,    2,    2,    2,    2,    2,\n",
      "            2,    2,    2,    2,    2,    2,    2,    2,    3,    3,    3,    3,\n",
      "            3,    3,    3,    3,    3,    3,    3,    3,    3,    4,    4,    4,\n",
      "            4,    4,    4,    4,    5,    5,    5,    5,    5,    5,    5,    5,\n",
      "            5,    5,    5,    5,    5,    6,    6,    6,    6,    6,    6,    6,\n",
      "            6,    6,    6,    7,    7,    7,    7,    7,    7,    7,    7,    7,\n",
      "            7,    7,    7,    7,    7,    7,    7,    7,    7,    7,    7,    8,\n",
      "            8,    8,    8,    8,    8,    8,    8,    8,    8,    8,    8,    8,\n",
      "            8,    8,    8,    8,    8,   10,   10,   10,   10,   10,   10,   10,\n",
      "           10,   10,   10,   10,   10,   10,   10,   10,   10,   10,   10,   10,\n",
      "           11,   11,   11,   13,   13,   13,   13,   13,   13,   13,   13,   13,\n",
      "           13,   13,   13,   13,   13,   13,   13,   13,   13,   13,   13,   13,\n",
      "           13,   15,   15,   15,   15,   15,   15,   15,   15,   15,   15,   15,\n",
      "           15,   15,   15,   15,   15,   15,   15,   15,   15,   15,   15,   18,\n",
      "           18,   18,   18,   18,   18,   18,   18,   18,   18,   18,   18,   18,\n",
      "           18,   18,   18,   18,   18,   18,   18,   18,   18,   20,   20,   20,\n",
      "           20,   20,   20,   20,   20,   20,   20,   20,   20,   20,   20,   20,\n",
      "           20,   20,   20,   20,   20,   20,   20,   23,   23,   23,   23,   23,\n",
      "           23,   23,   23,   23,   23,   23,   23,   23,   23,   23,   23,   23,\n",
      "           23,   23,   23,   23,   24,   24,   24,   24,   24,   24,   24,   24,\n",
      "           24,   24,   24,   24,   24,   26,   26,   26,   26,   26,   26,   26,\n",
      "           26,   26,   26,   26,   26,   26,   26,   26,   26,   26,   26,   26,\n",
      "           26,   26,   27,   27,   27,   27,   27,   27,   27,   27,   27,   27,\n",
      "           27,   27,   27,   29,   29,   29,   29,   29,   29,   29,   29,   29,\n",
      "           29,   29,   29,   29,   29,   29,   29,   29,   29,   29,   29,   29,\n",
      "           31,   33,   33,   33,   33,   33,   33,   33,   33,   33,   33,   33,\n",
      "           33,   33,   33,   33,   33,   33,   33,   33,   33,   33,   33,   34,\n",
      "           34,   34,   34,   34,   34,   34,   34,   34,   34,   34,   34,   34,\n",
      "           36,   36,   36,   36,   36,   36,   36,   36,   36,   36,   36,   36,\n",
      "           36,   36,   36,   36,   36,   36,   36,   36,   36,   36,   38,   38,\n",
      "           38,   38,   38,   38,   38,   38,   38,   38,   38,   38,   38,   38,\n",
      "           38,   38,   38,   38,   38,   38,   39,   39,   39,   39,   39,   39,\n",
      "           39,   39,   39,   39,   39,   40,   40,   40,   40,   40,   40,   40,\n",
      "           40,   40,   40,   40,   40,   40,   40,   40,   40,   40,   40,   40,\n",
      "           40,   40,   40,   41,   41],\n",
      "        [ 786,  827,  834,  846,  847,  849,  946,  986,  988,  989,  990,  991,\n",
      "          995,  997,  998, 1034, 1043, 1050, 1051, 1054,  827,  834,  940,  986,\n",
      "          988,  989,  990,  991,  995, 1043, 1050, 1051, 1054,  847,  849,  946,\n",
      "          988,  995, 1043, 1051,  827,  946,  986,  988,  989,  990,  991,  995,\n",
      "          997, 1043, 1050, 1051, 1054,  834,  940,  986,  988,  990,  991,  995,\n",
      "         1043, 1050, 1054,  786,  827,  834,  846,  847,  849,  940,  946,  986,\n",
      "          988,  989,  990,  991,  995,  997, 1034, 1043, 1050, 1051, 1054,  786,\n",
      "          827,  834,  846,  847,  849,  946,  986,  988,  989,  990,  995,  997,\n",
      "         1034, 1043, 1050, 1051, 1054,  786,  827,  834,  846,  847,  849,  946,\n",
      "          986,  988,  989,  990,  991,  995,  997, 1034, 1043, 1050, 1051, 1054,\n",
      "          988,  995, 1043,  786,  827,  834,  846,  847,  849,  940,  946,  986,\n",
      "          988,  989,  990,  991,  995,  997,  998, 1034, 1043, 1050, 1051, 1054,\n",
      "         1066,  786,  827,  834,  846,  847,  849,  940,  946,  986,  988,  989,\n",
      "          990,  991,  995,  997,  998, 1034, 1043, 1050, 1051, 1054, 1066,  786,\n",
      "          827,  834,  846,  847,  849,  940,  946,  986,  988,  989,  990,  991,\n",
      "          995,  997,  998, 1034, 1043, 1050, 1051, 1054, 1066,  786,  827,  834,\n",
      "          846,  847,  849,  940,  946,  986,  988,  989,  990,  991,  995,  997,\n",
      "          998, 1034, 1043, 1050, 1051, 1054, 1066,  786,  827,  834,  846,  847,\n",
      "          849,  940,  946,  986,  988,  989,  990,  991,  995,  997,  998, 1034,\n",
      "         1043, 1050, 1051, 1054,  827,  834,  940,  986,  988,  989,  990,  991,\n",
      "          995, 1043, 1050, 1051, 1054,  786,  827,  834,  846,  847,  849,  940,\n",
      "          946,  986,  988,  989,  990,  991,  995,  997,  998, 1034, 1043, 1050,\n",
      "         1051, 1054,  827,  834,  940,  986,  988,  989,  990,  991,  995, 1043,\n",
      "         1050, 1051, 1054,  786,  827,  834,  846,  847,  849,  940,  946,  986,\n",
      "          988,  989,  990,  991,  995,  997,  998, 1034, 1043, 1050, 1051, 1054,\n",
      "          995,  786,  827,  834,  846,  847,  849,  940,  946,  986,  988,  989,\n",
      "          990,  991,  995,  997,  998, 1034, 1043, 1050, 1051, 1054, 1066,  827,\n",
      "          834,  940,  986,  988,  989,  990,  991,  995, 1043, 1050, 1051, 1054,\n",
      "          786,  827,  834,  846,  847,  849,  940,  946,  986,  988,  989,  990,\n",
      "          991,  995,  997,  998, 1034, 1043, 1050, 1051, 1054, 1066,  786,  827,\n",
      "          834,  846,  847,  849,  946,  986,  988,  989,  990,  991,  995,  997,\n",
      "          998, 1034, 1043, 1050, 1051, 1054,  827,  834,  846,  847,  849,  946,\n",
      "          988,  995, 1043, 1051, 1054,  786,  827,  834,  846,  847,  849,  940,\n",
      "          946,  986,  988,  989,  990,  991,  995,  997,  998, 1034, 1043, 1050,\n",
      "         1051, 1054, 1066, 1050, 1054]], dtype=torch.int32) 413\n",
      "Chosen edges to del exp: tensor([[   2,    4,    5,    7,    8,    9,    2,    4,    5,    6,    7,    8,\n",
      "            9,    1,    2,    3,    4,    5,    6,    7,    9,    1,    2,    3,\n",
      "            4,    5,    6,    7,    8,    2,    4,    5,    6,    7,    8,    9,\n",
      "            2,    3,    4,    5,    6,    7,    9,    2,    3,    4,    5,    6,\n",
      "            7,    8,    0,    2,    5,    8,    0,    2,    5,    6,    8,    0,\n",
      "            2,    5,    6,    8,    9,    0,    2,    4,    5,    6,    7,    8,\n",
      "            9,    0,    2,    5,    6,    8,    9,    2,    4,    5,    6,    7,\n",
      "            8,    9,    2,    3,    4,    5,    6,    7,    9,    2,    5,    7,\n",
      "            8,    9,    0,    1,    2,    3,    4,    5,    6,    7,    9,    2,\n",
      "            8,    2,    5,    8,    9,    0,    1,    2,    3,    4,    5,    6,\n",
      "            7,    9,    0,    2,    4,    5,    6,    7,    8,    9,    0,    1,\n",
      "            2,    3,    4,    5,    6,    7,    9,    3,    4,    5,    7,    8,\n",
      "            9,    0,    2,    4,    5,    6,    7,    8,    9,    0,    1,    2,\n",
      "            3,    4,    5,    6,    7,    9,    0,    1,    2,    3,    4,    5,\n",
      "            6,    7,    8,    2,    4,    5,    7,    8,    9,    0,    1,    2,\n",
      "            3,    4,    5,    6,    7,    9,    0,    1,    2,    3,    4,    5,\n",
      "            6,    7,    8,    2,    4,    5,    7,    8,    9,    1,    2,    3,\n",
      "            4,    5,    7,    9,    2,    4,    5,    6,    7,    8,    9,    1,\n",
      "            3,    4,    5,    6,    7,    8,    9,    1,    2,    4,    5,    6,\n",
      "            7,    8,    9,    1,    2,    3,    4,    5,    6,    7,    9,    1,\n",
      "            2,    3,    4,    5,    6,    7,    8,    1,    2,    4,    5,    6,\n",
      "            7,    8,    9,    1,    2,    3,    4,    5,    6,    7,    9,    2,\n",
      "            4,    5,    7,    8,    9,    2,    3,    4,    5,    6,    7,    9,\n",
      "            0,    1,    2,    4,    5,    6,    7,    8,    9,    0,    1,    2,\n",
      "            3,    4,    5,    6,    7,    9,    2,    3,    4,    5,    7,    8],\n",
      "        [1185, 1185, 1185, 1185, 1185, 1185, 1186, 1186, 1186, 1186, 1186, 1186,\n",
      "         1186, 1187, 1187, 1187, 1187, 1187, 1187, 1187, 1187, 1188, 1188, 1188,\n",
      "         1188, 1188, 1188, 1188, 1188, 1189, 1189, 1189, 1189, 1189, 1189, 1189,\n",
      "         1190, 1190, 1190, 1190, 1190, 1190, 1190, 1191, 1191, 1191, 1191, 1191,\n",
      "         1191, 1191, 1192, 1192, 1192, 1192, 1193, 1193, 1193, 1193, 1193, 1194,\n",
      "         1194, 1194, 1194, 1194, 1194, 1195, 1195, 1195, 1195, 1195, 1195, 1195,\n",
      "         1195, 1196, 1196, 1196, 1196, 1196, 1196, 1197, 1197, 1197, 1197, 1197,\n",
      "         1197, 1197, 1198, 1198, 1198, 1198, 1198, 1198, 1198, 1199, 1199, 1199,\n",
      "         1199, 1199, 1200, 1200, 1200, 1200, 1200, 1200, 1200, 1200, 1200, 1201,\n",
      "         1201, 1202, 1202, 1202, 1202, 1203, 1203, 1203, 1203, 1203, 1203, 1203,\n",
      "         1203, 1203, 1204, 1204, 1204, 1204, 1204, 1204, 1204, 1204, 1205, 1205,\n",
      "         1205, 1205, 1205, 1205, 1205, 1205, 1205, 1206, 1206, 1206, 1206, 1206,\n",
      "         1206, 1207, 1207, 1207, 1207, 1207, 1207, 1207, 1207, 1208, 1208, 1208,\n",
      "         1208, 1208, 1208, 1208, 1208, 1208, 1209, 1209, 1209, 1209, 1209, 1209,\n",
      "         1209, 1209, 1209, 1210, 1210, 1210, 1210, 1210, 1210, 1211, 1211, 1211,\n",
      "         1211, 1211, 1211, 1211, 1211, 1211, 1212, 1212, 1212, 1212, 1212, 1212,\n",
      "         1212, 1212, 1212, 1213, 1213, 1213, 1213, 1213, 1213, 1214, 1214, 1214,\n",
      "         1214, 1214, 1214, 1214, 1215, 1215, 1215, 1215, 1215, 1215, 1215, 1216,\n",
      "         1216, 1216, 1216, 1216, 1216, 1216, 1216, 1217, 1217, 1217, 1217, 1217,\n",
      "         1217, 1217, 1217, 1218, 1218, 1218, 1218, 1218, 1218, 1218, 1218, 1219,\n",
      "         1219, 1219, 1219, 1219, 1219, 1219, 1219, 1220, 1220, 1220, 1220, 1220,\n",
      "         1220, 1220, 1220, 1221, 1221, 1221, 1221, 1221, 1221, 1221, 1221, 1222,\n",
      "         1222, 1222, 1222, 1222, 1222, 1223, 1223, 1223, 1223, 1223, 1223, 1223,\n",
      "         1224, 1224, 1224, 1224, 1224, 1224, 1224, 1224, 1224, 1225, 1225, 1225,\n",
      "         1225, 1225, 1225, 1225, 1225, 1225, 1226, 1226, 1226, 1226, 1226, 1226]]) 300\n",
      "300 11825 tensor(11525)\n"
     ]
    },
    {
     "name": "stderr",
     "output_type": "stream",
     "text": [
      "100%|██████████| 750/750 [00:07<00:00, 96.79it/s] \n"
     ]
    },
    {
     "name": "stdout",
     "output_type": "stream",
     "text": [
      "Epoch 38/64, Train Loss: 0.1074, Val Loss: 0.1279, Val Accuracy: 0.9634\n"
     ]
    },
    {
     "name": "stderr",
     "output_type": "stream",
     "text": [
      "100%|██████████| 750/750 [00:08<00:00, 86.38it/s] \n"
     ]
    },
    {
     "name": "stdout",
     "output_type": "stream",
     "text": [
      "Epoch 39/64, Train Loss: 0.1035, Val Loss: 0.1252, Val Accuracy: 0.9644\n"
     ]
    },
    {
     "name": "stderr",
     "output_type": "stream",
     "text": [
      "100%|██████████| 750/750 [00:07<00:00, 96.67it/s] \n"
     ]
    },
    {
     "name": "stdout",
     "output_type": "stream",
     "text": [
      "Epoch 40/64, Train Loss: 0.0999, Val Loss: 0.1236, Val Accuracy: 0.9644\n"
     ]
    },
    {
     "name": "stderr",
     "output_type": "stream",
     "text": [
      "100%|██████████| 750/750 [00:07<00:00, 100.09it/s]\n"
     ]
    },
    {
     "name": "stdout",
     "output_type": "stream",
     "text": [
      "Epoch 41/64, Train Loss: 0.0966, Val Loss: 0.1205, Val Accuracy: 0.9650\n"
     ]
    },
    {
     "name": "stderr",
     "output_type": "stream",
     "text": [
      "100%|██████████| 750/750 [00:07<00:00, 101.30it/s]\n"
     ]
    },
    {
     "name": "stdout",
     "output_type": "stream",
     "text": [
      "Epoch 42/64, Train Loss: 0.0938, Val Loss: 0.1177, Val Accuracy: 0.9655\n"
     ]
    },
    {
     "name": "stderr",
     "output_type": "stream",
     "text": [
      "100%|██████████| 750/750 [00:07<00:00, 98.43it/s] \n"
     ]
    },
    {
     "name": "stdout",
     "output_type": "stream",
     "text": [
      "Epoch 43/64, Train Loss: 0.0910, Val Loss: 0.1150, Val Accuracy: 0.9670\n"
     ]
    },
    {
     "name": "stderr",
     "output_type": "stream",
     "text": [
      "100%|██████████| 750/750 [00:07<00:00, 94.52it/s] \n"
     ]
    },
    {
     "name": "stdout",
     "output_type": "stream",
     "text": [
      "Epoch 44/64, Train Loss: 0.0884, Val Loss: 0.1140, Val Accuracy: 0.9668\n",
      "Chosen edges: tensor([[   3,    5,    5,    9,    5,    8,    3,    8,    8,    9,    3,    8,\n",
      "            3,    3,    8,    3,    8,    3,    3,    3,    3,    2,    3,    9],\n",
      "        [ 848,  895,  940,  940,  946,  989, 1001, 1001, 1034, 1034, 1055, 1055,\n",
      "         1086, 1097, 1097, 1189, 1190, 1194, 1195, 1196, 1215, 1216, 1217, 1226]]) 24\n",
      "24\n"
     ]
    },
    {
     "name": "stderr",
     "output_type": "stream",
     "text": [
      "100%|██████████| 750/750 [00:09<00:00, 82.25it/s]\n"
     ]
    },
    {
     "name": "stdout",
     "output_type": "stream",
     "text": [
      "Epoch 45/64, Train Loss: 0.0856, Val Loss: 0.1118, Val Accuracy: 0.9675\n"
     ]
    },
    {
     "name": "stderr",
     "output_type": "stream",
     "text": [
      "100%|██████████| 750/750 [00:07<00:00, 93.78it/s] \n"
     ]
    },
    {
     "name": "stdout",
     "output_type": "stream",
     "text": [
      "Epoch 46/64, Train Loss: 0.0833, Val Loss: 0.1112, Val Accuracy: 0.9674\n",
      "torch.Size([480]) torch.Size([11741])\n",
      "combined_metrics torch.Size([12221])\n",
      "mask torch.Size([12221])\n",
      "tensor(11669)\n",
      "num_emb_edges 480\n",
      "tensor(177) tensor(93)\n",
      "Chosen edges to del emb: tensor([[   0,    0,    0,    0,    0,    0,    0,    0,    0,    0,    0,    0,\n",
      "            0,    0,    0,    0,    0,    0,    0,    1,    1,    1,    1,    1,\n",
      "            1,    1,    1,    1,    1,    1,    1,    1,    1,    1,    1,    1,\n",
      "            1,    1,    2,    2,    2,    2,    2,    2,    2,    2,    2,    2,\n",
      "            2,    2,    2,    2,    2,    2,    2,    2,    4,    4,    4,    4,\n",
      "            4,    4,    4,    4,    4,    4,    4,    4,    4,    4,    4,    4,\n",
      "            4,    5,    5,    5,    5,    5,    5,    5,    5,    5,    5,    5,\n",
      "            5,    5,    5,    5,    5,    5,    5,    7,    7,    7,    7,    7,\n",
      "            7,    7,    7,    7,    7,    8,    8,    8,    8,    8,    8,    8,\n",
      "            8,    8,    9,   11,   11,   11,   11,   11,   11,   11,   11,   11,\n",
      "           11,   11,   11,   11,   11,   11,   11,   11,   11,   14,   14,   14,\n",
      "           14,   14,   14,   14,   14,   14,   14,   14,   14,   14,   14,   14,\n",
      "           14,   14,   14,   15,   15,   15,   15,   15,   15,   15,   15,   16,\n",
      "           18,   18,   18,   18,   18,   18,   18,   18,   18,   18,   18,   18,\n",
      "           18,   18,   18,   20,   22,   22,   23,   23,   23],\n",
      "        [ 848,  895,  940,  946,  989, 1001, 1034, 1055, 1086, 1097, 1189, 1190,\n",
      "         1194, 1195, 1196, 1215, 1216, 1217, 1226,  848,  895,  940,  946,  989,\n",
      "         1001, 1034, 1055, 1086, 1097, 1189, 1190, 1194, 1195, 1196, 1215, 1216,\n",
      "         1217, 1226,  848,  895,  940,  946,  989, 1001, 1034, 1055, 1086, 1097,\n",
      "         1189, 1190, 1194, 1195, 1196, 1215, 1216, 1217,  848,  895,  940,  946,\n",
      "          989, 1001, 1034, 1055, 1086, 1097, 1189, 1190, 1194, 1195, 1196, 1216,\n",
      "         1217,  848,  895,  940,  946,  989, 1001, 1034, 1055, 1086, 1097, 1189,\n",
      "         1190, 1194, 1195, 1196, 1215, 1216, 1217,  848,  895,  946,  989, 1001,\n",
      "         1055, 1086, 1097, 1194, 1196,  848,  895,  946,  989, 1001, 1055, 1086,\n",
      "         1194, 1196, 1226,  848,  895,  940,  946,  989, 1001, 1034, 1055, 1086,\n",
      "         1097, 1189, 1190, 1194, 1195, 1196, 1215, 1216, 1217,  848,  895,  940,\n",
      "          946,  989, 1001, 1034, 1055, 1086, 1097, 1189, 1190, 1194, 1195, 1196,\n",
      "         1215, 1216, 1217,  848,  940,  946,  989, 1097, 1194, 1195, 1196, 1196,\n",
      "          848,  940,  946,  989, 1001, 1034, 1055, 1097, 1194, 1195, 1196, 1215,\n",
      "         1216, 1217, 1226, 1195,  940, 1195,  940, 1195, 1226]],\n",
      "       dtype=torch.int32) 177\n",
      "Chosen edges to del exp: tensor([[   5,    8,    3,    2,    3,    6,    7,    8,    9,    3,    5,    0,\n",
      "            2,    3,    8,    2,    3,    5,    7,    9,    2,    3,    5,    9,\n",
      "            2,    3,    5,    7,    9,    2,    3,    5,    7,    8,    2,    5,\n",
      "            8,    9,    2,    3,    5,    9,    2,    5,    2,    5,    8,    9,\n",
      "            2,    3,    5,    7,    9,    2,    5,    7,    8,    9,    2,    3,\n",
      "            5,    7,    9,    2,    5,    8,    2,    5,    6,    7,    8,    9,\n",
      "            0,    2,    5,    6,    8,    9,    2,    8,    9,    3,    5,    7,\n",
      "            8,    9,    2,    5,    7,    8,    9,    4,    7],\n",
      "        [1227, 1227, 1228, 1229, 1229, 1229, 1229, 1229, 1229, 1230, 1230, 1231,\n",
      "         1231, 1231, 1231, 1232, 1232, 1232, 1232, 1232, 1234, 1234, 1234, 1234,\n",
      "         1235, 1235, 1235, 1235, 1235, 1236, 1236, 1236, 1236, 1236, 1237, 1237,\n",
      "         1237, 1237, 1238, 1238, 1238, 1238, 1239, 1239, 1240, 1240, 1240, 1240,\n",
      "         1241, 1241, 1241, 1241, 1241, 1242, 1242, 1242, 1242, 1242, 1243, 1243,\n",
      "         1243, 1243, 1243, 1244, 1244, 1244, 1245, 1245, 1245, 1245, 1245, 1245,\n",
      "         1246, 1246, 1246, 1246, 1246, 1246, 1247, 1247, 1247, 1248, 1248, 1248,\n",
      "         1248, 1248, 1249, 1249, 1249, 1249, 1249, 1250, 1250]]) 93\n",
      "93 11741 tensor(11648)\n"
     ]
    },
    {
     "name": "stderr",
     "output_type": "stream",
     "text": [
      "100%|██████████| 750/750 [00:08<00:00, 89.25it/s] \n"
     ]
    },
    {
     "name": "stdout",
     "output_type": "stream",
     "text": [
      "Epoch 47/64, Train Loss: 0.0811, Val Loss: 0.1094, Val Accuracy: 0.9680\n"
     ]
    },
    {
     "name": "stderr",
     "output_type": "stream",
     "text": [
      "100%|██████████| 750/750 [00:08<00:00, 88.66it/s] \n"
     ]
    },
    {
     "name": "stdout",
     "output_type": "stream",
     "text": [
      "Epoch 48/64, Train Loss: 0.0788, Val Loss: 0.1081, Val Accuracy: 0.9683\n"
     ]
    },
    {
     "name": "stderr",
     "output_type": "stream",
     "text": [
      "100%|██████████| 750/750 [00:08<00:00, 87.82it/s] \n"
     ]
    },
    {
     "name": "stdout",
     "output_type": "stream",
     "text": [
      "Epoch 49/64, Train Loss: 0.0765, Val Loss: 0.1073, Val Accuracy: 0.9688\n"
     ]
    },
    {
     "name": "stderr",
     "output_type": "stream",
     "text": [
      "100%|██████████| 750/750 [00:08<00:00, 93.28it/s] \n"
     ]
    },
    {
     "name": "stdout",
     "output_type": "stream",
     "text": [
      "Epoch 50/64, Train Loss: 0.0746, Val Loss: 0.1044, Val Accuracy: 0.9693\n"
     ]
    },
    {
     "name": "stderr",
     "output_type": "stream",
     "text": [
      "100%|██████████| 750/750 [00:08<00:00, 93.59it/s] \n"
     ]
    },
    {
     "name": "stdout",
     "output_type": "stream",
     "text": [
      "Epoch 51/64, Train Loss: 0.0725, Val Loss: 0.1048, Val Accuracy: 0.9686\n"
     ]
    },
    {
     "name": "stderr",
     "output_type": "stream",
     "text": [
      "100%|██████████| 750/750 [00:07<00:00, 98.71it/s] \n"
     ]
    },
    {
     "name": "stdout",
     "output_type": "stream",
     "text": [
      "Epoch 52/64, Train Loss: 0.0706, Val Loss: 0.1029, Val Accuracy: 0.9693\n"
     ]
    },
    {
     "name": "stderr",
     "output_type": "stream",
     "text": [
      "100%|██████████| 750/750 [00:07<00:00, 96.44it/s] \n"
     ]
    },
    {
     "name": "stdout",
     "output_type": "stream",
     "text": [
      "Epoch 53/64, Train Loss: 0.0690, Val Loss: 0.1023, Val Accuracy: 0.9698\n",
      "Chosen edges: tensor([[   3,    3],\n",
      "        [1244, 1246]]) 2\n",
      "2\n"
     ]
    },
    {
     "name": "stderr",
     "output_type": "stream",
     "text": [
      "100%|██████████| 750/750 [00:07<00:00, 95.98it/s]\n"
     ]
    },
    {
     "name": "stdout",
     "output_type": "stream",
     "text": [
      "Epoch 54/64, Train Loss: 0.0672, Val Loss: 0.1011, Val Accuracy: 0.9697\n"
     ]
    },
    {
     "name": "stderr",
     "output_type": "stream",
     "text": [
      "100%|██████████| 750/750 [00:08<00:00, 91.57it/s]\n"
     ]
    },
    {
     "name": "stdout",
     "output_type": "stream",
     "text": [
      "Epoch 55/64, Train Loss: 0.0655, Val Loss: 0.0994, Val Accuracy: 0.9713\n",
      "torch.Size([6]) torch.Size([11666])\n",
      "combined_metrics torch.Size([11672])\n",
      "mask torch.Size([11672])\n",
      "tensor(8569)\n",
      "num_emb_edges 6\n",
      "tensor(0) tensor(17)\n",
      "Chosen edges to del emb: tensor([], size=(2, 0), dtype=torch.int32) 0\n",
      "Chosen edges to del exp: tensor([[   0,    1,    2,    5,    6,    7,    8,    9,    0,    1,    2,    4,\n",
      "            5,    6,    7,    8,    9],\n",
      "        [1251, 1251, 1251, 1251, 1251, 1251, 1251, 1251, 1252, 1252, 1252, 1252,\n",
      "         1252, 1252, 1252, 1252, 1252]]) 17\n",
      "17 11666 tensor(11649)\n"
     ]
    },
    {
     "name": "stderr",
     "output_type": "stream",
     "text": [
      "100%|██████████| 750/750 [00:07<00:00, 96.21it/s] \n"
     ]
    },
    {
     "name": "stdout",
     "output_type": "stream",
     "text": [
      "Epoch 56/64, Train Loss: 0.0637, Val Loss: 0.0987, Val Accuracy: 0.9713\n"
     ]
    },
    {
     "name": "stderr",
     "output_type": "stream",
     "text": [
      "100%|██████████| 750/750 [00:07<00:00, 95.55it/s] \n"
     ]
    },
    {
     "name": "stdout",
     "output_type": "stream",
     "text": [
      "Epoch 57/64, Train Loss: 0.0622, Val Loss: 0.0978, Val Accuracy: 0.9712\n"
     ]
    },
    {
     "name": "stderr",
     "output_type": "stream",
     "text": [
      "100%|██████████| 750/750 [00:08<00:00, 85.94it/s] \n"
     ]
    },
    {
     "name": "stdout",
     "output_type": "stream",
     "text": [
      "Epoch 58/64, Train Loss: 0.0606, Val Loss: 0.0980, Val Accuracy: 0.9702\n"
     ]
    },
    {
     "name": "stderr",
     "output_type": "stream",
     "text": [
      "100%|██████████| 750/750 [00:07<00:00, 94.92it/s] \n"
     ]
    },
    {
     "name": "stdout",
     "output_type": "stream",
     "text": [
      "Epoch 59/64, Train Loss: 0.0594, Val Loss: 0.0961, Val Accuracy: 0.9713\n"
     ]
    },
    {
     "name": "stderr",
     "output_type": "stream",
     "text": [
      "100%|██████████| 750/750 [00:08<00:00, 88.23it/s]\n"
     ]
    },
    {
     "name": "stdout",
     "output_type": "stream",
     "text": [
      "Epoch 60/64, Train Loss: 0.0577, Val Loss: 0.0957, Val Accuracy: 0.9721\n"
     ]
    },
    {
     "name": "stderr",
     "output_type": "stream",
     "text": [
      "100%|██████████| 750/750 [00:08<00:00, 88.39it/s]\n"
     ]
    },
    {
     "name": "stdout",
     "output_type": "stream",
     "text": [
      "Epoch 61/64, Train Loss: 0.0564, Val Loss: 0.0952, Val Accuracy: 0.9717\n"
     ]
    },
    {
     "name": "stderr",
     "output_type": "stream",
     "text": [
      "100%|██████████| 750/750 [00:08<00:00, 91.67it/s] \n"
     ]
    },
    {
     "name": "stdout",
     "output_type": "stream",
     "text": [
      "Epoch 62/64, Train Loss: 0.0552, Val Loss: 0.0947, Val Accuracy: 0.9721\n",
      "Chosen edges: tensor([[   3,    3],\n",
      "        [1251, 1252]]) 2\n",
      "2\n"
     ]
    },
    {
     "name": "stderr",
     "output_type": "stream",
     "text": [
      "100%|██████████| 750/750 [00:08<00:00, 84.12it/s]\n"
     ]
    },
    {
     "name": "stdout",
     "output_type": "stream",
     "text": [
      "Epoch 63/64, Train Loss: 0.0539, Val Loss: 0.0935, Val Accuracy: 0.9735\n"
     ]
    },
    {
     "name": "stderr",
     "output_type": "stream",
     "text": [
      "100%|██████████| 750/750 [00:08<00:00, 87.52it/s]\n"
     ]
    },
    {
     "name": "stdout",
     "output_type": "stream",
     "text": [
      "Epoch 64/64, Train Loss: 0.0526, Val Loss: 0.0940, Val Accuracy: 0.9723\n",
      "torch.Size([6]) torch.Size([11667])\n",
      "combined_metrics torch.Size([11673])\n",
      "mask torch.Size([11673])\n",
      "tensor(9336)\n",
      "num_emb_edges 6\n",
      "tensor(2) tensor(17)\n",
      "Chosen edges to del emb: tensor([[   0,    0],\n",
      "        [1251, 1252]], dtype=torch.int32) 2\n",
      "Chosen edges to del exp: tensor([[   0,    1,    2,    5,    6,    7,    8,    9,    0,    1,    2,    4,\n",
      "            5,    6,    7,    8,    9],\n",
      "        [1253, 1253, 1253, 1253, 1253, 1253, 1253, 1253, 1254, 1254, 1254, 1254,\n",
      "         1254, 1254, 1254, 1254, 1254]]) 17\n",
      "17 11667 tensor(11650)\n"
     ]
    }
   ],
   "source": [
    "train_sparse_recursive(sparse_model, train_loader, val_loader, val_loader, hyperparams)"
   ]
  },
  {
   "cell_type": "code",
   "execution_count": null,
   "id": "0247c3d2",
   "metadata": {},
   "outputs": [],
   "source": []
  }
 ],
 "metadata": {
  "kernelspec": {
   "display_name": "self-expanding-nets",
   "language": "python",
   "name": "python3"
  },
  "language_info": {
   "codemirror_mode": {
    "name": "ipython",
    "version": 3
   },
   "file_extension": ".py",
   "mimetype": "text/x-python",
   "name": "python",
   "nbconvert_exporter": "python",
   "pygments_lexer": "ipython3",
   "version": "3.12.7"
  }
 },
 "nbformat": 4,
 "nbformat_minor": 5
}
