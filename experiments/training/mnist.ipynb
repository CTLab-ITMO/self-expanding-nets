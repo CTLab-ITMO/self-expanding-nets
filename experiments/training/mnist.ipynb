{
 "cells": [
  {
   "cell_type": "code",
   "execution_count": 11,
   "id": "932f4bdded4b6539",
   "metadata": {
    "ExecuteTime": {
     "end_time": "2025-01-21T14:31:25.334745Z",
     "start_time": "2025-01-21T14:31:20.096324Z"
    }
   },
   "outputs": [],
   "source": [
    "\n",
    "from copy import deepcopy\n",
    "\n",
    "import torch.optim as optim\n",
    "from sklearn.metrics import accuracy_score\n",
    "from torch.utils.data import DataLoader, random_split\n",
    "from torchvision import datasets, transforms\n",
    "from tqdm import tqdm\n",
    "import time"
   ]
  },
  {
   "cell_type": "code",
   "execution_count": 12,
   "id": "a089a23845b1066b",
   "metadata": {
    "ExecuteTime": {
     "end_time": "2025-01-21T14:31:25.350457Z",
     "start_time": "2025-01-21T14:31:25.338930Z"
    }
   },
   "outputs": [],
   "source": [
    "from senmodel.model.utils import *\n",
    "from senmodel.metrics.nonlinearity_metrics import *\n",
    "from senmodel.metrics.edge_finder import *\n",
    "from senmodel.metrics.train_metrics import *\n",
    "from senmodel.train.train import *"
   ]
  },
  {
   "cell_type": "code",
   "execution_count": 13,
   "id": "888ee10c0aa4d1f9",
   "metadata": {
    "ExecuteTime": {
     "end_time": "2025-01-21T14:31:25.520919Z",
     "start_time": "2025-01-21T14:31:25.513942Z"
    }
   },
   "outputs": [],
   "source": [
    "torch.manual_seed(0)\n",
    "device = torch.device(\"cuda:0\" if torch.cuda.is_available() else \"cpu\")"
   ]
  },
  {
   "cell_type": "code",
   "execution_count": 14,
   "id": "1aff98b408abbf8d",
   "metadata": {
    "ExecuteTime": {
     "end_time": "2025-01-21T14:31:25.547124Z",
     "start_time": "2025-01-21T14:31:25.543666Z"
    }
   },
   "outputs": [],
   "source": [
    "class SimpleFCN(nn.Module):\n",
    "    def __init__(self, input_size=28 * 28, hidden_size=16):\n",
    "        super(SimpleFCN, self).__init__()\n",
    "        self.fc0 = nn.Linear(input_size, 10)\n",
    "        # self.fc1 = nn.Linear(hidden_size, 10)\n",
    "        self.act = nn.ReLU()\n",
    "\n",
    "    def forward(self, x):\n",
    "        x = self.fc0(x)\n",
    "        return x"
   ]
  },
  {
   "cell_type": "code",
   "execution_count": 15,
   "id": "90353a5a49cd1022",
   "metadata": {
    "ExecuteTime": {
     "end_time": "2025-01-21T14:31:25.590348Z",
     "start_time": "2025-01-21T14:31:25.554956Z"
    }
   },
   "outputs": [],
   "source": [
    "# Dataset and Dataloader\n",
    "transform = transforms.Compose([\n",
    "    transforms.ToTensor(),\n",
    "    transforms.Lambda(lambda x: x.view(-1))\n",
    "])\n",
    "\n",
    "# Load dataset and split into train/validation sets\n",
    "dataset = datasets.MNIST(root='./data', train=True, download=True, transform=transform)\n",
    "\n",
    "train_dataset, val_dataset, test_dataset = random_split(dataset, [0.6, 0.2, 0.2])\n",
    "\n",
    "train_loader = DataLoader(train_dataset, batch_size=64, shuffle=True)\n",
    "val_loader = DataLoader(val_dataset, batch_size=64, shuffle=False)\n",
    "test_loader = DataLoader(test_dataset, batch_size=64, shuffle=False)"
   ]
  },
  {
   "cell_type": "code",
   "execution_count": 16,
   "id": "dcb8129e6befdf70",
   "metadata": {
    "ExecuteTime": {
     "end_time": "2025-01-21T14:31:26.821483Z",
     "start_time": "2025-01-21T14:31:26.807650Z"
    }
   },
   "outputs": [],
   "source": [
    "model = SimpleFCN()\n",
    "sparse_model = convert_dense_to_sparse_network(model, layers=[model.fc0])"
   ]
  },
  {
   "cell_type": "code",
   "execution_count": null,
   "id": "c33ccfaf",
   "metadata": {},
   "outputs": [
    {
     "data": {
      "text/plain": [
       "\"num_epochs: 64, metric: ReversedAbsGradientEdgeMetric, aggregation_mode: mean, choose_thresholds: {'fc0': 1e-06}, threshold: 0.005, min_delta_epoch_replace: 12, window_size: 5, lr: 0.0001, delete_after: 4\""
      ]
     },
     "execution_count": 17,
     "metadata": {},
     "output_type": "execute_result"
    }
   ],
   "source": [
    "hyperparams = {\n",
    "    \"num_epochs\": 64,\n",
    "    \"metric\": AbsGradientEdgeMetric(nn.CrossEntropyLoss()),\n",
    "    \"aggregation_mode\": \"mean\",\n",
    "    \"choose_thresholds\": {\"fc0\": 0.7},\n",
    "    \"threshold\": 0.005,\n",
    "    \"min_delta_epoch_replace\": 12,\n",
    "    \"window_size\": 5,\n",
    "    \"lr\": 1e-4,\n",
    "    \"delete_after\": 4,    \n",
    "}\n",
    "\n",
    "name = \", \".join(\n",
    "    f\"{key}: {value.__class__.__name__ if key == 'metric' else value}\"\n",
    "    for key, value in hyperparams.items()\n",
    ")\n",
    "\n",
    "name"
   ]
  },
  {
   "cell_type": "code",
   "execution_count": 18,
   "id": "77e8399a",
   "metadata": {
    "ExecuteTime": {
     "end_time": "2025-01-21T14:31:30.645772Z",
     "start_time": "2025-01-21T14:31:27.560914Z"
    }
   },
   "outputs": [
    {
     "name": "stderr",
     "output_type": "stream",
     "text": [
      "\u001b[34m\u001b[1mwandb\u001b[0m: \u001b[33mWARNING\u001b[0m Calling wandb.login() after wandb.init() has no effect.\n"
     ]
    },
    {
     "data": {
      "text/plain": [
       "True"
      ]
     },
     "execution_count": 18,
     "metadata": {},
     "output_type": "execute_result"
    }
   ],
   "source": [
    "import wandb\n",
    "\n",
    "wandb.login()"
   ]
  },
  {
   "cell_type": "code",
   "execution_count": null,
   "id": "6a4cee60",
   "metadata": {},
   "outputs": [],
   "source": [
    "wandb.finish()\n",
    "\n",
    "run = wandb.init(\n",
    "    project=\"self-expanding-nets\",\n",
    "    name=f\"trash\",\n",
    "    config=hyperparams\n",
    ")\n"
   ]
  },
  {
   "cell_type": "code",
   "execution_count": null,
   "id": "3b3534e4",
   "metadata": {},
   "outputs": [
    {
     "name": "stderr",
     "output_type": "stream",
     "text": [
      "100%|██████████| 563/563 [00:06<00:00, 81.60it/s]\n"
     ]
    },
    {
     "name": "stdout",
     "output_type": "stream",
     "text": [
      "Epoch 1/64, Train Loss: 1.6113, Val Loss: 1.1515, Val Accuracy: 0.8066\n"
     ]
    },
    {
     "name": "stderr",
     "output_type": "stream",
     "text": [
      "100%|██████████| 563/563 [00:06<00:00, 86.15it/s]\n"
     ]
    },
    {
     "name": "stdout",
     "output_type": "stream",
     "text": [
      "Epoch 2/64, Train Loss: 0.9379, Val Loss: 0.7969, Val Accuracy: 0.8387\n"
     ]
    },
    {
     "name": "stderr",
     "output_type": "stream",
     "text": [
      "100%|██████████| 563/563 [00:06<00:00, 87.46it/s]\n"
     ]
    },
    {
     "name": "stdout",
     "output_type": "stream",
     "text": [
      "Epoch 3/64, Train Loss: 0.7020, Val Loss: 0.6408, Val Accuracy: 0.8599\n"
     ]
    },
    {
     "name": "stderr",
     "output_type": "stream",
     "text": [
      "100%|██████████| 563/563 [00:06<00:00, 85.10it/s]\n"
     ]
    },
    {
     "name": "stdout",
     "output_type": "stream",
     "text": [
      "Epoch 4/64, Train Loss: 0.5860, Val Loss: 0.5544, Val Accuracy: 0.8689\n"
     ]
    },
    {
     "name": "stderr",
     "output_type": "stream",
     "text": [
      "100%|██████████| 563/563 [00:06<00:00, 85.13it/s]\n"
     ]
    },
    {
     "name": "stdout",
     "output_type": "stream",
     "text": [
      "Epoch 5/64, Train Loss: 0.5168, Val Loss: 0.4992, Val Accuracy: 0.8766\n"
     ]
    },
    {
     "name": "stderr",
     "output_type": "stream",
     "text": [
      "100%|██████████| 563/563 [00:06<00:00, 84.02it/s]\n"
     ]
    },
    {
     "name": "stdout",
     "output_type": "stream",
     "text": [
      "Epoch 6/64, Train Loss: 0.4709, Val Loss: 0.4604, Val Accuracy: 0.8834\n"
     ]
    },
    {
     "name": "stderr",
     "output_type": "stream",
     "text": [
      "100%|██████████| 563/563 [00:06<00:00, 83.66it/s]\n"
     ]
    },
    {
     "name": "stdout",
     "output_type": "stream",
     "text": [
      "Epoch 7/64, Train Loss: 0.4383, Val Loss: 0.4326, Val Accuracy: 0.8890\n"
     ]
    },
    {
     "name": "stderr",
     "output_type": "stream",
     "text": [
      "100%|██████████| 563/563 [00:06<00:00, 84.92it/s]\n"
     ]
    },
    {
     "name": "stdout",
     "output_type": "stream",
     "text": [
      "Epoch 8/64, Train Loss: 0.4136, Val Loss: 0.4112, Val Accuracy: 0.8927\n"
     ]
    },
    {
     "name": "stderr",
     "output_type": "stream",
     "text": [
      "100%|██████████| 563/563 [00:06<00:00, 85.69it/s]\n"
     ]
    },
    {
     "name": "stdout",
     "output_type": "stream",
     "text": [
      "Epoch 9/64, Train Loss: 0.3946, Val Loss: 0.3943, Val Accuracy: 0.8968\n"
     ]
    },
    {
     "name": "stderr",
     "output_type": "stream",
     "text": [
      "100%|██████████| 563/563 [00:06<00:00, 86.42it/s]\n"
     ]
    },
    {
     "name": "stdout",
     "output_type": "stream",
     "text": [
      "Epoch 10/64, Train Loss: 0.3799, Val Loss: 0.3808, Val Accuracy: 0.8988\n"
     ]
    },
    {
     "name": "stderr",
     "output_type": "stream",
     "text": [
      "100%|██████████| 563/563 [00:06<00:00, 82.74it/s]\n"
     ]
    },
    {
     "name": "stdout",
     "output_type": "stream",
     "text": [
      "Epoch 11/64, Train Loss: 0.3675, Val Loss: 0.3695, Val Accuracy: 0.9018\n"
     ]
    },
    {
     "name": "stderr",
     "output_type": "stream",
     "text": [
      "100%|██████████| 563/563 [00:06<00:00, 83.44it/s]\n"
     ]
    },
    {
     "name": "stdout",
     "output_type": "stream",
     "text": [
      "Epoch 12/64, Train Loss: 0.3574, Val Loss: 0.3607, Val Accuracy: 0.9027\n"
     ]
    },
    {
     "name": "stderr",
     "output_type": "stream",
     "text": [
      "100%|██████████| 563/563 [00:06<00:00, 85.81it/s]\n"
     ]
    },
    {
     "name": "stdout",
     "output_type": "stream",
     "text": [
      "Epoch 13/64, Train Loss: 0.3488, Val Loss: 0.3531, Val Accuracy: 0.9052\n"
     ]
    },
    {
     "name": "stderr",
     "output_type": "stream",
     "text": [
      "100%|██████████| 563/563 [00:07<00:00, 75.31it/s]\n"
     ]
    },
    {
     "name": "stdout",
     "output_type": "stream",
     "text": [
      "Epoch 14/64, Train Loss: 0.3416, Val Loss: 0.3463, Val Accuracy: 0.9062\n"
     ]
    },
    {
     "name": "stderr",
     "output_type": "stream",
     "text": [
      "100%|██████████| 563/563 [00:07<00:00, 72.05it/s]\n"
     ]
    },
    {
     "name": "stdout",
     "output_type": "stream",
     "text": [
      "Epoch 15/64, Train Loss: 0.3352, Val Loss: 0.3408, Val Accuracy: 0.9080\n"
     ]
    },
    {
     "name": "stderr",
     "output_type": "stream",
     "text": [
      "100%|██████████| 563/563 [00:07<00:00, 74.03it/s]\n"
     ]
    },
    {
     "name": "stdout",
     "output_type": "stream",
     "text": [
      "Epoch 16/64, Train Loss: 0.3297, Val Loss: 0.3358, Val Accuracy: 0.9090\n"
     ]
    },
    {
     "name": "stderr",
     "output_type": "stream",
     "text": [
      "100%|██████████| 563/563 [00:07<00:00, 74.78it/s]\n"
     ]
    },
    {
     "name": "stdout",
     "output_type": "stream",
     "text": [
      "Epoch 17/64, Train Loss: 0.3248, Val Loss: 0.3316, Val Accuracy: 0.9097\n"
     ]
    },
    {
     "name": "stderr",
     "output_type": "stream",
     "text": [
      "100%|██████████| 563/563 [00:07<00:00, 73.96it/s]\n"
     ]
    },
    {
     "name": "stdout",
     "output_type": "stream",
     "text": [
      "Epoch 18/64, Train Loss: 0.3204, Val Loss: 0.3282, Val Accuracy: 0.9096\n",
      "Chosen edges: tensor([[  2,   3,   3,   3,   3,   3,   3,   3,   3,   3,   3,   5,   5,   5,\n",
      "           5,   5,   5,   5,   8,   8,   8,   8,   8,   8,   8,   8,   8,   8,\n",
      "           8,   9,   9,   9,   9,   9,   9,   9,   9,   9,   9,   9,   9,   9],\n",
      "        [408, 184, 208, 211, 295, 350, 351, 377, 576, 628, 629, 210, 238, 265,\n",
      "         320, 347, 349, 378, 182, 234, 291, 324, 374, 435, 601, 602, 629, 631,\n",
      "         657, 211, 212, 213, 237, 238, 263, 298, 325, 352, 353, 407, 436, 491]]) 42\n",
      "42\n"
     ]
    },
    {
     "name": "stderr",
     "output_type": "stream",
     "text": [
      "100%|██████████| 563/563 [00:09<00:00, 59.39it/s]\n"
     ]
    },
    {
     "name": "stdout",
     "output_type": "stream",
     "text": [
      "Epoch 19/64, Train Loss: 0.3162, Val Loss: 0.3236, Val Accuracy: 0.9111\n"
     ]
    },
    {
     "name": "stderr",
     "output_type": "stream",
     "text": [
      "100%|██████████| 563/563 [00:09<00:00, 60.85it/s]\n"
     ]
    },
    {
     "name": "stdout",
     "output_type": "stream",
     "text": [
      "Epoch 20/64, Train Loss: 0.3125, Val Loss: 0.3196, Val Accuracy: 0.9128\n"
     ]
    },
    {
     "name": "stderr",
     "output_type": "stream",
     "text": [
      "100%|██████████| 563/563 [00:08<00:00, 63.36it/s]\n"
     ]
    },
    {
     "name": "stdout",
     "output_type": "stream",
     "text": [
      "Epoch 21/64, Train Loss: 0.3081, Val Loss: 0.3164, Val Accuracy: 0.9133\n"
     ]
    },
    {
     "name": "stderr",
     "output_type": "stream",
     "text": [
      "100%|██████████| 563/563 [00:08<00:00, 68.91it/s]\n"
     ]
    },
    {
     "name": "stdout",
     "output_type": "stream",
     "text": [
      "Epoch 22/64, Train Loss: 0.3048, Val Loss: 0.3135, Val Accuracy: 0.9151\n",
      "torch.Size([1680]) torch.Size([8218])\n",
      "combined_metrics torch.Size([9898])\n",
      "mask torch.Size([9898])\n",
      "tensor(6074)\n",
      "num_emb_edges 1680\n",
      "tensor(0) tensor(0)\n",
      "Chosen edges to del emb: tensor([], size=(2, 0), dtype=torch.int32) 0\n",
      "Chosen edges to del exp: tensor([], size=(2, 0), dtype=torch.int64) 0\n"
     ]
    },
    {
     "name": "stderr",
     "output_type": "stream",
     "text": [
      "100%|██████████| 563/563 [00:08<00:00, 65.06it/s]\n"
     ]
    },
    {
     "name": "stdout",
     "output_type": "stream",
     "text": [
      "Epoch 23/64, Train Loss: 0.3019, Val Loss: 0.3111, Val Accuracy: 0.9142\n"
     ]
    },
    {
     "name": "stderr",
     "output_type": "stream",
     "text": [
      "100%|██████████| 563/563 [00:08<00:00, 64.54it/s]\n"
     ]
    },
    {
     "name": "stdout",
     "output_type": "stream",
     "text": [
      "Epoch 24/64, Train Loss: 0.2987, Val Loss: 0.3088, Val Accuracy: 0.9153\n"
     ]
    },
    {
     "name": "stderr",
     "output_type": "stream",
     "text": [
      "100%|██████████| 563/563 [00:08<00:00, 62.66it/s]\n"
     ]
    },
    {
     "name": "stdout",
     "output_type": "stream",
     "text": [
      "Epoch 25/64, Train Loss: 0.2959, Val Loss: 0.3067, Val Accuracy: 0.9154\n"
     ]
    },
    {
     "name": "stderr",
     "output_type": "stream",
     "text": [
      "100%|██████████| 563/563 [00:09<00:00, 61.45it/s]\n"
     ]
    },
    {
     "name": "stdout",
     "output_type": "stream",
     "text": [
      "Epoch 26/64, Train Loss: 0.2930, Val Loss: 0.3037, Val Accuracy: 0.9173\n"
     ]
    },
    {
     "name": "stderr",
     "output_type": "stream",
     "text": [
      "100%|██████████| 563/563 [00:09<00:00, 62.42it/s]\n"
     ]
    },
    {
     "name": "stdout",
     "output_type": "stream",
     "text": [
      "Epoch 27/64, Train Loss: 0.2906, Val Loss: 0.3014, Val Accuracy: 0.9173\n"
     ]
    },
    {
     "name": "stderr",
     "output_type": "stream",
     "text": [
      "100%|██████████| 563/563 [00:10<00:00, 55.67it/s]\n"
     ]
    },
    {
     "name": "stdout",
     "output_type": "stream",
     "text": [
      "Epoch 28/64, Train Loss: 0.2881, Val Loss: 0.2998, Val Accuracy: 0.9172\n"
     ]
    },
    {
     "name": "stderr",
     "output_type": "stream",
     "text": [
      "100%|██████████| 563/563 [00:09<00:00, 59.03it/s]\n"
     ]
    },
    {
     "name": "stdout",
     "output_type": "stream",
     "text": [
      "Epoch 29/64, Train Loss: 0.2855, Val Loss: 0.2978, Val Accuracy: 0.9176\n"
     ]
    },
    {
     "name": "stderr",
     "output_type": "stream",
     "text": [
      "100%|██████████| 563/563 [00:09<00:00, 61.54it/s]\n"
     ]
    },
    {
     "name": "stdout",
     "output_type": "stream",
     "text": [
      "Epoch 30/64, Train Loss: 0.2832, Val Loss: 0.2956, Val Accuracy: 0.9179\n"
     ]
    },
    {
     "name": "stderr",
     "output_type": "stream",
     "text": [
      "100%|██████████| 563/563 [00:10<00:00, 54.16it/s]\n"
     ]
    },
    {
     "name": "stdout",
     "output_type": "stream",
     "text": [
      "Epoch 31/64, Train Loss: 0.2809, Val Loss: 0.2939, Val Accuracy: 0.9187\n",
      "Chosen edges: tensor([[  5,   8,   9,   3,   2,   5,   2,   8,   9,   9,   9,   3],\n",
      "        [375, 784, 784, 790, 801, 801, 807, 807, 807, 816, 824, 825]]) 12\n",
      "12\n"
     ]
    },
    {
     "name": "stderr",
     "output_type": "stream",
     "text": [
      "100%|██████████| 563/563 [00:10<00:00, 52.75it/s]\n"
     ]
    },
    {
     "name": "stdout",
     "output_type": "stream",
     "text": [
      "Epoch 32/64, Train Loss: 0.2788, Val Loss: 0.2921, Val Accuracy: 0.9183\n"
     ]
    },
    {
     "name": "stderr",
     "output_type": "stream",
     "text": [
      "100%|██████████| 563/563 [00:12<00:00, 44.73it/s]\n"
     ]
    },
    {
     "name": "stdout",
     "output_type": "stream",
     "text": [
      "Epoch 33/64, Train Loss: 0.2767, Val Loss: 0.2903, Val Accuracy: 0.9199\n"
     ]
    },
    {
     "name": "stderr",
     "output_type": "stream",
     "text": [
      "100%|██████████| 563/563 [00:10<00:00, 52.59it/s]\n"
     ]
    },
    {
     "name": "stdout",
     "output_type": "stream",
     "text": [
      "Epoch 34/64, Train Loss: 0.2743, Val Loss: 0.2882, Val Accuracy: 0.9210\n"
     ]
    },
    {
     "name": "stderr",
     "output_type": "stream",
     "text": [
      "100%|██████████| 563/563 [00:10<00:00, 54.78it/s]\n"
     ]
    },
    {
     "name": "stdout",
     "output_type": "stream",
     "text": [
      "Epoch 35/64, Train Loss: 0.2721, Val Loss: 0.2863, Val Accuracy: 0.9213\n",
      "torch.Size([108]) torch.Size([8326])\n",
      "combined_metrics torch.Size([8434])\n",
      "mask torch.Size([8434])\n",
      "tensor(4544)\n",
      "num_emb_edges 108\n",
      "tensor(0) tensor(0)\n",
      "Chosen edges to del emb: tensor([], size=(2, 0), dtype=torch.int32) 0\n",
      "Chosen edges to del exp: tensor([], size=(2, 0), dtype=torch.int64) 0\n"
     ]
    },
    {
     "name": "stderr",
     "output_type": "stream",
     "text": [
      "100%|██████████| 563/563 [00:10<00:00, 53.83it/s]\n"
     ]
    },
    {
     "name": "stdout",
     "output_type": "stream",
     "text": [
      "Epoch 36/64, Train Loss: 0.2701, Val Loss: 0.2849, Val Accuracy: 0.9219\n"
     ]
    },
    {
     "name": "stderr",
     "output_type": "stream",
     "text": [
      "100%|██████████| 563/563 [00:09<00:00, 58.30it/s]\n"
     ]
    },
    {
     "name": "stdout",
     "output_type": "stream",
     "text": [
      "Epoch 37/64, Train Loss: 0.2681, Val Loss: 0.2831, Val Accuracy: 0.9220\n"
     ]
    },
    {
     "name": "stderr",
     "output_type": "stream",
     "text": [
      "100%|██████████| 563/563 [00:12<00:00, 46.88it/s]\n"
     ]
    },
    {
     "name": "stdout",
     "output_type": "stream",
     "text": [
      "Epoch 38/64, Train Loss: 0.2659, Val Loss: 0.2817, Val Accuracy: 0.9218\n"
     ]
    },
    {
     "name": "stderr",
     "output_type": "stream",
     "text": [
      "100%|██████████| 563/563 [00:10<00:00, 52.17it/s]\n"
     ]
    },
    {
     "name": "stdout",
     "output_type": "stream",
     "text": [
      "Epoch 39/64, Train Loss: 0.2641, Val Loss: 0.2801, Val Accuracy: 0.9228\n"
     ]
    }
   ],
   "source": [
    "train_sparse_recursive(sparse_model, train_loader, val_loader, test_loader, hyperparams)\n",
    "wandb.finish()"
   ]
  },
  {
   "cell_type": "code",
   "execution_count": null,
   "id": "0247c3d2",
   "metadata": {},
   "outputs": [],
   "source": []
  }
 ],
 "metadata": {
  "kernelspec": {
   "display_name": "self-expanding-nets",
   "language": "python",
   "name": "python3"
  },
  "language_info": {
   "codemirror_mode": {
    "name": "ipython",
    "version": 3
   },
   "file_extension": ".py",
   "mimetype": "text/x-python",
   "name": "python",
   "nbconvert_exporter": "python",
   "pygments_lexer": "ipython3",
   "version": "3.12.7"
  }
 },
 "nbformat": 4,
 "nbformat_minor": 5
}
