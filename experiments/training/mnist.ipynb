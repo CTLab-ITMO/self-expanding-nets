{
 "cells": [
  {
   "cell_type": "code",
   "execution_count": 1,
   "id": "932f4bdded4b6539",
   "metadata": {
    "ExecuteTime": {
     "end_time": "2025-01-21T14:31:25.334745Z",
     "start_time": "2025-01-21T14:31:20.096324Z"
    }
   },
   "outputs": [],
   "source": [
    "\n",
    "from copy import deepcopy\n",
    "\n",
    "import torch.optim as optim\n",
    "from sklearn.metrics import accuracy_score\n",
    "from torch.utils.data import DataLoader, random_split\n",
    "from torchvision import datasets, transforms\n",
    "from tqdm import tqdm"
   ]
  },
  {
   "cell_type": "code",
   "execution_count": 2,
   "id": "a089a23845b1066b",
   "metadata": {
    "ExecuteTime": {
     "end_time": "2025-01-21T14:31:25.350457Z",
     "start_time": "2025-01-21T14:31:25.338930Z"
    }
   },
   "outputs": [],
   "source": [
    "from senmodel.model.utils import *\n",
    "from senmodel.metrics.nonlinearity_metrics import *\n",
    "from senmodel.metrics.edge_finder import *"
   ]
  },
  {
   "cell_type": "code",
   "execution_count": 3,
   "id": "888ee10c0aa4d1f9",
   "metadata": {
    "ExecuteTime": {
     "end_time": "2025-01-21T14:31:25.520919Z",
     "start_time": "2025-01-21T14:31:25.513942Z"
    }
   },
   "outputs": [],
   "source": [
    "torch.manual_seed(0)\n",
    "device = torch.device(\"cuda:0\" if torch.cuda.is_available() else \"cpu\")"
   ]
  },
  {
   "cell_type": "code",
   "execution_count": 4,
   "id": "7ab06250d4252047",
   "metadata": {
    "ExecuteTime": {
     "end_time": "2025-01-21T14:31:25.536476Z",
     "start_time": "2025-01-21T14:31:25.528255Z"
    }
   },
   "outputs": [],
   "source": [
    "def train_sparse_recursive(model, train_loader, val_loader, num_epochs, metric, edge_replacement_func=None,\n",
    "                           window_size=2, threshold=0.10):\n",
    "    optimizer = optim.Adam(model.parameters(), lr=5e-5)\n",
    "    criterion = nn.CrossEntropyLoss()\n",
    "\n",
    "    val_losses = []\n",
    "\n",
    "    for epoch in range(num_epochs):\n",
    "        model.train()\n",
    "        train_loss = 0\n",
    "        for inputs, targets in tqdm(train_loader):\n",
    "            outputs = model(inputs)\n",
    "            loss = criterion(outputs, targets)\n",
    "\n",
    "            optimizer.zero_grad()\n",
    "            loss.backward()\n",
    "            optimizer.step()\n",
    "            train_loss += loss.item()\n",
    "\n",
    "        train_loss /= len(train_loader)\n",
    "\n",
    "        model.eval()\n",
    "        val_loss = 0\n",
    "        all_targets = []\n",
    "        all_preds = []\n",
    "        with torch.no_grad():\n",
    "            for inputs, targets in val_loader:\n",
    "                outputs = model(inputs)\n",
    "                loss = criterion(outputs, targets)\n",
    "                val_loss += loss.item()\n",
    "\n",
    "                preds = torch.argmax(outputs, dim=1)\n",
    "                all_targets.extend(targets.cpu().numpy())\n",
    "                all_preds.extend(preds.cpu().numpy())\n",
    "\n",
    "        val_loss /= len(val_loader)\n",
    "        val_accuracy = accuracy_score(all_targets, all_preds)\n",
    "\n",
    "        print(f\"Epoch {epoch + 1}/{num_epochs}, Train Loss: {train_loss:.4f}, \"\n",
    "              f\"Val Loss: {val_loss:.4f}, Val Accuracy: {val_accuracy:.4f}\")\n",
    "        new_l = {}\n",
    "        # if edge_replacement_func and epoch % 8 == 0 and epoch != 0:\n",
    "        #     new_l = edge_replacement_func(model, optimizer, val_loader, metric)\n",
    "        val_losses.append(val_loss)\n",
    "        if len(val_losses) > window_size:\n",
    "            recent_changes = [abs(val_losses[i] - val_losses[i - 1]) for i in range(-window_size, 0)]\n",
    "            avg_change = sum(recent_changes) / window_size\n",
    "            if avg_change < threshold:\n",
    "                new_l = edge_replacement_func(model, optimizer, val_loader, metric)\n",
    "\n",
    "                if new_l[\"len_choose\"] == 0:\n",
    "                    break\n",
    "\n",
    "        wandb.log({'val loss': val_loss, 'val accuracy': val_accuracy, 'train loss': train_loss} | new_l)\n",
    "\n",
    "\n",
    "def edge_replacement_func_new_layer(model, optim, val_loader, metric):\n",
    "    layer = model.fc1\n",
    "    ef = EdgeFinder(metric, val_loader, device)\n",
    "    vals = ef.calculate_edge_metric_for_dataloader(model)\n",
    "    print(f\"{len(vals)=} {max(vals)=}  {sum(vals)=} {min(vals)=}\")\n",
    "    chosen_edges = ef.choose_edges_threshold(model, 0.15)\n",
    "    print(\"choose:\", chosen_edges, len(chosen_edges[0]))\n",
    "    layer.replace_many(*chosen_edges)\n",
    "\n",
    "    if layer.embed_linears:\n",
    "        optim.add_param_group({'params': layer.embed_linears[-1].weight_values})\n",
    "    else:\n",
    "        print(\"empty metric\")\n",
    "        dummy_param = torch.zeros_like(layer.weight_values)\n",
    "        optim.add_param_group({'params': dummy_param})\n",
    "\n",
    "    return {'max': max(vals), 'sum': sum(vals), 'len': len(vals), 'len_choose': len(chosen_edges[0])}"
   ]
  },
  {
   "cell_type": "code",
   "execution_count": 5,
   "id": "1aff98b408abbf8d",
   "metadata": {
    "ExecuteTime": {
     "end_time": "2025-01-21T14:31:25.547124Z",
     "start_time": "2025-01-21T14:31:25.543666Z"
    }
   },
   "outputs": [],
   "source": [
    "# Define the model\n",
    "class SimpleFCN(nn.Module):\n",
    "    def __init__(self, input_size=28 * 28):\n",
    "        super(SimpleFCN, self).__init__()\n",
    "        self.fc1 = nn.Linear(input_size, 10)\n",
    "\n",
    "    def forward(self, x):\n",
    "        x = self.fc1(x)\n",
    "        return x"
   ]
  },
  {
   "cell_type": "code",
   "execution_count": 6,
   "id": "90353a5a49cd1022",
   "metadata": {
    "ExecuteTime": {
     "end_time": "2025-01-21T14:31:25.590348Z",
     "start_time": "2025-01-21T14:31:25.554956Z"
    }
   },
   "outputs": [],
   "source": [
    "# Dataset and Dataloader\n",
    "transform = transforms.Compose([\n",
    "    transforms.ToTensor(),\n",
    "    transforms.Lambda(lambda x: x.view(-1))\n",
    "])\n",
    "\n",
    "# Load dataset and split into train/validation sets\n",
    "dataset = datasets.MNIST(root='./data', train=True, download=True, transform=transform)\n",
    "train_size = int(0.8 * len(dataset))\n",
    "val_size = len(dataset) - train_size\n",
    "train_dataset, val_dataset = random_split(dataset, [train_size, val_size])\n",
    "\n",
    "train_loader = DataLoader(train_dataset, batch_size=64, shuffle=True)\n",
    "val_loader = DataLoader(val_dataset, batch_size=64, shuffle=False)"
   ]
  },
  {
   "cell_type": "code",
   "execution_count": 7,
   "id": "824f8403",
   "metadata": {
    "ExecuteTime": {
     "end_time": "2025-01-21T14:31:26.796856Z",
     "start_time": "2025-01-21T14:31:25.599555Z"
    }
   },
   "outputs": [
    {
     "data": {
      "text/plain": [
       "{4: 1179,\n",
       " 7: 1285,\n",
       " 9: 1139,\n",
       " 5: 1121,\n",
       " 3: 1193,\n",
       " 6: 1191,\n",
       " 8: 1150,\n",
       " 0: 1225,\n",
       " 1: 1353,\n",
       " 2: 1154}"
      ]
     },
     "execution_count": 7,
     "metadata": {},
     "output_type": "execute_result"
    }
   ],
   "source": [
    "label_dict = {}\n",
    "for i in val_dataset:\n",
    "    if i[1] not in label_dict.keys():\n",
    "        label_dict[i[1]] = 0\n",
    "    else:\n",
    "        label_dict[i[1]] += 1\n",
    "label_dict"
   ]
  },
  {
   "cell_type": "code",
   "execution_count": 8,
   "id": "dcb8129e6befdf70",
   "metadata": {
    "ExecuteTime": {
     "end_time": "2025-01-21T14:31:26.821483Z",
     "start_time": "2025-01-21T14:31:26.807650Z"
    }
   },
   "outputs": [
    {
     "data": {
      "text/plain": [
       "tensor([[  0,   0,   0,  ...,   9,   9,   9],\n",
       "        [  0,   1,   2,  ..., 781, 782, 783]])"
      ]
     },
     "execution_count": 8,
     "metadata": {},
     "output_type": "execute_result"
    }
   ],
   "source": [
    "criterion = nn.CrossEntropyLoss()\n",
    "metrics = [\n",
    "    MagnitudeL2Metric(criterion),\n",
    "    SNIPMetric(criterion),\n",
    "    GradientMeanEdgeMetric(criterion),\n",
    "    PerturbationSensitivityEdgeMetric(criterion),\n",
    "]\n",
    "model = SimpleFCN()\n",
    "sparse_model = convert_dense_to_sparse_network(model)\n",
    "sparse_linear = deepcopy(sparse_model.fc1)\n",
    "sparse_model.fc1.weight_indices"
   ]
  },
  {
   "cell_type": "code",
   "execution_count": 9,
   "id": "589d62a1",
   "metadata": {
    "ExecuteTime": {
     "end_time": "2025-01-21T14:31:27.487297Z",
     "start_time": "2025-01-21T14:31:27.429843Z"
    }
   },
   "outputs": [
    {
     "data": {
      "text/plain": [
       "tensor([[ 0,  0,  0,  0,  0,  0,  0,  0,  0,  0,  0,  0,  0,  0,  0,  0,  0,  0,\n",
       "          0,  0,  0,  0,  0,  0,  0,  0,  0,  0,  0,  0,  0,  0,  0,  0,  0,  0,\n",
       "          0,  0,  0,  0,  0,  0,  0,  0,  0,  0,  0,  0,  0,  0],\n",
       "        [ 0,  1,  2,  3,  4,  5,  6,  7,  8,  9, 10, 11, 12, 13, 14, 15, 16, 17,\n",
       "         18, 19, 20, 21, 22, 23, 24, 25, 26, 27, 28, 29, 30, 31, 32, 33, 34, 35,\n",
       "         36, 37, 38, 39, 40, 41, 42, 43, 44, 45, 46, 47, 48, 49]])"
      ]
     },
     "execution_count": 9,
     "metadata": {},
     "output_type": "execute_result"
    }
   ],
   "source": [
    "sparse_model.fc1.weight_indices[:, :50]"
   ]
  },
  {
   "cell_type": "code",
   "execution_count": 10,
   "id": "f31e8e93fc6da920",
   "metadata": {
    "ExecuteTime": {
     "end_time": "2025-01-21T14:31:27.503110Z",
     "start_time": "2025-01-21T14:31:27.499789Z"
    }
   },
   "outputs": [],
   "source": [
    "# ef = EdgeFinder(metrics[0], val_loader, device)\n",
    "# print(ef.choose_edges_threshold(sparse_model, 0.3))\n",
    "\n",
    "# raise \"e\""
   ]
  },
  {
   "cell_type": "code",
   "execution_count": 11,
   "id": "77e8399a",
   "metadata": {
    "ExecuteTime": {
     "end_time": "2025-01-21T14:31:30.645772Z",
     "start_time": "2025-01-21T14:31:27.560914Z"
    }
   },
   "outputs": [
    {
     "name": "stderr",
     "output_type": "stream",
     "text": [
      "wandb: Using wandb-core as the SDK backend.  Please refer to https://wandb.me/wandb-core for more information.\n",
      "wandb: Currently logged in as: fedornigretuk. Use `wandb login --relogin` to force relogin\n"
     ]
    },
    {
     "data": {
      "text/plain": [
       "True"
      ]
     },
     "execution_count": 11,
     "metadata": {},
     "output_type": "execute_result"
    }
   ],
   "source": [
    "import wandb\n",
    "\n",
    "wandb.login()"
   ]
  },
  {
   "cell_type": "code",
   "execution_count": 12,
   "id": "aeb264fa",
   "metadata": {
    "ExecuteTime": {
     "end_time": "2025-01-21T14:31:33.481690Z",
     "start_time": "2025-01-21T14:31:31.217820Z"
    }
   },
   "outputs": [
    {
     "data": {
      "text/html": [
       "Tracking run with wandb version 0.19.0"
      ],
      "text/plain": [
       "<IPython.core.display.HTML object>"
      ]
     },
     "metadata": {},
     "output_type": "display_data"
    },
    {
     "data": {
      "text/html": [
       "Run data is saved locally in <code>D:\\Coding\\PY\\self-expanding-nets\\experiments\\training\\wandb\\run-20250121_173131-yitk3ugv</code>"
      ],
      "text/plain": [
       "<IPython.core.display.HTML object>"
      ]
     },
     "metadata": {},
     "output_type": "display_data"
    },
    {
     "data": {
      "text/html": [
       "Syncing run <strong><a href='https://wandb.ai/fedornigretuk/self-expanding-nets/runs/yitk3ugv' target=\"_blank\">replace=(auto epoch, threshold 0.15), lr=5e-5, magnetic l2 metric</a></strong> to <a href='https://wandb.ai/fedornigretuk/self-expanding-nets' target=\"_blank\">Weights & Biases</a> (<a href='https://wandb.me/developer-guide' target=\"_blank\">docs</a>)<br/>"
      ],
      "text/plain": [
       "<IPython.core.display.HTML object>"
      ]
     },
     "metadata": {},
     "output_type": "display_data"
    },
    {
     "data": {
      "text/html": [
       " View project at <a href='https://wandb.ai/fedornigretuk/self-expanding-nets' target=\"_blank\">https://wandb.ai/fedornigretuk/self-expanding-nets</a>"
      ],
      "text/plain": [
       "<IPython.core.display.HTML object>"
      ]
     },
     "metadata": {},
     "output_type": "display_data"
    },
    {
     "data": {
      "text/html": [
       " View run at <a href='https://wandb.ai/fedornigretuk/self-expanding-nets/runs/yitk3ugv' target=\"_blank\">https://wandb.ai/fedornigretuk/self-expanding-nets/runs/yitk3ugv</a>"
      ],
      "text/plain": [
       "<IPython.core.display.HTML object>"
      ]
     },
     "metadata": {},
     "output_type": "display_data"
    }
   ],
   "source": [
    "run = wandb.init(\n",
    "    project=\"self-expanding-nets\",\n",
    "    name=f\"replace=(auto epoch, threshold 0.15), lr=5e-5, magnetic l2 metric\",\n",
    ")"
   ]
  },
  {
   "cell_type": "code",
   "execution_count": 13,
   "id": "fb8258dcf13e03d1",
   "metadata": {
    "ExecuteTime": {
     "end_time": "2025-01-21T14:56:03.763320Z",
     "start_time": "2025-01-21T14:31:35.998066Z"
    }
   },
   "outputs": [
    {
     "name": "stderr",
     "output_type": "stream",
     "text": [
      "100%|██████████| 750/750 [00:10<00:00, 74.65it/s]\n"
     ]
    },
    {
     "name": "stdout",
     "output_type": "stream",
     "text": [
      "Epoch 1/64, Train Loss: 1.7941, Val Loss: 1.3948, Val Accuracy: 0.7672\n"
     ]
    },
    {
     "name": "stderr",
     "output_type": "stream",
     "text": [
      "100%|██████████| 750/750 [00:09<00:00, 78.61it/s]\n"
     ]
    },
    {
     "name": "stdout",
     "output_type": "stream",
     "text": [
      "Epoch 2/64, Train Loss: 1.1640, Val Loss: 0.9907, Val Accuracy: 0.8234\n"
     ]
    },
    {
     "name": "stderr",
     "output_type": "stream",
     "text": [
      "100%|██████████| 750/750 [00:09<00:00, 83.29it/s]\n"
     ]
    },
    {
     "name": "stdout",
     "output_type": "stream",
     "text": [
      "Epoch 3/64, Train Loss: 0.8757, Val Loss: 0.7890, Val Accuracy: 0.8393\n"
     ]
    },
    {
     "name": "stderr",
     "output_type": "stream",
     "text": [
      "100%|██████████| 750/750 [00:09<00:00, 79.99it/s]\n"
     ]
    },
    {
     "name": "stdout",
     "output_type": "stream",
     "text": [
      "Epoch 4/64, Train Loss: 0.7201, Val Loss: 0.6701, Val Accuracy: 0.8535\n"
     ]
    },
    {
     "name": "stderr",
     "output_type": "stream",
     "text": [
      "100%|██████████| 750/750 [00:10<00:00, 71.24it/s]\n"
     ]
    },
    {
     "name": "stdout",
     "output_type": "stream",
     "text": [
      "Epoch 5/64, Train Loss: 0.6238, Val Loss: 0.5919, Val Accuracy: 0.8649\n",
      "len(vals)=7840 max(vals)=tensor(1.0000, grad_fn=<UnbindBackward0>)  sum(vals)=tensor(882.8075, grad_fn=<AddBackward0>) min(vals)=tensor(0., grad_fn=<UnbindBackward0>)\n",
      "choose: tensor([[  0,   0,   0,  ...,   9,   9,   9],\n",
      "        [ 65,  66,  71,  ..., 720, 745, 769]]) 2072\n"
     ]
    },
    {
     "name": "stderr",
     "output_type": "stream",
     "text": [
      "100%|██████████| 750/750 [00:14<00:00, 52.25it/s]\n"
     ]
    },
    {
     "name": "stdout",
     "output_type": "stream",
     "text": [
      "Epoch 6/64, Train Loss: 5.8177, Val Loss: 5.3259, Val Accuracy: 0.0503\n"
     ]
    },
    {
     "name": "stderr",
     "output_type": "stream",
     "text": [
      "100%|██████████| 750/750 [00:14<00:00, 52.33it/s]\n"
     ]
    },
    {
     "name": "stdout",
     "output_type": "stream",
     "text": [
      "Epoch 7/64, Train Loss: 4.9305, Val Loss: 4.5432, Val Accuracy: 0.0542\n"
     ]
    },
    {
     "name": "stderr",
     "output_type": "stream",
     "text": [
      "100%|██████████| 750/750 [00:14<00:00, 53.21it/s]\n"
     ]
    },
    {
     "name": "stdout",
     "output_type": "stream",
     "text": [
      "Epoch 8/64, Train Loss: 4.2151, Val Loss: 3.9068, Val Accuracy: 0.0679\n"
     ]
    },
    {
     "name": "stderr",
     "output_type": "stream",
     "text": [
      "100%|██████████| 750/750 [00:14<00:00, 51.05it/s]\n"
     ]
    },
    {
     "name": "stdout",
     "output_type": "stream",
     "text": [
      "Epoch 9/64, Train Loss: 3.6367, Val Loss: 3.3941, Val Accuracy: 0.0929\n"
     ]
    },
    {
     "name": "stderr",
     "output_type": "stream",
     "text": [
      "100%|██████████| 750/750 [00:14<00:00, 53.09it/s]\n"
     ]
    },
    {
     "name": "stdout",
     "output_type": "stream",
     "text": [
      "Epoch 10/64, Train Loss: 3.1666, Val Loss: 2.9730, Val Accuracy: 0.1284\n"
     ]
    },
    {
     "name": "stderr",
     "output_type": "stream",
     "text": [
      "100%|██████████| 750/750 [00:13<00:00, 53.92it/s]\n"
     ]
    },
    {
     "name": "stdout",
     "output_type": "stream",
     "text": [
      "Epoch 11/64, Train Loss: 2.7777, Val Loss: 2.6212, Val Accuracy: 0.1782\n"
     ]
    },
    {
     "name": "stderr",
     "output_type": "stream",
     "text": [
      "100%|██████████| 750/750 [00:13<00:00, 56.86it/s]\n"
     ]
    },
    {
     "name": "stdout",
     "output_type": "stream",
     "text": [
      "Epoch 12/64, Train Loss: 2.4520, Val Loss: 2.3252, Val Accuracy: 0.2361\n"
     ]
    },
    {
     "name": "stderr",
     "output_type": "stream",
     "text": [
      "100%|██████████| 750/750 [00:13<00:00, 55.07it/s]\n"
     ]
    },
    {
     "name": "stdout",
     "output_type": "stream",
     "text": [
      "Epoch 13/64, Train Loss: 2.1781, Val Loss: 2.0750, Val Accuracy: 0.3019\n"
     ]
    },
    {
     "name": "stderr",
     "output_type": "stream",
     "text": [
      "100%|██████████| 750/750 [00:14<00:00, 51.78it/s]\n"
     ]
    },
    {
     "name": "stdout",
     "output_type": "stream",
     "text": [
      "Epoch 14/64, Train Loss: 1.9462, Val Loss: 1.8621, Val Accuracy: 0.3689\n"
     ]
    },
    {
     "name": "stderr",
     "output_type": "stream",
     "text": [
      "100%|██████████| 750/750 [00:15<00:00, 47.49it/s]\n"
     ]
    },
    {
     "name": "stdout",
     "output_type": "stream",
     "text": [
      "Epoch 15/64, Train Loss: 1.7499, Val Loss: 1.6820, Val Accuracy: 0.4337\n"
     ]
    },
    {
     "name": "stderr",
     "output_type": "stream",
     "text": [
      "100%|██████████| 750/750 [00:14<00:00, 51.98it/s]\n"
     ]
    },
    {
     "name": "stdout",
     "output_type": "stream",
     "text": [
      "Epoch 16/64, Train Loss: 1.5843, Val Loss: 1.5308, Val Accuracy: 0.4899\n"
     ]
    },
    {
     "name": "stderr",
     "output_type": "stream",
     "text": [
      "100%|██████████| 750/750 [00:14<00:00, 53.33it/s]\n"
     ]
    },
    {
     "name": "stdout",
     "output_type": "stream",
     "text": [
      "Epoch 17/64, Train Loss: 1.4469, Val Loss: 1.4061, Val Accuracy: 0.5369\n"
     ]
    },
    {
     "name": "stderr",
     "output_type": "stream",
     "text": [
      "100%|██████████| 750/750 [00:14<00:00, 53.39it/s]\n"
     ]
    },
    {
     "name": "stdout",
     "output_type": "stream",
     "text": [
      "Epoch 18/64, Train Loss: 1.3326, Val Loss: 1.3010, Val Accuracy: 0.5775\n"
     ]
    },
    {
     "name": "stderr",
     "output_type": "stream",
     "text": [
      "100%|██████████| 750/750 [00:12<00:00, 58.69it/s]\n"
     ]
    },
    {
     "name": "stdout",
     "output_type": "stream",
     "text": [
      "Epoch 19/64, Train Loss: 1.2360, Val Loss: 1.2124, Val Accuracy: 0.6134\n",
      "len(vals)=7840 max(vals)=tensor(1., grad_fn=<UnbindBackward0>)  sum(vals)=tensor(706.6859, grad_fn=<AddBackward0>) min(vals)=tensor(0., grad_fn=<UnbindBackward0>)\n",
      "choose: tensor([[   0,    0,    0,  ...,    9,    9,    9],\n",
      "        [ 784,  785,  786,  ..., 2852, 2854, 2855]]) 1263\n"
     ]
    },
    {
     "name": "stderr",
     "output_type": "stream",
     "text": [
      "100%|██████████| 750/750 [00:18<00:00, 39.92it/s]\n"
     ]
    },
    {
     "name": "stdout",
     "output_type": "stream",
     "text": [
      "Epoch 20/64, Train Loss: 1.3219, Val Loss: 1.2622, Val Accuracy: 0.6081\n",
      "len(vals)=7840 max(vals)=tensor(1., grad_fn=<UnbindBackward0>)  sum(vals)=tensor(493.7534, grad_fn=<AddBackward0>) min(vals)=tensor(0., grad_fn=<UnbindBackward0>)\n",
      "choose: tensor([[   0,    0,    0,  ...,    9,    9,    9],\n",
      "        [2856, 2860, 2862,  ..., 4116, 4117, 4118]]) 809\n"
     ]
    },
    {
     "name": "stderr",
     "output_type": "stream",
     "text": [
      "100%|██████████| 750/750 [00:21<00:00, 34.17it/s]\n"
     ]
    },
    {
     "name": "stdout",
     "output_type": "stream",
     "text": [
      "Epoch 21/64, Train Loss: 1.3687, Val Loss: 1.3333, Val Accuracy: 0.6288\n",
      "len(vals)=7840 max(vals)=tensor(1., grad_fn=<UnbindBackward0>)  sum(vals)=tensor(340.6533, grad_fn=<AddBackward0>) min(vals)=tensor(0., grad_fn=<UnbindBackward0>)\n",
      "choose: tensor([[   0,    0,    0,    0,    0,    0,    0,    0,    0,    0,    0,    0,\n",
      "            0,    0,    0,    0,    0,    0,    0,    0,    0,    0,    0,    0,\n",
      "            0,    0,    0,    0,    0,    0,    0,    0,    0,    0,    0,    1,\n",
      "            1,    1,    1,    1,    1,    1,    1,    1,    1,    1,    1,    1,\n",
      "            1,    1,    1,    1,    1,    1,    1,    1,    1,    1,    1,    1,\n",
      "            1,    1,    1,    1,    1,    1,    1,    1,    1,    1,    1,    1,\n",
      "            1,    1,    1,    1,    1,    1,    1,    1,    1,    1,    1,    1,\n",
      "            1,    1,    1,    1,    1,    1,    1,    1,    1,    1,    1,    1,\n",
      "            1,    2,    2,    2,    2,    2,    2,    2,    2,    2,    2,    2,\n",
      "            2,    2,    2,    2,    2,    2,    2,    2,    2,    2,    2,    2,\n",
      "            2,    2,    2,    2,    2,    2,    2,    2,    2,    2,    2,    2,\n",
      "            2,    2,    2,    2,    2,    2,    2,    2,    2,    2,    2,    2,\n",
      "            2,    2,    3,    3,    3,    3,    3,    3,    3,    3,    3,    3,\n",
      "            3,    3,    3,    3,    3,    3,    3,    3,    3,    3,    3,    3,\n",
      "            3,    3,    3,    3,    3,    3,    3,    3,    3,    3,    3,    4,\n",
      "            4,    4,    4,    4,    4,    4,    4,    4,    4,    4,    4,    4,\n",
      "            4,    4,    4,    4,    4,    4,    4,    4,    4,    4,    4,    4,\n",
      "            4,    4,    4,    4,    4,    4,    4,    4,    4,    4,    4,    4,\n",
      "            4,    4,    4,    4,    4,    4,    4,    4,    4,    4,    4,    4,\n",
      "            4,    4,    4,    4,    4,    4,    4,    4,    5,    5,    5,    5,\n",
      "            5,    5,    5,    5,    5,    5,    5,    5,    5,    5,    5,    5,\n",
      "            5,    5,    5,    5,    5,    5,    5,    5,    5,    5,    5,    5,\n",
      "            5,    5,    5,    5,    5,    5,    5,    6,    6,    6,    6,    6,\n",
      "            6,    6,    6,    6,    6,    6,    6,    6,    6,    6,    6,    6,\n",
      "            6,    6,    6,    6,    6,    6,    6,    6,    6,    6,    6,    6,\n",
      "            6,    6,    6,    6,    6,    6,    6,    6,    6,    6,    6,    6,\n",
      "            6,    6,    6,    6,    6,    6,    6,    6,    6,    6,    6,    6,\n",
      "            7,    7,    7,    7,    7,    7,    7,    7,    7,    7,    7,    7,\n",
      "            7,    7,    7,    7,    7,    7,    7,    7,    7,    7,    7,    7,\n",
      "            7,    7,    7,    7,    7,    7,    7,    7,    7,    7,    7,    7,\n",
      "            7,    7,    7,    7,    7,    7,    7,    7,    7,    7,    7,    7,\n",
      "            7,    7,    7,    7,    7,    7,    7,    7,    7,    7,    7,    7,\n",
      "            7,    7,    7,    7,    7,    7,    7,    7,    7,    7,    8,    8,\n",
      "            8,    8,    8,    8,    8,    8,    8,    8,    8,    8,    8,    8,\n",
      "            8,    8,    8,    8,    8,    8,    8,    8,    8,    8,    8,    8,\n",
      "            8,    8,    8,    8,    8,    8,    8,    8,    8,    9,    9,    9,\n",
      "            9,    9,    9,    9,    9,    9,    9,    9,    9,    9,    9,    9,\n",
      "            9,    9,    9,    9,    9,    9,    9,    9,    9,    9,    9,    9,\n",
      "            9,    9,    9,    9,    9,    9,    9,    9,    9,    9,    9,    9,\n",
      "            9,    9,    9,    9,    9,    9,    9,    9,    9,    9,    9,    9,\n",
      "            9,    9,    9,    9,    9,    9,    9,    9,    9],\n",
      "        [4119, 4122, 4124, 4125, 4126, 4127, 4128, 4129, 4131, 4133, 4134, 4135,\n",
      "         4136, 4137, 4143, 4144, 4147, 4150, 4151, 4152, 4153, 4156, 4157, 4158,\n",
      "         4159, 4160, 4164, 4165, 4169, 4173, 4174, 4180, 4181, 4183, 4184, 4185,\n",
      "         4186, 4191, 4193, 4194, 4195, 4196, 4197, 4198, 4199, 4200, 4204, 4205,\n",
      "         4207, 4208, 4209, 4210, 4213, 4214, 4215, 4216, 4219, 4221, 4222, 4223,\n",
      "         4226, 4227, 4229, 4232, 4233, 4234, 4236, 4238, 4244, 4245, 4247, 4248,\n",
      "         4251, 4253, 4254, 4255, 4256, 4257, 4258, 4260, 4262, 4263, 4265, 4269,\n",
      "         4270, 4274, 4275, 4276, 4277, 4278, 4281, 4282, 4284, 4285, 4286, 4288,\n",
      "         4289, 4291, 4292, 4295, 4296, 4297, 4298, 4301, 4304, 4310, 4314, 4316,\n",
      "         4317, 4318, 4319, 4320, 4321, 4322, 4323, 4324, 4327, 4328, 4329, 4330,\n",
      "         4331, 4332, 4335, 4337, 4338, 4339, 4340, 4341, 4342, 4344, 4346, 4347,\n",
      "         4349, 4350, 4351, 4352, 4353, 4354, 4355, 4357, 4359, 4360, 4361, 4363,\n",
      "         4364, 4366, 4369, 4370, 4371, 4372, 4374, 4377, 4378, 4380, 4381, 4382,\n",
      "         4383, 4384, 4385, 4390, 4391, 4396, 4397, 4398, 4400, 4404, 4405, 4411,\n",
      "         4414, 4415, 4417, 4419, 4421, 4422, 4423, 4424, 4425, 4427, 4429, 4437,\n",
      "         4439, 4440, 4441, 4442, 4443, 4444, 4446, 4447, 4448, 4449, 4452, 4453,\n",
      "         4456, 4457, 4459, 4460, 4463, 4464, 4466, 4467, 4468, 4471, 4472, 4474,\n",
      "         4476, 4477, 4478, 4479, 4481, 4483, 4484, 4485, 4487, 4490, 4493, 4494,\n",
      "         4495, 4498, 4500, 4501, 4502, 4503, 4504, 4506, 4510, 4511, 4512, 4514,\n",
      "         4516, 4518, 4519, 4520, 4521, 4522, 4523, 4524, 4526, 4527, 4528, 4531,\n",
      "         4532, 4534, 4535, 4536, 4537, 4538, 4540, 4541, 4542, 4543, 4545, 4546,\n",
      "         4547, 4548, 4549, 4550, 4551, 4552, 4554, 4556, 4557, 4559, 4561, 4564,\n",
      "         4566, 4567, 4568, 4569, 4573, 4577, 4578, 4579, 4580, 4583, 4585, 4588,\n",
      "         4589, 4590, 4591, 4592, 4594, 4595, 4596, 4597, 4598, 4600, 4601, 4602,\n",
      "         4604, 4605, 4606, 4608, 4610, 4611, 4612, 4613, 4616, 4617, 4618, 4619,\n",
      "         4620, 4622, 4623, 4624, 4625, 4626, 4627, 4628, 4629, 4630, 4631, 4633,\n",
      "         4634, 4637, 4639, 4641, 4643, 4644, 4648, 4650, 4658, 4660, 4661, 4664,\n",
      "         4665, 4666, 4667, 4668, 4669, 4670, 4671, 4672, 4673, 4675, 4676, 4677,\n",
      "         4679, 4680, 4681, 4683, 4685, 4686, 4687, 4688, 4689, 4693, 4698, 4699,\n",
      "         4700, 4701, 4702, 4704, 4706, 4707, 4708, 4712, 4713, 4714, 4715, 4716,\n",
      "         4717, 4718, 4719, 4720, 4721, 4722, 4723, 4727, 4729, 4732, 4733, 4735,\n",
      "         4737, 4738, 4740, 4744, 4745, 4746, 4747, 4748, 4749, 4751, 4753, 4755,\n",
      "         4756, 4758, 4759, 4761, 4763, 4764, 4765, 4766, 4767, 4769, 4770, 4772,\n",
      "         4779, 4781, 4783, 4786, 4787, 4790, 4793, 4794, 4797, 4800, 4801, 4803,\n",
      "         4804, 4806, 4808, 4811, 4813, 4814, 4815, 4818, 4819, 4823, 4824, 4826,\n",
      "         4827, 4828, 4829, 4830, 4831, 4833, 4834, 4837, 4839, 4842, 4843, 4846,\n",
      "         4847, 4848, 4849, 4850, 4851, 4853, 4854, 4855, 4856, 4857, 4858, 4861,\n",
      "         4862, 4863, 4865, 4866, 4867, 4868, 4869, 4870, 4871, 4872, 4873, 4874,\n",
      "         4875, 4876, 4877, 4879, 4880, 4881, 4884, 4886, 4887, 4889, 4891, 4892,\n",
      "         4893, 4895, 4897, 4898, 4900, 4902, 4903, 4905, 4906, 4907, 4908, 4910,\n",
      "         4914, 4915, 4917, 4918, 4920, 4923, 4924, 4926, 4927]]) 489\n"
     ]
    },
    {
     "name": "stderr",
     "output_type": "stream",
     "text": [
      "100%|██████████| 750/750 [00:25<00:00, 29.23it/s]\n"
     ]
    },
    {
     "name": "stdout",
     "output_type": "stream",
     "text": [
      "Epoch 22/64, Train Loss: 1.3730, Val Loss: 1.3421, Val Accuracy: 0.6478\n",
      "len(vals)=7840 max(vals)=tensor(1., grad_fn=<UnbindBackward0>)  sum(vals)=tensor(242.4694, grad_fn=<AddBackward0>) min(vals)=tensor(0., grad_fn=<UnbindBackward0>)\n",
      "choose: tensor([[   0,    0,    0,    0,    0,    0,    0,    0,    0,    0,    0,    0,\n",
      "            0,    0,    0,    0,    0,    0,    0,    0,    1,    1,    1,    1,\n",
      "            1,    1,    1,    1,    1,    1,    1,    1,    1,    1,    1,    1,\n",
      "            1,    1,    1,    1,    1,    1,    1,    1,    1,    1,    1,    1,\n",
      "            1,    1,    1,    1,    2,    2,    2,    2,    2,    2,    2,    2,\n",
      "            2,    2,    2,    2,    2,    2,    2,    2,    2,    2,    2,    2,\n",
      "            2,    2,    2,    2,    2,    2,    2,    2,    2,    2,    2,    2,\n",
      "            2,    2,    2,    3,    3,    3,    3,    3,    3,    3,    3,    3,\n",
      "            3,    3,    3,    3,    3,    3,    3,    3,    3,    4,    4,    4,\n",
      "            4,    4,    4,    4,    4,    4,    4,    4,    4,    4,    4,    4,\n",
      "            4,    4,    4,    4,    4,    4,    4,    4,    4,    4,    4,    4,\n",
      "            5,    5,    5,    5,    5,    5,    5,    5,    5,    5,    5,    5,\n",
      "            5,    5,    5,    5,    5,    5,    5,    5,    5,    6,    6,    6,\n",
      "            6,    6,    6,    6,    6,    6,    6,    6,    6,    6,    6,    6,\n",
      "            6,    6,    6,    6,    6,    6,    6,    6,    6,    6,    6,    6,\n",
      "            6,    6,    6,    6,    7,    7,    7,    7,    7,    7,    7,    7,\n",
      "            7,    7,    7,    7,    7,    7,    7,    7,    7,    7,    7,    7,\n",
      "            7,    7,    7,    7,    7,    7,    7,    7,    7,    7,    7,    7,\n",
      "            7,    7,    7,    7,    7,    7,    7,    7,    7,    7,    7,    8,\n",
      "            8,    8,    8,    8,    8,    8,    8,    8,    8,    8,    8,    8,\n",
      "            8,    8,    8,    8,    8,    8,    8,    8,    9,    9,    9,    9,\n",
      "            9,    9,    9,    9,    9,    9,    9,    9,    9,    9,    9,    9,\n",
      "            9,    9,    9,    9,    9,    9,    9,    9,    9,    9,    9,    9,\n",
      "            9,    9,    9,    9,    9,    9,    9,    9,    9,    9,    9,    9],\n",
      "        [4929, 4930, 4935, 4937, 4938, 4939, 4940, 4941, 4942, 4943, 4944, 4945,\n",
      "         4947, 4948, 4950, 4953, 4956, 4957, 4959, 4961, 4963, 4964, 4966, 4967,\n",
      "         4971, 4972, 4974, 4975, 4978, 4980, 4983, 4986, 4987, 4988, 4989, 4999,\n",
      "         5000, 5001, 5006, 5008, 5009, 5011, 5012, 5013, 5015, 5016, 5018, 5019,\n",
      "         5020, 5022, 5023, 5024, 5025, 5027, 5030, 5031, 5033, 5034, 5037, 5038,\n",
      "         5039, 5041, 5042, 5045, 5046, 5047, 5048, 5049, 5051, 5053, 5054, 5055,\n",
      "         5056, 5057, 5058, 5059, 5060, 5061, 5062, 5063, 5065, 5066, 5068, 5070,\n",
      "         5071, 5072, 5073, 5077, 5078, 5079, 5080, 5081, 5085, 5086, 5089, 5090,\n",
      "         5092, 5093, 5095, 5096, 5098, 5099, 5102, 5104, 5105, 5107, 5108, 5110,\n",
      "         5111, 5112, 5113, 5115, 5116, 5117, 5118, 5119, 5121, 5125, 5126, 5138,\n",
      "         5139, 5140, 5141, 5143, 5144, 5147, 5148, 5149, 5151, 5158, 5161, 5162,\n",
      "         5164, 5168, 5169, 5170, 5171, 5174, 5175, 5176, 5178, 5181, 5183, 5184,\n",
      "         5187, 5188, 5189, 5191, 5192, 5193, 5196, 5197, 5198, 5199, 5200, 5201,\n",
      "         5202, 5205, 5206, 5209, 5212, 5213, 5214, 5215, 5218, 5219, 5220, 5222,\n",
      "         5226, 5230, 5232, 5233, 5236, 5237, 5238, 5239, 5242, 5243, 5245, 5246,\n",
      "         5247, 5249, 5250, 5251, 5252, 5253, 5254, 5256, 5257, 5259, 5260, 5261,\n",
      "         5263, 5264, 5265, 5267, 5268, 5270, 5271, 5273, 5274, 5276, 5278, 5279,\n",
      "         5280, 5281, 5283, 5287, 5291, 5292, 5294, 5299, 5301, 5302, 5303, 5304,\n",
      "         5305, 5306, 5307, 5308, 5311, 5313, 5315, 5317, 5318, 5319, 5321, 5323,\n",
      "         5324, 5325, 5327, 5328, 5329, 5332, 5333, 5334, 5335, 5336, 5337, 5339,\n",
      "         5340, 5341, 5342, 5343, 5347, 5348, 5349, 5350, 5357, 5359, 5360, 5363,\n",
      "         5364, 5365, 5367, 5369, 5370, 5374, 5375, 5376, 5377, 5378, 5380, 5381,\n",
      "         5382, 5383, 5384, 5386, 5387, 5388, 5389, 5391, 5392, 5396, 5397, 5400,\n",
      "         5401, 5402, 5403, 5404, 5406, 5408, 5409, 5410, 5412, 5413, 5414, 5416]]) 288\n"
     ]
    },
    {
     "name": "stderr",
     "output_type": "stream",
     "text": [
      "100%|██████████| 750/750 [00:24<00:00, 30.73it/s]\n"
     ]
    },
    {
     "name": "stdout",
     "output_type": "stream",
     "text": [
      "Epoch 23/64, Train Loss: 1.3388, Val Loss: 1.3150, Val Accuracy: 0.6821\n",
      "len(vals)=7840 max(vals)=tensor(1., grad_fn=<UnbindBackward0>)  sum(vals)=tensor(179.6160, grad_fn=<AddBackward0>) min(vals)=tensor(0., grad_fn=<UnbindBackward0>)\n",
      "choose: tensor([[   5,    0,    0,    0,    0,    0,    0,    0,    0,    0,    1,    1,\n",
      "            1,    1,    1,    1,    1,    1,    1,    1,    1,    1,    1,    1,\n",
      "            1,    1,    1,    1,    2,    2,    2,    2,    2,    2,    2,    2,\n",
      "            2,    2,    2,    2,    2,    2,    2,    2,    2,    3,    3,    3,\n",
      "            3,    3,    3,    3,    4,    4,    4,    4,    4,    4,    4,    4,\n",
      "            4,    4,    4,    4,    4,    4,    4,    4,    5,    5,    5,    5,\n",
      "            5,    5,    5,    5,    5,    5,    5,    5,    6,    6,    6,    6,\n",
      "            6,    6,    6,    6,    6,    6,    6,    6,    6,    6,    6,    6,\n",
      "            6,    6,    6,    6,    6,    7,    7,    7,    7,    7,    7,    7,\n",
      "            7,    7,    7,    7,    7,    7,    7,    7,    7,    7,    7,    7,\n",
      "            7,    7,    7,    7,    7,    7,    7,    7,    8,    8,    8,    8,\n",
      "            8,    8,    8,    8,    9,    9,    9,    9,    9,    9,    9,    9,\n",
      "            9,    9,    9,    9,    9,    9,    9,    9,    9,    9,    9,    9,\n",
      "            9,    9,    9,    9,    9,    9],\n",
      "        [1897, 5420, 5421, 5422, 5423, 5427, 5428, 5429, 5431, 5434, 5439, 5440,\n",
      "         5441, 5442, 5444, 5446, 5448, 5449, 5452, 5454, 5457, 5459, 5460, 5461,\n",
      "         5462, 5465, 5466, 5467, 5469, 5471, 5472, 5473, 5475, 5476, 5479, 5480,\n",
      "         5481, 5483, 5484, 5487, 5490, 5497, 5499, 5501, 5503, 5507, 5508, 5511,\n",
      "         5512, 5515, 5517, 5520, 5522, 5523, 5524, 5528, 5529, 5531, 5533, 5535,\n",
      "         5536, 5537, 5539, 5540, 5541, 5542, 5545, 5548, 5549, 5550, 5552, 5553,\n",
      "         5554, 5556, 5558, 5560, 5562, 5566, 5567, 5569, 5570, 5572, 5573, 5574,\n",
      "         5575, 5576, 5577, 5580, 5582, 5583, 5585, 5588, 5589, 5590, 5592, 5593,\n",
      "         5594, 5595, 5597, 5599, 5600, 5601, 5602, 5603, 5604, 5606, 5608, 5610,\n",
      "         5611, 5613, 5614, 5616, 5618, 5620, 5621, 5623, 5624, 5625, 5626, 5628,\n",
      "         5629, 5630, 5631, 5633, 5635, 5638, 5639, 5641, 5644, 5648, 5651, 5653,\n",
      "         5658, 5661, 5662, 5664, 5666, 5667, 5668, 5669, 5670, 5672, 5674, 5675,\n",
      "         5676, 5677, 5678, 5679, 5684, 5685, 5686, 5687, 5688, 5690, 5693, 5694,\n",
      "         5695, 5697, 5699, 5701, 5702, 5704]]) 162\n"
     ]
    },
    {
     "name": "stderr",
     "output_type": "stream",
     "text": [
      "100%|██████████| 750/750 [00:31<00:00, 23.45it/s]\n"
     ]
    },
    {
     "name": "stdout",
     "output_type": "stream",
     "text": [
      "Epoch 24/64, Train Loss: 1.3007, Val Loss: 1.2800, Val Accuracy: 0.7035\n",
      "len(vals)=7840 max(vals)=tensor(1., grad_fn=<UnbindBackward0>)  sum(vals)=tensor(162.1776, grad_fn=<AddBackward0>) min(vals)=tensor(0., grad_fn=<UnbindBackward0>)\n",
      "choose: tensor([[   5,    0,    0,    0,    0,    0,    0,    0,    1,    1,    1,    1,\n",
      "            1,    1,    1,    1,    1,    1,    1,    1,    1,    2,    2,    2,\n",
      "            2,    2,    2,    2,    2,    2,    3,    3,    3,    3,    3,    4,\n",
      "            4,    4,    4,    4,    4,    4,    4,    4,    4,    4,    4,    5,\n",
      "            5,    5,    5,    5,    5,    5,    5,    5,    6,    6,    6,    6,\n",
      "            6,    6,    6,    6,    6,    6,    6,    6,    6,    6,    6,    6,\n",
      "            7,    7,    7,    7,    7,    7,    7,    7,    7,    7,    7,    7,\n",
      "            7,    7,    7,    7,    7,    7,    7,    7,    8,    8,    8,    8,\n",
      "            8,    8,    9,    9,    9,    9,    9,    9,    9,    9,    9,    9,\n",
      "            9,    9,    9,    9,    9,    9,    9],\n",
      "        [5705, 5706, 5707, 5709, 5710, 5711, 5712, 5713, 5715, 5717, 5719, 5720,\n",
      "         5722, 5723, 5726, 5727, 5728, 5729, 5730, 5731, 5732, 5734, 5735, 5738,\n",
      "         5741, 5745, 5746, 5747, 5748, 5749, 5750, 5751, 5752, 5754, 5755, 5757,\n",
      "         5758, 5760, 5762, 5763, 5764, 5765, 5766, 5767, 5768, 5770, 5772, 5774,\n",
      "         5775, 5776, 5777, 5779, 5780, 5781, 5782, 5783, 5785, 5786, 5787, 5789,\n",
      "         5791, 5792, 5793, 5795, 5796, 5797, 5798, 5799, 5800, 5801, 5803, 5805,\n",
      "         5806, 5807, 5809, 5810, 5811, 5813, 5814, 5815, 5816, 5818, 5819, 5820,\n",
      "         5821, 5823, 5824, 5825, 5827, 5829, 5830, 5832, 5833, 5834, 5835, 5836,\n",
      "         5837, 5839, 5841, 5842, 5844, 5846, 5847, 5848, 5850, 5851, 5852, 5853,\n",
      "         5858, 5859, 5861, 5862, 5863, 5865, 5866]]) 115\n"
     ]
    },
    {
     "name": "stderr",
     "output_type": "stream",
     "text": [
      "100%|██████████| 750/750 [00:35<00:00, 21.36it/s]\n"
     ]
    },
    {
     "name": "stdout",
     "output_type": "stream",
     "text": [
      "Epoch 25/64, Train Loss: 1.2639, Val Loss: 1.2454, Val Accuracy: 0.7181\n",
      "len(vals)=7840 max(vals)=tensor(1., grad_fn=<UnbindBackward0>)  sum(vals)=tensor(146.6765, grad_fn=<AddBackward0>) min(vals)=tensor(0., grad_fn=<UnbindBackward0>)\n",
      "choose: tensor([[   0,    5,    6,    7,    9,    9,    9,    1,    6,    9,    9,    2,\n",
      "            0,    1,    7,    9,    9,    9,    0,    0,    0,    0,    0,    0,\n",
      "            1,    1,    1,    1,    1,    1,    1,    1,    1,    1,    1,    2,\n",
      "            2,    2,    2,    2,    2,    3,    3,    3,    4,    4,    4,    4,\n",
      "            4,    4,    4,    5,    5,    5,    5,    6,    6,    6,    6,    6,\n",
      "            6,    6,    6,    6,    6,    6,    6,    7,    7,    7,    7,    7,\n",
      "            7,    7,    7,    7,    8,    8,    8,    9,    9,    9,    9,    9,\n",
      "            9,    9,    9,    9,    9,    9,    9],\n",
      "        [ 840, 1981, 2020, 2285, 2733, 2827, 2843, 2983, 3605, 3981, 4013, 4343,\n",
      "         4955, 4992, 5266, 5393, 5394, 5864, 5868, 5870, 5871, 5872, 5873, 5874,\n",
      "         5875, 5876, 5877, 5878, 5880, 5881, 5882, 5883, 5884, 5885, 5886, 5888,\n",
      "         5889, 5891, 5892, 5893, 5895, 5898, 5900, 5901, 5904, 5905, 5906, 5907,\n",
      "         5908, 5911, 5912, 5914, 5918, 5920, 5921, 5923, 5926, 5927, 5928, 5929,\n",
      "         5930, 5931, 5934, 5935, 5936, 5937, 5938, 5941, 5943, 5945, 5947, 5948,\n",
      "         5949, 5950, 5955, 5957, 5959, 5961, 5964, 5965, 5966, 5968, 5969, 5971,\n",
      "         5972, 5974, 5975, 5976, 5979, 5980, 5981]]) 91\n"
     ]
    },
    {
     "name": "stderr",
     "output_type": "stream",
     "text": [
      "100%|██████████| 750/750 [00:31<00:00, 24.00it/s]\n"
     ]
    },
    {
     "name": "stdout",
     "output_type": "stream",
     "text": [
      "Epoch 26/64, Train Loss: 1.2230, Val Loss: 1.2071, Val Accuracy: 0.7397\n",
      "len(vals)=7840 max(vals)=tensor(1., grad_fn=<UnbindBackward0>)  sum(vals)=tensor(139.3961, grad_fn=<AddBackward0>) min(vals)=tensor(0., grad_fn=<UnbindBackward0>)\n",
      "choose: tensor([[   1,    1,    1,    3,    4,    4,    6,    6,    6,    6,    6,    7,\n",
      "            7,    7,    9,    9,    9,    0,    0,    0,    1,    1,    1,    2,\n",
      "            7,    7,    8,    8,    9,    0,    1,    1,    2,    6,    6,    6,\n",
      "            8,    8,    9,    1,    3,    4,    6,    0,    2,    5,    6,    7,\n",
      "            0,    9,    6,    9,    2,    0,    7,    9,    9,    0,    0,    0,\n",
      "            0,    0,    1,    1,    1,    1,    1,    2,    2,    2,    2,    3,\n",
      "            3,    4,    4,    4,    4,    5,    5,    6,    6,    6,    6,    6,\n",
      "            6,    6,    6,    7,    7,    7,    8,    8,    9,    9,    9,    9,\n",
      "            9,    9,    9,    9,    9,    9],\n",
      "        [ 991, 1185, 1218, 1491, 1634, 1765, 2018, 2019, 2052, 2088, 2104, 2240,\n",
      "         2245, 2314, 2689, 2726, 2821, 2870, 2907, 2970, 3028, 3032, 3096, 3152,\n",
      "         3774, 3786, 3906, 3916, 4040, 4163, 4259, 4267, 4303, 4581, 4615, 4662,\n",
      "         4825, 4832, 4878, 5002, 5101, 5129, 5210, 5424, 5477, 5568, 5788, 5958,\n",
      "         5982, 5987, 5990, 5991, 5993, 5994, 5996, 5997, 5998, 6000, 6002, 6003,\n",
      "         6004, 6005, 6006, 6010, 6012, 6014, 6015, 6018, 6020, 6021, 6022, 6023,\n",
      "         6025, 6029, 6030, 6031, 6032, 6033, 6035, 6037, 6038, 6039, 6041, 6042,\n",
      "         6043, 6044, 6046, 6051, 6056, 6057, 6059, 6060, 6061, 6062, 6063, 6066,\n",
      "         6067, 6068, 6069, 6070, 6071, 6072]]) 102\n"
     ]
    },
    {
     "name": "stderr",
     "output_type": "stream",
     "text": [
      "100%|██████████| 750/750 [00:34<00:00, 21.56it/s]\n"
     ]
    },
    {
     "name": "stdout",
     "output_type": "stream",
     "text": [
      "Epoch 27/64, Train Loss: 1.1947, Val Loss: 1.1809, Val Accuracy: 0.7482\n",
      "len(vals)=7840 max(vals)=tensor(1., grad_fn=<UnbindBackward0>)  sum(vals)=tensor(135.6727, grad_fn=<AddBackward0>) min(vals)=tensor(0., grad_fn=<UnbindBackward0>)\n",
      "choose: tensor([[   3,    4,    4,    6,    6,    6,    6,    9,    9,    0,    1,    1,\n",
      "            1,    2,    7,    8,    8,    0,    1,    1,    2,    6,    6,    6,\n",
      "            9,    1,    4,    6,    0,    2,    5,    6,    0,    6,    9,    2,\n",
      "            0,    9,    9,    0,    0,    0,    0,    1,    1,    2,    2,    2,\n",
      "            3,    4,    4,    6,    6,    6,    6,    6,    7,    7,    7,    8,\n",
      "            9,    9,    9,    9,    9],\n",
      "        [6076, 6077, 6078, 6079, 6080, 6081, 6082, 6087, 6089, 6092, 6093, 6094,\n",
      "         6095, 6096, 6097, 6099, 6100, 6102, 6103, 6104, 6105, 6106, 6107, 6108,\n",
      "         6111, 6112, 6114, 6115, 6116, 6117, 6118, 6119, 6121, 6123, 6124, 6125,\n",
      "         6126, 6128, 6129, 6130, 6132, 6133, 6134, 6135, 6138, 6140, 6141, 6143,\n",
      "         6144, 6147, 6149, 6153, 6154, 6155, 6157, 6159, 6160, 6161, 6162, 6163,\n",
      "         6166, 6167, 6168, 6171, 6172]]) 65\n"
     ]
    },
    {
     "name": "stderr",
     "output_type": "stream",
     "text": [
      "100%|██████████| 750/750 [00:33<00:00, 22.37it/s]\n"
     ]
    },
    {
     "name": "stdout",
     "output_type": "stream",
     "text": [
      "Epoch 28/64, Train Loss: 1.1603, Val Loss: 1.1483, Val Accuracy: 0.7618\n",
      "len(vals)=7840 max(vals)=tensor(1., grad_fn=<UnbindBackward0>)  sum(vals)=tensor(136.6050, grad_fn=<AddBackward0>) min(vals)=tensor(0., grad_fn=<UnbindBackward0>)\n",
      "choose: tensor([[   0,    0,    1,    2,    2,    3,    3,    3,    4,    4,    4,    5,\n",
      "            6,    6,    6,    7,    8,    9,    0,    0,    1,    1,    2,    6,\n",
      "            7,    7,    8,    9,    0,    0,    1,    3,    3,    4,    6,    7,\n",
      "            2,    4,    4,    6,    9,    5,    1,    6,    3,    4,    4,    6,\n",
      "            6,    9,    1,    1,    7,    8,    0,    1,    1,    2,    6,    6,\n",
      "            6,    9,    4,    0,    2,    5,    6,    0,    6,    9,    2,    0,\n",
      "            9,    0,    0,    1,    2,    6,    6,    7,    7,    7,    8,    9,\n",
      "            9,    9,    9],\n",
      "        [ 823,  880, 1051, 1364, 1398, 1495, 1544, 1612, 1674, 1683, 1832, 1951,\n",
      "         2005, 2025, 2149, 2262, 2499, 2722, 2868, 2916, 3066, 3110, 3239, 3659,\n",
      "         3746, 3791, 3927, 4080, 4140, 4179, 4225, 4394, 4413, 4475, 4647, 4705,\n",
      "         5040, 5123, 5150, 5235, 5373, 5915, 6136, 6152, 6175, 6176, 6177, 6178,\n",
      "         6179, 6183, 6186, 6187, 6189, 6190, 6192, 6193, 6194, 6195, 6196, 6197,\n",
      "         6198, 6199, 6201, 6203, 6204, 6205, 6206, 6207, 6208, 6209, 6210, 6211,\n",
      "         6212, 6215, 6217, 6219, 6221, 6228, 6230, 6231, 6232, 6233, 6234, 6235,\n",
      "         6236, 6237, 6238]]) 87\n"
     ]
    },
    {
     "name": "stderr",
     "output_type": "stream",
     "text": [
      "100%|██████████| 750/750 [00:37<00:00, 19.88it/s]\n"
     ]
    },
    {
     "name": "stdout",
     "output_type": "stream",
     "text": [
      "Epoch 29/64, Train Loss: 1.1292, Val Loss: 1.1187, Val Accuracy: 0.7690\n",
      "len(vals)=7840 max(vals)=tensor(1., grad_fn=<UnbindBackward0>)  sum(vals)=tensor(128.8422, grad_fn=<AddBackward0>) min(vals)=tensor(0., grad_fn=<UnbindBackward0>)\n",
      "choose: tensor([[   0,    0,    2,    3,    3,    4,    4,    4,    5,    6,    7,    8,\n",
      "            9,    0,    0,    1,    6,    7,    9,    0,    4,    6,    2,    4,\n",
      "            4,    6,    5,    6,    3,    6,    9,    7,    8,    0,    1,    2,\n",
      "            6,    6,    5,    9,    2,    0,    0,    0,    2,    7,    9,    9,\n",
      "            9],\n",
      "        [6240, 6241, 6243, 6246, 6247, 6248, 6249, 6250, 6251, 6253, 6255, 6256,\n",
      "         6257, 6258, 6259, 6261, 6263, 6264, 6267, 6268, 6273, 6274, 6276, 6277,\n",
      "         6278, 6279, 6281, 6283, 6284, 6288, 6289, 6292, 6293, 6294, 6295, 6297,\n",
      "         6298, 6300, 6305, 6309, 6310, 6311, 6313, 6314, 6316, 6320, 6323, 6325,\n",
      "         6326]]) 49\n"
     ]
    },
    {
     "name": "stderr",
     "output_type": "stream",
     "text": [
      "100%|██████████| 750/750 [00:42<00:00, 17.72it/s]\n"
     ]
    },
    {
     "name": "stdout",
     "output_type": "stream",
     "text": [
      "Epoch 30/64, Train Loss: 1.0997, Val Loss: 1.0907, Val Accuracy: 0.7772\n",
      "len(vals)=7840 max(vals)=tensor(1., grad_fn=<UnbindBackward0>)  sum(vals)=tensor(116.7817, grad_fn=<AddBackward0>) min(vals)=tensor(0., grad_fn=<UnbindBackward0>)\n",
      "choose: tensor([[   0,    0,    2,    3,    4,    6,    7,    8,    0,    6,    0,    6,\n",
      "            2,    4,    6,    5,    6,    3,    6,    8,    0,    1,    6,    6,\n",
      "            5,    0,    0,    0,    2,    9,    9],\n",
      "        [6327, 6328, 6329, 6330, 6333, 6336, 6337, 6338, 6341, 6343, 6346, 6348,\n",
      "         6349, 6350, 6352, 6353, 6354, 6355, 6356, 6359, 6360, 6361, 6363, 6364,\n",
      "         6365, 6368, 6369, 6370, 6371, 6373, 6375]]) 31\n"
     ]
    },
    {
     "name": "stderr",
     "output_type": "stream",
     "text": [
      "100%|██████████| 750/750 [00:38<00:00, 19.50it/s]\n"
     ]
    },
    {
     "name": "stdout",
     "output_type": "stream",
     "text": [
      "Epoch 31/64, Train Loss: 1.0736, Val Loss: 1.0662, Val Accuracy: 0.7805\n",
      "len(vals)=7840 max(vals)=tensor(1., grad_fn=<UnbindBackward0>)  sum(vals)=tensor(114.9261, grad_fn=<AddBackward0>) min(vals)=tensor(0., grad_fn=<UnbindBackward0>)\n",
      "choose: tensor([[   0,    0,    3,    6,    7,    8,    0,    6,    0,    6,    2,    4,\n",
      "            6,    6,    3,    6,    8,    0,    6,    6,    5,    0,    0,    2,\n",
      "            9,    9],\n",
      "        [6376, 6377, 6379, 6381, 6382, 6383, 6384, 6385, 6386, 6387, 6388, 6389,\n",
      "         6390, 6392, 6393, 6394, 6395, 6396, 6398, 6399, 6400, 6401, 6402, 6404,\n",
      "         6405, 6406]]) 26\n"
     ]
    },
    {
     "name": "stderr",
     "output_type": "stream",
     "text": [
      "100%|██████████| 750/750 [00:39<00:00, 18.76it/s]\n"
     ]
    },
    {
     "name": "stdout",
     "output_type": "stream",
     "text": [
      "Epoch 32/64, Train Loss: 1.0494, Val Loss: 1.0432, Val Accuracy: 0.7823\n",
      "len(vals)=7840 max(vals)=tensor(1., grad_fn=<UnbindBackward0>)  sum(vals)=tensor(154.2123, grad_fn=<AddBackward0>) min(vals)=tensor(0., grad_fn=<UnbindBackward0>)\n",
      "choose: tensor([[   0,    0,    0,    0,    0,    0,    1,    1,    1,    1,    1,    1,\n",
      "            1,    1,    1,    1,    1,    1,    1,    1,    1,    1,    1,    1,\n",
      "            2,    2,    2,    2,    2,    2,    2,    2,    2,    3,    3,    3,\n",
      "            3,    3,    3,    3,    3,    4,    4,    4,    4,    4,    4,    4,\n",
      "            5,    5,    5,    5,    5,    5,    5,    5,    5,    6,    6,    6,\n",
      "            6,    6,    6,    6,    6,    6,    6,    6,    7,    7,    7,    7,\n",
      "            7,    7,    7,    7,    7,    7,    7,    7,    8,    8,    8,    8,\n",
      "            8,    8,    9,    9,    9,    9,    9,    9,    9,    9,    9,    9,\n",
      "            9,    9,    9,    9,    0,    0,    0,    0,    1,    1,    1,    1,\n",
      "            1,    1,    2,    2,    2,    2,    2,    2,    2,    3,    3,    3,\n",
      "            4,    4,    4,    4,    4,    4,    5,    5,    6,    6,    6,    6,\n",
      "            7,    7,    7,    7,    7,    7,    7,    7,    7,    8,    8,    8,\n",
      "            8,    9,    9,    9,    9,    9,    9,    9,    9,    9,    0,    0,\n",
      "            0,    1,    1,    1,    2,    2,    3,    3,    3,    4,    4,    4,\n",
      "            4,    5,    6,    6,    7,    7,    7,    7,    7,    8,    8,    8,\n",
      "            8,    8,    9,    9,    0,    0,    1,    1,    1,    1,    2,    3,\n",
      "            3,    4,    4,    4,    5,    5,    6,    6,    6,    6,    7,    7,\n",
      "            8,    8,    8,    0,    0,    0,    0,    1,    1,    1,    2,    2,\n",
      "            3,    4,    5,    5,    6,    7,    8,    8,    8,    9,    5,    6,\n",
      "            6,    7,    8,    9,    9,    3,    4,    4,    5,    5,    7,    7,\n",
      "            9,    9,    7,    7,    4,    9,    0,    4,    6,    7,    9,    0,\n",
      "            7,    7,    2,    7,    1,    0,    0,    3,    8,    0,    6,    0,\n",
      "            2,    4,    6,    6,    6,    8,    0,    6,    6,    0,    0,    2,\n",
      "            9],\n",
      "        [ 841,  900,  901,  906,  912,  952,  975,  984,  985, 1021, 1043, 1073,\n",
      "         1093, 1097, 1111, 1119, 1145, 1151, 1156, 1169, 1170, 1192, 1198, 1204,\n",
      "         1226, 1233, 1246, 1297, 1329, 1345, 1384, 1411, 1428, 1468, 1492, 1531,\n",
      "         1543, 1566, 1575, 1605, 1608, 1629, 1677, 1679, 1682, 1700, 1747, 1789,\n",
      "         1870, 1876, 1879, 1904, 1913, 1918, 1931, 1932, 1964, 2004, 2021, 2056,\n",
      "         2057, 2060, 2070, 2086, 2090, 2093, 2119, 2120, 2220, 2226, 2229, 2291,\n",
      "         2292, 2303, 2309, 2371, 2383, 2442, 2444, 2453, 2463, 2466, 2475, 2518,\n",
      "         2537, 2571, 2632, 2638, 2658, 2659, 2672, 2674, 2681, 2700, 2741, 2753,\n",
      "         2792, 2798, 2823, 2844, 2861, 2925, 2930, 2960, 3018, 3020, 3031, 3044,\n",
      "         3054, 3095, 3123, 3146, 3161, 3170, 3221, 3223, 3232, 3249, 3286, 3301,\n",
      "         3372, 3424, 3428, 3434, 3441, 3447, 3552, 3568, 3587, 3631, 3676, 3705,\n",
      "         3715, 3740, 3779, 3788, 3816, 3829, 3833, 3848, 3860, 3870, 3884, 3888,\n",
      "         3961, 3973, 3976, 3978, 3997, 4018, 4054, 4057, 4066, 4101, 4148, 4167,\n",
      "         4170, 4192, 4224, 4237, 4305, 4334, 4416, 4418, 4434, 4445, 4465, 4488,\n",
      "         4517, 4572, 4652, 4654, 4682, 4692, 4728, 4743, 4768, 4782, 4789, 4799,\n",
      "         4810, 4821, 4909, 4922, 4928, 4931, 4979, 4990, 4994, 5005, 5064, 5082,\n",
      "         5084, 5120, 5124, 5127, 5167, 5177, 5207, 5221, 5227, 5244, 5269, 5282,\n",
      "         5322, 5326, 5330, 5417, 5418, 5433, 5435, 5451, 5453, 5456, 5485, 5495,\n",
      "         5506, 5525, 5559, 5561, 5586, 5612, 5645, 5649, 5654, 5680, 5784, 5802,\n",
      "         5804, 5831, 5840, 5856, 5860, 5897, 5909, 5910, 5917, 5919, 5942, 5946,\n",
      "         5967, 6064, 6085, 6120, 6148, 6170, 6216, 6224, 6252, 6265, 6324, 6340,\n",
      "         6344, 6358, 6362, 6372, 6397, 6403, 6408, 6409, 6412, 6413, 6414, 6415,\n",
      "         6417, 6418, 6419, 6420, 6422, 6423, 6424, 6425, 6426, 6428, 6429, 6430,\n",
      "         6431]]) 277\n"
     ]
    },
    {
     "name": "stderr",
     "output_type": "stream",
     "text": [
      "100%|██████████| 750/750 [00:40<00:00, 18.58it/s]\n"
     ]
    },
    {
     "name": "stdout",
     "output_type": "stream",
     "text": [
      "Epoch 33/64, Train Loss: 1.0591, Val Loss: 1.0504, Val Accuracy: 0.7722\n",
      "len(vals)=7840 max(vals)=tensor(1., grad_fn=<UnbindBackward0>)  sum(vals)=tensor(160.8315, grad_fn=<AddBackward0>) min(vals)=tensor(0., grad_fn=<UnbindBackward0>)\n",
      "choose: tensor([[   0,    0,    1,    1,    1,    1,    1,    1,    1,    1,    1,    1,\n",
      "            1,    1,    1,    2,    2,    2,    2,    2,    3,    3,    3,    3,\n",
      "            3,    4,    4,    4,    4,    5,    5,    5,    5,    5,    5,    5,\n",
      "            6,    6,    6,    6,    6,    6,    6,    6,    7,    7,    7,    7,\n",
      "            7,    7,    7,    7,    7,    8,    8,    8,    9,    9,    9,    9,\n",
      "            9,    9,    0,    0,    1,    1,    1,    1,    2,    2,    2,    2,\n",
      "            2,    4,    4,    4,    6,    6,    6,    7,    7,    7,    7,    8,\n",
      "            8,    9,    9,    9,    9,    9,    9,    0,    0,    1,    1,    2,\n",
      "            2,    3,    3,    3,    4,    4,    4,    4,    6,    7,    7,    7,\n",
      "            8,    8,    8,    8,    8,    9,    0,    1,    3,    4,    4,    5,\n",
      "            5,    6,    6,    6,    7,    8,    8,    0,    1,    1,    1,    3,\n",
      "            4,    6,    5,    6,    8,    9,    3,    4,    5,    7,    9,    4,\n",
      "            0,    4,    7,    7,    2,    7,    1,    0,    0,    3,    0,    6,\n",
      "            0,    4,    6,    0,    6,    6,    0,    2],\n",
      "        [6433, 6434, 6439, 6440, 6441, 6442, 6443, 6444, 6446, 6447, 6449, 6451,\n",
      "         6453, 6454, 6455, 6457, 6459, 6461, 6463, 6465, 6468, 6470, 6471, 6472,\n",
      "         6473, 6475, 6477, 6478, 6480, 6481, 6483, 6484, 6485, 6486, 6487, 6489,\n",
      "         6490, 6491, 6495, 6496, 6497, 6498, 6499, 6500, 6501, 6502, 6503, 6506,\n",
      "         6507, 6508, 6509, 6510, 6511, 6513, 6514, 6515, 6520, 6523, 6525, 6526,\n",
      "         6528, 6532, 6534, 6536, 6537, 6538, 6539, 6542, 6544, 6545, 6547, 6548,\n",
      "         6549, 6553, 6554, 6558, 6561, 6562, 6564, 6565, 6566, 6572, 6573, 6574,\n",
      "         6577, 6578, 6579, 6581, 6583, 6584, 6586, 6587, 6588, 6591, 6592, 6593,\n",
      "         6594, 6595, 6596, 6597, 6598, 6599, 6600, 6601, 6603, 6606, 6607, 6609,\n",
      "         6610, 6611, 6612, 6613, 6614, 6615, 6618, 6621, 6624, 6627, 6628, 6629,\n",
      "         6630, 6632, 6633, 6634, 6635, 6637, 6639, 6641, 6644, 6645, 6646, 6649,\n",
      "         6650, 6653, 6659, 6661, 6663, 6665, 6666, 6667, 6670, 6671, 6673, 6677,\n",
      "         6679, 6680, 6682, 6685, 6687, 6688, 6689, 6690, 6691, 6692, 6694, 6695,\n",
      "         6696, 6698, 6700, 6703, 6704, 6705, 6707, 6708]]) 164\n"
     ]
    },
    {
     "name": "stderr",
     "output_type": "stream",
     "text": [
      "100%|██████████| 750/750 [00:45<00:00, 16.64it/s]\n"
     ]
    },
    {
     "name": "stdout",
     "output_type": "stream",
     "text": [
      "Epoch 34/64, Train Loss: 1.0579, Val Loss: 1.0484, Val Accuracy: 0.7818\n",
      "len(vals)=7840 max(vals)=tensor(1., grad_fn=<UnbindBackward0>)  sum(vals)=tensor(126.3644, grad_fn=<AddBackward0>) min(vals)=tensor(0., grad_fn=<UnbindBackward0>)\n",
      "choose: tensor([[   0,    1,    1,    1,    1,    1,    1,    2,    2,    2,    2,    3,\n",
      "            3,    4,    4,    5,    5,    6,    6,    6,    6,    6,    7,    7,\n",
      "            7,    7,    7,    7,    8,    8,    8,    9,    9,    9,    9,    9,\n",
      "            9,    0,    0,    1,    1,    1,    2,    2,    2,    6,    6,    7,\n",
      "            8,    8,    9,    9,    9,    9,    0,    1,    1,    2,    3,    3,\n",
      "            4,    4,    4,    7,    7,    8,    8,    8,    8,    1,    4,    4,\n",
      "            5,    5,    6,    8,    8,    0,    1,    1,    1,    4,    5,    8,\n",
      "            3,    5,    9,    0,    4,    7,    7,    2,    0,    0,    6,    0,\n",
      "            6,    0,    6,    2],\n",
      "        [6711, 6713, 6714, 6715, 6718, 6719, 6722, 6725, 6727, 6728, 6729, 6730,\n",
      "         6732, 6737, 6738, 6739, 6740, 6747, 6748, 6750, 6751, 6753, 6755, 6756,\n",
      "         6757, 6758, 6761, 6762, 6763, 6764, 6765, 6766, 6767, 6768, 6769, 6770,\n",
      "         6771, 6772, 6773, 6774, 6775, 6777, 6778, 6779, 6781, 6787, 6788, 6789,\n",
      "         6793, 6794, 6795, 6797, 6799, 6800, 6801, 6803, 6804, 6806, 6808, 6809,\n",
      "         6811, 6812, 6813, 6815, 6816, 6818, 6820, 6821, 6822, 6825, 6827, 6828,\n",
      "         6829, 6830, 6832, 6835, 6836, 6837, 6838, 6839, 6840, 6842, 6844, 6846,\n",
      "         6848, 6850, 6852, 6854, 6855, 6856, 6857, 6858, 6862, 6864, 6865, 6866,\n",
      "         6868, 6869, 6871, 6873]]) 100\n"
     ]
    },
    {
     "name": "stderr",
     "output_type": "stream",
     "text": [
      "100%|██████████| 750/750 [00:46<00:00, 16.25it/s]\n"
     ]
    },
    {
     "name": "stdout",
     "output_type": "stream",
     "text": [
      "Epoch 35/64, Train Loss: 1.0531, Val Loss: 1.0449, Val Accuracy: 0.7809\n",
      "len(vals)=7840 max(vals)=tensor(1., grad_fn=<UnbindBackward0>)  sum(vals)=tensor(108.6543, grad_fn=<AddBackward0>) min(vals)=tensor(0., grad_fn=<UnbindBackward0>)\n",
      "choose: tensor([[   6,    1,    1,    1,    1,    2,    2,    4,    5,    6,    7,    7,\n",
      "            7,    7,    7,    8,    9,    9,    1,    1,    2,    2,    7,    8,\n",
      "            8,    9,    9,    9,    0,    1,    2,    3,    4,    4,    7,    8,\n",
      "            8,    1,    4,    5,    8,    1,    5,    8,    3,    5,    9,    0,\n",
      "            4,    7,    7,    2,    0,    0,    6,    0,    6,    2],\n",
      "        [6831, 6875, 6876, 6877, 6879, 6881, 6883, 6888, 6890, 6891, 6897, 6898,\n",
      "         6899, 6900, 6901, 6903, 6905, 6908, 6913, 6914, 6916, 6917, 6921, 6922,\n",
      "         6923, 6924, 6925, 6926, 6928, 6930, 6931, 6933, 6934, 6935, 6937, 6939,\n",
      "         6942, 6943, 6945, 6946, 6950, 6953, 6956, 6957, 6958, 6959, 6960, 6961,\n",
      "         6962, 6963, 6964, 6965, 6966, 6967, 6968, 6969, 6972, 6973]]) 58\n"
     ]
    },
    {
     "name": "stderr",
     "output_type": "stream",
     "text": [
      "100%|██████████| 750/750 [00:46<00:00, 16.03it/s]\n"
     ]
    },
    {
     "name": "stdout",
     "output_type": "stream",
     "text": [
      "Epoch 36/64, Train Loss: 1.0324, Val Loss: 1.0254, Val Accuracy: 0.7806\n",
      "len(vals)=7840 max(vals)=tensor(1., grad_fn=<UnbindBackward0>)  sum(vals)=tensor(100.0614, grad_fn=<AddBackward0>) min(vals)=tensor(0., grad_fn=<UnbindBackward0>)\n",
      "choose: tensor([[   1,    1,    2,    2,    4,    5,    7,    7,    9,    9,    1,    2,\n",
      "            7,    8,    0,    1,    3,    4,    8,    5,    1,    5,    8,    3,\n",
      "            9,    7,    7,    2,    0,    0,    6,    0],\n",
      "        [6976, 6978, 6979, 6980, 6981, 6982, 6984, 6986, 6990, 6991, 6992, 6995,\n",
      "         6996, 6997, 7002, 7003, 7005, 7007, 7010, 7013, 7015, 7016, 7017, 7018,\n",
      "         7020, 7023, 7024, 7025, 7026, 7027, 7028, 7029]]) 32\n"
     ]
    },
    {
     "name": "stderr",
     "output_type": "stream",
     "text": [
      "100%|██████████| 750/750 [00:54<00:00, 13.72it/s]\n"
     ]
    },
    {
     "name": "stdout",
     "output_type": "stream",
     "text": [
      "Epoch 37/64, Train Loss: 1.0095, Val Loss: 1.0034, Val Accuracy: 0.7805\n",
      "len(vals)=7840 max(vals)=tensor(1., grad_fn=<UnbindBackward0>)  sum(vals)=tensor(91.5124, grad_fn=<AddBackward0>) min(vals)=tensor(0., grad_fn=<UnbindBackward0>)\n",
      "choose: tensor([[   1,    1,    2,    2,    4,    7,    9,    7,    0,    1,    3,    8,\n",
      "            5,    1,    5,    8,    3,    7,    2,    0,    6,    0],\n",
      "        [7032, 7033, 7034, 7035, 7036, 7039, 7041, 7044, 7046, 7047, 7048, 7050,\n",
      "         7051, 7052, 7053, 7054, 7055, 7058, 7059, 7060, 7062, 7063]]) 22\n"
     ]
    },
    {
     "name": "stderr",
     "output_type": "stream",
     "text": [
      "100%|██████████| 750/750 [00:57<00:00, 12.94it/s]\n"
     ]
    },
    {
     "name": "stdout",
     "output_type": "stream",
     "text": [
      "Epoch 38/64, Train Loss: 0.9895, Val Loss: 0.9847, Val Accuracy: 0.7813\n",
      "len(vals)=7840 max(vals)=tensor(1., grad_fn=<UnbindBackward0>)  sum(vals)=tensor(136.1010, grad_fn=<AddBackward0>) min(vals)=tensor(0., grad_fn=<UnbindBackward0>)\n",
      "choose: tensor([[   0,    0,    1,    2,    2,    2,    2,    4,    4,    5,    6,    7,\n",
      "            7,    7,    7,    8,    9,    9,    9,    9,    9,    0,    2,    2,\n",
      "            2,    3,    3,    3,    4,    4,    4,    5,    5,    6,    6,    6,\n",
      "            6,    6,    8,    8,    9,    9,    0,    0,    1,    1,    1,    2,\n",
      "            3,    3,    4,    5,    6,    6,    6,    6,    6,    7,    9,    9,\n",
      "            1,    5,    0,    3,    8,    2,    2,    4,    7,    2,    4,    6,\n",
      "            7,    7,    5,    5,    2,    4,    6,    1,    1,    4,    4,    5,\n",
      "            1,    3,    5,    6,    7,    8,    9,    5,    9,    1,    6,    7,\n",
      "            0,    5,    7,    8,    7,    1,    3,    5,    7,    4,    4,    0,\n",
      "            7,    8,    6,    7,    0,    4,    0,    1,    5,    6,    6,    8,\n",
      "            6,    6,    9,    8,    1,    1,    1,    6,    7,    1,    8,    4,\n",
      "            2,    5,    7,    9,    1,    2,    4,    9,    7,    0,    1,    8,\n",
      "            5,    1,    7,    0,    0],\n",
      "        [ 804,  832, 1173, 1243, 1259, 1273, 1334, 1697, 1773, 1919, 1998, 2325,\n",
      "         2358, 2370, 2397, 2604, 2686, 2729, 2736, 2794, 2801, 2913, 3145, 3157,\n",
      "         3225, 3278, 3287, 3303, 3359, 3461, 3462, 3490, 3493, 3604, 3607, 3626,\n",
      "         3634, 3690, 3893, 3918, 4070, 4078, 4155, 4176, 4201, 4212, 4283, 4336,\n",
      "         4373, 4402, 4491, 4571, 4593, 4607, 4638, 4649, 4657, 4726, 4913, 4925,\n",
      "         5003, 5172, 5425, 5510, 5660, 5737, 5743, 5761, 5828, 5894, 5903, 5924,\n",
      "         5953, 5956, 6036, 6151, 6262, 6286, 6317, 6445, 6456, 6476, 6479, 6488,\n",
      "         6541, 6552, 6559, 6563, 6567, 6576, 6582, 6602, 6616, 6619, 6631, 6636,\n",
      "         6642, 6651, 6654, 6655, 6675, 6724, 6734, 6744, 6760, 6784, 6785, 6802,\n",
      "         6817, 6819, 6833, 6834, 6861, 6867, 6874, 6880, 6889, 6892, 6893, 6904,\n",
      "         6919, 6920, 6927, 6949, 6952, 6975, 6977, 6983, 6985, 7011, 7014, 7022,\n",
      "         7031, 7037, 7038, 7056, 7064, 7066, 7068, 7070, 7071, 7072, 7073, 7075,\n",
      "         7076, 7077, 7081, 7083, 7085]]) 149\n"
     ]
    },
    {
     "name": "stderr",
     "output_type": "stream",
     "text": [
      "100%|██████████| 750/750 [01:01<00:00, 12.18it/s]\n"
     ]
    },
    {
     "name": "stdout",
     "output_type": "stream",
     "text": [
      "Epoch 39/64, Train Loss: 0.9800, Val Loss: 0.9748, Val Accuracy: 0.7775\n",
      "len(vals)=7840 max(vals)=tensor(1., grad_fn=<UnbindBackward0>)  sum(vals)=tensor(114.8763, grad_fn=<AddBackward0>) min(vals)=tensor(0., grad_fn=<UnbindBackward0>)\n",
      "choose: tensor([[   0,    0,    1,    2,    2,    4,    5,    7,    7,    8,    9,    9,\n",
      "            9,    0,    2,    2,    4,    4,    4,    5,    6,    6,    6,    6,\n",
      "            8,    8,    9,    9,    0,    0,    1,    1,    1,    2,    4,    6,\n",
      "            6,    7,    9,    3,    8,    2,    4,    6,    7,    7,    2,    4,\n",
      "            1,    1,    4,    5,    1,    5,    7,    8,    9,    5,    9,    6,\n",
      "            8,    7,    4,    0,    7,    8,    6,    7,    0,    4,    0,    1,\n",
      "            6,    8,    6,    1,    1,    6,    7,    1,    8,    4,    2,    1,\n",
      "            2,    7,    1,    8,    5,    1,    7,    0,    0],\n",
      "        [7086, 7087, 7088, 7089, 7090, 7093, 7095, 7097, 7098, 7101, 7102, 7104,\n",
      "         7106, 7107, 7108, 7109, 7114, 7115, 7116, 7118, 7119, 7120, 7122, 7123,\n",
      "         7124, 7125, 7126, 7127, 7128, 7129, 7130, 7131, 7132, 7133, 7136, 7139,\n",
      "         7142, 7143, 7144, 7149, 7150, 7155, 7156, 7157, 7158, 7159, 7162, 7163,\n",
      "         7165, 7166, 7167, 7169, 7170, 7172, 7174, 7175, 7176, 7177, 7178, 7180,\n",
      "         7185, 7186, 7192, 7193, 7194, 7195, 7196, 7197, 7198, 7199, 7200, 7201,\n",
      "         7204, 7205, 7206, 7211, 7212, 7213, 7214, 7215, 7216, 7217, 7218, 7222,\n",
      "         7223, 7226, 7228, 7229, 7230, 7231, 7232, 7233, 7234]]) 93\n"
     ]
    },
    {
     "name": "stderr",
     "output_type": "stream",
     "text": [
      "100%|██████████| 750/750 [01:09<00:00, 10.85it/s]\n"
     ]
    },
    {
     "name": "stdout",
     "output_type": "stream",
     "text": [
      "Epoch 40/64, Train Loss: 0.9739, Val Loss: 0.9684, Val Accuracy: 0.7842\n",
      "len(vals)=7840 max(vals)=tensor(1., grad_fn=<UnbindBackward0>)  sum(vals)=tensor(109.3760, grad_fn=<AddBackward0>) min(vals)=tensor(0., grad_fn=<UnbindBackward0>)\n",
      "choose: tensor([[   2,    6,    5,    0,    1,    2,    2,    5,    7,    8,    9,    9,\n",
      "            9,    2,    2,    4,    6,    6,    6,    9,    0,    1,    1,    2,\n",
      "            4,    6,    6,    9,    3,    8,    2,    4,    6,    7,    7,    1,\n",
      "            5,    7,    8,    9,    9,    6,    8,    7,    0,    8,    6,    7,\n",
      "            0,    0,    1,    6,    1,    1,    7,    1,    8,    4,    2,    1,\n",
      "            8,    5,    1,    0,    0],\n",
      "        [7091, 7141, 7202, 7236, 7237, 7238, 7239, 7241, 7243, 7244, 7245, 7246,\n",
      "         7247, 7249, 7250, 7253, 7256, 7257, 7258, 7261, 7263, 7265, 7266, 7268,\n",
      "         7269, 7270, 7271, 7273, 7274, 7275, 7276, 7277, 7278, 7279, 7280, 7287,\n",
      "         7288, 7289, 7290, 7291, 7293, 7294, 7295, 7296, 7298, 7300, 7301, 7302,\n",
      "         7303, 7305, 7306, 7309, 7310, 7311, 7313, 7314, 7315, 7316, 7317, 7318,\n",
      "         7322, 7323, 7324, 7326, 7327]]) 65\n"
     ]
    },
    {
     "name": "stderr",
     "output_type": "stream",
     "text": [
      "100%|██████████| 750/750 [01:13<00:00, 10.22it/s]\n"
     ]
    },
    {
     "name": "stdout",
     "output_type": "stream",
     "text": [
      "Epoch 41/64, Train Loss: 0.9554, Val Loss: 0.9518, Val Accuracy: 0.7847\n",
      "len(vals)=7840 max(vals)=tensor(1., grad_fn=<UnbindBackward0>)  sum(vals)=tensor(90.2769, grad_fn=<AddBackward0>) min(vals)=tensor(0., grad_fn=<UnbindBackward0>)\n",
      "choose: tensor([[   2,    6,    1,    2,    5,    8,    9,    2,    4,    6,    6,    6,\n",
      "            9,    1,    2,    6,    6,    8,    4,    1,    7,    8,    6,    8,\n",
      "            7,    0,    0,    1,    6,    1,    1,    7,    1,    4,    2,    8,\n",
      "            1,    0,    0],\n",
      "        [7328, 7329, 7332, 7334, 7335, 7337, 7340, 7341, 7343, 7344, 7345, 7346,\n",
      "         7347, 7349, 7351, 7353, 7354, 7357, 7359, 7363, 7365, 7366, 7369, 7373,\n",
      "         7375, 7376, 7377, 7378, 7379, 7380, 7381, 7382, 7383, 7385, 7386, 7388,\n",
      "         7390, 7391, 7392]]) 39\n"
     ]
    },
    {
     "name": "stderr",
     "output_type": "stream",
     "text": [
      " 64%|██████▎   | 478/750 [00:43<00:24, 10.99it/s]\n"
     ]
    },
    {
     "ename": "KeyboardInterrupt",
     "evalue": "",
     "output_type": "error",
     "traceback": [
      "\u001b[1;31m---------------------------------------------------------------------------\u001b[0m",
      "\u001b[1;31mKeyboardInterrupt\u001b[0m                         Traceback (most recent call last)",
      "Cell \u001b[1;32mIn[13], line 1\u001b[0m\n\u001b[1;32m----> 1\u001b[0m \u001b[43mtrain_sparse_recursive\u001b[49m\u001b[43m(\u001b[49m\u001b[43msparse_model\u001b[49m\u001b[43m,\u001b[49m\u001b[43m \u001b[49m\u001b[43mtrain_loader\u001b[49m\u001b[43m,\u001b[49m\u001b[43m \u001b[49m\u001b[43mval_loader\u001b[49m\u001b[43m,\u001b[49m\u001b[43m \u001b[49m\u001b[38;5;241;43m64\u001b[39;49m\u001b[43m,\u001b[49m\u001b[43m \u001b[49m\u001b[43mmetrics\u001b[49m\u001b[43m[\u001b[49m\u001b[38;5;241;43m0\u001b[39;49m\u001b[43m]\u001b[49m\u001b[43m,\u001b[49m\n\u001b[0;32m      2\u001b[0m \u001b[43m                       \u001b[49m\u001b[43medge_replacement_func\u001b[49m\u001b[38;5;241;43m=\u001b[39;49m\u001b[43medge_replacement_func_new_layer\u001b[49m\u001b[43m)\u001b[49m\n",
      "Cell \u001b[1;32mIn[4], line 16\u001b[0m, in \u001b[0;36mtrain_sparse_recursive\u001b[1;34m(model, train_loader, val_loader, num_epochs, metric, edge_replacement_func, window_size, threshold)\u001b[0m\n\u001b[0;32m     13\u001b[0m loss \u001b[38;5;241m=\u001b[39m criterion(outputs, targets)\n\u001b[0;32m     15\u001b[0m optimizer\u001b[38;5;241m.\u001b[39mzero_grad()\n\u001b[1;32m---> 16\u001b[0m \u001b[43mloss\u001b[49m\u001b[38;5;241;43m.\u001b[39;49m\u001b[43mbackward\u001b[49m\u001b[43m(\u001b[49m\u001b[43m)\u001b[49m\n\u001b[0;32m     17\u001b[0m optimizer\u001b[38;5;241m.\u001b[39mstep()\n\u001b[0;32m     18\u001b[0m train_loss \u001b[38;5;241m+\u001b[39m\u001b[38;5;241m=\u001b[39m loss\u001b[38;5;241m.\u001b[39mitem()\n",
      "File \u001b[1;32mD:\\Coding\\PY\\self-expanding-nets\\.venv\\Lib\\site-packages\\torch\\_tensor.py:581\u001b[0m, in \u001b[0;36mTensor.backward\u001b[1;34m(self, gradient, retain_graph, create_graph, inputs)\u001b[0m\n\u001b[0;32m    571\u001b[0m \u001b[38;5;28;01mif\u001b[39;00m has_torch_function_unary(\u001b[38;5;28mself\u001b[39m):\n\u001b[0;32m    572\u001b[0m     \u001b[38;5;28;01mreturn\u001b[39;00m handle_torch_function(\n\u001b[0;32m    573\u001b[0m         Tensor\u001b[38;5;241m.\u001b[39mbackward,\n\u001b[0;32m    574\u001b[0m         (\u001b[38;5;28mself\u001b[39m,),\n\u001b[1;32m   (...)\u001b[0m\n\u001b[0;32m    579\u001b[0m         inputs\u001b[38;5;241m=\u001b[39minputs,\n\u001b[0;32m    580\u001b[0m     )\n\u001b[1;32m--> 581\u001b[0m \u001b[43mtorch\u001b[49m\u001b[38;5;241;43m.\u001b[39;49m\u001b[43mautograd\u001b[49m\u001b[38;5;241;43m.\u001b[39;49m\u001b[43mbackward\u001b[49m\u001b[43m(\u001b[49m\n\u001b[0;32m    582\u001b[0m \u001b[43m    \u001b[49m\u001b[38;5;28;43mself\u001b[39;49m\u001b[43m,\u001b[49m\u001b[43m \u001b[49m\u001b[43mgradient\u001b[49m\u001b[43m,\u001b[49m\u001b[43m \u001b[49m\u001b[43mretain_graph\u001b[49m\u001b[43m,\u001b[49m\u001b[43m \u001b[49m\u001b[43mcreate_graph\u001b[49m\u001b[43m,\u001b[49m\u001b[43m \u001b[49m\u001b[43minputs\u001b[49m\u001b[38;5;241;43m=\u001b[39;49m\u001b[43minputs\u001b[49m\n\u001b[0;32m    583\u001b[0m \u001b[43m\u001b[49m\u001b[43m)\u001b[49m\n",
      "File \u001b[1;32mD:\\Coding\\PY\\self-expanding-nets\\.venv\\Lib\\site-packages\\torch\\autograd\\__init__.py:347\u001b[0m, in \u001b[0;36mbackward\u001b[1;34m(tensors, grad_tensors, retain_graph, create_graph, grad_variables, inputs)\u001b[0m\n\u001b[0;32m    342\u001b[0m     retain_graph \u001b[38;5;241m=\u001b[39m create_graph\n\u001b[0;32m    344\u001b[0m \u001b[38;5;66;03m# The reason we repeat the same comment below is that\u001b[39;00m\n\u001b[0;32m    345\u001b[0m \u001b[38;5;66;03m# some Python versions print out the first line of a multi-line function\u001b[39;00m\n\u001b[0;32m    346\u001b[0m \u001b[38;5;66;03m# calls in the traceback and some print out the last line\u001b[39;00m\n\u001b[1;32m--> 347\u001b[0m \u001b[43m_engine_run_backward\u001b[49m\u001b[43m(\u001b[49m\n\u001b[0;32m    348\u001b[0m \u001b[43m    \u001b[49m\u001b[43mtensors\u001b[49m\u001b[43m,\u001b[49m\n\u001b[0;32m    349\u001b[0m \u001b[43m    \u001b[49m\u001b[43mgrad_tensors_\u001b[49m\u001b[43m,\u001b[49m\n\u001b[0;32m    350\u001b[0m \u001b[43m    \u001b[49m\u001b[43mretain_graph\u001b[49m\u001b[43m,\u001b[49m\n\u001b[0;32m    351\u001b[0m \u001b[43m    \u001b[49m\u001b[43mcreate_graph\u001b[49m\u001b[43m,\u001b[49m\n\u001b[0;32m    352\u001b[0m \u001b[43m    \u001b[49m\u001b[43minputs\u001b[49m\u001b[43m,\u001b[49m\n\u001b[0;32m    353\u001b[0m \u001b[43m    \u001b[49m\u001b[43mallow_unreachable\u001b[49m\u001b[38;5;241;43m=\u001b[39;49m\u001b[38;5;28;43;01mTrue\u001b[39;49;00m\u001b[43m,\u001b[49m\n\u001b[0;32m    354\u001b[0m \u001b[43m    \u001b[49m\u001b[43maccumulate_grad\u001b[49m\u001b[38;5;241;43m=\u001b[39;49m\u001b[38;5;28;43;01mTrue\u001b[39;49;00m\u001b[43m,\u001b[49m\n\u001b[0;32m    355\u001b[0m \u001b[43m\u001b[49m\u001b[43m)\u001b[49m\n",
      "File \u001b[1;32mD:\\Coding\\PY\\self-expanding-nets\\.venv\\Lib\\site-packages\\torch\\autograd\\graph.py:825\u001b[0m, in \u001b[0;36m_engine_run_backward\u001b[1;34m(t_outputs, *args, **kwargs)\u001b[0m\n\u001b[0;32m    823\u001b[0m     unregister_hooks \u001b[38;5;241m=\u001b[39m _register_logging_hooks_on_whole_graph(t_outputs)\n\u001b[0;32m    824\u001b[0m \u001b[38;5;28;01mtry\u001b[39;00m:\n\u001b[1;32m--> 825\u001b[0m     \u001b[38;5;28;01mreturn\u001b[39;00m \u001b[43mVariable\u001b[49m\u001b[38;5;241;43m.\u001b[39;49m\u001b[43m_execution_engine\u001b[49m\u001b[38;5;241;43m.\u001b[39;49m\u001b[43mrun_backward\u001b[49m\u001b[43m(\u001b[49m\u001b[43m  \u001b[49m\u001b[38;5;66;43;03m# Calls into the C++ engine to run the backward pass\u001b[39;49;00m\n\u001b[0;32m    826\u001b[0m \u001b[43m        \u001b[49m\u001b[43mt_outputs\u001b[49m\u001b[43m,\u001b[49m\u001b[43m \u001b[49m\u001b[38;5;241;43m*\u001b[39;49m\u001b[43margs\u001b[49m\u001b[43m,\u001b[49m\u001b[43m \u001b[49m\u001b[38;5;241;43m*\u001b[39;49m\u001b[38;5;241;43m*\u001b[39;49m\u001b[43mkwargs\u001b[49m\n\u001b[0;32m    827\u001b[0m \u001b[43m    \u001b[49m\u001b[43m)\u001b[49m  \u001b[38;5;66;03m# Calls into the C++ engine to run the backward pass\u001b[39;00m\n\u001b[0;32m    828\u001b[0m \u001b[38;5;28;01mfinally\u001b[39;00m:\n\u001b[0;32m    829\u001b[0m     \u001b[38;5;28;01mif\u001b[39;00m attach_logging_hooks:\n",
      "\u001b[1;31mKeyboardInterrupt\u001b[0m: "
     ]
    }
   ],
   "source": [
    "train_sparse_recursive(sparse_model, train_loader, val_loader, 64, metrics[0],\n",
    "                       edge_replacement_func=edge_replacement_func_new_layer)"
   ]
  },
  {
   "cell_type": "code",
   "execution_count": null,
   "id": "110f89610af467b2",
   "metadata": {
    "ExecuteTime": {
     "end_time": "2025-01-21T14:56:03.800493200Z",
     "start_time": "2024-12-16T14:40:49.271871Z"
    }
   },
   "outputs": [],
   "source": []
  }
 ],
 "metadata": {
  "kernelspec": {
   "display_name": "self-expanding-nets",
   "language": "python",
   "name": "python3"
  },
  "language_info": {
   "codemirror_mode": {
    "name": "ipython",
    "version": 3
   },
   "file_extension": ".py",
   "mimetype": "text/x-python",
   "name": "python",
   "nbconvert_exporter": "python",
   "pygments_lexer": "ipython3",
   "version": "3.12.7"
  }
 },
 "nbformat": 4,
 "nbformat_minor": 5
}
