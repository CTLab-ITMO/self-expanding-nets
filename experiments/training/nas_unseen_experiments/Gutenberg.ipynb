{
  "cells": [
    {
      "cell_type": "code",
      "execution_count": null,
      "metadata": {
        "id": "xVXc8C_BcqmE"
      },
      "outputs": [],
      "source": [
        "!wget https://data.ncl.ac.uk/ndownloader/articles/24574753/versions/1 -O ../data/Gutenberg.zip\n",
        "!mkdir ../data/Gutenberg\n",
        "!unzip ../data/Gutenberg.zip -d ../data/Gutenberg/\n",
        "!rm ../data/Gutenberg.zip"
      ]
    },
    {
      "cell_type": "code",
      "execution_count": 3,
      "metadata": {
        "id": "zgLbuRWHekc6"
      },
      "outputs": [],
      "source": [
        "import torch\n",
        "from torch import nn\n",
        "from torch.utils.data import DataLoader, random_split, TensorDataset\n",
        "from torchvision import datasets, transforms\n",
        "import os\n",
        "import random\n",
        "import numpy as np\n",
        "\n",
        "SEED = 0\n",
        "torch.manual_seed(SEED)\n",
        "os.environ['PYTHONHASHSEED'] = str(SEED)\n",
        "random.seed(SEED)\n",
        "np.random.seed(SEED)\n",
        "g = torch.Generator()\n",
        "g.manual_seed(0)\n",
        "\n",
        "device = torch.device(\"cuda:0\" if torch.cuda.is_available() else \"cpu\")\n",
        "if torch.cuda.is_available():\n",
        "    torch.cuda.manual_seed(SEED)\n",
        "    torch.cuda.manual_seed_all(SEED)\n",
        "    torch.backends.cudnn.deterministic = True\n",
        "    torch.backends.cudnn.benchmark = False\n",
        "    torch.use_deterministic_algorithms(True)\n",
        "    os.environ['CUBLAS_WORKSPACE_CONFIG'] = ':4096:8'  # or ':16:8'\n",
        "\n",
        "\n",
        "################################\n",
        "#     RESTART     RUNTIME      #\n",
        "################################\n",
        "from senmodel.model.utils import *\n",
        "from senmodel.metrics.nonlinearity_metrics import *\n",
        "from senmodel.metrics.edge_finder import *\n",
        "from senmodel.metrics.train_metrics import *\n",
        "from senmodel.train.train import *"
      ]
    },
    {
      "cell_type": "code",
      "execution_count": 4,
      "metadata": {
        "id": "GOAK-krxeyOy"
      },
      "outputs": [],
      "source": [
        "class SimpleFCN(nn.Module):\n",
        "    def __init__(self, input_size=27 * 18, output_size=6):\n",
        "        super(SimpleFCN, self).__init__()\n",
        "        self.fc0 = nn.Linear(input_size, output_size)\n",
        "\n",
        "    def forward(self, x):\n",
        "        return self.fc0(x)"
      ]
    },
    {
      "cell_type": "code",
      "execution_count": 5,
      "metadata": {
        "id": "gOwPY4ANe7H-"
      },
      "outputs": [],
      "source": [
        "hyperparams = {\n",
        "    \"num_epochs\": 64,\n",
        "    \"batch_size\": 256,\n",
        "    \"metric\": AbsGradientEdgeMetric(nn.CrossEntropyLoss()),\n",
        "    \"aggregation_mode\": \"mean\",\n",
        "    \"choose_thresholds\": {\"fc0\": 0.05},\n",
        "    \"choose_thresholds_del\": {\"fc0\": 0.1},\n",
        "    \"threshold\": 0.05,\n",
        "    \"min_delta_epoch_replace\": 32,\n",
        "    \"window_size\": 5,\n",
        "    \"lr\": 1e-3,\n",
        "    \"delete_after\": 4,\n",
        "    \"task_type\": \"classification\",\n",
        "    \"fully_connected\": False,\n",
        "    \"max_to_replace\": 2000, # None -> no limit\n",
        "    \"weight_decay\": 1e-3\n",
        "}\n",
        "\n",
        "name = \", \".join(\n",
        "    f\"{key}: {value.__class__.__name__ if key == 'metric' else value}\"\n",
        "    for key, value in hyperparams.items()\n",
        ")"
      ]
    },
    {
      "cell_type": "code",
      "execution_count": 6,
      "metadata": {
        "id": "f-YKVbEK_6__"
      },
      "outputs": [],
      "source": [
        "train_x = np.load(\"../data/Gutenberg/train_x.npy\")\n",
        "train_y = np.load(\"../data/Gutenberg/train_y.npy\")\n",
        "valid_x = np.load(\"../data/Gutenberg/valid_x.npy\")\n",
        "valid_y = np.load(\"../data/Gutenberg/valid_y.npy\")\n",
        "test_x = np.load('../data/Gutenberg/test_x.npy')\n",
        "test_y = np.load('../data/Gutenberg/test_y.npy')\n",
        "\n",
        "train_tensor_x = torch.tensor(train_x).float().view(-1, 27 * 18)\n",
        "train_tensor_y = torch.tensor(train_y).long()\n",
        "\n",
        "valid_tensor_x = torch.tensor(valid_x).float().view(-1, 27 * 18)\n",
        "valid_tensor_y = torch.tensor(valid_y).long()\n",
        "\n",
        "test_tensor_x = torch.tensor(test_x).float().view(-1, 27 * 18)\n",
        "test_tensor_y = torch.tensor(test_y).long()\n",
        "\n",
        "train_dataset = TensorDataset(train_tensor_x, train_tensor_y)\n",
        "valid_dataset = TensorDataset(valid_tensor_x, valid_tensor_y)\n",
        "test_dataset = TensorDataset(test_tensor_x, test_tensor_y)\n",
        "\n",
        "train_loader = DataLoader(train_dataset, batch_size=hyperparams['batch_size'], shuffle=True)\n",
        "val_loader = DataLoader(valid_dataset, batch_size=hyperparams['batch_size'], shuffle=False)\n",
        "test_loader = DataLoader(test_dataset, batch_size=hyperparams['batch_size'], shuffle=False)"
      ]
    },
    {
      "cell_type": "code",
      "execution_count": 7,
      "metadata": {
        "id": "1NfKh4qXfyx7"
      },
      "outputs": [],
      "source": [
        "model = SimpleFCN()\n",
        "sparse_model = convert_dense_to_sparse_network(model, layers=[model.fc0], device=device)"
      ]
    },
    {
      "cell_type": "code",
      "execution_count": null,
      "metadata": {
        "id": "Nt6O_3PDf9Fy"
      },
      "outputs": [],
      "source": [
        "import wandb\n",
        "wandb.login()\n",
        "wandb.finish()\n",
        "run = wandb.init(\n",
        "    project=\"self-expanding-nets-Gutenberg\",\n",
        "    name=f\"trash\",\n",
        "    config=hyperparams\n",
        ")"
      ]
    },
    {
      "cell_type": "code",
      "execution_count": null,
      "metadata": {
        "colab": {
          "background_save": true
        },
        "id": "f7Zajw-AgBau"
      },
      "outputs": [],
      "source": [
        "criterion = nn.CrossEntropyLoss()\n",
        "optimizer = optim.Adam(sparse_model.parameters(), lr=hyperparams['lr'], weight_decay=hyperparams['weight_decay'])\n",
        "train_sparse_recursive(sparse_model, train_loader, train_loader, val_loader, criterion, optimizer, hyperparams, device)"
      ]
    },
    {
      "cell_type": "code",
      "execution_count": null,
      "metadata": {
        "id": "VCJTApK_gZ3-"
      },
      "outputs": [],
      "source": [
        "_, accuracy = eval_one_epoch(sparse_model, criterion, test_loader, hyperparams['task_type'], device)\n",
        "params = get_params_amount(sparse_model)"
      ]
    },
    {
      "cell_type": "code",
      "execution_count": null,
      "metadata": {
        "id": "8RV4KLphze1b"
      },
      "outputs": [],
      "source": [
        "accuracy, params"
      ]
    },
    {
      "cell_type": "code",
      "execution_count": null,
      "metadata": {
        "id": "ku24pXbjqztC"
      },
      "outputs": [],
      "source": [
        "import pandas as pd\n",
        "\n",
        "data = {\n",
        "    'Model': ['Ours', 'ResNet-18', 'AlexNet', 'VGG16', 'ConvNext', 'MNASNet', 'DenseNet', 'ResNeXt', 'PC-DARTS', 'DrNAS', 'Bonsai-Net', 'DARTS', ' Bonsai', 'Random'],\n",
        "    'Accuracy (%)': [accuracy * 100, 49.98, 45.53, 44.00, 31.93, 38.00, 43.28, 40.30, 49.12, 46.62, 48.57, 47.72, 29.00, 16.6],\n",
        "    'Parameters': [params, 11_689_512, 61_100_840, 138_357_544, 88_591_464, 4_383_312, 28_681_000, 25_028_904, None, None, None, None, None, None]\n",
        "}\n",
        "\n",
        "table = pd.DataFrame(data)\n",
        "\n",
        "def format_with_commas(x):\n",
        "    return \"{:,}\".format(x)\n",
        "\n",
        "styled_table = (table.style\n",
        "               .format({'Accuracy (%)': '{:.2f}',\n",
        "                       'Parameters': format_with_commas})\n",
        "               .set_properties(**{'text-align': 'center'})\n",
        "               .set_table_styles([\n",
        "                   {'selector': 'th', 'props': [('text-align', 'center')]},\n",
        "                   {'selector': 'caption', 'props': [('font-size', '1.1em')]}\n",
        "               ])\n",
        "               .hide(axis='index'))\n",
        "\n",
        "styled_table"
      ]
    }
  ],
  "metadata": {
    "accelerator": "GPU",
    "colab": {
      "gpuType": "T4",
      "provenance": []
    },
    "kernelspec": {
      "display_name": "self-expanding-nets",
      "language": "python",
      "name": "python3"
    },
    "language_info": {
      "codemirror_mode": {
        "name": "ipython",
        "version": 3
      },
      "file_extension": ".py",
      "mimetype": "text/x-python",
      "name": "python",
      "nbconvert_exporter": "python",
      "pygments_lexer": "ipython3",
      "version": "3.12.7"
    }
  },
  "nbformat": 4,
  "nbformat_minor": 0
}
