{
 "cells": [
  {
   "cell_type": "code",
   "execution_count": 1,
   "id": "2a0d4d2e-0a0a-4032-8ad5-161a8a775d1b",
   "metadata": {},
   "outputs": [
    {
     "name": "stdout",
     "output_type": "stream",
     "text": [
      "--2025-05-09 20:47:06--  https://data.ncl.ac.uk/ndownloader/articles/24574729/versions/1\n",
      "Resolving data.ncl.ac.uk (data.ncl.ac.uk)... 52.49.76.148, 54.171.30.6, 52.48.143.184\n",
      "Connecting to data.ncl.ac.uk (data.ncl.ac.uk)|52.49.76.148|:443... connected.\n",
      "HTTP request sent, awaiting response... 200 OK\n",
      "Length: 161843534 (154M) [application/zip]\n",
      "Saving to: ‘../data/Language.zip’\n",
      "\n",
      "../data/Language.zi 100%[===================>] 154.35M  1.91MB/s    in 34s     \n",
      "\n",
      "2025-05-09 20:47:40 (4.53 MB/s) - ‘../data/Language.zip’ saved [161843534/161843534]\n",
      "\n",
      "Archive:  ../data/Language.zip\n",
      " extracting: ../data/Language//metadata  \n",
      " extracting: ../data/Language//test_y.npy  \n",
      " extracting: ../data/Language//test_x.npy  \n",
      " extracting: ../data/Language//train_y.npy  \n",
      " extracting: ../data/Language//valid_y.npy  \n",
      " extracting: ../data/Language//valid_x.npy  \n",
      " extracting: ../data/Language//train_x.npy  \n",
      " extracting: ../data/Language//README  \n"
     ]
    }
   ],
   "source": [
    "!wget https://data.ncl.ac.uk/ndownloader/articles/24574729/versions/1 -O ../data/Language.zip\n",
    "!mkdir ../data/Language\n",
    "!unzip ../data/Language.zip -d ../data/Language/\n",
    "!rm ../data/Language.zip"
   ]
  },
  {
   "cell_type": "code",
   "execution_count": 2,
   "id": "1073c674",
   "metadata": {},
   "outputs": [],
   "source": [
    "import torch\n",
    "from torch import nn\n",
    "from torch.utils.data import DataLoader, random_split, TensorDataset\n",
    "from torchvision import datasets, transforms\n",
    "import os\n",
    "import random\n",
    "import numpy as np\n",
    "\n",
    "SEED = 0\n",
    "torch.manual_seed(SEED)\n",
    "os.environ['PYTHONHASHSEED'] = str(SEED)\n",
    "random.seed(SEED)\n",
    "np.random.seed(SEED)\n",
    "g = torch.Generator()\n",
    "g.manual_seed(0)\n",
    "\n",
    "device = torch.device(\"cuda:0\" if torch.cuda.is_available() else \"cpu\")\n",
    "if torch.cuda.is_available():\n",
    "    torch.cuda.manual_seed(SEED)\n",
    "    torch.cuda.manual_seed_all(SEED)\n",
    "    torch.backends.cudnn.deterministic = True\n",
    "    torch.backends.cudnn.benchmark = False\n",
    "    torch.use_deterministic_algorithms(True)\n",
    "    os.environ['CUBLAS_WORKSPACE_CONFIG'] = ':4096:8'  # or ':16:8'\n",
    "\n",
    "\n",
    "################################\n",
    "#     RESTART     RUNTIME      #\n",
    "################################\n",
    "from senmodel.model.utils import *\n",
    "from senmodel.metrics.nonlinearity_metrics import *\n",
    "from senmodel.metrics.edge_finder import *\n",
    "from senmodel.metrics.train_metrics import *\n",
    "from senmodel.train.train import *"
   ]
  },
  {
   "cell_type": "code",
   "execution_count": 3,
   "id": "43401b05-2c6a-4155-a58e-f8aa4cde3bf7",
   "metadata": {},
   "outputs": [],
   "source": [
    "class SimpleFCN(nn.Module):\n",
    "    def __init__(self, input_size=24 * 24, output_size=10):\n",
    "        super(SimpleFCN, self).__init__()\n",
    "        self.fc0 = nn.Linear(input_size, output_size)\n",
    "\n",
    "    def forward(self, x):\n",
    "        return self.fc0(x)"
   ]
  },
  {
   "cell_type": "code",
   "execution_count": 4,
   "id": "3d42f964-b6ea-468f-908b-10b264d87aeb",
   "metadata": {},
   "outputs": [
    {
     "data": {
      "text/plain": [
       "\"num_epochs: 32, batch_size: 256, metric: AbsGradientEdgeMetric, aggregation_mode: mean, choose_thresholds: {'fc0': 0.2}, choose_thresholds_del: {'fc0': 0.1}, threshold: 0.05, min_delta_epoch_replace: 24, window_size: 5, lr: 0.0008, delete_after: 4, task_type: classification, fully_connected: False, max_to_replace: 3000, weight_decay: 0.0002\""
      ]
     },
     "execution_count": 4,
     "metadata": {},
     "output_type": "execute_result"
    }
   ],
   "source": [
    "hyperparams = {\n",
    "    \"num_epochs\": 32,\n",
    "    \"batch_size\": 256,\n",
    "    \"metric\": AbsGradientEdgeMetric(nn.CrossEntropyLoss()),\n",
    "    \"aggregation_mode\": \"mean\",\n",
    "    \"choose_thresholds\": {\"fc0\": 0.2}, # 1.0 -> no edges, 0.0 -> all edges\n",
    "    \"choose_thresholds_del\": {\"fc0\": 0.1}, # 1.0 -> no edges, 0.0 -> all edges\n",
    "    \"threshold\": 0.05,\n",
    "    \"min_delta_epoch_replace\": 24,\n",
    "    \"window_size\": 5,\n",
    "    \"lr\": 8e-4,\n",
    "    \"delete_after\": 4,    \n",
    "    \"task_type\": \"classification\",\n",
    "    \"fully_connected\": False,\n",
    "    \"max_to_replace\": 3000, # None -> no limit\n",
    "    \"weight_decay\": 2e-4,\n",
    "}\n",
    "\n",
    "name = \", \".join(\n",
    "    f\"{key}: {value.__class__.__name__ if key == 'metric' else value}\"\n",
    "    for key, value in hyperparams.items()\n",
    ")\n",
    "\n",
    "name"
   ]
  },
  {
   "cell_type": "code",
   "execution_count": 5,
   "id": "0864253b-00e5-4096-90ca-b7cca8816914",
   "metadata": {},
   "outputs": [],
   "source": [
    "import torch\n",
    "from torch.utils.data import TensorDataset, DataLoader\n",
    "import numpy as np\n",
    "\n",
    "train_x = np.load(\"../data/Language/train_x.npy\")\n",
    "train_y = np.load(\"../data/Language/train_y.npy\")\n",
    "valid_x = np.load(\"../data/Language/valid_x.npy\")\n",
    "valid_y = np.load(\"../data/Language/valid_y.npy\")\n",
    "test_x = np.load('../data/Language/test_x.npy')\n",
    "test_y = np.load('../data/Language/test_y.npy')\n",
    "\n",
    "train_tensor_x = torch.tensor(train_x).float().view(-1, 24 * 24)\n",
    "train_tensor_y = torch.tensor(train_y).long()\n",
    "\n",
    "valid_tensor_x = torch.tensor(valid_x).float().view(-1, 24 * 24)\n",
    "valid_tensor_y = torch.tensor(valid_y).long()\n",
    "\n",
    "test_tensor_x = torch.tensor(test_x).float().view(-1, 24 * 24)\n",
    "test_tensor_y = torch.tensor(test_y).long()\n",
    "\n",
    "\n",
    "train_dataset = TensorDataset(train_tensor_x, train_tensor_y)\n",
    "valid_dataset = TensorDataset(valid_tensor_x, valid_tensor_y)\n",
    "test_dataset = TensorDataset(test_tensor_x, test_tensor_y)\n",
    "\n",
    "\n",
    "train_loader = DataLoader(train_dataset, batch_size=hyperparams['batch_size'], shuffle=True)\n",
    "val_loader = DataLoader(valid_dataset, batch_size=hyperparams['batch_size'], shuffle=False)\n",
    "test_loader = DataLoader(test_dataset, batch_size=hyperparams['batch_size'], shuffle=False)"
   ]
  },
  {
   "cell_type": "code",
   "execution_count": 6,
   "id": "a1681ea9-5b58-45e8-afcf-de833f0590bf",
   "metadata": {},
   "outputs": [],
   "source": [
    "model = SimpleFCN()\n",
    "sparse_model = convert_dense_to_sparse_network(model, layers=[model.fc0], device=device)"
   ]
  },
  {
   "cell_type": "code",
   "execution_count": 7,
   "id": "5b7ad905-5d77-47a0-a3f9-e1654e79f536",
   "metadata": {},
   "outputs": [
    {
     "name": "stderr",
     "output_type": "stream",
     "text": [
      "\u001b[34m\u001b[1mwandb\u001b[0m: Using wandb-core as the SDK backend.  Please refer to https://wandb.me/wandb-core for more information.\n",
      "\u001b[34m\u001b[1mwandb\u001b[0m: Currently logged in as: \u001b[33mvanyamironov\u001b[0m to \u001b[32mhttps://api.wandb.ai\u001b[0m. Use \u001b[1m`wandb login --relogin`\u001b[0m to force relogin\n"
     ]
    },
    {
     "data": {
      "text/html": [
       "Tracking run with wandb version 0.19.8"
      ],
      "text/plain": [
       "<IPython.core.display.HTML object>"
      ]
     },
     "metadata": {},
     "output_type": "display_data"
    },
    {
     "data": {
      "text/html": [
       "Run data is saved locally in <code>/Users/ivanmironov/Projects/self-expanding-nets/experiments/training/nas_unseen_experiments/wandb/run-20250509_204759-3na25z0w</code>"
      ],
      "text/plain": [
       "<IPython.core.display.HTML object>"
      ]
     },
     "metadata": {},
     "output_type": "display_data"
    },
    {
     "data": {
      "text/html": [
       "Syncing run <strong><a href='https://wandb.ai/vanyamironov/self-expanding-nets-Language/runs/3na25z0w' target=\"_blank\">trash</a></strong> to <a href='https://wandb.ai/vanyamironov/self-expanding-nets-Language' target=\"_blank\">Weights & Biases</a> (<a href='https://wandb.me/developer-guide' target=\"_blank\">docs</a>)<br>"
      ],
      "text/plain": [
       "<IPython.core.display.HTML object>"
      ]
     },
     "metadata": {},
     "output_type": "display_data"
    },
    {
     "data": {
      "text/html": [
       " View project at <a href='https://wandb.ai/vanyamironov/self-expanding-nets-Language' target=\"_blank\">https://wandb.ai/vanyamironov/self-expanding-nets-Language</a>"
      ],
      "text/plain": [
       "<IPython.core.display.HTML object>"
      ]
     },
     "metadata": {},
     "output_type": "display_data"
    },
    {
     "data": {
      "text/html": [
       " View run at <a href='https://wandb.ai/vanyamironov/self-expanding-nets-Language/runs/3na25z0w' target=\"_blank\">https://wandb.ai/vanyamironov/self-expanding-nets-Language/runs/3na25z0w</a>"
      ],
      "text/plain": [
       "<IPython.core.display.HTML object>"
      ]
     },
     "metadata": {},
     "output_type": "display_data"
    }
   ],
   "source": [
    "import wandb\n",
    "\n",
    "wandb.login()\n",
    "wandb.finish()\n",
    "run = wandb.init(\n",
    "    project=\"self-expanding-nets-Language\",\n",
    "    name=f\"trash\",\n",
    "    config=hyperparams\n",
    ")"
   ]
  },
  {
   "cell_type": "code",
   "execution_count": 8,
   "id": "b30311f1-d905-4329-b674-e8063ffcc249",
   "metadata": {},
   "outputs": [
    {
     "name": "stderr",
     "output_type": "stream",
     "text": [
      "  0%|          | 0/196 [00:00<?, ?it/s]"
     ]
    },
    {
     "name": "stderr",
     "output_type": "stream",
     "text": [
      "100%|██████████| 196/196 [00:00<00:00, 347.18it/s]\n"
     ]
    },
    {
     "name": "stdout",
     "output_type": "stream",
     "text": [
      "Epoch 1/32, Train Loss: 1.9070, Val Loss: 1.6053, Val Accuracy: 0.7175\n"
     ]
    },
    {
     "name": "stderr",
     "output_type": "stream",
     "text": [
      "100%|██████████| 196/196 [00:00<00:00, 331.90it/s]\n"
     ]
    },
    {
     "name": "stdout",
     "output_type": "stream",
     "text": [
      "Epoch 2/32, Train Loss: 1.3798, Val Loss: 1.2524, Val Accuracy: 0.7484\n"
     ]
    },
    {
     "name": "stderr",
     "output_type": "stream",
     "text": [
      "100%|██████████| 196/196 [00:00<00:00, 410.87it/s]\n"
     ]
    },
    {
     "name": "stdout",
     "output_type": "stream",
     "text": [
      "Epoch 3/32, Train Loss: 1.1030, Val Loss: 1.0582, Val Accuracy: 0.7603\n"
     ]
    },
    {
     "name": "stderr",
     "output_type": "stream",
     "text": [
      "100%|██████████| 196/196 [00:00<00:00, 356.48it/s]\n"
     ]
    },
    {
     "name": "stdout",
     "output_type": "stream",
     "text": [
      "Epoch 4/32, Train Loss: 0.9415, Val Loss: 0.9391, Val Accuracy: 0.7660\n"
     ]
    },
    {
     "name": "stderr",
     "output_type": "stream",
     "text": [
      "100%|██████████| 196/196 [00:00<00:00, 391.00it/s]\n"
     ]
    },
    {
     "name": "stdout",
     "output_type": "stream",
     "text": [
      "Epoch 5/32, Train Loss: 0.8381, Val Loss: 0.8592, Val Accuracy: 0.7727\n"
     ]
    },
    {
     "name": "stderr",
     "output_type": "stream",
     "text": [
      "100%|██████████| 196/196 [00:00<00:00, 418.09it/s]\n"
     ]
    },
    {
     "name": "stdout",
     "output_type": "stream",
     "text": [
      "Epoch 6/32, Train Loss: 0.7668, Val Loss: 0.8028, Val Accuracy: 0.7757\n"
     ]
    },
    {
     "name": "stderr",
     "output_type": "stream",
     "text": [
      "100%|██████████| 196/196 [00:00<00:00, 421.15it/s]\n"
     ]
    },
    {
     "name": "stdout",
     "output_type": "stream",
     "text": [
      "Epoch 7/32, Train Loss: 0.7144, Val Loss: 0.7612, Val Accuracy: 0.7809\n"
     ]
    },
    {
     "name": "stderr",
     "output_type": "stream",
     "text": [
      "100%|██████████| 196/196 [00:00<00:00, 370.70it/s]\n"
     ]
    },
    {
     "name": "stdout",
     "output_type": "stream",
     "text": [
      "Epoch 8/32, Train Loss: 0.6749, Val Loss: 0.7289, Val Accuracy: 0.7855\n"
     ]
    },
    {
     "name": "stderr",
     "output_type": "stream",
     "text": [
      "100%|██████████| 196/196 [00:00<00:00, 331.54it/s]\n"
     ]
    },
    {
     "name": "stdout",
     "output_type": "stream",
     "text": [
      "Epoch 9/32, Train Loss: 0.6436, Val Loss: 0.7031, Val Accuracy: 0.7881\n"
     ]
    },
    {
     "name": "stderr",
     "output_type": "stream",
     "text": [
      "100%|██████████| 196/196 [00:00<00:00, 316.98it/s]\n"
     ]
    },
    {
     "name": "stdout",
     "output_type": "stream",
     "text": [
      "Epoch 10/32, Train Loss: 0.6185, Val Loss: 0.6831, Val Accuracy: 0.7902\n"
     ]
    },
    {
     "name": "stderr",
     "output_type": "stream",
     "text": [
      "100%|██████████| 196/196 [00:00<00:00, 437.03it/s]\n"
     ]
    },
    {
     "name": "stdout",
     "output_type": "stream",
     "text": [
      "Epoch 11/32, Train Loss: 0.5981, Val Loss: 0.6665, Val Accuracy: 0.7935\n"
     ]
    },
    {
     "name": "stderr",
     "output_type": "stream",
     "text": [
      "100%|██████████| 196/196 [00:00<00:00, 442.80it/s]\n"
     ]
    },
    {
     "name": "stdout",
     "output_type": "stream",
     "text": [
      "Epoch 12/32, Train Loss: 0.5809, Val Loss: 0.6526, Val Accuracy: 0.7921\n"
     ]
    },
    {
     "name": "stderr",
     "output_type": "stream",
     "text": [
      "100%|██████████| 196/196 [00:00<00:00, 444.25it/s]\n"
     ]
    },
    {
     "name": "stdout",
     "output_type": "stream",
     "text": [
      "Epoch 13/32, Train Loss: 0.5663, Val Loss: 0.6413, Val Accuracy: 0.7922\n"
     ]
    },
    {
     "name": "stderr",
     "output_type": "stream",
     "text": [
      "100%|██████████| 196/196 [00:00<00:00, 411.52it/s]\n"
     ]
    },
    {
     "name": "stdout",
     "output_type": "stream",
     "text": [
      "Epoch 14/32, Train Loss: 0.5542, Val Loss: 0.6314, Val Accuracy: 0.7938\n"
     ]
    },
    {
     "name": "stderr",
     "output_type": "stream",
     "text": [
      "100%|██████████| 196/196 [00:00<00:00, 445.18it/s]\n"
     ]
    },
    {
     "name": "stdout",
     "output_type": "stream",
     "text": [
      "Epoch 15/32, Train Loss: 0.5439, Val Loss: 0.6233, Val Accuracy: 0.7943\n"
     ]
    },
    {
     "name": "stderr",
     "output_type": "stream",
     "text": [
      "100%|██████████| 196/196 [00:00<00:00, 405.36it/s]\n"
     ]
    },
    {
     "name": "stdout",
     "output_type": "stream",
     "text": [
      "Epoch 16/32, Train Loss: 0.5347, Val Loss: 0.6156, Val Accuracy: 0.7953\n"
     ]
    },
    {
     "name": "stderr",
     "output_type": "stream",
     "text": [
      "100%|██████████| 196/196 [00:00<00:00, 424.03it/s]\n"
     ]
    },
    {
     "name": "stdout",
     "output_type": "stream",
     "text": [
      "Epoch 17/32, Train Loss: 0.5272, Val Loss: 0.6098, Val Accuracy: 0.7972\n"
     ]
    },
    {
     "name": "stderr",
     "output_type": "stream",
     "text": [
      "100%|██████████| 196/196 [00:00<00:00, 423.00it/s]\n"
     ]
    },
    {
     "name": "stdout",
     "output_type": "stream",
     "text": [
      "Epoch 18/32, Train Loss: 0.5201, Val Loss: 0.6041, Val Accuracy: 0.7974\n"
     ]
    },
    {
     "name": "stderr",
     "output_type": "stream",
     "text": [
      "100%|██████████| 196/196 [00:00<00:00, 457.25it/s]\n"
     ]
    },
    {
     "name": "stdout",
     "output_type": "stream",
     "text": [
      "Epoch 19/32, Train Loss: 0.5143, Val Loss: 0.5990, Val Accuracy: 0.7981\n"
     ]
    },
    {
     "name": "stderr",
     "output_type": "stream",
     "text": [
      "100%|██████████| 196/196 [00:00<00:00, 444.51it/s]\n"
     ]
    },
    {
     "name": "stdout",
     "output_type": "stream",
     "text": [
      "Epoch 20/32, Train Loss: 0.5088, Val Loss: 0.5952, Val Accuracy: 0.7990\n"
     ]
    },
    {
     "name": "stderr",
     "output_type": "stream",
     "text": [
      "100%|██████████| 196/196 [00:00<00:00, 370.38it/s]\n"
     ]
    },
    {
     "name": "stdout",
     "output_type": "stream",
     "text": [
      "Epoch 21/32, Train Loss: 0.5043, Val Loss: 0.5920, Val Accuracy: 0.7984\n"
     ]
    },
    {
     "name": "stderr",
     "output_type": "stream",
     "text": [
      "100%|██████████| 196/196 [00:00<00:00, 388.81it/s]\n"
     ]
    },
    {
     "name": "stdout",
     "output_type": "stream",
     "text": [
      "Epoch 22/32, Train Loss: 0.4999, Val Loss: 0.5894, Val Accuracy: 0.7986\n"
     ]
    },
    {
     "name": "stderr",
     "output_type": "stream",
     "text": [
      "100%|██████████| 196/196 [00:00<00:00, 401.21it/s]\n"
     ]
    },
    {
     "name": "stdout",
     "output_type": "stream",
     "text": [
      "Epoch 23/32, Train Loss: 0.4963, Val Loss: 0.5862, Val Accuracy: 0.7997\n"
     ]
    },
    {
     "name": "stderr",
     "output_type": "stream",
     "text": [
      "100%|██████████| 196/196 [00:00<00:00, 428.81it/s]\n"
     ]
    },
    {
     "name": "stdout",
     "output_type": "stream",
     "text": [
      "Epoch 24/32, Train Loss: 0.4929, Val Loss: 0.5837, Val Accuracy: 0.7995\n"
     ]
    },
    {
     "name": "stderr",
     "output_type": "stream",
     "text": [
      "100%|██████████| 196/196 [00:00<00:00, 405.16it/s]\n"
     ]
    },
    {
     "name": "stdout",
     "output_type": "stream",
     "text": [
      "Epoch 25/32, Train Loss: 0.4899, Val Loss: 0.5811, Val Accuracy: 0.8002\n"
     ]
    },
    {
     "name": "stderr",
     "output_type": "stream",
     "text": [
      "100%|██████████| 196/196 [00:00<00:00, 350.83it/s]\n"
     ]
    },
    {
     "name": "stdout",
     "output_type": "stream",
     "text": [
      "Epoch 26/32, Train Loss: 0.4873, Val Loss: 0.5800, Val Accuracy: 0.8001\n",
      "Chosen edges: tensor([[  0,   0,   0,  ...,   9,   9,   9],\n",
      "        [  0,   1,   2,  ..., 570, 571, 575]]) 1943\n"
     ]
    },
    {
     "name": "stderr",
     "output_type": "stream",
     "text": [
      "100%|██████████| 196/196 [00:28<00:00,  7.00it/s]\n"
     ]
    },
    {
     "name": "stdout",
     "output_type": "stream",
     "text": [
      "Epoch 27/32, Train Loss: 0.4655, Val Loss: 0.5176, Val Accuracy: 0.8171\n"
     ]
    },
    {
     "name": "stderr",
     "output_type": "stream",
     "text": [
      "100%|██████████| 196/196 [00:27<00:00,  7.10it/s]\n"
     ]
    },
    {
     "name": "stdout",
     "output_type": "stream",
     "text": [
      "Epoch 28/32, Train Loss: 0.3573, Val Loss: 0.4874, Val Accuracy: 0.8253\n"
     ]
    },
    {
     "name": "stderr",
     "output_type": "stream",
     "text": [
      "100%|██████████| 196/196 [00:27<00:00,  7.17it/s]\n"
     ]
    },
    {
     "name": "stdout",
     "output_type": "stream",
     "text": [
      "Epoch 29/32, Train Loss: 0.2714, Val Loss: 0.4618, Val Accuracy: 0.8355\n"
     ]
    },
    {
     "name": "stderr",
     "output_type": "stream",
     "text": [
      "100%|██████████| 196/196 [00:26<00:00,  7.51it/s]\n"
     ]
    },
    {
     "name": "stdout",
     "output_type": "stream",
     "text": [
      "Epoch 30/32, Train Loss: 0.2065, Val Loss: 0.4507, Val Accuracy: 0.8367\n",
      "torch.Size([691708]) torch.Size([23247])\n",
      "combined_metrics torch.Size([714955])\n",
      "mask torch.Size([714955])\n",
      "tensor(691427)\n",
      "num_emb_edges 691708\n",
      "tensor(23146) tensor(24)\n",
      "Chosen edges to del emb: tensor([[   2,    2,    2,  ..., 1941, 1941, 1941],\n",
      "        [   3,   24,   28,  ...,  532,  536,  575]], dtype=torch.int32) 23146\n",
      "Chosen edges to del exp: tensor([[   9,    1,    9,    1,    1,    9,    1,    1,    3,    4,    5,    9,\n",
      "            0,    1,    3,    4,    5,    9,    1,    4,    1,    9,    1,    9],\n",
      "        [2122, 2143, 2143, 2184, 2194, 2194, 2201, 2207, 2207, 2207, 2207, 2207,\n",
      "         2213, 2213, 2213, 2213, 2213, 2213, 2229, 2229, 2260, 2260, 2274, 2274]]) 24\n"
     ]
    },
    {
     "name": "stderr",
     "output_type": "stream",
     "text": [
      "100%|██████████| 196/196 [00:25<00:00,  7.78it/s]\n"
     ]
    },
    {
     "name": "stdout",
     "output_type": "stream",
     "text": [
      "Epoch 31/32, Train Loss: 0.1947, Val Loss: 0.4500, Val Accuracy: 0.8348\n"
     ]
    },
    {
     "name": "stderr",
     "output_type": "stream",
     "text": [
      "100%|██████████| 196/196 [00:24<00:00,  7.85it/s]\n"
     ]
    },
    {
     "name": "stdout",
     "output_type": "stream",
     "text": [
      "Epoch 32/32, Train Loss: 0.1376, Val Loss: 0.4534, Val Accuracy: 0.8319\n"
     ]
    }
   ],
   "source": [
    "criterion = nn.CrossEntropyLoss()\n",
    "optimizer = optim.Adam(sparse_model.parameters(), lr=hyperparams['lr'], weight_decay=hyperparams['weight_decay'])\n",
    "train_sparse_recursive(sparse_model, train_loader, val_loader, val_loader, criterion, optimizer, hyperparams, device)"
   ]
  },
  {
   "cell_type": "code",
   "execution_count": 9,
   "id": "fce5381d-3386-4f0e-80cd-78bf65ed2b15",
   "metadata": {},
   "outputs": [],
   "source": [
    "_, accuracy = eval_one_epoch(sparse_model, criterion, test_loader, hyperparams['task_type'], device)\n",
    "params = get_params_amount(sparse_model)"
   ]
  },
  {
   "cell_type": "code",
   "execution_count": 10,
   "id": "113f4d19",
   "metadata": {},
   "outputs": [
    {
     "data": {
      "text/plain": [
       "(0.8316, 691785)"
      ]
     },
     "execution_count": 10,
     "metadata": {},
     "output_type": "execute_result"
    }
   ],
   "source": [
    "accuracy, params"
   ]
  },
  {
   "cell_type": "code",
   "execution_count": 11,
   "id": "2e8828c6-45c1-4d44-88c0-c4533b12717e",
   "metadata": {},
   "outputs": [
    {
     "data": {
      "text/html": [
       "<style type=\"text/css\">\n",
       "#T_92804 th {\n",
       "  text-align: center;\n",
       "}\n",
       "#T_92804 caption {\n",
       "  font-size: 1.1em;\n",
       "}\n",
       "#T_92804_row0_col0, #T_92804_row0_col1, #T_92804_row0_col2, #T_92804_row1_col0, #T_92804_row1_col1, #T_92804_row1_col2, #T_92804_row2_col0, #T_92804_row2_col1, #T_92804_row2_col2, #T_92804_row3_col0, #T_92804_row3_col1, #T_92804_row3_col2, #T_92804_row4_col0, #T_92804_row4_col1, #T_92804_row4_col2, #T_92804_row5_col0, #T_92804_row5_col1, #T_92804_row5_col2, #T_92804_row6_col0, #T_92804_row6_col1, #T_92804_row6_col2, #T_92804_row7_col0, #T_92804_row7_col1, #T_92804_row7_col2, #T_92804_row8_col0, #T_92804_row8_col1, #T_92804_row8_col2, #T_92804_row9_col0, #T_92804_row9_col1, #T_92804_row9_col2, #T_92804_row10_col0, #T_92804_row10_col1, #T_92804_row10_col2, #T_92804_row11_col0, #T_92804_row11_col1, #T_92804_row11_col2, #T_92804_row12_col0, #T_92804_row12_col1, #T_92804_row12_col2, #T_92804_row13_col0, #T_92804_row13_col1, #T_92804_row13_col2 {\n",
       "  text-align: center;\n",
       "}\n",
       "</style>\n",
       "<table id=\"T_92804\">\n",
       "  <thead>\n",
       "    <tr>\n",
       "      <th id=\"T_92804_level0_col0\" class=\"col_heading level0 col0\" >Model</th>\n",
       "      <th id=\"T_92804_level0_col1\" class=\"col_heading level0 col1\" >Accuracy (%)</th>\n",
       "      <th id=\"T_92804_level0_col2\" class=\"col_heading level0 col2\" >Parameters</th>\n",
       "    </tr>\n",
       "  </thead>\n",
       "  <tbody>\n",
       "    <tr>\n",
       "      <td id=\"T_92804_row0_col0\" class=\"data row0 col0\" >Ours</td>\n",
       "      <td id=\"T_92804_row0_col1\" class=\"data row0 col1\" >0.83</td>\n",
       "      <td id=\"T_92804_row0_col2\" class=\"data row0 col2\" >691,785.0</td>\n",
       "    </tr>\n",
       "    <tr>\n",
       "      <td id=\"T_92804_row1_col0\" class=\"data row1 col0\" >ResNet-18</td>\n",
       "      <td id=\"T_92804_row1_col1\" class=\"data row1 col1\" >97.00</td>\n",
       "      <td id=\"T_92804_row1_col2\" class=\"data row1 col2\" >11,689,512.0</td>\n",
       "    </tr>\n",
       "    <tr>\n",
       "      <td id=\"T_92804_row2_col0\" class=\"data row2 col0\" >AlexNet</td>\n",
       "      <td id=\"T_92804_row2_col1\" class=\"data row2 col1\" >85.71</td>\n",
       "      <td id=\"T_92804_row2_col2\" class=\"data row2 col2\" >61,100,840.0</td>\n",
       "    </tr>\n",
       "    <tr>\n",
       "      <td id=\"T_92804_row3_col0\" class=\"data row3 col0\" >VGG16</td>\n",
       "      <td id=\"T_92804_row3_col1\" class=\"data row3 col1\" >84.54</td>\n",
       "      <td id=\"T_92804_row3_col2\" class=\"data row3 col2\" >138,357,544.0</td>\n",
       "    </tr>\n",
       "    <tr>\n",
       "      <td id=\"T_92804_row4_col0\" class=\"data row4 col0\" >ConvNext</td>\n",
       "      <td id=\"T_92804_row4_col1\" class=\"data row4 col1\" >83.40</td>\n",
       "      <td id=\"T_92804_row4_col2\" class=\"data row4 col2\" >88,591,464.0</td>\n",
       "    </tr>\n",
       "    <tr>\n",
       "      <td id=\"T_92804_row5_col0\" class=\"data row5 col0\" >MNASNet</td>\n",
       "      <td id=\"T_92804_row5_col1\" class=\"data row5 col1\" >84.63</td>\n",
       "      <td id=\"T_92804_row5_col2\" class=\"data row5 col2\" >4,383,312.0</td>\n",
       "    </tr>\n",
       "    <tr>\n",
       "      <td id=\"T_92804_row6_col0\" class=\"data row6 col0\" >DenseNet</td>\n",
       "      <td id=\"T_92804_row6_col1\" class=\"data row6 col1\" >84.57</td>\n",
       "      <td id=\"T_92804_row6_col2\" class=\"data row6 col2\" >28,681,000.0</td>\n",
       "    </tr>\n",
       "    <tr>\n",
       "      <td id=\"T_92804_row7_col0\" class=\"data row7 col0\" >ResNeXt</td>\n",
       "      <td id=\"T_92804_row7_col1\" class=\"data row7 col1\" >93.97</td>\n",
       "      <td id=\"T_92804_row7_col2\" class=\"data row7 col2\" >25,028,904.0</td>\n",
       "    </tr>\n",
       "    <tr>\n",
       "      <td id=\"T_92804_row8_col0\" class=\"data row8 col0\" >PC-DARTS</td>\n",
       "      <td id=\"T_92804_row8_col1\" class=\"data row8 col1\" >90.12</td>\n",
       "      <td id=\"T_92804_row8_col2\" class=\"data row8 col2\" >nan</td>\n",
       "    </tr>\n",
       "    <tr>\n",
       "      <td id=\"T_92804_row9_col0\" class=\"data row9 col0\" >DrNAS</td>\n",
       "      <td id=\"T_92804_row9_col1\" class=\"data row9 col1\" >88.55</td>\n",
       "      <td id=\"T_92804_row9_col2\" class=\"data row9 col2\" >nan</td>\n",
       "    </tr>\n",
       "    <tr>\n",
       "      <td id=\"T_92804_row10_col0\" class=\"data row10 col0\" >Bonsai-Net</td>\n",
       "      <td id=\"T_92804_row10_col1\" class=\"data row10 col1\" >87.65</td>\n",
       "      <td id=\"T_92804_row10_col2\" class=\"data row10 col2\" >nan</td>\n",
       "    </tr>\n",
       "    <tr>\n",
       "      <td id=\"T_92804_row11_col0\" class=\"data row11 col0\" >DARTS</td>\n",
       "      <td id=\"T_92804_row11_col1\" class=\"data row11 col1\" >90.12</td>\n",
       "      <td id=\"T_92804_row11_col2\" class=\"data row11 col2\" >nan</td>\n",
       "    </tr>\n",
       "    <tr>\n",
       "      <td id=\"T_92804_row12_col0\" class=\"data row12 col0\" > Bonsai</td>\n",
       "      <td id=\"T_92804_row12_col1\" class=\"data row12 col1\" >76.83</td>\n",
       "      <td id=\"T_92804_row12_col2\" class=\"data row12 col2\" >nan</td>\n",
       "    </tr>\n",
       "    <tr>\n",
       "      <td id=\"T_92804_row13_col0\" class=\"data row13 col0\" >Random</td>\n",
       "      <td id=\"T_92804_row13_col1\" class=\"data row13 col1\" >10.00</td>\n",
       "      <td id=\"T_92804_row13_col2\" class=\"data row13 col2\" >nan</td>\n",
       "    </tr>\n",
       "  </tbody>\n",
       "</table>\n"
      ],
      "text/plain": [
       "<pandas.io.formats.style.Styler at 0x30b8adeb0>"
      ]
     },
     "execution_count": 11,
     "metadata": {},
     "output_type": "execute_result"
    }
   ],
   "source": [
    "import pandas as pd\n",
    "\n",
    "data = {\n",
    "    'Model': ['Ours', 'ResNet-18', 'AlexNet', 'VGG16', 'ConvNext', 'MNASNet', 'DenseNet', 'ResNeXt', 'PC-DARTS', 'DrNAS', 'Bonsai-Net', 'DARTS', ' Bonsai', 'Random'],\n",
    "    'Accuracy (%)': [accuracy * 100, 97.00, 85.71, 84.54, 83.40, 84.63, 84.57, 93.97, 90.12, 88.55, 87.65, 90.12, 76.83, 10],\n",
    "    'Parameters': [params, 11_689_512, 61_100_840, 138_357_544, 88_591_464, 4_383_312, 28_681_000, 25_028_904, None, None, None, None, None, None]\n",
    "}\n",
    "\n",
    "table = pd.DataFrame(data)\n",
    "\n",
    "def format_with_commas(x):\n",
    "    return \"{:,}\".format(x)\n",
    "\n",
    "styled_table = (table.style\n",
    "               .format({'Accuracy (%)': '{:.2f}',\n",
    "                       'Parameters': format_with_commas})\n",
    "               .set_properties(**{'text-align': 'center'})\n",
    "               .set_table_styles([\n",
    "                   {'selector': 'th', 'props': [('text-align', 'center')]},\n",
    "                   {'selector': 'caption', 'props': [('font-size', '1.1em')]}\n",
    "               ])\n",
    "               .hide(axis='index'))\n",
    "\n",
    "styled_table"
   ]
  },
  {
   "cell_type": "code",
   "execution_count": null,
   "id": "60c12b83",
   "metadata": {},
   "outputs": [],
   "source": []
  }
 ],
 "metadata": {
  "kernelspec": {
   "display_name": "self-expanding-nets",
   "language": "python",
   "name": "python3"
  },
  "language_info": {
   "codemirror_mode": {
    "name": "ipython",
    "version": 3
   },
   "file_extension": ".py",
   "mimetype": "text/x-python",
   "name": "python",
   "nbconvert_exporter": "python",
   "pygments_lexer": "ipython3",
   "version": "3.12.7"
  }
 },
 "nbformat": 4,
 "nbformat_minor": 5
}
