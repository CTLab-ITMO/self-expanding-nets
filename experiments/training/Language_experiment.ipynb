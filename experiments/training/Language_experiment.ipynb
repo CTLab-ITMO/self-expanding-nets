{
 "cells": [
  {
   "cell_type": "code",
   "execution_count": 1,
   "id": "2a0d4d2e-0a0a-4032-8ad5-161a8a775d1b",
   "metadata": {},
   "outputs": [
    {
     "name": "stdout",
     "output_type": "stream",
     "text": [
      "--2025-05-06 16:56:40--  https://data.ncl.ac.uk/ndownloader/articles/24574729/versions/1\n",
      "Resolving data.ncl.ac.uk (data.ncl.ac.uk)... 54.195.113.107, 52.49.76.148, 34.241.90.58\n",
      "Connecting to data.ncl.ac.uk (data.ncl.ac.uk)|54.195.113.107|:443... connected.\n",
      "HTTP request sent, awaiting response... 200 OK\n",
      "Length: 161843534 (154M) [application/zip]\n",
      "Saving to: ‘Language.zip’\n",
      "\n",
      "Language.zip        100%[===================>] 154.35M  1.31MB/s    in 1m 54s  \n",
      "\n",
      "2025-05-06 16:58:34 (1.35 MB/s) - ‘Language.zip’ saved [161843534/161843534]\n",
      "\n",
      "Archive:  Language.zip\n",
      " extracting: metadata                \n",
      " extracting: test_y.npy              \n",
      " extracting: test_x.npy              \n",
      " extracting: train_y.npy             \n",
      " extracting: valid_y.npy             \n",
      " extracting: valid_x.npy             \n",
      " extracting: train_x.npy             \n",
      " extracting: README                  \n"
     ]
    }
   ],
   "source": [
    "!wget https://data.ncl.ac.uk/ndownloader/articles/24574729/versions/1 -O Language.zip\n",
    "!unzip Language.zip"
   ]
  },
  {
   "cell_type": "code",
   "execution_count": 2,
   "id": "a211620b-58de-4e4d-8cac-b3baffe5f51a",
   "metadata": {},
   "outputs": [],
   "source": [
    "import torch\n",
    "from torch import nn\n",
    "from torch.utils.data import DataLoader, random_split, TensorDataset\n",
    "from torchvision import datasets, transforms\n",
    "\n",
    "################################\n",
    "#     RESTART     RUNTIME      #\n",
    "################################\n",
    "from senmodel.model.utils import *\n",
    "from senmodel.metrics.nonlinearity_metrics import *\n",
    "from senmodel.metrics.edge_finder import *\n",
    "from senmodel.metrics.train_metrics import *\n",
    "from senmodel.train.train import *"
   ]
  },
  {
   "cell_type": "code",
   "execution_count": 3,
   "id": "6c6c9f53-c5ce-45c5-974f-0eb931888dbb",
   "metadata": {},
   "outputs": [
    {
     "data": {
      "text/plain": [
       "device(type='cuda', index=0)"
      ]
     },
     "execution_count": 3,
     "metadata": {},
     "output_type": "execute_result"
    }
   ],
   "source": [
    "SEED = 0\n",
    "torch.manual_seed(SEED)\n",
    "torch.cuda.manual_seed(SEED)\n",
    "import random\n",
    "random.seed(SEED)\n",
    "import numpy as np\n",
    "np.random.seed(SEED)\n",
    "\n",
    "torch.backends.cudnn.deterministic = True\n",
    "torch.backends.cudnn.benchmark = False\n",
    "\n",
    "device = torch.device(\"cuda:0\" if torch.cuda.is_available() else \"cpu\")\n",
    "device"
   ]
  },
  {
   "cell_type": "code",
   "execution_count": 4,
   "id": "43401b05-2c6a-4155-a58e-f8aa4cde3bf7",
   "metadata": {},
   "outputs": [],
   "source": [
    "class SimpleFCN(nn.Module):\n",
    "    def __init__(self, input_size=24 * 24, output_size=10):\n",
    "        super(SimpleFCN, self).__init__()\n",
    "        self.fc0 = nn.Linear(input_size, output_size)\n",
    "\n",
    "    def forward(self, x):\n",
    "        return self.fc0(x)"
   ]
  },
  {
   "cell_type": "code",
   "execution_count": 22,
   "id": "3d42f964-b6ea-468f-908b-10b264d87aeb",
   "metadata": {},
   "outputs": [
    {
     "data": {
      "text/plain": [
       "\"num_epochs: 128, batch_size: 256, metric: AbsGradientEdgeMetric, aggregation_mode: mean, choose_thresholds: {'fc0': 0.25}, choose_thresholds_del: {'fc0': 0.1}, threshold: 0.05, min_delta_epoch_replace: 24, window_size: 5, lr: 0.001, delete_after: 4, task_type: classification, fully_connected: False, max_to_replace: 2000, weight_decay: 0.0001\""
      ]
     },
     "execution_count": 22,
     "metadata": {},
     "output_type": "execute_result"
    }
   ],
   "source": [
    "hyperparams = {\n",
    "    \"num_epochs\": 128,\n",
    "    \"batch_size\": 256,\n",
    "    \"metric\": AbsGradientEdgeMetric(nn.CrossEntropyLoss()),\n",
    "    \"aggregation_mode\": \"mean\",\n",
    "    \"choose_thresholds\": {\"fc0\": 0.25}, # 1.0 -> no edges, 0.0 -> all edges\n",
    "    \"choose_thresholds_del\": {\"fc0\": 0.1}, # 1.0 -> all edges, 0.0 -> no edges\n",
    "    \"threshold\": 0.05,\n",
    "    \"min_delta_epoch_replace\": 24,\n",
    "    \"window_size\": 5,\n",
    "    \"lr\": 1e-3,\n",
    "    \"delete_after\": 4,    \n",
    "    \"task_type\": \"classification\",\n",
    "    \"fully_connected\": False,\n",
    "    \"max_to_replace\": 2000, # None -> no limit\n",
    "    \"weight_decay\": 1e-4,\n",
    "}\n",
    "\n",
    "name = \", \".join(\n",
    "    f\"{key}: {value.__class__.__name__ if key == 'metric' else value}\"\n",
    "    for key, value in hyperparams.items()\n",
    ")\n",
    "\n",
    "name"
   ]
  },
  {
   "cell_type": "code",
   "execution_count": 6,
   "id": "0864253b-00e5-4096-90ca-b7cca8816914",
   "metadata": {},
   "outputs": [],
   "source": [
    "import torch\n",
    "from torch.utils.data import TensorDataset, DataLoader\n",
    "import numpy as np\n",
    "\n",
    "train_x = np.load(\"train_x.npy\")\n",
    "train_y = np.load(\"train_y.npy\")\n",
    "valid_x = np.load(\"valid_x.npy\")\n",
    "valid_y = np.load(\"valid_y.npy\")\n",
    "test_x = np.load('test_x.npy')\n",
    "test_y = np.load('test_y.npy')\n",
    "\n",
    "train_tensor_x = torch.tensor(train_x).float().view(-1, 24 * 24)\n",
    "train_tensor_y = torch.tensor(train_y).long()\n",
    "\n",
    "valid_tensor_x = torch.tensor(valid_x).float().view(-1, 24 * 24)\n",
    "valid_tensor_y = torch.tensor(valid_y).long()\n",
    "\n",
    "test_tensor_x = torch.tensor(test_x).float().view(-1, 24 * 24)\n",
    "test_tensor_y = torch.tensor(test_y).long()\n",
    "\n",
    "\n",
    "train_dataset = TensorDataset(train_tensor_x, train_tensor_y)\n",
    "valid_dataset = TensorDataset(valid_tensor_x, valid_tensor_y)\n",
    "test_dataset = TensorDataset(test_tensor_x, test_tensor_y)\n",
    "\n",
    "\n",
    "train_loader = DataLoader(train_dataset, batch_size=hyperparams['batch_size'], shuffle=True)\n",
    "val_loader = DataLoader(valid_dataset, batch_size=hyperparams['batch_size'], shuffle=False)\n",
    "test_loader = DataLoader(test_dataset, batch_size=hyperparams['batch_size'], shuffle=False)"
   ]
  },
  {
   "cell_type": "code",
   "execution_count": 23,
   "id": "a1681ea9-5b58-45e8-afcf-de833f0590bf",
   "metadata": {},
   "outputs": [],
   "source": [
    "model = SimpleFCN()\n",
    "sparse_model = convert_dense_to_sparse_network(model, layers=[model.fc0], device=device)"
   ]
  },
  {
   "cell_type": "code",
   "execution_count": 24,
   "id": "5b7ad905-5d77-47a0-a3f9-e1654e79f536",
   "metadata": {},
   "outputs": [
    {
     "name": "stderr",
     "output_type": "stream",
     "text": [
      "\u001b[34m\u001b[1mwandb\u001b[0m: \u001b[33mWARNING\u001b[0m Calling wandb.login() after wandb.init() has no effect.\n"
     ]
    },
    {
     "data": {
      "text/html": [],
      "text/plain": [
       "<IPython.core.display.HTML object>"
      ]
     },
     "metadata": {},
     "output_type": "display_data"
    },
    {
     "data": {
      "text/html": [
       "<br>    <style><br>        .wandb-row {<br>            display: flex;<br>            flex-direction: row;<br>            flex-wrap: wrap;<br>            justify-content: flex-start;<br>            width: 100%;<br>        }<br>        .wandb-col {<br>            display: flex;<br>            flex-direction: column;<br>            flex-basis: 100%;<br>            flex: 1;<br>            padding: 10px;<br>        }<br>    </style><br><div class=\"wandb-row\"><div class=\"wandb-col\"><h3>Run history:</h3><br/><table class=\"wandb\"><tr><td>acc amount</td><td>▇█████████████▁▁▁▁▁▁▁▁▁▁▁▁▁▁▁▁▁▁▁▁▁▁▁▁▁▁</td></tr><tr><td>len_choose</td><td>█▁</td></tr><tr><td>lr</td><td>▁▁▁▁▁▁▁▁▁▁▁▁▁▁▁▁▁▁▁▁▁▁▁▁▁▁▁▁▁▁▁▁▁▁▁▁▁▁▁▁</td></tr><tr><td>n_params over train_time</td><td>▁▁▁▁▁▁▁▁▁▁▁▁▁▁▁▇▇▇▇▆▇▆▇▇▇▇▇▇▇▇▇██▇▇▇▇██▇</td></tr><tr><td>params amount</td><td>▁▁▁▁▁▁▁▁▁▁▁▁▁▁▁▅▅▅▅▅▅▅▅▅▅▅▅▅████████████</td></tr><tr><td>params ratio</td><td>▂▁▁▁▂▃▃▃▃▃▃▃▃▄██████████████████████████</td></tr><tr><td>params to replace amount</td><td>▇███▇▆▅▅▅▅▄▄▄▅▄▄███▄██▆▅▆▄▂▃▂▂▅▁▃▄▅▇▇▇▇█</td></tr><tr><td>train loss</td><td>█▅▅▅▄▄▄▄▃▃▃▃▃▃▃▂▂▁▁▁▁▁▁▁▁▁▁▁▁▁▁▁▁▁▁▁▁▁▁▁</td></tr><tr><td>train time</td><td>▁▁▂▁▂▁▁▁▁▁▂▁▁▁▁▁▄▄▄▄▄▅▄▄▄▄▄▄▄▄▇▇▇▇▇▇█▇▇▇</td></tr><tr><td>train_time over n_params</td><td>▇▇▇▇▇▇▇▇▇▇▇█▇▇▇▇▁▁▁▁▁▁▁▁▁▁▁▁▁▁▁▁▁▁▁▁▁▁▁▁</td></tr><tr><td>val accuracy</td><td>▁▃▃▄▅▆▆▆▆▆▆▆████████████████▇▇▇▇▇▇▇▇▇▇▇▇</td></tr><tr><td>val loss</td><td>█▆▅▄▄▃▂▂▂▂▂▂▂▂▂▂▁▁▁▁▁▁▁▂▂▂▂▂▂▂▃▄▅▅▅▆▆▆▇▇</td></tr></table><br/></div><div class=\"wandb-col\"><h3>Run summary:</h3><br/><table class=\"wandb\"><tr><td>acc amount</td><td>0.0</td></tr><tr><td>len_choose</td><td>815</td></tr><tr><td>lr</td><td>0.001</td></tr><tr><td>n_params over train_time</td><td>173708.15143</td></tr><tr><td>params amount</td><td>614250</td></tr><tr><td>params ratio</td><td>0.99674</td></tr><tr><td>params to replace amount</td><td>2000</td></tr><tr><td>train loss</td><td>0.0</td></tr><tr><td>train time</td><td>3.5361</td></tr><tr><td>train_time over n_params</td><td>1e-05</td></tr><tr><td>val accuracy</td><td>0.8265</td></tr><tr><td>val loss</td><td>1.05467</td></tr></table><br/></div></div>"
      ],
      "text/plain": [
       "<IPython.core.display.HTML object>"
      ]
     },
     "metadata": {},
     "output_type": "display_data"
    },
    {
     "data": {
      "text/html": [
       " View run <strong style=\"color:#cdcd00\">trash</strong> at: <a href='https://wandb.ai/vanyamironov/self-expanding-nets-Language/runs/okj7pp69' target=\"_blank\">https://wandb.ai/vanyamironov/self-expanding-nets-Language/runs/okj7pp69</a><br> View project at: <a href='https://wandb.ai/vanyamironov/self-expanding-nets-Language' target=\"_blank\">https://wandb.ai/vanyamironov/self-expanding-nets-Language</a><br>Synced 5 W&B file(s), 0 media file(s), 0 artifact file(s) and 0 other file(s)"
      ],
      "text/plain": [
       "<IPython.core.display.HTML object>"
      ]
     },
     "metadata": {},
     "output_type": "display_data"
    },
    {
     "data": {
      "text/html": [
       "Find logs at: <code>./wandb/run-20250506_170851-okj7pp69/logs</code>"
      ],
      "text/plain": [
       "<IPython.core.display.HTML object>"
      ]
     },
     "metadata": {},
     "output_type": "display_data"
    },
    {
     "data": {
      "text/html": [
       "Tracking run with wandb version 0.19.10"
      ],
      "text/plain": [
       "<IPython.core.display.HTML object>"
      ]
     },
     "metadata": {},
     "output_type": "display_data"
    },
    {
     "data": {
      "text/html": [
       "Run data is saved locally in <code>/nfs/home/vmironov/self-expanding-nets/experiments/training/wandb/run-20250506_171440-e6up1o51</code>"
      ],
      "text/plain": [
       "<IPython.core.display.HTML object>"
      ]
     },
     "metadata": {},
     "output_type": "display_data"
    },
    {
     "data": {
      "text/html": [
       "Syncing run <strong><a href='https://wandb.ai/vanyamironov/self-expanding-nets-Language/runs/e6up1o51' target=\"_blank\">trash</a></strong> to <a href='https://wandb.ai/vanyamironov/self-expanding-nets-Language' target=\"_blank\">Weights & Biases</a> (<a href='https://wandb.me/developer-guide' target=\"_blank\">docs</a>)<br>"
      ],
      "text/plain": [
       "<IPython.core.display.HTML object>"
      ]
     },
     "metadata": {},
     "output_type": "display_data"
    },
    {
     "data": {
      "text/html": [
       " View project at <a href='https://wandb.ai/vanyamironov/self-expanding-nets-Language' target=\"_blank\">https://wandb.ai/vanyamironov/self-expanding-nets-Language</a>"
      ],
      "text/plain": [
       "<IPython.core.display.HTML object>"
      ]
     },
     "metadata": {},
     "output_type": "display_data"
    },
    {
     "data": {
      "text/html": [
       " View run at <a href='https://wandb.ai/vanyamironov/self-expanding-nets-Language/runs/e6up1o51' target=\"_blank\">https://wandb.ai/vanyamironov/self-expanding-nets-Language/runs/e6up1o51</a>"
      ],
      "text/plain": [
       "<IPython.core.display.HTML object>"
      ]
     },
     "metadata": {},
     "output_type": "display_data"
    }
   ],
   "source": [
    "import wandb\n",
    "\n",
    "wandb.login()\n",
    "wandb.finish()\n",
    "run = wandb.init(\n",
    "    project=\"self-expanding-nets-Language\",\n",
    "    name=f\"trash\",\n",
    "    config=hyperparams\n",
    ")"
   ]
  },
  {
   "cell_type": "code",
   "execution_count": null,
   "id": "b30311f1-d905-4329-b674-e8063ffcc249",
   "metadata": {},
   "outputs": [
    {
     "name": "stderr",
     "output_type": "stream",
     "text": [
      "100%|███████████████████████████████████████████████████████████████████████████████████████████████████████████████████████████████████████████████████████████████████████████████████████| 196/196 [00:01<00:00, 164.31it/s]\n"
     ]
    },
    {
     "name": "stdout",
     "output_type": "stream",
     "text": [
      "Epoch 1/128, Train Loss: 1.8383, Val Loss: 1.5002, Val Accuracy: 0.7255\n"
     ]
    },
    {
     "name": "stderr",
     "output_type": "stream",
     "text": [
      "100%|███████████████████████████████████████████████████████████████████████████████████████████████████████████████████████████████████████████████████████████████████████████████████████| 196/196 [00:01<00:00, 187.57it/s]\n"
     ]
    },
    {
     "name": "stdout",
     "output_type": "stream",
     "text": [
      "Epoch 2/128, Train Loss: 1.2614, Val Loss: 1.1441, Val Accuracy: 0.7537\n"
     ]
    },
    {
     "name": "stderr",
     "output_type": "stream",
     "text": [
      "100%|███████████████████████████████████████████████████████████████████████████████████████████████████████████████████████████████████████████████████████████████████████████████████████| 196/196 [00:01<00:00, 167.57it/s]\n"
     ]
    },
    {
     "name": "stdout",
     "output_type": "stream",
     "text": [
      "Epoch 3/128, Train Loss: 0.9936, Val Loss: 0.9631, Val Accuracy: 0.7642\n"
     ]
    },
    {
     "name": "stderr",
     "output_type": "stream",
     "text": [
      "100%|███████████████████████████████████████████████████████████████████████████████████████████████████████████████████████████████████████████████████████████████████████████████████████| 196/196 [00:01<00:00, 147.67it/s]\n"
     ]
    },
    {
     "name": "stdout",
     "output_type": "stream",
     "text": [
      "Epoch 4/128, Train Loss: 0.8466, Val Loss: 0.8568, Val Accuracy: 0.7707\n"
     ]
    },
    {
     "name": "stderr",
     "output_type": "stream",
     "text": [
      "100%|███████████████████████████████████████████████████████████████████████████████████████████████████████████████████████████████████████████████████████████████████████████████████████| 196/196 [00:01<00:00, 160.23it/s]\n"
     ]
    },
    {
     "name": "stdout",
     "output_type": "stream",
     "text": [
      "Epoch 5/128, Train Loss: 0.7558, Val Loss: 0.7879, Val Accuracy: 0.7787\n"
     ]
    },
    {
     "name": "stderr",
     "output_type": "stream",
     "text": [
      "100%|███████████████████████████████████████████████████████████████████████████████████████████████████████████████████████████████████████████████████████████████████████████████████████| 196/196 [00:01<00:00, 159.28it/s]\n"
     ]
    },
    {
     "name": "stdout",
     "output_type": "stream",
     "text": [
      "Epoch 6/128, Train Loss: 0.6934, Val Loss: 0.7385, Val Accuracy: 0.7840\n"
     ]
    },
    {
     "name": "stderr",
     "output_type": "stream",
     "text": [
      "100%|███████████████████████████████████████████████████████████████████████████████████████████████████████████████████████████████████████████████████████████████████████████████████████| 196/196 [00:01<00:00, 166.78it/s]\n"
     ]
    },
    {
     "name": "stdout",
     "output_type": "stream",
     "text": [
      "Epoch 7/128, Train Loss: 0.6482, Val Loss: 0.7030, Val Accuracy: 0.7885\n"
     ]
    },
    {
     "name": "stderr",
     "output_type": "stream",
     "text": [
      "100%|███████████████████████████████████████████████████████████████████████████████████████████████████████████████████████████████████████████████████████████████████████████████████████| 196/196 [00:01<00:00, 175.89it/s]\n"
     ]
    },
    {
     "name": "stdout",
     "output_type": "stream",
     "text": [
      "Epoch 8/128, Train Loss: 0.6135, Val Loss: 0.6751, Val Accuracy: 0.7916\n"
     ]
    },
    {
     "name": "stderr",
     "output_type": "stream",
     "text": [
      "100%|███████████████████████████████████████████████████████████████████████████████████████████████████████████████████████████████████████████████████████████████████████████████████████| 196/196 [00:01<00:00, 162.65it/s]\n"
     ]
    },
    {
     "name": "stdout",
     "output_type": "stream",
     "text": [
      "Epoch 9/128, Train Loss: 0.5868, Val Loss: 0.6541, Val Accuracy: 0.7921\n"
     ]
    },
    {
     "name": "stderr",
     "output_type": "stream",
     "text": [
      "100%|███████████████████████████████████████████████████████████████████████████████████████████████████████████████████████████████████████████████████████████████████████████████████████| 196/196 [00:01<00:00, 168.61it/s]\n"
     ]
    },
    {
     "name": "stdout",
     "output_type": "stream",
     "text": [
      "Epoch 10/128, Train Loss: 0.5647, Val Loss: 0.6366, Val Accuracy: 0.7938\n"
     ]
    },
    {
     "name": "stderr",
     "output_type": "stream",
     "text": [
      "100%|███████████████████████████████████████████████████████████████████████████████████████████████████████████████████████████████████████████████████████████████████████████████████████| 196/196 [00:01<00:00, 173.60it/s]\n"
     ]
    },
    {
     "name": "stdout",
     "output_type": "stream",
     "text": [
      "Epoch 11/128, Train Loss: 0.5470, Val Loss: 0.6228, Val Accuracy: 0.7960\n"
     ]
    },
    {
     "name": "stderr",
     "output_type": "stream",
     "text": [
      "100%|███████████████████████████████████████████████████████████████████████████████████████████████████████████████████████████████████████████████████████████████████████████████████████| 196/196 [00:01<00:00, 176.23it/s]\n"
     ]
    },
    {
     "name": "stdout",
     "output_type": "stream",
     "text": [
      "Epoch 12/128, Train Loss: 0.5318, Val Loss: 0.6105, Val Accuracy: 0.7975\n"
     ]
    },
    {
     "name": "stderr",
     "output_type": "stream",
     "text": [
      "100%|███████████████████████████████████████████████████████████████████████████████████████████████████████████████████████████████████████████████████████████████████████████████████████| 196/196 [00:01<00:00, 163.05it/s]\n"
     ]
    },
    {
     "name": "stdout",
     "output_type": "stream",
     "text": [
      "Epoch 13/128, Train Loss: 0.5192, Val Loss: 0.6010, Val Accuracy: 0.7974\n"
     ]
    },
    {
     "name": "stderr",
     "output_type": "stream",
     "text": [
      "100%|███████████████████████████████████████████████████████████████████████████████████████████████████████████████████████████████████████████████████████████████████████████████████████| 196/196 [00:01<00:00, 137.60it/s]\n"
     ]
    },
    {
     "name": "stdout",
     "output_type": "stream",
     "text": [
      "Epoch 14/128, Train Loss: 0.5084, Val Loss: 0.5927, Val Accuracy: 0.7993\n"
     ]
    },
    {
     "name": "stderr",
     "output_type": "stream",
     "text": [
      "100%|███████████████████████████████████████████████████████████████████████████████████████████████████████████████████████████████████████████████████████████████████████████████████████| 196/196 [00:01<00:00, 168.31it/s]\n"
     ]
    },
    {
     "name": "stdout",
     "output_type": "stream",
     "text": [
      "Epoch 15/128, Train Loss: 0.4994, Val Loss: 0.5848, Val Accuracy: 0.8014\n"
     ]
    },
    {
     "name": "stderr",
     "output_type": "stream",
     "text": [
      "100%|███████████████████████████████████████████████████████████████████████████████████████████████████████████████████████████████████████████████████████████████████████████████████████| 196/196 [00:01<00:00, 180.17it/s]\n"
     ]
    },
    {
     "name": "stdout",
     "output_type": "stream",
     "text": [
      "Epoch 16/128, Train Loss: 0.4913, Val Loss: 0.5797, Val Accuracy: 0.8019\n"
     ]
    },
    {
     "name": "stderr",
     "output_type": "stream",
     "text": [
      "100%|███████████████████████████████████████████████████████████████████████████████████████████████████████████████████████████████████████████████████████████████████████████████████████| 196/196 [00:01<00:00, 164.71it/s]\n"
     ]
    },
    {
     "name": "stdout",
     "output_type": "stream",
     "text": [
      "Epoch 17/128, Train Loss: 0.4842, Val Loss: 0.5741, Val Accuracy: 0.8030\n"
     ]
    },
    {
     "name": "stderr",
     "output_type": "stream",
     "text": [
      "100%|███████████████████████████████████████████████████████████████████████████████████████████████████████████████████████████████████████████████████████████████████████████████████████| 196/196 [00:01<00:00, 163.86it/s]\n"
     ]
    },
    {
     "name": "stdout",
     "output_type": "stream",
     "text": [
      "Epoch 18/128, Train Loss: 0.4783, Val Loss: 0.5697, Val Accuracy: 0.8038\n"
     ]
    },
    {
     "name": "stderr",
     "output_type": "stream",
     "text": [
      "100%|███████████████████████████████████████████████████████████████████████████████████████████████████████████████████████████████████████████████████████████████████████████████████████| 196/196 [00:01<00:00, 166.95it/s]\n"
     ]
    },
    {
     "name": "stdout",
     "output_type": "stream",
     "text": [
      "Epoch 19/128, Train Loss: 0.4730, Val Loss: 0.5652, Val Accuracy: 0.8044\n"
     ]
    },
    {
     "name": "stderr",
     "output_type": "stream",
     "text": [
      "100%|███████████████████████████████████████████████████████████████████████████████████████████████████████████████████████████████████████████████████████████████████████████████████████| 196/196 [00:01<00:00, 165.21it/s]\n"
     ]
    },
    {
     "name": "stdout",
     "output_type": "stream",
     "text": [
      "Epoch 20/128, Train Loss: 0.4675, Val Loss: 0.5613, Val Accuracy: 0.8055\n"
     ]
    },
    {
     "name": "stderr",
     "output_type": "stream",
     "text": [
      "100%|███████████████████████████████████████████████████████████████████████████████████████████████████████████████████████████████████████████████████████████████████████████████████████| 196/196 [00:01<00:00, 158.79it/s]\n"
     ]
    },
    {
     "name": "stdout",
     "output_type": "stream",
     "text": [
      "Epoch 21/128, Train Loss: 0.4639, Val Loss: 0.5586, Val Accuracy: 0.8049\n"
     ]
    },
    {
     "name": "stderr",
     "output_type": "stream",
     "text": [
      "100%|███████████████████████████████████████████████████████████████████████████████████████████████████████████████████████████████████████████████████████████████████████████████████████| 196/196 [00:01<00:00, 167.00it/s]\n"
     ]
    },
    {
     "name": "stdout",
     "output_type": "stream",
     "text": [
      "Epoch 22/128, Train Loss: 0.4596, Val Loss: 0.5552, Val Accuracy: 0.8054\n"
     ]
    },
    {
     "name": "stderr",
     "output_type": "stream",
     "text": [
      "100%|███████████████████████████████████████████████████████████████████████████████████████████████████████████████████████████████████████████████████████████████████████████████████████| 196/196 [00:01<00:00, 165.56it/s]\n"
     ]
    },
    {
     "name": "stdout",
     "output_type": "stream",
     "text": [
      "Epoch 23/128, Train Loss: 0.4565, Val Loss: 0.5539, Val Accuracy: 0.8057\n"
     ]
    },
    {
     "name": "stderr",
     "output_type": "stream",
     "text": [
      "100%|███████████████████████████████████████████████████████████████████████████████████████████████████████████████████████████████████████████████████████████████████████████████████████| 196/196 [00:01<00:00, 138.65it/s]\n"
     ]
    },
    {
     "name": "stdout",
     "output_type": "stream",
     "text": [
      "Epoch 24/128, Train Loss: 0.4532, Val Loss: 0.5520, Val Accuracy: 0.8059\n"
     ]
    },
    {
     "name": "stderr",
     "output_type": "stream",
     "text": [
      "100%|███████████████████████████████████████████████████████████████████████████████████████████████████████████████████████████████████████████████████████████████████████████████████████| 196/196 [00:01<00:00, 174.61it/s]\n"
     ]
    },
    {
     "name": "stdout",
     "output_type": "stream",
     "text": [
      "Epoch 25/128, Train Loss: 0.4506, Val Loss: 0.5496, Val Accuracy: 0.8064\n"
     ]
    },
    {
     "name": "stderr",
     "output_type": "stream",
     "text": [
      "100%|███████████████████████████████████████████████████████████████████████████████████████████████████████████████████████████████████████████████████████████████████████████████████████| 196/196 [00:01<00:00, 176.98it/s]\n"
     ]
    },
    {
     "name": "stdout",
     "output_type": "stream",
     "text": [
      "Epoch 26/128, Train Loss: 0.4482, Val Loss: 0.5474, Val Accuracy: 0.8065\n",
      "Chosen edges: tensor([[  0,   0,   0,  ...,   9,   9,   9],\n",
      "        [  0,   1,   2,  ..., 570, 571, 575]], device='cuda:0') 1362\n"
     ]
    }
   ],
   "source": [
    "criterion = nn.CrossEntropyLoss()\n",
    "optimizer = optim.Adam(sparse_model.parameters(), lr=hyperparams['lr'], weight_decay=hyperparams['weight_decay'])\n",
    "train_sparse_recursive(sparse_model, train_loader, val_loader, val_loader, criterion, optimizer, hyperparams, device)"
   ]
  },
  {
   "cell_type": "code",
   "execution_count": null,
   "id": "fce5381d-3386-4f0e-80cd-78bf65ed2b15",
   "metadata": {},
   "outputs": [],
   "source": [
    "_, accuracy = eval_one_epoch(sparse_model, criterion, test_loader, hyperparams['task_type'], device)\n",
    "params = get_params_amount(sparse_model)"
   ]
  },
  {
   "cell_type": "code",
   "execution_count": null,
   "id": "753b81b6-10e6-4514-9c19-f0afd2af5194",
   "metadata": {},
   "outputs": [],
   "source": [
    "accuracy, params"
   ]
  },
  {
   "cell_type": "code",
   "execution_count": null,
   "id": "2e8828c6-45c1-4d44-88c0-c4533b12717e",
   "metadata": {},
   "outputs": [],
   "source": [
    "import pandas as pd\n",
    "\n",
    "data = {\n",
    "    'Model': ['Ours', 'ResNet-18', 'AlexNet', 'VGG16', 'ConvNext', 'MNASNet', 'DenseNet', 'ResNeXt', 'PC-DARTS', 'DrNAS', 'Bonsai-Net', 'DARTS', ' Bonsai', 'Random'],\n",
    "    'Accuracy (%)': [47.85, 92.08, 94.87, 92.06, 38.06, 90.51, 93.52, 91.42, 96.60, 97.06, 97.91, 97.07, 34.17, 5],\n",
    "    'Parameters': [9_302_946, 11_689_512, 61_100_840, 138_357_544, 88_591_464, 4_383_312, 28_681_000, 25_028_904, None, None, None, None, None, None]\n",
    "}\n",
    "\n",
    "table = pd.DataFrame(data)\n",
    "\n",
    "def format_with_commas(x):\n",
    "    return \"{:,}\".format(x)\n",
    "\n",
    "styled_table = (table.style\n",
    "               .format({'Accuracy (%)': '{:.2f}',\n",
    "                       'Parameters': format_with_commas})\n",
    "               .set_properties(**{'text-align': 'center'})\n",
    "               .set_table_styles([\n",
    "                   {'selector': 'th', 'props': [('text-align', 'center')]},\n",
    "                   {'selector': 'caption', 'props': [('font-size', '1.1em')]}\n",
    "               ])\n",
    "               .hide(axis='index'))\n",
    "\n",
    "styled_table"
   ]
  }
 ],
 "metadata": {
  "kernelspec": {
   "display_name": "Python 3 (ipykernel)",
   "language": "python",
   "name": "python3"
  },
  "language_info": {
   "codemirror_mode": {
    "name": "ipython",
    "version": 3
   },
   "file_extension": ".py",
   "mimetype": "text/x-python",
   "name": "python",
   "nbconvert_exporter": "python",
   "pygments_lexer": "ipython3",
   "version": "3.12.7"
  }
 },
 "nbformat": 4,
 "nbformat_minor": 5
}
