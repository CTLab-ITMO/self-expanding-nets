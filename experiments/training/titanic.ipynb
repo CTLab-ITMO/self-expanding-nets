{
 "cells": [
  {
   "cell_type": "code",
   "id": "initial_id",
   "metadata": {
    "collapsed": true,
    "ExecuteTime": {
     "end_time": "2024-12-17T13:15:25.784376Z",
     "start_time": "2024-12-17T13:15:21.318351Z"
    }
   },
   "source": [
    "import pandas as pd\n",
    "import torch\n",
    "import torch.nn as nn\n",
    "import torch.optim as optim\n",
    "from sklearn.metrics import accuracy_score\n",
    "from sklearn.model_selection import train_test_split\n",
    "from sklearn.preprocessing import StandardScaler\n",
    "from torch.utils.data import DataLoader, Dataset\n",
    "from tqdm import tqdm"
   ],
   "outputs": [],
   "execution_count": 1
  },
  {
   "metadata": {
    "ExecuteTime": {
     "end_time": "2024-12-17T13:15:25.804395Z",
     "start_time": "2024-12-17T13:15:25.784376Z"
    }
   },
   "cell_type": "code",
   "source": [
    "from senmodel.model.utils import convert_dense_to_sparse_network\n",
    "from senmodel.metrics.nonlinearity_metrics import GradientMeanEdgeMetric, PerturbationSensitivityEdgeMetric\n",
    "from senmodel.metrics.edge_finder import EdgeFinder\n"
   ],
   "id": "851a61bbbac63426",
   "outputs": [],
   "execution_count": 2
  },
  {
   "metadata": {
    "ExecuteTime": {
     "end_time": "2024-12-17T13:15:26.041224Z",
     "start_time": "2024-12-17T13:15:26.030995Z"
    }
   },
   "cell_type": "code",
   "source": "device = torch.device(\"cuda\" if torch.cuda.is_available() else \"cpu\")",
   "id": "ed98f9250fb9b52",
   "outputs": [],
   "execution_count": 3
  },
  {
   "metadata": {
    "ExecuteTime": {
     "end_time": "2024-12-17T13:15:31.177828Z",
     "start_time": "2024-12-17T13:15:26.051802Z"
    }
   },
   "cell_type": "code",
   "source": [
    "from sklearn.preprocessing import LabelEncoder\n",
    "\n",
    "url = \"https://archive.ics.uci.edu/ml/machine-learning-databases/adult/adult.data\"\n",
    "columns = [\n",
    "    'age', 'workclass', 'fnlwgt', 'education', 'education-num', 'marital-status',\n",
    "    'occupation', 'relationship', 'race', 'sex', 'capital-gain', 'capital-loss',\n",
    "    'hours-per-week', 'native-country', 'income'\n",
    "]\n",
    "data = pd.read_csv(url, names=columns, na_values=\" ?\", skipinitialspace=True)\n",
    "data = data.dropna()\n",
    "\n",
    "X = data.drop('income', axis=1)\n",
    "y = data['income']\n",
    "\n",
    "\n",
    "for col in X.select_dtypes(include=['object']).columns:\n",
    "    X[col] = LabelEncoder().fit_transform(X[col])\n",
    "\n",
    "y = LabelEncoder().fit_transform(y)\n",
    "\n",
    "scaler = StandardScaler()\n",
    "X = scaler.fit_transform(X)\n",
    "\n",
    "X_train, X_val, y_train, y_val = train_test_split(X, y, test_size=0.2, random_state=0)\n"
   ],
   "id": "8a1c4b0b6e33d5a4",
   "outputs": [],
   "execution_count": 4
  },
  {
   "metadata": {
    "ExecuteTime": {
     "end_time": "2024-12-17T13:15:31.204974Z",
     "start_time": "2024-12-17T13:15:31.195340Z"
    }
   },
   "cell_type": "code",
   "source": [
    "class TabularDataset(Dataset):\n",
    "    def __init__(self, features, targets):\n",
    "        self.features = torch.tensor(features, dtype=torch.float32)\n",
    "        self.targets = torch.tensor(targets, dtype=torch.long)\n",
    "\n",
    "    def __len__(self):\n",
    "        return len(self.targets)\n",
    "\n",
    "    def __getitem__(self, idx):\n",
    "        return self.features[idx], self.targets[idx]"
   ],
   "id": "d7d9e408b16a7a6a",
   "outputs": [],
   "execution_count": 5
  },
  {
   "metadata": {
    "ExecuteTime": {
     "end_time": "2024-12-17T13:15:31.230187Z",
     "start_time": "2024-12-17T13:15:31.220219Z"
    }
   },
   "cell_type": "code",
   "source": [
    "train_dataset = TabularDataset(X_train, y_train)\n",
    "val_dataset = TabularDataset(X_val, y_val)\n",
    "\n",
    "train_loader = DataLoader(train_dataset, batch_size=512, shuffle=True)\n",
    "val_loader = DataLoader(val_dataset, batch_size=512, shuffle=False)"
   ],
   "id": "183cc85a9b097f1",
   "outputs": [],
   "execution_count": 6
  },
  {
   "metadata": {
    "ExecuteTime": {
     "end_time": "2024-12-17T13:15:31.257937Z",
     "start_time": "2024-12-17T13:15:31.250050Z"
    }
   },
   "cell_type": "code",
   "source": [
    "class SimpleFCN(nn.Module):\n",
    "    def __init__(self, input_size=14, hidden_size=128, output_size=2):\n",
    "        super(SimpleFCN, self).__init__()\n",
    "        self.fc1 = nn.Linear(input_size, hidden_size)\n",
    "        self.relu = nn.ReLU()\n",
    "        self.fc2 = nn.Linear(hidden_size, output_size)\n",
    "\n",
    "    def forward(self, x):\n",
    "        x = self.fc1(x)\n",
    "        x = self.relu(x)\n",
    "        x = self.fc2(x)\n",
    "        return x"
   ],
   "id": "cf7e5ab74bd84c4c",
   "outputs": [],
   "execution_count": 7
  },
  {
   "metadata": {
    "ExecuteTime": {
     "end_time": "2024-12-17T13:15:31.288044Z",
     "start_time": "2024-12-17T13:15:31.278106Z"
    }
   },
   "cell_type": "code",
   "source": [
    "def edge_replacement_func_new_layer(model, optim, val_loader, metric):\n",
    "    layer = model.fc2\n",
    "    ef = EdgeFinder(metric, val_loader, device)\n",
    "    vals = ef.calculate_edge_metric_for_dataloader(model)\n",
    "    print(\"Edge metrics:\", vals, max(vals), sum(vals))\n",
    "    chosen_edges = ef.choose_edges_threshold(model, 0.2)\n",
    "    print(\"Chosen edges:\", chosen_edges, len(chosen_edges[0]))\n",
    "    layer.replace_many(*chosen_edges)\n",
    "\n",
    "    if layer.embed_linears:\n",
    "        optim.add_param_group({'params': layer.embed_linears[-1].weight_values})\n",
    "    else:\n",
    "        print(\"Empty metric\")\n",
    "        dummy_param = torch.zeros_like(layer.weight_values)\n",
    "        optim.add_param_group({'params': dummy_param})\n",
    "\n",
    "    return {'max': max(vals), 'sum': sum(vals), 'len': len(vals), 'len_choose': len(chosen_edges[0])}\n"
   ],
   "id": "6fe92b9bfdd4d7d1",
   "outputs": [],
   "execution_count": 8
  },
  {
   "metadata": {
    "ExecuteTime": {
     "end_time": "2024-12-17T13:15:31.321863Z",
     "start_time": "2024-12-17T13:15:31.308989Z"
    }
   },
   "cell_type": "code",
   "source": [
    "def train_sparse_recursive(model, train_loader, val_loader, num_epochs, metric, edge_replacement_func=None,\n",
    "                           window_size=3, threshold=0.10):\n",
    "    optimizer = optim.Adam(model.parameters(), lr=5e-4)\n",
    "    criterion = nn.CrossEntropyLoss()\n",
    "    val_losses = []\n",
    "\n",
    "    for epoch in range(num_epochs):\n",
    "        model.train()\n",
    "        train_loss = 0\n",
    "        for inputs, targets in tqdm(train_loader):\n",
    "            inputs, targets = inputs.to(device), targets.to(device)\n",
    "            outputs = model(inputs)\n",
    "            loss = criterion(outputs, targets)\n",
    "\n",
    "            optimizer.zero_grad()\n",
    "            loss.backward()\n",
    "            optimizer.step()\n",
    "            train_loss += loss.item()\n",
    "\n",
    "        train_loss /= len(train_loader)\n",
    "\n",
    "        model.eval()\n",
    "        val_loss = 0\n",
    "        all_preds = []\n",
    "        all_targets = []\n",
    "        with torch.no_grad():\n",
    "            for inputs, targets in val_loader:\n",
    "                inputs, targets = inputs.to(device), targets.to(device)\n",
    "                outputs = model(inputs)\n",
    "                loss = criterion(outputs, targets)\n",
    "                val_loss += loss.item()\n",
    "\n",
    "                preds = torch.argmax(outputs, dim=1)\n",
    "                all_preds.extend(preds.cpu().numpy())\n",
    "                all_targets.extend(targets.cpu().numpy())\n",
    "\n",
    "        val_accuracy = accuracy_score(all_targets, all_preds)\n",
    "        print(f\"Epoch {epoch + 1}/{num_epochs} | Train Loss: {train_loss:.4f} | \"\n",
    "              f\"Val Loss: {val_loss:.4f} | Val Accuracy: {val_accuracy:.4f}\")\n",
    "\n",
    "        # new_l = {}\n",
    "        # val_losses.append(val_loss)\n",
    "        # if edge_replacement_func and len(val_losses) > window_size:\n",
    "        #     recent_changes = [abs(val_losses[i] - val_losses[i - 1]) for i in range(-window_size, 0)]\n",
    "        #     avg_change = sum(recent_changes) / window_size\n",
    "        #     if avg_change < threshold:\n",
    "        #         new_l = edge_replacement_func(model, optimizer, val_loader, metric)\n",
    "        #\n",
    "\n",
    "        new_l = {}\n",
    "        if edge_replacement_func and epoch % 8 == 0 and epoch != 0:\n",
    "            new_l = edge_replacement_func(model, optimizer, val_loader, metric)\n",
    "\n",
    "        wandb.log({'val_loss': val_loss, 'val_accuracy': val_accuracy, 'train_loss': train_loss} | new_l)\n",
    "\n"
   ],
   "id": "e0e4d086a0b3b29f",
   "outputs": [],
   "execution_count": 9
  },
  {
   "metadata": {
    "ExecuteTime": {
     "end_time": "2024-12-17T13:15:31.368493Z",
     "start_time": "2024-12-17T13:15:31.363007Z"
    }
   },
   "cell_type": "code",
   "source": [
    "criterion = nn.CrossEntropyLoss()\n",
    "metrics = [\n",
    "    GradientMeanEdgeMetric(criterion),\n",
    "    PerturbationSensitivityEdgeMetric(criterion),\n",
    "]\n"
   ],
   "id": "b44615f5a401dd16",
   "outputs": [],
   "execution_count": 10
  },
  {
   "metadata": {
    "ExecuteTime": {
     "end_time": "2024-12-17T13:15:34.886914Z",
     "start_time": "2024-12-17T13:15:31.381507Z"
    }
   },
   "cell_type": "code",
   "source": [
    "import wandb\n",
    "\n",
    "wandb.login()"
   ],
   "id": "c813771bca507d71",
   "outputs": [
    {
     "name": "stderr",
     "output_type": "stream",
     "text": [
      "wandb: Using wandb-core as the SDK backend.  Please refer to https://wandb.me/wandb-core for more information.\n",
      "wandb: Currently logged in as: fedornigretuk. Use `wandb login --relogin` to force relogin\n"
     ]
    },
    {
     "data": {
      "text/plain": [
       "True"
      ]
     },
     "execution_count": 11,
     "metadata": {},
     "output_type": "execute_result"
    }
   ],
   "execution_count": 11
  },
  {
   "metadata": {
    "ExecuteTime": {
     "end_time": "2024-12-17T13:15:34.913873Z",
     "start_time": "2024-12-17T13:15:34.907582Z"
    }
   },
   "cell_type": "code",
   "source": "",
   "id": "a10df7d34ecdcb18",
   "outputs": [],
   "execution_count": null
  },
  {
   "metadata": {
    "ExecuteTime": {
     "end_time": "2024-12-17T13:16:01.403385Z",
     "start_time": "2024-12-17T13:15:34.977913Z"
    }
   },
   "cell_type": "code",
   "source": [
    "dense_model = SimpleFCN(input_size=X.shape[1], hidden_size=128, output_size=2)\n",
    "sparse_model = convert_dense_to_sparse_network(dense_model)\n",
    "wandb.init(\n",
    "    project=\"self-expanding-nets\",\n",
    "    name=f\"minst, threshold\",\n",
    ")\n",
    "\n",
    "train_sparse_recursive(sparse_model, train_loader, val_loader, num_epochs=20,\n",
    "                       metric=metrics[0],\n",
    "                       edge_replacement_func=edge_replacement_func_new_layer)"
   ],
   "id": "45fe9040816bb570",
   "outputs": [
    {
     "data": {
      "text/plain": [
       "<IPython.core.display.HTML object>"
      ],
      "text/html": [
       "Tracking run with wandb version 0.19.0"
      ]
     },
     "metadata": {},
     "output_type": "display_data"
    },
    {
     "data": {
      "text/plain": [
       "<IPython.core.display.HTML object>"
      ],
      "text/html": [
       "Run data is saved locally in <code>D:\\Coding\\PY\\self-expanding-nets\\experiments\\training\\wandb\\run-20241217_161535-9f74jl6u</code>"
      ]
     },
     "metadata": {},
     "output_type": "display_data"
    },
    {
     "data": {
      "text/plain": [
       "<IPython.core.display.HTML object>"
      ],
      "text/html": [
       "Syncing run <strong><a href='https://wandb.ai/fedornigretuk/self-expanding-nets/runs/9f74jl6u' target=\"_blank\">minst, threshold</a></strong> to <a href='https://wandb.ai/fedornigretuk/self-expanding-nets' target=\"_blank\">Weights & Biases</a> (<a href='https://wandb.me/developer-guide' target=\"_blank\">docs</a>)<br/>"
      ]
     },
     "metadata": {},
     "output_type": "display_data"
    },
    {
     "data": {
      "text/plain": [
       "<IPython.core.display.HTML object>"
      ],
      "text/html": [
       " View project at <a href='https://wandb.ai/fedornigretuk/self-expanding-nets' target=\"_blank\">https://wandb.ai/fedornigretuk/self-expanding-nets</a>"
      ]
     },
     "metadata": {},
     "output_type": "display_data"
    },
    {
     "data": {
      "text/plain": [
       "<IPython.core.display.HTML object>"
      ],
      "text/html": [
       " View run at <a href='https://wandb.ai/fedornigretuk/self-expanding-nets/runs/9f74jl6u' target=\"_blank\">https://wandb.ai/fedornigretuk/self-expanding-nets/runs/9f74jl6u</a>"
      ]
     },
     "metadata": {},
     "output_type": "display_data"
    },
    {
     "name": "stderr",
     "output_type": "stream",
     "text": [
      "100%|██████████| 51/51 [00:00<00:00, 67.78it/s]\n"
     ]
    },
    {
     "name": "stdout",
     "output_type": "stream",
     "text": [
      "Epoch 1/20 | Train Loss: 0.5781 | Val Loss: 6.3733 | Val Accuracy: 0.7715\n"
     ]
    },
    {
     "name": "stderr",
     "output_type": "stream",
     "text": [
      "100%|██████████| 51/51 [00:00<00:00, 64.02it/s]\n"
     ]
    },
    {
     "name": "stdout",
     "output_type": "stream",
     "text": [
      "Epoch 2/20 | Train Loss: 0.4470 | Val Loss: 5.5792 | Val Accuracy: 0.8135\n"
     ]
    },
    {
     "name": "stderr",
     "output_type": "stream",
     "text": [
      "100%|██████████| 51/51 [00:00<00:00, 69.80it/s]\n"
     ]
    },
    {
     "name": "stdout",
     "output_type": "stream",
     "text": [
      "Epoch 3/20 | Train Loss: 0.4060 | Val Loss: 5.2533 | Val Accuracy: 0.8219\n"
     ]
    },
    {
     "name": "stderr",
     "output_type": "stream",
     "text": [
      "100%|██████████| 51/51 [00:00<00:00, 53.31it/s]\n"
     ]
    },
    {
     "name": "stdout",
     "output_type": "stream",
     "text": [
      "Epoch 4/20 | Train Loss: 0.3869 | Val Loss: 5.0711 | Val Accuracy: 0.8240\n"
     ]
    },
    {
     "name": "stderr",
     "output_type": "stream",
     "text": [
      "100%|██████████| 51/51 [00:00<00:00, 77.91it/s]\n"
     ]
    },
    {
     "name": "stdout",
     "output_type": "stream",
     "text": [
      "Epoch 5/20 | Train Loss: 0.3752 | Val Loss: 4.9416 | Val Accuracy: 0.8271\n"
     ]
    },
    {
     "name": "stderr",
     "output_type": "stream",
     "text": [
      "100%|██████████| 51/51 [00:00<00:00, 62.74it/s]\n"
     ]
    },
    {
     "name": "stdout",
     "output_type": "stream",
     "text": [
      "Epoch 6/20 | Train Loss: 0.3656 | Val Loss: 4.8305 | Val Accuracy: 0.8270\n"
     ]
    },
    {
     "name": "stderr",
     "output_type": "stream",
     "text": [
      "100%|██████████| 51/51 [00:00<00:00, 71.72it/s]\n"
     ]
    },
    {
     "name": "stdout",
     "output_type": "stream",
     "text": [
      "Epoch 7/20 | Train Loss: 0.3575 | Val Loss: 4.7313 | Val Accuracy: 0.8291\n"
     ]
    },
    {
     "name": "stderr",
     "output_type": "stream",
     "text": [
      "100%|██████████| 51/51 [00:00<00:00, 60.08it/s]\n"
     ]
    },
    {
     "name": "stdout",
     "output_type": "stream",
     "text": [
      "Epoch 8/20 | Train Loss: 0.3500 | Val Loss: 4.6398 | Val Accuracy: 0.8316\n"
     ]
    },
    {
     "name": "stderr",
     "output_type": "stream",
     "text": [
      "100%|██████████| 51/51 [00:00<00:00, 58.26it/s]\n"
     ]
    },
    {
     "name": "stdout",
     "output_type": "stream",
     "text": [
      "Epoch 9/20 | Train Loss: 0.3433 | Val Loss: 4.5662 | Val Accuracy: 0.8340\n",
      "Edge metrics: tensor([0.3187, 0.1539, 0.3441, 0.2153, 0.1845, 0.3629, 0.2839, 0.2635, 0.1017,\n",
      "        0.3819, 0.2826, 0.2614, 0.2558, 0.1840, 0.3633, 0.3217, 0.1980, 0.1509,\n",
      "        0.2535, 0.2715, 0.1866, 0.1766, 0.1988, 0.2192, 0.3042, 0.1474, 0.2568,\n",
      "        0.3009, 0.2462, 0.2136, 0.2681, 0.2034, 0.2759, 0.1656, 0.3210, 0.2615,\n",
      "        0.2543, 0.2012, 0.1883, 0.3281, 0.2192, 0.1239, 0.2210, 0.2852, 0.2122,\n",
      "        0.4264, 0.1672, 0.2834, 0.2086, 0.2950, 0.3325, 0.3714, 0.2376, 0.1455,\n",
      "        0.3214, 0.1413, 0.3090, 0.1650, 0.3513, 0.2085, 0.2454, 0.2960, 0.2700,\n",
      "        0.1765, 0.1070, 0.2318, 0.2582, 0.3162, 0.1631, 0.2941, 0.1376, 0.3377,\n",
      "        0.1809, 0.3147, 0.2570, 0.2299, 0.1690, 0.4166, 0.2888, 0.3655, 0.4828,\n",
      "        0.1830, 0.2965, 0.2472, 0.1555, 0.3780, 0.2999, 0.3373, 0.3160, 0.4335,\n",
      "        0.2085, 0.4899, 0.2796, 0.3125, 0.0933, 0.4038, 0.2841, 0.4033, 0.2016,\n",
      "        0.2072, 0.0939, 0.5161, 0.2334, 0.3071, 0.4415, 0.4526, 0.1532, 0.2863,\n",
      "        0.2344, 0.2606, 0.2866, 0.1635, 0.1018, 0.2470, 0.2660, 0.2382, 0.3692,\n",
      "        0.1726, 0.1280, 0.1758, 0.4604, 0.2187, 0.1762, 0.2620, 0.1953, 0.4697,\n",
      "        0.3072, 0.1983, 0.3187, 0.1539, 0.3441, 0.2153, 0.1845, 0.3629, 0.2839,\n",
      "        0.2635, 0.1017, 0.3819, 0.2826, 0.2614, 0.2558, 0.1840, 0.3633, 0.3217,\n",
      "        0.1980, 0.1509, 0.2535, 0.2715, 0.1866, 0.1766, 0.1988, 0.2192, 0.3042,\n",
      "        0.1474, 0.2568, 0.3009, 0.2462, 0.2136, 0.2681, 0.2034, 0.2759, 0.1656,\n",
      "        0.3210, 0.2615, 0.2543, 0.2012, 0.1883, 0.3281, 0.2192, 0.1239, 0.2210,\n",
      "        0.2852, 0.2122, 0.4264, 0.1672, 0.2834, 0.2086, 0.2950, 0.3325, 0.3714,\n",
      "        0.2376, 0.1455, 0.3214, 0.1413, 0.3090, 0.1650, 0.3513, 0.2085, 0.2454,\n",
      "        0.2960, 0.2700, 0.1765, 0.1070, 0.2318, 0.2582, 0.3162, 0.1631, 0.2941,\n",
      "        0.1376, 0.3377, 0.1809, 0.3147, 0.2570, 0.2299, 0.1690, 0.4166, 0.2888,\n",
      "        0.3655, 0.4828, 0.1830, 0.2965, 0.2472, 0.1555, 0.3780, 0.2999, 0.3373,\n",
      "        0.3160, 0.4335, 0.2085, 0.4899, 0.2796, 0.3125, 0.0933, 0.4038, 0.2841,\n",
      "        0.4033, 0.2016, 0.2072, 0.0939, 0.5161, 0.2334, 0.3071, 0.4415, 0.4526,\n",
      "        0.1532, 0.2863, 0.2344, 0.2606, 0.2866, 0.1635, 0.1018, 0.2470, 0.2660,\n",
      "        0.2382, 0.3692, 0.1726, 0.1280, 0.1758, 0.4604, 0.2187, 0.1762, 0.2620,\n",
      "        0.1953, 0.4697, 0.3072, 0.1983]) tensor(0.5161) tensor(66.7622)\n",
      "Chosen edges: tensor([[  0,   0,   0,   0,   0,   0,   0,   0,   0,   0,   0,   0,   0,   0,\n",
      "           0,   0,   0,   0,   0,   0,   0,   0,   0,   0,   0,   0,   0,   0,\n",
      "           0,   0,   0,   0,   0,   0,   0,   0,   0,   0,   0,   0,   0,   0,\n",
      "           0,   0,   0,   0,   0,   0,   0,   0,   0,   0,   0,   0,   0,   0,\n",
      "           0,   0,   0,   0,   0,   0,   0,   0,   0,   0,   0,   0,   0,   0,\n",
      "           0,   0,   0,   0,   0,   0,   0,   0,   0,   0,   0,   0,   0,   0,\n",
      "           0,   0,   0,   0,   0,   0,   0,   0,   1,   1,   1,   1,   1,   1,\n",
      "           1,   1,   1,   1,   1,   1,   1,   1,   1,   1,   1,   1,   1,   1,\n",
      "           1,   1,   1,   1,   1,   1,   1,   1,   1,   1,   1,   1,   1,   1,\n",
      "           1,   1,   1,   1,   1,   1,   1,   1,   1,   1,   1,   1,   1,   1,\n",
      "           1,   1,   1,   1,   1,   1,   1,   1,   1,   1,   1,   1,   1,   1,\n",
      "           1,   1,   1,   1,   1,   1,   1,   1,   1,   1,   1,   1,   1,   1,\n",
      "           1,   1,   1,   1,   1,   1,   1,   1,   1,   1,   1,   1,   1,   1,\n",
      "           1,   1],\n",
      "        [  0,   2,   3,   5,   6,   7,   9,  10,  11,  12,  14,  15,  18,  19,\n",
      "          23,  24,  26,  27,  28,  29,  30,  31,  32,  34,  35,  36,  37,  39,\n",
      "          40,  42,  43,  44,  45,  47,  48,  49,  50,  51,  52,  54,  56,  58,\n",
      "          59,  60,  61,  62,  65,  66,  67,  69,  71,  73,  74,  75,  77,  78,\n",
      "          79,  80,  82,  83,  85,  86,  87,  88,  89,  90,  91,  92,  93,  95,\n",
      "          96,  97,  98,  99, 101, 102, 103, 104, 105, 107, 108, 109, 110, 113,\n",
      "         114, 115, 116, 120, 121, 123, 125, 126,   0,   2,   3,   5,   6,   7,\n",
      "           9,  10,  11,  12,  14,  15,  18,  19,  23,  24,  26,  27,  28,  29,\n",
      "          30,  31,  32,  34,  35,  36,  37,  39,  40,  42,  43,  44,  45,  47,\n",
      "          48,  49,  50,  51,  52,  54,  56,  58,  59,  60,  61,  62,  65,  66,\n",
      "          67,  69,  71,  73,  74,  75,  77,  78,  79,  80,  82,  83,  85,  86,\n",
      "          87,  88,  89,  90,  91,  92,  93,  95,  96,  97,  98,  99, 101, 102,\n",
      "         103, 104, 105, 107, 108, 109, 110, 113, 114, 115, 116, 120, 121, 123,\n",
      "         125, 126]]) 184\n"
     ]
    },
    {
     "name": "stderr",
     "output_type": "stream",
     "text": [
      "100%|██████████| 51/51 [00:00<00:00, 62.21it/s]\n"
     ]
    },
    {
     "name": "stdout",
     "output_type": "stream",
     "text": [
      "Epoch 10/20 | Train Loss: 0.5385 | Val Loss: 5.2228 | Val Accuracy: 0.8147\n"
     ]
    },
    {
     "name": "stderr",
     "output_type": "stream",
     "text": [
      "100%|██████████| 51/51 [00:01<00:00, 50.39it/s]\n"
     ]
    },
    {
     "name": "stdout",
     "output_type": "stream",
     "text": [
      "Epoch 11/20 | Train Loss: 0.3724 | Val Loss: 4.8592 | Val Accuracy: 0.8313\n"
     ]
    },
    {
     "name": "stderr",
     "output_type": "stream",
     "text": [
      "100%|██████████| 51/51 [00:00<00:00, 61.87it/s]\n"
     ]
    },
    {
     "name": "stdout",
     "output_type": "stream",
     "text": [
      "Epoch 12/20 | Train Loss: 0.3534 | Val Loss: 4.6822 | Val Accuracy: 0.8329\n"
     ]
    },
    {
     "name": "stderr",
     "output_type": "stream",
     "text": [
      "100%|██████████| 51/51 [00:00<00:00, 65.56it/s]\n"
     ]
    },
    {
     "name": "stdout",
     "output_type": "stream",
     "text": [
      "Epoch 13/20 | Train Loss: 0.3430 | Val Loss: 4.5793 | Val Accuracy: 0.8353\n"
     ]
    },
    {
     "name": "stderr",
     "output_type": "stream",
     "text": [
      "100%|██████████| 51/51 [00:00<00:00, 60.36it/s]\n"
     ]
    },
    {
     "name": "stdout",
     "output_type": "stream",
     "text": [
      "Epoch 14/20 | Train Loss: 0.3368 | Val Loss: 4.5103 | Val Accuracy: 0.8371\n"
     ]
    },
    {
     "name": "stderr",
     "output_type": "stream",
     "text": [
      "100%|██████████| 51/51 [00:00<00:00, 64.94it/s]\n"
     ]
    },
    {
     "name": "stdout",
     "output_type": "stream",
     "text": [
      "Epoch 15/20 | Train Loss: 0.3324 | Val Loss: 4.4639 | Val Accuracy: 0.8406\n"
     ]
    },
    {
     "name": "stderr",
     "output_type": "stream",
     "text": [
      "100%|██████████| 51/51 [00:00<00:00, 65.49it/s]\n"
     ]
    },
    {
     "name": "stdout",
     "output_type": "stream",
     "text": [
      "Epoch 16/20 | Train Loss: 0.3295 | Val Loss: 4.4404 | Val Accuracy: 0.8422\n"
     ]
    },
    {
     "name": "stderr",
     "output_type": "stream",
     "text": [
      "100%|██████████| 51/51 [00:00<00:00, 57.04it/s]\n"
     ]
    },
    {
     "name": "stdout",
     "output_type": "stream",
     "text": [
      "Epoch 17/20 | Train Loss: 0.3277 | Val Loss: 4.4147 | Val Accuracy: 0.8429\n",
      "Edge metrics: tensor([0.2097, 0.2677, 0.1260, 0.2815, 0.2580, 0.2383, 0.2780, 0.1401, 0.3646,\n",
      "        0.2500, 0.1545, 0.2511, 0.1484, 0.2632, 0.1566, 0.1495, 0.3232, 0.3635,\n",
      "        0.2271, 0.2268, 0.2042, 0.2611, 0.3188, 0.2834, 0.2167, 0.1795, 0.1503,\n",
      "        0.2633, 0.1797, 0.1391, 0.2509, 0.2279, 0.1711, 0.2292, 0.2817, 0.2931,\n",
      "        0.2097, 0.2677, 0.1260, 0.2815, 0.2580, 0.2383, 0.2780, 0.1401, 0.3646,\n",
      "        0.2500, 0.1545, 0.2511, 0.1484, 0.2632, 0.1566, 0.1495, 0.3232, 0.3635,\n",
      "        0.2271, 0.2268, 0.2042, 0.2611, 0.3188, 0.2834, 0.2167, 0.1795, 0.1503,\n",
      "        0.2633, 0.1797, 0.1391, 0.2509, 0.2279, 0.1711, 0.2292, 0.2817, 0.2931,\n",
      "        0.0735, 0.1283, 0.2492, 0.2476, 0.0224, 0.1746, 0.0229, 0.2935, 0.1187,\n",
      "        0.0278, 0.1616, 0.0922, 0.1437, 0.0565, 0.0693, 0.1205, 0.2698, 0.2438,\n",
      "        0.2462, 0.0472, 0.3313, 0.2227, 0.1476, 0.1882, 0.0652, 0.1154, 0.2842,\n",
      "        0.3433, 0.2320, 0.3183, 0.1226, 0.1358, 0.4791, 0.0292, 0.0566, 0.1990,\n",
      "        0.0544, 0.0316, 0.0934, 0.0301, 0.3693, 0.4153, 0.0000, 0.0516, 0.1060,\n",
      "        0.2601, 0.0724, 0.0255, 0.3150, 0.1189, 0.1417, 0.4097, 0.0892, 0.3269,\n",
      "        0.2775, 0.0096, 0.2757, 0.3446, 0.0815, 0.0067, 0.0128, 0.0662, 0.5829,\n",
      "        0.0060, 0.2937, 0.2160, 0.0839, 0.1361, 0.2564, 0.2031, 0.2989, 0.0632,\n",
      "        0.2093, 0.0402, 0.0853, 0.3173, 0.2562, 0.5775, 0.5377, 0.4138, 0.0349,\n",
      "        0.1244, 0.1389, 0.0758, 0.0291, 0.1596, 0.0163, 0.2743, 0.0214, 0.0990,\n",
      "        0.1209, 0.2858, 0.2046, 0.4366, 0.2563, 0.4298, 0.3117, 0.0452, 0.3162,\n",
      "        0.3328, 0.3093, 0.2227, 0.3608, 0.3470, 0.0086, 0.0198, 0.0042, 0.1509,\n",
      "        0.2139, 0.2393, 0.1932, 0.1224, 0.0587, 0.1735, 0.2197, 0.0945, 0.0159,\n",
      "        0.1945, 0.2735, 0.0935, 0.0255, 0.2435, 0.2409, 0.2008, 0.0827, 0.0563,\n",
      "        0.0930, 0.3319, 0.1225, 0.2294, 0.1683, 0.2669, 0.2644, 0.0450, 0.1719,\n",
      "        0.0692, 0.0491, 0.0282, 0.1003, 0.1595, 0.2288, 0.1453, 0.0610, 0.1370,\n",
      "        0.1570, 0.1792, 0.2194, 0.0346, 0.1677, 0.4347, 0.1241, 0.1021, 0.3396,\n",
      "        0.2064, 0.4199, 0.4050, 0.3162, 0.0652, 0.3394, 0.1850, 0.2161, 0.2368,\n",
      "        0.1523, 0.2007, 0.0760, 0.1619, 0.3984, 0.1120, 0.2795, 0.0000, 0.0073,\n",
      "        0.0751, 0.1798, 0.0830, 0.2608, 0.1709, 0.1053, 0.0440, 0.1655, 0.0690,\n",
      "        0.1148, 0.1085, 0.3216, 0.3017]) tensor(0.5829) tensor(49.3859)\n",
      "Chosen edges: tensor([[  0,   0,   0,   0,   0,   0,   0,   0,   0,   0,   0,   0,   0,   0,\n",
      "           0,   0,   0,   0,   0,   0,   0,   0,   0,   0,   0,   1,   1,   1,\n",
      "           1,   1,   1,   1,   1,   1,   1,   1,   1,   1,   1,   1,   1,   1,\n",
      "           1,   1,   1,   1,   1,   1,   1,   1,   0,   0,   0,   0,   0,   0,\n",
      "           0,   0,   0,   0,   0,   0,   0,   0,   0,   0,   0,   0,   0,   0,\n",
      "           0,   0,   0,   0,   0,   0,   0,   0,   0,   0,   0,   0,   0,   0,\n",
      "           0,   0,   1,   1,   1,   1,   1,   1,   1,   1,   1,   1,   1,   1,\n",
      "           1,   1,   1,   1,   1,   1,   1,   1,   1,   1,   1,   1,   1,   1,\n",
      "           1,   1,   1,   1,   1,   1,   1,   1,   1,   1,   1,   1,   1],\n",
      "        [  1,   4,  13,  16,  17,  20,  22,  25,  38,  46,  57,  63,  64,  68,\n",
      "          70,  72,  76,  81,  84, 106, 117, 118, 122, 124, 127,   1,   4,  13,\n",
      "          16,  17,  20,  22,  25,  38,  46,  57,  63,  64,  68,  70,  72,  76,\n",
      "          81,  84, 106, 117, 118, 122, 124, 127, 130, 131, 135, 144, 145, 146,\n",
      "         148, 149, 154, 155, 156, 157, 160, 168, 169, 173, 176, 179, 181, 182,\n",
      "         184, 185, 190, 192, 193, 196, 197, 198, 200, 203, 204, 205, 206, 207,\n",
      "         215, 219, 220, 221, 222, 223, 224, 226, 227, 228, 229, 230, 231, 236,\n",
      "         237, 242, 246, 249, 250, 251, 255, 257, 259, 260, 268, 274, 277, 280,\n",
      "         281, 282, 283, 284, 286, 288, 289, 291, 294, 296, 302, 310, 311]]) 125\n"
     ]
    },
    {
     "name": "stderr",
     "output_type": "stream",
     "text": [
      "100%|██████████| 51/51 [00:01<00:00, 50.35it/s]\n"
     ]
    },
    {
     "name": "stdout",
     "output_type": "stream",
     "text": [
      "Epoch 18/20 | Train Loss: 0.5328 | Val Loss: 4.8730 | Val Accuracy: 0.8305\n"
     ]
    },
    {
     "name": "stderr",
     "output_type": "stream",
     "text": [
      "100%|██████████| 51/51 [00:01<00:00, 30.65it/s]\n"
     ]
    },
    {
     "name": "stdout",
     "output_type": "stream",
     "text": [
      "Epoch 19/20 | Train Loss: 0.3566 | Val Loss: 4.7152 | Val Accuracy: 0.8303\n"
     ]
    },
    {
     "name": "stderr",
     "output_type": "stream",
     "text": [
      "100%|██████████| 51/51 [00:01<00:00, 39.53it/s]\n"
     ]
    },
    {
     "name": "stdout",
     "output_type": "stream",
     "text": [
      "Epoch 20/20 | Train Loss: 0.3473 | Val Loss: 4.6264 | Val Accuracy: 0.8322\n"
     ]
    }
   ],
   "execution_count": 12
  },
  {
   "metadata": {
    "ExecuteTime": {
     "end_time": "2024-12-17T13:16:01.446208Z",
     "start_time": "2024-12-17T13:16:01.441904Z"
    }
   },
   "cell_type": "code",
   "source": "",
   "id": "533bf1b57447aa62",
   "outputs": [],
   "execution_count": null
  }
 ],
 "metadata": {
  "kernelspec": {
   "display_name": "Python 3",
   "language": "python",
   "name": "python3"
  },
  "language_info": {
   "codemirror_mode": {
    "name": "ipython",
    "version": 2
   },
   "file_extension": ".py",
   "mimetype": "text/x-python",
   "name": "python",
   "nbconvert_exporter": "python",
   "pygments_lexer": "ipython2",
   "version": "2.7.6"
  }
 },
 "nbformat": 4,
 "nbformat_minor": 5
}
