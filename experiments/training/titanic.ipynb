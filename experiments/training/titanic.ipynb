{
 "cells": [
  {
   "cell_type": "code",
   "id": "initial_id",
   "metadata": {
    "collapsed": true,
    "ExecuteTime": {
     "end_time": "2024-12-17T13:26:58.653269Z",
     "start_time": "2024-12-17T13:26:54.965964Z"
    }
   },
   "source": [
    "import pandas as pd\n",
    "import torch\n",
    "import torch.nn as nn\n",
    "import torch.optim as optim\n",
    "from sklearn.metrics import accuracy_score\n",
    "from sklearn.model_selection import train_test_split\n",
    "from sklearn.preprocessing import StandardScaler\n",
    "from torch.utils.data import DataLoader, Dataset\n",
    "from tqdm import tqdm"
   ],
   "outputs": [],
   "execution_count": 1
  },
  {
   "metadata": {
    "ExecuteTime": {
     "end_time": "2024-12-17T13:26:58.668723Z",
     "start_time": "2024-12-17T13:26:58.657644Z"
    }
   },
   "cell_type": "code",
   "source": [
    "from senmodel.model.utils import convert_dense_to_sparse_network\n",
    "from senmodel.metrics.nonlinearity_metrics import GradientMeanEdgeMetric, PerturbationSensitivityEdgeMetric\n",
    "from senmodel.metrics.edge_finder import EdgeFinder\n"
   ],
   "id": "851a61bbbac63426",
   "outputs": [],
   "execution_count": 2
  },
  {
   "metadata": {
    "ExecuteTime": {
     "end_time": "2024-12-17T13:26:58.828977Z",
     "start_time": "2024-12-17T13:26:58.824704Z"
    }
   },
   "cell_type": "code",
   "source": "device = torch.device(\"cuda\" if torch.cuda.is_available() else \"cpu\")",
   "id": "ed98f9250fb9b52",
   "outputs": [],
   "execution_count": 3
  },
  {
   "metadata": {
    "ExecuteTime": {
     "end_time": "2024-12-17T13:27:30.888949Z",
     "start_time": "2024-12-17T13:26:58.837813Z"
    }
   },
   "cell_type": "code",
   "source": [
    "from sklearn.preprocessing import LabelEncoder\n",
    "\n",
    "url = \"https://archive.ics.uci.edu/ml/machine-learning-databases/adult/adult.data\"\n",
    "columns = [\n",
    "    'age', 'workclass', 'fnlwgt', 'education', 'education-num', 'marital-status',\n",
    "    'occupation', 'relationship', 'race', 'sex', 'capital-gain', 'capital-loss',\n",
    "    'hours-per-week', 'native-country', 'income'\n",
    "]\n",
    "data = pd.read_csv(url, names=columns, na_values=\" ?\", skipinitialspace=True)\n",
    "data = data.dropna()\n",
    "\n",
    "X = data.drop('income', axis=1)\n",
    "y = data['income']\n",
    "\n",
    "for col in X.select_dtypes(include=['object']).columns:\n",
    "    X[col] = LabelEncoder().fit_transform(X[col])\n",
    "\n",
    "y = LabelEncoder().fit_transform(y)\n",
    "\n",
    "scaler = StandardScaler()\n",
    "X = scaler.fit_transform(X)\n",
    "\n",
    "X_train, X_val, y_train, y_val = train_test_split(X, y, test_size=0.2, random_state=0)\n"
   ],
   "id": "8a1c4b0b6e33d5a4",
   "outputs": [],
   "execution_count": 4
  },
  {
   "metadata": {
    "ExecuteTime": {
     "end_time": "2024-12-17T13:27:30.911762Z",
     "start_time": "2024-12-17T13:27:30.903733Z"
    }
   },
   "cell_type": "code",
   "source": [
    "class TabularDataset(Dataset):\n",
    "    def __init__(self, features, targets):\n",
    "        self.features = torch.tensor(features, dtype=torch.float32)\n",
    "        self.targets = torch.tensor(targets, dtype=torch.long)\n",
    "\n",
    "    def __len__(self):\n",
    "        return len(self.targets)\n",
    "\n",
    "    def __getitem__(self, idx):\n",
    "        return self.features[idx], self.targets[idx]"
   ],
   "id": "d7d9e408b16a7a6a",
   "outputs": [],
   "execution_count": 5
  },
  {
   "metadata": {
    "ExecuteTime": {
     "end_time": "2024-12-17T13:27:30.933370Z",
     "start_time": "2024-12-17T13:27:30.926377Z"
    }
   },
   "cell_type": "code",
   "source": [
    "train_dataset = TabularDataset(X_train, y_train)\n",
    "val_dataset = TabularDataset(X_val, y_val)\n",
    "\n",
    "train_loader = DataLoader(train_dataset, batch_size=512, shuffle=True)\n",
    "val_loader = DataLoader(val_dataset, batch_size=512, shuffle=False)"
   ],
   "id": "183cc85a9b097f1",
   "outputs": [],
   "execution_count": 6
  },
  {
   "metadata": {
    "ExecuteTime": {
     "end_time": "2024-12-17T13:27:30.952965Z",
     "start_time": "2024-12-17T13:27:30.948410Z"
    }
   },
   "cell_type": "code",
   "source": [
    "class SimpleFCN(nn.Module):\n",
    "    def __init__(self, input_size=14, hidden_size=128, output_size=2):\n",
    "        super(SimpleFCN, self).__init__()\n",
    "        self.fc1 = nn.Linear(input_size, hidden_size)\n",
    "        self.relu = nn.ReLU()\n",
    "        self.fc2 = nn.Linear(hidden_size, output_size)\n",
    "\n",
    "    def forward(self, x):\n",
    "        x = self.fc1(x)\n",
    "        x = self.relu(x)\n",
    "        x = self.fc2(x)\n",
    "        return x"
   ],
   "id": "cf7e5ab74bd84c4c",
   "outputs": [],
   "execution_count": 7
  },
  {
   "metadata": {
    "ExecuteTime": {
     "end_time": "2024-12-17T13:27:30.974364Z",
     "start_time": "2024-12-17T13:27:30.969391Z"
    }
   },
   "cell_type": "code",
   "source": [
    "def edge_replacement_func_new_layer(model, optim, val_loader, metric):\n",
    "    layer = model.fc2\n",
    "    ef = EdgeFinder(metric, val_loader, device)\n",
    "    vals = ef.calculate_edge_metric_for_dataloader(model)\n",
    "    print(\"Edge metrics:\", vals, max(vals), sum(vals))\n",
    "    chosen_edges = ef.choose_edges_threshold(model, 0.2)\n",
    "    print(\"Chosen edges:\", chosen_edges, len(chosen_edges[0]))\n",
    "    layer.replace_many(*chosen_edges)\n",
    "\n",
    "    if layer.embed_linears:\n",
    "        optim.add_param_group({'params': layer.embed_linears[-1].weight_values})\n",
    "    else:\n",
    "        print(\"Empty metric\")\n",
    "        dummy_param = torch.zeros_like(layer.weight_values)\n",
    "        optim.add_param_group({'params': dummy_param})\n",
    "\n",
    "    return {'max': max(vals), 'sum': sum(vals), 'len': len(vals), 'len_choose': len(chosen_edges[0])}\n"
   ],
   "id": "6fe92b9bfdd4d7d1",
   "outputs": [],
   "execution_count": 8
  },
  {
   "metadata": {
    "ExecuteTime": {
     "end_time": "2024-12-17T13:27:31.000208Z",
     "start_time": "2024-12-17T13:27:30.991774Z"
    }
   },
   "cell_type": "code",
   "source": [
    "def train_sparse_recursive(model, train_loader, val_loader, num_epochs, metric, edge_replacement_func=None,\n",
    "                           window_size=3, threshold=0.01):\n",
    "    optimizer = optim.Adam(model.parameters(), lr=5e-4)\n",
    "    criterion = nn.CrossEntropyLoss()\n",
    "    val_losses = []\n",
    "\n",
    "    for epoch in range(num_epochs):\n",
    "        model.train()\n",
    "        train_loss = 0\n",
    "        for inputs, targets in tqdm(train_loader):\n",
    "            inputs, targets = inputs.to(device), targets.to(device)\n",
    "            outputs = model(inputs)\n",
    "            loss = criterion(outputs, targets)\n",
    "\n",
    "            optimizer.zero_grad()\n",
    "            loss.backward()\n",
    "            optimizer.step()\n",
    "            train_loss += loss.item()\n",
    "\n",
    "        train_loss /= len(train_loader)\n",
    "\n",
    "        model.eval()\n",
    "        val_loss = 0\n",
    "        all_preds = []\n",
    "        all_targets = []\n",
    "        with torch.no_grad():\n",
    "            for inputs, targets in val_loader:\n",
    "                inputs, targets = inputs.to(device), targets.to(device)\n",
    "                outputs = model(inputs)\n",
    "                loss = criterion(outputs, targets)\n",
    "                val_loss += loss.item()\n",
    "\n",
    "                preds = torch.argmax(outputs, dim=1)\n",
    "                all_preds.extend(preds.cpu().numpy())\n",
    "                all_targets.extend(targets.cpu().numpy())\n",
    "\n",
    "        val_accuracy = accuracy_score(all_targets, all_preds)\n",
    "        print(f\"Epoch {epoch + 1}/{num_epochs} | Train Loss: {train_loss:.4f} | \"\n",
    "              f\"Val Loss: {val_loss:.4f} | Val Accuracy: {val_accuracy:.4f}\")\n",
    "\n",
    "        new_l = {}\n",
    "        val_losses.append(val_loss)\n",
    "        if edge_replacement_func and len(val_losses) > window_size:\n",
    "            recent_changes = [abs(val_losses[i] - val_losses[i - 1]) for i in range(-window_size, 0)]\n",
    "            avg_change = sum(recent_changes) / window_size\n",
    "            if avg_change < threshold:\n",
    "                new_l = edge_replacement_func(model, optimizer, val_loader, metric)\n",
    "        #\n",
    "\n",
    "        # new_l = {}\n",
    "        # if edge_replacement_func and epoch % 8 == 0 and epoch != 0:\n",
    "        #     new_l = edge_replacement_func(model, optimizer, val_loader, metric)\n",
    "\n",
    "        wandb.log({'val_loss': val_loss, 'val_accuracy': val_accuracy, 'train_loss': train_loss} | new_l)\n",
    "\n"
   ],
   "id": "e0e4d086a0b3b29f",
   "outputs": [],
   "execution_count": 9
  },
  {
   "metadata": {
    "ExecuteTime": {
     "end_time": "2024-12-17T13:27:31.017495Z",
     "start_time": "2024-12-17T13:27:31.013003Z"
    }
   },
   "cell_type": "code",
   "source": [
    "criterion = nn.CrossEntropyLoss()\n",
    "metrics = [\n",
    "    GradientMeanEdgeMetric(criterion),\n",
    "    PerturbationSensitivityEdgeMetric(criterion),\n",
    "]\n"
   ],
   "id": "b44615f5a401dd16",
   "outputs": [],
   "execution_count": 10
  },
  {
   "metadata": {
    "ExecuteTime": {
     "end_time": "2024-12-17T13:27:33.861548Z",
     "start_time": "2024-12-17T13:27:31.033937Z"
    }
   },
   "cell_type": "code",
   "source": [
    "import wandb\n",
    "\n",
    "wandb.login()"
   ],
   "id": "c813771bca507d71",
   "outputs": [
    {
     "name": "stderr",
     "output_type": "stream",
     "text": [
      "wandb: Using wandb-core as the SDK backend.  Please refer to https://wandb.me/wandb-core for more information.\n",
      "wandb: Currently logged in as: fedornigretuk. Use `wandb login --relogin` to force relogin\n"
     ]
    },
    {
     "data": {
      "text/plain": [
       "True"
      ]
     },
     "execution_count": 11,
     "metadata": {},
     "output_type": "execute_result"
    }
   ],
   "execution_count": 11
  },
  {
   "metadata": {
    "ExecuteTime": {
     "end_time": "2024-12-17T13:27:33.885479Z",
     "start_time": "2024-12-17T13:27:33.876609Z"
    }
   },
   "cell_type": "code",
   "source": "",
   "id": "a10df7d34ecdcb18",
   "outputs": [],
   "execution_count": null
  },
  {
   "metadata": {
    "ExecuteTime": {
     "end_time": "2024-12-17T13:29:35.651881Z",
     "start_time": "2024-12-17T13:27:34.008475Z"
    }
   },
   "cell_type": "code",
   "source": [
    "dense_model = SimpleFCN(input_size=X.shape[1], hidden_size=128, output_size=2)\n",
    "sparse_model = convert_dense_to_sparse_network(dense_model)\n",
    "wandb.init(\n",
    "    project=\"self-expanding-nets\",\n",
    "    name=f\"titanic, threshold=0.2, change if loss not changed\",\n",
    ")\n",
    "\n",
    "train_sparse_recursive(sparse_model, train_loader, val_loader, num_epochs=100,\n",
    "                       metric=metrics[0],\n",
    "                       edge_replacement_func=edge_replacement_func_new_layer)"
   ],
   "id": "45fe9040816bb570",
   "outputs": [
    {
     "data": {
      "text/plain": [
       "<IPython.core.display.HTML object>"
      ],
      "text/html": [
       "Tracking run with wandb version 0.19.0"
      ]
     },
     "metadata": {},
     "output_type": "display_data"
    },
    {
     "data": {
      "text/plain": [
       "<IPython.core.display.HTML object>"
      ],
      "text/html": [
       "Run data is saved locally in <code>D:\\Coding\\PY\\self-expanding-nets\\experiments\\training\\wandb\\run-20241217_162734-5cyucl5j</code>"
      ]
     },
     "metadata": {},
     "output_type": "display_data"
    },
    {
     "data": {
      "text/plain": [
       "<IPython.core.display.HTML object>"
      ],
      "text/html": [
       "Syncing run <strong><a href='https://wandb.ai/fedornigretuk/self-expanding-nets/runs/5cyucl5j' target=\"_blank\">titanic, threshold=0.2, change if loss not changed</a></strong> to <a href='https://wandb.ai/fedornigretuk/self-expanding-nets' target=\"_blank\">Weights & Biases</a> (<a href='https://wandb.me/developer-guide' target=\"_blank\">docs</a>)<br/>"
      ]
     },
     "metadata": {},
     "output_type": "display_data"
    },
    {
     "data": {
      "text/plain": [
       "<IPython.core.display.HTML object>"
      ],
      "text/html": [
       " View project at <a href='https://wandb.ai/fedornigretuk/self-expanding-nets' target=\"_blank\">https://wandb.ai/fedornigretuk/self-expanding-nets</a>"
      ]
     },
     "metadata": {},
     "output_type": "display_data"
    },
    {
     "data": {
      "text/plain": [
       "<IPython.core.display.HTML object>"
      ],
      "text/html": [
       " View run at <a href='https://wandb.ai/fedornigretuk/self-expanding-nets/runs/5cyucl5j' target=\"_blank\">https://wandb.ai/fedornigretuk/self-expanding-nets/runs/5cyucl5j</a>"
      ]
     },
     "metadata": {},
     "output_type": "display_data"
    },
    {
     "name": "stderr",
     "output_type": "stream",
     "text": [
      "100%|██████████| 51/51 [00:00<00:00, 99.57it/s] \n"
     ]
    },
    {
     "name": "stdout",
     "output_type": "stream",
     "text": [
      "Epoch 1/100 | Train Loss: 0.5925 | Val Loss: 6.5392 | Val Accuracy: 0.7652\n"
     ]
    },
    {
     "name": "stderr",
     "output_type": "stream",
     "text": [
      "100%|██████████| 51/51 [00:00<00:00, 100.25it/s]\n"
     ]
    },
    {
     "name": "stdout",
     "output_type": "stream",
     "text": [
      "Epoch 2/100 | Train Loss: 0.4577 | Val Loss: 5.7005 | Val Accuracy: 0.8105\n"
     ]
    },
    {
     "name": "stderr",
     "output_type": "stream",
     "text": [
      "100%|██████████| 51/51 [00:00<00:00, 106.37it/s]\n"
     ]
    },
    {
     "name": "stdout",
     "output_type": "stream",
     "text": [
      "Epoch 3/100 | Train Loss: 0.4126 | Val Loss: 5.3146 | Val Accuracy: 0.8193\n"
     ]
    },
    {
     "name": "stderr",
     "output_type": "stream",
     "text": [
      "100%|██████████| 51/51 [00:00<00:00, 80.75it/s]\n"
     ]
    },
    {
     "name": "stdout",
     "output_type": "stream",
     "text": [
      "Epoch 4/100 | Train Loss: 0.3904 | Val Loss: 5.1034 | Val Accuracy: 0.8220\n"
     ]
    },
    {
     "name": "stderr",
     "output_type": "stream",
     "text": [
      "100%|██████████| 51/51 [00:00<00:00, 96.52it/s]\n"
     ]
    },
    {
     "name": "stdout",
     "output_type": "stream",
     "text": [
      "Epoch 5/100 | Train Loss: 0.3768 | Val Loss: 4.9561 | Val Accuracy: 0.8254\n"
     ]
    },
    {
     "name": "stderr",
     "output_type": "stream",
     "text": [
      "100%|██████████| 51/51 [00:00<00:00, 87.17it/s]\n"
     ]
    },
    {
     "name": "stdout",
     "output_type": "stream",
     "text": [
      "Epoch 6/100 | Train Loss: 0.3661 | Val Loss: 4.8250 | Val Accuracy: 0.8273\n"
     ]
    },
    {
     "name": "stderr",
     "output_type": "stream",
     "text": [
      "100%|██████████| 51/51 [00:00<00:00, 97.60it/s] \n"
     ]
    },
    {
     "name": "stdout",
     "output_type": "stream",
     "text": [
      "Epoch 7/100 | Train Loss: 0.3570 | Val Loss: 4.7172 | Val Accuracy: 0.8317\n"
     ]
    },
    {
     "name": "stderr",
     "output_type": "stream",
     "text": [
      "100%|██████████| 51/51 [00:00<00:00, 89.47it/s]\n"
     ]
    },
    {
     "name": "stdout",
     "output_type": "stream",
     "text": [
      "Epoch 8/100 | Train Loss: 0.3489 | Val Loss: 4.6244 | Val Accuracy: 0.8337\n"
     ]
    },
    {
     "name": "stderr",
     "output_type": "stream",
     "text": [
      "100%|██████████| 51/51 [00:00<00:00, 70.60it/s] \n"
     ]
    },
    {
     "name": "stdout",
     "output_type": "stream",
     "text": [
      "Epoch 9/100 | Train Loss: 0.3421 | Val Loss: 4.5469 | Val Accuracy: 0.8359\n"
     ]
    },
    {
     "name": "stderr",
     "output_type": "stream",
     "text": [
      "100%|██████████| 51/51 [00:00<00:00, 99.31it/s] \n"
     ]
    },
    {
     "name": "stdout",
     "output_type": "stream",
     "text": [
      "Epoch 10/100 | Train Loss: 0.3366 | Val Loss: 4.4871 | Val Accuracy: 0.8386\n"
     ]
    },
    {
     "name": "stderr",
     "output_type": "stream",
     "text": [
      "100%|██████████| 51/51 [00:00<00:00, 111.53it/s]\n"
     ]
    },
    {
     "name": "stdout",
     "output_type": "stream",
     "text": [
      "Epoch 11/100 | Train Loss: 0.3326 | Val Loss: 4.4380 | Val Accuracy: 0.8403\n"
     ]
    },
    {
     "name": "stderr",
     "output_type": "stream",
     "text": [
      "100%|██████████| 51/51 [00:00<00:00, 110.22it/s]\n"
     ]
    },
    {
     "name": "stdout",
     "output_type": "stream",
     "text": [
      "Epoch 12/100 | Train Loss: 0.3296 | Val Loss: 4.4076 | Val Accuracy: 0.8399\n"
     ]
    },
    {
     "name": "stderr",
     "output_type": "stream",
     "text": [
      "100%|██████████| 51/51 [00:00<00:00, 101.43it/s]\n"
     ]
    },
    {
     "name": "stdout",
     "output_type": "stream",
     "text": [
      "Epoch 13/100 | Train Loss: 0.3272 | Val Loss: 4.3845 | Val Accuracy: 0.8414\n"
     ]
    },
    {
     "name": "stderr",
     "output_type": "stream",
     "text": [
      "100%|██████████| 51/51 [00:00<00:00, 110.60it/s]\n"
     ]
    },
    {
     "name": "stdout",
     "output_type": "stream",
     "text": [
      "Epoch 14/100 | Train Loss: 0.3257 | Val Loss: 4.3677 | Val Accuracy: 0.8414\n"
     ]
    },
    {
     "name": "stderr",
     "output_type": "stream",
     "text": [
      "100%|██████████| 51/51 [00:00<00:00, 97.63it/s] \n"
     ]
    },
    {
     "name": "stdout",
     "output_type": "stream",
     "text": [
      "Epoch 15/100 | Train Loss: 0.3244 | Val Loss: 4.3513 | Val Accuracy: 0.8449\n"
     ]
    },
    {
     "name": "stderr",
     "output_type": "stream",
     "text": [
      "100%|██████████| 51/51 [00:00<00:00, 89.27it/s]\n"
     ]
    },
    {
     "name": "stdout",
     "output_type": "stream",
     "text": [
      "Epoch 16/100 | Train Loss: 0.3234 | Val Loss: 4.3432 | Val Accuracy: 0.8448\n"
     ]
    },
    {
     "name": "stderr",
     "output_type": "stream",
     "text": [
      "100%|██████████| 51/51 [00:00<00:00, 85.21it/s]\n"
     ]
    },
    {
     "name": "stdout",
     "output_type": "stream",
     "text": [
      "Epoch 17/100 | Train Loss: 0.3225 | Val Loss: 4.3413 | Val Accuracy: 0.8440\n",
      "Edge metrics: tensor([0.1602, 0.2888, 0.1909, 0.3714, 0.1864, 0.2965, 0.1405, 0.3413, 0.2901,\n",
      "        0.1750, 0.3296, 0.2316, 0.2743, 0.2652, 0.3314, 0.3352, 0.3684, 0.1253,\n",
      "        0.0357, 0.2616, 0.3655, 0.2145, 0.3214, 0.4742, 0.1413, 0.3240, 0.2025,\n",
      "        0.3170, 0.2989, 0.5004, 0.1892, 0.2367, 0.4320, 0.1689, 0.2144, 0.2954,\n",
      "        0.2183, 0.3457, 0.1261, 0.3039, 0.2529, 0.2090, 0.2428, 0.3279, 0.3990,\n",
      "        0.4060, 0.3490, 0.3023, 0.2782, 0.2947, 0.3673, 0.3662, 0.3948, 0.2768,\n",
      "        0.1703, 0.4000, 0.2372, 0.2191, 0.3151, 0.2934, 0.3208, 0.2287, 0.2821,\n",
      "        0.3057, 0.2678, 0.2718, 0.5437, 0.1834, 0.1721, 0.2625, 0.2680, 0.1148,\n",
      "        0.3681, 0.2308, 0.2244, 0.2725, 0.2490, 0.2136, 0.3123, 0.2749, 0.1886,\n",
      "        0.1753, 0.1634, 0.2701, 0.1807, 0.3584, 0.2159, 0.2699, 0.1443, 0.3306,\n",
      "        0.2807, 0.2895, 0.2326, 0.2152, 0.1853, 0.3066, 0.2566, 0.4118, 0.1450,\n",
      "        0.3048, 0.1885, 0.2533, 0.1666, 0.2421, 0.2007, 0.4190, 0.2701, 0.2358,\n",
      "        0.2602, 0.2248, 0.4136, 0.3117, 0.3085, 0.2837, 0.2697, 0.2203, 0.2764,\n",
      "        0.5378, 0.3472, 0.3981, 0.2757, 0.2977, 0.3050, 0.2144, 0.1914, 0.2693,\n",
      "        0.2283, 0.2688, 0.1602, 0.2888, 0.1909, 0.3714, 0.1864, 0.2965, 0.1405,\n",
      "        0.3413, 0.2901, 0.1750, 0.3296, 0.2316, 0.2743, 0.2652, 0.3314, 0.3352,\n",
      "        0.3684, 0.1253, 0.0357, 0.2616, 0.3655, 0.2145, 0.3214, 0.4742, 0.1413,\n",
      "        0.3240, 0.2025, 0.3170, 0.2989, 0.5004, 0.1892, 0.2367, 0.4320, 0.1689,\n",
      "        0.2144, 0.2954, 0.2183, 0.3457, 0.1261, 0.3039, 0.2529, 0.2090, 0.2428,\n",
      "        0.3279, 0.3990, 0.4060, 0.3490, 0.3023, 0.2782, 0.2947, 0.3673, 0.3662,\n",
      "        0.3948, 0.2768, 0.1703, 0.4000, 0.2372, 0.2191, 0.3151, 0.2934, 0.3208,\n",
      "        0.2287, 0.2821, 0.3057, 0.2678, 0.2718, 0.5437, 0.1834, 0.1721, 0.2625,\n",
      "        0.2680, 0.1148, 0.3681, 0.2308, 0.2244, 0.2725, 0.2490, 0.2136, 0.3123,\n",
      "        0.2749, 0.1886, 0.1753, 0.1634, 0.2701, 0.1807, 0.3584, 0.2159, 0.2699,\n",
      "        0.1443, 0.3306, 0.2807, 0.2895, 0.2326, 0.2152, 0.1853, 0.3066, 0.2566,\n",
      "        0.4118, 0.1450, 0.3048, 0.1885, 0.2533, 0.1666, 0.2421, 0.2007, 0.4190,\n",
      "        0.2701, 0.2358, 0.2602, 0.2248, 0.4136, 0.3117, 0.3085, 0.2837, 0.2697,\n",
      "        0.2203, 0.2764, 0.5378, 0.3472, 0.3981, 0.2757, 0.2977, 0.3050, 0.2144,\n",
      "        0.1914, 0.2693, 0.2283, 0.2688]) tensor(0.5437) tensor(69.9246)\n",
      "Chosen edges: tensor([[  0,   0,   0,   0,   0,   0,   0,   0,   0,   0,   0,   0,   0,   0,\n",
      "           0,   0,   0,   0,   0,   0,   0,   0,   0,   0,   0,   0,   0,   0,\n",
      "           0,   0,   0,   0,   0,   0,   0,   0,   0,   0,   0,   0,   0,   0,\n",
      "           0,   0,   0,   0,   0,   0,   0,   0,   0,   0,   0,   0,   0,   0,\n",
      "           0,   0,   0,   0,   0,   0,   0,   0,   0,   0,   0,   0,   0,   0,\n",
      "           0,   0,   0,   0,   0,   0,   0,   0,   0,   0,   0,   0,   0,   0,\n",
      "           0,   0,   0,   0,   0,   0,   0,   0,   0,   0,   0,   0,   0,   0,\n",
      "           0,   0,   0,   0,   0,   1,   1,   1,   1,   1,   1,   1,   1,   1,\n",
      "           1,   1,   1,   1,   1,   1,   1,   1,   1,   1,   1,   1,   1,   1,\n",
      "           1,   1,   1,   1,   1,   1,   1,   1,   1,   1,   1,   1,   1,   1,\n",
      "           1,   1,   1,   1,   1,   1,   1,   1,   1,   1,   1,   1,   1,   1,\n",
      "           1,   1,   1,   1,   1,   1,   1,   1,   1,   1,   1,   1,   1,   1,\n",
      "           1,   1,   1,   1,   1,   1,   1,   1,   1,   1,   1,   1,   1,   1,\n",
      "           1,   1,   1,   1,   1,   1,   1,   1,   1,   1,   1,   1,   1,   1,\n",
      "           1,   1,   1,   1,   1,   1,   1,   1,   1,   1],\n",
      "        [  1,   3,   5,   7,   8,  10,  11,  12,  13,  14,  15,  16,  19,  20,\n",
      "          21,  22,  23,  25,  26,  27,  28,  29,  31,  32,  34,  35,  36,  37,\n",
      "          39,  40,  41,  42,  43,  44,  45,  46,  47,  48,  49,  50,  51,  52,\n",
      "          53,  55,  56,  57,  58,  59,  60,  61,  62,  63,  64,  65,  66,  69,\n",
      "          70,  72,  73,  74,  75,  76,  77,  78,  79,  83,  85,  86,  87,  89,\n",
      "          90,  91,  92,  93,  95,  96,  97,  99, 101, 103, 104, 105, 106, 107,\n",
      "         108, 109, 110, 111, 112, 113, 114, 115, 116, 117, 118, 119, 120, 121,\n",
      "         122, 123, 125, 126, 127,   1,   3,   5,   7,   8,  10,  11,  12,  13,\n",
      "          14,  15,  16,  19,  20,  21,  22,  23,  25,  26,  27,  28,  29,  31,\n",
      "          32,  34,  35,  36,  37,  39,  40,  41,  42,  43,  44,  45,  46,  47,\n",
      "          48,  49,  50,  51,  52,  53,  55,  56,  57,  58,  59,  60,  61,  62,\n",
      "          63,  64,  65,  66,  69,  70,  72,  73,  74,  75,  76,  77,  78,  79,\n",
      "          83,  85,  86,  87,  89,  90,  91,  92,  93,  95,  96,  97,  99, 101,\n",
      "         103, 104, 105, 106, 107, 108, 109, 110, 111, 112, 113, 114, 115, 116,\n",
      "         117, 118, 119, 120, 121, 122, 123, 125, 126, 127]]) 206\n"
     ]
    },
    {
     "name": "stderr",
     "output_type": "stream",
     "text": [
      "100%|██████████| 51/51 [00:00<00:00, 86.80it/s]\n"
     ]
    },
    {
     "name": "stdout",
     "output_type": "stream",
     "text": [
      "Epoch 18/100 | Train Loss: 0.4166 | Val Loss: 4.7403 | Val Accuracy: 0.8316\n"
     ]
    },
    {
     "name": "stderr",
     "output_type": "stream",
     "text": [
      "100%|██████████| 51/51 [00:00<00:00, 88.76it/s]\n"
     ]
    },
    {
     "name": "stdout",
     "output_type": "stream",
     "text": [
      "Epoch 19/100 | Train Loss: 0.3451 | Val Loss: 4.5491 | Val Accuracy: 0.8376\n"
     ]
    },
    {
     "name": "stderr",
     "output_type": "stream",
     "text": [
      "100%|██████████| 51/51 [00:00<00:00, 94.23it/s] \n"
     ]
    },
    {
     "name": "stdout",
     "output_type": "stream",
     "text": [
      "Epoch 20/100 | Train Loss: 0.3352 | Val Loss: 4.4655 | Val Accuracy: 0.8394\n"
     ]
    },
    {
     "name": "stderr",
     "output_type": "stream",
     "text": [
      "100%|██████████| 51/51 [00:00<00:00, 91.16it/s]\n"
     ]
    },
    {
     "name": "stdout",
     "output_type": "stream",
     "text": [
      "Epoch 21/100 | Train Loss: 0.3304 | Val Loss: 4.4320 | Val Accuracy: 0.8414\n"
     ]
    },
    {
     "name": "stderr",
     "output_type": "stream",
     "text": [
      "100%|██████████| 51/51 [00:00<00:00, 69.52it/s]\n"
     ]
    },
    {
     "name": "stdout",
     "output_type": "stream",
     "text": [
      "Epoch 22/100 | Train Loss: 0.3276 | Val Loss: 4.4003 | Val Accuracy: 0.8432\n"
     ]
    },
    {
     "name": "stderr",
     "output_type": "stream",
     "text": [
      "100%|██████████| 51/51 [00:00<00:00, 72.88it/s]\n"
     ]
    },
    {
     "name": "stdout",
     "output_type": "stream",
     "text": [
      "Epoch 23/100 | Train Loss: 0.3259 | Val Loss: 4.3883 | Val Accuracy: 0.8428\n"
     ]
    },
    {
     "name": "stderr",
     "output_type": "stream",
     "text": [
      "100%|██████████| 51/51 [00:00<00:00, 88.06it/s]\n"
     ]
    },
    {
     "name": "stdout",
     "output_type": "stream",
     "text": [
      "Epoch 24/100 | Train Loss: 0.3245 | Val Loss: 4.3816 | Val Accuracy: 0.8434\n"
     ]
    },
    {
     "name": "stderr",
     "output_type": "stream",
     "text": [
      "100%|██████████| 51/51 [00:00<00:00, 89.56it/s]\n"
     ]
    },
    {
     "name": "stdout",
     "output_type": "stream",
     "text": [
      "Epoch 25/100 | Train Loss: 0.3234 | Val Loss: 4.3619 | Val Accuracy: 0.8445\n"
     ]
    },
    {
     "name": "stderr",
     "output_type": "stream",
     "text": [
      "100%|██████████| 51/51 [00:00<00:00, 90.06it/s]\n"
     ]
    },
    {
     "name": "stdout",
     "output_type": "stream",
     "text": [
      "Epoch 26/100 | Train Loss: 0.3223 | Val Loss: 4.3612 | Val Accuracy: 0.8431\n",
      "Edge metrics: tensor([0.1922, 0.1893, 0.2612, 0.1656, 0.2721, 0.1660, 0.0901, 0.1618, 0.2563,\n",
      "        0.2428, 0.1726, 0.2359, 0.2727, 0.2134, 0.1814, 0.2575, 0.2522, 0.2198,\n",
      "        0.1875, 0.2101, 0.1835, 0.1860, 0.1823, 0.2567, 0.2514, 0.1922, 0.1893,\n",
      "        0.2612, 0.1656, 0.2721, 0.1660, 0.0901, 0.1618, 0.2563, 0.2428, 0.1726,\n",
      "        0.2359, 0.2727, 0.2134, 0.1814, 0.2575, 0.2522, 0.2198, 0.1875, 0.2101,\n",
      "        0.1835, 0.1860, 0.1823, 0.2567, 0.2514, 0.0508, 0.2584, 0.1925, 0.3032,\n",
      "        0.0458, 0.0309, 0.1736, 0.0274, 0.0233, 0.2912, 0.1212, 0.1655, 0.2352,\n",
      "        0.1398, 0.2008, 0.3615, 0.3226, 0.0659, 0.0935, 0.2675, 0.0621, 0.4324,\n",
      "        0.2355, 0.0474, 0.1944, 0.0069, 0.1702, 0.2075, 0.2055, 0.0956, 0.1596,\n",
      "        0.3016, 0.3044, 0.3304, 0.2011, 0.3512, 0.2316, 0.0330, 0.1274, 0.3758,\n",
      "        0.1468, 0.1785, 0.1495, 0.1007, 0.2349, 0.1376, 0.3060, 0.0066, 0.3118,\n",
      "        0.0824, 0.0978, 0.0866, 0.1484, 0.0172, 0.0817, 0.1750, 0.2113, 0.0658,\n",
      "        0.0317, 0.0310, 0.2103, 0.0240, 0.0261, 0.1422, 0.1509, 0.2825, 0.3743,\n",
      "        0.0516, 0.1733, 0.2779, 0.2613, 0.1573, 0.1332, 0.2346, 0.2607, 0.2524,\n",
      "        0.1087, 0.2340, 0.1206, 0.2157, 0.0494, 0.3723, 0.1443, 0.2134, 0.1879,\n",
      "        0.1955, 0.5507, 0.0663, 0.1324, 0.0454, 0.0977, 0.1716, 0.0199, 0.3048,\n",
      "        0.0111, 0.3753, 0.2558, 0.0776, 0.2273, 0.1815, 0.2287, 0.1988, 0.1443,\n",
      "        0.2587, 0.3221, 0.3836, 0.2110, 0.1163, 0.1178, 0.1789, 0.1722, 0.2742,\n",
      "        0.3808, 0.0226, 0.0831, 0.3616, 0.3022, 0.1784, 0.0000, 0.1837, 0.0815,\n",
      "        0.1990, 0.2633, 0.0741, 0.5830, 0.2241, 0.1751, 0.1728, 0.1063, 0.0502,\n",
      "        0.1218, 0.2226, 0.2505, 0.1842, 0.2573, 0.2847, 0.3006, 0.1797, 0.4035,\n",
      "        0.1858, 0.2417, 0.2289, 0.0736, 0.1377, 0.2249, 0.1622, 0.1929, 0.2221,\n",
      "        0.0100, 0.0874, 0.1309, 0.1159, 0.2053, 0.0000, 0.0389, 0.0842, 0.0839,\n",
      "        0.1441, 0.2583, 0.1392, 0.2465, 0.0000, 0.0817, 0.0616, 0.1579, 0.1864,\n",
      "        0.0000, 0.2439, 0.0565, 0.1795, 0.0091, 0.1970, 0.0724, 0.1268, 0.0299,\n",
      "        0.1994, 0.1124, 0.1480, 0.2471, 0.0868, 0.2377, 0.0667, 0.1710, 0.0689,\n",
      "        0.0000, 0.0403, 0.2075, 0.2173, 0.1031, 0.3172, 0.0729, 0.2663, 0.0829,\n",
      "        0.2325, 0.2056, 0.1295, 0.0832, 0.1388, 0.1720, 0.0872, 0.1174, 0.1119,\n",
      "        0.0000, 0.1941, 0.2693, 0.2607]) tensor(0.5830) tensor(45.4570)\n",
      "Chosen edges: tensor([[  0,   0,   0,   0,   0,   0,   0,   0,   0,   0,   0,   0,   0,   1,\n",
      "           1,   1,   1,   1,   1,   1,   1,   1,   1,   1,   1,   1,   0,   0,\n",
      "           0,   0,   0,   0,   0,   0,   0,   0,   0,   0,   0,   0,   0,   0,\n",
      "           0,   0,   0,   0,   0,   0,   0,   0,   0,   0,   0,   0,   0,   0,\n",
      "           0,   0,   0,   0,   0,   0,   0,   0,   0,   0,   0,   1,   1,   1,\n",
      "           1,   1,   1,   1,   1,   1,   1,   1,   1,   1,   1,   1,   1,   1,\n",
      "           1,   1,   1,   1,   1,   1,   1,   1,   1,   1,   1,   1,   1,   1,\n",
      "           1,   1,   1,   1],\n",
      "        [  4,   9,  30,  33,  54,  67,  68,  80,  81,  82,  88, 102, 124,   4,\n",
      "           9,  30,  33,  54,  67,  68,  80,  81,  82,  88, 102, 124, 129, 131,\n",
      "         137, 140, 142, 143, 144, 147, 149, 150, 155, 156, 159, 160, 161, 162,\n",
      "         163, 164, 167, 172, 174, 176, 184, 188, 193, 194, 197, 198, 201, 202,\n",
      "         203, 205, 207, 209, 211, 214, 221, 223, 224, 226, 228, 231, 232, 233,\n",
      "         234, 239, 240, 243, 244, 250, 252, 253, 259, 260, 262, 263, 264, 266,\n",
      "         268, 269, 272, 275, 280, 286, 288, 295, 306, 308, 314, 315, 317, 319,\n",
      "         321, 322, 332, 333]]) 102\n"
     ]
    },
    {
     "name": "stderr",
     "output_type": "stream",
     "text": [
      "100%|██████████| 51/51 [00:00<00:00, 82.57it/s]\n"
     ]
    },
    {
     "name": "stdout",
     "output_type": "stream",
     "text": [
      "Epoch 27/100 | Train Loss: 0.4060 | Val Loss: 4.5793 | Val Accuracy: 0.8348\n"
     ]
    },
    {
     "name": "stderr",
     "output_type": "stream",
     "text": [
      "100%|██████████| 51/51 [00:00<00:00, 78.60it/s]\n"
     ]
    },
    {
     "name": "stdout",
     "output_type": "stream",
     "text": [
      "Epoch 28/100 | Train Loss: 0.3350 | Val Loss: 4.4839 | Val Accuracy: 0.8331\n"
     ]
    },
    {
     "name": "stderr",
     "output_type": "stream",
     "text": [
      "100%|██████████| 51/51 [00:00<00:00, 69.60it/s]\n"
     ]
    },
    {
     "name": "stdout",
     "output_type": "stream",
     "text": [
      "Epoch 29/100 | Train Loss: 0.3304 | Val Loss: 4.4348 | Val Accuracy: 0.8363\n"
     ]
    },
    {
     "name": "stderr",
     "output_type": "stream",
     "text": [
      "100%|██████████| 51/51 [00:00<00:00, 73.20it/s]\n"
     ]
    },
    {
     "name": "stdout",
     "output_type": "stream",
     "text": [
      "Epoch 30/100 | Train Loss: 0.3274 | Val Loss: 4.4120 | Val Accuracy: 0.8366\n"
     ]
    },
    {
     "name": "stderr",
     "output_type": "stream",
     "text": [
      "100%|██████████| 51/51 [00:00<00:00, 75.54it/s]\n"
     ]
    },
    {
     "name": "stdout",
     "output_type": "stream",
     "text": [
      "Epoch 31/100 | Train Loss: 0.3254 | Val Loss: 4.3906 | Val Accuracy: 0.8374\n"
     ]
    },
    {
     "name": "stderr",
     "output_type": "stream",
     "text": [
      "100%|██████████| 51/51 [00:00<00:00, 82.87it/s]\n"
     ]
    },
    {
     "name": "stdout",
     "output_type": "stream",
     "text": [
      "Epoch 32/100 | Train Loss: 0.3242 | Val Loss: 4.3705 | Val Accuracy: 0.8391\n"
     ]
    },
    {
     "name": "stderr",
     "output_type": "stream",
     "text": [
      "100%|██████████| 51/51 [00:00<00:00, 80.41it/s]\n"
     ]
    },
    {
     "name": "stdout",
     "output_type": "stream",
     "text": [
      "Epoch 33/100 | Train Loss: 0.3231 | Val Loss: 4.3617 | Val Accuracy: 0.8406\n"
     ]
    },
    {
     "name": "stderr",
     "output_type": "stream",
     "text": [
      "100%|██████████| 51/51 [00:00<00:00, 76.22it/s]\n"
     ]
    },
    {
     "name": "stdout",
     "output_type": "stream",
     "text": [
      "Epoch 34/100 | Train Loss: 0.3221 | Val Loss: 4.3560 | Val Accuracy: 0.8408\n"
     ]
    },
    {
     "name": "stderr",
     "output_type": "stream",
     "text": [
      "100%|██████████| 51/51 [00:00<00:00, 62.95it/s]\n"
     ]
    },
    {
     "name": "stdout",
     "output_type": "stream",
     "text": [
      "Epoch 35/100 | Train Loss: 0.3215 | Val Loss: 4.3446 | Val Accuracy: 0.8409\n",
      "Edge metrics: tensor([0.2915, 0.3166, 0.3180, 0.3360, 0.2151, 0.3565, 0.3355, 0.3247, 0.3170,\n",
      "        0.3875, 0.4031, 0.2925, 0.2915, 0.3166, 0.3180, 0.3360, 0.2151, 0.3565,\n",
      "        0.3355, 0.3247, 0.3170, 0.3875, 0.4031, 0.2925, 0.1349, 0.2748, 0.0403,\n",
      "        0.0714, 0.3144, 0.0463, 0.0548, 0.2135, 0.2788, 0.2387, 0.1366, 0.1773,\n",
      "        0.0835, 0.0916, 0.3339, 0.0079, 0.3314, 0.1499, 0.3060, 0.0482, 0.2592,\n",
      "        0.2702, 0.2971, 0.2678, 0.1951, 0.3093, 0.0000, 0.1486, 0.2375, 0.1771,\n",
      "        0.2680, 0.0433, 0.1597, 0.3095, 0.1187, 0.0509, 0.0676, 0.0369, 0.0402,\n",
      "        0.2766, 0.2415, 0.1142, 0.2704, 0.3041, 0.2345, 0.1902, 0.2175, 0.1340,\n",
      "        0.2491, 0.2922, 0.3837, 0.1047, 0.2346, 0.0737, 0.1838, 0.2143, 0.0409,\n",
      "        0.0241, 0.1264, 0.3314, 0.3262, 0.2561, 0.2036, 0.1609, 0.2601, 0.1938,\n",
      "        0.0000, 0.1599, 0.2099, 0.0000, 0.2329, 0.1018, 0.3231, 0.1792, 0.3046,\n",
      "        0.2468, 0.1295, 0.0546, 0.1497, 0.2823, 0.2806, 0.2393, 0.1181, 0.2142,\n",
      "        0.2104, 0.2996, 0.0000, 0.1224, 0.2826, 0.1637, 0.0000, 0.0360, 0.1565,\n",
      "        0.0871, 0.2517, 0.2438, 0.0000, 0.0944, 0.0661, 0.1771, 0.1850, 0.0000,\n",
      "        0.0656, 0.2380, 0.0000, 0.3243, 0.0682, 0.1895, 0.0331, 0.3449, 0.1161,\n",
      "        0.2557, 0.1112, 0.0842, 0.1616, 0.0990, 0.0000, 0.0221, 0.1765, 0.1031,\n",
      "        0.1203, 0.1460, 0.0944, 0.1460, 0.2349, 0.1072, 0.1725, 0.1377, 0.0000,\n",
      "        0.4400, 0.1195, 0.1770, 0.0346, 0.0476, 0.3590, 0.2073, 0.2978, 0.1678,\n",
      "        0.1263, 0.2693, 0.0875, 0.2342, 0.0416, 0.1959, 0.0282, 0.0285, 0.2285,\n",
      "        0.1221, 0.0188, 0.0995, 0.2707, 0.0249, 0.2678, 0.0181, 0.1203, 0.0762,\n",
      "        0.2744, 0.0000, 0.1919, 0.0537, 0.0117, 0.0716, 0.0534, 0.3785, 0.3324,\n",
      "        0.4425, 0.2255, 0.1810, 0.0848, 0.3916, 0.4869, 0.0095, 0.1445, 0.2354,\n",
      "        0.3979, 0.1654, 0.1078, 0.1752, 0.2062, 0.4449, 0.3836, 0.2011, 0.0870,\n",
      "        0.2100, 0.1105, 0.0944, 0.1109, 0.2282, 0.1016, 0.1669, 0.1962, 0.0302,\n",
      "        0.0644, 0.5118, 0.0282, 0.4418, 0.1542, 0.1454, 0.5340, 0.2444, 0.3018,\n",
      "        0.4238, 0.1529, 0.4053, 0.2334, 0.0000, 0.3313, 0.3166, 0.2495, 0.1997,\n",
      "        0.0560, 0.3480, 0.1604, 0.1253, 0.1628, 0.1663, 0.1945, 0.0909, 0.0319,\n",
      "        0.3021, 0.2944, 0.1137, 0.1287, 0.3401, 0.0000, 0.2663, 0.1926, 0.1104,\n",
      "        0.1343, 0.1147, 0.2272, 0.1762]) tensor(0.5340) tensor(48.7483)\n",
      "Chosen edges: tensor([[  0,   0,   0,   0,   0,   0,   0,   0,   0,   0,   0,   0,   1,   1,\n",
      "           1,   1,   1,   1,   1,   1,   1,   1,   1,   1,   0,   0,   0,   0,\n",
      "           0,   0,   0,   0,   0,   0,   0,   0,   0,   0,   0,   0,   0,   0,\n",
      "           0,   0,   0,   0,   0,   0,   0,   0,   0,   0,   0,   0,   1,   1,\n",
      "           1,   1,   1,   1,   1,   1,   1,   1,   1,   1,   1,   1,   1,   1,\n",
      "           1,   1,   1,   1,   1,   1,   0,   0,   0,   0,   0,   1,   1,   1,\n",
      "           0,   0,   0,   0,   0,   0,   0,   0,   0,   0,   0,   0,   0,   0,\n",
      "           0,   0,   0,   1,   1,   1,   1,   1,   1,   1,   1,   1,   1,   1,\n",
      "           1,   1,   1,   1],\n",
      "        [  0,   2,   6,  17,  18,  24,  38,  71,  84,  94,  98, 100,   0,   2,\n",
      "           6,  17,  18,  24,  38,  71,  84,  94,  98, 100, 130, 134, 138, 139,\n",
      "         141, 152, 154, 158, 166, 168, 169, 170, 173, 178, 180, 183, 191, 192,\n",
      "         196, 199, 200, 206, 210, 212, 213, 216, 219, 227, 229, 230, 235, 237,\n",
      "         245, 247, 249, 254, 255, 261, 265, 267, 271, 273, 274, 278, 285, 287,\n",
      "         297, 299, 303, 305, 326, 331, 338, 339, 340, 343, 345, 350, 354, 356,\n",
      "         360, 367, 368, 369, 370, 373, 374, 377, 378, 382, 383, 384, 385, 387,\n",
      "         391, 397, 399, 402, 403, 404, 405, 407, 408, 410, 411, 412, 415, 423,\n",
      "         424, 427, 429, 434]]) 116\n"
     ]
    },
    {
     "name": "stderr",
     "output_type": "stream",
     "text": [
      "100%|██████████| 51/51 [00:00<00:00, 71.26it/s]\n"
     ]
    },
    {
     "name": "stdout",
     "output_type": "stream",
     "text": [
      "Epoch 36/100 | Train Loss: 0.4042 | Val Loss: 4.6765 | Val Accuracy: 0.8363\n"
     ]
    },
    {
     "name": "stderr",
     "output_type": "stream",
     "text": [
      "100%|██████████| 51/51 [00:00<00:00, 66.59it/s]\n"
     ]
    },
    {
     "name": "stdout",
     "output_type": "stream",
     "text": [
      "Epoch 37/100 | Train Loss: 0.3413 | Val Loss: 4.5285 | Val Accuracy: 0.8366\n"
     ]
    },
    {
     "name": "stderr",
     "output_type": "stream",
     "text": [
      "100%|██████████| 51/51 [00:00<00:00, 72.48it/s]\n"
     ]
    },
    {
     "name": "stdout",
     "output_type": "stream",
     "text": [
      "Epoch 38/100 | Train Loss: 0.3338 | Val Loss: 4.4599 | Val Accuracy: 0.8377\n"
     ]
    },
    {
     "name": "stderr",
     "output_type": "stream",
     "text": [
      "100%|██████████| 51/51 [00:00<00:00, 69.02it/s]\n"
     ]
    },
    {
     "name": "stdout",
     "output_type": "stream",
     "text": [
      "Epoch 39/100 | Train Loss: 0.3297 | Val Loss: 4.4181 | Val Accuracy: 0.8402\n"
     ]
    },
    {
     "name": "stderr",
     "output_type": "stream",
     "text": [
      "100%|██████████| 51/51 [00:01<00:00, 48.04it/s]\n"
     ]
    },
    {
     "name": "stdout",
     "output_type": "stream",
     "text": [
      "Epoch 40/100 | Train Loss: 0.3271 | Val Loss: 4.3909 | Val Accuracy: 0.8402\n"
     ]
    },
    {
     "name": "stderr",
     "output_type": "stream",
     "text": [
      "100%|██████████| 51/51 [00:00<00:00, 64.33it/s]\n"
     ]
    },
    {
     "name": "stdout",
     "output_type": "stream",
     "text": [
      "Epoch 41/100 | Train Loss: 0.3252 | Val Loss: 4.3748 | Val Accuracy: 0.8409\n"
     ]
    },
    {
     "name": "stderr",
     "output_type": "stream",
     "text": [
      "100%|██████████| 51/51 [00:00<00:00, 56.38it/s]\n"
     ]
    },
    {
     "name": "stdout",
     "output_type": "stream",
     "text": [
      "Epoch 42/100 | Train Loss: 0.3239 | Val Loss: 4.3637 | Val Accuracy: 0.8405\n"
     ]
    },
    {
     "name": "stderr",
     "output_type": "stream",
     "text": [
      "100%|██████████| 51/51 [00:00<00:00, 70.14it/s]\n"
     ]
    },
    {
     "name": "stdout",
     "output_type": "stream",
     "text": [
      "Epoch 43/100 | Train Loss: 0.3230 | Val Loss: 4.3534 | Val Accuracy: 0.8428\n"
     ]
    },
    {
     "name": "stderr",
     "output_type": "stream",
     "text": [
      "100%|██████████| 51/51 [00:00<00:00, 68.27it/s]\n"
     ]
    },
    {
     "name": "stdout",
     "output_type": "stream",
     "text": [
      "Epoch 44/100 | Train Loss: 0.3223 | Val Loss: 4.3472 | Val Accuracy: 0.8431\n",
      "Edge metrics: tensor([0.2817, 0.0196, 0.1170, 0.0541, 0.0733, 0.2191, 0.2250, 0.0568, 0.0940,\n",
      "        0.0000, 0.2093, 0.0236, 0.2644, 0.0000, 0.1851, 0.2890, 0.0688, 0.2110,\n",
      "        0.1677, 0.0597, 0.1312, 0.0635, 0.0629, 0.2220, 0.2967, 0.3228, 0.2121,\n",
      "        0.0688, 0.3361, 0.0398, 0.0171, 0.1725, 0.1828, 0.1818, 0.0000, 0.1891,\n",
      "        0.0000, 0.0943, 0.3807, 0.2221, 0.0261, 0.1410, 0.0635, 0.0000, 0.1466,\n",
      "        0.1884, 0.0000, 0.0000, 0.3065, 0.0987, 0.0000, 0.0971, 0.0000, 0.2261,\n",
      "        0.2350, 0.0000, 0.0243, 0.0000, 0.0462, 0.2225, 0.0104, 0.1210, 0.0825,\n",
      "        0.0585, 0.2165, 0.0946, 0.0000, 0.0000, 0.2129, 0.1273, 0.1515, 0.2178,\n",
      "        0.0791, 0.2204, 0.1241, 0.2949, 0.0893, 0.0000, 0.1616, 0.3608, 0.0669,\n",
      "        0.0085, 0.2347, 0.2704, 0.1470, 0.0842, 0.2324, 0.0000, 0.0136, 0.1850,\n",
      "        0.0000, 0.1136, 0.0000, 0.0000, 0.0915, 0.0665, 0.0000, 0.2315, 0.0387,\n",
      "        0.0139, 0.1554, 0.0490, 0.3178, 0.2096, 0.0000, 0.1633, 0.3010, 0.2100,\n",
      "        0.2104, 0.1385, 0.1570, 0.0981, 0.1247, 0.1577, 0.3021, 0.3537, 0.0688,\n",
      "        0.1090, 0.0309, 0.1564, 0.1304, 0.2579, 0.0000, 0.2443, 0.0471, 0.2232,\n",
      "        0.2134, 0.2853, 0.1878, 0.2226, 0.0982, 0.0332, 0.1184, 0.2389, 0.0000,\n",
      "        0.2337, 0.1457, 0.1572, 0.1399, 0.1643, 0.4011, 0.1291, 0.0283, 0.0417,\n",
      "        0.1014, 0.3133, 0.4905, 0.1957, 0.3263, 0.3771, 0.2948, 0.3444, 0.1652,\n",
      "        0.4263, 0.2147, 0.0761, 0.2606, 0.1646, 0.1594, 0.1527, 0.0283, 0.0417,\n",
      "        0.0931, 0.1680, 0.1927, 0.1953, 0.0472, 0.1771, 0.0806, 0.2774, 0.4413,\n",
      "        0.3953, 0.1341, 0.1829, 0.4418, 0.2258, 0.3301, 0.1141, 0.0241, 0.1999,\n",
      "        0.5639, 0.0787, 0.0588, 0.2604, 0.0000, 0.1436, 0.3046, 0.2977, 0.3867,\n",
      "        0.1225, 0.3080, 0.2622, 0.0292, 0.2097, 0.1418, 0.2771, 0.1672, 0.3453,\n",
      "        0.0171, 0.0725, 0.0519, 0.1269, 0.3004, 0.0824, 0.0538, 0.0526, 0.3043,\n",
      "        0.4358, 0.1650, 0.1759, 0.0332, 0.3154, 0.0322, 0.1354, 0.2137, 0.4613,\n",
      "        0.2061, 0.1447, 0.2553, 0.1469, 0.0774, 0.3851, 0.0293, 0.3022, 0.2111,\n",
      "        0.1003, 0.0426, 0.3209, 0.1683, 0.3427, 0.4301, 0.2860, 0.1822, 0.1436,\n",
      "        0.3577, 0.0398, 0.0453, 0.1544, 0.3116, 0.2898, 0.2624, 0.3885, 0.0544,\n",
      "        0.3733, 0.3159, 0.0460, 0.2672, 0.2598, 0.2026, 0.0107, 0.1555, 0.2568,\n",
      "        0.1364, 0.0256, 0.1603, 0.1081]) tensor(0.5639) tensor(41.9524)\n",
      "Chosen edges: tensor([[  0,   0,   0,   0,   0,   0,   0,   0,   0,   0,   0,   0,   1,   1,\n",
      "           1,   1,   1,   1,   1,   1,   1,   1,   1,   0,   0,   0,   1,   0,\n",
      "           0,   0,   0,   0,   0,   0,   0,   1,   1,   1,   1,   1,   1,   1,\n",
      "           1,   0,   0,   0,   0,   0,   0,   0,   1,   1,   1,   0,   0,   0,\n",
      "           0,   0,   0,   0,   0,   0,   0,   0,   0,   0,   0,   1,   1,   1,\n",
      "           1,   1,   1,   1,   1,   0,   0,   1,   1,   0,   0,   0,   0,   0,\n",
      "           0,   0,   0,   0,   1,   1,   1,   1,   1,   1,   1],\n",
      "        [128, 145, 146, 157, 171, 179, 182, 195, 204, 208, 215, 218, 251, 256,\n",
      "         283, 292, 293, 301, 310, 316, 323, 325, 328, 335, 341, 342, 347, 362,\n",
      "         371, 372, 379, 380, 381, 393, 394, 406, 413, 416, 417, 418, 420, 426,\n",
      "         430, 436, 441, 442, 444, 445, 446, 447, 449, 450, 452, 465, 466, 467,\n",
      "         470, 471, 472, 476, 479, 482, 483, 484, 486, 487, 489, 491, 493, 498,\n",
      "         502, 503, 507, 510, 511, 512, 514, 517, 519, 520, 523, 525, 526, 527,\n",
      "         530, 534, 535, 536, 537, 539, 540, 542, 543, 544, 547]]) 95\n"
     ]
    },
    {
     "name": "stderr",
     "output_type": "stream",
     "text": [
      "100%|██████████| 51/51 [00:00<00:00, 55.36it/s]\n"
     ]
    },
    {
     "name": "stdout",
     "output_type": "stream",
     "text": [
      "Epoch 45/100 | Train Loss: 0.3749 | Val Loss: 4.6174 | Val Accuracy: 0.8353\n"
     ]
    },
    {
     "name": "stderr",
     "output_type": "stream",
     "text": [
      "100%|██████████| 51/51 [00:01<00:00, 45.57it/s]\n"
     ]
    },
    {
     "name": "stdout",
     "output_type": "stream",
     "text": [
      "Epoch 46/100 | Train Loss: 0.3407 | Val Loss: 4.4995 | Val Accuracy: 0.8377\n"
     ]
    },
    {
     "name": "stderr",
     "output_type": "stream",
     "text": [
      "100%|██████████| 51/51 [00:00<00:00, 52.12it/s]\n"
     ]
    },
    {
     "name": "stdout",
     "output_type": "stream",
     "text": [
      "Epoch 47/100 | Train Loss: 0.3340 | Val Loss: 4.4447 | Val Accuracy: 0.8385\n"
     ]
    },
    {
     "name": "stderr",
     "output_type": "stream",
     "text": [
      "100%|██████████| 51/51 [00:00<00:00, 63.55it/s]\n"
     ]
    },
    {
     "name": "stdout",
     "output_type": "stream",
     "text": [
      "Epoch 48/100 | Train Loss: 0.3302 | Val Loss: 4.4080 | Val Accuracy: 0.8394\n"
     ]
    },
    {
     "name": "stderr",
     "output_type": "stream",
     "text": [
      "100%|██████████| 51/51 [00:00<00:00, 62.88it/s]\n"
     ]
    },
    {
     "name": "stdout",
     "output_type": "stream",
     "text": [
      "Epoch 49/100 | Train Loss: 0.3276 | Val Loss: 4.3830 | Val Accuracy: 0.8408\n"
     ]
    },
    {
     "name": "stderr",
     "output_type": "stream",
     "text": [
      "100%|██████████| 51/51 [00:00<00:00, 60.48it/s]\n"
     ]
    },
    {
     "name": "stdout",
     "output_type": "stream",
     "text": [
      "Epoch 50/100 | Train Loss: 0.3259 | Val Loss: 4.3653 | Val Accuracy: 0.8402\n"
     ]
    },
    {
     "name": "stderr",
     "output_type": "stream",
     "text": [
      "100%|██████████| 51/51 [00:00<00:00, 56.32it/s]\n"
     ]
    },
    {
     "name": "stdout",
     "output_type": "stream",
     "text": [
      "Epoch 51/100 | Train Loss: 0.3247 | Val Loss: 4.3514 | Val Accuracy: 0.8406\n"
     ]
    },
    {
     "name": "stderr",
     "output_type": "stream",
     "text": [
      "100%|██████████| 51/51 [00:00<00:00, 61.79it/s]\n"
     ]
    },
    {
     "name": "stdout",
     "output_type": "stream",
     "text": [
      "Epoch 52/100 | Train Loss: 0.3236 | Val Loss: 4.3442 | Val Accuracy: 0.8414\n"
     ]
    },
    {
     "name": "stderr",
     "output_type": "stream",
     "text": [
      "100%|██████████| 51/51 [00:00<00:00, 63.25it/s]\n"
     ]
    },
    {
     "name": "stdout",
     "output_type": "stream",
     "text": [
      "Epoch 53/100 | Train Loss: 0.3229 | Val Loss: 4.3376 | Val Accuracy: 0.8426\n",
      "Edge metrics: tensor([0.0000, 0.1409, 0.0628, 0.0579, 0.0000, 0.0571, 0.0000, 0.0000, 0.0000,\n",
      "        0.2342, 0.0665, 0.1853, 0.0603, 0.2100, 0.0730, 0.0655, 0.0349, 0.0188,\n",
      "        0.0000, 0.1514, 0.1608, 0.2201, 0.0000, 0.1538, 0.0000, 0.0495, 0.0000,\n",
      "        0.1185, 0.0000, 0.0000, 0.1274, 0.1882, 0.0000, 0.0000, 0.1001, 0.0000,\n",
      "        0.0619, 0.0000, 0.0000, 0.0000, 0.0000, 0.0098, 0.0000, 0.1148, 0.0468,\n",
      "        0.0367, 0.0282, 0.0000, 0.0000, 0.0858, 0.2395, 0.0068, 0.2837, 0.0000,\n",
      "        0.0000, 0.1779, 0.1175, 0.0000, 0.1958, 0.1385, 0.0000, 0.0000, 0.3084,\n",
      "        0.0000, 0.1053, 0.0000, 0.0000, 0.0831, 0.0356, 0.0000, 0.0091, 0.0041,\n",
      "        0.2387, 0.0000, 0.0000, 0.1157, 0.1908, 0.1912, 0.0662, 0.0731, 0.2019,\n",
      "        0.0815, 0.1702, 0.0110, 0.1023, 0.0800, 0.0000, 0.0034, 0.2435, 0.0567,\n",
      "        0.0121, 0.1146, 0.0000, 0.1397, 0.0804, 0.0884, 0.1324, 0.0978, 0.0335,\n",
      "        0.0457, 0.1216, 0.1539, 0.1493, 0.0512, 0.1345, 0.1387, 0.0957, 0.0197,\n",
      "        0.0751, 0.0569, 0.1518, 0.2306, 0.2422, 0.1009, 0.1847, 0.0784, 0.1311,\n",
      "        0.2110, 0.1427, 0.0000, 0.2074, 0.1036, 0.0551, 0.0000, 0.2109, 0.1031,\n",
      "        0.0336, 0.2082, 0.1817, 0.0000, 0.0944, 0.0328, 0.0944, 0.0606, 0.0439,\n",
      "        0.0403, 0.1801, 0.2181, 0.0247, 0.0535, 0.2469, 0.1783, 0.1611, 0.1124,\n",
      "        0.0662, 0.1528, 0.0212, 0.1953, 0.2336, 0.1278, 0.0865, 0.0635, 0.1765,\n",
      "        0.0510, 0.0961, 0.0000, 0.1320, 0.1498, 0.0000, 0.1291, 0.1106, 0.1565,\n",
      "        0.0699, 0.2017, 0.0222, 0.2327, 0.2940, 0.0058, 0.0452, 0.1484, 0.1052,\n",
      "        0.2020, 0.0772, 0.0627, 0.1898, 0.2375, 0.1673, 0.1813, 0.1388, 0.1797,\n",
      "        0.1385, 0.1012, 0.2698, 0.2298, 0.2430, 0.0162, 0.2453, 0.2208, 0.1334,\n",
      "        0.0685, 0.1812, 0.1219, 0.1257, 0.1338, 0.2599, 0.1013, 0.3533, 0.2366,\n",
      "        0.1397, 0.0973, 0.2570, 0.0104, 0.0774, 0.1752, 0.2647, 0.2616, 0.5253,\n",
      "        0.0103, 0.1263, 0.1221, 0.3949, 0.3120, 0.1142, 0.1875, 0.2505, 0.0866,\n",
      "        0.0463, 0.3836, 0.5259, 0.2296, 0.4555, 0.2787, 0.1048, 0.0592, 0.1107,\n",
      "        0.0088, 0.2534, 0.0202, 0.1765, 0.0859, 0.3699, 0.2118, 0.3993, 0.1657,\n",
      "        0.0427, 0.3916, 0.0000, 0.3790, 0.5603, 0.0899, 0.0000, 0.1554, 0.1488,\n",
      "        0.0694, 0.3185, 0.1396, 0.0762, 0.1003, 0.0858, 0.1398, 0.0709, 0.0271,\n",
      "        0.0170, 0.1218, 0.0349, 0.0519]) tensor(0.5603) tensor(30.3226)\n",
      "Chosen edges: tensor([[  0,   0,   1,   1,   1,   1,   0,   0,   1,   0,   0,   0,   0,   0,\n",
      "           1,   1,   1,   0,   0,   0,   0,   0,   1,   1,   1,   0,   0,   1,\n",
      "           0,   1,   1,   1,   0,   0,   0,   0,   1,   0,   0,   0,   0,   0,\n",
      "           0,   0,   1,   1,   1,   1,   0,   1,   0],\n",
      "        [177, 187, 238, 320, 327, 351, 365, 392, 419, 460, 461, 469, 475, 481,\n",
      "         490, 505, 509, 528, 554, 556, 557, 562, 566, 573, 574, 575, 577, 578,\n",
      "         585, 587, 588, 591, 595, 596, 597, 601, 602, 605, 608, 609, 610, 611,\n",
      "         612, 617, 621, 622, 623, 626, 628, 629, 635]]) 51\n"
     ]
    },
    {
     "name": "stderr",
     "output_type": "stream",
     "text": [
      "100%|██████████| 51/51 [00:01<00:00, 50.37it/s]\n"
     ]
    },
    {
     "name": "stdout",
     "output_type": "stream",
     "text": [
      "Epoch 54/100 | Train Loss: 0.3677 | Val Loss: 4.5634 | Val Accuracy: 0.8394\n"
     ]
    },
    {
     "name": "stderr",
     "output_type": "stream",
     "text": [
      "100%|██████████| 51/51 [00:00<00:00, 56.50it/s]\n"
     ]
    },
    {
     "name": "stdout",
     "output_type": "stream",
     "text": [
      "Epoch 55/100 | Train Loss: 0.3360 | Val Loss: 4.4594 | Val Accuracy: 0.8391\n"
     ]
    },
    {
     "name": "stderr",
     "output_type": "stream",
     "text": [
      "100%|██████████| 51/51 [00:00<00:00, 53.82it/s]\n"
     ]
    },
    {
     "name": "stdout",
     "output_type": "stream",
     "text": [
      "Epoch 56/100 | Train Loss: 0.3306 | Val Loss: 4.4183 | Val Accuracy: 0.8397\n"
     ]
    },
    {
     "name": "stderr",
     "output_type": "stream",
     "text": [
      "100%|██████████| 51/51 [00:00<00:00, 55.90it/s]\n"
     ]
    },
    {
     "name": "stdout",
     "output_type": "stream",
     "text": [
      "Epoch 57/100 | Train Loss: 0.3279 | Val Loss: 4.3900 | Val Accuracy: 0.8400\n"
     ]
    },
    {
     "name": "stderr",
     "output_type": "stream",
     "text": [
      "100%|██████████| 51/51 [00:00<00:00, 56.79it/s]\n"
     ]
    },
    {
     "name": "stdout",
     "output_type": "stream",
     "text": [
      "Epoch 58/100 | Train Loss: 0.3259 | Val Loss: 4.3732 | Val Accuracy: 0.8406\n"
     ]
    },
    {
     "name": "stderr",
     "output_type": "stream",
     "text": [
      "100%|██████████| 51/51 [00:01<00:00, 49.93it/s]\n"
     ]
    },
    {
     "name": "stdout",
     "output_type": "stream",
     "text": [
      "Epoch 59/100 | Train Loss: 0.3247 | Val Loss: 4.3602 | Val Accuracy: 0.8409\n"
     ]
    },
    {
     "name": "stderr",
     "output_type": "stream",
     "text": [
      "100%|██████████| 51/51 [00:00<00:00, 54.06it/s]\n"
     ]
    },
    {
     "name": "stdout",
     "output_type": "stream",
     "text": [
      "Epoch 60/100 | Train Loss: 0.3236 | Val Loss: 4.3513 | Val Accuracy: 0.8411\n"
     ]
    },
    {
     "name": "stderr",
     "output_type": "stream",
     "text": [
      "100%|██████████| 51/51 [00:00<00:00, 58.42it/s]\n"
     ]
    },
    {
     "name": "stdout",
     "output_type": "stream",
     "text": [
      "Epoch 61/100 | Train Loss: 0.3229 | Val Loss: 4.3414 | Val Accuracy: 0.8414\n"
     ]
    },
    {
     "name": "stderr",
     "output_type": "stream",
     "text": [
      "100%|██████████| 51/51 [00:00<00:00, 56.53it/s]\n"
     ]
    },
    {
     "name": "stdout",
     "output_type": "stream",
     "text": [
      "Epoch 62/100 | Train Loss: 0.3221 | Val Loss: 4.3370 | Val Accuracy: 0.8423\n",
      "Edge metrics: tensor([0.0000, 0.1994, 0.0535, 0.0234, 0.0000, 0.0000, 0.0000, 0.0000, 0.0000,\n",
      "        0.0646, 0.2012, 0.0534, 0.0859, 0.0765, 0.0000, 0.0000, 0.0000, 0.0802,\n",
      "        0.1592, 0.0000, 0.1383, 0.0000, 0.0379, 0.0000, 0.1076, 0.0000, 0.0000,\n",
      "        0.1135, 0.2470, 0.0000, 0.0000, 0.1449, 0.0000, 0.0000, 0.0000, 0.0000,\n",
      "        0.0000, 0.0000, 0.0000, 0.0000, 0.0998, 0.0271, 0.0000, 0.0000, 0.0000,\n",
      "        0.0000, 0.0554, 0.0000, 0.0000, 0.0000, 0.2177, 0.2585, 0.0000, 0.2845,\n",
      "        0.2124, 0.0000, 0.0000, 0.0000, 0.0402, 0.0000, 0.0000, 0.0773, 0.0000,\n",
      "        0.0000, 0.0000, 0.0000, 0.0000, 0.0000, 0.0459, 0.2714, 0.2442, 0.0213,\n",
      "        0.0103, 0.0704, 0.2402, 0.0000, 0.0268, 0.0417, 0.0000, 0.0000, 0.0326,\n",
      "        0.0040, 0.1250, 0.0000, 0.1601, 0.0633, 0.1068, 0.1128, 0.1110, 0.0592,\n",
      "        0.0601, 0.1736, 0.1855, 0.1705, 0.0416, 0.1265, 0.0999, 0.0987, 0.0199,\n",
      "        0.0928, 0.0121, 0.1291, 0.1742, 0.2706, 0.0811, 0.1370, 0.2246, 0.0000,\n",
      "        0.1444, 0.0607, 0.0000, 0.1085, 0.0428, 0.2220, 0.0000, 0.1231, 0.0152,\n",
      "        0.0772, 0.0393, 0.0474, 0.0191, 0.2792, 0.0201, 0.0935, 0.2414, 0.1791,\n",
      "        0.1643, 0.0961, 0.2128, 0.0000, 0.2565, 0.1315, 0.1078, 0.0821, 0.2013,\n",
      "        0.0386, 0.1909, 0.0000, 0.1164, 0.1900, 0.0000, 0.1515, 0.1150, 0.2456,\n",
      "        0.0857, 0.0143, 0.0000, 0.0990, 0.1866, 0.1491, 0.1133, 0.1046, 0.3453,\n",
      "        0.2270, 0.1864, 0.1374, 0.1726, 0.1198, 0.1330, 0.0047, 0.1303, 0.1231,\n",
      "        0.2279, 0.1936, 0.1563, 0.1300, 0.2080, 0.1439, 0.1155, 0.0000, 0.1397,\n",
      "        0.2329, 0.0133, 0.0886, 0.1623, 0.1241, 0.1968, 0.1603, 0.0797, 0.1420,\n",
      "        0.0835, 0.1485, 0.0147, 0.0374, 0.1555, 0.1799, 0.1747, 0.0420, 0.0000,\n",
      "        0.1613, 0.0000, 0.2630, 0.2088, 0.0780, 0.2647, 0.1742, 0.1388, 0.1329,\n",
      "        0.1993, 0.1721, 0.0563, 0.0304, 0.1743, 0.0232, 0.0699, 0.0647, 0.1602,\n",
      "        0.1689, 0.2601, 0.1430, 0.3364, 0.2904, 0.2055, 0.3055, 0.0473, 0.0486,\n",
      "        0.1892, 0.1778, 0.2671, 0.3297, 0.2811, 0.3633, 0.1728, 0.2322, 0.1882,\n",
      "        0.2305, 0.1827, 0.1241, 0.3874, 0.1829, 0.3801, 0.2034, 0.0694, 0.2328,\n",
      "        0.3537, 0.4155, 0.2437, 0.1209, 0.3324, 0.5973, 0.1192, 0.1539, 0.1972,\n",
      "        0.5588, 0.3254, 0.2559, 0.3074, 0.2673, 0.2652, 0.3054, 0.1571, 0.2390,\n",
      "        0.0836, 0.0831, 0.2093, 0.5097]) tensor(0.5973) tensor(31.0737)\n",
      "Chosen edges: tensor([[  0,   1,   0,   0,   0,   0,   0,   0,   0,   0,   0,   1,   1,   0,\n",
      "           0,   0,   0,   0,   1,   1,   0,   0,   1,   0,   0,   0,   1,   1,\n",
      "           0,   0,   1,   0,   1,   1,   1,   0,   0,   1,   0,   0,   0,   1,\n",
      "           1,   1,   0,   0,   0,   0,   0,   0,   0,   0,   1,   1,   1,   0],\n",
      "        [185, 279, 334, 336, 344, 346, 386, 388, 396, 463, 473, 492, 504, 513,\n",
      "         521, 524, 533, 552, 565, 567, 581, 586, 594, 632, 633, 636, 650, 652,\n",
      "         653, 654, 655, 660, 661, 662, 663, 665, 667, 670, 672, 673, 675, 676,\n",
      "         677, 678, 680, 681, 685, 686, 687, 688, 689, 690, 691, 693, 696, 697]]) 56\n"
     ]
    },
    {
     "name": "stderr",
     "output_type": "stream",
     "text": [
      "100%|██████████| 51/51 [00:01<00:00, 50.00it/s]\n"
     ]
    },
    {
     "name": "stdout",
     "output_type": "stream",
     "text": [
      "Epoch 63/100 | Train Loss: 0.3584 | Val Loss: 4.5337 | Val Accuracy: 0.8429\n"
     ]
    },
    {
     "name": "stderr",
     "output_type": "stream",
     "text": [
      "100%|██████████| 51/51 [00:01<00:00, 48.54it/s]\n"
     ]
    },
    {
     "name": "stdout",
     "output_type": "stream",
     "text": [
      "Epoch 64/100 | Train Loss: 0.3332 | Val Loss: 4.4227 | Val Accuracy: 0.8417\n"
     ]
    },
    {
     "name": "stderr",
     "output_type": "stream",
     "text": [
      "100%|██████████| 51/51 [00:00<00:00, 51.25it/s]\n"
     ]
    },
    {
     "name": "stdout",
     "output_type": "stream",
     "text": [
      "Epoch 65/100 | Train Loss: 0.3277 | Val Loss: 4.3843 | Val Accuracy: 0.8431\n"
     ]
    },
    {
     "name": "stderr",
     "output_type": "stream",
     "text": [
      "100%|██████████| 51/51 [00:00<00:00, 52.33it/s]\n"
     ]
    },
    {
     "name": "stdout",
     "output_type": "stream",
     "text": [
      "Epoch 66/100 | Train Loss: 0.3254 | Val Loss: 4.3647 | Val Accuracy: 0.8432\n"
     ]
    },
    {
     "name": "stderr",
     "output_type": "stream",
     "text": [
      "100%|██████████| 51/51 [00:01<00:00, 48.64it/s]\n"
     ]
    },
    {
     "name": "stdout",
     "output_type": "stream",
     "text": [
      "Epoch 67/100 | Train Loss: 0.3241 | Val Loss: 4.3525 | Val Accuracy: 0.8443\n"
     ]
    },
    {
     "name": "stderr",
     "output_type": "stream",
     "text": [
      "100%|██████████| 51/51 [00:00<00:00, 52.51it/s]\n"
     ]
    },
    {
     "name": "stdout",
     "output_type": "stream",
     "text": [
      "Epoch 68/100 | Train Loss: 0.3230 | Val Loss: 4.3433 | Val Accuracy: 0.8443\n"
     ]
    },
    {
     "name": "stderr",
     "output_type": "stream",
     "text": [
      "100%|██████████| 51/51 [00:00<00:00, 52.82it/s]\n"
     ]
    },
    {
     "name": "stdout",
     "output_type": "stream",
     "text": [
      "Epoch 69/100 | Train Loss: 0.3222 | Val Loss: 4.3378 | Val Accuracy: 0.8445\n",
      "Edge metrics: tensor([0.0000, 0.2832, 0.0474, 0.0000, 0.0000, 0.0000, 0.0000, 0.0000, 0.0000,\n",
      "        0.0381, 0.0561, 0.0690, 0.0839, 0.0000, 0.0000, 0.0000, 0.0038, 0.1499,\n",
      "        0.0000, 0.1135, 0.0000, 0.0393, 0.0000, 0.1097, 0.0000, 0.0000, 0.0994,\n",
      "        0.0000, 0.0000, 0.1615, 0.0000, 0.0000, 0.0000, 0.0000, 0.0000, 0.0000,\n",
      "        0.0000, 0.0000, 0.1449, 0.0000, 0.0000, 0.0000, 0.0000, 0.0000, 0.0098,\n",
      "        0.0000, 0.0000, 0.0000, 0.0000, 0.0000, 0.0000, 0.0000, 0.0000, 0.0000,\n",
      "        0.0000, 0.0543, 0.0000, 0.0000, 0.0000, 0.0000, 0.0000, 0.0000, 0.0000,\n",
      "        0.0000, 0.0000, 0.0000, 0.0000, 0.0000, 0.0208, 0.0000, 0.0000, 0.0059,\n",
      "        0.0000, 0.0965, 0.0000, 0.2202, 0.0630, 0.1690, 0.1090, 0.1369, 0.1012,\n",
      "        0.0759, 0.2501, 0.2136, 0.2363, 0.0396, 0.1016, 0.0529, 0.1023, 0.0000,\n",
      "        0.1370, 0.0000, 0.1067, 0.3112, 0.0686, 0.1109, 0.0000, 0.1421, 0.0473,\n",
      "        0.0000, 0.1116, 0.0624, 0.0000, 0.1676, 0.0000, 0.0724, 0.0179, 0.0439,\n",
      "        0.0102, 0.0097, 0.1928, 0.2143, 0.1889, 0.1082, 0.0000, 0.1021, 0.1773,\n",
      "        0.1194, 0.0269, 0.4176, 0.0000, 0.1261, 0.2796, 0.0000, 0.1582, 0.1123,\n",
      "        0.1053, 0.0000, 0.0000, 0.1905, 0.2246, 0.3031, 0.1625, 0.1808, 0.1869,\n",
      "        0.1188, 0.2001, 0.1227, 0.1839, 0.0022, 0.0713, 0.1942, 0.3301, 0.2123,\n",
      "        0.1169, 0.1629, 0.1549, 0.0000, 0.1977, 0.0309, 0.0757, 0.2240, 0.1437,\n",
      "        0.2437, 0.2594, 0.1242, 0.2328, 0.1068, 0.1959, 0.0158, 0.0600, 0.1525,\n",
      "        0.2428, 0.2906, 0.0377, 0.0000, 0.3763, 0.0000, 0.0885, 0.4088, 0.1995,\n",
      "        0.1796, 0.2792, 0.2880, 0.1181, 0.0436, 0.2619, 0.0062, 0.0612, 0.0897,\n",
      "        0.2318, 0.2394, 0.2417, 0.0829, 0.0896, 0.2986, 0.2047, 0.2487, 0.1978,\n",
      "        0.2676, 0.3010, 0.2432, 0.0763, 0.1461, 0.1629, 0.1457, 0.3872, 0.2672,\n",
      "        0.1772, 0.1393, 0.0008, 0.4120, 0.3292, 0.0303, 0.1281, 0.2541, 0.2983,\n",
      "        0.5879, 0.2740, 0.3507, 0.3148, 0.0123, 0.1134, 0.2510, 0.2303, 0.1274,\n",
      "        0.0321, 0.3288, 0.4474, 0.2642, 0.0432, 0.3202, 0.0401, 0.0704, 0.1335,\n",
      "        0.3645, 0.0999, 0.1914, 0.3220, 0.4604, 0.3468, 0.1471, 0.0298, 0.2667,\n",
      "        0.5637, 0.1893, 0.0245, 0.4582, 0.2749, 0.3144, 0.2224, 0.0549, 0.2967,\n",
      "        0.3087, 0.0609, 0.1350, 0.3951, 0.2795, 0.2172, 0.0404, 0.3293, 0.3381,\n",
      "        0.3133, 0.0202, 0.2103, 0.3036]) tensor(0.5879) tensor(32.4829)\n",
      "Chosen edges: tensor([[  0,   1,   0,   0,   1,   0,   0,   1,   1,   0,   0,   1,   0,   0,\n",
      "           0,   1,   0,   0,   1,   1,   1,   0,   1,   1,   1,   0,   1,   1,\n",
      "           0,   0,   0,   0,   1,   1,   0,   1,   1,   0,   0,   0,   0,   0,\n",
      "           0,   0,   0,   0,   0,   1,   1,   0,   0,   0,   0,   1,   1,   1,\n",
      "           1,   0,   0,   0,   1,   1,   0,   0,   0,   0,   0,   1,   1,   0],\n",
      "        [133, 431, 440, 443, 448, 462, 515, 541, 548, 560, 561, 570, 582, 583,\n",
      "         600, 604, 606, 613, 620, 624, 630, 637, 640, 641, 644, 648, 649, 651,\n",
      "         658, 659, 664, 668, 669, 671, 684, 692, 699, 700, 703, 704, 705, 706,\n",
      "         707, 708, 711, 712, 715, 716, 717, 719, 723, 726, 727, 728, 731, 732,\n",
      "         735, 736, 737, 738, 740, 741, 744, 745, 746, 748, 749, 750, 752, 753]]) 70\n"
     ]
    },
    {
     "name": "stderr",
     "output_type": "stream",
     "text": [
      "100%|██████████| 51/51 [00:01<00:00, 49.31it/s]\n"
     ]
    },
    {
     "name": "stdout",
     "output_type": "stream",
     "text": [
      "Epoch 70/100 | Train Loss: 0.3366 | Val Loss: 4.4251 | Val Accuracy: 0.8399\n"
     ]
    },
    {
     "name": "stderr",
     "output_type": "stream",
     "text": [
      "100%|██████████| 51/51 [00:01<00:00, 41.67it/s]\n"
     ]
    },
    {
     "name": "stdout",
     "output_type": "stream",
     "text": [
      "Epoch 71/100 | Train Loss: 0.3270 | Val Loss: 4.3826 | Val Accuracy: 0.8411\n"
     ]
    },
    {
     "name": "stderr",
     "output_type": "stream",
     "text": [
      "100%|██████████| 51/51 [00:01<00:00, 40.68it/s]\n"
     ]
    },
    {
     "name": "stdout",
     "output_type": "stream",
     "text": [
      "Epoch 72/100 | Train Loss: 0.3246 | Val Loss: 4.3618 | Val Accuracy: 0.8414\n"
     ]
    },
    {
     "name": "stderr",
     "output_type": "stream",
     "text": [
      "100%|██████████| 51/51 [00:01<00:00, 38.04it/s]\n"
     ]
    },
    {
     "name": "stdout",
     "output_type": "stream",
     "text": [
      "Epoch 73/100 | Train Loss: 0.3235 | Val Loss: 4.3483 | Val Accuracy: 0.8415\n"
     ]
    },
    {
     "name": "stderr",
     "output_type": "stream",
     "text": [
      "100%|██████████| 51/51 [00:01<00:00, 44.90it/s]\n"
     ]
    },
    {
     "name": "stdout",
     "output_type": "stream",
     "text": [
      "Epoch 74/100 | Train Loss: 0.3228 | Val Loss: 4.3390 | Val Accuracy: 0.8428\n"
     ]
    },
    {
     "name": "stderr",
     "output_type": "stream",
     "text": [
      "100%|██████████| 51/51 [00:01<00:00, 47.66it/s]\n"
     ]
    },
    {
     "name": "stdout",
     "output_type": "stream",
     "text": [
      "Epoch 75/100 | Train Loss: 0.3220 | Val Loss: 4.3343 | Val Accuracy: 0.8437\n",
      "Edge metrics: tensor([0.0000, 0.0447, 0.0000, 0.0000, 0.0000, 0.0000, 0.0000, 0.0000, 0.0334,\n",
      "        0.0466, 0.0432, 0.0908, 0.0000, 0.0000, 0.0000, 0.0000, 0.1395, 0.0000,\n",
      "        0.0566, 0.0000, 0.0210, 0.0000, 0.0872, 0.0000, 0.0000, 0.0552, 0.0000,\n",
      "        0.0000, 0.2181, 0.0000, 0.0000, 0.0000, 0.0000, 0.0000, 0.0000, 0.0000,\n",
      "        0.0000, 0.1054, 0.0000, 0.0000, 0.0000, 0.0000, 0.0000, 0.0000, 0.0000,\n",
      "        0.0000, 0.0000, 0.0000, 0.0000, 0.0000, 0.0000, 0.0000, 0.0000, 0.0000,\n",
      "        0.0103, 0.0000, 0.0000, 0.0000, 0.0000, 0.0000, 0.0000, 0.0000, 0.0000,\n",
      "        0.0000, 0.0000, 0.0000, 0.0000, 0.0055, 0.0000, 0.0000, 0.0000, 0.0000,\n",
      "        0.0967, 0.0000, 0.0540, 0.1822, 0.0932, 0.1565, 0.1084, 0.0815, 0.0358,\n",
      "        0.0851, 0.0103, 0.0885, 0.0000, 0.1542, 0.0000, 0.0833, 0.0709, 0.1149,\n",
      "        0.0000, 0.1738, 0.0358, 0.0000, 0.0983, 0.0702, 0.0000, 0.1762, 0.0000,\n",
      "        0.0602, 0.0030, 0.0296, 0.0053, 0.0000, 0.2317, 0.2957, 0.1563, 0.0000,\n",
      "        0.0945, 0.1980, 0.1525, 0.0106, 0.0000, 0.1092, 0.0000, 0.1484, 0.0958,\n",
      "        0.1091, 0.0000, 0.0000, 0.2406, 0.1620, 0.1932, 0.1895, 0.0763, 0.1174,\n",
      "        0.1863, 0.0000, 0.0641, 0.2095, 0.1140, 0.1371, 0.1563, 0.0000, 0.2864,\n",
      "        0.0410, 0.0692, 0.1258, 0.1379, 0.1132, 0.2268, 0.0115, 0.0789, 0.1200,\n",
      "        0.0290, 0.0000, 0.0000, 0.1016, 0.2185, 0.2112, 0.1283, 0.0461, 0.0000,\n",
      "        0.0493, 0.1150, 0.1028, 0.1152, 0.1842, 0.0620, 0.1313, 0.1869, 0.1416,\n",
      "        0.1997, 0.1651, 0.0019, 0.0435, 0.1710, 0.0189, 0.1234, 0.1258, 0.0426,\n",
      "        0.0617, 0.0418, 0.1000, 0.1286, 0.1158, 0.2713, 0.1484, 0.0417, 0.1798,\n",
      "        0.0357, 0.0618, 0.0711, 0.1399, 0.0670, 0.0247, 0.1062, 0.0264, 0.1862,\n",
      "        0.0750, 0.0942, 0.0756, 0.0852, 0.5585, 0.0934, 0.2359, 0.0747, 0.0949,\n",
      "        0.2254, 0.2139, 0.0450, 0.1496, 0.2810, 0.3590, 0.2640, 0.1819, 0.2135,\n",
      "        0.2037, 0.2595, 0.0926, 0.0071, 0.0921, 0.0308, 0.1631, 0.1556, 0.0840,\n",
      "        0.0547, 0.1310, 0.1793, 0.2067, 0.1403, 0.2303, 0.2803, 0.0641, 0.0222,\n",
      "        0.3650, 0.1091, 0.1456, 0.2620, 0.4056, 0.0520, 0.1565, 0.1233, 0.4589,\n",
      "        0.1052, 0.4246, 0.4423, 0.0592, 0.3391, 0.3936, 0.2083, 0.2655, 0.0776,\n",
      "        0.2188, 0.4568, 0.0927, 0.2027, 0.2374, 0.5121, 0.3982, 0.0540, 0.3814,\n",
      "        0.5373, 0.4089, 0.1643, 0.2893]) tensor(0.5585) tensor(26.2723)\n",
      "Chosen edges: tensor([[  1,   1,   0,   0,   0,   1,   0,   0,   0,   1,   1,   0,   0,   0,\n",
      "           0,   0,   1,   1,   0,   1,   1,   1,   1,   0,   0,   0,   1,   0,\n",
      "           0,   0,   1,   1,   1,   0,   0,   1,   1,   0,   0,   0,   0,   1,\n",
      "           0],\n",
      "        [284, 508, 516, 559, 580, 593, 615, 638, 639, 725, 761, 763, 766, 767,\n",
      "         770, 771, 772, 774, 775, 776, 787, 789, 790, 793, 796, 797, 801, 803,\n",
      "         804, 806, 807, 808, 809, 811, 812, 814, 815, 816, 817, 819, 820, 821,\n",
      "         823]]) 43\n"
     ]
    },
    {
     "name": "stderr",
     "output_type": "stream",
     "text": [
      "100%|██████████| 51/51 [00:01<00:00, 38.75it/s]\n"
     ]
    },
    {
     "name": "stdout",
     "output_type": "stream",
     "text": [
      "Epoch 76/100 | Train Loss: 0.3311 | Val Loss: 4.3995 | Val Accuracy: 0.8403\n"
     ]
    },
    {
     "name": "stderr",
     "output_type": "stream",
     "text": [
      "100%|██████████| 51/51 [00:01<00:00, 40.34it/s]\n"
     ]
    },
    {
     "name": "stdout",
     "output_type": "stream",
     "text": [
      "Epoch 77/100 | Train Loss: 0.3259 | Val Loss: 4.3685 | Val Accuracy: 0.8419\n"
     ]
    },
    {
     "name": "stderr",
     "output_type": "stream",
     "text": [
      "100%|██████████| 51/51 [00:01<00:00, 39.78it/s]\n"
     ]
    },
    {
     "name": "stdout",
     "output_type": "stream",
     "text": [
      "Epoch 78/100 | Train Loss: 0.3241 | Val Loss: 4.3509 | Val Accuracy: 0.8412\n"
     ]
    },
    {
     "name": "stderr",
     "output_type": "stream",
     "text": [
      "100%|██████████| 51/51 [00:01<00:00, 40.39it/s]\n"
     ]
    },
    {
     "name": "stdout",
     "output_type": "stream",
     "text": [
      "Epoch 79/100 | Train Loss: 0.3230 | Val Loss: 4.3397 | Val Accuracy: 0.8429\n"
     ]
    },
    {
     "name": "stderr",
     "output_type": "stream",
     "text": [
      "100%|██████████| 51/51 [00:01<00:00, 39.56it/s]\n"
     ]
    },
    {
     "name": "stdout",
     "output_type": "stream",
     "text": [
      "Epoch 80/100 | Train Loss: 0.3223 | Val Loss: 4.3335 | Val Accuracy: 0.8446\n"
     ]
    },
    {
     "name": "stderr",
     "output_type": "stream",
     "text": [
      "100%|██████████| 51/51 [00:01<00:00, 38.23it/s]\n"
     ]
    },
    {
     "name": "stdout",
     "output_type": "stream",
     "text": [
      "Epoch 81/100 | Train Loss: 0.3217 | Val Loss: 4.3289 | Val Accuracy: 0.8437\n",
      "Edge metrics: tensor([0.0000, 0.0313, 0.0000, 0.0000, 0.0000, 0.0000, 0.0000, 0.0000, 0.0008,\n",
      "        0.0277, 0.0220, 0.0864, 0.0000, 0.0000, 0.0000, 0.0000, 0.1380, 0.0000,\n",
      "        0.0201, 0.0000, 0.0157, 0.0000, 0.0869, 0.0000, 0.0000, 0.0459, 0.0000,\n",
      "        0.0000, 0.0000, 0.0000, 0.0000, 0.0000, 0.0000, 0.0000, 0.0000, 0.0000,\n",
      "        0.0947, 0.0000, 0.0000, 0.0000, 0.0000, 0.0000, 0.0000, 0.0000, 0.0000,\n",
      "        0.0000, 0.0000, 0.0000, 0.0000, 0.0000, 0.0000, 0.0000, 0.0000, 0.0000,\n",
      "        0.0000, 0.0000, 0.0000, 0.0000, 0.0000, 0.0000, 0.0000, 0.0000, 0.0000,\n",
      "        0.0000, 0.0000, 0.0000, 0.0000, 0.0000, 0.0000, 0.0000, 0.0000, 0.0892,\n",
      "        0.0000, 0.0532, 0.2557, 0.0866, 0.1494, 0.1314, 0.0853, 0.0343, 0.0785,\n",
      "        0.0000, 0.0877, 0.0000, 0.2132, 0.0000, 0.0771, 0.0681, 0.0888, 0.0000,\n",
      "        0.1712, 0.0226, 0.0000, 0.0923, 0.0683, 0.0000, 0.2108, 0.0000, 0.0622,\n",
      "        0.0000, 0.0253, 0.0011, 0.0000, 0.1810, 0.0000, 0.0823, 0.2395, 0.1628,\n",
      "        0.0079, 0.0000, 0.1097, 0.0000, 0.1497, 0.0925, 0.1127, 0.0000, 0.0000,\n",
      "        0.1794, 0.2371, 0.1923, 0.0642, 0.1225, 0.1903, 0.0000, 0.0545, 0.0895,\n",
      "        0.1392, 0.1850, 0.0000, 0.0451, 0.0653, 0.1325, 0.1539, 0.1157, 0.0000,\n",
      "        0.0918, 0.1131, 0.0295, 0.0000, 0.0000, 0.1240, 0.1721, 0.0413, 0.0000,\n",
      "        0.0450, 0.1522, 0.1160, 0.1441, 0.1728, 0.0541, 0.1170, 0.2040, 0.1303,\n",
      "        0.2862, 0.1791, 0.0000, 0.0649, 0.2152, 0.0329, 0.1583, 0.1344, 0.0483,\n",
      "        0.0921, 0.0505, 0.1144, 0.1291, 0.1666, 0.1560, 0.0605, 0.1947, 0.0429,\n",
      "        0.0730, 0.0765, 0.1648, 0.1024, 0.0406, 0.1056, 0.0353, 0.1667, 0.0842,\n",
      "        0.1265, 0.1143, 0.0468, 0.1101, 0.0989, 0.0754, 0.0649, 0.1374, 0.2102,\n",
      "        0.1588, 0.0207, 0.1048, 0.0400, 0.2448, 0.1691, 0.0876, 0.0779, 0.1689,\n",
      "        0.2234, 0.1768, 0.0908, 0.0355, 0.1368, 0.1677, 0.0713, 0.2496, 0.1810,\n",
      "        0.1227, 0.0892, 0.1257, 0.1064, 0.0721, 0.1976, 0.0765, 0.2340, 0.1471,\n",
      "        0.2569, 0.1285, 0.1093, 0.0669, 0.1491, 0.1274, 0.1402, 0.3616, 0.0965,\n",
      "        0.0306, 0.0542, 0.4322, 0.2138, 0.1007, 0.0184, 0.1690, 0.4075, 0.2418,\n",
      "        0.1015, 0.1521, 0.4094, 0.0241, 0.3994, 0.5945, 0.3778, 0.1590, 0.2625,\n",
      "        0.1051, 0.1058, 0.0819, 0.1760, 0.1793, 0.2443, 0.0303, 0.5456, 0.5557,\n",
      "        0.0856, 0.2772, 0.6848, 0.2466]) tensor(0.6848) tensor(23.9735)\n",
      "Chosen edges: tensor([[  1,   1,   1,   0,   1,   0,   1,   0,   1,   1,   1,   0,   1,   0,\n",
      "           1,   0,   0,   1,   1,   0,   0,   1,   0,   0,   1,   0,   0,   0,\n",
      "           1,   0],\n",
      "        [433, 457, 495, 531, 564, 682, 694, 702, 773, 781, 786, 799, 825, 827,\n",
      "         834, 838, 839, 843, 844, 847, 849, 850, 851, 853, 859, 861, 862, 864,\n",
      "         865, 866]]) 30\n"
     ]
    },
    {
     "name": "stderr",
     "output_type": "stream",
     "text": [
      "100%|██████████| 51/51 [00:01<00:00, 34.43it/s]\n"
     ]
    },
    {
     "name": "stdout",
     "output_type": "stream",
     "text": [
      "Epoch 82/100 | Train Loss: 0.3313 | Val Loss: 4.3784 | Val Accuracy: 0.8425\n"
     ]
    },
    {
     "name": "stderr",
     "output_type": "stream",
     "text": [
      "100%|██████████| 51/51 [00:01<00:00, 37.52it/s]\n"
     ]
    },
    {
     "name": "stdout",
     "output_type": "stream",
     "text": [
      "Epoch 83/100 | Train Loss: 0.3249 | Val Loss: 4.3506 | Val Accuracy: 0.8431\n"
     ]
    },
    {
     "name": "stderr",
     "output_type": "stream",
     "text": [
      "100%|██████████| 51/51 [00:01<00:00, 36.04it/s]\n"
     ]
    },
    {
     "name": "stdout",
     "output_type": "stream",
     "text": [
      "Epoch 84/100 | Train Loss: 0.3231 | Val Loss: 4.3403 | Val Accuracy: 0.8435\n"
     ]
    },
    {
     "name": "stderr",
     "output_type": "stream",
     "text": [
      "100%|██████████| 51/51 [00:01<00:00, 33.81it/s]\n"
     ]
    },
    {
     "name": "stdout",
     "output_type": "stream",
     "text": [
      "Epoch 85/100 | Train Loss: 0.3223 | Val Loss: 4.3367 | Val Accuracy: 0.8435\n"
     ]
    },
    {
     "name": "stderr",
     "output_type": "stream",
     "text": [
      "100%|██████████| 51/51 [00:01<00:00, 36.15it/s]\n"
     ]
    },
    {
     "name": "stdout",
     "output_type": "stream",
     "text": [
      "Epoch 86/100 | Train Loss: 0.3218 | Val Loss: 4.3330 | Val Accuracy: 0.8442\n",
      "Edge metrics: tensor([0.0000, 0.0108, 0.0000, 0.0000, 0.0000, 0.0000, 0.0000, 0.0000, 0.0000,\n",
      "        0.0220, 0.0000, 0.0768, 0.0000, 0.0000, 0.0000, 0.0000, 0.1070, 0.0000,\n",
      "        0.0000, 0.0000, 0.0164, 0.0000, 0.0849, 0.0000, 0.0000, 0.0267, 0.0000,\n",
      "        0.0000, 0.0000, 0.0000, 0.0000, 0.0000, 0.0000, 0.0000, 0.0000, 0.0000,\n",
      "        0.0836, 0.0000, 0.0000, 0.0000, 0.0000, 0.0000, 0.0000, 0.0000, 0.0000,\n",
      "        0.0000, 0.0000, 0.0000, 0.0000, 0.0000, 0.0000, 0.0000, 0.0000, 0.0000,\n",
      "        0.0000, 0.0000, 0.0000, 0.0000, 0.0000, 0.0000, 0.0000, 0.0000, 0.0000,\n",
      "        0.0000, 0.0000, 0.0000, 0.0000, 0.0000, 0.0000, 0.0000, 0.0000, 0.0770,\n",
      "        0.0000, 0.0466, 0.0764, 0.1424, 0.1367, 0.0849, 0.0296, 0.0764, 0.0000,\n",
      "        0.0918, 0.0000, 0.0000, 0.0760, 0.0624, 0.0650, 0.0000, 0.1521, 0.0083,\n",
      "        0.0000, 0.0786, 0.0713, 0.0000, 0.0000, 0.0606, 0.0000, 0.0160, 0.0000,\n",
      "        0.0000, 0.1747, 0.0000, 0.0558, 0.2151, 0.0010, 0.0000, 0.1054, 0.0000,\n",
      "        0.1437, 0.0913, 0.0994, 0.0000, 0.0000, 0.1729, 0.1838, 0.0511, 0.0932,\n",
      "        0.2135, 0.0000, 0.0352, 0.0667, 0.1310, 0.1854, 0.0000, 0.0583, 0.0422,\n",
      "        0.1270, 0.1646, 0.1252, 0.0000, 0.1148, 0.1114, 0.0269, 0.0000, 0.0000,\n",
      "        0.1524, 0.2508, 0.0397, 0.0000, 0.0401, 0.1979, 0.1347, 0.1842, 0.1333,\n",
      "        0.0390, 0.0927, 0.1171, 0.1872, 0.0000, 0.0824, 0.0350, 0.1799, 0.1213,\n",
      "        0.0504, 0.1157, 0.0598, 0.1327, 0.1401, 0.2229, 0.1669, 0.0773, 0.2141,\n",
      "        0.0485, 0.0916, 0.0711, 0.1836, 0.1748, 0.0497, 0.1152, 0.0461, 0.1346,\n",
      "        0.1125, 0.1496, 0.1858, 0.0314, 0.1275, 0.1123, 0.0552, 0.0746, 0.1138,\n",
      "        0.2108, 0.0316, 0.1106, 0.0507, 0.1995, 0.0953, 0.0983, 0.1871, 0.2208,\n",
      "        0.1108, 0.0424, 0.1498, 0.1925, 0.1018, 0.2672, 0.1265, 0.1330, 0.1601,\n",
      "        0.1429, 0.0815, 0.2140, 0.0833, 0.2053, 0.1501, 0.1203, 0.0718, 0.1584,\n",
      "        0.1956, 0.1564, 0.1121, 0.0383, 0.0612, 0.1047, 0.0249, 0.2304, 0.1108,\n",
      "        0.1538, 0.0415, 0.3033, 0.1320, 0.1131, 0.1191, 0.1949, 0.2050, 0.0458,\n",
      "        0.0924, 0.0788, 0.0548, 0.1297, 0.1791, 0.0238, 0.1840, 0.1217, 0.1100,\n",
      "        0.1186, 0.2464, 0.2487, 0.0779, 0.2831, 0.0273, 0.0742, 0.4918, 0.0877,\n",
      "        0.6411, 0.1062, 0.1009, 0.3343, 0.6162, 0.1424, 0.0679, 0.2807, 0.5015,\n",
      "        0.2649, 0.3184, 0.6469, 0.2272]) tensor(0.6469) tensor(22.5525)\n",
      "Chosen edges: tensor([[  0,   1,   1,   1,   0,   1,   0,   0,   1,   0,   0,   0,   0,   1,\n",
      "           1,   1,   0,   1,   0,   1,   1,   0,   0,   0,   1,   0],\n",
      "        [532, 572, 642, 724, 733, 777, 788, 800, 822, 826, 842, 852, 858, 876,\n",
      "         877, 879, 882, 884, 887, 888, 891, 892, 893, 894, 895, 896]]) 26\n"
     ]
    },
    {
     "name": "stderr",
     "output_type": "stream",
     "text": [
      "100%|██████████| 51/51 [00:01<00:00, 31.57it/s]\n"
     ]
    },
    {
     "name": "stdout",
     "output_type": "stream",
     "text": [
      "Epoch 87/100 | Train Loss: 0.3342 | Val Loss: 4.4189 | Val Accuracy: 0.8420\n"
     ]
    },
    {
     "name": "stderr",
     "output_type": "stream",
     "text": [
      "100%|██████████| 51/51 [00:01<00:00, 34.03it/s]\n"
     ]
    },
    {
     "name": "stdout",
     "output_type": "stream",
     "text": [
      "Epoch 88/100 | Train Loss: 0.3267 | Val Loss: 4.3781 | Val Accuracy: 0.8428\n"
     ]
    },
    {
     "name": "stderr",
     "output_type": "stream",
     "text": [
      "100%|██████████| 51/51 [00:01<00:00, 26.00it/s]\n"
     ]
    },
    {
     "name": "stdout",
     "output_type": "stream",
     "text": [
      "Epoch 89/100 | Train Loss: 0.3243 | Val Loss: 4.3578 | Val Accuracy: 0.8434\n"
     ]
    },
    {
     "name": "stderr",
     "output_type": "stream",
     "text": [
      "100%|██████████| 51/51 [00:01<00:00, 29.59it/s]\n"
     ]
    },
    {
     "name": "stdout",
     "output_type": "stream",
     "text": [
      "Epoch 90/100 | Train Loss: 0.3231 | Val Loss: 4.3455 | Val Accuracy: 0.8429\n"
     ]
    },
    {
     "name": "stderr",
     "output_type": "stream",
     "text": [
      "100%|██████████| 51/51 [00:01<00:00, 30.63it/s]\n"
     ]
    },
    {
     "name": "stdout",
     "output_type": "stream",
     "text": [
      "Epoch 91/100 | Train Loss: 0.3222 | Val Loss: 4.3359 | Val Accuracy: 0.8431\n"
     ]
    },
    {
     "name": "stderr",
     "output_type": "stream",
     "text": [
      "100%|██████████| 51/51 [00:01<00:00, 33.25it/s]\n"
     ]
    },
    {
     "name": "stdout",
     "output_type": "stream",
     "text": [
      "Epoch 92/100 | Train Loss: 0.3217 | Val Loss: 4.3320 | Val Accuracy: 0.8439\n",
      "Edge metrics: tensor([0.0000, 0.0000, 0.0000, 0.0000, 0.0000, 0.0000, 0.0000, 0.0000, 0.0000,\n",
      "        0.0000, 0.0000, 0.0699, 0.0000, 0.0000, 0.0000, 0.0000, 0.0951, 0.0000,\n",
      "        0.0000, 0.0000, 0.0163, 0.0000, 0.0727, 0.0000, 0.0000, 0.0050, 0.0000,\n",
      "        0.0000, 0.0000, 0.0000, 0.0000, 0.0000, 0.0000, 0.0000, 0.0000, 0.0000,\n",
      "        0.0535, 0.0000, 0.0000, 0.0000, 0.0000, 0.0000, 0.0000, 0.0000, 0.0000,\n",
      "        0.0000, 0.0000, 0.0000, 0.0000, 0.0000, 0.0000, 0.0000, 0.0000, 0.0000,\n",
      "        0.0000, 0.0000, 0.0000, 0.0000, 0.0000, 0.0000, 0.0000, 0.0000, 0.0000,\n",
      "        0.0000, 0.0000, 0.0000, 0.0000, 0.0000, 0.0000, 0.0000, 0.0000, 0.0701,\n",
      "        0.0000, 0.0419, 0.0633, 0.1331, 0.1525, 0.0964, 0.0151, 0.0728, 0.0000,\n",
      "        0.0934, 0.0000, 0.0000, 0.0653, 0.0547, 0.0440, 0.0000, 0.1468, 0.0000,\n",
      "        0.0000, 0.0526, 0.0719, 0.0000, 0.0000, 0.0524, 0.0000, 0.0073, 0.0000,\n",
      "        0.0000, 0.2281, 0.0000, 0.0397, 0.0000, 0.0000, 0.0738, 0.0000, 0.1238,\n",
      "        0.0833, 0.0839, 0.0000, 0.0000, 0.1766, 0.1736, 0.0475, 0.0715, 0.0000,\n",
      "        0.0233, 0.0406, 0.1002, 0.1914, 0.0000, 0.0626, 0.0225, 0.1059, 0.1671,\n",
      "        0.1275, 0.0000, 0.1163, 0.1037, 0.0250, 0.0000, 0.0000, 0.2020, 0.0427,\n",
      "        0.0000, 0.0408, 0.2013, 0.1394, 0.2244, 0.0967, 0.0229, 0.0591, 0.0942,\n",
      "        0.2077, 0.0000, 0.1342, 0.0577, 0.2283, 0.1130, 0.0474, 0.1828, 0.0643,\n",
      "        0.1387, 0.1607, 0.1608, 0.0772, 0.0540, 0.0990, 0.0702, 0.1895, 0.2853,\n",
      "        0.0590, 0.1258, 0.0622, 0.1186, 0.1469, 0.1708, 0.2931, 0.0148, 0.1501,\n",
      "        0.1085, 0.0375, 0.0831, 0.0836, 0.0415, 0.1186, 0.0573, 0.2237, 0.0976,\n",
      "        0.1353, 0.1854, 0.1479, 0.0503, 0.2051, 0.1839, 0.1218, 0.1237, 0.2182,\n",
      "        0.3774, 0.1599, 0.0882, 0.1132, 0.1780, 0.2107, 0.0710, 0.1489, 0.2988,\n",
      "        0.2209, 0.1156, 0.0500, 0.0583, 0.1442, 0.0273, 0.1151, 0.1265, 0.0697,\n",
      "        0.2013, 0.1166, 0.1435, 0.2975, 0.1509, 0.1163, 0.0805, 0.0553, 0.1317,\n",
      "        0.1923, 0.0314, 0.2116, 0.1310, 0.1228, 0.1184, 0.0819, 0.0443, 0.0763,\n",
      "        0.1169, 0.1199, 0.1216, 0.1639, 0.1129, 0.0537, 0.0746, 0.0967, 0.0627,\n",
      "        0.1064, 0.0556, 0.2193, 0.0317, 0.5168, 0.2046, 0.0505, 0.0641, 0.1129,\n",
      "        0.0197, 0.0431, 0.1022, 0.4129, 0.7648, 0.0536, 0.2258, 0.1092, 0.1554,\n",
      "        0.0235, 0.0505, 0.5900, 0.2657]) tensor(0.7648) tensor(20.4723)\n",
      "Chosen edges: tensor([[  1,   0,   0,   0,   0,   1,   0,   0,   0,   0,   0,   1,   1,   0,\n",
      "           1,   1,   0,   0,   0,   1,   0,   0,   1,   1,   1,   0],\n",
      "        [518, 634, 647, 657, 695, 710, 747, 759, 782, 794, 805, 810, 829, 832,\n",
      "         833, 854, 857, 872, 903, 905, 906, 913, 914, 916, 921, 922]]) 26\n"
     ]
    },
    {
     "name": "stderr",
     "output_type": "stream",
     "text": [
      "100%|██████████| 51/51 [00:01<00:00, 32.54it/s]\n"
     ]
    },
    {
     "name": "stdout",
     "output_type": "stream",
     "text": [
      "Epoch 93/100 | Train Loss: 0.3290 | Val Loss: 4.3601 | Val Accuracy: 0.8437\n"
     ]
    },
    {
     "name": "stderr",
     "output_type": "stream",
     "text": [
      "100%|██████████| 51/51 [00:01<00:00, 31.26it/s]\n"
     ]
    },
    {
     "name": "stdout",
     "output_type": "stream",
     "text": [
      "Epoch 94/100 | Train Loss: 0.3231 | Val Loss: 4.3371 | Val Accuracy: 0.8449\n"
     ]
    },
    {
     "name": "stderr",
     "output_type": "stream",
     "text": [
      "100%|██████████| 51/51 [00:01<00:00, 30.67it/s]\n"
     ]
    },
    {
     "name": "stdout",
     "output_type": "stream",
     "text": [
      "Epoch 95/100 | Train Loss: 0.3218 | Val Loss: 4.3278 | Val Accuracy: 0.8452\n"
     ]
    },
    {
     "name": "stderr",
     "output_type": "stream",
     "text": [
      "100%|██████████| 51/51 [00:01<00:00, 31.55it/s]\n"
     ]
    },
    {
     "name": "stdout",
     "output_type": "stream",
     "text": [
      "Epoch 96/100 | Train Loss: 0.3213 | Val Loss: 4.3263 | Val Accuracy: 0.8472\n"
     ]
    },
    {
     "name": "stderr",
     "output_type": "stream",
     "text": [
      "100%|██████████| 51/51 [00:01<00:00, 27.22it/s]\n"
     ]
    },
    {
     "name": "stdout",
     "output_type": "stream",
     "text": [
      "Epoch 97/100 | Train Loss: 0.3206 | Val Loss: 4.3204 | Val Accuracy: 0.8448\n",
      "Edge metrics: tensor([0.0000, 0.0000, 0.0000, 0.0000, 0.0000, 0.0000, 0.0000, 0.0000, 0.0000,\n",
      "        0.0000, 0.0000, 0.0723, 0.0000, 0.0000, 0.0000, 0.0000, 0.0916, 0.0000,\n",
      "        0.0000, 0.0000, 0.0119, 0.0000, 0.0647, 0.0000, 0.0000, 0.0000, 0.0000,\n",
      "        0.0000, 0.0000, 0.0000, 0.0000, 0.0000, 0.0000, 0.0000, 0.0000, 0.0000,\n",
      "        0.0320, 0.0000, 0.0000, 0.0000, 0.0000, 0.0000, 0.0000, 0.0000, 0.0000,\n",
      "        0.0000, 0.0000, 0.0000, 0.0000, 0.0000, 0.0000, 0.0000, 0.0000, 0.0000,\n",
      "        0.0000, 0.0000, 0.0000, 0.0000, 0.0000, 0.0000, 0.0000, 0.0000, 0.0000,\n",
      "        0.0000, 0.0000, 0.0000, 0.0000, 0.0000, 0.0000, 0.0000, 0.0000, 0.0762,\n",
      "        0.0000, 0.0527, 0.0470, 0.1748, 0.1827, 0.1156, 0.0052, 0.0801, 0.0000,\n",
      "        0.1322, 0.0000, 0.0000, 0.0477, 0.0689, 0.0434, 0.0000, 0.1811, 0.0000,\n",
      "        0.0000, 0.0462, 0.0844, 0.0000, 0.0000, 0.0507, 0.0000, 0.0000, 0.0000,\n",
      "        0.0000, 0.0000, 0.0364, 0.0000, 0.0000, 0.0806, 0.0000, 0.1363, 0.0824,\n",
      "        0.0800, 0.0000, 0.0000, 0.1992, 0.1771, 0.0494, 0.0631, 0.0000, 0.0201,\n",
      "        0.0419, 0.1056, 0.2209, 0.0000, 0.0872, 0.0213, 0.1042, 0.1974, 0.1830,\n",
      "        0.0000, 0.1626, 0.0844, 0.0203, 0.0000, 0.0000, 0.0454, 0.0000, 0.0350,\n",
      "        0.2082, 0.1068, 0.0199, 0.0556, 0.1011, 0.0000, 0.1799, 0.0923, 0.1287,\n",
      "        0.0525, 0.2642, 0.0698, 0.1724, 0.2162, 0.1895, 0.0852, 0.0649, 0.1126,\n",
      "        0.0780, 0.2376, 0.0709, 0.1351, 0.0844, 0.1124, 0.2915, 0.2159, 0.0118,\n",
      "        0.1839, 0.1316, 0.0290, 0.1189, 0.0688, 0.0511, 0.1576, 0.0705, 0.1000,\n",
      "        0.1915, 0.2536, 0.1854, 0.0601, 0.2250, 0.1742, 0.1326, 0.2435, 0.0987,\n",
      "        0.1363, 0.2175, 0.0985, 0.1883, 0.1617, 0.0575, 0.0747, 0.1582, 0.0309,\n",
      "        0.1416, 0.1522, 0.1162, 0.1289, 0.1823, 0.2604, 0.1480, 0.0958, 0.0732,\n",
      "        0.1429, 0.2687, 0.0385, 0.1575, 0.1848, 0.1360, 0.1108, 0.0636, 0.0918,\n",
      "        0.2502, 0.1532, 0.1719, 0.2671, 0.2233, 0.0768, 0.1055, 0.1084, 0.0708,\n",
      "        0.1549, 0.0674, 0.0568, 0.0718, 0.0974, 0.1543, 0.0280, 0.0542, 0.1238,\n",
      "        0.0758, 0.1460, 0.2166, 0.0370, 0.0698, 0.1867, 0.0941, 0.1824, 0.0452,\n",
      "        0.1633, 0.0574, 0.1700, 0.0951, 0.1253, 0.0338, 0.0769, 0.3874, 0.2120,\n",
      "        0.5914, 0.0458, 0.2133, 0.4396, 0.0857, 0.2418, 0.6878, 0.3265, 0.3736,\n",
      "        0.0871, 0.1442, 0.4732, 0.2624]) tensor(0.6878) tensor(21.9285)\n",
      "Chosen edges: tensor([[  1,   0,   0,   0,   0,   0,   1,   0,   0,   0,   0,   1,   0,   0,\n",
      "           0,   0,   0,   1,   1,   0,   1,   0,   0,   1,   0,   0,   1,   0],\n",
      "        [590, 656, 718, 722, 743, 757, 758, 785, 795, 813, 828, 860, 870, 883,\n",
      "         889, 890, 918, 934, 935, 936, 938, 939, 941, 942, 943, 944, 947, 948]]) 28\n"
     ]
    },
    {
     "name": "stderr",
     "output_type": "stream",
     "text": [
      "100%|██████████| 51/51 [00:01<00:00, 30.97it/s]\n"
     ]
    },
    {
     "name": "stdout",
     "output_type": "stream",
     "text": [
      "Epoch 98/100 | Train Loss: 0.3336 | Val Loss: 4.3907 | Val Accuracy: 0.8423\n"
     ]
    },
    {
     "name": "stderr",
     "output_type": "stream",
     "text": [
      "100%|██████████| 51/51 [00:01<00:00, 30.90it/s]\n"
     ]
    },
    {
     "name": "stdout",
     "output_type": "stream",
     "text": [
      "Epoch 99/100 | Train Loss: 0.3253 | Val Loss: 4.3479 | Val Accuracy: 0.8432\n"
     ]
    },
    {
     "name": "stderr",
     "output_type": "stream",
     "text": [
      "100%|██████████| 51/51 [00:01<00:00, 30.56it/s]\n"
     ]
    },
    {
     "name": "stdout",
     "output_type": "stream",
     "text": [
      "Epoch 100/100 | Train Loss: 0.3227 | Val Loss: 4.3321 | Val Accuracy: 0.8435\n"
     ]
    }
   ],
   "execution_count": 12
  },
  {
   "metadata": {
    "ExecuteTime": {
     "end_time": "2024-12-17T13:29:35.738469Z",
     "start_time": "2024-12-17T13:29:35.734730Z"
    }
   },
   "cell_type": "code",
   "source": "",
   "id": "533bf1b57447aa62",
   "outputs": [],
   "execution_count": null
  }
 ],
 "metadata": {
  "kernelspec": {
   "display_name": "Python 3",
   "language": "python",
   "name": "python3"
  },
  "language_info": {
   "codemirror_mode": {
    "name": "ipython",
    "version": 2
   },
   "file_extension": ".py",
   "mimetype": "text/x-python",
   "name": "python",
   "nbconvert_exporter": "python",
   "pygments_lexer": "ipython2",
   "version": "2.7.6"
  }
 },
 "nbformat": 4,
 "nbformat_minor": 5
}
