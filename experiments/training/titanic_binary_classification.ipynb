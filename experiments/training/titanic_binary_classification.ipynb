{
 "cells": [
  {
   "cell_type": "code",
   "execution_count": 28,
   "id": "initial_id",
   "metadata": {
    "ExecuteTime": {
     "end_time": "2025-02-03T17:00:55.466446Z",
     "start_time": "2025-02-03T17:00:52.143161Z"
    },
    "collapsed": true
   },
   "outputs": [],
   "source": [
    "import pandas as pd\n",
    "import torch\n",
    "import torch.nn as nn\n",
    "import torch.optim as optim\n",
    "from sklearn.metrics import accuracy_score\n",
    "from sklearn.model_selection import train_test_split\n",
    "from sklearn.preprocessing import StandardScaler\n",
    "from torch.utils.data import DataLoader, Dataset\n",
    "from tqdm import tqdm"
   ]
  },
  {
   "cell_type": "code",
   "execution_count": 29,
   "id": "851a61bbbac63426",
   "metadata": {
    "ExecuteTime": {
     "end_time": "2025-02-03T17:00:55.481102Z",
     "start_time": "2025-02-03T17:00:55.470465Z"
    }
   },
   "outputs": [],
   "source": [
    "from senmodel.model.utils import *\n",
    "from senmodel.metrics.nonlinearity_metrics import *\n",
    "from senmodel.metrics.edge_finder import *\n",
    "from senmodel.metrics.train_metrics import *\n",
    "from senmodel.train.train import *"
   ]
  },
  {
   "cell_type": "code",
   "execution_count": 30,
   "id": "ed98f9250fb9b52",
   "metadata": {
    "ExecuteTime": {
     "end_time": "2025-02-03T17:00:55.645187Z",
     "start_time": "2025-02-03T17:00:55.641678Z"
    }
   },
   "outputs": [],
   "source": [
    "device = torch.device(\"cuda\" if torch.cuda.is_available() else \"cpu\")"
   ]
  },
  {
   "cell_type": "code",
   "execution_count": 31,
   "id": "8a1c4b0b6e33d5a4",
   "metadata": {
    "ExecuteTime": {
     "end_time": "2025-02-03T17:01:00.424881Z",
     "start_time": "2025-02-03T17:00:55.653295Z"
    }
   },
   "outputs": [],
   "source": [
    "from sklearn.preprocessing import LabelEncoder\n",
    "\n",
    "url = \"https://archive.ics.uci.edu/ml/machine-learning-databases/adult/adult.data\"\n",
    "columns = [\n",
    "    'age', 'workclass', 'fnlwgt', 'education', 'education-num', 'marital-status',\n",
    "    'occupation', 'relationship', 'race', 'sex', 'capital-gain', 'capital-loss',\n",
    "    'hours-per-week', 'native-country', 'income'\n",
    "]\n",
    "data = pd.read_csv(url, names=columns, na_values=\" ?\", skipinitialspace=True)\n",
    "data = data.dropna()\n",
    "\n",
    "X = data.drop('income', axis=1)\n",
    "y = data['income']\n",
    "\n",
    "for col in X.select_dtypes(include=['object']).columns:\n",
    "    X[col] = LabelEncoder().fit_transform(X[col])\n",
    "\n",
    "y = LabelEncoder().fit_transform(y)\n",
    "\n",
    "scaler = StandardScaler()\n",
    "X = scaler.fit_transform(X)\n",
    "\n",
    "X_train, X_val, y_train, y_val = train_test_split(X, y, test_size=0.2, random_state=0)\n"
   ]
  },
  {
   "cell_type": "code",
   "execution_count": 32,
   "id": "d7d9e408b16a7a6a",
   "metadata": {
    "ExecuteTime": {
     "end_time": "2025-02-03T17:01:00.446010Z",
     "start_time": "2025-02-03T17:01:00.440983Z"
    }
   },
   "outputs": [],
   "source": [
    "class TabularDataset(Dataset):\n",
    "    def __init__(self, features, targets):\n",
    "        self.features = torch.tensor(features, dtype=torch.float32)\n",
    "        self.targets = torch.tensor(targets, dtype=torch.long)\n",
    "\n",
    "    def __len__(self):\n",
    "        return len(self.targets)\n",
    "\n",
    "    def __getitem__(self, idx):\n",
    "        return self.features[idx], self.targets[idx]"
   ]
  },
  {
   "cell_type": "code",
   "execution_count": 33,
   "id": "183cc85a9b097f1",
   "metadata": {
    "ExecuteTime": {
     "end_time": "2025-02-03T17:01:00.468426Z",
     "start_time": "2025-02-03T17:01:00.460642Z"
    }
   },
   "outputs": [],
   "source": [
    "train_dataset = TabularDataset(X_train, y_train)\n",
    "val_dataset = TabularDataset(X_val, y_val)\n",
    "\n",
    "train_loader = DataLoader(train_dataset, batch_size=512, shuffle=True)\n",
    "val_loader = DataLoader(val_dataset, batch_size=512, shuffle=False)"
   ]
  },
  {
   "cell_type": "code",
   "execution_count": 34,
   "id": "5cc8e387",
   "metadata": {},
   "outputs": [],
   "source": [
    "class EnhancedFCN(nn.Module):\n",
    "    def __init__(self, input_size=14, hidden_size=32):\n",
    "        super(EnhancedFCN, self).__init__()\n",
    "        self.fc0 = nn.Linear(input_size, hidden_size)\n",
    "        self.fc1 = nn.Linear(hidden_size, 2)\n",
    "        self.act = nn.ReLU()\n",
    "\n",
    "    def forward(self, x):\n",
    "        x = self.fc1(self.act(self.fc0(x)))\n",
    "        return x"
   ]
  },
  {
   "cell_type": "code",
   "execution_count": 35,
   "id": "c813771bca507d71",
   "metadata": {
    "ExecuteTime": {
     "end_time": "2025-02-03T17:01:03.478100Z",
     "start_time": "2025-02-03T17:01:00.583143Z"
    }
   },
   "outputs": [
    {
     "name": "stderr",
     "output_type": "stream",
     "text": [
      "\u001b[34m\u001b[1mwandb\u001b[0m: \u001b[33mWARNING\u001b[0m Calling wandb.login() after wandb.init() has no effect.\n"
     ]
    },
    {
     "data": {
      "text/plain": [
       "True"
      ]
     },
     "execution_count": 35,
     "metadata": {},
     "output_type": "execute_result"
    }
   ],
   "source": [
    "import wandb\n",
    "\n",
    "wandb.login()"
   ]
  },
  {
   "cell_type": "code",
   "execution_count": 40,
   "id": "a10df7d34ecdcb18",
   "metadata": {
    "ExecuteTime": {
     "end_time": "2025-02-03T17:01:03.513538Z",
     "start_time": "2025-02-03T17:01:03.507507Z"
    }
   },
   "outputs": [
    {
     "data": {
      "text/plain": [
       "\"num_epochs: 64, batch_size: 512, metric: AbsGradientEdgeMetric, aggregation_mode: mean, choose_thresholds: {'fc0': 0.7}, choose_thresholds_del: {'fc0': 0.1}, threshold: 0.01, min_delta_epoch_replace: 8, window_size: 5, lr: 0.0001, delete_after: 2, task_type: classification, fully_connected: False, max_to_replace: 900\""
      ]
     },
     "execution_count": 40,
     "metadata": {},
     "output_type": "execute_result"
    }
   ],
   "source": [
    "hyperparams = {\n",
    "    \"num_epochs\": 64,\n",
    "    \"batch_size\": 512,\n",
    "    \"metric\": AbsGradientEdgeMetric(nn.CrossEntropyLoss()),\n",
    "    \"aggregation_mode\": \"mean\",\n",
    "    \"choose_thresholds\": {\"fc0\": 0.7}, # 0.0 -> all edges, 1.0 -> no edges \n",
    "    \"choose_thresholds_del\": {\"fc0\": 0.1}, # 1.0 -> all edges, 0.0 -> no edges\n",
    "    \"threshold\": 0.01,\n",
    "    \"min_delta_epoch_replace\": 8,\n",
    "    \"window_size\": 5,\n",
    "    \"lr\": 1e-4,\n",
    "    \"delete_after\": 2,    \n",
    "    \"task_type\": \"classification\",\n",
    "    \"fully_connected\": False,\n",
    "    \"max_to_replace\": 900 # None -> no limit\n",
    "}\n",
    "\n",
    "name = \", \".join(\n",
    "    f\"{key}: {value.__class__.__name__ if key == 'metric' else value}\"\n",
    "    for key, value in hyperparams.items()\n",
    ")\n",
    "\n",
    "name"
   ]
  },
  {
   "cell_type": "code",
   "execution_count": 41,
   "id": "45fe9040816bb570",
   "metadata": {
    "ExecuteTime": {
     "end_time": "2025-02-03T17:06:25.353070Z",
     "start_time": "2025-02-03T17:01:03.649616Z"
    }
   },
   "outputs": [
    {
     "data": {
      "text/html": [],
      "text/plain": [
       "<IPython.core.display.HTML object>"
      ]
     },
     "metadata": {},
     "output_type": "display_data"
    },
    {
     "data": {
      "text/html": [
       "<br>    <style><br>        .wandb-row {<br>            display: flex;<br>            flex-direction: row;<br>            flex-wrap: wrap;<br>            justify-content: flex-start;<br>            width: 100%;<br>        }<br>        .wandb-col {<br>            display: flex;<br>            flex-direction: column;<br>            flex-basis: 100%;<br>            flex: 1;<br>            padding: 10px;<br>        }<br>    </style><br><div class=\"wandb-row\"><div class=\"wandb-col\"><h3>Run history:</h3><br/><table class=\"wandb\"><tr><td>acc amount</td><td>▇████████▃▃▃▃▃▃▃▃▃▂▂▂▂▂▂▂▂▂▁▁▁▁</td></tr><tr><td>len_choose</td><td>▅▁█</td></tr><tr><td>lr</td><td>▁▁▁▁▁▁▁▁▁▁▁▁▁▁▁▁▁▁▁▁▁▁▁▁▁▁▁▁▁▁▁</td></tr><tr><td>n_params over train_time</td><td>▁▂▁▂▁▂▂▂▁▆▅▄▄▄▄▂▄▄▇▆▅▅▆▆▅▅▃█▇▅▅</td></tr><tr><td>params amount</td><td>▁▁▁▁▁▁▁▁▁▄▄▃▃▃▃▃▃▃▆▆▅▅▅▅▅▅▅████</td></tr><tr><td>params ratio</td><td>▇▇▇▇▅▃▃▁▃▇▇█▅▆▆▇▆▆▆▆██▇▇▇▇█▇▇██</td></tr><tr><td>params to replace amount</td><td>▁▁▁▁▃▅▄▆▅▃▂▁▇▅▄▂▅▅▆█▂▂▄▃▄▃▂▆▆▂▁</td></tr><tr><td>train loss</td><td>█▄▃▂▂▂▂▂▂▁▁▁▁▁▁▁▁▁▁▁▁▁▁▁▁▁▁▁▁▁▁</td></tr><tr><td>train time</td><td>▃▁▂▁▂▁▁▁▂▂▂▃▂▂▂▆▃▃▃▃▄▄▃▃▃▄▇▄▅▇█</td></tr><tr><td>train_time over n_params</td><td>█▅▆▆▆▅▅▅▇▂▂▃▂▂▂▄▃▃▁▁▂▂▂▂▂▂▃▁▁▂▂</td></tr><tr><td>val accuracy</td><td>▁▄▅▆▆▆▇▇▇▇▇████████████████████</td></tr><tr><td>val loss</td><td>█▅▄▃▃▂▂▂▂▂▁▁▁▁▁▁▁▁▁▁▁▁▁▁▁▁▁▁▁▁▁</td></tr></table><br/></div><div class=\"wandb-col\"><h3>Run summary:</h3><br/><table class=\"wandb\"><tr><td>acc amount</td><td>0.00028</td></tr><tr><td>len_choose</td><td>24</td></tr><tr><td>lr</td><td>0.001</td></tr><tr><td>n_params over train_time</td><td>2763.99945</td></tr><tr><td>params amount</td><td>3033</td></tr><tr><td>params ratio</td><td>0.99901</td></tr><tr><td>params to replace amount</td><td>3</td></tr><tr><td>train loss</td><td>0.31817</td></tr><tr><td>train time</td><td>1.09732</td></tr><tr><td>train_time over n_params</td><td>0.00036</td></tr><tr><td>val accuracy</td><td>0.84339</td></tr><tr><td>val loss</td><td>0.33004</td></tr></table><br/></div></div>"
      ],
      "text/plain": [
       "<IPython.core.display.HTML object>"
      ]
     },
     "metadata": {},
     "output_type": "display_data"
    },
    {
     "data": {
      "text/html": [
       " View run <strong style=\"color:#cdcd00\">titanic, num_epochs: 64, batch_size: 512, metric: AbsGradientEdgeMetric, aggregation_mode: mean, choose_thresholds: {'fc0': 0.7}, choose_thresholds_del: {'fc0': 0.1}, threshold: 0.01, min_delta_epoch_replace: 8, window_size: 5, lr: 0.001, delete_after: 2, task_type: classification, fully_connected: False, max_to_replace: 900</strong> at: <a href='https://wandb.ai/fedornigretuk/self-expanding-nets-titanic/runs/rl1ftxtn' target=\"_blank\">https://wandb.ai/fedornigretuk/self-expanding-nets-titanic/runs/rl1ftxtn</a><br> View project at: <a href='https://wandb.ai/fedornigretuk/self-expanding-nets-titanic' target=\"_blank\">https://wandb.ai/fedornigretuk/self-expanding-nets-titanic</a><br>Synced 5 W&B file(s), 0 media file(s), 0 artifact file(s) and 0 other file(s)"
      ],
      "text/plain": [
       "<IPython.core.display.HTML object>"
      ]
     },
     "metadata": {},
     "output_type": "display_data"
    },
    {
     "data": {
      "text/html": [
       "Find logs at: <code>.\\wandb\\run-20250428_160303-rl1ftxtn\\logs</code>"
      ],
      "text/plain": [
       "<IPython.core.display.HTML object>"
      ]
     },
     "metadata": {},
     "output_type": "display_data"
    },
    {
     "data": {
      "text/html": [
       "Tracking run with wandb version 0.19.8"
      ],
      "text/plain": [
       "<IPython.core.display.HTML object>"
      ]
     },
     "metadata": {},
     "output_type": "display_data"
    },
    {
     "data": {
      "text/html": [
       "Run data is saved locally in <code>d:\\Coding\\PY\\self-expanding-nets\\experiments\\training\\wandb\\run-20250428_160413-7potc3td</code>"
      ],
      "text/plain": [
       "<IPython.core.display.HTML object>"
      ]
     },
     "metadata": {},
     "output_type": "display_data"
    },
    {
     "data": {
      "text/html": [
       "Syncing run <strong><a href='https://wandb.ai/fedornigretuk/self-expanding-nets-titanic/runs/7potc3td' target=\"_blank\">titanic, num_epochs: 64, batch_size: 512, metric: AbsGradientEdgeMetric, aggregation_mode: mean, choose_thresholds: {'fc0': 0.7}, choose_thresholds_del: {'fc0': 0.1}, threshold: 0.01, min_delta_epoch_replace: 8, window_size: 5, lr: 0.0001, delete_after: 2, task_type: classification, fully_connected: False, max_to_replace: 900</a></strong> to <a href='https://wandb.ai/fedornigretuk/self-expanding-nets-titanic' target=\"_blank\">Weights & Biases</a> (<a href='https://wandb.me/developer-guide' target=\"_blank\">docs</a>)<br>"
      ],
      "text/plain": [
       "<IPython.core.display.HTML object>"
      ]
     },
     "metadata": {},
     "output_type": "display_data"
    },
    {
     "data": {
      "text/html": [
       " View project at <a href='https://wandb.ai/fedornigretuk/self-expanding-nets-titanic' target=\"_blank\">https://wandb.ai/fedornigretuk/self-expanding-nets-titanic</a>"
      ],
      "text/plain": [
       "<IPython.core.display.HTML object>"
      ]
     },
     "metadata": {},
     "output_type": "display_data"
    },
    {
     "data": {
      "text/html": [
       " View run at <a href='https://wandb.ai/fedornigretuk/self-expanding-nets-titanic/runs/7potc3td' target=\"_blank\">https://wandb.ai/fedornigretuk/self-expanding-nets-titanic/runs/7potc3td</a>"
      ],
      "text/plain": [
       "<IPython.core.display.HTML object>"
      ]
     },
     "metadata": {},
     "output_type": "display_data"
    },
    {
     "data": {
      "text/html": [
       "<button onClick=\"this.nextSibling.style.display='block';this.style.display='none';\">Display W&B run</button><iframe src='https://wandb.ai/fedornigretuk/self-expanding-nets-titanic/runs/7potc3td?jupyter=true' style='border:none;width:100%;height:420px;display:none;'></iframe>"
      ],
      "text/plain": [
       "<wandb.sdk.wandb_run.Run at 0x25792682030>"
      ]
     },
     "execution_count": 41,
     "metadata": {},
     "output_type": "execute_result"
    }
   ],
   "source": [
    "dense_model = EnhancedFCN()\n",
    "sparse_model = convert_dense_to_sparse_network(dense_model, layers=[dense_model.fc0, dense_model.fc1])\n",
    "wandb.finish()\n",
    "wandb.init(\n",
    "    project=\"self-expanding-nets-titanic\",\n",
    "    name=f\"titanic, {name}\",\n",
    "    tags=[\"complex model\", \"titanic\", \"multiclass\", hyperparams[\"metric\"].__class__.__name__],\n",
    ")"
   ]
  },
  {
   "cell_type": "code",
   "execution_count": null,
   "id": "533bf1b57447aa62",
   "metadata": {
    "ExecuteTime": {
     "end_time": "2025-02-03T17:06:25.386851900Z",
     "start_time": "2025-02-03T16:51:42.648819Z"
    }
   },
   "outputs": [
    {
     "name": "stderr",
     "output_type": "stream",
     "text": [
      "100%|██████████| 51/51 [00:00<00:00, 110.95it/s]\n"
     ]
    },
    {
     "name": "stdout",
     "output_type": "stream",
     "text": [
      "Epoch 1/64, Train Loss: 0.7693, Val Loss: 0.7440, Val Accuracy: 0.3832\n"
     ]
    },
    {
     "name": "stderr",
     "output_type": "stream",
     "text": [
      "100%|██████████| 51/51 [00:00<00:00, 125.68it/s]\n"
     ]
    },
    {
     "name": "stdout",
     "output_type": "stream",
     "text": [
      "Epoch 2/64, Train Loss: 0.7265, Val Loss: 0.7051, Val Accuracy: 0.4798\n"
     ]
    },
    {
     "name": "stderr",
     "output_type": "stream",
     "text": [
      "100%|██████████| 51/51 [00:00<00:00, 103.97it/s]\n"
     ]
    },
    {
     "name": "stdout",
     "output_type": "stream",
     "text": [
      "Epoch 3/64, Train Loss: 0.6892, Val Loss: 0.6713, Val Accuracy: 0.5724\n"
     ]
    },
    {
     "name": "stderr",
     "output_type": "stream",
     "text": [
      "100%|██████████| 51/51 [00:00<00:00, 106.03it/s]\n"
     ]
    },
    {
     "name": "stdout",
     "output_type": "stream",
     "text": [
      "Epoch 4/64, Train Loss: 0.6567, Val Loss: 0.6418, Val Accuracy: 0.6484\n"
     ]
    },
    {
     "name": "stderr",
     "output_type": "stream",
     "text": [
      "100%|██████████| 51/51 [00:00<00:00, 115.73it/s]\n"
     ]
    },
    {
     "name": "stdout",
     "output_type": "stream",
     "text": [
      "Epoch 5/64, Train Loss: 0.6283, Val Loss: 0.6161, Val Accuracy: 0.7057\n"
     ]
    },
    {
     "name": "stderr",
     "output_type": "stream",
     "text": [
      "100%|██████████| 51/51 [00:00<00:00, 114.53it/s]\n"
     ]
    },
    {
     "name": "stdout",
     "output_type": "stream",
     "text": [
      "Epoch 6/64, Train Loss: 0.6035, Val Loss: 0.5935, Val Accuracy: 0.7451\n"
     ]
    },
    {
     "name": "stderr",
     "output_type": "stream",
     "text": [
      "100%|██████████| 51/51 [00:00<00:00, 133.38it/s]\n"
     ]
    },
    {
     "name": "stdout",
     "output_type": "stream",
     "text": [
      "Epoch 7/64, Train Loss: 0.5817, Val Loss: 0.5737, Val Accuracy: 0.7752\n"
     ]
    },
    {
     "name": "stderr",
     "output_type": "stream",
     "text": [
      "100%|██████████| 51/51 [00:00<00:00, 111.76it/s]\n"
     ]
    },
    {
     "name": "stdout",
     "output_type": "stream",
     "text": [
      "Epoch 8/64, Train Loss: 0.5626, Val Loss: 0.5562, Val Accuracy: 0.7826\n"
     ]
    },
    {
     "name": "stderr",
     "output_type": "stream",
     "text": [
      "100%|██████████| 51/51 [00:00<00:00, 93.22it/s]\n"
     ]
    },
    {
     "name": "stdout",
     "output_type": "stream",
     "text": [
      "Epoch 9/64, Train Loss: 0.5456, Val Loss: 0.5409, Val Accuracy: 0.7834\n"
     ]
    },
    {
     "name": "stderr",
     "output_type": "stream",
     "text": [
      "100%|██████████| 51/51 [00:00<00:00, 98.64it/s] \n"
     ]
    },
    {
     "name": "stdout",
     "output_type": "stream",
     "text": [
      "Epoch 10/64, Train Loss: 0.5306, Val Loss: 0.5272, Val Accuracy: 0.7829\n"
     ]
    },
    {
     "name": "stderr",
     "output_type": "stream",
     "text": [
      "100%|██████████| 51/51 [00:00<00:00, 97.94it/s] \n"
     ]
    },
    {
     "name": "stdout",
     "output_type": "stream",
     "text": [
      "Epoch 11/64, Train Loss: 0.5171, Val Loss: 0.5149, Val Accuracy: 0.7815\n"
     ]
    },
    {
     "name": "stderr",
     "output_type": "stream",
     "text": [
      "100%|██████████| 51/51 [00:00<00:00, 108.49it/s]\n"
     ]
    },
    {
     "name": "stdout",
     "output_type": "stream",
     "text": [
      "Epoch 12/64, Train Loss: 0.5052, Val Loss: 0.5040, Val Accuracy: 0.7827\n"
     ]
    },
    {
     "name": "stderr",
     "output_type": "stream",
     "text": [
      "100%|██████████| 51/51 [00:00<00:00, 105.25it/s]\n"
     ]
    },
    {
     "name": "stdout",
     "output_type": "stream",
     "text": [
      "Epoch 13/64, Train Loss: 0.4942, Val Loss: 0.4941, Val Accuracy: 0.7837\n"
     ]
    },
    {
     "name": "stderr",
     "output_type": "stream",
     "text": [
      "100%|██████████| 51/51 [00:00<00:00, 94.63it/s]\n"
     ]
    },
    {
     "name": "stdout",
     "output_type": "stream",
     "text": [
      "Epoch 14/64, Train Loss: 0.4843, Val Loss: 0.4851, Val Accuracy: 0.7864\n"
     ]
    },
    {
     "name": "stderr",
     "output_type": "stream",
     "text": [
      "100%|██████████| 51/51 [00:00<00:00, 85.91it/s]\n"
     ]
    },
    {
     "name": "stdout",
     "output_type": "stream",
     "text": [
      "Epoch 15/64, Train Loss: 0.4753, Val Loss: 0.4769, Val Accuracy: 0.7893\n"
     ]
    },
    {
     "name": "stderr",
     "output_type": "stream",
     "text": [
      "100%|██████████| 51/51 [00:00<00:00, 114.45it/s]\n"
     ]
    },
    {
     "name": "stdout",
     "output_type": "stream",
     "text": [
      "Epoch 16/64, Train Loss: 0.4673, Val Loss: 0.4694, Val Accuracy: 0.7933\n",
      "Chosen edges: tensor([[ 6, 17],\n",
      "        [10, 10]]) 2\n"
     ]
    },
    {
     "name": "stderr",
     "output_type": "stream",
     "text": [
      "100%|██████████| 51/51 [00:00<00:00, 113.90it/s]\n"
     ]
    },
    {
     "name": "stdout",
     "output_type": "stream",
     "text": [
      "Epoch 17/64, Train Loss: 0.4598, Val Loss: 0.4635, Val Accuracy: 0.8002\n"
     ]
    },
    {
     "name": "stderr",
     "output_type": "stream",
     "text": [
      "100%|██████████| 51/51 [00:00<00:00, 103.23it/s]\n"
     ]
    },
    {
     "name": "stdout",
     "output_type": "stream",
     "text": [
      "Epoch 18/64, Train Loss: 0.4547, Val Loss: 0.4588, Val Accuracy: 0.8058\n",
      "torch.Size([4]) torch.Size([510])\n",
      "combined_metrics torch.Size([514])\n",
      "mask torch.Size([514])\n",
      "tensor(396)\n",
      "num_emb_edges 4\n",
      "tensor(1) tensor(22)\n",
      "Chosen edges to del emb: tensor([[ 0],\n",
      "        [10]], dtype=torch.int32) 1\n",
      "Chosen edges to del exp: tensor([[ 0,  1,  3,  7,  9, 16, 17, 19, 23, 24, 31,  0,  1,  3,  6,  7,  9, 16,\n",
      "         19, 23, 24, 31],\n",
      "        [14, 14, 14, 14, 14, 14, 14, 14, 14, 14, 14, 15, 15, 15, 15, 15, 15, 15,\n",
      "         15, 15, 15, 15]]) 22\n"
     ]
    },
    {
     "name": "stderr",
     "output_type": "stream",
     "text": [
      "100%|██████████| 51/51 [00:00<00:00, 98.45it/s] \n"
     ]
    },
    {
     "name": "stdout",
     "output_type": "stream",
     "text": [
      "Epoch 19/64, Train Loss: 0.4503, Val Loss: 0.4551, Val Accuracy: 0.8076\n"
     ]
    },
    {
     "name": "stderr",
     "output_type": "stream",
     "text": [
      "100%|██████████| 51/51 [00:00<00:00, 103.33it/s]\n"
     ]
    },
    {
     "name": "stdout",
     "output_type": "stream",
     "text": [
      "Epoch 20/64, Train Loss: 0.4467, Val Loss: 0.4518, Val Accuracy: 0.8105\n"
     ]
    },
    {
     "name": "stderr",
     "output_type": "stream",
     "text": [
      "100%|██████████| 51/51 [00:00<00:00, 106.77it/s]\n"
     ]
    },
    {
     "name": "stdout",
     "output_type": "stream",
     "text": [
      "Epoch 21/64, Train Loss: 0.4434, Val Loss: 0.4486, Val Accuracy: 0.8130\n"
     ]
    },
    {
     "name": "stderr",
     "output_type": "stream",
     "text": [
      "100%|██████████| 51/51 [00:00<00:00, 91.04it/s] \n"
     ]
    },
    {
     "name": "stdout",
     "output_type": "stream",
     "text": [
      "Epoch 22/64, Train Loss: 0.4402, Val Loss: 0.4457, Val Accuracy: 0.8151\n"
     ]
    },
    {
     "name": "stderr",
     "output_type": "stream",
     "text": [
      "100%|██████████| 51/51 [00:00<00:00, 108.19it/s]\n"
     ]
    },
    {
     "name": "stdout",
     "output_type": "stream",
     "text": [
      "Epoch 23/64, Train Loss: 0.4374, Val Loss: 0.4429, Val Accuracy: 0.8165\n"
     ]
    },
    {
     "name": "stderr",
     "output_type": "stream",
     "text": [
      "100%|██████████| 51/51 [00:00<00:00, 122.26it/s]\n"
     ]
    },
    {
     "name": "stdout",
     "output_type": "stream",
     "text": [
      "Epoch 24/64, Train Loss: 0.4345, Val Loss: 0.4402, Val Accuracy: 0.8173\n"
     ]
    },
    {
     "name": "stderr",
     "output_type": "stream",
     "text": [
      "100%|██████████| 51/51 [00:00<00:00, 120.84it/s]\n"
     ]
    },
    {
     "name": "stdout",
     "output_type": "stream",
     "text": [
      "Epoch 25/64, Train Loss: 0.4319, Val Loss: 0.4377, Val Accuracy: 0.8179\n",
      "Chosen edges: tensor([[ 6,  8,  8, 11, 17, 17, 17, 23, 23, 24, 24, 17],\n",
      "        [ 0,  0,  5,  0,  0,  4,  5,  4, 10,  4, 10, 15]]) 12\n"
     ]
    },
    {
     "name": "stderr",
     "output_type": "stream",
     "text": [
      "100%|██████████| 51/51 [00:00<00:00, 96.76it/s] \n"
     ]
    },
    {
     "name": "stdout",
     "output_type": "stream",
     "text": [
      "Epoch 26/64, Train Loss: 0.4300, Val Loss: 0.4345, Val Accuracy: 0.8190\n"
     ]
    },
    {
     "name": "stderr",
     "output_type": "stream",
     "text": [
      "100%|██████████| 51/51 [00:00<00:00, 76.42it/s]\n"
     ]
    },
    {
     "name": "stdout",
     "output_type": "stream",
     "text": [
      "Epoch 27/64, Train Loss: 0.4243, Val Loss: 0.4293, Val Accuracy: 0.8213\n",
      "torch.Size([72]) torch.Size([860])\n",
      "combined_metrics torch.Size([932])\n",
      "mask torch.Size([932])\n",
      "tensor(909)\n",
      "num_emb_edges 72\n",
      "tensor(18) tensor(0)\n",
      "Chosen edges to del emb: tensor([[ 2,  2,  2,  4,  4,  4,  6,  6,  6,  6,  8,  8,  9,  9,  9, 10, 10, 10],\n",
      "        [ 0,  5, 10,  4, 10, 15,  0,  4,  5, 10, 10, 15,  4, 10, 15,  4, 10, 15]],\n",
      "       dtype=torch.int32) 18\n",
      "Chosen edges to del exp: tensor([], size=(2, 0), dtype=torch.int64) 0\n"
     ]
    },
    {
     "name": "stderr",
     "output_type": "stream",
     "text": [
      "100%|██████████| 51/51 [00:00<00:00, 106.64it/s]\n"
     ]
    },
    {
     "name": "stdout",
     "output_type": "stream",
     "text": [
      "Epoch 28/64, Train Loss: 0.4338, Val Loss: 0.4388, Val Accuracy: 0.8205\n"
     ]
    },
    {
     "name": "stderr",
     "output_type": "stream",
     "text": [
      "100%|██████████| 51/51 [00:00<00:00, 86.44it/s] \n"
     ]
    },
    {
     "name": "stdout",
     "output_type": "stream",
     "text": [
      "Epoch 29/64, Train Loss: 0.4302, Val Loss: 0.4356, Val Accuracy: 0.8220\n"
     ]
    },
    {
     "name": "stderr",
     "output_type": "stream",
     "text": [
      "100%|██████████| 51/51 [00:00<00:00, 103.89it/s]\n"
     ]
    },
    {
     "name": "stdout",
     "output_type": "stream",
     "text": [
      "Epoch 30/64, Train Loss: 0.4270, Val Loss: 0.4325, Val Accuracy: 0.8230\n"
     ]
    },
    {
     "name": "stderr",
     "output_type": "stream",
     "text": [
      "100%|██████████| 51/51 [00:00<00:00, 99.68it/s] \n"
     ]
    },
    {
     "name": "stdout",
     "output_type": "stream",
     "text": [
      "Epoch 31/64, Train Loss: 0.4240, Val Loss: 0.4296, Val Accuracy: 0.8234\n"
     ]
    },
    {
     "name": "stderr",
     "output_type": "stream",
     "text": [
      "100%|██████████| 51/51 [00:00<00:00, 87.59it/s] \n"
     ]
    },
    {
     "name": "stdout",
     "output_type": "stream",
     "text": [
      "Epoch 32/64, Train Loss: 0.4210, Val Loss: 0.4269, Val Accuracy: 0.8245\n"
     ]
    },
    {
     "name": "stderr",
     "output_type": "stream",
     "text": [
      "100%|██████████| 51/51 [00:00<00:00, 92.84it/s]\n"
     ]
    },
    {
     "name": "stdout",
     "output_type": "stream",
     "text": [
      "Epoch 33/64, Train Loss: 0.4182, Val Loss: 0.4243, Val Accuracy: 0.8245\n"
     ]
    },
    {
     "name": "stderr",
     "output_type": "stream",
     "text": [
      "100%|██████████| 51/51 [00:00<00:00, 82.33it/s]\n"
     ]
    },
    {
     "name": "stdout",
     "output_type": "stream",
     "text": [
      "Epoch 34/64, Train Loss: 0.4156, Val Loss: 0.4219, Val Accuracy: 0.8259\n",
      "Chosen edges: tensor([[ 6, 11, 15, 30, 30],\n",
      "        [ 5,  5,  0,  0,  5]]) 5\n"
     ]
    },
    {
     "name": "stderr",
     "output_type": "stream",
     "text": [
      "100%|██████████| 51/51 [00:00<00:00, 79.97it/s]\n"
     ]
    },
    {
     "name": "stdout",
     "output_type": "stream",
     "text": [
      "Epoch 35/64, Train Loss: 0.4110, Val Loss: 0.4165, Val Accuracy: 0.8265\n"
     ]
    },
    {
     "name": "stderr",
     "output_type": "stream",
     "text": [
      "100%|██████████| 51/51 [00:00<00:00, 70.25it/s]\n"
     ]
    },
    {
     "name": "stdout",
     "output_type": "stream",
     "text": [
      "Epoch 36/64, Train Loss: 0.4067, Val Loss: 0.4126, Val Accuracy: 0.8279\n",
      "torch.Size([15]) torch.Size([1015])\n",
      "combined_metrics torch.Size([1030])\n",
      "mask torch.Size([1030])\n",
      "tensor(1021)\n",
      "num_emb_edges 15\n",
      "tensor(6) tensor(0)\n",
      "Chosen edges to del emb: tensor([[0, 0, 1, 1, 4, 4],\n",
      "        [0, 5, 0, 5, 0, 5]], dtype=torch.int32) 6\n",
      "Chosen edges to del exp: tensor([], size=(2, 0), dtype=torch.int64) 0\n"
     ]
    },
    {
     "name": "stderr",
     "output_type": "stream",
     "text": [
      "100%|██████████| 51/51 [00:00<00:00, 78.28it/s]\n"
     ]
    },
    {
     "name": "stdout",
     "output_type": "stream",
     "text": [
      "Epoch 37/64, Train Loss: 0.4179, Val Loss: 0.4237, Val Accuracy: 0.8263\n"
     ]
    },
    {
     "name": "stderr",
     "output_type": "stream",
     "text": [
      "100%|██████████| 51/51 [00:00<00:00, 83.71it/s]\n"
     ]
    },
    {
     "name": "stdout",
     "output_type": "stream",
     "text": [
      "Epoch 38/64, Train Loss: 0.4153, Val Loss: 0.4214, Val Accuracy: 0.8268\n"
     ]
    },
    {
     "name": "stderr",
     "output_type": "stream",
     "text": [
      "100%|██████████| 51/51 [00:00<00:00, 71.99it/s]\n"
     ]
    },
    {
     "name": "stdout",
     "output_type": "stream",
     "text": [
      "Epoch 39/64, Train Loss: 0.4128, Val Loss: 0.4192, Val Accuracy: 0.8271\n"
     ]
    },
    {
     "name": "stderr",
     "output_type": "stream",
     "text": [
      "100%|██████████| 51/51 [00:00<00:00, 85.86it/s]\n"
     ]
    },
    {
     "name": "stdout",
     "output_type": "stream",
     "text": [
      "Epoch 40/64, Train Loss: 0.4106, Val Loss: 0.4171, Val Accuracy: 0.8271\n"
     ]
    },
    {
     "name": "stderr",
     "output_type": "stream",
     "text": [
      "100%|██████████| 51/51 [00:00<00:00, 84.64it/s]\n"
     ]
    },
    {
     "name": "stdout",
     "output_type": "stream",
     "text": [
      "Epoch 41/64, Train Loss: 0.4084, Val Loss: 0.4152, Val Accuracy: 0.8279\n"
     ]
    },
    {
     "name": "stderr",
     "output_type": "stream",
     "text": [
      "100%|██████████| 51/51 [00:00<00:00, 77.58it/s]\n"
     ]
    },
    {
     "name": "stdout",
     "output_type": "stream",
     "text": [
      "Epoch 42/64, Train Loss: 0.4063, Val Loss: 0.4132, Val Accuracy: 0.8282\n"
     ]
    },
    {
     "name": "stderr",
     "output_type": "stream",
     "text": [
      "100%|██████████| 51/51 [00:00<00:00, 78.54it/s]\n"
     ]
    },
    {
     "name": "stdout",
     "output_type": "stream",
     "text": [
      "Epoch 43/64, Train Loss: 0.4044, Val Loss: 0.4114, Val Accuracy: 0.8283\n",
      "Chosen edges: tensor([[ 3,  6,  6,  6,  6,  8,  9, 12, 13, 13, 22, 22, 24, 27, 27, 29, 29,  6,\n",
      "          6,  6,  6, 24],\n",
      "        [ 0,  4,  7,  8, 12,  6,  5,  0,  0,  5,  0,  5,  0,  0,  5,  0,  5, 16,\n",
      "         19, 20, 27, 27]]) 22\n"
     ]
    },
    {
     "name": "stderr",
     "output_type": "stream",
     "text": [
      "100%|██████████| 51/51 [00:00<00:00, 64.96it/s]\n"
     ]
    },
    {
     "name": "stdout",
     "output_type": "stream",
     "text": [
      "Epoch 44/64, Train Loss: 0.4108, Val Loss: 0.4157, Val Accuracy: 0.8267\n"
     ]
    },
    {
     "name": "stderr",
     "output_type": "stream",
     "text": [
      "100%|██████████| 51/51 [00:00<00:00, 67.72it/s]\n"
     ]
    },
    {
     "name": "stdout",
     "output_type": "stream",
     "text": [
      "Epoch 45/64, Train Loss: 0.4041, Val Loss: 0.4099, Val Accuracy: 0.8279\n",
      "torch.Size([264]) torch.Size([1697])\n",
      "combined_metrics torch.Size([1961])\n",
      "mask torch.Size([1961])\n",
      "tensor(1885)\n",
      "num_emb_edges 264\n",
      "tensor(58) tensor(10)\n",
      "Chosen edges to del emb: tensor([[ 2,  2,  2,  2,  3,  3,  3,  3,  3,  3,  3,  4,  4,  4,  4,  5,  6,  6,\n",
      "          9,  9,  9,  9,  9,  9,  9, 11, 11, 11, 11, 11, 11, 11, 11, 14, 14, 14,\n",
      "         14, 14, 14, 14, 14, 15, 15, 16, 16, 16, 17, 17, 17, 18, 18, 19, 19, 20,\n",
      "         20, 20, 21, 21],\n",
      "        [ 0,  4,  5, 27,  0,  4,  5,  7,  8, 12, 27,  0,  4,  7, 27,  8,  0,  5,\n",
      "          0,  5,  6,  7, 16, 19, 20,  0,  4,  5,  7, 12, 16, 19, 20,  0,  4,  5,\n",
      "          7, 12, 16, 19, 20,  6,  7,  0,  5,  7,  0,  5, 12,  0,  5,  0,  5,  0,\n",
      "          7, 27,  0, 27]], dtype=torch.int32) 58\n",
      "Chosen edges to del exp: tensor([[ 6, 17,  6, 17,  6, 17,  6, 17,  6, 17],\n",
      "        [39, 39, 42, 42, 44, 44, 47, 47, 49, 49]]) 10\n"
     ]
    },
    {
     "name": "stderr",
     "output_type": "stream",
     "text": [
      "100%|██████████| 51/51 [00:00<00:00, 62.97it/s]\n"
     ]
    },
    {
     "name": "stdout",
     "output_type": "stream",
     "text": [
      "Epoch 46/64, Train Loss: 0.4146, Val Loss: 0.4210, Val Accuracy: 0.8259\n"
     ]
    },
    {
     "name": "stderr",
     "output_type": "stream",
     "text": [
      "100%|██████████| 51/51 [00:00<00:00, 62.71it/s]\n"
     ]
    },
    {
     "name": "stdout",
     "output_type": "stream",
     "text": [
      "Epoch 47/64, Train Loss: 0.4122, Val Loss: 0.4187, Val Accuracy: 0.8268\n"
     ]
    },
    {
     "name": "stderr",
     "output_type": "stream",
     "text": [
      "100%|██████████| 51/51 [00:00<00:00, 67.19it/s]\n"
     ]
    },
    {
     "name": "stdout",
     "output_type": "stream",
     "text": [
      "Epoch 48/64, Train Loss: 0.4096, Val Loss: 0.4164, Val Accuracy: 0.8277\n"
     ]
    },
    {
     "name": "stderr",
     "output_type": "stream",
     "text": [
      "100%|██████████| 51/51 [00:00<00:00, 73.04it/s]\n"
     ]
    },
    {
     "name": "stdout",
     "output_type": "stream",
     "text": [
      "Epoch 49/64, Train Loss: 0.4074, Val Loss: 0.4143, Val Accuracy: 0.8280\n"
     ]
    },
    {
     "name": "stderr",
     "output_type": "stream",
     "text": [
      "100%|██████████| 51/51 [00:00<00:00, 73.22it/s]\n"
     ]
    },
    {
     "name": "stdout",
     "output_type": "stream",
     "text": [
      "Epoch 50/64, Train Loss: 0.4051, Val Loss: 0.4122, Val Accuracy: 0.8280\n"
     ]
    },
    {
     "name": "stderr",
     "output_type": "stream",
     "text": [
      "100%|██████████| 51/51 [00:00<00:00, 69.55it/s]\n"
     ]
    },
    {
     "name": "stdout",
     "output_type": "stream",
     "text": [
      "Epoch 51/64, Train Loss: 0.4030, Val Loss: 0.4102, Val Accuracy: 0.8273\n"
     ]
    },
    {
     "name": "stderr",
     "output_type": "stream",
     "text": [
      "100%|██████████| 51/51 [00:00<00:00, 60.96it/s]\n"
     ]
    },
    {
     "name": "stdout",
     "output_type": "stream",
     "text": [
      "Epoch 52/64, Train Loss: 0.4009, Val Loss: 0.4082, Val Accuracy: 0.8279\n",
      "Chosen edges: tensor([[ 3,  6,  6,  6,  6, 15, 15, 15, 16, 21, 21, 24, 26, 28, 28,  8,  6,  8,\n",
      "          8,  6,  6,  6,  6,  6,  6, 15,  6, 15,  6,  6,  6,  8,  6,  6,  6,  6,\n",
      "          8,  6,  8,  6,  8],\n",
      "        [ 5,  1,  3,  6,  9,  5,  9, 13,  0,  0,  5, 13,  0,  0,  5, 16, 17, 19,\n",
      "         20, 21, 23, 30, 31, 33, 35, 37, 38, 38, 40, 41, 43, 43, 45, 46, 48, 50,\n",
      "         50, 51, 51, 52, 52]]) 41\n"
     ]
    },
    {
     "name": "stderr",
     "output_type": "stream",
     "text": [
      "100%|██████████| 51/51 [00:00<00:00, 54.44it/s]\n"
     ]
    },
    {
     "name": "stdout",
     "output_type": "stream",
     "text": [
      "Epoch 53/64, Train Loss: 0.4025, Val Loss: 0.4071, Val Accuracy: 0.8283\n"
     ]
    },
    {
     "name": "stderr",
     "output_type": "stream",
     "text": [
      "100%|██████████| 51/51 [00:01<00:00, 48.93it/s]\n"
     ]
    },
    {
     "name": "stdout",
     "output_type": "stream",
     "text": [
      "Epoch 54/64, Train Loss: 0.3962, Val Loss: 0.4015, Val Accuracy: 0.8291\n",
      "torch.Size([1189]) torch.Size([2958])\n",
      "combined_metrics torch.Size([4147])\n",
      "mask torch.Size([4147])\n",
      "tensor(4020)\n",
      "num_emb_edges 1189\n",
      "tensor(117) tensor(4)\n",
      "Chosen edges to del emb: tensor([[ 0,  0,  0,  0,  0,  0,  1,  2,  2,  2,  2,  2,  2,  2,  2,  2,  2,  2,\n",
      "          2,  2,  2,  2,  2,  2,  2,  2,  2,  2,  2,  2,  2,  3,  3,  4,  4,  4,\n",
      "          4,  4,  4,  4,  4,  4,  4,  4,  4,  4,  4,  4,  4,  4,  4,  4,  4,  4,\n",
      "          4,  5,  5,  5,  5,  5,  5,  6,  6,  6,  6,  6,  6,  6,  7, 10, 10, 10,\n",
      "         10, 10, 10, 10, 10, 10, 10, 10, 10, 10, 11, 11, 11, 14, 14, 14, 14, 14,\n",
      "         14, 14, 14, 14, 14, 15, 16, 17, 18, 19, 19, 24, 24, 24, 24, 25, 25, 26,\n",
      "         26, 27, 27, 35, 35, 35, 37, 37, 39],\n",
      "        [ 0,  5, 21, 23, 35, 38,  0,  0,  3,  5,  6,  9, 13, 16, 17, 19, 20, 23,\n",
      "         30, 31, 33, 38, 40, 41, 43, 45, 46, 48, 50, 51, 52,  0,  5,  0,  5,  6,\n",
      "          9, 16, 17, 19, 20, 23, 30, 31, 33, 35, 40, 41, 43, 45, 46, 48, 50, 51,\n",
      "         52,  0,  5, 21, 23, 35, 38,  0,  5, 19, 23, 40, 43, 45,  9,  0,  5,  9,\n",
      "         13, 21, 23, 35, 37, 38, 43, 50, 51, 52,  0,  5,  9,  0,  5,  9, 21, 23,\n",
      "         35, 37, 38, 51, 52,  0,  0,  0,  0,  0,  5,  0,  5, 13, 38,  0,  5,  0,\n",
      "          5,  0,  5,  0,  5,  9,  0,  5,  0]], dtype=torch.int32) 117\n",
      "Chosen edges to del exp: tensor([[ 6,  6,  6,  6],\n",
      "        [55, 60, 65, 69]]) 4\n"
     ]
    },
    {
     "name": "stderr",
     "output_type": "stream",
     "text": [
      "100%|██████████| 51/51 [00:01<00:00, 49.25it/s]\n"
     ]
    },
    {
     "name": "stdout",
     "output_type": "stream",
     "text": [
      "Epoch 55/64, Train Loss: 0.4018, Val Loss: 0.4077, Val Accuracy: 0.8296\n"
     ]
    },
    {
     "name": "stderr",
     "output_type": "stream",
     "text": [
      "100%|██████████| 51/51 [00:01<00:00, 48.06it/s]\n"
     ]
    },
    {
     "name": "stdout",
     "output_type": "stream",
     "text": [
      "Epoch 56/64, Train Loss: 0.3985, Val Loss: 0.4050, Val Accuracy: 0.8303\n"
     ]
    },
    {
     "name": "stderr",
     "output_type": "stream",
     "text": [
      "100%|██████████| 51/51 [00:01<00:00, 47.40it/s]\n"
     ]
    },
    {
     "name": "stdout",
     "output_type": "stream",
     "text": [
      "Epoch 57/64, Train Loss: 0.3957, Val Loss: 0.4024, Val Accuracy: 0.8317\n"
     ]
    },
    {
     "name": "stderr",
     "output_type": "stream",
     "text": [
      "100%|██████████| 51/51 [00:01<00:00, 44.37it/s]\n"
     ]
    },
    {
     "name": "stdout",
     "output_type": "stream",
     "text": [
      "Epoch 58/64, Train Loss: 0.3930, Val Loss: 0.4000, Val Accuracy: 0.8322\n"
     ]
    },
    {
     "name": "stderr",
     "output_type": "stream",
     "text": [
      "100%|██████████| 51/51 [00:01<00:00, 43.81it/s]\n"
     ]
    },
    {
     "name": "stdout",
     "output_type": "stream",
     "text": [
      "Epoch 59/64, Train Loss: 0.3903, Val Loss: 0.3974, Val Accuracy: 0.8331\n"
     ]
    },
    {
     "name": "stderr",
     "output_type": "stream",
     "text": [
      "100%|██████████| 51/51 [00:00<00:00, 52.50it/s]\n"
     ]
    },
    {
     "name": "stdout",
     "output_type": "stream",
     "text": [
      "Epoch 60/64, Train Loss: 0.3879, Val Loss: 0.3951, Val Accuracy: 0.8323\n"
     ]
    },
    {
     "name": "stderr",
     "output_type": "stream",
     "text": [
      "100%|██████████| 51/51 [00:01<00:00, 50.95it/s]\n"
     ]
    },
    {
     "name": "stdout",
     "output_type": "stream",
     "text": [
      "Epoch 61/64, Train Loss: 0.3854, Val Loss: 0.3927, Val Accuracy: 0.8337\n",
      "Chosen edges: tensor([[24, 24,  6,  6,  6,  6,  6, 24,  6,  6,  6,  8, 15,  6,  8, 15, 24,  6,\n",
      "          6,  6, 15],\n",
      "        [11, 35, 67, 74, 75, 78, 79, 79, 83, 84, 85, 85, 85, 86, 86, 86, 86, 87,\n",
      "         88, 89, 89]]) 21\n"
     ]
    },
    {
     "name": "stderr",
     "output_type": "stream",
     "text": [
      "100%|██████████| 51/51 [00:01<00:00, 44.77it/s]\n"
     ]
    },
    {
     "name": "stdout",
     "output_type": "stream",
     "text": [
      "Epoch 62/64, Train Loss: 0.3828, Val Loss: 0.3899, Val Accuracy: 0.8336\n"
     ]
    },
    {
     "name": "stderr",
     "output_type": "stream",
     "text": [
      "100%|██████████| 51/51 [00:01<00:00, 41.43it/s]\n"
     ]
    },
    {
     "name": "stdout",
     "output_type": "stream",
     "text": [
      "Epoch 63/64, Train Loss: 0.3799, Val Loss: 0.3873, Val Accuracy: 0.8334\n",
      "torch.Size([315]) torch.Size([3605])\n",
      "combined_metrics torch.Size([3920])\n",
      "mask torch.Size([3920])\n",
      "tensor(1866)\n",
      "num_emb_edges 315\n",
      "tensor(121) tensor(470)\n",
      "Chosen edges to del emb: tensor([[ 1,  1,  1,  1,  1,  1,  1,  1,  1,  1,  1,  1,  1,  3,  3,  3,  3,  3,\n",
      "          3,  3,  3,  3,  3,  3,  4,  4,  5,  5,  5,  5,  5,  5,  5,  5,  5,  5,\n",
      "          6,  6,  6,  6,  6,  6,  6,  6,  6,  6,  6,  6,  6,  6,  7,  7,  7,  7,\n",
      "          7,  7,  7,  7,  7,  7,  7,  7,  7,  8,  8,  8,  8,  8,  8,  8,  8,  8,\n",
      "          8,  9,  9,  9,  9,  9,  9,  9,  9,  9,  9, 10, 10, 10, 10, 10, 10, 14,\n",
      "         14, 17, 17, 17, 17, 17, 17, 17, 17, 17, 17, 18, 18, 18, 18, 18, 18, 18,\n",
      "         18, 18, 18, 19, 19, 19, 19, 19, 19, 19, 19, 19, 19],\n",
      "        [11, 35, 67, 75, 78, 79, 83, 84, 85, 86, 87, 88, 89, 11, 35, 74, 75, 78,\n",
      "         79, 83, 85, 86, 87, 89, 74, 75, 35, 78, 79, 83, 84, 85, 86, 87, 88, 89,\n",
      "         11, 35, 67, 74, 75, 78, 79, 83, 84, 85, 86, 87, 88, 89, 11, 35, 67, 75,\n",
      "         78, 79, 83, 84, 85, 86, 87, 88, 89, 35, 78, 79, 83, 84, 85, 86, 87, 88,\n",
      "         89, 35, 78, 79, 83, 84, 85, 86, 87, 88, 89, 35, 83, 85, 86, 87, 89, 74,\n",
      "         75, 35, 78, 79, 83, 84, 85, 86, 87, 88, 89, 35, 78, 79, 83, 84, 85, 86,\n",
      "         87, 88, 89, 35, 78, 79, 83, 84, 85, 86, 87, 88, 89]],\n",
      "       dtype=torch.int32) 121\n",
      "Chosen edges to del exp: tensor([[  0,   1,   2,   3,   7,   8,   9,  12,  13,  15,  16,  19,  21,  23,\n",
      "          26,  27,  29,  30,  31,   0,   1,   2,   3,   6,   8,   9,  11,  13,\n",
      "          15,  16,  17,  21,  22,  23,  26,  27,  28,  29,  30,   0,   1,   2,\n",
      "           3,   5,   7,   8,   9,  12,  13,  15,  16,  17,  19,  22,  23,  24,\n",
      "          26,  27,  28,  30,  31,   0,   1,   2,   3,   7,   8,   9,  11,  12,\n",
      "          13,  15,  16,  17,  19,  22,  23,  24,  26,  27,  28,  29,  30,  31,\n",
      "           0,   1,   2,   3,   7,   8,   9,  11,  12,  13,  15,  16,  17,  19,\n",
      "          21,  22,  23,  24,  26,  27,  28,  29,  30,  31,   0,   1,   2,   3,\n",
      "           5,   7,   8,   9,  12,  13,  15,  16,  17,  18,  19,  22,  23,  24,\n",
      "          26,  27,  28,  30,  31,   0,   1,   2,   3,   8,   9,  11,  13,  15,\n",
      "          16,  17,  21,  22,  23,  24,  26,  27,  28,  29,  30,   0,   1,   2,\n",
      "           3,   6,   8,   9,  11,  13,  15,  16,  17,  21,  22,  23,  26,  27,\n",
      "          28,  29,  30,   0,   1,   2,   3,   5,   7,   8,   9,  12,  13,  15,\n",
      "          16,  17,  18,  19,  22,  23,  24,  26,  27,  28,  30,  31,   0,   1,\n",
      "           2,   3,   5,   7,   8,   9,  12,  13,  15,  16,  17,  18,  19,  22,\n",
      "          23,  24,  26,  27,  28,  30,  31,   0,   1,   2,   3,   5,   7,   8,\n",
      "           9,  12,  13,  15,  16,  17,  18,  19,  22,  23,  24,  26,  27,  28,\n",
      "          30,  31,   0,   1,   2,   3,   5,   6,   7,   9,  12,  13,  15,  16,\n",
      "          17,  18,  19,  22,  23,  24,  26,  27,  28,  30,  31,   0,   1,   2,\n",
      "           3,   5,   6,   7,   8,   9,  12,  13,  16,  17,  18,  19,  22,  23,\n",
      "          24,  26,  27,  28,  30,  31,   0,   1,   2,   3,   5,   7,   8,   9,\n",
      "          12,  13,  15,  16,  17,  18,  19,  22,  23,  24,  26,  27,  28,  30,\n",
      "          31,   0,   1,   2,   3,   5,   6,   7,   9,  12,  13,  15,  16,  17,\n",
      "          18,  19,  22,  23,  24,  26,  27,  28,  30,  31,   0,   1,   2,   3,\n",
      "           5,   6,   7,   8,   9,  12,  13,  16,  17,  18,  19,  22,  23,  24,\n",
      "          26,  27,  28,  30,  31,   0,   1,   2,   3,   5,   6,   7,   8,   9,\n",
      "          12,  13,  15,  16,  17,  18,  19,  22,  23,  26,  27,  28,  30,  31,\n",
      "           0,   1,   2,   3,   5,   7,   8,   9,  12,  13,  15,  16,  17,  18,\n",
      "          19,  22,  23,  24,  26,  27,  28,  30,  31,   0,   1,   2,   3,   5,\n",
      "           7,   8,   9,  12,  13,  15,  16,  17,  18,  19,  22,  23,  24,  26,\n",
      "          27,  28,  30,  31,   0,   1,   2,   3,   5,   7,   8,   9,  12,  13,\n",
      "          15,  16,  17,  18,  19,  22,  23,  24,  26,  27,  28,  30,  31,   0,\n",
      "           1,   2,   3,   5,   6,   7,   8,   9,  12,  13,  16,  17,  18,  19,\n",
      "          22,  23,  24,  26,  27,  28,  30,  31],\n",
      "        [ 96,  96,  96,  96,  96,  96,  96,  96,  96,  96,  96,  96,  96,  96,\n",
      "          96,  96,  96,  96,  96,  97,  97,  97,  97,  97,  97,  97,  97,  97,\n",
      "          97,  97,  97,  97,  97,  97,  97,  97,  97,  97,  97,  98,  98,  98,\n",
      "          98,  98,  98,  98,  98,  98,  98,  98,  98,  98,  98,  98,  98,  98,\n",
      "          98,  98,  98,  98,  98,  99,  99,  99,  99,  99,  99,  99,  99,  99,\n",
      "          99,  99,  99,  99,  99,  99,  99,  99,  99,  99,  99,  99,  99,  99,\n",
      "         100, 100, 100, 100, 100, 100, 100, 100, 100, 100, 100, 100, 100, 100,\n",
      "         100, 100, 100, 100, 100, 100, 100, 100, 100, 100, 101, 101, 101, 101,\n",
      "         101, 101, 101, 101, 101, 101, 101, 101, 101, 101, 101, 101, 101, 101,\n",
      "         101, 101, 101, 101, 101, 102, 102, 102, 102, 102, 102, 102, 102, 102,\n",
      "         102, 102, 102, 102, 102, 102, 102, 102, 102, 102, 102, 103, 103, 103,\n",
      "         103, 103, 103, 103, 103, 103, 103, 103, 103, 103, 103, 103, 103, 103,\n",
      "         103, 103, 103, 104, 104, 104, 104, 104, 104, 104, 104, 104, 104, 104,\n",
      "         104, 104, 104, 104, 104, 104, 104, 104, 104, 104, 104, 104, 105, 105,\n",
      "         105, 105, 105, 105, 105, 105, 105, 105, 105, 105, 105, 105, 105, 105,\n",
      "         105, 105, 105, 105, 105, 105, 105, 106, 106, 106, 106, 106, 106, 106,\n",
      "         106, 106, 106, 106, 106, 106, 106, 106, 106, 106, 106, 106, 106, 106,\n",
      "         106, 106, 107, 107, 107, 107, 107, 107, 107, 107, 107, 107, 107, 107,\n",
      "         107, 107, 107, 107, 107, 107, 107, 107, 107, 107, 107, 108, 108, 108,\n",
      "         108, 108, 108, 108, 108, 108, 108, 108, 108, 108, 108, 108, 108, 108,\n",
      "         108, 108, 108, 108, 108, 108, 109, 109, 109, 109, 109, 109, 109, 109,\n",
      "         109, 109, 109, 109, 109, 109, 109, 109, 109, 109, 109, 109, 109, 109,\n",
      "         109, 110, 110, 110, 110, 110, 110, 110, 110, 110, 110, 110, 110, 110,\n",
      "         110, 110, 110, 110, 110, 110, 110, 110, 110, 110, 111, 111, 111, 111,\n",
      "         111, 111, 111, 111, 111, 111, 111, 111, 111, 111, 111, 111, 111, 111,\n",
      "         111, 111, 111, 111, 111, 112, 112, 112, 112, 112, 112, 112, 112, 112,\n",
      "         112, 112, 112, 112, 112, 112, 112, 112, 112, 112, 112, 112, 112, 112,\n",
      "         113, 113, 113, 113, 113, 113, 113, 113, 113, 113, 113, 113, 113, 113,\n",
      "         113, 113, 113, 113, 113, 113, 113, 113, 113, 114, 114, 114, 114, 114,\n",
      "         114, 114, 114, 114, 114, 114, 114, 114, 114, 114, 114, 114, 114, 114,\n",
      "         114, 114, 114, 114, 115, 115, 115, 115, 115, 115, 115, 115, 115, 115,\n",
      "         115, 115, 115, 115, 115, 115, 115, 115, 115, 115, 115, 115, 115, 116,\n",
      "         116, 116, 116, 116, 116, 116, 116, 116, 116, 116, 116, 116, 116, 116,\n",
      "         116, 116, 116, 116, 116, 116, 116, 116]]) 470\n"
     ]
    },
    {
     "name": "stderr",
     "output_type": "stream",
     "text": [
      "100%|██████████| 51/51 [00:01<00:00, 42.47it/s]\n"
     ]
    },
    {
     "name": "stdout",
     "output_type": "stream",
     "text": [
      "Epoch 64/64, Train Loss: 0.3791, Val Loss: 0.3867, Val Accuracy: 0.8339\n"
     ]
    }
   ],
   "source": [
    "criterion = nn.CrossEntropyLoss()\n",
    "train_sparse_recursive(sparse_model, train_loader, val_loader, test_loader, criterion, hyperparams, device)"
   ]
  },
  {
   "cell_type": "code",
   "execution_count": null,
   "id": "8b866456",
   "metadata": {},
   "outputs": [],
   "source": []
  },
  {
   "cell_type": "code",
   "execution_count": null,
   "id": "2b489091",
   "metadata": {},
   "outputs": [],
   "source": []
  }
 ],
 "metadata": {
  "kernelspec": {
   "display_name": "self-expanding-nets",
   "language": "python",
   "name": "python3"
  },
  "language_info": {
   "codemirror_mode": {
    "name": "ipython",
    "version": 3
   },
   "file_extension": ".py",
   "mimetype": "text/x-python",
   "name": "python",
   "nbconvert_exporter": "python",
   "pygments_lexer": "ipython3",
   "version": "3.12.7"
  }
 },
 "nbformat": 4,
 "nbformat_minor": 5
}
