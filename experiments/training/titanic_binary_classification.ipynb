{
 "cells": [
  {
   "cell_type": "code",
   "execution_count": null,
   "id": "initial_id",
   "metadata": {
    "ExecuteTime": {
     "end_time": "2025-02-03T17:00:55.466446Z",
     "start_time": "2025-02-03T17:00:52.143161Z"
    },
    "collapsed": true
   },
   "outputs": [],
   "source": [
    "import pandas as pd\n",
    "from sklearn.model_selection import train_test_split\n",
    "from sklearn.preprocessing import StandardScaler\n",
    "from torch.utils.data import DataLoader, Dataset\n"
   ]
  },
  {
   "cell_type": "code",
   "execution_count": 2,
   "id": "851a61bbbac63426",
   "metadata": {
    "ExecuteTime": {
     "end_time": "2025-02-03T17:00:55.481102Z",
     "start_time": "2025-02-03T17:00:55.470465Z"
    }
   },
   "outputs": [],
   "source": [
    "from senmodel.model.utils import *\n",
    "from senmodel.metrics.nonlinearity_metrics import *\n",
    "from senmodel.metrics.edge_finder import *\n",
    "from senmodel.metrics.train_metrics import *\n",
    "from senmodel.train.train import *"
   ]
  },
  {
   "cell_type": "code",
   "execution_count": 3,
   "id": "ed98f9250fb9b52",
   "metadata": {
    "ExecuteTime": {
     "end_time": "2025-02-03T17:00:55.645187Z",
     "start_time": "2025-02-03T17:00:55.641678Z"
    }
   },
   "outputs": [],
   "source": [
    "device = torch.device(\"cuda\" if torch.cuda.is_available() else \"cpu\")"
   ]
  },
  {
   "cell_type": "code",
   "execution_count": 4,
   "id": "8a1c4b0b6e33d5a4",
   "metadata": {
    "ExecuteTime": {
     "end_time": "2025-02-03T17:01:00.424881Z",
     "start_time": "2025-02-03T17:00:55.653295Z"
    }
   },
   "outputs": [],
   "source": [
    "from sklearn.preprocessing import LabelEncoder\n",
    "\n",
    "url = \"https://archive.ics.uci.edu/ml/machine-learning-databases/adult/adult.data\"\n",
    "columns = [\n",
    "    'age', 'workclass', 'fnlwgt', 'education', 'education-num', 'marital-status',\n",
    "    'occupation', 'relationship', 'race', 'sex', 'capital-gain', 'capital-loss',\n",
    "    'hours-per-week', 'native-country', 'income'\n",
    "]\n",
    "data = pd.read_csv(url, names=columns, na_values=\" ?\", skipinitialspace=True)\n",
    "data = data.dropna()\n",
    "\n",
    "X = data.drop('income', axis=1)\n",
    "y = data['income']\n",
    "\n",
    "for col in X.select_dtypes(include=['object']).columns:\n",
    "    X[col] = LabelEncoder().fit_transform(X[col])\n",
    "\n",
    "y = LabelEncoder().fit_transform(y)\n",
    "\n",
    "scaler = StandardScaler()\n",
    "X = scaler.fit_transform(X)\n",
    "\n",
    "X_train, X_val, y_train, y_val = train_test_split(X, y, test_size=0.2, random_state=0)\n"
   ]
  },
  {
   "cell_type": "code",
   "execution_count": 5,
   "id": "d7d9e408b16a7a6a",
   "metadata": {
    "ExecuteTime": {
     "end_time": "2025-02-03T17:01:00.446010Z",
     "start_time": "2025-02-03T17:01:00.440983Z"
    }
   },
   "outputs": [],
   "source": [
    "class TabularDataset(Dataset):\n",
    "    def __init__(self, features, targets):\n",
    "        self.features = torch.tensor(features, dtype=torch.float32)\n",
    "        self.targets = torch.tensor(targets, dtype=torch.long)\n",
    "\n",
    "    def __len__(self):\n",
    "        return len(self.targets)\n",
    "\n",
    "    def __getitem__(self, idx):\n",
    "        return self.features[idx], self.targets[idx]"
   ]
  },
  {
   "cell_type": "code",
   "execution_count": 6,
   "id": "ba637689",
   "metadata": {},
   "outputs": [
    {
     "data": {
      "text/plain": [
       "\"num_epochs: 100, batch_size: 1024, metric: AbsGradientEdgeMetric, aggregation_mode: mean, choose_thresholds: {'fc0': 0.7}, choose_thresholds_del: {'fc0': 0.1}, threshold: 0.005, min_delta_epoch_replace: 8, window_size: 5, lr: 0.0005, delete_after: 5, task_type: classification, fully_connected: False, max_to_replace: 900\""
      ]
     },
     "execution_count": 6,
     "metadata": {},
     "output_type": "execute_result"
    }
   ],
   "source": [
    "hyperparams = {\n",
    "    \"num_epochs\": 100,\n",
    "    \"batch_size\": 1024,\n",
    "    \"metric\": AbsGradientEdgeMetric(nn.CrossEntropyLoss()),\n",
    "    \"aggregation_mode\": \"mean\",\n",
    "    \"choose_thresholds\": {\"fc0\": 0.7}, # 0.0 -> all edges, 1.0 -> no edges \n",
    "    \"choose_thresholds_del\": {\"fc0\": 0.1}, # 1.0 -> all edges, 0.0 -> no edges\n",
    "    \"threshold\": 0.005,\n",
    "    \"min_delta_epoch_replace\": 8,\n",
    "    \"window_size\": 5,\n",
    "    \"lr\": 5e-4,\n",
    "    \"delete_after\": 5,    \n",
    "    \"task_type\": \"classification\",\n",
    "    \"fully_connected\": False,\n",
    "    \"max_to_replace\": 900 # None -> no limit\n",
    "}\n",
    "\n",
    "name = \", \".join(\n",
    "    f\"{key}: {value.__class__.__name__ if key == 'metric' else value}\"\n",
    "    for key, value in hyperparams.items()\n",
    ")\n",
    "\n",
    "name"
   ]
  },
  {
   "cell_type": "code",
   "execution_count": 7,
   "id": "183cc85a9b097f1",
   "metadata": {
    "ExecuteTime": {
     "end_time": "2025-02-03T17:01:00.468426Z",
     "start_time": "2025-02-03T17:01:00.460642Z"
    }
   },
   "outputs": [],
   "source": [
    "train_dataset = TabularDataset(X_train, y_train)\n",
    "val_dataset = TabularDataset(X_val, y_val)\n",
    "\n",
    "train_loader = DataLoader(train_dataset, batch_size=hyperparams['batch_size'], shuffle=True)\n",
    "val_loader = DataLoader(val_dataset, batch_size=hyperparams['batch_size'], shuffle=False)"
   ]
  },
  {
   "cell_type": "code",
   "execution_count": 8,
   "id": "5cc8e387",
   "metadata": {},
   "outputs": [],
   "source": [
    "class EnhancedFCN(nn.Module):\n",
    "    def __init__(self, input_size=14, hidden_size=32):\n",
    "        super(EnhancedFCN, self).__init__()\n",
    "        self.fc0 = nn.Linear(input_size, hidden_size)\n",
    "        self.fc1 = nn.Linear(hidden_size, 2)\n",
    "        self.act = nn.ReLU()\n",
    "\n",
    "    def forward(self, x):\n",
    "        x = self.fc1(self.act(self.fc0(x)))\n",
    "        return x"
   ]
  },
  {
   "cell_type": "code",
   "execution_count": 9,
   "id": "c813771bca507d71",
   "metadata": {
    "ExecuteTime": {
     "end_time": "2025-02-03T17:01:03.478100Z",
     "start_time": "2025-02-03T17:01:00.583143Z"
    }
   },
   "outputs": [
    {
     "name": "stderr",
     "output_type": "stream",
     "text": [
      "\u001b[34m\u001b[1mwandb\u001b[0m: Using wandb-core as the SDK backend.  Please refer to https://wandb.me/wandb-core for more information.\n",
      "\u001b[34m\u001b[1mwandb\u001b[0m: Currently logged in as: \u001b[33mfedornigretuk\u001b[0m to \u001b[32mhttps://api.wandb.ai\u001b[0m. Use \u001b[1m`wandb login --relogin`\u001b[0m to force relogin\n"
     ]
    },
    {
     "data": {
      "text/plain": [
       "True"
      ]
     },
     "execution_count": 9,
     "metadata": {},
     "output_type": "execute_result"
    }
   ],
   "source": [
    "import wandb\n",
    "\n",
    "wandb.login()"
   ]
  },
  {
   "cell_type": "code",
   "execution_count": 10,
   "id": "45fe9040816bb570",
   "metadata": {
    "ExecuteTime": {
     "end_time": "2025-02-03T17:06:25.353070Z",
     "start_time": "2025-02-03T17:01:03.649616Z"
    }
   },
   "outputs": [
    {
     "data": {
      "text/html": [
       "Tracking run with wandb version 0.19.8"
      ],
      "text/plain": [
       "<IPython.core.display.HTML object>"
      ]
     },
     "metadata": {},
     "output_type": "display_data"
    },
    {
     "data": {
      "text/html": [
       "Run data is saved locally in <code>d:\\Coding\\PY\\self-expanding-nets\\experiments\\training\\wandb\\run-20250428_173709-it4f7lj8</code>"
      ],
      "text/plain": [
       "<IPython.core.display.HTML object>"
      ]
     },
     "metadata": {},
     "output_type": "display_data"
    },
    {
     "data": {
      "text/html": [
       "Syncing run <strong><a href='https://wandb.ai/fedornigretuk/self-expanding-nets-titanic/runs/it4f7lj8' target=\"_blank\">titanic, num_epochs: 100, batch_size: 1024, metric: AbsGradientEdgeMetric, aggregation_mode: mean, choose_thresholds: {'fc0': 0.7}, choose_thresholds_del: {'fc0': 0.1}, threshold: 0.005, min_delta_epoch_replace: 8, window_size: 5, lr: 0.0005, delete_after: 5, task_type: classification, fully_connected: False, max_to_replace: 900</a></strong> to <a href='https://wandb.ai/fedornigretuk/self-expanding-nets-titanic' target=\"_blank\">Weights & Biases</a> (<a href='https://wandb.me/developer-guide' target=\"_blank\">docs</a>)<br>"
      ],
      "text/plain": [
       "<IPython.core.display.HTML object>"
      ]
     },
     "metadata": {},
     "output_type": "display_data"
    },
    {
     "data": {
      "text/html": [
       " View project at <a href='https://wandb.ai/fedornigretuk/self-expanding-nets-titanic' target=\"_blank\">https://wandb.ai/fedornigretuk/self-expanding-nets-titanic</a>"
      ],
      "text/plain": [
       "<IPython.core.display.HTML object>"
      ]
     },
     "metadata": {},
     "output_type": "display_data"
    },
    {
     "data": {
      "text/html": [
       " View run at <a href='https://wandb.ai/fedornigretuk/self-expanding-nets-titanic/runs/it4f7lj8' target=\"_blank\">https://wandb.ai/fedornigretuk/self-expanding-nets-titanic/runs/it4f7lj8</a>"
      ],
      "text/plain": [
       "<IPython.core.display.HTML object>"
      ]
     },
     "metadata": {},
     "output_type": "display_data"
    },
    {
     "data": {
      "text/html": [
       "<button onClick=\"this.nextSibling.style.display='block';this.style.display='none';\">Display W&B run</button><iframe src='https://wandb.ai/fedornigretuk/self-expanding-nets-titanic/runs/it4f7lj8?jupyter=true' style='border:none;width:100%;height:420px;display:none;'></iframe>"
      ],
      "text/plain": [
       "<wandb.sdk.wandb_run.Run at 0x2976ff1db20>"
      ]
     },
     "execution_count": 10,
     "metadata": {},
     "output_type": "execute_result"
    }
   ],
   "source": [
    "dense_model = EnhancedFCN()\n",
    "sparse_model = convert_dense_to_sparse_network(dense_model, layers=[dense_model.fc0, dense_model.fc1])\n",
    "wandb.finish()\n",
    "wandb.init(\n",
    "    project=\"self-expanding-nets-titanic\",\n",
    "    name=f\"titanic, {name}\",\n",
    "    tags=[\"complex model\", \"titanic\", \"multiclass\", hyperparams[\"metric\"].__class__.__name__],\n",
    ")"
   ]
  },
  {
   "cell_type": "code",
   "execution_count": 11,
   "id": "533bf1b57447aa62",
   "metadata": {
    "ExecuteTime": {
     "end_time": "2025-02-03T17:06:25.386851900Z",
     "start_time": "2025-02-03T16:51:42.648819Z"
    }
   },
   "outputs": [
    {
     "name": "stderr",
     "output_type": "stream",
     "text": [
      "100%|██████████| 26/26 [00:00<00:00, 59.67it/s]\n"
     ]
    },
    {
     "name": "stdout",
     "output_type": "stream",
     "text": [
      "Epoch 1/100, Train Loss: 0.7325, Val Loss: 0.6865, Val Accuracy: 0.5758\n"
     ]
    },
    {
     "name": "stderr",
     "output_type": "stream",
     "text": [
      "100%|██████████| 26/26 [00:00<00:00, 54.59it/s]\n"
     ]
    },
    {
     "name": "stdout",
     "output_type": "stream",
     "text": [
      "Epoch 2/100, Train Loss: 0.6558, Val Loss: 0.6238, Val Accuracy: 0.7522\n"
     ]
    },
    {
     "name": "stderr",
     "output_type": "stream",
     "text": [
      "100%|██████████| 26/26 [00:00<00:00, 41.66it/s]\n"
     ]
    },
    {
     "name": "stdout",
     "output_type": "stream",
     "text": [
      "Epoch 3/100, Train Loss: 0.5989, Val Loss: 0.5764, Val Accuracy: 0.7626\n"
     ]
    },
    {
     "name": "stderr",
     "output_type": "stream",
     "text": [
      "100%|██████████| 26/26 [00:00<00:00, 47.07it/s]\n"
     ]
    },
    {
     "name": "stdout",
     "output_type": "stream",
     "text": [
      "Epoch 4/100, Train Loss: 0.5550, Val Loss: 0.5387, Val Accuracy: 0.7665\n"
     ]
    },
    {
     "name": "stderr",
     "output_type": "stream",
     "text": [
      "100%|██████████| 26/26 [00:00<00:00, 60.98it/s]\n"
     ]
    },
    {
     "name": "stdout",
     "output_type": "stream",
     "text": [
      "Epoch 5/100, Train Loss: 0.5191, Val Loss: 0.5087, Val Accuracy: 0.7694\n"
     ]
    },
    {
     "name": "stderr",
     "output_type": "stream",
     "text": [
      "100%|██████████| 26/26 [00:00<00:00, 70.68it/s]\n"
     ]
    },
    {
     "name": "stdout",
     "output_type": "stream",
     "text": [
      "Epoch 6/100, Train Loss: 0.4914, Val Loss: 0.4851, Val Accuracy: 0.7732\n"
     ]
    },
    {
     "name": "stderr",
     "output_type": "stream",
     "text": [
      "100%|██████████| 26/26 [00:00<00:00, 65.83it/s]\n"
     ]
    },
    {
     "name": "stdout",
     "output_type": "stream",
     "text": [
      "Epoch 7/100, Train Loss: 0.4694, Val Loss: 0.4667, Val Accuracy: 0.7792\n"
     ]
    },
    {
     "name": "stderr",
     "output_type": "stream",
     "text": [
      "100%|██████████| 26/26 [00:00<00:00, 50.46it/s]\n"
     ]
    },
    {
     "name": "stdout",
     "output_type": "stream",
     "text": [
      "Epoch 8/100, Train Loss: 0.4515, Val Loss: 0.4520, Val Accuracy: 0.7877\n"
     ]
    },
    {
     "name": "stderr",
     "output_type": "stream",
     "text": [
      "100%|██████████| 26/26 [00:00<00:00, 61.93it/s]\n"
     ]
    },
    {
     "name": "stdout",
     "output_type": "stream",
     "text": [
      "Epoch 9/100, Train Loss: 0.4367, Val Loss: 0.4399, Val Accuracy: 0.7949\n"
     ]
    },
    {
     "name": "stderr",
     "output_type": "stream",
     "text": [
      "100%|██████████| 26/26 [00:00<00:00, 60.65it/s]\n"
     ]
    },
    {
     "name": "stdout",
     "output_type": "stream",
     "text": [
      "Epoch 10/100, Train Loss: 0.4251, Val Loss: 0.4297, Val Accuracy: 0.8024\n"
     ]
    },
    {
     "name": "stderr",
     "output_type": "stream",
     "text": [
      "100%|██████████| 26/26 [00:00<00:00, 49.89it/s]\n"
     ]
    },
    {
     "name": "stdout",
     "output_type": "stream",
     "text": [
      "Epoch 11/100, Train Loss: 0.4150, Val Loss: 0.4212, Val Accuracy: 0.8116\n"
     ]
    },
    {
     "name": "stderr",
     "output_type": "stream",
     "text": [
      "100%|██████████| 26/26 [00:00<00:00, 51.10it/s]\n"
     ]
    },
    {
     "name": "stdout",
     "output_type": "stream",
     "text": [
      "Epoch 12/100, Train Loss: 0.4067, Val Loss: 0.4138, Val Accuracy: 0.8151\n"
     ]
    },
    {
     "name": "stderr",
     "output_type": "stream",
     "text": [
      "100%|██████████| 26/26 [00:00<00:00, 57.90it/s]\n"
     ]
    },
    {
     "name": "stdout",
     "output_type": "stream",
     "text": [
      "Epoch 13/100, Train Loss: 0.3985, Val Loss: 0.4075, Val Accuracy: 0.8181\n"
     ]
    },
    {
     "name": "stderr",
     "output_type": "stream",
     "text": [
      "100%|██████████| 26/26 [00:00<00:00, 45.68it/s]\n"
     ]
    },
    {
     "name": "stdout",
     "output_type": "stream",
     "text": [
      "Epoch 14/100, Train Loss: 0.3922, Val Loss: 0.4020, Val Accuracy: 0.8208\n"
     ]
    },
    {
     "name": "stderr",
     "output_type": "stream",
     "text": [
      "100%|██████████| 26/26 [00:00<00:00, 70.03it/s]\n"
     ]
    },
    {
     "name": "stdout",
     "output_type": "stream",
     "text": [
      "Epoch 15/100, Train Loss: 0.3869, Val Loss: 0.3972, Val Accuracy: 0.8233\n"
     ]
    },
    {
     "name": "stderr",
     "output_type": "stream",
     "text": [
      "100%|██████████| 26/26 [00:00<00:00, 63.26it/s]\n"
     ]
    },
    {
     "name": "stdout",
     "output_type": "stream",
     "text": [
      "Epoch 16/100, Train Loss: 0.3826, Val Loss: 0.3929, Val Accuracy: 0.8228\n"
     ]
    },
    {
     "name": "stderr",
     "output_type": "stream",
     "text": [
      "100%|██████████| 26/26 [00:00<00:00, 60.63it/s]\n"
     ]
    },
    {
     "name": "stdout",
     "output_type": "stream",
     "text": [
      "Epoch 17/100, Train Loss: 0.3788, Val Loss: 0.3892, Val Accuracy: 0.8240\n",
      "Chosen edges: tensor([[ 2, 21, 25, 27],\n",
      "        [10, 10,  5,  5]]) 4\n"
     ]
    },
    {
     "name": "stderr",
     "output_type": "stream",
     "text": [
      "100%|██████████| 26/26 [00:00<00:00, 59.43it/s]\n"
     ]
    },
    {
     "name": "stdout",
     "output_type": "stream",
     "text": [
      "Epoch 18/100, Train Loss: 0.3773, Val Loss: 0.3871, Val Accuracy: 0.8242\n"
     ]
    },
    {
     "name": "stderr",
     "output_type": "stream",
     "text": [
      "100%|██████████| 26/26 [00:00<00:00, 48.08it/s]\n"
     ]
    },
    {
     "name": "stdout",
     "output_type": "stream",
     "text": [
      "Epoch 19/100, Train Loss: 0.3718, Val Loss: 0.3824, Val Accuracy: 0.8259\n"
     ]
    },
    {
     "name": "stderr",
     "output_type": "stream",
     "text": [
      "100%|██████████| 26/26 [00:00<00:00, 57.43it/s]\n"
     ]
    },
    {
     "name": "stdout",
     "output_type": "stream",
     "text": [
      "Epoch 20/100, Train Loss: 0.3674, Val Loss: 0.3785, Val Accuracy: 0.8271\n"
     ]
    },
    {
     "name": "stderr",
     "output_type": "stream",
     "text": [
      "100%|██████████| 26/26 [00:00<00:00, 67.55it/s]\n"
     ]
    },
    {
     "name": "stdout",
     "output_type": "stream",
     "text": [
      "Epoch 21/100, Train Loss: 0.3620, Val Loss: 0.3750, Val Accuracy: 0.8280\n"
     ]
    },
    {
     "name": "stderr",
     "output_type": "stream",
     "text": [
      "100%|██████████| 26/26 [00:00<00:00, 44.72it/s]\n"
     ]
    },
    {
     "name": "stdout",
     "output_type": "stream",
     "text": [
      "Epoch 22/100, Train Loss: 0.3591, Val Loss: 0.3721, Val Accuracy: 0.8290\n",
      "torch.Size([12]) torch.Size([572])\n",
      "combined_metrics torch.Size([584])\n",
      "mask torch.Size([584])\n",
      "tensor(568)\n",
      "num_emb_edges 12\n",
      "tensor(6) tensor(1)\n",
      "Chosen edges to del emb: tensor([[ 0,  1,  2,  2,  3,  3],\n",
      "        [10, 10,  5, 10,  5, 10]], dtype=torch.int32) 6\n",
      "Chosen edges to del exp: tensor([[21],\n",
      "        [14]]) 1\n"
     ]
    },
    {
     "name": "stderr",
     "output_type": "stream",
     "text": [
      "100%|██████████| 26/26 [00:00<00:00, 54.14it/s]\n"
     ]
    },
    {
     "name": "stdout",
     "output_type": "stream",
     "text": [
      "Epoch 23/100, Train Loss: 0.3716, Val Loss: 0.3835, Val Accuracy: 0.8263\n"
     ]
    },
    {
     "name": "stderr",
     "output_type": "stream",
     "text": [
      "100%|██████████| 26/26 [00:00<00:00, 55.30it/s]\n"
     ]
    },
    {
     "name": "stdout",
     "output_type": "stream",
     "text": [
      "Epoch 24/100, Train Loss: 0.3702, Val Loss: 0.3817, Val Accuracy: 0.8262\n",
      "Chosen edges: tensor([[ 2,  6,  7,  9],\n",
      "        [ 7,  5, 10,  5]]) 4\n"
     ]
    },
    {
     "name": "stderr",
     "output_type": "stream",
     "text": [
      "100%|██████████| 26/26 [00:00<00:00, 46.20it/s]\n"
     ]
    },
    {
     "name": "stdout",
     "output_type": "stream",
     "text": [
      "Epoch 25/100, Train Loss: 0.3666, Val Loss: 0.3764, Val Accuracy: 0.8267\n"
     ]
    },
    {
     "name": "stderr",
     "output_type": "stream",
     "text": [
      "100%|██████████| 26/26 [00:00<00:00, 55.18it/s]\n"
     ]
    },
    {
     "name": "stdout",
     "output_type": "stream",
     "text": [
      "Epoch 26/100, Train Loss: 0.3620, Val Loss: 0.3723, Val Accuracy: 0.8267\n"
     ]
    },
    {
     "name": "stderr",
     "output_type": "stream",
     "text": [
      "100%|██████████| 26/26 [00:00<00:00, 50.16it/s]\n"
     ]
    },
    {
     "name": "stdout",
     "output_type": "stream",
     "text": [
      "Epoch 27/100, Train Loss: 0.3573, Val Loss: 0.3691, Val Accuracy: 0.8279\n"
     ]
    },
    {
     "name": "stderr",
     "output_type": "stream",
     "text": [
      "100%|██████████| 26/26 [00:00<00:00, 63.38it/s]\n"
     ]
    },
    {
     "name": "stdout",
     "output_type": "stream",
     "text": [
      "Epoch 28/100, Train Loss: 0.3544, Val Loss: 0.3662, Val Accuracy: 0.8294\n"
     ]
    },
    {
     "name": "stderr",
     "output_type": "stream",
     "text": [
      "100%|██████████| 26/26 [00:00<00:00, 50.13it/s]\n"
     ]
    },
    {
     "name": "stdout",
     "output_type": "stream",
     "text": [
      "Epoch 29/100, Train Loss: 0.3519, Val Loss: 0.3637, Val Accuracy: 0.8305\n",
      "torch.Size([16]) torch.Size([695])\n",
      "combined_metrics torch.Size([711])\n",
      "mask torch.Size([711])\n",
      "tensor(696)\n",
      "num_emb_edges 16\n",
      "tensor(11) tensor(0)\n",
      "Chosen edges to del emb: tensor([[ 0,  0,  0,  1,  1,  1,  2,  2,  3,  3,  3],\n",
      "        [ 5,  7, 10,  5,  7, 10,  7, 10,  5,  7, 10]], dtype=torch.int32) 11\n",
      "Chosen edges to del exp: tensor([], size=(2, 0), dtype=torch.int64) 0\n"
     ]
    },
    {
     "name": "stderr",
     "output_type": "stream",
     "text": [
      "100%|██████████| 26/26 [00:00<00:00, 57.58it/s]\n"
     ]
    },
    {
     "name": "stdout",
     "output_type": "stream",
     "text": [
      "Epoch 30/100, Train Loss: 0.3677, Val Loss: 0.3795, Val Accuracy: 0.8287\n"
     ]
    },
    {
     "name": "stderr",
     "output_type": "stream",
     "text": [
      "100%|██████████| 26/26 [00:00<00:00, 62.82it/s]\n"
     ]
    },
    {
     "name": "stdout",
     "output_type": "stream",
     "text": [
      "Epoch 31/100, Train Loss: 0.3654, Val Loss: 0.3777, Val Accuracy: 0.8291\n"
     ]
    },
    {
     "name": "stderr",
     "output_type": "stream",
     "text": [
      "100%|██████████| 26/26 [00:00<00:00, 62.07it/s]\n"
     ]
    },
    {
     "name": "stdout",
     "output_type": "stream",
     "text": [
      "Epoch 32/100, Train Loss: 0.3641, Val Loss: 0.3761, Val Accuracy: 0.8297\n",
      "Chosen edges: tensor([[ 1,  2, 15, 20, 26],\n",
      "        [ 5,  5,  5,  5,  5]]) 5\n"
     ]
    },
    {
     "name": "stderr",
     "output_type": "stream",
     "text": [
      "100%|██████████| 26/26 [00:00<00:00, 46.72it/s]\n"
     ]
    },
    {
     "name": "stdout",
     "output_type": "stream",
     "text": [
      "Epoch 33/100, Train Loss: 0.3601, Val Loss: 0.3703, Val Accuracy: 0.8282\n"
     ]
    },
    {
     "name": "stderr",
     "output_type": "stream",
     "text": [
      "100%|██████████| 26/26 [00:00<00:00, 43.38it/s]\n"
     ]
    },
    {
     "name": "stdout",
     "output_type": "stream",
     "text": [
      "Epoch 34/100, Train Loss: 0.3548, Val Loss: 0.3672, Val Accuracy: 0.8283\n"
     ]
    },
    {
     "name": "stderr",
     "output_type": "stream",
     "text": [
      "100%|██████████| 26/26 [00:00<00:00, 57.01it/s]\n"
     ]
    },
    {
     "name": "stdout",
     "output_type": "stream",
     "text": [
      "Epoch 35/100, Train Loss: 0.3523, Val Loss: 0.3651, Val Accuracy: 0.8291\n"
     ]
    },
    {
     "name": "stderr",
     "output_type": "stream",
     "text": [
      "100%|██████████| 26/26 [00:00<00:00, 54.16it/s]\n"
     ]
    },
    {
     "name": "stdout",
     "output_type": "stream",
     "text": [
      "Epoch 36/100, Train Loss: 0.3504, Val Loss: 0.3636, Val Accuracy: 0.8287\n"
     ]
    },
    {
     "name": "stderr",
     "output_type": "stream",
     "text": [
      "100%|██████████| 26/26 [00:00<00:00, 43.67it/s]\n"
     ]
    },
    {
     "name": "stdout",
     "output_type": "stream",
     "text": [
      "Epoch 37/100, Train Loss: 0.3488, Val Loss: 0.3622, Val Accuracy: 0.8291\n",
      "torch.Size([10]) torch.Size([850])\n",
      "combined_metrics torch.Size([860])\n",
      "mask torch.Size([860])\n",
      "tensor(474)\n",
      "num_emb_edges 10\n",
      "tensor(5) tensor(95)\n",
      "Chosen edges to del emb: tensor([[0, 1, 2, 3, 4],\n",
      "        [5, 5, 5, 5, 5]], dtype=torch.int32) 5\n",
      "Chosen edges to del exp: tensor([[ 0,  2,  4,  5,  6,  7,  9, 14, 15, 17, 18, 20, 21, 23, 25, 26, 27, 28,\n",
      "         29,  0,  1,  4,  5,  6,  7,  9, 14, 15, 17, 18, 20, 21, 23, 25, 26, 27,\n",
      "         28, 29,  0,  1,  2,  4,  5,  6,  7,  9, 14, 17, 18, 20, 21, 23, 25, 26,\n",
      "         27, 28, 29,  0,  1,  2,  4,  5,  6,  7,  9, 14, 15, 17, 18, 21, 23, 25,\n",
      "         26, 27, 28, 29,  0,  1,  2,  4,  5,  6,  7,  9, 14, 15, 17, 18, 20, 21,\n",
      "         23, 25, 27, 28, 29],\n",
      "        [22, 22, 22, 22, 22, 22, 22, 22, 22, 22, 22, 22, 22, 22, 22, 22, 22, 22,\n",
      "         22, 23, 23, 23, 23, 23, 23, 23, 23, 23, 23, 23, 23, 23, 23, 23, 23, 23,\n",
      "         23, 23, 24, 24, 24, 24, 24, 24, 24, 24, 24, 24, 24, 24, 24, 24, 24, 24,\n",
      "         24, 24, 24, 25, 25, 25, 25, 25, 25, 25, 25, 25, 25, 25, 25, 25, 25, 25,\n",
      "         25, 25, 25, 25, 26, 26, 26, 26, 26, 26, 26, 26, 26, 26, 26, 26, 26, 26,\n",
      "         26, 26, 26, 26, 26]]) 95\n"
     ]
    },
    {
     "name": "stderr",
     "output_type": "stream",
     "text": [
      "100%|██████████| 26/26 [00:00<00:00, 49.31it/s]\n"
     ]
    },
    {
     "name": "stdout",
     "output_type": "stream",
     "text": [
      "Epoch 38/100, Train Loss: 0.3657, Val Loss: 0.3762, Val Accuracy: 0.8305\n",
      "Chosen edges: tensor([[ 4, 14, 17, 18],\n",
      "        [ 5,  5,  5,  5]]) 4\n"
     ]
    },
    {
     "name": "stderr",
     "output_type": "stream",
     "text": [
      "100%|██████████| 26/26 [00:00<00:00, 48.42it/s]\n"
     ]
    },
    {
     "name": "stdout",
     "output_type": "stream",
     "text": [
      "Epoch 39/100, Train Loss: 0.3614, Val Loss: 0.3702, Val Accuracy: 0.8305\n"
     ]
    },
    {
     "name": "stderr",
     "output_type": "stream",
     "text": [
      "100%|██████████| 26/26 [00:00<00:00, 48.33it/s]\n"
     ]
    },
    {
     "name": "stdout",
     "output_type": "stream",
     "text": [
      "Epoch 40/100, Train Loss: 0.3555, Val Loss: 0.3660, Val Accuracy: 0.8296\n"
     ]
    },
    {
     "name": "stderr",
     "output_type": "stream",
     "text": [
      "100%|██████████| 26/26 [00:00<00:00, 49.46it/s]\n"
     ]
    },
    {
     "name": "stdout",
     "output_type": "stream",
     "text": [
      "Epoch 41/100, Train Loss: 0.3511, Val Loss: 0.3632, Val Accuracy: 0.8306\n"
     ]
    },
    {
     "name": "stderr",
     "output_type": "stream",
     "text": [
      "100%|██████████| 26/26 [00:00<00:00, 46.48it/s]\n"
     ]
    },
    {
     "name": "stdout",
     "output_type": "stream",
     "text": [
      "Epoch 42/100, Train Loss: 0.3482, Val Loss: 0.3610, Val Accuracy: 0.8310\n"
     ]
    },
    {
     "name": "stderr",
     "output_type": "stream",
     "text": [
      "100%|██████████| 26/26 [00:00<00:00, 45.68it/s]\n"
     ]
    },
    {
     "name": "stdout",
     "output_type": "stream",
     "text": [
      "Epoch 43/100, Train Loss: 0.3459, Val Loss: 0.3593, Val Accuracy: 0.8308\n",
      "torch.Size([8]) torch.Size([879])\n",
      "combined_metrics torch.Size([887])\n",
      "mask torch.Size([887])\n",
      "tensor(818)\n",
      "num_emb_edges 8\n",
      "tensor(4) tensor(0)\n",
      "Chosen edges to del emb: tensor([[0, 1, 2, 3],\n",
      "        [5, 5, 5, 5]], dtype=torch.int32) 4\n",
      "Chosen edges to del exp: tensor([], size=(2, 0), dtype=torch.int64) 0\n"
     ]
    },
    {
     "name": "stderr",
     "output_type": "stream",
     "text": [
      "100%|██████████| 26/26 [00:00<00:00, 56.05it/s]\n"
     ]
    },
    {
     "name": "stdout",
     "output_type": "stream",
     "text": [
      "Epoch 44/100, Train Loss: 0.3617, Val Loss: 0.3721, Val Accuracy: 0.8305\n",
      "Chosen edges: tensor([[ 2, 21, 21, 23, 23, 25],\n",
      "        [11,  5, 11,  5,  9,  7]]) 6\n"
     ]
    },
    {
     "name": "stderr",
     "output_type": "stream",
     "text": [
      "100%|██████████| 26/26 [00:00<00:00, 42.73it/s]\n"
     ]
    },
    {
     "name": "stdout",
     "output_type": "stream",
     "text": [
      "Epoch 45/100, Train Loss: 0.3611, Val Loss: 0.3692, Val Accuracy: 0.8311\n"
     ]
    },
    {
     "name": "stderr",
     "output_type": "stream",
     "text": [
      "100%|██████████| 26/26 [00:00<00:00, 41.49it/s]\n"
     ]
    },
    {
     "name": "stdout",
     "output_type": "stream",
     "text": [
      "Epoch 46/100, Train Loss: 0.3559, Val Loss: 0.3654, Val Accuracy: 0.8325\n"
     ]
    },
    {
     "name": "stderr",
     "output_type": "stream",
     "text": [
      "100%|██████████| 26/26 [00:00<00:00, 53.78it/s]\n"
     ]
    },
    {
     "name": "stdout",
     "output_type": "stream",
     "text": [
      "Epoch 47/100, Train Loss: 0.3507, Val Loss: 0.3622, Val Accuracy: 0.8325\n"
     ]
    },
    {
     "name": "stderr",
     "output_type": "stream",
     "text": [
      "100%|██████████| 26/26 [00:00<00:00, 53.05it/s]\n"
     ]
    },
    {
     "name": "stdout",
     "output_type": "stream",
     "text": [
      "Epoch 48/100, Train Loss: 0.3487, Val Loss: 0.3592, Val Accuracy: 0.8345\n"
     ]
    },
    {
     "name": "stderr",
     "output_type": "stream",
     "text": [
      "100%|██████████| 26/26 [00:00<00:00, 51.54it/s]\n"
     ]
    },
    {
     "name": "stdout",
     "output_type": "stream",
     "text": [
      "Epoch 49/100, Train Loss: 0.3453, Val Loss: 0.3567, Val Accuracy: 0.8349\n",
      "torch.Size([30]) torch.Size([1065])\n",
      "combined_metrics torch.Size([1095])\n",
      "mask torch.Size([1095])\n",
      "tensor(1078)\n",
      "num_emb_edges 30\n",
      "tensor(9) tensor(5)\n",
      "Chosen edges to del emb: tensor([[1, 1, 1, 3, 3, 3, 4, 5, 5],\n",
      "        [5, 7, 9, 5, 7, 9, 7, 7, 9]], dtype=torch.int32) 9\n",
      "Chosen edges to del exp: tensor([[ 1,  9, 25, 25,  2],\n",
      "        [32, 32, 32, 34, 36]]) 5\n"
     ]
    },
    {
     "name": "stderr",
     "output_type": "stream",
     "text": [
      "100%|██████████| 26/26 [00:00<00:00, 47.98it/s]\n"
     ]
    },
    {
     "name": "stdout",
     "output_type": "stream",
     "text": [
      "Epoch 50/100, Train Loss: 0.3553, Val Loss: 0.3655, Val Accuracy: 0.8336\n",
      "Chosen edges: tensor([[ 1,  2,  2,  7, 21, 25, 27, 27, 28,  2, 21,  2, 21],\n",
      "        [12,  0, 13,  7,  0,  6,  0,  9,  5, 31, 31, 33, 33]]) 13\n"
     ]
    },
    {
     "name": "stderr",
     "output_type": "stream",
     "text": [
      "100%|██████████| 26/26 [00:00<00:00, 42.53it/s]\n"
     ]
    },
    {
     "name": "stdout",
     "output_type": "stream",
     "text": [
      "Epoch 51/100, Train Loss: 0.3567, Val Loss: 0.3657, Val Accuracy: 0.8340\n"
     ]
    },
    {
     "name": "stderr",
     "output_type": "stream",
     "text": [
      "100%|██████████| 26/26 [00:00<00:00, 38.07it/s]\n"
     ]
    },
    {
     "name": "stdout",
     "output_type": "stream",
     "text": [
      "Epoch 52/100, Train Loss: 0.3522, Val Loss: 0.3627, Val Accuracy: 0.8345\n"
     ]
    },
    {
     "name": "stderr",
     "output_type": "stream",
     "text": [
      "100%|██████████| 26/26 [00:00<00:00, 40.27it/s]\n"
     ]
    },
    {
     "name": "stdout",
     "output_type": "stream",
     "text": [
      "Epoch 53/100, Train Loss: 0.3487, Val Loss: 0.3595, Val Accuracy: 0.8346\n"
     ]
    },
    {
     "name": "stderr",
     "output_type": "stream",
     "text": [
      "100%|██████████| 26/26 [00:00<00:00, 40.28it/s]\n"
     ]
    },
    {
     "name": "stdout",
     "output_type": "stream",
     "text": [
      "Epoch 54/100, Train Loss: 0.3466, Val Loss: 0.3568, Val Accuracy: 0.8357\n"
     ]
    },
    {
     "name": "stderr",
     "output_type": "stream",
     "text": [
      "100%|██████████| 26/26 [00:00<00:00, 46.01it/s]\n"
     ]
    },
    {
     "name": "stdout",
     "output_type": "stream",
     "text": [
      "Epoch 55/100, Train Loss: 0.3430, Val Loss: 0.3544, Val Accuracy: 0.8351\n",
      "torch.Size([130]) torch.Size([1463])\n",
      "combined_metrics torch.Size([1593])\n",
      "mask torch.Size([1593])\n",
      "tensor(1559)\n",
      "num_emb_edges 130\n",
      "tensor(27) tensor(1)\n",
      "Chosen edges to del emb: tensor([[ 2,  2,  3,  3,  3,  5,  6,  6,  6,  6,  6,  6,  6,  6,  7,  7,  7,  7,\n",
      "          7,  7,  8,  8,  8,  8,  9,  9,  9],\n",
      "        [ 5,  7,  5,  7,  9,  6,  0,  5,  6,  7,  9, 12, 31, 33,  0,  6,  7,  9,\n",
      "         31, 33,  0,  5,  7,  9,  7, 31, 33]], dtype=torch.int32) 27\n",
      "Chosen edges to del exp: tensor([[ 2],\n",
      "        [40]]) 1\n"
     ]
    },
    {
     "name": "stderr",
     "output_type": "stream",
     "text": [
      "100%|██████████| 26/26 [00:00<00:00, 41.97it/s]\n"
     ]
    },
    {
     "name": "stdout",
     "output_type": "stream",
     "text": [
      "Epoch 56/100, Train Loss: 0.3518, Val Loss: 0.3627, Val Accuracy: 0.8331\n",
      "Chosen edges: tensor([[ 1,  5,  9, 21, 23, 27, 23, 27, 23, 27,  2,  7, 21, 23, 27,  2,  7, 21,\n",
      "         23, 27,  2,  7, 21, 23, 27],\n",
      "        [13,  7, 13,  7, 11,  7, 31, 31, 33, 33, 47, 47, 47, 47, 47, 48, 48, 48,\n",
      "         48, 48, 49, 49, 49, 49, 49]]) 25\n"
     ]
    },
    {
     "name": "stderr",
     "output_type": "stream",
     "text": [
      "100%|██████████| 26/26 [00:00<00:00, 30.81it/s]\n"
     ]
    },
    {
     "name": "stdout",
     "output_type": "stream",
     "text": [
      "Epoch 57/100, Train Loss: 0.3514, Val Loss: 0.3621, Val Accuracy: 0.8316\n"
     ]
    },
    {
     "name": "stderr",
     "output_type": "stream",
     "text": [
      "100%|██████████| 26/26 [00:00<00:00, 38.51it/s]\n"
     ]
    },
    {
     "name": "stdout",
     "output_type": "stream",
     "text": [
      "Epoch 58/100, Train Loss: 0.3491, Val Loss: 0.3602, Val Accuracy: 0.8329\n"
     ]
    },
    {
     "name": "stderr",
     "output_type": "stream",
     "text": [
      "100%|██████████| 26/26 [00:00<00:00, 41.65it/s]\n"
     ]
    },
    {
     "name": "stdout",
     "output_type": "stream",
     "text": [
      "Epoch 59/100, Train Loss: 0.3466, Val Loss: 0.3568, Val Accuracy: 0.8334\n"
     ]
    },
    {
     "name": "stderr",
     "output_type": "stream",
     "text": [
      "100%|██████████| 26/26 [00:00<00:00, 32.10it/s]\n"
     ]
    },
    {
     "name": "stdout",
     "output_type": "stream",
     "text": [
      "Epoch 60/100, Train Loss: 0.3443, Val Loss: 0.3538, Val Accuracy: 0.8359\n"
     ]
    },
    {
     "name": "stderr",
     "output_type": "stream",
     "text": [
      "100%|██████████| 26/26 [00:00<00:00, 33.17it/s]\n"
     ]
    },
    {
     "name": "stdout",
     "output_type": "stream",
     "text": [
      "Epoch 61/100, Train Loss: 0.3410, Val Loss: 0.3515, Val Accuracy: 0.8357\n",
      "torch.Size([225]) torch.Size([2237])\n",
      "combined_metrics torch.Size([2462])\n",
      "mask torch.Size([2462])\n",
      "tensor(1437)\n",
      "num_emb_edges 225\n",
      "tensor(116) tensor(457)\n",
      "Chosen edges to del emb: tensor([[ 0,  0,  0,  0,  0,  0,  0,  1,  1,  1,  1,  1,  1,  1,  2,  2,  2,  2,\n",
      "          2,  2,  2,  3,  3,  3,  3,  3,  3,  3,  5,  5,  5,  5,  5,  5,  5,  5,\n",
      "         10, 11, 11, 12, 12, 12, 13, 14, 15, 15, 15, 15, 15, 15, 15, 16, 16, 16,\n",
      "         16, 16, 16, 16, 17, 17, 17, 17, 17, 17, 17, 18, 18, 18, 18, 18, 18, 18,\n",
      "         19, 19, 19, 19, 19, 19, 19, 20, 20, 20, 20, 20, 20, 20, 21, 21, 21, 21,\n",
      "         21, 21, 21, 21, 22, 22, 22, 22, 22, 22, 22, 22, 23, 23, 23, 23, 23, 23,\n",
      "         23, 24, 24, 24, 24, 24, 24, 24],\n",
      "        [ 7, 11, 31, 33, 47, 48, 49,  7, 13, 31, 33, 47, 48, 49,  7, 11, 31, 33,\n",
      "         47, 48, 49,  7, 11, 31, 33, 47, 48, 49,  7, 11, 13, 31, 33, 47, 48, 49,\n",
      "         48,  7, 48,  7, 11, 48,  7,  7,  7, 13, 31, 33, 47, 48, 49, 11, 13, 31,\n",
      "         33, 47, 48, 49,  7, 11, 31, 33, 47, 48, 49,  7, 11, 31, 33, 47, 48, 49,\n",
      "          7, 11, 31, 33, 47, 48, 49,  7, 11, 31, 33, 47, 48, 49,  7, 11, 13, 31,\n",
      "         33, 47, 48, 49,  7, 11, 13, 31, 33, 47, 48, 49,  7, 11, 31, 33, 47, 48,\n",
      "         49,  7, 11, 31, 33, 47, 48, 49]], dtype=torch.int32) 116\n",
      "Chosen edges to del exp: tensor([[ 2,  9, 21, 27,  0,  1,  2,  4,  6,  7,  9, 14, 15, 17, 18, 20, 23, 25,\n",
      "         26, 27, 28, 29, 21, 27,  0,  1,  2,  4,  6,  7,  9, 14, 15, 17, 18, 20,\n",
      "         23, 25, 26, 27, 28, 29,  0,  1,  2,  3,  4,  5,  6,  7,  8, 14, 15, 17,\n",
      "         18, 21, 25, 26, 27, 28, 29,  0,  1,  2,  4,  6,  7,  9, 14, 15, 17, 18,\n",
      "         20, 23, 25, 26, 28, 29,  0,  1,  2,  3,  4,  5,  6,  7,  8, 14, 15, 17,\n",
      "         18, 21, 25, 26, 27, 28, 29,  0,  1,  2,  3,  4,  5,  6,  7,  8, 14, 15,\n",
      "         17, 18, 21, 23, 25, 26, 28, 29,  0,  1,  2,  3,  4,  5,  6,  7,  8, 14,\n",
      "         15, 17, 18, 21, 25, 26, 27, 28, 29,  0,  1,  2,  3,  4,  5,  6,  7,  8,\n",
      "         14, 15, 17, 18, 21, 23, 25, 26, 28, 29,  0,  1,  3,  4,  5,  6,  7,  8,\n",
      "         14, 15, 17, 18, 21, 23, 25, 26, 27, 28, 29,  0,  1,  2,  3,  4,  5,  6,\n",
      "          8,  9, 14, 15, 17, 18, 21, 23, 25, 26, 27, 28, 29,  0,  1,  2,  3,  4,\n",
      "          5,  6,  7,  8,  9, 14, 15, 17, 18, 23, 25, 26, 27, 28, 29,  0,  1,  2,\n",
      "          3,  4,  5,  6,  7,  8, 14, 15, 17, 18, 21, 25, 26, 27, 28, 29,  0,  1,\n",
      "          2,  3,  4,  5,  6,  7,  8,  9, 14, 15, 17, 18, 21, 23, 25, 26, 28, 29,\n",
      "          0,  1,  3,  4,  5,  6,  7,  8,  9, 14, 15, 17, 18, 20, 21, 23, 25, 26,\n",
      "         27, 28, 29,  0,  1,  2,  3,  4,  5,  6,  8,  9, 14, 15, 17, 18, 20, 21,\n",
      "         23, 25, 26, 27, 28, 29,  0,  1,  2,  3,  4,  5,  6,  7,  8,  9, 14, 15,\n",
      "         17, 18, 20, 23, 25, 26, 27, 28, 29,  0,  1,  2,  3,  4,  5,  6,  7,  8,\n",
      "          9, 14, 15, 17, 18, 20, 21, 25, 26, 27, 28, 29,  0,  1,  2,  3,  4,  5,\n",
      "          6,  7,  8,  9, 14, 15, 17, 18, 20, 21, 23, 25, 26, 28, 29,  0,  1,  3,\n",
      "          4,  5,  6,  7,  8,  9, 14, 15, 17, 18, 21, 23, 25, 26, 27, 28, 29,  0,\n",
      "          1,  2,  3,  4,  5,  6,  8,  9, 14, 15, 17, 18, 21, 23, 25, 26, 27, 28,\n",
      "         29,  0,  1,  2,  3,  4,  5,  6,  7,  8,  9, 14, 15, 17, 18, 23, 25, 26,\n",
      "         27, 28, 29,  0,  1,  2,  3,  4,  5,  6,  7,  8,  9, 14, 15, 17, 18, 21,\n",
      "         25, 26, 27, 28, 29,  0,  1,  2,  3,  4,  5,  6,  7,  8,  9, 14, 15, 17,\n",
      "         18, 21, 23, 25, 26, 28, 29],\n",
      "        [50, 50, 50, 50, 51, 51, 51, 51, 51, 51, 51, 51, 51, 51, 51, 51, 51, 51,\n",
      "         51, 51, 51, 51, 52, 52, 53, 53, 53, 53, 53, 53, 53, 53, 53, 53, 53, 53,\n",
      "         53, 53, 53, 53, 53, 53, 54, 54, 54, 54, 54, 54, 54, 54, 54, 54, 54, 54,\n",
      "         54, 54, 54, 54, 54, 54, 54, 55, 55, 55, 55, 55, 55, 55, 55, 55, 55, 55,\n",
      "         55, 55, 55, 55, 55, 55, 56, 56, 56, 56, 56, 56, 56, 56, 56, 56, 56, 56,\n",
      "         56, 56, 56, 56, 56, 56, 56, 57, 57, 57, 57, 57, 57, 57, 57, 57, 57, 57,\n",
      "         57, 57, 57, 57, 57, 57, 57, 57, 58, 58, 58, 58, 58, 58, 58, 58, 58, 58,\n",
      "         58, 58, 58, 58, 58, 58, 58, 58, 58, 59, 59, 59, 59, 59, 59, 59, 59, 59,\n",
      "         59, 59, 59, 59, 59, 59, 59, 59, 59, 59, 60, 60, 60, 60, 60, 60, 60, 60,\n",
      "         60, 60, 60, 60, 60, 60, 60, 60, 60, 60, 60, 61, 61, 61, 61, 61, 61, 61,\n",
      "         61, 61, 61, 61, 61, 61, 61, 61, 61, 61, 61, 61, 61, 62, 62, 62, 62, 62,\n",
      "         62, 62, 62, 62, 62, 62, 62, 62, 62, 62, 62, 62, 62, 62, 62, 63, 63, 63,\n",
      "         63, 63, 63, 63, 63, 63, 63, 63, 63, 63, 63, 63, 63, 63, 63, 63, 64, 64,\n",
      "         64, 64, 64, 64, 64, 64, 64, 64, 64, 64, 64, 64, 64, 64, 64, 64, 64, 64,\n",
      "         65, 65, 65, 65, 65, 65, 65, 65, 65, 65, 65, 65, 65, 65, 65, 65, 65, 65,\n",
      "         65, 65, 65, 66, 66, 66, 66, 66, 66, 66, 66, 66, 66, 66, 66, 66, 66, 66,\n",
      "         66, 66, 66, 66, 66, 66, 67, 67, 67, 67, 67, 67, 67, 67, 67, 67, 67, 67,\n",
      "         67, 67, 67, 67, 67, 67, 67, 67, 67, 68, 68, 68, 68, 68, 68, 68, 68, 68,\n",
      "         68, 68, 68, 68, 68, 68, 68, 68, 68, 68, 68, 68, 69, 69, 69, 69, 69, 69,\n",
      "         69, 69, 69, 69, 69, 69, 69, 69, 69, 69, 69, 69, 69, 69, 69, 70, 70, 70,\n",
      "         70, 70, 70, 70, 70, 70, 70, 70, 70, 70, 70, 70, 70, 70, 70, 70, 70, 71,\n",
      "         71, 71, 71, 71, 71, 71, 71, 71, 71, 71, 71, 71, 71, 71, 71, 71, 71, 71,\n",
      "         71, 72, 72, 72, 72, 72, 72, 72, 72, 72, 72, 72, 72, 72, 72, 72, 72, 72,\n",
      "         72, 72, 72, 73, 73, 73, 73, 73, 73, 73, 73, 73, 73, 73, 73, 73, 73, 73,\n",
      "         73, 73, 73, 73, 73, 74, 74, 74, 74, 74, 74, 74, 74, 74, 74, 74, 74, 74,\n",
      "         74, 74, 74, 74, 74, 74, 74]]) 457\n"
     ]
    },
    {
     "name": "stderr",
     "output_type": "stream",
     "text": [
      "100%|██████████| 26/26 [00:00<00:00, 29.47it/s]\n"
     ]
    },
    {
     "name": "stdout",
     "output_type": "stream",
     "text": [
      "Epoch 62/100, Train Loss: 0.3451, Val Loss: 0.3583, Val Accuracy: 0.8340\n",
      "Chosen edges: tensor([[ 0,  0,  1,  1,  2,  2,  2,  2,  7,  9, 15, 21, 21, 21, 21, 21, 21, 25,\n",
      "         25, 25,  1,  7, 25,  1,  7, 25, 21, 25,  2, 21,  2, 21,  1, 25,  1, 25,\n",
      "          1,  5, 25,  2,  7, 21],\n",
      "        [ 7, 13,  7,  8,  1,  4,  9, 12, 11,  7, 13,  1,  2,  4,  8,  9, 12,  4,\n",
      "         11, 12, 31, 31, 31, 33, 33, 33, 35, 37, 38, 38, 41, 41, 47, 47, 48, 48,\n",
      "         49, 49, 49, 60, 61, 62]]) 42\n"
     ]
    },
    {
     "name": "stderr",
     "output_type": "stream",
     "text": [
      "100%|██████████| 26/26 [00:01<00:00, 21.77it/s]\n"
     ]
    },
    {
     "name": "stdout",
     "output_type": "stream",
     "text": [
      "Epoch 63/100, Train Loss: 0.3423, Val Loss: 0.3531, Val Accuracy: 0.8356\n"
     ]
    },
    {
     "name": "stderr",
     "output_type": "stream",
     "text": [
      "100%|██████████| 26/26 [00:01<00:00, 22.41it/s]\n"
     ]
    },
    {
     "name": "stdout",
     "output_type": "stream",
     "text": [
      "Epoch 64/100, Train Loss: 0.3398, Val Loss: 0.3498, Val Accuracy: 0.8365\n"
     ]
    },
    {
     "name": "stderr",
     "output_type": "stream",
     "text": [
      "100%|██████████| 26/26 [00:02<00:00, 11.62it/s]\n"
     ]
    },
    {
     "name": "stdout",
     "output_type": "stream",
     "text": [
      "Epoch 65/100, Train Loss: 0.3366, Val Loss: 0.3474, Val Accuracy: 0.8363\n"
     ]
    },
    {
     "name": "stderr",
     "output_type": "stream",
     "text": [
      "100%|██████████| 26/26 [00:01<00:00, 24.58it/s]\n"
     ]
    },
    {
     "name": "stdout",
     "output_type": "stream",
     "text": [
      "Epoch 66/100, Train Loss: 0.3337, Val Loss: 0.3454, Val Accuracy: 0.8372\n"
     ]
    },
    {
     "name": "stderr",
     "output_type": "stream",
     "text": [
      "100%|██████████| 26/26 [00:01<00:00, 22.55it/s]\n"
     ]
    },
    {
     "name": "stdout",
     "output_type": "stream",
     "text": [
      "Epoch 67/100, Train Loss: 0.3316, Val Loss: 0.3432, Val Accuracy: 0.8411\n",
      "torch.Size([924]) torch.Size([3082])\n",
      "combined_metrics torch.Size([4006])\n",
      "mask torch.Size([4006])\n",
      "tensor(2866)\n",
      "num_emb_edges 924\n",
      "tensor(289) tensor(530)\n",
      "Chosen edges to del emb: tensor([[ 0,  0,  0,  0,  0,  0,  0,  0,  0,  0,  0,  0,  0,  0,  0,  0,  0,  0,\n",
      "          0,  0,  1,  1,  1,  1,  2,  2,  2,  2,  2,  2,  2,  2,  2,  3,  3,  3,\n",
      "          3,  3,  3,  3,  3,  3,  3,  3,  3,  3,  3,  5,  5,  5,  5,  5,  5,  5,\n",
      "          5,  5,  5,  5,  5,  5,  5,  5,  5,  5,  5,  5,  6,  6,  6,  6,  6,  6,\n",
      "          6,  6,  6,  6,  6,  6,  6,  6,  6,  9,  9,  9,  9,  9,  9,  9,  9,  9,\n",
      "          9,  9,  9,  9,  9,  9,  9, 10, 10, 10, 10, 10, 10, 10, 10, 10, 10, 10,\n",
      "         13, 13, 13, 13, 13, 13, 13, 13, 13, 13, 13, 13, 13, 13, 13, 13, 13, 13,\n",
      "         13, 13, 13, 14, 15, 15, 15, 15, 15, 15, 15, 15, 15, 15, 15, 15, 15, 15,\n",
      "         15, 15, 15, 15, 15, 16, 16, 16, 16, 16, 16, 16, 16, 16, 16, 17, 17, 19,\n",
      "         19, 19, 26, 26, 27, 27, 27, 27, 27, 28, 28, 28, 28, 28, 28, 28, 28, 28,\n",
      "         29, 29, 29, 29, 29, 29, 29, 29, 29, 30, 30, 30, 30, 30, 30, 30, 30, 30,\n",
      "         30, 30, 31, 31, 31, 31, 31, 31, 31, 31, 31, 31, 31, 31, 31, 32, 33, 33,\n",
      "         34, 34, 34, 34, 34, 34, 34, 34, 34, 34, 34, 34, 34, 34, 35, 35, 35, 35,\n",
      "         35, 35, 35, 35, 35, 35, 35, 35, 35, 35, 36, 36, 36, 36, 36, 36, 36, 36,\n",
      "         36, 36, 37, 37, 37, 37, 37, 37, 37, 37, 37, 37, 38, 38, 38, 38, 38, 38,\n",
      "         38, 38, 38, 38, 39, 39, 40, 40, 40, 40, 40, 40, 40, 40, 40, 40, 41, 41,\n",
      "         41],\n",
      "        [ 1,  2,  7,  8,  9, 11, 12, 13, 31, 33, 35, 37, 38, 41, 47, 48, 49, 60,\n",
      "         61, 62,  4,  9, 35, 48,  2,  7,  8,  9, 12, 13, 35, 37, 48,  7,  8,  9,\n",
      "         11, 31, 33, 35, 37, 47, 48, 49, 60, 61, 62,  1,  2,  4,  7,  8,  9, 11,\n",
      "         12, 13, 31, 33, 35, 37, 47, 48, 49, 60, 61, 62,  4,  7,  9, 11, 13, 31,\n",
      "         33, 35, 37, 47, 48, 49, 60, 61, 62,  2,  7,  8,  9, 12, 13, 31, 33, 35,\n",
      "         37, 47, 48, 49, 60, 61, 62,  9, 11, 31, 33, 35, 47, 48, 49, 60, 61, 62,\n",
      "          1,  2,  4,  7,  8,  9, 11, 12, 13, 31, 33, 35, 37, 38, 41, 47, 48, 49,\n",
      "         60, 61, 62,  7,  1,  7,  8,  9, 11, 12, 13, 31, 33, 35, 37, 38, 41, 47,\n",
      "         48, 49, 60, 61, 62,  7, 11, 31, 33, 47, 48, 49, 60, 61, 62,  4, 48,  2,\n",
      "         12, 37,  9, 11,  4,  7, 35, 37, 48,  4, 31, 33, 47, 48, 49, 60, 61, 62,\n",
      "         11, 31, 33, 47, 48, 49, 60, 61, 62,  2,  9, 31, 33, 35, 47, 48, 49, 60,\n",
      "         61, 62,  2,  4,  9, 11, 31, 33, 35, 47, 48, 49, 60, 61, 62,  7,  7, 48,\n",
      "          2,  4,  9, 11, 31, 33, 35, 37, 47, 48, 49, 60, 61, 62,  2,  4,  9, 11,\n",
      "         31, 33, 35, 37, 47, 48, 49, 60, 61, 62,  7, 11, 31, 33, 47, 48, 49, 60,\n",
      "         61, 62,  7, 11, 31, 33, 47, 48, 49, 60, 61, 62,  7, 11, 31, 33, 47, 48,\n",
      "         49, 60, 61, 62, 33, 48,  7, 11, 31, 33, 47, 48, 49, 60, 61, 62, 31, 33,\n",
      "         48]], dtype=torch.int32) 289\n",
      "Chosen edges to del exp: tensor([[  1,   2,   4,  ...,  27,  28,  29],\n",
      "        [ 75,  75,  75,  ..., 116, 116, 116]]) 530\n"
     ]
    },
    {
     "name": "stderr",
     "output_type": "stream",
     "text": [
      "100%|██████████| 26/26 [00:01<00:00, 20.39it/s]\n"
     ]
    },
    {
     "name": "stdout",
     "output_type": "stream",
     "text": [
      "Epoch 68/100, Train Loss: 0.3452, Val Loss: 0.3578, Val Accuracy: 0.8366\n",
      "Chosen edges: tensor([[  0,   4,   5,   6,   7,  17,  23,  27,   2,  21],\n",
      "        [  9,   7,   4,   7,   4,   7,   7,   4, 114, 116]]) 10\n"
     ]
    },
    {
     "name": "stderr",
     "output_type": "stream",
     "text": [
      "100%|██████████| 26/26 [00:00<00:00, 36.34it/s]\n"
     ]
    },
    {
     "name": "stdout",
     "output_type": "stream",
     "text": [
      "Epoch 69/100, Train Loss: 0.3369, Val Loss: 0.3481, Val Accuracy: 0.8368\n"
     ]
    },
    {
     "name": "stderr",
     "output_type": "stream",
     "text": [
      "100%|██████████| 26/26 [00:01<00:00, 22.66it/s]\n"
     ]
    },
    {
     "name": "stdout",
     "output_type": "stream",
     "text": [
      "Epoch 70/100, Train Loss: 0.3333, Val Loss: 0.3449, Val Accuracy: 0.8383\n"
     ]
    },
    {
     "name": "stderr",
     "output_type": "stream",
     "text": [
      "100%|██████████| 26/26 [00:01<00:00, 19.79it/s]\n"
     ]
    },
    {
     "name": "stdout",
     "output_type": "stream",
     "text": [
      "Epoch 71/100, Train Loss: 0.3314, Val Loss: 0.3429, Val Accuracy: 0.8411\n"
     ]
    },
    {
     "name": "stderr",
     "output_type": "stream",
     "text": [
      "100%|██████████| 26/26 [00:00<00:00, 29.55it/s]\n"
     ]
    },
    {
     "name": "stdout",
     "output_type": "stream",
     "text": [
      "Epoch 72/100, Train Loss: 0.3295, Val Loss: 0.3413, Val Accuracy: 0.8396\n"
     ]
    },
    {
     "name": "stderr",
     "output_type": "stream",
     "text": [
      "100%|██████████| 26/26 [00:01<00:00, 24.28it/s]\n"
     ]
    },
    {
     "name": "stdout",
     "output_type": "stream",
     "text": [
      "Epoch 73/100, Train Loss: 0.3278, Val Loss: 0.3408, Val Accuracy: 0.8414\n",
      "torch.Size([60]) torch.Size([2862])\n",
      "combined_metrics torch.Size([2922])\n",
      "mask torch.Size([2922])\n",
      "tensor(2445)\n",
      "num_emb_edges 60\n",
      "tensor(35) tensor(126)\n",
      "Chosen edges to del emb: tensor([[  0,   0,   0,   0,   0,   1,   1,   1,   2,   2,   2,   2,   2,   3,\n",
      "           3,   3,   4,   4,   4,   4,   4,   5,   5,   5,   6,   6,   6,   6,\n",
      "           7,   7,   7,   8,   8,   8,   9],\n",
      "        [  4,   7,   9, 114, 116,   7, 114, 116,   4,   7,   9, 114, 116,   7,\n",
      "         114, 116,   4,   7,   9, 114, 116,   7, 114, 116,   7,   9, 114, 116,\n",
      "           4, 114, 116,   4, 114, 116,   4]], dtype=torch.int32) 35\n",
      "Chosen edges to del exp: tensor([[ 21,   0,   1,   2,   5,   6,   7,   9,  14,  15,  20,  21,  23,  25,\n",
      "          26,  27,   1,   2,   7,   9,  14,  15,  21,  23,  25,  27,   0,   1,\n",
      "           2,   4,   5,   7,   9,  14,  15,  20,  21,  23,  25,  26,  27,   1,\n",
      "           2,   5,   9,  14,  15,  21,  23,  25,  27,   0,   1,   2,   4,   5,\n",
      "           6,   7,   9,  14,  15,  20,  21,  23,  25,  26,  27,   1,   2,   4,\n",
      "           5,   6,   7,   9,  14,  15,  20,  21,  25,  26,  27,   1,   2,   5,\n",
      "           7,   9,  15,  21,  23,  25,   0,   1,   4,   5,   6,   7,   8,   9,\n",
      "          14,  15,  17,  21,  23,  25,  26,  27,  28,  29,   0,   1,   2,   4,\n",
      "           5,   6,   7,   8,   9,  14,  15,  17,  23,  25,  26,  27,  28,  29],\n",
      "        [117, 118, 118, 118, 118, 118, 118, 118, 118, 118, 118, 118, 118, 118,\n",
      "         118, 118, 119, 119, 119, 119, 119, 119, 119, 119, 119, 119, 120, 120,\n",
      "         120, 120, 120, 120, 120, 120, 120, 120, 120, 120, 120, 120, 120, 121,\n",
      "         121, 121, 121, 121, 121, 121, 121, 121, 121, 122, 122, 122, 122, 122,\n",
      "         122, 122, 122, 122, 122, 122, 122, 122, 122, 122, 122, 123, 123, 123,\n",
      "         123, 123, 123, 123, 123, 123, 123, 123, 123, 123, 123, 124, 124, 124,\n",
      "         124, 124, 124, 124, 124, 124, 125, 125, 125, 125, 125, 125, 125, 125,\n",
      "         125, 125, 125, 125, 125, 125, 125, 125, 125, 125, 126, 126, 126, 126,\n",
      "         126, 126, 126, 126, 126, 126, 126, 126, 126, 126, 126, 126, 126, 126]]) 126\n"
     ]
    },
    {
     "name": "stderr",
     "output_type": "stream",
     "text": [
      "100%|██████████| 26/26 [00:00<00:00, 28.20it/s]\n"
     ]
    },
    {
     "name": "stdout",
     "output_type": "stream",
     "text": [
      "Epoch 74/100, Train Loss: 0.3433, Val Loss: 0.3548, Val Accuracy: 0.8377\n",
      "Chosen edges: tensor([[  0,   4,   6,   6,   8,   9,   9,  15,  20,  23,  25,  26,  28,  29,\n",
      "          21],\n",
      "        [  4,   9,   4,   9,   4,   4,   9,   7,   7,   4,   9,   7,   7,   4,\n",
      "         126]]) 15\n"
     ]
    },
    {
     "name": "stderr",
     "output_type": "stream",
     "text": [
      "100%|██████████| 26/26 [00:01<00:00, 23.11it/s]\n"
     ]
    },
    {
     "name": "stdout",
     "output_type": "stream",
     "text": [
      "Epoch 75/100, Train Loss: 0.3345, Val Loss: 0.3446, Val Accuracy: 0.8399\n"
     ]
    },
    {
     "name": "stderr",
     "output_type": "stream",
     "text": [
      "100%|██████████| 26/26 [00:01<00:00, 17.14it/s]\n"
     ]
    },
    {
     "name": "stdout",
     "output_type": "stream",
     "text": [
      "Epoch 76/100, Train Loss: 0.3304, Val Loss: 0.3419, Val Accuracy: 0.8394\n"
     ]
    },
    {
     "name": "stderr",
     "output_type": "stream",
     "text": [
      "100%|██████████| 26/26 [00:01<00:00, 18.39it/s]\n"
     ]
    },
    {
     "name": "stdout",
     "output_type": "stream",
     "text": [
      "Epoch 77/100, Train Loss: 0.3280, Val Loss: 0.3404, Val Accuracy: 0.8411\n"
     ]
    },
    {
     "name": "stderr",
     "output_type": "stream",
     "text": [
      "100%|██████████| 26/26 [00:01<00:00, 23.75it/s]\n"
     ]
    },
    {
     "name": "stdout",
     "output_type": "stream",
     "text": [
      "Epoch 78/100, Train Loss: 0.3266, Val Loss: 0.3396, Val Accuracy: 0.8417\n"
     ]
    },
    {
     "name": "stderr",
     "output_type": "stream",
     "text": [
      "100%|██████████| 26/26 [00:01<00:00, 17.79it/s]\n"
     ]
    },
    {
     "name": "stdout",
     "output_type": "stream",
     "text": [
      "Epoch 79/100, Train Loss: 0.3256, Val Loss: 0.3384, Val Accuracy: 0.8428\n",
      "torch.Size([75]) torch.Size([3201])\n",
      "combined_metrics torch.Size([3276])\n",
      "mask torch.Size([3276])\n",
      "tensor(2255)\n",
      "num_emb_edges 75\n",
      "tensor(56) tensor(294)\n",
      "Chosen edges to del emb: tensor([[  0,   0,   0,   0,   1,   1,   1,   1,   2,   2,   2,   2,   3,   3,\n",
      "           3,   3,   4,   4,   4,   4,   5,   5,   5,   5,   6,   7,   7,   7,\n",
      "           7,   8,   8,   8,   8,   9,   9,   9,   9,  10,  10,  10,  10,  11,\n",
      "          11,  11,  11,  12,  12,  12,  12,  13,  13,  13,  13,  14,  14,  14],\n",
      "        [  4,   7,   9, 126,   4,   7,   9, 126,   4,   7,   9, 126,   4,   7,\n",
      "           9, 126,   4,   7,   9, 126,   4,   7,   9, 126,   9,   4,   7,   9,\n",
      "         126,   4,   7,   9, 126,   4,   7,   9, 126,   4,   7,   9, 126,   4,\n",
      "           7,   9, 126,   4,   7,   9, 126,   4,   7,   9, 126,   7,   9, 126]],\n",
      "       dtype=torch.int32) 56\n",
      "Chosen edges to del exp: tensor([[  1,   2,   4,   5,   6,   7,   8,   9,  14,  15,  17,  18,  20,  21,\n",
      "          23,  25,  26,  27,  28,  29,   0,   1,   2,   5,   6,   7,   8,   9,\n",
      "          14,  15,  17,  20,  21,  23,  25,  26,  27,  28,  29,   0,   1,   2,\n",
      "           4,   5,   7,   8,   9,  14,  15,  17,  18,  20,  21,  23,  25,  26,\n",
      "          27,  28,  29,   0,   1,   2,   4,   5,   7,   8,   9,  14,  15,  17,\n",
      "          20,  21,  23,  25,  26,  27,  28,  29,   0,   1,   2,   4,   5,   6,\n",
      "           7,   9,  14,  15,  17,  18,  20,  21,  23,  25,  26,  27,  28,  29,\n",
      "           0,   1,   2,   4,   5,   6,   7,   8,  14,  15,  17,  18,  20,  21,\n",
      "          23,  25,  26,  27,  28,  29,   0,   1,   2,   4,   5,   6,   7,   8,\n",
      "          14,  15,  17,  20,  21,  23,  25,  26,  27,  28,  29,   0,   1,   2,\n",
      "           4,   5,   6,   7,   9,  14,  17,  18,  20,  21,  23,  25,  26,  27,\n",
      "          28,  29,   0,   1,   2,   4,   5,   6,   7,   9,  14,  15,  17,  18,\n",
      "          21,  23,  25,  26,  27,  28,  29,   0,   1,   2,   4,   5,   6,   7,\n",
      "           8,   9,  14,  15,  17,  18,  20,  21,  25,  26,  27,  28,  29,   0,\n",
      "           1,   2,   4,   5,   6,   7,   8,   9,  14,  15,  17,  20,  21,  23,\n",
      "          26,  27,  28,  29,   0,   1,   2,   4,   5,   6,   7,   9,  14,  15,\n",
      "          17,  18,  20,  21,  23,  25,  27,  28,  29,   0,   1,   2,   4,   5,\n",
      "           6,   7,   9,  14,  15,  17,  18,  20,  21,  23,  25,  26,  27,  29,\n",
      "           0,   1,   2,   4,   5,   6,   7,   8,   9,  14,  15,  17,  18,  20,\n",
      "          21,  23,  25,  26,  27,  28,   0,   1,   2,   3,   4,   5,   6,   7,\n",
      "           8,   9,  13,  14,  15,  17,  18,  20,  23,  25,  26,  27,  28,  29],\n",
      "        [127, 127, 127, 127, 127, 127, 127, 127, 127, 127, 127, 127, 127, 127,\n",
      "         127, 127, 127, 127, 127, 127, 128, 128, 128, 128, 128, 128, 128, 128,\n",
      "         128, 128, 128, 128, 128, 128, 128, 128, 128, 128, 128, 129, 129, 129,\n",
      "         129, 129, 129, 129, 129, 129, 129, 129, 129, 129, 129, 129, 129, 129,\n",
      "         129, 129, 129, 130, 130, 130, 130, 130, 130, 130, 130, 130, 130, 130,\n",
      "         130, 130, 130, 130, 130, 130, 130, 130, 131, 131, 131, 131, 131, 131,\n",
      "         131, 131, 131, 131, 131, 131, 131, 131, 131, 131, 131, 131, 131, 131,\n",
      "         132, 132, 132, 132, 132, 132, 132, 132, 132, 132, 132, 132, 132, 132,\n",
      "         132, 132, 132, 132, 132, 132, 133, 133, 133, 133, 133, 133, 133, 133,\n",
      "         133, 133, 133, 133, 133, 133, 133, 133, 133, 133, 133, 134, 134, 134,\n",
      "         134, 134, 134, 134, 134, 134, 134, 134, 134, 134, 134, 134, 134, 134,\n",
      "         134, 134, 135, 135, 135, 135, 135, 135, 135, 135, 135, 135, 135, 135,\n",
      "         135, 135, 135, 135, 135, 135, 135, 136, 136, 136, 136, 136, 136, 136,\n",
      "         136, 136, 136, 136, 136, 136, 136, 136, 136, 136, 136, 136, 136, 137,\n",
      "         137, 137, 137, 137, 137, 137, 137, 137, 137, 137, 137, 137, 137, 137,\n",
      "         137, 137, 137, 137, 138, 138, 138, 138, 138, 138, 138, 138, 138, 138,\n",
      "         138, 138, 138, 138, 138, 138, 138, 138, 138, 139, 139, 139, 139, 139,\n",
      "         139, 139, 139, 139, 139, 139, 139, 139, 139, 139, 139, 139, 139, 139,\n",
      "         140, 140, 140, 140, 140, 140, 140, 140, 140, 140, 140, 140, 140, 140,\n",
      "         140, 140, 140, 140, 140, 140, 141, 141, 141, 141, 141, 141, 141, 141,\n",
      "         141, 141, 141, 141, 141, 141, 141, 141, 141, 141, 141, 141, 141, 141]]) 294\n"
     ]
    },
    {
     "name": "stderr",
     "output_type": "stream",
     "text": [
      "100%|██████████| 26/26 [00:01<00:00, 20.02it/s]\n"
     ]
    },
    {
     "name": "stdout",
     "output_type": "stream",
     "text": [
      "Epoch 80/100, Train Loss: 0.3404, Val Loss: 0.3526, Val Accuracy: 0.8359\n",
      "Chosen edges: tensor([[  1,   4,  14,  20,  26,  28,  23,   7,  21,  21,   7,   7,  21,  21,\n",
      "           2,  21],\n",
      "        [  4,   4,   4,   4,   4,   4,  58,  83,  87,  91,  96,  99, 101, 104,\n",
      "         105, 106]]) 16\n"
     ]
    },
    {
     "name": "stderr",
     "output_type": "stream",
     "text": [
      "100%|██████████| 26/26 [00:01<00:00, 22.78it/s]\n"
     ]
    },
    {
     "name": "stdout",
     "output_type": "stream",
     "text": [
      "Epoch 81/100, Train Loss: 0.3348, Val Loss: 0.3458, Val Accuracy: 0.8379\n"
     ]
    },
    {
     "name": "stderr",
     "output_type": "stream",
     "text": [
      "100%|██████████| 26/26 [00:01<00:00, 22.27it/s]\n"
     ]
    },
    {
     "name": "stdout",
     "output_type": "stream",
     "text": [
      "Epoch 82/100, Train Loss: 0.3299, Val Loss: 0.3433, Val Accuracy: 0.8389\n"
     ]
    },
    {
     "name": "stderr",
     "output_type": "stream",
     "text": [
      "100%|██████████| 26/26 [00:01<00:00, 22.48it/s]\n"
     ]
    },
    {
     "name": "stdout",
     "output_type": "stream",
     "text": [
      "Epoch 83/100, Train Loss: 0.3287, Val Loss: 0.3417, Val Accuracy: 0.8423\n"
     ]
    },
    {
     "name": "stderr",
     "output_type": "stream",
     "text": [
      "100%|██████████| 26/26 [00:01<00:00, 23.19it/s]\n"
     ]
    },
    {
     "name": "stdout",
     "output_type": "stream",
     "text": [
      "Epoch 84/100, Train Loss: 0.3277, Val Loss: 0.3407, Val Accuracy: 0.8423\n"
     ]
    },
    {
     "name": "stderr",
     "output_type": "stream",
     "text": [
      "100%|██████████| 26/26 [00:01<00:00, 24.91it/s]\n"
     ]
    },
    {
     "name": "stdout",
     "output_type": "stream",
     "text": [
      "Epoch 85/100, Train Loss: 0.3267, Val Loss: 0.3402, Val Accuracy: 0.8419\n",
      "torch.Size([192]) torch.Size([3403])\n",
      "combined_metrics torch.Size([3595])\n",
      "mask torch.Size([3595])\n",
      "tensor(2688)\n",
      "num_emb_edges 192\n",
      "tensor(110) tensor(302)\n",
      "Chosen edges to del emb: tensor([[  0,   0,   0,   0,   0,   0,   0,   0,   0,   0,   0,   1,   1,   1,\n",
      "           1,   1,   1,   1,   1,   1,   1,   1,   2,   2,   2,   2,   2,   2,\n",
      "           2,   2,   2,   2,   2,   3,   3,   3,   3,   3,   3,   3,   3,   3,\n",
      "           4,   4,   4,   4,   4,   4,   4,   4,   4,   4,   4,   5,   5,   5,\n",
      "           5,   5,   5,   5,   5,   5,   5,   5,   7,   7,   7,   7,   8,   8,\n",
      "           8,   8,   8,   8,   8,   9,   9,   9,   9,   9,   9,   9,  10,  10,\n",
      "          10,  11,  11,  12,  12,  12,  12,  12,  12,  12,  12,  12,  12,  13,\n",
      "          13,  13,  14,  14,  14,  14,  14,  14,  14,  15,  15,  15],\n",
      "        [  4,  58,  83,  87,  91,  96,  99, 101, 104, 105, 106,   4,  58,  83,\n",
      "          87,  91,  96,  99, 101, 104, 105, 106,   4,  58,  83,  87,  91,  96,\n",
      "          99, 101, 104, 105, 106,   4,  87,  91,  96,  99, 101, 104, 105, 106,\n",
      "           4,  58,  83,  87,  91,  96,  99, 101, 104, 105, 106,   4,  58,  83,\n",
      "          87,  91,  96,  99, 101, 104, 105, 106,  83,  91,  96,  99,  91,  96,\n",
      "          99, 101, 104, 105, 106,  83,  87,  91, 101, 104, 105, 106,  91,  96,\n",
      "          99,  91,  96,   4,  83,  87,  91,  96,  99, 101, 104, 105, 106, 104,\n",
      "         105, 106,  83,  87,  91, 101, 104, 105, 106, 104, 105, 106]],\n",
      "       dtype=torch.int32) 110\n",
      "Chosen edges to del exp: tensor([[  0,   2,   5,   6,   7,   8,   9,  14,  15,  17,  20,  21,  23,  25,\n",
      "          26,  27,  28,  29,   0,   1,   2,   5,   6,   7,   8,   9,  14,  15,\n",
      "          17,  20,  21,  23,  25,  26,  27,  28,  29,   0,   1,   2,   5,   6,\n",
      "           7,   8,   9,  15,  17,  20,  21,  23,  25,  26,  27,  28,  29,   0,\n",
      "           1,   2,   5,   6,   7,   8,   9,  14,  15,  17,  21,  23,  25,  26,\n",
      "          27,  28,  29,   0,   1,   2,   5,   6,   7,   8,   9,  14,  15,  17,\n",
      "          20,  21,  23,  25,  27,  28,  29,   0,   1,   2,   5,   6,   7,   8,\n",
      "           9,  14,  15,  17,  20,  21,  23,  25,  26,  27,  29,   0,   1,   2,\n",
      "           4,   5,   6,   7,   8,   9,  14,  15,  17,  18,  21,  25,  26,  27,\n",
      "          28,  29,   0,   1,   2,   3,   4,   5,   6,   8,   9,  13,  14,  15,\n",
      "          17,  18,  21,  23,  25,  26,  27,  28,  29,   0,   1,   2,   4,   5,\n",
      "           6,   7,   8,   9,  14,  15,  17,  18,  20,  23,  25,  26,  27,  28,\n",
      "          29,   0,   1,   2,   4,   5,   6,   7,   8,   9,  14,  15,  17,  25,\n",
      "          26,  27,  28,  29,   0,   1,   2,   3,   4,   5,   6,   8,   9,  13,\n",
      "          14,  15,  17,  18,  20,  21,  23,  25,  26,  27,  28,  29,   0,   1,\n",
      "           2,   3,   4,   5,   6,   8,   9,  13,  14,  15,  17,  18,  21,  23,\n",
      "          25,  26,  27,  28,  29,   0,   1,   2,   4,   5,   6,   7,   8,   9,\n",
      "          14,  15,  17,  20,  23,  25,  26,  27,  28,  29,   0,   2,   4,   5,\n",
      "           6,   7,   8,   9,  14,  15,  17,  18,  20,  23,  25,  26,  27,  28,\n",
      "          29,   0,   4,   5,   6,   7,   8,   9,  14,  17,  18,  20,  21,  23,\n",
      "          25,  26,  27,  28,  29,   0,   2,   4,   5,   6,   7,   8,   9,  14,\n",
      "          17,  20,  23,  25,  26,  27,  28,  29],\n",
      "        [142, 142, 142, 142, 142, 142, 142, 142, 142, 142, 142, 142, 142, 142,\n",
      "         142, 142, 142, 142, 143, 143, 143, 143, 143, 143, 143, 143, 143, 143,\n",
      "         143, 143, 143, 143, 143, 143, 143, 143, 143, 144, 144, 144, 144, 144,\n",
      "         144, 144, 144, 144, 144, 144, 144, 144, 144, 144, 144, 144, 144, 145,\n",
      "         145, 145, 145, 145, 145, 145, 145, 145, 145, 145, 145, 145, 145, 145,\n",
      "         145, 145, 145, 146, 146, 146, 146, 146, 146, 146, 146, 146, 146, 146,\n",
      "         146, 146, 146, 146, 146, 146, 146, 147, 147, 147, 147, 147, 147, 147,\n",
      "         147, 147, 147, 147, 147, 147, 147, 147, 147, 147, 147, 148, 148, 148,\n",
      "         148, 148, 148, 148, 148, 148, 148, 148, 148, 148, 148, 148, 148, 148,\n",
      "         148, 148, 149, 149, 149, 149, 149, 149, 149, 149, 149, 149, 149, 149,\n",
      "         149, 149, 149, 149, 149, 149, 149, 149, 149, 150, 150, 150, 150, 150,\n",
      "         150, 150, 150, 150, 150, 150, 150, 150, 150, 150, 150, 150, 150, 150,\n",
      "         150, 151, 151, 151, 151, 151, 151, 151, 151, 151, 151, 151, 151, 151,\n",
      "         151, 151, 151, 151, 152, 152, 152, 152, 152, 152, 152, 152, 152, 152,\n",
      "         152, 152, 152, 152, 152, 152, 152, 152, 152, 152, 152, 152, 153, 153,\n",
      "         153, 153, 153, 153, 153, 153, 153, 153, 153, 153, 153, 153, 153, 153,\n",
      "         153, 153, 153, 153, 153, 154, 154, 154, 154, 154, 154, 154, 154, 154,\n",
      "         154, 154, 154, 154, 154, 154, 154, 154, 154, 154, 155, 155, 155, 155,\n",
      "         155, 155, 155, 155, 155, 155, 155, 155, 155, 155, 155, 155, 155, 155,\n",
      "         155, 156, 156, 156, 156, 156, 156, 156, 156, 156, 156, 156, 156, 156,\n",
      "         156, 156, 156, 156, 156, 157, 157, 157, 157, 157, 157, 157, 157, 157,\n",
      "         157, 157, 157, 157, 157, 157, 157, 157]]) 302\n"
     ]
    },
    {
     "name": "stderr",
     "output_type": "stream",
     "text": [
      "100%|██████████| 26/26 [00:01<00:00, 21.46it/s]\n"
     ]
    },
    {
     "name": "stdout",
     "output_type": "stream",
     "text": [
      "Epoch 86/100, Train Loss: 0.3392, Val Loss: 0.3505, Val Accuracy: 0.8360\n",
      "Chosen edges: tensor([[ 15,  17,   7],\n",
      "        [  4,   4, 153]]) 3\n"
     ]
    },
    {
     "name": "stderr",
     "output_type": "stream",
     "text": [
      "100%|██████████| 26/26 [00:01<00:00, 22.99it/s]\n"
     ]
    },
    {
     "name": "stdout",
     "output_type": "stream",
     "text": [
      "Epoch 87/100, Train Loss: 0.3333, Val Loss: 0.3440, Val Accuracy: 0.8380\n"
     ]
    },
    {
     "name": "stderr",
     "output_type": "stream",
     "text": [
      "100%|██████████| 26/26 [00:01<00:00, 20.42it/s]\n"
     ]
    },
    {
     "name": "stdout",
     "output_type": "stream",
     "text": [
      "Epoch 88/100, Train Loss: 0.3284, Val Loss: 0.3405, Val Accuracy: 0.8426\n"
     ]
    },
    {
     "name": "stderr",
     "output_type": "stream",
     "text": [
      "100%|██████████| 26/26 [00:01<00:00, 23.02it/s]\n"
     ]
    },
    {
     "name": "stdout",
     "output_type": "stream",
     "text": [
      "Epoch 89/100, Train Loss: 0.3257, Val Loss: 0.3394, Val Accuracy: 0.8437\n"
     ]
    },
    {
     "name": "stderr",
     "output_type": "stream",
     "text": [
      "100%|██████████| 26/26 [00:01<00:00, 19.85it/s]\n"
     ]
    },
    {
     "name": "stdout",
     "output_type": "stream",
     "text": [
      "Epoch 90/100, Train Loss: 0.3242, Val Loss: 0.3381, Val Accuracy: 0.8440\n"
     ]
    },
    {
     "name": "stderr",
     "output_type": "stream",
     "text": [
      "100%|██████████| 26/26 [00:01<00:00, 25.20it/s]\n"
     ]
    },
    {
     "name": "stdout",
     "output_type": "stream",
     "text": [
      "Epoch 91/100, Train Loss: 0.3234, Val Loss: 0.3378, Val Accuracy: 0.8434\n",
      "torch.Size([9]) torch.Size([3194])\n",
      "combined_metrics torch.Size([3203])\n",
      "mask torch.Size([3203])\n",
      "tensor(2568)\n",
      "num_emb_edges 9\n",
      "tensor(6) tensor(63)\n",
      "Chosen edges to del emb: tensor([[  0,   0,   1,   1,   2,   2],\n",
      "        [  4, 153,   4, 153,   4, 153]], dtype=torch.int32) 6\n",
      "Chosen edges to del exp: tensor([[  0,   1,   2,   4,   5,   6,   7,   8,   9,  14,  17,  20,  21,  23,\n",
      "          25,  26,  27,  28,  29,   0,   1,   2,   4,   5,   6,   7,   8,   9,\n",
      "          14,  15,  20,  21,  23,  25,  26,  27,  28,  29,   0,   1,   2,   3,\n",
      "           4,   5,   6,   8,   9,  11,  12,  13,  14,  15,  16,  17,  18,  20,\n",
      "          21,  23,  25,  26,  27,  28,  29],\n",
      "        [158, 158, 158, 158, 158, 158, 158, 158, 158, 158, 158, 158, 158, 158,\n",
      "         158, 158, 158, 158, 158, 159, 159, 159, 159, 159, 159, 159, 159, 159,\n",
      "         159, 159, 159, 159, 159, 159, 159, 159, 159, 159, 160, 160, 160, 160,\n",
      "         160, 160, 160, 160, 160, 160, 160, 160, 160, 160, 160, 160, 160, 160,\n",
      "         160, 160, 160, 160, 160, 160, 160]]) 63\n"
     ]
    },
    {
     "name": "stderr",
     "output_type": "stream",
     "text": [
      "100%|██████████| 26/26 [00:01<00:00, 24.51it/s]\n"
     ]
    },
    {
     "name": "stdout",
     "output_type": "stream",
     "text": [
      "Epoch 92/100, Train Loss: 0.3267, Val Loss: 0.3395, Val Accuracy: 0.8415\n",
      "Chosen edges: tensor([[ 21,   9,   9,   9,   9,   9,   9,  21],\n",
      "        [  6,  48,  49,  83,  96,  99, 116, 150]]) 8\n"
     ]
    },
    {
     "name": "stderr",
     "output_type": "stream",
     "text": [
      "100%|██████████| 26/26 [00:01<00:00, 20.84it/s]\n"
     ]
    },
    {
     "name": "stdout",
     "output_type": "stream",
     "text": [
      "Epoch 93/100, Train Loss: 0.3244, Val Loss: 0.3386, Val Accuracy: 0.8428\n"
     ]
    },
    {
     "name": "stderr",
     "output_type": "stream",
     "text": [
      "100%|██████████| 26/26 [00:01<00:00, 23.97it/s]\n"
     ]
    },
    {
     "name": "stdout",
     "output_type": "stream",
     "text": [
      "Epoch 94/100, Train Loss: 0.3249, Val Loss: 0.3374, Val Accuracy: 0.8423\n"
     ]
    },
    {
     "name": "stderr",
     "output_type": "stream",
     "text": [
      "100%|██████████| 26/26 [00:01<00:00, 17.91it/s]\n"
     ]
    },
    {
     "name": "stdout",
     "output_type": "stream",
     "text": [
      "Epoch 95/100, Train Loss: 0.3235, Val Loss: 0.3368, Val Accuracy: 0.8429\n"
     ]
    },
    {
     "name": "stderr",
     "output_type": "stream",
     "text": [
      "100%|██████████| 26/26 [00:01<00:00, 18.22it/s]\n"
     ]
    },
    {
     "name": "stdout",
     "output_type": "stream",
     "text": [
      "Epoch 96/100, Train Loss: 0.3222, Val Loss: 0.3368, Val Accuracy: 0.8431\n"
     ]
    },
    {
     "name": "stderr",
     "output_type": "stream",
     "text": [
      "100%|██████████| 26/26 [00:01<00:00, 21.73it/s]\n"
     ]
    },
    {
     "name": "stdout",
     "output_type": "stream",
     "text": [
      "Epoch 97/100, Train Loss: 0.3218, Val Loss: 0.3363, Val Accuracy: 0.8432\n",
      "torch.Size([72]) torch.Size([3379])\n",
      "combined_metrics torch.Size([3451])\n",
      "mask torch.Size([3451])\n",
      "tensor(2653)\n",
      "num_emb_edges 72\n",
      "tensor(37) tensor(172)\n",
      "Chosen edges to del emb: tensor([[  0,   0,   0,   0,   0,   0,   1,   1,   1,   1,   1,   1,   1,   1,\n",
      "           4,   4,   4,   4,   4,   4,   5,   5,   6,   6,   6,   6,   6,   6,\n",
      "           6,   6,   7,   7,   7,   7,   7,   7,   7],\n",
      "        [ 48,  49,  83,  96,  99, 116,   6,  48,  49,  83,  96,  99, 116, 150,\n",
      "          48,  49,  83,  96,  99, 116,  96,  99,   6,  48,  49,  83,  96,  99,\n",
      "         116, 150,   6,  48,  49,  83,  96,  99, 116]], dtype=torch.int32) 37\n",
      "Chosen edges to del exp: tensor([[  0,   1,   2,   4,   5,   6,   7,   8,   9,  14,  15,  17,  20,  23,\n",
      "          25,  26,  27,  28,  29,   0,   1,   2,   3,   4,   5,   6,   7,   8,\n",
      "          11,  14,  15,  17,  18,  20,  21,  23,  25,  26,  27,  28,  29,   0,\n",
      "           1,   2,   3,   4,   5,   6,   7,   8,  11,  14,  15,  17,  18,  21,\n",
      "          23,  25,  26,  27,  28,  29,   0,   1,   2,   3,   4,   5,   6,   7,\n",
      "           8,  11,  14,  15,  17,  18,  21,  23,  25,  26,  27,  28,  29,   0,\n",
      "           1,   2,   3,   4,   5,   6,   7,   8,  11,  14,  15,  17,  18,  20,\n",
      "          21,  23,  25,  26,  27,  28,  29,   0,   1,   2,   3,   4,   5,   6,\n",
      "           7,   8,  11,  12,  13,  14,  15,  17,  18,  20,  21,  23,  25,  26,\n",
      "          27,  28,  29,   0,   1,   2,   3,   4,   5,   6,   7,   8,  11,  14,\n",
      "          15,  17,  18,  20,  21,  23,  25,  26,  27,  28,  29,   0,   1,   2,\n",
      "           3,   4,   5,   6,   7,   8,   9,  14,  15,  17,  18,  20,  23,  25,\n",
      "          26,  27,  28,  29],\n",
      "        [161, 161, 161, 161, 161, 161, 161, 161, 161, 161, 161, 161, 161, 161,\n",
      "         161, 161, 161, 161, 161, 162, 162, 162, 162, 162, 162, 162, 162, 162,\n",
      "         162, 162, 162, 162, 162, 162, 162, 162, 162, 162, 162, 162, 162, 163,\n",
      "         163, 163, 163, 163, 163, 163, 163, 163, 163, 163, 163, 163, 163, 163,\n",
      "         163, 163, 163, 163, 163, 163, 164, 164, 164, 164, 164, 164, 164, 164,\n",
      "         164, 164, 164, 164, 164, 164, 164, 164, 164, 164, 164, 164, 164, 165,\n",
      "         165, 165, 165, 165, 165, 165, 165, 165, 165, 165, 165, 165, 165, 165,\n",
      "         165, 165, 165, 165, 165, 165, 165, 166, 166, 166, 166, 166, 166, 166,\n",
      "         166, 166, 166, 166, 166, 166, 166, 166, 166, 166, 166, 166, 166, 166,\n",
      "         166, 166, 166, 167, 167, 167, 167, 167, 167, 167, 167, 167, 167, 167,\n",
      "         167, 167, 167, 167, 167, 167, 167, 167, 167, 167, 167, 168, 168, 168,\n",
      "         168, 168, 168, 168, 168, 168, 168, 168, 168, 168, 168, 168, 168, 168,\n",
      "         168, 168, 168, 168]]) 172\n"
     ]
    },
    {
     "name": "stderr",
     "output_type": "stream",
     "text": [
      "100%|██████████| 26/26 [00:01<00:00, 21.32it/s]\n"
     ]
    },
    {
     "name": "stdout",
     "output_type": "stream",
     "text": [
      "Epoch 98/100, Train Loss: 0.3219, Val Loss: 0.3365, Val Accuracy: 0.8422\n",
      "Chosen edges: tensor([[ 27,   0,   4,  26,   0,   5,  21,  26,  25,  21],\n",
      "        [ 11,  49,  49,  49,  86,  86,  86,  86, 108, 168]]) 10\n"
     ]
    },
    {
     "name": "stderr",
     "output_type": "stream",
     "text": [
      "100%|██████████| 26/26 [00:01<00:00, 22.30it/s]\n"
     ]
    },
    {
     "name": "stdout",
     "output_type": "stream",
     "text": [
      "Epoch 99/100, Train Loss: 0.3221, Val Loss: 0.3366, Val Accuracy: 0.8420\n"
     ]
    },
    {
     "name": "stderr",
     "output_type": "stream",
     "text": [
      "100%|██████████| 26/26 [00:01<00:00, 25.98it/s]\n"
     ]
    },
    {
     "name": "stdout",
     "output_type": "stream",
     "text": [
      "Epoch 100/100, Train Loss: 0.3219, Val Loss: 0.3357, Val Accuracy: 0.8419\n"
     ]
    }
   ],
   "source": [
    "criterion = nn.CrossEntropyLoss()\n",
    "train_sparse_recursive(sparse_model, train_loader, train_loader, val_loader, criterion, hyperparams, device)"
   ]
  },
  {
   "cell_type": "code",
   "execution_count": null,
   "id": "8b866456",
   "metadata": {},
   "outputs": [],
   "source": []
  },
  {
   "cell_type": "code",
   "execution_count": null,
   "id": "2b489091",
   "metadata": {},
   "outputs": [],
   "source": []
  }
 ],
 "metadata": {
  "kernelspec": {
   "display_name": "self-expanding-nets",
   "language": "python",
   "name": "python3"
  },
  "language_info": {
   "codemirror_mode": {
    "name": "ipython",
    "version": 3
   },
   "file_extension": ".py",
   "mimetype": "text/x-python",
   "name": "python",
   "nbconvert_exporter": "python",
   "pygments_lexer": "ipython3",
   "version": "3.12.7"
  }
 },
 "nbformat": 4,
 "nbformat_minor": 5
}
