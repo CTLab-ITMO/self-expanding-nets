{
 "cells": [
  {
   "cell_type": "code",
   "execution_count": 2,
   "id": "initial_id",
   "metadata": {
    "ExecuteTime": {
     "end_time": "2025-02-03T17:00:55.466446Z",
     "start_time": "2025-02-03T17:00:52.143161Z"
    },
    "collapsed": true
   },
   "outputs": [],
   "source": [
    "import pandas as pd\n",
    "import torch\n",
    "import torch.nn as nn\n",
    "import torch.optim as optim\n",
    "from sklearn.metrics import accuracy_score\n",
    "from sklearn.model_selection import train_test_split\n",
    "from sklearn.preprocessing import StandardScaler\n",
    "from torch.utils.data import DataLoader, Dataset\n",
    "from tqdm import tqdm"
   ]
  },
  {
   "cell_type": "code",
   "execution_count": 3,
   "id": "851a61bbbac63426",
   "metadata": {
    "ExecuteTime": {
     "end_time": "2025-02-03T17:00:55.481102Z",
     "start_time": "2025-02-03T17:00:55.470465Z"
    }
   },
   "outputs": [
    {
     "ename": "ImportError",
     "evalue": "cannot import name 'GradientMeanEdgeMetric' from 'senmodel.metrics.nonlinearity_metrics' (D:\\Coding\\PY\\self-expanding-nets\\senmodel\\metrics\\nonlinearity_metrics.py)",
     "output_type": "error",
     "traceback": [
      "\u001b[31m---------------------------------------------------------------------------\u001b[39m",
      "\u001b[31mImportError\u001b[39m                               Traceback (most recent call last)",
      "\u001b[36mCell\u001b[39m\u001b[36m \u001b[39m\u001b[32mIn[3]\u001b[39m\u001b[32m, line 2\u001b[39m\n\u001b[32m      1\u001b[39m \u001b[38;5;28;01mfrom\u001b[39;00m\u001b[38;5;250m \u001b[39m\u001b[34;01msenmodel\u001b[39;00m\u001b[34;01m.\u001b[39;00m\u001b[34;01mmodel\u001b[39;00m\u001b[34;01m.\u001b[39;00m\u001b[34;01mutils\u001b[39;00m\u001b[38;5;250m \u001b[39m\u001b[38;5;28;01mimport\u001b[39;00m convert_dense_to_sparse_network, get_model_last_layer\n\u001b[32m----> \u001b[39m\u001b[32m2\u001b[39m \u001b[38;5;28;01mfrom\u001b[39;00m\u001b[38;5;250m \u001b[39m\u001b[34;01msenmodel\u001b[39;00m\u001b[34;01m.\u001b[39;00m\u001b[34;01mmetrics\u001b[39;00m\u001b[34;01m.\u001b[39;00m\u001b[34;01mnonlinearity_metrics\u001b[39;00m\u001b[38;5;250m \u001b[39m\u001b[38;5;28;01mimport\u001b[39;00m GradientMeanEdgeMetric, PerturbationSensitivityEdgeMetric\n\u001b[32m      3\u001b[39m \u001b[38;5;28;01mfrom\u001b[39;00m\u001b[38;5;250m \u001b[39m\u001b[34;01msenmodel\u001b[39;00m\u001b[34;01m.\u001b[39;00m\u001b[34;01mmetrics\u001b[39;00m\u001b[34;01m.\u001b[39;00m\u001b[34;01medge_finder\u001b[39;00m\u001b[38;5;250m \u001b[39m\u001b[38;5;28;01mimport\u001b[39;00m EdgeFinder\n",
      "\u001b[31mImportError\u001b[39m: cannot import name 'GradientMeanEdgeMetric' from 'senmodel.metrics.nonlinearity_metrics' (D:\\Coding\\PY\\self-expanding-nets\\senmodel\\metrics\\nonlinearity_metrics.py)"
     ]
    }
   ],
   "source": [
    "from senmodel.model.utils import convert_dense_to_sparse_network, get_model_last_layer\n",
    "from senmodel.metrics.nonlinearity_metrics import GradientMeanEdgeMetric, PerturbationSensitivityEdgeMetric\n",
    "from senmodel.metrics.edge_finder import EdgeFinder\n"
   ]
  },
  {
   "cell_type": "code",
   "execution_count": null,
   "id": "ed98f9250fb9b52",
   "metadata": {
    "ExecuteTime": {
     "end_time": "2025-02-03T17:00:55.645187Z",
     "start_time": "2025-02-03T17:00:55.641678Z"
    }
   },
   "outputs": [],
   "source": [
    "device = torch.device(\"cuda\" if torch.cuda.is_available() else \"cpu\")"
   ]
  },
  {
   "cell_type": "code",
   "execution_count": null,
   "id": "8a1c4b0b6e33d5a4",
   "metadata": {
    "ExecuteTime": {
     "end_time": "2025-02-03T17:01:00.424881Z",
     "start_time": "2025-02-03T17:00:55.653295Z"
    }
   },
   "outputs": [],
   "source": [
    "from sklearn.preprocessing import LabelEncoder\n",
    "\n",
    "url = \"https://archive.ics.uci.edu/ml/machine-learning-databases/adult/adult.data\"\n",
    "columns = [\n",
    "    'age', 'workclass', 'fnlwgt', 'education', 'education-num', 'marital-status',\n",
    "    'occupation', 'relationship', 'race', 'sex', 'capital-gain', 'capital-loss',\n",
    "    'hours-per-week', 'native-country', 'income'\n",
    "]\n",
    "data = pd.read_csv(url, names=columns, na_values=\" ?\", skipinitialspace=True)\n",
    "data = data.dropna()\n",
    "\n",
    "X = data.drop('income', axis=1)\n",
    "y = data['income']\n",
    "\n",
    "for col in X.select_dtypes(include=['object']).columns:\n",
    "    X[col] = LabelEncoder().fit_transform(X[col])\n",
    "\n",
    "y = LabelEncoder().fit_transform(y)\n",
    "\n",
    "scaler = StandardScaler()\n",
    "X = scaler.fit_transform(X)\n",
    "\n",
    "X_train, X_val, y_train, y_val = train_test_split(X, y, test_size=0.2, random_state=0)\n"
   ]
  },
  {
   "cell_type": "code",
   "execution_count": null,
   "id": "d7d9e408b16a7a6a",
   "metadata": {
    "ExecuteTime": {
     "end_time": "2025-02-03T17:01:00.446010Z",
     "start_time": "2025-02-03T17:01:00.440983Z"
    }
   },
   "outputs": [],
   "source": [
    "class TabularDataset(Dataset):\n",
    "    def __init__(self, features, targets):\n",
    "        self.features = torch.tensor(features, dtype=torch.float32)\n",
    "        self.targets = torch.tensor(targets, dtype=torch.long)\n",
    "\n",
    "    def __len__(self):\n",
    "        return len(self.targets)\n",
    "\n",
    "    def __getitem__(self, idx):\n",
    "        return self.features[idx], self.targets[idx]"
   ]
  },
  {
   "cell_type": "code",
   "execution_count": null,
   "id": "183cc85a9b097f1",
   "metadata": {
    "ExecuteTime": {
     "end_time": "2025-02-03T17:01:00.468426Z",
     "start_time": "2025-02-03T17:01:00.460642Z"
    }
   },
   "outputs": [],
   "source": [
    "train_dataset = TabularDataset(X_train, y_train)\n",
    "val_dataset = TabularDataset(X_val, y_val)\n",
    "\n",
    "train_loader = DataLoader(train_dataset, batch_size=512, shuffle=True)\n",
    "val_loader = DataLoader(val_dataset, batch_size=512, shuffle=False)"
   ]
  },
  {
   "cell_type": "code",
   "execution_count": null,
   "id": "cf7e5ab74bd84c4c",
   "metadata": {
    "ExecuteTime": {
     "end_time": "2025-02-03T17:01:00.489073Z",
     "start_time": "2025-02-03T17:01:00.482621Z"
    }
   },
   "outputs": [],
   "source": [
    "class EnhancedFCN(nn.Module):\n",
    "    def __init__(self, input_size=14, hidden_sizes=None, output_size=2, dropout_rate=0.3):\n",
    "        super(EnhancedFCN, self).__init__()\n",
    "        if hidden_sizes is None:\n",
    "            hidden_sizes = [128, 64, 32]\n",
    "        self.fc1 = nn.Linear(input_size, hidden_sizes[0])\n",
    "        self.relu1 = nn.ReLU()\n",
    "        self.dropout1 = nn.Dropout(dropout_rate)\n",
    "\n",
    "        self.fc2 = nn.Linear(hidden_sizes[0], hidden_sizes[1])\n",
    "        self.relu2 = nn.ReLU()\n",
    "        self.dropout2 = nn.Dropout(dropout_rate)\n",
    "\n",
    "        self.fc3 = nn.Linear(hidden_sizes[1], hidden_sizes[2])\n",
    "        self.relu3 = nn.ReLU()\n",
    "        self.dropout3 = nn.Dropout(dropout_rate)\n",
    "\n",
    "        self.output = nn.Linear(hidden_sizes[2], output_size)\n",
    "\n",
    "    def forward(self, x):\n",
    "        x = self.fc1(x)\n",
    "        x = self.relu1(x)\n",
    "        x = self.dropout1(x)\n",
    "\n",
    "        x = self.fc2(x)\n",
    "        x = self.relu2(x)\n",
    "        x = self.dropout2(x)\n",
    "\n",
    "        x = self.fc3(x)\n",
    "        x = self.relu3(x)\n",
    "        x = self.dropout3(x)\n",
    "\n",
    "        x = self.output(x)\n",
    "        return x\n"
   ]
  },
  {
   "cell_type": "code",
   "execution_count": null,
   "id": "6fe92b9bfdd4d7d1",
   "metadata": {
    "ExecuteTime": {
     "end_time": "2025-02-03T17:01:00.512183Z",
     "start_time": "2025-02-03T17:01:00.506369Z"
    }
   },
   "outputs": [],
   "source": [
    "def edge_replacement_func_new_layer(model, optim, val_loader, metric, choose_threshold):\n",
    "    layer = get_model_last_layer(model)\n",
    "    ef = EdgeFinder(metric, val_loader, device)\n",
    "    vals = ef.calculate_edge_metric_for_dataloader(model)\n",
    "    print(\"Edge metrics:\", vals, max(vals), sum(vals))\n",
    "    chosen_edges = ef.choose_edges_threshold(model, choose_threshold)\n",
    "    print(\"Chosen edges:\", chosen_edges, len(chosen_edges[0]))\n",
    "    layer.replace_many(*chosen_edges)\n",
    "\n",
    "    if layer.embed_linears:\n",
    "        optim.add_param_group({'params': layer.embed_linears[-1].weight_values})\n",
    "    else:\n",
    "        print(\"Empty metric\")\n",
    "        dummy_param = torch.zeros_like(layer.weight_values)\n",
    "        optim.add_param_group({'params': dummy_param})\n",
    "\n",
    "    return {'max': max(vals), 'sum': sum(vals), 'len': len(vals), 'len_choose': len(chosen_edges[0])}\n"
   ]
  },
  {
   "cell_type": "code",
   "execution_count": null,
   "id": "e0e4d086a0b3b29f",
   "metadata": {
    "ExecuteTime": {
     "end_time": "2025-02-03T17:01:00.537636Z",
     "start_time": "2025-02-03T17:01:00.525794Z"
    }
   },
   "outputs": [],
   "source": [
    "from senmodel.model.utils import freeze_all_but_last, unfreeze_all\n",
    "\n",
    "\n",
    "def train_sparse_recursive(model, train_loader, val_loader, num_epochs, metric, edge_replacement_func=None,\n",
    "                           window_size=3, threshold=0.1, fine_tune_epochs=3, lr=5e-4, choose_threshold=0.3):\n",
    "    optimizer = optim.Adam(model.parameters(), lr=lr)\n",
    "    criterion = nn.CrossEntropyLoss()\n",
    "    val_losses = []\n",
    "\n",
    "    for epoch in range(num_epochs):\n",
    "        model.train()\n",
    "        train_loss = 0\n",
    "        for inputs, targets in tqdm(train_loader):\n",
    "            inputs, targets = inputs.to(device), targets.to(device)\n",
    "            outputs = model(inputs)\n",
    "            loss = criterion(outputs, targets)\n",
    "\n",
    "            optimizer.zero_grad()\n",
    "            loss.backward()\n",
    "            optimizer.step()\n",
    "            train_loss += loss.item()\n",
    "\n",
    "        train_loss /= len(train_loader)\n",
    "\n",
    "        model.eval()\n",
    "        val_loss = 0\n",
    "        all_preds = []\n",
    "        all_targets = []\n",
    "        with torch.no_grad():\n",
    "            for inputs, targets in val_loader:\n",
    "                inputs, targets = inputs.to(device), targets.to(device)\n",
    "                outputs = model(inputs)\n",
    "                loss = criterion(outputs, targets)\n",
    "                val_loss += loss.item()\n",
    "\n",
    "                preds = torch.argmax(outputs, dim=1)\n",
    "                all_preds.extend(preds.cpu().numpy())\n",
    "                all_targets.extend(targets.cpu().numpy())\n",
    "\n",
    "        val_accuracy = accuracy_score(all_targets, all_preds)\n",
    "        print(f\"Epoch {epoch + 1}/{num_epochs} | Train Loss: {train_loss:.4f} | \"\n",
    "              f\"Val Loss: {val_loss:.4f} | Val Accuracy: {val_accuracy:.4f}\")\n",
    "\n",
    "        new_l = {}\n",
    "        val_losses.append(val_loss)\n",
    "        if edge_replacement_func and len(val_losses) > window_size:\n",
    "            recent_changes = [abs(val_losses[i] - val_losses[i - 1]) for i in range(-window_size, 0)]\n",
    "            avg_change = sum(recent_changes) / window_size\n",
    "            if avg_change < threshold:\n",
    "                new_l = edge_replacement_func(model, optimizer, val_loader, metric, choose_threshold)\n",
    "                # Замораживаем все слои кроме последнего\n",
    "                freeze_all_but_last(model)\n",
    "\n",
    "                # Обучаем только последний слой в течение нескольких эпох\n",
    "                for fine_tune_epoch in range(fine_tune_epochs):\n",
    "                    model.train()\n",
    "                    fine_tune_train_loss = 0\n",
    "                    for inputs, targets in tqdm(train_loader):\n",
    "                        inputs, targets = inputs.to(device), targets.to(device)\n",
    "                        outputs = model(inputs)\n",
    "                        loss = criterion(outputs, targets)\n",
    "                        optimizer.zero_grad()\n",
    "                        loss.backward()\n",
    "                        optimizer.step()\n",
    "                        fine_tune_train_loss += loss.item()\n",
    "                    fine_tune_train_loss /= len(train_loader)\n",
    "\n",
    "                    model.eval()\n",
    "                    fine_tune_val_loss = 0\n",
    "                    with torch.no_grad():\n",
    "                        for inputs, targets in val_loader:\n",
    "                            inputs, targets = inputs.to(device), targets.to(device)\n",
    "                            outputs = model(inputs)\n",
    "                            loss = criterion(outputs, targets)\n",
    "                            fine_tune_val_loss += loss.item()\n",
    "                    fine_tune_val_loss /= len(val_loader)\n",
    "\n",
    "                    print(f\"Fine-Tune Epoch {fine_tune_epoch + 1}/{fine_tune_epochs} | \"\n",
    "                          f\"Train Loss: {fine_tune_train_loss:.4f} | Val Loss: {fine_tune_val_loss:.4f}\")\n",
    "\n",
    "                # Размораживаем все слои\n",
    "                unfreeze_all(model)\n",
    "        #\n",
    "\n",
    "        # new_l = {}\n",
    "        # if edge_replacement_func and epoch % 8 == 0 and epoch != 0:\n",
    "        #     new_l = edge_replacement_func(model, optimizer, val_loader, metric)\n",
    "\n",
    "        wandb.log({'val_loss': val_loss, 'val_accuracy': val_accuracy, 'train_loss': train_loss} | new_l)\n",
    "\n"
   ]
  },
  {
   "cell_type": "code",
   "execution_count": null,
   "id": "b44615f5a401dd16",
   "metadata": {
    "ExecuteTime": {
     "end_time": "2025-02-03T17:01:00.561924Z",
     "start_time": "2025-02-03T17:01:00.557922Z"
    }
   },
   "outputs": [],
   "source": [
    "from senmodel.metrics.nonlinearity_metrics import *\n",
    "\n",
    "criterion = nn.CrossEntropyLoss()\n",
    "metrics = [\n",
    "    GradientMeanEdgeMetric(criterion),\n",
    "    SNIPMetric(criterion),\n",
    "    MagnitudeL2Metric(criterion),\n",
    "]"
   ]
  },
  {
   "cell_type": "code",
   "execution_count": null,
   "id": "c813771bca507d71",
   "metadata": {
    "ExecuteTime": {
     "end_time": "2025-02-03T17:01:03.478100Z",
     "start_time": "2025-02-03T17:01:00.583143Z"
    }
   },
   "outputs": [
    {
     "name": "stderr",
     "output_type": "stream",
     "text": [
      "wandb: Using wandb-core as the SDK backend.  Please refer to https://wandb.me/wandb-core for more information.\n",
      "wandb: Currently logged in as: fedornigretuk. Use `wandb login --relogin` to force relogin\n"
     ]
    },
    {
     "data": {
      "text/plain": [
       "True"
      ]
     },
     "execution_count": 11,
     "metadata": {},
     "output_type": "execute_result"
    }
   ],
   "source": [
    "import wandb\n",
    "\n",
    "wandb.login()"
   ]
  },
  {
   "cell_type": "code",
   "execution_count": null,
   "id": "a10df7d34ecdcb18",
   "metadata": {
    "ExecuteTime": {
     "end_time": "2025-02-03T17:01:03.513538Z",
     "start_time": "2025-02-03T17:01:03.507507Z"
    }
   },
   "outputs": [
    {
     "data": {
      "text/plain": [
       "'num_epochs: 50, metric: SNIPMetric, choose_threshold: 0.3, window_size: 3, threshold: 0.1, fine_tune_epochs: 5, lr: 0.0005'"
      ]
     },
     "execution_count": 12,
     "metadata": {},
     "output_type": "execute_result"
    }
   ],
   "source": [
    "hyperparams = {\"num_epochs\": 50,\n",
    "               \"metric\":metrics[0],\n",
    "               \"choose_threshold\":0.3,\n",
    "               \"window_size\":3,\n",
    "               \"threshold\":0.1,\n",
    "               \"fine_tune_epochs\": 5,\n",
    "               \"lr\":5e-4,\n",
    "               }\n",
    "\n",
    "name = \", \".join(\n",
    "    f\"{key}: {value.__class__.__name__ if key == 'metric' else value}\"\n",
    "    for key, value in hyperparams.items()\n",
    ")\n",
    "name"
   ]
  },
  {
   "cell_type": "code",
   "execution_count": null,
   "id": "45fe9040816bb570",
   "metadata": {
    "ExecuteTime": {
     "end_time": "2025-02-03T17:06:25.353070Z",
     "start_time": "2025-02-03T17:01:03.649616Z"
    }
   },
   "outputs": [
    {
     "data": {
      "text/html": [
       "Tracking run with wandb version 0.19.0"
      ],
      "text/plain": [
       "<IPython.core.display.HTML object>"
      ]
     },
     "metadata": {},
     "output_type": "display_data"
    },
    {
     "data": {
      "text/html": [
       "Run data is saved locally in <code>D:\\Coding\\PY\\self-expanding-nets\\experiments\\training\\wandb\\run-20250203_200103-49n7xf7w</code>"
      ],
      "text/plain": [
       "<IPython.core.display.HTML object>"
      ]
     },
     "metadata": {},
     "output_type": "display_data"
    },
    {
     "data": {
      "text/html": [
       "Syncing run <strong><a href='https://wandb.ai/fedornigretuk/self-expanding-nets/runs/49n7xf7w' target=\"_blank\">titanic, num_epochs: 50, metric: SNIPMetric, choose_threshold: 0.3, window_size: 3, threshold: 0.1, fine_tune_epochs: 5, lr: 0.0005</a></strong> to <a href='https://wandb.ai/fedornigretuk/self-expanding-nets' target=\"_blank\">Weights & Biases</a> (<a href='https://wandb.me/developer-guide' target=\"_blank\">docs</a>)<br/>"
      ],
      "text/plain": [
       "<IPython.core.display.HTML object>"
      ]
     },
     "metadata": {},
     "output_type": "display_data"
    },
    {
     "data": {
      "text/html": [
       " View project at <a href='https://wandb.ai/fedornigretuk/self-expanding-nets' target=\"_blank\">https://wandb.ai/fedornigretuk/self-expanding-nets</a>"
      ],
      "text/plain": [
       "<IPython.core.display.HTML object>"
      ]
     },
     "metadata": {},
     "output_type": "display_data"
    },
    {
     "data": {
      "text/html": [
       " View run at <a href='https://wandb.ai/fedornigretuk/self-expanding-nets/runs/49n7xf7w' target=\"_blank\">https://wandb.ai/fedornigretuk/self-expanding-nets/runs/49n7xf7w</a>"
      ],
      "text/plain": [
       "<IPython.core.display.HTML object>"
      ]
     },
     "metadata": {},
     "output_type": "display_data"
    },
    {
     "name": "stderr",
     "output_type": "stream",
     "text": [
      "100%|██████████| 51/51 [00:01<00:00, 37.05it/s]\n"
     ]
    },
    {
     "name": "stdout",
     "output_type": "stream",
     "text": [
      "Epoch 1/50 | Train Loss: 0.6072 | Val Loss: 6.1966 | Val Accuracy: 0.7551\n"
     ]
    },
    {
     "name": "stderr",
     "output_type": "stream",
     "text": [
      "100%|██████████| 51/51 [00:01<00:00, 36.13it/s]\n"
     ]
    },
    {
     "name": "stdout",
     "output_type": "stream",
     "text": [
      "Epoch 2/50 | Train Loss: 0.4634 | Val Loss: 5.4091 | Val Accuracy: 0.8161\n"
     ]
    },
    {
     "name": "stderr",
     "output_type": "stream",
     "text": [
      "100%|██████████| 51/51 [00:01<00:00, 28.12it/s]\n"
     ]
    },
    {
     "name": "stdout",
     "output_type": "stream",
     "text": [
      "Epoch 3/50 | Train Loss: 0.4209 | Val Loss: 5.1663 | Val Accuracy: 0.8187\n"
     ]
    },
    {
     "name": "stderr",
     "output_type": "stream",
     "text": [
      "100%|██████████| 51/51 [00:01<00:00, 32.21it/s]\n"
     ]
    },
    {
     "name": "stdout",
     "output_type": "stream",
     "text": [
      "Epoch 4/50 | Train Loss: 0.4076 | Val Loss: 4.9815 | Val Accuracy: 0.8217\n"
     ]
    },
    {
     "name": "stderr",
     "output_type": "stream",
     "text": [
      "100%|██████████| 51/51 [00:01<00:00, 30.08it/s]\n"
     ]
    },
    {
     "name": "stdout",
     "output_type": "stream",
     "text": [
      "Epoch 5/50 | Train Loss: 0.3958 | Val Loss: 4.8337 | Val Accuracy: 0.8262\n"
     ]
    },
    {
     "name": "stderr",
     "output_type": "stream",
     "text": [
      "100%|██████████| 51/51 [00:01<00:00, 34.14it/s]\n"
     ]
    },
    {
     "name": "stdout",
     "output_type": "stream",
     "text": [
      "Epoch 6/50 | Train Loss: 0.3868 | Val Loss: 4.7424 | Val Accuracy: 0.8305\n"
     ]
    },
    {
     "name": "stderr",
     "output_type": "stream",
     "text": [
      "100%|██████████| 51/51 [00:01<00:00, 32.63it/s]\n"
     ]
    },
    {
     "name": "stdout",
     "output_type": "stream",
     "text": [
      "Epoch 7/50 | Train Loss: 0.3821 | Val Loss: 4.6369 | Val Accuracy: 0.8336\n"
     ]
    },
    {
     "name": "stderr",
     "output_type": "stream",
     "text": [
      "100%|██████████| 51/51 [00:01<00:00, 32.39it/s]\n"
     ]
    },
    {
     "name": "stdout",
     "output_type": "stream",
     "text": [
      "Epoch 8/50 | Train Loss: 0.3735 | Val Loss: 4.5806 | Val Accuracy: 0.8371\n",
      "Edge metrics: tensor([6.1122e-02, 2.7896e-01, 1.1891e-01, 0.0000e+00, 0.0000e+00, 0.0000e+00,\n",
      "        0.0000e+00, 0.0000e+00, 0.0000e+00, 5.1432e-01, 3.5659e-01, 0.0000e+00,\n",
      "        9.7527e-02, 1.8119e-02, 6.8680e-03, 2.9333e-01, 0.0000e+00, 0.0000e+00,\n",
      "        0.0000e+00, 4.7355e-01, 2.7054e-01, 3.2045e-01, 0.0000e+00, 3.9897e-01,\n",
      "        3.0537e-01, 3.6536e-01, 2.1579e-01, 5.7988e-05, 2.9348e-01, 0.0000e+00,\n",
      "        0.0000e+00, 3.4171e-01, 1.0034e-01, 2.9906e-01, 2.1522e-01, 0.0000e+00,\n",
      "        0.0000e+00, 0.0000e+00, 0.0000e+00, 0.0000e+00, 0.0000e+00, 4.4210e-01,\n",
      "        3.7369e-01, 0.0000e+00, 9.6253e-02, 5.6245e-03, 3.6063e-03, 2.6530e-01,\n",
      "        0.0000e+00, 0.0000e+00, 0.0000e+00, 2.9385e-01, 2.0699e-01, 5.0170e-01,\n",
      "        0.0000e+00, 4.2070e-01, 2.4372e-01, 3.8209e-01, 1.3242e-01, 1.3325e-04,\n",
      "        3.5169e-01, 0.0000e+00, 0.0000e+00, 2.4543e-01]) tensor(0.5143) tensor(9.3109)\n",
      "Chosen edges: tensor([[ 0,  0,  0,  0,  0,  0,  0,  0,  0,  1,  1,  1,  1,  1,  1,  1],\n",
      "        [ 1,  9, 10, 19, 21, 23, 24, 25, 28,  1,  9, 19, 21, 23, 25, 28]]) 16\n"
     ]
    },
    {
     "name": "stderr",
     "output_type": "stream",
     "text": [
      "100%|██████████| 51/51 [00:01<00:00, 48.77it/s]\n"
     ]
    },
    {
     "name": "stdout",
     "output_type": "stream",
     "text": [
      "Fine-Tune Epoch 1/5 | Train Loss: 0.3875 | Val Loss: 0.3571\n"
     ]
    },
    {
     "name": "stderr",
     "output_type": "stream",
     "text": [
      "100%|██████████| 51/51 [00:00<00:00, 51.46it/s]\n"
     ]
    },
    {
     "name": "stdout",
     "output_type": "stream",
     "text": [
      "Fine-Tune Epoch 2/5 | Train Loss: 0.3879 | Val Loss: 0.3562\n"
     ]
    },
    {
     "name": "stderr",
     "output_type": "stream",
     "text": [
      "100%|██████████| 51/51 [00:00<00:00, 63.07it/s]\n"
     ]
    },
    {
     "name": "stdout",
     "output_type": "stream",
     "text": [
      "Fine-Tune Epoch 3/5 | Train Loss: 0.3840 | Val Loss: 0.3556\n"
     ]
    },
    {
     "name": "stderr",
     "output_type": "stream",
     "text": [
      "100%|██████████| 51/51 [00:00<00:00, 67.25it/s]\n"
     ]
    },
    {
     "name": "stdout",
     "output_type": "stream",
     "text": [
      "Fine-Tune Epoch 4/5 | Train Loss: 0.3830 | Val Loss: 0.3550\n"
     ]
    },
    {
     "name": "stderr",
     "output_type": "stream",
     "text": [
      "100%|██████████| 51/51 [00:00<00:00, 65.92it/s]\n"
     ]
    },
    {
     "name": "stdout",
     "output_type": "stream",
     "text": [
      "Fine-Tune Epoch 5/5 | Train Loss: 0.3802 | Val Loss: 0.3546\n"
     ]
    },
    {
     "name": "stderr",
     "output_type": "stream",
     "text": [
      "100%|██████████| 51/51 [00:01<00:00, 33.42it/s]\n"
     ]
    },
    {
     "name": "stdout",
     "output_type": "stream",
     "text": [
      "Epoch 9/50 | Train Loss: 0.3734 | Val Loss: 4.5457 | Val Accuracy: 0.8377\n",
      "Edge metrics: tensor([0.0678, 0.3856, 0.0000, 0.0000, 0.0000, 0.0000, 0.0000, 0.0000, 0.0000,\n",
      "        0.2740, 0.0391, 0.0301, 0.3016, 0.0000, 0.0000, 0.0000, 0.1775, 0.0000,\n",
      "        0.2540, 0.0099, 0.0239, 0.0000, 0.3270, 0.0987, 0.2575, 0.0000, 0.0000,\n",
      "        0.0000, 0.0000, 0.0000, 0.0000, 0.4625, 0.0000, 0.1644, 0.0391, 0.0258,\n",
      "        0.3101, 0.0000, 0.0000, 0.0000, 0.2359, 0.0000, 0.2823, 0.2792, 0.0054,\n",
      "        0.0293, 0.0000, 0.4250, 0.1727, 0.2484, 0.0619, 0.0337, 0.3770, 0.1862,\n",
      "        0.0738, 0.3248, 0.0991, 0.1319, 0.1075, 0.0649, 0.5678, 0.3014, 0.1852,\n",
      "        0.1427]) tensor(0.5678) tensor(7.5848)\n",
      "Chosen edges: tensor([[ 0,  0,  0,  0,  0,  1,  1,  0,  0,  0,  1],\n",
      "        [ 2, 12, 20, 26, 31, 10, 24, 33, 36, 39, 44]]) 11\n"
     ]
    },
    {
     "name": "stderr",
     "output_type": "stream",
     "text": [
      "100%|██████████| 51/51 [00:00<00:00, 51.45it/s]\n"
     ]
    },
    {
     "name": "stdout",
     "output_type": "stream",
     "text": [
      "Fine-Tune Epoch 1/5 | Train Loss: 0.4075 | Val Loss: 0.3563\n"
     ]
    },
    {
     "name": "stderr",
     "output_type": "stream",
     "text": [
      "100%|██████████| 51/51 [00:00<00:00, 61.65it/s]\n"
     ]
    },
    {
     "name": "stdout",
     "output_type": "stream",
     "text": [
      "Fine-Tune Epoch 2/5 | Train Loss: 0.4013 | Val Loss: 0.3546\n"
     ]
    },
    {
     "name": "stderr",
     "output_type": "stream",
     "text": [
      "100%|██████████| 51/51 [00:00<00:00, 63.66it/s]\n"
     ]
    },
    {
     "name": "stdout",
     "output_type": "stream",
     "text": [
      "Fine-Tune Epoch 3/5 | Train Loss: 0.3991 | Val Loss: 0.3536\n"
     ]
    },
    {
     "name": "stderr",
     "output_type": "stream",
     "text": [
      "100%|██████████| 51/51 [00:00<00:00, 62.26it/s]\n"
     ]
    },
    {
     "name": "stdout",
     "output_type": "stream",
     "text": [
      "Fine-Tune Epoch 4/5 | Train Loss: 0.3937 | Val Loss: 0.3527\n"
     ]
    },
    {
     "name": "stderr",
     "output_type": "stream",
     "text": [
      "100%|██████████| 51/51 [00:00<00:00, 61.42it/s]\n"
     ]
    },
    {
     "name": "stdout",
     "output_type": "stream",
     "text": [
      "Fine-Tune Epoch 5/5 | Train Loss: 0.3884 | Val Loss: 0.3519\n"
     ]
    },
    {
     "name": "stderr",
     "output_type": "stream",
     "text": [
      "100%|██████████| 51/51 [00:01<00:00, 35.80it/s]\n"
     ]
    },
    {
     "name": "stdout",
     "output_type": "stream",
     "text": [
      "Epoch 10/50 | Train Loss: 0.3759 | Val Loss: 4.5079 | Val Accuracy: 0.8385\n",
      "Edge metrics: tensor([0.1784, 0.0000, 0.0000, 0.0000, 0.0000, 0.0000, 0.0000, 0.0000, 0.0825,\n",
      "        0.0097, 0.4550, 0.0000, 0.0000, 0.0000, 0.0000, 0.0809, 0.1454, 0.0000,\n",
      "        0.1265, 0.4705, 0.0000, 0.0000, 0.0000, 0.0000, 0.0000, 0.0000, 0.0000,\n",
      "        0.0894, 0.0946, 0.0098, 0.3677, 0.0000, 0.0000, 0.0000, 0.0953, 0.0000,\n",
      "        0.4473, 0.0763, 0.1545, 0.0000, 0.2782, 0.2975, 0.1517, 0.0427, 0.1669,\n",
      "        0.1249, 0.2476, 0.2412, 0.3680, 0.0925, 0.4898, 0.2807, 0.0677, 0.0411,\n",
      "        0.0738, 0.1229, 0.2821, 0.4335, 0.3515, 0.2883, 0.1032, 0.0179, 0.2502,\n",
      "        0.3250]) tensor(0.4898) tensor(8.0229)\n",
      "Chosen edges: tensor([[ 1,  1,  1,  1,  0,  1,  1,  1,  1,  0,  0,  1,  1,  1],\n",
      "        [ 2, 15, 26, 31, 32, 41, 42, 45, 46, 51, 52, 53, 54, 58]]) 14\n"
     ]
    },
    {
     "name": "stderr",
     "output_type": "stream",
     "text": [
      "100%|██████████| 51/51 [00:00<00:00, 60.33it/s]\n"
     ]
    },
    {
     "name": "stdout",
     "output_type": "stream",
     "text": [
      "Fine-Tune Epoch 1/5 | Train Loss: 0.3929 | Val Loss: 0.3567\n"
     ]
    },
    {
     "name": "stderr",
     "output_type": "stream",
     "text": [
      "100%|██████████| 51/51 [00:00<00:00, 59.44it/s]\n"
     ]
    },
    {
     "name": "stdout",
     "output_type": "stream",
     "text": [
      "Fine-Tune Epoch 2/5 | Train Loss: 0.3869 | Val Loss: 0.3534\n"
     ]
    },
    {
     "name": "stderr",
     "output_type": "stream",
     "text": [
      "100%|██████████| 51/51 [00:00<00:00, 61.41it/s]\n"
     ]
    },
    {
     "name": "stdout",
     "output_type": "stream",
     "text": [
      "Fine-Tune Epoch 3/5 | Train Loss: 0.3825 | Val Loss: 0.3513\n"
     ]
    },
    {
     "name": "stderr",
     "output_type": "stream",
     "text": [
      "100%|██████████| 51/51 [00:00<00:00, 59.72it/s]\n"
     ]
    },
    {
     "name": "stdout",
     "output_type": "stream",
     "text": [
      "Fine-Tune Epoch 4/5 | Train Loss: 0.3788 | Val Loss: 0.3499\n"
     ]
    },
    {
     "name": "stderr",
     "output_type": "stream",
     "text": [
      "100%|██████████| 51/51 [00:00<00:00, 61.47it/s]\n"
     ]
    },
    {
     "name": "stdout",
     "output_type": "stream",
     "text": [
      "Fine-Tune Epoch 5/5 | Train Loss: 0.3768 | Val Loss: 0.3488\n"
     ]
    },
    {
     "name": "stderr",
     "output_type": "stream",
     "text": [
      "100%|██████████| 51/51 [00:01<00:00, 36.88it/s]\n"
     ]
    },
    {
     "name": "stdout",
     "output_type": "stream",
     "text": [
      "Epoch 11/50 | Train Loss: 0.3695 | Val Loss: 4.4668 | Val Accuracy: 0.8400\n",
      "Edge metrics: tensor([0.1932, 0.0000, 0.0000, 0.0000, 0.0000, 0.0000, 0.0000, 0.0000, 0.1457,\n",
      "        0.0465, 0.4432, 0.0000, 0.0063, 0.0000, 0.0000, 0.0801, 0.4282, 0.0000,\n",
      "        0.2771, 0.0000, 0.0000, 0.0000, 0.0000, 0.0000, 0.0000, 0.0000, 0.0000,\n",
      "        0.1686, 0.0358, 0.0000, 0.0066, 0.0000, 0.1361, 0.0000, 0.0843, 0.3224,\n",
      "        0.0000, 0.1863, 0.1314, 0.1012, 0.2197, 0.2165, 0.0689, 0.0446, 0.0437,\n",
      "        0.0000, 0.1305, 0.1072, 0.0000, 0.3010, 0.5099, 0.0000, 0.1264, 0.2005,\n",
      "        0.4744, 0.2090, 0.2277, 0.6627, 0.4696, 0.4143, 0.0911, 0.1190, 0.0225,\n",
      "        0.1368]) tensor(0.6627) tensor(7.5889)\n",
      "Chosen edges: tensor([[ 0,  0,  1,  0,  1,  0,  1,  1,  0],\n",
      "        [15, 29, 29, 57, 59, 63, 66, 67, 68]]) 9\n"
     ]
    },
    {
     "name": "stderr",
     "output_type": "stream",
     "text": [
      "100%|██████████| 51/51 [00:01<00:00, 47.96it/s]\n"
     ]
    },
    {
     "name": "stdout",
     "output_type": "stream",
     "text": [
      "Fine-Tune Epoch 1/5 | Train Loss: 0.3700 | Val Loss: 0.3527\n"
     ]
    },
    {
     "name": "stderr",
     "output_type": "stream",
     "text": [
      "100%|██████████| 51/51 [00:00<00:00, 57.42it/s]\n"
     ]
    },
    {
     "name": "stdout",
     "output_type": "stream",
     "text": [
      "Fine-Tune Epoch 2/5 | Train Loss: 0.3692 | Val Loss: 0.3511\n"
     ]
    },
    {
     "name": "stderr",
     "output_type": "stream",
     "text": [
      "100%|██████████| 51/51 [00:00<00:00, 56.17it/s]\n"
     ]
    },
    {
     "name": "stdout",
     "output_type": "stream",
     "text": [
      "Fine-Tune Epoch 3/5 | Train Loss: 0.3673 | Val Loss: 0.3499\n"
     ]
    },
    {
     "name": "stderr",
     "output_type": "stream",
     "text": [
      "100%|██████████| 51/51 [00:00<00:00, 57.87it/s]\n"
     ]
    },
    {
     "name": "stdout",
     "output_type": "stream",
     "text": [
      "Fine-Tune Epoch 4/5 | Train Loss: 0.3669 | Val Loss: 0.3489\n"
     ]
    },
    {
     "name": "stderr",
     "output_type": "stream",
     "text": [
      "100%|██████████| 51/51 [00:00<00:00, 58.70it/s]\n"
     ]
    },
    {
     "name": "stdout",
     "output_type": "stream",
     "text": [
      "Fine-Tune Epoch 5/5 | Train Loss: 0.3675 | Val Loss: 0.3482\n"
     ]
    },
    {
     "name": "stderr",
     "output_type": "stream",
     "text": [
      "100%|██████████| 51/51 [00:01<00:00, 33.35it/s]\n"
     ]
    },
    {
     "name": "stdout",
     "output_type": "stream",
     "text": [
      "Epoch 12/50 | Train Loss: 0.3638 | Val Loss: 4.4665 | Val Accuracy: 0.8420\n",
      "Edge metrics: tensor([2.2685e-01, 0.0000e+00, 0.0000e+00, 3.3614e-05, 0.0000e+00, 0.0000e+00,\n",
      "        0.0000e+00, 0.0000e+00, 1.6279e-01, 5.7901e-02, 0.0000e+00, 1.1540e-01,\n",
      "        0.0000e+00, 0.0000e+00, 7.4531e-02, 0.0000e+00, 3.0924e-01, 0.0000e+00,\n",
      "        0.0000e+00, 8.7537e-05, 0.0000e+00, 0.0000e+00, 0.0000e+00, 0.0000e+00,\n",
      "        0.0000e+00, 2.1874e-01, 4.8331e-02, 0.0000e+00, 7.6211e-02, 0.0000e+00,\n",
      "        1.9666e-01, 0.0000e+00, 1.3791e-01, 0.0000e+00, 2.1299e-01, 1.3202e-01,\n",
      "        0.0000e+00, 1.3047e-01, 2.0373e-01, 4.0061e-02, 4.7140e-02, 0.0000e+00,\n",
      "        0.0000e+00, 8.3137e-02, 3.4939e-02, 0.0000e+00, 0.0000e+00, 2.5607e-01,\n",
      "        4.8671e-02, 1.6150e-01, 2.9299e-01, 2.3671e-02, 9.2613e-02, 1.4327e-02,\n",
      "        3.8378e-01, 2.9081e-01, 4.0363e-01, 2.5659e-01, 4.2156e-02, 5.3995e-01,\n",
      "        4.4868e-01, 6.4302e-01, 2.8809e-01, 8.6521e-02]) tensor(0.6430) tensor(6.7822)\n",
      "Chosen edges: tensor([[ 0,  1,  0,  1,  1,  0,  1],\n",
      "        [ 0, 72, 74, 75, 77, 78, 79]]) 7\n"
     ]
    },
    {
     "name": "stderr",
     "output_type": "stream",
     "text": [
      "100%|██████████| 51/51 [00:01<00:00, 46.11it/s]\n"
     ]
    },
    {
     "name": "stdout",
     "output_type": "stream",
     "text": [
      "Fine-Tune Epoch 1/5 | Train Loss: 0.3612 | Val Loss: 0.3458\n"
     ]
    },
    {
     "name": "stderr",
     "output_type": "stream",
     "text": [
      "100%|██████████| 51/51 [00:00<00:00, 52.12it/s]\n"
     ]
    },
    {
     "name": "stdout",
     "output_type": "stream",
     "text": [
      "Fine-Tune Epoch 2/5 | Train Loss: 0.3631 | Val Loss: 0.3451\n"
     ]
    },
    {
     "name": "stderr",
     "output_type": "stream",
     "text": [
      "100%|██████████| 51/51 [00:00<00:00, 55.75it/s]\n"
     ]
    },
    {
     "name": "stdout",
     "output_type": "stream",
     "text": [
      "Fine-Tune Epoch 3/5 | Train Loss: 0.3631 | Val Loss: 0.3446\n"
     ]
    },
    {
     "name": "stderr",
     "output_type": "stream",
     "text": [
      "100%|██████████| 51/51 [00:00<00:00, 55.55it/s]\n"
     ]
    },
    {
     "name": "stdout",
     "output_type": "stream",
     "text": [
      "Fine-Tune Epoch 4/5 | Train Loss: 0.3625 | Val Loss: 0.3442\n"
     ]
    },
    {
     "name": "stderr",
     "output_type": "stream",
     "text": [
      "100%|██████████| 51/51 [00:00<00:00, 53.26it/s]\n"
     ]
    },
    {
     "name": "stdout",
     "output_type": "stream",
     "text": [
      "Fine-Tune Epoch 5/5 | Train Loss: 0.3613 | Val Loss: 0.3439\n"
     ]
    },
    {
     "name": "stderr",
     "output_type": "stream",
     "text": [
      "100%|██████████| 51/51 [00:01<00:00, 32.81it/s]\n"
     ]
    },
    {
     "name": "stdout",
     "output_type": "stream",
     "text": [
      "Epoch 13/50 | Train Loss: 0.3619 | Val Loss: 4.4388 | Val Accuracy: 0.8429\n",
      "Edge metrics: tensor([0.0000, 0.0000, 0.0008, 0.0000, 0.0009, 0.0000, 0.0000, 0.2379, 0.0403,\n",
      "        0.0000, 0.1831, 0.0000, 0.0000, 0.1364, 0.0000, 0.2087, 0.0000, 0.0000,\n",
      "        0.0014, 0.0000, 0.0011, 0.0000, 0.0000, 0.0000, 0.1307, 0.0454, 0.0000,\n",
      "        0.1898, 0.0000, 0.1812, 0.0000, 0.1756, 0.0000, 0.2410, 0.1327, 0.0000,\n",
      "        0.1649, 0.1729, 0.0608, 0.0397, 0.0000, 0.0000, 0.1496, 0.0572, 0.0000,\n",
      "        0.0000, 0.1701, 0.0111, 0.2375, 0.6192, 0.0109, 0.0597, 0.0141, 0.2853,\n",
      "        0.0268, 0.3470, 0.1222, 0.0010, 0.5310, 0.3638, 0.5825, 0.4705, 0.2813,\n",
      "        0.2770]) tensor(0.6192) tensor(6.9630)\n",
      "Chosen edges: tensor([[ 1,  1,  1,  1,  1,  0,  1,  1,  0],\n",
      "        [ 0, 13, 65, 80, 83, 84, 85, 86, 87]]) 9\n"
     ]
    },
    {
     "name": "stderr",
     "output_type": "stream",
     "text": [
      "100%|██████████| 51/51 [00:00<00:00, 54.89it/s]\n"
     ]
    },
    {
     "name": "stdout",
     "output_type": "stream",
     "text": [
      "Fine-Tune Epoch 1/5 | Train Loss: 0.3609 | Val Loss: 0.3434\n"
     ]
    },
    {
     "name": "stderr",
     "output_type": "stream",
     "text": [
      "100%|██████████| 51/51 [00:00<00:00, 54.13it/s]\n"
     ]
    },
    {
     "name": "stdout",
     "output_type": "stream",
     "text": [
      "Fine-Tune Epoch 2/5 | Train Loss: 0.3614 | Val Loss: 0.3425\n"
     ]
    },
    {
     "name": "stderr",
     "output_type": "stream",
     "text": [
      "100%|██████████| 51/51 [00:01<00:00, 47.15it/s]\n"
     ]
    },
    {
     "name": "stdout",
     "output_type": "stream",
     "text": [
      "Fine-Tune Epoch 3/5 | Train Loss: 0.3582 | Val Loss: 0.3418\n"
     ]
    },
    {
     "name": "stderr",
     "output_type": "stream",
     "text": [
      "100%|██████████| 51/51 [00:00<00:00, 53.78it/s]\n"
     ]
    },
    {
     "name": "stdout",
     "output_type": "stream",
     "text": [
      "Fine-Tune Epoch 4/5 | Train Loss: 0.3592 | Val Loss: 0.3413\n"
     ]
    },
    {
     "name": "stderr",
     "output_type": "stream",
     "text": [
      "100%|██████████| 51/51 [00:00<00:00, 53.58it/s]\n"
     ]
    },
    {
     "name": "stdout",
     "output_type": "stream",
     "text": [
      "Fine-Tune Epoch 5/5 | Train Loss: 0.3589 | Val Loss: 0.3410\n"
     ]
    },
    {
     "name": "stderr",
     "output_type": "stream",
     "text": [
      "100%|██████████| 51/51 [00:01<00:00, 32.00it/s]\n"
     ]
    },
    {
     "name": "stdout",
     "output_type": "stream",
     "text": [
      "Epoch 14/50 | Train Loss: 0.3581 | Val Loss: 4.4163 | Val Accuracy: 0.8434\n",
      "Edge metrics: tensor([0.0000, 0.0000, 0.0000, 0.0000, 0.0304, 0.0000, 0.0000, 0.4061, 0.0436,\n",
      "        0.0000, 0.2785, 0.0015, 0.0000, 0.0519, 0.0000, 0.0000, 0.0000, 0.0000,\n",
      "        0.0000, 0.0120, 0.0000, 0.0000, 0.0000, 0.0503, 0.0000, 0.2093, 0.0026,\n",
      "        0.0864, 0.0000, 0.0424, 0.0000, 0.1735, 0.2302, 0.0000, 0.2283, 0.2666,\n",
      "        0.0709, 0.0511, 0.0000, 0.0000, 0.1214, 0.0198, 0.0000, 0.0000, 0.2339,\n",
      "        0.0000, 0.2573, 0.0000, 0.0158, 0.0238, 0.4350, 0.0073, 0.1983, 0.0000,\n",
      "        0.5303, 0.3472, 0.0095, 0.1429, 0.1753, 0.5384, 0.0000, 0.3483, 0.5816,\n",
      "        0.0863]) tensor(0.5816) tensor(6.3081)\n",
      "Chosen edges: tensor([[ 0,  0,  1,  0,  0,  1,  1,  1,  1,  1],\n",
      "        [13, 17, 17, 34, 73, 88, 89, 93, 95, 96]]) 10\n"
     ]
    },
    {
     "name": "stderr",
     "output_type": "stream",
     "text": [
      "100%|██████████| 51/51 [00:00<00:00, 52.29it/s]\n"
     ]
    },
    {
     "name": "stdout",
     "output_type": "stream",
     "text": [
      "Fine-Tune Epoch 1/5 | Train Loss: 0.3652 | Val Loss: 0.3507\n"
     ]
    },
    {
     "name": "stderr",
     "output_type": "stream",
     "text": [
      "100%|██████████| 51/51 [00:00<00:00, 53.17it/s]\n"
     ]
    },
    {
     "name": "stdout",
     "output_type": "stream",
     "text": [
      "Fine-Tune Epoch 2/5 | Train Loss: 0.3623 | Val Loss: 0.3484\n"
     ]
    },
    {
     "name": "stderr",
     "output_type": "stream",
     "text": [
      "100%|██████████| 51/51 [00:00<00:00, 51.98it/s]\n"
     ]
    },
    {
     "name": "stdout",
     "output_type": "stream",
     "text": [
      "Fine-Tune Epoch 3/5 | Train Loss: 0.3599 | Val Loss: 0.3467\n"
     ]
    },
    {
     "name": "stderr",
     "output_type": "stream",
     "text": [
      "100%|██████████| 51/51 [00:01<00:00, 40.89it/s]\n"
     ]
    },
    {
     "name": "stdout",
     "output_type": "stream",
     "text": [
      "Fine-Tune Epoch 4/5 | Train Loss: 0.3568 | Val Loss: 0.3452\n"
     ]
    },
    {
     "name": "stderr",
     "output_type": "stream",
     "text": [
      "100%|██████████| 51/51 [00:01<00:00, 35.31it/s]\n"
     ]
    },
    {
     "name": "stdout",
     "output_type": "stream",
     "text": [
      "Fine-Tune Epoch 5/5 | Train Loss: 0.3600 | Val Loss: 0.3441\n"
     ]
    },
    {
     "name": "stderr",
     "output_type": "stream",
     "text": [
      "100%|██████████| 51/51 [00:01<00:00, 27.43it/s]\n"
     ]
    },
    {
     "name": "stdout",
     "output_type": "stream",
     "text": [
      "Epoch 15/50 | Train Loss: 0.3586 | Val Loss: 4.4320 | Val Accuracy: 0.8442\n",
      "Edge metrics: tensor([0.0000e+00, 0.0000e+00, 3.4220e-04, 0.0000e+00, 8.0817e-02, 0.0000e+00,\n",
      "        0.0000e+00, 4.5916e-02, 0.0000e+00, 1.7084e-04, 0.0000e+00, 1.0932e-01,\n",
      "        0.0000e+00, 0.0000e+00, 0.0000e+00, 8.3889e-04, 0.0000e+00, 1.2146e-01,\n",
      "        0.0000e+00, 0.0000e+00, 0.0000e+00, 5.8170e-02, 0.0000e+00, 1.4472e-04,\n",
      "        1.1515e-01, 0.0000e+00, 8.9293e-02, 0.0000e+00, 1.4742e-01, 0.0000e+00,\n",
      "        7.3992e-02, 9.4011e-02, 5.4295e-02, 1.7387e-02, 0.0000e+00, 0.0000e+00,\n",
      "        1.1375e-01, 0.0000e+00, 0.0000e+00, 0.0000e+00, 1.1690e-01, 0.0000e+00,\n",
      "        1.0530e-01, 0.0000e+00, 0.0000e+00, 9.8636e-03, 0.0000e+00, 7.6384e-02,\n",
      "        0.0000e+00, 0.0000e+00, 1.4823e-01, 2.8343e-01, 0.0000e+00, 1.7381e-01,\n",
      "        1.5279e-01, 2.6093e-01, 3.4069e-01, 6.4909e-02, 2.3470e-01, 1.7427e-01,\n",
      "        2.9547e-01, 5.5150e-01, 1.1896e-01, 6.7102e-01]) tensor(0.6710) tensor(4.9016)\n",
      "Chosen edges: tensor([[  1,   1,   0,   0,   1,   1,   1],\n",
      "        [ 91,  92,  99, 102, 104, 105, 107]]) 7\n"
     ]
    },
    {
     "name": "stderr",
     "output_type": "stream",
     "text": [
      "100%|██████████| 51/51 [00:01<00:00, 37.45it/s]\n"
     ]
    },
    {
     "name": "stdout",
     "output_type": "stream",
     "text": [
      "Fine-Tune Epoch 1/5 | Train Loss: 0.3601 | Val Loss: 0.3384\n"
     ]
    },
    {
     "name": "stderr",
     "output_type": "stream",
     "text": [
      "100%|██████████| 51/51 [00:01<00:00, 45.41it/s]\n"
     ]
    },
    {
     "name": "stdout",
     "output_type": "stream",
     "text": [
      "Fine-Tune Epoch 2/5 | Train Loss: 0.3580 | Val Loss: 0.3384\n"
     ]
    },
    {
     "name": "stderr",
     "output_type": "stream",
     "text": [
      "100%|██████████| 51/51 [00:01<00:00, 43.88it/s]\n"
     ]
    },
    {
     "name": "stdout",
     "output_type": "stream",
     "text": [
      "Fine-Tune Epoch 3/5 | Train Loss: 0.3583 | Val Loss: 0.3384\n"
     ]
    },
    {
     "name": "stderr",
     "output_type": "stream",
     "text": [
      "100%|██████████| 51/51 [00:00<00:00, 51.59it/s]\n"
     ]
    },
    {
     "name": "stdout",
     "output_type": "stream",
     "text": [
      "Fine-Tune Epoch 4/5 | Train Loss: 0.3575 | Val Loss: 0.3383\n"
     ]
    },
    {
     "name": "stderr",
     "output_type": "stream",
     "text": [
      "100%|██████████| 51/51 [00:00<00:00, 51.99it/s]\n"
     ]
    },
    {
     "name": "stdout",
     "output_type": "stream",
     "text": [
      "Fine-Tune Epoch 5/5 | Train Loss: 0.3605 | Val Loss: 0.3383\n"
     ]
    },
    {
     "name": "stderr",
     "output_type": "stream",
     "text": [
      "100%|██████████| 51/51 [00:01<00:00, 30.95it/s]\n"
     ]
    },
    {
     "name": "stdout",
     "output_type": "stream",
     "text": [
      "Epoch 16/50 | Train Loss: 0.3574 | Val Loss: 4.3947 | Val Accuracy: 0.8468\n",
      "Edge metrics: tensor([0.0000, 0.0000, 0.0075, 0.0000, 0.1930, 0.0000, 0.0050, 0.0878, 0.0000,\n",
      "        0.0009, 0.0000, 0.1601, 0.0000, 0.0000, 0.0000, 0.0026, 0.0000, 0.2536,\n",
      "        0.0000, 0.0031, 0.0000, 0.1493, 0.0000, 0.0019, 0.1917, 0.0000, 0.1814,\n",
      "        0.0000, 0.1938, 0.0000, 0.2396, 0.1596, 0.0762, 0.0463, 0.0000, 0.0000,\n",
      "        0.1960, 0.0000, 0.0000, 0.0000, 0.2529, 0.0000, 0.2013, 0.0000, 0.0000,\n",
      "        0.0304, 0.0000, 0.2150, 0.0000, 0.0000, 0.0000, 0.3181, 0.3559, 0.1991,\n",
      "        0.1070, 0.3452, 0.1922, 0.0911, 0.5100, 0.0547, 0.1229, 0.0637, 0.7136,\n",
      "        0.4637]) tensor(0.7136) tensor(6.3863)\n",
      "Chosen edges: tensor([[  0,   0,   0,   1,   0,   1,   1,   1,   1,   1],\n",
      "        [  7,  35,  38,  61,  98, 100, 103, 109, 113, 114]]) 10\n"
     ]
    },
    {
     "name": "stderr",
     "output_type": "stream",
     "text": [
      "100%|██████████| 51/51 [00:01<00:00, 43.35it/s]\n"
     ]
    },
    {
     "name": "stdout",
     "output_type": "stream",
     "text": [
      "Fine-Tune Epoch 1/5 | Train Loss: 0.3664 | Val Loss: 0.3501\n"
     ]
    },
    {
     "name": "stderr",
     "output_type": "stream",
     "text": [
      "100%|██████████| 51/51 [00:01<00:00, 48.11it/s]\n"
     ]
    },
    {
     "name": "stdout",
     "output_type": "stream",
     "text": [
      "Fine-Tune Epoch 2/5 | Train Loss: 0.3613 | Val Loss: 0.3483\n"
     ]
    },
    {
     "name": "stderr",
     "output_type": "stream",
     "text": [
      "100%|██████████| 51/51 [00:01<00:00, 38.01it/s]\n"
     ]
    },
    {
     "name": "stdout",
     "output_type": "stream",
     "text": [
      "Fine-Tune Epoch 3/5 | Train Loss: 0.3602 | Val Loss: 0.3470\n"
     ]
    },
    {
     "name": "stderr",
     "output_type": "stream",
     "text": [
      "100%|██████████| 51/51 [00:01<00:00, 47.29it/s]\n"
     ]
    },
    {
     "name": "stdout",
     "output_type": "stream",
     "text": [
      "Fine-Tune Epoch 4/5 | Train Loss: 0.3607 | Val Loss: 0.3460\n"
     ]
    },
    {
     "name": "stderr",
     "output_type": "stream",
     "text": [
      "100%|██████████| 51/51 [00:01<00:00, 48.99it/s]\n"
     ]
    },
    {
     "name": "stdout",
     "output_type": "stream",
     "text": [
      "Fine-Tune Epoch 5/5 | Train Loss: 0.3616 | Val Loss: 0.3451\n"
     ]
    },
    {
     "name": "stderr",
     "output_type": "stream",
     "text": [
      "100%|██████████| 51/51 [00:01<00:00, 26.42it/s]\n"
     ]
    },
    {
     "name": "stdout",
     "output_type": "stream",
     "text": [
      "Epoch 17/50 | Train Loss: 0.3586 | Val Loss: 4.4183 | Val Accuracy: 0.8452\n",
      "Edge metrics: tensor([0.0000, 0.0000, 0.0275, 0.0233, 0.0000, 0.2753, 0.2532, 0.0000, 0.0101,\n",
      "        0.0000, 0.2589, 0.0000, 0.0000, 0.0000, 0.0174, 0.0198, 0.0000, 0.0000,\n",
      "        0.2350, 0.0000, 0.2543, 0.0000, 0.0044, 0.3567, 0.0000, 0.3233, 0.0000,\n",
      "        0.0000, 0.3228, 0.0014, 0.0593, 0.0000, 0.0000, 0.2935, 0.0000, 0.0000,\n",
      "        0.0000, 0.0000, 0.1414, 0.0000, 0.0000, 0.0000, 0.0000, 0.5175, 0.0000,\n",
      "        0.0000, 0.0000, 0.4108, 0.1784, 0.4860, 0.4289, 0.1016, 0.1592, 0.2221,\n",
      "        0.0000, 0.0589, 0.0674, 0.0875, 0.2987, 0.6266, 0.1308, 0.3866, 0.2802,\n",
      "        0.2317]) tensor(0.6266) tensor(7.5506)\n",
      "Chosen edges: tensor([[  1,   0,   0,   0,   1,   0,   1,   1,   1],\n",
      "        [ 20,  40,  81,  97, 106, 119, 120, 122, 123]]) 9\n"
     ]
    },
    {
     "name": "stderr",
     "output_type": "stream",
     "text": [
      "100%|██████████| 51/51 [00:01<00:00, 40.39it/s]\n"
     ]
    },
    {
     "name": "stdout",
     "output_type": "stream",
     "text": [
      "Fine-Tune Epoch 1/5 | Train Loss: 0.3667 | Val Loss: 0.3526\n"
     ]
    },
    {
     "name": "stderr",
     "output_type": "stream",
     "text": [
      "100%|██████████| 51/51 [00:01<00:00, 42.24it/s]\n"
     ]
    },
    {
     "name": "stdout",
     "output_type": "stream",
     "text": [
      "Fine-Tune Epoch 2/5 | Train Loss: 0.3649 | Val Loss: 0.3507\n"
     ]
    },
    {
     "name": "stderr",
     "output_type": "stream",
     "text": [
      "100%|██████████| 51/51 [00:01<00:00, 33.16it/s]\n"
     ]
    },
    {
     "name": "stdout",
     "output_type": "stream",
     "text": [
      "Fine-Tune Epoch 3/5 | Train Loss: 0.3636 | Val Loss: 0.3492\n"
     ]
    },
    {
     "name": "stderr",
     "output_type": "stream",
     "text": [
      "100%|██████████| 51/51 [00:01<00:00, 43.85it/s]\n"
     ]
    },
    {
     "name": "stdout",
     "output_type": "stream",
     "text": [
      "Fine-Tune Epoch 4/5 | Train Loss: 0.3621 | Val Loss: 0.3478\n"
     ]
    },
    {
     "name": "stderr",
     "output_type": "stream",
     "text": [
      "100%|██████████| 51/51 [00:01<00:00, 41.94it/s]\n"
     ]
    },
    {
     "name": "stdout",
     "output_type": "stream",
     "text": [
      "Fine-Tune Epoch 5/5 | Train Loss: 0.3598 | Val Loss: 0.3461\n"
     ]
    },
    {
     "name": "stderr",
     "output_type": "stream",
     "text": [
      "100%|██████████| 51/51 [00:01<00:00, 26.52it/s]\n"
     ]
    },
    {
     "name": "stdout",
     "output_type": "stream",
     "text": [
      "Epoch 18/50 | Train Loss: 0.3569 | Val Loss: 4.4333 | Val Accuracy: 0.8434\n",
      "Edge metrics: tensor([0.0000e+00, 0.0000e+00, 1.3958e-01, 6.6072e-02, 1.1022e-01, 4.4526e-01,\n",
      "        2.2995e-01, 0.0000e+00, 4.1796e-02, 0.0000e+00, 3.7588e-01, 3.0301e-04,\n",
      "        0.0000e+00, 0.0000e+00, 2.0148e-01, 5.6013e-02, 0.0000e+00, 1.0766e-01,\n",
      "        2.9123e-01, 0.0000e+00, 2.4175e-01, 0.0000e+00, 4.8802e-02, 0.0000e+00,\n",
      "        3.6274e-01, 1.2435e-04, 0.0000e+00, 0.0000e+00, 0.0000e+00, 0.0000e+00,\n",
      "        0.0000e+00, 2.7317e-01, 0.0000e+00, 0.0000e+00, 0.0000e+00, 0.0000e+00,\n",
      "        2.8983e-02, 0.0000e+00, 0.0000e+00, 0.0000e+00, 0.0000e+00, 0.0000e+00,\n",
      "        0.0000e+00, 0.0000e+00, 2.5370e-01, 2.0065e-01, 1.8469e-02, 1.0963e-01,\n",
      "        2.5382e-01, 0.0000e+00, 6.7972e-02, 1.1276e-01, 1.4412e-02, 2.4803e-01,\n",
      "        2.1499e-01, 6.7836e-02, 8.8844e-02, 3.3882e-02, 3.1989e-01, 1.9001e-01,\n",
      "        1.5781e-01, 4.4643e-01, 3.8202e-01, 6.7359e-01]) tensor(0.6736) tensor(6.8758)\n",
      "Chosen edges: tensor([[  0,   0,   1,   1,   0,   1,   1,   1,   0,   1,   1,   1],\n",
      "        [ 11,  27,  11,  27,  50, 108, 112, 124, 128, 131, 132, 133]]) 12\n"
     ]
    },
    {
     "name": "stderr",
     "output_type": "stream",
     "text": [
      "100%|██████████| 51/51 [00:01<00:00, 38.95it/s]\n"
     ]
    },
    {
     "name": "stdout",
     "output_type": "stream",
     "text": [
      "Fine-Tune Epoch 1/5 | Train Loss: 0.3534 | Val Loss: 0.3384\n"
     ]
    },
    {
     "name": "stderr",
     "output_type": "stream",
     "text": [
      "100%|██████████| 51/51 [00:01<00:00, 40.79it/s]\n"
     ]
    },
    {
     "name": "stdout",
     "output_type": "stream",
     "text": [
      "Fine-Tune Epoch 2/5 | Train Loss: 0.3568 | Val Loss: 0.3381\n"
     ]
    },
    {
     "name": "stderr",
     "output_type": "stream",
     "text": [
      "100%|██████████| 51/51 [00:01<00:00, 42.05it/s]\n"
     ]
    },
    {
     "name": "stdout",
     "output_type": "stream",
     "text": [
      "Fine-Tune Epoch 3/5 | Train Loss: 0.3555 | Val Loss: 0.3378\n"
     ]
    },
    {
     "name": "stderr",
     "output_type": "stream",
     "text": [
      "100%|██████████| 51/51 [00:01<00:00, 31.55it/s]\n"
     ]
    },
    {
     "name": "stdout",
     "output_type": "stream",
     "text": [
      "Fine-Tune Epoch 4/5 | Train Loss: 0.3550 | Val Loss: 0.3376\n"
     ]
    },
    {
     "name": "stderr",
     "output_type": "stream",
     "text": [
      "100%|██████████| 51/51 [00:02<00:00, 18.60it/s]\n"
     ]
    },
    {
     "name": "stdout",
     "output_type": "stream",
     "text": [
      "Fine-Tune Epoch 5/5 | Train Loss: 0.3508 | Val Loss: 0.3373\n"
     ]
    },
    {
     "name": "stderr",
     "output_type": "stream",
     "text": [
      "100%|██████████| 51/51 [00:03<00:00, 13.50it/s]\n"
     ]
    },
    {
     "name": "stdout",
     "output_type": "stream",
     "text": [
      "Epoch 19/50 | Train Loss: 0.3517 | Val Loss: 4.3618 | Val Accuracy: 0.8446\n",
      "Edge metrics: tensor([0.0000e+00, 0.0000e+00, 1.8800e-01, 1.3449e-01, 1.5962e-01, 2.6023e-01,\n",
      "        0.0000e+00, 7.8007e-02, 0.0000e+00, 1.0178e-04, 0.0000e+00, 0.0000e+00,\n",
      "        2.2585e-01, 1.5779e-01, 0.0000e+00, 2.3206e-01, 0.0000e+00, 2.9498e-01,\n",
      "        0.0000e+00, 6.7946e-02, 0.0000e+00, 1.4113e-04, 0.0000e+00, 0.0000e+00,\n",
      "        0.0000e+00, 0.0000e+00, 0.0000e+00, 0.0000e+00, 0.0000e+00, 0.0000e+00,\n",
      "        0.0000e+00, 2.5483e-02, 0.0000e+00, 0.0000e+00, 0.0000e+00, 0.0000e+00,\n",
      "        0.0000e+00, 0.0000e+00, 0.0000e+00, 2.5056e-01, 1.1506e-02, 1.6624e-01,\n",
      "        0.0000e+00, 1.3868e-01, 1.0946e-01, 1.0366e-02, 2.4670e-01, 3.7526e-02,\n",
      "        1.3470e-01, 7.0182e-02, 1.5351e-01, 1.5803e-01, 8.9888e-03, 1.1988e-01,\n",
      "        9.9611e-02, 2.3577e-02, 2.3448e-01, 3.1951e-02, 2.9846e-01, 3.0891e-01,\n",
      "        2.4491e-01, 4.0883e-01, 5.7952e-01, 8.0230e-01]) tensor(0.8023) tensor(6.4736)\n",
      "Chosen edges: tensor([[  1,   1,   1,   1],\n",
      "        [141, 143, 144, 145]]) 4\n"
     ]
    },
    {
     "name": "stderr",
     "output_type": "stream",
     "text": [
      "100%|██████████| 51/51 [00:01<00:00, 38.38it/s]\n"
     ]
    },
    {
     "name": "stdout",
     "output_type": "stream",
     "text": [
      "Fine-Tune Epoch 1/5 | Train Loss: 0.3518 | Val Loss: 0.3359\n"
     ]
    },
    {
     "name": "stderr",
     "output_type": "stream",
     "text": [
      "100%|██████████| 51/51 [00:01<00:00, 36.53it/s]\n"
     ]
    },
    {
     "name": "stdout",
     "output_type": "stream",
     "text": [
      "Fine-Tune Epoch 2/5 | Train Loss: 0.3522 | Val Loss: 0.3355\n"
     ]
    },
    {
     "name": "stderr",
     "output_type": "stream",
     "text": [
      "100%|██████████| 51/51 [00:01<00:00, 33.52it/s]\n"
     ]
    },
    {
     "name": "stdout",
     "output_type": "stream",
     "text": [
      "Fine-Tune Epoch 3/5 | Train Loss: 0.3505 | Val Loss: 0.3353\n"
     ]
    },
    {
     "name": "stderr",
     "output_type": "stream",
     "text": [
      "100%|██████████| 51/51 [00:01<00:00, 34.26it/s]\n"
     ]
    },
    {
     "name": "stdout",
     "output_type": "stream",
     "text": [
      "Fine-Tune Epoch 4/5 | Train Loss: 0.3519 | Val Loss: 0.3352\n"
     ]
    },
    {
     "name": "stderr",
     "output_type": "stream",
     "text": [
      "100%|██████████| 51/51 [00:01<00:00, 36.54it/s]\n"
     ]
    },
    {
     "name": "stdout",
     "output_type": "stream",
     "text": [
      "Fine-Tune Epoch 5/5 | Train Loss: 0.3519 | Val Loss: 0.3351\n"
     ]
    },
    {
     "name": "stderr",
     "output_type": "stream",
     "text": [
      "100%|██████████| 51/51 [00:02<00:00, 24.99it/s]\n"
     ]
    },
    {
     "name": "stdout",
     "output_type": "stream",
     "text": [
      "Epoch 20/50 | Train Loss: 0.3511 | Val Loss: 4.3566 | Val Accuracy: 0.8457\n",
      "Edge metrics: tensor([0.0000, 0.0043, 0.2117, 0.1980, 0.2097, 0.2222, 0.0000, 0.0244, 0.0000,\n",
      "        0.0000, 0.0000, 0.0092, 0.2110, 0.2913, 0.0000, 0.1086, 0.0000, 0.2205,\n",
      "        0.0000, 0.0257, 0.0000, 0.0000, 0.0000, 0.0000, 0.0000, 0.0000, 0.0000,\n",
      "        0.0000, 0.0000, 0.0000, 0.0000, 0.0301, 0.0000, 0.0000, 0.0000, 0.0000,\n",
      "        0.0000, 0.0000, 0.0000, 0.2917, 0.0041, 0.1576, 0.0000, 0.1107, 0.0676,\n",
      "        0.0030, 0.3862, 0.0336, 0.1549, 0.1132, 0.3062, 0.1618, 0.0109, 0.0976,\n",
      "        0.1965, 0.0364, 0.3424, 0.1053, 0.4709, 0.1873, 0.2838, 0.4760, 0.4280,\n",
      "        0.6384]) tensor(0.6384) tensor(6.8309)\n",
      "Chosen edges: tensor([[  0,   1,   1,   1,   1,   1],\n",
      "        [101, 140, 146, 147, 148, 149]]) 6\n"
     ]
    },
    {
     "name": "stderr",
     "output_type": "stream",
     "text": [
      "100%|██████████| 51/51 [00:01<00:00, 25.93it/s]\n"
     ]
    },
    {
     "name": "stdout",
     "output_type": "stream",
     "text": [
      "Fine-Tune Epoch 1/5 | Train Loss: 0.3514 | Val Loss: 0.3358\n"
     ]
    },
    {
     "name": "stderr",
     "output_type": "stream",
     "text": [
      "100%|██████████| 51/51 [00:01<00:00, 34.41it/s]\n"
     ]
    },
    {
     "name": "stdout",
     "output_type": "stream",
     "text": [
      "Fine-Tune Epoch 2/5 | Train Loss: 0.3484 | Val Loss: 0.3353\n"
     ]
    },
    {
     "name": "stderr",
     "output_type": "stream",
     "text": [
      "100%|██████████| 51/51 [00:01<00:00, 35.81it/s]\n"
     ]
    },
    {
     "name": "stdout",
     "output_type": "stream",
     "text": [
      "Fine-Tune Epoch 3/5 | Train Loss: 0.3487 | Val Loss: 0.3350\n"
     ]
    },
    {
     "name": "stderr",
     "output_type": "stream",
     "text": [
      "100%|██████████| 51/51 [00:01<00:00, 40.22it/s]\n"
     ]
    },
    {
     "name": "stdout",
     "output_type": "stream",
     "text": [
      "Fine-Tune Epoch 4/5 | Train Loss: 0.3474 | Val Loss: 0.3349\n"
     ]
    },
    {
     "name": "stderr",
     "output_type": "stream",
     "text": [
      "100%|██████████| 51/51 [00:01<00:00, 37.62it/s]\n"
     ]
    },
    {
     "name": "stdout",
     "output_type": "stream",
     "text": [
      "Fine-Tune Epoch 5/5 | Train Loss: 0.3498 | Val Loss: 0.3348\n"
     ]
    },
    {
     "name": "stderr",
     "output_type": "stream",
     "text": [
      "100%|██████████| 51/51 [00:02<00:00, 23.54it/s]\n"
     ]
    },
    {
     "name": "stdout",
     "output_type": "stream",
     "text": [
      "Epoch 21/50 | Train Loss: 0.3504 | Val Loss: 4.3538 | Val Accuracy: 0.8466\n",
      "Edge metrics: tensor([0.0000, 0.0471, 0.3204, 0.1280, 0.5107, 0.2604, 0.0000, 0.0217, 0.0000,\n",
      "        0.0000, 0.0000, 0.0316, 0.1956, 0.1624, 0.0000, 0.2837, 0.0000, 0.1818,\n",
      "        0.0000, 0.0162, 0.0000, 0.0000, 0.0000, 0.0000, 0.0000, 0.0000, 0.0000,\n",
      "        0.0000, 0.0000, 0.0000, 0.0000, 0.0197, 0.0000, 0.0000, 0.0000, 0.0000,\n",
      "        0.0000, 0.0000, 0.0000, 0.0033, 0.0858, 0.0000, 0.2692, 0.1851, 0.0000,\n",
      "        0.5505, 0.0352, 0.0963, 0.1006, 0.7608, 0.2192, 0.0107, 0.0908, 0.2069,\n",
      "        0.0734, 0.3906, 0.1102, 0.2703, 0.2199, 0.3208, 0.5281, 0.4141, 0.1390,\n",
      "        0.1998]) tensor(0.7608) tensor(7.4596)\n",
      "Chosen edges: tensor([[  0,   1,   1,   1,   1,   1],\n",
      "        [  8,   8, 121, 129, 152, 153]]) 6\n"
     ]
    },
    {
     "name": "stderr",
     "output_type": "stream",
     "text": [
      "100%|██████████| 51/51 [00:01<00:00, 35.24it/s]\n"
     ]
    },
    {
     "name": "stdout",
     "output_type": "stream",
     "text": [
      "Fine-Tune Epoch 1/5 | Train Loss: 0.3499 | Val Loss: 0.3340\n"
     ]
    },
    {
     "name": "stderr",
     "output_type": "stream",
     "text": [
      "100%|██████████| 51/51 [00:01<00:00, 31.55it/s]\n"
     ]
    },
    {
     "name": "stdout",
     "output_type": "stream",
     "text": [
      "Fine-Tune Epoch 2/5 | Train Loss: 0.3516 | Val Loss: 0.3339\n"
     ]
    },
    {
     "name": "stderr",
     "output_type": "stream",
     "text": [
      "100%|██████████| 51/51 [00:01<00:00, 37.01it/s]\n"
     ]
    },
    {
     "name": "stdout",
     "output_type": "stream",
     "text": [
      "Fine-Tune Epoch 3/5 | Train Loss: 0.3485 | Val Loss: 0.3339\n"
     ]
    },
    {
     "name": "stderr",
     "output_type": "stream",
     "text": [
      "100%|██████████| 51/51 [00:01<00:00, 36.14it/s]\n"
     ]
    },
    {
     "name": "stdout",
     "output_type": "stream",
     "text": [
      "Fine-Tune Epoch 4/5 | Train Loss: 0.3492 | Val Loss: 0.3339\n"
     ]
    },
    {
     "name": "stderr",
     "output_type": "stream",
     "text": [
      "100%|██████████| 51/51 [00:01<00:00, 36.21it/s]\n"
     ]
    },
    {
     "name": "stdout",
     "output_type": "stream",
     "text": [
      "Fine-Tune Epoch 5/5 | Train Loss: 0.3497 | Val Loss: 0.3339\n"
     ]
    },
    {
     "name": "stderr",
     "output_type": "stream",
     "text": [
      "100%|██████████| 51/51 [00:02<00:00, 22.88it/s]\n"
     ]
    },
    {
     "name": "stdout",
     "output_type": "stream",
     "text": [
      "Epoch 22/50 | Train Loss: 0.3490 | Val Loss: 4.3442 | Val Accuracy: 0.8452\n",
      "Edge metrics: tensor([0.0000, 0.0152, 0.2383, 0.2921, 0.3127, 0.0000, 0.0146, 0.0000, 0.0000,\n",
      "        0.0000, 0.0062, 0.1516, 0.3215, 0.0000, 0.0000, 0.1788, 0.0000, 0.0187,\n",
      "        0.0000, 0.0000, 0.0000, 0.0000, 0.0000, 0.0000, 0.0000, 0.0000, 0.0000,\n",
      "        0.0000, 0.0000, 0.0496, 0.0000, 0.0000, 0.0000, 0.0000, 0.0000, 0.0000,\n",
      "        0.0000, 0.0000, 0.1549, 0.0000, 0.2559, 0.2164, 0.0000, 0.0661, 0.0958,\n",
      "        0.0974, 0.1558, 0.0110, 0.1263, 0.2271, 0.0408, 0.3384, 0.3575, 0.2873,\n",
      "        0.2663, 0.3920, 0.2865, 0.5249, 0.3453, 0.3176, 0.0831, 0.1210, 0.6473,\n",
      "        0.3756]) tensor(0.6473) tensor(7.3896)\n",
      "Chosen edges: tensor([[  0,   0,   0,   1,   0,   1,   1,   1],\n",
      "        [ 14, 116, 138, 155, 156, 157, 160, 161]]) 8\n"
     ]
    },
    {
     "name": "stderr",
     "output_type": "stream",
     "text": [
      "100%|██████████| 51/51 [00:01<00:00, 28.80it/s]\n"
     ]
    },
    {
     "name": "stdout",
     "output_type": "stream",
     "text": [
      "Fine-Tune Epoch 1/5 | Train Loss: 0.3515 | Val Loss: 0.3379\n"
     ]
    },
    {
     "name": "stderr",
     "output_type": "stream",
     "text": [
      "100%|██████████| 51/51 [00:01<00:00, 30.27it/s]\n"
     ]
    },
    {
     "name": "stdout",
     "output_type": "stream",
     "text": [
      "Fine-Tune Epoch 2/5 | Train Loss: 0.3532 | Val Loss: 0.3355\n"
     ]
    },
    {
     "name": "stderr",
     "output_type": "stream",
     "text": [
      "100%|██████████| 51/51 [00:01<00:00, 34.33it/s]\n"
     ]
    },
    {
     "name": "stdout",
     "output_type": "stream",
     "text": [
      "Fine-Tune Epoch 3/5 | Train Loss: 0.3493 | Val Loss: 0.3348\n"
     ]
    },
    {
     "name": "stderr",
     "output_type": "stream",
     "text": [
      "100%|██████████| 51/51 [00:01<00:00, 26.36it/s]\n"
     ]
    },
    {
     "name": "stdout",
     "output_type": "stream",
     "text": [
      "Fine-Tune Epoch 4/5 | Train Loss: 0.3475 | Val Loss: 0.3344\n"
     ]
    },
    {
     "name": "stderr",
     "output_type": "stream",
     "text": [
      "100%|██████████| 51/51 [00:01<00:00, 31.77it/s]\n"
     ]
    },
    {
     "name": "stdout",
     "output_type": "stream",
     "text": [
      "Fine-Tune Epoch 5/5 | Train Loss: 0.3527 | Val Loss: 0.3345\n"
     ]
    },
    {
     "name": "stderr",
     "output_type": "stream",
     "text": [
      "100%|██████████| 51/51 [00:02<00:00, 22.38it/s]\n"
     ]
    },
    {
     "name": "stdout",
     "output_type": "stream",
     "text": [
      "Epoch 23/50 | Train Loss: 0.3470 | Val Loss: 4.3514 | Val Accuracy: 0.8458\n",
      "Edge metrics: tensor([0.0000, 0.0070, 0.1100, 0.1255, 0.0000, 0.0223, 0.0000, 0.0000, 0.0000,\n",
      "        0.0063, 0.1562, 0.1302, 0.0000, 0.0000, 0.1111, 0.0000, 0.0398, 0.0000,\n",
      "        0.0000, 0.0000, 0.0000, 0.0000, 0.0000, 0.0000, 0.0000, 0.0000, 0.0000,\n",
      "        0.0000, 0.0346, 0.0000, 0.0000, 0.0000, 0.0000, 0.0000, 0.0000, 0.0000,\n",
      "        0.0000, 0.1067, 0.0000, 0.1252, 0.0000, 0.0088, 0.0612, 0.1174, 0.0503,\n",
      "        0.0000, 0.0880, 0.1877, 0.0553, 0.3255, 0.1193, 0.1875, 0.2724, 0.2996,\n",
      "        0.2762, 0.1138, 0.1361, 0.1214, 0.0580, 0.9046, 0.0719, 0.0329, 0.2963,\n",
      "        0.0925]) tensor(0.9046) tensor(4.8514)\n",
      "Chosen edges: tensor([[  1,   0,   1,   1,   1,   1,   1],\n",
      "        [139, 150, 151, 154, 159, 165, 168]]) 7\n"
     ]
    },
    {
     "name": "stderr",
     "output_type": "stream",
     "text": [
      "100%|██████████| 51/51 [00:01<00:00, 29.39it/s]\n"
     ]
    },
    {
     "name": "stdout",
     "output_type": "stream",
     "text": [
      "Fine-Tune Epoch 1/5 | Train Loss: 0.3470 | Val Loss: 0.3357\n"
     ]
    },
    {
     "name": "stderr",
     "output_type": "stream",
     "text": [
      "100%|██████████| 51/51 [00:01<00:00, 28.13it/s]\n"
     ]
    },
    {
     "name": "stdout",
     "output_type": "stream",
     "text": [
      "Fine-Tune Epoch 2/5 | Train Loss: 0.3473 | Val Loss: 0.3344\n"
     ]
    },
    {
     "name": "stderr",
     "output_type": "stream",
     "text": [
      "100%|██████████| 51/51 [00:01<00:00, 28.97it/s]\n"
     ]
    },
    {
     "name": "stdout",
     "output_type": "stream",
     "text": [
      "Fine-Tune Epoch 3/5 | Train Loss: 0.3452 | Val Loss: 0.3338\n"
     ]
    },
    {
     "name": "stderr",
     "output_type": "stream",
     "text": [
      "100%|██████████| 51/51 [00:01<00:00, 31.85it/s]\n"
     ]
    },
    {
     "name": "stdout",
     "output_type": "stream",
     "text": [
      "Fine-Tune Epoch 4/5 | Train Loss: 0.3465 | Val Loss: 0.3336\n"
     ]
    },
    {
     "name": "stderr",
     "output_type": "stream",
     "text": [
      "100%|██████████| 51/51 [00:01<00:00, 33.63it/s]\n"
     ]
    },
    {
     "name": "stdout",
     "output_type": "stream",
     "text": [
      "Fine-Tune Epoch 5/5 | Train Loss: 0.3460 | Val Loss: 0.3335\n"
     ]
    },
    {
     "name": "stderr",
     "output_type": "stream",
     "text": [
      "100%|██████████| 51/51 [00:02<00:00, 22.91it/s]\n"
     ]
    },
    {
     "name": "stdout",
     "output_type": "stream",
     "text": [
      "Epoch 24/50 | Train Loss: 0.3469 | Val Loss: 4.3424 | Val Accuracy: 0.8466\n",
      "Edge metrics: tensor([0.0000, 0.0101, 0.0875, 0.1773, 0.0000, 0.0456, 0.0000, 0.0021, 0.0000,\n",
      "        0.0225, 0.0924, 0.1580, 0.0000, 0.0000, 0.0513, 0.0000, 0.0461, 0.0000,\n",
      "        0.0027, 0.0000, 0.0000, 0.0000, 0.0000, 0.0000, 0.0000, 0.0000, 0.0000,\n",
      "        0.0000, 0.0156, 0.0000, 0.0000, 0.0000, 0.0000, 0.0000, 0.0000, 0.0000,\n",
      "        0.0000, 0.0894, 0.0000, 0.0786, 0.0000, 0.0016, 0.0837, 0.1130, 0.0829,\n",
      "        0.0000, 0.0635, 0.1695, 0.0299, 0.1378, 0.3279, 0.0361, 0.1170, 0.0996,\n",
      "        0.0851, 0.0348, 0.1798, 0.4309, 0.0741, 0.2450, 0.4183, 0.0283, 0.6259,\n",
      "        0.2914]) tensor(0.6259) tensor(4.5551)\n",
      "Chosen edges: tensor([[  1,   1,   1,   1,   1],\n",
      "        [158, 170, 173, 175, 176]]) 5\n"
     ]
    },
    {
     "name": "stderr",
     "output_type": "stream",
     "text": [
      "100%|██████████| 51/51 [00:02<00:00, 22.56it/s]\n"
     ]
    },
    {
     "name": "stdout",
     "output_type": "stream",
     "text": [
      "Fine-Tune Epoch 1/5 | Train Loss: 0.3498 | Val Loss: 0.3377\n"
     ]
    },
    {
     "name": "stderr",
     "output_type": "stream",
     "text": [
      "100%|██████████| 51/51 [00:01<00:00, 26.67it/s]\n"
     ]
    },
    {
     "name": "stdout",
     "output_type": "stream",
     "text": [
      "Fine-Tune Epoch 2/5 | Train Loss: 0.3473 | Val Loss: 0.3359\n"
     ]
    },
    {
     "name": "stderr",
     "output_type": "stream",
     "text": [
      "100%|██████████| 51/51 [00:01<00:00, 28.75it/s]\n"
     ]
    },
    {
     "name": "stdout",
     "output_type": "stream",
     "text": [
      "Fine-Tune Epoch 3/5 | Train Loss: 0.3467 | Val Loss: 0.3350\n"
     ]
    },
    {
     "name": "stderr",
     "output_type": "stream",
     "text": [
      "100%|██████████| 51/51 [00:01<00:00, 32.66it/s]\n"
     ]
    },
    {
     "name": "stdout",
     "output_type": "stream",
     "text": [
      "Fine-Tune Epoch 4/5 | Train Loss: 0.3452 | Val Loss: 0.3344\n"
     ]
    },
    {
     "name": "stderr",
     "output_type": "stream",
     "text": [
      "100%|██████████| 51/51 [00:01<00:00, 33.26it/s]\n"
     ]
    },
    {
     "name": "stdout",
     "output_type": "stream",
     "text": [
      "Fine-Tune Epoch 5/5 | Train Loss: 0.3464 | Val Loss: 0.3341\n"
     ]
    },
    {
     "name": "stderr",
     "output_type": "stream",
     "text": [
      "100%|██████████| 51/51 [00:02<00:00, 19.88it/s]\n"
     ]
    },
    {
     "name": "stdout",
     "output_type": "stream",
     "text": [
      "Epoch 25/50 | Train Loss: 0.3447 | Val Loss: 4.3331 | Val Accuracy: 0.8458\n",
      "Edge metrics: tensor([0.0000e+00, 5.3930e-02, 1.0490e-01, 1.6329e-01, 0.0000e+00, 4.5256e-02,\n",
      "        2.2073e-04, 1.1104e-03, 0.0000e+00, 6.2958e-02, 1.0737e-01, 1.9590e-01,\n",
      "        0.0000e+00, 0.0000e+00, 3.8950e-02, 0.0000e+00, 6.3520e-02, 4.1514e-04,\n",
      "        5.4726e-04, 0.0000e+00, 0.0000e+00, 0.0000e+00, 0.0000e+00, 0.0000e+00,\n",
      "        0.0000e+00, 0.0000e+00, 0.0000e+00, 0.0000e+00, 1.7608e-02, 0.0000e+00,\n",
      "        0.0000e+00, 0.0000e+00, 0.0000e+00, 0.0000e+00, 0.0000e+00, 0.0000e+00,\n",
      "        0.0000e+00, 1.1468e-01, 0.0000e+00, 1.1191e-01, 0.0000e+00, 0.0000e+00,\n",
      "        6.0349e-02, 9.0014e-02, 6.8690e-02, 0.0000e+00, 8.6066e-02, 3.1157e-01,\n",
      "        4.4775e-02, 1.3920e-01, 3.5520e-02, 1.4775e-01, 9.1962e-02, 9.1259e-02,\n",
      "        4.6221e-02, 3.9362e-01, 1.0477e-01, 3.4642e-01, 6.5668e-02, 2.0262e-01,\n",
      "        6.8798e-02, 5.6370e-01, 6.2123e-01, 4.4395e-01]) tensor(0.6212) tensor(5.1067)\n",
      "Chosen edges: tensor([[  1,   1,   1,   1],\n",
      "        [169, 179, 180, 181]]) 4\n"
     ]
    },
    {
     "name": "stderr",
     "output_type": "stream",
     "text": [
      "100%|██████████| 51/51 [00:02<00:00, 24.05it/s]\n"
     ]
    },
    {
     "name": "stdout",
     "output_type": "stream",
     "text": [
      "Fine-Tune Epoch 1/5 | Train Loss: 0.3449 | Val Loss: 0.3333\n"
     ]
    },
    {
     "name": "stderr",
     "output_type": "stream",
     "text": [
      "100%|██████████| 51/51 [00:01<00:00, 29.63it/s]\n"
     ]
    },
    {
     "name": "stdout",
     "output_type": "stream",
     "text": [
      "Fine-Tune Epoch 2/5 | Train Loss: 0.3430 | Val Loss: 0.3332\n"
     ]
    },
    {
     "name": "stderr",
     "output_type": "stream",
     "text": [
      "100%|██████████| 51/51 [00:01<00:00, 32.90it/s]\n"
     ]
    },
    {
     "name": "stdout",
     "output_type": "stream",
     "text": [
      "Fine-Tune Epoch 3/5 | Train Loss: 0.3444 | Val Loss: 0.3332\n"
     ]
    },
    {
     "name": "stderr",
     "output_type": "stream",
     "text": [
      "100%|██████████| 51/51 [00:01<00:00, 29.53it/s]\n"
     ]
    },
    {
     "name": "stdout",
     "output_type": "stream",
     "text": [
      "Fine-Tune Epoch 4/5 | Train Loss: 0.3448 | Val Loss: 0.3331\n"
     ]
    },
    {
     "name": "stderr",
     "output_type": "stream",
     "text": [
      "100%|██████████| 51/51 [00:01<00:00, 33.87it/s]\n"
     ]
    },
    {
     "name": "stdout",
     "output_type": "stream",
     "text": [
      "Fine-Tune Epoch 5/5 | Train Loss: 0.3429 | Val Loss: 0.3331\n"
     ]
    },
    {
     "name": "stderr",
     "output_type": "stream",
     "text": [
      "100%|██████████| 51/51 [00:02<00:00, 21.16it/s]\n"
     ]
    },
    {
     "name": "stdout",
     "output_type": "stream",
     "text": [
      "Epoch 26/50 | Train Loss: 0.3446 | Val Loss: 4.3302 | Val Accuracy: 0.8452\n",
      "Edge metrics: tensor([0.0000, 0.0692, 0.1778, 0.1886, 0.0000, 0.1096, 0.0011, 0.0065, 0.0000,\n",
      "        0.0814, 0.1432, 0.3135, 0.0000, 0.0000, 0.0582, 0.0000, 0.0897, 0.0023,\n",
      "        0.0029, 0.0000, 0.0000, 0.0000, 0.0000, 0.0000, 0.0000, 0.0000, 0.0000,\n",
      "        0.0000, 0.0220, 0.0000, 0.0000, 0.0000, 0.0000, 0.0000, 0.0000, 0.0000,\n",
      "        0.0000, 0.0798, 0.0000, 0.1363, 0.0000, 0.0000, 0.1088, 0.1564, 0.0727,\n",
      "        0.0000, 0.0782, 0.4363, 0.0724, 0.1519, 0.0402, 0.1323, 0.1461, 0.1016,\n",
      "        0.0938, 0.1446, 0.3837, 0.1096, 0.4037, 0.2278, 0.3692, 0.3721, 0.7264,\n",
      "        0.6346]) tensor(0.7264) tensor(6.4444)\n",
      "Chosen edges: tensor([[  1,   1,   1,   1,   1],\n",
      "        [172, 182, 183, 184, 185]]) 5\n"
     ]
    },
    {
     "name": "stderr",
     "output_type": "stream",
     "text": [
      "100%|██████████| 51/51 [00:01<00:00, 29.13it/s]\n"
     ]
    },
    {
     "name": "stdout",
     "output_type": "stream",
     "text": [
      "Fine-Tune Epoch 1/5 | Train Loss: 0.3492 | Val Loss: 0.3365\n"
     ]
    },
    {
     "name": "stderr",
     "output_type": "stream",
     "text": [
      "100%|██████████| 51/51 [00:01<00:00, 25.89it/s]\n"
     ]
    },
    {
     "name": "stdout",
     "output_type": "stream",
     "text": [
      "Fine-Tune Epoch 2/5 | Train Loss: 0.3464 | Val Loss: 0.3353\n"
     ]
    },
    {
     "name": "stderr",
     "output_type": "stream",
     "text": [
      "100%|██████████| 51/51 [00:01<00:00, 29.82it/s]\n"
     ]
    },
    {
     "name": "stdout",
     "output_type": "stream",
     "text": [
      "Fine-Tune Epoch 3/5 | Train Loss: 0.3479 | Val Loss: 0.3345\n"
     ]
    },
    {
     "name": "stderr",
     "output_type": "stream",
     "text": [
      "100%|██████████| 51/51 [00:01<00:00, 27.21it/s]\n"
     ]
    },
    {
     "name": "stdout",
     "output_type": "stream",
     "text": [
      "Fine-Tune Epoch 4/5 | Train Loss: 0.3423 | Val Loss: 0.3341\n"
     ]
    },
    {
     "name": "stderr",
     "output_type": "stream",
     "text": [
      "100%|██████████| 51/51 [00:01<00:00, 30.01it/s]\n"
     ]
    },
    {
     "name": "stdout",
     "output_type": "stream",
     "text": [
      "Fine-Tune Epoch 5/5 | Train Loss: 0.3453 | Val Loss: 0.3338\n"
     ]
    },
    {
     "name": "stderr",
     "output_type": "stream",
     "text": [
      "100%|██████████| 51/51 [00:02<00:00, 21.88it/s]\n"
     ]
    },
    {
     "name": "stdout",
     "output_type": "stream",
     "text": [
      "Epoch 27/50 | Train Loss: 0.3453 | Val Loss: 4.3287 | Val Accuracy: 0.8462\n",
      "Edge metrics: tensor([0.0000e+00, 7.9173e-02, 2.2130e-01, 1.8791e-01, 5.6437e-08, 5.6635e-02,\n",
      "        2.5182e-02, 6.3511e-03, 0.0000e+00, 1.0365e-01, 1.6416e-01, 2.3450e-01,\n",
      "        0.0000e+00, 0.0000e+00, 9.1901e-02, 4.5155e-08, 5.8978e-02, 1.4354e-02,\n",
      "        2.7859e-03, 0.0000e+00, 0.0000e+00, 0.0000e+00, 0.0000e+00, 0.0000e+00,\n",
      "        0.0000e+00, 0.0000e+00, 0.0000e+00, 0.0000e+00, 1.8458e-02, 0.0000e+00,\n",
      "        0.0000e+00, 0.0000e+00, 0.0000e+00, 0.0000e+00, 0.0000e+00, 0.0000e+00,\n",
      "        0.0000e+00, 7.6008e-02, 0.0000e+00, 8.7349e-02, 0.0000e+00, 0.0000e+00,\n",
      "        9.9989e-02, 1.6418e-01, 7.4326e-02, 0.0000e+00, 5.4030e-02, 3.4386e-01,\n",
      "        3.8637e-02, 9.6833e-02, 3.1008e-02, 1.2625e-01, 9.9691e-02, 7.9012e-02,\n",
      "        9.5231e-02, 1.7235e-01, 1.6736e-01, 4.2283e-01, 6.0239e-01, 3.8163e-01,\n",
      "        3.1877e-01, 3.9507e-01, 1.6611e-01, 6.4544e-01]) tensor(0.6454) tensor(6.0037)\n",
      "Chosen edges: tensor([[  1,   1,   1],\n",
      "        [177, 178, 190]]) 3\n"
     ]
    },
    {
     "name": "stderr",
     "output_type": "stream",
     "text": [
      "100%|██████████| 51/51 [00:02<00:00, 24.33it/s]\n"
     ]
    },
    {
     "name": "stdout",
     "output_type": "stream",
     "text": [
      "Fine-Tune Epoch 1/5 | Train Loss: 0.3436 | Val Loss: 0.3325\n"
     ]
    },
    {
     "name": "stderr",
     "output_type": "stream",
     "text": [
      "100%|██████████| 51/51 [00:01<00:00, 25.95it/s]\n"
     ]
    },
    {
     "name": "stdout",
     "output_type": "stream",
     "text": [
      "Fine-Tune Epoch 2/5 | Train Loss: 0.3464 | Val Loss: 0.3325\n"
     ]
    },
    {
     "name": "stderr",
     "output_type": "stream",
     "text": [
      "100%|██████████| 51/51 [00:01<00:00, 27.36it/s]\n"
     ]
    },
    {
     "name": "stdout",
     "output_type": "stream",
     "text": [
      "Fine-Tune Epoch 3/5 | Train Loss: 0.3435 | Val Loss: 0.3324\n"
     ]
    },
    {
     "name": "stderr",
     "output_type": "stream",
     "text": [
      "100%|██████████| 51/51 [00:02<00:00, 24.35it/s]\n"
     ]
    },
    {
     "name": "stdout",
     "output_type": "stream",
     "text": [
      "Fine-Tune Epoch 4/5 | Train Loss: 0.3417 | Val Loss: 0.3323\n"
     ]
    },
    {
     "name": "stderr",
     "output_type": "stream",
     "text": [
      "100%|██████████| 51/51 [00:02<00:00, 19.55it/s]\n"
     ]
    },
    {
     "name": "stdout",
     "output_type": "stream",
     "text": [
      "Fine-Tune Epoch 5/5 | Train Loss: 0.3449 | Val Loss: 0.3323\n"
     ]
    },
    {
     "name": "stderr",
     "output_type": "stream",
     "text": [
      "100%|██████████| 51/51 [00:02<00:00, 18.72it/s]\n"
     ]
    },
    {
     "name": "stdout",
     "output_type": "stream",
     "text": [
      "Epoch 28/50 | Train Loss: 0.3442 | Val Loss: 4.3201 | Val Accuracy: 0.8455\n",
      "Edge metrics: tensor([4.5754e-06, 1.1266e-01, 1.1184e-01, 1.9692e-01, 4.6640e-03, 8.4205e-02,\n",
      "        9.5896e-04, 1.0661e-02, 6.2353e-06, 7.7293e-02, 1.3631e-01, 2.6278e-01,\n",
      "        0.0000e+00, 0.0000e+00, 9.6886e-02, 2.6131e-03, 1.0808e-01, 2.5751e-04,\n",
      "        1.9404e-02, 0.0000e+00, 0.0000e+00, 0.0000e+00, 0.0000e+00, 0.0000e+00,\n",
      "        0.0000e+00, 0.0000e+00, 0.0000e+00, 0.0000e+00, 1.4715e-02, 0.0000e+00,\n",
      "        0.0000e+00, 0.0000e+00, 0.0000e+00, 0.0000e+00, 0.0000e+00, 0.0000e+00,\n",
      "        0.0000e+00, 8.0996e-02, 0.0000e+00, 8.5136e-02, 0.0000e+00, 0.0000e+00,\n",
      "        5.1294e-02, 1.6645e-01, 3.5221e-02, 0.0000e+00, 9.6831e-02, 3.4889e-01,\n",
      "        3.9641e-02, 6.7997e-02, 6.4160e-02, 1.0477e-01, 7.6282e-02, 1.2438e-01,\n",
      "        1.5750e-01, 1.4315e-01, 1.5993e-01, 3.6554e-01, 2.3388e-01, 4.0159e-01,\n",
      "        3.0394e-01, 4.4044e-01, 3.2796e-01, 7.2649e-01]) tensor(0.7265) tensor(5.8427)\n",
      "Chosen edges: tensor([[  1,   1,   1,   1,   1],\n",
      "        [136, 186, 188, 191, 193]]) 5\n"
     ]
    },
    {
     "name": "stderr",
     "output_type": "stream",
     "text": [
      "100%|██████████| 51/51 [00:02<00:00, 22.16it/s]\n"
     ]
    },
    {
     "name": "stdout",
     "output_type": "stream",
     "text": [
      "Fine-Tune Epoch 1/5 | Train Loss: 0.3453 | Val Loss: 0.3357\n"
     ]
    },
    {
     "name": "stderr",
     "output_type": "stream",
     "text": [
      "100%|██████████| 51/51 [00:02<00:00, 22.94it/s]\n"
     ]
    },
    {
     "name": "stdout",
     "output_type": "stream",
     "text": [
      "Fine-Tune Epoch 2/5 | Train Loss: 0.3456 | Val Loss: 0.3339\n"
     ]
    },
    {
     "name": "stderr",
     "output_type": "stream",
     "text": [
      "100%|██████████| 51/51 [00:02<00:00, 25.03it/s]\n"
     ]
    },
    {
     "name": "stdout",
     "output_type": "stream",
     "text": [
      "Fine-Tune Epoch 3/5 | Train Loss: 0.3439 | Val Loss: 0.3330\n"
     ]
    },
    {
     "name": "stderr",
     "output_type": "stream",
     "text": [
      "100%|██████████| 51/51 [00:02<00:00, 24.44it/s]\n"
     ]
    },
    {
     "name": "stdout",
     "output_type": "stream",
     "text": [
      "Fine-Tune Epoch 4/5 | Train Loss: 0.3455 | Val Loss: 0.3327\n"
     ]
    },
    {
     "name": "stderr",
     "output_type": "stream",
     "text": [
      "100%|██████████| 51/51 [00:01<00:00, 28.71it/s]\n"
     ]
    },
    {
     "name": "stdout",
     "output_type": "stream",
     "text": [
      "Fine-Tune Epoch 5/5 | Train Loss: 0.3457 | Val Loss: 0.3325\n"
     ]
    },
    {
     "name": "stderr",
     "output_type": "stream",
     "text": [
      "100%|██████████| 51/51 [00:02<00:00, 19.40it/s]\n"
     ]
    },
    {
     "name": "stdout",
     "output_type": "stream",
     "text": [
      "Epoch 29/50 | Train Loss: 0.3427 | Val Loss: 4.3180 | Val Accuracy: 0.8462\n",
      "Edge metrics: tensor([2.6944e-04, 4.1715e-02, 1.0525e-01, 1.3496e-01, 1.0286e-02, 4.3322e-02,\n",
      "        7.0608e-03, 3.5487e-03, 3.4026e-04, 8.6938e-02, 8.3265e-02, 1.1836e-01,\n",
      "        0.0000e+00, 0.0000e+00, 9.6645e-02, 1.5865e-02, 4.7391e-02, 4.8805e-03,\n",
      "        8.5941e-03, 0.0000e+00, 0.0000e+00, 0.0000e+00, 0.0000e+00, 0.0000e+00,\n",
      "        0.0000e+00, 0.0000e+00, 0.0000e+00, 0.0000e+00, 1.3007e-02, 0.0000e+00,\n",
      "        0.0000e+00, 0.0000e+00, 0.0000e+00, 0.0000e+00, 0.0000e+00, 0.0000e+00,\n",
      "        0.0000e+00, 3.1182e-02, 0.0000e+00, 7.0422e-02, 0.0000e+00, 0.0000e+00,\n",
      "        5.0517e-02, 9.6103e-02, 4.8247e-02, 0.0000e+00, 9.4024e-02, 3.9429e-02,\n",
      "        1.0349e-01, 7.5558e-02, 8.2380e-02, 9.2675e-02, 3.9717e-02, 1.0078e-01,\n",
      "        1.1007e-01, 6.5114e-01, 2.0653e-01, 5.4410e-01, 3.8965e-01, 2.1098e-01,\n",
      "        9.9630e-02, 4.2787e-01, 3.9421e-01, 1.1776e-01]) tensor(0.6511) tensor(4.8982)\n",
      "Chosen edges: tensor([[  1,   1,   1,   1],\n",
      "        [174, 189, 192, 197]]) 4\n"
     ]
    },
    {
     "name": "stderr",
     "output_type": "stream",
     "text": [
      "100%|██████████| 51/51 [00:02<00:00, 21.92it/s]\n"
     ]
    },
    {
     "name": "stdout",
     "output_type": "stream",
     "text": [
      "Fine-Tune Epoch 1/5 | Train Loss: 0.3424 | Val Loss: 0.3327\n"
     ]
    },
    {
     "name": "stderr",
     "output_type": "stream",
     "text": [
      "100%|██████████| 51/51 [00:02<00:00, 23.86it/s]\n"
     ]
    },
    {
     "name": "stdout",
     "output_type": "stream",
     "text": [
      "Fine-Tune Epoch 2/5 | Train Loss: 0.3423 | Val Loss: 0.3323\n"
     ]
    },
    {
     "name": "stderr",
     "output_type": "stream",
     "text": [
      "100%|██████████| 51/51 [00:02<00:00, 23.05it/s]\n"
     ]
    },
    {
     "name": "stdout",
     "output_type": "stream",
     "text": [
      "Fine-Tune Epoch 3/5 | Train Loss: 0.3437 | Val Loss: 0.3321\n"
     ]
    },
    {
     "name": "stderr",
     "output_type": "stream",
     "text": [
      "100%|██████████| 51/51 [00:02<00:00, 24.54it/s]\n"
     ]
    },
    {
     "name": "stdout",
     "output_type": "stream",
     "text": [
      "Fine-Tune Epoch 4/5 | Train Loss: 0.3430 | Val Loss: 0.3320\n"
     ]
    },
    {
     "name": "stderr",
     "output_type": "stream",
     "text": [
      "100%|██████████| 51/51 [00:01<00:00, 28.46it/s]\n"
     ]
    },
    {
     "name": "stdout",
     "output_type": "stream",
     "text": [
      "Fine-Tune Epoch 5/5 | Train Loss: 0.3417 | Val Loss: 0.3318\n"
     ]
    },
    {
     "name": "stderr",
     "output_type": "stream",
     "text": [
      "100%|██████████| 51/51 [00:02<00:00, 20.11it/s]\n"
     ]
    },
    {
     "name": "stdout",
     "output_type": "stream",
     "text": [
      "Epoch 30/50 | Train Loss: 0.3419 | Val Loss: 4.3163 | Val Accuracy: 0.8460\n",
      "Edge metrics: tensor([0.0102, 0.1370, 0.1585, 0.1570, 0.0398, 0.0773, 0.0046, 0.0494, 0.0101,\n",
      "        0.1135, 0.1803, 0.2102, 0.0000, 0.0000, 0.1273, 0.0308, 0.1314, 0.0038,\n",
      "        0.0225, 0.0000, 0.0000, 0.0000, 0.0000, 0.0000, 0.0000, 0.0000, 0.0000,\n",
      "        0.0000, 0.0244, 0.0000, 0.0000, 0.0000, 0.0000, 0.0000, 0.0000, 0.0000,\n",
      "        0.0000, 0.0853, 0.0000, 0.0709, 0.0000, 0.0000, 0.0582, 0.1262, 0.0668,\n",
      "        0.0000, 0.0574, 0.0576, 0.0984, 0.0841, 0.1438, 0.1133, 0.0805, 0.1625,\n",
      "        0.1855, 0.3443, 0.1611, 0.2457, 0.7234, 0.6278, 0.2506, 0.6390, 0.3924,\n",
      "        0.2596]) tensor(0.7234) tensor(6.5225)\n",
      "Chosen edges: tensor([[  1,   1,   1,   1,   1,   1,   1],\n",
      "        [187, 194, 196, 198, 200, 201, 202]]) 7\n"
     ]
    },
    {
     "name": "stderr",
     "output_type": "stream",
     "text": [
      "100%|██████████| 51/51 [00:01<00:00, 26.99it/s]\n"
     ]
    },
    {
     "name": "stdout",
     "output_type": "stream",
     "text": [
      "Fine-Tune Epoch 1/5 | Train Loss: 0.3433 | Val Loss: 0.3326\n"
     ]
    },
    {
     "name": "stderr",
     "output_type": "stream",
     "text": [
      "100%|██████████| 51/51 [00:01<00:00, 29.46it/s]\n"
     ]
    },
    {
     "name": "stdout",
     "output_type": "stream",
     "text": [
      "Fine-Tune Epoch 2/5 | Train Loss: 0.3401 | Val Loss: 0.3320\n"
     ]
    },
    {
     "name": "stderr",
     "output_type": "stream",
     "text": [
      "100%|██████████| 51/51 [00:01<00:00, 28.48it/s]\n"
     ]
    },
    {
     "name": "stdout",
     "output_type": "stream",
     "text": [
      "Fine-Tune Epoch 3/5 | Train Loss: 0.3407 | Val Loss: 0.3319\n"
     ]
    },
    {
     "name": "stderr",
     "output_type": "stream",
     "text": [
      "100%|██████████| 51/51 [00:01<00:00, 27.31it/s]\n"
     ]
    },
    {
     "name": "stdout",
     "output_type": "stream",
     "text": [
      "Fine-Tune Epoch 4/5 | Train Loss: 0.3428 | Val Loss: 0.3319\n"
     ]
    },
    {
     "name": "stderr",
     "output_type": "stream",
     "text": [
      "100%|██████████| 51/51 [00:01<00:00, 29.51it/s]\n"
     ]
    },
    {
     "name": "stdout",
     "output_type": "stream",
     "text": [
      "Fine-Tune Epoch 5/5 | Train Loss: 0.3422 | Val Loss: 0.3318\n"
     ]
    },
    {
     "name": "stderr",
     "output_type": "stream",
     "text": [
      "100%|██████████| 51/51 [00:02<00:00, 19.77it/s]\n"
     ]
    },
    {
     "name": "stdout",
     "output_type": "stream",
     "text": [
      "Epoch 31/50 | Train Loss: 0.3393 | Val Loss: 4.3055 | Val Accuracy: 0.8462\n",
      "Edge metrics: tensor([0.0098, 0.1474, 0.1383, 0.1365, 0.0084, 0.0869, 0.0093, 0.0335, 0.0093,\n",
      "        0.1119, 0.1168, 0.2034, 0.0000, 0.0000, 0.1778, 0.0120, 0.0998, 0.0068,\n",
      "        0.0242, 0.0000, 0.0000, 0.0000, 0.0000, 0.0000, 0.0000, 0.0000, 0.0000,\n",
      "        0.0000, 0.0156, 0.0000, 0.0000, 0.0000, 0.0000, 0.0000, 0.0000, 0.0000,\n",
      "        0.0000, 0.0477, 0.0000, 0.0595, 0.0000, 0.0000, 0.0682, 0.0850, 0.0556,\n",
      "        0.0000, 0.0519, 0.0543, 0.1079, 0.0808, 0.0781, 0.1050, 0.0934, 0.1645,\n",
      "        0.1672, 0.4452, 0.1415, 0.1797, 0.1366, 0.4614, 0.2743, 0.6513, 0.3146,\n",
      "        0.3682]) tensor(0.6513) tensor(5.5394)\n",
      "Chosen edges: tensor([[  1,   1,   1,   1,   1,   1],\n",
      "        [199, 205, 206, 207, 208, 209]]) 6\n"
     ]
    },
    {
     "name": "stderr",
     "output_type": "stream",
     "text": [
      "100%|██████████| 51/51 [00:01<00:00, 27.31it/s]\n"
     ]
    },
    {
     "name": "stdout",
     "output_type": "stream",
     "text": [
      "Fine-Tune Epoch 1/5 | Train Loss: 0.3403 | Val Loss: 0.3315\n"
     ]
    },
    {
     "name": "stderr",
     "output_type": "stream",
     "text": [
      "100%|██████████| 51/51 [00:01<00:00, 27.13it/s]\n"
     ]
    },
    {
     "name": "stdout",
     "output_type": "stream",
     "text": [
      "Fine-Tune Epoch 2/5 | Train Loss: 0.3407 | Val Loss: 0.3315\n"
     ]
    },
    {
     "name": "stderr",
     "output_type": "stream",
     "text": [
      "100%|██████████| 51/51 [00:01<00:00, 28.38it/s]\n"
     ]
    },
    {
     "name": "stdout",
     "output_type": "stream",
     "text": [
      "Fine-Tune Epoch 3/5 | Train Loss: 0.3404 | Val Loss: 0.3315\n"
     ]
    },
    {
     "name": "stderr",
     "output_type": "stream",
     "text": [
      "100%|██████████| 51/51 [00:01<00:00, 28.40it/s]\n"
     ]
    },
    {
     "name": "stdout",
     "output_type": "stream",
     "text": [
      "Fine-Tune Epoch 4/5 | Train Loss: 0.3387 | Val Loss: 0.3313\n"
     ]
    },
    {
     "name": "stderr",
     "output_type": "stream",
     "text": [
      "100%|██████████| 51/51 [00:01<00:00, 26.37it/s]\n"
     ]
    },
    {
     "name": "stdout",
     "output_type": "stream",
     "text": [
      "Fine-Tune Epoch 5/5 | Train Loss: 0.3395 | Val Loss: 0.3313\n"
     ]
    },
    {
     "name": "stderr",
     "output_type": "stream",
     "text": [
      "100%|██████████| 51/51 [00:02<00:00, 19.64it/s]\n"
     ]
    },
    {
     "name": "stdout",
     "output_type": "stream",
     "text": [
      "Epoch 32/50 | Train Loss: 0.3411 | Val Loss: 4.3062 | Val Accuracy: 0.8466\n",
      "Edge metrics: tensor([5.1077e-02, 1.7766e-01, 2.2632e-01, 2.5173e-01, 2.3212e-02, 1.0106e-01,\n",
      "        7.8285e-03, 6.2887e-02, 7.1224e-02, 1.8505e-01, 3.6230e-01, 1.5361e-01,\n",
      "        1.7805e-03, 0.0000e+00, 2.5321e-01, 1.9411e-02, 8.2052e-02, 1.2076e-02,\n",
      "        4.2227e-02, 0.0000e+00, 0.0000e+00, 0.0000e+00, 0.0000e+00, 0.0000e+00,\n",
      "        0.0000e+00, 0.0000e+00, 0.0000e+00, 3.0820e-03, 2.3679e-02, 7.8564e-04,\n",
      "        0.0000e+00, 0.0000e+00, 0.0000e+00, 0.0000e+00, 0.0000e+00, 0.0000e+00,\n",
      "        0.0000e+00, 8.9631e-02, 2.6768e-06, 1.2519e-01, 0.0000e+00, 0.0000e+00,\n",
      "        7.6346e-02, 9.5689e-02, 7.8265e-02, 0.0000e+00, 6.8800e-02, 4.8517e-02,\n",
      "        1.6181e-01, 5.5754e-02, 9.3304e-02, 7.6770e-02, 1.2578e-01, 2.2154e-01,\n",
      "        2.4621e-01, 4.4965e-01, 2.6177e-01, 1.6378e-01, 2.3881e-01, 4.6478e-01,\n",
      "        6.2614e-01, 6.3775e-01, 3.6683e-01, 5.8952e-02]) tensor(0.6378) tensor(6.9443)\n",
      "Chosen edges: tensor([[  1,   1,   1,   1,   1],\n",
      "        [195, 211, 212, 213, 214]]) 5\n"
     ]
    },
    {
     "name": "stderr",
     "output_type": "stream",
     "text": [
      "100%|██████████| 51/51 [00:02<00:00, 23.14it/s]\n"
     ]
    },
    {
     "name": "stdout",
     "output_type": "stream",
     "text": [
      "Fine-Tune Epoch 1/5 | Train Loss: 0.3449 | Val Loss: 0.3342\n"
     ]
    },
    {
     "name": "stderr",
     "output_type": "stream",
     "text": [
      "100%|██████████| 51/51 [00:01<00:00, 26.07it/s]\n"
     ]
    },
    {
     "name": "stdout",
     "output_type": "stream",
     "text": [
      "Fine-Tune Epoch 2/5 | Train Loss: 0.3408 | Val Loss: 0.3327\n"
     ]
    },
    {
     "name": "stderr",
     "output_type": "stream",
     "text": [
      "100%|██████████| 51/51 [00:01<00:00, 28.30it/s]\n"
     ]
    },
    {
     "name": "stdout",
     "output_type": "stream",
     "text": [
      "Fine-Tune Epoch 3/5 | Train Loss: 0.3403 | Val Loss: 0.3324\n"
     ]
    },
    {
     "name": "stderr",
     "output_type": "stream",
     "text": [
      "  0%|          | 0/51 [00:00<?, ?it/s]\n"
     ]
    },
    {
     "ename": "KeyboardInterrupt",
     "evalue": "",
     "output_type": "error",
     "traceback": [
      "\u001b[1;31m---------------------------------------------------------------------------\u001b[0m",
      "\u001b[1;31mKeyboardInterrupt\u001b[0m                         Traceback (most recent call last)",
      "Cell \u001b[1;32mIn[13], line 10\u001b[0m\n\u001b[0;32m      3\u001b[0m wandb\u001b[38;5;241m.\u001b[39mfinish()\n\u001b[0;32m      4\u001b[0m wandb\u001b[38;5;241m.\u001b[39minit(\n\u001b[0;32m      5\u001b[0m     project\u001b[38;5;241m=\u001b[39m\u001b[38;5;124m\"\u001b[39m\u001b[38;5;124mself-expanding-nets\u001b[39m\u001b[38;5;124m\"\u001b[39m,\n\u001b[0;32m      6\u001b[0m     name\u001b[38;5;241m=\u001b[39m\u001b[38;5;124mf\u001b[39m\u001b[38;5;124m\"\u001b[39m\u001b[38;5;124mtitanic, \u001b[39m\u001b[38;5;132;01m{\u001b[39;00mname\u001b[38;5;132;01m}\u001b[39;00m\u001b[38;5;124m\"\u001b[39m,\n\u001b[0;32m      7\u001b[0m     tags\u001b[38;5;241m=\u001b[39m[\u001b[38;5;124m\"\u001b[39m\u001b[38;5;124mcomplex model\u001b[39m\u001b[38;5;124m\"\u001b[39m, \u001b[38;5;124m\"\u001b[39m\u001b[38;5;124mtitanic\u001b[39m\u001b[38;5;124m\"\u001b[39m, \u001b[38;5;124m\"\u001b[39m\u001b[38;5;124mbinary\u001b[39m\u001b[38;5;124m\"\u001b[39m, hyperparams[\u001b[38;5;124m\"\u001b[39m\u001b[38;5;124mmetric\u001b[39m\u001b[38;5;124m\"\u001b[39m]\u001b[38;5;241m.\u001b[39m\u001b[38;5;18m__class__\u001b[39m\u001b[38;5;241m.\u001b[39m\u001b[38;5;18m__name__\u001b[39m],\n\u001b[0;32m      8\u001b[0m )\n\u001b[1;32m---> 10\u001b[0m \u001b[43mtrain_sparse_recursive\u001b[49m\u001b[43m(\u001b[49m\u001b[43msparse_model\u001b[49m\u001b[43m,\u001b[49m\u001b[43m \u001b[49m\u001b[43mtrain_loader\u001b[49m\u001b[43m,\u001b[49m\u001b[43m \u001b[49m\u001b[43mval_loader\u001b[49m\u001b[43m,\u001b[49m\n\u001b[0;32m     11\u001b[0m \u001b[43m                       \u001b[49m\u001b[43medge_replacement_func\u001b[49m\u001b[38;5;241;43m=\u001b[39;49m\u001b[43medge_replacement_func_new_layer\u001b[49m\u001b[43m,\u001b[49m\u001b[43m \u001b[49m\u001b[38;5;241;43m*\u001b[39;49m\u001b[38;5;241;43m*\u001b[39;49m\u001b[43mhyperparams\u001b[49m\u001b[43m)\u001b[49m\n\u001b[0;32m     12\u001b[0m wandb\u001b[38;5;241m.\u001b[39mfinish()\n",
      "Cell \u001b[1;32mIn[9], line 64\u001b[0m, in \u001b[0;36mtrain_sparse_recursive\u001b[1;34m(model, train_loader, val_loader, num_epochs, metric, edge_replacement_func, window_size, threshold, fine_tune_epochs, lr, choose_threshold)\u001b[0m\n\u001b[0;32m     62\u001b[0m     optimizer\u001b[38;5;241m.\u001b[39mzero_grad()\n\u001b[0;32m     63\u001b[0m     loss\u001b[38;5;241m.\u001b[39mbackward()\n\u001b[1;32m---> 64\u001b[0m     \u001b[43moptimizer\u001b[49m\u001b[38;5;241;43m.\u001b[39;49m\u001b[43mstep\u001b[49m\u001b[43m(\u001b[49m\u001b[43m)\u001b[49m\n\u001b[0;32m     65\u001b[0m     fine_tune_train_loss \u001b[38;5;241m+\u001b[39m\u001b[38;5;241m=\u001b[39m loss\u001b[38;5;241m.\u001b[39mitem()\n\u001b[0;32m     66\u001b[0m fine_tune_train_loss \u001b[38;5;241m/\u001b[39m\u001b[38;5;241m=\u001b[39m \u001b[38;5;28mlen\u001b[39m(train_loader)\n",
      "File \u001b[1;32mD:\\Coding\\PY\\self-expanding-nets\\.venv\\Lib\\site-packages\\torch\\optim\\optimizer.py:487\u001b[0m, in \u001b[0;36mOptimizer.profile_hook_step.<locals>.wrapper\u001b[1;34m(*args, **kwargs)\u001b[0m\n\u001b[0;32m    482\u001b[0m         \u001b[38;5;28;01melse\u001b[39;00m:\n\u001b[0;32m    483\u001b[0m             \u001b[38;5;28;01mraise\u001b[39;00m \u001b[38;5;167;01mRuntimeError\u001b[39;00m(\n\u001b[0;32m    484\u001b[0m                 \u001b[38;5;124mf\u001b[39m\u001b[38;5;124m\"\u001b[39m\u001b[38;5;132;01m{\u001b[39;00mfunc\u001b[38;5;132;01m}\u001b[39;00m\u001b[38;5;124m must return None or a tuple of (new_args, new_kwargs), but got \u001b[39m\u001b[38;5;132;01m{\u001b[39;00mresult\u001b[38;5;132;01m}\u001b[39;00m\u001b[38;5;124m.\u001b[39m\u001b[38;5;124m\"\u001b[39m\n\u001b[0;32m    485\u001b[0m             )\n\u001b[1;32m--> 487\u001b[0m out \u001b[38;5;241m=\u001b[39m \u001b[43mfunc\u001b[49m\u001b[43m(\u001b[49m\u001b[38;5;241;43m*\u001b[39;49m\u001b[43margs\u001b[49m\u001b[43m,\u001b[49m\u001b[43m \u001b[49m\u001b[38;5;241;43m*\u001b[39;49m\u001b[38;5;241;43m*\u001b[39;49m\u001b[43mkwargs\u001b[49m\u001b[43m)\u001b[49m\n\u001b[0;32m    488\u001b[0m \u001b[38;5;28mself\u001b[39m\u001b[38;5;241m.\u001b[39m_optimizer_step_code()\n\u001b[0;32m    490\u001b[0m \u001b[38;5;66;03m# call optimizer step post hooks\u001b[39;00m\n",
      "File \u001b[1;32mD:\\Coding\\PY\\self-expanding-nets\\.venv\\Lib\\site-packages\\torch\\optim\\optimizer.py:91\u001b[0m, in \u001b[0;36m_use_grad_for_differentiable.<locals>._use_grad\u001b[1;34m(self, *args, **kwargs)\u001b[0m\n\u001b[0;32m     89\u001b[0m     torch\u001b[38;5;241m.\u001b[39mset_grad_enabled(\u001b[38;5;28mself\u001b[39m\u001b[38;5;241m.\u001b[39mdefaults[\u001b[38;5;124m\"\u001b[39m\u001b[38;5;124mdifferentiable\u001b[39m\u001b[38;5;124m\"\u001b[39m])\n\u001b[0;32m     90\u001b[0m     torch\u001b[38;5;241m.\u001b[39m_dynamo\u001b[38;5;241m.\u001b[39mgraph_break()\n\u001b[1;32m---> 91\u001b[0m     ret \u001b[38;5;241m=\u001b[39m \u001b[43mfunc\u001b[49m\u001b[43m(\u001b[49m\u001b[38;5;28;43mself\u001b[39;49m\u001b[43m,\u001b[49m\u001b[43m \u001b[49m\u001b[38;5;241;43m*\u001b[39;49m\u001b[43margs\u001b[49m\u001b[43m,\u001b[49m\u001b[43m \u001b[49m\u001b[38;5;241;43m*\u001b[39;49m\u001b[38;5;241;43m*\u001b[39;49m\u001b[43mkwargs\u001b[49m\u001b[43m)\u001b[49m\n\u001b[0;32m     92\u001b[0m \u001b[38;5;28;01mfinally\u001b[39;00m:\n\u001b[0;32m     93\u001b[0m     torch\u001b[38;5;241m.\u001b[39m_dynamo\u001b[38;5;241m.\u001b[39mgraph_break()\n",
      "File \u001b[1;32mD:\\Coding\\PY\\self-expanding-nets\\.venv\\Lib\\site-packages\\torch\\optim\\adam.py:223\u001b[0m, in \u001b[0;36mAdam.step\u001b[1;34m(self, closure)\u001b[0m\n\u001b[0;32m    211\u001b[0m     beta1, beta2 \u001b[38;5;241m=\u001b[39m group[\u001b[38;5;124m\"\u001b[39m\u001b[38;5;124mbetas\u001b[39m\u001b[38;5;124m\"\u001b[39m]\n\u001b[0;32m    213\u001b[0m     has_complex \u001b[38;5;241m=\u001b[39m \u001b[38;5;28mself\u001b[39m\u001b[38;5;241m.\u001b[39m_init_group(\n\u001b[0;32m    214\u001b[0m         group,\n\u001b[0;32m    215\u001b[0m         params_with_grad,\n\u001b[1;32m   (...)\u001b[0m\n\u001b[0;32m    220\u001b[0m         state_steps,\n\u001b[0;32m    221\u001b[0m     )\n\u001b[1;32m--> 223\u001b[0m     \u001b[43madam\u001b[49m\u001b[43m(\u001b[49m\n\u001b[0;32m    224\u001b[0m \u001b[43m        \u001b[49m\u001b[43mparams_with_grad\u001b[49m\u001b[43m,\u001b[49m\n\u001b[0;32m    225\u001b[0m \u001b[43m        \u001b[49m\u001b[43mgrads\u001b[49m\u001b[43m,\u001b[49m\n\u001b[0;32m    226\u001b[0m \u001b[43m        \u001b[49m\u001b[43mexp_avgs\u001b[49m\u001b[43m,\u001b[49m\n\u001b[0;32m    227\u001b[0m \u001b[43m        \u001b[49m\u001b[43mexp_avg_sqs\u001b[49m\u001b[43m,\u001b[49m\n\u001b[0;32m    228\u001b[0m \u001b[43m        \u001b[49m\u001b[43mmax_exp_avg_sqs\u001b[49m\u001b[43m,\u001b[49m\n\u001b[0;32m    229\u001b[0m \u001b[43m        \u001b[49m\u001b[43mstate_steps\u001b[49m\u001b[43m,\u001b[49m\n\u001b[0;32m    230\u001b[0m \u001b[43m        \u001b[49m\u001b[43mamsgrad\u001b[49m\u001b[38;5;241;43m=\u001b[39;49m\u001b[43mgroup\u001b[49m\u001b[43m[\u001b[49m\u001b[38;5;124;43m\"\u001b[39;49m\u001b[38;5;124;43mamsgrad\u001b[39;49m\u001b[38;5;124;43m\"\u001b[39;49m\u001b[43m]\u001b[49m\u001b[43m,\u001b[49m\n\u001b[0;32m    231\u001b[0m \u001b[43m        \u001b[49m\u001b[43mhas_complex\u001b[49m\u001b[38;5;241;43m=\u001b[39;49m\u001b[43mhas_complex\u001b[49m\u001b[43m,\u001b[49m\n\u001b[0;32m    232\u001b[0m \u001b[43m        \u001b[49m\u001b[43mbeta1\u001b[49m\u001b[38;5;241;43m=\u001b[39;49m\u001b[43mbeta1\u001b[49m\u001b[43m,\u001b[49m\n\u001b[0;32m    233\u001b[0m \u001b[43m        \u001b[49m\u001b[43mbeta2\u001b[49m\u001b[38;5;241;43m=\u001b[39;49m\u001b[43mbeta2\u001b[49m\u001b[43m,\u001b[49m\n\u001b[0;32m    234\u001b[0m \u001b[43m        \u001b[49m\u001b[43mlr\u001b[49m\u001b[38;5;241;43m=\u001b[39;49m\u001b[43mgroup\u001b[49m\u001b[43m[\u001b[49m\u001b[38;5;124;43m\"\u001b[39;49m\u001b[38;5;124;43mlr\u001b[39;49m\u001b[38;5;124;43m\"\u001b[39;49m\u001b[43m]\u001b[49m\u001b[43m,\u001b[49m\n\u001b[0;32m    235\u001b[0m \u001b[43m        \u001b[49m\u001b[43mweight_decay\u001b[49m\u001b[38;5;241;43m=\u001b[39;49m\u001b[43mgroup\u001b[49m\u001b[43m[\u001b[49m\u001b[38;5;124;43m\"\u001b[39;49m\u001b[38;5;124;43mweight_decay\u001b[39;49m\u001b[38;5;124;43m\"\u001b[39;49m\u001b[43m]\u001b[49m\u001b[43m,\u001b[49m\n\u001b[0;32m    236\u001b[0m \u001b[43m        \u001b[49m\u001b[43meps\u001b[49m\u001b[38;5;241;43m=\u001b[39;49m\u001b[43mgroup\u001b[49m\u001b[43m[\u001b[49m\u001b[38;5;124;43m\"\u001b[39;49m\u001b[38;5;124;43meps\u001b[39;49m\u001b[38;5;124;43m\"\u001b[39;49m\u001b[43m]\u001b[49m\u001b[43m,\u001b[49m\n\u001b[0;32m    237\u001b[0m \u001b[43m        \u001b[49m\u001b[43mmaximize\u001b[49m\u001b[38;5;241;43m=\u001b[39;49m\u001b[43mgroup\u001b[49m\u001b[43m[\u001b[49m\u001b[38;5;124;43m\"\u001b[39;49m\u001b[38;5;124;43mmaximize\u001b[39;49m\u001b[38;5;124;43m\"\u001b[39;49m\u001b[43m]\u001b[49m\u001b[43m,\u001b[49m\n\u001b[0;32m    238\u001b[0m \u001b[43m        \u001b[49m\u001b[43mforeach\u001b[49m\u001b[38;5;241;43m=\u001b[39;49m\u001b[43mgroup\u001b[49m\u001b[43m[\u001b[49m\u001b[38;5;124;43m\"\u001b[39;49m\u001b[38;5;124;43mforeach\u001b[39;49m\u001b[38;5;124;43m\"\u001b[39;49m\u001b[43m]\u001b[49m\u001b[43m,\u001b[49m\n\u001b[0;32m    239\u001b[0m \u001b[43m        \u001b[49m\u001b[43mcapturable\u001b[49m\u001b[38;5;241;43m=\u001b[39;49m\u001b[43mgroup\u001b[49m\u001b[43m[\u001b[49m\u001b[38;5;124;43m\"\u001b[39;49m\u001b[38;5;124;43mcapturable\u001b[39;49m\u001b[38;5;124;43m\"\u001b[39;49m\u001b[43m]\u001b[49m\u001b[43m,\u001b[49m\n\u001b[0;32m    240\u001b[0m \u001b[43m        \u001b[49m\u001b[43mdifferentiable\u001b[49m\u001b[38;5;241;43m=\u001b[39;49m\u001b[43mgroup\u001b[49m\u001b[43m[\u001b[49m\u001b[38;5;124;43m\"\u001b[39;49m\u001b[38;5;124;43mdifferentiable\u001b[39;49m\u001b[38;5;124;43m\"\u001b[39;49m\u001b[43m]\u001b[49m\u001b[43m,\u001b[49m\n\u001b[0;32m    241\u001b[0m \u001b[43m        \u001b[49m\u001b[43mfused\u001b[49m\u001b[38;5;241;43m=\u001b[39;49m\u001b[43mgroup\u001b[49m\u001b[43m[\u001b[49m\u001b[38;5;124;43m\"\u001b[39;49m\u001b[38;5;124;43mfused\u001b[39;49m\u001b[38;5;124;43m\"\u001b[39;49m\u001b[43m]\u001b[49m\u001b[43m,\u001b[49m\n\u001b[0;32m    242\u001b[0m \u001b[43m        \u001b[49m\u001b[43mgrad_scale\u001b[49m\u001b[38;5;241;43m=\u001b[39;49m\u001b[38;5;28;43mgetattr\u001b[39;49m\u001b[43m(\u001b[49m\u001b[38;5;28;43mself\u001b[39;49m\u001b[43m,\u001b[49m\u001b[43m \u001b[49m\u001b[38;5;124;43m\"\u001b[39;49m\u001b[38;5;124;43mgrad_scale\u001b[39;49m\u001b[38;5;124;43m\"\u001b[39;49m\u001b[43m,\u001b[49m\u001b[43m \u001b[49m\u001b[38;5;28;43;01mNone\u001b[39;49;00m\u001b[43m)\u001b[49m\u001b[43m,\u001b[49m\n\u001b[0;32m    243\u001b[0m \u001b[43m        \u001b[49m\u001b[43mfound_inf\u001b[49m\u001b[38;5;241;43m=\u001b[39;49m\u001b[38;5;28;43mgetattr\u001b[39;49m\u001b[43m(\u001b[49m\u001b[38;5;28;43mself\u001b[39;49m\u001b[43m,\u001b[49m\u001b[43m \u001b[49m\u001b[38;5;124;43m\"\u001b[39;49m\u001b[38;5;124;43mfound_inf\u001b[39;49m\u001b[38;5;124;43m\"\u001b[39;49m\u001b[43m,\u001b[49m\u001b[43m \u001b[49m\u001b[38;5;28;43;01mNone\u001b[39;49;00m\u001b[43m)\u001b[49m\u001b[43m,\u001b[49m\n\u001b[0;32m    244\u001b[0m \u001b[43m    \u001b[49m\u001b[43m)\u001b[49m\n\u001b[0;32m    246\u001b[0m \u001b[38;5;28;01mreturn\u001b[39;00m loss\n",
      "File \u001b[1;32mD:\\Coding\\PY\\self-expanding-nets\\.venv\\Lib\\site-packages\\torch\\optim\\optimizer.py:154\u001b[0m, in \u001b[0;36m_disable_dynamo_if_unsupported.<locals>.wrapper.<locals>.maybe_fallback\u001b[1;34m(*args, **kwargs)\u001b[0m\n\u001b[0;32m    152\u001b[0m     \u001b[38;5;28;01mreturn\u001b[39;00m disabled_func(\u001b[38;5;241m*\u001b[39margs, \u001b[38;5;241m*\u001b[39m\u001b[38;5;241m*\u001b[39mkwargs)\n\u001b[0;32m    153\u001b[0m \u001b[38;5;28;01melse\u001b[39;00m:\n\u001b[1;32m--> 154\u001b[0m     \u001b[38;5;28;01mreturn\u001b[39;00m \u001b[43mfunc\u001b[49m\u001b[43m(\u001b[49m\u001b[38;5;241;43m*\u001b[39;49m\u001b[43margs\u001b[49m\u001b[43m,\u001b[49m\u001b[43m \u001b[49m\u001b[38;5;241;43m*\u001b[39;49m\u001b[38;5;241;43m*\u001b[39;49m\u001b[43mkwargs\u001b[49m\u001b[43m)\u001b[49m\n",
      "File \u001b[1;32mD:\\Coding\\PY\\self-expanding-nets\\.venv\\Lib\\site-packages\\torch\\optim\\adam.py:784\u001b[0m, in \u001b[0;36madam\u001b[1;34m(params, grads, exp_avgs, exp_avg_sqs, max_exp_avg_sqs, state_steps, foreach, capturable, differentiable, fused, grad_scale, found_inf, has_complex, amsgrad, beta1, beta2, lr, weight_decay, eps, maximize)\u001b[0m\n\u001b[0;32m    781\u001b[0m \u001b[38;5;28;01melse\u001b[39;00m:\n\u001b[0;32m    782\u001b[0m     func \u001b[38;5;241m=\u001b[39m _single_tensor_adam\n\u001b[1;32m--> 784\u001b[0m \u001b[43mfunc\u001b[49m\u001b[43m(\u001b[49m\n\u001b[0;32m    785\u001b[0m \u001b[43m    \u001b[49m\u001b[43mparams\u001b[49m\u001b[43m,\u001b[49m\n\u001b[0;32m    786\u001b[0m \u001b[43m    \u001b[49m\u001b[43mgrads\u001b[49m\u001b[43m,\u001b[49m\n\u001b[0;32m    787\u001b[0m \u001b[43m    \u001b[49m\u001b[43mexp_avgs\u001b[49m\u001b[43m,\u001b[49m\n\u001b[0;32m    788\u001b[0m \u001b[43m    \u001b[49m\u001b[43mexp_avg_sqs\u001b[49m\u001b[43m,\u001b[49m\n\u001b[0;32m    789\u001b[0m \u001b[43m    \u001b[49m\u001b[43mmax_exp_avg_sqs\u001b[49m\u001b[43m,\u001b[49m\n\u001b[0;32m    790\u001b[0m \u001b[43m    \u001b[49m\u001b[43mstate_steps\u001b[49m\u001b[43m,\u001b[49m\n\u001b[0;32m    791\u001b[0m \u001b[43m    \u001b[49m\u001b[43mamsgrad\u001b[49m\u001b[38;5;241;43m=\u001b[39;49m\u001b[43mamsgrad\u001b[49m\u001b[43m,\u001b[49m\n\u001b[0;32m    792\u001b[0m \u001b[43m    \u001b[49m\u001b[43mhas_complex\u001b[49m\u001b[38;5;241;43m=\u001b[39;49m\u001b[43mhas_complex\u001b[49m\u001b[43m,\u001b[49m\n\u001b[0;32m    793\u001b[0m \u001b[43m    \u001b[49m\u001b[43mbeta1\u001b[49m\u001b[38;5;241;43m=\u001b[39;49m\u001b[43mbeta1\u001b[49m\u001b[43m,\u001b[49m\n\u001b[0;32m    794\u001b[0m \u001b[43m    \u001b[49m\u001b[43mbeta2\u001b[49m\u001b[38;5;241;43m=\u001b[39;49m\u001b[43mbeta2\u001b[49m\u001b[43m,\u001b[49m\n\u001b[0;32m    795\u001b[0m \u001b[43m    \u001b[49m\u001b[43mlr\u001b[49m\u001b[38;5;241;43m=\u001b[39;49m\u001b[43mlr\u001b[49m\u001b[43m,\u001b[49m\n\u001b[0;32m    796\u001b[0m \u001b[43m    \u001b[49m\u001b[43mweight_decay\u001b[49m\u001b[38;5;241;43m=\u001b[39;49m\u001b[43mweight_decay\u001b[49m\u001b[43m,\u001b[49m\n\u001b[0;32m    797\u001b[0m \u001b[43m    \u001b[49m\u001b[43meps\u001b[49m\u001b[38;5;241;43m=\u001b[39;49m\u001b[43meps\u001b[49m\u001b[43m,\u001b[49m\n\u001b[0;32m    798\u001b[0m \u001b[43m    \u001b[49m\u001b[43mmaximize\u001b[49m\u001b[38;5;241;43m=\u001b[39;49m\u001b[43mmaximize\u001b[49m\u001b[43m,\u001b[49m\n\u001b[0;32m    799\u001b[0m \u001b[43m    \u001b[49m\u001b[43mcapturable\u001b[49m\u001b[38;5;241;43m=\u001b[39;49m\u001b[43mcapturable\u001b[49m\u001b[43m,\u001b[49m\n\u001b[0;32m    800\u001b[0m \u001b[43m    \u001b[49m\u001b[43mdifferentiable\u001b[49m\u001b[38;5;241;43m=\u001b[39;49m\u001b[43mdifferentiable\u001b[49m\u001b[43m,\u001b[49m\n\u001b[0;32m    801\u001b[0m \u001b[43m    \u001b[49m\u001b[43mgrad_scale\u001b[49m\u001b[38;5;241;43m=\u001b[39;49m\u001b[43mgrad_scale\u001b[49m\u001b[43m,\u001b[49m\n\u001b[0;32m    802\u001b[0m \u001b[43m    \u001b[49m\u001b[43mfound_inf\u001b[49m\u001b[38;5;241;43m=\u001b[39;49m\u001b[43mfound_inf\u001b[49m\u001b[43m,\u001b[49m\n\u001b[0;32m    803\u001b[0m \u001b[43m\u001b[49m\u001b[43m)\u001b[49m\n",
      "File \u001b[1;32mD:\\Coding\\PY\\self-expanding-nets\\.venv\\Lib\\site-packages\\torch\\optim\\adam.py:369\u001b[0m, in \u001b[0;36m_single_tensor_adam\u001b[1;34m(params, grads, exp_avgs, exp_avg_sqs, max_exp_avg_sqs, state_steps, grad_scale, found_inf, amsgrad, has_complex, beta1, beta2, lr, weight_decay, eps, maximize, capturable, differentiable)\u001b[0m\n\u001b[0;32m    366\u001b[0m \u001b[38;5;28;01mif\u001b[39;00m weight_decay \u001b[38;5;241m!=\u001b[39m \u001b[38;5;241m0\u001b[39m:\n\u001b[0;32m    367\u001b[0m     grad \u001b[38;5;241m=\u001b[39m grad\u001b[38;5;241m.\u001b[39madd(param, alpha\u001b[38;5;241m=\u001b[39mweight_decay)\n\u001b[1;32m--> 369\u001b[0m \u001b[38;5;28;01mif\u001b[39;00m \u001b[43mtorch\u001b[49m\u001b[38;5;241;43m.\u001b[39;49m\u001b[43mis_complex\u001b[49m\u001b[43m(\u001b[49m\u001b[43mparam\u001b[49m\u001b[43m)\u001b[49m:\n\u001b[0;32m    370\u001b[0m     grad \u001b[38;5;241m=\u001b[39m torch\u001b[38;5;241m.\u001b[39mview_as_real(grad)\n\u001b[0;32m    371\u001b[0m     exp_avg \u001b[38;5;241m=\u001b[39m torch\u001b[38;5;241m.\u001b[39mview_as_real(exp_avg)\n",
      "\u001b[1;31mKeyboardInterrupt\u001b[0m: "
     ]
    }
   ],
   "source": [
    "dense_model = EnhancedFCN(input_size=X.shape[1])\n",
    "sparse_model = convert_dense_to_sparse_network(dense_model)\n",
    "wandb.finish()\n",
    "wandb.init(\n",
    "    project=\"self-expanding-nets\",\n",
    "    name=f\"titanic, {name}\",\n",
    "    tags=[\"complex model\", \"titanic\", \"multiclass\", hyperparams[\"metric\"].__class__.__name__],\n",
    ")\n",
    "\n",
    "train_sparse_recursive(sparse_model, train_loader, val_loader,\n",
    "                       edge_replacement_func=edge_replacement_func_new_layer, **hyperparams)\n"
   ]
  },
  {
   "cell_type": "code",
   "execution_count": null,
   "id": "533bf1b57447aa62",
   "metadata": {
    "ExecuteTime": {
     "end_time": "2025-02-03T17:06:25.386851900Z",
     "start_time": "2025-02-03T16:51:42.648819Z"
    }
   },
   "outputs": [],
   "source": []
  }
 ],
 "metadata": {
  "kernelspec": {
   "display_name": ".venv",
   "language": "python",
   "name": "python3"
  },
  "language_info": {
   "codemirror_mode": {
    "name": "ipython",
    "version": 3
   },
   "file_extension": ".py",
   "mimetype": "text/x-python",
   "name": "python",
   "nbconvert_exporter": "python",
   "pygments_lexer": "ipython3",
   "version": "3.12.2"
  }
 },
 "nbformat": 4,
 "nbformat_minor": 5
}
