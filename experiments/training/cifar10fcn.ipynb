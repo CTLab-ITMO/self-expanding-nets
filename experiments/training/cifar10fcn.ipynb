{
 "cells": [
  {
   "cell_type": "code",
   "execution_count": 2,
   "id": "f44ce106-ec62-49ea-a88d-9584ec3a13f1",
   "metadata": {
    "execution": {
     "iopub.execute_input": "2025-04-20T11:23:19.444212Z",
     "iopub.status.busy": "2025-04-20T11:23:19.442853Z",
     "iopub.status.idle": "2025-04-20T11:23:19.531449Z",
     "shell.execute_reply": "2025-04-20T11:23:19.530651Z",
     "shell.execute_reply.started": "2025-04-20T11:23:19.444174Z"
    },
    "tags": []
   },
   "outputs": [],
   "source": [
    "!rm -rf self-expanding-nets"
   ]
  },
  {
   "cell_type": "code",
   "execution_count": 3,
   "id": "b4f2e5ac-4cc0-4d15-9d96-1e8f4728fc4b",
   "metadata": {
    "execution": {
     "iopub.execute_input": "2025-04-20T11:23:25.203586Z",
     "iopub.status.busy": "2025-04-20T11:23:25.202488Z",
     "iopub.status.idle": "2025-04-20T11:23:28.773644Z",
     "shell.execute_reply": "2025-04-20T11:23:28.772662Z",
     "shell.execute_reply.started": "2025-04-20T11:23:25.203546Z"
    },
    "tags": []
   },
   "outputs": [
    {
     "name": "stderr",
     "output_type": "stream",
     "text": [
      "Cloning into 'self-expanding-nets'...\n"
     ]
    }
   ],
   "source": [
    "!git clone https://github.com/CTLab-ITMO/self-expanding-nets -b multi-layer-replace"
   ]
  },
  {
   "cell_type": "code",
   "execution_count": 3,
   "id": "31af20ac-1ac1-4473-a36c-85039be5c976",
   "metadata": {
    "execution": {
     "iopub.execute_input": "2025-04-19T10:38:21.585318Z",
     "iopub.status.busy": "2025-04-19T10:38:21.584277Z",
     "iopub.status.idle": "2025-04-19T10:38:21.606647Z",
     "shell.execute_reply": "2025-04-19T10:38:21.605907Z",
     "shell.execute_reply.started": "2025-04-19T10:38:21.585279Z"
    },
    "tags": []
   },
   "outputs": [],
   "source": [
    "# %pip list"
   ]
  },
  {
   "cell_type": "code",
   "execution_count": 4,
   "id": "19777058-2c3d-4b87-9eb6-962d8912a14b",
   "metadata": {
    "execution": {
     "iopub.execute_input": "2025-04-20T11:23:34.889079Z",
     "iopub.status.busy": "2025-04-20T11:23:34.888053Z",
     "iopub.status.idle": "2025-04-20T11:23:51.188088Z",
     "shell.execute_reply": "2025-04-20T11:23:51.187322Z",
     "shell.execute_reply.started": "2025-04-20T11:23:34.889039Z"
    },
    "tags": []
   },
   "outputs": [
    {
     "name": "stdout",
     "output_type": "stream",
     "text": [
      "Found existing installation: senmodel 1.0.0\n",
      "Uninstalling senmodel-1.0.0:\n",
      "  Successfully uninstalled senmodel-1.0.0\n",
      "Defaulting to user installation because normal site-packages is not writeable\n",
      "\u001b[33mWARNING: Ignoring invalid distribution -vidia-nccl-cu12 (/home/jupyter/.local/lib/python3.10/site-packages)\u001b[0m\u001b[33m\n",
      "\u001b[0mObtaining file:///home/jupyter/work/resources/self-expanding-nets\n",
      "  Checking if build backend supports build_editable ... \u001b[?25ldone\n",
      "\u001b[?25h  Preparing editable metadata (pyproject.toml) ... \u001b[?25ldone\n",
      "\u001b[33m  WARNING: Ignoring invalid distribution -vidia-nccl-cu12 (/home/jupyter/.local/lib/python3.10/site-packages)\u001b[0m\u001b[33m\n",
      "\u001b[0m\u001b[?25hRequirement already satisfied: torch in /usr/local/lib/python3.10/dist-packages (from senmodel==1.0.0) (2.0.1+cu118)\n",
      "Requirement already satisfied: torchvision in /usr/local/lib/python3.10/dist-packages (from senmodel==1.0.0) (0.15.2+cu118)\n",
      "Requirement already satisfied: pandas in /home/jupyter/.local/lib/python3.10/site-packages (from senmodel==1.0.0) (2.2.3)\n",
      "Requirement already satisfied: scikit-learn in /home/jupyter/.local/lib/python3.10/site-packages (from senmodel==1.0.0) (1.6.1)\n",
      "Requirement already satisfied: tqdm in /home/jupyter/.local/lib/python3.10/site-packages (from senmodel==1.0.0) (4.67.1)\n",
      "Requirement already satisfied: wandb in /home/jupyter/.local/lib/python3.10/site-packages (from senmodel==1.0.0) (0.19.8)\n",
      "Requirement already satisfied: numpy>=1.22.4 in /home/jupyter/.local/lib/python3.10/site-packages (from pandas->senmodel==1.0.0) (1.23.5)\n",
      "Requirement already satisfied: python-dateutil>=2.8.2 in /home/jupyter/.local/lib/python3.10/site-packages (from pandas->senmodel==1.0.0) (2.9.0.post0)\n",
      "Requirement already satisfied: pytz>=2020.1 in /home/jupyter/.local/lib/python3.10/site-packages (from pandas->senmodel==1.0.0) (2025.2)\n",
      "Requirement already satisfied: tzdata>=2022.7 in /home/jupyter/.local/lib/python3.10/site-packages (from pandas->senmodel==1.0.0) (2025.2)\n",
      "Requirement already satisfied: scipy>=1.6.0 in /home/jupyter/.local/lib/python3.10/site-packages (from scikit-learn->senmodel==1.0.0) (1.15.2)\n",
      "Requirement already satisfied: joblib>=1.2.0 in /home/jupyter/.local/lib/python3.10/site-packages (from scikit-learn->senmodel==1.0.0) (1.4.2)\n",
      "Requirement already satisfied: threadpoolctl>=3.1.0 in /home/jupyter/.local/lib/python3.10/site-packages (from scikit-learn->senmodel==1.0.0) (3.6.0)\n",
      "Requirement already satisfied: filelock in /home/jupyter/.local/lib/python3.10/site-packages (from torch->senmodel==1.0.0) (3.18.0)\n",
      "Requirement already satisfied: typing-extensions in /home/jupyter/.local/lib/python3.10/site-packages (from torch->senmodel==1.0.0) (4.13.2)\n",
      "Requirement already satisfied: sympy in /home/jupyter/.local/lib/python3.10/site-packages (from torch->senmodel==1.0.0) (1.13.1)\n",
      "Requirement already satisfied: networkx in /home/jupyter/.local/lib/python3.10/site-packages (from torch->senmodel==1.0.0) (3.4.2)\n",
      "Requirement already satisfied: jinja2 in /home/jupyter/.local/lib/python3.10/site-packages (from torch->senmodel==1.0.0) (3.1.6)\n",
      "Requirement already satisfied: triton==2.0.0 in /home/jupyter/.local/lib/python3.10/site-packages (from torch->senmodel==1.0.0) (2.0.0)\n",
      "Requirement already satisfied: cmake in /usr/local/lib/python3.10/dist-packages (from triton==2.0.0->torch->senmodel==1.0.0) (3.25.2)\n",
      "Requirement already satisfied: lit in /usr/local/lib/python3.10/dist-packages (from triton==2.0.0->torch->senmodel==1.0.0) (16.0.6)\n",
      "Requirement already satisfied: requests in /home/jupyter/.local/lib/python3.10/site-packages (from torchvision->senmodel==1.0.0) (2.32.3)\n",
      "Requirement already satisfied: pillow!=8.3.*,>=5.3.0 in /home/jupyter/.local/lib/python3.10/site-packages (from torchvision->senmodel==1.0.0) (11.2.1)\n",
      "Requirement already satisfied: click!=8.0.0,>=7.1 in /home/jupyter/.local/lib/python3.10/site-packages (from wandb->senmodel==1.0.0) (8.1.8)\n",
      "Requirement already satisfied: docker-pycreds>=0.4.0 in /home/jupyter/.local/lib/python3.10/site-packages (from wandb->senmodel==1.0.0) (0.4.0)\n",
      "Requirement already satisfied: gitpython!=3.1.29,>=1.0.0 in /usr/local/lib/python3.10/dist-packages (from wandb->senmodel==1.0.0) (3.1.32)\n",
      "Requirement already satisfied: platformdirs in /home/jupyter/.local/lib/python3.10/site-packages (from wandb->senmodel==1.0.0) (4.3.7)\n",
      "Requirement already satisfied: protobuf!=4.21.0,!=5.28.0,<6,>=3.19.0 in /home/jupyter/.local/lib/python3.10/site-packages (from wandb->senmodel==1.0.0) (5.29.4)\n",
      "Requirement already satisfied: psutil>=5.0.0 in /kernel/lib/python3.10/site-packages (from wandb->senmodel==1.0.0) (6.0.0)\n",
      "Requirement already satisfied: pydantic<3,>=2.6 in /home/jupyter/.local/lib/python3.10/site-packages (from wandb->senmodel==1.0.0) (2.11.3)\n",
      "Requirement already satisfied: pyyaml in /home/jupyter/.local/lib/python3.10/site-packages (from wandb->senmodel==1.0.0) (6.0.2)\n",
      "Requirement already satisfied: sentry-sdk>=2.0.0 in /home/jupyter/.local/lib/python3.10/site-packages (from wandb->senmodel==1.0.0) (2.25.1)\n",
      "Requirement already satisfied: setproctitle in /home/jupyter/.local/lib/python3.10/site-packages (from wandb->senmodel==1.0.0) (1.3.5)\n",
      "Requirement already satisfied: setuptools in /kernel/lib/python3.10/site-packages (from wandb->senmodel==1.0.0) (65.5.0)\n",
      "Requirement already satisfied: six>=1.4.0 in /home/jupyter/.local/lib/python3.10/site-packages (from docker-pycreds>=0.4.0->wandb->senmodel==1.0.0) (1.17.0)\n",
      "Requirement already satisfied: gitdb<5,>=4.0.1 in /home/jupyter/.local/lib/python3.10/site-packages (from gitpython!=3.1.29,>=1.0.0->wandb->senmodel==1.0.0) (4.0.12)\n",
      "Requirement already satisfied: annotated-types>=0.6.0 in /home/jupyter/.local/lib/python3.10/site-packages (from pydantic<3,>=2.6->wandb->senmodel==1.0.0) (0.7.0)\n",
      "Requirement already satisfied: pydantic-core==2.33.1 in /home/jupyter/.local/lib/python3.10/site-packages (from pydantic<3,>=2.6->wandb->senmodel==1.0.0) (2.33.1)\n",
      "Requirement already satisfied: typing-inspection>=0.4.0 in /home/jupyter/.local/lib/python3.10/site-packages (from pydantic<3,>=2.6->wandb->senmodel==1.0.0) (0.4.0)\n",
      "Requirement already satisfied: charset-normalizer<4,>=2 in /home/jupyter/.local/lib/python3.10/site-packages (from requests->torchvision->senmodel==1.0.0) (3.4.1)\n",
      "Requirement already satisfied: idna<4,>=2.5 in /home/jupyter/.local/lib/python3.10/site-packages (from requests->torchvision->senmodel==1.0.0) (3.10)\n",
      "Requirement already satisfied: urllib3<3,>=1.21.1 in /home/jupyter/.local/lib/python3.10/site-packages (from requests->torchvision->senmodel==1.0.0) (2.4.0)\n",
      "Requirement already satisfied: certifi>=2017.4.17 in /home/jupyter/.local/lib/python3.10/site-packages (from requests->torchvision->senmodel==1.0.0) (2025.1.31)\n",
      "Requirement already satisfied: MarkupSafe>=2.0 in /home/jupyter/.local/lib/python3.10/site-packages (from jinja2->torch->senmodel==1.0.0) (3.0.2)\n",
      "Requirement already satisfied: mpmath<1.4,>=1.1.0 in /home/jupyter/.local/lib/python3.10/site-packages (from sympy->torch->senmodel==1.0.0) (1.3.0)\n",
      "Requirement already satisfied: smmap<6,>=3.0.1 in /home/jupyter/.local/lib/python3.10/site-packages (from gitdb<5,>=4.0.1->gitpython!=3.1.29,>=1.0.0->wandb->senmodel==1.0.0) (5.0.2)\n",
      "Building wheels for collected packages: senmodel\n",
      "  Building editable for senmodel (pyproject.toml) ... \u001b[?25ldone\n",
      "\u001b[?25h  Created wheel for senmodel: filename=senmodel-1.0.0-0.editable-py3-none-any.whl size=2589 sha256=31a49d565255b0b18cf16f6b932f8cb0a5e85d98c85ddae946b15cf3d0ef68f1\n",
      "  Stored in directory: /tmp/pip-ephem-wheel-cache-xujz59c7/wheels/8c/6a/b2/f49550010ceefc8bea4532e456bf143d5e692219c03f491bf5\n",
      "Successfully built senmodel\n",
      "\u001b[33mWARNING: Ignoring invalid distribution -vidia-nccl-cu12 (/home/jupyter/.local/lib/python3.10/site-packages)\u001b[0m\u001b[33m\n",
      "\u001b[0mInstalling collected packages: senmodel\n",
      "\u001b[33mWARNING: Ignoring invalid distribution -vidia-nccl-cu12 (/home/jupyter/.local/lib/python3.10/site-packages)\u001b[0m\u001b[33m\n",
      "\u001b[0mSuccessfully installed senmodel-1.0.0\n",
      "\n",
      "\u001b[1m[\u001b[0m\u001b[34;49mnotice\u001b[0m\u001b[1;39;49m]\u001b[0m\u001b[39;49m A new release of pip is available: \u001b[0m\u001b[31;49m23.0.1\u001b[0m\u001b[39;49m -> \u001b[0m\u001b[32;49m25.0.1\u001b[0m\n",
      "\u001b[1m[\u001b[0m\u001b[34;49mnotice\u001b[0m\u001b[1;39;49m]\u001b[0m\u001b[39;49m To update, run: \u001b[0m\u001b[32;49mpython3 -m pip install --upgrade pip\u001b[0m\n"
     ]
    }
   ],
   "source": [
    "%pip uninstall senmodel\n",
    "%pip install -U -e ./self-expanding-nets/ "
   ]
  },
  {
   "cell_type": "code",
   "execution_count": 16,
   "id": "08123f35-f1e8-4418-b30d-9dac99fddfee",
   "metadata": {
    "execution": {
     "iopub.execute_input": "2025-04-19T11:57:54.719987Z",
     "iopub.status.busy": "2025-04-19T11:57:54.718634Z",
     "iopub.status.idle": "2025-04-19T11:57:54.734066Z",
     "shell.execute_reply": "2025-04-19T11:57:54.732841Z",
     "shell.execute_reply.started": "2025-04-19T11:57:54.719933Z"
    },
    "tags": []
   },
   "outputs": [],
   "source": [
    "# pip install --force-reinstall numpy==1.23.5"
   ]
  },
  {
   "cell_type": "code",
   "execution_count": 1,
   "id": "33aed077-a48c-41b4-a0fc-b3ed7fe8dbd7",
   "metadata": {
    "execution": {
     "iopub.execute_input": "2025-04-20T12:11:50.637307Z",
     "iopub.status.busy": "2025-04-20T12:11:50.636397Z",
     "iopub.status.idle": "2025-04-20T12:11:51.695429Z",
     "shell.execute_reply": "2025-04-20T12:11:51.694633Z",
     "shell.execute_reply.started": "2025-04-20T12:11:50.637267Z"
    },
    "tags": []
   },
   "outputs": [],
   "source": [
    "import wandb\n"
   ]
  },
  {
   "cell_type": "code",
   "execution_count": 2,
   "id": "3c4626b2-40cf-443c-b80f-9fd270eaeb11",
   "metadata": {
    "execution": {
     "iopub.execute_input": "2025-04-20T12:11:51.697585Z",
     "iopub.status.busy": "2025-04-20T12:11:51.696733Z",
     "iopub.status.idle": "2025-04-20T12:11:52.317156Z",
     "shell.execute_reply": "2025-04-20T12:11:52.316193Z",
     "shell.execute_reply.started": "2025-04-20T12:11:51.697547Z"
    },
    "tags": []
   },
   "outputs": [
    {
     "name": "stderr",
     "output_type": "stream",
     "text": [
      "wandb: Using wandb-core as the SDK backend.  Please refer to https://wandb.me/wandb-core for more information.\n",
      "wandb: Currently logged in as: fedornigretuk to https://api.wandb.ai. Use `wandb login --relogin` to force relogin\n"
     ]
    },
    {
     "data": {
      "text/plain": [
       "True"
      ]
     },
     "execution_count": 2,
     "metadata": {},
     "output_type": "execute_result"
    }
   ],
   "source": [
    "wandb.login()"
   ]
  },
  {
   "cell_type": "code",
   "execution_count": 3,
   "id": "549a94a9-f3fd-42f4-8521-c311944bd79d",
   "metadata": {
    "execution": {
     "iopub.execute_input": "2025-04-20T12:11:52.318440Z",
     "iopub.status.busy": "2025-04-20T12:11:52.318016Z",
     "iopub.status.idle": "2025-04-20T12:11:54.356778Z",
     "shell.execute_reply": "2025-04-20T12:11:54.356087Z",
     "shell.execute_reply.started": "2025-04-20T12:11:52.318409Z"
    },
    "tags": []
   },
   "outputs": [],
   "source": [
    "\n",
    "from copy import deepcopy\n",
    "\n",
    "import torch.optim as optim\n",
    "from sklearn.metrics import accuracy_score\n",
    "from torch.utils.data import DataLoader, random_split\n",
    "from torchvision import datasets, transforms\n",
    "from tqdm.notebook import tqdm\n",
    "import time"
   ]
  },
  {
   "cell_type": "code",
   "execution_count": 4,
   "id": "75042138-ca58-4354-83a2-1f4b87e56b50",
   "metadata": {
    "execution": {
     "iopub.execute_input": "2025-04-20T12:11:54.359242Z",
     "iopub.status.busy": "2025-04-20T12:11:54.358500Z",
     "iopub.status.idle": "2025-04-20T12:11:54.384298Z",
     "shell.execute_reply": "2025-04-20T12:11:54.383602Z",
     "shell.execute_reply.started": "2025-04-20T12:11:54.359216Z"
    },
    "tags": []
   },
   "outputs": [],
   "source": [
    "from senmodel.model.utils import *\n",
    "from senmodel.metrics.nonlinearity_metrics import *\n",
    "from senmodel.metrics.edge_finder import *\n",
    "from senmodel.metrics.train_metrics import *\n",
    "from senmodel.train.train import *"
   ]
  },
  {
   "cell_type": "code",
   "execution_count": 5,
   "id": "2ccab5e8-4b25-4ee5-b8b7-034ae16d4689",
   "metadata": {
    "execution": {
     "iopub.execute_input": "2025-04-20T12:11:54.386063Z",
     "iopub.status.busy": "2025-04-20T12:11:54.385075Z",
     "iopub.status.idle": "2025-04-20T12:11:54.439827Z",
     "shell.execute_reply": "2025-04-20T12:11:54.439068Z",
     "shell.execute_reply.started": "2025-04-20T12:11:54.386020Z"
    },
    "tags": []
   },
   "outputs": [
    {
     "data": {
      "text/plain": [
       "device(type='cuda', index=0)"
      ]
     },
     "execution_count": 5,
     "metadata": {},
     "output_type": "execute_result"
    }
   ],
   "source": [
    "torch.manual_seed(0)\n",
    "device = torch.device(\"cuda:0\" if torch.cuda.is_available() else \"cpu\")\n",
    "device"
   ]
  },
  {
   "cell_type": "code",
   "execution_count": null,
   "id": "0e5d2d56-fda2-4932-8558-66e018a000a6",
   "metadata": {},
   "outputs": [],
   "source": []
  },
  {
   "cell_type": "code",
   "execution_count": 6,
   "id": "dfc7afd6-3e17-4731-919a-7902a7f51437",
   "metadata": {
    "execution": {
     "iopub.execute_input": "2025-04-20T12:11:54.441442Z",
     "iopub.status.busy": "2025-04-20T12:11:54.440719Z",
     "iopub.status.idle": "2025-04-20T12:11:56.209685Z",
     "shell.execute_reply": "2025-04-20T12:11:56.208994Z",
     "shell.execute_reply.started": "2025-04-20T12:11:54.441408Z"
    },
    "tags": []
   },
   "outputs": [
    {
     "name": "stdout",
     "output_type": "stream",
     "text": [
      "Files already downloaded and verified\n",
      "Files already downloaded and verified\n"
     ]
    },
    {
     "data": {
      "text/plain": [
       "torch.Size([64, 3, 32, 32])"
      ]
     },
     "execution_count": 6,
     "metadata": {},
     "output_type": "execute_result"
    }
   ],
   "source": [
    "BATCH_SIZE = 64\n",
    "\n",
    "transform = transforms.Compose(\n",
    "    [transforms.ToTensor(),\n",
    "     transforms.Normalize((0.5, 0.5, 0.5), (0.5, 0.5, 0.5)),\n",
    "    # transforms.Lambda(lambda x: x.view(-1))\n",
    "    ]\n",
    ")\n",
    "\n",
    "classes = ('plane', 'car', 'bird', 'cat',\n",
    "           'deer', 'dog', 'frog', 'horse',\n",
    "           'ship', 'truck')\n",
    "\n",
    "from torch.utils.data import random_split\n",
    "\n",
    "full_train_dataset = datasets.CIFAR10(root='./data', train=True,\n",
    "                                      download=True, transform=transform)\n",
    "\n",
    "test_dataset = datasets.CIFAR10(root='./data', train=False,\n",
    "                                      download=True, transform=transform)\n",
    "\n",
    "train_dataset, val_dataset = random_split(full_train_dataset, [0.8, 0.2])\n",
    "\n",
    "\n",
    "train_loader = DataLoader(train_dataset, batch_size=BATCH_SIZE, shuffle=True)\n",
    "test_loader = DataLoader(test_dataset, batch_size=BATCH_SIZE, shuffle=False)\n",
    "val_loader = DataLoader(val_dataset, batch_size=BATCH_SIZE, shuffle=False)\n",
    "\n",
    "next(iter(train_loader))[0].shape"
   ]
  },
  {
   "cell_type": "code",
   "execution_count": 7,
   "id": "91119b95-3ed4-48bf-b87d-7bf9844705e2",
   "metadata": {
    "execution": {
     "iopub.execute_input": "2025-04-20T12:11:56.211221Z",
     "iopub.status.busy": "2025-04-20T12:11:56.210541Z",
     "iopub.status.idle": "2025-04-20T12:11:56.221199Z",
     "shell.execute_reply": "2025-04-20T12:11:56.220492Z",
     "shell.execute_reply.started": "2025-04-20T12:11:56.211186Z"
    },
    "tags": []
   },
   "outputs": [],
   "source": [
    "# class SimpleFCN(nn.Module):\n",
    "#     def __init__(self, input_size=3 * 32 * 32, hidden_size=16):\n",
    "#         super(SimpleFCN, self).__init__()\n",
    "#         self.fc0 = nn.Linear(input_size, 10)\n",
    "#         # self.fc1 = nn.Linear(hidden_size, 10)\n",
    "#         self.act = nn.ReLU()\n",
    "\n",
    "#     def forward(self, x):\n",
    "#         x = self.fc0(x)\n",
    "#         return x"
   ]
  },
  {
   "cell_type": "code",
   "execution_count": 8,
   "id": "12cac281-f264-4d6a-ad5f-53ab214e8470",
   "metadata": {
    "execution": {
     "iopub.execute_input": "2025-04-20T12:11:56.222975Z",
     "iopub.status.busy": "2025-04-20T12:11:56.222100Z",
     "iopub.status.idle": "2025-04-20T12:11:56.233069Z",
     "shell.execute_reply": "2025-04-20T12:11:56.232307Z",
     "shell.execute_reply.started": "2025-04-20T12:11:56.222947Z"
    },
    "tags": []
   },
   "outputs": [],
   "source": [
    "class ExpandingHead(nn.Module):\n",
    "    def __init__(self, num_classes=10):\n",
    "        super(ExpandingHead, self).__init__()\n",
    "        \n",
    "        backbone = torch.hub.load(\"chenyaofo/pytorch-cifar-models\", \"cifar10_resnet20\", pretrained=True)\n",
    "        in_features = backbone.fc.in_features\n",
    "        self.backbone = nn.Sequential(*list(backbone.children())[:-1])\n",
    "        self.fc = nn.Linear(in_features, num_classes)\n",
    "    \n",
    "    def forward(self, x):\n",
    "        x = self.backbone(x)\n",
    "        x = torch.flatten(x, 1)\n",
    "        x = self.fc(x)\n",
    "        return x\n",
    "    \n",
    "    def freeze_backbone(self):\n",
    "        for param in self.backbone.parameters():\n",
    "            param.requires_grad = False"
   ]
  },
  {
   "cell_type": "code",
   "execution_count": 29,
   "id": "ee41d92f-4eb9-4363-b05b-df29cc50ce4f",
   "metadata": {
    "execution": {
     "iopub.execute_input": "2025-04-20T13:10:05.259017Z",
     "iopub.status.busy": "2025-04-20T13:10:05.258034Z",
     "iopub.status.idle": "2025-04-20T13:10:05.654252Z",
     "shell.execute_reply": "2025-04-20T13:10:05.653458Z",
     "shell.execute_reply.started": "2025-04-20T13:10:05.258980Z"
    },
    "tags": []
   },
   "outputs": [
    {
     "name": "stderr",
     "output_type": "stream",
     "text": [
      "Using cache found in /tmp/xdg_cache/torch/hub/chenyaofo_pytorch-cifar-models_master\n"
     ]
    }
   ],
   "source": [
    "model = ExpandingHead()\n",
    "model.freeze_backbone()"
   ]
  },
  {
   "cell_type": "code",
   "execution_count": 30,
   "id": "88bfa7ac-380a-4bc5-869e-c051cb4bfcff",
   "metadata": {
    "execution": {
     "iopub.execute_input": "2025-04-20T13:10:06.160864Z",
     "iopub.status.busy": "2025-04-20T13:10:06.159905Z",
     "iopub.status.idle": "2025-04-20T13:10:06.185025Z",
     "shell.execute_reply": "2025-04-20T13:10:06.184208Z",
     "shell.execute_reply.started": "2025-04-20T13:10:06.160821Z"
    },
    "tags": []
   },
   "outputs": [
    {
     "data": {
      "text/plain": [
       "tensor([[ 0.1823,  0.0016,  0.6423,  0.3690, -0.6165,  0.1254,  0.7410, -0.0591,\n",
       "          0.0706,  0.0746],\n",
       "        [ 0.1767,  0.1642,  0.2257,  0.4217, -0.4804,  0.6781,  0.4599, -0.0932,\n",
       "          0.0022,  0.3109]], grad_fn=<AddmmBackward0>)"
      ]
     },
     "execution_count": 30,
     "metadata": {},
     "output_type": "execute_result"
    }
   ],
   "source": [
    "model( torch.randn(2, 3, 32, 32))"
   ]
  },
  {
   "cell_type": "code",
   "execution_count": 31,
   "id": "2260ee59-98bd-494f-9246-e7ea62c8e637",
   "metadata": {
    "execution": {
     "iopub.execute_input": "2025-04-20T13:10:07.214639Z",
     "iopub.status.busy": "2025-04-20T13:10:07.213630Z",
     "iopub.status.idle": "2025-04-20T13:10:07.236956Z",
     "shell.execute_reply": "2025-04-20T13:10:07.236197Z",
     "shell.execute_reply.started": "2025-04-20T13:10:07.214594Z"
    },
    "tags": []
   },
   "outputs": [],
   "source": [
    "\n",
    "sparse_model = convert_dense_to_sparse_network(model, layers=[model.fc], device=device)"
   ]
  },
  {
   "cell_type": "code",
   "execution_count": 32,
   "id": "9db268d0-1e57-4775-88ab-f8106712e485",
   "metadata": {
    "execution": {
     "iopub.execute_input": "2025-04-20T13:10:18.774832Z",
     "iopub.status.busy": "2025-04-20T13:10:18.773843Z",
     "iopub.status.idle": "2025-04-20T13:10:18.792602Z",
     "shell.execute_reply": "2025-04-20T13:10:18.791807Z",
     "shell.execute_reply.started": "2025-04-20T13:10:18.774792Z"
    },
    "tags": []
   },
   "outputs": [
    {
     "data": {
      "text/plain": [
       "\"num_epochs: 64, metric: AbsGradientEdgeMetric, aggregation_mode: mean, choose_thresholds: {'fc': 0.6}, threshold: 0.005, min_delta_epoch_replace: 8, window_size: 5, lr: 5e-05, delete_after: 2, task_type: classification, fully_connected: False, max_to_replace: 900\""
      ]
     },
     "execution_count": 32,
     "metadata": {},
     "output_type": "execute_result"
    }
   ],
   "source": [
    "hyperparams = {\n",
    "    \"num_epochs\": 64,\n",
    "    \"metric\": AbsGradientEdgeMetric(nn.CrossEntropyLoss()),\n",
    "    \"aggregation_mode\": \"mean\",\n",
    "    \"choose_thresholds\": {\"fc\": 0.6}, # 0.0 -> all edges, 1.0 -> no edges\n",
    "    \"threshold\": 0.005,\n",
    "    \"min_delta_epoch_replace\": 8,\n",
    "    \"window_size\": 5,\n",
    "    \"lr\": 5e-5,\n",
    "    \"delete_after\": 2,    \n",
    "    \"task_type\": \"classification\",\n",
    "    \"fully_connected\": False,\n",
    "    \"max_to_replace\": 900 # None -> no limit\n",
    "}\n",
    "\n",
    "name = \", \".join(\n",
    "    f\"{key}: {value.__class__.__name__ if key == 'metric' else value}\"\n",
    "    for key, value in hyperparams.items()\n",
    ")\n",
    "\n",
    "name"
   ]
  },
  {
   "cell_type": "code",
   "execution_count": 33,
   "id": "d7985bdd-21c5-4062-b466-43f39bc21fba",
   "metadata": {
    "execution": {
     "iopub.execute_input": "2025-04-20T13:10:19.639800Z",
     "iopub.status.busy": "2025-04-20T13:10:19.638858Z",
     "iopub.status.idle": "2025-04-20T13:10:22.493559Z",
     "shell.execute_reply": "2025-04-20T13:10:22.492784Z",
     "shell.execute_reply.started": "2025-04-20T13:10:19.639765Z"
    },
    "tags": []
   },
   "outputs": [
    {
     "name": "stderr",
     "output_type": "stream",
     "text": [
      "wandb: uploading output.log; uploading wandb-summary.json\n",
      "wandb:                                                                                \n",
      "wandb: \n",
      "wandb: Run history:\n",
      "wandb:               acc amount ▁███████████▇▇▇▇▇▇▇▇▇▇▇▆▆\n",
      "wandb:               len_choose ▁█\n",
      "wandb:                       lr ▁▁▁▁▁▁▁▁▁▁▁▁▁▁▁▁▁▁▁▁▁▁▁▁▁\n",
      "wandb: n_params over train_time █▁▁▁▁▁▁▁▁▁▁▁▃▂▁▁▁▁▁▁▁▁▁▄▂\n",
      "wandb:            params amount ▁▁▁▁▁▁▁▁▁▁▁▁▄▄▄▄▄▄▄▄▄▄▄██\n",
      "wandb:             params ratio ▆▆▇▅▃█▆▇█▃█▃▅▇▇▇▅▁▅▇▄▃▂▅█\n",
      "wandb: params to replace amount ▂▃▂▄▅▁▃▂▁▅▁▅▄▂▂▂▄█▄▂▅▆▇▅▁\n",
      "wandb:               train loss █▄▂▂▂▁▁▁▁▁▁▁▁▁▁▁▁▁▁▁▁▁▁▁▁\n",
      "wandb:               train time ▁▅▅▅▅▅▅▅▅▅▅▅▅▇▇▇▇▇▇▇▇▇▇▇█\n",
      "wandb: train_time over n_params ▁▇▇▇▇▇▇▇▇▇█▇▅▇████▇█▇█▇▅▆\n",
      "wandb:             val accuracy ▁████████████████████████\n",
      "wandb:                 val loss █▃▂▂▁▁▁▁▁▁▁▁▁▁▁▁▁▁▁▁▁▁▁▁▁\n",
      "wandb: \n",
      "wandb: Run summary:\n",
      "wandb:               acc amount 0.00129\n",
      "wandb:               len_choose 5\n",
      "wandb:                       lr 5e-05\n",
      "wandb: n_params over train_time 47.61167\n",
      "wandb:            params amount 759\n",
      "wandb:             params ratio 0.99868\n",
      "wandb: params to replace amount 1\n",
      "wandb:               train loss 0.00391\n",
      "wandb:               train time 15.94147\n",
      "wandb: train_time over n_params 0.021\n",
      "wandb:             val accuracy 0.9777\n",
      "wandb:                 val loss 0.06506\n",
      "wandb: \n",
      "wandb: 🚀 View run garbage at: https://wandb.ai/fedornigretuk/sen-cifar-pretr-backbone/runs/kilhpgdb\n",
      "wandb: ⭐️ View project at: https://wandb.ai/fedornigretuk/sen-cifar-pretr-backbone\n",
      "wandb: Synced 5 W&B file(s), 0 media file(s), 0 artifact file(s) and 0 other file(s)\n",
      "wandb: Find logs at: ./wandb/run-20250420_125612-kilhpgdb/logs\n",
      "wandb: Tracking run with wandb version 0.19.8\n",
      "wandb: Run data is saved locally in /home/jupyter/work/resources/wandb/run-20250420_131021-1f1u8znz\n",
      "wandb: Run `wandb offline` to turn off syncing.\n",
      "wandb: Syncing run garbage\n",
      "wandb: ⭐️ View project at https://wandb.ai/fedornigretuk/sen-cifar-pretr-backbone\n",
      "wandb: 🚀 View run at https://wandb.ai/fedornigretuk/sen-cifar-pretr-backbone/runs/1f1u8znz\n"
     ]
    }
   ],
   "source": [
    "wandb.finish()\n",
    "\n",
    "run = wandb.init(\n",
    "    project=\"sen-cifar-pretr-backbone\",\n",
    "    name=\"garbage\",\n",
    "    config=hyperparams\n",
    ")\n"
   ]
  },
  {
   "cell_type": "code",
   "execution_count": 34,
   "id": "12f761f6-a48a-4a8c-a7fb-30d9bea07e19",
   "metadata": {
    "execution": {
     "iopub.execute_input": "2025-04-20T13:10:22.495886Z",
     "iopub.status.busy": "2025-04-20T13:10:22.495011Z",
     "iopub.status.idle": "2025-04-20T13:28:35.778576Z",
     "shell.execute_reply": "2025-04-20T13:28:35.776536Z",
     "shell.execute_reply.started": "2025-04-20T13:10:22.495845Z"
    },
    "tags": []
   },
   "outputs": [
    {
     "name": "stderr",
     "output_type": "stream",
     "text": [
      "100%|██████████| 625/625 [00:10<00:00, 57.34it/s]\n"
     ]
    },
    {
     "name": "stdout",
     "output_type": "stream",
     "text": [
      "Epoch 1/64, Train Loss: 2.1607, Val Loss: 1.8392, Val Accuracy: 0.5387\n"
     ]
    },
    {
     "name": "stderr",
     "output_type": "stream",
     "text": [
      "100%|██████████| 625/625 [00:14<00:00, 43.87it/s]\n"
     ]
    },
    {
     "name": "stdout",
     "output_type": "stream",
     "text": [
      "Epoch 2/64, Train Loss: 0.8890, Val Loss: 0.4566, Val Accuracy: 0.9792\n"
     ]
    },
    {
     "name": "stderr",
     "output_type": "stream",
     "text": [
      "100%|██████████| 625/625 [00:14<00:00, 44.04it/s]\n"
     ]
    },
    {
     "name": "stdout",
     "output_type": "stream",
     "text": [
      "Epoch 3/64, Train Loss: 0.3832, Val Loss: 0.2746, Val Accuracy: 0.9819\n"
     ]
    },
    {
     "name": "stderr",
     "output_type": "stream",
     "text": [
      "100%|██████████| 625/625 [00:14<00:00, 43.92it/s]\n"
     ]
    },
    {
     "name": "stdout",
     "output_type": "stream",
     "text": [
      "Epoch 4/64, Train Loss: 0.2368, Val Loss: 0.1901, Val Accuracy: 0.9860\n"
     ]
    },
    {
     "name": "stderr",
     "output_type": "stream",
     "text": [
      "100%|██████████| 625/625 [00:14<00:00, 44.02it/s]\n"
     ]
    },
    {
     "name": "stdout",
     "output_type": "stream",
     "text": [
      "Epoch 5/64, Train Loss: 0.1605, Val Loss: 0.1400, Val Accuracy: 0.9863\n"
     ]
    },
    {
     "name": "stderr",
     "output_type": "stream",
     "text": [
      "100%|██████████| 625/625 [00:14<00:00, 44.10it/s]\n"
     ]
    },
    {
     "name": "stdout",
     "output_type": "stream",
     "text": [
      "Epoch 6/64, Train Loss: 0.1124, Val Loss: 0.1134, Val Accuracy: 0.9860\n"
     ]
    },
    {
     "name": "stderr",
     "output_type": "stream",
     "text": [
      "100%|██████████| 625/625 [00:13<00:00, 44.78it/s]\n"
     ]
    },
    {
     "name": "stdout",
     "output_type": "stream",
     "text": [
      "Epoch 7/64, Train Loss: 0.0810, Val Loss: 0.0930, Val Accuracy: 0.9873\n"
     ]
    },
    {
     "name": "stderr",
     "output_type": "stream",
     "text": [
      "100%|██████████| 625/625 [00:13<00:00, 45.11it/s]\n"
     ]
    },
    {
     "name": "stdout",
     "output_type": "stream",
     "text": [
      "Epoch 8/64, Train Loss: 0.0595, Val Loss: 0.0792, Val Accuracy: 0.9866\n"
     ]
    },
    {
     "name": "stderr",
     "output_type": "stream",
     "text": [
      "100%|██████████| 625/625 [00:14<00:00, 44.44it/s]\n"
     ]
    },
    {
     "name": "stdout",
     "output_type": "stream",
     "text": [
      "Epoch 9/64, Train Loss: 0.0439, Val Loss: 0.0716, Val Accuracy: 0.9861\n"
     ]
    },
    {
     "name": "stderr",
     "output_type": "stream",
     "text": [
      "100%|██████████| 625/625 [00:13<00:00, 44.92it/s]\n"
     ]
    },
    {
     "name": "stdout",
     "output_type": "stream",
     "text": [
      "Epoch 10/64, Train Loss: 0.0341, Val Loss: 0.0666, Val Accuracy: 0.9863\n"
     ]
    },
    {
     "name": "stderr",
     "output_type": "stream",
     "text": [
      "100%|██████████| 625/625 [00:13<00:00, 44.79it/s]\n"
     ]
    },
    {
     "name": "stdout",
     "output_type": "stream",
     "text": [
      "Epoch 11/64, Train Loss: 0.0256, Val Loss: 0.0641, Val Accuracy: 0.9839\n"
     ]
    },
    {
     "name": "stderr",
     "output_type": "stream",
     "text": [
      "100%|██████████| 625/625 [00:13<00:00, 44.87it/s]\n"
     ]
    },
    {
     "name": "stdout",
     "output_type": "stream",
     "text": [
      "Epoch 12/64, Train Loss: 0.0201, Val Loss: 0.0604, Val Accuracy: 0.9850\n"
     ]
    },
    {
     "name": "stderr",
     "output_type": "stream",
     "text": [
      "100%|██████████| 625/625 [00:14<00:00, 44.53it/s]\n"
     ]
    },
    {
     "name": "stdout",
     "output_type": "stream",
     "text": [
      "Epoch 13/64, Train Loss: 0.0166, Val Loss: 0.0622, Val Accuracy: 0.9816\n",
      "Chosen edges: tensor([[ 0,  2,  3,  3,  3,  3,  4,  5,  5,  5,  5,  5,  5,  5,  7,  7,  7,  7,\n",
      "          7,  7,  7,  7,  7],\n",
      "        [44, 49, 34, 43, 48, 55,  5,  0,  8, 30, 32, 37, 41, 55, 21, 25, 30, 37,\n",
      "         40, 45, 58, 61, 63]], device='cuda:0') 23\n"
     ]
    },
    {
     "name": "stderr",
     "output_type": "stream",
     "text": [
      "100%|██████████| 625/625 [00:14<00:00, 41.67it/s]\n"
     ]
    },
    {
     "name": "stdout",
     "output_type": "stream",
     "text": [
      "Epoch 14/64, Train Loss: 0.0135, Val Loss: 0.0581, Val Accuracy: 0.9823\n"
     ]
    },
    {
     "name": "stderr",
     "output_type": "stream",
     "text": [
      "100%|██████████| 625/625 [00:14<00:00, 41.87it/s]\n"
     ]
    },
    {
     "name": "stdout",
     "output_type": "stream",
     "text": [
      "Epoch 15/64, Train Loss: 0.0091, Val Loss: 0.0560, Val Accuracy: 0.9825\n",
      "torch.Size([483]) torch.Size([847])\n",
      "combined_metrics torch.Size([1330])\n",
      "mask torch.Size([1330])\n",
      "tensor(1047, device='cuda:0')\n",
      "num_emb_edges 483\n",
      "tensor(266, device='cuda:0') tensor(0, device='cuda:0')\n",
      "Chosen edges to del emb: tensor([[ 0,  0,  0,  0,  0,  0,  0,  0,  0,  0,  0,  0,  0,  0,  0,  0,  0,  1,\n",
      "          1,  1,  1,  1,  1,  1,  1,  1,  1,  1,  1,  2,  2,  2,  2,  2,  2,  2,\n",
      "          2,  2,  2,  3,  3,  3,  3,  3,  3,  3,  3,  3,  3,  4,  4,  4,  4,  4,\n",
      "          4,  4,  4,  4,  4,  5,  5,  5,  5,  5,  5,  5,  5,  5,  5,  6,  6,  6,\n",
      "          6,  6,  6,  6,  7,  7,  7,  7,  7,  7,  7,  7,  7,  7,  7,  7,  7,  7,\n",
      "          7,  7,  8,  8,  8,  8,  8,  8,  8,  8,  8,  8,  8,  8,  8,  9,  9,  9,\n",
      "          9,  9,  9,  9,  9,  9,  9,  9,  9,  9,  9, 10, 10, 10, 10, 10, 10, 11,\n",
      "         11, 11, 11, 11, 11, 11, 11, 11, 11, 11, 11, 11, 11, 12, 12, 12, 12, 12,\n",
      "         12, 12, 12, 12, 12, 12, 12, 13, 13, 13, 13, 13, 13, 13, 13, 13, 13, 13,\n",
      "         13, 14, 14, 14, 14, 14, 14, 14, 14, 14, 14, 14, 14, 14, 14, 15, 15, 15,\n",
      "         15, 15, 15, 15, 15, 15, 15, 15, 15, 15, 15, 16, 16, 16, 16, 16, 16, 16,\n",
      "         16, 16, 16, 16, 17, 17, 17, 17, 17, 17, 17, 17, 17, 17, 17, 17, 18, 18,\n",
      "         18, 18, 18, 18, 18, 18, 18, 18, 18, 18, 18, 18, 18, 19, 19, 19, 19, 19,\n",
      "         19, 19, 19, 19, 19, 19, 19, 20, 20, 20, 20, 20, 20, 20, 20, 20, 20, 20,\n",
      "         20, 21, 21, 21, 21, 22, 22, 22, 22, 22, 22, 22, 22, 22],\n",
      "        [ 0,  8, 21, 25, 32, 34, 37, 40, 41, 43, 44, 48, 49, 55, 58, 61, 63,  5,\n",
      "         21, 25, 32, 34, 44, 45, 49, 55, 58, 61, 63,  5, 30, 34, 37, 40, 41, 43,\n",
      "         48, 55, 58,  5, 30, 34, 37, 40, 41, 43, 48, 55, 58,  5, 30, 34, 37, 40,\n",
      "         41, 43, 48, 55, 58,  5, 30, 34, 37, 40, 41, 43, 48, 55, 58,  5, 21, 32,\n",
      "         41, 43, 61, 63,  0,  5,  8, 25, 34, 37, 40, 43, 44, 45, 48, 49, 55, 58,\n",
      "         61, 63,  0,  5,  8, 25, 34, 37, 40, 43, 44, 48, 49, 61, 63,  0,  5,  8,\n",
      "         25, 34, 37, 40, 43, 44, 45, 48, 49, 61, 63,  0, 32, 34, 40, 43, 48,  0,\n",
      "          5,  8, 25, 34, 37, 40, 43, 44, 45, 48, 49, 61, 63,  0,  5,  8, 25, 34,\n",
      "         37, 40, 43, 44, 49, 61, 63,  0,  5,  8, 25, 34, 37, 40, 43, 44, 49, 61,\n",
      "         63,  0,  5, 21, 25, 32, 34, 37, 40, 41, 44, 45, 48, 49, 55,  0,  5,  8,\n",
      "         25, 32, 34, 37, 40, 41, 44, 45, 48, 49, 55,  5,  8, 30, 32, 34, 37, 41,\n",
      "         44, 45, 49, 55,  0,  5, 30, 32, 34, 37, 41, 44, 45, 48, 49, 55,  0,  5,\n",
      "          8, 25, 30, 32, 34, 37, 40, 41, 44, 45, 48, 49, 55,  0,  5,  8, 32, 34,\n",
      "         37, 41, 44, 45, 48, 49, 55,  0,  5, 25, 30, 32, 37, 40, 41, 44, 45, 49,\n",
      "         55,  5, 32, 45, 55,  0,  5, 32, 34, 41, 44, 48, 49, 55]],\n",
      "       device='cuda:0', dtype=torch.int32) 266\n",
      "Chosen edges to del exp: tensor([], device='cuda:0', size=(2, 0), dtype=torch.int64) 0\n"
     ]
    },
    {
     "name": "stderr",
     "output_type": "stream",
     "text": [
      "100%|██████████| 625/625 [00:14<00:00, 41.91it/s]\n"
     ]
    },
    {
     "name": "stdout",
     "output_type": "stream",
     "text": [
      "Epoch 16/64, Train Loss: 0.0119, Val Loss: 0.0613, Val Accuracy: 0.9808\n"
     ]
    },
    {
     "name": "stderr",
     "output_type": "stream",
     "text": [
      "100%|██████████| 625/625 [00:14<00:00, 41.93it/s]\n"
     ]
    },
    {
     "name": "stdout",
     "output_type": "stream",
     "text": [
      "Epoch 17/64, Train Loss: 0.0083, Val Loss: 0.0550, Val Accuracy: 0.9816\n"
     ]
    },
    {
     "name": "stderr",
     "output_type": "stream",
     "text": [
      "100%|██████████| 625/625 [00:14<00:00, 42.04it/s]\n"
     ]
    },
    {
     "name": "stdout",
     "output_type": "stream",
     "text": [
      "Epoch 18/64, Train Loss: 0.0066, Val Loss: 0.0643, Val Accuracy: 0.9789\n"
     ]
    },
    {
     "name": "stderr",
     "output_type": "stream",
     "text": [
      "100%|██████████| 625/625 [00:14<00:00, 41.80it/s]\n"
     ]
    },
    {
     "name": "stdout",
     "output_type": "stream",
     "text": [
      "Epoch 19/64, Train Loss: 0.0064, Val Loss: 0.0626, Val Accuracy: 0.9784\n"
     ]
    },
    {
     "name": "stderr",
     "output_type": "stream",
     "text": [
      "100%|██████████| 625/625 [00:14<00:00, 42.02it/s]\n"
     ]
    },
    {
     "name": "stdout",
     "output_type": "stream",
     "text": [
      "Epoch 20/64, Train Loss: 0.0057, Val Loss: 0.0630, Val Accuracy: 0.9789\n"
     ]
    },
    {
     "name": "stderr",
     "output_type": "stream",
     "text": [
      "100%|██████████| 625/625 [00:14<00:00, 42.04it/s]\n"
     ]
    },
    {
     "name": "stdout",
     "output_type": "stream",
     "text": [
      "Epoch 21/64, Train Loss: 0.0054, Val Loss: 0.0643, Val Accuracy: 0.9783\n"
     ]
    },
    {
     "name": "stderr",
     "output_type": "stream",
     "text": [
      "100%|██████████| 625/625 [00:14<00:00, 41.97it/s]\n"
     ]
    },
    {
     "name": "stdout",
     "output_type": "stream",
     "text": [
      "Epoch 22/64, Train Loss: 0.0038, Val Loss: 0.0672, Val Accuracy: 0.9778\n",
      "Chosen edges: tensor([[ 3,  3,  3,  3,  3,  3,  3,  3,  5,  3,  5,  3,  5,  3,  5],\n",
      "        [16, 20, 30, 37, 41, 52, 58, 73, 73, 76, 76, 77, 77, 84, 84]],\n",
      "       device='cuda:0') 15\n"
     ]
    },
    {
     "name": "stderr",
     "output_type": "stream",
     "text": [
      "100%|██████████| 625/625 [00:15<00:00, 39.80it/s]\n"
     ]
    },
    {
     "name": "stdout",
     "output_type": "stream",
     "text": [
      "Epoch 23/64, Train Loss: 0.0045, Val Loss: 0.0627, Val Accuracy: 0.9781\n"
     ]
    },
    {
     "name": "stderr",
     "output_type": "stream",
     "text": [
      "100%|██████████| 625/625 [00:15<00:00, 40.32it/s]\n"
     ]
    },
    {
     "name": "stdout",
     "output_type": "stream",
     "text": [
      "Epoch 24/64, Train Loss: 0.0043, Val Loss: 0.0653, Val Accuracy: 0.9770\n",
      "torch.Size([180]) torch.Size([982])\n",
      "combined_metrics torch.Size([1162])\n",
      "mask torch.Size([1162])\n",
      "tensor(1079, device='cuda:0')\n",
      "num_emb_edges 180\n",
      "tensor(76, device='cuda:0') tensor(0, device='cuda:0')\n",
      "Chosen edges to del emb: tensor([[ 0,  0,  0,  0,  0,  0,  0,  0,  0,  0,  0,  1,  1,  1,  1,  1,  1,  1,\n",
      "          1,  1,  1,  1,  2,  2,  2,  2,  2,  2,  2,  2,  2,  2,  2,  4,  4,  4,\n",
      "          4,  4,  4,  4,  4,  4,  4,  4,  5,  5,  5,  5,  5,  5,  5,  5,  5,  5,\n",
      "          5,  6,  6,  6,  6,  6,  6,  6,  6,  6,  6,  6,  8,  8,  8,  9, 10, 10,\n",
      "         10, 12, 12, 12],\n",
      "        [16, 20, 30, 37, 41, 52, 58, 73, 76, 77, 84, 16, 20, 30, 37, 41, 52, 58,\n",
      "         73, 76, 77, 84, 16, 20, 30, 37, 41, 52, 58, 73, 76, 77, 84, 16, 20, 30,\n",
      "         37, 41, 52, 58, 73, 76, 77, 84, 16, 20, 30, 37, 41, 52, 58, 73, 76, 77,\n",
      "         84, 16, 20, 30, 37, 41, 52, 58, 73, 76, 77, 84, 16, 20, 52, 76, 16, 20,\n",
      "         52, 16, 20, 52]], device='cuda:0', dtype=torch.int32) 76\n",
      "Chosen edges to del exp: tensor([], device='cuda:0', size=(2, 0), dtype=torch.int64) 0\n"
     ]
    },
    {
     "name": "stderr",
     "output_type": "stream",
     "text": [
      "100%|██████████| 625/625 [00:15<00:00, 40.38it/s]\n"
     ]
    },
    {
     "name": "stdout",
     "output_type": "stream",
     "text": [
      "Epoch 25/64, Train Loss: 0.0042, Val Loss: 0.0615, Val Accuracy: 0.9786\n"
     ]
    },
    {
     "name": "stderr",
     "output_type": "stream",
     "text": [
      "100%|██████████| 625/625 [00:15<00:00, 40.16it/s]\n"
     ]
    },
    {
     "name": "stdout",
     "output_type": "stream",
     "text": [
      "Epoch 26/64, Train Loss: 0.0038, Val Loss: 0.0692, Val Accuracy: 0.9761\n"
     ]
    },
    {
     "name": "stderr",
     "output_type": "stream",
     "text": [
      "100%|██████████| 625/625 [00:15<00:00, 40.24it/s]\n"
     ]
    },
    {
     "name": "stdout",
     "output_type": "stream",
     "text": [
      "Epoch 27/64, Train Loss: 0.0034, Val Loss: 0.0734, Val Accuracy: 0.9757\n"
     ]
    },
    {
     "name": "stderr",
     "output_type": "stream",
     "text": [
      "100%|██████████| 625/625 [00:15<00:00, 40.43it/s]\n"
     ]
    },
    {
     "name": "stdout",
     "output_type": "stream",
     "text": [
      "Epoch 28/64, Train Loss: 0.0031, Val Loss: 0.0646, Val Accuracy: 0.9782\n"
     ]
    },
    {
     "name": "stderr",
     "output_type": "stream",
     "text": [
      "100%|██████████| 625/625 [00:15<00:00, 40.26it/s]\n"
     ]
    },
    {
     "name": "stdout",
     "output_type": "stream",
     "text": [
      "Epoch 29/64, Train Loss: 0.0036, Val Loss: 0.0818, Val Accuracy: 0.9730\n"
     ]
    },
    {
     "name": "stderr",
     "output_type": "stream",
     "text": [
      "100%|██████████| 625/625 [00:15<00:00, 40.44it/s]\n"
     ]
    },
    {
     "name": "stdout",
     "output_type": "stream",
     "text": [
      "Epoch 30/64, Train Loss: 0.0029, Val Loss: 0.0805, Val Accuracy: 0.9749\n"
     ]
    },
    {
     "name": "stderr",
     "output_type": "stream",
     "text": [
      "100%|██████████| 625/625 [00:15<00:00, 40.54it/s]\n"
     ]
    },
    {
     "name": "stdout",
     "output_type": "stream",
     "text": [
      "Epoch 31/64, Train Loss: 0.0027, Val Loss: 0.0778, Val Accuracy: 0.9754\n"
     ]
    },
    {
     "name": "stderr",
     "output_type": "stream",
     "text": [
      "100%|██████████| 625/625 [00:15<00:00, 40.42it/s]\n"
     ]
    },
    {
     "name": "stdout",
     "output_type": "stream",
     "text": [
      "Epoch 32/64, Train Loss: 0.0024, Val Loss: 0.0761, Val Accuracy: 0.9766\n"
     ]
    },
    {
     "name": "stderr",
     "output_type": "stream",
     "text": [
      "100%|██████████| 625/625 [00:15<00:00, 40.17it/s]\n"
     ]
    },
    {
     "name": "stdout",
     "output_type": "stream",
     "text": [
      "Epoch 33/64, Train Loss: 0.0027, Val Loss: 0.0710, Val Accuracy: 0.9780\n"
     ]
    },
    {
     "name": "stderr",
     "output_type": "stream",
     "text": [
      " 32%|███▏      | 202/625 [00:05<00:10, 40.28it/s]\n"
     ]
    },
    {
     "ename": "KeyboardInterrupt",
     "evalue": "",
     "output_type": "error",
     "traceback": [
      "\u001b[0;31m---------------------------------------------------------------------------\u001b[0m",
      "\u001b[0;31mKeyboardInterrupt\u001b[0m                         Traceback (most recent call last)",
      "\u001b[0;32m/tmp/ipykernel_7867/2080018500.py\u001b[0m in \u001b[0;36m<cell line: 2>\u001b[0;34m()\u001b[0m\n\u001b[1;32m      1\u001b[0m \u001b[0mcriterion\u001b[0m \u001b[0;34m=\u001b[0m \u001b[0mnn\u001b[0m\u001b[0;34m.\u001b[0m\u001b[0mCrossEntropyLoss\u001b[0m\u001b[0;34m(\u001b[0m\u001b[0;34m)\u001b[0m\u001b[0;34m\u001b[0m\u001b[0;34m\u001b[0m\u001b[0m\n\u001b[0;32m----> 2\u001b[0;31m \u001b[0mtrain_sparse_recursive\u001b[0m\u001b[0;34m(\u001b[0m\u001b[0msparse_model\u001b[0m\u001b[0;34m,\u001b[0m \u001b[0mtrain_loader\u001b[0m\u001b[0;34m,\u001b[0m \u001b[0mtrain_loader\u001b[0m\u001b[0;34m,\u001b[0m \u001b[0mval_loader\u001b[0m\u001b[0;34m,\u001b[0m \u001b[0mcriterion\u001b[0m\u001b[0;34m,\u001b[0m \u001b[0mhyperparams\u001b[0m\u001b[0;34m,\u001b[0m \u001b[0mdevice\u001b[0m\u001b[0;34m)\u001b[0m\u001b[0;34m\u001b[0m\u001b[0;34m\u001b[0m\u001b[0m\n\u001b[0m",
      "\u001b[0;32m~/work/resources/self-expanding-nets/senmodel/train/train.py\u001b[0m in \u001b[0;36mtrain_sparse_recursive\u001b[0;34m(model, train_loader, val_loader, test_loader, criterion, hyperparams, device)\u001b[0m\n\u001b[1;32m    133\u001b[0m     \u001b[0mval_losses\u001b[0m \u001b[0;34m=\u001b[0m \u001b[0;34m[\u001b[0m\u001b[0;34m]\u001b[0m\u001b[0;34m\u001b[0m\u001b[0;34m\u001b[0m\u001b[0m\n\u001b[1;32m    134\u001b[0m     \u001b[0;32mfor\u001b[0m \u001b[0mepoch\u001b[0m \u001b[0;32min\u001b[0m \u001b[0mrange\u001b[0m\u001b[0;34m(\u001b[0m\u001b[0mhyperparams\u001b[0m\u001b[0;34m[\u001b[0m\u001b[0;34m'num_epochs'\u001b[0m\u001b[0;34m]\u001b[0m\u001b[0;34m)\u001b[0m\u001b[0;34m:\u001b[0m\u001b[0;34m\u001b[0m\u001b[0;34m\u001b[0m\u001b[0m\n\u001b[0;32m--> 135\u001b[0;31m         \u001b[0mtrain_loss\u001b[0m\u001b[0;34m,\u001b[0m \u001b[0mtrain_time\u001b[0m \u001b[0;34m=\u001b[0m \u001b[0mtrain_one_epoch\u001b[0m\u001b[0;34m(\u001b[0m\u001b[0mmodel\u001b[0m\u001b[0;34m,\u001b[0m \u001b[0moptimizer\u001b[0m\u001b[0;34m,\u001b[0m \u001b[0mcriterion\u001b[0m\u001b[0;34m,\u001b[0m \u001b[0mtrain_loader\u001b[0m\u001b[0;34m,\u001b[0m \u001b[0mdevice\u001b[0m\u001b[0;34m)\u001b[0m\u001b[0;34m\u001b[0m\u001b[0;34m\u001b[0m\u001b[0m\n\u001b[0m\u001b[1;32m    136\u001b[0m         \u001b[0mval_loss\u001b[0m\u001b[0;34m,\u001b[0m \u001b[0mval_accuracy\u001b[0m \u001b[0;34m=\u001b[0m \u001b[0meval_one_epoch\u001b[0m\u001b[0;34m(\u001b[0m\u001b[0mmodel\u001b[0m\u001b[0;34m,\u001b[0m \u001b[0mcriterion\u001b[0m\u001b[0;34m,\u001b[0m \u001b[0mtest_loader\u001b[0m\u001b[0;34m,\u001b[0m \u001b[0mhyperparams\u001b[0m\u001b[0;34m[\u001b[0m\u001b[0;34m'task_type'\u001b[0m\u001b[0;34m]\u001b[0m\u001b[0;34m,\u001b[0m \u001b[0mdevice\u001b[0m\u001b[0;34m)\u001b[0m\u001b[0;34m\u001b[0m\u001b[0;34m\u001b[0m\u001b[0m\n\u001b[1;32m    137\u001b[0m \u001b[0;34m\u001b[0m\u001b[0m\n",
      "\u001b[0;32m~/work/resources/self-expanding-nets/senmodel/train/train.py\u001b[0m in \u001b[0;36mtrain_one_epoch\u001b[0;34m(model, optimizer, criterion, train_loader, device)\u001b[0m\n\u001b[1;32m     16\u001b[0m     \u001b[0;32mfor\u001b[0m \u001b[0mi\u001b[0m\u001b[0;34m,\u001b[0m \u001b[0;34m(\u001b[0m\u001b[0minputs\u001b[0m\u001b[0;34m,\u001b[0m \u001b[0mtargets\u001b[0m\u001b[0;34m)\u001b[0m \u001b[0;32min\u001b[0m \u001b[0menumerate\u001b[0m\u001b[0;34m(\u001b[0m\u001b[0mtqdm\u001b[0m\u001b[0;34m(\u001b[0m\u001b[0mtrain_loader\u001b[0m\u001b[0;34m)\u001b[0m\u001b[0;34m)\u001b[0m\u001b[0;34m:\u001b[0m\u001b[0;34m\u001b[0m\u001b[0;34m\u001b[0m\u001b[0m\n\u001b[1;32m     17\u001b[0m         \u001b[0minputs\u001b[0m\u001b[0;34m,\u001b[0m \u001b[0mtargets\u001b[0m \u001b[0;34m=\u001b[0m \u001b[0minputs\u001b[0m\u001b[0;34m.\u001b[0m\u001b[0mto\u001b[0m\u001b[0;34m(\u001b[0m\u001b[0mdevice\u001b[0m\u001b[0;34m)\u001b[0m\u001b[0;34m,\u001b[0m \u001b[0mtargets\u001b[0m\u001b[0;34m.\u001b[0m\u001b[0mto\u001b[0m\u001b[0;34m(\u001b[0m\u001b[0mdevice\u001b[0m\u001b[0;34m)\u001b[0m\u001b[0;34m\u001b[0m\u001b[0;34m\u001b[0m\u001b[0m\n\u001b[0;32m---> 18\u001b[0;31m         \u001b[0moutputs\u001b[0m \u001b[0;34m=\u001b[0m \u001b[0mmodel\u001b[0m\u001b[0;34m(\u001b[0m\u001b[0minputs\u001b[0m\u001b[0;34m)\u001b[0m\u001b[0;34m\u001b[0m\u001b[0;34m\u001b[0m\u001b[0m\n\u001b[0m\u001b[1;32m     19\u001b[0m         \u001b[0mloss\u001b[0m \u001b[0;34m=\u001b[0m \u001b[0mcriterion\u001b[0m\u001b[0;34m(\u001b[0m\u001b[0moutputs\u001b[0m\u001b[0;34m,\u001b[0m \u001b[0mtargets\u001b[0m\u001b[0;34m)\u001b[0m\u001b[0;34m\u001b[0m\u001b[0;34m\u001b[0m\u001b[0m\n\u001b[1;32m     20\u001b[0m         \u001b[0moptimizer\u001b[0m\u001b[0;34m.\u001b[0m\u001b[0mzero_grad\u001b[0m\u001b[0;34m(\u001b[0m\u001b[0;34m)\u001b[0m\u001b[0;34m\u001b[0m\u001b[0;34m\u001b[0m\u001b[0m\n",
      "\u001b[0;32m/usr/local/lib/python3.10/dist-packages/torch/nn/modules/module.py\u001b[0m in \u001b[0;36m_call_impl\u001b[0;34m(self, *args, **kwargs)\u001b[0m\n\u001b[1;32m   1499\u001b[0m                 \u001b[0;32mor\u001b[0m \u001b[0m_global_backward_pre_hooks\u001b[0m \u001b[0;32mor\u001b[0m \u001b[0m_global_backward_hooks\u001b[0m\u001b[0;34m\u001b[0m\u001b[0;34m\u001b[0m\u001b[0m\n\u001b[1;32m   1500\u001b[0m                 or _global_forward_hooks or _global_forward_pre_hooks):\n\u001b[0;32m-> 1501\u001b[0;31m             \u001b[0;32mreturn\u001b[0m \u001b[0mforward_call\u001b[0m\u001b[0;34m(\u001b[0m\u001b[0;34m*\u001b[0m\u001b[0margs\u001b[0m\u001b[0;34m,\u001b[0m \u001b[0;34m**\u001b[0m\u001b[0mkwargs\u001b[0m\u001b[0;34m)\u001b[0m\u001b[0;34m\u001b[0m\u001b[0;34m\u001b[0m\u001b[0m\n\u001b[0m\u001b[1;32m   1502\u001b[0m         \u001b[0;31m# Do not call functions when jit is used\u001b[0m\u001b[0;34m\u001b[0m\u001b[0;34m\u001b[0m\u001b[0m\n\u001b[1;32m   1503\u001b[0m         \u001b[0mfull_backward_hooks\u001b[0m\u001b[0;34m,\u001b[0m \u001b[0mnon_full_backward_hooks\u001b[0m \u001b[0;34m=\u001b[0m \u001b[0;34m[\u001b[0m\u001b[0;34m]\u001b[0m\u001b[0;34m,\u001b[0m \u001b[0;34m[\u001b[0m\u001b[0;34m]\u001b[0m\u001b[0;34m\u001b[0m\u001b[0;34m\u001b[0m\u001b[0m\n",
      "\u001b[0;32m/tmp/ipykernel_7867/1216093929.py\u001b[0m in \u001b[0;36mforward\u001b[0;34m(self, x)\u001b[0m\n\u001b[1;32m     11\u001b[0m         \u001b[0mx\u001b[0m \u001b[0;34m=\u001b[0m \u001b[0mself\u001b[0m\u001b[0;34m.\u001b[0m\u001b[0mbackbone\u001b[0m\u001b[0;34m(\u001b[0m\u001b[0mx\u001b[0m\u001b[0;34m)\u001b[0m\u001b[0;34m\u001b[0m\u001b[0;34m\u001b[0m\u001b[0m\n\u001b[1;32m     12\u001b[0m         \u001b[0mx\u001b[0m \u001b[0;34m=\u001b[0m \u001b[0mtorch\u001b[0m\u001b[0;34m.\u001b[0m\u001b[0mflatten\u001b[0m\u001b[0;34m(\u001b[0m\u001b[0mx\u001b[0m\u001b[0;34m,\u001b[0m \u001b[0;36m1\u001b[0m\u001b[0;34m)\u001b[0m\u001b[0;34m\u001b[0m\u001b[0;34m\u001b[0m\u001b[0m\n\u001b[0;32m---> 13\u001b[0;31m         \u001b[0mx\u001b[0m \u001b[0;34m=\u001b[0m \u001b[0mself\u001b[0m\u001b[0;34m.\u001b[0m\u001b[0mfc\u001b[0m\u001b[0;34m(\u001b[0m\u001b[0mx\u001b[0m\u001b[0;34m)\u001b[0m\u001b[0;34m\u001b[0m\u001b[0;34m\u001b[0m\u001b[0m\n\u001b[0m\u001b[1;32m     14\u001b[0m         \u001b[0;32mreturn\u001b[0m \u001b[0mx\u001b[0m\u001b[0;34m\u001b[0m\u001b[0;34m\u001b[0m\u001b[0m\n\u001b[1;32m     15\u001b[0m \u001b[0;34m\u001b[0m\u001b[0m\n",
      "\u001b[0;32m/usr/local/lib/python3.10/dist-packages/torch/nn/modules/module.py\u001b[0m in \u001b[0;36m_call_impl\u001b[0;34m(self, *args, **kwargs)\u001b[0m\n\u001b[1;32m   1499\u001b[0m                 \u001b[0;32mor\u001b[0m \u001b[0m_global_backward_pre_hooks\u001b[0m \u001b[0;32mor\u001b[0m \u001b[0m_global_backward_hooks\u001b[0m\u001b[0;34m\u001b[0m\u001b[0;34m\u001b[0m\u001b[0m\n\u001b[1;32m   1500\u001b[0m                 or _global_forward_hooks or _global_forward_pre_hooks):\n\u001b[0;32m-> 1501\u001b[0;31m             \u001b[0;32mreturn\u001b[0m \u001b[0mforward_call\u001b[0m\u001b[0;34m(\u001b[0m\u001b[0;34m*\u001b[0m\u001b[0margs\u001b[0m\u001b[0;34m,\u001b[0m \u001b[0;34m**\u001b[0m\u001b[0mkwargs\u001b[0m\u001b[0;34m)\u001b[0m\u001b[0;34m\u001b[0m\u001b[0;34m\u001b[0m\u001b[0m\n\u001b[0m\u001b[1;32m   1502\u001b[0m         \u001b[0;31m# Do not call functions when jit is used\u001b[0m\u001b[0;34m\u001b[0m\u001b[0;34m\u001b[0m\u001b[0m\n\u001b[1;32m   1503\u001b[0m         \u001b[0mfull_backward_hooks\u001b[0m\u001b[0;34m,\u001b[0m \u001b[0mnon_full_backward_hooks\u001b[0m \u001b[0;34m=\u001b[0m \u001b[0;34m[\u001b[0m\u001b[0;34m]\u001b[0m\u001b[0;34m,\u001b[0m \u001b[0;34m[\u001b[0m\u001b[0;34m]\u001b[0m\u001b[0;34m\u001b[0m\u001b[0;34m\u001b[0m\u001b[0m\n",
      "\u001b[0;32m~/work/resources/self-expanding-nets/senmodel/model/model.py\u001b[0m in \u001b[0;36mforward\u001b[0;34m(self, input)\u001b[0m\n\u001b[1;32m    183\u001b[0m \u001b[0;34m\u001b[0m\u001b[0m\n\u001b[1;32m    184\u001b[0m         \u001b[0;31m# Вычисляем линейное преобразование\u001b[0m\u001b[0;34m\u001b[0m\u001b[0;34m\u001b[0m\u001b[0m\n\u001b[0;32m--> 185\u001b[0;31m         \u001b[0moutput\u001b[0m \u001b[0;34m=\u001b[0m \u001b[0mtorch\u001b[0m\u001b[0;34m.\u001b[0m\u001b[0msparse\u001b[0m\u001b[0;34m.\u001b[0m\u001b[0mmm\u001b[0m\u001b[0;34m(\u001b[0m\u001b[0msparse_weight\u001b[0m\u001b[0;34m,\u001b[0m \u001b[0minput\u001b[0m\u001b[0;34m.\u001b[0m\u001b[0mt\u001b[0m\u001b[0;34m(\u001b[0m\u001b[0;34m)\u001b[0m\u001b[0;34m)\u001b[0m\u001b[0;34m.\u001b[0m\u001b[0mt\u001b[0m\u001b[0;34m(\u001b[0m\u001b[0;34m)\u001b[0m\u001b[0;34m\u001b[0m\u001b[0;34m\u001b[0m\u001b[0m\n\u001b[0m\u001b[1;32m    186\u001b[0m         \u001b[0moutput\u001b[0m \u001b[0;34m+=\u001b[0m \u001b[0msparse_bias\u001b[0m\u001b[0;34m.\u001b[0m\u001b[0munsqueeze\u001b[0m\u001b[0;34m(\u001b[0m\u001b[0;36m0\u001b[0m\u001b[0;34m)\u001b[0m\u001b[0;34m\u001b[0m\u001b[0;34m\u001b[0m\u001b[0m\n\u001b[1;32m    187\u001b[0m \u001b[0;34m\u001b[0m\u001b[0m\n",
      "\u001b[0;31mKeyboardInterrupt\u001b[0m: "
     ]
    }
   ],
   "source": [
    "\n",
    "criterion = nn.CrossEntropyLoss()\n",
    "train_sparse_recursive(sparse_model, train_loader, train_loader, val_loader, criterion, hyperparams, device)"
   ]
  },
  {
   "cell_type": "code",
   "execution_count": null,
   "id": "7488c18d-801d-4a5c-8797-03dedd67fe9f",
   "metadata": {},
   "outputs": [],
   "source": []
  },
  {
   "cell_type": "code",
   "execution_count": null,
   "id": "4fab4a50-f410-45e2-bddc-c13bdbc0ab80",
   "metadata": {},
   "outputs": [],
   "source": []
  }
 ],
 "metadata": {
  "kernelspec": {
   "display_name": "DataSphere Kernel",
   "language": "python",
   "name": "python3"
  },
  "language_info": {
   "codemirror_mode": {
    "name": "ipython",
    "version": 3
   },
   "file_extension": ".py",
   "mimetype": "text/x-python",
   "name": "python",
   "nbconvert_exporter": "python",
   "pygments_lexer": "ipython3",
   "version": "3.10.12"
  }
 },
 "nbformat": 4,
 "nbformat_minor": 5
}
