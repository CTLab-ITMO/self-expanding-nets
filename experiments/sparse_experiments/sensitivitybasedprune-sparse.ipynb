{
 "cells": [
  {
   "cell_type": "code",
   "execution_count": 1,
   "id": "c22ff0e8",
   "metadata": {
    "ExecuteTime": {
     "end_time": "2024-10-21T18:04:04.418635Z",
     "start_time": "2024-10-21T18:04:04.398634Z"
    },
    "execution": {
     "iopub.execute_input": "2024-10-22T22:14:02.966838Z",
     "iopub.status.busy": "2024-10-22T22:14:02.966363Z",
     "iopub.status.idle": "2024-10-22T22:14:08.563919Z",
     "shell.execute_reply": "2024-10-22T22:14:08.562351Z"
    },
    "papermill": {
     "duration": 5.613386,
     "end_time": "2024-10-22T22:14:08.567147",
     "exception": false,
     "start_time": "2024-10-22T22:14:02.953761",
     "status": "completed"
    },
    "tags": []
   },
   "outputs": [],
   "source": [
    "import torch\n",
    "from torch import nn\n",
    "from sklearn.datasets import make_regression\n",
    "from sklearn.model_selection import train_test_split\n",
    "from torch.utils.data import DataLoader\n",
    "import torch.nn.utils.prune as prune\n",
    "from copy import deepcopy"
   ]
  },
  {
   "cell_type": "code",
   "execution_count": 2,
   "id": "a86b9688",
   "metadata": {
    "ExecuteTime": {
     "end_time": "2024-10-21T18:04:04.729517Z",
     "start_time": "2024-10-21T18:04:04.712512Z"
    },
    "execution": {
     "iopub.execute_input": "2024-10-22T22:14:08.590893Z",
     "iopub.status.busy": "2024-10-22T22:14:08.590328Z",
     "iopub.status.idle": "2024-10-22T22:14:08.600316Z",
     "shell.execute_reply": "2024-10-22T22:14:08.599088Z"
    },
    "papermill": {
     "duration": 0.024188,
     "end_time": "2024-10-22T22:14:08.602925",
     "exception": false,
     "start_time": "2024-10-22T22:14:08.578737",
     "status": "completed"
    },
    "tags": []
   },
   "outputs": [],
   "source": [
    "class MyModel(nn.Module):\n",
    "    def __init__(self, all_sizes, activation=nn.ReLU):\n",
    "        super(MyModel, self).__init__()\n",
    "\n",
    "        input_size, *hidden_sizes, output_size = all_sizes\n",
    "\n",
    "        layers = []\n",
    "        current_size = input_size\n",
    "\n",
    "        for hidden_size in hidden_sizes:\n",
    "            layers.append(nn.Linear(current_size, hidden_size))\n",
    "            layers.append(activation())\n",
    "            current_size = hidden_size\n",
    "\n",
    "        layers.append(nn.Linear(current_size, output_size))\n",
    "\n",
    "        self.model = nn.Sequential(*layers)\n",
    "\n",
    "    def forward(self, x):\n",
    "        return self.model(x)"
   ]
  },
  {
   "cell_type": "code",
   "execution_count": 3,
   "id": "0df6a953",
   "metadata": {
    "ExecuteTime": {
     "end_time": "2024-10-21T18:56:02.527986Z",
     "start_time": "2024-10-21T18:56:02.496986Z"
    },
    "execution": {
     "iopub.execute_input": "2024-10-22T22:14:08.625537Z",
     "iopub.status.busy": "2024-10-22T22:14:08.624135Z",
     "iopub.status.idle": "2024-10-22T22:14:08.732670Z",
     "shell.execute_reply": "2024-10-22T22:14:08.731279Z"
    },
    "papermill": {
     "duration": 0.125772,
     "end_time": "2024-10-22T22:14:08.738581",
     "exception": false,
     "start_time": "2024-10-22T22:14:08.612809",
     "status": "completed"
    },
    "tags": []
   },
   "outputs": [
    {
     "name": "stdout",
     "output_type": "stream",
     "text": [
      "MyModel(\n",
      "  (model): Sequential(\n",
      "    (0): Linear(in_features=10, out_features=20, bias=True)\n",
      "    (1): ReLU()\n",
      "    (2): Linear(in_features=20, out_features=40, bias=True)\n",
      "    (3): ReLU()\n",
      "    (4): Linear(in_features=40, out_features=20, bias=True)\n",
      "    (5): ReLU()\n",
      "    (6): Linear(in_features=20, out_features=1, bias=True)\n",
      "  )\n",
      ")\n"
     ]
    },
    {
     "data": {
      "text/plain": [
       "MyModel(\n",
       "  (model): Sequential(\n",
       "    (0): Linear(in_features=10, out_features=20, bias=True)\n",
       "    (1): ReLU()\n",
       "    (2): Linear(in_features=20, out_features=40, bias=True)\n",
       "    (3): ReLU()\n",
       "    (4): Linear(in_features=40, out_features=20, bias=True)\n",
       "    (5): ReLU()\n",
       "    (6): Linear(in_features=20, out_features=1, bias=True)\n",
       "  )\n",
       ")"
      ]
     },
     "execution_count": 3,
     "metadata": {},
     "output_type": "execute_result"
    }
   ],
   "source": [
    "sizes = [10, 20, 40, 20, 1]\n",
    "model = MyModel(sizes)\n",
    "print(model)\n",
    "\n",
    "X, y = make_regression(n_samples=1000, n_features=sizes[0], n_informative=sizes[0], random_state=42)\n",
    "X = torch.from_numpy(X).float()\n",
    "y = torch.from_numpy(y).float()\n",
    "\n",
    "dataset = list(zip(X, y))\n",
    "train_dataset, test_dataset = train_test_split(dataset, test_size=0.2, random_state=42)\n",
    "train_loader = DataLoader(train_dataset, batch_size=32, shuffle=True)\n",
    "test_loader = DataLoader(test_dataset, batch_size=32, shuffle=False)\n",
    "\n",
    "criterion = nn.MSELoss()\n",
    "\n",
    "device = torch.device(\"cuda\" if torch.cuda.is_available() else \"cpu\")\n",
    "model.to(device)"
   ]
  },
  {
   "cell_type": "markdown",
   "id": "c7641b2e",
   "metadata": {
    "papermill": {
     "duration": 0.021944,
     "end_time": "2024-10-22T22:14:08.781742",
     "exception": false,
     "start_time": "2024-10-22T22:14:08.759798",
     "status": "completed"
    },
    "tags": []
   },
   "source": [
    "# Sparse Linear"
   ]
  },
  {
   "cell_type": "code",
   "execution_count": 4,
   "id": "33065a6e",
   "metadata": {
    "ExecuteTime": {
     "end_time": "2024-10-21T18:56:03.668173Z",
     "start_time": "2024-10-21T18:56:03.640172Z"
    },
    "execution": {
     "iopub.execute_input": "2024-10-22T22:14:08.810464Z",
     "iopub.status.busy": "2024-10-22T22:14:08.809968Z",
     "iopub.status.idle": "2024-10-22T22:14:08.822608Z",
     "shell.execute_reply": "2024-10-22T22:14:08.821356Z"
    },
    "papermill": {
     "duration": 0.026968,
     "end_time": "2024-10-22T22:14:08.825401",
     "exception": false,
     "start_time": "2024-10-22T22:14:08.798433",
     "status": "completed"
    },
    "tags": []
   },
   "outputs": [],
   "source": [
    "import torch\n",
    "from tqdm import tqdm\n",
    "import matplotlib.pyplot as plt\n",
    "\n",
    "\n",
    "class SparseLinear(nn.Module):\n",
    "    def __init__(self, in_features, out_features, bias=True):\n",
    "        super(SparseLinear, self).__init__()\n",
    "        self.in_features = in_features\n",
    "        self.out_features = out_features\n",
    "\n",
    "        self.weight = nn.Parameter(torch.randn(out_features, in_features).to_sparse())\n",
    "\n",
    "        if bias:\n",
    "            self.bias = nn.Parameter(torch.randn(out_features))\n",
    "        else:\n",
    "            self.register_parameter('bias', None)\n",
    "\n",
    "    def forward(self, input):\n",
    "        output = torch.sparse.mm(self.weight, input.t()).t()\n",
    "        if self.bias is not None:\n",
    "            output += self.bias\n",
    "        return output\n",
    "\n",
    "def convert_sparse_weights_to_dense(model):\n",
    "    for module in model.modules():\n",
    "        if isinstance(module, SparseLinear):\n",
    "            module.weight = nn.Parameter(module.weight.to_dense()) \n",
    "\n",
    "def convert_dense_weights_to_sparse(model):\n",
    "    for module in model.modules():\n",
    "        if isinstance(module, SparseLinear):\n",
    "            module.weight = nn.Parameter(module.weight.to_sparse()) \n"
   ]
  },
  {
   "cell_type": "markdown",
   "id": "b36284c9",
   "metadata": {
    "papermill": {
     "duration": 0.009742,
     "end_time": "2024-10-22T22:14:08.845851",
     "exception": false,
     "start_time": "2024-10-22T22:14:08.836109",
     "status": "completed"
    },
    "tags": []
   },
   "source": [
    "# Train"
   ]
  },
  {
   "cell_type": "code",
   "execution_count": 5,
   "id": "f70739d5",
   "metadata": {
    "execution": {
     "iopub.execute_input": "2024-10-22T22:14:08.868569Z",
     "iopub.status.busy": "2024-10-22T22:14:08.867577Z",
     "iopub.status.idle": "2024-10-22T22:14:08.875023Z",
     "shell.execute_reply": "2024-10-22T22:14:08.873866Z"
    },
    "papermill": {
     "duration": 0.021808,
     "end_time": "2024-10-22T22:14:08.877803",
     "exception": false,
     "start_time": "2024-10-22T22:14:08.855995",
     "status": "completed"
    },
    "tags": []
   },
   "outputs": [],
   "source": [
    "def valid_model(model, valid_loader, criterion):\n",
    "    model.eval()\n",
    "    mse = 0\n",
    "    with torch.no_grad():\n",
    "        for data in valid_loader:\n",
    "            x, y = data\n",
    "            x, y = x.to(device), y.to(device)\n",
    "            output = model(x).view(-1)\n",
    "            mse += criterion(output, y)\n",
    "    return mse / len(valid_loader)"
   ]
  },
  {
   "cell_type": "code",
   "execution_count": 6,
   "id": "43d703c2",
   "metadata": {
    "execution": {
     "iopub.execute_input": "2024-10-22T22:14:08.900641Z",
     "iopub.status.busy": "2024-10-22T22:14:08.900161Z",
     "iopub.status.idle": "2024-10-22T22:14:08.914526Z",
     "shell.execute_reply": "2024-10-22T22:14:08.912967Z"
    },
    "papermill": {
     "duration": 0.029203,
     "end_time": "2024-10-22T22:14:08.917294",
     "exception": false,
     "start_time": "2024-10-22T22:14:08.888091",
     "status": "completed"
    },
    "tags": []
   },
   "outputs": [],
   "source": [
    "def train_one_model(model, train_loader, valid_loader, epochs=10000, patience=10, min_delta=1e-4, criterion=torch.nn.L1Loss()):\n",
    "    optimizer = torch.optim.AdamW(model.parameters(), lr=4e-3)\n",
    "    best_loss = float('inf')\n",
    "    epochs_no_improve = 0\n",
    "    val_losses = []\n",
    "\n",
    "    for epoch in tqdm(range(epochs), desc=\"Training Progress\"):\n",
    "        model.train()\n",
    "\n",
    "        convert_sparse_weights_to_dense(model)\n",
    "\n",
    "        for data in train_loader:\n",
    "            x, y = data\n",
    "            x, y = x.to(device), y.to(device)\n",
    "            x = x.to_dense() if x.is_sparse else x\n",
    "            optimizer.zero_grad()\n",
    "            output = model(x)\n",
    "            loss = criterion(output.view(-1), y)\n",
    "            loss.backward()\n",
    "\n",
    "            optimizer.step()\n",
    "\n",
    "        convert_dense_weights_to_sparse(model)\n",
    "\n",
    "        val_loss = valid_model(model, valid_loader, criterion)\n",
    "        val_losses.append(val_loss.item())\n",
    "\n",
    "        if val_loss < best_loss - min_delta:\n",
    "            best_loss = val_loss\n",
    "            epochs_no_improve = 0\n",
    "        else:\n",
    "            epochs_no_improve += 1\n",
    "\n",
    "        if epochs_no_improve >= patience:\n",
    "            print(\"Early stopping triggered\")\n",
    "            break\n",
    "\n",
    "    plt.figure(figsize=(10, 5))\n",
    "    plt.plot(val_losses, label=\"Validation Loss\")\n",
    "    plt.axhline(y=sum(val_losses) / len(val_losses), color='r', linestyle='--', label=\"Average Loss\")\n",
    "    plt.xlabel(\"Epochs\")\n",
    "    plt.ylabel(\"Loss\")\n",
    "    plt.title(\"Validation Loss per Epoch\")\n",
    "    plt.legend()\n",
    "    plt.show()\n",
    "\n",
    "    return best_loss"
   ]
  },
  {
   "cell_type": "code",
   "execution_count": 7,
   "id": "ee582787",
   "metadata": {
    "ExecuteTime": {
     "end_time": "2024-10-21T18:56:09.241491Z",
     "start_time": "2024-10-21T18:56:04.061282Z"
    },
    "execution": {
     "iopub.execute_input": "2024-10-22T22:14:08.939491Z",
     "iopub.status.busy": "2024-10-22T22:14:08.938963Z",
     "iopub.status.idle": "2024-10-22T22:14:19.373463Z",
     "shell.execute_reply": "2024-10-22T22:14:19.372108Z"
    },
    "papermill": {
     "duration": 10.448643,
     "end_time": "2024-10-22T22:14:19.376074",
     "exception": false,
     "start_time": "2024-10-22T22:14:08.927431",
     "status": "completed"
    },
    "tags": []
   },
   "outputs": [
    {
     "name": "stderr",
     "output_type": "stream",
     "text": [
      "Training Progress:   2%|▏         | 153/10000 [00:07<08:34, 19.15it/s]\n"
     ]
    },
    {
     "name": "stdout",
     "output_type": "stream",
     "text": [
      "Early stopping triggered\n"
     ]
    },
    {
     "data": {
      "image/png": "[encoded data removed]",
      "text/plain": [
       "<Figure size 1000x500 with 1 Axes>"
      ]
     },
     "metadata": {},
     "output_type": "display_data"
    },
    {
     "data": {
      "text/plain": [
       "tensor(1.3617)"
      ]
     },
     "execution_count": 7,
     "metadata": {},
     "output_type": "execute_result"
    }
   ],
   "source": [
    "train_one_model(model, train_loader, test_loader, criterion=criterion)"
   ]
  },
  {
   "cell_type": "code",
   "execution_count": 8,
   "id": "8f08dfa6",
   "metadata": {
    "ExecuteTime": {
     "end_time": "2024-10-21T18:56:09.489362Z",
     "start_time": "2024-10-21T18:56:09.471845Z"
    },
    "execution": {
     "iopub.execute_input": "2024-10-22T22:14:19.412624Z",
     "iopub.status.busy": "2024-10-22T22:14:19.412041Z",
     "iopub.status.idle": "2024-10-22T22:14:19.424858Z",
     "shell.execute_reply": "2024-10-22T22:14:19.423693Z"
    },
    "papermill": {
     "duration": 0.033849,
     "end_time": "2024-10-22T22:14:19.427483",
     "exception": false,
     "start_time": "2024-10-22T22:14:19.393634",
     "status": "completed"
    },
    "tags": []
   },
   "outputs": [
    {
     "data": {
      "text/plain": [
       "tensor(1.9742)"
      ]
     },
     "execution_count": 8,
     "metadata": {},
     "output_type": "execute_result"
    }
   ],
   "source": [
    "\n",
    "valid_model(model, test_loader, criterion)\n"
   ]
  },
  {
   "cell_type": "markdown",
   "id": "780ad652",
   "metadata": {
    "papermill": {
     "duration": 0.016765,
     "end_time": "2024-10-22T22:14:19.461574",
     "exception": false,
     "start_time": "2024-10-22T22:14:19.444809",
     "status": "completed"
    },
    "tags": []
   },
   "source": [
    "# Pruning"
   ]
  },
  {
   "cell_type": "code",
   "execution_count": 9,
   "id": "f60cb7a1",
   "metadata": {
    "ExecuteTime": {
     "end_time": "2024-10-21T18:56:11.180515Z",
     "start_time": "2024-10-21T18:56:11.156504Z"
    },
    "execution": {
     "iopub.execute_input": "2024-10-22T22:14:19.497560Z",
     "iopub.status.busy": "2024-10-22T22:14:19.497086Z",
     "iopub.status.idle": "2024-10-22T22:14:19.508504Z",
     "shell.execute_reply": "2024-10-22T22:14:19.507229Z"
    },
    "papermill": {
     "duration": 0.032527,
     "end_time": "2024-10-22T22:14:19.511072",
     "exception": false,
     "start_time": "2024-10-22T22:14:19.478545",
     "status": "completed"
    },
    "tags": []
   },
   "outputs": [],
   "source": [
    "@torch.enable_grad()\n",
    "def evaluate_sensitivity(model, dataloader, loss_function, eps=1e-10):\n",
    "    sensitivity = {}\n",
    "    model.to(device)\n",
    "    for data, target in dataloader:\n",
    "        data, target = data.to(device), target.to(device)\n",
    "\n",
    "        model.zero_grad()\n",
    "        output = model(data).squeeze(dim=-1)\n",
    "        loss = loss_function(output, target)\n",
    "        loss.backward()\n",
    "\n",
    "        for param_name, param in model.named_parameters():\n",
    "            if \"weight\" in param_name:\n",
    "                if param_name in sensitivity:\n",
    "                    sensitivity[param_name] += param.grad.abs()\n",
    "                else:\n",
    "                    sensitivity[param_name] = param.grad.abs()\n",
    "\n",
    "    for k, sens_tensor in sensitivity.items():\n",
    "        sensitivity[k] = sens_tensor / torch.max(sens_tensor.max(), torch.tensor(eps, device=sens_tensor.device))\n",
    "\n",
    "    return sensitivity\n"
   ]
  },
  {
   "cell_type": "code",
   "execution_count": 10,
   "id": "781c7624",
   "metadata": {
    "ExecuteTime": {
     "end_time": "2024-10-21T18:56:11.949305Z",
     "start_time": "2024-10-21T18:56:11.930259Z"
    },
    "execution": {
     "iopub.execute_input": "2024-10-22T22:14:19.547297Z",
     "iopub.status.busy": "2024-10-22T22:14:19.546800Z",
     "iopub.status.idle": "2024-10-22T22:14:19.565695Z",
     "shell.execute_reply": "2024-10-22T22:14:19.564467Z"
    },
    "papermill": {
     "duration": 0.040085,
     "end_time": "2024-10-22T22:14:19.568278",
     "exception": false,
     "start_time": "2024-10-22T22:14:19.528193",
     "status": "completed"
    },
    "tags": []
   },
   "outputs": [],
   "source": [
    "def do_pruning(model, pruning_type=\"Random\", **kwargs):\n",
    "    prune_model = deepcopy(model)\n",
    "\n",
    "    amount = kwargs.get('amount', 0.3)\n",
    "    logs = kwargs.get('logs', False)\n",
    "    sensitivity = kwargs.get('sensitivity', {})\n",
    "    counter = list(sensitivity.keys())\n",
    "\n",
    "    def apply_l1_pruning(module):\n",
    "        if isinstance(module, nn.Linear):\n",
    "            prune.l1_unstructured(module, name='weight', amount=amount)\n",
    "            if logs:\n",
    "                print(f\"Применен L1 прунинг к слою: {module}\")\n",
    "                print(f\"Маска:\\n{module.weight_mask}\\n\")\n",
    "\n",
    "    def apply_random_pruning(module):\n",
    "        if isinstance(module, nn.Linear):\n",
    "            prune.random_unstructured(module, name='weight', amount=amount)\n",
    "            if logs:\n",
    "                print(f\"Применен Random прунинг к слою: {module}\")\n",
    "                print(f\"Маска:\\n{module.weight_mask}\\n\")\n",
    "\n",
    "    def remove_pruning(module):\n",
    "        if isinstance(module, nn.Linear) and hasattr(module, 'weight_mask'):\n",
    "            prune.remove(module, 'weight')\n",
    "            if logs:\n",
    "                print(f\"Удалена маска прунинга в слое: {module}\")\n",
    "\n",
    "    def zero_weights_by_mask(module):\n",
    "        if isinstance(module, nn.Linear) and hasattr(module, 'weight_mask'):\n",
    "            with torch.no_grad():\n",
    "                module.weight.data *= module.weight_mask\n",
    "                if logs:\n",
    "                    print(f\"Обнулены веса по маске в слое: {module}\")\n",
    "                    print(f\"Текущие веса:\\n{module.weight.data}\\n\")\n",
    "\n",
    "    def apply_sensitivity_pruning(module):\n",
    "        nonlocal counter\n",
    "\n",
    "        if isinstance(module, nn.Linear):\n",
    "            param_name = counter.pop(0)\n",
    "            if param_name in sensitivity:\n",
    "                sens_tensor = sensitivity[param_name]\n",
    "\n",
    "                flat_weights = module.weight.view(-1)\n",
    "                flat_sensitivity = sens_tensor.view(-1)\n",
    "\n",
    "                num_params_to_prune = int(amount * flat_sensitivity.numel())\n",
    "                _, indices = torch.topk(flat_sensitivity, k=num_params_to_prune, largest=False)\n",
    "\n",
    "                mask = torch.ones_like(flat_weights)\n",
    "                mask[indices] = 0\n",
    "\n",
    "                prune.custom_from_mask(module, name='weight', mask=mask.view_as(module.weight))\n",
    "\n",
    "                if logs:\n",
    "                    print(f\"Применен Sensitivity-based прунинг к слою: {module}\")\n",
    "                    print(f\"Маска:\\n{mask.view_as(module.weight)}\\n\")\n",
    "\n",
    "    pruning_funcs = {\n",
    "        \"L1\": apply_l1_pruning,\n",
    "        \"Random\": apply_random_pruning,\n",
    "        \"Remove\": remove_pruning,\n",
    "        \"SensitivityBased\": apply_sensitivity_pruning\n",
    "    }\n",
    "    apply_func = pruning_funcs.get(pruning_type)\n",
    "\n",
    "    if apply_func:\n",
    "        prune_model.apply(apply_func)\n",
    "        prune_model.apply(zero_weights_by_mask)\n",
    "        prune_model.apply(remove_pruning)\n",
    "\n",
    "    return prune_model\n"
   ]
  },
  {
   "cell_type": "code",
   "execution_count": 11,
   "id": "5ed626d4",
   "metadata": {
    "ExecuteTime": {
     "end_time": "2024-10-21T18:56:12.541480Z",
     "start_time": "2024-10-21T18:56:12.478836Z"
    },
    "execution": {
     "iopub.execute_input": "2024-10-22T22:14:19.606044Z",
     "iopub.status.busy": "2024-10-22T22:14:19.605614Z",
     "iopub.status.idle": "2024-10-22T22:14:19.642618Z",
     "shell.execute_reply": "2024-10-22T22:14:19.641443Z"
    },
    "papermill": {
     "duration": 0.059983,
     "end_time": "2024-10-22T22:14:19.645549",
     "exception": false,
     "start_time": "2024-10-22T22:14:19.585566",
     "status": "completed"
    },
    "tags": []
   },
   "outputs": [
    {
     "data": {
      "text/plain": [
       "MyModel(\n",
       "  (model): Sequential(\n",
       "    (0): Linear(in_features=10, out_features=20, bias=True)\n",
       "    (1): ReLU()\n",
       "    (2): Linear(in_features=20, out_features=40, bias=True)\n",
       "    (3): ReLU()\n",
       "    (4): Linear(in_features=40, out_features=20, bias=True)\n",
       "    (5): ReLU()\n",
       "    (6): Linear(in_features=20, out_features=1, bias=True)\n",
       "  )\n",
       ")"
      ]
     },
     "execution_count": 11,
     "metadata": {},
     "output_type": "execute_result"
    }
   ],
   "source": [
    "sensitivity = evaluate_sensitivity(model, test_loader, criterion)\n",
    "pruned_model = do_pruning(model, pruning_type=\"SensitivityBased\", sensitivity=sensitivity, amount=0.2, logs=False)\n",
    "pruned_model.to(device)"
   ]
  },
  {
   "cell_type": "code",
   "execution_count": 12,
   "id": "b7c9fe7a",
   "metadata": {
    "ExecuteTime": {
     "end_time": "2024-10-21T18:56:12.930428Z",
     "start_time": "2024-10-21T18:56:12.899391Z"
    },
    "execution": {
     "iopub.execute_input": "2024-10-22T22:14:19.681954Z",
     "iopub.status.busy": "2024-10-22T22:14:19.681489Z",
     "iopub.status.idle": "2024-10-22T22:14:19.686891Z",
     "shell.execute_reply": "2024-10-22T22:14:19.685714Z"
    },
    "papermill": {
     "duration": 0.026599,
     "end_time": "2024-10-22T22:14:19.689571",
     "exception": false,
     "start_time": "2024-10-22T22:14:19.662972",
     "status": "completed"
    },
    "tags": []
   },
   "outputs": [],
   "source": [
    "# list(model.parameters())"
   ]
  },
  {
   "cell_type": "code",
   "execution_count": 13,
   "id": "11bec806",
   "metadata": {
    "ExecuteTime": {
     "end_time": "2024-10-21T18:56:13.600133Z",
     "start_time": "2024-10-21T18:56:13.557141Z"
    },
    "execution": {
     "iopub.execute_input": "2024-10-22T22:14:19.726286Z",
     "iopub.status.busy": "2024-10-22T22:14:19.725812Z",
     "iopub.status.idle": "2024-10-22T22:14:19.731243Z",
     "shell.execute_reply": "2024-10-22T22:14:19.730059Z"
    },
    "papermill": {
     "duration": 0.026889,
     "end_time": "2024-10-22T22:14:19.733866",
     "exception": false,
     "start_time": "2024-10-22T22:14:19.706977",
     "status": "completed"
    },
    "tags": []
   },
   "outputs": [],
   "source": [
    "# list(pruned_model.parameters())"
   ]
  },
  {
   "cell_type": "code",
   "execution_count": 14,
   "id": "a33a28aa",
   "metadata": {
    "ExecuteTime": {
     "end_time": "2024-10-21T18:56:14.067108Z",
     "start_time": "2024-10-21T18:56:14.045111Z"
    },
    "execution": {
     "iopub.execute_input": "2024-10-22T22:14:19.770868Z",
     "iopub.status.busy": "2024-10-22T22:14:19.770431Z",
     "iopub.status.idle": "2024-10-22T22:14:19.783739Z",
     "shell.execute_reply": "2024-10-22T22:14:19.782557Z"
    },
    "papermill": {
     "duration": 0.034831,
     "end_time": "2024-10-22T22:14:19.786633",
     "exception": false,
     "start_time": "2024-10-22T22:14:19.751802",
     "status": "completed"
    },
    "tags": []
   },
   "outputs": [
    {
     "data": {
      "text/plain": [
       "tensor(931.7150)"
      ]
     },
     "execution_count": 14,
     "metadata": {},
     "output_type": "execute_result"
    }
   ],
   "source": [
    "valid_model(pruned_model, test_loader, criterion)"
   ]
  },
  {
   "cell_type": "markdown",
   "id": "e5f59f30",
   "metadata": {
    "papermill": {
     "duration": 0.017248,
     "end_time": "2024-10-22T22:14:19.821550",
     "exception": false,
     "start_time": "2024-10-22T22:14:19.804302",
     "status": "completed"
    },
    "tags": []
   },
   "source": [
    "# Sparse"
   ]
  },
  {
   "cell_type": "code",
   "execution_count": 15,
   "id": "180b4d80",
   "metadata": {
    "ExecuteTime": {
     "end_time": "2024-10-21T18:56:15.160869Z",
     "start_time": "2024-10-21T18:56:15.150061Z"
    },
    "execution": {
     "iopub.execute_input": "2024-10-22T22:14:19.859115Z",
     "iopub.status.busy": "2024-10-22T22:14:19.858678Z",
     "iopub.status.idle": "2024-10-22T22:14:19.868384Z",
     "shell.execute_reply": "2024-10-22T22:14:19.867208Z"
    },
    "papermill": {
     "duration": 0.031933,
     "end_time": "2024-10-22T22:14:19.871125",
     "exception": false,
     "start_time": "2024-10-22T22:14:19.839192",
     "status": "completed"
    },
    "tags": []
   },
   "outputs": [],
   "source": [
    "def convert_to_sparse(model):\n",
    "\n",
    "    def convert_layer(layer):\n",
    "        if isinstance(layer, nn.Linear):\n",
    "            sparse_layer = SparseLinear(layer.in_features, layer.out_features, bias=layer.bias is not None)\n",
    "            sparse_layer.weight = nn.Parameter(layer.weight.to_sparse())\n",
    "            if layer.bias is not None:\n",
    "                sparse_layer.bias = nn.Parameter(layer.bias)\n",
    "            return sparse_layer\n",
    "        else:\n",
    "            return layer\n",
    "\n",
    "    for name, module in model.named_children():\n",
    "        if isinstance(module, nn.Sequential):\n",
    "            for idx, layer in enumerate(module):\n",
    "                module[idx] = convert_layer(layer)\n",
    "        else:\n",
    "            setattr(model, name, convert_layer(module))\n",
    "\n",
    "    return model"
   ]
  },
  {
   "cell_type": "code",
   "execution_count": 16,
   "id": "14f5e957",
   "metadata": {
    "ExecuteTime": {
     "end_time": "2024-10-21T18:56:15.662366Z",
     "start_time": "2024-10-21T18:56:15.653369Z"
    },
    "execution": {
     "iopub.execute_input": "2024-10-22T22:14:19.908376Z",
     "iopub.status.busy": "2024-10-22T22:14:19.907925Z",
     "iopub.status.idle": "2024-10-22T22:14:19.923920Z",
     "shell.execute_reply": "2024-10-22T22:14:19.922646Z"
    },
    "papermill": {
     "duration": 0.038222,
     "end_time": "2024-10-22T22:14:19.926891",
     "exception": false,
     "start_time": "2024-10-22T22:14:19.888669",
     "status": "completed"
    },
    "tags": []
   },
   "outputs": [],
   "source": [
    "sparse_model = convert_to_sparse(pruned_model)"
   ]
  },
  {
   "cell_type": "code",
   "execution_count": 17,
   "id": "4c22343d",
   "metadata": {
    "ExecuteTime": {
     "end_time": "2024-10-21T18:56:16.157518Z",
     "start_time": "2024-10-21T18:56:16.133522Z"
    },
    "execution": {
     "iopub.execute_input": "2024-10-22T22:14:19.964294Z",
     "iopub.status.busy": "2024-10-22T22:14:19.963831Z",
     "iopub.status.idle": "2024-10-22T22:14:19.968904Z",
     "shell.execute_reply": "2024-10-22T22:14:19.967661Z"
    },
    "papermill": {
     "duration": 0.026622,
     "end_time": "2024-10-22T22:14:19.971383",
     "exception": false,
     "start_time": "2024-10-22T22:14:19.944761",
     "status": "completed"
    },
    "tags": []
   },
   "outputs": [],
   "source": [
    "# list(sparse_model.parameters())"
   ]
  },
  {
   "cell_type": "code",
   "execution_count": 18,
   "id": "486f6baf",
   "metadata": {
    "ExecuteTime": {
     "end_time": "2024-10-21T18:56:16.813068Z",
     "start_time": "2024-10-21T18:56:16.796078Z"
    },
    "execution": {
     "iopub.execute_input": "2024-10-22T22:14:20.009383Z",
     "iopub.status.busy": "2024-10-22T22:14:20.008583Z",
     "iopub.status.idle": "2024-10-22T22:14:20.028364Z",
     "shell.execute_reply": "2024-10-22T22:14:20.027277Z"
    },
    "papermill": {
     "duration": 0.042135,
     "end_time": "2024-10-22T22:14:20.030983",
     "exception": false,
     "start_time": "2024-10-22T22:14:19.988848",
     "status": "completed"
    },
    "tags": []
   },
   "outputs": [
    {
     "data": {
      "text/plain": [
       "tensor(931.7150)"
      ]
     },
     "execution_count": 18,
     "metadata": {},
     "output_type": "execute_result"
    }
   ],
   "source": [
    "valid_model(sparse_model, test_loader, criterion)"
   ]
  },
  {
   "cell_type": "markdown",
   "id": "c6dbd7ca",
   "metadata": {
    "papermill": {
     "duration": 0.018626,
     "end_time": "2024-10-22T22:14:20.067117",
     "exception": false,
     "start_time": "2024-10-22T22:14:20.048491",
     "status": "completed"
    },
    "tags": []
   },
   "source": [
    "# Train more"
   ]
  },
  {
   "cell_type": "code",
   "execution_count": 19,
   "id": "8dd88117",
   "metadata": {
    "ExecuteTime": {
     "end_time": "2024-10-21T18:56:26.574131Z",
     "start_time": "2024-10-21T18:56:17.977857Z"
    },
    "execution": {
     "iopub.execute_input": "2024-10-22T22:14:20.104242Z",
     "iopub.status.busy": "2024-10-22T22:14:20.103822Z",
     "iopub.status.idle": "2024-10-22T22:14:38.081414Z",
     "shell.execute_reply": "2024-10-22T22:14:38.080304Z"
    },
    "papermill": {
     "duration": 17.999737,
     "end_time": "2024-10-22T22:14:38.084508",
     "exception": false,
     "start_time": "2024-10-22T22:14:20.084771",
     "status": "completed"
    },
    "tags": []
   },
   "outputs": [
    {
     "name": "stderr",
     "output_type": "stream",
     "text": [
      "Training Progress:   3%|▎         | 328/10000 [00:17<08:41, 18.56it/s]\n"
     ]
    },
    {
     "name": "stdout",
     "output_type": "stream",
     "text": [
      "Early stopping triggered\n"
     ]
    },
    {
     "data": {
      "image/png": "[encoded data removed]",
      "text/plain": [
       "<Figure size 1000x500 with 1 Axes>"
      ]
     },
     "metadata": {},
     "output_type": "display_data"
    },
    {
     "data": {
      "text/plain": [
       "tensor(18.3528)"
      ]
     },
     "execution_count": 19,
     "metadata": {},
     "output_type": "execute_result"
    }
   ],
   "source": [
    "train_one_model(sparse_model, train_loader, test_loader, criterion=criterion)"
   ]
  },
  {
   "cell_type": "code",
   "execution_count": 20,
   "id": "2275a5c3",
   "metadata": {
    "ExecuteTime": {
     "end_time": "2024-10-21T18:56:26.870680Z",
     "start_time": "2024-10-21T18:56:26.845679Z"
    },
    "execution": {
     "iopub.execute_input": "2024-10-22T22:14:38.158553Z",
     "iopub.status.busy": "2024-10-22T22:14:38.157403Z",
     "iopub.status.idle": "2024-10-22T22:14:38.172554Z",
     "shell.execute_reply": "2024-10-22T22:14:38.171263Z"
    },
    "papermill": {
     "duration": 0.054911,
     "end_time": "2024-10-22T22:14:38.175289",
     "exception": false,
     "start_time": "2024-10-22T22:14:38.120378",
     "status": "completed"
    },
    "tags": []
   },
   "outputs": [
    {
     "data": {
      "text/plain": [
       "tensor(18.5178)"
      ]
     },
     "execution_count": 20,
     "metadata": {},
     "output_type": "execute_result"
    }
   ],
   "source": [
    "valid_model(sparse_model, test_loader, criterion)"
   ]
  },
  {
   "cell_type": "code",
   "execution_count": 21,
   "id": "2b6be03e",
   "metadata": {
    "ExecuteTime": {
     "end_time": "2024-10-21T18:56:27.030683Z",
     "start_time": "2024-10-21T18:56:26.998682Z"
    },
    "execution": {
     "iopub.execute_input": "2024-10-22T22:14:38.245502Z",
     "iopub.status.busy": "2024-10-22T22:14:38.245028Z",
     "iopub.status.idle": "2024-10-22T22:14:38.250339Z",
     "shell.execute_reply": "2024-10-22T22:14:38.248933Z"
    },
    "papermill": {
     "duration": 0.043853,
     "end_time": "2024-10-22T22:14:38.253018",
     "exception": false,
     "start_time": "2024-10-22T22:14:38.209165",
     "status": "completed"
    },
    "tags": []
   },
   "outputs": [],
   "source": [
    "# list(sparse_model.parameters())"
   ]
  },
  {
   "cell_type": "code",
   "execution_count": null,
   "id": "6a2a7fab",
   "metadata": {
    "ExecuteTime": {
     "end_time": "2024-10-20T21:38:15.523578Z",
     "start_time": "2024-10-20T21:38:15.506914Z"
    },
    "papermill": {
     "duration": 0.034353,
     "end_time": "2024-10-22T22:14:38.321772",
     "exception": false,
     "start_time": "2024-10-22T22:14:38.287419",
     "status": "completed"
    },
    "tags": []
   },
   "outputs": [],
   "source": [
    "    "
   ]
  }
 ],
 "metadata": {
  "kaggle": {
   "accelerator": "none",
   "dataSources": [],
   "dockerImageVersionId": 30786,
   "isGpuEnabled": false,
   "isInternetEnabled": true,
   "language": "python",
   "sourceType": "notebook"
  },
  "kernelspec": {
   "display_name": "Python 3",
   "language": "python",
   "name": "python3"
  },
  "language_info": {
   "codemirror_mode": {
    "name": "ipython",
    "version": 3
   },
   "file_extension": ".py",
   "mimetype": "text/x-python",
   "name": "python",
   "nbconvert_exporter": "python",
   "pygments_lexer": "ipython3",
   "version": "3.10.14"
  },
  "papermill": {
   "default_parameters": {},
   "duration": 39.996619,
   "end_time": "2024-10-22T22:14:39.681484",
   "environment_variables": {},
   "exception": null,
   "input_path": "__notebook__.ipynb",
   "output_path": "__notebook__.ipynb",
   "parameters": {},
   "start_time": "2024-10-22T22:13:59.684865",
   "version": "2.6.0"
  }
 },
 "nbformat": 4,
 "nbformat_minor": 5
}
