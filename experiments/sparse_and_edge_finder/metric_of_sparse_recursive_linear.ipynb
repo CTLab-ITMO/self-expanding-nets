{
 "cells": [
  {
   "cell_type": "code",
   "metadata": {
    "id": "Mzjlc4iqr3Zd",
    "ExecuteTime": {
     "end_time": "2024-11-30T15:14:39.530602Z",
     "start_time": "2024-11-30T15:14:36.386974Z"
    }
   },
   "source": [
    "from copy import deepcopy\n",
    "\n",
    "import torch\n",
    "from torch import nn"
   ],
   "outputs": [],
   "execution_count": 1
  },
  {
   "cell_type": "code",
   "metadata": {
    "id": "uDDsX_N_sCDJ",
    "ExecuteTime": {
     "end_time": "2024-11-30T15:14:39.558493Z",
     "start_time": "2024-11-30T15:14:39.540658Z"
    }
   },
   "source": [
    "torch.manual_seed(0);"
   ],
   "outputs": [],
   "execution_count": 2
  },
  {
   "metadata": {
    "ExecuteTime": {
     "end_time": "2024-11-30T15:14:39.786785Z",
     "start_time": "2024-11-30T15:14:39.778639Z"
    }
   },
   "cell_type": "code",
   "source": "device = torch.device(\"cuda:0\" if torch.cuda.is_available() else \"cpu\")",
   "outputs": [],
   "execution_count": 3
  },
  {
   "cell_type": "code",
   "metadata": {
    "id": "Epu4YDgwsD7B",
    "ExecuteTime": {
     "end_time": "2024-11-30T15:14:39.825452Z",
     "start_time": "2024-11-30T15:14:39.809928Z"
    }
   },
   "source": "from senmodel.model.utils import *",
   "outputs": [],
   "execution_count": 4
  },
  {
   "cell_type": "code",
   "metadata": {
    "id": "GDTwjoofyEff",
    "ExecuteTime": {
     "end_time": "2024-11-30T15:14:39.847Z",
     "start_time": "2024-11-30T15:14:39.835558Z"
    }
   },
   "source": [
    "class SimpleFCN(nn.Module):\n",
    "    def __init__(self, input_size=8):\n",
    "        super(SimpleFCN, self).__init__()\n",
    "        self.fc1 = nn.Linear(input_size, 4)\n",
    "        self.fc2 = nn.Linear(4, 4)\n",
    "        self.fc3 = nn.Linear(2, 1)\n",
    "        self.relu = nn.ReLU()\n",
    "\n",
    "    def forward(self, x):\n",
    "        x = self.relu(self.fc1(x))\n",
    "        x = self.relu(self.fc2(x))\n",
    "        x = self.fc3(x)\n",
    "        return x\n",
    "\n",
    "\n",
    "model = SimpleFCN()"
   ],
   "outputs": [],
   "execution_count": 5
  },
  {
   "cell_type": "code",
   "metadata": {
    "id": "ezwIVpFqyJcZ",
    "ExecuteTime": {
     "end_time": "2024-11-30T15:14:39.869012Z",
     "start_time": "2024-11-30T15:14:39.858936Z"
    }
   },
   "source": [
    "sparse_model = convert_dense_to_sparse_network(model)"
   ],
   "outputs": [],
   "execution_count": 6
  },
  {
   "cell_type": "code",
   "metadata": {
    "colab": {
     "base_uri": "https://localhost:8080/"
    },
    "id": "pf_MeJiX66SY",
    "outputId": "1262dce2-595f-4244-90ff-6e9725aa498c",
    "ExecuteTime": {
     "end_time": "2024-11-30T15:14:39.902613Z",
     "start_time": "2024-11-30T15:14:39.880154Z"
    }
   },
   "source": [
    "linear = nn.Linear(8, 1)\n",
    "\n",
    "sparse_weight = dense_to_sparse(linear.weight.data)\n",
    "sparse_bias = dense_to_sparse(linear.bias.data)\n",
    "just_sparse_linear = ExpandingLinear(sparse_weight, sparse_bias)\n",
    "\n",
    "sparse_linear = deepcopy(just_sparse_linear)\n",
    "\n",
    "print(sparse_linear.weight_indices, \"\\n\")\n",
    "sparse_linear.replace(0, 6, 0)\n",
    "sparse_linear.replace(0, 7, 0)\n",
    "print(sparse_linear.weight_indices)\n",
    "print(sparse_linear.embed_linears[0].weight_indices, \"\\n\")\n",
    "\n",
    "sparse_linear.replace(0, 8, 1)\n",
    "sparse_linear.replace(0, 9, 1)\n",
    "print(sparse_linear.weight_indices)\n",
    "print(sparse_linear.embed_linears[1].weight_indices, \"\\n\")\n",
    "\n",
    "sparse_linear.replace(0, 11, 2)\n",
    "print(sparse_linear.weight_indices)\n",
    "print(sparse_linear.embed_linears[2].weight_indices, \"\\n\")\n",
    "\n"
   ],
   "outputs": [
    {
     "name": "stdout",
     "output_type": "stream",
     "text": [
      "tensor([[0, 0, 0, 0, 0, 0, 0, 0],\n",
      "        [0, 1, 2, 3, 4, 5, 6, 7]]) \n",
      "\n",
      "tensor([[0, 0, 0, 0, 0, 0, 0, 0],\n",
      "        [0, 1, 2, 3, 4, 5, 8, 9]])\n",
      "tensor([[0, 1],\n",
      "        [6, 7]]) \n",
      "\n",
      "tensor([[ 0,  0,  0,  0,  0,  0,  0,  0],\n",
      "        [ 0,  1,  2,  3,  4,  5, 10, 11]])\n",
      "tensor([[0, 1],\n",
      "        [8, 9]]) \n",
      "\n",
      "tensor([[ 0,  0,  0,  0,  0,  0,  0,  0],\n",
      "        [ 0,  1,  2,  3,  4,  5, 10, 11]])\n",
      "tensor([[ 0],\n",
      "        [11]]) \n",
      "\n"
     ]
    }
   ],
   "execution_count": 7
  },
  {
   "cell_type": "code",
   "metadata": {
    "ExecuteTime": {
     "end_time": "2024-11-30T15:14:39.929060Z",
     "start_time": "2024-11-30T15:14:39.919462Z"
    }
   },
   "source": "from senmodel.metrics.nonlinearity_metrics import *\n",
   "outputs": [],
   "execution_count": 8
  },
  {
   "cell_type": "code",
   "metadata": {
    "ExecuteTime": {
     "end_time": "2024-11-30T15:14:39.951843Z",
     "start_time": "2024-11-30T15:14:39.941641Z"
    }
   },
   "source": [
    "criterion = nn.MSELoss()\n",
    "\n",
    "metrics = [\n",
    "    GradientMeanEdgeMetric(criterion),\n",
    "    PerturbationSensitivityEdgeMetric(criterion),\n",
    "]"
   ],
   "outputs": [],
   "execution_count": 9
  },
  {
   "cell_type": "code",
   "metadata": {
    "ExecuteTime": {
     "end_time": "2024-11-30T15:14:41.531219Z",
     "start_time": "2024-11-30T15:14:39.971014Z"
    }
   },
   "source": [
    "from torch.utils.data import DataLoader\n",
    "from sklearn.model_selection import train_test_split\n",
    "from sklearn.datasets import make_regression\n",
    "\n",
    "X, y = make_regression(n_samples=1000, n_features=8, n_informative=8, random_state=42)\n",
    "X = torch.from_numpy(X).float()\n",
    "y = torch.from_numpy(y).float()\n",
    "\n",
    "dataset = list(zip(X, y))\n",
    "train_dataset, test_dataset = train_test_split(dataset, test_size=0.2, random_state=42)\n",
    "train_loader = DataLoader(train_dataset, batch_size=32, shuffle=True)\n",
    "test_loader = DataLoader(test_dataset, batch_size=32, shuffle=False)"
   ],
   "outputs": [],
   "execution_count": 10
  },
  {
   "cell_type": "code",
   "metadata": {
    "ExecuteTime": {
     "end_time": "2024-11-30T15:14:41.598071Z",
     "start_time": "2024-11-30T15:14:41.584202Z"
    }
   },
   "source": [
    "\n",
    "from senmodel.metrics.edge_finder import *\n",
    "ef = EdgeFinder(metrics[0], test_loader, device=device)"
   ],
   "outputs": [],
   "execution_count": 11
  },
  {
   "cell_type": "code",
   "metadata": {
    "ExecuteTime": {
     "end_time": "2024-11-30T15:14:41.856837Z",
     "start_time": "2024-11-30T15:14:41.779644Z"
    }
   },
   "source": [
    "\n",
    "\n",
    "print(\"values:\", ef.calculate_edge_metric_for_dataloader(sparse_linear))\n",
    "chosen_edges = ef.choose_edges_top_k(sparse_linear, 4)\n",
    "print(\"choose:\", chosen_edges)\n",
    "\n",
    "chosen_edges = ef.choose_edges_top_percent(sparse_linear, 0.5)\n",
    "print(\"choose:\", chosen_edges)\n",
    "\n",
    "# chosen_edges = ef.choose_edges_threshold(sparse_linear, 30)\n",
    "# print(\"choose:\", chosen_edges)"
   ],
   "outputs": [
    {
     "name": "stdout",
     "output_type": "stream",
     "text": [
      "values: tensor([212.2146,  97.8833,  80.0896, 174.4840,  73.9763,  52.1134,   3.2056,\n",
      "         17.0417])\n",
      "choose: tensor([[0, 0, 0, 0],\n",
      "        [0, 3, 1, 2]])\n",
      "choose: tensor([[0, 0, 0, 0],\n",
      "        [0, 3, 1, 2]])\n"
     ]
    }
   ],
   "execution_count": 12
  },
  {
   "metadata": {
    "ExecuteTime": {
     "end_time": "2024-11-30T15:14:41.878538Z",
     "start_time": "2024-11-30T15:14:41.861299Z"
    }
   },
   "cell_type": "code",
   "source": "sparse_linear.weight_indices",
   "outputs": [
    {
     "data": {
      "text/plain": [
       "tensor([[ 0,  0,  0,  0,  0,  0,  0,  0],\n",
       "        [ 0,  1,  2,  3,  4,  5, 10, 11]])"
      ]
     },
     "execution_count": 13,
     "metadata": {},
     "output_type": "execute_result"
    }
   ],
   "execution_count": 13
  },
  {
   "cell_type": "code",
   "metadata": {
    "ExecuteTime": {
     "end_time": "2024-11-30T15:14:41.990840Z",
     "start_time": "2024-11-30T15:14:41.982273Z"
    }
   },
   "source": [
    "child, parents = chosen_edges\n",
    "for c, p in zip(child, parents):\n",
    "    sparse_linear.replace(c, p, 3)\n",
    "# sparse_linear.replace_many(*chosen_edges, 3)"
   ],
   "outputs": [],
   "execution_count": 14
  },
  {
   "cell_type": "code",
   "metadata": {
    "ExecuteTime": {
     "end_time": "2024-11-30T15:14:42.074399Z",
     "start_time": "2024-11-30T15:14:42.065499Z"
    }
   },
   "source": "sparse_linear.weight_indices",
   "outputs": [
    {
     "data": {
      "text/plain": [
       "tensor([[ 0,  0,  0,  0,  0,  0,  0,  0],\n",
       "        [ 4,  5, 10, 11, 12, 13, 14, 15]])"
      ]
     },
     "execution_count": 15,
     "metadata": {},
     "output_type": "execute_result"
    }
   ],
   "execution_count": 15
  },
  {
   "cell_type": "code",
   "metadata": {
    "ExecuteTime": {
     "end_time": "2024-11-30T15:14:42.296435Z",
     "start_time": "2024-11-30T15:14:42.244904Z"
    }
   },
   "source": [
    "print(\"values:\", ef.calculate_edge_metric_for_dataloader(sparse_linear))\n",
    "chosen_edges = ef.choose_edges_top_k(sparse_linear, 4)\n",
    "print(\"choose:\", chosen_edges)"
   ],
   "outputs": [
    {
     "name": "stdout",
     "output_type": "stream",
     "text": [
      "values: tensor([73.9296, 52.1238,  3.1972, 16.9788,  8.7253,  3.1354, 45.3553,  5.7398])\n",
      "choose: tensor([[ 0,  0,  0,  0],\n",
      "        [ 4,  5, 14, 11]])\n"
     ]
    }
   ],
   "execution_count": 16
  },
  {
   "cell_type": "code",
   "metadata": {
    "ExecuteTime": {
     "end_time": "2024-11-30T15:14:42.459180Z",
     "start_time": "2024-11-30T15:14:42.385145Z"
    }
   },
   "source": [
    "print(\"values:\", ef.calculate_edge_metric_for_dataloader(sparse_linear))\n",
    "chosen_edges = ef.choose_edges_top_k(sparse_linear, 4)\n",
    "print(\"choose:\", chosen_edges)"
   ],
   "outputs": [
    {
     "name": "stdout",
     "output_type": "stream",
     "text": [
      "values: tensor([73.9296, 52.1238,  3.1972, 16.9788,  8.7253,  3.1354, 45.3553,  5.7398])\n",
      "choose: tensor([[ 0,  0,  0,  0],\n",
      "        [ 4,  5, 14, 11]])\n"
     ]
    }
   ],
   "execution_count": 17
  },
  {
   "metadata": {
    "ExecuteTime": {
     "end_time": "2024-11-30T15:14:42.532759Z",
     "start_time": "2024-11-30T15:14:42.525789Z"
    }
   },
   "cell_type": "code",
   "source": [
    "# child, parents = chosen_edges\n",
    "# for c, p in zip(child, parents):\n",
    "#     sparse_linear.replace(c, p, 3)\n",
    "sparse_linear.replace_many(*chosen_edges, 3)"
   ],
   "outputs": [],
   "execution_count": 18
  },
  {
   "metadata": {
    "ExecuteTime": {
     "end_time": "2024-11-30T15:14:42.720723Z",
     "start_time": "2024-11-30T15:14:42.713665Z"
    }
   },
   "cell_type": "code",
   "source": "sparse_linear.weight_indices",
   "outputs": [
    {
     "data": {
      "text/plain": [
       "tensor([[ 0,  0,  0,  0,  0,  0,  0,  0],\n",
       "        [10, 12, 13, 15, 16, 17, 18, 19]])"
      ]
     },
     "execution_count": 19,
     "metadata": {},
     "output_type": "execute_result"
    }
   ],
   "execution_count": 19
  }
 ],
 "metadata": {
  "colab": {
   "provenance": []
  },
  "kernelspec": {
   "display_name": "data_science",
   "language": "python",
   "name": "python3"
  },
  "language_info": {
   "codemirror_mode": {
    "name": "ipython",
    "version": 3
   },
   "file_extension": ".py",
   "mimetype": "text/x-python",
   "name": "python",
   "nbconvert_exporter": "python",
   "pygments_lexer": "ipython3",
   "version": "3.9.18"
  }
 },
 "nbformat": 4,
 "nbformat_minor": 0
}
