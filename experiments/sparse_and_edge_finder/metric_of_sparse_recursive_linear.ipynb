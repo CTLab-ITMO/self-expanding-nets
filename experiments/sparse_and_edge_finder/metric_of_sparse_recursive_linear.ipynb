{
 "cells": [
  {
   "cell_type": "code",
   "metadata": {
    "id": "Mzjlc4iqr3Zd",
    "ExecuteTime": {
     "end_time": "2024-11-30T17:27:44.917947Z",
     "start_time": "2024-11-30T17:27:39.866559Z"
    }
   },
   "source": [
    "from copy import deepcopy\n",
    "\n",
    "import torch\n",
    "from torch import nn"
   ],
   "outputs": [],
   "execution_count": 1
  },
  {
   "cell_type": "code",
   "metadata": {
    "id": "uDDsX_N_sCDJ",
    "ExecuteTime": {
     "end_time": "2024-11-30T17:27:45.008063Z",
     "start_time": "2024-11-30T17:27:44.921957Z"
    }
   },
   "source": [
    "torch.manual_seed(0);"
   ],
   "outputs": [],
   "execution_count": 2
  },
  {
   "metadata": {
    "ExecuteTime": {
     "end_time": "2024-11-30T17:27:45.304403Z",
     "start_time": "2024-11-30T17:27:45.295614Z"
    }
   },
   "cell_type": "code",
   "source": "device = torch.device(\"cuda:0\" if torch.cuda.is_available() else \"cpu\")",
   "outputs": [],
   "execution_count": 3
  },
  {
   "cell_type": "code",
   "metadata": {
    "id": "Epu4YDgwsD7B",
    "ExecuteTime": {
     "end_time": "2024-11-30T17:27:45.329862Z",
     "start_time": "2024-11-30T17:27:45.320278Z"
    }
   },
   "source": "from senmodel.model.utils import *",
   "outputs": [],
   "execution_count": 4
  },
  {
   "cell_type": "code",
   "metadata": {
    "id": "GDTwjoofyEff",
    "ExecuteTime": {
     "end_time": "2024-11-30T17:27:45.353924Z",
     "start_time": "2024-11-30T17:27:45.336360Z"
    }
   },
   "source": [
    "class SimpleFCN(nn.Module):\n",
    "    def __init__(self, input_size=8):\n",
    "        super(SimpleFCN, self).__init__()\n",
    "        self.fc1 = nn.Linear(input_size, 4)\n",
    "        self.fc2 = nn.Linear(4, 4)\n",
    "        self.fc3 = nn.Linear(2, 1)\n",
    "        self.relu = nn.ReLU()\n",
    "\n",
    "    def forward(self, x):\n",
    "        x = self.relu(self.fc1(x))\n",
    "        x = self.relu(self.fc2(x))\n",
    "        x = self.fc3(x)\n",
    "        return x\n",
    "\n",
    "\n",
    "model = SimpleFCN()"
   ],
   "outputs": [],
   "execution_count": 5
  },
  {
   "cell_type": "code",
   "metadata": {
    "id": "ezwIVpFqyJcZ",
    "ExecuteTime": {
     "end_time": "2024-11-30T17:27:45.397452Z",
     "start_time": "2024-11-30T17:27:45.360042Z"
    }
   },
   "source": [
    "sparse_model = convert_dense_to_sparse_network(model)"
   ],
   "outputs": [],
   "execution_count": 6
  },
  {
   "cell_type": "code",
   "metadata": {
    "colab": {
     "base_uri": "https://localhost:8080/"
    },
    "id": "pf_MeJiX66SY",
    "outputId": "1262dce2-595f-4244-90ff-6e9725aa498c",
    "ExecuteTime": {
     "end_time": "2024-11-30T17:27:45.442416Z",
     "start_time": "2024-11-30T17:27:45.407093Z"
    }
   },
   "source": [
    "linear = nn.Linear(8, 1)\n",
    "\n",
    "sparse_weight = dense_to_sparse(linear.weight.data)\n",
    "sparse_bias = dense_to_sparse(linear.bias.data)\n",
    "just_sparse_linear = ExpandingLinear(sparse_weight, sparse_bias)\n",
    "\n",
    "sparse_linear = deepcopy(just_sparse_linear)\n",
    "\n",
    "print(sparse_linear.weight_indices, \"\\n\")\n",
    "sparse_linear.replace(0, 6, 0)\n",
    "sparse_linear.replace(0, 7, 0)\n",
    "print(sparse_linear.weight_indices)\n",
    "print(sparse_linear.embed_linears[0].weight_indices, \"\\n\")\n",
    "\n",
    "sparse_linear.replace(0, 8, 1)\n",
    "sparse_linear.replace(0, 9, 1)\n",
    "print(sparse_linear.weight_indices)\n",
    "print(sparse_linear.embed_linears[1].weight_indices, \"\\n\")\n",
    "\n",
    "sparse_linear.replace(0, 11, 2)\n",
    "print(sparse_linear.weight_indices)\n",
    "print(sparse_linear.embed_linears[2].weight_indices, \"\\n\")\n",
    "\n"
   ],
   "outputs": [
    {
     "name": "stdout",
     "output_type": "stream",
     "text": [
      "tensor([[0, 0, 0, 0, 0, 0, 0, 0],\n",
      "        [0, 1, 2, 3, 4, 5, 6, 7]]) \n",
      "\n",
      "tensor([[0, 0, 0, 0, 0, 0, 0, 0],\n",
      "        [0, 1, 2, 3, 4, 5, 8, 9]])\n",
      "tensor([[0, 1],\n",
      "        [6, 7]]) \n",
      "\n",
      "tensor([[ 0,  0,  0,  0,  0,  0,  0,  0],\n",
      "        [ 0,  1,  2,  3,  4,  5, 10, 11]])\n",
      "tensor([[0, 1],\n",
      "        [8, 9]]) \n",
      "\n",
      "tensor([[ 0,  0,  0,  0,  0,  0,  0,  0],\n",
      "        [ 0,  1,  2,  3,  4,  5, 10, 11]])\n",
      "tensor([[ 0],\n",
      "        [11]]) \n",
      "\n"
     ]
    }
   ],
   "execution_count": 7
  },
  {
   "cell_type": "code",
   "metadata": {
    "ExecuteTime": {
     "end_time": "2024-11-30T17:27:45.475590Z",
     "start_time": "2024-11-30T17:27:45.465721Z"
    }
   },
   "source": "from senmodel.metrics.nonlinearity_metrics import *\n",
   "outputs": [],
   "execution_count": 8
  },
  {
   "cell_type": "code",
   "metadata": {
    "ExecuteTime": {
     "end_time": "2024-11-30T17:27:45.500626Z",
     "start_time": "2024-11-30T17:27:45.496515Z"
    }
   },
   "source": [
    "criterion = nn.MSELoss()\n",
    "\n",
    "metrics = [\n",
    "    GradientMeanEdgeMetric(criterion),\n",
    "    PerturbationSensitivityEdgeMetric(criterion),\n",
    "]"
   ],
   "outputs": [],
   "execution_count": 9
  },
  {
   "cell_type": "code",
   "metadata": {
    "ExecuteTime": {
     "end_time": "2024-11-30T17:27:50.227274Z",
     "start_time": "2024-11-30T17:27:45.512030Z"
    }
   },
   "source": [
    "from torch.utils.data import DataLoader\n",
    "from sklearn.model_selection import train_test_split\n",
    "from sklearn.datasets import make_regression\n",
    "\n",
    "X, y = make_regression(n_samples=1000, n_features=8, n_informative=8, random_state=42)\n",
    "X = torch.from_numpy(X).float()\n",
    "y = torch.from_numpy(y).float()\n",
    "\n",
    "dataset = list(zip(X, y))\n",
    "train_dataset, test_dataset = train_test_split(dataset, test_size=0.2, random_state=42)\n",
    "train_loader = DataLoader(train_dataset, batch_size=32, shuffle=True)\n",
    "test_loader = DataLoader(test_dataset, batch_size=32, shuffle=False)"
   ],
   "outputs": [],
   "execution_count": 10
  },
  {
   "cell_type": "code",
   "metadata": {
    "ExecuteTime": {
     "end_time": "2024-11-30T17:27:50.271824Z",
     "start_time": "2024-11-30T17:27:50.262950Z"
    }
   },
   "source": [
    "\n",
    "from senmodel.metrics.edge_finder import *\n",
    "ef = EdgeFinder(metrics[0], test_loader, device=device)"
   ],
   "outputs": [],
   "execution_count": 11
  },
  {
   "cell_type": "code",
   "metadata": {
    "ExecuteTime": {
     "end_time": "2024-11-30T17:27:50.511279Z",
     "start_time": "2024-11-30T17:27:50.389453Z"
    }
   },
   "source": [
    "\n",
    "\n",
    "print(\"values:\", ef.calculate_edge_metric_for_dataloader(sparse_linear))\n",
    "chosen_edges = ef.choose_edges_top_k(sparse_linear, 4)\n",
    "print(\"choose:\", chosen_edges)\n",
    "\n",
    "chosen_edges = ef.choose_edges_top_percent(sparse_linear, 0.5)\n",
    "print(\"choose:\", chosen_edges)\n",
    "\n",
    "chosen_edges = ef.choose_edges_threshold(sparse_linear, 30)\n",
    "print(\"choose:\", chosen_edges)"
   ],
   "outputs": [
    {
     "name": "stdout",
     "output_type": "stream",
     "text": [
      "values: tensor([212.2146,  97.8833,  80.0896, 174.4840,  73.9763,  52.1134,   3.2056,\n",
      "         17.0417])\n",
      "choose: tensor([[0, 0, 0, 0],\n",
      "        [0, 3, 1, 2]])\n",
      "choose: tensor([[0, 0, 0, 0],\n",
      "        [0, 3, 1, 2]])\n",
      "choose: tensor([[0, 0, 0, 0, 0, 0],\n",
      "        [0, 1, 2, 3, 4, 5]])\n"
     ]
    }
   ],
   "execution_count": 12
  },
  {
   "metadata": {
    "ExecuteTime": {
     "end_time": "2024-11-30T17:27:50.563740Z",
     "start_time": "2024-11-30T17:27:50.555155Z"
    }
   },
   "cell_type": "code",
   "source": "sparse_linear.weight_indices",
   "outputs": [
    {
     "data": {
      "text/plain": [
       "tensor([[ 0,  0,  0,  0,  0,  0,  0,  0],\n",
       "        [ 0,  1,  2,  3,  4,  5, 10, 11]])"
      ]
     },
     "execution_count": 13,
     "metadata": {},
     "output_type": "execute_result"
    }
   ],
   "execution_count": 13
  },
  {
   "cell_type": "code",
   "metadata": {
    "ExecuteTime": {
     "end_time": "2024-11-30T17:27:50.612098Z",
     "start_time": "2024-11-30T17:27:50.602324Z"
    }
   },
   "source": [
    "child, parents = chosen_edges\n",
    "for c, p in zip(child, parents):\n",
    "    sparse_linear.replace(c, p, 3)\n",
    "# sparse_linear.replace_many(*chosen_edges, 3)"
   ],
   "outputs": [],
   "execution_count": 14
  },
  {
   "cell_type": "code",
   "metadata": {
    "ExecuteTime": {
     "end_time": "2024-11-30T17:27:50.679305Z",
     "start_time": "2024-11-30T17:27:50.670972Z"
    }
   },
   "source": "sparse_linear.weight_indices",
   "outputs": [
    {
     "data": {
      "text/plain": [
       "tensor([[ 0,  0,  0,  0,  0,  0,  0,  0],\n",
       "        [10, 11, 12, 13, 14, 15, 16, 17]])"
      ]
     },
     "execution_count": 15,
     "metadata": {},
     "output_type": "execute_result"
    }
   ],
   "execution_count": 15
  },
  {
   "cell_type": "code",
   "metadata": {
    "ExecuteTime": {
     "end_time": "2024-11-30T17:27:50.987144Z",
     "start_time": "2024-11-30T17:27:50.947683Z"
    }
   },
   "source": [
    "print(\"values:\", ef.calculate_edge_metric_for_dataloader(sparse_linear))\n",
    "chosen_edges = ef.choose_edges_top_k(sparse_linear, 4)\n",
    "print(\"choose:\", chosen_edges)"
   ],
   "outputs": [
    {
     "name": "stdout",
     "output_type": "stream",
     "text": [
      "values: tensor([ 3.1923, 16.9779,  8.7249, 51.5558,  5.7307,  0.9609, 21.5173, 31.2697])\n",
      "choose: tensor([[ 0,  0,  0,  0],\n",
      "        [13, 17, 16, 11]])\n"
     ]
    }
   ],
   "execution_count": 16
  },
  {
   "cell_type": "code",
   "metadata": {
    "ExecuteTime": {
     "end_time": "2024-11-30T17:27:51.580980Z",
     "start_time": "2024-11-30T17:27:51.533514Z"
    }
   },
   "source": [
    "print(\"values:\", ef.calculate_edge_metric_for_dataloader(sparse_linear))\n",
    "chosen_edges = ef.choose_edges_top_k(sparse_linear, 4)\n",
    "print(\"choose:\", chosen_edges)"
   ],
   "outputs": [
    {
     "name": "stdout",
     "output_type": "stream",
     "text": [
      "values: tensor([ 3.1923, 16.9779,  8.7249, 51.5558,  5.7307,  0.9609, 21.5173, 31.2697])\n",
      "choose: tensor([[ 0,  0,  0,  0],\n",
      "        [13, 17, 16, 11]])\n"
     ]
    }
   ],
   "execution_count": 17
  },
  {
   "metadata": {
    "ExecuteTime": {
     "end_time": "2024-11-30T17:27:51.796145Z",
     "start_time": "2024-11-30T17:27:51.787747Z"
    }
   },
   "cell_type": "code",
   "source": "sparse_linear.replace_many(*chosen_edges, 3)",
   "outputs": [],
   "execution_count": 18
  },
  {
   "metadata": {
    "ExecuteTime": {
     "end_time": "2024-11-30T17:27:51.898493Z",
     "start_time": "2024-11-30T17:27:51.889416Z"
    }
   },
   "cell_type": "code",
   "source": "sparse_linear.weight_indices",
   "outputs": [
    {
     "data": {
      "text/plain": [
       "tensor([[ 0,  0,  0,  0,  0,  0,  0,  0],\n",
       "        [10, 12, 14, 15, 18, 19, 20, 21]])"
      ]
     },
     "execution_count": 19,
     "metadata": {},
     "output_type": "execute_result"
    }
   ],
   "execution_count": 19
  },
  {
   "metadata": {
    "ExecuteTime": {
     "end_time": "2024-11-30T17:27:52.685515Z",
     "start_time": "2024-11-30T17:27:52.080920Z"
    }
   },
   "cell_type": "code",
   "source": [
    "print(\"values:\", ef.calculate_edge_metric_for_dataloader(sparse_linear))\n",
    "chosen_edges = ef.choose_edges_top_k(sparse_linear, 4)\n",
    "print(\"choose:\", chosen_edges)"
   ],
   "outputs": [
    {
     "ename": "RuntimeError",
     "evalue": "addmm: index out of column bound: 13 not between 1 and 13",
     "output_type": "error",
     "traceback": [
      "\u001B[1;31m---------------------------------------------------------------------------\u001B[0m",
      "\u001B[1;31mRuntimeError\u001B[0m                              Traceback (most recent call last)",
      "Cell \u001B[1;32mIn[20], line 1\u001B[0m\n\u001B[1;32m----> 1\u001B[0m \u001B[38;5;28mprint\u001B[39m(\u001B[38;5;124m\"\u001B[39m\u001B[38;5;124mvalues:\u001B[39m\u001B[38;5;124m\"\u001B[39m, \u001B[43mef\u001B[49m\u001B[38;5;241;43m.\u001B[39;49m\u001B[43mcalculate_edge_metric_for_dataloader\u001B[49m\u001B[43m(\u001B[49m\u001B[43msparse_linear\u001B[49m\u001B[43m)\u001B[49m)\n\u001B[0;32m      2\u001B[0m chosen_edges \u001B[38;5;241m=\u001B[39m ef\u001B[38;5;241m.\u001B[39mchoose_edges_top_k(sparse_linear, \u001B[38;5;241m4\u001B[39m)\n\u001B[0;32m      3\u001B[0m \u001B[38;5;28mprint\u001B[39m(\u001B[38;5;124m\"\u001B[39m\u001B[38;5;124mchoose:\u001B[39m\u001B[38;5;124m\"\u001B[39m, chosen_edges)\n",
      "File \u001B[1;32mD:\\Coding\\PY\\self-expanding-nets\\senmodel\\metrics\\edge_finder.py:18\u001B[0m, in \u001B[0;36mEdgeFinder.calculate_edge_metric_for_dataloader\u001B[1;34m(self, model)\u001B[0m\n\u001B[0;32m     15\u001B[0m \u001B[38;5;28;01mfor\u001B[39;00m data, target \u001B[38;5;129;01min\u001B[39;00m \u001B[38;5;28mself\u001B[39m\u001B[38;5;241m.\u001B[39mdataloader:\n\u001B[0;32m     16\u001B[0m     data, target \u001B[38;5;241m=\u001B[39m data\u001B[38;5;241m.\u001B[39mto(\u001B[38;5;28mself\u001B[39m\u001B[38;5;241m.\u001B[39mdevice), target\u001B[38;5;241m.\u001B[39mto(\u001B[38;5;28mself\u001B[39m\u001B[38;5;241m.\u001B[39mdevice)\n\u001B[1;32m---> 18\u001B[0m     metric \u001B[38;5;241m=\u001B[39m \u001B[38;5;28;43mself\u001B[39;49m\u001B[38;5;241;43m.\u001B[39;49m\u001B[43mmetric\u001B[49m\u001B[38;5;241;43m.\u001B[39;49m\u001B[43mcalculate\u001B[49m\u001B[43m(\u001B[49m\u001B[43mmodel\u001B[49m\u001B[43m,\u001B[49m\u001B[43m \u001B[49m\u001B[43mdata\u001B[49m\u001B[43m,\u001B[49m\u001B[43m \u001B[49m\u001B[43mtarget\u001B[49m\u001B[43m)\u001B[49m\n\u001B[0;32m     20\u001B[0m     \u001B[38;5;28;01mif\u001B[39;00m accumulated_grads \u001B[38;5;129;01mis\u001B[39;00m \u001B[38;5;28;01mNone\u001B[39;00m:\n\u001B[0;32m     21\u001B[0m         accumulated_grads \u001B[38;5;241m=\u001B[39m torch\u001B[38;5;241m.\u001B[39mzeros_like(metric)\u001B[38;5;241m.\u001B[39mto(\u001B[38;5;28mself\u001B[39m\u001B[38;5;241m.\u001B[39mdevice)\n",
      "File \u001B[1;32mD:\\Coding\\PY\\self-expanding-nets\\senmodel\\metrics\\nonlinearity_metrics.py:23\u001B[0m, in \u001B[0;36mGradientMeanEdgeMetric.calculate\u001B[1;34m(self, model, X_arr, y_arr)\u001B[0m\n\u001B[0;32m     20\u001B[0m model\u001B[38;5;241m.\u001B[39meval()\n\u001B[0;32m     21\u001B[0m model\u001B[38;5;241m.\u001B[39mzero_grad()\n\u001B[1;32m---> 23\u001B[0m y_pred \u001B[38;5;241m=\u001B[39m \u001B[43mmodel\u001B[49m\u001B[43m(\u001B[49m\u001B[43mX_arr\u001B[49m\u001B[43m)\u001B[49m\u001B[38;5;241m.\u001B[39msqueeze()\n\u001B[0;32m     24\u001B[0m loss \u001B[38;5;241m=\u001B[39m \u001B[38;5;28mself\u001B[39m\u001B[38;5;241m.\u001B[39mloss_fn(y_pred, y_arr)\n\u001B[0;32m     25\u001B[0m loss\u001B[38;5;241m.\u001B[39mbackward()\n",
      "File \u001B[1;32mD:\\Coding\\PY\\self-expanding-nets\\.venv\\Lib\\site-packages\\torch\\nn\\modules\\module.py:1736\u001B[0m, in \u001B[0;36mModule._wrapped_call_impl\u001B[1;34m(self, *args, **kwargs)\u001B[0m\n\u001B[0;32m   1734\u001B[0m     \u001B[38;5;28;01mreturn\u001B[39;00m \u001B[38;5;28mself\u001B[39m\u001B[38;5;241m.\u001B[39m_compiled_call_impl(\u001B[38;5;241m*\u001B[39margs, \u001B[38;5;241m*\u001B[39m\u001B[38;5;241m*\u001B[39mkwargs)  \u001B[38;5;66;03m# type: ignore[misc]\u001B[39;00m\n\u001B[0;32m   1735\u001B[0m \u001B[38;5;28;01melse\u001B[39;00m:\n\u001B[1;32m-> 1736\u001B[0m     \u001B[38;5;28;01mreturn\u001B[39;00m \u001B[38;5;28;43mself\u001B[39;49m\u001B[38;5;241;43m.\u001B[39;49m\u001B[43m_call_impl\u001B[49m\u001B[43m(\u001B[49m\u001B[38;5;241;43m*\u001B[39;49m\u001B[43margs\u001B[49m\u001B[43m,\u001B[49m\u001B[43m \u001B[49m\u001B[38;5;241;43m*\u001B[39;49m\u001B[38;5;241;43m*\u001B[39;49m\u001B[43mkwargs\u001B[49m\u001B[43m)\u001B[49m\n",
      "File \u001B[1;32mD:\\Coding\\PY\\self-expanding-nets\\.venv\\Lib\\site-packages\\torch\\nn\\modules\\module.py:1747\u001B[0m, in \u001B[0;36mModule._call_impl\u001B[1;34m(self, *args, **kwargs)\u001B[0m\n\u001B[0;32m   1742\u001B[0m \u001B[38;5;66;03m# If we don't have any hooks, we want to skip the rest of the logic in\u001B[39;00m\n\u001B[0;32m   1743\u001B[0m \u001B[38;5;66;03m# this function, and just call forward.\u001B[39;00m\n\u001B[0;32m   1744\u001B[0m \u001B[38;5;28;01mif\u001B[39;00m \u001B[38;5;129;01mnot\u001B[39;00m (\u001B[38;5;28mself\u001B[39m\u001B[38;5;241m.\u001B[39m_backward_hooks \u001B[38;5;129;01mor\u001B[39;00m \u001B[38;5;28mself\u001B[39m\u001B[38;5;241m.\u001B[39m_backward_pre_hooks \u001B[38;5;129;01mor\u001B[39;00m \u001B[38;5;28mself\u001B[39m\u001B[38;5;241m.\u001B[39m_forward_hooks \u001B[38;5;129;01mor\u001B[39;00m \u001B[38;5;28mself\u001B[39m\u001B[38;5;241m.\u001B[39m_forward_pre_hooks\n\u001B[0;32m   1745\u001B[0m         \u001B[38;5;129;01mor\u001B[39;00m _global_backward_pre_hooks \u001B[38;5;129;01mor\u001B[39;00m _global_backward_hooks\n\u001B[0;32m   1746\u001B[0m         \u001B[38;5;129;01mor\u001B[39;00m _global_forward_hooks \u001B[38;5;129;01mor\u001B[39;00m _global_forward_pre_hooks):\n\u001B[1;32m-> 1747\u001B[0m     \u001B[38;5;28;01mreturn\u001B[39;00m \u001B[43mforward_call\u001B[49m\u001B[43m(\u001B[49m\u001B[38;5;241;43m*\u001B[39;49m\u001B[43margs\u001B[49m\u001B[43m,\u001B[49m\u001B[43m \u001B[49m\u001B[38;5;241;43m*\u001B[39;49m\u001B[38;5;241;43m*\u001B[39;49m\u001B[43mkwargs\u001B[49m\u001B[43m)\u001B[49m\n\u001B[0;32m   1749\u001B[0m result \u001B[38;5;241m=\u001B[39m \u001B[38;5;28;01mNone\u001B[39;00m\n\u001B[0;32m   1750\u001B[0m called_always_called_hooks \u001B[38;5;241m=\u001B[39m \u001B[38;5;28mset\u001B[39m()\n",
      "File \u001B[1;32mD:\\Coding\\PY\\self-expanding-nets\\senmodel\\model\\model.py:84\u001B[0m, in \u001B[0;36mExpandingLinear.forward\u001B[1;34m(self, input)\u001B[0m\n\u001B[0;32m     82\u001B[0m \u001B[38;5;28;01mdef\u001B[39;00m \u001B[38;5;21mforward\u001B[39m(\u001B[38;5;28mself\u001B[39m, \u001B[38;5;28minput\u001B[39m):\n\u001B[0;32m     83\u001B[0m     \u001B[38;5;28;01mfor\u001B[39;00m i \u001B[38;5;129;01min\u001B[39;00m \u001B[38;5;28mrange\u001B[39m(\u001B[38;5;28mself\u001B[39m\u001B[38;5;241m.\u001B[39mlast_iteration \u001B[38;5;241m+\u001B[39m \u001B[38;5;241m1\u001B[39m):\n\u001B[1;32m---> 84\u001B[0m         \u001B[38;5;28minput\u001B[39m \u001B[38;5;241m=\u001B[39m \u001B[38;5;28;43mself\u001B[39;49m\u001B[38;5;241;43m.\u001B[39;49m\u001B[43membed_linears\u001B[49m\u001B[43m[\u001B[49m\u001B[43mi\u001B[49m\u001B[43m]\u001B[49m\u001B[43m(\u001B[49m\u001B[38;5;28;43minput\u001B[39;49m\u001B[43m)\u001B[49m\n\u001B[0;32m     86\u001B[0m     sparse_weight \u001B[38;5;241m=\u001B[39m \u001B[38;5;28mself\u001B[39m\u001B[38;5;241m.\u001B[39mcreate_sparse_tensor()\n\u001B[0;32m     87\u001B[0m     sparse_bias \u001B[38;5;241m=\u001B[39m torch\u001B[38;5;241m.\u001B[39msparse_coo_tensor(\u001B[38;5;28mself\u001B[39m\u001B[38;5;241m.\u001B[39mbias_indices, \u001B[38;5;28mself\u001B[39m\u001B[38;5;241m.\u001B[39mbias_values, \u001B[38;5;28mself\u001B[39m\u001B[38;5;241m.\u001B[39mbias_size)\u001B[38;5;241m.\u001B[39mto_dense()\n",
      "File \u001B[1;32mD:\\Coding\\PY\\self-expanding-nets\\.venv\\Lib\\site-packages\\torch\\nn\\modules\\module.py:1736\u001B[0m, in \u001B[0;36mModule._wrapped_call_impl\u001B[1;34m(self, *args, **kwargs)\u001B[0m\n\u001B[0;32m   1734\u001B[0m     \u001B[38;5;28;01mreturn\u001B[39;00m \u001B[38;5;28mself\u001B[39m\u001B[38;5;241m.\u001B[39m_compiled_call_impl(\u001B[38;5;241m*\u001B[39margs, \u001B[38;5;241m*\u001B[39m\u001B[38;5;241m*\u001B[39mkwargs)  \u001B[38;5;66;03m# type: ignore[misc]\u001B[39;00m\n\u001B[0;32m   1735\u001B[0m \u001B[38;5;28;01melse\u001B[39;00m:\n\u001B[1;32m-> 1736\u001B[0m     \u001B[38;5;28;01mreturn\u001B[39;00m \u001B[38;5;28;43mself\u001B[39;49m\u001B[38;5;241;43m.\u001B[39;49m\u001B[43m_call_impl\u001B[49m\u001B[43m(\u001B[49m\u001B[38;5;241;43m*\u001B[39;49m\u001B[43margs\u001B[49m\u001B[43m,\u001B[49m\u001B[43m \u001B[49m\u001B[38;5;241;43m*\u001B[39;49m\u001B[38;5;241;43m*\u001B[39;49m\u001B[43mkwargs\u001B[49m\u001B[43m)\u001B[49m\n",
      "File \u001B[1;32mD:\\Coding\\PY\\self-expanding-nets\\.venv\\Lib\\site-packages\\torch\\nn\\modules\\module.py:1747\u001B[0m, in \u001B[0;36mModule._call_impl\u001B[1;34m(self, *args, **kwargs)\u001B[0m\n\u001B[0;32m   1742\u001B[0m \u001B[38;5;66;03m# If we don't have any hooks, we want to skip the rest of the logic in\u001B[39;00m\n\u001B[0;32m   1743\u001B[0m \u001B[38;5;66;03m# this function, and just call forward.\u001B[39;00m\n\u001B[0;32m   1744\u001B[0m \u001B[38;5;28;01mif\u001B[39;00m \u001B[38;5;129;01mnot\u001B[39;00m (\u001B[38;5;28mself\u001B[39m\u001B[38;5;241m.\u001B[39m_backward_hooks \u001B[38;5;129;01mor\u001B[39;00m \u001B[38;5;28mself\u001B[39m\u001B[38;5;241m.\u001B[39m_backward_pre_hooks \u001B[38;5;129;01mor\u001B[39;00m \u001B[38;5;28mself\u001B[39m\u001B[38;5;241m.\u001B[39m_forward_hooks \u001B[38;5;129;01mor\u001B[39;00m \u001B[38;5;28mself\u001B[39m\u001B[38;5;241m.\u001B[39m_forward_pre_hooks\n\u001B[0;32m   1745\u001B[0m         \u001B[38;5;129;01mor\u001B[39;00m _global_backward_pre_hooks \u001B[38;5;129;01mor\u001B[39;00m _global_backward_hooks\n\u001B[0;32m   1746\u001B[0m         \u001B[38;5;129;01mor\u001B[39;00m _global_forward_hooks \u001B[38;5;129;01mor\u001B[39;00m _global_forward_pre_hooks):\n\u001B[1;32m-> 1747\u001B[0m     \u001B[38;5;28;01mreturn\u001B[39;00m \u001B[43mforward_call\u001B[49m\u001B[43m(\u001B[49m\u001B[38;5;241;43m*\u001B[39;49m\u001B[43margs\u001B[49m\u001B[43m,\u001B[49m\u001B[43m \u001B[49m\u001B[38;5;241;43m*\u001B[39;49m\u001B[38;5;241;43m*\u001B[39;49m\u001B[43mkwargs\u001B[49m\u001B[43m)\u001B[49m\n\u001B[0;32m   1749\u001B[0m result \u001B[38;5;241m=\u001B[39m \u001B[38;5;28;01mNone\u001B[39;00m\n\u001B[0;32m   1750\u001B[0m called_always_called_hooks \u001B[38;5;241m=\u001B[39m \u001B[38;5;28mset\u001B[39m()\n",
      "File \u001B[1;32mD:\\Coding\\PY\\self-expanding-nets\\senmodel\\model\\model.py:47\u001B[0m, in \u001B[0;36mEmbedLinear.forward\u001B[1;34m(self, input)\u001B[0m\n\u001B[0;32m     45\u001B[0m \u001B[38;5;28;01mdef\u001B[39;00m \u001B[38;5;21mforward\u001B[39m(\u001B[38;5;28mself\u001B[39m, \u001B[38;5;28minput\u001B[39m):\n\u001B[0;32m     46\u001B[0m     sparse_embed_weight \u001B[38;5;241m=\u001B[39m \u001B[38;5;28mself\u001B[39m\u001B[38;5;241m.\u001B[39mcreate_sparse_tensor()\n\u001B[1;32m---> 47\u001B[0m     output \u001B[38;5;241m=\u001B[39m \u001B[43mtorch\u001B[49m\u001B[38;5;241;43m.\u001B[39;49m\u001B[43msparse\u001B[49m\u001B[38;5;241;43m.\u001B[39;49m\u001B[43mmm\u001B[49m\u001B[43m(\u001B[49m\u001B[43msparse_embed_weight\u001B[49m\u001B[43m,\u001B[49m\u001B[43m \u001B[49m\u001B[38;5;28;43minput\u001B[39;49m\u001B[38;5;241;43m.\u001B[39;49m\u001B[43mt\u001B[49m\u001B[43m(\u001B[49m\u001B[43m)\u001B[49m\u001B[43m)\u001B[49m\u001B[38;5;241m.\u001B[39mt()\n\u001B[0;32m     48\u001B[0m     \u001B[38;5;28;01mreturn\u001B[39;00m torch\u001B[38;5;241m.\u001B[39mcat([\u001B[38;5;28minput\u001B[39m, \u001B[38;5;28mself\u001B[39m\u001B[38;5;241m.\u001B[39mactivation(output)], dim\u001B[38;5;241m=\u001B[39m\u001B[38;5;241m1\u001B[39m)\n",
      "\u001B[1;31mRuntimeError\u001B[0m: addmm: index out of column bound: 13 not between 1 and 13"
     ]
    }
   ],
   "execution_count": 20
  },
  {
   "metadata": {
    "ExecuteTime": {
     "end_time": "2024-11-30T17:27:52.778239800Z",
     "start_time": "2024-11-30T16:17:17.177045Z"
    }
   },
   "cell_type": "code",
   "source": "sparse_linear.replace_many(*chosen_edges, 3)",
   "outputs": [],
   "execution_count": 21
  },
  {
   "metadata": {},
   "cell_type": "code",
   "outputs": [],
   "execution_count": null,
   "source": ""
  }
 ],
 "metadata": {
  "colab": {
   "provenance": []
  },
  "kernelspec": {
   "display_name": "data_science",
   "language": "python",
   "name": "python3"
  },
  "language_info": {
   "codemirror_mode": {
    "name": "ipython",
    "version": 3
   },
   "file_extension": ".py",
   "mimetype": "text/x-python",
   "name": "python",
   "nbconvert_exporter": "python",
   "pygments_lexer": "ipython3",
   "version": "3.9.18"
  }
 },
 "nbformat": 4,
 "nbformat_minor": 0
}
