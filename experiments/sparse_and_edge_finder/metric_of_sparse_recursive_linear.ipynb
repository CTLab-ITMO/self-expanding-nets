{
 "cells": [
  {
   "cell_type": "code",
   "metadata": {
    "id": "Mzjlc4iqr3Zd",
    "ExecuteTime": {
     "end_time": "2024-11-19T16:41:34.213945Z",
     "start_time": "2024-11-19T16:41:32.036482Z"
    }
   },
   "source": [
    "import torch\n",
    "from copy import deepcopy"
   ],
   "outputs": [],
   "execution_count": 1
  },
  {
   "cell_type": "code",
   "metadata": {
    "id": "uDDsX_N_sCDJ",
    "ExecuteTime": {
     "end_time": "2024-11-19T16:41:34.225183Z",
     "start_time": "2024-11-19T16:41:34.217700Z"
    }
   },
   "source": [
    "torch.manual_seed(0);"
   ],
   "outputs": [],
   "execution_count": 2
  },
  {
   "cell_type": "code",
   "metadata": {
    "id": "Epu4YDgwsD7B",
    "ExecuteTime": {
     "end_time": "2024-11-19T16:41:34.375595Z",
     "start_time": "2024-11-19T16:41:34.369547Z"
    }
   },
   "source": "from sparse_linear import *",
   "outputs": [],
   "execution_count": 3
  },
  {
   "cell_type": "code",
   "metadata": {
    "ExecuteTime": {
     "end_time": "2024-11-19T16:41:34.385963Z",
     "start_time": "2024-11-19T16:41:34.380853Z"
    }
   },
   "source": [
    "def dense_to_sparse(dense_tensor: torch.Tensor) -> torch.sparse.FloatTensor:\n",
    "    indices = dense_tensor.nonzero(as_tuple=True)\n",
    "    values = dense_tensor[indices]\n",
    "    indices = torch.stack(indices)\n",
    "\n",
    "    sparse_tensor = torch.sparse.FloatTensor(indices, values, dense_tensor.size())\n",
    "    return sparse_tensor"
   ],
   "outputs": [],
   "execution_count": 4
  },
  {
   "cell_type": "code",
   "metadata": {
    "ExecuteTime": {
     "end_time": "2024-11-19T16:41:34.397222Z",
     "start_time": "2024-11-19T16:41:34.391872Z"
    }
   },
   "source": [
    "def convert_dense_to_sparse_network(model: nn.Module) -> nn.Module:\n",
    "    \"\"\"\n",
    "    Converts a given dense neural network model to a sparse neural network model.\n",
    "\n",
    "    This function recursively iterate through the given model and replaces all instances of \n",
    "    `nn.Linear` layers with `SparseLinear` layers\n",
    "\n",
    "    Args:\n",
    "        model (nn.Module): The dense neural network model to be converted.\n",
    "\n",
    "    Returns:\n",
    "        nn.Module: A new neural network model with sparse layers.\n",
    "    \"\"\"\n",
    "    new_model = model.__class__()\n",
    "\n",
    "    for name, module in model.named_children():\n",
    "        if isinstance(module, nn.Linear):\n",
    "            sparse_weight = dense_to_sparse(module.weight.data)\n",
    "            sparse_bias = dense_to_sparse(module.bias.data)\n",
    "\n",
    "            setattr(new_model, name, SparseLinear(sparse_weight, sparse_bias))\n",
    "        else:\n",
    "            setattr(new_model, name, convert_dense_to_sparse_network(module))\n",
    "    return new_model"
   ],
   "outputs": [],
   "execution_count": 5
  },
  {
   "cell_type": "code",
   "metadata": {
    "id": "GDTwjoofyEff",
    "ExecuteTime": {
     "end_time": "2024-11-19T16:41:34.410813Z",
     "start_time": "2024-11-19T16:41:34.403449Z"
    }
   },
   "source": [
    "class SimpleFCN(nn.Module):\n",
    "    def __init__(self, input_size=8):\n",
    "        super(SimpleFCN, self).__init__()\n",
    "        self.fc1 = nn.Linear(input_size, 4)\n",
    "        self.fc2 = nn.Linear(4, 4)\n",
    "        self.fc3 = nn.Linear(2, 1)\n",
    "        self.relu = nn.ReLU()\n",
    "\n",
    "    def forward(self, x):\n",
    "        x = self.relu(self.fc1(x))\n",
    "        x = self.relu(self.fc2(x))\n",
    "        x = self.fc3(x)\n",
    "        return x\n",
    "\n",
    "\n",
    "model = SimpleFCN()"
   ],
   "outputs": [],
   "execution_count": 6
  },
  {
   "cell_type": "code",
   "metadata": {
    "id": "ezwIVpFqyJcZ",
    "ExecuteTime": {
     "end_time": "2024-11-19T16:41:34.432641Z",
     "start_time": "2024-11-19T16:41:34.425818Z"
    }
   },
   "source": [
    "sparse_model = convert_dense_to_sparse_network(model)"
   ],
   "outputs": [
    {
     "name": "stderr",
     "output_type": "stream",
     "text": [
      "C:\\Users\\fedor\\AppData\\Local\\Temp\\ipykernel_2480\\1220358512.py:6: UserWarning: torch.sparse.SparseTensor(indices, values, shape, *, device=) is deprecated.  Please use torch.sparse_coo_tensor(indices, values, shape, dtype=, device=). (Triggered internally at C:\\actions-runner\\_work\\pytorch\\pytorch\\builder\\windows\\pytorch\\torch\\csrc\\utils\\tensor_new.cpp:653.)\n",
      "  sparse_tensor = torch.sparse.FloatTensor(indices, values, dense_tensor.size())\n"
     ]
    }
   ],
   "execution_count": 7
  },
  {
   "cell_type": "code",
   "metadata": {
    "colab": {
     "base_uri": "https://localhost:8080/"
    },
    "id": "pf_MeJiX66SY",
    "outputId": "1262dce2-595f-4244-90ff-6e9725aa498c",
    "ExecuteTime": {
     "end_time": "2024-11-19T16:41:34.456434Z",
     "start_time": "2024-11-19T16:41:34.440094Z"
    }
   },
   "source": [
    "linear = nn.Linear(8, 1)\n",
    "\n",
    "sparse_weight = dense_to_sparse(linear.weight.data)\n",
    "sparse_bias = dense_to_sparse(linear.bias.data)\n",
    "just_sparse_linear = SparseLinear(sparse_weight, sparse_bias)\n",
    "\n",
    "sparse_linear = deepcopy(just_sparse_linear)\n",
    "\n",
    "sparse_putting_linear1 = SparseRecursiveLinear(sparse_linear, None)\n",
    "print(sparse_putting_linear1.sparse_linear.weight_indices, \"\\n\")\n",
    "sparse_putting_linear1.replace(0, 6)\n",
    "sparse_putting_linear1.replace(0, 7)\n",
    "# sparse_putting_linear1.replace(0, 6)\n",
    "print(sparse_putting_linear1.sparse_linear.weight_indices)\n",
    "print(sparse_putting_linear1.embed_weight_indeces, \"\\n\")\n",
    "\n",
    "sparse_putting_linear2 = SparseRecursiveLinear(sparse_linear, sparse_putting_linear1)\n",
    "sparse_putting_linear2.replace(0, 8)\n",
    "sparse_putting_linear2.replace(0, 9)\n",
    "print(sparse_putting_linear1.sparse_linear.weight_indices)\n",
    "print(sparse_putting_linear2.embed_weight_indeces, \"\\n\")\n",
    "\n",
    "sparse_putting_linear3 = SparseRecursiveLinear(sparse_linear, sparse_putting_linear2, is_last=True)\n",
    "sparse_putting_linear3.replace(0, 3)\n",
    "print(sparse_putting_linear1.sparse_linear.weight_indices)\n",
    "print(sparse_putting_linear3.embed_weight_indeces, \"\\n\")\n"
   ],
   "outputs": [
    {
     "name": "stdout",
     "output_type": "stream",
     "text": [
      "tensor([[0, 0, 0, 0, 0, 0, 0, 0],\n",
      "        [0, 1, 2, 3, 4, 5, 6, 7]]) \n",
      "\n",
      "tensor([[0, 0, 0, 0, 0, 0, 0, 0],\n",
      "        [0, 1, 2, 3, 4, 5, 8, 9]])\n",
      "tensor([[0, 1],\n",
      "        [6, 7]]) \n",
      "\n",
      "tensor([[ 0,  0,  0,  0,  0,  0,  0,  0],\n",
      "        [ 0,  1,  2,  3,  4,  5, 10, 11]])\n",
      "tensor([[0, 1],\n",
      "        [8, 9]]) \n",
      "\n",
      "tensor([[ 0,  0,  0,  0,  0,  0,  0,  0],\n",
      "        [ 0,  1,  2,  4,  5, 10, 11, 12]])\n",
      "tensor([[0],\n",
      "        [3]]) \n",
      "\n"
     ]
    }
   ],
   "execution_count": 8
  },
  {
   "metadata": {},
   "cell_type": "code",
   "outputs": [],
   "execution_count": null,
   "source": ""
  },
  {
   "metadata": {
    "ExecuteTime": {
     "end_time": "2024-11-19T16:41:34.474518Z",
     "start_time": "2024-11-19T16:41:34.466348Z"
    }
   },
   "cell_type": "code",
   "source": "from nonlinearity_metrics import *",
   "outputs": [],
   "execution_count": 9
  },
  {
   "metadata": {
    "ExecuteTime": {
     "end_time": "2024-11-19T16:41:34.486712Z",
     "start_time": "2024-11-19T16:41:34.482166Z"
    }
   },
   "cell_type": "code",
   "source": [
    "criterion = nn.MSELoss()\n",
    "\n",
    "metrics = [\n",
    "    GradientMeanEdgeMetric(criterion),\n",
    "    PerturbationSensitivityEdgeMetric(criterion),\n",
    "]"
   ],
   "outputs": [],
   "execution_count": 10
  },
  {
   "metadata": {
    "ExecuteTime": {
     "end_time": "2024-11-19T16:41:36.191763Z",
     "start_time": "2024-11-19T16:41:35.190449Z"
    }
   },
   "cell_type": "code",
   "source": [
    "from torch.utils.data import DataLoader\n",
    "from sklearn.model_selection import train_test_split\n",
    "from sklearn.datasets import make_regression\n",
    "\n",
    "X, y = make_regression(n_samples=1000, n_features=8, n_informative=8, random_state=42)\n",
    "X = torch.from_numpy(X).float()\n",
    "y = torch.from_numpy(y).float()\n",
    "\n",
    "dataset = list(zip(X, y))\n",
    "train_dataset, test_dataset = train_test_split(dataset, test_size=0.2, random_state=42)\n",
    "train_loader = DataLoader(train_dataset, batch_size=32, shuffle=True)\n",
    "test_loader = DataLoader(test_dataset, batch_size=32, shuffle=False)"
   ],
   "outputs": [],
   "execution_count": 11
  },
  {
   "metadata": {
    "ExecuteTime": {
     "end_time": "2024-11-19T16:41:36.203677Z",
     "start_time": "2024-11-19T16:41:36.191763Z"
    }
   },
   "cell_type": "code",
   "source": "from edge_finder import *",
   "outputs": [],
   "execution_count": 12
  },
  {
   "metadata": {
    "ExecuteTime": {
     "end_time": "2024-11-19T16:45:58.724059Z",
     "start_time": "2024-11-19T16:45:58.676441Z"
    }
   },
   "cell_type": "code",
   "source": [
    "\n",
    "ef = EdgeFinder(metrics[0], test_loader)\n",
    "print(\"values:\", ef.calculate_edge_metric_for_dataloader(sparse_putting_linear3))\n",
    "chosen_edges = ef.choose_edges(sparse_putting_linear3, 4)\n",
    "print(\"choose:\", chosen_edges)"
   ],
   "outputs": [
    {
     "name": "stdout",
     "output_type": "stream",
     "text": [
      "values: tensor([212.1626,  97.8102,  80.0607,  74.0020,  52.0682,   9.3702,  61.2353,\n",
      "         89.4596])\n",
      "choose: tensor([[ 0,  0,  0,  0],\n",
      "        [ 0,  1, 12,  2]])\n"
     ]
    }
   ],
   "execution_count": 16
  },
  {
   "metadata": {
    "ExecuteTime": {
     "end_time": "2024-11-19T16:47:56.338334Z",
     "start_time": "2024-11-19T16:47:56.328777Z"
    }
   },
   "cell_type": "code",
   "source": [
    "child, parents = chosen_edges\n",
    "for c, p in zip(child, parents):\n",
    "    sparse_putting_linear3.replace(c, p)"
   ],
   "outputs": [],
   "execution_count": 19
  }
 ],
 "metadata": {
  "colab": {
   "provenance": []
  },
  "kernelspec": {
   "display_name": "data_science",
   "language": "python",
   "name": "python3"
  },
  "language_info": {
   "codemirror_mode": {
    "name": "ipython",
    "version": 3
   },
   "file_extension": ".py",
   "mimetype": "text/x-python",
   "name": "python",
   "nbconvert_exporter": "python",
   "pygments_lexer": "ipython3",
   "version": "3.9.18"
  }
 },
 "nbformat": 4,
 "nbformat_minor": 0
}
