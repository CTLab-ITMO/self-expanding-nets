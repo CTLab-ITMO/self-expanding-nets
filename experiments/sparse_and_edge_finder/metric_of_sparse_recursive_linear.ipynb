{
 "cells": [
  {
   "metadata": {
    "ExecuteTime": {
     "end_time": "2025-01-21T10:54:08.538736Z",
     "start_time": "2025-01-21T10:54:06.410321Z"
    }
   },
   "cell_type": "code",
   "source": [
    "from copy import deepcopy\n",
    "\n",
    "import torch"
   ],
   "outputs": [],
   "execution_count": 1
  },
  {
   "metadata": {
    "ExecuteTime": {
     "end_time": "2025-01-21T10:54:08.704880Z",
     "start_time": "2025-01-21T10:54:08.694665Z"
    }
   },
   "cell_type": "code",
   "source": "torch.manual_seed(0);",
   "outputs": [],
   "execution_count": 2
  },
  {
   "metadata": {
    "ExecuteTime": {
     "end_time": "2025-01-21T10:54:08.714931Z",
     "start_time": "2025-01-21T10:54:08.709809Z"
    }
   },
   "cell_type": "code",
   "source": "device = torch.device(\"cuda:0\" if torch.cuda.is_available() else \"cpu\")",
   "outputs": [],
   "execution_count": 3
  },
  {
   "metadata": {
    "ExecuteTime": {
     "end_time": "2025-01-21T10:54:08.737476Z",
     "start_time": "2025-01-21T10:54:08.729809Z"
    }
   },
   "cell_type": "code",
   "source": "from senmodel.model.utils import *",
   "outputs": [],
   "execution_count": 4
  },
  {
   "metadata": {
    "ExecuteTime": {
     "end_time": "2025-01-21T10:54:08.750059Z",
     "start_time": "2025-01-21T10:54:08.744972Z"
    }
   },
   "cell_type": "code",
   "source": [
    "class SimpleFCN(nn.Module):\n",
    "    def __init__(self, input_size=8):\n",
    "        super(SimpleFCN, self).__init__()\n",
    "        self.fc1 = nn.Linear(input_size, 4)\n",
    "        self.fc2 = nn.Linear(4, 2)\n",
    "        self.fc3 = nn.Linear(2, 1)\n",
    "        self.relu = nn.ReLU()\n",
    "\n",
    "    def forward(self, x):\n",
    "        x = self.relu(self.fc1(x))\n",
    "        x = self.relu(self.fc2(x))\n",
    "        x = self.fc3(x)\n",
    "        return x\n",
    "\n",
    "\n",
    "model = SimpleFCN()"
   ],
   "outputs": [],
   "execution_count": 5
  },
  {
   "metadata": {
    "ExecuteTime": {
     "end_time": "2025-01-21T10:54:08.763682Z",
     "start_time": "2025-01-21T10:54:08.757244Z"
    }
   },
   "cell_type": "code",
   "source": "sparse_model = convert_dense_to_sparse_network(model)",
   "outputs": [],
   "execution_count": 6
  },
  {
   "metadata": {
    "ExecuteTime": {
     "end_time": "2025-01-21T10:54:08.785202Z",
     "start_time": "2025-01-21T10:54:08.771286Z"
    }
   },
   "cell_type": "code",
   "source": [
    "linear = nn.Linear(8, 1)\n",
    "\n",
    "sparse_weight = dense_to_sparse(linear.weight.data)\n",
    "sparse_bias = dense_to_sparse(linear.bias.data)\n",
    "just_sparse_linear = ExpandingLinear(sparse_weight, sparse_bias)\n",
    "\n",
    "sparse_linear = deepcopy(just_sparse_linear)\n",
    "\n",
    "print(sparse_linear.weight_indices, \"\\n\")\n",
    "sparse_linear.replace_many((0, 0), (6, 7))\n",
    "print(sparse_linear.weight_indices)\n",
    "print(sparse_linear.embed_linears[0].weight_indices, \"\\n\")\n",
    "\n",
    "sparse_linear.replace_many((0, 0), (8, 9))\n",
    "print(sparse_linear.weight_indices)\n",
    "print(sparse_linear.embed_linears[1].weight_indices, \"\\n\")\n",
    "\n",
    "print(sparse_linear.weight_indices)\n",
    "sparse_linear.replace_many((0,), (10,))\n",
    "print(sparse_linear.weight_indices)\n",
    "print(sparse_linear.embed_linears[-1].weight_indices, \"\\n\")\n",
    "\n",
    "\n",
    "# sparse_linear.replace_many((0,), (10,)) # error - no such edge\n",
    "# print(sparse_linear.weight_indices)\n",
    "# print(sparse_linear.embed_linears[-1].weight_indices, \"\\n\")\n",
    "\n"
   ],
   "outputs": [
    {
     "name": "stdout",
     "output_type": "stream",
     "text": [
      "tensor([[0, 0, 0, 0, 0, 0, 0, 0],\n",
      "        [0, 1, 2, 3, 4, 5, 6, 7]]) \n",
      "\n",
      "tensor([[0, 0, 0, 0, 0, 0, 0, 0],\n",
      "        [0, 1, 2, 3, 4, 5, 8, 9]])\n",
      "tensor([[0, 1],\n",
      "        [6, 7]]) \n",
      "\n",
      "tensor([[ 0,  0,  0,  0,  0,  0,  0,  0],\n",
      "        [ 0,  1,  2,  3,  4,  5, 10, 11]])\n",
      "tensor([[0, 1],\n",
      "        [8, 9]]) \n",
      "\n",
      "tensor([[ 0,  0,  0,  0,  0,  0,  0,  0],\n",
      "        [ 0,  1,  2,  3,  4,  5, 10, 11]])\n",
      "tensor([[ 0,  0,  0,  0,  0,  0,  0,  0],\n",
      "        [ 0,  1,  2,  3,  4,  5, 11, 12]])\n",
      "tensor([[ 0],\n",
      "        [10]]) \n",
      "\n"
     ]
    }
   ],
   "execution_count": 7
  },
  {
   "metadata": {
    "ExecuteTime": {
     "end_time": "2025-01-21T10:54:08.802615Z",
     "start_time": "2025-01-21T10:54:08.796406Z"
    }
   },
   "cell_type": "code",
   "source": "from senmodel.metrics.nonlinearity_metrics import *\n",
   "outputs": [],
   "execution_count": 8
  },
  {
   "metadata": {
    "ExecuteTime": {
     "end_time": "2025-01-21T10:54:08.826442Z",
     "start_time": "2025-01-21T10:54:08.822698Z"
    }
   },
   "cell_type": "code",
   "source": [
    "criterion = nn.MSELoss()\n",
    "\n",
    "metrics = [\n",
    "    GradientMeanEdgeMetric(criterion),\n",
    "    SNIPMetric(criterion),\n",
    "    PerturbationSensitivityEdgeMetric(criterion),\n",
    "\n",
    "]"
   ],
   "outputs": [],
   "execution_count": 9
  },
  {
   "metadata": {
    "ExecuteTime": {
     "end_time": "2025-01-21T10:54:10.017739Z",
     "start_time": "2025-01-21T10:54:08.830451Z"
    }
   },
   "cell_type": "code",
   "source": [
    "from torch.utils.data import DataLoader\n",
    "from sklearn.model_selection import train_test_split\n",
    "from sklearn.datasets import make_regression\n",
    "\n",
    "X, y = make_regression(n_samples=1000, n_features=8, n_informative=8, random_state=42)\n",
    "X = torch.from_numpy(X).float()\n",
    "y = torch.from_numpy(y).float()\n",
    "\n",
    "dataset = list(zip(X, y))\n",
    "train_dataset, test_dataset = train_test_split(dataset, test_size=0.2, random_state=42)\n",
    "train_loader = DataLoader(train_dataset, batch_size=32, shuffle=True)\n",
    "test_loader = DataLoader(test_dataset, batch_size=32, shuffle=False)"
   ],
   "outputs": [],
   "execution_count": 10
  },
  {
   "metadata": {
    "ExecuteTime": {
     "end_time": "2025-01-21T10:54:10.061015Z",
     "start_time": "2025-01-21T10:54:10.055880Z"
    }
   },
   "cell_type": "code",
   "source": [
    "\n",
    "from senmodel.metrics.edge_finder import *\n",
    "\n",
    "ef = EdgeFinder(metrics[1], test_loader, device=device)"
   ],
   "outputs": [],
   "execution_count": 11
  },
  {
   "metadata": {
    "ExecuteTime": {
     "end_time": "2025-01-21T10:54:10.165705Z",
     "start_time": "2025-01-21T10:54:10.096124Z"
    }
   },
   "cell_type": "code",
   "source": [
    "print(\"values:\", ef.calculate_edge_metric_for_dataloader(sparse_linear))\n",
    "chosen_edges = ef.choose_edges_top_k(sparse_linear, 4)\n",
    "print(\"choose:\", chosen_edges)\n",
    "\n",
    "chosen_edges = ef.choose_edges_threshold(sparse_linear, 0.1)\n",
    "print(\"choose:\", chosen_edges)\n",
    "\n"
   ],
   "outputs": [
    {
     "name": "stdout",
     "output_type": "stream",
     "text": [
      "values: tensor([0.3037, 0.1075, 0.1085, 0.2672, 0.1222, 0.0667, 0.0206, 0.0036])\n",
      "choose: tensor([[0, 0, 0, 0],\n",
      "        [0, 3, 4, 2]])\n",
      "choose: tensor([[0, 0, 0, 0, 0],\n",
      "        [0, 1, 2, 3, 4]])\n"
     ]
    }
   ],
   "execution_count": 12
  },
  {
   "metadata": {
    "ExecuteTime": {
     "end_time": "2025-01-21T10:54:10.250432Z",
     "start_time": "2025-01-21T10:54:10.241417Z"
    }
   },
   "cell_type": "code",
   "source": "sparse_linear.weight_indices",
   "outputs": [
    {
     "data": {
      "text/plain": [
       "tensor([[ 0,  0,  0,  0,  0,  0,  0,  0],\n",
       "        [ 0,  1,  2,  3,  4,  5, 11, 12]])"
      ]
     },
     "execution_count": 13,
     "metadata": {},
     "output_type": "execute_result"
    }
   ],
   "execution_count": 13
  },
  {
   "metadata": {
    "ExecuteTime": {
     "end_time": "2025-01-21T10:54:10.333453Z",
     "start_time": "2025-01-21T10:54:10.325599Z"
    }
   },
   "cell_type": "code",
   "source": "sparse_linear.replace_many(*chosen_edges)",
   "outputs": [],
   "execution_count": 14
  },
  {
   "metadata": {
    "ExecuteTime": {
     "end_time": "2025-01-21T10:54:10.420724Z",
     "start_time": "2025-01-21T10:54:10.413750Z"
    }
   },
   "cell_type": "code",
   "source": "sparse_linear.weight_indices",
   "outputs": [
    {
     "data": {
      "text/plain": [
       "tensor([[ 0,  0,  0,  0,  0,  0,  0,  0],\n",
       "        [ 5, 11, 12, 13, 14, 15, 16, 17]])"
      ]
     },
     "execution_count": 15,
     "metadata": {},
     "output_type": "execute_result"
    }
   ],
   "execution_count": 15
  },
  {
   "metadata": {
    "ExecuteTime": {
     "end_time": "2025-01-21T10:54:10.582134Z",
     "start_time": "2025-01-21T10:54:10.520234Z"
    }
   },
   "cell_type": "code",
   "source": [
    "print(\"values:\", ef.calculate_edge_metric_for_dataloader(sparse_linear))\n",
    "chosen_edges = ef.choose_edges_top_k(sparse_linear, 5)\n",
    "print(\"choose:\", chosen_edges)"
   ],
   "outputs": [
    {
     "name": "stdout",
     "output_type": "stream",
     "text": [
      "values: tensor([0.4015, 0.1033, 0.0232, 0.0103, 0.0699, 0.0757, 0.2365, 0.0796])\n",
      "choose: tensor([[ 0,  0,  0,  0,  0],\n",
      "        [ 5, 16, 11, 17, 15]])\n"
     ]
    }
   ],
   "execution_count": 16
  },
  {
   "metadata": {
    "ExecuteTime": {
     "end_time": "2025-01-21T10:54:10.682560Z",
     "start_time": "2025-01-21T10:54:10.675856Z"
    }
   },
   "cell_type": "code",
   "source": "sparse_linear.replace_many(*chosen_edges)",
   "outputs": [],
   "execution_count": 17
  },
  {
   "metadata": {
    "ExecuteTime": {
     "end_time": "2025-01-21T10:54:10.782497Z",
     "start_time": "2025-01-21T10:54:10.775333Z"
    }
   },
   "cell_type": "code",
   "source": "sparse_linear.weight_indices",
   "outputs": [
    {
     "data": {
      "text/plain": [
       "tensor([[ 0,  0,  0,  0,  0,  0,  0,  0],\n",
       "        [12, 13, 14, 18, 19, 20, 21, 22]])"
      ]
     },
     "execution_count": 18,
     "metadata": {},
     "output_type": "execute_result"
    }
   ],
   "execution_count": 18
  },
  {
   "metadata": {
    "ExecuteTime": {
     "end_time": "2025-01-21T10:54:10.945241Z",
     "start_time": "2025-01-21T10:54:10.870255Z"
    }
   },
   "cell_type": "code",
   "source": [
    "print(\"values:\", ef.calculate_edge_metric_for_dataloader(sparse_linear))\n",
    "chosen_edges = ef.choose_edges_top_k(sparse_linear, 4)\n",
    "print(\"choose:\", chosen_edges)"
   ],
   "outputs": [
    {
     "name": "stdout",
     "output_type": "stream",
     "text": [
      "values: tensor([0.0315, 0.0160, 0.1090, 0.2639, 0.3212, 0.1500, 0.0057, 0.1027])\n",
      "choose: tensor([[ 0,  0,  0,  0],\n",
      "        [19, 18, 20, 14]])\n"
     ]
    }
   ],
   "execution_count": 19
  },
  {
   "metadata": {
    "ExecuteTime": {
     "end_time": "2025-01-21T10:54:11.017346Z",
     "start_time": "2025-01-21T10:54:11.015092Z"
    }
   },
   "cell_type": "code",
   "source": "",
   "outputs": [],
   "execution_count": null
  }
 ],
 "metadata": {
  "colab": {
   "provenance": []
  },
  "kernelspec": {
   "display_name": "self-expanding-nets",
   "language": "python",
   "name": "python3"
  },
  "language_info": {
   "codemirror_mode": {
    "name": "ipython",
    "version": 3
   },
   "file_extension": ".py",
   "mimetype": "text/x-python",
   "name": "python",
   "nbconvert_exporter": "python",
   "pygments_lexer": "ipython3",
   "version": "3.12.7"
  }
 },
 "nbformat": 4,
 "nbformat_minor": 0
}
