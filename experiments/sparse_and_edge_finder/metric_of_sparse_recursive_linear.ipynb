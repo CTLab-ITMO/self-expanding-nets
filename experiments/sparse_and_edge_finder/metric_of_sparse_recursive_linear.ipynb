{
 "cells": [
  {
   "metadata": {
    "ExecuteTime": {
     "end_time": "2024-12-09T12:18:41.817589Z",
     "start_time": "2024-12-09T12:18:41.812876Z"
    }
   },
   "cell_type": "code",
   "source": [
    "from copy import deepcopy\n",
    "\n",
    "import torch\n",
    "from torch import nn"
   ],
   "outputs": [],
   "execution_count": 178
  },
  {
   "metadata": {
    "ExecuteTime": {
     "end_time": "2024-12-09T12:18:41.862686Z",
     "start_time": "2024-12-09T12:18:41.857025Z"
    }
   },
   "cell_type": "code",
   "source": "torch.manual_seed(0);",
   "outputs": [],
   "execution_count": 179
  },
  {
   "metadata": {
    "ExecuteTime": {
     "end_time": "2024-12-09T12:18:41.869274Z",
     "start_time": "2024-12-09T12:18:41.866206Z"
    }
   },
   "cell_type": "code",
   "source": "device = torch.device(\"cuda:0\" if torch.cuda.is_available() else \"cpu\")",
   "outputs": [],
   "execution_count": 180
  },
  {
   "metadata": {
    "ExecuteTime": {
     "end_time": "2024-12-09T12:18:41.903220Z",
     "start_time": "2024-12-09T12:18:41.900115Z"
    }
   },
   "cell_type": "code",
   "source": "from senmodel.model.utils import *",
   "outputs": [],
   "execution_count": 181
  },
  {
   "metadata": {
    "ExecuteTime": {
     "end_time": "2024-12-09T12:18:41.938331Z",
     "start_time": "2024-12-09T12:18:41.931965Z"
    }
   },
   "cell_type": "code",
   "source": [
    "class SimpleFCN(nn.Module):\n",
    "    def __init__(self, input_size=8):\n",
    "        super(SimpleFCN, self).__init__()\n",
    "        self.fc1 = nn.Linear(input_size, 4)\n",
    "        self.fc2 = nn.Linear(4, 4)\n",
    "        self.fc3 = nn.Linear(2, 1)\n",
    "        self.relu = nn.ReLU()\n",
    "\n",
    "    def forward(self, x):\n",
    "        x = self.relu(self.fc1(x))\n",
    "        x = self.relu(self.fc2(x))\n",
    "        x = self.fc3(x)\n",
    "        return x\n",
    "\n",
    "\n",
    "model = SimpleFCN()"
   ],
   "outputs": [],
   "execution_count": 182
  },
  {
   "metadata": {
    "ExecuteTime": {
     "end_time": "2024-12-09T12:18:42.001929Z",
     "start_time": "2024-12-09T12:18:41.996721Z"
    }
   },
   "cell_type": "code",
   "source": "sparse_model = convert_dense_to_sparse_network(model)",
   "outputs": [],
   "execution_count": 183
  },
  {
   "metadata": {
    "ExecuteTime": {
     "end_time": "2024-12-09T12:18:42.021538Z",
     "start_time": "2024-12-09T12:18:42.007937Z"
    }
   },
   "cell_type": "code",
   "source": [
    "linear = nn.Linear(8, 1)\n",
    "\n",
    "sparse_weight = dense_to_sparse(linear.weight.data)\n",
    "sparse_bias = dense_to_sparse(linear.bias.data)\n",
    "just_sparse_linear = ExpandingLinear(sparse_weight, sparse_bias)\n",
    "\n",
    "sparse_linear = deepcopy(just_sparse_linear)\n",
    "\n",
    "print(sparse_linear.weight_indices, \"\\n\")\n",
    "sparse_linear.replace(0, 6, 0)\n",
    "sparse_linear.replace(0, 7, 0)\n",
    "print(sparse_linear.weight_indices)\n",
    "print(sparse_linear.embed_linears[0].weight_indices, \"\\n\")\n",
    "\n",
    "sparse_linear.replace(0, 8, 1)\n",
    "sparse_linear.replace(0, 9, 1)\n",
    "print(sparse_linear.weight_indices)\n",
    "print(sparse_linear.embed_linears[1].weight_indices, \"\\n\")\n",
    "\n",
    "sparse_linear.replace(0, 11, 2)\n",
    "print(sparse_linear.weight_indices)\n",
    "print(sparse_linear.embed_linears[2].weight_indices, \"\\n\")\n",
    "\n"
   ],
   "outputs": [
    {
     "name": "stdout",
     "output_type": "stream",
     "text": [
      "tensor([[0, 0, 0, 0, 0, 0, 0, 0],\n",
      "        [0, 1, 2, 3, 4, 5, 6, 7]]) \n",
      "\n",
      "tensor([[0, 0, 0, 0, 0, 0, 0, 0],\n",
      "        [0, 1, 2, 3, 4, 5, 8, 9]])\n",
      "tensor([[0, 1],\n",
      "        [6, 7]]) \n",
      "\n",
      "tensor([[ 0,  0,  0,  0,  0,  0,  0,  0],\n",
      "        [ 0,  1,  2,  3,  4,  5, 10, 11]])\n",
      "tensor([[0, 1],\n",
      "        [8, 9]]) \n",
      "\n",
      "tensor([[ 0,  0,  0,  0,  0,  0,  0,  0],\n",
      "        [ 0,  1,  2,  3,  4,  5, 10, 11]])\n",
      "tensor([[ 0],\n",
      "        [11]]) \n",
      "\n"
     ]
    }
   ],
   "execution_count": 184
  },
  {
   "metadata": {
    "ExecuteTime": {
     "end_time": "2024-12-09T12:18:42.056274Z",
     "start_time": "2024-12-09T12:18:42.052925Z"
    }
   },
   "cell_type": "code",
   "source": "from senmodel.metrics.nonlinearity_metrics import *\n",
   "outputs": [],
   "execution_count": 185
  },
  {
   "metadata": {
    "ExecuteTime": {
     "end_time": "2024-12-09T12:18:42.090069Z",
     "start_time": "2024-12-09T12:18:42.086138Z"
    }
   },
   "cell_type": "code",
   "source": [
    "criterion = nn.MSELoss()\n",
    "\n",
    "metrics = [\n",
    "    GradientMeanEdgeMetric(criterion),\n",
    "    PerturbationSensitivityEdgeMetric(criterion),\n",
    "]"
   ],
   "outputs": [],
   "execution_count": 186
  },
  {
   "metadata": {
    "ExecuteTime": {
     "end_time": "2024-12-09T12:18:42.169209Z",
     "start_time": "2024-12-09T12:18:42.155685Z"
    }
   },
   "cell_type": "code",
   "source": [
    "from torch.utils.data import DataLoader\n",
    "from sklearn.model_selection import train_test_split\n",
    "from sklearn.datasets import make_regression\n",
    "\n",
    "X, y = make_regression(n_samples=1000, n_features=8, n_informative=8, random_state=42)\n",
    "X = torch.from_numpy(X).float()\n",
    "y = torch.from_numpy(y).float()\n",
    "\n",
    "dataset = list(zip(X, y))\n",
    "train_dataset, test_dataset = train_test_split(dataset, test_size=0.2, random_state=42)\n",
    "train_loader = DataLoader(train_dataset, batch_size=32, shuffle=True)\n",
    "test_loader = DataLoader(test_dataset, batch_size=32, shuffle=False)"
   ],
   "outputs": [],
   "execution_count": 187
  },
  {
   "metadata": {
    "ExecuteTime": {
     "end_time": "2024-12-09T12:18:42.178677Z",
     "start_time": "2024-12-09T12:18:42.174218Z"
    }
   },
   "cell_type": "code",
   "source": [
    "\n",
    "from senmodel.metrics.edge_finder import *\n",
    "ef = EdgeFinder(metrics[1], test_loader, device=device)"
   ],
   "outputs": [],
   "execution_count": 188
  },
  {
   "metadata": {
    "ExecuteTime": {
     "end_time": "2024-12-09T12:18:42.351193Z",
     "start_time": "2024-12-09T12:18:42.221453Z"
    }
   },
   "cell_type": "code",
   "source": [
    "\n",
    "\n",
    "print(\"values:\", ef.calculate_edge_metric_for_dataloader(sparse_linear))\n",
    "chosen_edges = ef.choose_edges_top_k(sparse_linear, 4)\n",
    "print(\"choose:\", chosen_edges)\n",
    "\n",
    "chosen_edges = ef.choose_edges_top_percent(sparse_linear, 0.5)\n",
    "print(\"choose:\", chosen_edges)\n",
    "\n",
    "chosen_edges = ef.choose_edges_threshold(sparse_linear, 30)\n",
    "print(\"choose:\", chosen_edges)"
   ],
   "outputs": [
    {
     "name": "stdout",
     "output_type": "stream",
     "text": [
      "values: tensor([0.0013, 0.0013, 0.0016, 0.0022, 0.0020, 0.0016, 0.0094, 0.0086])\n",
      "choose: tensor([[ 0,  0,  0,  0],\n",
      "        [10, 11,  3,  4]])\n",
      "choose: tensor([[ 0,  0,  0,  0],\n",
      "        [10, 11,  3,  4]])\n",
      "choose: tensor([], size=(2, 0), dtype=torch.int64)\n"
     ]
    }
   ],
   "execution_count": 189
  },
  {
   "metadata": {
    "ExecuteTime": {
     "end_time": "2024-12-09T12:18:42.392229Z",
     "start_time": "2024-12-09T12:18:42.385858Z"
    }
   },
   "cell_type": "code",
   "source": "sparse_linear.weight_indices",
   "outputs": [
    {
     "data": {
      "text/plain": [
       "tensor([[ 0,  0,  0,  0,  0,  0,  0,  0],\n",
       "        [ 0,  1,  2,  3,  4,  5, 10, 11]])"
      ]
     },
     "execution_count": 190,
     "metadata": {},
     "output_type": "execute_result"
    }
   ],
   "execution_count": 190
  },
  {
   "metadata": {
    "ExecuteTime": {
     "end_time": "2024-12-09T12:18:42.537717Z",
     "start_time": "2024-12-09T12:18:42.534473Z"
    }
   },
   "cell_type": "code",
   "source": "sparse_linear.replace_many(*chosen_edges, 3)",
   "outputs": [],
   "execution_count": 191
  },
  {
   "metadata": {
    "ExecuteTime": {
     "end_time": "2024-12-09T12:18:42.607062Z",
     "start_time": "2024-12-09T12:18:42.600693Z"
    }
   },
   "cell_type": "code",
   "source": "sparse_linear.weight_indices",
   "outputs": [
    {
     "data": {
      "text/plain": [
       "tensor([[ 0,  0,  0,  0,  0,  0,  0,  0],\n",
       "        [ 0,  1,  2,  3,  4,  5, 10, 11]])"
      ]
     },
     "execution_count": 192,
     "metadata": {},
     "output_type": "execute_result"
    }
   ],
   "execution_count": 192
  },
  {
   "metadata": {
    "ExecuteTime": {
     "end_time": "2024-12-09T12:18:42.758923Z",
     "start_time": "2024-12-09T12:18:42.700860Z"
    }
   },
   "cell_type": "code",
   "source": [
    "print(\"values:\", ef.calculate_edge_metric_for_dataloader(sparse_linear))\n",
    "chosen_edges = ef.choose_edges_top_k(sparse_linear, 5)\n",
    "print(\"choose:\", chosen_edges)"
   ],
   "outputs": [
    {
     "name": "stdout",
     "output_type": "stream",
     "text": [
      "values: tensor([0.0013, 0.0013, 0.0016, 0.0022, 0.0020, 0.0016, 0.0094, 0.0086])\n",
      "choose: tensor([[ 0,  0,  0,  0,  0],\n",
      "        [10, 11,  3,  4,  2]])\n"
     ]
    }
   ],
   "execution_count": 193
  },
  {
   "metadata": {
    "ExecuteTime": {
     "end_time": "2024-12-09T12:18:42.822570Z",
     "start_time": "2024-12-09T12:18:42.795323Z"
    }
   },
   "cell_type": "code",
   "source": "sparse_linear.replace_many(*chosen_edges, 4)",
   "outputs": [
    {
     "ename": "IndexError",
     "evalue": "list index out of range",
     "output_type": "error",
     "traceback": [
      "\u001B[1;31m---------------------------------------------------------------------------\u001B[0m",
      "\u001B[1;31mIndexError\u001B[0m                                Traceback (most recent call last)",
      "Cell \u001B[1;32mIn[194], line 1\u001B[0m\n\u001B[1;32m----> 1\u001B[0m \u001B[43msparse_linear\u001B[49m\u001B[38;5;241;43m.\u001B[39;49m\u001B[43mreplace_many\u001B[49m\u001B[43m(\u001B[49m\u001B[38;5;241;43m*\u001B[39;49m\u001B[43mchosen_edges\u001B[49m\u001B[43m,\u001B[49m\u001B[43m \u001B[49m\u001B[38;5;241;43m4\u001B[39;49m\u001B[43m)\u001B[49m\n",
      "File \u001B[1;32mD:\\Coding\\PY\\self-expanding-nets\\senmodel\\model\\model.py:31\u001B[0m, in \u001B[0;36mSparseModule.replace_many\u001B[1;34m(self, children, parents, iteration)\u001B[0m\n\u001B[0;32m     29\u001B[0m \u001B[38;5;28;01mdef\u001B[39;00m \u001B[38;5;21mreplace_many\u001B[39m(\u001B[38;5;28mself\u001B[39m, children, parents, iteration\u001B[38;5;241m=\u001B[39m\u001B[38;5;28;01mNone\u001B[39;00m):\n\u001B[0;32m     30\u001B[0m     \u001B[38;5;28;01mfor\u001B[39;00m c, p \u001B[38;5;129;01min\u001B[39;00m \u001B[38;5;28mzip\u001B[39m(children, parents):\n\u001B[1;32m---> 31\u001B[0m         \u001B[38;5;28;43mself\u001B[39;49m\u001B[38;5;241;43m.\u001B[39;49m\u001B[43mreplace\u001B[49m\u001B[43m(\u001B[49m\u001B[43mc\u001B[49m\u001B[43m,\u001B[49m\u001B[43m \u001B[49m\u001B[43mp\u001B[49m\u001B[43m,\u001B[49m\u001B[43m \u001B[49m\u001B[43miteration\u001B[49m\u001B[43m)\u001B[49m\n",
      "File \u001B[1;32mD:\\Coding\\PY\\self-expanding-nets\\senmodel\\model\\model.py:84\u001B[0m, in \u001B[0;36mExpandingLinear.replace\u001B[1;34m(self, child, parent, iteration)\u001B[0m\n\u001B[0;32m     81\u001B[0m \u001B[38;5;28mself\u001B[39m\u001B[38;5;241m.\u001B[39madd_edge(child, max_parent)\n\u001B[0;32m     83\u001B[0m \u001B[38;5;28mself\u001B[39m\u001B[38;5;241m.\u001B[39mweight_size[\u001B[38;5;241m1\u001B[39m] \u001B[38;5;241m+\u001B[39m\u001B[38;5;241m=\u001B[39m \u001B[38;5;241m1\u001B[39m\n\u001B[1;32m---> 84\u001B[0m \u001B[38;5;28;43mself\u001B[39;49m\u001B[38;5;241;43m.\u001B[39;49m\u001B[43membed_linears\u001B[49m\u001B[43m[\u001B[49m\u001B[43miteration\u001B[49m\u001B[43m]\u001B[49m\u001B[38;5;241m.\u001B[39mreplace(child, parent)\n",
      "\u001B[1;31mIndexError\u001B[0m: list index out of range"
     ]
    }
   ],
   "execution_count": 194
  },
  {
   "metadata": {
    "ExecuteTime": {
     "end_time": "2024-12-09T12:18:42.842104400Z",
     "start_time": "2024-12-09T12:15:20.782022Z"
    }
   },
   "cell_type": "code",
   "source": "sparse_linear.weight_indices",
   "outputs": [
    {
     "data": {
      "text/plain": [
       "tensor([[ 0,  0,  0,  0,  0,  0,  0,  0],\n",
       "        [10, 14, 15, 18, 19, 20, 21, 22]])"
      ]
     },
     "execution_count": 175,
     "metadata": {},
     "output_type": "execute_result"
    }
   ],
   "execution_count": 175
  },
  {
   "metadata": {
    "ExecuteTime": {
     "end_time": "2024-12-09T12:18:42.843104200Z",
     "start_time": "2024-12-09T12:15:20.886190Z"
    }
   },
   "cell_type": "code",
   "source": [
    "# print(\"values:\", ef.calculate_edge_metric_for_dataloader(sparse_linear))\n",
    "# chosen_edges = ef.choose_edges_top_k(sparse_linear, 3)\n",
    "# print(\"choose:\", chosen_edges)"
   ],
   "outputs": [],
   "execution_count": 176
  },
  {
   "metadata": {
    "ExecuteTime": {
     "end_time": "2024-12-09T12:18:42.843104200Z",
     "start_time": "2024-12-09T12:15:21.025713Z"
    }
   },
   "cell_type": "code",
   "source": "sparse_linear.replace_many(*chosen_edges, 2)",
   "outputs": [],
   "execution_count": 177
  },
  {
   "metadata": {
    "ExecuteTime": {
     "end_time": "2024-12-09T12:18:42.844104600Z",
     "start_time": "2024-12-09T12:15:21.140366Z"
    }
   },
   "cell_type": "code",
   "source": "",
   "outputs": [],
   "execution_count": null
  }
 ],
 "metadata": {
  "colab": {
   "provenance": []
  },
  "kernelspec": {
   "display_name": "self-expanding-nets",
   "language": "python",
   "name": "python3"
  },
  "language_info": {
   "codemirror_mode": {
    "name": "ipython",
    "version": 3
   },
   "file_extension": ".py",
   "mimetype": "text/x-python",
   "name": "python",
   "nbconvert_exporter": "python",
   "pygments_lexer": "ipython3",
   "version": "3.12.7"
  }
 },
 "nbformat": 4,
 "nbformat_minor": 0
}
