{
 "cells": [
  {
   "cell_type": "code",
   "metadata": {
    "id": "Mzjlc4iqr3Zd",
    "ExecuteTime": {
     "end_time": "2024-11-29T13:53:17.958538Z",
     "start_time": "2024-11-29T13:53:17.948905Z"
    }
   },
   "source": [
    "from copy import deepcopy\n",
    "\n",
    "import torch\n",
    "from torch import nn"
   ],
   "outputs": [],
   "execution_count": 20
  },
  {
   "cell_type": "code",
   "metadata": {
    "id": "uDDsX_N_sCDJ",
    "ExecuteTime": {
     "end_time": "2024-11-29T13:53:18.039225Z",
     "start_time": "2024-11-29T13:53:18.031735Z"
    }
   },
   "source": [
    "torch.manual_seed(0);"
   ],
   "outputs": [],
   "execution_count": 21
  },
  {
   "cell_type": "code",
   "metadata": {
    "id": "Epu4YDgwsD7B",
    "ExecuteTime": {
     "end_time": "2024-11-29T13:53:18.049272Z",
     "start_time": "2024-11-29T13:53:18.039225Z"
    }
   },
   "source": "from senmodel.model.model import *",
   "outputs": [],
   "execution_count": 22
  },
  {
   "cell_type": "code",
   "metadata": {
    "ExecuteTime": {
     "end_time": "2024-11-29T13:53:18.092299Z",
     "start_time": "2024-11-29T13:53:18.085309Z"
    }
   },
   "source": [
    "def dense_to_sparse(dense_tensor: torch.Tensor) -> torch.Tensor:\n",
    "    indices = dense_tensor.nonzero(as_tuple=True)\n",
    "    values = dense_tensor[indices]\n",
    "    indices = torch.stack(indices)\n",
    "\n",
    "    sparse_tensor = torch.sparse_coo_tensor(indices, values, dense_tensor.size())\n",
    "    return sparse_tensor"
   ],
   "outputs": [],
   "execution_count": 23
  },
  {
   "cell_type": "code",
   "metadata": {
    "ExecuteTime": {
     "end_time": "2024-11-29T13:53:18.137135Z",
     "start_time": "2024-11-29T13:53:18.129139Z"
    }
   },
   "source": [
    "def convert_dense_to_sparse_network(model: nn.Module) -> nn.Module:\n",
    "    \"\"\"\n",
    "    Converts a given dense neural network model to a sparse neural network model.\n",
    "\n",
    "    This function recursively iterate through the given model and replaces all instances of \n",
    "    `nn.Linear` layers with `SparseLinear` layers\n",
    "\n",
    "    Args:\n",
    "        model (nn.Module): The dense neural network model to be converted.\n",
    "\n",
    "    Returns:\n",
    "        nn.Module: A new neural network model with sparse layers.\n",
    "    \"\"\"\n",
    "    new_model = model.__class__()\n",
    "\n",
    "    for name, module in model.named_children():\n",
    "        if isinstance(module, nn.Linear):\n",
    "            sparse_weight = dense_to_sparse(module.weight.data)\n",
    "            sparse_bias = dense_to_sparse(module.bias.data)\n",
    "\n",
    "            setattr(new_model, name, ExpandingLinear(sparse_weight, sparse_bias))\n",
    "        else:\n",
    "            setattr(new_model, name, convert_dense_to_sparse_network(module))\n",
    "    return new_model"
   ],
   "outputs": [],
   "execution_count": 24
  },
  {
   "cell_type": "code",
   "metadata": {
    "id": "GDTwjoofyEff",
    "ExecuteTime": {
     "end_time": "2024-11-29T13:53:18.181857Z",
     "start_time": "2024-11-29T13:53:18.171877Z"
    }
   },
   "source": [
    "class SimpleFCN(nn.Module):\n",
    "    def __init__(self, input_size=8):\n",
    "        super(SimpleFCN, self).__init__()\n",
    "        self.fc1 = nn.Linear(input_size, 4)\n",
    "        self.fc2 = nn.Linear(4, 4)\n",
    "        self.fc3 = nn.Linear(2, 1)\n",
    "        self.relu = nn.ReLU()\n",
    "\n",
    "    def forward(self, x):\n",
    "        x = self.relu(self.fc1(x))\n",
    "        x = self.relu(self.fc2(x))\n",
    "        x = self.fc3(x)\n",
    "        return x\n",
    "\n",
    "\n",
    "model = SimpleFCN()"
   ],
   "outputs": [],
   "execution_count": 25
  },
  {
   "cell_type": "code",
   "metadata": {
    "id": "ezwIVpFqyJcZ",
    "ExecuteTime": {
     "end_time": "2024-11-29T13:53:18.229756Z",
     "start_time": "2024-11-29T13:53:18.222022Z"
    }
   },
   "source": [
    "sparse_model = convert_dense_to_sparse_network(model)"
   ],
   "outputs": [],
   "execution_count": 26
  },
  {
   "cell_type": "code",
   "metadata": {
    "colab": {
     "base_uri": "https://localhost:8080/"
    },
    "id": "pf_MeJiX66SY",
    "outputId": "1262dce2-595f-4244-90ff-6e9725aa498c",
    "ExecuteTime": {
     "end_time": "2024-11-29T13:53:18.298534Z",
     "start_time": "2024-11-29T13:53:18.282108Z"
    }
   },
   "source": [
    "linear = nn.Linear(8, 1)\n",
    "\n",
    "sparse_weight = dense_to_sparse(linear.weight.data)\n",
    "sparse_bias = dense_to_sparse(linear.bias.data)\n",
    "just_sparse_linear = ExpandingLinear(sparse_weight, sparse_bias)\n",
    "\n",
    "sparse_linear = deepcopy(just_sparse_linear)\n",
    "\n",
    "print(sparse_linear.weight_indices, \"\\n\")\n",
    "sparse_linear.replace(0, 6, 0)\n",
    "sparse_linear.replace(0, 7, 0)\n",
    "print(sparse_linear.weight_indices)\n",
    "print(sparse_linear.embed_linears[0].weight_indices, \"\\n\")\n",
    "\n",
    "sparse_linear.replace(0, 8, 1)\n",
    "sparse_linear.replace(0, 9, 1)\n",
    "print(sparse_linear.weight_indices)\n",
    "print(sparse_linear.embed_linears[1].weight_indices, \"\\n\")\n",
    "\n",
    "sparse_linear.replace(0, 11, 2)\n",
    "print(sparse_linear.weight_indices)\n",
    "print(sparse_linear.embed_linears[2].weight_indices, \"\\n\")\n",
    "\n"
   ],
   "outputs": [
    {
     "name": "stdout",
     "output_type": "stream",
     "text": [
      "tensor([[0, 0, 0, 0, 0, 0, 0, 0],\n",
      "        [0, 1, 2, 3, 4, 5, 6, 7]]) \n",
      "\n",
      "tensor([[0, 0, 0, 0, 0, 0, 0, 0],\n",
      "        [0, 1, 2, 3, 4, 5, 8, 9]])\n",
      "tensor([[0, 1],\n",
      "        [6, 7]]) \n",
      "\n",
      "tensor([[ 0,  0,  0,  0,  0,  0,  0,  0],\n",
      "        [ 0,  1,  2,  3,  4,  5, 10, 11]])\n",
      "tensor([[0, 1],\n",
      "        [8, 9]]) \n",
      "\n",
      "tensor([[ 0,  0,  0,  0,  0,  0,  0,  0],\n",
      "        [ 0,  1,  2,  3,  4,  5, 10, 11]])\n",
      "tensor([[ 0],\n",
      "        [11]]) \n",
      "\n"
     ]
    }
   ],
   "execution_count": 27
  },
  {
   "cell_type": "code",
   "metadata": {
    "ExecuteTime": {
     "end_time": "2024-11-29T13:53:18.364626Z",
     "start_time": "2024-11-29T13:53:18.359833Z"
    }
   },
   "source": "from senmodel.metrics.nonlinearity_metrics import *\n",
   "outputs": [],
   "execution_count": 28
  },
  {
   "cell_type": "code",
   "metadata": {
    "ExecuteTime": {
     "end_time": "2024-11-29T13:53:18.422442Z",
     "start_time": "2024-11-29T13:53:18.416668Z"
    }
   },
   "source": [
    "criterion = nn.MSELoss()\n",
    "\n",
    "metrics = [\n",
    "    GradientMeanEdgeMetric(criterion),\n",
    "    PerturbationSensitivityEdgeMetric(criterion),\n",
    "]"
   ],
   "outputs": [],
   "execution_count": 29
  },
  {
   "cell_type": "code",
   "metadata": {
    "ExecuteTime": {
     "end_time": "2024-11-29T13:53:18.500266Z",
     "start_time": "2024-11-29T13:53:18.479043Z"
    }
   },
   "source": [
    "from torch.utils.data import DataLoader\n",
    "from sklearn.model_selection import train_test_split\n",
    "from sklearn.datasets import make_regression\n",
    "\n",
    "X, y = make_regression(n_samples=1000, n_features=8, n_informative=8, random_state=42)\n",
    "X = torch.from_numpy(X).float()\n",
    "y = torch.from_numpy(y).float()\n",
    "\n",
    "dataset = list(zip(X, y))\n",
    "train_dataset, test_dataset = train_test_split(dataset, test_size=0.2, random_state=42)\n",
    "train_loader = DataLoader(train_dataset, batch_size=32, shuffle=True)\n",
    "test_loader = DataLoader(test_dataset, batch_size=32, shuffle=False)"
   ],
   "outputs": [],
   "execution_count": 30
  },
  {
   "cell_type": "code",
   "metadata": {
    "ExecuteTime": {
     "end_time": "2024-11-29T13:53:18.554955Z",
     "start_time": "2024-11-29T13:53:18.549728Z"
    }
   },
   "source": "from senmodel.metrics.edge_finder import *",
   "outputs": [],
   "execution_count": 31
  },
  {
   "cell_type": "code",
   "metadata": {
    "ExecuteTime": {
     "end_time": "2024-11-29T13:53:18.643181Z",
     "start_time": "2024-11-29T13:53:18.599501Z"
    }
   },
   "source": [
    "\n",
    "ef = EdgeFinder(metrics[0], test_loader)\n",
    "print(\"values:\", ef.calculate_edge_metric_for_dataloader(sparse_linear))\n",
    "chosen_edges = ef.choose_edges(sparse_linear, 4)\n",
    "print(\"choose:\", chosen_edges)"
   ],
   "outputs": [
    {
     "name": "stdout",
     "output_type": "stream",
     "text": [
      "values: tensor([212.1682,  97.8398,  80.0677, 174.4513,  73.9911,  52.0962,   9.3713,\n",
      "         61.2502])\n",
      "choose: tensor([[0, 0, 0, 0],\n",
      "        [0, 3, 1, 2]])\n"
     ]
    }
   ],
   "execution_count": 32
  },
  {
   "metadata": {
    "ExecuteTime": {
     "end_time": "2024-11-29T13:53:18.796738Z",
     "start_time": "2024-11-29T13:53:18.774909Z"
    }
   },
   "cell_type": "code",
   "source": "sparse_linear.weight_indices",
   "outputs": [
    {
     "data": {
      "text/plain": [
       "tensor([[ 0,  0,  0,  0,  0,  0,  0,  0],\n",
       "        [ 0,  1,  2,  3,  4,  5, 10, 11]])"
      ]
     },
     "execution_count": 33,
     "metadata": {},
     "output_type": "execute_result"
    }
   ],
   "execution_count": 33
  },
  {
   "cell_type": "code",
   "metadata": {
    "ExecuteTime": {
     "end_time": "2024-11-29T13:53:19.081882Z",
     "start_time": "2024-11-29T13:53:19.063898Z"
    }
   },
   "source": [
    "# child, parents = chosen_edges\n",
    "# for c, p in zip(child, parents):\n",
    "#     sparse_linear.replace(c, p, 3)\n",
    "sparse_linear.replace_many(*chosen_edges, 3)"
   ],
   "outputs": [],
   "execution_count": 34
  },
  {
   "cell_type": "code",
   "metadata": {
    "ExecuteTime": {
     "end_time": "2024-11-29T13:53:19.268743Z",
     "start_time": "2024-11-29T13:53:19.249384Z"
    }
   },
   "source": "sparse_linear.weight_indices",
   "outputs": [
    {
     "data": {
      "text/plain": [
       "tensor([[ 0,  0,  0,  0,  0,  0,  0,  0],\n",
       "        [ 4,  5, 10, 11, 12, 13, 14, 15]])"
      ]
     },
     "execution_count": 35,
     "metadata": {},
     "output_type": "execute_result"
    }
   ],
   "execution_count": 35
  },
  {
   "cell_type": "code",
   "metadata": {
    "ExecuteTime": {
     "end_time": "2024-11-29T13:53:19.529801Z",
     "start_time": "2024-11-29T13:53:19.471973Z"
    }
   },
   "source": [
    "ef = EdgeFinder(metrics[0], test_loader)\n",
    "print(\"values:\", ef.calculate_edge_metric_for_dataloader(sparse_linear))\n",
    "chosen_edges = ef.choose_edges(sparse_linear, 4)\n",
    "print(\"choose:\", chosen_edges)"
   ],
   "outputs": [
    {
     "name": "stdout",
     "output_type": "stream",
     "text": [
      "values: tensor([ 74.0784,  51.9913,   9.3669,  61.0955,  31.3967, 205.9130,   8.8649,\n",
      "         81.7019])\n",
      "choose: tensor([[ 0,  0,  0,  0],\n",
      "        [13, 15,  4, 11]])\n"
     ]
    }
   ],
   "execution_count": 36
  },
  {
   "cell_type": "code",
   "metadata": {
    "ExecuteTime": {
     "end_time": "2024-11-29T13:53:19.720406Z",
     "start_time": "2024-11-29T13:53:19.653472Z"
    }
   },
   "source": [
    "ef = EdgeFinder(metrics[0], test_loader)\n",
    "print(\"values:\", ef.calculate_edge_metric_for_dataloader(sparse_linear))\n",
    "chosen_edges = ef.choose_edges(sparse_linear, 4)\n",
    "print(\"choose:\", chosen_edges)"
   ],
   "outputs": [
    {
     "name": "stdout",
     "output_type": "stream",
     "text": [
      "values: tensor([ 74.0784,  51.9913,   9.3669,  61.0955,  31.3967, 205.9130,   8.8649,\n",
      "         81.7019])\n",
      "choose: tensor([[ 0,  0,  0,  0],\n",
      "        [13, 15,  4, 11]])\n"
     ]
    }
   ],
   "execution_count": 37
  },
  {
   "metadata": {
    "ExecuteTime": {
     "end_time": "2024-11-29T13:53:19.845325Z",
     "start_time": "2024-11-29T13:53:19.833880Z"
    }
   },
   "cell_type": "code",
   "source": [
    "# child, parents = chosen_edges\n",
    "# for c, p in zip(child, parents):\n",
    "#     sparse_linear.replace(c, p, 3)\n",
    "sparse_linear.replace_many(*chosen_edges, 3)"
   ],
   "outputs": [],
   "execution_count": 38
  },
  {
   "metadata": {
    "ExecuteTime": {
     "end_time": "2024-11-29T13:53:19.978728Z",
     "start_time": "2024-11-29T13:53:19.967543Z"
    }
   },
   "cell_type": "code",
   "source": "sparse_linear.weight_indices",
   "outputs": [
    {
     "data": {
      "text/plain": [
       "tensor([[ 0,  0,  0,  0,  0,  0,  0,  0],\n",
       "        [ 5, 10, 12, 14, 16, 17, 18, 19]])"
      ]
     },
     "execution_count": 39,
     "metadata": {},
     "output_type": "execute_result"
    }
   ],
   "execution_count": 39
  },
  {
   "metadata": {
    "ExecuteTime": {
     "end_time": "2024-11-29T13:53:20.051223Z",
     "start_time": "2024-11-29T13:53:20.046417Z"
    }
   },
   "cell_type": "code",
   "source": "",
   "outputs": [],
   "execution_count": null
  }
 ],
 "metadata": {
  "colab": {
   "provenance": []
  },
  "kernelspec": {
   "display_name": "data_science",
   "language": "python",
   "name": "python3"
  },
  "language_info": {
   "codemirror_mode": {
    "name": "ipython",
    "version": 3
   },
   "file_extension": ".py",
   "mimetype": "text/x-python",
   "name": "python",
   "nbconvert_exporter": "python",
   "pygments_lexer": "ipython3",
   "version": "3.9.18"
  }
 },
 "nbformat": 4,
 "nbformat_minor": 0
}
