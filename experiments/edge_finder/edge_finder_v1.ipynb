{
 "cells": [
  {
   "metadata": {
    "ExecuteTime": {
     "end_time": "2024-10-29T19:27:25.084198Z",
     "start_time": "2024-10-29T19:27:25.055314Z"
    }
   },
   "cell_type": "code",
   "source": [
    "from torch import nn\n",
    "import torch\n",
    "\n",
    "\n",
    "class MyModel(nn.Module):\n",
    "    def __init__(self, all_sizes, activation=nn.ReLU):\n",
    "        super(MyModel, self).__init__()\n",
    "\n",
    "        input_size, *hidden_sizes, output_size = all_sizes\n",
    "\n",
    "        layers = []\n",
    "        current_size = input_size\n",
    "\n",
    "        for hidden_size in hidden_sizes:\n",
    "            layers.append(nn.Linear(current_size, hidden_size))\n",
    "            layers.append(activation())\n",
    "            current_size = hidden_size\n",
    "\n",
    "        self.layers = nn.Sequential(*layers)\n",
    "        self.output_layer = nn.Linear(current_size, output_size)\n",
    "\n",
    "        self.frozen_edges = set()\n",
    "\n",
    "    def forward(self, x):\n",
    "        x = self.layers(x)\n",
    "        x = self.output_layer(x)\n",
    "        return x\n",
    "\n",
    "    def calculate_edge_gradients(\n",
    "            self, dataloader, loss_fn, threshold,\n",
    "            top_percent, auto_freeze=True, device='cpu'\n",
    "    ):\n",
    "        accumulated_grads = None\n",
    "        for data, target in dataloader:\n",
    "            data, target = data.to(device), target.to(device)\n",
    "\n",
    "            self.zero_grad()\n",
    "            outputs = self.forward(data)\n",
    "            loss = loss_fn(outputs, target)\n",
    "            loss.backward()\n",
    "\n",
    "            grads = self.layers[-2].weight.grad.abs()\n",
    "\n",
    "            if accumulated_grads is None:\n",
    "                accumulated_grads = torch.zeros_like(grads).to(device)\n",
    "\n",
    "            accumulated_grads += grads\n",
    "\n",
    "        avg_grads = accumulated_grads / len(dataloader)\n",
    "\n",
    "        frozen_mask = torch.zeros(avg_grads.size(), dtype=torch.bool, device=device)\n",
    "        if self.frozen_edges:\n",
    "            frozen_edges_tensor = torch.tensor(list(self.frozen_edges), device=device).T\n",
    "            frozen_mask[frozen_edges_tensor[0], frozen_edges_tensor[1]] = True\n",
    "\n",
    "        mask = (avg_grads < threshold) & ~frozen_mask\n",
    "\n",
    "        candidate_grads = avg_grads[mask]\n",
    "        candidate_indices = torch.nonzero(mask, as_tuple=False)\n",
    "\n",
    "        top_k = max(1, int(len(candidate_indices) * top_percent / 100))\n",
    "\n",
    "        selected_edges_to_ignore = []\n",
    "        if candidate_grads.numel() > 0:\n",
    "            top_weights, top_indices = torch.topk(candidate_grads, top_k, largest=False)\n",
    "            selected_edges_to_ignore = candidate_indices[top_indices].tolist()\n",
    "\n",
    "        if auto_freeze and selected_edges_to_ignore:\n",
    "            self.freeze_edges(selected_edges_to_ignore)\n",
    "\n",
    "        return selected_edges_to_ignore\n",
    "\n",
    "    def freeze_edges(self, edges):\n",
    "        self.frozen_edges.update(tuple(edge) for edge in edges)\n"
   ],
   "id": "fde38b5efc8be4ea",
   "outputs": [],
   "execution_count": 489
  },
  {
   "metadata": {
    "ExecuteTime": {
     "end_time": "2024-10-29T19:27:25.410079Z",
     "start_time": "2024-10-29T19:27:25.397867Z"
    }
   },
   "cell_type": "code",
   "source": [
    "sizes = [10, 20, 40, 20, 1]\n",
    "model = MyModel(sizes)"
   ],
   "id": "872699e7c5f71f88",
   "outputs": [],
   "execution_count": 490
  },
  {
   "metadata": {
    "ExecuteTime": {
     "end_time": "2024-10-29T19:27:25.767563Z",
     "start_time": "2024-10-29T19:27:25.744279Z"
    }
   },
   "cell_type": "code",
   "source": "model",
   "id": "316e0d096e95697f",
   "outputs": [
    {
     "data": {
      "text/plain": [
       "MyModel(\n",
       "  (layers): Sequential(\n",
       "    (0): Linear(in_features=10, out_features=20, bias=True)\n",
       "    (1): ReLU()\n",
       "    (2): Linear(in_features=20, out_features=40, bias=True)\n",
       "    (3): ReLU()\n",
       "    (4): Linear(in_features=40, out_features=20, bias=True)\n",
       "    (5): ReLU()\n",
       "  )\n",
       "  (output_layer): Linear(in_features=20, out_features=1, bias=True)\n",
       ")"
      ]
     },
     "execution_count": 491,
     "metadata": {},
     "output_type": "execute_result"
    }
   ],
   "execution_count": 491
  },
  {
   "metadata": {
    "ExecuteTime": {
     "end_time": "2024-10-29T19:27:26.300Z",
     "start_time": "2024-10-29T19:27:26.271310Z"
    }
   },
   "cell_type": "code",
   "source": [
    "from torch.utils.data import DataLoader\n",
    "from sklearn.model_selection import train_test_split\n",
    "from sklearn.datasets import make_regression\n",
    "\n",
    "X, y = make_regression(n_samples=1000, n_features=sizes[0], n_informative=sizes[0], random_state=42)\n",
    "X = torch.from_numpy(X).float()\n",
    "y = torch.from_numpy(y).float()\n",
    "\n",
    "dataset = list(zip(X, y))\n",
    "train_dataset, test_dataset = train_test_split(dataset, test_size=0.2, random_state=42)\n",
    "train_loader = DataLoader(train_dataset, batch_size=32, shuffle=True)\n",
    "test_loader = DataLoader(test_dataset, batch_size=32, shuffle=False)\n",
    "\n",
    "criterion = nn.MSELoss()\n",
    "\n",
    "device = torch.device(\"cuda\" if torch.cuda.is_available() else \"cpu\")\n",
    "model.to(device)"
   ],
   "id": "ac3d44a559eabf28",
   "outputs": [
    {
     "data": {
      "text/plain": [
       "MyModel(\n",
       "  (layers): Sequential(\n",
       "    (0): Linear(in_features=10, out_features=20, bias=True)\n",
       "    (1): ReLU()\n",
       "    (2): Linear(in_features=20, out_features=40, bias=True)\n",
       "    (3): ReLU()\n",
       "    (4): Linear(in_features=40, out_features=20, bias=True)\n",
       "    (5): ReLU()\n",
       "  )\n",
       "  (output_layer): Linear(in_features=20, out_features=1, bias=True)\n",
       ")"
      ]
     },
     "execution_count": 492,
     "metadata": {},
     "output_type": "execute_result"
    }
   ],
   "execution_count": 492
  },
  {
   "metadata": {
    "ExecuteTime": {
     "end_time": "2024-10-29T19:27:26.920420Z",
     "start_time": "2024-10-29T19:27:26.865475Z"
    }
   },
   "cell_type": "code",
   "source": [
    "from torch import nn\n",
    "\n",
    "selected_edges = model.calculate_edge_gradients(\n",
    "    train_loader, criterion,\n",
    "    threshold=0.001, top_percent=20,\n",
    "    auto_freeze=True, device=device)\n",
    "\n",
    "print(selected_edges)\n",
    "# model.freeze_edges(selected_edges)"
   ],
   "id": "1435418a00fdced9",
   "outputs": [
    {
     "name": "stdout",
     "output_type": "stream",
     "text": [
      "tensor([0., 0., 0., 0., 0., 0., 0., 0., 0., 0., 0., 0., 0., 0., 0., 0., 0., 0., 0., 0., 0., 0., 0., 0.,\n",
      "        0.])\n",
      "[[14, 4], [0, 19], [2, 4], [2, 19], [18, 23], [18, 25], [18, 26], [18, 27], [5, 35], [18, 28], [9, 4], [9, 5], [9, 19], [9, 37], [18, 29], [18, 30], [14, 36], [18, 31], [18, 32], [18, 33], [18, 34], [18, 35], [12, 19], [18, 36], [18, 37]]\n"
     ]
    }
   ],
   "execution_count": 493
  },
  {
   "metadata": {
    "ExecuteTime": {
     "end_time": "2024-10-29T19:27:29.272244Z",
     "start_time": "2024-10-29T19:27:29.246694Z"
    }
   },
   "cell_type": "code",
   "source": "model.frozen_edges",
   "id": "477aa1bf79370118",
   "outputs": [
    {
     "data": {
      "text/plain": [
       "{(0, 19),\n",
       " (2, 4),\n",
       " (2, 19),\n",
       " (5, 35),\n",
       " (9, 4),\n",
       " (9, 5),\n",
       " (9, 19),\n",
       " (9, 37),\n",
       " (12, 19),\n",
       " (14, 4),\n",
       " (14, 36),\n",
       " (18, 23),\n",
       " (18, 25),\n",
       " (18, 26),\n",
       " (18, 27),\n",
       " (18, 28),\n",
       " (18, 29),\n",
       " (18, 30),\n",
       " (18, 31),\n",
       " (18, 32),\n",
       " (18, 33),\n",
       " (18, 34),\n",
       " (18, 35),\n",
       " (18, 36),\n",
       " (18, 37)}"
      ]
     },
     "execution_count": 494,
     "metadata": {},
     "output_type": "execute_result"
    }
   ],
   "execution_count": 494
  },
  {
   "metadata": {
    "ExecuteTime": {
     "end_time": "2024-10-29T19:03:04.096037Z",
     "start_time": "2024-10-29T19:03:04.078083Z"
    }
   },
   "cell_type": "code",
   "source": "",
   "id": "d715d1bb028d7a08",
   "outputs": [],
   "execution_count": null
  },
  {
   "metadata": {},
   "cell_type": "code",
   "outputs": [],
   "execution_count": null,
   "source": "",
   "id": "12c6fdb7a173b8dc"
  }
 ],
 "metadata": {
  "kernelspec": {
   "display_name": "Python 3",
   "language": "python",
   "name": "python3"
  },
  "language_info": {
   "codemirror_mode": {
    "name": "ipython",
    "version": 2
   },
   "file_extension": ".py",
   "mimetype": "text/x-python",
   "name": "python",
   "nbconvert_exporter": "python",
   "pygments_lexer": "ipython2",
   "version": "2.7.6"
  }
 },
 "nbformat": 4,
 "nbformat_minor": 5
}
